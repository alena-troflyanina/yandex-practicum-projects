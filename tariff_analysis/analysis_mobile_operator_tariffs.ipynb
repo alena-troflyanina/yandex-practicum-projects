{
 "cells": [
  {
   "cell_type": "markdown",
   "metadata": {},
   "source": [
    "# Анализ тарифов оператора сотовой связи"
   ]
  },
  {
   "cell_type": "markdown",
   "metadata": {},
   "source": [
    "## Получение общей информации"
   ]
  },
  {
   "cell_type": "markdown",
   "metadata": {},
   "source": [
    "Открою каждый датафрейм по отдельности и выведу общую информацию о них."
   ]
  },
  {
   "cell_type": "code",
   "execution_count": 1,
   "metadata": {},
   "outputs": [],
   "source": [
    "import pandas as pd\n",
    "import numpy as np\n",
    "import matplotlib.pyplot as plt\n",
    "from scipy import stats as st"
   ]
  },
  {
   "cell_type": "code",
   "execution_count": 2,
   "metadata": {
    "scrolled": false
   },
   "outputs": [
    {
     "data": {
      "text/html": [
       "<div>\n",
       "<style scoped>\n",
       "    .dataframe tbody tr th:only-of-type {\n",
       "        vertical-align: middle;\n",
       "    }\n",
       "\n",
       "    .dataframe tbody tr th {\n",
       "        vertical-align: top;\n",
       "    }\n",
       "\n",
       "    .dataframe thead th {\n",
       "        text-align: right;\n",
       "    }\n",
       "</style>\n",
       "<table border=\"1\" class=\"dataframe\">\n",
       "  <thead>\n",
       "    <tr style=\"text-align: right;\">\n",
       "      <th></th>\n",
       "      <th>user_id</th>\n",
       "      <th>age</th>\n",
       "      <th>churn_date</th>\n",
       "      <th>city</th>\n",
       "      <th>first_name</th>\n",
       "      <th>last_name</th>\n",
       "      <th>reg_date</th>\n",
       "      <th>tariff</th>\n",
       "    </tr>\n",
       "  </thead>\n",
       "  <tbody>\n",
       "    <tr>\n",
       "      <th>0</th>\n",
       "      <td>1000</td>\n",
       "      <td>52</td>\n",
       "      <td>NaN</td>\n",
       "      <td>Краснодар</td>\n",
       "      <td>Рафаил</td>\n",
       "      <td>Верещагин</td>\n",
       "      <td>2018-05-25</td>\n",
       "      <td>ultra</td>\n",
       "    </tr>\n",
       "    <tr>\n",
       "      <th>1</th>\n",
       "      <td>1001</td>\n",
       "      <td>41</td>\n",
       "      <td>NaN</td>\n",
       "      <td>Москва</td>\n",
       "      <td>Иван</td>\n",
       "      <td>Ежов</td>\n",
       "      <td>2018-11-01</td>\n",
       "      <td>smart</td>\n",
       "    </tr>\n",
       "    <tr>\n",
       "      <th>2</th>\n",
       "      <td>1002</td>\n",
       "      <td>59</td>\n",
       "      <td>NaN</td>\n",
       "      <td>Стерлитамак</td>\n",
       "      <td>Евгений</td>\n",
       "      <td>Абрамович</td>\n",
       "      <td>2018-06-17</td>\n",
       "      <td>smart</td>\n",
       "    </tr>\n",
       "    <tr>\n",
       "      <th>3</th>\n",
       "      <td>1003</td>\n",
       "      <td>23</td>\n",
       "      <td>NaN</td>\n",
       "      <td>Москва</td>\n",
       "      <td>Белла</td>\n",
       "      <td>Белякова</td>\n",
       "      <td>2018-08-17</td>\n",
       "      <td>ultra</td>\n",
       "    </tr>\n",
       "    <tr>\n",
       "      <th>4</th>\n",
       "      <td>1004</td>\n",
       "      <td>68</td>\n",
       "      <td>NaN</td>\n",
       "      <td>Новокузнецк</td>\n",
       "      <td>Татьяна</td>\n",
       "      <td>Авдеенко</td>\n",
       "      <td>2018-05-14</td>\n",
       "      <td>ultra</td>\n",
       "    </tr>\n",
       "  </tbody>\n",
       "</table>\n",
       "</div>"
      ],
      "text/plain": [
       "   user_id  age churn_date         city first_name  last_name    reg_date  \\\n",
       "0     1000   52        NaN    Краснодар     Рафаил  Верещагин  2018-05-25   \n",
       "1     1001   41        NaN       Москва       Иван       Ежов  2018-11-01   \n",
       "2     1002   59        NaN  Стерлитамак    Евгений  Абрамович  2018-06-17   \n",
       "3     1003   23        NaN       Москва      Белла   Белякова  2018-08-17   \n",
       "4     1004   68        NaN  Новокузнецк    Татьяна   Авдеенко  2018-05-14   \n",
       "\n",
       "  tariff  \n",
       "0  ultra  \n",
       "1  smart  \n",
       "2  smart  \n",
       "3  ultra  \n",
       "4  ultra  "
      ]
     },
     "metadata": {},
     "output_type": "display_data"
    },
    {
     "name": "stdout",
     "output_type": "stream",
     "text": [
      "<class 'pandas.core.frame.DataFrame'>\n",
      "RangeIndex: 500 entries, 0 to 499\n",
      "Data columns (total 8 columns):\n",
      " #   Column      Non-Null Count  Dtype \n",
      "---  ------      --------------  ----- \n",
      " 0   user_id     500 non-null    int64 \n",
      " 1   age         500 non-null    int64 \n",
      " 2   churn_date  38 non-null     object\n",
      " 3   city        500 non-null    object\n",
      " 4   first_name  500 non-null    object\n",
      " 5   last_name   500 non-null    object\n",
      " 6   reg_date    500 non-null    object\n",
      " 7   tariff      500 non-null    object\n",
      "dtypes: int64(2), object(6)\n",
      "memory usage: 31.4+ KB\n"
     ]
    },
    {
     "data": {
      "text/html": [
       "<div>\n",
       "<style scoped>\n",
       "    .dataframe tbody tr th:only-of-type {\n",
       "        vertical-align: middle;\n",
       "    }\n",
       "\n",
       "    .dataframe tbody tr th {\n",
       "        vertical-align: top;\n",
       "    }\n",
       "\n",
       "    .dataframe thead th {\n",
       "        text-align: right;\n",
       "    }\n",
       "</style>\n",
       "<table border=\"1\" class=\"dataframe\">\n",
       "  <thead>\n",
       "    <tr style=\"text-align: right;\">\n",
       "      <th></th>\n",
       "      <th>user_id</th>\n",
       "      <th>age</th>\n",
       "    </tr>\n",
       "  </thead>\n",
       "  <tbody>\n",
       "    <tr>\n",
       "      <th>count</th>\n",
       "      <td>500.000000</td>\n",
       "      <td>500.00000</td>\n",
       "    </tr>\n",
       "    <tr>\n",
       "      <th>mean</th>\n",
       "      <td>1249.500000</td>\n",
       "      <td>46.58800</td>\n",
       "    </tr>\n",
       "    <tr>\n",
       "      <th>std</th>\n",
       "      <td>144.481833</td>\n",
       "      <td>16.66763</td>\n",
       "    </tr>\n",
       "    <tr>\n",
       "      <th>min</th>\n",
       "      <td>1000.000000</td>\n",
       "      <td>18.00000</td>\n",
       "    </tr>\n",
       "    <tr>\n",
       "      <th>25%</th>\n",
       "      <td>1124.750000</td>\n",
       "      <td>32.00000</td>\n",
       "    </tr>\n",
       "    <tr>\n",
       "      <th>50%</th>\n",
       "      <td>1249.500000</td>\n",
       "      <td>46.00000</td>\n",
       "    </tr>\n",
       "    <tr>\n",
       "      <th>75%</th>\n",
       "      <td>1374.250000</td>\n",
       "      <td>62.00000</td>\n",
       "    </tr>\n",
       "    <tr>\n",
       "      <th>max</th>\n",
       "      <td>1499.000000</td>\n",
       "      <td>75.00000</td>\n",
       "    </tr>\n",
       "  </tbody>\n",
       "</table>\n",
       "</div>"
      ],
      "text/plain": [
       "           user_id        age\n",
       "count   500.000000  500.00000\n",
       "mean   1249.500000   46.58800\n",
       "std     144.481833   16.66763\n",
       "min    1000.000000   18.00000\n",
       "25%    1124.750000   32.00000\n",
       "50%    1249.500000   46.00000\n",
       "75%    1374.250000   62.00000\n",
       "max    1499.000000   75.00000"
      ]
     },
     "metadata": {},
     "output_type": "display_data"
    },
    {
     "data": {
      "text/html": [
       "<div>\n",
       "<style scoped>\n",
       "    .dataframe tbody tr th:only-of-type {\n",
       "        vertical-align: middle;\n",
       "    }\n",
       "\n",
       "    .dataframe tbody tr th {\n",
       "        vertical-align: top;\n",
       "    }\n",
       "\n",
       "    .dataframe thead th {\n",
       "        text-align: right;\n",
       "    }\n",
       "</style>\n",
       "<table border=\"1\" class=\"dataframe\">\n",
       "  <thead>\n",
       "    <tr style=\"text-align: right;\">\n",
       "      <th></th>\n",
       "      <th>messages_included</th>\n",
       "      <th>mb_per_month_included</th>\n",
       "      <th>minutes_included</th>\n",
       "      <th>rub_monthly_fee</th>\n",
       "      <th>rub_per_gb</th>\n",
       "      <th>rub_per_message</th>\n",
       "      <th>rub_per_minute</th>\n",
       "      <th>tariff_name</th>\n",
       "    </tr>\n",
       "  </thead>\n",
       "  <tbody>\n",
       "    <tr>\n",
       "      <th>0</th>\n",
       "      <td>50</td>\n",
       "      <td>15360</td>\n",
       "      <td>500</td>\n",
       "      <td>550</td>\n",
       "      <td>200</td>\n",
       "      <td>3</td>\n",
       "      <td>3</td>\n",
       "      <td>smart</td>\n",
       "    </tr>\n",
       "    <tr>\n",
       "      <th>1</th>\n",
       "      <td>1000</td>\n",
       "      <td>30720</td>\n",
       "      <td>3000</td>\n",
       "      <td>1950</td>\n",
       "      <td>150</td>\n",
       "      <td>1</td>\n",
       "      <td>1</td>\n",
       "      <td>ultra</td>\n",
       "    </tr>\n",
       "  </tbody>\n",
       "</table>\n",
       "</div>"
      ],
      "text/plain": [
       "   messages_included  mb_per_month_included  minutes_included  \\\n",
       "0                 50                  15360               500   \n",
       "1               1000                  30720              3000   \n",
       "\n",
       "   rub_monthly_fee  rub_per_gb  rub_per_message  rub_per_minute tariff_name  \n",
       "0              550         200                3               3       smart  \n",
       "1             1950         150                1               1       ultra  "
      ]
     },
     "metadata": {},
     "output_type": "display_data"
    },
    {
     "name": "stdout",
     "output_type": "stream",
     "text": [
      "<class 'pandas.core.frame.DataFrame'>\n",
      "RangeIndex: 2 entries, 0 to 1\n",
      "Data columns (total 8 columns):\n",
      " #   Column                 Non-Null Count  Dtype \n",
      "---  ------                 --------------  ----- \n",
      " 0   messages_included      2 non-null      int64 \n",
      " 1   mb_per_month_included  2 non-null      int64 \n",
      " 2   minutes_included       2 non-null      int64 \n",
      " 3   rub_monthly_fee        2 non-null      int64 \n",
      " 4   rub_per_gb             2 non-null      int64 \n",
      " 5   rub_per_message        2 non-null      int64 \n",
      " 6   rub_per_minute         2 non-null      int64 \n",
      " 7   tariff_name            2 non-null      object\n",
      "dtypes: int64(7), object(1)\n",
      "memory usage: 256.0+ bytes\n"
     ]
    },
    {
     "data": {
      "text/html": [
       "<div>\n",
       "<style scoped>\n",
       "    .dataframe tbody tr th:only-of-type {\n",
       "        vertical-align: middle;\n",
       "    }\n",
       "\n",
       "    .dataframe tbody tr th {\n",
       "        vertical-align: top;\n",
       "    }\n",
       "\n",
       "    .dataframe thead th {\n",
       "        text-align: right;\n",
       "    }\n",
       "</style>\n",
       "<table border=\"1\" class=\"dataframe\">\n",
       "  <thead>\n",
       "    <tr style=\"text-align: right;\">\n",
       "      <th></th>\n",
       "      <th>messages_included</th>\n",
       "      <th>mb_per_month_included</th>\n",
       "      <th>minutes_included</th>\n",
       "      <th>rub_monthly_fee</th>\n",
       "      <th>rub_per_gb</th>\n",
       "      <th>rub_per_message</th>\n",
       "      <th>rub_per_minute</th>\n",
       "    </tr>\n",
       "  </thead>\n",
       "  <tbody>\n",
       "    <tr>\n",
       "      <th>count</th>\n",
       "      <td>2.000000</td>\n",
       "      <td>2.000000</td>\n",
       "      <td>2.000000</td>\n",
       "      <td>2.000000</td>\n",
       "      <td>2.000000</td>\n",
       "      <td>2.000000</td>\n",
       "      <td>2.000000</td>\n",
       "    </tr>\n",
       "    <tr>\n",
       "      <th>mean</th>\n",
       "      <td>525.000000</td>\n",
       "      <td>23040.000000</td>\n",
       "      <td>1750.000000</td>\n",
       "      <td>1250.000000</td>\n",
       "      <td>175.000000</td>\n",
       "      <td>2.000000</td>\n",
       "      <td>2.000000</td>\n",
       "    </tr>\n",
       "    <tr>\n",
       "      <th>std</th>\n",
       "      <td>671.751442</td>\n",
       "      <td>10861.160159</td>\n",
       "      <td>1767.766953</td>\n",
       "      <td>989.949494</td>\n",
       "      <td>35.355339</td>\n",
       "      <td>1.414214</td>\n",
       "      <td>1.414214</td>\n",
       "    </tr>\n",
       "    <tr>\n",
       "      <th>min</th>\n",
       "      <td>50.000000</td>\n",
       "      <td>15360.000000</td>\n",
       "      <td>500.000000</td>\n",
       "      <td>550.000000</td>\n",
       "      <td>150.000000</td>\n",
       "      <td>1.000000</td>\n",
       "      <td>1.000000</td>\n",
       "    </tr>\n",
       "    <tr>\n",
       "      <th>25%</th>\n",
       "      <td>287.500000</td>\n",
       "      <td>19200.000000</td>\n",
       "      <td>1125.000000</td>\n",
       "      <td>900.000000</td>\n",
       "      <td>162.500000</td>\n",
       "      <td>1.500000</td>\n",
       "      <td>1.500000</td>\n",
       "    </tr>\n",
       "    <tr>\n",
       "      <th>50%</th>\n",
       "      <td>525.000000</td>\n",
       "      <td>23040.000000</td>\n",
       "      <td>1750.000000</td>\n",
       "      <td>1250.000000</td>\n",
       "      <td>175.000000</td>\n",
       "      <td>2.000000</td>\n",
       "      <td>2.000000</td>\n",
       "    </tr>\n",
       "    <tr>\n",
       "      <th>75%</th>\n",
       "      <td>762.500000</td>\n",
       "      <td>26880.000000</td>\n",
       "      <td>2375.000000</td>\n",
       "      <td>1600.000000</td>\n",
       "      <td>187.500000</td>\n",
       "      <td>2.500000</td>\n",
       "      <td>2.500000</td>\n",
       "    </tr>\n",
       "    <tr>\n",
       "      <th>max</th>\n",
       "      <td>1000.000000</td>\n",
       "      <td>30720.000000</td>\n",
       "      <td>3000.000000</td>\n",
       "      <td>1950.000000</td>\n",
       "      <td>200.000000</td>\n",
       "      <td>3.000000</td>\n",
       "      <td>3.000000</td>\n",
       "    </tr>\n",
       "  </tbody>\n",
       "</table>\n",
       "</div>"
      ],
      "text/plain": [
       "       messages_included  mb_per_month_included  minutes_included  \\\n",
       "count           2.000000               2.000000          2.000000   \n",
       "mean          525.000000           23040.000000       1750.000000   \n",
       "std           671.751442           10861.160159       1767.766953   \n",
       "min            50.000000           15360.000000        500.000000   \n",
       "25%           287.500000           19200.000000       1125.000000   \n",
       "50%           525.000000           23040.000000       1750.000000   \n",
       "75%           762.500000           26880.000000       2375.000000   \n",
       "max          1000.000000           30720.000000       3000.000000   \n",
       "\n",
       "       rub_monthly_fee  rub_per_gb  rub_per_message  rub_per_minute  \n",
       "count         2.000000    2.000000         2.000000        2.000000  \n",
       "mean       1250.000000  175.000000         2.000000        2.000000  \n",
       "std         989.949494   35.355339         1.414214        1.414214  \n",
       "min         550.000000  150.000000         1.000000        1.000000  \n",
       "25%         900.000000  162.500000         1.500000        1.500000  \n",
       "50%        1250.000000  175.000000         2.000000        2.000000  \n",
       "75%        1600.000000  187.500000         2.500000        2.500000  \n",
       "max        1950.000000  200.000000         3.000000        3.000000  "
      ]
     },
     "metadata": {},
     "output_type": "display_data"
    },
    {
     "data": {
      "text/html": [
       "<div>\n",
       "<style scoped>\n",
       "    .dataframe tbody tr th:only-of-type {\n",
       "        vertical-align: middle;\n",
       "    }\n",
       "\n",
       "    .dataframe tbody tr th {\n",
       "        vertical-align: top;\n",
       "    }\n",
       "\n",
       "    .dataframe thead th {\n",
       "        text-align: right;\n",
       "    }\n",
       "</style>\n",
       "<table border=\"1\" class=\"dataframe\">\n",
       "  <thead>\n",
       "    <tr style=\"text-align: right;\">\n",
       "      <th></th>\n",
       "      <th>id</th>\n",
       "      <th>call_date</th>\n",
       "      <th>duration</th>\n",
       "      <th>user_id</th>\n",
       "    </tr>\n",
       "  </thead>\n",
       "  <tbody>\n",
       "    <tr>\n",
       "      <th>0</th>\n",
       "      <td>1000_0</td>\n",
       "      <td>2018-07-25</td>\n",
       "      <td>0.00</td>\n",
       "      <td>1000</td>\n",
       "    </tr>\n",
       "    <tr>\n",
       "      <th>1</th>\n",
       "      <td>1000_1</td>\n",
       "      <td>2018-08-17</td>\n",
       "      <td>0.00</td>\n",
       "      <td>1000</td>\n",
       "    </tr>\n",
       "    <tr>\n",
       "      <th>2</th>\n",
       "      <td>1000_2</td>\n",
       "      <td>2018-06-11</td>\n",
       "      <td>2.85</td>\n",
       "      <td>1000</td>\n",
       "    </tr>\n",
       "    <tr>\n",
       "      <th>3</th>\n",
       "      <td>1000_3</td>\n",
       "      <td>2018-09-21</td>\n",
       "      <td>13.80</td>\n",
       "      <td>1000</td>\n",
       "    </tr>\n",
       "    <tr>\n",
       "      <th>4</th>\n",
       "      <td>1000_4</td>\n",
       "      <td>2018-12-15</td>\n",
       "      <td>5.18</td>\n",
       "      <td>1000</td>\n",
       "    </tr>\n",
       "  </tbody>\n",
       "</table>\n",
       "</div>"
      ],
      "text/plain": [
       "       id   call_date  duration  user_id\n",
       "0  1000_0  2018-07-25      0.00     1000\n",
       "1  1000_1  2018-08-17      0.00     1000\n",
       "2  1000_2  2018-06-11      2.85     1000\n",
       "3  1000_3  2018-09-21     13.80     1000\n",
       "4  1000_4  2018-12-15      5.18     1000"
      ]
     },
     "metadata": {},
     "output_type": "display_data"
    },
    {
     "name": "stdout",
     "output_type": "stream",
     "text": [
      "<class 'pandas.core.frame.DataFrame'>\n",
      "RangeIndex: 202607 entries, 0 to 202606\n",
      "Data columns (total 4 columns):\n",
      " #   Column     Non-Null Count   Dtype  \n",
      "---  ------     --------------   -----  \n",
      " 0   id         202607 non-null  object \n",
      " 1   call_date  202607 non-null  object \n",
      " 2   duration   202607 non-null  float64\n",
      " 3   user_id    202607 non-null  int64  \n",
      "dtypes: float64(1), int64(1), object(2)\n",
      "memory usage: 6.2+ MB\n"
     ]
    },
    {
     "data": {
      "text/html": [
       "<div>\n",
       "<style scoped>\n",
       "    .dataframe tbody tr th:only-of-type {\n",
       "        vertical-align: middle;\n",
       "    }\n",
       "\n",
       "    .dataframe tbody tr th {\n",
       "        vertical-align: top;\n",
       "    }\n",
       "\n",
       "    .dataframe thead th {\n",
       "        text-align: right;\n",
       "    }\n",
       "</style>\n",
       "<table border=\"1\" class=\"dataframe\">\n",
       "  <thead>\n",
       "    <tr style=\"text-align: right;\">\n",
       "      <th></th>\n",
       "      <th>duration</th>\n",
       "      <th>user_id</th>\n",
       "    </tr>\n",
       "  </thead>\n",
       "  <tbody>\n",
       "    <tr>\n",
       "      <th>count</th>\n",
       "      <td>202607.000000</td>\n",
       "      <td>202607.000000</td>\n",
       "    </tr>\n",
       "    <tr>\n",
       "      <th>mean</th>\n",
       "      <td>6.755887</td>\n",
       "      <td>1253.940619</td>\n",
       "    </tr>\n",
       "    <tr>\n",
       "      <th>std</th>\n",
       "      <td>5.843365</td>\n",
       "      <td>144.722751</td>\n",
       "    </tr>\n",
       "    <tr>\n",
       "      <th>min</th>\n",
       "      <td>0.000000</td>\n",
       "      <td>1000.000000</td>\n",
       "    </tr>\n",
       "    <tr>\n",
       "      <th>25%</th>\n",
       "      <td>1.300000</td>\n",
       "      <td>1126.000000</td>\n",
       "    </tr>\n",
       "    <tr>\n",
       "      <th>50%</th>\n",
       "      <td>6.000000</td>\n",
       "      <td>1260.000000</td>\n",
       "    </tr>\n",
       "    <tr>\n",
       "      <th>75%</th>\n",
       "      <td>10.700000</td>\n",
       "      <td>1379.000000</td>\n",
       "    </tr>\n",
       "    <tr>\n",
       "      <th>max</th>\n",
       "      <td>38.000000</td>\n",
       "      <td>1499.000000</td>\n",
       "    </tr>\n",
       "  </tbody>\n",
       "</table>\n",
       "</div>"
      ],
      "text/plain": [
       "            duration        user_id\n",
       "count  202607.000000  202607.000000\n",
       "mean        6.755887    1253.940619\n",
       "std         5.843365     144.722751\n",
       "min         0.000000    1000.000000\n",
       "25%         1.300000    1126.000000\n",
       "50%         6.000000    1260.000000\n",
       "75%        10.700000    1379.000000\n",
       "max        38.000000    1499.000000"
      ]
     },
     "metadata": {},
     "output_type": "display_data"
    },
    {
     "data": {
      "text/html": [
       "<div>\n",
       "<style scoped>\n",
       "    .dataframe tbody tr th:only-of-type {\n",
       "        vertical-align: middle;\n",
       "    }\n",
       "\n",
       "    .dataframe tbody tr th {\n",
       "        vertical-align: top;\n",
       "    }\n",
       "\n",
       "    .dataframe thead th {\n",
       "        text-align: right;\n",
       "    }\n",
       "</style>\n",
       "<table border=\"1\" class=\"dataframe\">\n",
       "  <thead>\n",
       "    <tr style=\"text-align: right;\">\n",
       "      <th></th>\n",
       "      <th>id</th>\n",
       "      <th>message_date</th>\n",
       "      <th>user_id</th>\n",
       "    </tr>\n",
       "  </thead>\n",
       "  <tbody>\n",
       "    <tr>\n",
       "      <th>0</th>\n",
       "      <td>1000_0</td>\n",
       "      <td>2018-06-27</td>\n",
       "      <td>1000</td>\n",
       "    </tr>\n",
       "    <tr>\n",
       "      <th>1</th>\n",
       "      <td>1000_1</td>\n",
       "      <td>2018-10-08</td>\n",
       "      <td>1000</td>\n",
       "    </tr>\n",
       "    <tr>\n",
       "      <th>2</th>\n",
       "      <td>1000_2</td>\n",
       "      <td>2018-08-04</td>\n",
       "      <td>1000</td>\n",
       "    </tr>\n",
       "    <tr>\n",
       "      <th>3</th>\n",
       "      <td>1000_3</td>\n",
       "      <td>2018-06-16</td>\n",
       "      <td>1000</td>\n",
       "    </tr>\n",
       "    <tr>\n",
       "      <th>4</th>\n",
       "      <td>1000_4</td>\n",
       "      <td>2018-12-05</td>\n",
       "      <td>1000</td>\n",
       "    </tr>\n",
       "  </tbody>\n",
       "</table>\n",
       "</div>"
      ],
      "text/plain": [
       "       id message_date  user_id\n",
       "0  1000_0   2018-06-27     1000\n",
       "1  1000_1   2018-10-08     1000\n",
       "2  1000_2   2018-08-04     1000\n",
       "3  1000_3   2018-06-16     1000\n",
       "4  1000_4   2018-12-05     1000"
      ]
     },
     "metadata": {},
     "output_type": "display_data"
    },
    {
     "name": "stdout",
     "output_type": "stream",
     "text": [
      "<class 'pandas.core.frame.DataFrame'>\n",
      "RangeIndex: 123036 entries, 0 to 123035\n",
      "Data columns (total 3 columns):\n",
      " #   Column        Non-Null Count   Dtype \n",
      "---  ------        --------------   ----- \n",
      " 0   id            123036 non-null  object\n",
      " 1   message_date  123036 non-null  object\n",
      " 2   user_id       123036 non-null  int64 \n",
      "dtypes: int64(1), object(2)\n",
      "memory usage: 2.8+ MB\n"
     ]
    },
    {
     "data": {
      "text/html": [
       "<div>\n",
       "<style scoped>\n",
       "    .dataframe tbody tr th:only-of-type {\n",
       "        vertical-align: middle;\n",
       "    }\n",
       "\n",
       "    .dataframe tbody tr th {\n",
       "        vertical-align: top;\n",
       "    }\n",
       "\n",
       "    .dataframe thead th {\n",
       "        text-align: right;\n",
       "    }\n",
       "</style>\n",
       "<table border=\"1\" class=\"dataframe\">\n",
       "  <thead>\n",
       "    <tr style=\"text-align: right;\">\n",
       "      <th></th>\n",
       "      <th>user_id</th>\n",
       "    </tr>\n",
       "  </thead>\n",
       "  <tbody>\n",
       "    <tr>\n",
       "      <th>count</th>\n",
       "      <td>123036.000000</td>\n",
       "    </tr>\n",
       "    <tr>\n",
       "      <th>mean</th>\n",
       "      <td>1256.989410</td>\n",
       "    </tr>\n",
       "    <tr>\n",
       "      <th>std</th>\n",
       "      <td>143.523967</td>\n",
       "    </tr>\n",
       "    <tr>\n",
       "      <th>min</th>\n",
       "      <td>1000.000000</td>\n",
       "    </tr>\n",
       "    <tr>\n",
       "      <th>25%</th>\n",
       "      <td>1134.000000</td>\n",
       "    </tr>\n",
       "    <tr>\n",
       "      <th>50%</th>\n",
       "      <td>1271.000000</td>\n",
       "    </tr>\n",
       "    <tr>\n",
       "      <th>75%</th>\n",
       "      <td>1381.000000</td>\n",
       "    </tr>\n",
       "    <tr>\n",
       "      <th>max</th>\n",
       "      <td>1499.000000</td>\n",
       "    </tr>\n",
       "  </tbody>\n",
       "</table>\n",
       "</div>"
      ],
      "text/plain": [
       "             user_id\n",
       "count  123036.000000\n",
       "mean     1256.989410\n",
       "std       143.523967\n",
       "min      1000.000000\n",
       "25%      1134.000000\n",
       "50%      1271.000000\n",
       "75%      1381.000000\n",
       "max      1499.000000"
      ]
     },
     "metadata": {},
     "output_type": "display_data"
    },
    {
     "data": {
      "text/html": [
       "<div>\n",
       "<style scoped>\n",
       "    .dataframe tbody tr th:only-of-type {\n",
       "        vertical-align: middle;\n",
       "    }\n",
       "\n",
       "    .dataframe tbody tr th {\n",
       "        vertical-align: top;\n",
       "    }\n",
       "\n",
       "    .dataframe thead th {\n",
       "        text-align: right;\n",
       "    }\n",
       "</style>\n",
       "<table border=\"1\" class=\"dataframe\">\n",
       "  <thead>\n",
       "    <tr style=\"text-align: right;\">\n",
       "      <th></th>\n",
       "      <th>Unnamed: 0</th>\n",
       "      <th>id</th>\n",
       "      <th>mb_used</th>\n",
       "      <th>session_date</th>\n",
       "      <th>user_id</th>\n",
       "    </tr>\n",
       "  </thead>\n",
       "  <tbody>\n",
       "    <tr>\n",
       "      <th>0</th>\n",
       "      <td>0</td>\n",
       "      <td>1000_0</td>\n",
       "      <td>112.95</td>\n",
       "      <td>2018-11-25</td>\n",
       "      <td>1000</td>\n",
       "    </tr>\n",
       "    <tr>\n",
       "      <th>1</th>\n",
       "      <td>1</td>\n",
       "      <td>1000_1</td>\n",
       "      <td>1052.81</td>\n",
       "      <td>2018-09-07</td>\n",
       "      <td>1000</td>\n",
       "    </tr>\n",
       "    <tr>\n",
       "      <th>2</th>\n",
       "      <td>2</td>\n",
       "      <td>1000_2</td>\n",
       "      <td>1197.26</td>\n",
       "      <td>2018-06-25</td>\n",
       "      <td>1000</td>\n",
       "    </tr>\n",
       "    <tr>\n",
       "      <th>3</th>\n",
       "      <td>3</td>\n",
       "      <td>1000_3</td>\n",
       "      <td>550.27</td>\n",
       "      <td>2018-08-22</td>\n",
       "      <td>1000</td>\n",
       "    </tr>\n",
       "    <tr>\n",
       "      <th>4</th>\n",
       "      <td>4</td>\n",
       "      <td>1000_4</td>\n",
       "      <td>302.56</td>\n",
       "      <td>2018-09-24</td>\n",
       "      <td>1000</td>\n",
       "    </tr>\n",
       "  </tbody>\n",
       "</table>\n",
       "</div>"
      ],
      "text/plain": [
       "   Unnamed: 0      id  mb_used session_date  user_id\n",
       "0           0  1000_0   112.95   2018-11-25     1000\n",
       "1           1  1000_1  1052.81   2018-09-07     1000\n",
       "2           2  1000_2  1197.26   2018-06-25     1000\n",
       "3           3  1000_3   550.27   2018-08-22     1000\n",
       "4           4  1000_4   302.56   2018-09-24     1000"
      ]
     },
     "metadata": {},
     "output_type": "display_data"
    },
    {
     "name": "stdout",
     "output_type": "stream",
     "text": [
      "<class 'pandas.core.frame.DataFrame'>\n",
      "RangeIndex: 149396 entries, 0 to 149395\n",
      "Data columns (total 5 columns):\n",
      " #   Column        Non-Null Count   Dtype  \n",
      "---  ------        --------------   -----  \n",
      " 0   Unnamed: 0    149396 non-null  int64  \n",
      " 1   id            149396 non-null  object \n",
      " 2   mb_used       149396 non-null  float64\n",
      " 3   session_date  149396 non-null  object \n",
      " 4   user_id       149396 non-null  int64  \n",
      "dtypes: float64(1), int64(2), object(2)\n",
      "memory usage: 5.7+ MB\n"
     ]
    },
    {
     "data": {
      "text/html": [
       "<div>\n",
       "<style scoped>\n",
       "    .dataframe tbody tr th:only-of-type {\n",
       "        vertical-align: middle;\n",
       "    }\n",
       "\n",
       "    .dataframe tbody tr th {\n",
       "        vertical-align: top;\n",
       "    }\n",
       "\n",
       "    .dataframe thead th {\n",
       "        text-align: right;\n",
       "    }\n",
       "</style>\n",
       "<table border=\"1\" class=\"dataframe\">\n",
       "  <thead>\n",
       "    <tr style=\"text-align: right;\">\n",
       "      <th></th>\n",
       "      <th>Unnamed: 0</th>\n",
       "      <th>mb_used</th>\n",
       "      <th>user_id</th>\n",
       "    </tr>\n",
       "  </thead>\n",
       "  <tbody>\n",
       "    <tr>\n",
       "      <th>count</th>\n",
       "      <td>149396.000000</td>\n",
       "      <td>149396.000000</td>\n",
       "      <td>149396.000000</td>\n",
       "    </tr>\n",
       "    <tr>\n",
       "      <th>mean</th>\n",
       "      <td>74697.500000</td>\n",
       "      <td>370.192426</td>\n",
       "      <td>1252.099842</td>\n",
       "    </tr>\n",
       "    <tr>\n",
       "      <th>std</th>\n",
       "      <td>43127.054745</td>\n",
       "      <td>278.300951</td>\n",
       "      <td>144.050823</td>\n",
       "    </tr>\n",
       "    <tr>\n",
       "      <th>min</th>\n",
       "      <td>0.000000</td>\n",
       "      <td>0.000000</td>\n",
       "      <td>1000.000000</td>\n",
       "    </tr>\n",
       "    <tr>\n",
       "      <th>25%</th>\n",
       "      <td>37348.750000</td>\n",
       "      <td>138.187500</td>\n",
       "      <td>1130.000000</td>\n",
       "    </tr>\n",
       "    <tr>\n",
       "      <th>50%</th>\n",
       "      <td>74697.500000</td>\n",
       "      <td>348.015000</td>\n",
       "      <td>1251.000000</td>\n",
       "    </tr>\n",
       "    <tr>\n",
       "      <th>75%</th>\n",
       "      <td>112046.250000</td>\n",
       "      <td>559.552500</td>\n",
       "      <td>1380.000000</td>\n",
       "    </tr>\n",
       "    <tr>\n",
       "      <th>max</th>\n",
       "      <td>149395.000000</td>\n",
       "      <td>1724.830000</td>\n",
       "      <td>1499.000000</td>\n",
       "    </tr>\n",
       "  </tbody>\n",
       "</table>\n",
       "</div>"
      ],
      "text/plain": [
       "          Unnamed: 0        mb_used        user_id\n",
       "count  149396.000000  149396.000000  149396.000000\n",
       "mean    74697.500000     370.192426    1252.099842\n",
       "std     43127.054745     278.300951     144.050823\n",
       "min         0.000000       0.000000    1000.000000\n",
       "25%     37348.750000     138.187500    1130.000000\n",
       "50%     74697.500000     348.015000    1251.000000\n",
       "75%    112046.250000     559.552500    1380.000000\n",
       "max    149395.000000    1724.830000    1499.000000"
      ]
     },
     "metadata": {},
     "output_type": "display_data"
    }
   ],
   "source": [
    "tables = ['users', 'tariffs', 'calls', 'messages', 'internet']\n",
    "for name in tables:\n",
    "    data = pd.read_csv(f'/datasets/{name}.csv')\n",
    "    display(data.head())\n",
    "    data.info()\n",
    "    display(data.describe())\n",
    "    globals()[name] = data"
   ]
  },
  {
   "cell_type": "markdown",
   "metadata": {},
   "source": [
    "Данные о пользователях и их поведении относительно услуг сотовой связи содержатся в пяти таблицах:\n",
    "\n",
    "**Users** (информация о пользователях):\n",
    "- user_id — уникальный идентификатор пользователя\n",
    "- first_name — имя пользователя\n",
    "- last_name — фамилия пользователя\n",
    "- age — возраст пользователя в годах\n",
    "- reg_date — дата подключения тарифа (день, месяц, год)\n",
    "- churn_date — дата прекращения пользования тарифом (пропущенное значение говорит о том, что тариф ещё действовал на момент выгрузки данных)\n",
    "- city — город проживания пользователя\n",
    "- tariff — название тарифного плана\n",
    "\n",
    "**Calls** (информация о звонках):\n",
    "- id — уникальный номер звонка\n",
    "- call_date — дата звонка\n",
    "- duration — длительность звонка в минутах\n",
    "- user_id — идентификатор пользователя, сделавшего звонок\n",
    "\n",
    "**Messages** (информация о сообщениях):\n",
    "- id — уникальный номер сообщения\n",
    "- message_date — дата сообщения\n",
    "- user_id — идентификатор пользователя, отправившего сообщение\n",
    "\n",
    "**Internet** (информация об интернет-сессиях):\n",
    "- id — уникальный номер сессии\n",
    "- mb_used — объём потраченного за сессию интернет-трафика (в мегабайтах)\n",
    "- session_date — дата интернет-сессии\n",
    "- user_id — идентификатор пользователя\n",
    "\n",
    "**Tariffs** (информация о тарифах):\n",
    "- tariff_name — название тарифа\n",
    "- rub_monthly_fee — ежемесячная абонентская плата в рублях\n",
    "- minutes_included — количество минут разговора в месяц, включённых в абонентскую плату\n",
    "- messages_included — количество сообщений в месяц, включённых в абонентскую плату\n",
    "- mb_per_month_included — объём интернет-трафика, включённого в абонентскую плату (в мегабайтах)\n",
    "- rub_per_minute — стоимость минуты разговора сверх тарифного пакета)\n",
    "- rub_per_message — стоимость отправки сообщения сверх тарифного пакета\n",
    "- rub_per_gb — стоимость дополнительного гигабайта интернет-трафика сверх тарифного пакета"
   ]
  },
  {
   "cell_type": "markdown",
   "metadata": {},
   "source": [
    "Так как все датафреймы содержат разную информацию и разное количество строк, объединять таблицы буду только после предобработки данных."
   ]
  },
  {
   "cell_type": "markdown",
   "metadata": {},
   "source": [
    "Получена общая информация о каждом датафрейме. Таблицы содержат разное количество строк, пропущенные значения встречаются только в датафрейме `users`. Встречаются следующие типы данных: `int64`, `float64`, `object`. Названия всех столбцов приведены к \"змеиному регистру\". В датафрейме `internet` есть лишняя колонка `Unnamed: 0`, от которой необходимо избавиться."
   ]
  },
  {
   "cell_type": "markdown",
   "metadata": {},
   "source": [
    "## Предобработка данных"
   ]
  },
  {
   "cell_type": "markdown",
   "metadata": {},
   "source": [
    "После получения общей информации о датафрейме дальнейшая работа с данными заключается в их предобработке, а именно:\n",
    "- изменение типов данных;\n",
    "- удаление ненужных столбцов;\n",
    "- переименование столбцов; \n",
    "- обработка пропущенных значений; \n",
    "- поиск явных и неявных дубликатов;\n",
    "- добавление новых столбцов."
   ]
  },
  {
   "cell_type": "markdown",
   "metadata": {},
   "source": [
    "### Изменение типов данных"
   ]
  },
  {
   "cell_type": "markdown",
   "metadata": {},
   "source": [
    "В датафреймах `users`, `calls`, `messages`, `internet` преобразую столбцы с датами к типу datetime:"
   ]
  },
  {
   "cell_type": "code",
   "execution_count": 3,
   "metadata": {},
   "outputs": [],
   "source": [
    "users['churn_date'] = pd.to_datetime(users['churn_date'], format='%Y-%m-%d')"
   ]
  },
  {
   "cell_type": "code",
   "execution_count": 4,
   "metadata": {},
   "outputs": [],
   "source": [
    "users['reg_date'] = pd.to_datetime(users['reg_date'], format='%Y-%m-%d')"
   ]
  },
  {
   "cell_type": "code",
   "execution_count": 5,
   "metadata": {},
   "outputs": [],
   "source": [
    "calls['call_date'] = pd.to_datetime(calls['call_date'], format='%Y-%m-%d')"
   ]
  },
  {
   "cell_type": "code",
   "execution_count": 6,
   "metadata": {},
   "outputs": [],
   "source": [
    "messages['message_date'] = pd.to_datetime(messages['message_date'], format='%Y-%m-%d')"
   ]
  },
  {
   "cell_type": "code",
   "execution_count": 7,
   "metadata": {},
   "outputs": [],
   "source": [
    "internet['session_date'] = pd.to_datetime(internet['session_date'], format='%Y-%m-%d')"
   ]
  },
  {
   "cell_type": "markdown",
   "metadata": {},
   "source": [
    "Выполню проверку на то, что дата оттока всегда позже даты регистрации:"
   ]
  },
  {
   "cell_type": "code",
   "execution_count": 8,
   "metadata": {},
   "outputs": [
    {
     "data": {
      "text/plain": [
       "0"
      ]
     },
     "execution_count": 8,
     "metadata": {},
     "output_type": "execute_result"
    }
   ],
   "source": [
    "len(users.query('churn_date.notna() and churn_date < reg_date'))"
   ]
  },
  {
   "cell_type": "markdown",
   "metadata": {},
   "source": [
    "### Удаление столбцов"
   ]
  },
  {
   "cell_type": "markdown",
   "metadata": {},
   "source": [
    "В таблице `internet` содержится столбец `Unnamed: 0` c дублирующей информацией о индексах. Это лишняя информация, поэтому я удалю такой столбец с помощью функции pop():"
   ]
  },
  {
   "cell_type": "code",
   "execution_count": 9,
   "metadata": {},
   "outputs": [
    {
     "data": {
      "text/plain": [
       "0              0\n",
       "1              1\n",
       "2              2\n",
       "3              3\n",
       "4              4\n",
       "           ...  \n",
       "149391    149391\n",
       "149392    149392\n",
       "149393    149393\n",
       "149394    149394\n",
       "149395    149395\n",
       "Name: Unnamed: 0, Length: 149396, dtype: int64"
      ]
     },
     "execution_count": 9,
     "metadata": {},
     "output_type": "execute_result"
    }
   ],
   "source": [
    "internet.pop('Unnamed: 0')"
   ]
  },
  {
   "cell_type": "code",
   "execution_count": 10,
   "metadata": {},
   "outputs": [
    {
     "data": {
      "text/html": [
       "<div>\n",
       "<style scoped>\n",
       "    .dataframe tbody tr th:only-of-type {\n",
       "        vertical-align: middle;\n",
       "    }\n",
       "\n",
       "    .dataframe tbody tr th {\n",
       "        vertical-align: top;\n",
       "    }\n",
       "\n",
       "    .dataframe thead th {\n",
       "        text-align: right;\n",
       "    }\n",
       "</style>\n",
       "<table border=\"1\" class=\"dataframe\">\n",
       "  <thead>\n",
       "    <tr style=\"text-align: right;\">\n",
       "      <th></th>\n",
       "      <th>id</th>\n",
       "      <th>mb_used</th>\n",
       "      <th>session_date</th>\n",
       "      <th>user_id</th>\n",
       "    </tr>\n",
       "  </thead>\n",
       "  <tbody>\n",
       "    <tr>\n",
       "      <th>0</th>\n",
       "      <td>1000_0</td>\n",
       "      <td>112.95</td>\n",
       "      <td>2018-11-25</td>\n",
       "      <td>1000</td>\n",
       "    </tr>\n",
       "    <tr>\n",
       "      <th>1</th>\n",
       "      <td>1000_1</td>\n",
       "      <td>1052.81</td>\n",
       "      <td>2018-09-07</td>\n",
       "      <td>1000</td>\n",
       "    </tr>\n",
       "    <tr>\n",
       "      <th>2</th>\n",
       "      <td>1000_2</td>\n",
       "      <td>1197.26</td>\n",
       "      <td>2018-06-25</td>\n",
       "      <td>1000</td>\n",
       "    </tr>\n",
       "    <tr>\n",
       "      <th>3</th>\n",
       "      <td>1000_3</td>\n",
       "      <td>550.27</td>\n",
       "      <td>2018-08-22</td>\n",
       "      <td>1000</td>\n",
       "    </tr>\n",
       "    <tr>\n",
       "      <th>4</th>\n",
       "      <td>1000_4</td>\n",
       "      <td>302.56</td>\n",
       "      <td>2018-09-24</td>\n",
       "      <td>1000</td>\n",
       "    </tr>\n",
       "  </tbody>\n",
       "</table>\n",
       "</div>"
      ],
      "text/plain": [
       "       id  mb_used session_date  user_id\n",
       "0  1000_0   112.95   2018-11-25     1000\n",
       "1  1000_1  1052.81   2018-09-07     1000\n",
       "2  1000_2  1197.26   2018-06-25     1000\n",
       "3  1000_3   550.27   2018-08-22     1000\n",
       "4  1000_4   302.56   2018-09-24     1000"
      ]
     },
     "execution_count": 10,
     "metadata": {},
     "output_type": "execute_result"
    }
   ],
   "source": [
    "internet.head()"
   ]
  },
  {
   "cell_type": "markdown",
   "metadata": {},
   "source": [
    "### Переименование столбцов"
   ]
  },
  {
   "cell_type": "markdown",
   "metadata": {},
   "source": [
    "Для лучшего понимания и наглядного восприятия, о том что в столбце содержится информация о продолжительности разговора в минутах, дополню название столбца: `duration`:"
   ]
  },
  {
   "cell_type": "code",
   "execution_count": 11,
   "metadata": {},
   "outputs": [],
   "source": [
    "calls = calls.rename(columns={'duration': 'duration_minutes'})"
   ]
  },
  {
   "cell_type": "markdown",
   "metadata": {},
   "source": [
    "### Обработка пропущенных значений"
   ]
  },
  {
   "cell_type": "markdown",
   "metadata": {},
   "source": [
    "Проверю датафреймы на наличие пропущенных значений."
   ]
  },
  {
   "cell_type": "code",
   "execution_count": 12,
   "metadata": {},
   "outputs": [
    {
     "data": {
      "text/plain": [
       "user_id         0\n",
       "age             0\n",
       "churn_date    462\n",
       "city            0\n",
       "first_name      0\n",
       "last_name       0\n",
       "reg_date        0\n",
       "tariff          0\n",
       "dtype: int64"
      ]
     },
     "execution_count": 12,
     "metadata": {},
     "output_type": "execute_result"
    }
   ],
   "source": [
    "users.isna().sum()"
   ]
  },
  {
   "cell_type": "markdown",
   "metadata": {},
   "source": [
    "В датафрейме `users` есть пропуски только в одном столбце - `churn_date`. Там содержится информация о дате прекращения пользования тарифом, а пропущенные значения говорят о том, что тариф еще действовал на момент выгрузки данных. Поэтому удалять или заменять такие значения не нужно."
   ]
  },
  {
   "cell_type": "code",
   "execution_count": 13,
   "metadata": {},
   "outputs": [
    {
     "data": {
      "text/plain": [
       "id                  0\n",
       "call_date           0\n",
       "duration_minutes    0\n",
       "user_id             0\n",
       "dtype: int64"
      ]
     },
     "execution_count": 13,
     "metadata": {},
     "output_type": "execute_result"
    }
   ],
   "source": [
    "calls.isna().sum()"
   ]
  },
  {
   "cell_type": "code",
   "execution_count": 14,
   "metadata": {},
   "outputs": [
    {
     "data": {
      "text/plain": [
       "id              0\n",
       "message_date    0\n",
       "user_id         0\n",
       "dtype: int64"
      ]
     },
     "execution_count": 14,
     "metadata": {},
     "output_type": "execute_result"
    }
   ],
   "source": [
    "messages.isna().sum()"
   ]
  },
  {
   "cell_type": "code",
   "execution_count": 15,
   "metadata": {},
   "outputs": [
    {
     "data": {
      "text/plain": [
       "id              0\n",
       "mb_used         0\n",
       "session_date    0\n",
       "user_id         0\n",
       "dtype: int64"
      ]
     },
     "execution_count": 15,
     "metadata": {},
     "output_type": "execute_result"
    }
   ],
   "source": [
    "internet.isna().sum()"
   ]
  },
  {
   "cell_type": "markdown",
   "metadata": {},
   "source": [
    "В трех датафреймах с информацией о звонках, сообщениях и интернет-сессиях пропущенных значений не обнаружено."
   ]
  },
  {
   "cell_type": "markdown",
   "metadata": {},
   "source": [
    "### Обработка дубликатов"
   ]
  },
  {
   "cell_type": "markdown",
   "metadata": {},
   "source": [
    "#### Проверка на наличие явных дубликатов"
   ]
  },
  {
   "cell_type": "markdown",
   "metadata": {},
   "source": [
    "Проверю датафреймы на наличие явных дубликатов методом duplicated():"
   ]
  },
  {
   "cell_type": "code",
   "execution_count": 16,
   "metadata": {},
   "outputs": [
    {
     "data": {
      "text/plain": [
       "0"
      ]
     },
     "execution_count": 16,
     "metadata": {},
     "output_type": "execute_result"
    }
   ],
   "source": [
    "users.duplicated().sum()"
   ]
  },
  {
   "cell_type": "code",
   "execution_count": 17,
   "metadata": {},
   "outputs": [
    {
     "data": {
      "text/plain": [
       "0"
      ]
     },
     "execution_count": 17,
     "metadata": {},
     "output_type": "execute_result"
    }
   ],
   "source": [
    "calls.duplicated().sum()"
   ]
  },
  {
   "cell_type": "code",
   "execution_count": 18,
   "metadata": {},
   "outputs": [
    {
     "data": {
      "text/plain": [
       "0"
      ]
     },
     "execution_count": 18,
     "metadata": {},
     "output_type": "execute_result"
    }
   ],
   "source": [
    "messages.duplicated().sum()"
   ]
  },
  {
   "cell_type": "code",
   "execution_count": 19,
   "metadata": {},
   "outputs": [
    {
     "data": {
      "text/plain": [
       "0"
      ]
     },
     "execution_count": 19,
     "metadata": {},
     "output_type": "execute_result"
    }
   ],
   "source": [
    "internet.duplicated().sum()"
   ]
  },
  {
   "cell_type": "markdown",
   "metadata": {},
   "source": [
    "Явных дубликатов не обнаружено."
   ]
  },
  {
   "cell_type": "markdown",
   "metadata": {},
   "source": [
    "#### Проверка на наличие неявных дубликатов"
   ]
  },
  {
   "cell_type": "markdown",
   "metadata": {},
   "source": [
    "Теперь проверю два категориальных столбца `city` и `tariff` из таблицы `users` на наличие неявных дубликатов. Колонки с именем и фамилией также являются строковыми, но их на проверку неявных дубликатов я не рассматриваю."
   ]
  },
  {
   "cell_type": "code",
   "execution_count": 20,
   "metadata": {},
   "outputs": [
    {
     "name": "stdout",
     "output_type": "stream",
     "text": [
      "city: ['Архангельск', 'Астрахань', 'Балашиха', 'Барнаул', 'Белгород', 'Брянск', 'Владивосток', 'Владикавказ', 'Владимир', 'Волгоград', 'Волжский', 'Вологда', 'Воронеж', 'Грозный', 'Екатеринбург', 'Иваново', 'Ижевск', 'Иркутск', 'Казань', 'Калининград', 'Калуга', 'Кемерово', 'Киров', 'Кострома', 'Краснодар', 'Красноярск', 'Курган', 'Курск', 'Липецк', 'Магнитогорск', 'Махачкала', 'Москва', 'Мурманск', 'Набережные Челны', 'Нижневартовск', 'Нижний Новгород', 'Нижний Тагил', 'Новокузнецк', 'Новороссийск', 'Новосибирск', 'Омск', 'Оренбург', 'Орёл', 'Пенза', 'Пермь', 'Петрозаводск', 'Подольск', 'Ростов-на-Дону', 'Рязань', 'Самара', 'Санкт-Петербург', 'Саранск', 'Саратов', 'Севастополь', 'Смоленск', 'Сочи', 'Ставрополь', 'Стерлитамак', 'Сургут', 'Тамбов', 'Тверь', 'Тольятти', 'Томск', 'Тула', 'Тюмень', 'Улан-Удэ', 'Ульяновск', 'Уфа', 'Хабаровск', 'Химки', 'Чебоксары', 'Челябинск', 'Череповец', 'Чита', 'Якутск', 'Ярославль']\n",
      "\n",
      "tariff: ['smart', 'ultra']\n",
      "\n"
     ]
    }
   ],
   "source": [
    "for column in ['city', 'tariff']:\n",
    "    print(column, sorted(users[column].unique()), sep=': ', end='\\n\\n')"
   ]
  },
  {
   "cell_type": "markdown",
   "metadata": {},
   "source": [
    "Таким образом, дублирующихся значений в таблицах не оказалось."
   ]
  },
  {
   "cell_type": "markdown",
   "metadata": {},
   "source": [
    "### Округление значений в столбцах"
   ]
  },
  {
   "cell_type": "markdown",
   "metadata": {},
   "source": [
    "Округлю продолжительность звонков `duration_minutes` в таблице `calls` до большего целого значения, так как оператор округляет продолжительность звонка до минут после каждого звонка."
   ]
  },
  {
   "cell_type": "code",
   "execution_count": 21,
   "metadata": {},
   "outputs": [],
   "source": [
    "calls['duration_minutes'] = calls['duration_minutes'].apply(np.ceil)"
   ]
  },
  {
   "cell_type": "code",
   "execution_count": 22,
   "metadata": {},
   "outputs": [
    {
     "data": {
      "text/html": [
       "<div>\n",
       "<style scoped>\n",
       "    .dataframe tbody tr th:only-of-type {\n",
       "        vertical-align: middle;\n",
       "    }\n",
       "\n",
       "    .dataframe tbody tr th {\n",
       "        vertical-align: top;\n",
       "    }\n",
       "\n",
       "    .dataframe thead th {\n",
       "        text-align: right;\n",
       "    }\n",
       "</style>\n",
       "<table border=\"1\" class=\"dataframe\">\n",
       "  <thead>\n",
       "    <tr style=\"text-align: right;\">\n",
       "      <th></th>\n",
       "      <th>id</th>\n",
       "      <th>call_date</th>\n",
       "      <th>duration_minutes</th>\n",
       "      <th>user_id</th>\n",
       "    </tr>\n",
       "  </thead>\n",
       "  <tbody>\n",
       "    <tr>\n",
       "      <th>0</th>\n",
       "      <td>1000_0</td>\n",
       "      <td>2018-07-25</td>\n",
       "      <td>0.0</td>\n",
       "      <td>1000</td>\n",
       "    </tr>\n",
       "    <tr>\n",
       "      <th>1</th>\n",
       "      <td>1000_1</td>\n",
       "      <td>2018-08-17</td>\n",
       "      <td>0.0</td>\n",
       "      <td>1000</td>\n",
       "    </tr>\n",
       "    <tr>\n",
       "      <th>2</th>\n",
       "      <td>1000_2</td>\n",
       "      <td>2018-06-11</td>\n",
       "      <td>3.0</td>\n",
       "      <td>1000</td>\n",
       "    </tr>\n",
       "    <tr>\n",
       "      <th>3</th>\n",
       "      <td>1000_3</td>\n",
       "      <td>2018-09-21</td>\n",
       "      <td>14.0</td>\n",
       "      <td>1000</td>\n",
       "    </tr>\n",
       "    <tr>\n",
       "      <th>4</th>\n",
       "      <td>1000_4</td>\n",
       "      <td>2018-12-15</td>\n",
       "      <td>6.0</td>\n",
       "      <td>1000</td>\n",
       "    </tr>\n",
       "  </tbody>\n",
       "</table>\n",
       "</div>"
      ],
      "text/plain": [
       "       id  call_date  duration_minutes  user_id\n",
       "0  1000_0 2018-07-25               0.0     1000\n",
       "1  1000_1 2018-08-17               0.0     1000\n",
       "2  1000_2 2018-06-11               3.0     1000\n",
       "3  1000_3 2018-09-21              14.0     1000\n",
       "4  1000_4 2018-12-15               6.0     1000"
      ]
     },
     "execution_count": 22,
     "metadata": {},
     "output_type": "execute_result"
    }
   ],
   "source": [
    "calls.head()"
   ]
  },
  {
   "cell_type": "markdown",
   "metadata": {},
   "source": [
    "### Добавление новых столбцов"
   ]
  },
  {
   "cell_type": "markdown",
   "metadata": {},
   "source": [
    "В датафреймы `calls`, `messages`, `internet` добавлю новые столбцы с обозначением месяца совершенных действий:"
   ]
  },
  {
   "cell_type": "code",
   "execution_count": 23,
   "metadata": {},
   "outputs": [],
   "source": [
    " calls['month'] = calls['call_date'].dt.month"
   ]
  },
  {
   "cell_type": "code",
   "execution_count": 24,
   "metadata": {},
   "outputs": [],
   "source": [
    " messages['month'] = messages['message_date'].dt.month"
   ]
  },
  {
   "cell_type": "code",
   "execution_count": 25,
   "metadata": {},
   "outputs": [],
   "source": [
    " internet['month'] = internet['session_date'].dt.month"
   ]
  },
  {
   "cell_type": "markdown",
   "metadata": {},
   "source": [
    "В датафрейме `internet` cоздам новый столбец со значениями интернет-трафика в гигабайтах."
   ]
  },
  {
   "cell_type": "code",
   "execution_count": 26,
   "metadata": {},
   "outputs": [],
   "source": [
    "internet['gb_used'] = round(internet['mb_used'] / 1024, 3)"
   ]
  },
  {
   "cell_type": "markdown",
   "metadata": {},
   "source": [
    "### Создание новых датафреймов"
   ]
  },
  {
   "cell_type": "markdown",
   "metadata": {},
   "source": [
    "Создам новый датафрейм `calls_by_users`, в котором посчитаю для каждого пользователя количество сделанных звонков и израсходованных минут разговора по месяцам"
   ]
  },
  {
   "cell_type": "code",
   "execution_count": 27,
   "metadata": {},
   "outputs": [],
   "source": [
    "calls_by_users = calls.pivot_table(\n",
    "    index=['user_id', 'month'], values=['id', 'duration_minutes'],\n",
    "    aggfunc={'id': 'count', 'duration_minutes': 'sum'}\n",
    ")"
   ]
  },
  {
   "cell_type": "code",
   "execution_count": 28,
   "metadata": {},
   "outputs": [],
   "source": [
    "calls_by_users = calls_by_users.rename(columns={'id': 'calls_count'})"
   ]
  },
  {
   "cell_type": "code",
   "execution_count": 29,
   "metadata": {},
   "outputs": [
    {
     "data": {
      "text/html": [
       "<div>\n",
       "<style scoped>\n",
       "    .dataframe tbody tr th:only-of-type {\n",
       "        vertical-align: middle;\n",
       "    }\n",
       "\n",
       "    .dataframe tbody tr th {\n",
       "        vertical-align: top;\n",
       "    }\n",
       "\n",
       "    .dataframe thead th {\n",
       "        text-align: right;\n",
       "    }\n",
       "</style>\n",
       "<table border=\"1\" class=\"dataframe\">\n",
       "  <thead>\n",
       "    <tr style=\"text-align: right;\">\n",
       "      <th></th>\n",
       "      <th></th>\n",
       "      <th>duration_minutes</th>\n",
       "      <th>calls_count</th>\n",
       "    </tr>\n",
       "    <tr>\n",
       "      <th>user_id</th>\n",
       "      <th>month</th>\n",
       "      <th></th>\n",
       "      <th></th>\n",
       "    </tr>\n",
       "  </thead>\n",
       "  <tbody>\n",
       "    <tr>\n",
       "      <th rowspan=\"8\" valign=\"top\">1000</th>\n",
       "      <th>5</th>\n",
       "      <td>159.0</td>\n",
       "      <td>22</td>\n",
       "    </tr>\n",
       "    <tr>\n",
       "      <th>6</th>\n",
       "      <td>172.0</td>\n",
       "      <td>43</td>\n",
       "    </tr>\n",
       "    <tr>\n",
       "      <th>7</th>\n",
       "      <td>340.0</td>\n",
       "      <td>47</td>\n",
       "    </tr>\n",
       "    <tr>\n",
       "      <th>8</th>\n",
       "      <td>408.0</td>\n",
       "      <td>52</td>\n",
       "    </tr>\n",
       "    <tr>\n",
       "      <th>9</th>\n",
       "      <td>466.0</td>\n",
       "      <td>58</td>\n",
       "    </tr>\n",
       "    <tr>\n",
       "      <th>10</th>\n",
       "      <td>350.0</td>\n",
       "      <td>57</td>\n",
       "    </tr>\n",
       "    <tr>\n",
       "      <th>11</th>\n",
       "      <td>338.0</td>\n",
       "      <td>43</td>\n",
       "    </tr>\n",
       "    <tr>\n",
       "      <th>12</th>\n",
       "      <td>333.0</td>\n",
       "      <td>46</td>\n",
       "    </tr>\n",
       "    <tr>\n",
       "      <th rowspan=\"2\" valign=\"top\">1001</th>\n",
       "      <th>11</th>\n",
       "      <td>430.0</td>\n",
       "      <td>59</td>\n",
       "    </tr>\n",
       "    <tr>\n",
       "      <th>12</th>\n",
       "      <td>414.0</td>\n",
       "      <td>63</td>\n",
       "    </tr>\n",
       "    <tr>\n",
       "      <th rowspan=\"5\" valign=\"top\">1002</th>\n",
       "      <th>6</th>\n",
       "      <td>117.0</td>\n",
       "      <td>15</td>\n",
       "    </tr>\n",
       "    <tr>\n",
       "      <th>7</th>\n",
       "      <td>214.0</td>\n",
       "      <td>26</td>\n",
       "    </tr>\n",
       "    <tr>\n",
       "      <th>8</th>\n",
       "      <td>289.0</td>\n",
       "      <td>42</td>\n",
       "    </tr>\n",
       "    <tr>\n",
       "      <th>9</th>\n",
       "      <td>206.0</td>\n",
       "      <td>36</td>\n",
       "    </tr>\n",
       "    <tr>\n",
       "      <th>10</th>\n",
       "      <td>212.0</td>\n",
       "      <td>33</td>\n",
       "    </tr>\n",
       "  </tbody>\n",
       "</table>\n",
       "</div>"
      ],
      "text/plain": [
       "               duration_minutes  calls_count\n",
       "user_id month                               \n",
       "1000    5                 159.0           22\n",
       "        6                 172.0           43\n",
       "        7                 340.0           47\n",
       "        8                 408.0           52\n",
       "        9                 466.0           58\n",
       "        10                350.0           57\n",
       "        11                338.0           43\n",
       "        12                333.0           46\n",
       "1001    11                430.0           59\n",
       "        12                414.0           63\n",
       "1002    6                 117.0           15\n",
       "        7                 214.0           26\n",
       "        8                 289.0           42\n",
       "        9                 206.0           36\n",
       "        10                212.0           33"
      ]
     },
     "execution_count": 29,
     "metadata": {},
     "output_type": "execute_result"
    }
   ],
   "source": [
    "calls_by_users.head(15)"
   ]
  },
  {
   "cell_type": "markdown",
   "metadata": {},
   "source": [
    "Количество отправленных сообщений для каждого пользователя по месяцам сохраню в датафрейме `messages_by_users`:"
   ]
  },
  {
   "cell_type": "code",
   "execution_count": 30,
   "metadata": {},
   "outputs": [],
   "source": [
    "messages_by_users = messages.pivot_table(\n",
    "    index=['user_id', 'month'], values='id', aggfunc='count'\n",
    ")"
   ]
  },
  {
   "cell_type": "code",
   "execution_count": 31,
   "metadata": {},
   "outputs": [],
   "source": [
    "messages_by_users = messages_by_users.rename(columns={'id': 'messages_count'})"
   ]
  },
  {
   "cell_type": "code",
   "execution_count": 32,
   "metadata": {},
   "outputs": [
    {
     "data": {
      "text/html": [
       "<div>\n",
       "<style scoped>\n",
       "    .dataframe tbody tr th:only-of-type {\n",
       "        vertical-align: middle;\n",
       "    }\n",
       "\n",
       "    .dataframe tbody tr th {\n",
       "        vertical-align: top;\n",
       "    }\n",
       "\n",
       "    .dataframe thead th {\n",
       "        text-align: right;\n",
       "    }\n",
       "</style>\n",
       "<table border=\"1\" class=\"dataframe\">\n",
       "  <thead>\n",
       "    <tr style=\"text-align: right;\">\n",
       "      <th></th>\n",
       "      <th></th>\n",
       "      <th>messages_count</th>\n",
       "    </tr>\n",
       "    <tr>\n",
       "      <th>user_id</th>\n",
       "      <th>month</th>\n",
       "      <th></th>\n",
       "    </tr>\n",
       "  </thead>\n",
       "  <tbody>\n",
       "    <tr>\n",
       "      <th rowspan=\"8\" valign=\"top\">1000</th>\n",
       "      <th>5</th>\n",
       "      <td>22</td>\n",
       "    </tr>\n",
       "    <tr>\n",
       "      <th>6</th>\n",
       "      <td>60</td>\n",
       "    </tr>\n",
       "    <tr>\n",
       "      <th>7</th>\n",
       "      <td>75</td>\n",
       "    </tr>\n",
       "    <tr>\n",
       "      <th>8</th>\n",
       "      <td>81</td>\n",
       "    </tr>\n",
       "    <tr>\n",
       "      <th>9</th>\n",
       "      <td>57</td>\n",
       "    </tr>\n",
       "    <tr>\n",
       "      <th>10</th>\n",
       "      <td>73</td>\n",
       "    </tr>\n",
       "    <tr>\n",
       "      <th>11</th>\n",
       "      <td>58</td>\n",
       "    </tr>\n",
       "    <tr>\n",
       "      <th>12</th>\n",
       "      <td>70</td>\n",
       "    </tr>\n",
       "    <tr>\n",
       "      <th rowspan=\"7\" valign=\"top\">1002</th>\n",
       "      <th>6</th>\n",
       "      <td>4</td>\n",
       "    </tr>\n",
       "    <tr>\n",
       "      <th>7</th>\n",
       "      <td>11</td>\n",
       "    </tr>\n",
       "    <tr>\n",
       "      <th>8</th>\n",
       "      <td>13</td>\n",
       "    </tr>\n",
       "    <tr>\n",
       "      <th>9</th>\n",
       "      <td>4</td>\n",
       "    </tr>\n",
       "    <tr>\n",
       "      <th>10</th>\n",
       "      <td>10</td>\n",
       "    </tr>\n",
       "    <tr>\n",
       "      <th>11</th>\n",
       "      <td>16</td>\n",
       "    </tr>\n",
       "    <tr>\n",
       "      <th>12</th>\n",
       "      <td>12</td>\n",
       "    </tr>\n",
       "  </tbody>\n",
       "</table>\n",
       "</div>"
      ],
      "text/plain": [
       "               messages_count\n",
       "user_id month                \n",
       "1000    5                  22\n",
       "        6                  60\n",
       "        7                  75\n",
       "        8                  81\n",
       "        9                  57\n",
       "        10                 73\n",
       "        11                 58\n",
       "        12                 70\n",
       "1002    6                   4\n",
       "        7                  11\n",
       "        8                  13\n",
       "        9                   4\n",
       "        10                 10\n",
       "        11                 16\n",
       "        12                 12"
      ]
     },
     "execution_count": 32,
     "metadata": {},
     "output_type": "execute_result"
    }
   ],
   "source": [
    "messages_by_users.head(15)"
   ]
  },
  {
   "cell_type": "markdown",
   "metadata": {},
   "source": [
    "Объем израсходованного интернет-трафика для каждого пользователя по месяцам сохраню в датафрейме `internet_by_users`:"
   ]
  },
  {
   "cell_type": "code",
   "execution_count": 33,
   "metadata": {},
   "outputs": [],
   "source": [
    "internet_by_users = internet.pivot_table(\n",
    "    index=['user_id', 'month'], values='gb_used', aggfunc='sum'\n",
    ")"
   ]
  },
  {
   "cell_type": "code",
   "execution_count": 34,
   "metadata": {},
   "outputs": [
    {
     "data": {
      "text/html": [
       "<div>\n",
       "<style scoped>\n",
       "    .dataframe tbody tr th:only-of-type {\n",
       "        vertical-align: middle;\n",
       "    }\n",
       "\n",
       "    .dataframe tbody tr th {\n",
       "        vertical-align: top;\n",
       "    }\n",
       "\n",
       "    .dataframe thead th {\n",
       "        text-align: right;\n",
       "    }\n",
       "</style>\n",
       "<table border=\"1\" class=\"dataframe\">\n",
       "  <thead>\n",
       "    <tr style=\"text-align: right;\">\n",
       "      <th></th>\n",
       "      <th></th>\n",
       "      <th>gb_used</th>\n",
       "    </tr>\n",
       "    <tr>\n",
       "      <th>user_id</th>\n",
       "      <th>month</th>\n",
       "      <th></th>\n",
       "    </tr>\n",
       "  </thead>\n",
       "  <tbody>\n",
       "    <tr>\n",
       "      <th rowspan=\"8\" valign=\"top\">1000</th>\n",
       "      <th>5</th>\n",
       "      <td>2.201</td>\n",
       "    </tr>\n",
       "    <tr>\n",
       "      <th>6</th>\n",
       "      <td>22.687</td>\n",
       "    </tr>\n",
       "    <tr>\n",
       "      <th>7</th>\n",
       "      <td>13.677</td>\n",
       "    </tr>\n",
       "    <tr>\n",
       "      <th>8</th>\n",
       "      <td>13.727</td>\n",
       "    </tr>\n",
       "    <tr>\n",
       "      <th>9</th>\n",
       "      <td>14.226</td>\n",
       "    </tr>\n",
       "    <tr>\n",
       "      <th>10</th>\n",
       "      <td>14.359</td>\n",
       "    </tr>\n",
       "    <tr>\n",
       "      <th>11</th>\n",
       "      <td>14.410</td>\n",
       "    </tr>\n",
       "    <tr>\n",
       "      <th>12</th>\n",
       "      <td>9.589</td>\n",
       "    </tr>\n",
       "    <tr>\n",
       "      <th rowspan=\"2\" valign=\"top\">1001</th>\n",
       "      <th>11</th>\n",
       "      <td>17.997</td>\n",
       "    </tr>\n",
       "    <tr>\n",
       "      <th>12</th>\n",
       "      <td>13.707</td>\n",
       "    </tr>\n",
       "    <tr>\n",
       "      <th rowspan=\"5\" valign=\"top\">1002</th>\n",
       "      <th>6</th>\n",
       "      <td>10.601</td>\n",
       "    </tr>\n",
       "    <tr>\n",
       "      <th>7</th>\n",
       "      <td>17.169</td>\n",
       "    </tr>\n",
       "    <tr>\n",
       "      <th>8</th>\n",
       "      <td>19.844</td>\n",
       "    </tr>\n",
       "    <tr>\n",
       "      <th>9</th>\n",
       "      <td>16.298</td>\n",
       "    </tr>\n",
       "    <tr>\n",
       "      <th>10</th>\n",
       "      <td>13.564</td>\n",
       "    </tr>\n",
       "  </tbody>\n",
       "</table>\n",
       "</div>"
      ],
      "text/plain": [
       "               gb_used\n",
       "user_id month         \n",
       "1000    5        2.201\n",
       "        6       22.687\n",
       "        7       13.677\n",
       "        8       13.727\n",
       "        9       14.226\n",
       "        10      14.359\n",
       "        11      14.410\n",
       "        12       9.589\n",
       "1001    11      17.997\n",
       "        12      13.707\n",
       "1002    6       10.601\n",
       "        7       17.169\n",
       "        8       19.844\n",
       "        9       16.298\n",
       "        10      13.564"
      ]
     },
     "execution_count": 34,
     "metadata": {},
     "output_type": "execute_result"
    }
   ],
   "source": [
    "internet_by_users.head(15)"
   ]
  },
  {
   "cell_type": "markdown",
   "metadata": {},
   "source": [
    "Перезапишу данные в таблице `internet_by_users` в столбце `gb_used` и округлю значения трафика по месяцам для каждого пользователя, так как по условиям телеком-оператора отдельные сессии не считаются, а вместо этого плата взымается за каждый месяц с округлением израсходованного интренет-трафика до гигабайт."
   ]
  },
  {
   "cell_type": "code",
   "execution_count": 35,
   "metadata": {},
   "outputs": [
    {
     "data": {
      "text/html": [
       "<div>\n",
       "<style scoped>\n",
       "    .dataframe tbody tr th:only-of-type {\n",
       "        vertical-align: middle;\n",
       "    }\n",
       "\n",
       "    .dataframe tbody tr th {\n",
       "        vertical-align: top;\n",
       "    }\n",
       "\n",
       "    .dataframe thead th {\n",
       "        text-align: right;\n",
       "    }\n",
       "</style>\n",
       "<table border=\"1\" class=\"dataframe\">\n",
       "  <thead>\n",
       "    <tr style=\"text-align: right;\">\n",
       "      <th></th>\n",
       "      <th>user_id</th>\n",
       "      <th>month</th>\n",
       "      <th>gb_used</th>\n",
       "    </tr>\n",
       "  </thead>\n",
       "  <tbody>\n",
       "    <tr>\n",
       "      <th>0</th>\n",
       "      <td>1000</td>\n",
       "      <td>5</td>\n",
       "      <td>3</td>\n",
       "    </tr>\n",
       "    <tr>\n",
       "      <th>1</th>\n",
       "      <td>1000</td>\n",
       "      <td>6</td>\n",
       "      <td>23</td>\n",
       "    </tr>\n",
       "    <tr>\n",
       "      <th>2</th>\n",
       "      <td>1000</td>\n",
       "      <td>7</td>\n",
       "      <td>14</td>\n",
       "    </tr>\n",
       "    <tr>\n",
       "      <th>3</th>\n",
       "      <td>1000</td>\n",
       "      <td>8</td>\n",
       "      <td>14</td>\n",
       "    </tr>\n",
       "    <tr>\n",
       "      <th>4</th>\n",
       "      <td>1000</td>\n",
       "      <td>9</td>\n",
       "      <td>15</td>\n",
       "    </tr>\n",
       "    <tr>\n",
       "      <th>...</th>\n",
       "      <td>...</td>\n",
       "      <td>...</td>\n",
       "      <td>...</td>\n",
       "    </tr>\n",
       "    <tr>\n",
       "      <th>3198</th>\n",
       "      <td>1498</td>\n",
       "      <td>10</td>\n",
       "      <td>21</td>\n",
       "    </tr>\n",
       "    <tr>\n",
       "      <th>3199</th>\n",
       "      <td>1499</td>\n",
       "      <td>9</td>\n",
       "      <td>2</td>\n",
       "    </tr>\n",
       "    <tr>\n",
       "      <th>3200</th>\n",
       "      <td>1499</td>\n",
       "      <td>10</td>\n",
       "      <td>18</td>\n",
       "    </tr>\n",
       "    <tr>\n",
       "      <th>3201</th>\n",
       "      <td>1499</td>\n",
       "      <td>11</td>\n",
       "      <td>18</td>\n",
       "    </tr>\n",
       "    <tr>\n",
       "      <th>3202</th>\n",
       "      <td>1499</td>\n",
       "      <td>12</td>\n",
       "      <td>13</td>\n",
       "    </tr>\n",
       "  </tbody>\n",
       "</table>\n",
       "<p>3203 rows × 3 columns</p>\n",
       "</div>"
      ],
      "text/plain": [
       "      user_id  month  gb_used\n",
       "0        1000      5        3\n",
       "1        1000      6       23\n",
       "2        1000      7       14\n",
       "3        1000      8       14\n",
       "4        1000      9       15\n",
       "...       ...    ...      ...\n",
       "3198     1498     10       21\n",
       "3199     1499      9        2\n",
       "3200     1499     10       18\n",
       "3201     1499     11       18\n",
       "3202     1499     12       13\n",
       "\n",
       "[3203 rows x 3 columns]"
      ]
     },
     "execution_count": 35,
     "metadata": {},
     "output_type": "execute_result"
    }
   ],
   "source": [
    "internet_by_users['gb_used'] = internet_by_users['gb_used'].apply(np.ceil).astype('int32')\n",
    "internet_by_users.reset_index()"
   ]
  },
  {
   "cell_type": "code",
   "execution_count": 36,
   "metadata": {},
   "outputs": [
    {
     "data": {
      "text/html": [
       "<div>\n",
       "<style scoped>\n",
       "    .dataframe tbody tr th:only-of-type {\n",
       "        vertical-align: middle;\n",
       "    }\n",
       "\n",
       "    .dataframe tbody tr th {\n",
       "        vertical-align: top;\n",
       "    }\n",
       "\n",
       "    .dataframe thead th {\n",
       "        text-align: right;\n",
       "    }\n",
       "</style>\n",
       "<table border=\"1\" class=\"dataframe\">\n",
       "  <thead>\n",
       "    <tr style=\"text-align: right;\">\n",
       "      <th></th>\n",
       "      <th></th>\n",
       "      <th>gb_used</th>\n",
       "    </tr>\n",
       "    <tr>\n",
       "      <th>user_id</th>\n",
       "      <th>month</th>\n",
       "      <th></th>\n",
       "    </tr>\n",
       "  </thead>\n",
       "  <tbody>\n",
       "    <tr>\n",
       "      <th rowspan=\"8\" valign=\"top\">1000</th>\n",
       "      <th>5</th>\n",
       "      <td>3</td>\n",
       "    </tr>\n",
       "    <tr>\n",
       "      <th>6</th>\n",
       "      <td>23</td>\n",
       "    </tr>\n",
       "    <tr>\n",
       "      <th>7</th>\n",
       "      <td>14</td>\n",
       "    </tr>\n",
       "    <tr>\n",
       "      <th>8</th>\n",
       "      <td>14</td>\n",
       "    </tr>\n",
       "    <tr>\n",
       "      <th>9</th>\n",
       "      <td>15</td>\n",
       "    </tr>\n",
       "    <tr>\n",
       "      <th>10</th>\n",
       "      <td>15</td>\n",
       "    </tr>\n",
       "    <tr>\n",
       "      <th>11</th>\n",
       "      <td>15</td>\n",
       "    </tr>\n",
       "    <tr>\n",
       "      <th>12</th>\n",
       "      <td>10</td>\n",
       "    </tr>\n",
       "    <tr>\n",
       "      <th rowspan=\"2\" valign=\"top\">1001</th>\n",
       "      <th>11</th>\n",
       "      <td>18</td>\n",
       "    </tr>\n",
       "    <tr>\n",
       "      <th>12</th>\n",
       "      <td>14</td>\n",
       "    </tr>\n",
       "    <tr>\n",
       "      <th rowspan=\"5\" valign=\"top\">1002</th>\n",
       "      <th>6</th>\n",
       "      <td>11</td>\n",
       "    </tr>\n",
       "    <tr>\n",
       "      <th>7</th>\n",
       "      <td>18</td>\n",
       "    </tr>\n",
       "    <tr>\n",
       "      <th>8</th>\n",
       "      <td>20</td>\n",
       "    </tr>\n",
       "    <tr>\n",
       "      <th>9</th>\n",
       "      <td>17</td>\n",
       "    </tr>\n",
       "    <tr>\n",
       "      <th>10</th>\n",
       "      <td>14</td>\n",
       "    </tr>\n",
       "  </tbody>\n",
       "</table>\n",
       "</div>"
      ],
      "text/plain": [
       "               gb_used\n",
       "user_id month         \n",
       "1000    5            3\n",
       "        6           23\n",
       "        7           14\n",
       "        8           14\n",
       "        9           15\n",
       "        10          15\n",
       "        11          15\n",
       "        12          10\n",
       "1001    11          18\n",
       "        12          14\n",
       "1002    6           11\n",
       "        7           18\n",
       "        8           20\n",
       "        9           17\n",
       "        10          14"
      ]
     },
     "execution_count": 36,
     "metadata": {},
     "output_type": "execute_result"
    }
   ],
   "source": [
    "internet_by_users.head(15)"
   ]
  },
  {
   "cell_type": "markdown",
   "metadata": {},
   "source": [
    "### Объединение датафреймов"
   ]
  },
  {
   "cell_type": "markdown",
   "metadata": {},
   "source": [
    "После преобразований датафреймов объединю их между собой в одну таблицу и присвою название `users_stats`:"
   ]
  },
  {
   "cell_type": "code",
   "execution_count": 37,
   "metadata": {},
   "outputs": [],
   "source": [
    "users_stats = calls_by_users.merge(messages_by_users, on=['user_id', 'month'], how='outer')"
   ]
  },
  {
   "cell_type": "code",
   "execution_count": 38,
   "metadata": {},
   "outputs": [],
   "source": [
    "users_stats = users_stats.merge(internet_by_users, on=['user_id', 'month'], how='outer')"
   ]
  },
  {
   "cell_type": "code",
   "execution_count": 39,
   "metadata": {},
   "outputs": [
    {
     "data": {
      "text/html": [
       "<div>\n",
       "<style scoped>\n",
       "    .dataframe tbody tr th:only-of-type {\n",
       "        vertical-align: middle;\n",
       "    }\n",
       "\n",
       "    .dataframe tbody tr th {\n",
       "        vertical-align: top;\n",
       "    }\n",
       "\n",
       "    .dataframe thead th {\n",
       "        text-align: right;\n",
       "    }\n",
       "</style>\n",
       "<table border=\"1\" class=\"dataframe\">\n",
       "  <thead>\n",
       "    <tr style=\"text-align: right;\">\n",
       "      <th></th>\n",
       "      <th></th>\n",
       "      <th>duration_minutes</th>\n",
       "      <th>calls_count</th>\n",
       "      <th>messages_count</th>\n",
       "      <th>gb_used</th>\n",
       "    </tr>\n",
       "    <tr>\n",
       "      <th>user_id</th>\n",
       "      <th>month</th>\n",
       "      <th></th>\n",
       "      <th></th>\n",
       "      <th></th>\n",
       "      <th></th>\n",
       "    </tr>\n",
       "  </thead>\n",
       "  <tbody>\n",
       "    <tr>\n",
       "      <th rowspan=\"8\" valign=\"top\">1000</th>\n",
       "      <th>5</th>\n",
       "      <td>159.0</td>\n",
       "      <td>22.0</td>\n",
       "      <td>22.0</td>\n",
       "      <td>3.0</td>\n",
       "    </tr>\n",
       "    <tr>\n",
       "      <th>6</th>\n",
       "      <td>172.0</td>\n",
       "      <td>43.0</td>\n",
       "      <td>60.0</td>\n",
       "      <td>23.0</td>\n",
       "    </tr>\n",
       "    <tr>\n",
       "      <th>7</th>\n",
       "      <td>340.0</td>\n",
       "      <td>47.0</td>\n",
       "      <td>75.0</td>\n",
       "      <td>14.0</td>\n",
       "    </tr>\n",
       "    <tr>\n",
       "      <th>8</th>\n",
       "      <td>408.0</td>\n",
       "      <td>52.0</td>\n",
       "      <td>81.0</td>\n",
       "      <td>14.0</td>\n",
       "    </tr>\n",
       "    <tr>\n",
       "      <th>9</th>\n",
       "      <td>466.0</td>\n",
       "      <td>58.0</td>\n",
       "      <td>57.0</td>\n",
       "      <td>15.0</td>\n",
       "    </tr>\n",
       "    <tr>\n",
       "      <th>10</th>\n",
       "      <td>350.0</td>\n",
       "      <td>57.0</td>\n",
       "      <td>73.0</td>\n",
       "      <td>15.0</td>\n",
       "    </tr>\n",
       "    <tr>\n",
       "      <th>11</th>\n",
       "      <td>338.0</td>\n",
       "      <td>43.0</td>\n",
       "      <td>58.0</td>\n",
       "      <td>15.0</td>\n",
       "    </tr>\n",
       "    <tr>\n",
       "      <th>12</th>\n",
       "      <td>333.0</td>\n",
       "      <td>46.0</td>\n",
       "      <td>70.0</td>\n",
       "      <td>10.0</td>\n",
       "    </tr>\n",
       "    <tr>\n",
       "      <th rowspan=\"2\" valign=\"top\">1001</th>\n",
       "      <th>11</th>\n",
       "      <td>430.0</td>\n",
       "      <td>59.0</td>\n",
       "      <td>NaN</td>\n",
       "      <td>18.0</td>\n",
       "    </tr>\n",
       "    <tr>\n",
       "      <th>12</th>\n",
       "      <td>414.0</td>\n",
       "      <td>63.0</td>\n",
       "      <td>NaN</td>\n",
       "      <td>14.0</td>\n",
       "    </tr>\n",
       "    <tr>\n",
       "      <th rowspan=\"7\" valign=\"top\">1002</th>\n",
       "      <th>6</th>\n",
       "      <td>117.0</td>\n",
       "      <td>15.0</td>\n",
       "      <td>4.0</td>\n",
       "      <td>11.0</td>\n",
       "    </tr>\n",
       "    <tr>\n",
       "      <th>7</th>\n",
       "      <td>214.0</td>\n",
       "      <td>26.0</td>\n",
       "      <td>11.0</td>\n",
       "      <td>18.0</td>\n",
       "    </tr>\n",
       "    <tr>\n",
       "      <th>8</th>\n",
       "      <td>289.0</td>\n",
       "      <td>42.0</td>\n",
       "      <td>13.0</td>\n",
       "      <td>20.0</td>\n",
       "    </tr>\n",
       "    <tr>\n",
       "      <th>9</th>\n",
       "      <td>206.0</td>\n",
       "      <td>36.0</td>\n",
       "      <td>4.0</td>\n",
       "      <td>17.0</td>\n",
       "    </tr>\n",
       "    <tr>\n",
       "      <th>10</th>\n",
       "      <td>212.0</td>\n",
       "      <td>33.0</td>\n",
       "      <td>10.0</td>\n",
       "      <td>14.0</td>\n",
       "    </tr>\n",
       "    <tr>\n",
       "      <th>11</th>\n",
       "      <td>243.0</td>\n",
       "      <td>32.0</td>\n",
       "      <td>16.0</td>\n",
       "      <td>19.0</td>\n",
       "    </tr>\n",
       "    <tr>\n",
       "      <th>12</th>\n",
       "      <td>236.0</td>\n",
       "      <td>33.0</td>\n",
       "      <td>12.0</td>\n",
       "      <td>18.0</td>\n",
       "    </tr>\n",
       "    <tr>\n",
       "      <th rowspan=\"3\" valign=\"top\">1003</th>\n",
       "      <th>8</th>\n",
       "      <td>380.0</td>\n",
       "      <td>55.0</td>\n",
       "      <td>37.0</td>\n",
       "      <td>9.0</td>\n",
       "    </tr>\n",
       "    <tr>\n",
       "      <th>9</th>\n",
       "      <td>961.0</td>\n",
       "      <td>134.0</td>\n",
       "      <td>91.0</td>\n",
       "      <td>13.0</td>\n",
       "    </tr>\n",
       "    <tr>\n",
       "      <th>10</th>\n",
       "      <td>855.0</td>\n",
       "      <td>108.0</td>\n",
       "      <td>83.0</td>\n",
       "      <td>15.0</td>\n",
       "    </tr>\n",
       "  </tbody>\n",
       "</table>\n",
       "</div>"
      ],
      "text/plain": [
       "               duration_minutes  calls_count  messages_count  gb_used\n",
       "user_id month                                                        \n",
       "1000    5                 159.0         22.0            22.0      3.0\n",
       "        6                 172.0         43.0            60.0     23.0\n",
       "        7                 340.0         47.0            75.0     14.0\n",
       "        8                 408.0         52.0            81.0     14.0\n",
       "        9                 466.0         58.0            57.0     15.0\n",
       "        10                350.0         57.0            73.0     15.0\n",
       "        11                338.0         43.0            58.0     15.0\n",
       "        12                333.0         46.0            70.0     10.0\n",
       "1001    11                430.0         59.0             NaN     18.0\n",
       "        12                414.0         63.0             NaN     14.0\n",
       "1002    6                 117.0         15.0             4.0     11.0\n",
       "        7                 214.0         26.0            11.0     18.0\n",
       "        8                 289.0         42.0            13.0     20.0\n",
       "        9                 206.0         36.0             4.0     17.0\n",
       "        10                212.0         33.0            10.0     14.0\n",
       "        11                243.0         32.0            16.0     19.0\n",
       "        12                236.0         33.0            12.0     18.0\n",
       "1003    8                 380.0         55.0            37.0      9.0\n",
       "        9                 961.0        134.0            91.0     13.0\n",
       "        10                855.0        108.0            83.0     15.0"
      ]
     },
     "execution_count": 39,
     "metadata": {},
     "output_type": "execute_result"
    }
   ],
   "source": [
    "users_stats.head(20)"
   ]
  },
  {
   "cell_type": "code",
   "execution_count": 40,
   "metadata": {},
   "outputs": [],
   "source": [
    "users_stats = users_stats.reset_index(level=[0, 1])"
   ]
  },
  {
   "cell_type": "markdown",
   "metadata": {},
   "source": [
    "И теперь объединю данные двух таблиц в одну для дальнейшего анализа."
   ]
  },
  {
   "cell_type": "code",
   "execution_count": 41,
   "metadata": {},
   "outputs": [],
   "source": [
    "users_stats = users.merge(users_stats, on='user_id', how='left')"
   ]
  },
  {
   "cell_type": "code",
   "execution_count": 42,
   "metadata": {},
   "outputs": [
    {
     "data": {
      "text/html": [
       "<div>\n",
       "<style scoped>\n",
       "    .dataframe tbody tr th:only-of-type {\n",
       "        vertical-align: middle;\n",
       "    }\n",
       "\n",
       "    .dataframe tbody tr th {\n",
       "        vertical-align: top;\n",
       "    }\n",
       "\n",
       "    .dataframe thead th {\n",
       "        text-align: right;\n",
       "    }\n",
       "</style>\n",
       "<table border=\"1\" class=\"dataframe\">\n",
       "  <thead>\n",
       "    <tr style=\"text-align: right;\">\n",
       "      <th></th>\n",
       "      <th>user_id</th>\n",
       "      <th>age</th>\n",
       "      <th>churn_date</th>\n",
       "      <th>city</th>\n",
       "      <th>first_name</th>\n",
       "      <th>last_name</th>\n",
       "      <th>reg_date</th>\n",
       "      <th>tariff</th>\n",
       "      <th>month</th>\n",
       "      <th>duration_minutes</th>\n",
       "      <th>calls_count</th>\n",
       "      <th>messages_count</th>\n",
       "      <th>gb_used</th>\n",
       "    </tr>\n",
       "  </thead>\n",
       "  <tbody>\n",
       "    <tr>\n",
       "      <th>0</th>\n",
       "      <td>1000</td>\n",
       "      <td>52</td>\n",
       "      <td>NaT</td>\n",
       "      <td>Краснодар</td>\n",
       "      <td>Рафаил</td>\n",
       "      <td>Верещагин</td>\n",
       "      <td>2018-05-25</td>\n",
       "      <td>ultra</td>\n",
       "      <td>5.0</td>\n",
       "      <td>159.0</td>\n",
       "      <td>22.0</td>\n",
       "      <td>22.0</td>\n",
       "      <td>3.0</td>\n",
       "    </tr>\n",
       "    <tr>\n",
       "      <th>1</th>\n",
       "      <td>1000</td>\n",
       "      <td>52</td>\n",
       "      <td>NaT</td>\n",
       "      <td>Краснодар</td>\n",
       "      <td>Рафаил</td>\n",
       "      <td>Верещагин</td>\n",
       "      <td>2018-05-25</td>\n",
       "      <td>ultra</td>\n",
       "      <td>6.0</td>\n",
       "      <td>172.0</td>\n",
       "      <td>43.0</td>\n",
       "      <td>60.0</td>\n",
       "      <td>23.0</td>\n",
       "    </tr>\n",
       "    <tr>\n",
       "      <th>2</th>\n",
       "      <td>1000</td>\n",
       "      <td>52</td>\n",
       "      <td>NaT</td>\n",
       "      <td>Краснодар</td>\n",
       "      <td>Рафаил</td>\n",
       "      <td>Верещагин</td>\n",
       "      <td>2018-05-25</td>\n",
       "      <td>ultra</td>\n",
       "      <td>7.0</td>\n",
       "      <td>340.0</td>\n",
       "      <td>47.0</td>\n",
       "      <td>75.0</td>\n",
       "      <td>14.0</td>\n",
       "    </tr>\n",
       "    <tr>\n",
       "      <th>3</th>\n",
       "      <td>1000</td>\n",
       "      <td>52</td>\n",
       "      <td>NaT</td>\n",
       "      <td>Краснодар</td>\n",
       "      <td>Рафаил</td>\n",
       "      <td>Верещагин</td>\n",
       "      <td>2018-05-25</td>\n",
       "      <td>ultra</td>\n",
       "      <td>8.0</td>\n",
       "      <td>408.0</td>\n",
       "      <td>52.0</td>\n",
       "      <td>81.0</td>\n",
       "      <td>14.0</td>\n",
       "    </tr>\n",
       "    <tr>\n",
       "      <th>4</th>\n",
       "      <td>1000</td>\n",
       "      <td>52</td>\n",
       "      <td>NaT</td>\n",
       "      <td>Краснодар</td>\n",
       "      <td>Рафаил</td>\n",
       "      <td>Верещагин</td>\n",
       "      <td>2018-05-25</td>\n",
       "      <td>ultra</td>\n",
       "      <td>9.0</td>\n",
       "      <td>466.0</td>\n",
       "      <td>58.0</td>\n",
       "      <td>57.0</td>\n",
       "      <td>15.0</td>\n",
       "    </tr>\n",
       "    <tr>\n",
       "      <th>5</th>\n",
       "      <td>1000</td>\n",
       "      <td>52</td>\n",
       "      <td>NaT</td>\n",
       "      <td>Краснодар</td>\n",
       "      <td>Рафаил</td>\n",
       "      <td>Верещагин</td>\n",
       "      <td>2018-05-25</td>\n",
       "      <td>ultra</td>\n",
       "      <td>10.0</td>\n",
       "      <td>350.0</td>\n",
       "      <td>57.0</td>\n",
       "      <td>73.0</td>\n",
       "      <td>15.0</td>\n",
       "    </tr>\n",
       "    <tr>\n",
       "      <th>6</th>\n",
       "      <td>1000</td>\n",
       "      <td>52</td>\n",
       "      <td>NaT</td>\n",
       "      <td>Краснодар</td>\n",
       "      <td>Рафаил</td>\n",
       "      <td>Верещагин</td>\n",
       "      <td>2018-05-25</td>\n",
       "      <td>ultra</td>\n",
       "      <td>11.0</td>\n",
       "      <td>338.0</td>\n",
       "      <td>43.0</td>\n",
       "      <td>58.0</td>\n",
       "      <td>15.0</td>\n",
       "    </tr>\n",
       "    <tr>\n",
       "      <th>7</th>\n",
       "      <td>1000</td>\n",
       "      <td>52</td>\n",
       "      <td>NaT</td>\n",
       "      <td>Краснодар</td>\n",
       "      <td>Рафаил</td>\n",
       "      <td>Верещагин</td>\n",
       "      <td>2018-05-25</td>\n",
       "      <td>ultra</td>\n",
       "      <td>12.0</td>\n",
       "      <td>333.0</td>\n",
       "      <td>46.0</td>\n",
       "      <td>70.0</td>\n",
       "      <td>10.0</td>\n",
       "    </tr>\n",
       "    <tr>\n",
       "      <th>8</th>\n",
       "      <td>1001</td>\n",
       "      <td>41</td>\n",
       "      <td>NaT</td>\n",
       "      <td>Москва</td>\n",
       "      <td>Иван</td>\n",
       "      <td>Ежов</td>\n",
       "      <td>2018-11-01</td>\n",
       "      <td>smart</td>\n",
       "      <td>11.0</td>\n",
       "      <td>430.0</td>\n",
       "      <td>59.0</td>\n",
       "      <td>NaN</td>\n",
       "      <td>18.0</td>\n",
       "    </tr>\n",
       "    <tr>\n",
       "      <th>9</th>\n",
       "      <td>1001</td>\n",
       "      <td>41</td>\n",
       "      <td>NaT</td>\n",
       "      <td>Москва</td>\n",
       "      <td>Иван</td>\n",
       "      <td>Ежов</td>\n",
       "      <td>2018-11-01</td>\n",
       "      <td>smart</td>\n",
       "      <td>12.0</td>\n",
       "      <td>414.0</td>\n",
       "      <td>63.0</td>\n",
       "      <td>NaN</td>\n",
       "      <td>14.0</td>\n",
       "    </tr>\n",
       "  </tbody>\n",
       "</table>\n",
       "</div>"
      ],
      "text/plain": [
       "   user_id  age churn_date       city first_name  last_name   reg_date tariff  \\\n",
       "0     1000   52        NaT  Краснодар     Рафаил  Верещагин 2018-05-25  ultra   \n",
       "1     1000   52        NaT  Краснодар     Рафаил  Верещагин 2018-05-25  ultra   \n",
       "2     1000   52        NaT  Краснодар     Рафаил  Верещагин 2018-05-25  ultra   \n",
       "3     1000   52        NaT  Краснодар     Рафаил  Верещагин 2018-05-25  ultra   \n",
       "4     1000   52        NaT  Краснодар     Рафаил  Верещагин 2018-05-25  ultra   \n",
       "5     1000   52        NaT  Краснодар     Рафаил  Верещагин 2018-05-25  ultra   \n",
       "6     1000   52        NaT  Краснодар     Рафаил  Верещагин 2018-05-25  ultra   \n",
       "7     1000   52        NaT  Краснодар     Рафаил  Верещагин 2018-05-25  ultra   \n",
       "8     1001   41        NaT     Москва       Иван       Ежов 2018-11-01  smart   \n",
       "9     1001   41        NaT     Москва       Иван       Ежов 2018-11-01  smart   \n",
       "\n",
       "   month  duration_minutes  calls_count  messages_count  gb_used  \n",
       "0    5.0             159.0         22.0            22.0      3.0  \n",
       "1    6.0             172.0         43.0            60.0     23.0  \n",
       "2    7.0             340.0         47.0            75.0     14.0  \n",
       "3    8.0             408.0         52.0            81.0     14.0  \n",
       "4    9.0             466.0         58.0            57.0     15.0  \n",
       "5   10.0             350.0         57.0            73.0     15.0  \n",
       "6   11.0             338.0         43.0            58.0     15.0  \n",
       "7   12.0             333.0         46.0            70.0     10.0  \n",
       "8   11.0             430.0         59.0             NaN     18.0  \n",
       "9   12.0             414.0         63.0             NaN     14.0  "
      ]
     },
     "execution_count": 42,
     "metadata": {},
     "output_type": "execute_result"
    }
   ],
   "source": [
    "users_stats.head(10)"
   ]
  },
  {
   "cell_type": "code",
   "execution_count": 43,
   "metadata": {},
   "outputs": [
    {
     "name": "stdout",
     "output_type": "stream",
     "text": [
      "<class 'pandas.core.frame.DataFrame'>\n",
      "Int64Index: 3216 entries, 0 to 3215\n",
      "Data columns (total 13 columns):\n",
      " #   Column            Non-Null Count  Dtype         \n",
      "---  ------            --------------  -----         \n",
      " 0   user_id           3216 non-null   int64         \n",
      " 1   age               3216 non-null   int64         \n",
      " 2   churn_date        189 non-null    datetime64[ns]\n",
      " 3   city              3216 non-null   object        \n",
      " 4   first_name        3216 non-null   object        \n",
      " 5   last_name         3216 non-null   object        \n",
      " 6   reg_date          3216 non-null   datetime64[ns]\n",
      " 7   tariff            3216 non-null   object        \n",
      " 8   month             3214 non-null   float64       \n",
      " 9   duration_minutes  3174 non-null   float64       \n",
      " 10  calls_count       3174 non-null   float64       \n",
      " 11  messages_count    2717 non-null   float64       \n",
      " 12  gb_used           3203 non-null   float64       \n",
      "dtypes: datetime64[ns](2), float64(5), int64(2), object(4)\n",
      "memory usage: 351.8+ KB\n"
     ]
    }
   ],
   "source": [
    "users_stats.info()"
   ]
  },
  {
   "cell_type": "markdown",
   "metadata": {},
   "source": [
    "### Расчет выручки"
   ]
  },
  {
   "cell_type": "markdown",
   "metadata": {},
   "source": [
    "Для расчета выручки с каждого пользователя за месяц, напишу функцию calculate_revenue:"
   ]
  },
  {
   "cell_type": "code",
   "execution_count": 44,
   "metadata": {},
   "outputs": [],
   "source": [
    "def calculate_revenue(row):\n",
    "    tariff_name = row['tariff']\n",
    "    if tariff_name == 'smart':\n",
    "        tariff = tariffs.loc[0]\n",
    "    else:\n",
    "        tariff = tariffs.loc[1]\n",
    "        \n",
    "    revenue = tariff['rub_monthly_fee']\n",
    "    if row['duration_minutes'] > tariff['minutes_included']:\n",
    "        revenue += (row['duration_minutes'] - tariff['minutes_included']) * tariff['rub_per_minute']\n",
    "    if row['messages_count'] > tariff['messages_included']:\n",
    "        revenue += (row['messages_count'] - tariff['messages_included']) * tariff['rub_per_message']\n",
    "    if row['gb_used'] > tariff['mb_per_month_included'] / 1024:\n",
    "        revenue += (row['gb_used'] - tariff['mb_per_month_included'] / 1024) * tariff['rub_per_gb']\n",
    "    return revenue"
   ]
  },
  {
   "cell_type": "code",
   "execution_count": 45,
   "metadata": {},
   "outputs": [],
   "source": [
    "users_stats['revenue_by_month'] = users_stats.apply(calculate_revenue, axis=1)"
   ]
  },
  {
   "cell_type": "code",
   "execution_count": 46,
   "metadata": {},
   "outputs": [
    {
     "data": {
      "text/html": [
       "<div>\n",
       "<style scoped>\n",
       "    .dataframe tbody tr th:only-of-type {\n",
       "        vertical-align: middle;\n",
       "    }\n",
       "\n",
       "    .dataframe tbody tr th {\n",
       "        vertical-align: top;\n",
       "    }\n",
       "\n",
       "    .dataframe thead th {\n",
       "        text-align: right;\n",
       "    }\n",
       "</style>\n",
       "<table border=\"1\" class=\"dataframe\">\n",
       "  <thead>\n",
       "    <tr style=\"text-align: right;\">\n",
       "      <th></th>\n",
       "      <th>user_id</th>\n",
       "      <th>age</th>\n",
       "      <th>churn_date</th>\n",
       "      <th>city</th>\n",
       "      <th>first_name</th>\n",
       "      <th>last_name</th>\n",
       "      <th>reg_date</th>\n",
       "      <th>tariff</th>\n",
       "      <th>month</th>\n",
       "      <th>duration_minutes</th>\n",
       "      <th>calls_count</th>\n",
       "      <th>messages_count</th>\n",
       "      <th>gb_used</th>\n",
       "      <th>revenue_by_month</th>\n",
       "    </tr>\n",
       "  </thead>\n",
       "  <tbody>\n",
       "    <tr>\n",
       "      <th>0</th>\n",
       "      <td>1000</td>\n",
       "      <td>52</td>\n",
       "      <td>NaT</td>\n",
       "      <td>Краснодар</td>\n",
       "      <td>Рафаил</td>\n",
       "      <td>Верещагин</td>\n",
       "      <td>2018-05-25</td>\n",
       "      <td>ultra</td>\n",
       "      <td>5.0</td>\n",
       "      <td>159.0</td>\n",
       "      <td>22.0</td>\n",
       "      <td>22.0</td>\n",
       "      <td>3.0</td>\n",
       "      <td>1950.0</td>\n",
       "    </tr>\n",
       "    <tr>\n",
       "      <th>1</th>\n",
       "      <td>1000</td>\n",
       "      <td>52</td>\n",
       "      <td>NaT</td>\n",
       "      <td>Краснодар</td>\n",
       "      <td>Рафаил</td>\n",
       "      <td>Верещагин</td>\n",
       "      <td>2018-05-25</td>\n",
       "      <td>ultra</td>\n",
       "      <td>6.0</td>\n",
       "      <td>172.0</td>\n",
       "      <td>43.0</td>\n",
       "      <td>60.0</td>\n",
       "      <td>23.0</td>\n",
       "      <td>1950.0</td>\n",
       "    </tr>\n",
       "    <tr>\n",
       "      <th>2</th>\n",
       "      <td>1000</td>\n",
       "      <td>52</td>\n",
       "      <td>NaT</td>\n",
       "      <td>Краснодар</td>\n",
       "      <td>Рафаил</td>\n",
       "      <td>Верещагин</td>\n",
       "      <td>2018-05-25</td>\n",
       "      <td>ultra</td>\n",
       "      <td>7.0</td>\n",
       "      <td>340.0</td>\n",
       "      <td>47.0</td>\n",
       "      <td>75.0</td>\n",
       "      <td>14.0</td>\n",
       "      <td>1950.0</td>\n",
       "    </tr>\n",
       "    <tr>\n",
       "      <th>3</th>\n",
       "      <td>1000</td>\n",
       "      <td>52</td>\n",
       "      <td>NaT</td>\n",
       "      <td>Краснодар</td>\n",
       "      <td>Рафаил</td>\n",
       "      <td>Верещагин</td>\n",
       "      <td>2018-05-25</td>\n",
       "      <td>ultra</td>\n",
       "      <td>8.0</td>\n",
       "      <td>408.0</td>\n",
       "      <td>52.0</td>\n",
       "      <td>81.0</td>\n",
       "      <td>14.0</td>\n",
       "      <td>1950.0</td>\n",
       "    </tr>\n",
       "    <tr>\n",
       "      <th>4</th>\n",
       "      <td>1000</td>\n",
       "      <td>52</td>\n",
       "      <td>NaT</td>\n",
       "      <td>Краснодар</td>\n",
       "      <td>Рафаил</td>\n",
       "      <td>Верещагин</td>\n",
       "      <td>2018-05-25</td>\n",
       "      <td>ultra</td>\n",
       "      <td>9.0</td>\n",
       "      <td>466.0</td>\n",
       "      <td>58.0</td>\n",
       "      <td>57.0</td>\n",
       "      <td>15.0</td>\n",
       "      <td>1950.0</td>\n",
       "    </tr>\n",
       "  </tbody>\n",
       "</table>\n",
       "</div>"
      ],
      "text/plain": [
       "   user_id  age churn_date       city first_name  last_name   reg_date tariff  \\\n",
       "0     1000   52        NaT  Краснодар     Рафаил  Верещагин 2018-05-25  ultra   \n",
       "1     1000   52        NaT  Краснодар     Рафаил  Верещагин 2018-05-25  ultra   \n",
       "2     1000   52        NaT  Краснодар     Рафаил  Верещагин 2018-05-25  ultra   \n",
       "3     1000   52        NaT  Краснодар     Рафаил  Верещагин 2018-05-25  ultra   \n",
       "4     1000   52        NaT  Краснодар     Рафаил  Верещагин 2018-05-25  ultra   \n",
       "\n",
       "   month  duration_minutes  calls_count  messages_count  gb_used  \\\n",
       "0    5.0             159.0         22.0            22.0      3.0   \n",
       "1    6.0             172.0         43.0            60.0     23.0   \n",
       "2    7.0             340.0         47.0            75.0     14.0   \n",
       "3    8.0             408.0         52.0            81.0     14.0   \n",
       "4    9.0             466.0         58.0            57.0     15.0   \n",
       "\n",
       "   revenue_by_month  \n",
       "0            1950.0  \n",
       "1            1950.0  \n",
       "2            1950.0  \n",
       "3            1950.0  \n",
       "4            1950.0  "
      ]
     },
     "execution_count": 46,
     "metadata": {},
     "output_type": "execute_result"
    }
   ],
   "source": [
    "users_stats.head()"
   ]
  },
  {
   "cell_type": "markdown",
   "metadata": {},
   "source": [
    "## Анализ данных"
   ]
  },
  {
   "cell_type": "markdown",
   "metadata": {},
   "source": [
    "Чтобы проанализировать поведение пользователей двух тарифов, создам два датафрейма `smart_users_stats` и `ultra_users_stats`:"
   ]
  },
  {
   "cell_type": "code",
   "execution_count": 47,
   "metadata": {},
   "outputs": [],
   "source": [
    "smart_users_stats = users_stats.query('tariff == \"smart\"').reset_index(drop=True)"
   ]
  },
  {
   "cell_type": "code",
   "execution_count": 48,
   "metadata": {},
   "outputs": [],
   "source": [
    "ultra_users_stats = users_stats.query('tariff == \"ultra\"').reset_index(drop=True)"
   ]
  },
  {
   "cell_type": "code",
   "execution_count": 49,
   "metadata": {},
   "outputs": [
    {
     "name": "stdout",
     "output_type": "stream",
     "text": [
      "<class 'pandas.core.frame.DataFrame'>\n",
      "RangeIndex: 2230 entries, 0 to 2229\n",
      "Data columns (total 14 columns):\n",
      " #   Column            Non-Null Count  Dtype         \n",
      "---  ------            --------------  -----         \n",
      " 0   user_id           2230 non-null   int64         \n",
      " 1   age               2230 non-null   int64         \n",
      " 2   churn_date        112 non-null    datetime64[ns]\n",
      " 3   city              2230 non-null   object        \n",
      " 4   first_name        2230 non-null   object        \n",
      " 5   last_name         2230 non-null   object        \n",
      " 6   reg_date          2230 non-null   datetime64[ns]\n",
      " 7   tariff            2230 non-null   object        \n",
      " 8   month             2229 non-null   float64       \n",
      " 9   duration_minutes  2223 non-null   float64       \n",
      " 10  calls_count       2223 non-null   float64       \n",
      " 11  messages_count    1922 non-null   float64       \n",
      " 12  gb_used           2228 non-null   float64       \n",
      " 13  revenue_by_month  2230 non-null   float64       \n",
      "dtypes: datetime64[ns](2), float64(6), int64(2), object(4)\n",
      "memory usage: 244.0+ KB\n"
     ]
    }
   ],
   "source": [
    "smart_users_stats.info()"
   ]
  },
  {
   "cell_type": "code",
   "execution_count": 50,
   "metadata": {},
   "outputs": [
    {
     "name": "stdout",
     "output_type": "stream",
     "text": [
      "<class 'pandas.core.frame.DataFrame'>\n",
      "RangeIndex: 986 entries, 0 to 985\n",
      "Data columns (total 14 columns):\n",
      " #   Column            Non-Null Count  Dtype         \n",
      "---  ------            --------------  -----         \n",
      " 0   user_id           986 non-null    int64         \n",
      " 1   age               986 non-null    int64         \n",
      " 2   churn_date        77 non-null     datetime64[ns]\n",
      " 3   city              986 non-null    object        \n",
      " 4   first_name        986 non-null    object        \n",
      " 5   last_name         986 non-null    object        \n",
      " 6   reg_date          986 non-null    datetime64[ns]\n",
      " 7   tariff            986 non-null    object        \n",
      " 8   month             985 non-null    float64       \n",
      " 9   duration_minutes  951 non-null    float64       \n",
      " 10  calls_count       951 non-null    float64       \n",
      " 11  messages_count    795 non-null    float64       \n",
      " 12  gb_used           975 non-null    float64       \n",
      " 13  revenue_by_month  986 non-null    float64       \n",
      "dtypes: datetime64[ns](2), float64(6), int64(2), object(4)\n",
      "memory usage: 108.0+ KB\n"
     ]
    }
   ],
   "source": [
    "ultra_users_stats.info()"
   ]
  },
  {
   "cell_type": "markdown",
   "metadata": {},
   "source": [
    "Получив два датафрейма с выборками клиентов оператора с разными тарифами, опишу их поведение, а именно посчитаю следующие статистики: среднее значение, медиану, дисперсию и стандартное отклонение для минут разговора, количества сообщений и объема интернет-трафика для двух тарифов соответственно."
   ]
  },
  {
   "cell_type": "markdown",
   "metadata": {},
   "source": [
    "**Анализ статистик для минут разговора `duration_minutes`:**"
   ]
  },
  {
   "cell_type": "code",
   "execution_count": 51,
   "metadata": {},
   "outputs": [
    {
     "data": {
      "text/html": [
       "<style  type=\"text/css\" >\n",
       "</style><table id=\"T_c2ffc_\" ><thead>    <tr>        <th class=\"blank level0\" ></th>        <th class=\"col_heading level0 col0\" colspan=\"4\">duration_minutes</th>    </tr>    <tr>        <th class=\"blank level1\" ></th>        <th class=\"col_heading level1 col0\" >median</th>        <th class=\"col_heading level1 col1\" >mean</th>        <th class=\"col_heading level1 col2\" >var</th>        <th class=\"col_heading level1 col3\" >std</th>    </tr>    <tr>        <th class=\"index_name level0\" >tariff</th>        <th class=\"blank\" ></th>        <th class=\"blank\" ></th>        <th class=\"blank\" ></th>        <th class=\"blank\" ></th>    </tr></thead><tbody>\n",
       "                <tr>\n",
       "                        <th id=\"T_c2ffc_level0_row0\" class=\"row_heading level0 row0\" >smart</th>\n",
       "                        <td id=\"T_c2ffc_row0_col0\" class=\"data row0 col0\" >423.00</td>\n",
       "                        <td id=\"T_c2ffc_row0_col1\" class=\"data row0 col1\" >419.06</td>\n",
       "                        <td id=\"T_c2ffc_row0_col2\" class=\"data row0 col2\" >35844.19</td>\n",
       "                        <td id=\"T_c2ffc_row0_col3\" class=\"data row0 col3\" >189.33</td>\n",
       "            </tr>\n",
       "            <tr>\n",
       "                        <th id=\"T_c2ffc_level0_row1\" class=\"row_heading level0 row1\" >ultra</th>\n",
       "                        <td id=\"T_c2ffc_row1_col0\" class=\"data row1 col0\" >528.00</td>\n",
       "                        <td id=\"T_c2ffc_row1_col1\" class=\"data row1 col1\" >545.45</td>\n",
       "                        <td id=\"T_c2ffc_row1_col2\" class=\"data row1 col2\" >94203.42</td>\n",
       "                        <td id=\"T_c2ffc_row1_col3\" class=\"data row1 col3\" >306.93</td>\n",
       "            </tr>\n",
       "    </tbody></table>"
      ],
      "text/plain": [
       "<pandas.io.formats.style.Styler at 0x7f5bb4a545e0>"
      ]
     },
     "execution_count": 51,
     "metadata": {},
     "output_type": "execute_result"
    }
   ],
   "source": [
    "users_stats.groupby('tariff').agg(\n",
    "    {'duration_minutes':['median','mean','var','std']}\n",
    ").style.format(\"{:.2f}\")"
   ]
  },
  {
   "cell_type": "markdown",
   "metadata": {},
   "source": [
    "Продолжительность разговоров за месяц у клиентов тарифа `ultra`, в среднем, больше, чем у клиентов `smart`. Среднее значение количества минут разговора отличается не сильно, при этом в тариф `ultra` включено 3000 минут разговора каждый месяц и пользователи не используют целиком этот пакет, а при этом платят телеком-компании больше почти в 4 раза, чем клиенты тарифа `smart`(у них включено 500 минут разговора, то есть большинство пользователей укладываются в пакет минут)."
   ]
  },
  {
   "cell_type": "markdown",
   "metadata": {},
   "source": [
    "Построю гистограммы распределения плотностей для исследуемого параметра:"
   ]
  },
  {
   "cell_type": "code",
   "execution_count": 52,
   "metadata": {},
   "outputs": [
    {
     "data": {
      "text/plain": [
       "Text(0.5, 1.0, 'a histogram of the density distribution for the duration of minutes')"
      ]
     },
     "execution_count": 52,
     "metadata": {},
     "output_type": "execute_result"
    },
    {
     "data": {
      "image/png": "[encoded data removed]",
      "text/plain": [
       "<Figure size 720x576 with 1 Axes>"
      ]
     },
     "metadata": {
      "needs_background": "light"
     },
     "output_type": "display_data"
    }
   ],
   "source": [
    "smart_hist = smart_users_stats.plot(\n",
    "    kind='kde', y='duration_minutes', label='smart'\n",
    ")\n",
    "ultra_users_stats.plot(\n",
    "    kind='kde', y='duration_minutes', ax=smart_hist, \n",
    "    legend=True, grid=True, label='ultra', figsize=(10,8)\n",
    ")\n",
    "plt.xlabel('duration minutes')\n",
    "plt.title('a histogram of the density distribution for the duration of minutes')"
   ]
  },
  {
   "cell_type": "markdown",
   "metadata": {},
   "source": [
    "Гистограммы плотностей для двух тарифов стремятся к нормальному распределению. Но гистограмма плотности распределения для тарифа `smart` лучше отображает нормальное распределение данных, поскольку содержит выборку из 2230 значений, а выборка для тарифа `ultra` - 986 значений. Более чем в два раза больше, а это значит, выборка для тарифа `smart` лучше отображает генеральную совокупность.\n",
    "\n",
    "\n",
    "У продолжительности звонков для тарифа `ultra` разброс данных шире, чем для тарифа `smart`, что также говорят и значения дисперсии. У обоих гистрограмм есть длинные хвосты, которые сигнализируют о том, что есть сильно продолжительные разговоры, а есть нулевые и стремящиеся к ним."
   ]
  },
  {
   "cell_type": "markdown",
   "metadata": {},
   "source": [
    "Чтобы оценить скошенность данных, построю диаграммы размаха и гистограммы частоты для двух тарифов:"
   ]
  },
  {
   "cell_type": "code",
   "execution_count": 53,
   "metadata": {},
   "outputs": [
    {
     "data": {
      "text/plain": [
       "<AxesSubplot:>"
      ]
     },
     "execution_count": 53,
     "metadata": {},
     "output_type": "execute_result"
    },
    {
     "data": {
      "image/png": "[encoded data removed]",
      "text/plain": [
       "<Figure size 720x576 with 1 Axes>"
      ]
     },
     "metadata": {
      "needs_background": "light"
     },
     "output_type": "display_data"
    }
   ],
   "source": [
    "smart_users_stats.boxplot(column='duration_minutes', figsize=(10,8))"
   ]
  },
  {
   "cell_type": "code",
   "execution_count": 54,
   "metadata": {},
   "outputs": [
    {
     "data": {
      "text/plain": [
       "423.0"
      ]
     },
     "execution_count": 54,
     "metadata": {},
     "output_type": "execute_result"
    }
   ],
   "source": [
    "smart_users_stats['duration_minutes'].median() # выведу значение медианы"
   ]
  },
  {
   "cell_type": "code",
   "execution_count": 55,
   "metadata": {},
   "outputs": [
    {
     "data": {
      "text/plain": [
       "<AxesSubplot:>"
      ]
     },
     "execution_count": 55,
     "metadata": {},
     "output_type": "execute_result"
    },
    {
     "data": {
      "image/png": "[encoded data removed]",
      "text/plain": [
       "<Figure size 720x576 with 1 Axes>"
      ]
     },
     "metadata": {
      "needs_background": "light"
     },
     "output_type": "display_data"
    }
   ],
   "source": [
    "ultra_users_stats.boxplot(column='duration_minutes', figsize=(10,8))"
   ]
  },
  {
   "cell_type": "code",
   "execution_count": 56,
   "metadata": {},
   "outputs": [
    {
     "data": {
      "text/plain": [
       "528.0"
      ]
     },
     "execution_count": 56,
     "metadata": {},
     "output_type": "execute_result"
    }
   ],
   "source": [
    "ultra_users_stats['duration_minutes'].median() # выведу значение медианы"
   ]
  },
  {
   "cell_type": "code",
   "execution_count": 57,
   "metadata": {},
   "outputs": [
    {
     "data": {
      "text/plain": [
       "Text(0.5, 1.0, 'frequency histogram for the duration of minutes')"
      ]
     },
     "execution_count": 57,
     "metadata": {},
     "output_type": "execute_result"
    },
    {
     "data": {
      "image/png": "[encoded data removed]",
      "text/plain": [
       "<Figure size 720x576 with 1 Axes>"
      ]
     },
     "metadata": {
      "needs_background": "light"
     },
     "output_type": "display_data"
    }
   ],
   "source": [
    "smart_hist = smart_users_stats.plot(\n",
    "    kind='hist', y='duration_minutes', label='smart', alpha=0.7, figsize=(10,8)\n",
    ")\n",
    "ultra_users_stats.plot(\n",
    "    kind='hist', y='duration_minutes', ax=smart_hist,\n",
    "    legend=True, grid=True, label='ultra', alpha=0.7\n",
    ")\n",
    "plt.xlabel('duration minutes')\n",
    "plt.title('frequency histogram for the duration of minutes')"
   ]
  },
  {
   "cell_type": "markdown",
   "metadata": {},
   "source": [
    "По построенным графикам наблюдается:\n",
    "- набор значений количества минут для тарифа `ultra` имеет положительную скошенность (данные скошены вправо). Также это отражает и значение медианы - 528, которая меньше среднего значения - 545;\n",
    "- набор данных количества минут для тарифа `smart` в целом не имеет скоса: на диаграмме размаха расстояние между медианой и первым квартилем практически равно расстоянию между медианой и третим квартилем, также об отсутствии скошенности говорят значение медианы - 423 и среднего - 419: разница почти незначительна."
   ]
  },
  {
   "cell_type": "markdown",
   "metadata": {},
   "source": [
    "**Анализ статистик для количества сообщений `messages_count`:**"
   ]
  },
  {
   "cell_type": "code",
   "execution_count": 58,
   "metadata": {},
   "outputs": [
    {
     "data": {
      "text/html": [
       "<style  type=\"text/css\" >\n",
       "</style><table id=\"T_51dee_\" ><thead>    <tr>        <th class=\"blank level0\" ></th>        <th class=\"col_heading level0 col0\" colspan=\"4\">messages_count</th>    </tr>    <tr>        <th class=\"blank level1\" ></th>        <th class=\"col_heading level1 col0\" >median</th>        <th class=\"col_heading level1 col1\" >mean</th>        <th class=\"col_heading level1 col2\" >var</th>        <th class=\"col_heading level1 col3\" >std</th>    </tr>    <tr>        <th class=\"index_name level0\" >tariff</th>        <th class=\"blank\" ></th>        <th class=\"blank\" ></th>        <th class=\"blank\" ></th>        <th class=\"blank\" ></th>    </tr></thead><tbody>\n",
       "                <tr>\n",
       "                        <th id=\"T_51dee_level0_row0\" class=\"row_heading level0 row0\" >smart</th>\n",
       "                        <td id=\"T_51dee_row0_col0\" class=\"data row0 col0\" >34.00</td>\n",
       "                        <td id=\"T_51dee_row0_col1\" class=\"data row0 col1\" >38.72</td>\n",
       "                        <td id=\"T_51dee_row0_col2\" class=\"data row0 col2\" >717.59</td>\n",
       "                        <td id=\"T_51dee_row0_col3\" class=\"data row0 col3\" >26.79</td>\n",
       "            </tr>\n",
       "            <tr>\n",
       "                        <th id=\"T_51dee_level0_row1\" class=\"row_heading level0 row1\" >ultra</th>\n",
       "                        <td id=\"T_51dee_row1_col0\" class=\"data row1 col0\" >51.00</td>\n",
       "                        <td id=\"T_51dee_row1_col1\" class=\"data row1 col1\" >61.16</td>\n",
       "                        <td id=\"T_51dee_row1_col2\" class=\"data row1 col2\" >2109.66</td>\n",
       "                        <td id=\"T_51dee_row1_col3\" class=\"data row1 col3\" >45.93</td>\n",
       "            </tr>\n",
       "    </tbody></table>"
      ],
      "text/plain": [
       "<pandas.io.formats.style.Styler at 0x7f5bb48ddcd0>"
      ]
     },
     "execution_count": 58,
     "metadata": {},
     "output_type": "execute_result"
    }
   ],
   "source": [
    "users_stats.groupby('tariff').agg(\n",
    "    {'messages_count':['median','mean','var','std']}\n",
    ").style.format(\"{:.2f}\")"
   ]
  },
  {
   "cell_type": "markdown",
   "metadata": {},
   "source": [
    "Пользователи тарифа `ultra`, в среднем, за месяц отправляют больше сообщений, чем пользователи тарифа `smart`. Разница между значениями среднего небольшая, не смотря на то, что в тариф `ultra` включено 1000 сообщений, пользователи не используют целиком этот пакет, а за абанентскую плату платят почти в 4 раза больше, чем клиенты тарифа `smart` (у них включено 50 сообщений, то есть большинство пользователей укладываются в пакет количества включенных сообщений)."
   ]
  },
  {
   "cell_type": "markdown",
   "metadata": {},
   "source": [
    "Гистограммы распределения плотности для параметра `messages_count`:"
   ]
  },
  {
   "cell_type": "code",
   "execution_count": 59,
   "metadata": {},
   "outputs": [
    {
     "data": {
      "text/plain": [
       "Text(0.5, 1.0, 'histogram of the distribution density for the number of messages')"
      ]
     },
     "execution_count": 59,
     "metadata": {},
     "output_type": "execute_result"
    },
    {
     "data": {
      "image/png": "[encoded data removed]",
      "text/plain": [
       "<Figure size 720x576 with 1 Axes>"
      ]
     },
     "metadata": {
      "needs_background": "light"
     },
     "output_type": "display_data"
    }
   ],
   "source": [
    "smart_hist = smart_users_stats.plot(\n",
    "    kind='kde', y='messages_count', label='smart'\n",
    ")\n",
    "ultra_users_stats.plot(\n",
    "    kind='kde', y='messages_count', ax=smart_hist, \n",
    "    legend=True, grid=True, label='ultra', figsize=(10,8)\n",
    ")\n",
    "plt.xlabel('messages count')\n",
    "plt.title('histogram of the distribution density for the number of messages')"
   ]
  },
  {
   "cell_type": "markdown",
   "metadata": {},
   "source": [
    "Гистограммы плотностей количества сообщений для двух тарифов стремятся к нормальному распределению. У количества сообщений для тарифа `ultra` разброс данных шире, чем для тарифа `smart`, что также показывают и значения дисперсии. \n",
    "У гистрограммы для тарифа `ultra` есть длинный хвост, который говорит о том, что есть пользователи, которые отправляют большое количество сообщений, а есть те, кто не отправляет их вовсе."
   ]
  },
  {
   "cell_type": "markdown",
   "metadata": {},
   "source": [
    "Чтобы оценить скошенность данных, построю диаграммы размаха и гистограммы частоты распределения для двух тарифов:"
   ]
  },
  {
   "cell_type": "code",
   "execution_count": 60,
   "metadata": {},
   "outputs": [
    {
     "data": {
      "text/plain": [
       "<AxesSubplot:>"
      ]
     },
     "execution_count": 60,
     "metadata": {},
     "output_type": "execute_result"
    },
    {
     "data": {
      "image/png": "[encoded data removed]",
      "text/plain": [
       "<Figure size 720x576 with 1 Axes>"
      ]
     },
     "metadata": {
      "needs_background": "light"
     },
     "output_type": "display_data"
    }
   ],
   "source": [
    "smart_users_stats.boxplot(column='messages_count', figsize=(10,8))"
   ]
  },
  {
   "cell_type": "code",
   "execution_count": 61,
   "metadata": {},
   "outputs": [
    {
     "data": {
      "text/plain": [
       "34.0"
      ]
     },
     "execution_count": 61,
     "metadata": {},
     "output_type": "execute_result"
    }
   ],
   "source": [
    "smart_users_stats['messages_count'].median() # выведу значение медианы"
   ]
  },
  {
   "cell_type": "code",
   "execution_count": 62,
   "metadata": {},
   "outputs": [
    {
     "data": {
      "text/plain": [
       "<AxesSubplot:>"
      ]
     },
     "execution_count": 62,
     "metadata": {},
     "output_type": "execute_result"
    },
    {
     "data": {
      "image/png": "[encoded data removed]",
      "text/plain": [
       "<Figure size 720x576 with 1 Axes>"
      ]
     },
     "metadata": {
      "needs_background": "light"
     },
     "output_type": "display_data"
    }
   ],
   "source": [
    "ultra_users_stats.boxplot(column='messages_count', figsize=(10,8))"
   ]
  },
  {
   "cell_type": "code",
   "execution_count": 63,
   "metadata": {},
   "outputs": [
    {
     "data": {
      "text/plain": [
       "51.0"
      ]
     },
     "execution_count": 63,
     "metadata": {},
     "output_type": "execute_result"
    }
   ],
   "source": [
    "ultra_users_stats['messages_count'].median() # выведу значение медианы"
   ]
  },
  {
   "cell_type": "code",
   "execution_count": 64,
   "metadata": {},
   "outputs": [
    {
     "data": {
      "text/plain": [
       "Text(0.5, 1.0, 'frequency histogram for the number of messages')"
      ]
     },
     "execution_count": 64,
     "metadata": {},
     "output_type": "execute_result"
    },
    {
     "data": {
      "image/png": "[encoded data removed]",
      "text/plain": [
       "<Figure size 720x576 with 1 Axes>"
      ]
     },
     "metadata": {
      "needs_background": "light"
     },
     "output_type": "display_data"
    }
   ],
   "source": [
    "smart_hist = smart_users_stats.plot(\n",
    "    kind='hist', y='messages_count', label='smart', alpha=0.7, figsize=(10,8)\n",
    ")\n",
    "ultra_users_stats.plot(\n",
    "    kind='hist', y='messages_count', ax=smart_hist,\n",
    "    legend=True, grid=True, label='ultra', alpha=0.7\n",
    ")\n",
    "plt.xlabel('messages count')\n",
    "plt.title('frequency histogram for the number of messages')"
   ]
  },
  {
   "cell_type": "markdown",
   "metadata": {},
   "source": [
    "Вывод: оба набора значений количества минут для двух тарифов имеют положительную скошенность. Об этом можно судить и по графикам, и по характеристикам положения: для скошенных наборов данных вправо медиана меньше среднего значения."
   ]
  },
  {
   "cell_type": "markdown",
   "metadata": {},
   "source": [
    "**Анализ статистик для объема интернет-трафика `gb_used`:**"
   ]
  },
  {
   "cell_type": "code",
   "execution_count": 65,
   "metadata": {},
   "outputs": [
    {
     "data": {
      "text/html": [
       "<style  type=\"text/css\" >\n",
       "</style><table id=\"T_2cb1d_\" ><thead>    <tr>        <th class=\"blank level0\" ></th>        <th class=\"col_heading level0 col0\" colspan=\"4\">gb_used</th>    </tr>    <tr>        <th class=\"blank level1\" ></th>        <th class=\"col_heading level1 col0\" >median</th>        <th class=\"col_heading level1 col1\" >mean</th>        <th class=\"col_heading level1 col2\" >var</th>        <th class=\"col_heading level1 col3\" >std</th>    </tr>    <tr>        <th class=\"index_name level0\" >tariff</th>        <th class=\"blank\" ></th>        <th class=\"blank\" ></th>        <th class=\"blank\" ></th>        <th class=\"blank\" ></th>    </tr></thead><tbody>\n",
       "                <tr>\n",
       "                        <th id=\"T_2cb1d_level0_row0\" class=\"row_heading level0 row0\" >smart</th>\n",
       "                        <td id=\"T_2cb1d_row0_col0\" class=\"data row0 col0\" >17.00</td>\n",
       "                        <td id=\"T_2cb1d_row0_col1\" class=\"data row0 col1\" >16.34</td>\n",
       "                        <td id=\"T_2cb1d_row0_col2\" class=\"data row0 col2\" >32.93</td>\n",
       "                        <td id=\"T_2cb1d_row0_col3\" class=\"data row0 col3\" >5.74</td>\n",
       "            </tr>\n",
       "            <tr>\n",
       "                        <th id=\"T_2cb1d_level0_row1\" class=\"row_heading level0 row1\" >ultra</th>\n",
       "                        <td id=\"T_2cb1d_row1_col0\" class=\"data row1 col0\" >19.00</td>\n",
       "                        <td id=\"T_2cb1d_row1_col1\" class=\"data row1 col1\" >19.69</td>\n",
       "                        <td id=\"T_2cb1d_row1_col2\" class=\"data row1 col2\" >94.16</td>\n",
       "                        <td id=\"T_2cb1d_row1_col3\" class=\"data row1 col3\" >9.70</td>\n",
       "            </tr>\n",
       "    </tbody></table>"
      ],
      "text/plain": [
       "<pandas.io.formats.style.Styler at 0x7f5bb350c520>"
      ]
     },
     "execution_count": 65,
     "metadata": {},
     "output_type": "execute_result"
    }
   ],
   "source": [
    "users_stats.groupby('tariff').agg(\n",
    "    {'gb_used':['median','mean','var','std']}\n",
    ").style.format(\"{:.2f}\")"
   ]
  },
  {
   "cell_type": "markdown",
   "metadata": {},
   "source": [
    "Пользователи тарифа `ultra` за месяц используют больше объема интернет-трафика, чем пользователи тарифа `smart`. Разница между значениями среднего небольшая, не смотря на то, что в тариф `ultra` включено 30Гб интернет-трафика, пользователи не используют целиком этот пакет, а за абанентскую плату платят почти в 4 раза больше, чем клиенты тарифа `smart`. "
   ]
  },
  {
   "cell_type": "markdown",
   "metadata": {},
   "source": [
    "Гистограммы распределения плотности для объема интернет-трафика `gb_used`:"
   ]
  },
  {
   "cell_type": "code",
   "execution_count": 66,
   "metadata": {},
   "outputs": [
    {
     "data": {
      "text/plain": [
       "Text(0.5, 1.0, 'density distribution histogram for internet traffic')"
      ]
     },
     "execution_count": 66,
     "metadata": {},
     "output_type": "execute_result"
    },
    {
     "data": {
      "image/png": "[encoded data removed]",
      "text/plain": [
       "<Figure size 720x576 with 1 Axes>"
      ]
     },
     "metadata": {
      "needs_background": "light"
     },
     "output_type": "display_data"
    }
   ],
   "source": [
    "smart_hist = smart_users_stats.plot(\n",
    "    kind='kde', y='gb_used', label='smart'\n",
    ")\n",
    "ultra_users_stats.plot(\n",
    "    kind='kde', y='gb_used', ax=smart_hist,\n",
    "    legend=True, grid=True, label='ultra', figsize=(10,8)\n",
    ")\n",
    "plt.xlabel('gb used')\n",
    "plt.title('density distribution histogram for internet traffic')"
   ]
  },
  {
   "cell_type": "markdown",
   "metadata": {},
   "source": [
    "По построенным гистограммам плотностей израсходованного интернет-трафика для двух тарифов, так же можно сделать вывод, что они стремятся к нормальному распределению. У интернет-трафика для тарифа `ultra` разброс данных шире, чем для тарифа `smart`, что также показывают и значения дисперсии. "
   ]
  },
  {
   "cell_type": "markdown",
   "metadata": {},
   "source": [
    "Чтобы оценить скошенность данных, построю диаграммы размаха и гистограммы частоты распределения для двух тарифов:"
   ]
  },
  {
   "cell_type": "code",
   "execution_count": 67,
   "metadata": {},
   "outputs": [
    {
     "data": {
      "text/plain": [
       "<AxesSubplot:>"
      ]
     },
     "execution_count": 67,
     "metadata": {},
     "output_type": "execute_result"
    },
    {
     "data": {
      "image/png": "[encoded data removed]",
      "text/plain": [
       "<Figure size 720x576 with 1 Axes>"
      ]
     },
     "metadata": {
      "needs_background": "light"
     },
     "output_type": "display_data"
    }
   ],
   "source": [
    "smart_users_stats.boxplot(column='gb_used', figsize=(10,8))"
   ]
  },
  {
   "cell_type": "code",
   "execution_count": 68,
   "metadata": {},
   "outputs": [
    {
     "data": {
      "text/plain": [
       "17.0"
      ]
     },
     "execution_count": 68,
     "metadata": {},
     "output_type": "execute_result"
    }
   ],
   "source": [
    "smart_users_stats['gb_used'].median() # выведу значение медианы"
   ]
  },
  {
   "cell_type": "code",
   "execution_count": 69,
   "metadata": {},
   "outputs": [
    {
     "data": {
      "text/plain": [
       "<AxesSubplot:>"
      ]
     },
     "execution_count": 69,
     "metadata": {},
     "output_type": "execute_result"
    },
    {
     "data": {
      "image/png": "[encoded data removed]",
      "text/plain": [
       "<Figure size 720x576 with 1 Axes>"
      ]
     },
     "metadata": {
      "needs_background": "light"
     },
     "output_type": "display_data"
    }
   ],
   "source": [
    "ultra_users_stats.boxplot(column='gb_used', figsize=(10,8))"
   ]
  },
  {
   "cell_type": "code",
   "execution_count": 70,
   "metadata": {},
   "outputs": [
    {
     "data": {
      "text/plain": [
       "19.0"
      ]
     },
     "execution_count": 70,
     "metadata": {},
     "output_type": "execute_result"
    }
   ],
   "source": [
    "ultra_users_stats['gb_used'].median() # выведу значение медианы"
   ]
  },
  {
   "cell_type": "code",
   "execution_count": 71,
   "metadata": {},
   "outputs": [
    {
     "data": {
      "text/plain": [
       "Text(0.5, 1.0, 'frequency histogram for internet traffic')"
      ]
     },
     "execution_count": 71,
     "metadata": {},
     "output_type": "execute_result"
    },
    {
     "data": {
      "image/png": "[encoded data removed]",
      "text/plain": [
       "<Figure size 720x576 with 1 Axes>"
      ]
     },
     "metadata": {
      "needs_background": "light"
     },
     "output_type": "display_data"
    }
   ],
   "source": [
    "smart_hist = smart_users_stats.plot(\n",
    "    kind='hist', y='gb_used', label='smart', alpha=0.7, figsize=(10,8)\n",
    ")\n",
    "ultra_users_stats.plot(\n",
    "    kind='hist', y='gb_used', ax=smart_hist,\n",
    "    legend=True, grid=True, label='ultra', alpha=0.7\n",
    ")\n",
    "plt.xlabel('gb used')\n",
    "plt.title('frequency histogram for internet traffic')"
   ]
  },
  {
   "cell_type": "markdown",
   "metadata": {},
   "source": [
    "Вывод:\n",
    "- набор данных количества минут для тарифов `smart` и `ultra` в целом не имеет скоса: на диаграмме размаха расстояние между медианой и первым квартилем практически равно расстоянию между медианой и третим квартилем, также об отсутствии скошенности говорят значения медианы и среднего: разница почти незначительна."
   ]
  },
  {
   "cell_type": "markdown",
   "metadata": {},
   "source": [
    "## Проверка гипотез"
   ]
  },
  {
   "cell_type": "markdown",
   "metadata": {},
   "source": [
    "Буду проверять **первую гипотезу** о равенстве средних двух генеральных совокупностей: **\"средняя выручка пользователей тарифов `ultra` и `smart` различаются\"**. \n",
    "\n",
    "Случайно взятыми выборками из двух ГС служат два датафрейма `smart_users_stats` и `ultra_users_stats`.\n",
    "\n",
    "Сформулирую две гипотезы:\n",
    "- нулевая гипотеза Н0: средняя выручка пользователей тарифов `smart` и `ultra` не различаются;\n",
    "- альтернативная гипотеза Н1: средняя выручка пользователей тарифов `smart` и `ultra` различаются."
   ]
  },
  {
   "cell_type": "markdown",
   "metadata": {},
   "source": [
    "Цель состоит в том, чтобы определить, какое утверждение - нулевое или альтернативное - лучше подтверждается данными, полученными из наших выборочных значений.\n",
    "Для определения статистической значимости используется p-value (или р-уровень значимости).\n",
    "Если при проверке нулевой гипотезы значение p-value получается меньше порогового (alpha), то вероятность получить такие данные очень низка, значит появляется основание отбросить нулевую гипотезу. Значит, недостаточно данных, чтобы отвергнуть альтернативную гипотезу и принять нулевую. А при p-value больше порогового значения alpha нулевая гипотеза не отвергается."
   ]
  },
  {
   "cell_type": "code",
   "execution_count": 72,
   "metadata": {},
   "outputs": [],
   "source": [
    "alpha = 0.05 # задаю пороговое значение alpha"
   ]
  },
  {
   "cell_type": "markdown",
   "metadata": {},
   "source": [
    "### Проверка данных на нормальность распределения"
   ]
  },
  {
   "cell_type": "markdown",
   "metadata": {},
   "source": [
    "Чтобы использовать t-критерий Стьюдента для проверки статистических гипотез необходимо убедиться в нормальности распределения данных, а именно проверить гипотезу о нормальности исходных данных. \n",
    "\n",
    "На примере данных об использованных гигабайтах с помощью критерия Шапиро-Уилка выполню проверку данных на нормальность распределения:"
   ]
  },
  {
   "cell_type": "code",
   "execution_count": 73,
   "metadata": {},
   "outputs": [
    {
     "name": "stdout",
     "output_type": "stream",
     "text": [
      "р-значение: 1.0\n",
      "Принять гипотезу о нормальности\n"
     ]
    }
   ],
   "source": [
    "stat, p_value = st.shapiro(users_stats['gb_used']) # критерий Шапиро-Уилка\n",
    "print('р-значение:', p_value)\n",
    "\n",
    "if p_value > alpha:\n",
    "    print('Принять гипотезу о нормальности')\n",
    "else:\n",
    "    print('Отклонить гипотезу о нормальности')"
   ]
  },
  {
   "cell_type": "markdown",
   "metadata": {},
   "source": [
    "Проверка выполнена, **данные распределены нормально**, можно использовать t-критерий Стьюдента для проверки статистических гипотез."
   ]
  },
  {
   "cell_type": "code",
   "execution_count": 74,
   "metadata": {},
   "outputs": [],
   "source": [
    "def check_p_value(results):\n",
    "    print('p-значение: ', results.pvalue)\n",
    "    if results.pvalue < alpha:\n",
    "        print(\"Отвергаем нулевую гипотезу\")\n",
    "    else:\n",
    "        print(\"Не получилось отвергнуть нулевую гипотезу\")"
   ]
  },
  {
   "cell_type": "markdown",
   "metadata": {},
   "source": [
    "Применю метод `scipy.stats.ttest_ind` для проверки гипотезы о равенстве среднего двух генеральных совокупностей по взятым из них выборкам. В качестве параметров задаю массивы, содержащие выборки, и параметр `equal_var=False`, который говорит о том, что дисперсии исследуемых выборок не равны."
   ]
  },
  {
   "cell_type": "code",
   "execution_count": 75,
   "metadata": {},
   "outputs": [],
   "source": [
    "results_revenue_tariff = st.ttest_ind(\n",
    "    smart_users_stats['revenue_by_month'], \n",
    "    ultra_users_stats['revenue_by_month'],\n",
    "    equal_var = False\n",
    ")"
   ]
  },
  {
   "cell_type": "code",
   "execution_count": 76,
   "metadata": {},
   "outputs": [
    {
     "name": "stdout",
     "output_type": "stream",
     "text": [
      "p-значение:  2.069515201500249e-250\n",
      "Отвергаем нулевую гипотезу\n"
     ]
    }
   ],
   "source": [
    "check_p_value(results_revenue_tariff)"
   ]
  },
  {
   "cell_type": "markdown",
   "metadata": {},
   "source": [
    "В результате, значение p-value настолько мало, что нулевая гипотеза отвергается в пользу альтернативной: средняя выручка пользователей тарифов `smart` и `ultra` различаются. "
   ]
  },
  {
   "cell_type": "markdown",
   "metadata": {},
   "source": [
    "Так как подтвердилась гипотеза о том, что выручки различаются, но пока не известно, какой тариф приносит больше денежных средств телеком-компании, то посчитаю среднее для двух выборок тарифов `smart` и `ultra`."
   ]
  },
  {
   "cell_type": "code",
   "execution_count": 77,
   "metadata": {},
   "outputs": [
    {
     "data": {
      "text/plain": [
       "1290"
      ]
     },
     "execution_count": 77,
     "metadata": {},
     "output_type": "execute_result"
    }
   ],
   "source": [
    "round(smart_users_stats['revenue_by_month'].mean())"
   ]
  },
  {
   "cell_type": "code",
   "execution_count": 78,
   "metadata": {},
   "outputs": [
    {
     "data": {
      "text/plain": [
       "2070"
      ]
     },
     "execution_count": 78,
     "metadata": {},
     "output_type": "execute_result"
    }
   ],
   "source": [
    "round(ultra_users_stats['revenue_by_month'].mean())"
   ]
  },
  {
   "cell_type": "markdown",
   "metadata": {},
   "source": [
    "По полученным данным, делаю **вывод, что клиенты тарифа `ultra` приносят в 1.6 раза больше выручки телеком-компании.**"
   ]
  },
  {
   "cell_type": "markdown",
   "metadata": {},
   "source": [
    "**Вторая гипотеза** о равенстве средних двух генеральных совокупностей звучит следующим образом: **\"средняя выручка пользователей из Москвы отличается от выручки пользователей из других регионов\".**"
   ]
  },
  {
   "cell_type": "markdown",
   "metadata": {},
   "source": [
    "Для начала создам две переменные `moscow_revenue` и `region_revenue`, в которые сохраню Series со значениями выручки по месяцам для пользователей из Москвы и пользователей из региона соответственно."
   ]
  },
  {
   "cell_type": "code",
   "execution_count": 79,
   "metadata": {},
   "outputs": [
    {
     "data": {
      "text/plain": [
       "0    1150.0\n",
       "1     550.0\n",
       "2    1950.0\n",
       "3    1950.0\n",
       "4    1950.0\n",
       "Name: revenue_by_month, dtype: float64"
      ]
     },
     "execution_count": 79,
     "metadata": {},
     "output_type": "execute_result"
    }
   ],
   "source": [
    "moscow_revenue = users_stats.query('city == \"Москва\"').reset_index(drop=True)['revenue_by_month']\n",
    "moscow_revenue.head()"
   ]
  },
  {
   "cell_type": "code",
   "execution_count": 80,
   "metadata": {},
   "outputs": [
    {
     "data": {
      "text/plain": [
       "0    1950.0\n",
       "1    1950.0\n",
       "2    1950.0\n",
       "3    1950.0\n",
       "4    1950.0\n",
       "Name: revenue_by_month, dtype: float64"
      ]
     },
     "execution_count": 80,
     "metadata": {},
     "output_type": "execute_result"
    }
   ],
   "source": [
    "region_revenue = users_stats.query('city != \"Москва\"').reset_index(drop=True)['revenue_by_month']\n",
    "region_revenue.head()"
   ]
  },
  {
   "cell_type": "markdown",
   "metadata": {},
   "source": [
    "Здесь случайно взятыми выборками из двух ГС являются две переменные `moscow_revenue` и `region_revenue`."
   ]
  },
  {
   "cell_type": "markdown",
   "metadata": {},
   "source": [
    "Сформулирую гипотезы:\n",
    "- нулевая гипотеза Н0: средняя выручка пользователей из Москвы не отличается от выручки пользователей из других регионов;\n",
    "- альтернативная гипотеза Н1: средняя выручка пользователей из Москвы отличается от выручки пользователей из других регионов."
   ]
  },
  {
   "cell_type": "code",
   "execution_count": 81,
   "metadata": {},
   "outputs": [],
   "source": [
    "results_revenie_city = st.ttest_ind(\n",
    "    moscow_revenue, region_revenue, equal_var = False\n",
    ")"
   ]
  },
  {
   "cell_type": "code",
   "execution_count": 82,
   "metadata": {},
   "outputs": [
    {
     "name": "stdout",
     "output_type": "stream",
     "text": [
      "p-значение:  0.5202672108270561\n",
      "Не получилось отвергнуть нулевую гипотезу\n"
     ]
    }
   ],
   "source": [
    "check_p_value(results_revenie_city)"
   ]
  },
  {
   "cell_type": "markdown",
   "metadata": {},
   "source": [
    "**Вывод:** при определении статистической значимости значение p-value равняется 0.52, то есть вероятность получить такие результаты (как в определении нулевой гипотезы) составляет 52%. Это значит, что нам не хватает данных, чтобы подтвердить альтернативную гипотезу и отвергнуть нулевую гипотезу, и поэтому принимается нулевая: **средняя выручка пользователей из Москвы не отличается от выручки пользователей из других регионов.**"
   ]
  },
  {
   "cell_type": "markdown",
   "metadata": {},
   "source": [
    "## Общий вывод"
   ]
  },
  {
   "cell_type": "markdown",
   "metadata": {},
   "source": [
    "После проведенного анализа выборочных данных генеральной совокупности клиентов телеком-компании я сделала следующие выводы:\n",
    "- средняя выручка пользователей тарифов `smart` и `ultra` различаются, а именно клиенты тарифа `ultra` приносят больше выручки телеком-компании в 1.6 раза. Платя за абонентскую плату 1950 рублей, большинство клиентов `ultra` не тратят все пакеты услуг (минуты, сообщения и интренет), но при этом приносят стабильный доход. В то время как пользователи тарифа `smart` платят 550 руб, но практически полностью используют включенные пакеты;\n",
    "- вторая статистически не подтвержденная гипотеза говорит о том, что выручки для клиентов из Москвы и региона не отличаются. Значит на связь люди тратят примерно одинаковый объем средств."
   ]
  },
  {
   "cell_type": "code",
   "execution_count": null,
   "metadata": {},
   "outputs": [],
   "source": []
  }
 ],
 "metadata": {
  "ExecuteTimeLog": [
   {
    "duration": 588,
    "start_time": "2021-12-16T17:42:24.627Z"
   },
   {
    "duration": 21,
    "start_time": "2021-12-16T17:44:18.045Z"
   },
   {
    "duration": 176,
    "start_time": "2021-12-16T17:45:07.697Z"
   },
   {
    "duration": 1245,
    "start_time": "2021-12-16T17:46:01.759Z"
   },
   {
    "duration": 94,
    "start_time": "2021-12-16T17:46:32.247Z"
   },
   {
    "duration": 137,
    "start_time": "2021-12-16T17:47:17.034Z"
   },
   {
    "duration": 7,
    "start_time": "2021-12-16T17:51:49.031Z"
   },
   {
    "duration": 6,
    "start_time": "2021-12-16T17:52:44.929Z"
   },
   {
    "duration": 23,
    "start_time": "2021-12-16T17:53:08.177Z"
   },
   {
    "duration": 15,
    "start_time": "2021-12-16T17:53:52.766Z"
   },
   {
    "duration": 20,
    "start_time": "2021-12-16T17:54:30.475Z"
   },
   {
    "duration": 17,
    "start_time": "2021-12-16T17:59:28.294Z"
   },
   {
    "duration": 39,
    "start_time": "2021-12-16T18:00:25.070Z"
   },
   {
    "duration": 28,
    "start_time": "2021-12-16T18:01:13.827Z"
   },
   {
    "duration": 14,
    "start_time": "2021-12-16T18:01:58.867Z"
   },
   {
    "duration": 28,
    "start_time": "2021-12-16T18:02:51.537Z"
   },
   {
    "duration": 204,
    "start_time": "2021-12-16T18:09:02.041Z"
   },
   {
    "duration": 57,
    "start_time": "2021-12-16T18:12:23.323Z"
   },
   {
    "duration": 390,
    "start_time": "2021-12-16T18:12:30.162Z"
   },
   {
    "duration": 175,
    "start_time": "2021-12-16T18:12:44.931Z"
   },
   {
    "duration": 179,
    "start_time": "2021-12-16T18:13:54.788Z"
   },
   {
    "duration": 30,
    "start_time": "2021-12-16T18:16:09.676Z"
   },
   {
    "duration": 5,
    "start_time": "2021-12-16T18:16:18.213Z"
   },
   {
    "duration": 14,
    "start_time": "2021-12-16T18:16:28.816Z"
   },
   {
    "duration": 768,
    "start_time": "2021-12-17T06:12:14.294Z"
   },
   {
    "duration": 10,
    "start_time": "2021-12-17T06:12:15.064Z"
   },
   {
    "duration": 41,
    "start_time": "2021-12-17T06:12:15.076Z"
   },
   {
    "duration": 57,
    "start_time": "2021-12-17T06:12:15.120Z"
   },
   {
    "duration": 25,
    "start_time": "2021-12-17T06:12:15.179Z"
   },
   {
    "duration": 234,
    "start_time": "2021-12-17T06:12:15.207Z"
   },
   {
    "duration": 35,
    "start_time": "2021-12-17T06:12:15.444Z"
   },
   {
    "duration": 36,
    "start_time": "2021-12-17T06:12:15.483Z"
   },
   {
    "duration": 147,
    "start_time": "2021-12-17T06:12:15.521Z"
   },
   {
    "duration": 19,
    "start_time": "2021-12-17T06:12:15.671Z"
   },
   {
    "duration": 206,
    "start_time": "2021-12-17T06:12:15.693Z"
   },
   {
    "duration": 22,
    "start_time": "2021-12-17T06:12:15.901Z"
   },
   {
    "duration": 58,
    "start_time": "2021-12-17T06:12:15.925Z"
   },
   {
    "duration": 7,
    "start_time": "2021-12-17T06:12:15.985Z"
   },
   {
    "duration": 48,
    "start_time": "2021-12-17T06:12:15.994Z"
   },
   {
    "duration": 42,
    "start_time": "2021-12-17T06:14:45.163Z"
   },
   {
    "duration": 34,
    "start_time": "2021-12-17T06:16:25.675Z"
   },
   {
    "duration": 6,
    "start_time": "2021-12-17T06:50:53.036Z"
   },
   {
    "duration": 8,
    "start_time": "2021-12-17T06:58:17.039Z"
   },
   {
    "duration": 27,
    "start_time": "2021-12-17T06:58:35.927Z"
   },
   {
    "duration": 12,
    "start_time": "2021-12-17T06:58:49.183Z"
   },
   {
    "duration": 9,
    "start_time": "2021-12-17T07:03:50.593Z"
   },
   {
    "duration": 20,
    "start_time": "2021-12-17T07:09:32.820Z"
   },
   {
    "duration": 16,
    "start_time": "2021-12-17T07:09:56.708Z"
   },
   {
    "duration": 18,
    "start_time": "2021-12-17T07:10:13.540Z"
   },
   {
    "duration": 11,
    "start_time": "2021-12-17T07:16:09.014Z"
   },
   {
    "duration": 7,
    "start_time": "2021-12-17T07:17:47.549Z"
   },
   {
    "duration": 11,
    "start_time": "2021-12-17T07:18:02.928Z"
   },
   {
    "duration": 138,
    "start_time": "2021-12-17T07:40:25.187Z"
   },
   {
    "duration": 7,
    "start_time": "2021-12-17T07:44:36.353Z"
   },
   {
    "duration": 6,
    "start_time": "2021-12-17T07:54:04.309Z"
   },
   {
    "duration": 25,
    "start_time": "2021-12-17T08:33:41.980Z"
   },
   {
    "duration": 1138,
    "start_time": "2021-12-17T08:41:23.142Z"
   },
   {
    "duration": 9,
    "start_time": "2021-12-17T08:41:24.283Z"
   },
   {
    "duration": 51,
    "start_time": "2021-12-17T08:41:24.300Z"
   },
   {
    "duration": 54,
    "start_time": "2021-12-17T08:41:24.354Z"
   },
   {
    "duration": 57,
    "start_time": "2021-12-17T08:41:24.411Z"
   },
   {
    "duration": 289,
    "start_time": "2021-12-17T08:41:24.470Z"
   },
   {
    "duration": 31,
    "start_time": "2021-12-17T08:41:24.763Z"
   },
   {
    "duration": 61,
    "start_time": "2021-12-17T08:41:24.797Z"
   },
   {
    "duration": 134,
    "start_time": "2021-12-17T08:41:24.860Z"
   },
   {
    "duration": 20,
    "start_time": "2021-12-17T08:41:24.997Z"
   },
   {
    "duration": 234,
    "start_time": "2021-12-17T08:41:25.019Z"
   },
   {
    "duration": 27,
    "start_time": "2021-12-17T08:41:25.255Z"
   },
   {
    "duration": 100,
    "start_time": "2021-12-17T08:41:25.285Z"
   },
   {
    "duration": 12,
    "start_time": "2021-12-17T08:41:25.387Z"
   },
   {
    "duration": 24,
    "start_time": "2021-12-17T08:41:25.401Z"
   },
   {
    "duration": 81,
    "start_time": "2021-12-17T08:41:25.427Z"
   },
   {
    "duration": 27,
    "start_time": "2021-12-17T08:41:25.511Z"
   },
   {
    "duration": 43,
    "start_time": "2021-12-17T08:41:25.540Z"
   },
   {
    "duration": 23,
    "start_time": "2021-12-17T08:41:25.586Z"
   },
   {
    "duration": 39,
    "start_time": "2021-12-17T08:41:25.612Z"
   },
   {
    "duration": 54,
    "start_time": "2021-12-17T08:41:25.653Z"
   },
   {
    "duration": 13,
    "start_time": "2021-12-17T08:41:25.709Z"
   },
   {
    "duration": 43,
    "start_time": "2021-12-17T08:41:25.724Z"
   },
   {
    "duration": 22,
    "start_time": "2021-12-17T08:41:25.770Z"
   },
   {
    "duration": 34,
    "start_time": "2021-12-17T08:41:25.796Z"
   },
   {
    "duration": 32,
    "start_time": "2021-12-17T08:41:25.834Z"
   },
   {
    "duration": 28,
    "start_time": "2021-12-17T08:41:25.869Z"
   },
   {
    "duration": 55,
    "start_time": "2021-12-17T08:41:25.900Z"
   },
   {
    "duration": 13,
    "start_time": "2021-12-17T08:42:05.065Z"
   },
   {
    "duration": 5,
    "start_time": "2021-12-17T08:44:04.172Z"
   },
   {
    "duration": 13,
    "start_time": "2021-12-17T08:44:05.299Z"
   },
   {
    "duration": 1239,
    "start_time": "2021-12-17T08:44:14.830Z"
   },
   {
    "duration": 9,
    "start_time": "2021-12-17T08:44:16.072Z"
   },
   {
    "duration": 49,
    "start_time": "2021-12-17T08:44:16.084Z"
   },
   {
    "duration": 51,
    "start_time": "2021-12-17T08:44:16.136Z"
   },
   {
    "duration": 22,
    "start_time": "2021-12-17T08:44:16.189Z"
   },
   {
    "duration": 245,
    "start_time": "2021-12-17T08:44:16.213Z"
   },
   {
    "duration": 27,
    "start_time": "2021-12-17T08:44:16.460Z"
   },
   {
    "duration": 60,
    "start_time": "2021-12-17T08:44:16.489Z"
   },
   {
    "duration": 150,
    "start_time": "2021-12-17T08:44:16.553Z"
   },
   {
    "duration": 18,
    "start_time": "2021-12-17T08:44:16.706Z"
   },
   {
    "duration": 201,
    "start_time": "2021-12-17T08:44:16.727Z"
   },
   {
    "duration": 23,
    "start_time": "2021-12-17T08:44:16.930Z"
   },
   {
    "duration": 81,
    "start_time": "2021-12-17T08:44:16.955Z"
   },
   {
    "duration": 19,
    "start_time": "2021-12-17T08:44:17.039Z"
   },
   {
    "duration": 39,
    "start_time": "2021-12-17T08:44:17.060Z"
   },
   {
    "duration": 80,
    "start_time": "2021-12-17T08:44:17.101Z"
   },
   {
    "duration": 27,
    "start_time": "2021-12-17T08:44:17.184Z"
   },
   {
    "duration": 54,
    "start_time": "2021-12-17T08:44:17.213Z"
   },
   {
    "duration": 11,
    "start_time": "2021-12-17T08:44:17.270Z"
   },
   {
    "duration": 20,
    "start_time": "2021-12-17T08:44:17.284Z"
   },
   {
    "duration": 53,
    "start_time": "2021-12-17T08:44:17.308Z"
   },
   {
    "duration": 14,
    "start_time": "2021-12-17T08:44:17.364Z"
   },
   {
    "duration": 31,
    "start_time": "2021-12-17T08:44:17.382Z"
   },
   {
    "duration": 16,
    "start_time": "2021-12-17T08:44:17.415Z"
   },
   {
    "duration": 35,
    "start_time": "2021-12-17T08:44:17.434Z"
   },
   {
    "duration": 12,
    "start_time": "2021-12-17T08:44:17.472Z"
   },
   {
    "duration": 18,
    "start_time": "2021-12-17T08:44:17.491Z"
   },
   {
    "duration": 51,
    "start_time": "2021-12-17T08:44:17.512Z"
   },
   {
    "duration": 50,
    "start_time": "2021-12-17T08:44:17.565Z"
   },
   {
    "duration": 9291,
    "start_time": "2021-12-17T08:54:20.043Z"
   },
   {
    "duration": 9025,
    "start_time": "2021-12-17T08:55:14.740Z"
   },
   {
    "duration": 32,
    "start_time": "2021-12-17T08:55:40.883Z"
   },
   {
    "duration": 13,
    "start_time": "2021-12-17T08:55:55.419Z"
   },
   {
    "duration": 83,
    "start_time": "2021-12-17T08:58:59.003Z"
   },
   {
    "duration": 22,
    "start_time": "2021-12-17T09:00:46.237Z"
   },
   {
    "duration": 26,
    "start_time": "2021-12-17T09:01:32.360Z"
   },
   {
    "duration": 600,
    "start_time": "2021-12-19T11:10:52.646Z"
   },
   {
    "duration": 7,
    "start_time": "2021-12-19T11:10:53.248Z"
   },
   {
    "duration": 26,
    "start_time": "2021-12-19T11:10:53.257Z"
   },
   {
    "duration": 34,
    "start_time": "2021-12-19T11:10:53.285Z"
   },
   {
    "duration": 16,
    "start_time": "2021-12-19T11:10:53.320Z"
   },
   {
    "duration": 175,
    "start_time": "2021-12-19T11:10:53.337Z"
   },
   {
    "duration": 21,
    "start_time": "2021-12-19T11:10:53.514Z"
   },
   {
    "duration": 36,
    "start_time": "2021-12-19T11:10:53.538Z"
   },
   {
    "duration": 88,
    "start_time": "2021-12-19T11:10:53.576Z"
   },
   {
    "duration": 13,
    "start_time": "2021-12-19T11:10:53.666Z"
   },
   {
    "duration": 128,
    "start_time": "2021-12-19T11:10:53.691Z"
   },
   {
    "duration": 16,
    "start_time": "2021-12-19T11:10:53.821Z"
   },
   {
    "duration": 37,
    "start_time": "2021-12-19T11:10:53.840Z"
   },
   {
    "duration": 5,
    "start_time": "2021-12-19T11:10:53.879Z"
   },
   {
    "duration": 23,
    "start_time": "2021-12-19T11:10:53.892Z"
   },
   {
    "duration": 40,
    "start_time": "2021-12-19T11:10:53.916Z"
   },
   {
    "duration": 19,
    "start_time": "2021-12-19T11:10:53.958Z"
   },
   {
    "duration": 22,
    "start_time": "2021-12-19T11:10:53.979Z"
   },
   {
    "duration": 6,
    "start_time": "2021-12-19T11:10:54.003Z"
   },
   {
    "duration": 17,
    "start_time": "2021-12-19T11:10:54.011Z"
   },
   {
    "duration": 48,
    "start_time": "2021-12-19T11:10:54.030Z"
   },
   {
    "duration": 8,
    "start_time": "2021-12-19T11:10:54.080Z"
   },
   {
    "duration": 26,
    "start_time": "2021-12-19T11:10:54.092Z"
   },
   {
    "duration": 17,
    "start_time": "2021-12-19T11:10:54.120Z"
   },
   {
    "duration": 22,
    "start_time": "2021-12-19T11:10:54.139Z"
   },
   {
    "duration": 16,
    "start_time": "2021-12-19T11:10:54.163Z"
   },
   {
    "duration": 6,
    "start_time": "2021-12-19T11:10:54.181Z"
   },
   {
    "duration": 15,
    "start_time": "2021-12-19T11:10:54.189Z"
   },
   {
    "duration": 21,
    "start_time": "2021-12-19T11:10:54.205Z"
   },
   {
    "duration": 26,
    "start_time": "2021-12-19T11:10:54.228Z"
   },
   {
    "duration": 15,
    "start_time": "2021-12-19T11:10:54.256Z"
   },
   {
    "duration": 17,
    "start_time": "2021-12-19T11:10:54.273Z"
   },
   {
    "duration": 232,
    "start_time": "2021-12-19T11:10:56.708Z"
   },
   {
    "duration": 55,
    "start_time": "2021-12-19T11:11:14.084Z"
   },
   {
    "duration": 30,
    "start_time": "2021-12-19T11:11:32.685Z"
   },
   {
    "duration": 450,
    "start_time": "2021-12-19T11:12:00.932Z"
   },
   {
    "duration": 34,
    "start_time": "2021-12-19T11:12:13.931Z"
   },
   {
    "duration": 42,
    "start_time": "2021-12-19T11:13:14.146Z"
   },
   {
    "duration": 337,
    "start_time": "2021-12-19T11:20:27.293Z"
   },
   {
    "duration": 45,
    "start_time": "2021-12-19T11:21:05.070Z"
   },
   {
    "duration": 45,
    "start_time": "2021-12-19T11:23:59.595Z"
   },
   {
    "duration": 35,
    "start_time": "2021-12-19T11:27:53.827Z"
   },
   {
    "duration": 32,
    "start_time": "2021-12-19T11:37:53.560Z"
   },
   {
    "duration": 39,
    "start_time": "2021-12-19T11:42:32.419Z"
   },
   {
    "duration": 301,
    "start_time": "2021-12-19T11:42:32.460Z"
   },
   {
    "duration": 422,
    "start_time": "2021-12-19T11:42:32.764Z"
   },
   {
    "duration": 45,
    "start_time": "2021-12-19T11:42:33.188Z"
   },
   {
    "duration": 50,
    "start_time": "2021-12-19T11:42:33.235Z"
   },
   {
    "duration": 239,
    "start_time": "2021-12-19T11:42:33.287Z"
   },
   {
    "duration": 23,
    "start_time": "2021-12-19T11:42:33.528Z"
   },
   {
    "duration": 57,
    "start_time": "2021-12-19T11:42:33.556Z"
   },
   {
    "duration": 110,
    "start_time": "2021-12-19T11:42:33.617Z"
   },
   {
    "duration": 18,
    "start_time": "2021-12-19T11:42:33.730Z"
   },
   {
    "duration": 156,
    "start_time": "2021-12-19T11:42:33.750Z"
   },
   {
    "duration": 19,
    "start_time": "2021-12-19T11:42:33.909Z"
   },
   {
    "duration": 40,
    "start_time": "2021-12-19T11:42:33.930Z"
   },
   {
    "duration": 22,
    "start_time": "2021-12-19T11:42:33.971Z"
   },
   {
    "duration": 9,
    "start_time": "2021-12-19T11:42:33.995Z"
   },
   {
    "duration": 36,
    "start_time": "2021-12-19T11:42:34.006Z"
   },
   {
    "duration": 19,
    "start_time": "2021-12-19T11:42:34.044Z"
   },
   {
    "duration": 42,
    "start_time": "2021-12-19T11:42:34.068Z"
   },
   {
    "duration": 7,
    "start_time": "2021-12-19T11:42:34.112Z"
   },
   {
    "duration": 11,
    "start_time": "2021-12-19T11:42:34.121Z"
   },
   {
    "duration": 20,
    "start_time": "2021-12-19T11:42:34.134Z"
   },
   {
    "duration": 35,
    "start_time": "2021-12-19T11:42:34.156Z"
   },
   {
    "duration": 20,
    "start_time": "2021-12-19T11:42:34.193Z"
   },
   {
    "duration": 11,
    "start_time": "2021-12-19T11:42:34.215Z"
   },
   {
    "duration": 13,
    "start_time": "2021-12-19T11:42:34.227Z"
   },
   {
    "duration": 8,
    "start_time": "2021-12-19T11:42:34.241Z"
   },
   {
    "duration": 45,
    "start_time": "2021-12-19T11:42:34.252Z"
   },
   {
    "duration": 6,
    "start_time": "2021-12-19T11:42:34.299Z"
   },
   {
    "duration": 14,
    "start_time": "2021-12-19T11:42:34.306Z"
   },
   {
    "duration": 32,
    "start_time": "2021-12-19T11:42:34.322Z"
   },
   {
    "duration": 35,
    "start_time": "2021-12-19T11:42:34.356Z"
   },
   {
    "duration": 17,
    "start_time": "2021-12-19T11:42:34.393Z"
   },
   {
    "duration": 8,
    "start_time": "2021-12-19T11:42:40.888Z"
   },
   {
    "duration": 68,
    "start_time": "2021-12-19T11:42:44.554Z"
   },
   {
    "duration": 36,
    "start_time": "2021-12-19T11:42:46.150Z"
   },
   {
    "duration": 49,
    "start_time": "2021-12-19T11:42:48.493Z"
   },
   {
    "duration": 32,
    "start_time": "2021-12-19T11:43:03.080Z"
   },
   {
    "duration": 558,
    "start_time": "2021-12-19T11:43:25.456Z"
   },
   {
    "duration": 6,
    "start_time": "2021-12-19T11:43:26.016Z"
   },
   {
    "duration": 15,
    "start_time": "2021-12-19T11:43:26.024Z"
   },
   {
    "duration": 20,
    "start_time": "2021-12-19T11:43:26.041Z"
   },
   {
    "duration": 8,
    "start_time": "2021-12-19T11:43:26.063Z"
   },
   {
    "duration": 165,
    "start_time": "2021-12-19T11:43:26.073Z"
   },
   {
    "duration": 20,
    "start_time": "2021-12-19T11:43:26.239Z"
   },
   {
    "duration": 43,
    "start_time": "2021-12-19T11:43:26.260Z"
   },
   {
    "duration": 96,
    "start_time": "2021-12-19T11:43:26.305Z"
   },
   {
    "duration": 13,
    "start_time": "2021-12-19T11:43:26.403Z"
   },
   {
    "duration": 143,
    "start_time": "2021-12-19T11:43:26.417Z"
   },
   {
    "duration": 15,
    "start_time": "2021-12-19T11:43:26.562Z"
   },
   {
    "duration": 37,
    "start_time": "2021-12-19T11:43:26.579Z"
   },
   {
    "duration": 4,
    "start_time": "2021-12-19T11:43:26.618Z"
   },
   {
    "duration": 6,
    "start_time": "2021-12-19T11:43:26.624Z"
   },
   {
    "duration": 30,
    "start_time": "2021-12-19T11:43:26.632Z"
   },
   {
    "duration": 44,
    "start_time": "2021-12-19T11:43:26.664Z"
   },
   {
    "duration": 25,
    "start_time": "2021-12-19T11:43:26.709Z"
   },
   {
    "duration": 6,
    "start_time": "2021-12-19T11:43:26.735Z"
   },
   {
    "duration": 9,
    "start_time": "2021-12-19T11:43:26.743Z"
   },
   {
    "duration": 46,
    "start_time": "2021-12-19T11:43:26.754Z"
   },
   {
    "duration": 7,
    "start_time": "2021-12-19T11:43:26.802Z"
   },
   {
    "duration": 14,
    "start_time": "2021-12-19T11:43:26.811Z"
   },
   {
    "duration": 11,
    "start_time": "2021-12-19T11:43:26.827Z"
   },
   {
    "duration": 13,
    "start_time": "2021-12-19T11:43:26.839Z"
   },
   {
    "duration": 43,
    "start_time": "2021-12-19T11:43:26.854Z"
   },
   {
    "duration": 4,
    "start_time": "2021-12-19T11:43:26.902Z"
   },
   {
    "duration": 5,
    "start_time": "2021-12-19T11:43:26.907Z"
   },
   {
    "duration": 9,
    "start_time": "2021-12-19T11:43:26.913Z"
   },
   {
    "duration": 24,
    "start_time": "2021-12-19T11:43:26.923Z"
   },
   {
    "duration": 13,
    "start_time": "2021-12-19T11:43:26.949Z"
   },
   {
    "duration": 40,
    "start_time": "2021-12-19T11:43:26.964Z"
   },
   {
    "duration": 6,
    "start_time": "2021-12-19T11:43:27.006Z"
   },
   {
    "duration": 51,
    "start_time": "2021-12-19T11:43:27.013Z"
   },
   {
    "duration": 55,
    "start_time": "2021-12-19T11:43:27.065Z"
   },
   {
    "duration": 33,
    "start_time": "2021-12-19T11:43:27.122Z"
   },
   {
    "duration": 1104,
    "start_time": "2021-12-19T11:44:44.656Z"
   },
   {
    "duration": 6,
    "start_time": "2021-12-19T11:44:45.762Z"
   },
   {
    "duration": 15,
    "start_time": "2021-12-19T11:44:45.770Z"
   },
   {
    "duration": 20,
    "start_time": "2021-12-19T11:44:45.787Z"
   },
   {
    "duration": 8,
    "start_time": "2021-12-19T11:44:45.809Z"
   },
   {
    "duration": 155,
    "start_time": "2021-12-19T11:44:45.819Z"
   },
   {
    "duration": 27,
    "start_time": "2021-12-19T11:44:45.975Z"
   },
   {
    "duration": 26,
    "start_time": "2021-12-19T11:44:46.004Z"
   },
   {
    "duration": 102,
    "start_time": "2021-12-19T11:44:46.032Z"
   },
   {
    "duration": 18,
    "start_time": "2021-12-19T11:44:46.136Z"
   },
   {
    "duration": 157,
    "start_time": "2021-12-19T11:44:46.156Z"
   },
   {
    "duration": 17,
    "start_time": "2021-12-19T11:44:46.314Z"
   },
   {
    "duration": 31,
    "start_time": "2021-12-19T11:44:46.332Z"
   },
   {
    "duration": 12,
    "start_time": "2021-12-19T11:44:46.365Z"
   },
   {
    "duration": 34,
    "start_time": "2021-12-19T11:44:46.378Z"
   },
   {
    "duration": 47,
    "start_time": "2021-12-19T11:44:46.414Z"
   },
   {
    "duration": 18,
    "start_time": "2021-12-19T11:44:46.462Z"
   },
   {
    "duration": 23,
    "start_time": "2021-12-19T11:44:46.482Z"
   },
   {
    "duration": 6,
    "start_time": "2021-12-19T11:44:46.507Z"
   },
   {
    "duration": 12,
    "start_time": "2021-12-19T11:44:46.515Z"
   },
   {
    "duration": 21,
    "start_time": "2021-12-19T11:44:46.528Z"
   },
   {
    "duration": 7,
    "start_time": "2021-12-19T11:44:46.551Z"
   },
   {
    "duration": 38,
    "start_time": "2021-12-19T11:44:46.559Z"
   },
   {
    "duration": 10,
    "start_time": "2021-12-19T11:44:46.599Z"
   },
   {
    "duration": 12,
    "start_time": "2021-12-19T11:44:46.611Z"
   },
   {
    "duration": 7,
    "start_time": "2021-12-19T11:44:46.625Z"
   },
   {
    "duration": 4,
    "start_time": "2021-12-19T11:44:46.635Z"
   },
   {
    "duration": 5,
    "start_time": "2021-12-19T11:44:46.641Z"
   },
   {
    "duration": 45,
    "start_time": "2021-12-19T11:44:46.647Z"
   },
   {
    "duration": 22,
    "start_time": "2021-12-19T11:44:46.694Z"
   },
   {
    "duration": 15,
    "start_time": "2021-12-19T11:44:46.718Z"
   },
   {
    "duration": 18,
    "start_time": "2021-12-19T11:44:46.734Z"
   },
   {
    "duration": 7,
    "start_time": "2021-12-19T11:44:46.753Z"
   },
   {
    "duration": 79,
    "start_time": "2021-12-19T11:44:46.761Z"
   },
   {
    "duration": 33,
    "start_time": "2021-12-19T11:44:46.842Z"
   },
   {
    "duration": 48,
    "start_time": "2021-12-19T11:44:46.876Z"
   },
   {
    "duration": 651,
    "start_time": "2021-12-19T11:53:48.096Z"
   },
   {
    "duration": 7,
    "start_time": "2021-12-19T11:53:48.749Z"
   },
   {
    "duration": 17,
    "start_time": "2021-12-19T11:53:48.758Z"
   },
   {
    "duration": 20,
    "start_time": "2021-12-19T11:53:48.776Z"
   },
   {
    "duration": 7,
    "start_time": "2021-12-19T11:53:48.798Z"
   },
   {
    "duration": 154,
    "start_time": "2021-12-19T11:53:48.807Z"
   },
   {
    "duration": 32,
    "start_time": "2021-12-19T11:53:48.963Z"
   },
   {
    "duration": 26,
    "start_time": "2021-12-19T11:53:48.997Z"
   },
   {
    "duration": 92,
    "start_time": "2021-12-19T11:53:49.025Z"
   },
   {
    "duration": 13,
    "start_time": "2021-12-19T11:53:49.119Z"
   },
   {
    "duration": 141,
    "start_time": "2021-12-19T11:53:49.134Z"
   },
   {
    "duration": 25,
    "start_time": "2021-12-19T11:53:49.277Z"
   },
   {
    "duration": 29,
    "start_time": "2021-12-19T11:53:49.304Z"
   },
   {
    "duration": 5,
    "start_time": "2021-12-19T11:53:49.335Z"
   },
   {
    "duration": 6,
    "start_time": "2021-12-19T11:53:49.342Z"
   },
   {
    "duration": 60,
    "start_time": "2021-12-19T11:53:49.350Z"
   },
   {
    "duration": 21,
    "start_time": "2021-12-19T11:53:49.412Z"
   },
   {
    "duration": 24,
    "start_time": "2021-12-19T11:53:49.435Z"
   },
   {
    "duration": 6,
    "start_time": "2021-12-19T11:53:49.462Z"
   },
   {
    "duration": 13,
    "start_time": "2021-12-19T11:53:49.491Z"
   },
   {
    "duration": 30,
    "start_time": "2021-12-19T11:53:49.506Z"
   },
   {
    "duration": 8,
    "start_time": "2021-12-19T11:53:49.538Z"
   },
   {
    "duration": 42,
    "start_time": "2021-12-19T11:53:49.550Z"
   },
   {
    "duration": 16,
    "start_time": "2021-12-19T11:53:49.595Z"
   },
   {
    "duration": 11,
    "start_time": "2021-12-19T11:53:49.613Z"
   },
   {
    "duration": 9,
    "start_time": "2021-12-19T11:53:49.627Z"
   },
   {
    "duration": 5,
    "start_time": "2021-12-19T11:53:49.637Z"
   },
   {
    "duration": 5,
    "start_time": "2021-12-19T11:53:49.644Z"
   },
   {
    "duration": 48,
    "start_time": "2021-12-19T11:53:49.651Z"
   },
   {
    "duration": 24,
    "start_time": "2021-12-19T11:53:49.701Z"
   },
   {
    "duration": 15,
    "start_time": "2021-12-19T11:53:49.726Z"
   },
   {
    "duration": 18,
    "start_time": "2021-12-19T11:53:49.742Z"
   },
   {
    "duration": 32,
    "start_time": "2021-12-19T11:53:49.762Z"
   },
   {
    "duration": 44,
    "start_time": "2021-12-19T11:53:49.796Z"
   },
   {
    "duration": 26,
    "start_time": "2021-12-19T11:53:49.842Z"
   },
   {
    "duration": 42,
    "start_time": "2021-12-19T11:53:49.869Z"
   },
   {
    "duration": 20,
    "start_time": "2021-12-19T11:54:15.200Z"
   },
   {
    "duration": 13,
    "start_time": "2021-12-19T11:54:27.023Z"
   },
   {
    "duration": 16,
    "start_time": "2021-12-19T11:54:44.047Z"
   },
   {
    "duration": 4,
    "start_time": "2021-12-19T11:56:48.001Z"
   },
   {
    "duration": 14,
    "start_time": "2021-12-19T11:56:53.385Z"
   },
   {
    "duration": 4,
    "start_time": "2021-12-19T12:03:49.595Z"
   },
   {
    "duration": 13,
    "start_time": "2021-12-19T12:03:50.959Z"
   },
   {
    "duration": 653,
    "start_time": "2021-12-19T17:44:04.899Z"
   },
   {
    "duration": 7,
    "start_time": "2021-12-19T17:44:05.554Z"
   },
   {
    "duration": 17,
    "start_time": "2021-12-19T17:44:05.563Z"
   },
   {
    "duration": 21,
    "start_time": "2021-12-19T17:44:05.583Z"
   },
   {
    "duration": 11,
    "start_time": "2021-12-19T17:44:05.606Z"
   },
   {
    "duration": 165,
    "start_time": "2021-12-19T17:44:05.619Z"
   },
   {
    "duration": 32,
    "start_time": "2021-12-19T17:44:05.786Z"
   },
   {
    "duration": 33,
    "start_time": "2021-12-19T17:44:05.820Z"
   },
   {
    "duration": 99,
    "start_time": "2021-12-19T17:44:05.857Z"
   },
   {
    "duration": 14,
    "start_time": "2021-12-19T17:44:05.959Z"
   },
   {
    "duration": 152,
    "start_time": "2021-12-19T17:44:05.975Z"
   },
   {
    "duration": 18,
    "start_time": "2021-12-19T17:44:06.129Z"
   },
   {
    "duration": 43,
    "start_time": "2021-12-19T17:44:06.149Z"
   },
   {
    "duration": 6,
    "start_time": "2021-12-19T17:44:06.194Z"
   },
   {
    "duration": 6,
    "start_time": "2021-12-19T17:44:06.202Z"
   },
   {
    "duration": 30,
    "start_time": "2021-12-19T17:44:06.210Z"
   },
   {
    "duration": 19,
    "start_time": "2021-12-19T17:44:06.242Z"
   },
   {
    "duration": 50,
    "start_time": "2021-12-19T17:44:06.263Z"
   },
   {
    "duration": 7,
    "start_time": "2021-12-19T17:44:06.314Z"
   },
   {
    "duration": 9,
    "start_time": "2021-12-19T17:44:06.323Z"
   },
   {
    "duration": 21,
    "start_time": "2021-12-19T17:44:06.334Z"
   },
   {
    "duration": 35,
    "start_time": "2021-12-19T17:44:06.357Z"
   },
   {
    "duration": 14,
    "start_time": "2021-12-19T17:44:06.394Z"
   },
   {
    "duration": 9,
    "start_time": "2021-12-19T17:44:06.410Z"
   },
   {
    "duration": 11,
    "start_time": "2021-12-19T17:44:06.421Z"
   },
   {
    "duration": 7,
    "start_time": "2021-12-19T17:44:06.433Z"
   },
   {
    "duration": 3,
    "start_time": "2021-12-19T17:44:06.444Z"
   },
   {
    "duration": 42,
    "start_time": "2021-12-19T17:44:06.449Z"
   },
   {
    "duration": 10,
    "start_time": "2021-12-19T17:44:06.493Z"
   },
   {
    "duration": 23,
    "start_time": "2021-12-19T17:44:06.505Z"
   },
   {
    "duration": 14,
    "start_time": "2021-12-19T17:44:06.530Z"
   },
   {
    "duration": 16,
    "start_time": "2021-12-19T17:44:06.546Z"
   },
   {
    "duration": 31,
    "start_time": "2021-12-19T17:44:06.564Z"
   },
   {
    "duration": 44,
    "start_time": "2021-12-19T17:44:06.597Z"
   },
   {
    "duration": 8,
    "start_time": "2021-12-19T17:44:06.643Z"
   },
   {
    "duration": 39,
    "start_time": "2021-12-19T17:44:06.653Z"
   },
   {
    "duration": 6,
    "start_time": "2021-12-19T17:44:06.694Z"
   },
   {
    "duration": 36,
    "start_time": "2021-12-19T17:44:06.702Z"
   },
   {
    "duration": 6,
    "start_time": "2021-12-19T17:44:06.740Z"
   },
   {
    "duration": 5,
    "start_time": "2021-12-19T17:44:06.748Z"
   },
   {
    "duration": 12,
    "start_time": "2021-12-19T17:44:06.755Z"
   },
   {
    "duration": 9,
    "start_time": "2021-12-19T17:44:13.579Z"
   },
   {
    "duration": 10,
    "start_time": "2021-12-19T17:44:20.177Z"
   },
   {
    "duration": 12,
    "start_time": "2021-12-19T17:44:30.699Z"
   },
   {
    "duration": 9,
    "start_time": "2021-12-19T17:44:43.891Z"
   },
   {
    "duration": 10,
    "start_time": "2021-12-19T17:44:56.503Z"
   },
   {
    "duration": 615,
    "start_time": "2021-12-19T17:59:50.406Z"
   },
   {
    "duration": 8,
    "start_time": "2021-12-19T17:59:51.023Z"
   },
   {
    "duration": 20,
    "start_time": "2021-12-19T17:59:51.033Z"
   },
   {
    "duration": 22,
    "start_time": "2021-12-19T17:59:51.055Z"
   },
   {
    "duration": 8,
    "start_time": "2021-12-19T17:59:51.079Z"
   },
   {
    "duration": 159,
    "start_time": "2021-12-19T17:59:51.091Z"
   },
   {
    "duration": 20,
    "start_time": "2021-12-19T17:59:51.252Z"
   },
   {
    "duration": 38,
    "start_time": "2021-12-19T17:59:51.274Z"
   },
   {
    "duration": 93,
    "start_time": "2021-12-19T17:59:51.314Z"
   },
   {
    "duration": 14,
    "start_time": "2021-12-19T17:59:51.409Z"
   },
   {
    "duration": 143,
    "start_time": "2021-12-19T17:59:51.424Z"
   },
   {
    "duration": 25,
    "start_time": "2021-12-19T17:59:51.569Z"
   },
   {
    "duration": 27,
    "start_time": "2021-12-19T17:59:51.596Z"
   },
   {
    "duration": 5,
    "start_time": "2021-12-19T17:59:51.624Z"
   },
   {
    "duration": 9,
    "start_time": "2021-12-19T17:59:51.630Z"
   },
   {
    "duration": 52,
    "start_time": "2021-12-19T17:59:51.640Z"
   },
   {
    "duration": 19,
    "start_time": "2021-12-19T17:59:51.694Z"
   },
   {
    "duration": 24,
    "start_time": "2021-12-19T17:59:51.715Z"
   },
   {
    "duration": 5,
    "start_time": "2021-12-19T17:59:51.740Z"
   },
   {
    "duration": 10,
    "start_time": "2021-12-19T17:59:51.747Z"
   },
   {
    "duration": 47,
    "start_time": "2021-12-19T17:59:51.759Z"
   },
   {
    "duration": 5,
    "start_time": "2021-12-19T17:59:51.808Z"
   },
   {
    "duration": 22,
    "start_time": "2021-12-19T17:59:51.816Z"
   },
   {
    "duration": 10,
    "start_time": "2021-12-19T17:59:51.841Z"
   },
   {
    "duration": 12,
    "start_time": "2021-12-19T17:59:51.853Z"
   },
   {
    "duration": 30,
    "start_time": "2021-12-19T17:59:51.867Z"
   },
   {
    "duration": 5,
    "start_time": "2021-12-19T17:59:51.899Z"
   },
   {
    "duration": 11,
    "start_time": "2021-12-19T17:59:51.906Z"
   },
   {
    "duration": 9,
    "start_time": "2021-12-19T17:59:51.919Z"
   },
   {
    "duration": 26,
    "start_time": "2021-12-19T17:59:51.930Z"
   },
   {
    "duration": 43,
    "start_time": "2021-12-19T17:59:51.958Z"
   },
   {
    "duration": 18,
    "start_time": "2021-12-19T17:59:52.003Z"
   },
   {
    "duration": 7,
    "start_time": "2021-12-19T17:59:52.023Z"
   },
   {
    "duration": 70,
    "start_time": "2021-12-19T17:59:52.032Z"
   },
   {
    "duration": 10,
    "start_time": "2021-12-19T17:59:52.103Z"
   },
   {
    "duration": 31,
    "start_time": "2021-12-19T17:59:52.114Z"
   },
   {
    "duration": 8,
    "start_time": "2021-12-19T17:59:52.147Z"
   },
   {
    "duration": 50,
    "start_time": "2021-12-19T17:59:52.157Z"
   },
   {
    "duration": 9,
    "start_time": "2021-12-19T17:59:52.209Z"
   },
   {
    "duration": 8,
    "start_time": "2021-12-19T17:59:52.219Z"
   },
   {
    "duration": 10,
    "start_time": "2021-12-19T17:59:52.229Z"
   },
   {
    "duration": 34,
    "start_time": "2021-12-19T17:59:52.240Z"
   },
   {
    "duration": 60,
    "start_time": "2021-12-19T18:00:30.850Z"
   },
   {
    "duration": 22,
    "start_time": "2021-12-19T18:00:39.771Z"
   },
   {
    "duration": 4,
    "start_time": "2021-12-19T18:03:43.682Z"
   },
   {
    "duration": 9,
    "start_time": "2021-12-19T18:03:46.103Z"
   },
   {
    "duration": 5,
    "start_time": "2021-12-19T18:04:31.400Z"
   },
   {
    "duration": 10,
    "start_time": "2021-12-19T18:04:32.323Z"
   },
   {
    "duration": 24,
    "start_time": "2021-12-19T18:05:01.657Z"
   },
   {
    "duration": 21,
    "start_time": "2021-12-19T18:05:45.859Z"
   },
   {
    "duration": 11,
    "start_time": "2021-12-19T18:07:10.838Z"
   },
   {
    "duration": 31,
    "start_time": "2021-12-19T18:08:23.076Z"
   },
   {
    "duration": 11,
    "start_time": "2021-12-19T18:08:49.508Z"
   },
   {
    "duration": 4,
    "start_time": "2021-12-19T18:09:59.420Z"
   },
   {
    "duration": 9,
    "start_time": "2021-12-19T18:10:02.221Z"
   },
   {
    "duration": 35,
    "start_time": "2021-12-19T18:10:09.373Z"
   },
   {
    "duration": 6,
    "start_time": "2021-12-19T18:10:09.409Z"
   },
   {
    "duration": 14,
    "start_time": "2021-12-19T18:10:09.417Z"
   },
   {
    "duration": 20,
    "start_time": "2021-12-19T18:10:09.432Z"
   },
   {
    "duration": 6,
    "start_time": "2021-12-19T18:10:09.454Z"
   },
   {
    "duration": 175,
    "start_time": "2021-12-19T18:10:09.462Z"
   },
   {
    "duration": 20,
    "start_time": "2021-12-19T18:10:09.639Z"
   },
   {
    "duration": 44,
    "start_time": "2021-12-19T18:10:09.661Z"
   },
   {
    "duration": 96,
    "start_time": "2021-12-19T18:10:09.708Z"
   },
   {
    "duration": 14,
    "start_time": "2021-12-19T18:10:09.806Z"
   },
   {
    "duration": 135,
    "start_time": "2021-12-19T18:10:09.822Z"
   },
   {
    "duration": 16,
    "start_time": "2021-12-19T18:10:09.959Z"
   },
   {
    "duration": 43,
    "start_time": "2021-12-19T18:10:09.977Z"
   },
   {
    "duration": 6,
    "start_time": "2021-12-19T18:10:10.022Z"
   },
   {
    "duration": 6,
    "start_time": "2021-12-19T18:10:10.030Z"
   },
   {
    "duration": 30,
    "start_time": "2021-12-19T18:10:10.039Z"
   },
   {
    "duration": 19,
    "start_time": "2021-12-19T18:10:10.092Z"
   },
   {
    "duration": 22,
    "start_time": "2021-12-19T18:10:10.113Z"
   },
   {
    "duration": 6,
    "start_time": "2021-12-19T18:10:10.137Z"
   },
   {
    "duration": 9,
    "start_time": "2021-12-19T18:10:10.145Z"
   },
   {
    "duration": 52,
    "start_time": "2021-12-19T18:10:10.156Z"
   },
   {
    "duration": 7,
    "start_time": "2021-12-19T18:10:10.210Z"
   },
   {
    "duration": 24,
    "start_time": "2021-12-19T18:10:10.220Z"
   },
   {
    "duration": 10,
    "start_time": "2021-12-19T18:10:10.246Z"
   },
   {
    "duration": 17,
    "start_time": "2021-12-19T18:10:10.258Z"
   },
   {
    "duration": 7,
    "start_time": "2021-12-19T18:10:10.292Z"
   },
   {
    "duration": 9,
    "start_time": "2021-12-19T18:10:10.301Z"
   },
   {
    "duration": 17,
    "start_time": "2021-12-19T18:10:10.312Z"
   },
   {
    "duration": 23,
    "start_time": "2021-12-19T18:10:10.330Z"
   },
   {
    "duration": 34,
    "start_time": "2021-12-19T18:10:10.354Z"
   },
   {
    "duration": 14,
    "start_time": "2021-12-19T18:10:10.390Z"
   },
   {
    "duration": 17,
    "start_time": "2021-12-19T18:10:10.406Z"
   },
   {
    "duration": 6,
    "start_time": "2021-12-19T18:10:10.424Z"
   },
   {
    "duration": 60,
    "start_time": "2021-12-19T18:10:10.432Z"
   },
   {
    "duration": 4,
    "start_time": "2021-12-19T18:10:10.494Z"
   },
   {
    "duration": 22,
    "start_time": "2021-12-19T18:10:10.500Z"
   },
   {
    "duration": 39,
    "start_time": "2021-12-19T18:10:10.524Z"
   },
   {
    "duration": 3,
    "start_time": "2021-12-19T18:10:10.565Z"
   },
   {
    "duration": 18,
    "start_time": "2021-12-19T18:10:10.570Z"
   },
   {
    "duration": 40,
    "start_time": "2021-12-19T18:10:10.590Z"
   },
   {
    "duration": 12,
    "start_time": "2021-12-19T18:10:10.631Z"
   },
   {
    "duration": 15,
    "start_time": "2021-12-19T18:10:10.645Z"
   },
   {
    "duration": 5,
    "start_time": "2021-12-19T18:10:12.421Z"
   },
   {
    "duration": 8,
    "start_time": "2021-12-19T18:10:13.747Z"
   },
   {
    "duration": 11,
    "start_time": "2021-12-19T18:10:27.813Z"
   },
   {
    "duration": 4,
    "start_time": "2021-12-19T18:10:29.418Z"
   },
   {
    "duration": 8,
    "start_time": "2021-12-19T18:10:32.378Z"
   },
   {
    "duration": 10,
    "start_time": "2021-12-19T18:10:33.434Z"
   },
   {
    "duration": 10,
    "start_time": "2021-12-19T18:10:34.996Z"
   },
   {
    "duration": 16,
    "start_time": "2021-12-19T18:10:43.609Z"
   },
   {
    "duration": 7,
    "start_time": "2021-12-19T18:12:46.932Z"
   },
   {
    "duration": 21,
    "start_time": "2021-12-19T18:12:50.916Z"
   },
   {
    "duration": 11,
    "start_time": "2021-12-19T18:13:25.995Z"
   },
   {
    "duration": 16,
    "start_time": "2021-12-19T18:14:01.743Z"
   },
   {
    "duration": 19,
    "start_time": "2021-12-19T18:14:08.546Z"
   },
   {
    "duration": 8,
    "start_time": "2021-12-19T18:24:23.064Z"
   },
   {
    "duration": 10,
    "start_time": "2021-12-19T18:24:54.374Z"
   },
   {
    "duration": 42,
    "start_time": "2021-12-19T18:25:03.136Z"
   },
   {
    "duration": 10,
    "start_time": "2021-12-19T18:25:03.180Z"
   },
   {
    "duration": 25,
    "start_time": "2021-12-19T18:25:03.193Z"
   },
   {
    "duration": 26,
    "start_time": "2021-12-19T18:25:03.220Z"
   },
   {
    "duration": 22,
    "start_time": "2021-12-19T18:25:03.249Z"
   },
   {
    "duration": 168,
    "start_time": "2021-12-19T18:25:03.273Z"
   },
   {
    "duration": 21,
    "start_time": "2021-12-19T18:25:03.443Z"
   },
   {
    "duration": 39,
    "start_time": "2021-12-19T18:25:03.467Z"
   },
   {
    "duration": 92,
    "start_time": "2021-12-19T18:25:03.508Z"
   },
   {
    "duration": 14,
    "start_time": "2021-12-19T18:25:03.602Z"
   },
   {
    "duration": 131,
    "start_time": "2021-12-19T18:25:03.618Z"
   },
   {
    "duration": 18,
    "start_time": "2021-12-19T18:25:03.751Z"
   },
   {
    "duration": 37,
    "start_time": "2021-12-19T18:25:03.771Z"
   },
   {
    "duration": 5,
    "start_time": "2021-12-19T18:25:03.809Z"
   },
   {
    "duration": 26,
    "start_time": "2021-12-19T18:25:03.815Z"
   },
   {
    "duration": 43,
    "start_time": "2021-12-19T18:25:03.843Z"
   },
   {
    "duration": 16,
    "start_time": "2021-12-19T18:25:03.888Z"
   },
   {
    "duration": 24,
    "start_time": "2021-12-19T18:25:03.906Z"
   },
   {
    "duration": 7,
    "start_time": "2021-12-19T18:25:03.932Z"
   },
   {
    "duration": 28,
    "start_time": "2021-12-19T18:25:03.941Z"
   },
   {
    "duration": 35,
    "start_time": "2021-12-19T18:25:03.971Z"
   },
   {
    "duration": 8,
    "start_time": "2021-12-19T18:25:04.008Z"
   },
   {
    "duration": 38,
    "start_time": "2021-12-19T18:25:04.021Z"
   },
   {
    "duration": 9,
    "start_time": "2021-12-19T18:25:04.061Z"
   },
   {
    "duration": 12,
    "start_time": "2021-12-19T18:25:04.072Z"
   },
   {
    "duration": 19,
    "start_time": "2021-12-19T18:25:04.085Z"
   },
   {
    "duration": 15,
    "start_time": "2021-12-19T18:25:04.106Z"
   },
   {
    "duration": 12,
    "start_time": "2021-12-19T18:25:04.123Z"
   },
   {
    "duration": 25,
    "start_time": "2021-12-19T18:25:04.137Z"
   },
   {
    "duration": 29,
    "start_time": "2021-12-19T18:25:04.164Z"
   },
   {
    "duration": 16,
    "start_time": "2021-12-19T18:25:04.195Z"
   },
   {
    "duration": 21,
    "start_time": "2021-12-19T18:25:04.213Z"
   },
   {
    "duration": 5,
    "start_time": "2021-12-19T18:25:04.236Z"
   },
   {
    "duration": 62,
    "start_time": "2021-12-19T18:25:04.242Z"
   },
   {
    "duration": 4,
    "start_time": "2021-12-19T18:25:04.306Z"
   },
   {
    "duration": 30,
    "start_time": "2021-12-19T18:25:04.312Z"
   },
   {
    "duration": 48,
    "start_time": "2021-12-19T18:25:04.344Z"
   },
   {
    "duration": 5,
    "start_time": "2021-12-19T18:25:04.393Z"
   },
   {
    "duration": 25,
    "start_time": "2021-12-19T18:25:04.400Z"
   },
   {
    "duration": 24,
    "start_time": "2021-12-19T18:25:04.426Z"
   },
   {
    "duration": 8,
    "start_time": "2021-12-19T18:25:04.452Z"
   },
   {
    "duration": 6,
    "start_time": "2021-12-19T18:25:04.462Z"
   },
   {
    "duration": 10,
    "start_time": "2021-12-19T18:25:04.469Z"
   },
   {
    "duration": 19,
    "start_time": "2021-12-19T18:25:04.481Z"
   },
   {
    "duration": 11,
    "start_time": "2021-12-19T18:25:04.502Z"
   },
   {
    "duration": 10,
    "start_time": "2021-12-19T18:25:04.514Z"
   },
   {
    "duration": 11,
    "start_time": "2021-12-19T18:25:06.265Z"
   },
   {
    "duration": 32,
    "start_time": "2021-12-19T18:25:07.662Z"
   },
   {
    "duration": 248,
    "start_time": "2021-12-19T18:25:56.679Z"
   },
   {
    "duration": 36,
    "start_time": "2021-12-19T18:26:28.873Z"
   },
   {
    "duration": 6,
    "start_time": "2021-12-19T18:26:28.911Z"
   },
   {
    "duration": 17,
    "start_time": "2021-12-19T18:26:28.919Z"
   },
   {
    "duration": 21,
    "start_time": "2021-12-19T18:26:28.938Z"
   },
   {
    "duration": 35,
    "start_time": "2021-12-19T18:26:28.961Z"
   },
   {
    "duration": 150,
    "start_time": "2021-12-19T18:26:28.998Z"
   },
   {
    "duration": 21,
    "start_time": "2021-12-19T18:26:29.150Z"
   },
   {
    "duration": 43,
    "start_time": "2021-12-19T18:26:29.173Z"
   },
   {
    "duration": 98,
    "start_time": "2021-12-19T18:26:29.217Z"
   },
   {
    "duration": 14,
    "start_time": "2021-12-19T18:26:29.316Z"
   },
   {
    "duration": 140,
    "start_time": "2021-12-19T18:26:29.332Z"
   },
   {
    "duration": 26,
    "start_time": "2021-12-19T18:26:29.474Z"
   },
   {
    "duration": 27,
    "start_time": "2021-12-19T18:26:29.502Z"
   },
   {
    "duration": 4,
    "start_time": "2021-12-19T18:26:29.531Z"
   },
   {
    "duration": 6,
    "start_time": "2021-12-19T18:26:29.537Z"
   },
   {
    "duration": 49,
    "start_time": "2021-12-19T18:26:29.544Z"
   },
   {
    "duration": 17,
    "start_time": "2021-12-19T18:26:29.594Z"
   },
   {
    "duration": 19,
    "start_time": "2021-12-19T18:26:29.612Z"
   },
   {
    "duration": 5,
    "start_time": "2021-12-19T18:26:29.632Z"
   },
   {
    "duration": 12,
    "start_time": "2021-12-19T18:26:29.638Z"
   },
   {
    "duration": 43,
    "start_time": "2021-12-19T18:26:29.651Z"
   },
   {
    "duration": 6,
    "start_time": "2021-12-19T18:26:29.696Z"
   },
   {
    "duration": 13,
    "start_time": "2021-12-19T18:26:29.705Z"
   },
   {
    "duration": 9,
    "start_time": "2021-12-19T18:26:29.720Z"
   },
   {
    "duration": 12,
    "start_time": "2021-12-19T18:26:29.730Z"
   },
   {
    "duration": 6,
    "start_time": "2021-12-19T18:26:29.744Z"
   },
   {
    "duration": 42,
    "start_time": "2021-12-19T18:26:29.752Z"
   },
   {
    "duration": 6,
    "start_time": "2021-12-19T18:26:29.796Z"
   },
   {
    "duration": 9,
    "start_time": "2021-12-19T18:26:29.803Z"
   },
   {
    "duration": 23,
    "start_time": "2021-12-19T18:26:29.814Z"
   },
   {
    "duration": 14,
    "start_time": "2021-12-19T18:26:29.839Z"
   },
   {
    "duration": 45,
    "start_time": "2021-12-19T18:26:29.855Z"
   },
   {
    "duration": 5,
    "start_time": "2021-12-19T18:26:29.902Z"
   },
   {
    "duration": 42,
    "start_time": "2021-12-19T18:26:29.908Z"
   },
   {
    "duration": 5,
    "start_time": "2021-12-19T18:26:29.952Z"
   },
   {
    "duration": 14,
    "start_time": "2021-12-19T18:26:29.958Z"
   },
   {
    "duration": 43,
    "start_time": "2021-12-19T18:26:29.973Z"
   },
   {
    "duration": 4,
    "start_time": "2021-12-19T18:26:30.018Z"
   },
   {
    "duration": 13,
    "start_time": "2021-12-19T18:26:30.024Z"
   },
   {
    "duration": 24,
    "start_time": "2021-12-19T18:26:30.039Z"
   },
   {
    "duration": 28,
    "start_time": "2021-12-19T18:26:30.065Z"
   },
   {
    "duration": 7,
    "start_time": "2021-12-19T18:26:30.094Z"
   },
   {
    "duration": 10,
    "start_time": "2021-12-19T18:26:30.103Z"
   },
   {
    "duration": 12,
    "start_time": "2021-12-19T18:26:30.114Z"
   },
   {
    "duration": 10,
    "start_time": "2021-12-19T18:26:30.128Z"
   },
   {
    "duration": 10,
    "start_time": "2021-12-19T18:26:32.057Z"
   },
   {
    "duration": 14,
    "start_time": "2021-12-19T18:26:34.230Z"
   },
   {
    "duration": 630,
    "start_time": "2021-12-19T18:27:32.784Z"
   },
   {
    "duration": 7,
    "start_time": "2021-12-19T18:27:33.417Z"
   },
   {
    "duration": 22,
    "start_time": "2021-12-19T18:27:33.426Z"
   },
   {
    "duration": 38,
    "start_time": "2021-12-19T18:27:33.451Z"
   },
   {
    "duration": 16,
    "start_time": "2021-12-19T18:27:33.491Z"
   },
   {
    "duration": 180,
    "start_time": "2021-12-19T18:27:33.509Z"
   },
   {
    "duration": 20,
    "start_time": "2021-12-19T18:27:33.691Z"
   },
   {
    "duration": 35,
    "start_time": "2021-12-19T18:27:33.714Z"
   },
   {
    "duration": 92,
    "start_time": "2021-12-19T18:27:33.751Z"
   },
   {
    "duration": 14,
    "start_time": "2021-12-19T18:27:33.844Z"
   },
   {
    "duration": 134,
    "start_time": "2021-12-19T18:27:33.860Z"
   },
   {
    "duration": 16,
    "start_time": "2021-12-19T18:27:33.996Z"
   },
   {
    "duration": 35,
    "start_time": "2021-12-19T18:27:34.014Z"
   },
   {
    "duration": 6,
    "start_time": "2021-12-19T18:27:34.051Z"
   },
   {
    "duration": 21,
    "start_time": "2021-12-19T18:27:34.059Z"
   },
   {
    "duration": 41,
    "start_time": "2021-12-19T18:27:34.081Z"
   },
   {
    "duration": 18,
    "start_time": "2021-12-19T18:27:34.124Z"
   },
   {
    "duration": 22,
    "start_time": "2021-12-19T18:27:34.144Z"
   },
   {
    "duration": 10,
    "start_time": "2021-12-19T18:27:34.168Z"
   },
   {
    "duration": 13,
    "start_time": "2021-12-19T18:27:34.192Z"
   },
   {
    "duration": 45,
    "start_time": "2021-12-19T18:27:34.206Z"
   },
   {
    "duration": 14,
    "start_time": "2021-12-19T18:27:34.253Z"
   },
   {
    "duration": 22,
    "start_time": "2021-12-19T18:27:34.271Z"
   },
   {
    "duration": 16,
    "start_time": "2021-12-19T18:27:34.295Z"
   },
   {
    "duration": 28,
    "start_time": "2021-12-19T18:27:34.313Z"
   },
   {
    "duration": 9,
    "start_time": "2021-12-19T18:27:34.342Z"
   },
   {
    "duration": 23,
    "start_time": "2021-12-19T18:27:34.353Z"
   },
   {
    "duration": 20,
    "start_time": "2021-12-19T18:27:34.377Z"
   },
   {
    "duration": 29,
    "start_time": "2021-12-19T18:27:34.398Z"
   },
   {
    "duration": 38,
    "start_time": "2021-12-19T18:27:34.429Z"
   },
   {
    "duration": 16,
    "start_time": "2021-12-19T18:27:34.469Z"
   },
   {
    "duration": 25,
    "start_time": "2021-12-19T18:27:34.487Z"
   },
   {
    "duration": 6,
    "start_time": "2021-12-19T18:27:34.513Z"
   },
   {
    "duration": 56,
    "start_time": "2021-12-19T18:27:34.521Z"
   },
   {
    "duration": 4,
    "start_time": "2021-12-19T18:27:34.578Z"
   },
   {
    "duration": 25,
    "start_time": "2021-12-19T18:27:34.584Z"
   },
   {
    "duration": 41,
    "start_time": "2021-12-19T18:27:34.611Z"
   },
   {
    "duration": 4,
    "start_time": "2021-12-19T18:27:34.654Z"
   },
   {
    "duration": 12,
    "start_time": "2021-12-19T18:27:34.660Z"
   },
   {
    "duration": 38,
    "start_time": "2021-12-19T18:27:34.673Z"
   },
   {
    "duration": 9,
    "start_time": "2021-12-19T18:27:34.713Z"
   },
   {
    "duration": 19,
    "start_time": "2021-12-19T18:27:34.723Z"
   },
   {
    "duration": 26,
    "start_time": "2021-12-19T18:27:34.744Z"
   },
   {
    "duration": 16,
    "start_time": "2021-12-19T18:27:34.772Z"
   },
   {
    "duration": 26,
    "start_time": "2021-12-19T18:27:34.789Z"
   },
   {
    "duration": 9,
    "start_time": "2021-12-19T18:27:34.817Z"
   },
   {
    "duration": 29,
    "start_time": "2021-12-19T18:27:34.827Z"
   },
   {
    "duration": 27,
    "start_time": "2021-12-19T18:27:34.858Z"
   },
   {
    "duration": 34,
    "start_time": "2021-12-19T18:27:55.008Z"
   },
   {
    "duration": 5,
    "start_time": "2021-12-19T18:27:55.044Z"
   },
   {
    "duration": 15,
    "start_time": "2021-12-19T18:27:55.051Z"
   },
   {
    "duration": 22,
    "start_time": "2021-12-19T18:27:55.068Z"
   },
   {
    "duration": 8,
    "start_time": "2021-12-19T18:27:55.092Z"
   },
   {
    "duration": 150,
    "start_time": "2021-12-19T18:27:55.102Z"
   },
   {
    "duration": 22,
    "start_time": "2021-12-19T18:27:55.254Z"
   },
   {
    "duration": 39,
    "start_time": "2021-12-19T18:27:55.278Z"
   },
   {
    "duration": 98,
    "start_time": "2021-12-19T18:27:55.319Z"
   },
   {
    "duration": 15,
    "start_time": "2021-12-19T18:27:55.418Z"
   },
   {
    "duration": 137,
    "start_time": "2021-12-19T18:27:55.435Z"
   },
   {
    "duration": 23,
    "start_time": "2021-12-19T18:27:55.574Z"
   },
   {
    "duration": 26,
    "start_time": "2021-12-19T18:27:55.599Z"
   },
   {
    "duration": 4,
    "start_time": "2021-12-19T18:27:55.627Z"
   },
   {
    "duration": 6,
    "start_time": "2021-12-19T18:27:55.633Z"
   },
   {
    "duration": 26,
    "start_time": "2021-12-19T18:27:55.640Z"
   },
   {
    "duration": 32,
    "start_time": "2021-12-19T18:27:55.668Z"
   },
   {
    "duration": 20,
    "start_time": "2021-12-19T18:27:55.701Z"
   },
   {
    "duration": 5,
    "start_time": "2021-12-19T18:27:55.723Z"
   },
   {
    "duration": 14,
    "start_time": "2021-12-19T18:27:55.729Z"
   },
   {
    "duration": 21,
    "start_time": "2021-12-19T18:27:55.744Z"
   },
   {
    "duration": 6,
    "start_time": "2021-12-19T18:27:55.792Z"
   },
   {
    "duration": 15,
    "start_time": "2021-12-19T18:27:55.802Z"
   },
   {
    "duration": 11,
    "start_time": "2021-12-19T18:27:55.819Z"
   },
   {
    "duration": 12,
    "start_time": "2021-12-19T18:27:55.832Z"
   },
   {
    "duration": 7,
    "start_time": "2021-12-19T18:27:55.846Z"
   },
   {
    "duration": 39,
    "start_time": "2021-12-19T18:27:55.855Z"
   },
   {
    "duration": 6,
    "start_time": "2021-12-19T18:27:55.896Z"
   },
   {
    "duration": 8,
    "start_time": "2021-12-19T18:27:55.904Z"
   },
   {
    "duration": 23,
    "start_time": "2021-12-19T18:27:55.914Z"
   },
   {
    "duration": 14,
    "start_time": "2021-12-19T18:27:55.939Z"
   },
   {
    "duration": 50,
    "start_time": "2021-12-19T18:27:55.955Z"
   },
   {
    "duration": 5,
    "start_time": "2021-12-19T18:27:56.007Z"
   },
   {
    "duration": 41,
    "start_time": "2021-12-19T18:27:56.014Z"
   },
   {
    "duration": 3,
    "start_time": "2021-12-19T18:27:56.057Z"
   },
   {
    "duration": 32,
    "start_time": "2021-12-19T18:27:56.062Z"
   },
   {
    "duration": 28,
    "start_time": "2021-12-19T18:27:56.096Z"
   },
   {
    "duration": 4,
    "start_time": "2021-12-19T18:27:56.126Z"
   },
   {
    "duration": 10,
    "start_time": "2021-12-19T18:27:56.132Z"
   },
   {
    "duration": 47,
    "start_time": "2021-12-19T18:27:56.144Z"
   },
   {
    "duration": 9,
    "start_time": "2021-12-19T18:27:56.193Z"
   },
   {
    "duration": 6,
    "start_time": "2021-12-19T18:27:56.204Z"
   },
   {
    "duration": 10,
    "start_time": "2021-12-19T18:27:56.211Z"
   },
   {
    "duration": 10,
    "start_time": "2021-12-19T18:27:56.223Z"
   },
   {
    "duration": 9,
    "start_time": "2021-12-19T18:27:56.234Z"
   },
   {
    "duration": 238,
    "start_time": "2021-12-19T18:27:56.245Z"
   },
   {
    "duration": 265,
    "start_time": "2021-12-19T18:27:56.220Z"
   },
   {
    "duration": 260,
    "start_time": "2021-12-19T18:27:56.226Z"
   },
   {
    "duration": 34,
    "start_time": "2021-12-19T18:28:17.312Z"
   },
   {
    "duration": 6,
    "start_time": "2021-12-19T18:28:17.348Z"
   },
   {
    "duration": 16,
    "start_time": "2021-12-19T18:28:17.356Z"
   },
   {
    "duration": 20,
    "start_time": "2021-12-19T18:28:17.373Z"
   },
   {
    "duration": 8,
    "start_time": "2021-12-19T18:28:17.395Z"
   },
   {
    "duration": 152,
    "start_time": "2021-12-19T18:28:17.404Z"
   },
   {
    "duration": 20,
    "start_time": "2021-12-19T18:28:17.558Z"
   },
   {
    "duration": 25,
    "start_time": "2021-12-19T18:28:17.593Z"
   },
   {
    "duration": 98,
    "start_time": "2021-12-19T18:28:17.620Z"
   },
   {
    "duration": 14,
    "start_time": "2021-12-19T18:28:17.720Z"
   },
   {
    "duration": 132,
    "start_time": "2021-12-19T18:28:17.736Z"
   },
   {
    "duration": 31,
    "start_time": "2021-12-19T18:28:17.870Z"
   },
   {
    "duration": 27,
    "start_time": "2021-12-19T18:28:17.903Z"
   },
   {
    "duration": 5,
    "start_time": "2021-12-19T18:28:17.931Z"
   },
   {
    "duration": 6,
    "start_time": "2021-12-19T18:28:17.937Z"
   },
   {
    "duration": 47,
    "start_time": "2021-12-19T18:28:17.944Z"
   },
   {
    "duration": 17,
    "start_time": "2021-12-19T18:28:17.993Z"
   },
   {
    "duration": 20,
    "start_time": "2021-12-19T18:28:18.012Z"
   },
   {
    "duration": 7,
    "start_time": "2021-12-19T18:28:18.033Z"
   },
   {
    "duration": 8,
    "start_time": "2021-12-19T18:28:18.042Z"
   },
   {
    "duration": 49,
    "start_time": "2021-12-19T18:28:18.052Z"
   },
   {
    "duration": 8,
    "start_time": "2021-12-19T18:28:18.102Z"
   },
   {
    "duration": 20,
    "start_time": "2021-12-19T18:28:18.114Z"
   },
   {
    "duration": 14,
    "start_time": "2021-12-19T18:28:18.137Z"
   },
   {
    "duration": 46,
    "start_time": "2021-12-19T18:28:18.153Z"
   },
   {
    "duration": 8,
    "start_time": "2021-12-19T18:28:18.201Z"
   },
   {
    "duration": 4,
    "start_time": "2021-12-19T18:28:18.212Z"
   },
   {
    "duration": 6,
    "start_time": "2021-12-19T18:28:18.218Z"
   },
   {
    "duration": 12,
    "start_time": "2021-12-19T18:28:18.225Z"
   },
   {
    "duration": 56,
    "start_time": "2021-12-19T18:28:18.238Z"
   },
   {
    "duration": 14,
    "start_time": "2021-12-19T18:28:18.296Z"
   },
   {
    "duration": 17,
    "start_time": "2021-12-19T18:28:18.312Z"
   },
   {
    "duration": 4,
    "start_time": "2021-12-19T18:28:18.331Z"
   },
   {
    "duration": 62,
    "start_time": "2021-12-19T18:28:18.337Z"
   },
   {
    "duration": 4,
    "start_time": "2021-12-19T18:28:18.401Z"
   },
   {
    "duration": 11,
    "start_time": "2021-12-19T18:28:18.406Z"
   },
   {
    "duration": 27,
    "start_time": "2021-12-19T18:28:18.418Z"
   },
   {
    "duration": 4,
    "start_time": "2021-12-19T18:28:18.447Z"
   },
   {
    "duration": 10,
    "start_time": "2021-12-19T18:28:18.452Z"
   },
   {
    "duration": 49,
    "start_time": "2021-12-19T18:28:18.463Z"
   },
   {
    "duration": 8,
    "start_time": "2021-12-19T18:28:18.513Z"
   },
   {
    "duration": 6,
    "start_time": "2021-12-19T18:28:18.523Z"
   },
   {
    "duration": 12,
    "start_time": "2021-12-19T18:28:18.530Z"
   },
   {
    "duration": 19,
    "start_time": "2021-12-19T18:28:18.544Z"
   },
   {
    "duration": 33,
    "start_time": "2021-12-19T18:28:18.565Z"
   },
   {
    "duration": 9,
    "start_time": "2021-12-19T18:28:18.600Z"
   },
   {
    "duration": 18,
    "start_time": "2021-12-19T18:28:18.611Z"
   },
   {
    "duration": 7,
    "start_time": "2021-12-19T18:28:18.631Z"
   },
   {
    "duration": 34,
    "start_time": "2021-12-19T18:28:41.224Z"
   },
   {
    "duration": 5,
    "start_time": "2021-12-19T18:28:41.260Z"
   },
   {
    "duration": 14,
    "start_time": "2021-12-19T18:28:41.268Z"
   },
   {
    "duration": 26,
    "start_time": "2021-12-19T18:28:41.284Z"
   },
   {
    "duration": 7,
    "start_time": "2021-12-19T18:28:41.312Z"
   },
   {
    "duration": 148,
    "start_time": "2021-12-19T18:28:41.320Z"
   },
   {
    "duration": 27,
    "start_time": "2021-12-19T18:28:41.470Z"
   },
   {
    "duration": 26,
    "start_time": "2021-12-19T18:28:41.500Z"
   },
   {
    "duration": 94,
    "start_time": "2021-12-19T18:28:41.528Z"
   },
   {
    "duration": 13,
    "start_time": "2021-12-19T18:28:41.624Z"
   },
   {
    "duration": 137,
    "start_time": "2021-12-19T18:28:41.638Z"
   },
   {
    "duration": 23,
    "start_time": "2021-12-19T18:28:41.777Z"
   },
   {
    "duration": 26,
    "start_time": "2021-12-19T18:28:41.802Z"
   },
   {
    "duration": 4,
    "start_time": "2021-12-19T18:28:41.830Z"
   },
   {
    "duration": 6,
    "start_time": "2021-12-19T18:28:41.836Z"
   },
   {
    "duration": 25,
    "start_time": "2021-12-19T18:28:41.844Z"
   },
   {
    "duration": 18,
    "start_time": "2021-12-19T18:28:41.891Z"
   },
   {
    "duration": 20,
    "start_time": "2021-12-19T18:28:41.910Z"
   },
   {
    "duration": 5,
    "start_time": "2021-12-19T18:28:41.932Z"
   },
   {
    "duration": 9,
    "start_time": "2021-12-19T18:28:41.939Z"
   },
   {
    "duration": 45,
    "start_time": "2021-12-19T18:28:41.950Z"
   },
   {
    "duration": 7,
    "start_time": "2021-12-19T18:28:41.997Z"
   },
   {
    "duration": 14,
    "start_time": "2021-12-19T18:28:42.007Z"
   },
   {
    "duration": 10,
    "start_time": "2021-12-19T18:28:42.023Z"
   },
   {
    "duration": 11,
    "start_time": "2021-12-19T18:28:42.035Z"
   },
   {
    "duration": 7,
    "start_time": "2021-12-19T18:28:42.047Z"
   },
   {
    "duration": 39,
    "start_time": "2021-12-19T18:28:42.055Z"
   },
   {
    "duration": 6,
    "start_time": "2021-12-19T18:28:42.095Z"
   },
   {
    "duration": 8,
    "start_time": "2021-12-19T18:28:42.103Z"
   },
   {
    "duration": 23,
    "start_time": "2021-12-19T18:28:42.113Z"
   },
   {
    "duration": 14,
    "start_time": "2021-12-19T18:28:42.137Z"
   },
   {
    "duration": 41,
    "start_time": "2021-12-19T18:28:42.152Z"
   },
   {
    "duration": 4,
    "start_time": "2021-12-19T18:28:42.195Z"
   },
   {
    "duration": 42,
    "start_time": "2021-12-19T18:28:42.200Z"
   },
   {
    "duration": 3,
    "start_time": "2021-12-19T18:28:42.244Z"
   },
   {
    "duration": 10,
    "start_time": "2021-12-19T18:28:42.249Z"
   },
   {
    "duration": 48,
    "start_time": "2021-12-19T18:28:42.261Z"
   },
   {
    "duration": 3,
    "start_time": "2021-12-19T18:28:42.311Z"
   },
   {
    "duration": 10,
    "start_time": "2021-12-19T18:28:42.316Z"
   },
   {
    "duration": 26,
    "start_time": "2021-12-19T18:28:42.328Z"
   },
   {
    "duration": 8,
    "start_time": "2021-12-19T18:28:42.356Z"
   },
   {
    "duration": 26,
    "start_time": "2021-12-19T18:28:42.365Z"
   },
   {
    "duration": 8,
    "start_time": "2021-12-19T18:28:42.393Z"
   },
   {
    "duration": 10,
    "start_time": "2021-12-19T18:28:42.403Z"
   },
   {
    "duration": 9,
    "start_time": "2021-12-19T18:28:42.415Z"
   },
   {
    "duration": 15,
    "start_time": "2021-12-19T18:28:42.425Z"
   },
   {
    "duration": 8,
    "start_time": "2021-12-19T18:28:42.442Z"
   },
   {
    "duration": 52,
    "start_time": "2021-12-19T18:28:42.452Z"
   },
   {
    "duration": 8,
    "start_time": "2021-12-19T18:28:42.506Z"
   },
   {
    "duration": 21,
    "start_time": "2021-12-19T18:34:05.911Z"
   },
   {
    "duration": 35,
    "start_time": "2021-12-19T18:39:38.022Z"
   },
   {
    "duration": 6,
    "start_time": "2021-12-19T18:39:38.059Z"
   },
   {
    "duration": 19,
    "start_time": "2021-12-19T18:39:38.068Z"
   },
   {
    "duration": 23,
    "start_time": "2021-12-19T18:39:38.090Z"
   },
   {
    "duration": 6,
    "start_time": "2021-12-19T18:39:38.116Z"
   },
   {
    "duration": 215,
    "start_time": "2021-12-19T18:39:38.125Z"
   },
   {
    "duration": 21,
    "start_time": "2021-12-19T18:39:38.342Z"
   },
   {
    "duration": 46,
    "start_time": "2021-12-19T18:39:38.366Z"
   },
   {
    "duration": 101,
    "start_time": "2021-12-19T18:39:38.415Z"
   },
   {
    "duration": 17,
    "start_time": "2021-12-19T18:39:38.518Z"
   },
   {
    "duration": 140,
    "start_time": "2021-12-19T18:39:38.537Z"
   },
   {
    "duration": 26,
    "start_time": "2021-12-19T18:39:38.679Z"
   },
   {
    "duration": 29,
    "start_time": "2021-12-19T18:39:38.707Z"
   },
   {
    "duration": 4,
    "start_time": "2021-12-19T18:39:38.738Z"
   },
   {
    "duration": 7,
    "start_time": "2021-12-19T18:39:38.744Z"
   },
   {
    "duration": 55,
    "start_time": "2021-12-19T18:39:38.753Z"
   },
   {
    "duration": 17,
    "start_time": "2021-12-19T18:39:38.809Z"
   },
   {
    "duration": 20,
    "start_time": "2021-12-19T18:39:38.828Z"
   },
   {
    "duration": 7,
    "start_time": "2021-12-19T18:39:38.850Z"
   },
   {
    "duration": 40,
    "start_time": "2021-12-19T18:39:38.859Z"
   },
   {
    "duration": 21,
    "start_time": "2021-12-19T18:39:38.902Z"
   },
   {
    "duration": 9,
    "start_time": "2021-12-19T18:39:38.926Z"
   },
   {
    "duration": 14,
    "start_time": "2021-12-19T18:39:38.940Z"
   },
   {
    "duration": 47,
    "start_time": "2021-12-19T18:39:38.957Z"
   },
   {
    "duration": 15,
    "start_time": "2021-12-19T18:39:39.006Z"
   },
   {
    "duration": 8,
    "start_time": "2021-12-19T18:39:39.023Z"
   },
   {
    "duration": 8,
    "start_time": "2021-12-19T18:39:39.034Z"
   },
   {
    "duration": 7,
    "start_time": "2021-12-19T18:39:39.044Z"
   },
   {
    "duration": 12,
    "start_time": "2021-12-19T18:39:39.053Z"
   },
   {
    "duration": 26,
    "start_time": "2021-12-19T18:39:39.092Z"
   },
   {
    "duration": 17,
    "start_time": "2021-12-19T18:39:39.120Z"
   },
   {
    "duration": 22,
    "start_time": "2021-12-19T18:39:39.139Z"
   },
   {
    "duration": 31,
    "start_time": "2021-12-19T18:39:39.163Z"
   },
   {
    "duration": 77,
    "start_time": "2021-12-19T18:39:39.196Z"
   },
   {
    "duration": 7,
    "start_time": "2021-12-19T18:39:39.277Z"
   },
   {
    "duration": 24,
    "start_time": "2021-12-19T18:39:39.286Z"
   },
   {
    "duration": 33,
    "start_time": "2021-12-19T18:39:39.313Z"
   },
   {
    "duration": 4,
    "start_time": "2021-12-19T18:39:39.349Z"
   },
   {
    "duration": 33,
    "start_time": "2021-12-19T18:39:39.356Z"
   },
   {
    "duration": 31,
    "start_time": "2021-12-19T18:39:39.391Z"
   },
   {
    "duration": 11,
    "start_time": "2021-12-19T18:39:39.424Z"
   },
   {
    "duration": 4,
    "start_time": "2021-12-19T18:39:39.437Z"
   },
   {
    "duration": 10,
    "start_time": "2021-12-19T18:39:39.443Z"
   },
   {
    "duration": 9,
    "start_time": "2021-12-19T18:39:39.455Z"
   },
   {
    "duration": 33,
    "start_time": "2021-12-19T18:39:39.466Z"
   },
   {
    "duration": 11,
    "start_time": "2021-12-19T18:39:40.536Z"
   },
   {
    "duration": 17,
    "start_time": "2021-12-19T18:39:41.298Z"
   },
   {
    "duration": 34,
    "start_time": "2021-12-19T18:42:50.452Z"
   },
   {
    "duration": 6,
    "start_time": "2021-12-19T18:42:50.488Z"
   },
   {
    "duration": 21,
    "start_time": "2021-12-19T18:42:50.496Z"
   },
   {
    "duration": 25,
    "start_time": "2021-12-19T18:42:50.519Z"
   },
   {
    "duration": 9,
    "start_time": "2021-12-19T18:42:50.546Z"
   },
   {
    "duration": 190,
    "start_time": "2021-12-19T18:42:50.557Z"
   },
   {
    "duration": 22,
    "start_time": "2021-12-19T18:42:50.749Z"
   },
   {
    "duration": 42,
    "start_time": "2021-12-19T18:42:50.775Z"
   },
   {
    "duration": 101,
    "start_time": "2021-12-19T18:42:50.819Z"
   },
   {
    "duration": 18,
    "start_time": "2021-12-19T18:42:50.922Z"
   },
   {
    "duration": 149,
    "start_time": "2021-12-19T18:42:50.943Z"
   },
   {
    "duration": 27,
    "start_time": "2021-12-19T18:42:51.094Z"
   },
   {
    "duration": 31,
    "start_time": "2021-12-19T18:42:51.124Z"
   },
   {
    "duration": 5,
    "start_time": "2021-12-19T18:42:51.156Z"
   },
   {
    "duration": 29,
    "start_time": "2021-12-19T18:42:51.163Z"
   },
   {
    "duration": 26,
    "start_time": "2021-12-19T18:42:51.194Z"
   },
   {
    "duration": 16,
    "start_time": "2021-12-19T18:42:51.222Z"
   },
   {
    "duration": 20,
    "start_time": "2021-12-19T18:42:51.240Z"
   },
   {
    "duration": 6,
    "start_time": "2021-12-19T18:42:51.261Z"
   },
   {
    "duration": 8,
    "start_time": "2021-12-19T18:42:51.292Z"
   },
   {
    "duration": 29,
    "start_time": "2021-12-19T18:42:51.302Z"
   },
   {
    "duration": 7,
    "start_time": "2021-12-19T18:42:51.332Z"
   },
   {
    "duration": 26,
    "start_time": "2021-12-19T18:42:51.342Z"
   },
   {
    "duration": 22,
    "start_time": "2021-12-19T18:42:51.370Z"
   },
   {
    "duration": 12,
    "start_time": "2021-12-19T18:42:51.394Z"
   },
   {
    "duration": 8,
    "start_time": "2021-12-19T18:42:51.408Z"
   },
   {
    "duration": 4,
    "start_time": "2021-12-19T18:42:51.418Z"
   },
   {
    "duration": 11,
    "start_time": "2021-12-19T18:42:51.424Z"
   },
   {
    "duration": 15,
    "start_time": "2021-12-19T18:42:51.437Z"
   },
   {
    "duration": 41,
    "start_time": "2021-12-19T18:42:51.454Z"
   },
   {
    "duration": 15,
    "start_time": "2021-12-19T18:42:51.497Z"
   },
   {
    "duration": 18,
    "start_time": "2021-12-19T18:42:51.514Z"
   },
   {
    "duration": 5,
    "start_time": "2021-12-19T18:42:51.534Z"
   },
   {
    "duration": 67,
    "start_time": "2021-12-19T18:42:51.540Z"
   },
   {
    "duration": 4,
    "start_time": "2021-12-19T18:42:51.609Z"
   },
   {
    "duration": 29,
    "start_time": "2021-12-19T18:42:51.614Z"
   },
   {
    "duration": 27,
    "start_time": "2021-12-19T18:42:51.645Z"
   },
   {
    "duration": 3,
    "start_time": "2021-12-19T18:42:51.674Z"
   },
   {
    "duration": 18,
    "start_time": "2021-12-19T18:42:51.679Z"
   },
   {
    "duration": 26,
    "start_time": "2021-12-19T18:42:51.698Z"
   },
   {
    "duration": 8,
    "start_time": "2021-12-19T18:42:51.726Z"
   },
   {
    "duration": 6,
    "start_time": "2021-12-19T18:42:51.735Z"
   },
   {
    "duration": 10,
    "start_time": "2021-12-19T18:42:51.742Z"
   },
   {
    "duration": 38,
    "start_time": "2021-12-19T18:42:51.753Z"
   },
   {
    "duration": 10,
    "start_time": "2021-12-19T18:42:51.793Z"
   },
   {
    "duration": 11,
    "start_time": "2021-12-19T18:42:55.527Z"
   },
   {
    "duration": 179,
    "start_time": "2021-12-19T18:42:56.089Z"
   },
   {
    "duration": 172,
    "start_time": "2021-12-19T18:43:55.818Z"
   },
   {
    "duration": 177,
    "start_time": "2021-12-19T18:44:23.789Z"
   },
   {
    "duration": 33,
    "start_time": "2021-12-19T18:46:37.868Z"
   },
   {
    "duration": 6,
    "start_time": "2021-12-19T18:46:37.903Z"
   },
   {
    "duration": 16,
    "start_time": "2021-12-19T18:46:37.911Z"
   },
   {
    "duration": 24,
    "start_time": "2021-12-19T18:46:37.929Z"
   },
   {
    "duration": 36,
    "start_time": "2021-12-19T18:46:37.955Z"
   },
   {
    "duration": 160,
    "start_time": "2021-12-19T18:46:37.993Z"
   },
   {
    "duration": 38,
    "start_time": "2021-12-19T18:46:38.155Z"
   },
   {
    "duration": 26,
    "start_time": "2021-12-19T18:46:38.196Z"
   },
   {
    "duration": 104,
    "start_time": "2021-12-19T18:46:38.224Z"
   },
   {
    "duration": 23,
    "start_time": "2021-12-19T18:46:38.330Z"
   },
   {
    "duration": 138,
    "start_time": "2021-12-19T18:46:38.355Z"
   },
   {
    "duration": 18,
    "start_time": "2021-12-19T18:46:38.495Z"
   },
   {
    "duration": 30,
    "start_time": "2021-12-19T18:46:38.515Z"
   },
   {
    "duration": 9,
    "start_time": "2021-12-19T18:46:38.547Z"
   },
   {
    "duration": 35,
    "start_time": "2021-12-19T18:46:38.558Z"
   },
   {
    "duration": 54,
    "start_time": "2021-12-19T18:46:38.596Z"
   },
   {
    "duration": 18,
    "start_time": "2021-12-19T18:46:38.652Z"
   },
   {
    "duration": 27,
    "start_time": "2021-12-19T18:46:38.672Z"
   },
   {
    "duration": 6,
    "start_time": "2021-12-19T18:46:38.700Z"
   },
   {
    "duration": 21,
    "start_time": "2021-12-19T18:46:38.708Z"
   },
   {
    "duration": 31,
    "start_time": "2021-12-19T18:46:38.730Z"
   },
   {
    "duration": 7,
    "start_time": "2021-12-19T18:46:38.763Z"
   },
   {
    "duration": 23,
    "start_time": "2021-12-19T18:46:38.773Z"
   },
   {
    "duration": 15,
    "start_time": "2021-12-19T18:46:38.799Z"
   },
   {
    "duration": 44,
    "start_time": "2021-12-19T18:46:38.816Z"
   },
   {
    "duration": 14,
    "start_time": "2021-12-19T18:46:38.862Z"
   },
   {
    "duration": 21,
    "start_time": "2021-12-19T18:46:38.877Z"
   },
   {
    "duration": 19,
    "start_time": "2021-12-19T18:46:38.900Z"
   },
   {
    "duration": 28,
    "start_time": "2021-12-19T18:46:38.921Z"
   },
   {
    "duration": 43,
    "start_time": "2021-12-19T18:46:38.951Z"
   },
   {
    "duration": 24,
    "start_time": "2021-12-19T18:46:38.996Z"
   },
   {
    "duration": 29,
    "start_time": "2021-12-19T18:46:39.022Z"
   },
   {
    "duration": 4,
    "start_time": "2021-12-19T18:46:39.053Z"
   },
   {
    "duration": 41,
    "start_time": "2021-12-19T18:46:39.059Z"
   },
   {
    "duration": 3,
    "start_time": "2021-12-19T18:46:39.102Z"
   },
   {
    "duration": 11,
    "start_time": "2021-12-19T18:46:39.107Z"
   },
   {
    "duration": 27,
    "start_time": "2021-12-19T18:46:39.119Z"
   },
   {
    "duration": 3,
    "start_time": "2021-12-19T18:46:39.148Z"
   },
   {
    "duration": 40,
    "start_time": "2021-12-19T18:46:39.153Z"
   },
   {
    "duration": 27,
    "start_time": "2021-12-19T18:46:39.195Z"
   },
   {
    "duration": 8,
    "start_time": "2021-12-19T18:46:39.223Z"
   },
   {
    "duration": 5,
    "start_time": "2021-12-19T18:46:39.233Z"
   },
   {
    "duration": 9,
    "start_time": "2021-12-19T18:46:39.240Z"
   },
   {
    "duration": 45,
    "start_time": "2021-12-19T18:46:39.251Z"
   },
   {
    "duration": 10,
    "start_time": "2021-12-19T18:46:39.298Z"
   },
   {
    "duration": 10,
    "start_time": "2021-12-19T18:46:42.286Z"
   },
   {
    "duration": 25,
    "start_time": "2021-12-19T18:46:44.049Z"
   },
   {
    "duration": 17,
    "start_time": "2021-12-19T18:50:32.732Z"
   },
   {
    "duration": 23,
    "start_time": "2021-12-19T18:50:32.752Z"
   },
   {
    "duration": 8,
    "start_time": "2021-12-19T18:50:32.778Z"
   },
   {
    "duration": 16,
    "start_time": "2021-12-19T18:50:32.788Z"
   },
   {
    "duration": 7,
    "start_time": "2021-12-19T18:50:32.806Z"
   },
   {
    "duration": 1073,
    "start_time": "2021-12-19T18:51:17.884Z"
   },
   {
    "duration": 275,
    "start_time": "2021-12-19T18:51:18.684Z"
   },
   {
    "duration": 271,
    "start_time": "2021-12-19T18:51:18.689Z"
   },
   {
    "duration": 268,
    "start_time": "2021-12-19T18:51:18.693Z"
   },
   {
    "duration": 265,
    "start_time": "2021-12-19T18:51:18.696Z"
   },
   {
    "duration": 35,
    "start_time": "2021-12-19T18:51:30.037Z"
   },
   {
    "duration": 15,
    "start_time": "2021-12-19T18:51:30.075Z"
   },
   {
    "duration": 20,
    "start_time": "2021-12-19T18:51:30.093Z"
   },
   {
    "duration": 28,
    "start_time": "2021-12-19T18:51:30.115Z"
   },
   {
    "duration": 8,
    "start_time": "2021-12-19T18:51:30.145Z"
   },
   {
    "duration": 170,
    "start_time": "2021-12-19T18:51:30.155Z"
   },
   {
    "duration": 20,
    "start_time": "2021-12-19T18:51:30.327Z"
   },
   {
    "duration": 41,
    "start_time": "2021-12-19T18:51:30.350Z"
   },
   {
    "duration": 94,
    "start_time": "2021-12-19T18:51:30.393Z"
   },
   {
    "duration": 14,
    "start_time": "2021-12-19T18:51:30.489Z"
   },
   {
    "duration": 144,
    "start_time": "2021-12-19T18:51:30.505Z"
   },
   {
    "duration": 17,
    "start_time": "2021-12-19T18:51:30.651Z"
   },
   {
    "duration": 49,
    "start_time": "2021-12-19T18:51:30.670Z"
   },
   {
    "duration": 5,
    "start_time": "2021-12-19T18:51:30.721Z"
   },
   {
    "duration": 13,
    "start_time": "2021-12-19T18:51:30.727Z"
   },
   {
    "duration": 58,
    "start_time": "2021-12-19T18:51:30.742Z"
   },
   {
    "duration": 16,
    "start_time": "2021-12-19T18:51:30.802Z"
   },
   {
    "duration": 30,
    "start_time": "2021-12-19T18:51:30.820Z"
   },
   {
    "duration": 7,
    "start_time": "2021-12-19T18:51:30.852Z"
   },
   {
    "duration": 14,
    "start_time": "2021-12-19T18:51:30.861Z"
   },
   {
    "duration": 33,
    "start_time": "2021-12-19T18:51:30.876Z"
   },
   {
    "duration": 9,
    "start_time": "2021-12-19T18:51:30.910Z"
   },
   {
    "duration": 19,
    "start_time": "2021-12-19T18:51:30.922Z"
   },
   {
    "duration": 14,
    "start_time": "2021-12-19T18:51:30.943Z"
   },
   {
    "duration": 34,
    "start_time": "2021-12-19T18:51:30.958Z"
   },
   {
    "duration": 6,
    "start_time": "2021-12-19T18:51:30.994Z"
   },
   {
    "duration": 21,
    "start_time": "2021-12-19T18:51:31.002Z"
   },
   {
    "duration": 13,
    "start_time": "2021-12-19T18:51:31.025Z"
   },
   {
    "duration": 16,
    "start_time": "2021-12-19T18:51:31.040Z"
   },
   {
    "duration": 43,
    "start_time": "2021-12-19T18:51:31.057Z"
   },
   {
    "duration": 16,
    "start_time": "2021-12-19T18:51:31.101Z"
   },
   {
    "duration": 28,
    "start_time": "2021-12-19T18:51:31.119Z"
   },
   {
    "duration": 4,
    "start_time": "2021-12-19T18:51:31.149Z"
   },
   {
    "duration": 50,
    "start_time": "2021-12-19T18:51:31.155Z"
   },
   {
    "duration": 4,
    "start_time": "2021-12-19T18:51:31.206Z"
   },
   {
    "duration": 29,
    "start_time": "2021-12-19T18:51:31.212Z"
   },
   {
    "duration": 53,
    "start_time": "2021-12-19T18:51:31.243Z"
   },
   {
    "duration": 3,
    "start_time": "2021-12-19T18:51:31.298Z"
   },
   {
    "duration": 29,
    "start_time": "2021-12-19T18:51:31.303Z"
   },
   {
    "duration": 50,
    "start_time": "2021-12-19T18:51:31.333Z"
   },
   {
    "duration": 8,
    "start_time": "2021-12-19T18:51:31.385Z"
   },
   {
    "duration": 24,
    "start_time": "2021-12-19T18:51:31.395Z"
   },
   {
    "duration": 14,
    "start_time": "2021-12-19T18:51:31.420Z"
   },
   {
    "duration": 27,
    "start_time": "2021-12-19T18:51:31.436Z"
   },
   {
    "duration": 13,
    "start_time": "2021-12-19T18:51:34.451Z"
   },
   {
    "duration": 10,
    "start_time": "2021-12-19T18:51:35.456Z"
   },
   {
    "duration": 16,
    "start_time": "2021-12-19T18:51:42.364Z"
   },
   {
    "duration": 14,
    "start_time": "2021-12-19T18:51:48.873Z"
   },
   {
    "duration": 29,
    "start_time": "2021-12-19T18:52:20.117Z"
   },
   {
    "duration": 6,
    "start_time": "2021-12-19T18:52:53.713Z"
   },
   {
    "duration": 25,
    "start_time": "2021-12-19T18:52:53.721Z"
   },
   {
    "duration": 8,
    "start_time": "2021-12-19T18:52:53.749Z"
   },
   {
    "duration": 15,
    "start_time": "2021-12-19T18:52:53.759Z"
   },
   {
    "duration": 16,
    "start_time": "2021-12-19T18:52:53.776Z"
   },
   {
    "duration": 181,
    "start_time": "2021-12-19T18:54:36.085Z"
   },
   {
    "duration": 295,
    "start_time": "2021-12-19T18:54:35.973Z"
   },
   {
    "duration": 291,
    "start_time": "2021-12-19T18:54:35.979Z"
   },
   {
    "duration": 288,
    "start_time": "2021-12-19T18:54:35.982Z"
   },
   {
    "duration": 287,
    "start_time": "2021-12-19T18:54:35.984Z"
   },
   {
    "duration": 588,
    "start_time": "2021-12-19T18:54:58.223Z"
   },
   {
    "duration": 7,
    "start_time": "2021-12-19T18:54:58.812Z"
   },
   {
    "duration": 17,
    "start_time": "2021-12-19T18:54:58.821Z"
   },
   {
    "duration": 21,
    "start_time": "2021-12-19T18:54:58.840Z"
   },
   {
    "duration": 8,
    "start_time": "2021-12-19T18:54:58.862Z"
   },
   {
    "duration": 158,
    "start_time": "2021-12-19T18:54:58.871Z"
   },
   {
    "duration": 21,
    "start_time": "2021-12-19T18:54:59.031Z"
   },
   {
    "duration": 48,
    "start_time": "2021-12-19T18:54:59.055Z"
   },
   {
    "duration": 91,
    "start_time": "2021-12-19T18:54:59.106Z"
   },
   {
    "duration": 15,
    "start_time": "2021-12-19T18:54:59.199Z"
   },
   {
    "duration": 153,
    "start_time": "2021-12-19T18:54:59.216Z"
   },
   {
    "duration": 21,
    "start_time": "2021-12-19T18:54:59.371Z"
   },
   {
    "duration": 39,
    "start_time": "2021-12-19T18:54:59.394Z"
   },
   {
    "duration": 6,
    "start_time": "2021-12-19T18:54:59.435Z"
   },
   {
    "duration": 34,
    "start_time": "2021-12-19T18:54:59.443Z"
   },
   {
    "duration": 50,
    "start_time": "2021-12-19T18:54:59.479Z"
   },
   {
    "duration": 21,
    "start_time": "2021-12-19T18:54:59.531Z"
   },
   {
    "duration": 25,
    "start_time": "2021-12-19T18:54:59.553Z"
   },
   {
    "duration": 13,
    "start_time": "2021-12-19T18:54:59.580Z"
   },
   {
    "duration": 14,
    "start_time": "2021-12-19T18:54:59.595Z"
   },
   {
    "duration": 33,
    "start_time": "2021-12-19T18:54:59.611Z"
   },
   {
    "duration": 6,
    "start_time": "2021-12-19T18:54:59.646Z"
   },
   {
    "duration": 26,
    "start_time": "2021-12-19T18:54:59.655Z"
   },
   {
    "duration": 19,
    "start_time": "2021-12-19T18:54:59.683Z"
   },
   {
    "duration": 30,
    "start_time": "2021-12-19T18:54:59.704Z"
   },
   {
    "duration": 20,
    "start_time": "2021-12-19T18:54:59.736Z"
   },
   {
    "duration": 24,
    "start_time": "2021-12-19T18:54:59.758Z"
   },
   {
    "duration": 23,
    "start_time": "2021-12-19T18:54:59.784Z"
   },
   {
    "duration": 30,
    "start_time": "2021-12-19T18:54:59.809Z"
   },
   {
    "duration": 33,
    "start_time": "2021-12-19T18:54:59.841Z"
   },
   {
    "duration": 15,
    "start_time": "2021-12-19T18:54:59.876Z"
   },
   {
    "duration": 31,
    "start_time": "2021-12-19T18:54:59.893Z"
   },
   {
    "duration": 6,
    "start_time": "2021-12-19T18:54:59.926Z"
   },
   {
    "duration": 51,
    "start_time": "2021-12-19T18:54:59.934Z"
   },
   {
    "duration": 3,
    "start_time": "2021-12-19T18:54:59.987Z"
   },
   {
    "duration": 30,
    "start_time": "2021-12-19T18:54:59.992Z"
   },
   {
    "duration": 52,
    "start_time": "2021-12-19T18:55:00.024Z"
   },
   {
    "duration": 4,
    "start_time": "2021-12-19T18:55:00.078Z"
   },
   {
    "duration": 44,
    "start_time": "2021-12-19T18:55:00.086Z"
   },
   {
    "duration": 36,
    "start_time": "2021-12-19T18:55:00.132Z"
   },
   {
    "duration": 13,
    "start_time": "2021-12-19T18:55:00.170Z"
   },
   {
    "duration": 26,
    "start_time": "2021-12-19T18:55:00.185Z"
   },
   {
    "duration": 32,
    "start_time": "2021-12-19T18:55:00.213Z"
   },
   {
    "duration": 25,
    "start_time": "2021-12-19T18:55:00.247Z"
   },
   {
    "duration": 32,
    "start_time": "2021-12-19T18:55:00.274Z"
   },
   {
    "duration": 33,
    "start_time": "2021-12-19T18:55:00.307Z"
   },
   {
    "duration": 20,
    "start_time": "2021-12-19T18:55:00.342Z"
   },
   {
    "duration": 38,
    "start_time": "2021-12-19T18:55:00.364Z"
   },
   {
    "duration": 8,
    "start_time": "2021-12-19T18:55:00.404Z"
   },
   {
    "duration": 31,
    "start_time": "2021-12-19T18:55:00.413Z"
   },
   {
    "duration": 31,
    "start_time": "2021-12-19T18:55:00.446Z"
   },
   {
    "duration": 46,
    "start_time": "2021-12-19T18:58:26.694Z"
   },
   {
    "duration": 1179,
    "start_time": "2021-12-19T18:58:47.348Z"
   },
   {
    "duration": 7,
    "start_time": "2021-12-19T18:58:48.529Z"
   },
   {
    "duration": 23,
    "start_time": "2021-12-19T18:58:48.538Z"
   },
   {
    "duration": 30,
    "start_time": "2021-12-19T18:58:48.563Z"
   },
   {
    "duration": 12,
    "start_time": "2021-12-19T18:58:48.595Z"
   },
   {
    "duration": 192,
    "start_time": "2021-12-19T18:58:48.608Z"
   },
   {
    "duration": 19,
    "start_time": "2021-12-19T18:58:48.802Z"
   },
   {
    "duration": 34,
    "start_time": "2021-12-19T18:58:48.824Z"
   },
   {
    "duration": 106,
    "start_time": "2021-12-19T18:58:48.861Z"
   },
   {
    "duration": 26,
    "start_time": "2021-12-19T18:58:48.968Z"
   },
   {
    "duration": 131,
    "start_time": "2021-12-19T18:58:48.995Z"
   },
   {
    "duration": 16,
    "start_time": "2021-12-19T18:58:49.128Z"
   },
   {
    "duration": 27,
    "start_time": "2021-12-19T18:58:49.146Z"
   },
   {
    "duration": 19,
    "start_time": "2021-12-19T18:58:49.175Z"
   },
   {
    "duration": 6,
    "start_time": "2021-12-19T18:58:49.196Z"
   },
   {
    "duration": 32,
    "start_time": "2021-12-19T18:58:49.204Z"
   },
   {
    "duration": 18,
    "start_time": "2021-12-19T18:58:49.237Z"
   },
   {
    "duration": 52,
    "start_time": "2021-12-19T18:58:49.256Z"
   },
   {
    "duration": 5,
    "start_time": "2021-12-19T18:58:49.310Z"
   },
   {
    "duration": 21,
    "start_time": "2021-12-19T18:58:49.317Z"
   },
   {
    "duration": 24,
    "start_time": "2021-12-19T18:58:49.340Z"
   },
   {
    "duration": 6,
    "start_time": "2021-12-19T18:58:49.366Z"
   },
   {
    "duration": 14,
    "start_time": "2021-12-19T18:58:49.392Z"
   },
   {
    "duration": 11,
    "start_time": "2021-12-19T18:58:49.408Z"
   },
   {
    "duration": 11,
    "start_time": "2021-12-19T18:58:49.420Z"
   },
   {
    "duration": 7,
    "start_time": "2021-12-19T18:58:49.432Z"
   },
   {
    "duration": 4,
    "start_time": "2021-12-19T18:58:49.440Z"
   },
   {
    "duration": 5,
    "start_time": "2021-12-19T18:58:49.446Z"
   },
   {
    "duration": 45,
    "start_time": "2021-12-19T18:58:49.452Z"
   },
   {
    "duration": 24,
    "start_time": "2021-12-19T18:58:49.498Z"
   },
   {
    "duration": 14,
    "start_time": "2021-12-19T18:58:49.524Z"
   },
   {
    "duration": 17,
    "start_time": "2021-12-19T18:58:49.539Z"
   },
   {
    "duration": 6,
    "start_time": "2021-12-19T18:58:49.557Z"
   },
   {
    "duration": 68,
    "start_time": "2021-12-19T18:58:49.565Z"
   },
   {
    "duration": 4,
    "start_time": "2021-12-19T18:58:49.635Z"
   },
   {
    "duration": 11,
    "start_time": "2021-12-19T18:58:49.640Z"
   },
   {
    "duration": 43,
    "start_time": "2021-12-19T18:58:49.653Z"
   },
   {
    "duration": 4,
    "start_time": "2021-12-19T18:58:49.698Z"
   },
   {
    "duration": 13,
    "start_time": "2021-12-19T18:58:49.703Z"
   },
   {
    "duration": 30,
    "start_time": "2021-12-19T18:58:49.717Z"
   },
   {
    "duration": 8,
    "start_time": "2021-12-19T18:58:49.748Z"
   },
   {
    "duration": 34,
    "start_time": "2021-12-19T18:58:49.758Z"
   },
   {
    "duration": 7,
    "start_time": "2021-12-19T18:58:49.794Z"
   },
   {
    "duration": 11,
    "start_time": "2021-12-19T18:58:49.803Z"
   },
   {
    "duration": 9,
    "start_time": "2021-12-19T18:58:49.815Z"
   },
   {
    "duration": 15,
    "start_time": "2021-12-19T18:58:49.826Z"
   },
   {
    "duration": 5,
    "start_time": "2021-12-19T18:58:49.842Z"
   },
   {
    "duration": 57,
    "start_time": "2021-12-19T18:58:49.848Z"
   },
   {
    "duration": 8,
    "start_time": "2021-12-19T18:58:49.907Z"
   },
   {
    "duration": 15,
    "start_time": "2021-12-19T18:58:49.917Z"
   },
   {
    "duration": 10,
    "start_time": "2021-12-19T18:58:49.933Z"
   },
   {
    "duration": 245,
    "start_time": "2021-12-19T19:14:05.141Z"
   },
   {
    "duration": 4293,
    "start_time": "2021-12-19T19:14:12.290Z"
   },
   {
    "duration": 5,
    "start_time": "2021-12-19T19:14:26.563Z"
   },
   {
    "duration": 174,
    "start_time": "2021-12-19T19:14:58.575Z"
   },
   {
    "duration": 4543,
    "start_time": "2021-12-19T19:15:08.630Z"
   },
   {
    "duration": 7,
    "start_time": "2021-12-19T19:15:22.494Z"
   },
   {
    "duration": 10,
    "start_time": "2021-12-19T19:17:04.415Z"
   },
   {
    "duration": 8,
    "start_time": "2021-12-19T19:22:19.621Z"
   },
   {
    "duration": 274,
    "start_time": "2021-12-19T19:36:58.861Z"
   },
   {
    "duration": 6,
    "start_time": "2021-12-19T19:37:02.126Z"
   },
   {
    "duration": 3216,
    "start_time": "2021-12-19T19:37:03.872Z"
   },
   {
    "duration": 733,
    "start_time": "2021-12-19T19:37:17.452Z"
   },
   {
    "duration": 23,
    "start_time": "2021-12-19T19:37:32.786Z"
   },
   {
    "duration": 28,
    "start_time": "2021-12-19T19:38:16.366Z"
   },
   {
    "duration": 19,
    "start_time": "2021-12-19T19:38:45.603Z"
   },
   {
    "duration": 23,
    "start_time": "2021-12-19T19:39:24.621Z"
   },
   {
    "duration": 704,
    "start_time": "2021-12-20T12:38:31.065Z"
   },
   {
    "duration": 5,
    "start_time": "2021-12-20T12:38:31.771Z"
   },
   {
    "duration": 15,
    "start_time": "2021-12-20T12:38:31.778Z"
   },
   {
    "duration": 20,
    "start_time": "2021-12-20T12:38:31.795Z"
   },
   {
    "duration": 10,
    "start_time": "2021-12-20T12:38:31.817Z"
   },
   {
    "duration": 151,
    "start_time": "2021-12-20T12:38:31.829Z"
   },
   {
    "duration": 22,
    "start_time": "2021-12-20T12:38:31.982Z"
   },
   {
    "duration": 24,
    "start_time": "2021-12-20T12:38:32.006Z"
   },
   {
    "duration": 80,
    "start_time": "2021-12-20T12:38:32.032Z"
   },
   {
    "duration": 13,
    "start_time": "2021-12-20T12:38:32.113Z"
   },
   {
    "duration": 161,
    "start_time": "2021-12-20T12:38:32.128Z"
   },
   {
    "duration": 15,
    "start_time": "2021-12-20T12:38:32.290Z"
   },
   {
    "duration": 23,
    "start_time": "2021-12-20T12:38:32.306Z"
   },
   {
    "duration": 4,
    "start_time": "2021-12-20T12:38:32.331Z"
   },
   {
    "duration": 7,
    "start_time": "2021-12-20T12:38:32.336Z"
   },
   {
    "duration": 51,
    "start_time": "2021-12-20T12:38:32.345Z"
   },
   {
    "duration": 20,
    "start_time": "2021-12-20T12:38:32.398Z"
   },
   {
    "duration": 82,
    "start_time": "2021-12-20T12:38:32.419Z"
   },
   {
    "duration": 39,
    "start_time": "2021-12-20T12:38:32.503Z"
   },
   {
    "duration": 159,
    "start_time": "2021-12-20T12:38:32.544Z"
   },
   {
    "duration": 49,
    "start_time": "2021-12-20T12:38:32.704Z"
   },
   {
    "duration": 5,
    "start_time": "2021-12-20T12:38:32.755Z"
   },
   {
    "duration": 33,
    "start_time": "2021-12-20T12:38:32.763Z"
   },
   {
    "duration": 34,
    "start_time": "2021-12-20T12:38:32.799Z"
   },
   {
    "duration": 33,
    "start_time": "2021-12-20T12:38:32.835Z"
   },
   {
    "duration": 18,
    "start_time": "2021-12-20T12:38:32.870Z"
   },
   {
    "duration": 50,
    "start_time": "2021-12-20T12:38:32.889Z"
   },
   {
    "duration": 5,
    "start_time": "2021-12-20T12:38:32.941Z"
   },
   {
    "duration": 31,
    "start_time": "2021-12-20T12:38:32.948Z"
   },
   {
    "duration": 30,
    "start_time": "2021-12-20T12:38:32.981Z"
   },
   {
    "duration": 18,
    "start_time": "2021-12-20T12:38:33.013Z"
   },
   {
    "duration": 17,
    "start_time": "2021-12-20T12:38:33.032Z"
   },
   {
    "duration": 37,
    "start_time": "2021-12-20T12:38:33.051Z"
   },
   {
    "duration": 43,
    "start_time": "2021-12-20T12:38:33.090Z"
   },
   {
    "duration": 3,
    "start_time": "2021-12-20T12:38:33.135Z"
   },
   {
    "duration": 14,
    "start_time": "2021-12-20T12:38:33.140Z"
   },
   {
    "duration": 41,
    "start_time": "2021-12-20T12:38:33.156Z"
   },
   {
    "duration": 3,
    "start_time": "2021-12-20T12:38:33.199Z"
   },
   {
    "duration": 14,
    "start_time": "2021-12-20T12:38:33.203Z"
   },
   {
    "duration": 28,
    "start_time": "2021-12-20T12:38:33.219Z"
   },
   {
    "duration": 7,
    "start_time": "2021-12-20T12:38:33.249Z"
   },
   {
    "duration": 12,
    "start_time": "2021-12-20T12:38:33.258Z"
   },
   {
    "duration": 7,
    "start_time": "2021-12-20T12:38:33.288Z"
   },
   {
    "duration": 12,
    "start_time": "2021-12-20T12:38:33.296Z"
   },
   {
    "duration": 9,
    "start_time": "2021-12-20T12:38:33.309Z"
   },
   {
    "duration": 11,
    "start_time": "2021-12-20T12:38:33.319Z"
   },
   {
    "duration": 8,
    "start_time": "2021-12-20T12:38:33.331Z"
   },
   {
    "duration": 3,
    "start_time": "2021-12-20T12:38:33.340Z"
   },
   {
    "duration": 9,
    "start_time": "2021-12-20T12:38:33.344Z"
   },
   {
    "duration": 43,
    "start_time": "2021-12-20T12:38:33.354Z"
   },
   {
    "duration": 7,
    "start_time": "2021-12-20T12:38:33.399Z"
   },
   {
    "duration": 4,
    "start_time": "2021-12-20T12:38:33.407Z"
   },
   {
    "duration": 929,
    "start_time": "2021-12-20T12:38:33.413Z"
   },
   {
    "duration": 15,
    "start_time": "2021-12-20T12:38:34.343Z"
   },
   {
    "duration": 308,
    "start_time": "2021-12-20T12:42:12.335Z"
   },
   {
    "duration": 6,
    "start_time": "2021-12-20T12:42:33.497Z"
   },
   {
    "duration": 253,
    "start_time": "2021-12-20T12:42:55.360Z"
   },
   {
    "duration": 16,
    "start_time": "2021-12-20T12:43:02.880Z"
   },
   {
    "duration": 7,
    "start_time": "2021-12-20T12:43:18.734Z"
   },
   {
    "duration": 32,
    "start_time": "2021-12-20T12:43:52.539Z"
   },
   {
    "duration": 6,
    "start_time": "2021-12-20T12:43:52.573Z"
   },
   {
    "duration": 14,
    "start_time": "2021-12-20T12:43:52.581Z"
   },
   {
    "duration": 19,
    "start_time": "2021-12-20T12:43:52.597Z"
   },
   {
    "duration": 5,
    "start_time": "2021-12-20T12:43:52.618Z"
   },
   {
    "duration": 138,
    "start_time": "2021-12-20T12:43:52.625Z"
   },
   {
    "duration": 24,
    "start_time": "2021-12-20T12:43:52.764Z"
   },
   {
    "duration": 22,
    "start_time": "2021-12-20T12:43:52.790Z"
   },
   {
    "duration": 84,
    "start_time": "2021-12-20T12:43:52.814Z"
   },
   {
    "duration": 13,
    "start_time": "2021-12-20T12:43:52.900Z"
   },
   {
    "duration": 119,
    "start_time": "2021-12-20T12:43:52.914Z"
   },
   {
    "duration": 15,
    "start_time": "2021-12-20T12:43:53.035Z"
   },
   {
    "duration": 41,
    "start_time": "2021-12-20T12:43:53.052Z"
   },
   {
    "duration": 5,
    "start_time": "2021-12-20T12:43:53.094Z"
   },
   {
    "duration": 7,
    "start_time": "2021-12-20T12:43:53.100Z"
   },
   {
    "duration": 26,
    "start_time": "2021-12-20T12:43:53.109Z"
   },
   {
    "duration": 16,
    "start_time": "2021-12-20T12:43:53.136Z"
   },
   {
    "duration": 40,
    "start_time": "2021-12-20T12:43:53.153Z"
   },
   {
    "duration": 5,
    "start_time": "2021-12-20T12:43:53.195Z"
   },
   {
    "duration": 9,
    "start_time": "2021-12-20T12:43:53.202Z"
   },
   {
    "duration": 20,
    "start_time": "2021-12-20T12:43:53.212Z"
   },
   {
    "duration": 6,
    "start_time": "2021-12-20T12:43:53.233Z"
   },
   {
    "duration": 14,
    "start_time": "2021-12-20T12:43:53.242Z"
   },
   {
    "duration": 34,
    "start_time": "2021-12-20T12:43:53.258Z"
   },
   {
    "duration": 11,
    "start_time": "2021-12-20T12:43:53.294Z"
   },
   {
    "duration": 7,
    "start_time": "2021-12-20T12:43:53.306Z"
   },
   {
    "duration": 4,
    "start_time": "2021-12-20T12:43:53.314Z"
   },
   {
    "duration": 5,
    "start_time": "2021-12-20T12:43:53.319Z"
   },
   {
    "duration": 9,
    "start_time": "2021-12-20T12:43:53.325Z"
   },
   {
    "duration": 53,
    "start_time": "2021-12-20T12:43:53.335Z"
   },
   {
    "duration": 14,
    "start_time": "2021-12-20T12:43:53.389Z"
   },
   {
    "duration": 16,
    "start_time": "2021-12-20T12:43:53.405Z"
   },
   {
    "duration": 4,
    "start_time": "2021-12-20T12:43:53.422Z"
   },
   {
    "duration": 39,
    "start_time": "2021-12-20T12:43:53.428Z"
   },
   {
    "duration": 19,
    "start_time": "2021-12-20T12:43:53.469Z"
   },
   {
    "duration": 11,
    "start_time": "2021-12-20T12:43:53.489Z"
   },
   {
    "duration": 25,
    "start_time": "2021-12-20T12:43:53.501Z"
   },
   {
    "duration": 3,
    "start_time": "2021-12-20T12:43:53.528Z"
   },
   {
    "duration": 9,
    "start_time": "2021-12-20T12:43:53.533Z"
   },
   {
    "duration": 45,
    "start_time": "2021-12-20T12:43:53.543Z"
   },
   {
    "duration": 7,
    "start_time": "2021-12-20T12:43:53.589Z"
   },
   {
    "duration": 20,
    "start_time": "2021-12-20T12:43:53.598Z"
   },
   {
    "duration": 6,
    "start_time": "2021-12-20T12:43:53.619Z"
   },
   {
    "duration": 11,
    "start_time": "2021-12-20T12:43:53.627Z"
   },
   {
    "duration": 8,
    "start_time": "2021-12-20T12:43:53.640Z"
   },
   {
    "duration": 12,
    "start_time": "2021-12-20T12:43:53.649Z"
   },
   {
    "duration": 27,
    "start_time": "2021-12-20T12:43:53.662Z"
   },
   {
    "duration": 7,
    "start_time": "2021-12-20T12:43:53.690Z"
   },
   {
    "duration": 13,
    "start_time": "2021-12-20T12:43:53.699Z"
   },
   {
    "duration": 6,
    "start_time": "2021-12-20T12:43:53.714Z"
   },
   {
    "duration": 3,
    "start_time": "2021-12-20T12:43:53.722Z"
   },
   {
    "duration": 707,
    "start_time": "2021-12-20T12:43:53.727Z"
   },
   {
    "duration": 15,
    "start_time": "2021-12-20T12:43:54.436Z"
   },
   {
    "duration": 7,
    "start_time": "2021-12-20T12:43:56.663Z"
   },
   {
    "duration": 13,
    "start_time": "2021-12-20T12:43:57.648Z"
   },
   {
    "duration": 7,
    "start_time": "2021-12-20T12:43:59.984Z"
   },
   {
    "duration": 6,
    "start_time": "2021-12-20T12:45:44.050Z"
   },
   {
    "duration": 13,
    "start_time": "2021-12-20T12:45:53.585Z"
   },
   {
    "duration": 7,
    "start_time": "2021-12-20T12:46:03.241Z"
   },
   {
    "duration": 4,
    "start_time": "2021-12-20T12:55:17.218Z"
   },
   {
    "duration": 4,
    "start_time": "2021-12-20T12:55:44.461Z"
   },
   {
    "duration": 4,
    "start_time": "2021-12-20T12:59:51.559Z"
   },
   {
    "duration": 4,
    "start_time": "2021-12-20T12:59:57.120Z"
   },
   {
    "duration": 3,
    "start_time": "2021-12-20T13:03:50.816Z"
   },
   {
    "duration": 4,
    "start_time": "2021-12-20T13:03:56.321Z"
   },
   {
    "duration": 5,
    "start_time": "2021-12-20T13:07:45.171Z"
   },
   {
    "duration": 5,
    "start_time": "2021-12-20T13:09:08.836Z"
   },
   {
    "duration": 5,
    "start_time": "2021-12-20T13:43:26.018Z"
   },
   {
    "duration": 257,
    "start_time": "2021-12-20T13:45:16.822Z"
   },
   {
    "duration": 481,
    "start_time": "2021-12-20T13:45:26.877Z"
   },
   {
    "duration": 5,
    "start_time": "2021-12-20T13:45:38.805Z"
   },
   {
    "duration": 5,
    "start_time": "2021-12-20T13:46:27.796Z"
   },
   {
    "duration": 5,
    "start_time": "2021-12-20T13:47:02.516Z"
   },
   {
    "duration": 4,
    "start_time": "2021-12-20T13:50:20.871Z"
   },
   {
    "duration": 737,
    "start_time": "2021-12-20T13:50:29.111Z"
   },
   {
    "duration": 4,
    "start_time": "2021-12-20T13:51:20.992Z"
   },
   {
    "duration": 140,
    "start_time": "2021-12-20T13:52:48.495Z"
   },
   {
    "duration": 8,
    "start_time": "2021-12-20T13:57:59.657Z"
   },
   {
    "duration": 4,
    "start_time": "2021-12-20T13:58:16.010Z"
   },
   {
    "duration": 169,
    "start_time": "2021-12-20T14:00:32.884Z"
   },
   {
    "duration": 24,
    "start_time": "2021-12-20T14:01:40.516Z"
   },
   {
    "duration": 6,
    "start_time": "2021-12-20T14:08:33.476Z"
   },
   {
    "duration": 860,
    "start_time": "2021-12-20T18:02:57.536Z"
   },
   {
    "duration": 10,
    "start_time": "2021-12-20T18:02:58.398Z"
   },
   {
    "duration": 39,
    "start_time": "2021-12-20T18:02:58.411Z"
   },
   {
    "duration": 51,
    "start_time": "2021-12-20T18:02:58.452Z"
   },
   {
    "duration": 13,
    "start_time": "2021-12-20T18:02:58.505Z"
   },
   {
    "duration": 241,
    "start_time": "2021-12-20T18:02:58.520Z"
   },
   {
    "duration": 26,
    "start_time": "2021-12-20T18:02:58.763Z"
   },
   {
    "duration": 63,
    "start_time": "2021-12-20T18:02:58.794Z"
   },
   {
    "duration": 117,
    "start_time": "2021-12-20T18:02:58.861Z"
   },
   {
    "duration": 18,
    "start_time": "2021-12-20T18:02:58.980Z"
   },
   {
    "duration": 189,
    "start_time": "2021-12-20T18:02:59.001Z"
   },
   {
    "duration": 37,
    "start_time": "2021-12-20T18:02:59.192Z"
   },
   {
    "duration": 38,
    "start_time": "2021-12-20T18:02:59.233Z"
   },
   {
    "duration": 7,
    "start_time": "2021-12-20T18:02:59.273Z"
   },
   {
    "duration": 7,
    "start_time": "2021-12-20T18:02:59.283Z"
   },
   {
    "duration": 73,
    "start_time": "2021-12-20T18:02:59.292Z"
   },
   {
    "duration": 25,
    "start_time": "2021-12-20T18:02:59.367Z"
   },
   {
    "duration": 61,
    "start_time": "2021-12-20T18:02:59.394Z"
   },
   {
    "duration": 9,
    "start_time": "2021-12-20T18:02:59.457Z"
   },
   {
    "duration": 12,
    "start_time": "2021-12-20T18:02:59.469Z"
   },
   {
    "duration": 57,
    "start_time": "2021-12-20T18:02:59.484Z"
   },
   {
    "duration": 9,
    "start_time": "2021-12-20T18:02:59.543Z"
   },
   {
    "duration": 16,
    "start_time": "2021-12-20T18:02:59.559Z"
   },
   {
    "duration": 13,
    "start_time": "2021-12-20T18:02:59.579Z"
   },
   {
    "duration": 49,
    "start_time": "2021-12-20T18:02:59.594Z"
   },
   {
    "duration": 10,
    "start_time": "2021-12-20T18:02:59.645Z"
   },
   {
    "duration": 6,
    "start_time": "2021-12-20T18:02:59.658Z"
   },
   {
    "duration": 5,
    "start_time": "2021-12-20T18:02:59.667Z"
   },
   {
    "duration": 53,
    "start_time": "2021-12-20T18:02:59.674Z"
   },
   {
    "duration": 49,
    "start_time": "2021-12-20T18:02:59.729Z"
   },
   {
    "duration": 22,
    "start_time": "2021-12-20T18:02:59.780Z"
   },
   {
    "duration": 40,
    "start_time": "2021-12-20T18:02:59.805Z"
   },
   {
    "duration": 12,
    "start_time": "2021-12-20T18:02:59.847Z"
   },
   {
    "duration": 85,
    "start_time": "2021-12-20T18:02:59.861Z"
   },
   {
    "duration": 5,
    "start_time": "2021-12-20T18:02:59.948Z"
   },
   {
    "duration": 15,
    "start_time": "2021-12-20T18:02:59.955Z"
   },
   {
    "duration": 52,
    "start_time": "2021-12-20T18:02:59.972Z"
   },
   {
    "duration": 8,
    "start_time": "2021-12-20T18:03:00.026Z"
   },
   {
    "duration": 25,
    "start_time": "2021-12-20T18:03:00.037Z"
   },
   {
    "duration": 51,
    "start_time": "2021-12-20T18:03:00.066Z"
   },
   {
    "duration": 18,
    "start_time": "2021-12-20T18:03:00.124Z"
   },
   {
    "duration": 27,
    "start_time": "2021-12-20T18:03:00.144Z"
   },
   {
    "duration": 10,
    "start_time": "2021-12-20T18:03:00.174Z"
   },
   {
    "duration": 36,
    "start_time": "2021-12-20T18:03:00.187Z"
   },
   {
    "duration": 20,
    "start_time": "2021-12-20T18:03:00.226Z"
   },
   {
    "duration": 18,
    "start_time": "2021-12-20T18:03:00.249Z"
   },
   {
    "duration": 16,
    "start_time": "2021-12-20T18:03:00.270Z"
   },
   {
    "duration": 33,
    "start_time": "2021-12-20T18:03:00.289Z"
   },
   {
    "duration": 32,
    "start_time": "2021-12-20T18:03:00.326Z"
   },
   {
    "duration": 44,
    "start_time": "2021-12-20T18:03:00.361Z"
   },
   {
    "duration": 9,
    "start_time": "2021-12-20T18:03:00.408Z"
   },
   {
    "duration": 1453,
    "start_time": "2021-12-20T18:03:00.422Z"
   },
   {
    "duration": 26,
    "start_time": "2021-12-20T18:03:01.878Z"
   },
   {
    "duration": 38,
    "start_time": "2021-12-20T18:03:01.907Z"
   },
   {
    "duration": 34,
    "start_time": "2021-12-20T18:03:01.947Z"
   },
   {
    "duration": 43,
    "start_time": "2021-12-20T18:03:01.983Z"
   },
   {
    "duration": 37,
    "start_time": "2021-12-20T18:03:02.028Z"
   },
   {
    "duration": 14,
    "start_time": "2021-12-20T18:03:02.068Z"
   },
   {
    "duration": 10,
    "start_time": "2021-12-20T18:03:02.084Z"
   },
   {
    "duration": 11,
    "start_time": "2021-12-20T18:03:02.096Z"
   },
   {
    "duration": 46,
    "start_time": "2021-12-20T18:03:02.109Z"
   },
   {
    "duration": 15,
    "start_time": "2021-12-20T18:03:02.157Z"
   },
   {
    "duration": 23,
    "start_time": "2021-12-20T18:03:02.174Z"
   },
   {
    "duration": 9,
    "start_time": "2021-12-20T18:03:02.199Z"
   },
   {
    "duration": 1014,
    "start_time": "2021-12-20T18:03:02.210Z"
   },
   {
    "duration": 265,
    "start_time": "2021-12-20T18:03:03.229Z"
   },
   {
    "duration": 6,
    "start_time": "2021-12-20T18:03:03.496Z"
   },
   {
    "duration": 9,
    "start_time": "2021-12-20T18:03:03.526Z"
   },
   {
    "duration": 340,
    "start_time": "2021-12-20T18:03:03.538Z"
   },
   {
    "duration": 27,
    "start_time": "2021-12-20T18:03:03.880Z"
   },
   {
    "duration": 381,
    "start_time": "2021-12-20T18:13:42.511Z"
   },
   {
    "duration": 526,
    "start_time": "2021-12-20T18:15:14.934Z"
   },
   {
    "duration": 887,
    "start_time": "2021-12-20T18:15:53.755Z"
   },
   {
    "duration": 492,
    "start_time": "2021-12-20T18:16:21.834Z"
   },
   {
    "duration": 645,
    "start_time": "2021-12-20T18:16:33.899Z"
   },
   {
    "duration": 429,
    "start_time": "2021-12-20T18:18:09.045Z"
   },
   {
    "duration": 492,
    "start_time": "2021-12-20T18:19:28.820Z"
   },
   {
    "duration": 594,
    "start_time": "2021-12-20T18:19:41.193Z"
   },
   {
    "duration": 1204,
    "start_time": "2021-12-21T06:30:32.988Z"
   },
   {
    "duration": 12,
    "start_time": "2021-12-21T06:30:34.196Z"
   },
   {
    "duration": 50,
    "start_time": "2021-12-21T06:30:34.213Z"
   },
   {
    "duration": 31,
    "start_time": "2021-12-21T06:30:34.266Z"
   },
   {
    "duration": 9,
    "start_time": "2021-12-21T06:30:34.300Z"
   },
   {
    "duration": 321,
    "start_time": "2021-12-21T06:30:34.313Z"
   },
   {
    "duration": 57,
    "start_time": "2021-12-21T06:30:34.637Z"
   },
   {
    "duration": 47,
    "start_time": "2021-12-21T06:30:34.697Z"
   },
   {
    "duration": 157,
    "start_time": "2021-12-21T06:30:34.748Z"
   },
   {
    "duration": 22,
    "start_time": "2021-12-21T06:30:34.909Z"
   },
   {
    "duration": 211,
    "start_time": "2021-12-21T06:30:34.934Z"
   },
   {
    "duration": 34,
    "start_time": "2021-12-21T06:30:35.147Z"
   },
   {
    "duration": 39,
    "start_time": "2021-12-21T06:30:35.184Z"
   },
   {
    "duration": 8,
    "start_time": "2021-12-21T06:30:35.226Z"
   },
   {
    "duration": 7,
    "start_time": "2021-12-21T06:30:35.267Z"
   },
   {
    "duration": 44,
    "start_time": "2021-12-21T06:30:35.277Z"
   },
   {
    "duration": 51,
    "start_time": "2021-12-21T06:30:35.324Z"
   },
   {
    "duration": 33,
    "start_time": "2021-12-21T06:30:35.378Z"
   },
   {
    "duration": 11,
    "start_time": "2021-12-21T06:30:35.414Z"
   },
   {
    "duration": 46,
    "start_time": "2021-12-21T06:30:35.428Z"
   },
   {
    "duration": 25,
    "start_time": "2021-12-21T06:30:35.476Z"
   },
   {
    "duration": 12,
    "start_time": "2021-12-21T06:30:35.504Z"
   },
   {
    "duration": 56,
    "start_time": "2021-12-21T06:30:35.519Z"
   },
   {
    "duration": 16,
    "start_time": "2021-12-21T06:30:35.577Z"
   },
   {
    "duration": 19,
    "start_time": "2021-12-21T06:30:35.597Z"
   },
   {
    "duration": 56,
    "start_time": "2021-12-21T06:30:35.619Z"
   },
   {
    "duration": 6,
    "start_time": "2021-12-21T06:30:35.684Z"
   },
   {
    "duration": 6,
    "start_time": "2021-12-21T06:30:35.693Z"
   },
   {
    "duration": 13,
    "start_time": "2021-12-21T06:30:35.702Z"
   },
   {
    "duration": 86,
    "start_time": "2021-12-21T06:30:35.718Z"
   },
   {
    "duration": 22,
    "start_time": "2021-12-21T06:30:35.807Z"
   },
   {
    "duration": 32,
    "start_time": "2021-12-21T06:30:35.832Z"
   },
   {
    "duration": 12,
    "start_time": "2021-12-21T06:30:35.867Z"
   },
   {
    "duration": 79,
    "start_time": "2021-12-21T06:30:35.884Z"
   },
   {
    "duration": 8,
    "start_time": "2021-12-21T06:30:35.966Z"
   },
   {
    "duration": 14,
    "start_time": "2021-12-21T06:30:35.976Z"
   },
   {
    "duration": 35,
    "start_time": "2021-12-21T06:30:35.992Z"
   },
   {
    "duration": 34,
    "start_time": "2021-12-21T06:30:36.030Z"
   },
   {
    "duration": 13,
    "start_time": "2021-12-21T06:30:36.067Z"
   },
   {
    "duration": 57,
    "start_time": "2021-12-21T06:30:36.083Z"
   },
   {
    "duration": 26,
    "start_time": "2021-12-21T06:30:36.142Z"
   },
   {
    "duration": 22,
    "start_time": "2021-12-21T06:30:36.171Z"
   },
   {
    "duration": 15,
    "start_time": "2021-12-21T06:30:36.196Z"
   },
   {
    "duration": 72,
    "start_time": "2021-12-21T06:30:36.213Z"
   },
   {
    "duration": 18,
    "start_time": "2021-12-21T06:30:36.288Z"
   },
   {
    "duration": 22,
    "start_time": "2021-12-21T06:30:36.308Z"
   },
   {
    "duration": 30,
    "start_time": "2021-12-21T06:30:36.333Z"
   },
   {
    "duration": 13,
    "start_time": "2021-12-21T06:30:36.365Z"
   },
   {
    "duration": 35,
    "start_time": "2021-12-21T06:30:36.380Z"
   },
   {
    "duration": 50,
    "start_time": "2021-12-21T06:30:36.418Z"
   },
   {
    "duration": 7,
    "start_time": "2021-12-21T06:30:36.471Z"
   },
   {
    "duration": 1762,
    "start_time": "2021-12-21T06:30:36.481Z"
   },
   {
    "duration": 37,
    "start_time": "2021-12-21T06:30:38.246Z"
   },
   {
    "duration": 11,
    "start_time": "2021-12-21T06:30:38.286Z"
   },
   {
    "duration": 9,
    "start_time": "2021-12-21T06:30:38.301Z"
   },
   {
    "duration": 56,
    "start_time": "2021-12-21T06:30:38.312Z"
   },
   {
    "duration": 16,
    "start_time": "2021-12-21T06:30:38.371Z"
   },
   {
    "duration": 8,
    "start_time": "2021-12-21T06:30:38.390Z"
   },
   {
    "duration": 7,
    "start_time": "2021-12-21T06:30:38.401Z"
   },
   {
    "duration": 52,
    "start_time": "2021-12-21T06:30:38.411Z"
   },
   {
    "duration": 6,
    "start_time": "2021-12-21T06:30:38.465Z"
   },
   {
    "duration": 11,
    "start_time": "2021-12-21T06:30:38.474Z"
   },
   {
    "duration": 6,
    "start_time": "2021-12-21T06:30:38.487Z"
   },
   {
    "duration": 6,
    "start_time": "2021-12-21T06:30:38.495Z"
   },
   {
    "duration": 60,
    "start_time": "2021-12-21T06:30:38.504Z"
   },
   {
    "duration": 1146,
    "start_time": "2021-12-21T06:30:38.567Z"
   },
   {
    "duration": 356,
    "start_time": "2021-12-21T06:30:39.716Z"
   },
   {
    "duration": 495,
    "start_time": "2021-12-21T06:30:40.075Z"
   },
   {
    "duration": 30,
    "start_time": "2021-12-21T07:49:26.172Z"
   },
   {
    "duration": 9,
    "start_time": "2021-12-21T07:57:46.740Z"
   },
   {
    "duration": 433,
    "start_time": "2021-12-21T07:58:58.499Z"
   },
   {
    "duration": 16,
    "start_time": "2021-12-21T07:59:06.374Z"
   },
   {
    "duration": 11,
    "start_time": "2021-12-21T08:06:31.226Z"
   },
   {
    "duration": 245,
    "start_time": "2021-12-21T08:17:58.648Z"
   },
   {
    "duration": 6,
    "start_time": "2021-12-21T08:36:55.279Z"
   },
   {
    "duration": 6,
    "start_time": "2021-12-21T08:37:14.319Z"
   },
   {
    "duration": 832,
    "start_time": "2021-12-21T08:56:14.735Z"
   },
   {
    "duration": 8,
    "start_time": "2021-12-21T08:56:15.570Z"
   },
   {
    "duration": 22,
    "start_time": "2021-12-21T08:56:15.581Z"
   },
   {
    "duration": 26,
    "start_time": "2021-12-21T08:56:15.606Z"
   },
   {
    "duration": 31,
    "start_time": "2021-12-21T08:56:15.635Z"
   },
   {
    "duration": 216,
    "start_time": "2021-12-21T08:56:15.668Z"
   },
   {
    "duration": 26,
    "start_time": "2021-12-21T08:56:15.887Z"
   },
   {
    "duration": 55,
    "start_time": "2021-12-21T08:56:15.916Z"
   },
   {
    "duration": 119,
    "start_time": "2021-12-21T08:56:15.976Z"
   },
   {
    "duration": 19,
    "start_time": "2021-12-21T08:56:16.099Z"
   },
   {
    "duration": 210,
    "start_time": "2021-12-21T08:56:16.120Z"
   },
   {
    "duration": 32,
    "start_time": "2021-12-21T08:56:16.332Z"
   },
   {
    "duration": 56,
    "start_time": "2021-12-21T08:56:16.367Z"
   },
   {
    "duration": 7,
    "start_time": "2021-12-21T08:56:16.425Z"
   },
   {
    "duration": 35,
    "start_time": "2021-12-21T08:56:16.435Z"
   },
   {
    "duration": 48,
    "start_time": "2021-12-21T08:56:16.473Z"
   },
   {
    "duration": 27,
    "start_time": "2021-12-21T08:56:16.523Z"
   },
   {
    "duration": 40,
    "start_time": "2021-12-21T08:56:16.552Z"
   },
   {
    "duration": 8,
    "start_time": "2021-12-21T08:56:16.594Z"
   },
   {
    "duration": 13,
    "start_time": "2021-12-21T08:56:16.604Z"
   },
   {
    "duration": 60,
    "start_time": "2021-12-21T08:56:16.620Z"
   },
   {
    "duration": 8,
    "start_time": "2021-12-21T08:56:16.682Z"
   },
   {
    "duration": 19,
    "start_time": "2021-12-21T08:56:16.693Z"
   },
   {
    "duration": 50,
    "start_time": "2021-12-21T08:56:16.715Z"
   },
   {
    "duration": 15,
    "start_time": "2021-12-21T08:56:16.768Z"
   },
   {
    "duration": 10,
    "start_time": "2021-12-21T08:56:16.786Z"
   },
   {
    "duration": 7,
    "start_time": "2021-12-21T08:56:16.806Z"
   },
   {
    "duration": 6,
    "start_time": "2021-12-21T08:56:16.816Z"
   },
   {
    "duration": 50,
    "start_time": "2021-12-21T08:56:16.824Z"
   },
   {
    "duration": 35,
    "start_time": "2021-12-21T08:56:16.876Z"
   },
   {
    "duration": 21,
    "start_time": "2021-12-21T08:56:16.913Z"
   },
   {
    "duration": 53,
    "start_time": "2021-12-21T08:56:16.936Z"
   },
   {
    "duration": 15,
    "start_time": "2021-12-21T08:56:16.992Z"
   },
   {
    "duration": 100,
    "start_time": "2021-12-21T08:56:17.010Z"
   },
   {
    "duration": 7,
    "start_time": "2021-12-21T08:56:17.113Z"
   },
   {
    "duration": 18,
    "start_time": "2021-12-21T08:56:17.123Z"
   },
   {
    "duration": 50,
    "start_time": "2021-12-21T08:56:17.164Z"
   },
   {
    "duration": 5,
    "start_time": "2021-12-21T08:56:17.217Z"
   },
   {
    "duration": 39,
    "start_time": "2021-12-21T08:56:17.225Z"
   },
   {
    "duration": 35,
    "start_time": "2021-12-21T08:56:17.267Z"
   },
   {
    "duration": 12,
    "start_time": "2021-12-21T08:56:17.304Z"
   },
   {
    "duration": 56,
    "start_time": "2021-12-21T08:56:17.318Z"
   },
   {
    "duration": 15,
    "start_time": "2021-12-21T08:56:17.377Z"
   },
   {
    "duration": 21,
    "start_time": "2021-12-21T08:56:17.396Z"
   },
   {
    "duration": 62,
    "start_time": "2021-12-21T08:56:17.421Z"
   },
   {
    "duration": 26,
    "start_time": "2021-12-21T08:56:17.486Z"
   },
   {
    "duration": 8,
    "start_time": "2021-12-21T08:56:17.516Z"
   },
   {
    "duration": 45,
    "start_time": "2021-12-21T08:56:17.527Z"
   },
   {
    "duration": 24,
    "start_time": "2021-12-21T08:56:17.574Z"
   },
   {
    "duration": 11,
    "start_time": "2021-12-21T08:56:17.601Z"
   },
   {
    "duration": 7,
    "start_time": "2021-12-21T08:56:17.614Z"
   },
   {
    "duration": 1426,
    "start_time": "2021-12-21T08:56:17.663Z"
   },
   {
    "duration": 22,
    "start_time": "2021-12-21T08:56:19.091Z"
   },
   {
    "duration": 12,
    "start_time": "2021-12-21T08:56:19.116Z"
   },
   {
    "duration": 33,
    "start_time": "2021-12-21T08:56:19.130Z"
   },
   {
    "duration": 17,
    "start_time": "2021-12-21T08:56:19.166Z"
   },
   {
    "duration": 10,
    "start_time": "2021-12-21T08:56:19.186Z"
   },
   {
    "duration": 11,
    "start_time": "2021-12-21T08:56:19.199Z"
   },
   {
    "duration": 8,
    "start_time": "2021-12-21T08:56:19.213Z"
   },
   {
    "duration": 41,
    "start_time": "2021-12-21T08:56:19.224Z"
   },
   {
    "duration": 7,
    "start_time": "2021-12-21T08:56:19.267Z"
   },
   {
    "duration": 7,
    "start_time": "2021-12-21T08:56:19.276Z"
   },
   {
    "duration": 7,
    "start_time": "2021-12-21T08:56:19.286Z"
   },
   {
    "duration": 1121,
    "start_time": "2021-12-21T08:56:19.296Z"
   },
   {
    "duration": 250,
    "start_time": "2021-12-21T08:56:20.420Z"
   },
   {
    "duration": 6,
    "start_time": "2021-12-21T08:56:20.673Z"
   },
   {
    "duration": 252,
    "start_time": "2021-12-21T08:56:20.682Z"
   },
   {
    "duration": 7,
    "start_time": "2021-12-21T08:56:20.936Z"
   },
   {
    "duration": 509,
    "start_time": "2021-12-21T08:56:20.945Z"
   },
   {
    "duration": 558,
    "start_time": "2021-12-21T08:56:34.546Z"
   },
   {
    "duration": 268,
    "start_time": "2021-12-21T08:57:00.476Z"
   },
   {
    "duration": 326,
    "start_time": "2021-12-21T08:57:07.033Z"
   },
   {
    "duration": 391,
    "start_time": "2021-12-21T08:57:34.241Z"
   },
   {
    "duration": 4,
    "start_time": "2021-12-21T09:01:05.981Z"
   },
   {
    "duration": 6,
    "start_time": "2021-12-21T09:01:12.316Z"
   },
   {
    "duration": 6,
    "start_time": "2021-12-21T09:07:11.171Z"
   },
   {
    "duration": 8,
    "start_time": "2021-12-21T09:08:25.409Z"
   },
   {
    "duration": 7,
    "start_time": "2021-12-21T09:08:39.968Z"
   },
   {
    "duration": 7,
    "start_time": "2021-12-21T09:09:17.641Z"
   },
   {
    "duration": 8,
    "start_time": "2021-12-21T09:09:31.345Z"
   },
   {
    "duration": 8,
    "start_time": "2021-12-21T09:09:51.569Z"
   },
   {
    "duration": 6,
    "start_time": "2021-12-21T09:10:10.057Z"
   },
   {
    "duration": 6,
    "start_time": "2021-12-21T09:10:23.761Z"
   },
   {
    "duration": 6,
    "start_time": "2021-12-21T09:11:05.906Z"
   },
   {
    "duration": 388,
    "start_time": "2021-12-21T18:12:45.550Z"
   },
   {
    "duration": 887,
    "start_time": "2021-12-21T18:12:54.330Z"
   },
   {
    "duration": 10,
    "start_time": "2021-12-21T18:12:55.220Z"
   },
   {
    "duration": 26,
    "start_time": "2021-12-21T18:12:55.233Z"
   },
   {
    "duration": 35,
    "start_time": "2021-12-21T18:12:55.262Z"
   },
   {
    "duration": 15,
    "start_time": "2021-12-21T18:12:55.300Z"
   },
   {
    "duration": 225,
    "start_time": "2021-12-21T18:12:55.317Z"
   },
   {
    "duration": 30,
    "start_time": "2021-12-21T18:12:55.544Z"
   },
   {
    "duration": 37,
    "start_time": "2021-12-21T18:12:55.577Z"
   },
   {
    "duration": 145,
    "start_time": "2021-12-21T18:12:55.619Z"
   },
   {
    "duration": 20,
    "start_time": "2021-12-21T18:12:55.768Z"
   },
   {
    "duration": 206,
    "start_time": "2021-12-21T18:12:55.791Z"
   },
   {
    "duration": 24,
    "start_time": "2021-12-21T18:12:56.000Z"
   },
   {
    "duration": 70,
    "start_time": "2021-12-21T18:12:56.027Z"
   },
   {
    "duration": 7,
    "start_time": "2021-12-21T18:12:56.100Z"
   },
   {
    "duration": 8,
    "start_time": "2021-12-21T18:12:56.110Z"
   },
   {
    "duration": 71,
    "start_time": "2021-12-21T18:12:56.120Z"
   },
   {
    "duration": 26,
    "start_time": "2021-12-21T18:12:56.194Z"
   },
   {
    "duration": 58,
    "start_time": "2021-12-21T18:12:56.223Z"
   },
   {
    "duration": 9,
    "start_time": "2021-12-21T18:12:56.283Z"
   },
   {
    "duration": 13,
    "start_time": "2021-12-21T18:12:56.295Z"
   },
   {
    "duration": 60,
    "start_time": "2021-12-21T18:12:56.310Z"
   },
   {
    "duration": 9,
    "start_time": "2021-12-21T18:12:56.373Z"
   },
   {
    "duration": 20,
    "start_time": "2021-12-21T18:12:56.384Z"
   },
   {
    "duration": 14,
    "start_time": "2021-12-21T18:12:56.407Z"
   },
   {
    "duration": 57,
    "start_time": "2021-12-21T18:12:56.423Z"
   },
   {
    "duration": 11,
    "start_time": "2021-12-21T18:12:56.482Z"
   },
   {
    "duration": 6,
    "start_time": "2021-12-21T18:12:56.501Z"
   },
   {
    "duration": 6,
    "start_time": "2021-12-21T18:12:56.511Z"
   },
   {
    "duration": 56,
    "start_time": "2021-12-21T18:12:56.519Z"
   },
   {
    "duration": 35,
    "start_time": "2021-12-21T18:12:56.577Z"
   },
   {
    "duration": 21,
    "start_time": "2021-12-21T18:12:56.614Z"
   },
   {
    "duration": 54,
    "start_time": "2021-12-21T18:12:56.637Z"
   },
   {
    "duration": 12,
    "start_time": "2021-12-21T18:12:56.694Z"
   },
   {
    "duration": 81,
    "start_time": "2021-12-21T18:12:56.708Z"
   },
   {
    "duration": 6,
    "start_time": "2021-12-21T18:12:56.791Z"
   },
   {
    "duration": 15,
    "start_time": "2021-12-21T18:12:56.800Z"
   },
   {
    "duration": 59,
    "start_time": "2021-12-21T18:12:56.818Z"
   },
   {
    "duration": 6,
    "start_time": "2021-12-21T18:12:56.880Z"
   },
   {
    "duration": 15,
    "start_time": "2021-12-21T18:12:56.888Z"
   },
   {
    "duration": 40,
    "start_time": "2021-12-21T18:12:56.906Z"
   },
   {
    "duration": 17,
    "start_time": "2021-12-21T18:12:56.968Z"
   },
   {
    "duration": 25,
    "start_time": "2021-12-21T18:12:56.988Z"
   },
   {
    "duration": 14,
    "start_time": "2021-12-21T18:12:57.016Z"
   },
   {
    "duration": 14,
    "start_time": "2021-12-21T18:12:57.067Z"
   },
   {
    "duration": 19,
    "start_time": "2021-12-21T18:12:57.084Z"
   },
   {
    "duration": 25,
    "start_time": "2021-12-21T18:12:57.106Z"
   },
   {
    "duration": 36,
    "start_time": "2021-12-21T18:12:57.133Z"
   },
   {
    "duration": 11,
    "start_time": "2021-12-21T18:12:57.171Z"
   },
   {
    "duration": 24,
    "start_time": "2021-12-21T18:12:57.185Z"
   },
   {
    "duration": 12,
    "start_time": "2021-12-21T18:12:57.212Z"
   },
   {
    "duration": 7,
    "start_time": "2021-12-21T18:12:57.268Z"
   },
   {
    "duration": 1453,
    "start_time": "2021-12-21T18:12:57.277Z"
   },
   {
    "duration": 22,
    "start_time": "2021-12-21T18:12:58.733Z"
   },
   {
    "duration": 10,
    "start_time": "2021-12-21T18:12:58.767Z"
   },
   {
    "duration": 9,
    "start_time": "2021-12-21T18:12:58.779Z"
   },
   {
    "duration": 19,
    "start_time": "2021-12-21T18:12:58.790Z"
   },
   {
    "duration": 11,
    "start_time": "2021-12-21T18:12:58.812Z"
   },
   {
    "duration": 43,
    "start_time": "2021-12-21T18:12:58.825Z"
   },
   {
    "duration": 14,
    "start_time": "2021-12-21T18:12:58.871Z"
   },
   {
    "duration": 10,
    "start_time": "2021-12-21T18:12:58.888Z"
   },
   {
    "duration": 10,
    "start_time": "2021-12-21T18:12:58.900Z"
   },
   {
    "duration": 7,
    "start_time": "2021-12-21T18:12:58.913Z"
   },
   {
    "duration": 10,
    "start_time": "2021-12-21T18:12:58.922Z"
   },
   {
    "duration": 1224,
    "start_time": "2021-12-21T18:12:58.968Z"
   },
   {
    "duration": 356,
    "start_time": "2021-12-21T18:13:00.194Z"
   },
   {
    "duration": 15,
    "start_time": "2021-12-21T18:13:00.552Z"
   },
   {
    "duration": 364,
    "start_time": "2021-12-21T18:13:00.569Z"
   },
   {
    "duration": 7,
    "start_time": "2021-12-21T18:13:00.936Z"
   },
   {
    "duration": 528,
    "start_time": "2021-12-21T18:13:00.945Z"
   },
   {
    "duration": 7,
    "start_time": "2021-12-21T18:13:01.475Z"
   },
   {
    "duration": 36,
    "start_time": "2021-12-21T18:13:01.485Z"
   },
   {
    "duration": 24,
    "start_time": "2021-12-21T18:13:01.524Z"
   },
   {
    "duration": 9,
    "start_time": "2021-12-21T18:13:54.233Z"
   },
   {
    "duration": 7,
    "start_time": "2021-12-21T18:20:14.099Z"
   },
   {
    "duration": 7,
    "start_time": "2021-12-21T18:21:14.391Z"
   },
   {
    "duration": 510,
    "start_time": "2021-12-21T18:23:01.382Z"
   },
   {
    "duration": 348,
    "start_time": "2021-12-21T18:25:29.909Z"
   },
   {
    "duration": 9,
    "start_time": "2021-12-21T18:33:40.206Z"
   },
   {
    "duration": 327,
    "start_time": "2021-12-21T18:35:20.662Z"
   },
   {
    "duration": 51,
    "start_time": "2021-12-21T18:42:01.231Z"
   },
   {
    "duration": 48,
    "start_time": "2021-12-21T18:42:24.767Z"
   },
   {
    "duration": 9,
    "start_time": "2021-12-21T18:42:24.818Z"
   },
   {
    "duration": 40,
    "start_time": "2021-12-21T18:42:24.830Z"
   },
   {
    "duration": 27,
    "start_time": "2021-12-21T18:42:24.873Z"
   },
   {
    "duration": 15,
    "start_time": "2021-12-21T18:42:24.902Z"
   },
   {
    "duration": 348,
    "start_time": "2021-12-21T18:42:24.920Z"
   },
   {
    "duration": 30,
    "start_time": "2021-12-21T18:42:25.271Z"
   },
   {
    "duration": 165,
    "start_time": "2021-12-21T18:42:25.305Z"
   },
   {
    "duration": 208,
    "start_time": "2021-12-21T18:42:25.474Z"
   },
   {
    "duration": 32,
    "start_time": "2021-12-21T18:42:25.685Z"
   },
   {
    "duration": 283,
    "start_time": "2021-12-21T18:42:25.720Z"
   },
   {
    "duration": 40,
    "start_time": "2021-12-21T18:42:26.006Z"
   },
   {
    "duration": 75,
    "start_time": "2021-12-21T18:42:26.049Z"
   },
   {
    "duration": 10,
    "start_time": "2021-12-21T18:42:26.127Z"
   },
   {
    "duration": 32,
    "start_time": "2021-12-21T18:42:26.140Z"
   },
   {
    "duration": 48,
    "start_time": "2021-12-21T18:42:26.175Z"
   },
   {
    "duration": 62,
    "start_time": "2021-12-21T18:42:26.226Z"
   },
   {
    "duration": 53,
    "start_time": "2021-12-21T18:42:26.292Z"
   },
   {
    "duration": 19,
    "start_time": "2021-12-21T18:42:26.349Z"
   },
   {
    "duration": 14,
    "start_time": "2021-12-21T18:42:26.372Z"
   },
   {
    "duration": 34,
    "start_time": "2021-12-21T18:42:26.389Z"
   },
   {
    "duration": 44,
    "start_time": "2021-12-21T18:42:26.425Z"
   },
   {
    "duration": 21,
    "start_time": "2021-12-21T18:42:26.477Z"
   },
   {
    "duration": 16,
    "start_time": "2021-12-21T18:42:26.501Z"
   },
   {
    "duration": 60,
    "start_time": "2021-12-21T18:42:26.520Z"
   },
   {
    "duration": 13,
    "start_time": "2021-12-21T18:42:26.583Z"
   },
   {
    "duration": 10,
    "start_time": "2021-12-21T18:42:26.599Z"
   },
   {
    "duration": 11,
    "start_time": "2021-12-21T18:42:26.612Z"
   },
   {
    "duration": 49,
    "start_time": "2021-12-21T18:42:26.626Z"
   },
   {
    "duration": 47,
    "start_time": "2021-12-21T18:42:26.678Z"
   },
   {
    "duration": 22,
    "start_time": "2021-12-21T18:42:26.728Z"
   },
   {
    "duration": 34,
    "start_time": "2021-12-21T18:42:26.753Z"
   },
   {
    "duration": 7,
    "start_time": "2021-12-21T18:42:26.790Z"
   },
   {
    "duration": 84,
    "start_time": "2021-12-21T18:42:26.800Z"
   },
   {
    "duration": 6,
    "start_time": "2021-12-21T18:42:26.886Z"
   },
   {
    "duration": 19,
    "start_time": "2021-12-21T18:42:26.894Z"
   },
   {
    "duration": 60,
    "start_time": "2021-12-21T18:42:26.916Z"
   },
   {
    "duration": 5,
    "start_time": "2021-12-21T18:42:26.978Z"
   },
   {
    "duration": 16,
    "start_time": "2021-12-21T18:42:26.986Z"
   },
   {
    "duration": 34,
    "start_time": "2021-12-21T18:42:27.005Z"
   },
   {
    "duration": 13,
    "start_time": "2021-12-21T18:42:27.067Z"
   },
   {
    "duration": 19,
    "start_time": "2021-12-21T18:42:27.082Z"
   },
   {
    "duration": 13,
    "start_time": "2021-12-21T18:42:27.104Z"
   },
   {
    "duration": 59,
    "start_time": "2021-12-21T18:42:27.119Z"
   },
   {
    "duration": 20,
    "start_time": "2021-12-21T18:42:27.181Z"
   },
   {
    "duration": 26,
    "start_time": "2021-12-21T18:42:27.204Z"
   },
   {
    "duration": 38,
    "start_time": "2021-12-21T18:42:27.233Z"
   },
   {
    "duration": 15,
    "start_time": "2021-12-21T18:42:27.274Z"
   },
   {
    "duration": 29,
    "start_time": "2021-12-21T18:42:27.291Z"
   },
   {
    "duration": 51,
    "start_time": "2021-12-21T18:42:27.324Z"
   },
   {
    "duration": 7,
    "start_time": "2021-12-21T18:42:27.378Z"
   },
   {
    "duration": 1474,
    "start_time": "2021-12-21T18:42:27.387Z"
   },
   {
    "duration": 30,
    "start_time": "2021-12-21T18:42:28.867Z"
   },
   {
    "duration": 11,
    "start_time": "2021-12-21T18:42:28.900Z"
   },
   {
    "duration": 11,
    "start_time": "2021-12-21T18:42:28.914Z"
   },
   {
    "duration": 41,
    "start_time": "2021-12-21T18:42:28.927Z"
   },
   {
    "duration": 12,
    "start_time": "2021-12-21T18:42:28.970Z"
   },
   {
    "duration": 10,
    "start_time": "2021-12-21T18:42:28.984Z"
   },
   {
    "duration": 8,
    "start_time": "2021-12-21T18:42:28.996Z"
   },
   {
    "duration": 9,
    "start_time": "2021-12-21T18:42:29.006Z"
   },
   {
    "duration": 51,
    "start_time": "2021-12-21T18:42:29.017Z"
   },
   {
    "duration": 7,
    "start_time": "2021-12-21T18:42:29.071Z"
   },
   {
    "duration": 9,
    "start_time": "2021-12-21T18:42:29.080Z"
   },
   {
    "duration": 608,
    "start_time": "2021-12-21T18:42:29.091Z"
   },
   {
    "duration": 358,
    "start_time": "2021-12-21T18:42:29.702Z"
   },
   {
    "duration": 9,
    "start_time": "2021-12-21T18:42:30.062Z"
   },
   {
    "duration": 51,
    "start_time": "2021-12-21T18:42:33.059Z"
   },
   {
    "duration": 8,
    "start_time": "2021-12-21T18:45:21.542Z"
   },
   {
    "duration": 594,
    "start_time": "2021-12-21T18:50:23.885Z"
   },
   {
    "duration": 463,
    "start_time": "2021-12-22T11:07:38.412Z"
   },
   {
    "duration": 699,
    "start_time": "2021-12-22T11:07:45.093Z"
   },
   {
    "duration": 6,
    "start_time": "2021-12-22T11:07:45.794Z"
   },
   {
    "duration": 14,
    "start_time": "2021-12-22T11:07:45.803Z"
   },
   {
    "duration": 21,
    "start_time": "2021-12-22T11:07:45.819Z"
   },
   {
    "duration": 7,
    "start_time": "2021-12-22T11:07:45.842Z"
   },
   {
    "duration": 157,
    "start_time": "2021-12-22T11:07:45.850Z"
   },
   {
    "duration": 22,
    "start_time": "2021-12-22T11:07:46.009Z"
   },
   {
    "duration": 33,
    "start_time": "2021-12-22T11:07:46.034Z"
   },
   {
    "duration": 131,
    "start_time": "2021-12-22T11:07:46.069Z"
   },
   {
    "duration": 21,
    "start_time": "2021-12-22T11:07:46.205Z"
   },
   {
    "duration": 135,
    "start_time": "2021-12-22T11:07:46.229Z"
   },
   {
    "duration": 18,
    "start_time": "2021-12-22T11:07:46.365Z"
   },
   {
    "duration": 42,
    "start_time": "2021-12-22T11:07:46.385Z"
   },
   {
    "duration": 5,
    "start_time": "2021-12-22T11:07:46.429Z"
   },
   {
    "duration": 7,
    "start_time": "2021-12-22T11:07:46.435Z"
   },
   {
    "duration": 34,
    "start_time": "2021-12-22T11:07:46.443Z"
   },
   {
    "duration": 39,
    "start_time": "2021-12-22T11:07:46.479Z"
   },
   {
    "duration": 24,
    "start_time": "2021-12-22T11:07:46.520Z"
   },
   {
    "duration": 6,
    "start_time": "2021-12-22T11:07:46.545Z"
   },
   {
    "duration": 9,
    "start_time": "2021-12-22T11:07:46.552Z"
   },
   {
    "duration": 49,
    "start_time": "2021-12-22T11:07:46.563Z"
   },
   {
    "duration": 21,
    "start_time": "2021-12-22T11:07:46.614Z"
   },
   {
    "duration": 19,
    "start_time": "2021-12-22T11:07:46.640Z"
   },
   {
    "duration": 13,
    "start_time": "2021-12-22T11:07:46.663Z"
   },
   {
    "duration": 32,
    "start_time": "2021-12-22T11:07:46.679Z"
   },
   {
    "duration": 7,
    "start_time": "2021-12-22T11:07:46.713Z"
   },
   {
    "duration": 5,
    "start_time": "2021-12-22T11:07:46.722Z"
   },
   {
    "duration": 6,
    "start_time": "2021-12-22T11:07:46.729Z"
   },
   {
    "duration": 9,
    "start_time": "2021-12-22T11:07:46.737Z"
   },
   {
    "duration": 23,
    "start_time": "2021-12-22T11:07:46.748Z"
   },
   {
    "duration": 49,
    "start_time": "2021-12-22T11:07:46.773Z"
   },
   {
    "duration": 17,
    "start_time": "2021-12-22T11:07:46.824Z"
   },
   {
    "duration": 9,
    "start_time": "2021-12-22T11:07:46.842Z"
   },
   {
    "duration": 54,
    "start_time": "2021-12-22T11:07:46.852Z"
   },
   {
    "duration": 4,
    "start_time": "2021-12-22T11:07:46.908Z"
   },
   {
    "duration": 12,
    "start_time": "2021-12-22T11:07:46.913Z"
   },
   {
    "duration": 26,
    "start_time": "2021-12-22T11:07:46.926Z"
   },
   {
    "duration": 3,
    "start_time": "2021-12-22T11:07:46.954Z"
   },
   {
    "duration": 9,
    "start_time": "2021-12-22T11:07:46.959Z"
   },
   {
    "duration": 50,
    "start_time": "2021-12-22T11:07:46.970Z"
   },
   {
    "duration": 7,
    "start_time": "2021-12-22T11:07:47.022Z"
   },
   {
    "duration": 13,
    "start_time": "2021-12-22T11:07:47.031Z"
   },
   {
    "duration": 8,
    "start_time": "2021-12-22T11:07:47.045Z"
   },
   {
    "duration": 11,
    "start_time": "2021-12-22T11:07:47.054Z"
   },
   {
    "duration": 39,
    "start_time": "2021-12-22T11:07:47.067Z"
   },
   {
    "duration": 12,
    "start_time": "2021-12-22T11:07:47.108Z"
   },
   {
    "duration": 6,
    "start_time": "2021-12-22T11:07:47.121Z"
   },
   {
    "duration": 7,
    "start_time": "2021-12-22T11:07:47.128Z"
   },
   {
    "duration": 14,
    "start_time": "2021-12-22T11:07:47.137Z"
   },
   {
    "duration": 7,
    "start_time": "2021-12-22T11:07:47.153Z"
   },
   {
    "duration": 5,
    "start_time": "2021-12-22T11:07:47.161Z"
   },
   {
    "duration": 733,
    "start_time": "2021-12-22T11:07:47.167Z"
   },
   {
    "duration": 17,
    "start_time": "2021-12-22T11:07:47.901Z"
   },
   {
    "duration": 6,
    "start_time": "2021-12-22T11:07:47.920Z"
   },
   {
    "duration": 6,
    "start_time": "2021-12-22T11:07:47.927Z"
   },
   {
    "duration": 8,
    "start_time": "2021-12-22T11:07:47.934Z"
   },
   {
    "duration": 6,
    "start_time": "2021-12-22T11:07:47.944Z"
   },
   {
    "duration": 5,
    "start_time": "2021-12-22T11:07:47.951Z"
   },
   {
    "duration": 10,
    "start_time": "2021-12-22T11:07:47.958Z"
   },
   {
    "duration": 37,
    "start_time": "2021-12-22T11:07:47.970Z"
   },
   {
    "duration": 5,
    "start_time": "2021-12-22T11:07:48.009Z"
   },
   {
    "duration": 7,
    "start_time": "2021-12-22T11:07:48.016Z"
   },
   {
    "duration": 10,
    "start_time": "2021-12-22T11:07:48.025Z"
   },
   {
    "duration": 866,
    "start_time": "2021-12-22T11:07:48.036Z"
   },
   {
    "duration": 202,
    "start_time": "2021-12-22T11:07:48.906Z"
   },
   {
    "duration": 6,
    "start_time": "2021-12-22T11:07:49.110Z"
   },
   {
    "duration": 30,
    "start_time": "2021-12-22T11:07:49.118Z"
   },
   {
    "duration": 213,
    "start_time": "2021-12-22T11:07:49.154Z"
   },
   {
    "duration": 5,
    "start_time": "2021-12-22T11:07:49.370Z"
   },
   {
    "duration": 316,
    "start_time": "2021-12-22T11:07:49.377Z"
   },
   {
    "duration": 12,
    "start_time": "2021-12-22T11:07:49.695Z"
   },
   {
    "duration": 5,
    "start_time": "2021-12-22T11:07:49.709Z"
   },
   {
    "duration": 6,
    "start_time": "2021-12-22T11:07:49.716Z"
   },
   {
    "duration": 5,
    "start_time": "2021-12-22T11:07:49.724Z"
   },
   {
    "duration": 7,
    "start_time": "2021-12-22T11:07:49.731Z"
   },
   {
    "duration": 7,
    "start_time": "2021-12-22T11:07:49.740Z"
   },
   {
    "duration": 341,
    "start_time": "2021-12-22T11:07:49.749Z"
   },
   {
    "duration": 201,
    "start_time": "2021-12-22T11:07:50.092Z"
   },
   {
    "duration": 14,
    "start_time": "2021-12-22T11:07:50.295Z"
   },
   {
    "duration": 200,
    "start_time": "2021-12-22T11:07:50.311Z"
   },
   {
    "duration": 4,
    "start_time": "2021-12-22T11:07:50.512Z"
   },
   {
    "duration": 357,
    "start_time": "2021-12-22T11:07:50.518Z"
   },
   {
    "duration": 4,
    "start_time": "2021-12-22T11:07:50.876Z"
   },
   {
    "duration": 4,
    "start_time": "2021-12-22T11:08:53.160Z"
   },
   {
    "duration": 4,
    "start_time": "2021-12-22T11:12:07.154Z"
   },
   {
    "duration": 6,
    "start_time": "2021-12-22T11:12:35.896Z"
   },
   {
    "duration": 5,
    "start_time": "2021-12-22T11:16:11.787Z"
   },
   {
    "duration": 5,
    "start_time": "2021-12-22T11:16:49.268Z"
   },
   {
    "duration": 324,
    "start_time": "2021-12-22T11:27:40.831Z"
   },
   {
    "duration": 38,
    "start_time": "2021-12-22T11:48:28.188Z"
   },
   {
    "duration": 1025,
    "start_time": "2021-12-22T11:48:39.277Z"
   },
   {
    "duration": 6,
    "start_time": "2021-12-22T11:48:40.304Z"
   },
   {
    "duration": 16,
    "start_time": "2021-12-22T11:48:40.312Z"
   },
   {
    "duration": 22,
    "start_time": "2021-12-22T11:48:40.330Z"
   },
   {
    "duration": 6,
    "start_time": "2021-12-22T11:48:40.354Z"
   },
   {
    "duration": 160,
    "start_time": "2021-12-22T11:48:40.361Z"
   },
   {
    "duration": 20,
    "start_time": "2021-12-22T11:48:40.523Z"
   },
   {
    "duration": 27,
    "start_time": "2021-12-22T11:48:40.545Z"
   },
   {
    "duration": 109,
    "start_time": "2021-12-22T11:48:40.575Z"
   },
   {
    "duration": 23,
    "start_time": "2021-12-22T11:48:40.686Z"
   },
   {
    "duration": 146,
    "start_time": "2021-12-22T11:48:40.710Z"
   },
   {
    "duration": 19,
    "start_time": "2021-12-22T11:48:40.859Z"
   },
   {
    "duration": 38,
    "start_time": "2021-12-22T11:48:40.879Z"
   },
   {
    "duration": 5,
    "start_time": "2021-12-22T11:48:40.919Z"
   },
   {
    "duration": 7,
    "start_time": "2021-12-22T11:48:40.925Z"
   },
   {
    "duration": 39,
    "start_time": "2021-12-22T11:48:40.933Z"
   },
   {
    "duration": 38,
    "start_time": "2021-12-22T11:48:40.974Z"
   },
   {
    "duration": 23,
    "start_time": "2021-12-22T11:48:41.014Z"
   },
   {
    "duration": 6,
    "start_time": "2021-12-22T11:48:41.039Z"
   },
   {
    "duration": 10,
    "start_time": "2021-12-22T11:48:41.047Z"
   },
   {
    "duration": 22,
    "start_time": "2021-12-22T11:48:41.059Z"
   },
   {
    "duration": 6,
    "start_time": "2021-12-22T11:48:41.106Z"
   },
   {
    "duration": 15,
    "start_time": "2021-12-22T11:48:41.114Z"
   },
   {
    "duration": 9,
    "start_time": "2021-12-22T11:48:41.131Z"
   },
   {
    "duration": 15,
    "start_time": "2021-12-22T11:48:41.142Z"
   },
   {
    "duration": 8,
    "start_time": "2021-12-22T11:48:41.159Z"
   },
   {
    "duration": 36,
    "start_time": "2021-12-22T11:48:41.171Z"
   },
   {
    "duration": 4,
    "start_time": "2021-12-22T11:48:41.210Z"
   },
   {
    "duration": 12,
    "start_time": "2021-12-22T11:48:41.216Z"
   },
   {
    "duration": 25,
    "start_time": "2021-12-22T11:48:41.230Z"
   },
   {
    "duration": 16,
    "start_time": "2021-12-22T11:48:41.256Z"
   },
   {
    "duration": 46,
    "start_time": "2021-12-22T11:48:41.274Z"
   },
   {
    "duration": 9,
    "start_time": "2021-12-22T11:48:41.322Z"
   },
   {
    "duration": 42,
    "start_time": "2021-12-22T11:48:41.332Z"
   },
   {
    "duration": 3,
    "start_time": "2021-12-22T11:48:41.376Z"
   },
   {
    "duration": 30,
    "start_time": "2021-12-22T11:48:41.381Z"
   },
   {
    "duration": 28,
    "start_time": "2021-12-22T11:48:41.412Z"
   },
   {
    "duration": 4,
    "start_time": "2021-12-22T11:48:41.441Z"
   },
   {
    "duration": 11,
    "start_time": "2021-12-22T11:48:41.446Z"
   },
   {
    "duration": 51,
    "start_time": "2021-12-22T11:48:41.459Z"
   },
   {
    "duration": 7,
    "start_time": "2021-12-22T11:48:41.512Z"
   },
   {
    "duration": 11,
    "start_time": "2021-12-22T11:48:41.521Z"
   },
   {
    "duration": 7,
    "start_time": "2021-12-22T11:48:41.534Z"
   },
   {
    "duration": 11,
    "start_time": "2021-12-22T11:48:41.542Z"
   },
   {
    "duration": 10,
    "start_time": "2021-12-22T11:48:41.555Z"
   },
   {
    "duration": 12,
    "start_time": "2021-12-22T11:48:41.566Z"
   },
   {
    "duration": 27,
    "start_time": "2021-12-22T11:48:41.580Z"
   },
   {
    "duration": 8,
    "start_time": "2021-12-22T11:48:41.608Z"
   },
   {
    "duration": 15,
    "start_time": "2021-12-22T11:48:41.618Z"
   },
   {
    "duration": 8,
    "start_time": "2021-12-22T11:48:41.635Z"
   },
   {
    "duration": 4,
    "start_time": "2021-12-22T11:48:41.645Z"
   },
   {
    "duration": 800,
    "start_time": "2021-12-22T11:48:41.651Z"
   },
   {
    "duration": 17,
    "start_time": "2021-12-22T11:48:42.453Z"
   },
   {
    "duration": 11,
    "start_time": "2021-12-22T11:48:42.471Z"
   },
   {
    "duration": 5,
    "start_time": "2021-12-22T11:48:42.483Z"
   },
   {
    "duration": 7,
    "start_time": "2021-12-22T11:48:42.490Z"
   },
   {
    "duration": 7,
    "start_time": "2021-12-22T11:48:42.498Z"
   },
   {
    "duration": 5,
    "start_time": "2021-12-22T11:48:42.506Z"
   },
   {
    "duration": 5,
    "start_time": "2021-12-22T11:48:42.512Z"
   },
   {
    "duration": 7,
    "start_time": "2021-12-22T11:48:42.519Z"
   },
   {
    "duration": 4,
    "start_time": "2021-12-22T11:48:42.528Z"
   },
   {
    "duration": 6,
    "start_time": "2021-12-22T11:48:42.534Z"
   },
   {
    "duration": 6,
    "start_time": "2021-12-22T11:48:42.541Z"
   },
   {
    "duration": 593,
    "start_time": "2021-12-22T11:48:42.549Z"
   },
   {
    "duration": 307,
    "start_time": "2021-12-22T11:48:43.144Z"
   },
   {
    "duration": 55,
    "start_time": "2021-12-22T11:48:43.453Z"
   },
   {
    "duration": 32,
    "start_time": "2021-12-22T11:48:43.510Z"
   },
   {
    "duration": 270,
    "start_time": "2021-12-22T11:48:43.544Z"
   },
   {
    "duration": 4,
    "start_time": "2021-12-22T11:48:43.816Z"
   },
   {
    "duration": 313,
    "start_time": "2021-12-22T11:48:43.822Z"
   },
   {
    "duration": 5,
    "start_time": "2021-12-22T11:48:44.136Z"
   },
   {
    "duration": 6,
    "start_time": "2021-12-22T11:48:44.142Z"
   },
   {
    "duration": 7,
    "start_time": "2021-12-22T11:48:44.150Z"
   },
   {
    "duration": 7,
    "start_time": "2021-12-22T11:48:44.158Z"
   },
   {
    "duration": 5,
    "start_time": "2021-12-22T11:48:44.166Z"
   },
   {
    "duration": 34,
    "start_time": "2021-12-22T11:48:44.173Z"
   },
   {
    "duration": 332,
    "start_time": "2021-12-22T11:48:44.209Z"
   },
   {
    "duration": 216,
    "start_time": "2021-12-22T11:48:44.543Z"
   },
   {
    "duration": 5,
    "start_time": "2021-12-22T11:48:44.762Z"
   },
   {
    "duration": 204,
    "start_time": "2021-12-22T11:48:44.769Z"
   },
   {
    "duration": 5,
    "start_time": "2021-12-22T11:48:44.980Z"
   },
   {
    "duration": 327,
    "start_time": "2021-12-22T11:48:44.987Z"
   },
   {
    "duration": 4,
    "start_time": "2021-12-22T11:48:45.316Z"
   },
   {
    "duration": 7,
    "start_time": "2021-12-22T11:48:45.321Z"
   },
   {
    "duration": 5,
    "start_time": "2021-12-22T11:48:45.329Z"
   },
   {
    "duration": 6,
    "start_time": "2021-12-22T11:48:45.336Z"
   },
   {
    "duration": 5,
    "start_time": "2021-12-22T11:48:45.343Z"
   },
   {
    "duration": 6,
    "start_time": "2021-12-22T11:48:45.350Z"
   },
   {
    "duration": 426,
    "start_time": "2021-12-22T11:48:45.357Z"
   },
   {
    "duration": 3,
    "start_time": "2021-12-22T11:51:30.244Z"
   },
   {
    "duration": 5,
    "start_time": "2021-12-22T11:51:37.438Z"
   },
   {
    "duration": 4,
    "start_time": "2021-12-22T11:52:11.879Z"
   },
   {
    "duration": 2,
    "start_time": "2021-12-22T12:11:42.832Z"
   },
   {
    "duration": 3,
    "start_time": "2021-12-22T12:14:27.646Z"
   },
   {
    "duration": 3,
    "start_time": "2021-12-22T12:14:53.681Z"
   },
   {
    "duration": 4,
    "start_time": "2021-12-22T12:15:07.182Z"
   },
   {
    "duration": 4,
    "start_time": "2021-12-22T12:15:29.831Z"
   },
   {
    "duration": 1028,
    "start_time": "2021-12-22T12:16:31.857Z"
   },
   {
    "duration": 6,
    "start_time": "2021-12-22T12:16:32.887Z"
   },
   {
    "duration": 19,
    "start_time": "2021-12-22T12:16:32.895Z"
   },
   {
    "duration": 22,
    "start_time": "2021-12-22T12:16:32.915Z"
   },
   {
    "duration": 9,
    "start_time": "2021-12-22T12:16:32.939Z"
   },
   {
    "duration": 195,
    "start_time": "2021-12-22T12:16:32.950Z"
   },
   {
    "duration": 20,
    "start_time": "2021-12-22T12:16:33.147Z"
   },
   {
    "duration": 52,
    "start_time": "2021-12-22T12:16:33.170Z"
   },
   {
    "duration": 99,
    "start_time": "2021-12-22T12:16:33.224Z"
   },
   {
    "duration": 15,
    "start_time": "2021-12-22T12:16:33.325Z"
   },
   {
    "duration": 149,
    "start_time": "2021-12-22T12:16:33.342Z"
   },
   {
    "duration": 22,
    "start_time": "2021-12-22T12:16:33.493Z"
   },
   {
    "duration": 28,
    "start_time": "2021-12-22T12:16:33.517Z"
   },
   {
    "duration": 5,
    "start_time": "2021-12-22T12:16:33.547Z"
   },
   {
    "duration": 7,
    "start_time": "2021-12-22T12:16:33.553Z"
   },
   {
    "duration": 60,
    "start_time": "2021-12-22T12:16:33.561Z"
   },
   {
    "duration": 17,
    "start_time": "2021-12-22T12:16:33.623Z"
   },
   {
    "duration": 22,
    "start_time": "2021-12-22T12:16:33.642Z"
   },
   {
    "duration": 6,
    "start_time": "2021-12-22T12:16:33.665Z"
   },
   {
    "duration": 9,
    "start_time": "2021-12-22T12:16:33.672Z"
   },
   {
    "duration": 19,
    "start_time": "2021-12-22T12:16:33.706Z"
   },
   {
    "duration": 6,
    "start_time": "2021-12-22T12:16:33.727Z"
   },
   {
    "duration": 12,
    "start_time": "2021-12-22T12:16:33.737Z"
   },
   {
    "duration": 9,
    "start_time": "2021-12-22T12:16:33.752Z"
   },
   {
    "duration": 11,
    "start_time": "2021-12-22T12:16:33.762Z"
   },
   {
    "duration": 7,
    "start_time": "2021-12-22T12:16:33.807Z"
   },
   {
    "duration": 5,
    "start_time": "2021-12-22T12:16:33.815Z"
   },
   {
    "duration": 5,
    "start_time": "2021-12-22T12:16:33.821Z"
   },
   {
    "duration": 9,
    "start_time": "2021-12-22T12:16:33.828Z"
   },
   {
    "duration": 29,
    "start_time": "2021-12-22T12:16:33.839Z"
   },
   {
    "duration": 49,
    "start_time": "2021-12-22T12:16:33.870Z"
   },
   {
    "duration": 19,
    "start_time": "2021-12-22T12:16:33.922Z"
   },
   {
    "duration": 10,
    "start_time": "2021-12-22T12:16:33.942Z"
   },
   {
    "duration": 53,
    "start_time": "2021-12-22T12:16:33.954Z"
   },
   {
    "duration": 6,
    "start_time": "2021-12-22T12:16:34.009Z"
   },
   {
    "duration": 13,
    "start_time": "2021-12-22T12:16:34.017Z"
   },
   {
    "duration": 29,
    "start_time": "2021-12-22T12:16:34.032Z"
   },
   {
    "duration": 4,
    "start_time": "2021-12-22T12:16:34.063Z"
   },
   {
    "duration": 39,
    "start_time": "2021-12-22T12:16:34.069Z"
   },
   {
    "duration": 30,
    "start_time": "2021-12-22T12:16:34.110Z"
   },
   {
    "duration": 8,
    "start_time": "2021-12-22T12:16:34.142Z"
   },
   {
    "duration": 19,
    "start_time": "2021-12-22T12:16:34.151Z"
   },
   {
    "duration": 7,
    "start_time": "2021-12-22T12:16:34.172Z"
   },
   {
    "duration": 34,
    "start_time": "2021-12-22T12:16:34.181Z"
   },
   {
    "duration": 13,
    "start_time": "2021-12-22T12:16:34.217Z"
   },
   {
    "duration": 14,
    "start_time": "2021-12-22T12:16:34.232Z"
   },
   {
    "duration": 10,
    "start_time": "2021-12-22T12:16:34.248Z"
   },
   {
    "duration": 8,
    "start_time": "2021-12-22T12:16:34.260Z"
   },
   {
    "duration": 43,
    "start_time": "2021-12-22T12:16:34.270Z"
   },
   {
    "duration": 10,
    "start_time": "2021-12-22T12:16:34.316Z"
   },
   {
    "duration": 8,
    "start_time": "2021-12-22T12:16:34.328Z"
   },
   {
    "duration": 796,
    "start_time": "2021-12-22T12:16:34.337Z"
   },
   {
    "duration": 14,
    "start_time": "2021-12-22T12:16:35.135Z"
   },
   {
    "duration": 9,
    "start_time": "2021-12-22T12:16:35.151Z"
   },
   {
    "duration": 8,
    "start_time": "2021-12-22T12:16:35.161Z"
   },
   {
    "duration": 9,
    "start_time": "2021-12-22T12:16:35.170Z"
   },
   {
    "duration": 27,
    "start_time": "2021-12-22T12:16:35.181Z"
   },
   {
    "duration": 4,
    "start_time": "2021-12-22T12:16:35.210Z"
   },
   {
    "duration": 7,
    "start_time": "2021-12-22T12:16:35.216Z"
   },
   {
    "duration": 14,
    "start_time": "2021-12-22T12:16:35.225Z"
   },
   {
    "duration": 6,
    "start_time": "2021-12-22T12:16:35.240Z"
   },
   {
    "duration": 6,
    "start_time": "2021-12-22T12:16:35.248Z"
   },
   {
    "duration": 8,
    "start_time": "2021-12-22T12:16:35.256Z"
   },
   {
    "duration": 490,
    "start_time": "2021-12-22T12:16:35.266Z"
   },
   {
    "duration": 216,
    "start_time": "2021-12-22T12:16:35.758Z"
   },
   {
    "duration": 6,
    "start_time": "2021-12-22T12:16:35.976Z"
   },
   {
    "duration": 45,
    "start_time": "2021-12-22T12:16:35.985Z"
   },
   {
    "duration": 238,
    "start_time": "2021-12-22T12:16:36.037Z"
   },
   {
    "duration": 5,
    "start_time": "2021-12-22T12:16:36.277Z"
   },
   {
    "duration": 327,
    "start_time": "2021-12-22T12:16:36.283Z"
   },
   {
    "duration": 7,
    "start_time": "2021-12-22T12:16:36.613Z"
   },
   {
    "duration": 5,
    "start_time": "2021-12-22T12:16:36.622Z"
   },
   {
    "duration": 6,
    "start_time": "2021-12-22T12:16:36.629Z"
   },
   {
    "duration": 6,
    "start_time": "2021-12-22T12:16:36.636Z"
   },
   {
    "duration": 6,
    "start_time": "2021-12-22T12:16:36.644Z"
   },
   {
    "duration": 6,
    "start_time": "2021-12-22T12:16:36.651Z"
   },
   {
    "duration": 333,
    "start_time": "2021-12-22T12:16:36.707Z"
   },
   {
    "duration": 213,
    "start_time": "2021-12-22T12:16:37.042Z"
   },
   {
    "duration": 5,
    "start_time": "2021-12-22T12:16:37.257Z"
   },
   {
    "duration": 211,
    "start_time": "2021-12-22T12:16:37.263Z"
   },
   {
    "duration": 5,
    "start_time": "2021-12-22T12:16:37.476Z"
   },
   {
    "duration": 318,
    "start_time": "2021-12-22T12:16:37.483Z"
   },
   {
    "duration": 4,
    "start_time": "2021-12-22T12:16:37.806Z"
   },
   {
    "duration": 44,
    "start_time": "2021-12-22T12:16:37.812Z"
   },
   {
    "duration": 28,
    "start_time": "2021-12-22T12:16:37.858Z"
   },
   {
    "duration": 23,
    "start_time": "2021-12-22T12:16:37.887Z"
   },
   {
    "duration": 31,
    "start_time": "2021-12-22T12:16:37.912Z"
   },
   {
    "duration": 21,
    "start_time": "2021-12-22T12:16:37.945Z"
   },
   {
    "duration": 425,
    "start_time": "2021-12-22T12:16:37.968Z"
   },
   {
    "duration": 2,
    "start_time": "2021-12-22T12:16:38.395Z"
   },
   {
    "duration": 31,
    "start_time": "2021-12-22T12:16:38.406Z"
   },
   {
    "duration": 24,
    "start_time": "2021-12-22T12:16:38.439Z"
   },
   {
    "duration": 3,
    "start_time": "2021-12-22T18:17:16.994Z"
   },
   {
    "duration": 1018,
    "start_time": "2021-12-22T19:21:32.021Z"
   },
   {
    "duration": 6,
    "start_time": "2021-12-22T19:21:33.041Z"
   },
   {
    "duration": 24,
    "start_time": "2021-12-22T19:21:33.049Z"
   },
   {
    "duration": 20,
    "start_time": "2021-12-22T19:21:33.075Z"
   },
   {
    "duration": 6,
    "start_time": "2021-12-22T19:21:33.096Z"
   },
   {
    "duration": 154,
    "start_time": "2021-12-22T19:21:33.104Z"
   },
   {
    "duration": 22,
    "start_time": "2021-12-22T19:21:33.260Z"
   },
   {
    "duration": 30,
    "start_time": "2021-12-22T19:21:33.285Z"
   },
   {
    "duration": 112,
    "start_time": "2021-12-22T19:21:33.317Z"
   },
   {
    "duration": 14,
    "start_time": "2021-12-22T19:21:33.431Z"
   },
   {
    "duration": 147,
    "start_time": "2021-12-22T19:21:33.447Z"
   },
   {
    "duration": 17,
    "start_time": "2021-12-22T19:21:33.595Z"
   },
   {
    "duration": 28,
    "start_time": "2021-12-22T19:21:33.614Z"
   },
   {
    "duration": 19,
    "start_time": "2021-12-22T19:21:33.643Z"
   },
   {
    "duration": 22,
    "start_time": "2021-12-22T19:21:33.664Z"
   },
   {
    "duration": 46,
    "start_time": "2021-12-22T19:21:33.687Z"
   },
   {
    "duration": 21,
    "start_time": "2021-12-22T19:21:33.734Z"
   },
   {
    "duration": 31,
    "start_time": "2021-12-22T19:21:33.756Z"
   },
   {
    "duration": 5,
    "start_time": "2021-12-22T19:21:33.789Z"
   },
   {
    "duration": 23,
    "start_time": "2021-12-22T19:21:33.796Z"
   },
   {
    "duration": 40,
    "start_time": "2021-12-22T19:21:33.821Z"
   },
   {
    "duration": 22,
    "start_time": "2021-12-22T19:21:33.863Z"
   },
   {
    "duration": 39,
    "start_time": "2021-12-22T19:21:33.887Z"
   },
   {
    "duration": 11,
    "start_time": "2021-12-22T19:21:33.927Z"
   },
   {
    "duration": 34,
    "start_time": "2021-12-22T19:21:33.940Z"
   },
   {
    "duration": 9,
    "start_time": "2021-12-22T19:21:33.976Z"
   },
   {
    "duration": 14,
    "start_time": "2021-12-22T19:21:33.991Z"
   },
   {
    "duration": 16,
    "start_time": "2021-12-22T19:21:34.008Z"
   },
   {
    "duration": 19,
    "start_time": "2021-12-22T19:21:34.025Z"
   },
   {
    "duration": 37,
    "start_time": "2021-12-22T19:21:34.046Z"
   },
   {
    "duration": 16,
    "start_time": "2021-12-22T19:21:34.084Z"
   },
   {
    "duration": 19,
    "start_time": "2021-12-22T19:21:34.102Z"
   },
   {
    "duration": 9,
    "start_time": "2021-12-22T19:21:34.123Z"
   },
   {
    "duration": 62,
    "start_time": "2021-12-22T19:21:34.133Z"
   },
   {
    "duration": 4,
    "start_time": "2021-12-22T19:21:34.196Z"
   },
   {
    "duration": 15,
    "start_time": "2021-12-22T19:21:34.201Z"
   },
   {
    "duration": 31,
    "start_time": "2021-12-22T19:21:34.218Z"
   },
   {
    "duration": 10,
    "start_time": "2021-12-22T19:21:34.250Z"
   },
   {
    "duration": 11,
    "start_time": "2021-12-22T19:21:34.262Z"
   },
   {
    "duration": 31,
    "start_time": "2021-12-22T19:21:34.275Z"
   },
   {
    "duration": 9,
    "start_time": "2021-12-22T19:21:34.308Z"
   },
   {
    "duration": 15,
    "start_time": "2021-12-22T19:21:34.318Z"
   },
   {
    "duration": 27,
    "start_time": "2021-12-22T19:21:34.334Z"
   },
   {
    "duration": 10,
    "start_time": "2021-12-22T19:21:34.363Z"
   },
   {
    "duration": 10,
    "start_time": "2021-12-22T19:21:34.374Z"
   },
   {
    "duration": 11,
    "start_time": "2021-12-22T19:21:34.385Z"
   },
   {
    "duration": 8,
    "start_time": "2021-12-22T19:21:34.398Z"
   },
   {
    "duration": 7,
    "start_time": "2021-12-22T19:21:34.408Z"
   },
   {
    "duration": 44,
    "start_time": "2021-12-22T19:21:34.417Z"
   },
   {
    "duration": 7,
    "start_time": "2021-12-22T19:21:34.463Z"
   },
   {
    "duration": 5,
    "start_time": "2021-12-22T19:21:34.472Z"
   },
   {
    "duration": 773,
    "start_time": "2021-12-22T19:21:34.478Z"
   },
   {
    "duration": 19,
    "start_time": "2021-12-22T19:21:35.252Z"
   },
   {
    "duration": 35,
    "start_time": "2021-12-22T19:21:35.272Z"
   },
   {
    "duration": 15,
    "start_time": "2021-12-22T19:21:35.309Z"
   },
   {
    "duration": 26,
    "start_time": "2021-12-22T19:21:35.326Z"
   },
   {
    "duration": 23,
    "start_time": "2021-12-22T19:21:35.354Z"
   },
   {
    "duration": 11,
    "start_time": "2021-12-22T19:21:35.379Z"
   },
   {
    "duration": 40,
    "start_time": "2021-12-22T19:21:35.392Z"
   },
   {
    "duration": 28,
    "start_time": "2021-12-22T19:21:35.433Z"
   },
   {
    "duration": 12,
    "start_time": "2021-12-22T19:21:35.463Z"
   },
   {
    "duration": 8,
    "start_time": "2021-12-22T19:21:35.476Z"
   },
   {
    "duration": 8,
    "start_time": "2021-12-22T19:21:35.486Z"
   },
   {
    "duration": 460,
    "start_time": "2021-12-22T19:21:35.496Z"
   },
   {
    "duration": 204,
    "start_time": "2021-12-22T19:21:35.960Z"
   },
   {
    "duration": 4,
    "start_time": "2021-12-22T19:21:36.166Z"
   },
   {
    "duration": 34,
    "start_time": "2021-12-22T19:21:36.172Z"
   },
   {
    "duration": 220,
    "start_time": "2021-12-22T19:21:36.208Z"
   },
   {
    "duration": 5,
    "start_time": "2021-12-22T19:21:36.429Z"
   },
   {
    "duration": 314,
    "start_time": "2021-12-22T19:21:36.436Z"
   },
   {
    "duration": 5,
    "start_time": "2021-12-22T19:21:36.761Z"
   },
   {
    "duration": 13,
    "start_time": "2021-12-22T19:21:36.768Z"
   },
   {
    "duration": 7,
    "start_time": "2021-12-22T19:21:36.782Z"
   },
   {
    "duration": 6,
    "start_time": "2021-12-22T19:21:36.790Z"
   },
   {
    "duration": 12,
    "start_time": "2021-12-22T19:21:36.797Z"
   },
   {
    "duration": 11,
    "start_time": "2021-12-22T19:21:36.811Z"
   },
   {
    "duration": 322,
    "start_time": "2021-12-22T19:21:36.824Z"
   },
   {
    "duration": 212,
    "start_time": "2021-12-22T19:21:37.147Z"
   },
   {
    "duration": 5,
    "start_time": "2021-12-22T19:21:37.361Z"
   },
   {
    "duration": 189,
    "start_time": "2021-12-22T19:21:37.367Z"
   },
   {
    "duration": 5,
    "start_time": "2021-12-22T19:21:37.561Z"
   },
   {
    "duration": 308,
    "start_time": "2021-12-22T19:21:37.568Z"
   },
   {
    "duration": 5,
    "start_time": "2021-12-22T19:21:37.877Z"
   },
   {
    "duration": 6,
    "start_time": "2021-12-22T19:21:37.884Z"
   },
   {
    "duration": 5,
    "start_time": "2021-12-22T19:21:37.892Z"
   },
   {
    "duration": 5,
    "start_time": "2021-12-22T19:21:37.899Z"
   },
   {
    "duration": 4,
    "start_time": "2021-12-22T19:21:37.906Z"
   },
   {
    "duration": 7,
    "start_time": "2021-12-22T19:21:37.912Z"
   },
   {
    "duration": 419,
    "start_time": "2021-12-22T19:21:37.920Z"
   },
   {
    "duration": 2,
    "start_time": "2021-12-22T19:21:38.341Z"
   },
   {
    "duration": 27,
    "start_time": "2021-12-22T19:21:38.345Z"
   },
   {
    "duration": 23,
    "start_time": "2021-12-22T19:21:38.374Z"
   },
   {
    "duration": 13,
    "start_time": "2021-12-22T19:21:38.399Z"
   },
   {
    "duration": 9,
    "start_time": "2021-12-22T19:21:50.631Z"
   },
   {
    "duration": 9,
    "start_time": "2021-12-22T19:22:02.587Z"
   },
   {
    "duration": 9,
    "start_time": "2021-12-22T19:22:33.455Z"
   },
   {
    "duration": 8,
    "start_time": "2021-12-22T19:23:39.481Z"
   },
   {
    "duration": 335,
    "start_time": "2021-12-22T19:31:54.873Z"
   },
   {
    "duration": 8,
    "start_time": "2021-12-22T19:32:14.730Z"
   },
   {
    "duration": 8,
    "start_time": "2021-12-22T19:32:26.080Z"
   },
   {
    "duration": 5,
    "start_time": "2021-12-22T19:38:49.999Z"
   },
   {
    "duration": 1046,
    "start_time": "2021-12-22T19:39:30.506Z"
   },
   {
    "duration": 6,
    "start_time": "2021-12-22T19:39:31.554Z"
   },
   {
    "duration": 32,
    "start_time": "2021-12-22T19:39:31.562Z"
   },
   {
    "duration": 35,
    "start_time": "2021-12-22T19:39:31.596Z"
   },
   {
    "duration": 9,
    "start_time": "2021-12-22T19:39:31.633Z"
   },
   {
    "duration": 182,
    "start_time": "2021-12-22T19:39:31.643Z"
   },
   {
    "duration": 35,
    "start_time": "2021-12-22T19:39:31.827Z"
   },
   {
    "duration": 32,
    "start_time": "2021-12-22T19:39:31.865Z"
   },
   {
    "duration": 109,
    "start_time": "2021-12-22T19:39:31.899Z"
   },
   {
    "duration": 15,
    "start_time": "2021-12-22T19:39:32.009Z"
   },
   {
    "duration": 177,
    "start_time": "2021-12-22T19:39:32.025Z"
   },
   {
    "duration": 18,
    "start_time": "2021-12-22T19:39:32.203Z"
   },
   {
    "duration": 45,
    "start_time": "2021-12-22T19:39:32.222Z"
   },
   {
    "duration": 4,
    "start_time": "2021-12-22T19:39:32.269Z"
   },
   {
    "duration": 7,
    "start_time": "2021-12-22T19:39:32.275Z"
   },
   {
    "duration": 34,
    "start_time": "2021-12-22T19:39:32.283Z"
   },
   {
    "duration": 18,
    "start_time": "2021-12-22T19:39:32.318Z"
   },
   {
    "duration": 40,
    "start_time": "2021-12-22T19:39:32.337Z"
   },
   {
    "duration": 9,
    "start_time": "2021-12-22T19:39:32.378Z"
   },
   {
    "duration": 22,
    "start_time": "2021-12-22T19:39:32.388Z"
   },
   {
    "duration": 41,
    "start_time": "2021-12-22T19:39:32.412Z"
   },
   {
    "duration": 5,
    "start_time": "2021-12-22T19:39:32.455Z"
   },
   {
    "duration": 23,
    "start_time": "2021-12-22T19:39:32.464Z"
   },
   {
    "duration": 14,
    "start_time": "2021-12-22T19:39:32.489Z"
   },
   {
    "duration": 22,
    "start_time": "2021-12-22T19:39:32.505Z"
   },
   {
    "duration": 11,
    "start_time": "2021-12-22T19:39:32.528Z"
   },
   {
    "duration": 22,
    "start_time": "2021-12-22T19:39:32.540Z"
   },
   {
    "duration": 14,
    "start_time": "2021-12-22T19:39:32.564Z"
   },
   {
    "duration": 29,
    "start_time": "2021-12-22T19:39:32.580Z"
   },
   {
    "duration": 38,
    "start_time": "2021-12-22T19:39:32.611Z"
   },
   {
    "duration": 16,
    "start_time": "2021-12-22T19:39:32.650Z"
   },
   {
    "duration": 17,
    "start_time": "2021-12-22T19:39:32.668Z"
   },
   {
    "duration": 10,
    "start_time": "2021-12-22T19:39:32.687Z"
   },
   {
    "duration": 43,
    "start_time": "2021-12-22T19:39:32.698Z"
   },
   {
    "duration": 17,
    "start_time": "2021-12-22T19:39:32.743Z"
   },
   {
    "duration": 9,
    "start_time": "2021-12-22T19:39:32.762Z"
   },
   {
    "duration": 32,
    "start_time": "2021-12-22T19:39:32.773Z"
   },
   {
    "duration": 4,
    "start_time": "2021-12-22T19:39:32.806Z"
   },
   {
    "duration": 14,
    "start_time": "2021-12-22T19:39:32.811Z"
   },
   {
    "duration": 52,
    "start_time": "2021-12-22T19:39:32.826Z"
   },
   {
    "duration": 8,
    "start_time": "2021-12-22T19:39:32.880Z"
   },
   {
    "duration": 13,
    "start_time": "2021-12-22T19:39:32.889Z"
   },
   {
    "duration": 7,
    "start_time": "2021-12-22T19:39:32.903Z"
   },
   {
    "duration": 11,
    "start_time": "2021-12-22T19:39:32.911Z"
   },
   {
    "duration": 10,
    "start_time": "2021-12-22T19:39:32.924Z"
   },
   {
    "duration": 16,
    "start_time": "2021-12-22T19:39:32.961Z"
   },
   {
    "duration": 7,
    "start_time": "2021-12-22T19:39:32.978Z"
   },
   {
    "duration": 8,
    "start_time": "2021-12-22T19:39:32.986Z"
   },
   {
    "duration": 14,
    "start_time": "2021-12-22T19:39:32.996Z"
   },
   {
    "duration": 8,
    "start_time": "2021-12-22T19:39:33.012Z"
   },
   {
    "duration": 5,
    "start_time": "2021-12-22T19:39:33.021Z"
   },
   {
    "duration": 767,
    "start_time": "2021-12-22T19:39:33.027Z"
   },
   {
    "duration": 14,
    "start_time": "2021-12-22T19:39:33.796Z"
   },
   {
    "duration": 8,
    "start_time": "2021-12-22T19:39:33.811Z"
   },
   {
    "duration": 6,
    "start_time": "2021-12-22T19:39:33.821Z"
   },
   {
    "duration": 8,
    "start_time": "2021-12-22T19:39:33.828Z"
   },
   {
    "duration": 27,
    "start_time": "2021-12-22T19:39:33.838Z"
   },
   {
    "duration": 4,
    "start_time": "2021-12-22T19:39:33.867Z"
   },
   {
    "duration": 8,
    "start_time": "2021-12-22T19:39:33.873Z"
   },
   {
    "duration": 9,
    "start_time": "2021-12-22T19:39:33.882Z"
   },
   {
    "duration": 7,
    "start_time": "2021-12-22T19:39:33.892Z"
   },
   {
    "duration": 6,
    "start_time": "2021-12-22T19:39:33.901Z"
   },
   {
    "duration": 11,
    "start_time": "2021-12-22T19:39:33.909Z"
   },
   {
    "duration": 498,
    "start_time": "2021-12-22T19:39:33.922Z"
   },
   {
    "duration": 201,
    "start_time": "2021-12-22T19:39:34.422Z"
   },
   {
    "duration": 5,
    "start_time": "2021-12-22T19:39:34.626Z"
   },
   {
    "duration": 43,
    "start_time": "2021-12-22T19:39:34.633Z"
   },
   {
    "duration": 201,
    "start_time": "2021-12-22T19:39:34.681Z"
   },
   {
    "duration": 5,
    "start_time": "2021-12-22T19:39:34.884Z"
   },
   {
    "duration": 400,
    "start_time": "2021-12-22T19:39:34.892Z"
   },
   {
    "duration": 5,
    "start_time": "2021-12-22T19:39:35.294Z"
   },
   {
    "duration": 13,
    "start_time": "2021-12-22T19:39:35.301Z"
   },
   {
    "duration": 7,
    "start_time": "2021-12-22T19:39:35.316Z"
   },
   {
    "duration": 17,
    "start_time": "2021-12-22T19:39:35.325Z"
   },
   {
    "duration": 19,
    "start_time": "2021-12-22T19:39:35.344Z"
   },
   {
    "duration": 5,
    "start_time": "2021-12-22T19:39:35.365Z"
   },
   {
    "duration": 328,
    "start_time": "2021-12-22T19:39:35.372Z"
   },
   {
    "duration": 219,
    "start_time": "2021-12-22T19:39:35.702Z"
   },
   {
    "duration": 4,
    "start_time": "2021-12-22T19:39:35.923Z"
   },
   {
    "duration": 201,
    "start_time": "2021-12-22T19:39:35.929Z"
   },
   {
    "duration": 5,
    "start_time": "2021-12-22T19:39:36.132Z"
   },
   {
    "duration": 304,
    "start_time": "2021-12-22T19:39:36.139Z"
   },
   {
    "duration": 4,
    "start_time": "2021-12-22T19:39:36.445Z"
   },
   {
    "duration": 16,
    "start_time": "2021-12-22T19:39:36.451Z"
   },
   {
    "duration": 7,
    "start_time": "2021-12-22T19:39:36.468Z"
   },
   {
    "duration": 6,
    "start_time": "2021-12-22T19:39:36.477Z"
   },
   {
    "duration": 6,
    "start_time": "2021-12-22T19:39:36.484Z"
   },
   {
    "duration": 6,
    "start_time": "2021-12-22T19:39:36.491Z"
   },
   {
    "duration": 524,
    "start_time": "2021-12-22T19:39:36.498Z"
   },
   {
    "duration": 3,
    "start_time": "2021-12-22T19:39:37.024Z"
   },
   {
    "duration": 6,
    "start_time": "2021-12-22T19:39:37.029Z"
   },
   {
    "duration": 5,
    "start_time": "2021-12-22T19:39:37.037Z"
   },
   {
    "duration": 11,
    "start_time": "2021-12-22T19:39:37.061Z"
   },
   {
    "duration": 11,
    "start_time": "2021-12-22T19:39:37.074Z"
   },
   {
    "duration": 4,
    "start_time": "2021-12-22T19:39:37.087Z"
   },
   {
    "duration": 7,
    "start_time": "2021-12-22T19:39:37.093Z"
   },
   {
    "duration": 3,
    "start_time": "2021-12-22T19:55:55.981Z"
   },
   {
    "duration": 5,
    "start_time": "2021-12-22T19:56:00.467Z"
   },
   {
    "duration": 5,
    "start_time": "2021-12-22T19:56:01.820Z"
   },
   {
    "duration": 1021,
    "start_time": "2021-12-22T19:57:25.886Z"
   },
   {
    "duration": 6,
    "start_time": "2021-12-22T19:57:26.909Z"
   },
   {
    "duration": 29,
    "start_time": "2021-12-22T19:57:26.918Z"
   },
   {
    "duration": 22,
    "start_time": "2021-12-22T19:57:26.950Z"
   },
   {
    "duration": 9,
    "start_time": "2021-12-22T19:57:26.974Z"
   },
   {
    "duration": 162,
    "start_time": "2021-12-22T19:57:26.985Z"
   },
   {
    "duration": 25,
    "start_time": "2021-12-22T19:57:27.149Z"
   },
   {
    "duration": 28,
    "start_time": "2021-12-22T19:57:27.177Z"
   },
   {
    "duration": 110,
    "start_time": "2021-12-22T19:57:27.207Z"
   },
   {
    "duration": 15,
    "start_time": "2021-12-22T19:57:27.320Z"
   },
   {
    "duration": 145,
    "start_time": "2021-12-22T19:57:27.337Z"
   },
   {
    "duration": 17,
    "start_time": "2021-12-22T19:57:27.484Z"
   },
   {
    "duration": 27,
    "start_time": "2021-12-22T19:57:27.503Z"
   },
   {
    "duration": 4,
    "start_time": "2021-12-22T19:57:27.531Z"
   },
   {
    "duration": 24,
    "start_time": "2021-12-22T19:57:27.537Z"
   },
   {
    "duration": 30,
    "start_time": "2021-12-22T19:57:27.562Z"
   },
   {
    "duration": 18,
    "start_time": "2021-12-22T19:57:27.594Z"
   },
   {
    "duration": 22,
    "start_time": "2021-12-22T19:57:27.613Z"
   },
   {
    "duration": 26,
    "start_time": "2021-12-22T19:57:27.637Z"
   },
   {
    "duration": 7,
    "start_time": "2021-12-22T19:57:27.665Z"
   },
   {
    "duration": 26,
    "start_time": "2021-12-22T19:57:27.674Z"
   },
   {
    "duration": 6,
    "start_time": "2021-12-22T19:57:27.701Z"
   },
   {
    "duration": 14,
    "start_time": "2021-12-22T19:57:27.711Z"
   },
   {
    "duration": 35,
    "start_time": "2021-12-22T19:57:27.728Z"
   },
   {
    "duration": 11,
    "start_time": "2021-12-22T19:57:27.765Z"
   },
   {
    "duration": 7,
    "start_time": "2021-12-22T19:57:27.778Z"
   },
   {
    "duration": 10,
    "start_time": "2021-12-22T19:57:27.786Z"
   },
   {
    "duration": 5,
    "start_time": "2021-12-22T19:57:27.798Z"
   },
   {
    "duration": 10,
    "start_time": "2021-12-22T19:57:27.804Z"
   },
   {
    "duration": 48,
    "start_time": "2021-12-22T19:57:27.816Z"
   },
   {
    "duration": 14,
    "start_time": "2021-12-22T19:57:27.866Z"
   },
   {
    "duration": 17,
    "start_time": "2021-12-22T19:57:27.881Z"
   },
   {
    "duration": 10,
    "start_time": "2021-12-22T19:57:27.899Z"
   },
   {
    "duration": 63,
    "start_time": "2021-12-22T19:57:27.910Z"
   },
   {
    "duration": 3,
    "start_time": "2021-12-22T19:57:27.975Z"
   },
   {
    "duration": 30,
    "start_time": "2021-12-22T19:57:27.980Z"
   },
   {
    "duration": 56,
    "start_time": "2021-12-22T19:57:28.012Z"
   },
   {
    "duration": 4,
    "start_time": "2021-12-22T19:57:28.070Z"
   },
   {
    "duration": 39,
    "start_time": "2021-12-22T19:57:28.075Z"
   },
   {
    "duration": 37,
    "start_time": "2021-12-22T19:57:28.116Z"
   },
   {
    "duration": 7,
    "start_time": "2021-12-22T19:57:28.155Z"
   },
   {
    "duration": 28,
    "start_time": "2021-12-22T19:57:28.164Z"
   },
   {
    "duration": 11,
    "start_time": "2021-12-22T19:57:28.194Z"
   },
   {
    "duration": 31,
    "start_time": "2021-12-22T19:57:28.207Z"
   },
   {
    "duration": 11,
    "start_time": "2021-12-22T19:57:28.240Z"
   },
   {
    "duration": 39,
    "start_time": "2021-12-22T19:57:28.253Z"
   },
   {
    "duration": 21,
    "start_time": "2021-12-22T19:57:28.294Z"
   },
   {
    "duration": 24,
    "start_time": "2021-12-22T19:57:28.317Z"
   },
   {
    "duration": 34,
    "start_time": "2021-12-22T19:57:28.342Z"
   },
   {
    "duration": 14,
    "start_time": "2021-12-22T19:57:28.378Z"
   },
   {
    "duration": 19,
    "start_time": "2021-12-22T19:57:28.393Z"
   },
   {
    "duration": 723,
    "start_time": "2021-12-22T19:57:28.414Z"
   },
   {
    "duration": 13,
    "start_time": "2021-12-22T19:57:29.139Z"
   },
   {
    "duration": 6,
    "start_time": "2021-12-22T19:57:29.160Z"
   },
   {
    "duration": 8,
    "start_time": "2021-12-22T19:57:29.168Z"
   },
   {
    "duration": 12,
    "start_time": "2021-12-22T19:57:29.178Z"
   },
   {
    "duration": 6,
    "start_time": "2021-12-22T19:57:29.192Z"
   },
   {
    "duration": 21,
    "start_time": "2021-12-22T19:57:29.199Z"
   },
   {
    "duration": 6,
    "start_time": "2021-12-22T19:57:29.221Z"
   },
   {
    "duration": 8,
    "start_time": "2021-12-22T19:57:29.229Z"
   },
   {
    "duration": 8,
    "start_time": "2021-12-22T19:57:29.238Z"
   },
   {
    "duration": 15,
    "start_time": "2021-12-22T19:57:29.248Z"
   },
   {
    "duration": 6,
    "start_time": "2021-12-22T19:57:29.264Z"
   },
   {
    "duration": 472,
    "start_time": "2021-12-22T19:57:29.272Z"
   },
   {
    "duration": 255,
    "start_time": "2021-12-22T19:57:29.746Z"
   },
   {
    "duration": 5,
    "start_time": "2021-12-22T19:57:30.003Z"
   },
   {
    "duration": 41,
    "start_time": "2021-12-22T19:57:30.010Z"
   },
   {
    "duration": 220,
    "start_time": "2021-12-22T19:57:30.065Z"
   },
   {
    "duration": 4,
    "start_time": "2021-12-22T19:57:30.287Z"
   },
   {
    "duration": 302,
    "start_time": "2021-12-22T19:57:30.293Z"
   },
   {
    "duration": 5,
    "start_time": "2021-12-22T19:57:30.596Z"
   },
   {
    "duration": 11,
    "start_time": "2021-12-22T19:57:30.602Z"
   },
   {
    "duration": 12,
    "start_time": "2021-12-22T19:57:30.615Z"
   },
   {
    "duration": 12,
    "start_time": "2021-12-22T19:57:30.629Z"
   },
   {
    "duration": 14,
    "start_time": "2021-12-22T19:57:30.643Z"
   },
   {
    "duration": 19,
    "start_time": "2021-12-22T19:57:30.659Z"
   },
   {
    "duration": 327,
    "start_time": "2021-12-22T19:57:30.680Z"
   },
   {
    "duration": 205,
    "start_time": "2021-12-22T19:57:31.009Z"
   },
   {
    "duration": 4,
    "start_time": "2021-12-22T19:57:31.216Z"
   },
   {
    "duration": 202,
    "start_time": "2021-12-22T19:57:31.222Z"
   },
   {
    "duration": 5,
    "start_time": "2021-12-22T19:57:31.426Z"
   },
   {
    "duration": 306,
    "start_time": "2021-12-22T19:57:31.432Z"
   },
   {
    "duration": 5,
    "start_time": "2021-12-22T19:57:31.740Z"
   },
   {
    "duration": 23,
    "start_time": "2021-12-22T19:57:31.747Z"
   },
   {
    "duration": 15,
    "start_time": "2021-12-22T19:57:31.772Z"
   },
   {
    "duration": 17,
    "start_time": "2021-12-22T19:57:31.789Z"
   },
   {
    "duration": 15,
    "start_time": "2021-12-22T19:57:31.808Z"
   },
   {
    "duration": 7,
    "start_time": "2021-12-22T19:57:31.825Z"
   },
   {
    "duration": 380,
    "start_time": "2021-12-22T19:57:31.833Z"
   },
   {
    "duration": 3,
    "start_time": "2021-12-22T19:57:32.216Z"
   },
   {
    "duration": 14,
    "start_time": "2021-12-22T19:57:32.221Z"
   },
   {
    "duration": 9,
    "start_time": "2021-12-22T19:57:32.237Z"
   },
   {
    "duration": 15,
    "start_time": "2021-12-22T19:57:32.248Z"
   },
   {
    "duration": 17,
    "start_time": "2021-12-22T19:57:32.264Z"
   },
   {
    "duration": 12,
    "start_time": "2021-12-22T19:57:32.282Z"
   },
   {
    "duration": 18,
    "start_time": "2021-12-22T19:57:32.295Z"
   },
   {
    "duration": 7,
    "start_time": "2021-12-22T19:57:32.315Z"
   },
   {
    "duration": 5,
    "start_time": "2021-12-22T20:01:30.680Z"
   },
   {
    "duration": 5,
    "start_time": "2021-12-22T20:01:46.568Z"
   },
   {
    "duration": 1295,
    "start_time": "2021-12-23T09:17:27.904Z"
   },
   {
    "duration": 10,
    "start_time": "2021-12-23T09:17:29.202Z"
   },
   {
    "duration": 32,
    "start_time": "2021-12-23T09:17:29.215Z"
   },
   {
    "duration": 26,
    "start_time": "2021-12-23T09:17:29.250Z"
   },
   {
    "duration": 30,
    "start_time": "2021-12-23T09:17:29.278Z"
   },
   {
    "duration": 244,
    "start_time": "2021-12-23T09:17:29.310Z"
   },
   {
    "duration": 29,
    "start_time": "2021-12-23T09:17:29.557Z"
   },
   {
    "duration": 70,
    "start_time": "2021-12-23T09:17:29.590Z"
   },
   {
    "duration": 149,
    "start_time": "2021-12-23T09:17:29.662Z"
   },
   {
    "duration": 23,
    "start_time": "2021-12-23T09:17:29.818Z"
   },
   {
    "duration": 215,
    "start_time": "2021-12-23T09:17:29.843Z"
   },
   {
    "duration": 25,
    "start_time": "2021-12-23T09:17:30.061Z"
   },
   {
    "duration": 65,
    "start_time": "2021-12-23T09:17:30.089Z"
   },
   {
    "duration": 10,
    "start_time": "2021-12-23T09:17:30.157Z"
   },
   {
    "duration": 34,
    "start_time": "2021-12-23T09:17:30.169Z"
   },
   {
    "duration": 49,
    "start_time": "2021-12-23T09:17:30.206Z"
   },
   {
    "duration": 30,
    "start_time": "2021-12-23T09:17:30.257Z"
   },
   {
    "duration": 60,
    "start_time": "2021-12-23T09:17:30.289Z"
   },
   {
    "duration": 9,
    "start_time": "2021-12-23T09:17:30.351Z"
   },
   {
    "duration": 34,
    "start_time": "2021-12-23T09:17:30.362Z"
   },
   {
    "duration": 41,
    "start_time": "2021-12-23T09:17:30.398Z"
   },
   {
    "duration": 10,
    "start_time": "2021-12-23T09:17:30.442Z"
   },
   {
    "duration": 23,
    "start_time": "2021-12-23T09:17:30.456Z"
   },
   {
    "duration": 39,
    "start_time": "2021-12-23T09:17:30.482Z"
   },
   {
    "duration": 18,
    "start_time": "2021-12-23T09:17:30.524Z"
   },
   {
    "duration": 25,
    "start_time": "2021-12-23T09:17:30.546Z"
   },
   {
    "duration": 89,
    "start_time": "2021-12-23T09:17:30.573Z"
   },
   {
    "duration": 69,
    "start_time": "2021-12-23T09:17:30.664Z"
   },
   {
    "duration": 123,
    "start_time": "2021-12-23T09:19:49.547Z"
   },
   {
    "duration": 1274,
    "start_time": "2021-12-23T09:25:07.559Z"
   },
   {
    "duration": 10,
    "start_time": "2021-12-23T09:25:08.837Z"
   },
   {
    "duration": 31,
    "start_time": "2021-12-23T09:25:08.851Z"
   },
   {
    "duration": 43,
    "start_time": "2021-12-23T09:25:08.885Z"
   },
   {
    "duration": 9,
    "start_time": "2021-12-23T09:25:08.931Z"
   },
   {
    "duration": 258,
    "start_time": "2021-12-23T09:25:08.943Z"
   },
   {
    "duration": 39,
    "start_time": "2021-12-23T09:25:09.204Z"
   },
   {
    "duration": 70,
    "start_time": "2021-12-23T09:25:09.248Z"
   },
   {
    "duration": 133,
    "start_time": "2021-12-23T09:25:09.325Z"
   },
   {
    "duration": 21,
    "start_time": "2021-12-23T09:25:09.461Z"
   },
   {
    "duration": 219,
    "start_time": "2021-12-23T09:25:09.485Z"
   },
   {
    "duration": 37,
    "start_time": "2021-12-23T09:25:09.707Z"
   },
   {
    "duration": 39,
    "start_time": "2021-12-23T09:25:09.746Z"
   },
   {
    "duration": 33,
    "start_time": "2021-12-23T09:25:09.788Z"
   },
   {
    "duration": 8,
    "start_time": "2021-12-23T09:25:09.824Z"
   },
   {
    "duration": 50,
    "start_time": "2021-12-23T09:25:09.840Z"
   },
   {
    "duration": 55,
    "start_time": "2021-12-23T09:25:09.893Z"
   },
   {
    "duration": 34,
    "start_time": "2021-12-23T09:25:09.950Z"
   },
   {
    "duration": 31,
    "start_time": "2021-12-23T09:25:09.986Z"
   },
   {
    "duration": 18,
    "start_time": "2021-12-23T09:25:10.021Z"
   },
   {
    "duration": 32,
    "start_time": "2021-12-23T09:25:10.041Z"
   },
   {
    "duration": 8,
    "start_time": "2021-12-23T09:25:10.076Z"
   },
   {
    "duration": 27,
    "start_time": "2021-12-23T09:25:10.119Z"
   },
   {
    "duration": 17,
    "start_time": "2021-12-23T09:25:10.148Z"
   },
   {
    "duration": 15,
    "start_time": "2021-12-23T09:25:10.168Z"
   },
   {
    "duration": 46,
    "start_time": "2021-12-23T09:25:10.185Z"
   },
   {
    "duration": 144,
    "start_time": "2021-12-23T09:25:10.234Z"
   },
   {
    "duration": 70,
    "start_time": "2021-12-23T09:25:10.381Z"
   },
   {
    "duration": 68,
    "start_time": "2021-12-23T09:25:10.454Z"
   },
   {
    "duration": 8,
    "start_time": "2021-12-23T09:25:13.709Z"
   },
   {
    "duration": 411,
    "start_time": "2021-12-23T11:48:09.148Z"
   },
   {
    "duration": 1254,
    "start_time": "2021-12-23T11:48:18.411Z"
   },
   {
    "duration": 10,
    "start_time": "2021-12-23T11:48:19.667Z"
   },
   {
    "duration": 23,
    "start_time": "2021-12-23T11:48:19.680Z"
   },
   {
    "duration": 25,
    "start_time": "2021-12-23T11:48:19.706Z"
   },
   {
    "duration": 8,
    "start_time": "2021-12-23T11:48:19.734Z"
   },
   {
    "duration": 225,
    "start_time": "2021-12-23T11:48:19.744Z"
   },
   {
    "duration": 27,
    "start_time": "2021-12-23T11:48:19.971Z"
   },
   {
    "duration": 39,
    "start_time": "2021-12-23T11:48:20.016Z"
   },
   {
    "duration": 134,
    "start_time": "2021-12-23T11:48:20.059Z"
   },
   {
    "duration": 27,
    "start_time": "2021-12-23T11:48:20.196Z"
   },
   {
    "duration": 202,
    "start_time": "2021-12-23T11:48:20.226Z"
   },
   {
    "duration": 26,
    "start_time": "2021-12-23T11:48:20.430Z"
   },
   {
    "duration": 61,
    "start_time": "2021-12-23T11:48:20.458Z"
   },
   {
    "duration": 7,
    "start_time": "2021-12-23T11:48:20.522Z"
   },
   {
    "duration": 10,
    "start_time": "2021-12-23T11:48:20.531Z"
   },
   {
    "duration": 43,
    "start_time": "2021-12-23T11:48:20.544Z"
   },
   {
    "duration": 50,
    "start_time": "2021-12-23T11:48:20.590Z"
   },
   {
    "duration": 32,
    "start_time": "2021-12-23T11:48:20.642Z"
   },
   {
    "duration": 39,
    "start_time": "2021-12-23T11:48:20.677Z"
   },
   {
    "duration": 12,
    "start_time": "2021-12-23T11:48:20.719Z"
   },
   {
    "duration": 31,
    "start_time": "2021-12-23T11:48:20.735Z"
   },
   {
    "duration": 11,
    "start_time": "2021-12-23T11:48:20.768Z"
   },
   {
    "duration": 49,
    "start_time": "2021-12-23T11:48:20.782Z"
   },
   {
    "duration": 13,
    "start_time": "2021-12-23T11:48:20.834Z"
   },
   {
    "duration": 18,
    "start_time": "2021-12-23T11:48:20.850Z"
   },
   {
    "duration": 47,
    "start_time": "2021-12-23T11:48:20.871Z"
   },
   {
    "duration": 128,
    "start_time": "2021-12-23T11:48:20.925Z"
   },
   {
    "duration": 67,
    "start_time": "2021-12-23T11:48:21.058Z"
   },
   {
    "duration": 57,
    "start_time": "2021-12-23T11:48:21.127Z"
   },
   {
    "duration": 7,
    "start_time": "2021-12-23T11:48:21.186Z"
   },
   {
    "duration": 27,
    "start_time": "2021-12-23T11:48:21.195Z"
   },
   {
    "duration": 5,
    "start_time": "2021-12-23T11:48:21.224Z"
   },
   {
    "duration": 17,
    "start_time": "2021-12-23T11:48:21.232Z"
   },
   {
    "duration": 69,
    "start_time": "2021-12-23T11:48:21.251Z"
   },
   {
    "duration": 21,
    "start_time": "2021-12-23T11:48:21.322Z"
   },
   {
    "duration": 24,
    "start_time": "2021-12-23T11:48:21.346Z"
   },
   {
    "duration": 11,
    "start_time": "2021-12-23T11:48:21.373Z"
   },
   {
    "duration": 86,
    "start_time": "2021-12-23T11:48:21.387Z"
   },
   {
    "duration": 5,
    "start_time": "2021-12-23T11:48:21.475Z"
   },
   {
    "duration": 43,
    "start_time": "2021-12-23T11:48:21.482Z"
   },
   {
    "duration": 43,
    "start_time": "2021-12-23T11:48:21.527Z"
   },
   {
    "duration": 5,
    "start_time": "2021-12-23T11:48:21.572Z"
   },
   {
    "duration": 43,
    "start_time": "2021-12-23T11:48:21.580Z"
   },
   {
    "duration": 55,
    "start_time": "2021-12-23T11:48:21.626Z"
   },
   {
    "duration": 12,
    "start_time": "2021-12-23T11:48:21.683Z"
   },
   {
    "duration": 46,
    "start_time": "2021-12-23T11:48:21.697Z"
   },
   {
    "duration": 10,
    "start_time": "2021-12-23T11:48:21.746Z"
   },
   {
    "duration": 36,
    "start_time": "2021-12-23T11:48:21.759Z"
   },
   {
    "duration": 15,
    "start_time": "2021-12-23T11:48:21.798Z"
   },
   {
    "duration": 18,
    "start_time": "2021-12-23T11:48:21.817Z"
   },
   {
    "duration": 10,
    "start_time": "2021-12-23T11:48:21.838Z"
   },
   {
    "duration": 16,
    "start_time": "2021-12-23T11:48:21.851Z"
   },
   {
    "duration": 64,
    "start_time": "2021-12-23T11:48:21.870Z"
   },
   {
    "duration": 15,
    "start_time": "2021-12-23T11:48:21.938Z"
   },
   {
    "duration": 10,
    "start_time": "2021-12-23T11:48:21.956Z"
   },
   {
    "duration": 1410,
    "start_time": "2021-12-23T11:48:21.969Z"
   },
   {
    "duration": 21,
    "start_time": "2021-12-23T11:48:23.382Z"
   },
   {
    "duration": 18,
    "start_time": "2021-12-23T11:48:23.405Z"
   },
   {
    "duration": 8,
    "start_time": "2021-12-23T11:48:23.425Z"
   },
   {
    "duration": 12,
    "start_time": "2021-12-23T11:48:23.435Z"
   },
   {
    "duration": 9,
    "start_time": "2021-12-23T11:48:23.449Z"
   },
   {
    "duration": 7,
    "start_time": "2021-12-23T11:48:23.460Z"
   },
   {
    "duration": 49,
    "start_time": "2021-12-23T11:48:23.469Z"
   },
   {
    "duration": 5,
    "start_time": "2021-12-23T11:48:23.521Z"
   },
   {
    "duration": 7,
    "start_time": "2021-12-23T11:48:23.529Z"
   },
   {
    "duration": 9,
    "start_time": "2021-12-23T11:48:23.538Z"
   },
   {
    "duration": 7,
    "start_time": "2021-12-23T11:48:23.549Z"
   },
   {
    "duration": 752,
    "start_time": "2021-12-23T11:48:23.559Z"
   },
   {
    "duration": 329,
    "start_time": "2021-12-23T11:48:24.314Z"
   },
   {
    "duration": 5,
    "start_time": "2021-12-23T11:48:24.646Z"
   },
   {
    "duration": 344,
    "start_time": "2021-12-23T11:48:24.653Z"
   },
   {
    "duration": 18,
    "start_time": "2021-12-23T11:48:25.000Z"
   },
   {
    "duration": 691,
    "start_time": "2021-12-23T11:48:25.021Z"
   },
   {
    "duration": 7,
    "start_time": "2021-12-23T11:48:25.718Z"
   },
   {
    "duration": 7,
    "start_time": "2021-12-23T11:48:25.728Z"
   },
   {
    "duration": 8,
    "start_time": "2021-12-23T11:48:25.738Z"
   },
   {
    "duration": 7,
    "start_time": "2021-12-23T11:48:25.749Z"
   },
   {
    "duration": 8,
    "start_time": "2021-12-23T11:48:25.759Z"
   },
   {
    "duration": 8,
    "start_time": "2021-12-23T11:48:25.817Z"
   },
   {
    "duration": 789,
    "start_time": "2021-12-23T11:48:25.828Z"
   },
   {
    "duration": 463,
    "start_time": "2021-12-23T11:48:26.630Z"
   },
   {
    "duration": 20,
    "start_time": "2021-12-23T11:48:27.097Z"
   },
   {
    "duration": 449,
    "start_time": "2021-12-23T11:48:27.120Z"
   },
   {
    "duration": 8,
    "start_time": "2021-12-23T11:48:27.572Z"
   },
   {
    "duration": 837,
    "start_time": "2021-12-23T11:48:27.583Z"
   },
   {
    "duration": 8,
    "start_time": "2021-12-23T11:48:28.423Z"
   },
   {
    "duration": 7,
    "start_time": "2021-12-23T11:48:28.435Z"
   },
   {
    "duration": 7,
    "start_time": "2021-12-23T11:48:28.444Z"
   },
   {
    "duration": 7,
    "start_time": "2021-12-23T11:48:28.453Z"
   },
   {
    "duration": 57,
    "start_time": "2021-12-23T11:48:28.462Z"
   },
   {
    "duration": 7,
    "start_time": "2021-12-23T11:48:28.521Z"
   },
   {
    "duration": 631,
    "start_time": "2021-12-23T11:48:28.530Z"
   },
   {
    "duration": 348,
    "start_time": "2021-12-23T11:48:29.163Z"
   },
   {
    "duration": 7,
    "start_time": "2021-12-23T11:48:29.518Z"
   },
   {
    "duration": 8,
    "start_time": "2021-12-23T11:48:29.528Z"
   },
   {
    "duration": 4,
    "start_time": "2021-12-23T11:48:29.540Z"
   },
   {
    "duration": 6,
    "start_time": "2021-12-23T11:48:29.548Z"
   },
   {
    "duration": 8,
    "start_time": "2021-12-23T11:48:29.556Z"
   },
   {
    "duration": 53,
    "start_time": "2021-12-23T11:48:29.567Z"
   },
   {
    "duration": 13,
    "start_time": "2021-12-23T11:48:29.623Z"
   },
   {
    "duration": 12,
    "start_time": "2021-12-23T11:48:29.639Z"
   },
   {
    "duration": 4,
    "start_time": "2021-12-23T11:48:29.654Z"
   },
   {
    "duration": 8,
    "start_time": "2021-12-23T11:48:29.660Z"
   },
   {
    "duration": 299,
    "start_time": "2021-12-23T11:49:35.599Z"
   },
   {
    "duration": 8,
    "start_time": "2021-12-23T11:50:10.035Z"
   },
   {
    "duration": 7,
    "start_time": "2021-12-23T11:51:02.950Z"
   },
   {
    "duration": 467,
    "start_time": "2021-12-23T11:51:46.574Z"
   },
   {
    "duration": 7,
    "start_time": "2021-12-23T12:19:12.099Z"
   },
   {
    "duration": 6,
    "start_time": "2021-12-23T12:19:29.541Z"
   },
   {
    "duration": 933,
    "start_time": "2021-12-23T12:29:52.457Z"
   },
   {
    "duration": 40,
    "start_time": "2021-12-23T12:30:22.345Z"
   },
   {
    "duration": 575,
    "start_time": "2021-12-23T12:30:32.518Z"
   },
   {
    "duration": 527,
    "start_time": "2021-12-23T12:37:37.039Z"
   },
   {
    "duration": 499,
    "start_time": "2021-12-23T12:37:42.347Z"
   },
   {
    "duration": 765,
    "start_time": "2021-12-23T12:38:47.733Z"
   },
   {
    "duration": 529,
    "start_time": "2021-12-23T12:41:09.333Z"
   },
   {
    "duration": 483,
    "start_time": "2021-12-23T12:41:50.157Z"
   },
   {
    "duration": 6,
    "start_time": "2021-12-23T12:57:56.572Z"
   },
   {
    "duration": 8,
    "start_time": "2021-12-23T12:58:17.783Z"
   },
   {
    "duration": 1743,
    "start_time": "2021-12-23T13:25:54.885Z"
   },
   {
    "duration": 12,
    "start_time": "2021-12-23T13:25:56.632Z"
   },
   {
    "duration": 24,
    "start_time": "2021-12-23T13:25:56.647Z"
   },
   {
    "duration": 57,
    "start_time": "2021-12-23T13:25:56.675Z"
   },
   {
    "duration": 13,
    "start_time": "2021-12-23T13:25:56.735Z"
   },
   {
    "duration": 314,
    "start_time": "2021-12-23T13:25:56.751Z"
   },
   {
    "duration": 26,
    "start_time": "2021-12-23T13:25:57.068Z"
   },
   {
    "duration": 44,
    "start_time": "2021-12-23T13:25:57.125Z"
   },
   {
    "duration": 142,
    "start_time": "2021-12-23T13:25:57.173Z"
   },
   {
    "duration": 31,
    "start_time": "2021-12-23T13:25:57.318Z"
   },
   {
    "duration": 284,
    "start_time": "2021-12-23T13:25:57.353Z"
   },
   {
    "duration": 24,
    "start_time": "2021-12-23T13:25:57.640Z"
   },
   {
    "duration": 73,
    "start_time": "2021-12-23T13:25:57.667Z"
   },
   {
    "duration": 10,
    "start_time": "2021-12-23T13:25:57.743Z"
   },
   {
    "duration": 9,
    "start_time": "2021-12-23T13:25:57.755Z"
   },
   {
    "duration": 72,
    "start_time": "2021-12-23T13:25:57.767Z"
   },
   {
    "duration": 29,
    "start_time": "2021-12-23T13:25:57.842Z"
   },
   {
    "duration": 76,
    "start_time": "2021-12-23T13:25:57.874Z"
   },
   {
    "duration": 11,
    "start_time": "2021-12-23T13:25:57.954Z"
   },
   {
    "duration": 14,
    "start_time": "2021-12-23T13:25:57.969Z"
   },
   {
    "duration": 65,
    "start_time": "2021-12-23T13:25:57.986Z"
   },
   {
    "duration": 10,
    "start_time": "2021-12-23T13:25:58.054Z"
   },
   {
    "duration": 45,
    "start_time": "2021-12-23T13:25:58.076Z"
   },
   {
    "duration": 22,
    "start_time": "2021-12-23T13:25:58.128Z"
   },
   {
    "duration": 23,
    "start_time": "2021-12-23T13:25:58.153Z"
   },
   {
    "duration": 51,
    "start_time": "2021-12-23T13:25:58.179Z"
   },
   {
    "duration": 182,
    "start_time": "2021-12-23T13:25:58.233Z"
   },
   {
    "duration": 79,
    "start_time": "2021-12-23T13:25:58.418Z"
   },
   {
    "duration": 89,
    "start_time": "2021-12-23T13:25:58.500Z"
   },
   {
    "duration": 42,
    "start_time": "2021-12-23T13:25:58.591Z"
   },
   {
    "duration": 8,
    "start_time": "2021-12-23T13:25:58.636Z"
   },
   {
    "duration": 9,
    "start_time": "2021-12-23T13:25:58.647Z"
   },
   {
    "duration": 21,
    "start_time": "2021-12-23T13:25:58.659Z"
   },
   {
    "duration": 72,
    "start_time": "2021-12-23T13:25:58.684Z"
   },
   {
    "duration": 21,
    "start_time": "2021-12-23T13:25:58.759Z"
   },
   {
    "duration": 39,
    "start_time": "2021-12-23T13:25:58.783Z"
   },
   {
    "duration": 12,
    "start_time": "2021-12-23T13:25:58.825Z"
   },
   {
    "duration": 77,
    "start_time": "2021-12-23T13:25:58.840Z"
   },
   {
    "duration": 5,
    "start_time": "2021-12-23T13:25:58.920Z"
   },
   {
    "duration": 21,
    "start_time": "2021-12-23T13:25:58.928Z"
   },
   {
    "duration": 67,
    "start_time": "2021-12-23T13:25:58.951Z"
   },
   {
    "duration": 6,
    "start_time": "2021-12-23T13:25:59.021Z"
   },
   {
    "duration": 28,
    "start_time": "2021-12-23T13:25:59.030Z"
   },
   {
    "duration": 67,
    "start_time": "2021-12-23T13:25:59.061Z"
   },
   {
    "duration": 18,
    "start_time": "2021-12-23T13:25:59.131Z"
   },
   {
    "duration": 34,
    "start_time": "2021-12-23T13:25:59.152Z"
   },
   {
    "duration": 41,
    "start_time": "2021-12-23T13:25:59.189Z"
   },
   {
    "duration": 22,
    "start_time": "2021-12-23T13:25:59.234Z"
   },
   {
    "duration": 20,
    "start_time": "2021-12-23T13:25:59.260Z"
   },
   {
    "duration": 51,
    "start_time": "2021-12-23T13:25:59.282Z"
   },
   {
    "duration": 50,
    "start_time": "2021-12-23T13:25:59.335Z"
   },
   {
    "duration": 24,
    "start_time": "2021-12-23T13:25:59.388Z"
   },
   {
    "duration": 30,
    "start_time": "2021-12-23T13:25:59.414Z"
   },
   {
    "duration": 13,
    "start_time": "2021-12-23T13:25:59.446Z"
   },
   {
    "duration": 7,
    "start_time": "2021-12-23T13:25:59.462Z"
   },
   {
    "duration": 1423,
    "start_time": "2021-12-23T13:25:59.472Z"
   },
   {
    "duration": 30,
    "start_time": "2021-12-23T13:26:00.897Z"
   },
   {
    "duration": 25,
    "start_time": "2021-12-23T13:26:00.930Z"
   },
   {
    "duration": 8,
    "start_time": "2021-12-23T13:26:00.957Z"
   },
   {
    "duration": 20,
    "start_time": "2021-12-23T13:26:00.968Z"
   },
   {
    "duration": 33,
    "start_time": "2021-12-23T13:26:00.991Z"
   },
   {
    "duration": 8,
    "start_time": "2021-12-23T13:26:01.026Z"
   },
   {
    "duration": 10,
    "start_time": "2021-12-23T13:26:01.037Z"
   },
   {
    "duration": 13,
    "start_time": "2021-12-23T13:26:01.050Z"
   },
   {
    "duration": 9,
    "start_time": "2021-12-23T13:26:01.065Z"
   },
   {
    "duration": 9,
    "start_time": "2021-12-23T13:26:01.118Z"
   },
   {
    "duration": 62,
    "start_time": "2021-12-23T13:26:01.129Z"
   },
   {
    "duration": 618,
    "start_time": "2021-12-23T13:26:01.199Z"
   },
   {
    "duration": 346,
    "start_time": "2021-12-23T13:26:01.820Z"
   },
   {
    "duration": 7,
    "start_time": "2021-12-23T13:26:02.168Z"
   },
   {
    "duration": 355,
    "start_time": "2021-12-23T13:26:02.177Z"
   },
   {
    "duration": 8,
    "start_time": "2021-12-23T13:26:02.535Z"
   },
   {
    "duration": 746,
    "start_time": "2021-12-23T13:26:02.546Z"
   },
   {
    "duration": 8,
    "start_time": "2021-12-23T13:26:03.296Z"
   },
   {
    "duration": 9,
    "start_time": "2021-12-23T13:26:03.318Z"
   },
   {
    "duration": 15,
    "start_time": "2021-12-23T13:26:03.329Z"
   },
   {
    "duration": 23,
    "start_time": "2021-12-23T13:26:03.346Z"
   },
   {
    "duration": 12,
    "start_time": "2021-12-23T13:26:03.371Z"
   },
   {
    "duration": 37,
    "start_time": "2021-12-23T13:26:03.385Z"
   },
   {
    "duration": 580,
    "start_time": "2021-12-23T13:26:03.425Z"
   },
   {
    "duration": 339,
    "start_time": "2021-12-23T13:26:04.008Z"
   },
   {
    "duration": 6,
    "start_time": "2021-12-23T13:26:04.350Z"
   },
   {
    "duration": 331,
    "start_time": "2021-12-23T13:26:04.358Z"
   },
   {
    "duration": 6,
    "start_time": "2021-12-23T13:26:04.692Z"
   },
   {
    "duration": 540,
    "start_time": "2021-12-23T13:26:04.700Z"
   },
   {
    "duration": 7,
    "start_time": "2021-12-23T13:26:05.243Z"
   },
   {
    "duration": 26,
    "start_time": "2021-12-23T13:26:05.253Z"
   },
   {
    "duration": 10,
    "start_time": "2021-12-23T13:26:05.282Z"
   },
   {
    "duration": 28,
    "start_time": "2021-12-23T13:26:05.295Z"
   },
   {
    "duration": 22,
    "start_time": "2021-12-23T13:26:05.326Z"
   },
   {
    "duration": 13,
    "start_time": "2021-12-23T13:26:05.352Z"
   },
   {
    "duration": 973,
    "start_time": "2021-12-23T13:26:05.368Z"
   },
   {
    "duration": 499,
    "start_time": "2021-12-23T13:26:06.345Z"
   },
   {
    "duration": 8,
    "start_time": "2021-12-23T13:26:06.847Z"
   },
   {
    "duration": 483,
    "start_time": "2021-12-23T13:26:06.858Z"
   },
   {
    "duration": 9,
    "start_time": "2021-12-23T13:26:07.345Z"
   },
   {
    "duration": 508,
    "start_time": "2021-12-23T13:26:07.356Z"
   },
   {
    "duration": 4,
    "start_time": "2021-12-23T13:26:07.866Z"
   },
   {
    "duration": 37,
    "start_time": "2021-12-23T13:26:07.873Z"
   },
   {
    "duration": 19,
    "start_time": "2021-12-23T13:26:07.913Z"
   },
   {
    "duration": 22,
    "start_time": "2021-12-23T13:26:07.935Z"
   },
   {
    "duration": 17,
    "start_time": "2021-12-23T13:26:07.960Z"
   },
   {
    "duration": 9,
    "start_time": "2021-12-23T13:26:07.981Z"
   },
   {
    "duration": 24,
    "start_time": "2021-12-23T13:26:07.993Z"
   },
   {
    "duration": 13,
    "start_time": "2021-12-23T13:26:08.023Z"
   },
   {
    "duration": 20,
    "start_time": "2021-12-23T13:26:08.038Z"
   },
   {
    "duration": 21,
    "start_time": "2021-12-23T13:26:08.060Z"
   },
   {
    "duration": 2010,
    "start_time": "2021-12-23T13:59:53.940Z"
   },
   {
    "duration": 13,
    "start_time": "2021-12-23T13:59:55.953Z"
   },
   {
    "duration": 47,
    "start_time": "2021-12-23T13:59:55.970Z"
   },
   {
    "duration": 33,
    "start_time": "2021-12-23T13:59:56.020Z"
   },
   {
    "duration": 13,
    "start_time": "2021-12-23T13:59:56.056Z"
   },
   {
    "duration": 336,
    "start_time": "2021-12-23T13:59:56.072Z"
   },
   {
    "duration": 45,
    "start_time": "2021-12-23T13:59:56.418Z"
   },
   {
    "duration": 75,
    "start_time": "2021-12-23T13:59:56.469Z"
   },
   {
    "duration": 189,
    "start_time": "2021-12-23T13:59:56.548Z"
   },
   {
    "duration": 18,
    "start_time": "2021-12-23T13:59:56.739Z"
   },
   {
    "duration": 211,
    "start_time": "2021-12-23T13:59:56.760Z"
   },
   {
    "duration": 44,
    "start_time": "2021-12-23T13:59:56.974Z"
   },
   {
    "duration": 54,
    "start_time": "2021-12-23T13:59:57.021Z"
   },
   {
    "duration": 11,
    "start_time": "2021-12-23T13:59:57.078Z"
   },
   {
    "duration": 9,
    "start_time": "2021-12-23T13:59:57.118Z"
   },
   {
    "duration": 63,
    "start_time": "2021-12-23T13:59:57.130Z"
   },
   {
    "duration": 27,
    "start_time": "2021-12-23T13:59:57.217Z"
   },
   {
    "duration": 33,
    "start_time": "2021-12-23T13:59:57.246Z"
   },
   {
    "duration": 38,
    "start_time": "2021-12-23T13:59:57.281Z"
   },
   {
    "duration": 13,
    "start_time": "2021-12-23T13:59:57.321Z"
   },
   {
    "duration": 31,
    "start_time": "2021-12-23T13:59:57.337Z"
   },
   {
    "duration": 49,
    "start_time": "2021-12-23T13:59:57.371Z"
   },
   {
    "duration": 29,
    "start_time": "2021-12-23T13:59:57.432Z"
   },
   {
    "duration": 50,
    "start_time": "2021-12-23T13:59:57.468Z"
   },
   {
    "duration": 24,
    "start_time": "2021-12-23T13:59:57.522Z"
   },
   {
    "duration": 13,
    "start_time": "2021-12-23T13:59:57.549Z"
   },
   {
    "duration": 190,
    "start_time": "2021-12-23T13:59:57.565Z"
   },
   {
    "duration": 84,
    "start_time": "2021-12-23T13:59:57.759Z"
   },
   {
    "duration": 90,
    "start_time": "2021-12-23T13:59:57.846Z"
   },
   {
    "duration": 7,
    "start_time": "2021-12-23T13:59:57.938Z"
   },
   {
    "duration": 7,
    "start_time": "2021-12-23T13:59:57.947Z"
   },
   {
    "duration": 11,
    "start_time": "2021-12-23T13:59:57.956Z"
   },
   {
    "duration": 79,
    "start_time": "2021-12-23T13:59:57.969Z"
   },
   {
    "duration": 26,
    "start_time": "2021-12-23T13:59:58.051Z"
   },
   {
    "duration": 54,
    "start_time": "2021-12-23T13:59:58.080Z"
   },
   {
    "duration": 14,
    "start_time": "2021-12-23T13:59:58.138Z"
   },
   {
    "duration": 97,
    "start_time": "2021-12-23T13:59:58.155Z"
   },
   {
    "duration": 6,
    "start_time": "2021-12-23T13:59:58.256Z"
   },
   {
    "duration": 18,
    "start_time": "2021-12-23T13:59:58.265Z"
   },
   {
    "duration": 58,
    "start_time": "2021-12-23T13:59:58.286Z"
   },
   {
    "duration": 8,
    "start_time": "2021-12-23T13:59:58.346Z"
   },
   {
    "duration": 15,
    "start_time": "2021-12-23T13:59:58.358Z"
   },
   {
    "duration": 61,
    "start_time": "2021-12-23T13:59:58.380Z"
   },
   {
    "duration": 14,
    "start_time": "2021-12-23T13:59:58.444Z"
   },
   {
    "duration": 20,
    "start_time": "2021-12-23T13:59:58.461Z"
   },
   {
    "duration": 13,
    "start_time": "2021-12-23T13:59:58.518Z"
   },
   {
    "duration": 15,
    "start_time": "2021-12-23T13:59:58.533Z"
   },
   {
    "duration": 17,
    "start_time": "2021-12-23T13:59:58.551Z"
   },
   {
    "duration": 59,
    "start_time": "2021-12-23T13:59:58.570Z"
   },
   {
    "duration": 7,
    "start_time": "2021-12-23T13:59:58.632Z"
   },
   {
    "duration": 11,
    "start_time": "2021-12-23T13:59:58.643Z"
   },
   {
    "duration": 63,
    "start_time": "2021-12-23T13:59:58.656Z"
   },
   {
    "duration": 14,
    "start_time": "2021-12-23T13:59:58.721Z"
   },
   {
    "duration": 8,
    "start_time": "2021-12-23T13:59:58.738Z"
   },
   {
    "duration": 1544,
    "start_time": "2021-12-23T13:59:58.749Z"
   },
   {
    "duration": 27,
    "start_time": "2021-12-23T14:00:00.296Z"
   },
   {
    "duration": 23,
    "start_time": "2021-12-23T14:00:00.326Z"
   },
   {
    "duration": 26,
    "start_time": "2021-12-23T14:00:00.351Z"
   },
   {
    "duration": 16,
    "start_time": "2021-12-23T14:00:00.380Z"
   },
   {
    "duration": 22,
    "start_time": "2021-12-23T14:00:00.399Z"
   },
   {
    "duration": 11,
    "start_time": "2021-12-23T14:00:00.425Z"
   },
   {
    "duration": 8,
    "start_time": "2021-12-23T14:00:00.439Z"
   },
   {
    "duration": 12,
    "start_time": "2021-12-23T14:00:00.450Z"
   },
   {
    "duration": 19,
    "start_time": "2021-12-23T14:00:00.464Z"
   },
   {
    "duration": 35,
    "start_time": "2021-12-23T14:00:00.485Z"
   },
   {
    "duration": 15,
    "start_time": "2021-12-23T14:00:00.523Z"
   },
   {
    "duration": 712,
    "start_time": "2021-12-23T14:00:00.540Z"
   },
   {
    "duration": 472,
    "start_time": "2021-12-23T14:00:01.261Z"
   },
   {
    "duration": 7,
    "start_time": "2021-12-23T14:00:01.737Z"
   },
   {
    "duration": 348,
    "start_time": "2021-12-23T14:00:01.746Z"
   },
   {
    "duration": 23,
    "start_time": "2021-12-23T14:00:02.097Z"
   },
   {
    "duration": 519,
    "start_time": "2021-12-23T14:00:02.123Z"
   },
   {
    "duration": 7,
    "start_time": "2021-12-23T14:00:02.645Z"
   },
   {
    "duration": 11,
    "start_time": "2021-12-23T14:00:02.654Z"
   },
   {
    "duration": 10,
    "start_time": "2021-12-23T14:00:02.668Z"
   },
   {
    "duration": 44,
    "start_time": "2021-12-23T14:00:02.681Z"
   },
   {
    "duration": 13,
    "start_time": "2021-12-23T14:00:02.728Z"
   },
   {
    "duration": 10,
    "start_time": "2021-12-23T14:00:02.744Z"
   },
   {
    "duration": 556,
    "start_time": "2021-12-23T14:00:02.757Z"
   },
   {
    "duration": 339,
    "start_time": "2021-12-23T14:00:03.318Z"
   },
   {
    "duration": 7,
    "start_time": "2021-12-23T14:00:03.660Z"
   },
   {
    "duration": 326,
    "start_time": "2021-12-23T14:00:03.670Z"
   },
   {
    "duration": 21,
    "start_time": "2021-12-23T14:00:03.999Z"
   },
   {
    "duration": 746,
    "start_time": "2021-12-23T14:00:04.023Z"
   },
   {
    "duration": 8,
    "start_time": "2021-12-23T14:00:04.773Z"
   },
   {
    "duration": 33,
    "start_time": "2021-12-23T14:00:04.784Z"
   },
   {
    "duration": 9,
    "start_time": "2021-12-23T14:00:04.821Z"
   },
   {
    "duration": 7,
    "start_time": "2021-12-23T14:00:04.833Z"
   },
   {
    "duration": 7,
    "start_time": "2021-12-23T14:00:04.843Z"
   },
   {
    "duration": 8,
    "start_time": "2021-12-23T14:00:04.853Z"
   },
   {
    "duration": 690,
    "start_time": "2021-12-23T14:00:04.864Z"
   },
   {
    "duration": 337,
    "start_time": "2021-12-23T14:00:05.556Z"
   },
   {
    "duration": 8,
    "start_time": "2021-12-23T14:00:05.895Z"
   },
   {
    "duration": 325,
    "start_time": "2021-12-23T14:00:05.918Z"
   },
   {
    "duration": 6,
    "start_time": "2021-12-23T14:00:06.245Z"
   },
   {
    "duration": 510,
    "start_time": "2021-12-23T14:00:06.254Z"
   },
   {
    "duration": 4,
    "start_time": "2021-12-23T14:00:06.768Z"
   },
   {
    "duration": 18,
    "start_time": "2021-12-23T14:00:06.775Z"
   },
   {
    "duration": 23,
    "start_time": "2021-12-23T14:00:06.797Z"
   },
   {
    "duration": 14,
    "start_time": "2021-12-23T14:00:06.823Z"
   },
   {
    "duration": 18,
    "start_time": "2021-12-23T14:00:06.840Z"
   },
   {
    "duration": 18,
    "start_time": "2021-12-23T14:00:06.861Z"
   },
   {
    "duration": 18,
    "start_time": "2021-12-23T14:00:06.882Z"
   },
   {
    "duration": 17,
    "start_time": "2021-12-23T14:00:06.917Z"
   },
   {
    "duration": 10,
    "start_time": "2021-12-23T14:00:06.936Z"
   },
   {
    "duration": 16,
    "start_time": "2021-12-23T14:00:06.949Z"
   },
   {
    "duration": 441,
    "start_time": "2021-12-25T08:28:41.384Z"
   },
   {
    "duration": 1451,
    "start_time": "2021-12-25T08:29:10.181Z"
   },
   {
    "duration": 732,
    "start_time": "2021-12-25T08:29:11.635Z"
   },
   {
    "duration": 727,
    "start_time": "2021-12-25T08:30:03.239Z"
   },
   {
    "duration": 799,
    "start_time": "2021-12-25T08:30:30.491Z"
   },
   {
    "duration": 19,
    "start_time": "2021-12-25T08:31:53.860Z"
   },
   {
    "duration": 1855,
    "start_time": "2021-12-25T08:32:28.593Z"
   },
   {
    "duration": 875,
    "start_time": "2021-12-25T08:32:30.452Z"
   },
   {
    "duration": 20,
    "start_time": "2021-12-25T08:32:34.269Z"
   },
   {
    "duration": 5,
    "start_time": "2021-12-25T08:34:12.446Z"
   },
   {
    "duration": 67,
    "start_time": "2021-12-25T08:34:17.069Z"
   },
   {
    "duration": 1567,
    "start_time": "2021-12-25T08:36:50.727Z"
   },
   {
    "duration": 902,
    "start_time": "2021-12-25T08:36:52.297Z"
   },
   {
    "duration": 7,
    "start_time": "2021-12-25T08:36:53.202Z"
   },
   {
    "duration": 6,
    "start_time": "2021-12-25T08:36:53.212Z"
   },
   {
    "duration": 52,
    "start_time": "2021-12-25T08:36:53.220Z"
   },
   {
    "duration": 27,
    "start_time": "2021-12-25T08:36:53.275Z"
   },
   {
    "duration": 41,
    "start_time": "2021-12-25T08:36:53.304Z"
   },
   {
    "duration": 16,
    "start_time": "2021-12-25T08:36:53.348Z"
   },
   {
    "duration": 12,
    "start_time": "2021-12-25T08:36:53.367Z"
   },
   {
    "duration": 34,
    "start_time": "2021-12-25T08:36:53.383Z"
   },
   {
    "duration": 11,
    "start_time": "2021-12-25T08:36:53.420Z"
   },
   {
    "duration": 40,
    "start_time": "2021-12-25T08:36:53.433Z"
   },
   {
    "duration": 20,
    "start_time": "2021-12-25T08:36:53.476Z"
   },
   {
    "duration": 22,
    "start_time": "2021-12-25T08:36:53.500Z"
   },
   {
    "duration": 13,
    "start_time": "2021-12-25T08:36:53.524Z"
   },
   {
    "duration": 151,
    "start_time": "2021-12-25T08:36:53.540Z"
   },
   {
    "duration": 68,
    "start_time": "2021-12-25T08:36:53.694Z"
   },
   {
    "duration": 67,
    "start_time": "2021-12-25T08:36:53.765Z"
   },
   {
    "duration": 7,
    "start_time": "2021-12-25T08:36:53.835Z"
   },
   {
    "duration": 14,
    "start_time": "2021-12-25T08:36:53.845Z"
   },
   {
    "duration": 15,
    "start_time": "2021-12-25T08:36:53.862Z"
   },
   {
    "duration": 31,
    "start_time": "2021-12-25T08:36:53.880Z"
   },
   {
    "duration": 20,
    "start_time": "2021-12-25T08:36:53.918Z"
   },
   {
    "duration": 25,
    "start_time": "2021-12-25T08:36:53.958Z"
   },
   {
    "duration": 12,
    "start_time": "2021-12-25T08:36:53.985Z"
   },
   {
    "duration": 54,
    "start_time": "2021-12-25T08:36:54.000Z"
   },
   {
    "duration": 5,
    "start_time": "2021-12-25T08:36:54.059Z"
   },
   {
    "duration": 16,
    "start_time": "2021-12-25T08:36:54.066Z"
   },
   {
    "duration": 36,
    "start_time": "2021-12-25T08:36:54.084Z"
   },
   {
    "duration": 5,
    "start_time": "2021-12-25T08:36:54.123Z"
   },
   {
    "duration": 16,
    "start_time": "2021-12-25T08:36:54.130Z"
   },
   {
    "duration": 32,
    "start_time": "2021-12-25T08:36:54.148Z"
   },
   {
    "duration": 11,
    "start_time": "2021-12-25T08:36:54.183Z"
   },
   {
    "duration": 17,
    "start_time": "2021-12-25T08:36:54.196Z"
   },
   {
    "duration": 9,
    "start_time": "2021-12-25T08:36:54.216Z"
   },
   {
    "duration": 15,
    "start_time": "2021-12-25T08:36:54.228Z"
   },
   {
    "duration": 26,
    "start_time": "2021-12-25T08:36:54.245Z"
   },
   {
    "duration": 17,
    "start_time": "2021-12-25T08:36:54.274Z"
   },
   {
    "duration": 7,
    "start_time": "2021-12-25T08:36:54.294Z"
   },
   {
    "duration": 11,
    "start_time": "2021-12-25T08:36:54.303Z"
   },
   {
    "duration": 24,
    "start_time": "2021-12-25T08:36:54.317Z"
   },
   {
    "duration": 20,
    "start_time": "2021-12-25T08:36:54.343Z"
   },
   {
    "duration": 7,
    "start_time": "2021-12-25T08:36:54.365Z"
   },
   {
    "duration": 1926,
    "start_time": "2021-12-25T08:36:54.374Z"
   },
   {
    "duration": 25,
    "start_time": "2021-12-25T08:36:56.302Z"
   },
   {
    "duration": 35,
    "start_time": "2021-12-25T08:36:56.329Z"
   },
   {
    "duration": 12,
    "start_time": "2021-12-25T08:36:56.367Z"
   },
   {
    "duration": 14,
    "start_time": "2021-12-25T08:36:56.382Z"
   },
   {
    "duration": 14,
    "start_time": "2021-12-25T08:36:56.399Z"
   },
   {
    "duration": 46,
    "start_time": "2021-12-25T08:36:56.416Z"
   },
   {
    "duration": 7,
    "start_time": "2021-12-25T08:36:56.464Z"
   },
   {
    "duration": 7,
    "start_time": "2021-12-25T08:36:56.473Z"
   },
   {
    "duration": 6,
    "start_time": "2021-12-25T08:36:56.482Z"
   },
   {
    "duration": 7,
    "start_time": "2021-12-25T08:36:56.490Z"
   },
   {
    "duration": 6,
    "start_time": "2021-12-25T08:36:56.499Z"
   },
   {
    "duration": 654,
    "start_time": "2021-12-25T08:36:56.508Z"
   },
   {
    "duration": 454,
    "start_time": "2021-12-25T08:36:57.164Z"
   },
   {
    "duration": 6,
    "start_time": "2021-12-25T08:36:57.621Z"
   },
   {
    "duration": 347,
    "start_time": "2021-12-25T08:36:57.629Z"
   },
   {
    "duration": 6,
    "start_time": "2021-12-25T08:36:57.979Z"
   },
   {
    "duration": 708,
    "start_time": "2021-12-25T08:36:57.987Z"
   },
   {
    "duration": 8,
    "start_time": "2021-12-25T08:36:58.698Z"
   },
   {
    "duration": 8,
    "start_time": "2021-12-25T08:36:58.708Z"
   },
   {
    "duration": 40,
    "start_time": "2021-12-25T08:36:58.719Z"
   },
   {
    "duration": 8,
    "start_time": "2021-12-25T08:36:58.763Z"
   },
   {
    "duration": 7,
    "start_time": "2021-12-25T08:36:58.773Z"
   },
   {
    "duration": 7,
    "start_time": "2021-12-25T08:36:58.783Z"
   },
   {
    "duration": 588,
    "start_time": "2021-12-25T08:36:58.799Z"
   },
   {
    "duration": 354,
    "start_time": "2021-12-25T08:36:59.390Z"
   },
   {
    "duration": 6,
    "start_time": "2021-12-25T08:36:59.746Z"
   },
   {
    "duration": 326,
    "start_time": "2021-12-25T08:36:59.760Z"
   },
   {
    "duration": 8,
    "start_time": "2021-12-25T08:37:00.088Z"
   },
   {
    "duration": 542,
    "start_time": "2021-12-25T08:37:00.098Z"
   },
   {
    "duration": 16,
    "start_time": "2021-12-25T08:37:00.643Z"
   },
   {
    "duration": 8,
    "start_time": "2021-12-25T08:37:00.663Z"
   },
   {
    "duration": 9,
    "start_time": "2021-12-25T08:37:00.674Z"
   },
   {
    "duration": 15,
    "start_time": "2021-12-25T08:37:00.685Z"
   },
   {
    "duration": 10,
    "start_time": "2021-12-25T08:37:00.702Z"
   },
   {
    "duration": 47,
    "start_time": "2021-12-25T08:37:00.714Z"
   },
   {
    "duration": 665,
    "start_time": "2021-12-25T08:37:00.764Z"
   },
   {
    "duration": 347,
    "start_time": "2021-12-25T08:37:01.432Z"
   },
   {
    "duration": 6,
    "start_time": "2021-12-25T08:37:01.782Z"
   },
   {
    "duration": 331,
    "start_time": "2021-12-25T08:37:01.791Z"
   },
   {
    "duration": 8,
    "start_time": "2021-12-25T08:37:02.124Z"
   },
   {
    "duration": 520,
    "start_time": "2021-12-25T08:37:02.134Z"
   },
   {
    "duration": 3,
    "start_time": "2021-12-25T08:37:02.660Z"
   },
   {
    "duration": 7,
    "start_time": "2021-12-25T08:37:02.666Z"
   },
   {
    "duration": 9,
    "start_time": "2021-12-25T08:37:02.676Z"
   },
   {
    "duration": 5,
    "start_time": "2021-12-25T08:37:02.688Z"
   },
   {
    "duration": 7,
    "start_time": "2021-12-25T08:37:02.696Z"
   },
   {
    "duration": 55,
    "start_time": "2021-12-25T08:37:02.705Z"
   },
   {
    "duration": 11,
    "start_time": "2021-12-25T08:37:02.763Z"
   },
   {
    "duration": 11,
    "start_time": "2021-12-25T08:37:02.777Z"
   },
   {
    "duration": 4,
    "start_time": "2021-12-25T08:37:02.791Z"
   },
   {
    "duration": 61,
    "start_time": "2021-12-25T08:37:02.798Z"
   },
   {
    "duration": 31,
    "start_time": "2021-12-25T08:41:12.319Z"
   },
   {
    "duration": 16,
    "start_time": "2021-12-25T08:41:29.568Z"
   },
   {
    "duration": 14,
    "start_time": "2021-12-25T08:41:41.035Z"
   },
   {
    "duration": 134,
    "start_time": "2021-12-25T08:45:00.204Z"
   },
   {
    "duration": 738,
    "start_time": "2021-12-25T08:45:08.184Z"
   },
   {
    "duration": 22,
    "start_time": "2021-12-25T08:46:32.750Z"
   },
   {
    "duration": 19,
    "start_time": "2021-12-25T08:49:52.096Z"
   },
   {
    "duration": 16,
    "start_time": "2021-12-25T08:50:54.970Z"
   },
   {
    "duration": 549,
    "start_time": "2021-12-25T09:00:59.619Z"
   },
   {
    "duration": 8,
    "start_time": "2021-12-25T09:02:00.657Z"
   },
   {
    "duration": 7,
    "start_time": "2021-12-25T09:02:52.580Z"
   },
   {
    "duration": 1395,
    "start_time": "2021-12-25T09:27:12.965Z"
   },
   {
    "duration": 776,
    "start_time": "2021-12-25T09:27:14.363Z"
   },
   {
    "duration": 8,
    "start_time": "2021-12-25T09:27:15.158Z"
   },
   {
    "duration": 8,
    "start_time": "2021-12-25T09:27:15.169Z"
   },
   {
    "duration": 51,
    "start_time": "2021-12-25T09:27:15.180Z"
   },
   {
    "duration": 54,
    "start_time": "2021-12-25T09:27:15.233Z"
   },
   {
    "duration": 40,
    "start_time": "2021-12-25T09:27:15.289Z"
   },
   {
    "duration": 37,
    "start_time": "2021-12-25T09:27:15.332Z"
   },
   {
    "duration": 13,
    "start_time": "2021-12-25T09:27:15.381Z"
   },
   {
    "duration": 13,
    "start_time": "2021-12-25T09:27:15.399Z"
   },
   {
    "duration": 63,
    "start_time": "2021-12-25T09:27:15.415Z"
   },
   {
    "duration": 7,
    "start_time": "2021-12-25T09:27:15.481Z"
   },
   {
    "duration": 19,
    "start_time": "2021-12-25T09:27:15.490Z"
   },
   {
    "duration": 15,
    "start_time": "2021-12-25T09:27:15.511Z"
   },
   {
    "duration": 39,
    "start_time": "2021-12-25T09:27:15.529Z"
   },
   {
    "duration": 10,
    "start_time": "2021-12-25T09:27:15.570Z"
   },
   {
    "duration": 135,
    "start_time": "2021-12-25T09:27:15.582Z"
   },
   {
    "duration": 62,
    "start_time": "2021-12-25T09:27:15.719Z"
   },
   {
    "duration": 98,
    "start_time": "2021-12-25T09:27:15.784Z"
   },
   {
    "duration": 6,
    "start_time": "2021-12-25T09:27:15.884Z"
   },
   {
    "duration": 10,
    "start_time": "2021-12-25T09:27:15.893Z"
   },
   {
    "duration": 13,
    "start_time": "2021-12-25T09:27:15.905Z"
   },
   {
    "duration": 59,
    "start_time": "2021-12-25T09:27:15.921Z"
   },
   {
    "duration": 21,
    "start_time": "2021-12-25T09:27:15.984Z"
   },
   {
    "duration": 24,
    "start_time": "2021-12-25T09:27:16.008Z"
   },
   {
    "duration": 6,
    "start_time": "2021-12-25T09:27:16.060Z"
   },
   {
    "duration": 52,
    "start_time": "2021-12-25T09:27:16.073Z"
   },
   {
    "duration": 6,
    "start_time": "2021-12-25T09:27:16.129Z"
   },
   {
    "duration": 35,
    "start_time": "2021-12-25T09:27:16.137Z"
   },
   {
    "duration": 35,
    "start_time": "2021-12-25T09:27:16.175Z"
   },
   {
    "duration": 6,
    "start_time": "2021-12-25T09:27:16.213Z"
   },
   {
    "duration": 43,
    "start_time": "2021-12-25T09:27:16.221Z"
   },
   {
    "duration": 32,
    "start_time": "2021-12-25T09:27:16.266Z"
   },
   {
    "duration": 12,
    "start_time": "2021-12-25T09:27:16.300Z"
   },
   {
    "duration": 50,
    "start_time": "2021-12-25T09:27:16.314Z"
   },
   {
    "duration": 11,
    "start_time": "2021-12-25T09:27:16.366Z"
   },
   {
    "duration": 18,
    "start_time": "2021-12-25T09:27:16.380Z"
   },
   {
    "duration": 15,
    "start_time": "2021-12-25T09:27:16.400Z"
   },
   {
    "duration": 51,
    "start_time": "2021-12-25T09:27:16.418Z"
   },
   {
    "duration": 7,
    "start_time": "2021-12-25T09:27:16.472Z"
   },
   {
    "duration": 14,
    "start_time": "2021-12-25T09:27:16.481Z"
   },
   {
    "duration": 25,
    "start_time": "2021-12-25T09:27:16.498Z"
   },
   {
    "duration": 12,
    "start_time": "2021-12-25T09:27:16.560Z"
   },
   {
    "duration": 6,
    "start_time": "2021-12-25T09:27:16.575Z"
   },
   {
    "duration": 1465,
    "start_time": "2021-12-25T09:27:16.584Z"
   },
   {
    "duration": 22,
    "start_time": "2021-12-25T09:27:18.059Z"
   },
   {
    "duration": 12,
    "start_time": "2021-12-25T09:27:18.084Z"
   },
   {
    "duration": 8,
    "start_time": "2021-12-25T09:27:18.098Z"
   },
   {
    "duration": 60,
    "start_time": "2021-12-25T09:27:18.108Z"
   },
   {
    "duration": 10,
    "start_time": "2021-12-25T09:27:18.170Z"
   },
   {
    "duration": 969,
    "start_time": "2021-12-25T09:27:18.182Z"
   },
   {
    "duration": 601,
    "start_time": "2021-12-25T09:27:19.158Z"
   },
   {
    "duration": 340,
    "start_time": "2021-12-25T09:27:19.761Z"
   },
   {
    "duration": 7,
    "start_time": "2021-12-25T09:27:20.104Z"
   },
   {
    "duration": 353,
    "start_time": "2021-12-25T09:27:20.113Z"
   },
   {
    "duration": 7,
    "start_time": "2021-12-25T09:27:20.469Z"
   },
   {
    "duration": 530,
    "start_time": "2021-12-25T09:27:20.479Z"
   },
   {
    "duration": 18,
    "start_time": "2021-12-25T09:27:21.012Z"
   },
   {
    "duration": 575,
    "start_time": "2021-12-25T09:27:21.033Z"
   },
   {
    "duration": 340,
    "start_time": "2021-12-25T09:27:21.611Z"
   },
   {
    "duration": 7,
    "start_time": "2021-12-25T09:27:21.958Z"
   },
   {
    "duration": 401,
    "start_time": "2021-12-25T09:27:21.967Z"
   },
   {
    "duration": 6,
    "start_time": "2021-12-25T09:27:22.371Z"
   },
   {
    "duration": 530,
    "start_time": "2021-12-25T09:27:22.380Z"
   },
   {
    "duration": 17,
    "start_time": "2021-12-25T09:27:22.912Z"
   },
   {
    "duration": 580,
    "start_time": "2021-12-25T09:27:22.931Z"
   },
   {
    "duration": 340,
    "start_time": "2021-12-25T09:27:23.514Z"
   },
   {
    "duration": 7,
    "start_time": "2021-12-25T09:27:23.860Z"
   },
   {
    "duration": 332,
    "start_time": "2021-12-25T09:27:23.870Z"
   },
   {
    "duration": 7,
    "start_time": "2021-12-25T09:27:24.204Z"
   },
   {
    "duration": 607,
    "start_time": "2021-12-25T09:27:24.214Z"
   },
   {
    "duration": 3,
    "start_time": "2021-12-25T09:27:24.824Z"
   },
   {
    "duration": 7,
    "start_time": "2021-12-25T09:27:24.830Z"
   },
   {
    "duration": 6,
    "start_time": "2021-12-25T09:27:24.860Z"
   },
   {
    "duration": 7,
    "start_time": "2021-12-25T09:27:24.868Z"
   },
   {
    "duration": 6,
    "start_time": "2021-12-25T09:27:24.877Z"
   },
   {
    "duration": 7,
    "start_time": "2021-12-25T09:27:24.885Z"
   },
   {
    "duration": 12,
    "start_time": "2021-12-25T09:27:24.894Z"
   },
   {
    "duration": 58,
    "start_time": "2021-12-25T09:27:24.909Z"
   },
   {
    "duration": 5,
    "start_time": "2021-12-25T09:27:24.970Z"
   },
   {
    "duration": 5,
    "start_time": "2021-12-25T09:27:24.983Z"
   },
   {
    "duration": 6,
    "start_time": "2021-12-25T09:27:24.991Z"
   },
   {
    "duration": 5,
    "start_time": "2021-12-25T09:54:10.738Z"
   },
   {
    "duration": 860,
    "start_time": "2021-12-25T09:54:10.749Z"
   },
   {
    "duration": 7,
    "start_time": "2021-12-25T09:54:11.612Z"
   },
   {
    "duration": 13,
    "start_time": "2021-12-25T09:54:11.622Z"
   },
   {
    "duration": 57,
    "start_time": "2021-12-25T09:54:11.637Z"
   },
   {
    "duration": 26,
    "start_time": "2021-12-25T09:54:11.697Z"
   },
   {
    "duration": 52,
    "start_time": "2021-12-25T09:54:11.726Z"
   },
   {
    "duration": 13,
    "start_time": "2021-12-25T09:54:11.781Z"
   },
   {
    "duration": 9,
    "start_time": "2021-12-25T09:54:11.801Z"
   },
   {
    "duration": 49,
    "start_time": "2021-12-25T09:54:11.814Z"
   },
   {
    "duration": 18,
    "start_time": "2021-12-25T09:54:11.866Z"
   },
   {
    "duration": 10,
    "start_time": "2021-12-25T09:54:11.887Z"
   },
   {
    "duration": 62,
    "start_time": "2021-12-25T09:54:11.899Z"
   },
   {
    "duration": 13,
    "start_time": "2021-12-25T09:54:11.964Z"
   },
   {
    "duration": 16,
    "start_time": "2021-12-25T09:54:11.980Z"
   },
   {
    "duration": 12,
    "start_time": "2021-12-25T09:54:11.998Z"
   },
   {
    "duration": 154,
    "start_time": "2021-12-25T09:54:12.013Z"
   },
   {
    "duration": 51,
    "start_time": "2021-12-25T09:54:12.169Z"
   },
   {
    "duration": 75,
    "start_time": "2021-12-25T09:54:12.223Z"
   },
   {
    "duration": 6,
    "start_time": "2021-12-25T09:54:12.300Z"
   },
   {
    "duration": 7,
    "start_time": "2021-12-25T09:54:12.308Z"
   },
   {
    "duration": 44,
    "start_time": "2021-12-25T09:54:12.317Z"
   },
   {
    "duration": 33,
    "start_time": "2021-12-25T09:54:12.364Z"
   },
   {
    "duration": 20,
    "start_time": "2021-12-25T09:54:12.403Z"
   },
   {
    "duration": 48,
    "start_time": "2021-12-25T09:54:12.427Z"
   },
   {
    "duration": 6,
    "start_time": "2021-12-25T09:54:12.477Z"
   },
   {
    "duration": 75,
    "start_time": "2021-12-25T09:54:12.485Z"
   },
   {
    "duration": 4,
    "start_time": "2021-12-25T09:54:12.563Z"
   },
   {
    "duration": 15,
    "start_time": "2021-12-25T09:54:12.570Z"
   },
   {
    "duration": 35,
    "start_time": "2021-12-25T09:54:12.588Z"
   },
   {
    "duration": 35,
    "start_time": "2021-12-25T09:54:12.625Z"
   },
   {
    "duration": 13,
    "start_time": "2021-12-25T09:54:12.663Z"
   },
   {
    "duration": 32,
    "start_time": "2021-12-25T09:54:12.678Z"
   },
   {
    "duration": 15,
    "start_time": "2021-12-25T09:54:12.713Z"
   },
   {
    "duration": 21,
    "start_time": "2021-12-25T09:54:12.760Z"
   },
   {
    "duration": 14,
    "start_time": "2021-12-25T09:54:12.783Z"
   },
   {
    "duration": 16,
    "start_time": "2021-12-25T09:54:12.800Z"
   },
   {
    "duration": 46,
    "start_time": "2021-12-25T09:54:12.819Z"
   },
   {
    "duration": 17,
    "start_time": "2021-12-25T09:54:12.868Z"
   },
   {
    "duration": 8,
    "start_time": "2021-12-25T09:54:12.888Z"
   },
   {
    "duration": 11,
    "start_time": "2021-12-25T09:54:12.898Z"
   },
   {
    "duration": 66,
    "start_time": "2021-12-25T09:54:12.911Z"
   },
   {
    "duration": 12,
    "start_time": "2021-12-25T09:54:12.980Z"
   },
   {
    "duration": 7,
    "start_time": "2021-12-25T09:54:12.994Z"
   },
   {
    "duration": 1473,
    "start_time": "2021-12-25T09:54:13.003Z"
   },
   {
    "duration": 23,
    "start_time": "2021-12-25T09:54:14.479Z"
   },
   {
    "duration": 9,
    "start_time": "2021-12-25T09:54:14.505Z"
   },
   {
    "duration": 7,
    "start_time": "2021-12-25T09:54:14.517Z"
   },
   {
    "duration": 10,
    "start_time": "2021-12-25T09:54:14.559Z"
   },
   {
    "duration": 10,
    "start_time": "2021-12-25T09:54:14.572Z"
   },
   {
    "duration": 17,
    "start_time": "2021-12-25T09:54:14.585Z"
   },
   {
    "duration": 644,
    "start_time": "2021-12-25T09:54:14.604Z"
   },
   {
    "duration": 360,
    "start_time": "2021-12-25T09:54:15.250Z"
   },
   {
    "duration": 6,
    "start_time": "2021-12-25T09:54:15.613Z"
   },
   {
    "duration": 348,
    "start_time": "2021-12-25T09:54:15.621Z"
   },
   {
    "duration": 8,
    "start_time": "2021-12-25T09:54:15.972Z"
   },
   {
    "duration": 532,
    "start_time": "2021-12-25T09:54:15.986Z"
   },
   {
    "duration": 21,
    "start_time": "2021-12-25T09:54:16.521Z"
   },
   {
    "duration": 646,
    "start_time": "2021-12-25T09:54:16.561Z"
   },
   {
    "duration": 349,
    "start_time": "2021-12-25T09:54:17.211Z"
   },
   {
    "duration": 8,
    "start_time": "2021-12-25T09:54:17.563Z"
   },
   {
    "duration": 328,
    "start_time": "2021-12-25T09:54:17.574Z"
   },
   {
    "duration": 8,
    "start_time": "2021-12-25T09:54:17.905Z"
   },
   {
    "duration": 518,
    "start_time": "2021-12-25T09:54:17.916Z"
   },
   {
    "duration": 29,
    "start_time": "2021-12-25T09:54:18.437Z"
   },
   {
    "duration": 548,
    "start_time": "2021-12-25T09:54:18.468Z"
   },
   {
    "duration": 325,
    "start_time": "2021-12-25T09:54:19.018Z"
   },
   {
    "duration": 6,
    "start_time": "2021-12-25T09:54:19.346Z"
   },
   {
    "duration": 320,
    "start_time": "2021-12-25T09:54:19.366Z"
   },
   {
    "duration": 7,
    "start_time": "2021-12-25T09:54:19.689Z"
   },
   {
    "duration": 507,
    "start_time": "2021-12-25T09:54:19.698Z"
   },
   {
    "duration": 3,
    "start_time": "2021-12-25T09:54:20.208Z"
   },
   {
    "duration": 10,
    "start_time": "2021-12-25T09:54:20.214Z"
   },
   {
    "duration": 7,
    "start_time": "2021-12-25T09:54:20.227Z"
   },
   {
    "duration": 26,
    "start_time": "2021-12-25T09:54:20.236Z"
   },
   {
    "duration": 7,
    "start_time": "2021-12-25T09:54:20.264Z"
   },
   {
    "duration": 6,
    "start_time": "2021-12-25T09:54:20.274Z"
   },
   {
    "duration": 12,
    "start_time": "2021-12-25T09:54:20.282Z"
   },
   {
    "duration": 11,
    "start_time": "2021-12-25T09:54:20.297Z"
   },
   {
    "duration": 51,
    "start_time": "2021-12-25T09:54:20.310Z"
   },
   {
    "duration": 7,
    "start_time": "2021-12-25T09:54:20.364Z"
   },
   {
    "duration": 10026,
    "start_time": "2021-12-25T09:54:20.373Z"
   },
   {
    "duration": 7,
    "start_time": "2021-12-25T09:54:59.467Z"
   },
   {
    "duration": 1477,
    "start_time": "2021-12-25T09:56:40.249Z"
   },
   {
    "duration": 785,
    "start_time": "2021-12-25T09:56:41.729Z"
   },
   {
    "duration": 7,
    "start_time": "2021-12-25T09:56:42.517Z"
   },
   {
    "duration": 10,
    "start_time": "2021-12-25T09:56:42.527Z"
   },
   {
    "duration": 58,
    "start_time": "2021-12-25T09:56:42.540Z"
   },
   {
    "duration": 29,
    "start_time": "2021-12-25T09:56:42.601Z"
   },
   {
    "duration": 52,
    "start_time": "2021-12-25T09:56:42.632Z"
   },
   {
    "duration": 17,
    "start_time": "2021-12-25T09:56:42.687Z"
   },
   {
    "duration": 7,
    "start_time": "2021-12-25T09:56:42.708Z"
   },
   {
    "duration": 45,
    "start_time": "2021-12-25T09:56:42.718Z"
   },
   {
    "duration": 34,
    "start_time": "2021-12-25T09:56:42.766Z"
   },
   {
    "duration": 8,
    "start_time": "2021-12-25T09:56:42.802Z"
   },
   {
    "duration": 21,
    "start_time": "2021-12-25T09:56:42.812Z"
   },
   {
    "duration": 14,
    "start_time": "2021-12-25T09:56:42.859Z"
   },
   {
    "duration": 16,
    "start_time": "2021-12-25T09:56:42.876Z"
   },
   {
    "duration": 11,
    "start_time": "2021-12-25T09:56:42.895Z"
   },
   {
    "duration": 143,
    "start_time": "2021-12-25T09:56:42.909Z"
   },
   {
    "duration": 51,
    "start_time": "2021-12-25T09:56:43.060Z"
   },
   {
    "duration": 85,
    "start_time": "2021-12-25T09:56:43.114Z"
   },
   {
    "duration": 8,
    "start_time": "2021-12-25T09:56:43.202Z"
   },
   {
    "duration": 6,
    "start_time": "2021-12-25T09:56:43.213Z"
   },
   {
    "duration": 44,
    "start_time": "2021-12-25T09:56:43.222Z"
   },
   {
    "duration": 32,
    "start_time": "2021-12-25T09:56:43.268Z"
   },
   {
    "duration": 56,
    "start_time": "2021-12-25T09:56:43.303Z"
   },
   {
    "duration": 27,
    "start_time": "2021-12-25T09:56:43.362Z"
   },
   {
    "duration": 9,
    "start_time": "2021-12-25T09:56:43.391Z"
   },
   {
    "duration": 85,
    "start_time": "2021-12-25T09:56:43.409Z"
   },
   {
    "duration": 5,
    "start_time": "2021-12-25T09:56:43.500Z"
   },
   {
    "duration": 16,
    "start_time": "2021-12-25T09:56:43.508Z"
   },
   {
    "duration": 64,
    "start_time": "2021-12-25T09:56:43.527Z"
   },
   {
    "duration": 7,
    "start_time": "2021-12-25T09:56:43.594Z"
   },
   {
    "duration": 14,
    "start_time": "2021-12-25T09:56:43.604Z"
   },
   {
    "duration": 66,
    "start_time": "2021-12-25T09:56:43.621Z"
   },
   {
    "duration": 13,
    "start_time": "2021-12-25T09:56:43.690Z"
   },
   {
    "duration": 17,
    "start_time": "2021-12-25T09:56:43.706Z"
   },
   {
    "duration": 44,
    "start_time": "2021-12-25T09:56:43.726Z"
   },
   {
    "duration": 15,
    "start_time": "2021-12-25T09:56:43.773Z"
   },
   {
    "duration": 19,
    "start_time": "2021-12-25T09:56:43.791Z"
   },
   {
    "duration": 53,
    "start_time": "2021-12-25T09:56:43.813Z"
   },
   {
    "duration": 8,
    "start_time": "2021-12-25T09:56:43.868Z"
   },
   {
    "duration": 11,
    "start_time": "2021-12-25T09:56:43.878Z"
   },
   {
    "duration": 25,
    "start_time": "2021-12-25T09:56:43.892Z"
   },
   {
    "duration": 50,
    "start_time": "2021-12-25T09:56:43.919Z"
   },
   {
    "duration": 8,
    "start_time": "2021-12-25T09:56:43.971Z"
   },
   {
    "duration": 1559,
    "start_time": "2021-12-25T09:56:43.982Z"
   },
   {
    "duration": 31,
    "start_time": "2021-12-25T09:56:45.543Z"
   },
   {
    "duration": 12,
    "start_time": "2021-12-25T09:56:45.577Z"
   },
   {
    "duration": 11,
    "start_time": "2021-12-25T09:56:45.592Z"
   },
   {
    "duration": 23,
    "start_time": "2021-12-25T09:56:45.606Z"
   },
   {
    "duration": 37,
    "start_time": "2021-12-25T09:56:45.631Z"
   },
   {
    "duration": 1324,
    "start_time": "2021-12-25T09:56:45.671Z"
   },
   {
    "duration": 599,
    "start_time": "2021-12-25T09:56:46.997Z"
   },
   {
    "duration": 337,
    "start_time": "2021-12-25T09:56:47.598Z"
   },
   {
    "duration": 22,
    "start_time": "2021-12-25T09:56:47.937Z"
   },
   {
    "duration": 317,
    "start_time": "2021-12-25T09:56:47.962Z"
   },
   {
    "duration": 6,
    "start_time": "2021-12-25T09:56:48.281Z"
   },
   {
    "duration": 526,
    "start_time": "2021-12-25T09:56:48.289Z"
   },
   {
    "duration": 17,
    "start_time": "2021-12-25T09:56:48.818Z"
   },
   {
    "duration": 551,
    "start_time": "2021-12-25T09:56:48.837Z"
   },
   {
    "duration": 331,
    "start_time": "2021-12-25T09:56:49.390Z"
   },
   {
    "duration": 6,
    "start_time": "2021-12-25T09:56:49.724Z"
   },
   {
    "duration": 389,
    "start_time": "2021-12-25T09:56:49.732Z"
   },
   {
    "duration": 6,
    "start_time": "2021-12-25T09:56:50.123Z"
   },
   {
    "duration": 507,
    "start_time": "2021-12-25T09:56:50.132Z"
   },
   {
    "duration": 30,
    "start_time": "2021-12-25T09:56:50.643Z"
   },
   {
    "duration": 660,
    "start_time": "2021-12-25T09:56:50.676Z"
   },
   {
    "duration": 324,
    "start_time": "2021-12-25T09:56:51.339Z"
   },
   {
    "duration": 7,
    "start_time": "2021-12-25T09:56:51.665Z"
   },
   {
    "duration": 330,
    "start_time": "2021-12-25T09:56:51.674Z"
   },
   {
    "duration": 6,
    "start_time": "2021-12-25T09:56:52.006Z"
   },
   {
    "duration": 495,
    "start_time": "2021-12-25T09:56:52.014Z"
   },
   {
    "duration": 3,
    "start_time": "2021-12-25T09:56:52.512Z"
   },
   {
    "duration": 6,
    "start_time": "2021-12-25T09:56:52.518Z"
   },
   {
    "duration": 6,
    "start_time": "2021-12-25T09:56:52.527Z"
   },
   {
    "duration": 4,
    "start_time": "2021-12-25T09:56:52.560Z"
   },
   {
    "duration": 7,
    "start_time": "2021-12-25T09:56:52.567Z"
   },
   {
    "duration": 6,
    "start_time": "2021-12-25T09:56:52.576Z"
   },
   {
    "duration": 12,
    "start_time": "2021-12-25T09:56:52.584Z"
   },
   {
    "duration": 11,
    "start_time": "2021-12-25T09:56:52.599Z"
   },
   {
    "duration": 5,
    "start_time": "2021-12-25T09:56:52.660Z"
   },
   {
    "duration": 4,
    "start_time": "2021-12-25T09:56:52.676Z"
   },
   {
    "duration": 8,
    "start_time": "2021-12-25T09:56:52.684Z"
   },
   {
    "duration": 83,
    "start_time": "2021-12-25T14:21:53.683Z"
   },
   {
    "duration": 3,
    "start_time": "2022-03-29T14:26:22.161Z"
   },
   {
    "duration": 507,
    "start_time": "2022-03-29T14:26:22.165Z"
   },
   {
    "duration": 4,
    "start_time": "2022-03-29T14:26:22.674Z"
   },
   {
    "duration": 8,
    "start_time": "2022-03-29T14:26:22.679Z"
   },
   {
    "duration": 44,
    "start_time": "2022-03-29T14:26:22.689Z"
   },
   {
    "duration": 19,
    "start_time": "2022-03-29T14:26:22.735Z"
   },
   {
    "duration": 22,
    "start_time": "2022-03-29T14:26:22.756Z"
   },
   {
    "duration": 8,
    "start_time": "2022-03-29T14:26:22.780Z"
   },
   {
    "duration": 5,
    "start_time": "2022-03-29T14:26:22.809Z"
   },
   {
    "duration": 9,
    "start_time": "2022-03-29T14:26:22.816Z"
   },
   {
    "duration": 9,
    "start_time": "2022-03-29T14:26:22.826Z"
   },
   {
    "duration": 5,
    "start_time": "2022-03-29T14:26:22.836Z"
   },
   {
    "duration": 14,
    "start_time": "2022-03-29T14:26:22.843Z"
   },
   {
    "duration": 10,
    "start_time": "2022-03-29T14:26:22.859Z"
   },
   {
    "duration": 44,
    "start_time": "2022-03-29T14:26:22.870Z"
   },
   {
    "duration": 6,
    "start_time": "2022-03-29T14:26:22.916Z"
   },
   {
    "duration": 102,
    "start_time": "2022-03-29T14:26:22.923Z"
   },
   {
    "duration": 37,
    "start_time": "2022-03-29T14:26:23.026Z"
   },
   {
    "duration": 56,
    "start_time": "2022-03-29T14:26:23.065Z"
   },
   {
    "duration": 8,
    "start_time": "2022-03-29T14:26:23.122Z"
   },
   {
    "duration": 4,
    "start_time": "2022-03-29T14:26:51.392Z"
   },
   {
    "duration": 1393,
    "start_time": "2022-03-30T08:34:25.877Z"
   },
   {
    "duration": 614,
    "start_time": "2022-03-30T08:34:27.272Z"
   },
   {
    "duration": 15,
    "start_time": "2022-03-30T08:34:27.887Z"
   },
   {
    "duration": 6,
    "start_time": "2022-03-30T08:34:27.903Z"
   },
   {
    "duration": 39,
    "start_time": "2022-03-30T08:34:27.911Z"
   },
   {
    "duration": 54,
    "start_time": "2022-03-30T08:34:27.951Z"
   },
   {
    "duration": 28,
    "start_time": "2022-03-30T08:34:28.007Z"
   },
   {
    "duration": 65,
    "start_time": "2022-03-30T08:34:28.037Z"
   },
   {
    "duration": 6,
    "start_time": "2022-03-30T08:34:28.104Z"
   },
   {
    "duration": 14,
    "start_time": "2022-03-30T08:34:28.111Z"
   },
   {
    "duration": 14,
    "start_time": "2022-03-30T08:34:28.126Z"
   },
   {
    "duration": 5,
    "start_time": "2022-03-30T08:34:28.142Z"
   },
   {
    "duration": 63,
    "start_time": "2022-03-30T08:34:28.149Z"
   },
   {
    "duration": 16,
    "start_time": "2022-03-30T08:34:28.217Z"
   },
   {
    "duration": 72,
    "start_time": "2022-03-30T08:34:28.235Z"
   },
   {
    "duration": 9,
    "start_time": "2022-03-30T08:34:28.309Z"
   },
   {
    "duration": 283,
    "start_time": "2022-03-30T08:34:28.319Z"
   },
   {
    "duration": 99,
    "start_time": "2022-03-30T08:34:28.605Z"
   },
   {
    "duration": 111,
    "start_time": "2022-03-30T08:34:28.706Z"
   },
   {
    "duration": 5,
    "start_time": "2022-03-30T08:34:28.820Z"
   },
   {
    "duration": 5,
    "start_time": "2022-03-30T08:34:28.827Z"
   },
   {
    "duration": 9,
    "start_time": "2022-03-30T08:34:28.835Z"
   },
   {
    "duration": 27,
    "start_time": "2022-03-30T08:34:28.901Z"
   },
   {
    "duration": 16,
    "start_time": "2022-03-30T08:34:28.929Z"
   },
   {
    "duration": 66,
    "start_time": "2022-03-30T08:34:28.947Z"
   },
   {
    "duration": 6,
    "start_time": "2022-03-30T08:34:29.015Z"
   },
   {
    "duration": 102,
    "start_time": "2022-03-30T08:34:29.022Z"
   },
   {
    "duration": 4,
    "start_time": "2022-03-30T08:34:29.126Z"
   },
   {
    "duration": 17,
    "start_time": "2022-03-30T08:34:29.131Z"
   },
   {
    "duration": 75,
    "start_time": "2022-03-30T08:34:29.149Z"
   },
   {
    "duration": 3,
    "start_time": "2022-03-30T08:34:29.226Z"
   },
   {
    "duration": 16,
    "start_time": "2022-03-30T08:34:29.230Z"
   },
   {
    "duration": 73,
    "start_time": "2022-03-30T08:34:29.248Z"
   },
   {
    "duration": 8,
    "start_time": "2022-03-30T08:34:29.323Z"
   },
   {
    "duration": 12,
    "start_time": "2022-03-30T08:34:29.333Z"
   },
   {
    "duration": 8,
    "start_time": "2022-03-30T08:34:29.401Z"
   },
   {
    "duration": 10,
    "start_time": "2022-03-30T08:34:29.410Z"
   },
   {
    "duration": 8,
    "start_time": "2022-03-30T08:34:29.421Z"
   },
   {
    "duration": 13,
    "start_time": "2022-03-30T08:34:29.430Z"
   },
   {
    "duration": 61,
    "start_time": "2022-03-30T08:34:29.444Z"
   },
   {
    "duration": 7,
    "start_time": "2022-03-30T08:34:29.509Z"
   },
   {
    "duration": 15,
    "start_time": "2022-03-30T08:34:29.517Z"
   },
   {
    "duration": 10,
    "start_time": "2022-03-30T08:34:29.534Z"
   },
   {
    "duration": 4,
    "start_time": "2022-03-30T08:34:29.601Z"
   },
   {
    "duration": 780,
    "start_time": "2022-03-30T08:34:29.607Z"
   },
   {
    "duration": 19,
    "start_time": "2022-03-30T08:34:30.389Z"
   },
   {
    "duration": 18,
    "start_time": "2022-03-30T08:34:30.410Z"
   },
   {
    "duration": 12,
    "start_time": "2022-03-30T08:34:30.429Z"
   },
   {
    "duration": 17,
    "start_time": "2022-03-30T08:34:30.443Z"
   },
   {
    "duration": 14,
    "start_time": "2022-03-30T08:34:30.461Z"
   },
   {
    "duration": 46,
    "start_time": "2022-03-30T08:34:30.476Z"
   },
   {
    "duration": 267,
    "start_time": "2022-03-30T08:34:30.524Z"
   },
   {
    "duration": 130,
    "start_time": "2022-03-30T08:34:30.793Z"
   },
   {
    "duration": 5,
    "start_time": "2022-03-30T08:34:30.925Z"
   },
   {
    "duration": 133,
    "start_time": "2022-03-30T08:34:30.932Z"
   },
   {
    "duration": 5,
    "start_time": "2022-03-30T08:34:31.067Z"
   },
   {
    "duration": 223,
    "start_time": "2022-03-30T08:34:31.074Z"
   },
   {
    "duration": 11,
    "start_time": "2022-03-30T08:34:31.302Z"
   },
   {
    "duration": 229,
    "start_time": "2022-03-30T08:34:31.315Z"
   },
   {
    "duration": 124,
    "start_time": "2022-03-30T08:34:31.546Z"
   },
   {
    "duration": 5,
    "start_time": "2022-03-30T08:34:31.671Z"
   },
   {
    "duration": 123,
    "start_time": "2022-03-30T08:34:31.678Z"
   },
   {
    "duration": 5,
    "start_time": "2022-03-30T08:34:31.802Z"
   },
   {
    "duration": 203,
    "start_time": "2022-03-30T08:34:31.809Z"
   },
   {
    "duration": 10,
    "start_time": "2022-03-30T08:34:32.013Z"
   },
   {
    "duration": 283,
    "start_time": "2022-03-30T08:34:32.025Z"
   },
   {
    "duration": 126,
    "start_time": "2022-03-30T08:34:32.310Z"
   },
   {
    "duration": 5,
    "start_time": "2022-03-30T08:34:32.438Z"
   },
   {
    "duration": 121,
    "start_time": "2022-03-30T08:34:32.444Z"
   },
   {
    "duration": 5,
    "start_time": "2022-03-30T08:34:32.566Z"
   },
   {
    "duration": 198,
    "start_time": "2022-03-30T08:34:32.572Z"
   },
   {
    "duration": 2,
    "start_time": "2022-03-30T08:34:32.772Z"
   },
   {
    "duration": 14,
    "start_time": "2022-03-30T08:34:32.776Z"
   },
   {
    "duration": 12,
    "start_time": "2022-03-30T08:34:32.792Z"
   },
   {
    "duration": 12,
    "start_time": "2022-03-30T08:34:32.805Z"
   },
   {
    "duration": 16,
    "start_time": "2022-03-30T08:34:32.819Z"
   },
   {
    "duration": 14,
    "start_time": "2022-03-30T08:34:32.836Z"
   },
   {
    "duration": 17,
    "start_time": "2022-03-30T08:34:32.851Z"
   },
   {
    "duration": 15,
    "start_time": "2022-03-30T08:34:32.869Z"
   },
   {
    "duration": 24,
    "start_time": "2022-03-30T08:34:32.885Z"
   },
   {
    "duration": 5,
    "start_time": "2022-03-30T08:34:32.911Z"
   },
   {
    "duration": 17,
    "start_time": "2022-03-30T08:34:32.918Z"
   },
   {
    "duration": 1379,
    "start_time": "2022-03-30T17:36:11.820Z"
   },
   {
    "duration": 582,
    "start_time": "2022-03-30T17:36:13.201Z"
   },
   {
    "duration": 5,
    "start_time": "2022-03-30T17:36:13.785Z"
   },
   {
    "duration": 11,
    "start_time": "2022-03-30T17:36:13.792Z"
   },
   {
    "duration": 53,
    "start_time": "2022-03-30T17:36:13.805Z"
   },
   {
    "duration": 21,
    "start_time": "2022-03-30T17:36:13.860Z"
   },
   {
    "duration": 27,
    "start_time": "2022-03-30T17:36:13.884Z"
   },
   {
    "duration": 29,
    "start_time": "2022-03-30T17:36:13.913Z"
   },
   {
    "duration": 7,
    "start_time": "2022-03-30T17:36:13.944Z"
   },
   {
    "duration": 10,
    "start_time": "2022-03-30T17:36:13.955Z"
   },
   {
    "duration": 17,
    "start_time": "2022-03-30T17:36:13.967Z"
   },
   {
    "duration": 7,
    "start_time": "2022-03-30T17:36:13.986Z"
   },
   {
    "duration": 49,
    "start_time": "2022-03-30T17:36:13.994Z"
   },
   {
    "duration": 14,
    "start_time": "2022-03-30T17:36:14.045Z"
   },
   {
    "duration": 12,
    "start_time": "2022-03-30T17:36:14.061Z"
   },
   {
    "duration": 7,
    "start_time": "2022-03-30T17:36:14.075Z"
   },
   {
    "duration": 126,
    "start_time": "2022-03-30T17:36:14.083Z"
   },
   {
    "duration": 50,
    "start_time": "2022-03-30T17:36:14.210Z"
   },
   {
    "duration": 40,
    "start_time": "2022-03-30T17:36:14.261Z"
   },
   {
    "duration": 4,
    "start_time": "2022-03-30T17:36:14.302Z"
   },
   {
    "duration": 27,
    "start_time": "2022-03-30T17:36:14.308Z"
   },
   {
    "duration": 8,
    "start_time": "2022-03-30T17:36:14.338Z"
   },
   {
    "duration": 32,
    "start_time": "2022-03-30T17:36:14.347Z"
   },
   {
    "duration": 14,
    "start_time": "2022-03-30T17:36:14.382Z"
   },
   {
    "duration": 37,
    "start_time": "2022-03-30T17:36:14.397Z"
   },
   {
    "duration": 6,
    "start_time": "2022-03-30T17:36:14.436Z"
   },
   {
    "duration": 52,
    "start_time": "2022-03-30T17:36:14.444Z"
   },
   {
    "duration": 3,
    "start_time": "2022-03-30T17:36:14.501Z"
   },
   {
    "duration": 26,
    "start_time": "2022-03-30T17:36:14.506Z"
   },
   {
    "duration": 30,
    "start_time": "2022-03-30T17:36:14.535Z"
   },
   {
    "duration": 4,
    "start_time": "2022-03-30T17:36:14.567Z"
   },
   {
    "duration": 20,
    "start_time": "2022-03-30T17:36:14.573Z"
   },
   {
    "duration": 26,
    "start_time": "2022-03-30T17:36:14.594Z"
   },
   {
    "duration": 13,
    "start_time": "2022-03-30T17:36:14.622Z"
   },
   {
    "duration": 14,
    "start_time": "2022-03-30T17:36:14.637Z"
   },
   {
    "duration": 7,
    "start_time": "2022-03-30T17:36:14.652Z"
   },
   {
    "duration": 9,
    "start_time": "2022-03-30T17:36:14.661Z"
   },
   {
    "duration": 9,
    "start_time": "2022-03-30T17:36:14.671Z"
   },
   {
    "duration": 19,
    "start_time": "2022-03-30T17:36:14.682Z"
   },
   {
    "duration": 33,
    "start_time": "2022-03-30T17:36:14.703Z"
   },
   {
    "duration": 10,
    "start_time": "2022-03-30T17:36:14.739Z"
   },
   {
    "duration": 25,
    "start_time": "2022-03-30T17:36:14.751Z"
   },
   {
    "duration": 20,
    "start_time": "2022-03-30T17:36:14.778Z"
   },
   {
    "duration": 6,
    "start_time": "2022-03-30T17:36:14.800Z"
   },
   {
    "duration": 902,
    "start_time": "2022-03-30T17:36:14.833Z"
   },
   {
    "duration": 19,
    "start_time": "2022-03-30T17:36:15.737Z"
   },
   {
    "duration": 11,
    "start_time": "2022-03-30T17:36:15.758Z"
   },
   {
    "duration": 11,
    "start_time": "2022-03-30T17:36:15.770Z"
   },
   {
    "duration": 12,
    "start_time": "2022-03-30T17:36:15.783Z"
   },
   {
    "duration": 13,
    "start_time": "2022-03-30T17:36:15.797Z"
   },
   {
    "duration": 46,
    "start_time": "2022-03-30T17:36:15.833Z"
   },
   {
    "duration": 341,
    "start_time": "2022-03-30T17:36:15.880Z"
   },
   {
    "duration": 186,
    "start_time": "2022-03-30T17:36:16.223Z"
   },
   {
    "duration": 6,
    "start_time": "2022-03-30T17:36:16.412Z"
   },
   {
    "duration": 119,
    "start_time": "2022-03-30T17:36:16.433Z"
   },
   {
    "duration": 5,
    "start_time": "2022-03-30T17:36:16.554Z"
   },
   {
    "duration": 221,
    "start_time": "2022-03-30T17:36:16.560Z"
   },
   {
    "duration": 9,
    "start_time": "2022-03-30T17:36:16.783Z"
   },
   {
    "duration": 245,
    "start_time": "2022-03-30T17:36:16.794Z"
   },
   {
    "duration": 150,
    "start_time": "2022-03-30T17:36:17.041Z"
   },
   {
    "duration": 5,
    "start_time": "2022-03-30T17:36:17.192Z"
   },
   {
    "duration": 110,
    "start_time": "2022-03-30T17:36:17.198Z"
   },
   {
    "duration": 5,
    "start_time": "2022-03-30T17:36:17.310Z"
   },
   {
    "duration": 215,
    "start_time": "2022-03-30T17:36:17.316Z"
   },
   {
    "duration": 10,
    "start_time": "2022-03-30T17:36:17.533Z"
   },
   {
    "duration": 290,
    "start_time": "2022-03-30T17:36:17.545Z"
   },
   {
    "duration": 123,
    "start_time": "2022-03-30T17:36:17.836Z"
   },
   {
    "duration": 5,
    "start_time": "2022-03-30T17:36:17.960Z"
   },
   {
    "duration": 121,
    "start_time": "2022-03-30T17:36:17.966Z"
   },
   {
    "duration": 5,
    "start_time": "2022-03-30T17:36:18.089Z"
   },
   {
    "duration": 206,
    "start_time": "2022-03-30T17:36:18.095Z"
   },
   {
    "duration": 3,
    "start_time": "2022-03-30T17:36:18.304Z"
   },
   {
    "duration": 7,
    "start_time": "2022-03-30T17:36:18.309Z"
   },
   {
    "duration": 2,
    "start_time": "2022-03-30T17:36:18.334Z"
   },
   {
    "duration": 14,
    "start_time": "2022-03-30T17:36:18.338Z"
   },
   {
    "duration": 7,
    "start_time": "2022-03-30T17:36:18.354Z"
   },
   {
    "duration": 6,
    "start_time": "2022-03-30T17:36:18.363Z"
   },
   {
    "duration": 8,
    "start_time": "2022-03-30T17:36:18.371Z"
   },
   {
    "duration": 10,
    "start_time": "2022-03-30T17:36:18.381Z"
   },
   {
    "duration": 15,
    "start_time": "2022-03-30T17:36:18.393Z"
   },
   {
    "duration": 26,
    "start_time": "2022-03-30T17:36:18.409Z"
   },
   {
    "duration": 4,
    "start_time": "2022-03-30T17:36:18.442Z"
   },
   {
    "duration": 1319,
    "start_time": "2022-09-08T11:00:08.625Z"
   },
   {
    "duration": 1366,
    "start_time": "2022-09-08T11:00:09.946Z"
   },
   {
    "duration": 5,
    "start_time": "2022-09-08T11:00:11.314Z"
   },
   {
    "duration": 8,
    "start_time": "2022-09-08T11:00:11.320Z"
   },
   {
    "duration": 34,
    "start_time": "2022-09-08T11:00:11.330Z"
   },
   {
    "duration": 21,
    "start_time": "2022-09-08T11:00:11.366Z"
   },
   {
    "duration": 25,
    "start_time": "2022-09-08T11:00:11.407Z"
   },
   {
    "duration": 9,
    "start_time": "2022-09-08T11:00:11.434Z"
   },
   {
    "duration": 6,
    "start_time": "2022-09-08T11:00:11.445Z"
   },
   {
    "duration": 11,
    "start_time": "2022-09-08T11:00:11.453Z"
   },
   {
    "duration": 44,
    "start_time": "2022-09-08T11:00:11.466Z"
   },
   {
    "duration": 6,
    "start_time": "2022-09-08T11:00:11.512Z"
   },
   {
    "duration": 17,
    "start_time": "2022-09-08T11:00:11.519Z"
   },
   {
    "duration": 10,
    "start_time": "2022-09-08T11:00:11.540Z"
   },
   {
    "duration": 14,
    "start_time": "2022-09-08T11:00:11.551Z"
   },
   {
    "duration": 11,
    "start_time": "2022-09-08T11:00:11.567Z"
   },
   {
    "duration": 124,
    "start_time": "2022-09-08T11:00:11.579Z"
   },
   {
    "duration": 43,
    "start_time": "2022-09-08T11:00:11.705Z"
   },
   {
    "duration": 38,
    "start_time": "2022-09-08T11:00:11.750Z"
   },
   {
    "duration": 5,
    "start_time": "2022-09-08T11:00:11.806Z"
   },
   {
    "duration": 8,
    "start_time": "2022-09-08T11:00:11.813Z"
   },
   {
    "duration": 8,
    "start_time": "2022-09-08T11:00:11.823Z"
   },
   {
    "duration": 27,
    "start_time": "2022-09-08T11:00:11.833Z"
   },
   {
    "duration": 15,
    "start_time": "2022-09-08T11:00:11.862Z"
   },
   {
    "duration": 39,
    "start_time": "2022-09-08T11:00:11.879Z"
   },
   {
    "duration": 7,
    "start_time": "2022-09-08T11:00:11.920Z"
   },
   {
    "duration": 41,
    "start_time": "2022-09-08T11:00:11.928Z"
   },
   {
    "duration": 4,
    "start_time": "2022-09-08T11:00:11.970Z"
   },
   {
    "duration": 10,
    "start_time": "2022-09-08T11:00:12.006Z"
   },
   {
    "duration": 31,
    "start_time": "2022-09-08T11:00:12.017Z"
   },
   {
    "duration": 4,
    "start_time": "2022-09-08T11:00:12.050Z"
   },
   {
    "duration": 12,
    "start_time": "2022-09-08T11:00:12.055Z"
   },
   {
    "duration": 44,
    "start_time": "2022-09-08T11:00:12.068Z"
   },
   {
    "duration": 8,
    "start_time": "2022-09-08T11:00:12.114Z"
   },
   {
    "duration": 16,
    "start_time": "2022-09-08T11:00:12.124Z"
   },
   {
    "duration": 8,
    "start_time": "2022-09-08T11:00:12.142Z"
   },
   {
    "duration": 19,
    "start_time": "2022-09-08T11:00:12.152Z"
   },
   {
    "duration": 10,
    "start_time": "2022-09-08T11:00:12.173Z"
   },
   {
    "duration": 35,
    "start_time": "2022-09-08T11:00:12.185Z"
   },
   {
    "duration": 8,
    "start_time": "2022-09-08T11:00:12.222Z"
   },
   {
    "duration": 7,
    "start_time": "2022-09-08T11:00:12.234Z"
   },
   {
    "duration": 18,
    "start_time": "2022-09-08T11:00:12.242Z"
   },
   {
    "duration": 16,
    "start_time": "2022-09-08T11:00:12.262Z"
   },
   {
    "duration": 4,
    "start_time": "2022-09-08T11:00:12.307Z"
   },
   {
    "duration": 569,
    "start_time": "2022-09-08T11:00:12.313Z"
   },
   {
    "duration": 22,
    "start_time": "2022-09-08T11:00:12.884Z"
   },
   {
    "duration": 8,
    "start_time": "2022-09-08T11:00:12.907Z"
   },
   {
    "duration": 15,
    "start_time": "2022-09-08T11:00:12.916Z"
   },
   {
    "duration": 13,
    "start_time": "2022-09-08T11:00:12.933Z"
   },
   {
    "duration": 10,
    "start_time": "2022-09-08T11:00:12.948Z"
   },
   {
    "duration": 59,
    "start_time": "2022-09-08T11:00:12.960Z"
   },
   {
    "duration": 264,
    "start_time": "2022-09-08T11:00:13.020Z"
   },
   {
    "duration": 125,
    "start_time": "2022-09-08T11:00:13.286Z"
   },
   {
    "duration": 5,
    "start_time": "2022-09-08T11:00:13.412Z"
   },
   {
    "duration": 125,
    "start_time": "2022-09-08T11:00:13.419Z"
   },
   {
    "duration": 5,
    "start_time": "2022-09-08T11:00:13.545Z"
   },
   {
    "duration": 208,
    "start_time": "2022-09-08T11:00:13.552Z"
   },
   {
    "duration": 9,
    "start_time": "2022-09-08T11:00:13.761Z"
   },
   {
    "duration": 224,
    "start_time": "2022-09-08T11:00:13.772Z"
   },
   {
    "duration": 132,
    "start_time": "2022-09-08T11:00:13.998Z"
   },
   {
    "duration": 5,
    "start_time": "2022-09-08T11:00:14.131Z"
   },
   {
    "duration": 106,
    "start_time": "2022-09-08T11:00:14.137Z"
   },
   {
    "duration": 5,
    "start_time": "2022-09-08T11:00:14.244Z"
   },
   {
    "duration": 270,
    "start_time": "2022-09-08T11:00:14.251Z"
   },
   {
    "duration": 10,
    "start_time": "2022-09-08T11:00:14.522Z"
   },
   {
    "duration": 223,
    "start_time": "2022-09-08T11:00:14.533Z"
   },
   {
    "duration": 116,
    "start_time": "2022-09-08T11:00:14.757Z"
   },
   {
    "duration": 5,
    "start_time": "2022-09-08T11:00:14.874Z"
   },
   {
    "duration": 109,
    "start_time": "2022-09-08T11:00:14.880Z"
   },
   {
    "duration": 4,
    "start_time": "2022-09-08T11:00:14.991Z"
   },
   {
    "duration": 192,
    "start_time": "2022-09-08T11:00:15.006Z"
   },
   {
    "duration": 6,
    "start_time": "2022-09-08T11:00:15.200Z"
   },
   {
    "duration": 9,
    "start_time": "2022-09-08T11:00:15.208Z"
   },
   {
    "duration": 7,
    "start_time": "2022-09-08T11:00:15.219Z"
   },
   {
    "duration": 7,
    "start_time": "2022-09-08T11:00:15.228Z"
   },
   {
    "duration": 5,
    "start_time": "2022-09-08T11:00:15.236Z"
   },
   {
    "duration": 5,
    "start_time": "2022-09-08T11:00:15.243Z"
   },
   {
    "duration": 6,
    "start_time": "2022-09-08T11:00:15.250Z"
   },
   {
    "duration": 10,
    "start_time": "2022-09-08T11:00:15.258Z"
   },
   {
    "duration": 10,
    "start_time": "2022-09-08T11:00:15.270Z"
   },
   {
    "duration": 25,
    "start_time": "2022-09-08T11:00:15.281Z"
   },
   {
    "duration": 7,
    "start_time": "2022-09-08T11:00:15.307Z"
   }
  ],
  "kernelspec": {
   "display_name": "Python 3 (ipykernel)",
   "language": "python",
   "name": "python3"
  },
  "language_info": {
   "codemirror_mode": {
    "name": "ipython",
    "version": 3
   },
   "file_extension": ".py",
   "mimetype": "text/x-python",
   "name": "python",
   "nbconvert_exporter": "python",
   "pygments_lexer": "ipython3",
   "version": "3.9.5"
  },
  "toc": {
   "base_numbering": 1,
   "nav_menu": {},
   "number_sections": true,
   "sideBar": true,
   "skip_h1_title": true,
   "title_cell": "Table of Contents",
   "title_sidebar": "Contents",
   "toc_cell": false,
   "toc_position": {
    "height": "calc(100% - 180px)",
    "left": "10px",
    "top": "150px",
    "width": "165px"
   },
   "toc_section_display": true,
   "toc_window_display": true
  }
 },
 "nbformat": 4,
 "nbformat_minor": 2
}
