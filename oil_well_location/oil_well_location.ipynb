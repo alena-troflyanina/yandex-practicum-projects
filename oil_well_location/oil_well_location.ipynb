{
 "cells": [
  {
   "cell_type": "markdown",
   "metadata": {},
   "source": [
    "# Выбор локации для скважины"
   ]
  },
  {
   "cell_type": "markdown",
   "metadata": {},
   "source": [
    "Нужно построить модель машинного обучения для определения региона, где добыча нефти принесет наибольшую прибыль. Для решения задачи предоставлены пробы нефти в трех регионах, в каждом 10 000 месторождений, где было измерено качество нефти и объем ее запасов. Необходимо проанализировать прибыль и риски техникой Bootstrap."
   ]
  },
  {
   "cell_type": "markdown",
   "metadata": {},
   "source": [
    "Условия задачи:\n",
    "- для обучения модели выбрать линейную регрессию;\n",
    "- при разведке региона исследовать 500 точек, из которых с помощью машинного обучения выбрать 200 лучших для разработки;\n",
    "- бюджет на разработку скважин в регионе — 10 млрд рублей;\n",
    "- один баррель сырья приносит 450 рублей дохода. Доход с каждой единицы продукта составляет 450 тыс. рублей, поскольку объём указан в тысячах баррелей;\n",
    "- после оценки рисков нужно оставить лишь те регионы, в которых вероятность убытков меньше 2.5%. Среди них выбрать регион с наибольшей средней прибылью."
   ]
  },
  {
   "cell_type": "markdown",
   "metadata": {},
   "source": [
    "## Загрузка и подготовка данных"
   ]
  },
  {
   "cell_type": "code",
   "execution_count": 1,
   "metadata": {},
   "outputs": [],
   "source": [
    "from dataclasses import dataclass, asdict\n",
    "\n",
    "import pandas as pd\n",
    "from pandas import DataFrame, Series\n",
    "import numpy as np\n",
    "from numpy.random import RandomState\n",
    "from sklearn.model_selection import train_test_split\n",
    "from sklearn.preprocessing import StandardScaler\n",
    "from sklearn.linear_model import LinearRegression\n",
    "from sklearn.metrics import mean_squared_error\n",
    "from sklearn.model_selection import cross_val_score"
   ]
  },
  {
   "cell_type": "code",
   "execution_count": 2,
   "metadata": {
    "scrolled": false
   },
   "outputs": [
    {
     "name": "stdout",
     "output_type": "stream",
     "text": [
      "\n",
      "Данные геологической разведки региона 0\n"
     ]
    },
    {
     "data": {
      "text/html": [
       "<div>\n",
       "<style scoped>\n",
       "    .dataframe tbody tr th:only-of-type {\n",
       "        vertical-align: middle;\n",
       "    }\n",
       "\n",
       "    .dataframe tbody tr th {\n",
       "        vertical-align: top;\n",
       "    }\n",
       "\n",
       "    .dataframe thead th {\n",
       "        text-align: right;\n",
       "    }\n",
       "</style>\n",
       "<table border=\"1\" class=\"dataframe\">\n",
       "  <thead>\n",
       "    <tr style=\"text-align: right;\">\n",
       "      <th></th>\n",
       "      <th>id</th>\n",
       "      <th>f0</th>\n",
       "      <th>f1</th>\n",
       "      <th>f2</th>\n",
       "      <th>product</th>\n",
       "    </tr>\n",
       "  </thead>\n",
       "  <tbody>\n",
       "    <tr>\n",
       "      <th>0</th>\n",
       "      <td>txEyH</td>\n",
       "      <td>0.705745</td>\n",
       "      <td>-0.497823</td>\n",
       "      <td>1.221170</td>\n",
       "      <td>105.280062</td>\n",
       "    </tr>\n",
       "    <tr>\n",
       "      <th>1</th>\n",
       "      <td>2acmU</td>\n",
       "      <td>1.334711</td>\n",
       "      <td>-0.340164</td>\n",
       "      <td>4.365080</td>\n",
       "      <td>73.037750</td>\n",
       "    </tr>\n",
       "    <tr>\n",
       "      <th>2</th>\n",
       "      <td>409Wp</td>\n",
       "      <td>1.022732</td>\n",
       "      <td>0.151990</td>\n",
       "      <td>1.419926</td>\n",
       "      <td>85.265647</td>\n",
       "    </tr>\n",
       "    <tr>\n",
       "      <th>3</th>\n",
       "      <td>iJLyR</td>\n",
       "      <td>-0.032172</td>\n",
       "      <td>0.139033</td>\n",
       "      <td>2.978566</td>\n",
       "      <td>168.620776</td>\n",
       "    </tr>\n",
       "    <tr>\n",
       "      <th>4</th>\n",
       "      <td>Xdl7t</td>\n",
       "      <td>1.988431</td>\n",
       "      <td>0.155413</td>\n",
       "      <td>4.751769</td>\n",
       "      <td>154.036647</td>\n",
       "    </tr>\n",
       "  </tbody>\n",
       "</table>\n",
       "</div>"
      ],
      "text/plain": [
       "      id        f0        f1        f2     product\n",
       "0  txEyH  0.705745 -0.497823  1.221170  105.280062\n",
       "1  2acmU  1.334711 -0.340164  4.365080   73.037750\n",
       "2  409Wp  1.022732  0.151990  1.419926   85.265647\n",
       "3  iJLyR -0.032172  0.139033  2.978566  168.620776\n",
       "4  Xdl7t  1.988431  0.155413  4.751769  154.036647"
      ]
     },
     "metadata": {},
     "output_type": "display_data"
    },
    {
     "data": {
      "text/html": [
       "<div>\n",
       "<style scoped>\n",
       "    .dataframe tbody tr th:only-of-type {\n",
       "        vertical-align: middle;\n",
       "    }\n",
       "\n",
       "    .dataframe tbody tr th {\n",
       "        vertical-align: top;\n",
       "    }\n",
       "\n",
       "    .dataframe thead th {\n",
       "        text-align: right;\n",
       "    }\n",
       "</style>\n",
       "<table border=\"1\" class=\"dataframe\">\n",
       "  <thead>\n",
       "    <tr style=\"text-align: right;\">\n",
       "      <th></th>\n",
       "      <th>f0</th>\n",
       "      <th>f1</th>\n",
       "      <th>f2</th>\n",
       "      <th>product</th>\n",
       "    </tr>\n",
       "  </thead>\n",
       "  <tbody>\n",
       "    <tr>\n",
       "      <th>count</th>\n",
       "      <td>100000.000000</td>\n",
       "      <td>100000.000000</td>\n",
       "      <td>100000.000000</td>\n",
       "      <td>100000.000000</td>\n",
       "    </tr>\n",
       "    <tr>\n",
       "      <th>mean</th>\n",
       "      <td>0.500419</td>\n",
       "      <td>0.250143</td>\n",
       "      <td>2.502647</td>\n",
       "      <td>92.500000</td>\n",
       "    </tr>\n",
       "    <tr>\n",
       "      <th>std</th>\n",
       "      <td>0.871832</td>\n",
       "      <td>0.504433</td>\n",
       "      <td>3.248248</td>\n",
       "      <td>44.288691</td>\n",
       "    </tr>\n",
       "    <tr>\n",
       "      <th>min</th>\n",
       "      <td>-1.408605</td>\n",
       "      <td>-0.848218</td>\n",
       "      <td>-12.088328</td>\n",
       "      <td>0.000000</td>\n",
       "    </tr>\n",
       "    <tr>\n",
       "      <th>25%</th>\n",
       "      <td>-0.072580</td>\n",
       "      <td>-0.200881</td>\n",
       "      <td>0.287748</td>\n",
       "      <td>56.497507</td>\n",
       "    </tr>\n",
       "    <tr>\n",
       "      <th>50%</th>\n",
       "      <td>0.502360</td>\n",
       "      <td>0.250252</td>\n",
       "      <td>2.515969</td>\n",
       "      <td>91.849972</td>\n",
       "    </tr>\n",
       "    <tr>\n",
       "      <th>75%</th>\n",
       "      <td>1.073581</td>\n",
       "      <td>0.700646</td>\n",
       "      <td>4.715088</td>\n",
       "      <td>128.564089</td>\n",
       "    </tr>\n",
       "    <tr>\n",
       "      <th>max</th>\n",
       "      <td>2.362331</td>\n",
       "      <td>1.343769</td>\n",
       "      <td>16.003790</td>\n",
       "      <td>185.364347</td>\n",
       "    </tr>\n",
       "  </tbody>\n",
       "</table>\n",
       "</div>"
      ],
      "text/plain": [
       "                  f0             f1             f2        product\n",
       "count  100000.000000  100000.000000  100000.000000  100000.000000\n",
       "mean        0.500419       0.250143       2.502647      92.500000\n",
       "std         0.871832       0.504433       3.248248      44.288691\n",
       "min        -1.408605      -0.848218     -12.088328       0.000000\n",
       "25%        -0.072580      -0.200881       0.287748      56.497507\n",
       "50%         0.502360       0.250252       2.515969      91.849972\n",
       "75%         1.073581       0.700646       4.715088     128.564089\n",
       "max         2.362331       1.343769      16.003790     185.364347"
      ]
     },
     "metadata": {},
     "output_type": "display_data"
    },
    {
     "name": "stdout",
     "output_type": "stream",
     "text": [
      "<class 'pandas.core.frame.DataFrame'>\n",
      "RangeIndex: 100000 entries, 0 to 99999\n",
      "Data columns (total 5 columns):\n",
      " #   Column   Non-Null Count   Dtype  \n",
      "---  ------   --------------   -----  \n",
      " 0   id       100000 non-null  object \n",
      " 1   f0       100000 non-null  float64\n",
      " 2   f1       100000 non-null  float64\n",
      " 3   f2       100000 non-null  float64\n",
      " 4   product  100000 non-null  float64\n",
      "dtypes: float64(4), object(1)\n",
      "memory usage: 3.8+ MB\n",
      "\n",
      "Данные геологической разведки региона 1\n"
     ]
    },
    {
     "data": {
      "text/html": [
       "<div>\n",
       "<style scoped>\n",
       "    .dataframe tbody tr th:only-of-type {\n",
       "        vertical-align: middle;\n",
       "    }\n",
       "\n",
       "    .dataframe tbody tr th {\n",
       "        vertical-align: top;\n",
       "    }\n",
       "\n",
       "    .dataframe thead th {\n",
       "        text-align: right;\n",
       "    }\n",
       "</style>\n",
       "<table border=\"1\" class=\"dataframe\">\n",
       "  <thead>\n",
       "    <tr style=\"text-align: right;\">\n",
       "      <th></th>\n",
       "      <th>id</th>\n",
       "      <th>f0</th>\n",
       "      <th>f1</th>\n",
       "      <th>f2</th>\n",
       "      <th>product</th>\n",
       "    </tr>\n",
       "  </thead>\n",
       "  <tbody>\n",
       "    <tr>\n",
       "      <th>0</th>\n",
       "      <td>kBEdx</td>\n",
       "      <td>-15.001348</td>\n",
       "      <td>-8.276000</td>\n",
       "      <td>-0.005876</td>\n",
       "      <td>3.179103</td>\n",
       "    </tr>\n",
       "    <tr>\n",
       "      <th>1</th>\n",
       "      <td>62mP7</td>\n",
       "      <td>14.272088</td>\n",
       "      <td>-3.475083</td>\n",
       "      <td>0.999183</td>\n",
       "      <td>26.953261</td>\n",
       "    </tr>\n",
       "    <tr>\n",
       "      <th>2</th>\n",
       "      <td>vyE1P</td>\n",
       "      <td>6.263187</td>\n",
       "      <td>-5.948386</td>\n",
       "      <td>5.001160</td>\n",
       "      <td>134.766305</td>\n",
       "    </tr>\n",
       "    <tr>\n",
       "      <th>3</th>\n",
       "      <td>KcrkZ</td>\n",
       "      <td>-13.081196</td>\n",
       "      <td>-11.506057</td>\n",
       "      <td>4.999415</td>\n",
       "      <td>137.945408</td>\n",
       "    </tr>\n",
       "    <tr>\n",
       "      <th>4</th>\n",
       "      <td>AHL4O</td>\n",
       "      <td>12.702195</td>\n",
       "      <td>-8.147433</td>\n",
       "      <td>5.004363</td>\n",
       "      <td>134.766305</td>\n",
       "    </tr>\n",
       "  </tbody>\n",
       "</table>\n",
       "</div>"
      ],
      "text/plain": [
       "      id         f0         f1        f2     product\n",
       "0  kBEdx -15.001348  -8.276000 -0.005876    3.179103\n",
       "1  62mP7  14.272088  -3.475083  0.999183   26.953261\n",
       "2  vyE1P   6.263187  -5.948386  5.001160  134.766305\n",
       "3  KcrkZ -13.081196 -11.506057  4.999415  137.945408\n",
       "4  AHL4O  12.702195  -8.147433  5.004363  134.766305"
      ]
     },
     "metadata": {},
     "output_type": "display_data"
    },
    {
     "data": {
      "text/html": [
       "<div>\n",
       "<style scoped>\n",
       "    .dataframe tbody tr th:only-of-type {\n",
       "        vertical-align: middle;\n",
       "    }\n",
       "\n",
       "    .dataframe tbody tr th {\n",
       "        vertical-align: top;\n",
       "    }\n",
       "\n",
       "    .dataframe thead th {\n",
       "        text-align: right;\n",
       "    }\n",
       "</style>\n",
       "<table border=\"1\" class=\"dataframe\">\n",
       "  <thead>\n",
       "    <tr style=\"text-align: right;\">\n",
       "      <th></th>\n",
       "      <th>f0</th>\n",
       "      <th>f1</th>\n",
       "      <th>f2</th>\n",
       "      <th>product</th>\n",
       "    </tr>\n",
       "  </thead>\n",
       "  <tbody>\n",
       "    <tr>\n",
       "      <th>count</th>\n",
       "      <td>100000.000000</td>\n",
       "      <td>100000.000000</td>\n",
       "      <td>100000.000000</td>\n",
       "      <td>100000.000000</td>\n",
       "    </tr>\n",
       "    <tr>\n",
       "      <th>mean</th>\n",
       "      <td>1.141296</td>\n",
       "      <td>-4.796579</td>\n",
       "      <td>2.494541</td>\n",
       "      <td>68.825000</td>\n",
       "    </tr>\n",
       "    <tr>\n",
       "      <th>std</th>\n",
       "      <td>8.965932</td>\n",
       "      <td>5.119872</td>\n",
       "      <td>1.703572</td>\n",
       "      <td>45.944423</td>\n",
       "    </tr>\n",
       "    <tr>\n",
       "      <th>min</th>\n",
       "      <td>-31.609576</td>\n",
       "      <td>-26.358598</td>\n",
       "      <td>-0.018144</td>\n",
       "      <td>0.000000</td>\n",
       "    </tr>\n",
       "    <tr>\n",
       "      <th>25%</th>\n",
       "      <td>-6.298551</td>\n",
       "      <td>-8.267985</td>\n",
       "      <td>1.000021</td>\n",
       "      <td>26.953261</td>\n",
       "    </tr>\n",
       "    <tr>\n",
       "      <th>50%</th>\n",
       "      <td>1.153055</td>\n",
       "      <td>-4.813172</td>\n",
       "      <td>2.011479</td>\n",
       "      <td>57.085625</td>\n",
       "    </tr>\n",
       "    <tr>\n",
       "      <th>75%</th>\n",
       "      <td>8.621015</td>\n",
       "      <td>-1.332816</td>\n",
       "      <td>3.999904</td>\n",
       "      <td>107.813044</td>\n",
       "    </tr>\n",
       "    <tr>\n",
       "      <th>max</th>\n",
       "      <td>29.421755</td>\n",
       "      <td>18.734063</td>\n",
       "      <td>5.019721</td>\n",
       "      <td>137.945408</td>\n",
       "    </tr>\n",
       "  </tbody>\n",
       "</table>\n",
       "</div>"
      ],
      "text/plain": [
       "                  f0             f1             f2        product\n",
       "count  100000.000000  100000.000000  100000.000000  100000.000000\n",
       "mean        1.141296      -4.796579       2.494541      68.825000\n",
       "std         8.965932       5.119872       1.703572      45.944423\n",
       "min       -31.609576     -26.358598      -0.018144       0.000000\n",
       "25%        -6.298551      -8.267985       1.000021      26.953261\n",
       "50%         1.153055      -4.813172       2.011479      57.085625\n",
       "75%         8.621015      -1.332816       3.999904     107.813044\n",
       "max        29.421755      18.734063       5.019721     137.945408"
      ]
     },
     "metadata": {},
     "output_type": "display_data"
    },
    {
     "name": "stdout",
     "output_type": "stream",
     "text": [
      "<class 'pandas.core.frame.DataFrame'>\n",
      "RangeIndex: 100000 entries, 0 to 99999\n",
      "Data columns (total 5 columns):\n",
      " #   Column   Non-Null Count   Dtype  \n",
      "---  ------   --------------   -----  \n",
      " 0   id       100000 non-null  object \n",
      " 1   f0       100000 non-null  float64\n",
      " 2   f1       100000 non-null  float64\n",
      " 3   f2       100000 non-null  float64\n",
      " 4   product  100000 non-null  float64\n",
      "dtypes: float64(4), object(1)\n",
      "memory usage: 3.8+ MB\n",
      "\n",
      "Данные геологической разведки региона 2\n"
     ]
    },
    {
     "data": {
      "text/html": [
       "<div>\n",
       "<style scoped>\n",
       "    .dataframe tbody tr th:only-of-type {\n",
       "        vertical-align: middle;\n",
       "    }\n",
       "\n",
       "    .dataframe tbody tr th {\n",
       "        vertical-align: top;\n",
       "    }\n",
       "\n",
       "    .dataframe thead th {\n",
       "        text-align: right;\n",
       "    }\n",
       "</style>\n",
       "<table border=\"1\" class=\"dataframe\">\n",
       "  <thead>\n",
       "    <tr style=\"text-align: right;\">\n",
       "      <th></th>\n",
       "      <th>id</th>\n",
       "      <th>f0</th>\n",
       "      <th>f1</th>\n",
       "      <th>f2</th>\n",
       "      <th>product</th>\n",
       "    </tr>\n",
       "  </thead>\n",
       "  <tbody>\n",
       "    <tr>\n",
       "      <th>0</th>\n",
       "      <td>fwXo0</td>\n",
       "      <td>-1.146987</td>\n",
       "      <td>0.963328</td>\n",
       "      <td>-0.828965</td>\n",
       "      <td>27.758673</td>\n",
       "    </tr>\n",
       "    <tr>\n",
       "      <th>1</th>\n",
       "      <td>WJtFt</td>\n",
       "      <td>0.262778</td>\n",
       "      <td>0.269839</td>\n",
       "      <td>-2.530187</td>\n",
       "      <td>56.069697</td>\n",
       "    </tr>\n",
       "    <tr>\n",
       "      <th>2</th>\n",
       "      <td>ovLUW</td>\n",
       "      <td>0.194587</td>\n",
       "      <td>0.289035</td>\n",
       "      <td>-5.586433</td>\n",
       "      <td>62.871910</td>\n",
       "    </tr>\n",
       "    <tr>\n",
       "      <th>3</th>\n",
       "      <td>q6cA6</td>\n",
       "      <td>2.236060</td>\n",
       "      <td>-0.553760</td>\n",
       "      <td>0.930038</td>\n",
       "      <td>114.572842</td>\n",
       "    </tr>\n",
       "    <tr>\n",
       "      <th>4</th>\n",
       "      <td>WPMUX</td>\n",
       "      <td>-0.515993</td>\n",
       "      <td>1.716266</td>\n",
       "      <td>5.899011</td>\n",
       "      <td>149.600746</td>\n",
       "    </tr>\n",
       "  </tbody>\n",
       "</table>\n",
       "</div>"
      ],
      "text/plain": [
       "      id        f0        f1        f2     product\n",
       "0  fwXo0 -1.146987  0.963328 -0.828965   27.758673\n",
       "1  WJtFt  0.262778  0.269839 -2.530187   56.069697\n",
       "2  ovLUW  0.194587  0.289035 -5.586433   62.871910\n",
       "3  q6cA6  2.236060 -0.553760  0.930038  114.572842\n",
       "4  WPMUX -0.515993  1.716266  5.899011  149.600746"
      ]
     },
     "metadata": {},
     "output_type": "display_data"
    },
    {
     "data": {
      "text/html": [
       "<div>\n",
       "<style scoped>\n",
       "    .dataframe tbody tr th:only-of-type {\n",
       "        vertical-align: middle;\n",
       "    }\n",
       "\n",
       "    .dataframe tbody tr th {\n",
       "        vertical-align: top;\n",
       "    }\n",
       "\n",
       "    .dataframe thead th {\n",
       "        text-align: right;\n",
       "    }\n",
       "</style>\n",
       "<table border=\"1\" class=\"dataframe\">\n",
       "  <thead>\n",
       "    <tr style=\"text-align: right;\">\n",
       "      <th></th>\n",
       "      <th>f0</th>\n",
       "      <th>f1</th>\n",
       "      <th>f2</th>\n",
       "      <th>product</th>\n",
       "    </tr>\n",
       "  </thead>\n",
       "  <tbody>\n",
       "    <tr>\n",
       "      <th>count</th>\n",
       "      <td>100000.000000</td>\n",
       "      <td>100000.000000</td>\n",
       "      <td>100000.000000</td>\n",
       "      <td>100000.000000</td>\n",
       "    </tr>\n",
       "    <tr>\n",
       "      <th>mean</th>\n",
       "      <td>0.002023</td>\n",
       "      <td>-0.002081</td>\n",
       "      <td>2.495128</td>\n",
       "      <td>95.000000</td>\n",
       "    </tr>\n",
       "    <tr>\n",
       "      <th>std</th>\n",
       "      <td>1.732045</td>\n",
       "      <td>1.730417</td>\n",
       "      <td>3.473445</td>\n",
       "      <td>44.749921</td>\n",
       "    </tr>\n",
       "    <tr>\n",
       "      <th>min</th>\n",
       "      <td>-8.760004</td>\n",
       "      <td>-7.084020</td>\n",
       "      <td>-11.970335</td>\n",
       "      <td>0.000000</td>\n",
       "    </tr>\n",
       "    <tr>\n",
       "      <th>25%</th>\n",
       "      <td>-1.162288</td>\n",
       "      <td>-1.174820</td>\n",
       "      <td>0.130359</td>\n",
       "      <td>59.450441</td>\n",
       "    </tr>\n",
       "    <tr>\n",
       "      <th>50%</th>\n",
       "      <td>0.009424</td>\n",
       "      <td>-0.009482</td>\n",
       "      <td>2.484236</td>\n",
       "      <td>94.925613</td>\n",
       "    </tr>\n",
       "    <tr>\n",
       "      <th>75%</th>\n",
       "      <td>1.158535</td>\n",
       "      <td>1.163678</td>\n",
       "      <td>4.858794</td>\n",
       "      <td>130.595027</td>\n",
       "    </tr>\n",
       "    <tr>\n",
       "      <th>max</th>\n",
       "      <td>7.238262</td>\n",
       "      <td>7.844801</td>\n",
       "      <td>16.739402</td>\n",
       "      <td>190.029838</td>\n",
       "    </tr>\n",
       "  </tbody>\n",
       "</table>\n",
       "</div>"
      ],
      "text/plain": [
       "                  f0             f1             f2        product\n",
       "count  100000.000000  100000.000000  100000.000000  100000.000000\n",
       "mean        0.002023      -0.002081       2.495128      95.000000\n",
       "std         1.732045       1.730417       3.473445      44.749921\n",
       "min        -8.760004      -7.084020     -11.970335       0.000000\n",
       "25%        -1.162288      -1.174820       0.130359      59.450441\n",
       "50%         0.009424      -0.009482       2.484236      94.925613\n",
       "75%         1.158535       1.163678       4.858794     130.595027\n",
       "max         7.238262       7.844801      16.739402     190.029838"
      ]
     },
     "metadata": {},
     "output_type": "display_data"
    },
    {
     "name": "stdout",
     "output_type": "stream",
     "text": [
      "<class 'pandas.core.frame.DataFrame'>\n",
      "RangeIndex: 100000 entries, 0 to 99999\n",
      "Data columns (total 5 columns):\n",
      " #   Column   Non-Null Count   Dtype  \n",
      "---  ------   --------------   -----  \n",
      " 0   id       100000 non-null  object \n",
      " 1   f0       100000 non-null  float64\n",
      " 2   f1       100000 non-null  float64\n",
      " 3   f2       100000 non-null  float64\n",
      " 4   product  100000 non-null  float64\n",
      "dtypes: float64(4), object(1)\n",
      "memory usage: 3.8+ MB\n"
     ]
    }
   ],
   "source": [
    "raw_datasets = []\n",
    "\n",
    "for i in range(3):\n",
    "    geo_data = pd.read_csv(f'/datasets/geo_data_{i}.csv')\n",
    "    raw_datasets.append(geo_data)\n",
    "    print(f'\\nДанные геологической разведки региона {i}')\n",
    "    display(geo_data.head())\n",
    "    display(geo_data.describe())\n",
    "    geo_data.info()"
   ]
  },
  {
   "cell_type": "markdown",
   "metadata": {},
   "source": [
    "Данные геологоразведки трёх регионов содержат следующие столбцы:\n",
    "- id — уникальный идентификатор скважины;\n",
    "- f0, f1, f2 — три признака точек (не важно их обозначение, важна значимость признаков);\n",
    "- product — объём запасов в скважине (тыс. баррелей)."
   ]
  },
  {
   "cell_type": "markdown",
   "metadata": {},
   "source": [
    "**Вывод:** загружены три датасета `geo_data_0`, `geo_data_1`, `geo_data_2` о геологической разведке трех регионов, все таблицы содержат по 10000 строк с месторождениями нефти и 5 столбцов. Пропущенных значений не обнаружено, датасет содержит два типа данных: `object`, `float`. Столбцы `f0`, `f1`, `f2` содержат значимые признаки, но неизвестно, что они означают, поэтому я не буду приводить их к целочисленному типу, чтобы не потерять точность данных. А так же столбец `product` оставлю с типом данных `float`, чтобы объем запасов в скважине оставить с максимальной точностью (для дальнейшего вычисления прибыли). В данных аномалий не обнаружено, поэтому предобработка не требуется."
   ]
  },
  {
   "cell_type": "markdown",
   "metadata": {},
   "source": [
    "Для дальнейшего обучения модели столбец `id` с уникальным идентификатором скважины не понадобится, поэтому удалю его из трех датасетов."
   ]
  },
  {
   "cell_type": "code",
   "execution_count": 3,
   "metadata": {},
   "outputs": [
    {
     "data": {
      "text/html": [
       "<div>\n",
       "<style scoped>\n",
       "    .dataframe tbody tr th:only-of-type {\n",
       "        vertical-align: middle;\n",
       "    }\n",
       "\n",
       "    .dataframe tbody tr th {\n",
       "        vertical-align: top;\n",
       "    }\n",
       "\n",
       "    .dataframe thead th {\n",
       "        text-align: right;\n",
       "    }\n",
       "</style>\n",
       "<table border=\"1\" class=\"dataframe\">\n",
       "  <thead>\n",
       "    <tr style=\"text-align: right;\">\n",
       "      <th></th>\n",
       "      <th>f0</th>\n",
       "      <th>f1</th>\n",
       "      <th>f2</th>\n",
       "      <th>product</th>\n",
       "    </tr>\n",
       "  </thead>\n",
       "  <tbody>\n",
       "    <tr>\n",
       "      <th>0</th>\n",
       "      <td>0.705745</td>\n",
       "      <td>-0.497823</td>\n",
       "      <td>1.221170</td>\n",
       "      <td>105.280062</td>\n",
       "    </tr>\n",
       "    <tr>\n",
       "      <th>1</th>\n",
       "      <td>1.334711</td>\n",
       "      <td>-0.340164</td>\n",
       "      <td>4.365080</td>\n",
       "      <td>73.037750</td>\n",
       "    </tr>\n",
       "    <tr>\n",
       "      <th>2</th>\n",
       "      <td>1.022732</td>\n",
       "      <td>0.151990</td>\n",
       "      <td>1.419926</td>\n",
       "      <td>85.265647</td>\n",
       "    </tr>\n",
       "    <tr>\n",
       "      <th>3</th>\n",
       "      <td>-0.032172</td>\n",
       "      <td>0.139033</td>\n",
       "      <td>2.978566</td>\n",
       "      <td>168.620776</td>\n",
       "    </tr>\n",
       "    <tr>\n",
       "      <th>4</th>\n",
       "      <td>1.988431</td>\n",
       "      <td>0.155413</td>\n",
       "      <td>4.751769</td>\n",
       "      <td>154.036647</td>\n",
       "    </tr>\n",
       "  </tbody>\n",
       "</table>\n",
       "</div>"
      ],
      "text/plain": [
       "         f0        f1        f2     product\n",
       "0  0.705745 -0.497823  1.221170  105.280062\n",
       "1  1.334711 -0.340164  4.365080   73.037750\n",
       "2  1.022732  0.151990  1.419926   85.265647\n",
       "3 -0.032172  0.139033  2.978566  168.620776\n",
       "4  1.988431  0.155413  4.751769  154.036647"
      ]
     },
     "metadata": {},
     "output_type": "display_data"
    },
    {
     "data": {
      "text/html": [
       "<div>\n",
       "<style scoped>\n",
       "    .dataframe tbody tr th:only-of-type {\n",
       "        vertical-align: middle;\n",
       "    }\n",
       "\n",
       "    .dataframe tbody tr th {\n",
       "        vertical-align: top;\n",
       "    }\n",
       "\n",
       "    .dataframe thead th {\n",
       "        text-align: right;\n",
       "    }\n",
       "</style>\n",
       "<table border=\"1\" class=\"dataframe\">\n",
       "  <thead>\n",
       "    <tr style=\"text-align: right;\">\n",
       "      <th></th>\n",
       "      <th>f0</th>\n",
       "      <th>f1</th>\n",
       "      <th>f2</th>\n",
       "      <th>product</th>\n",
       "    </tr>\n",
       "  </thead>\n",
       "  <tbody>\n",
       "    <tr>\n",
       "      <th>0</th>\n",
       "      <td>-15.001348</td>\n",
       "      <td>-8.276000</td>\n",
       "      <td>-0.005876</td>\n",
       "      <td>3.179103</td>\n",
       "    </tr>\n",
       "    <tr>\n",
       "      <th>1</th>\n",
       "      <td>14.272088</td>\n",
       "      <td>-3.475083</td>\n",
       "      <td>0.999183</td>\n",
       "      <td>26.953261</td>\n",
       "    </tr>\n",
       "    <tr>\n",
       "      <th>2</th>\n",
       "      <td>6.263187</td>\n",
       "      <td>-5.948386</td>\n",
       "      <td>5.001160</td>\n",
       "      <td>134.766305</td>\n",
       "    </tr>\n",
       "    <tr>\n",
       "      <th>3</th>\n",
       "      <td>-13.081196</td>\n",
       "      <td>-11.506057</td>\n",
       "      <td>4.999415</td>\n",
       "      <td>137.945408</td>\n",
       "    </tr>\n",
       "    <tr>\n",
       "      <th>4</th>\n",
       "      <td>12.702195</td>\n",
       "      <td>-8.147433</td>\n",
       "      <td>5.004363</td>\n",
       "      <td>134.766305</td>\n",
       "    </tr>\n",
       "  </tbody>\n",
       "</table>\n",
       "</div>"
      ],
      "text/plain": [
       "          f0         f1        f2     product\n",
       "0 -15.001348  -8.276000 -0.005876    3.179103\n",
       "1  14.272088  -3.475083  0.999183   26.953261\n",
       "2   6.263187  -5.948386  5.001160  134.766305\n",
       "3 -13.081196 -11.506057  4.999415  137.945408\n",
       "4  12.702195  -8.147433  5.004363  134.766305"
      ]
     },
     "metadata": {},
     "output_type": "display_data"
    },
    {
     "data": {
      "text/html": [
       "<div>\n",
       "<style scoped>\n",
       "    .dataframe tbody tr th:only-of-type {\n",
       "        vertical-align: middle;\n",
       "    }\n",
       "\n",
       "    .dataframe tbody tr th {\n",
       "        vertical-align: top;\n",
       "    }\n",
       "\n",
       "    .dataframe thead th {\n",
       "        text-align: right;\n",
       "    }\n",
       "</style>\n",
       "<table border=\"1\" class=\"dataframe\">\n",
       "  <thead>\n",
       "    <tr style=\"text-align: right;\">\n",
       "      <th></th>\n",
       "      <th>f0</th>\n",
       "      <th>f1</th>\n",
       "      <th>f2</th>\n",
       "      <th>product</th>\n",
       "    </tr>\n",
       "  </thead>\n",
       "  <tbody>\n",
       "    <tr>\n",
       "      <th>0</th>\n",
       "      <td>-1.146987</td>\n",
       "      <td>0.963328</td>\n",
       "      <td>-0.828965</td>\n",
       "      <td>27.758673</td>\n",
       "    </tr>\n",
       "    <tr>\n",
       "      <th>1</th>\n",
       "      <td>0.262778</td>\n",
       "      <td>0.269839</td>\n",
       "      <td>-2.530187</td>\n",
       "      <td>56.069697</td>\n",
       "    </tr>\n",
       "    <tr>\n",
       "      <th>2</th>\n",
       "      <td>0.194587</td>\n",
       "      <td>0.289035</td>\n",
       "      <td>-5.586433</td>\n",
       "      <td>62.871910</td>\n",
       "    </tr>\n",
       "    <tr>\n",
       "      <th>3</th>\n",
       "      <td>2.236060</td>\n",
       "      <td>-0.553760</td>\n",
       "      <td>0.930038</td>\n",
       "      <td>114.572842</td>\n",
       "    </tr>\n",
       "    <tr>\n",
       "      <th>4</th>\n",
       "      <td>-0.515993</td>\n",
       "      <td>1.716266</td>\n",
       "      <td>5.899011</td>\n",
       "      <td>149.600746</td>\n",
       "    </tr>\n",
       "  </tbody>\n",
       "</table>\n",
       "</div>"
      ],
      "text/plain": [
       "         f0        f1        f2     product\n",
       "0 -1.146987  0.963328 -0.828965   27.758673\n",
       "1  0.262778  0.269839 -2.530187   56.069697\n",
       "2  0.194587  0.289035 -5.586433   62.871910\n",
       "3  2.236060 -0.553760  0.930038  114.572842\n",
       "4 -0.515993  1.716266  5.899011  149.600746"
      ]
     },
     "metadata": {},
     "output_type": "display_data"
    }
   ],
   "source": [
    "for data in raw_datasets:\n",
    "    data.drop(['id'], axis=1, inplace=True)\n",
    "    display(data.head())"
   ]
  },
  {
   "cell_type": "markdown",
   "metadata": {},
   "source": [
    "## Обучение и проверка модели"
   ]
  },
  {
   "cell_type": "markdown",
   "metadata": {},
   "source": [
    "### Разделение данных на выбоки"
   ]
  },
  {
   "cell_type": "markdown",
   "metadata": {},
   "source": [
    "Целевым признаком является объем запасов в скважине, его определю в переменную `target`. Остальные признаки - в переменную `features`."
   ]
  },
  {
   "cell_type": "markdown",
   "metadata": {},
   "source": [
    "Разделю каждый датасет на две выборки:\n",
    "- обучающую, на которой соответственно будут обучаться модели. Целевой признак положу в переменную `target_train`. Остальные признаки запишу в переменную `features_train`;\n",
    "- валидационную, для оценки качества модели (признаки - `features_valid`, целевой признак - `target_valid`).\n",
    "\n",
    "Обучающая и валидационная выборки делятся в соотношении 3:1 с помощью функции библиотеки sklearn `train_test_split`. Для удобства все переменные оформлю в датакласс `Sample`."
   ]
  },
  {
   "cell_type": "code",
   "execution_count": 4,
   "metadata": {},
   "outputs": [],
   "source": [
    "@dataclass\n",
    "class Sample:\n",
    "    features_train: DataFrame\n",
    "    features_valid: DataFrame\n",
    "    target_train: Series\n",
    "    target_valid: Series"
   ]
  },
  {
   "cell_type": "code",
   "execution_count": 5,
   "metadata": {},
   "outputs": [],
   "source": [
    "samples = []\n",
    "\n",
    "for data in raw_datasets:\n",
    "    features = data.drop(['product'], axis=1)\n",
    "    target = data['product']\n",
    "    \n",
    "    splitted_data = train_test_split(\n",
    "        features, target, test_size=0.25, random_state=123\n",
    "    )\n",
    "    sample = Sample(*splitted_data)\n",
    "    samples.append(sample)"
   ]
  },
  {
   "cell_type": "markdown",
   "metadata": {},
   "source": [
    "Для проверки выведу размеры полученных наборов:"
   ]
  },
  {
   "cell_type": "code",
   "execution_count": 6,
   "metadata": {},
   "outputs": [
    {
     "name": "stdout",
     "output_type": "stream",
     "text": [
      "features_train (75000, 3)\n",
      "features_valid (25000, 3)\n",
      "target_train (75000,)\n",
      "target_valid (25000,)\n"
     ]
    }
   ],
   "source": [
    "for name, dataframe in asdict(samples[0]).items():\n",
    "    print(name, dataframe.shape)"
   ]
  },
  {
   "cell_type": "markdown",
   "metadata": {},
   "source": [
    "### Обучение модели линейной регрессии"
   ]
  },
  {
   "cell_type": "code",
   "execution_count": 7,
   "metadata": {},
   "outputs": [
    {
     "name": "stdout",
     "output_type": "stream",
     "text": [
      "Регион 0\n",
      "Средний запас предсказанного сырья: 92.54936189116306\n",
      "RMSE: 37.64786282376176\n",
      "Регион 1\n",
      "Средний запас предсказанного сырья: 69.28001860653976\n",
      "RMSE: 0.8954139804944313\n",
      "Регион 2\n",
      "Средний запас предсказанного сырья: 95.09859933591373\n",
      "RMSE: 40.12803006598514\n"
     ]
    }
   ],
   "source": [
    "products = []\n",
    "\n",
    "for number, data in enumerate(samples):\n",
    "    model = LinearRegression()\n",
    "    model.fit(data.features_train, data.target_train)\n",
    "    predicted_valid = model.predict(data.features_valid)\n",
    "    mse = mean_squared_error(data.target_valid, predicted_valid)\n",
    "    \n",
    "    products.append({\n",
    "        \"predicted\": pd.Series(predicted_valid, index=data.target_valid.index),\n",
    "        \"target\": data.target_valid\n",
    "    })\n",
    "    \n",
    "    print(f\"Регион {number}\")\n",
    "    print(\"Средний запас предсказанного сырья:\", predicted_valid.mean())\n",
    "    print(\"RMSE:\", mse ** 0.5)"
   ]
  },
  {
   "cell_type": "markdown",
   "metadata": {},
   "source": [
    "### Оценка качества модели кросс-валидацией"
   ]
  },
  {
   "cell_type": "code",
   "execution_count": 8,
   "metadata": {},
   "outputs": [
    {
     "name": "stdout",
     "output_type": "stream",
     "text": [
      "Средняя оценка качества модели: 0.27549130726904475\n",
      "Средняя оценка качества модели: 0.9996243728923553\n",
      "Средняя оценка качества модели: 0.1987156246205129\n"
     ]
    }
   ],
   "source": [
    "for data in raw_datasets:\n",
    "    features = data.drop(['product'], axis=1)\n",
    "    target = data['product']\n",
    "    scores = cross_val_score(model, features, target, cv=5)\n",
    "    final_score = sum(scores) / len(scores)\n",
    "    print('Средняя оценка качества модели:', final_score)"
   ]
  },
  {
   "cell_type": "markdown",
   "metadata": {},
   "source": [
    "**Вывод:** по полученным результатам видно, что средний объем сырья для 1 региона сильно разнится со средним значением сырья для 0 и 2 регионов. Также можно сказать, что для 1 региона модель лучше обучилась, чем для других, о чем говорит значение метрики RMSE, а также средняя оценка качества модели."
   ]
  },
  {
   "cell_type": "markdown",
   "metadata": {},
   "source": [
    "## Подготовка к расчёту прибыли"
   ]
  },
  {
   "cell_type": "markdown",
   "metadata": {},
   "source": [
    "Посчитаю объем сырья, который нужно добыть в одном регионе, чтобы выйти на безубыточную добычу:"
   ]
  },
  {
   "cell_type": "code",
   "execution_count": 9,
   "metadata": {},
   "outputs": [
    {
     "data": {
      "text/plain": [
       "22222.222222222223"
      ]
     },
     "execution_count": 9,
     "metadata": {},
     "output_type": "execute_result"
    }
   ],
   "source": [
    "EXPENSES = 10*10**9\n",
    "INCOME_PER_PRODUCT = 450000\n",
    "target_product = EXPENSES / INCOME_PER_PRODUCT\n",
    "target_product"
   ]
  },
  {
   "cell_type": "markdown",
   "metadata": {},
   "source": [
    "Посчитаю средний объем сырья, который нужно добыть в одной скважине:"
   ]
  },
  {
   "cell_type": "code",
   "execution_count": 10,
   "metadata": {},
   "outputs": [
    {
     "data": {
      "text/plain": [
       "111.11111111111111"
      ]
     },
     "execution_count": 10,
     "metadata": {},
     "output_type": "execute_result"
    }
   ],
   "source": [
    "WELLS = 200\n",
    "mean_product = target_product / WELLS\n",
    "mean_product"
   ]
  },
  {
   "cell_type": "markdown",
   "metadata": {},
   "source": [
    "**Вывод:** средний объем сырья для безубыточной добычи больше, чем средний объем, предсказанный моделью для каждого региона. Это еще раз подтверждает необходимость выбирать 200 скважин с наибольшим объемом запасов."
   ]
  },
  {
   "cell_type": "markdown",
   "metadata": {},
   "source": [
    "## Расчёт прибыли и рисков "
   ]
  },
  {
   "cell_type": "code",
   "execution_count": 11,
   "metadata": {},
   "outputs": [],
   "source": [
    "\"\"\"Функция для расчета прибыли\"\"\"\n",
    "\n",
    "def calc_profit(predicted, target, count):\n",
    "    best_predicted = predicted.sort_values(ascending=False)\n",
    "    unique_indexes = best_predicted.index.unique()\n",
    "    best_product = target[unique_indexes].iloc[:count]\n",
    "    return best_product.sum() * INCOME_PER_PRODUCT - EXPENSES"
   ]
  },
  {
   "cell_type": "markdown",
   "metadata": {},
   "source": [
    "Для каждого региона выведу значение прибыли в млрд.руб:"
   ]
  },
  {
   "cell_type": "code",
   "execution_count": 12,
   "metadata": {},
   "outputs": [
    {
     "name": "stdout",
     "output_type": "stream",
     "text": [
      "Прибыль при добыче в регионе 0: 3.535 млрд.руб.\n",
      "Прибыль при добыче в регионе 1: 2.415 млрд.руб.\n",
      "Прибыль при добыче в регионе 2: 2.37 млрд.руб.\n"
     ]
    }
   ],
   "source": [
    "for number, value in enumerate(products):\n",
    "    profit = calc_profit(value[\"predicted\"], value[\"target\"], WELLS)\n",
    "    print(\n",
    "        f'Прибыль при добыче в регионе {number}:', \n",
    "        round(profit / 10**9, 3), \n",
    "        'млрд.руб.'\n",
    "    )"
   ]
  },
  {
   "cell_type": "code",
   "execution_count": 13,
   "metadata": {},
   "outputs": [],
   "source": [
    "state = RandomState(123)"
   ]
  },
  {
   "cell_type": "markdown",
   "metadata": {},
   "source": [
    "Посчитаю распределение прибыли и риски с помощью техники bootstrap:"
   ]
  },
  {
   "cell_type": "code",
   "execution_count": 14,
   "metadata": {},
   "outputs": [
    {
     "name": "stdout",
     "output_type": "stream",
     "text": [
      "\n",
      "Регион 0:\n",
      "95-ти процентный доверительный интервал: -0.058 - 0.975 млрд.руб.\n",
      "Средняя прибыль: 0.477 млрд.руб.\n",
      "Риск убытков: 4.1 %\n",
      "\n",
      "Регион 1:\n",
      "95-ти процентный доверительный интервал: 0.069 - 0.871 млрд.руб.\n",
      "Средняя прибыль: 0.467 млрд.руб.\n",
      "Риск убытков: 1.0 %\n",
      "\n",
      "Регион 2:\n",
      "95-ти процентный доверительный интервал: -0.183 - 0.871 млрд.руб.\n",
      "Средняя прибыль: 0.362 млрд.руб.\n",
      "Риск убытков: 8.9 %\n"
     ]
    }
   ],
   "source": [
    "for number, value in enumerate(products):\n",
    "    values = []\n",
    "    for i in range(1000):\n",
    "        target_sample = value[\"target\"].sample(n=500, replace=True, random_state=state)\n",
    "        predicted_sample = value[\"predicted\"][target_sample.index]\n",
    "        profit = calc_profit(predicted_sample, target_sample, WELLS)\n",
    "        values.append(profit)\n",
    "\n",
    "    values = pd.Series(values)\n",
    "    lower = values.quantile(q=0.025) \n",
    "    upper = values.quantile(q=0.975)\n",
    "\n",
    "    print(f\"\\nРегион {number}:\")\n",
    "    print(\n",
    "        \"95-ти процентный доверительный интервал:\", \n",
    "        round(lower / 10**9, 3), \n",
    "        \"-\", \n",
    "        round(upper / 10**9, 3), \n",
    "        \"млрд.руб.\"\n",
    "    )\n",
    "    print(\"Средняя прибыль:\", round(values.mean() / 10**9, 3), \"млрд.руб.\") \n",
    "    print(\"Риск убытков:\", round((values < 0).mean() * 100, 2), \"%\")"
   ]
  },
  {
   "cell_type": "markdown",
   "metadata": {},
   "source": [
    "**Выбор наилучшего региона для бурения скважин:** \n",
    "- по условию задачи, риск убытков должен быть менее 2.5%, поэтому регионы 0 и 2 исключаются из рассмотрения, также у этих регионов нижнее значение доверительного 95-ти процентного интервала отрицательное;\n",
    "\n",
    "- по предсказанию модели у региона 0 прибыль составляет 3,5 млрд.руб., а у региона 1 - 2,4 млрд.руб. Разница по прибыли значительная, но при этом риск убытков у региона 0 больше на 3.1%.\n",
    "\n",
    "**Условия задачи ограничивают по допустимой вероятности рисков, поэтому наилучшим регионом для бурения скважин выбирается регион 1 с максимальной прибылью по предсказанию модели 2.4 млрд.руб. с возможными рисками убытков 1.0%.**"
   ]
  }
 ],
 "metadata": {
  "ExecuteTimeLog": [
   {
    "duration": 768,
    "start_time": "2022-02-25T07:03:31.954Z"
   },
   {
    "duration": 188,
    "start_time": "2022-02-25T07:03:34.921Z"
   },
   {
    "duration": 15,
    "start_time": "2022-02-25T07:04:18.031Z"
   },
   {
    "duration": 57,
    "start_time": "2022-02-25T07:07:59.265Z"
   },
   {
    "duration": 167,
    "start_time": "2022-02-25T07:09:25.314Z"
   },
   {
    "duration": 13,
    "start_time": "2022-02-25T07:09:54.835Z"
   },
   {
    "duration": 67,
    "start_time": "2022-02-25T07:10:28.379Z"
   },
   {
    "duration": 275,
    "start_time": "2022-02-25T07:11:52.261Z"
   },
   {
    "duration": 15,
    "start_time": "2022-02-25T07:12:30.724Z"
   },
   {
    "duration": 51,
    "start_time": "2022-02-25T07:12:52.035Z"
   },
   {
    "duration": 22,
    "start_time": "2022-02-25T08:00:05.944Z"
   },
   {
    "duration": 681,
    "start_time": "2022-02-25T08:07:55.723Z"
   },
   {
    "duration": 349,
    "start_time": "2022-02-25T08:08:08.118Z"
   },
   {
    "duration": 118,
    "start_time": "2022-02-25T11:56:10.271Z"
   },
   {
    "duration": 7,
    "start_time": "2022-02-25T11:56:58.207Z"
   },
   {
    "duration": 8,
    "start_time": "2022-02-25T11:57:39.944Z"
   },
   {
    "duration": 8,
    "start_time": "2022-02-25T11:57:40.880Z"
   },
   {
    "duration": 1027,
    "start_time": "2022-03-03T16:18:27.004Z"
   },
   {
    "duration": 4,
    "start_time": "2022-03-03T16:22:27.435Z"
   },
   {
    "duration": 3,
    "start_time": "2022-03-03T16:29:05.019Z"
   },
   {
    "duration": 3,
    "start_time": "2022-03-03T16:29:05.403Z"
   },
   {
    "duration": 325,
    "start_time": "2022-03-03T16:29:06.760Z"
   },
   {
    "duration": 341,
    "start_time": "2022-03-03T16:29:21.623Z"
   },
   {
    "duration": 346,
    "start_time": "2022-03-03T16:29:47.269Z"
   },
   {
    "duration": 43,
    "start_time": "2022-03-03T16:33:05.319Z"
   },
   {
    "duration": 4,
    "start_time": "2022-03-03T16:35:06.031Z"
   },
   {
    "duration": 4,
    "start_time": "2022-03-03T16:35:17.081Z"
   },
   {
    "duration": 11,
    "start_time": "2022-03-03T16:35:29.363Z"
   },
   {
    "duration": 366,
    "start_time": "2022-03-03T16:36:26.914Z"
   },
   {
    "duration": 479,
    "start_time": "2022-03-03T16:36:59.424Z"
   },
   {
    "duration": 505,
    "start_time": "2022-03-03T16:37:53.791Z"
   },
   {
    "duration": 459,
    "start_time": "2022-03-03T16:38:15.156Z"
   },
   {
    "duration": 25,
    "start_time": "2022-03-03T16:43:39.197Z"
   },
   {
    "duration": 33,
    "start_time": "2022-03-03T16:46:47.177Z"
   },
   {
    "duration": 4,
    "start_time": "2022-03-03T16:47:01.199Z"
   },
   {
    "duration": 14,
    "start_time": "2022-03-03T16:47:04.068Z"
   },
   {
    "duration": -1043,
    "start_time": "2022-03-03T16:51:57.869Z"
   },
   {
    "duration": -1048,
    "start_time": "2022-03-03T16:51:57.875Z"
   },
   {
    "duration": -1053,
    "start_time": "2022-03-03T16:51:57.880Z"
   },
   {
    "duration": -1056,
    "start_time": "2022-03-03T16:51:57.885Z"
   },
   {
    "duration": -1057,
    "start_time": "2022-03-03T16:51:57.886Z"
   },
   {
    "duration": -1058,
    "start_time": "2022-03-03T16:51:57.888Z"
   },
   {
    "duration": -1059,
    "start_time": "2022-03-03T16:51:57.890Z"
   },
   {
    "duration": 3,
    "start_time": "2022-03-03T16:53:41.773Z"
   },
   {
    "duration": 504,
    "start_time": "2022-03-03T16:53:41.778Z"
   },
   {
    "duration": 49,
    "start_time": "2022-03-03T16:53:42.285Z"
   },
   {
    "duration": 170,
    "start_time": "2022-03-03T16:53:42.336Z"
   },
   {
    "duration": -8253,
    "start_time": "2022-03-03T16:53:50.761Z"
   },
   {
    "duration": -8254,
    "start_time": "2022-03-03T16:53:50.763Z"
   },
   {
    "duration": -8271,
    "start_time": "2022-03-03T16:53:50.781Z"
   },
   {
    "duration": -8272,
    "start_time": "2022-03-03T16:53:50.783Z"
   },
   {
    "duration": 3,
    "start_time": "2022-03-03T16:53:58.700Z"
   },
   {
    "duration": 233,
    "start_time": "2022-03-03T16:53:59.397Z"
   },
   {
    "duration": 201,
    "start_time": "2022-03-03T16:56:14.108Z"
   },
   {
    "duration": 170,
    "start_time": "2022-03-03T16:56:44.146Z"
   },
   {
    "duration": 3,
    "start_time": "2022-03-03T16:57:51.191Z"
   },
   {
    "duration": 3,
    "start_time": "2022-03-03T16:58:24.469Z"
   },
   {
    "duration": 36,
    "start_time": "2022-03-03T16:58:25.425Z"
   },
   {
    "duration": 12,
    "start_time": "2022-03-03T16:59:33.453Z"
   },
   {
    "duration": 10,
    "start_time": "2022-03-03T17:07:16.951Z"
   },
   {
    "duration": 6,
    "start_time": "2022-03-03T17:07:37.231Z"
   },
   {
    "duration": 5,
    "start_time": "2022-03-03T17:07:47.969Z"
   },
   {
    "duration": 3,
    "start_time": "2022-03-03T17:09:23.654Z"
   },
   {
    "duration": 38,
    "start_time": "2022-03-03T17:09:25.618Z"
   },
   {
    "duration": 5,
    "start_time": "2022-03-03T17:09:26.836Z"
   },
   {
    "duration": 37,
    "start_time": "2022-03-03T17:09:51.576Z"
   },
   {
    "duration": 6,
    "start_time": "2022-03-03T17:09:52.999Z"
   },
   {
    "duration": 9,
    "start_time": "2022-03-03T17:10:00.370Z"
   },
   {
    "duration": 21,
    "start_time": "2022-03-03T17:10:33.997Z"
   },
   {
    "duration": 3,
    "start_time": "2022-03-03T17:16:36.368Z"
   },
   {
    "duration": 2,
    "start_time": "2022-03-03T17:16:45.455Z"
   },
   {
    "duration": 14,
    "start_time": "2022-03-03T17:21:23.198Z"
   },
   {
    "duration": 106,
    "start_time": "2022-03-03T17:27:44.932Z"
   },
   {
    "duration": 382,
    "start_time": "2022-03-03T17:29:57.169Z"
   },
   {
    "duration": 3,
    "start_time": "2022-03-03T17:30:25.726Z"
   },
   {
    "duration": 74,
    "start_time": "2022-03-03T17:32:16.266Z"
   },
   {
    "duration": 169,
    "start_time": "2022-03-03T17:34:28.388Z"
   },
   {
    "duration": 226,
    "start_time": "2022-03-03T17:34:41.199Z"
   },
   {
    "duration": 95,
    "start_time": "2022-03-03T17:40:03.444Z"
   },
   {
    "duration": 2,
    "start_time": "2022-03-03T18:14:03.984Z"
   },
   {
    "duration": 3,
    "start_time": "2022-03-03T18:14:55.914Z"
   },
   {
    "duration": 55,
    "start_time": "2022-03-03T18:17:40.327Z"
   },
   {
    "duration": 58,
    "start_time": "2022-03-03T18:17:45.557Z"
   },
   {
    "duration": 46,
    "start_time": "2022-03-03T18:18:16.853Z"
   },
   {
    "duration": 139,
    "start_time": "2022-03-03T18:18:26.797Z"
   },
   {
    "duration": 1035,
    "start_time": "2022-03-03T18:19:01.009Z"
   },
   {
    "duration": 507,
    "start_time": "2022-03-03T18:19:02.046Z"
   },
   {
    "duration": 28,
    "start_time": "2022-03-03T18:19:02.555Z"
   },
   {
    "duration": 3,
    "start_time": "2022-03-03T18:19:02.585Z"
   },
   {
    "duration": 59,
    "start_time": "2022-03-03T18:19:02.589Z"
   },
   {
    "duration": 2,
    "start_time": "2022-03-03T18:19:02.650Z"
   },
   {
    "duration": 67,
    "start_time": "2022-03-03T18:19:02.654Z"
   },
   {
    "duration": 110,
    "start_time": "2022-03-03T18:19:02.732Z"
   },
   {
    "duration": 4,
    "start_time": "2022-03-03T18:25:10.112Z"
   },
   {
    "duration": 273,
    "start_time": "2022-03-03T18:26:04.971Z"
   },
   {
    "duration": 245,
    "start_time": "2022-03-03T18:26:41.242Z"
   },
   {
    "duration": 212,
    "start_time": "2022-03-03T18:26:57.948Z"
   },
   {
    "duration": 214,
    "start_time": "2022-03-03T18:27:16.893Z"
   },
   {
    "duration": 5,
    "start_time": "2022-03-03T18:27:27.591Z"
   },
   {
    "duration": 6,
    "start_time": "2022-03-03T18:28:04.158Z"
   },
   {
    "duration": 62,
    "start_time": "2022-03-03T18:39:43.376Z"
   },
   {
    "duration": 4,
    "start_time": "2022-03-03T18:43:54.157Z"
   },
   {
    "duration": 211,
    "start_time": "2022-03-03T18:45:02.826Z"
   },
   {
    "duration": 10,
    "start_time": "2022-03-03T18:45:08.155Z"
   },
   {
    "duration": 131,
    "start_time": "2022-03-03T18:46:17.507Z"
   },
   {
    "duration": 20,
    "start_time": "2022-03-03T18:46:20.755Z"
   },
   {
    "duration": 112,
    "start_time": "2022-03-03T18:57:43.724Z"
   },
   {
    "duration": 3,
    "start_time": "2022-03-03T18:59:02.996Z"
   },
   {
    "duration": 10,
    "start_time": "2022-03-03T19:00:00.402Z"
   },
   {
    "duration": 3,
    "start_time": "2022-03-03T19:08:54.252Z"
   },
   {
    "duration": 3,
    "start_time": "2022-03-03T19:10:33.639Z"
   },
   {
    "duration": 4,
    "start_time": "2022-03-03T19:15:26.971Z"
   },
   {
    "duration": 4,
    "start_time": "2022-03-03T19:17:10.990Z"
   },
   {
    "duration": 4,
    "start_time": "2022-03-03T19:30:11.388Z"
   },
   {
    "duration": 25,
    "start_time": "2022-03-03T19:33:31.799Z"
   },
   {
    "duration": 3,
    "start_time": "2022-03-03T19:35:16.235Z"
   },
   {
    "duration": 15,
    "start_time": "2022-03-03T19:35:17.959Z"
   },
   {
    "duration": 196,
    "start_time": "2022-03-03T19:42:16.251Z"
   },
   {
    "duration": 233,
    "start_time": "2022-03-03T19:42:36.336Z"
   },
   {
    "duration": 3,
    "start_time": "2022-03-03T19:43:00.317Z"
   },
   {
    "duration": 3,
    "start_time": "2022-03-03T19:43:08.014Z"
   },
   {
    "duration": 177,
    "start_time": "2022-03-03T19:49:29.121Z"
   },
   {
    "duration": 4,
    "start_time": "2022-03-03T19:49:40.448Z"
   },
   {
    "duration": 15,
    "start_time": "2022-03-03T19:49:41.793Z"
   },
   {
    "duration": 3,
    "start_time": "2022-03-03T19:49:42.986Z"
   },
   {
    "duration": 8151,
    "start_time": "2022-03-03T19:49:43.830Z"
   },
   {
    "duration": 8005,
    "start_time": "2022-03-03T19:52:55.502Z"
   },
   {
    "duration": 7630,
    "start_time": "2022-03-03T19:53:36.181Z"
   },
   {
    "duration": 1136,
    "start_time": "2022-03-04T11:25:16.808Z"
   },
   {
    "duration": 1108,
    "start_time": "2022-03-04T11:25:29.175Z"
   },
   {
    "duration": 560,
    "start_time": "2022-03-04T11:25:30.285Z"
   },
   {
    "duration": 54,
    "start_time": "2022-03-04T11:25:30.847Z"
   },
   {
    "duration": 4,
    "start_time": "2022-03-04T11:25:30.903Z"
   },
   {
    "duration": 47,
    "start_time": "2022-03-04T11:25:30.909Z"
   },
   {
    "duration": 7,
    "start_time": "2022-03-04T11:25:30.958Z"
   },
   {
    "duration": 10,
    "start_time": "2022-03-04T11:25:30.967Z"
   },
   {
    "duration": 73,
    "start_time": "2022-03-04T11:25:30.981Z"
   },
   {
    "duration": 154,
    "start_time": "2022-03-04T11:25:31.056Z"
   },
   {
    "duration": 102,
    "start_time": "2022-03-04T11:25:31.302Z"
   },
   {
    "duration": 14,
    "start_time": "2022-03-04T11:25:31.406Z"
   },
   {
    "duration": 8,
    "start_time": "2022-03-04T11:25:31.423Z"
   },
   {
    "duration": 37,
    "start_time": "2022-03-04T11:25:31.433Z"
   },
   {
    "duration": 4,
    "start_time": "2022-03-04T11:25:31.473Z"
   },
   {
    "duration": 8524,
    "start_time": "2022-03-04T11:25:31.479Z"
   },
   {
    "duration": 4,
    "start_time": "2022-03-04T11:26:19.387Z"
   },
   {
    "duration": 39,
    "start_time": "2022-03-04T11:26:22.370Z"
   },
   {
    "duration": 4,
    "start_time": "2022-03-04T11:26:37.067Z"
   },
   {
    "duration": 1175,
    "start_time": "2022-03-04T11:26:47.874Z"
   },
   {
    "duration": 576,
    "start_time": "2022-03-04T11:26:49.051Z"
   },
   {
    "duration": 33,
    "start_time": "2022-03-04T11:26:49.630Z"
   },
   {
    "duration": 4,
    "start_time": "2022-03-04T11:26:49.666Z"
   },
   {
    "duration": 70,
    "start_time": "2022-03-04T11:26:49.672Z"
   },
   {
    "duration": 8,
    "start_time": "2022-03-04T11:26:49.744Z"
   },
   {
    "duration": 3,
    "start_time": "2022-03-04T11:26:49.755Z"
   },
   {
    "duration": 87,
    "start_time": "2022-03-04T11:26:49.760Z"
   },
   {
    "duration": 257,
    "start_time": "2022-03-04T11:26:49.850Z"
   },
   {
    "duration": 92,
    "start_time": "2022-03-04T11:26:50.110Z"
   },
   {
    "duration": 10,
    "start_time": "2022-03-04T11:26:50.204Z"
   },
   {
    "duration": 11,
    "start_time": "2022-03-04T11:26:50.216Z"
   },
   {
    "duration": 30,
    "start_time": "2022-03-04T11:26:50.229Z"
   },
   {
    "duration": 5,
    "start_time": "2022-03-04T11:26:50.261Z"
   },
   {
    "duration": 8403,
    "start_time": "2022-03-04T11:26:50.268Z"
   },
   {
    "duration": 105,
    "start_time": "2022-03-04T11:31:18.766Z"
   },
   {
    "duration": 546,
    "start_time": "2022-03-04T11:31:45.246Z"
   },
   {
    "duration": 559,
    "start_time": "2022-03-04T11:31:57.892Z"
   },
   {
    "duration": 563,
    "start_time": "2022-03-04T11:32:02.780Z"
   },
   {
    "duration": 81,
    "start_time": "2022-03-04T11:32:26.433Z"
   },
   {
    "duration": 572,
    "start_time": "2022-03-04T11:32:31.105Z"
   },
   {
    "duration": 552,
    "start_time": "2022-03-04T11:33:10.896Z"
   },
   {
    "duration": 87,
    "start_time": "2022-03-04T11:33:28.607Z"
   },
   {
    "duration": 550,
    "start_time": "2022-03-04T11:33:40.351Z"
   },
   {
    "duration": 556,
    "start_time": "2022-03-04T11:34:13.126Z"
   },
   {
    "duration": 80,
    "start_time": "2022-03-04T11:47:03.052Z"
   },
   {
    "duration": 4,
    "start_time": "2022-03-04T11:47:36.548Z"
   },
   {
    "duration": 404,
    "start_time": "2022-03-04T11:58:09.852Z"
   },
   {
    "duration": 226,
    "start_time": "2022-03-04T11:59:28.413Z"
   },
   {
    "duration": 16,
    "start_time": "2022-03-04T11:59:35.106Z"
   },
   {
    "duration": 12,
    "start_time": "2022-03-04T12:00:29.015Z"
   },
   {
    "duration": 2596,
    "start_time": "2022-03-04T12:03:55.006Z"
   },
   {
    "duration": 1188,
    "start_time": "2022-03-04T12:06:37.251Z"
   },
   {
    "duration": 618,
    "start_time": "2022-03-04T12:06:38.441Z"
   },
   {
    "duration": 54,
    "start_time": "2022-03-04T12:06:39.062Z"
   },
   {
    "duration": 11,
    "start_time": "2022-03-04T12:06:39.118Z"
   },
   {
    "duration": 9,
    "start_time": "2022-03-04T12:06:39.131Z"
   },
   {
    "duration": 370,
    "start_time": "2022-03-04T12:06:39.143Z"
   },
   {
    "duration": 110,
    "start_time": "2022-03-04T12:06:39.405Z"
   },
   {
    "duration": 110,
    "start_time": "2022-03-04T12:06:39.406Z"
   },
   {
    "duration": 108,
    "start_time": "2022-03-04T12:06:39.409Z"
   },
   {
    "duration": 107,
    "start_time": "2022-03-04T12:06:39.411Z"
   },
   {
    "duration": 88,
    "start_time": "2022-03-04T12:06:39.431Z"
   },
   {
    "duration": 86,
    "start_time": "2022-03-04T12:06:39.433Z"
   },
   {
    "duration": 85,
    "start_time": "2022-03-04T12:06:39.437Z"
   },
   {
    "duration": 85,
    "start_time": "2022-03-04T12:06:39.438Z"
   },
   {
    "duration": 85,
    "start_time": "2022-03-04T12:06:39.439Z"
   },
   {
    "duration": 85,
    "start_time": "2022-03-04T12:06:39.440Z"
   },
   {
    "duration": 82,
    "start_time": "2022-03-04T12:06:39.443Z"
   },
   {
    "duration": 5,
    "start_time": "2022-03-04T12:07:24.495Z"
   },
   {
    "duration": 627,
    "start_time": "2022-03-04T12:07:24.502Z"
   },
   {
    "duration": 2,
    "start_time": "2022-03-04T12:07:25.131Z"
   },
   {
    "duration": 27,
    "start_time": "2022-03-04T12:07:25.135Z"
   },
   {
    "duration": 12,
    "start_time": "2022-03-04T12:07:25.163Z"
   },
   {
    "duration": 49,
    "start_time": "2022-03-04T12:07:25.177Z"
   },
   {
    "duration": 7,
    "start_time": "2022-03-04T12:07:25.228Z"
   },
   {
    "duration": 10,
    "start_time": "2022-03-04T12:07:25.237Z"
   },
   {
    "duration": 77,
    "start_time": "2022-03-04T12:07:25.250Z"
   },
   {
    "duration": 275,
    "start_time": "2022-03-04T12:07:25.330Z"
   },
   {
    "duration": 2102,
    "start_time": "2022-03-04T12:07:25.607Z"
   },
   {
    "duration": 101,
    "start_time": "2022-03-04T12:07:27.711Z"
   },
   {
    "duration": 9,
    "start_time": "2022-03-04T12:07:27.902Z"
   },
   {
    "duration": 6,
    "start_time": "2022-03-04T12:07:27.913Z"
   },
   {
    "duration": 24,
    "start_time": "2022-03-04T12:07:27.921Z"
   },
   {
    "duration": 3,
    "start_time": "2022-03-04T12:07:27.947Z"
   },
   {
    "duration": 8525,
    "start_time": "2022-03-04T12:07:27.952Z"
   },
   {
    "duration": 30,
    "start_time": "2022-03-04T12:12:57.438Z"
   },
   {
    "duration": 11,
    "start_time": "2022-03-04T12:13:00.495Z"
   },
   {
    "duration": 1174,
    "start_time": "2022-03-04T12:17:03.887Z"
   },
   {
    "duration": 607,
    "start_time": "2022-03-04T12:17:05.063Z"
   },
   {
    "duration": 60,
    "start_time": "2022-03-04T12:17:05.674Z"
   },
   {
    "duration": 25,
    "start_time": "2022-03-04T12:17:05.737Z"
   },
   {
    "duration": 26,
    "start_time": "2022-03-04T12:17:05.764Z"
   },
   {
    "duration": 66,
    "start_time": "2022-03-04T12:17:05.792Z"
   },
   {
    "duration": 7,
    "start_time": "2022-03-04T12:17:05.860Z"
   },
   {
    "duration": 45,
    "start_time": "2022-03-04T12:17:05.870Z"
   },
   {
    "duration": 99,
    "start_time": "2022-03-04T12:17:05.917Z"
   },
   {
    "duration": 206,
    "start_time": "2022-03-04T12:17:06.018Z"
   },
   {
    "duration": 428,
    "start_time": "2022-03-04T12:17:06.301Z"
   },
   {
    "duration": 74,
    "start_time": "2022-03-04T12:17:06.657Z"
   },
   {
    "duration": 73,
    "start_time": "2022-03-04T12:17:06.659Z"
   },
   {
    "duration": 69,
    "start_time": "2022-03-04T12:17:06.664Z"
   },
   {
    "duration": 69,
    "start_time": "2022-03-04T12:17:06.665Z"
   },
   {
    "duration": 56,
    "start_time": "2022-03-04T12:17:06.679Z"
   },
   {
    "duration": 56,
    "start_time": "2022-03-04T12:17:06.680Z"
   },
   {
    "duration": 14,
    "start_time": "2022-03-04T12:18:47.513Z"
   },
   {
    "duration": 2004,
    "start_time": "2022-03-04T12:19:27.822Z"
   },
   {
    "duration": 1087,
    "start_time": "2022-03-04T12:48:17.561Z"
   },
   {
    "duration": 560,
    "start_time": "2022-03-04T12:48:18.650Z"
   },
   {
    "duration": 32,
    "start_time": "2022-03-04T12:48:19.213Z"
   },
   {
    "duration": 14,
    "start_time": "2022-03-04T12:48:19.247Z"
   },
   {
    "duration": 5,
    "start_time": "2022-03-04T12:48:19.263Z"
   },
   {
    "duration": 72,
    "start_time": "2022-03-04T12:48:19.270Z"
   },
   {
    "duration": 7,
    "start_time": "2022-03-04T12:48:19.344Z"
   },
   {
    "duration": 7,
    "start_time": "2022-03-04T12:48:19.353Z"
   },
   {
    "duration": 77,
    "start_time": "2022-03-04T12:48:19.363Z"
   },
   {
    "duration": 164,
    "start_time": "2022-03-04T12:48:19.442Z"
   },
   {
    "duration": 2193,
    "start_time": "2022-03-04T12:48:19.609Z"
   },
   {
    "duration": 93,
    "start_time": "2022-03-04T12:48:21.810Z"
   },
   {
    "duration": 11,
    "start_time": "2022-03-04T12:48:21.905Z"
   },
   {
    "duration": 18,
    "start_time": "2022-03-04T12:48:21.918Z"
   },
   {
    "duration": 43,
    "start_time": "2022-03-04T12:48:21.938Z"
   },
   {
    "duration": 3,
    "start_time": "2022-03-04T12:48:21.983Z"
   },
   {
    "duration": 8320,
    "start_time": "2022-03-04T12:48:21.988Z"
   },
   {
    "duration": 2227,
    "start_time": "2022-03-04T12:49:38.880Z"
   },
   {
    "duration": 1339,
    "start_time": "2022-03-04T16:00:19.761Z"
   },
   {
    "duration": 664,
    "start_time": "2022-03-04T16:00:21.103Z"
   },
   {
    "duration": 42,
    "start_time": "2022-03-04T16:00:40.224Z"
   },
   {
    "duration": 19,
    "start_time": "2022-03-04T16:00:50.300Z"
   },
   {
    "duration": 4,
    "start_time": "2022-03-04T16:02:23.172Z"
   },
   {
    "duration": 48,
    "start_time": "2022-03-04T16:02:24.417Z"
   },
   {
    "duration": 8,
    "start_time": "2022-03-04T16:02:25.136Z"
   },
   {
    "duration": 3,
    "start_time": "2022-03-04T16:02:29.419Z"
   },
   {
    "duration": 73,
    "start_time": "2022-03-04T16:02:30.096Z"
   },
   {
    "duration": 255,
    "start_time": "2022-03-04T16:02:38.534Z"
   },
   {
    "duration": 2148,
    "start_time": "2022-03-04T16:02:55.641Z"
   },
   {
    "duration": 5,
    "start_time": "2022-03-04T16:42:43.469Z"
   },
   {
    "duration": 573,
    "start_time": "2022-03-04T16:42:44.402Z"
   },
   {
    "duration": 4,
    "start_time": "2022-03-04T16:42:50.860Z"
   },
   {
    "duration": 671,
    "start_time": "2022-03-04T16:42:50.867Z"
   },
   {
    "duration": 55,
    "start_time": "2022-03-04T16:42:51.541Z"
   },
   {
    "duration": 4,
    "start_time": "2022-03-04T16:42:51.599Z"
   },
   {
    "duration": 48,
    "start_time": "2022-03-04T16:42:51.605Z"
   },
   {
    "duration": 32,
    "start_time": "2022-03-04T16:42:51.655Z"
   },
   {
    "duration": 204,
    "start_time": "2022-03-04T16:42:51.690Z"
   },
   {
    "duration": 2710,
    "start_time": "2022-03-04T16:42:51.986Z"
   },
   {
    "duration": 92,
    "start_time": "2022-03-04T16:42:54.700Z"
   },
   {
    "duration": 94,
    "start_time": "2022-03-04T16:42:54.796Z"
   },
   {
    "duration": 10,
    "start_time": "2022-03-04T16:42:54.892Z"
   },
   {
    "duration": 37,
    "start_time": "2022-03-04T16:42:54.904Z"
   },
   {
    "duration": 4,
    "start_time": "2022-03-04T16:42:54.943Z"
   },
   {
    "duration": 13038,
    "start_time": "2022-03-04T16:42:54.949Z"
   },
   {
    "duration": 23,
    "start_time": "2022-03-04T16:43:28.723Z"
   },
   {
    "duration": 12886,
    "start_time": "2022-03-04T16:51:22.312Z"
   },
   {
    "duration": 12990,
    "start_time": "2022-03-04T16:55:27.525Z"
   },
   {
    "duration": 13767,
    "start_time": "2022-03-04T16:56:12.826Z"
   },
   {
    "duration": 25,
    "start_time": "2022-03-04T16:56:37.119Z"
   },
   {
    "duration": 1454,
    "start_time": "2022-03-04T17:16:13.826Z"
   },
   {
    "duration": 841,
    "start_time": "2022-03-04T17:16:15.283Z"
   },
   {
    "duration": 41,
    "start_time": "2022-03-04T17:16:16.127Z"
   },
   {
    "duration": 7,
    "start_time": "2022-03-04T17:16:16.189Z"
   },
   {
    "duration": 63,
    "start_time": "2022-03-04T17:16:16.200Z"
   },
   {
    "duration": 27,
    "start_time": "2022-03-04T17:16:16.266Z"
   },
   {
    "duration": 193,
    "start_time": "2022-03-04T17:16:16.296Z"
   },
   {
    "duration": 1715,
    "start_time": "2022-03-04T17:16:16.494Z"
   },
   {
    "duration": 20,
    "start_time": "2022-03-04T17:16:18.291Z"
   },
   {
    "duration": 97,
    "start_time": "2022-03-04T17:16:18.319Z"
   },
   {
    "duration": 5,
    "start_time": "2022-03-04T17:16:18.419Z"
   },
   {
    "duration": 34,
    "start_time": "2022-03-04T17:16:18.427Z"
   },
   {
    "duration": 4,
    "start_time": "2022-03-04T17:16:18.463Z"
   },
   {
    "duration": 14691,
    "start_time": "2022-03-04T17:16:18.470Z"
   },
   {
    "duration": 1309,
    "start_time": "2022-03-04T17:23:16.301Z"
   },
   {
    "duration": 725,
    "start_time": "2022-03-04T17:23:17.612Z"
   },
   {
    "duration": 61,
    "start_time": "2022-03-04T17:23:18.340Z"
   },
   {
    "duration": 5,
    "start_time": "2022-03-04T17:23:18.406Z"
   },
   {
    "duration": 79,
    "start_time": "2022-03-04T17:23:18.413Z"
   },
   {
    "duration": 10,
    "start_time": "2022-03-04T17:23:18.495Z"
   },
   {
    "duration": 185,
    "start_time": "2022-03-04T17:23:18.508Z"
   },
   {
    "duration": 1994,
    "start_time": "2022-03-04T17:23:18.699Z"
   },
   {
    "duration": 8,
    "start_time": "2022-03-04T17:23:20.697Z"
   },
   {
    "duration": 16,
    "start_time": "2022-03-04T17:23:20.788Z"
   },
   {
    "duration": 95,
    "start_time": "2022-03-04T17:23:20.806Z"
   },
   {
    "duration": 36,
    "start_time": "2022-03-04T17:23:20.904Z"
   },
   {
    "duration": 6,
    "start_time": "2022-03-04T17:23:20.943Z"
   },
   {
    "duration": 13613,
    "start_time": "2022-03-04T17:23:20.952Z"
   },
   {
    "duration": 6,
    "start_time": "2022-03-04T17:24:07.706Z"
   },
   {
    "duration": 6,
    "start_time": "2022-03-04T17:24:17.274Z"
   },
   {
    "duration": 1340,
    "start_time": "2022-03-04T17:24:41.868Z"
   },
   {
    "duration": 719,
    "start_time": "2022-03-04T17:24:43.211Z"
   },
   {
    "duration": 59,
    "start_time": "2022-03-04T17:24:43.933Z"
   },
   {
    "duration": 5,
    "start_time": "2022-03-04T17:24:43.996Z"
   },
   {
    "duration": 53,
    "start_time": "2022-03-04T17:24:44.004Z"
   },
   {
    "duration": 27,
    "start_time": "2022-03-04T17:24:44.060Z"
   },
   {
    "duration": 205,
    "start_time": "2022-03-04T17:24:44.090Z"
   },
   {
    "duration": 1805,
    "start_time": "2022-03-04T17:24:44.300Z"
   },
   {
    "duration": 93,
    "start_time": "2022-03-04T17:24:46.110Z"
   },
   {
    "duration": 101,
    "start_time": "2022-03-04T17:24:46.206Z"
   },
   {
    "duration": 11,
    "start_time": "2022-03-04T17:24:46.309Z"
   },
   {
    "duration": 38,
    "start_time": "2022-03-04T17:24:46.322Z"
   },
   {
    "duration": 4,
    "start_time": "2022-03-04T17:24:46.362Z"
   },
   {
    "duration": 13639,
    "start_time": "2022-03-04T17:24:46.369Z"
   },
   {
    "duration": 1813,
    "start_time": "2022-03-04T17:27:35.877Z"
   },
   {
    "duration": 732,
    "start_time": "2022-03-04T17:27:37.694Z"
   },
   {
    "duration": 63,
    "start_time": "2022-03-04T17:27:38.429Z"
   },
   {
    "duration": 5,
    "start_time": "2022-03-04T17:27:38.496Z"
   },
   {
    "duration": 62,
    "start_time": "2022-03-04T17:27:38.504Z"
   },
   {
    "duration": 21,
    "start_time": "2022-03-04T17:27:38.569Z"
   },
   {
    "duration": 313,
    "start_time": "2022-03-04T17:27:38.593Z"
   },
   {
    "duration": 2178,
    "start_time": "2022-03-04T17:27:38.913Z"
   },
   {
    "duration": 86,
    "start_time": "2022-03-04T17:27:41.100Z"
   },
   {
    "duration": 9,
    "start_time": "2022-03-04T17:27:41.192Z"
   },
   {
    "duration": 10,
    "start_time": "2022-03-04T17:27:41.205Z"
   },
   {
    "duration": 32,
    "start_time": "2022-03-04T17:27:41.218Z"
   },
   {
    "duration": 3,
    "start_time": "2022-03-04T17:27:41.252Z"
   },
   {
    "duration": 13519,
    "start_time": "2022-03-04T17:27:41.257Z"
   },
   {
    "duration": 1370,
    "start_time": "2022-03-05T06:47:10.724Z"
   },
   {
    "duration": 652,
    "start_time": "2022-03-05T06:47:12.097Z"
   },
   {
    "duration": 56,
    "start_time": "2022-03-05T06:47:12.752Z"
   },
   {
    "duration": 4,
    "start_time": "2022-03-05T06:47:12.811Z"
   },
   {
    "duration": 80,
    "start_time": "2022-03-05T06:47:12.817Z"
   },
   {
    "duration": 8,
    "start_time": "2022-03-05T06:47:12.899Z"
   },
   {
    "duration": 184,
    "start_time": "2022-03-05T06:47:12.909Z"
   },
   {
    "duration": 2700,
    "start_time": "2022-03-05T06:47:13.097Z"
   },
   {
    "duration": 90,
    "start_time": "2022-03-05T06:47:15.800Z"
   },
   {
    "duration": 106,
    "start_time": "2022-03-05T06:47:15.893Z"
   },
   {
    "duration": 6,
    "start_time": "2022-03-05T06:47:16.001Z"
   },
   {
    "duration": 4,
    "start_time": "2022-03-05T06:47:19.981Z"
   },
   {
    "duration": 383,
    "start_time": "2022-03-05T06:47:21.296Z"
   },
   {
    "duration": 5,
    "start_time": "2022-03-05T06:55:59.877Z"
   },
   {
    "duration": 5,
    "start_time": "2022-03-05T06:57:29.735Z"
   },
   {
    "duration": 4,
    "start_time": "2022-03-05T06:58:02.766Z"
   },
   {
    "duration": 520,
    "start_time": "2022-03-05T06:58:30.950Z"
   },
   {
    "duration": 5,
    "start_time": "2022-03-05T07:03:05.232Z"
   },
   {
    "duration": 26,
    "start_time": "2022-03-05T07:03:08.097Z"
   },
   {
    "duration": 6,
    "start_time": "2022-03-05T07:12:57.739Z"
   },
   {
    "duration": 26,
    "start_time": "2022-03-05T07:13:00.478Z"
   },
   {
    "duration": 5,
    "start_time": "2022-03-05T07:13:36.471Z"
   },
   {
    "duration": 28,
    "start_time": "2022-03-05T07:13:39.422Z"
   },
   {
    "duration": 5,
    "start_time": "2022-03-05T07:17:24.321Z"
   },
   {
    "duration": 28,
    "start_time": "2022-03-05T07:17:26.248Z"
   },
   {
    "duration": 4,
    "start_time": "2022-03-05T07:48:16.031Z"
   },
   {
    "duration": 24,
    "start_time": "2022-03-05T07:48:17.854Z"
   },
   {
    "duration": 7,
    "start_time": "2022-03-05T07:48:25.349Z"
   },
   {
    "duration": 29,
    "start_time": "2022-03-05T07:48:27.006Z"
   },
   {
    "duration": 1319,
    "start_time": "2022-03-05T08:00:13.773Z"
   },
   {
    "duration": 670,
    "start_time": "2022-03-05T08:00:15.095Z"
   },
   {
    "duration": 59,
    "start_time": "2022-03-05T08:00:15.768Z"
   },
   {
    "duration": 4,
    "start_time": "2022-03-05T08:00:15.829Z"
   },
   {
    "duration": 81,
    "start_time": "2022-03-05T08:00:15.836Z"
   },
   {
    "duration": 8,
    "start_time": "2022-03-05T08:00:15.919Z"
   },
   {
    "duration": 263,
    "start_time": "2022-03-05T08:00:15.930Z"
   },
   {
    "duration": 2600,
    "start_time": "2022-03-05T08:00:16.198Z"
   },
   {
    "duration": 94,
    "start_time": "2022-03-05T08:00:18.801Z"
   },
   {
    "duration": 8,
    "start_time": "2022-03-05T08:00:18.989Z"
   },
   {
    "duration": 6,
    "start_time": "2022-03-05T08:00:19.000Z"
   },
   {
    "duration": 373,
    "start_time": "2022-03-05T08:00:19.009Z"
   },
   {
    "duration": 30,
    "start_time": "2022-03-05T08:00:19.356Z"
   },
   {
    "duration": 30,
    "start_time": "2022-03-05T08:00:19.357Z"
   },
   {
    "duration": 32,
    "start_time": "2022-03-05T08:01:20.845Z"
   },
   {
    "duration": 4,
    "start_time": "2022-03-05T08:01:27.001Z"
   },
   {
    "duration": 19236,
    "start_time": "2022-03-05T08:01:29.041Z"
   },
   {
    "duration": 1516,
    "start_time": "2022-03-05T08:04:52.199Z"
   },
   {
    "duration": 646,
    "start_time": "2022-03-05T08:04:53.718Z"
   },
   {
    "duration": 62,
    "start_time": "2022-03-05T08:04:54.367Z"
   },
   {
    "duration": 4,
    "start_time": "2022-03-05T08:04:54.432Z"
   },
   {
    "duration": 72,
    "start_time": "2022-03-05T08:04:54.438Z"
   },
   {
    "duration": 6,
    "start_time": "2022-03-05T08:04:54.513Z"
   },
   {
    "duration": 267,
    "start_time": "2022-03-05T08:04:54.521Z"
   },
   {
    "duration": 2600,
    "start_time": "2022-03-05T08:04:54.793Z"
   },
   {
    "duration": 92,
    "start_time": "2022-03-05T08:04:57.397Z"
   },
   {
    "duration": 10,
    "start_time": "2022-03-05T08:04:57.492Z"
   },
   {
    "duration": 90,
    "start_time": "2022-03-05T08:04:57.504Z"
   },
   {
    "duration": 36,
    "start_time": "2022-03-05T08:04:57.597Z"
   },
   {
    "duration": 4,
    "start_time": "2022-03-05T08:04:57.636Z"
   },
   {
    "duration": 19419,
    "start_time": "2022-03-05T08:04:57.642Z"
   },
   {
    "duration": 4,
    "start_time": "2022-03-05T08:23:58.682Z"
   },
   {
    "duration": 33,
    "start_time": "2022-03-05T08:24:03.739Z"
   },
   {
    "duration": 4,
    "start_time": "2022-03-05T08:24:14.875Z"
   },
   {
    "duration": 17284,
    "start_time": "2022-03-05T08:24:17.349Z"
   },
   {
    "duration": 4,
    "start_time": "2022-03-05T08:24:34.636Z"
   },
   {
    "duration": 1329,
    "start_time": "2022-03-05T08:24:43.046Z"
   },
   {
    "duration": 675,
    "start_time": "2022-03-05T08:24:44.377Z"
   },
   {
    "duration": 58,
    "start_time": "2022-03-05T08:24:45.056Z"
   },
   {
    "duration": 4,
    "start_time": "2022-03-05T08:24:45.116Z"
   },
   {
    "duration": 78,
    "start_time": "2022-03-05T08:24:45.122Z"
   },
   {
    "duration": 8,
    "start_time": "2022-03-05T08:24:45.202Z"
   },
   {
    "duration": 282,
    "start_time": "2022-03-05T08:24:45.212Z"
   },
   {
    "duration": 2794,
    "start_time": "2022-03-05T08:24:45.499Z"
   },
   {
    "duration": 93,
    "start_time": "2022-03-05T08:24:48.296Z"
   },
   {
    "duration": 7,
    "start_time": "2022-03-05T08:24:48.392Z"
   },
   {
    "duration": 5,
    "start_time": "2022-03-05T08:24:48.401Z"
   },
   {
    "duration": 98,
    "start_time": "2022-03-05T08:24:48.408Z"
   },
   {
    "duration": 4,
    "start_time": "2022-03-05T08:24:48.508Z"
   },
   {
    "duration": 15321,
    "start_time": "2022-03-05T08:24:48.514Z"
   },
   {
    "duration": 77,
    "start_time": "2022-03-05T08:26:30.659Z"
   },
   {
    "duration": 15357,
    "start_time": "2022-03-05T08:26:46.370Z"
   },
   {
    "duration": 15490,
    "start_time": "2022-03-05T08:27:31.202Z"
   },
   {
    "duration": 15193,
    "start_time": "2022-03-05T08:28:04.116Z"
   },
   {
    "duration": 1334,
    "start_time": "2022-03-05T08:28:42.065Z"
   },
   {
    "duration": 668,
    "start_time": "2022-03-05T08:28:43.401Z"
   },
   {
    "duration": 41,
    "start_time": "2022-03-05T08:28:44.087Z"
   },
   {
    "duration": 5,
    "start_time": "2022-03-05T08:28:44.130Z"
   },
   {
    "duration": 77,
    "start_time": "2022-03-05T08:28:44.137Z"
   },
   {
    "duration": 7,
    "start_time": "2022-03-05T08:28:44.216Z"
   },
   {
    "duration": 169,
    "start_time": "2022-03-05T08:28:44.226Z"
   },
   {
    "duration": 2710,
    "start_time": "2022-03-05T08:28:44.488Z"
   },
   {
    "duration": 89,
    "start_time": "2022-03-05T08:28:47.202Z"
   },
   {
    "duration": 95,
    "start_time": "2022-03-05T08:28:47.295Z"
   },
   {
    "duration": 13,
    "start_time": "2022-03-05T08:28:47.392Z"
   },
   {
    "duration": 42,
    "start_time": "2022-03-05T08:28:47.408Z"
   },
   {
    "duration": 3,
    "start_time": "2022-03-05T08:28:47.453Z"
   },
   {
    "duration": 15478,
    "start_time": "2022-03-05T08:28:47.458Z"
   },
   {
    "duration": 15752,
    "start_time": "2022-03-05T08:44:26.199Z"
   },
   {
    "duration": 1288,
    "start_time": "2022-03-05T08:48:03.304Z"
   },
   {
    "duration": 648,
    "start_time": "2022-03-05T08:48:04.594Z"
   },
   {
    "duration": 55,
    "start_time": "2022-03-05T08:48:05.245Z"
   },
   {
    "duration": 4,
    "start_time": "2022-03-05T08:48:05.302Z"
   },
   {
    "duration": 50,
    "start_time": "2022-03-05T08:48:05.308Z"
   },
   {
    "duration": 28,
    "start_time": "2022-03-05T08:48:05.360Z"
   },
   {
    "duration": 302,
    "start_time": "2022-03-05T08:48:05.391Z"
   },
   {
    "duration": 2814,
    "start_time": "2022-03-05T08:48:05.787Z"
   },
   {
    "duration": 95,
    "start_time": "2022-03-05T08:48:08.694Z"
   },
   {
    "duration": 11,
    "start_time": "2022-03-05T08:48:08.791Z"
   },
   {
    "duration": 5,
    "start_time": "2022-03-05T08:48:08.804Z"
   },
   {
    "duration": 39,
    "start_time": "2022-03-05T08:48:08.811Z"
   },
   {
    "duration": 4,
    "start_time": "2022-03-05T08:48:08.852Z"
   },
   {
    "duration": 17952,
    "start_time": "2022-03-05T08:48:08.859Z"
   },
   {
    "duration": 5,
    "start_time": "2022-03-05T08:48:53.684Z"
   },
   {
    "duration": 31,
    "start_time": "2022-03-05T08:48:55.739Z"
   },
   {
    "duration": 15919,
    "start_time": "2022-03-05T08:48:58.085Z"
   },
   {
    "duration": 222,
    "start_time": "2022-03-05T09:06:29.028Z"
   },
   {
    "duration": 1258,
    "start_time": "2022-03-05T09:30:01.533Z"
   },
   {
    "duration": 661,
    "start_time": "2022-03-05T09:30:02.794Z"
   },
   {
    "duration": 58,
    "start_time": "2022-03-05T09:30:03.459Z"
   },
   {
    "duration": 4,
    "start_time": "2022-03-05T09:30:03.520Z"
   },
   {
    "duration": 74,
    "start_time": "2022-03-05T09:30:03.526Z"
   },
   {
    "duration": 8,
    "start_time": "2022-03-05T09:30:03.603Z"
   },
   {
    "duration": 280,
    "start_time": "2022-03-05T09:30:03.614Z"
   },
   {
    "duration": 2708,
    "start_time": "2022-03-05T09:30:03.988Z"
   },
   {
    "duration": 188,
    "start_time": "2022-03-05T09:30:06.699Z"
   },
   {
    "duration": 8,
    "start_time": "2022-03-05T09:30:06.890Z"
   },
   {
    "duration": 6,
    "start_time": "2022-03-05T09:30:06.900Z"
   },
   {
    "duration": 37,
    "start_time": "2022-03-05T09:30:06.908Z"
   },
   {
    "duration": 4,
    "start_time": "2022-03-05T09:30:06.947Z"
   },
   {
    "duration": 16072,
    "start_time": "2022-03-05T09:30:06.953Z"
   },
   {
    "duration": 4,
    "start_time": "2022-03-05T09:38:16.107Z"
   },
   {
    "duration": 6,
    "start_time": "2022-03-05T09:38:25.071Z"
   },
   {
    "duration": 8,
    "start_time": "2022-03-05T09:40:23.625Z"
   },
   {
    "duration": 9,
    "start_time": "2022-03-05T09:40:46.067Z"
   },
   {
    "duration": 9,
    "start_time": "2022-03-05T09:43:27.643Z"
   },
   {
    "duration": 9,
    "start_time": "2022-03-05T09:43:41.046Z"
   },
   {
    "duration": 9,
    "start_time": "2022-03-05T09:43:44.414Z"
   },
   {
    "duration": 11,
    "start_time": "2022-03-05T09:44:37.015Z"
   },
   {
    "duration": 9,
    "start_time": "2022-03-05T09:45:41.235Z"
   },
   {
    "duration": 384,
    "start_time": "2022-03-05T09:46:51.813Z"
   },
   {
    "duration": 10,
    "start_time": "2022-03-05T09:47:22.650Z"
   },
   {
    "duration": 11,
    "start_time": "2022-03-05T09:47:25.589Z"
   },
   {
    "duration": 10,
    "start_time": "2022-03-05T09:48:38.040Z"
   },
   {
    "duration": 13,
    "start_time": "2022-03-05T09:50:39.129Z"
   },
   {
    "duration": 12,
    "start_time": "2022-03-05T09:51:10.934Z"
   },
   {
    "duration": 13,
    "start_time": "2022-03-05T09:51:43.763Z"
   },
   {
    "duration": 13,
    "start_time": "2022-03-05T09:55:48.650Z"
   },
   {
    "duration": 14,
    "start_time": "2022-03-05T09:57:12.375Z"
   },
   {
    "duration": 16,
    "start_time": "2022-03-05T09:58:25.716Z"
   },
   {
    "duration": 15,
    "start_time": "2022-03-05T09:58:47.425Z"
   },
   {
    "duration": 14,
    "start_time": "2022-03-05T09:59:01.140Z"
   },
   {
    "duration": 15,
    "start_time": "2022-03-05T10:00:06.989Z"
   },
   {
    "duration": 1279,
    "start_time": "2022-03-05T10:02:07.921Z"
   },
   {
    "duration": 684,
    "start_time": "2022-03-05T10:02:09.203Z"
   },
   {
    "duration": 42,
    "start_time": "2022-03-05T10:02:09.890Z"
   },
   {
    "duration": 4,
    "start_time": "2022-03-05T10:02:09.935Z"
   },
   {
    "duration": 84,
    "start_time": "2022-03-05T10:02:09.941Z"
   },
   {
    "duration": 8,
    "start_time": "2022-03-05T10:02:10.027Z"
   },
   {
    "duration": 256,
    "start_time": "2022-03-05T10:02:10.037Z"
   },
   {
    "duration": 2904,
    "start_time": "2022-03-05T10:02:10.297Z"
   },
   {
    "duration": 182,
    "start_time": "2022-03-05T10:02:13.205Z"
   },
   {
    "duration": 6,
    "start_time": "2022-03-05T10:02:13.390Z"
   },
   {
    "duration": 5,
    "start_time": "2022-03-05T10:02:13.399Z"
   },
   {
    "duration": 427,
    "start_time": "2022-03-05T10:02:13.406Z"
   },
   {
    "duration": 1621,
    "start_time": "2022-03-05T10:02:12.215Z"
   },
   {
    "duration": 1615,
    "start_time": "2022-03-05T10:02:12.223Z"
   },
   {
    "duration": 1608,
    "start_time": "2022-03-05T10:02:12.231Z"
   },
   {
    "duration": 1278,
    "start_time": "2022-03-05T10:02:27.417Z"
   },
   {
    "duration": 692,
    "start_time": "2022-03-05T10:02:28.697Z"
   },
   {
    "duration": 40,
    "start_time": "2022-03-05T10:02:29.392Z"
   },
   {
    "duration": 4,
    "start_time": "2022-03-05T10:02:29.434Z"
   },
   {
    "duration": 83,
    "start_time": "2022-03-05T10:02:29.441Z"
   },
   {
    "duration": 8,
    "start_time": "2022-03-05T10:02:29.527Z"
   },
   {
    "duration": 169,
    "start_time": "2022-03-05T10:02:29.537Z"
   },
   {
    "duration": 2900,
    "start_time": "2022-03-05T10:02:29.789Z"
   },
   {
    "duration": 95,
    "start_time": "2022-03-05T10:02:32.693Z"
   },
   {
    "duration": 19,
    "start_time": "2022-03-05T10:02:32.791Z"
   },
   {
    "duration": 20,
    "start_time": "2022-03-05T10:02:32.812Z"
   },
   {
    "duration": 21,
    "start_time": "2022-03-05T10:02:32.834Z"
   },
   {
    "duration": 45,
    "start_time": "2022-03-05T10:02:32.857Z"
   },
   {
    "duration": 3,
    "start_time": "2022-03-05T10:02:32.904Z"
   },
   {
    "duration": 16178,
    "start_time": "2022-03-05T10:02:32.909Z"
   },
   {
    "duration": 23,
    "start_time": "2022-03-05T10:06:05.573Z"
   },
   {
    "duration": 19,
    "start_time": "2022-03-05T10:06:24.280Z"
   },
   {
    "duration": 23,
    "start_time": "2022-03-05T10:06:29.937Z"
   },
   {
    "duration": 25,
    "start_time": "2022-03-05T10:06:34.735Z"
   },
   {
    "duration": 29,
    "start_time": "2022-03-05T10:06:38.637Z"
   },
   {
    "duration": 18,
    "start_time": "2022-03-05T10:06:41.920Z"
   },
   {
    "duration": 22,
    "start_time": "2022-03-05T10:06:53.961Z"
   },
   {
    "duration": 431,
    "start_time": "2022-03-05T10:07:00.902Z"
   },
   {
    "duration": 243,
    "start_time": "2022-03-05T10:07:19.447Z"
   },
   {
    "duration": 16,
    "start_time": "2022-03-05T10:07:25.356Z"
   },
   {
    "duration": 19,
    "start_time": "2022-03-05T10:09:06.018Z"
   },
   {
    "duration": 20,
    "start_time": "2022-03-05T10:11:56.193Z"
   },
   {
    "duration": 20,
    "start_time": "2022-03-05T10:12:20.148Z"
   },
   {
    "duration": 20,
    "start_time": "2022-03-05T10:12:50.784Z"
   },
   {
    "duration": 1101,
    "start_time": "2022-03-05T21:36:32.950Z"
   },
   {
    "duration": 585,
    "start_time": "2022-03-05T21:36:34.053Z"
   },
   {
    "duration": 31,
    "start_time": "2022-03-05T21:36:34.640Z"
   },
   {
    "duration": 28,
    "start_time": "2022-03-05T21:36:34.673Z"
   },
   {
    "duration": 41,
    "start_time": "2022-03-05T21:36:34.703Z"
   },
   {
    "duration": 8,
    "start_time": "2022-03-05T21:36:34.745Z"
   },
   {
    "duration": 152,
    "start_time": "2022-03-05T21:36:34.755Z"
   },
   {
    "duration": 2592,
    "start_time": "2022-03-05T21:36:34.910Z"
   },
   {
    "duration": 95,
    "start_time": "2022-03-05T21:36:37.505Z"
   },
   {
    "duration": 9,
    "start_time": "2022-03-05T21:36:37.603Z"
   },
   {
    "duration": 5,
    "start_time": "2022-03-05T21:36:37.614Z"
   },
   {
    "duration": 29,
    "start_time": "2022-03-05T21:36:37.621Z"
   },
   {
    "duration": 3,
    "start_time": "2022-03-05T21:36:37.652Z"
   },
   {
    "duration": 10072,
    "start_time": "2022-03-05T21:36:37.656Z"
   },
   {
    "duration": 1245,
    "start_time": "2022-04-17T18:59:16.805Z"
   },
   {
    "duration": 457,
    "start_time": "2022-04-17T18:59:18.052Z"
   },
   {
    "duration": 41,
    "start_time": "2022-04-17T18:59:18.511Z"
   },
   {
    "duration": 3,
    "start_time": "2022-04-17T18:59:18.554Z"
   },
   {
    "duration": 34,
    "start_time": "2022-04-17T18:59:18.558Z"
   },
   {
    "duration": 36,
    "start_time": "2022-04-17T18:59:18.594Z"
   },
   {
    "duration": 104,
    "start_time": "2022-04-17T18:59:18.633Z"
   },
   {
    "duration": 2002,
    "start_time": "2022-04-17T18:59:18.738Z"
   },
   {
    "duration": 4,
    "start_time": "2022-04-17T18:59:20.742Z"
   },
   {
    "duration": 118,
    "start_time": "2022-04-17T18:59:20.827Z"
   },
   {
    "duration": 5,
    "start_time": "2022-04-17T18:59:20.947Z"
   },
   {
    "duration": 23,
    "start_time": "2022-04-17T18:59:20.954Z"
   },
   {
    "duration": 3,
    "start_time": "2022-04-17T18:59:20.979Z"
   },
   {
    "duration": 3865,
    "start_time": "2022-04-17T18:59:20.984Z"
   }
  ],
  "kernelspec": {
   "display_name": "Python 3 (ipykernel)",
   "language": "python",
   "name": "python3"
  },
  "language_info": {
   "codemirror_mode": {
    "name": "ipython",
    "version": 3
   },
   "file_extension": ".py",
   "mimetype": "text/x-python",
   "name": "python",
   "nbconvert_exporter": "python",
   "pygments_lexer": "ipython3",
   "version": "3.9.5"
  },
  "toc": {
   "base_numbering": 1,
   "nav_menu": {},
   "number_sections": true,
   "sideBar": true,
   "skip_h1_title": true,
   "title_cell": "Table of Contents",
   "title_sidebar": "Contents",
   "toc_cell": false,
   "toc_position": {},
   "toc_section_display": true,
   "toc_window_display": true
  }
 },
 "nbformat": 4,
 "nbformat_minor": 2
}
