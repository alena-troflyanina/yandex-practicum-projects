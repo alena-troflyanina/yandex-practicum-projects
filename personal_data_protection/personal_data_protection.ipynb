{
 "cells": [
  {
   "cell_type": "markdown",
   "metadata": {
    "toc": true
   },
   "source": [
    "<h1>Содержание<span class=\"tocSkip\"></span></h1>\n",
    "<div class=\"toc\"><ul class=\"toc-item\"><li><span><a href=\"#Загрузка-данных\" data-toc-modified-id=\"Загрузка-данных-1\"><span class=\"toc-item-num\">1&nbsp;&nbsp;</span>Загрузка данных</a></span></li><li><span><a href=\"#Умножение-матриц\" data-toc-modified-id=\"Умножение-матриц-2\"><span class=\"toc-item-num\">2&nbsp;&nbsp;</span>Умножение матриц</a></span></li><li><span><a href=\"#Алгоритм-преобразования\" data-toc-modified-id=\"Алгоритм-преобразования-3\"><span class=\"toc-item-num\">3&nbsp;&nbsp;</span>Алгоритм преобразования</a></span></li><li><span><a href=\"#Проверка-алгоритма\" data-toc-modified-id=\"Проверка-алгоритма-4\"><span class=\"toc-item-num\">4&nbsp;&nbsp;</span>Проверка алгоритма</a></span></li></ul></div>"
   ]
  },
  {
   "cell_type": "markdown",
   "metadata": {},
   "source": [
    "# Защита персональных данных клиентов"
   ]
  },
  {
   "cell_type": "markdown",
   "metadata": {},
   "source": [
    "Нужно защитить данные клиентов страховой компании. Необходимо разработать такой метод преобразования данных, чтобы по ним было сложно восстановить персональную информацию. А также требуется обосновать корректность его работы.\n",
    "\n",
    "Необходимо защитить данные, чтобы при преобразовании качество моделей машинного обучения не ухудшилось. Подбирать наилучшую модель не требуется."
   ]
  },
  {
   "cell_type": "markdown",
   "metadata": {},
   "source": [
    "## Загрузка данных"
   ]
  },
  {
   "cell_type": "code",
   "execution_count": 1,
   "metadata": {},
   "outputs": [],
   "source": [
    "import numpy as np\n",
    "import pandas as pd\n",
    "import scipy as sc\n",
    "import seaborn as sns\n",
    "import matplotlib.pyplot as plt\n",
    "from numpy.linalg import inv\n",
    "\n",
    "from sklearn.metrics import r2_score"
   ]
  },
  {
   "cell_type": "code",
   "execution_count": 2,
   "metadata": {},
   "outputs": [],
   "source": [
    "insurance = pd.read_csv('/datasets/insurance.csv')"
   ]
  },
  {
   "cell_type": "code",
   "execution_count": 3,
   "metadata": {},
   "outputs": [],
   "source": [
    "# получение общей информации о данных\n",
    "def get_info(df):\n",
    "    display(df.shape)\n",
    "    display(df.head())\n",
    "    display(df.info())\n",
    "    display(df.describe())\n",
    "    display(df.isna().sum())"
   ]
  },
  {
   "cell_type": "code",
   "execution_count": 4,
   "metadata": {},
   "outputs": [
    {
     "data": {
      "text/plain": [
       "(5000, 5)"
      ]
     },
     "metadata": {},
     "output_type": "display_data"
    },
    {
     "data": {
      "text/html": [
       "<div>\n",
       "<style scoped>\n",
       "    .dataframe tbody tr th:only-of-type {\n",
       "        vertical-align: middle;\n",
       "    }\n",
       "\n",
       "    .dataframe tbody tr th {\n",
       "        vertical-align: top;\n",
       "    }\n",
       "\n",
       "    .dataframe thead th {\n",
       "        text-align: right;\n",
       "    }\n",
       "</style>\n",
       "<table border=\"1\" class=\"dataframe\">\n",
       "  <thead>\n",
       "    <tr style=\"text-align: right;\">\n",
       "      <th></th>\n",
       "      <th>Пол</th>\n",
       "      <th>Возраст</th>\n",
       "      <th>Зарплата</th>\n",
       "      <th>Члены семьи</th>\n",
       "      <th>Страховые выплаты</th>\n",
       "    </tr>\n",
       "  </thead>\n",
       "  <tbody>\n",
       "    <tr>\n",
       "      <th>0</th>\n",
       "      <td>1</td>\n",
       "      <td>41.0</td>\n",
       "      <td>49600.0</td>\n",
       "      <td>1</td>\n",
       "      <td>0</td>\n",
       "    </tr>\n",
       "    <tr>\n",
       "      <th>1</th>\n",
       "      <td>0</td>\n",
       "      <td>46.0</td>\n",
       "      <td>38000.0</td>\n",
       "      <td>1</td>\n",
       "      <td>1</td>\n",
       "    </tr>\n",
       "    <tr>\n",
       "      <th>2</th>\n",
       "      <td>0</td>\n",
       "      <td>29.0</td>\n",
       "      <td>21000.0</td>\n",
       "      <td>0</td>\n",
       "      <td>0</td>\n",
       "    </tr>\n",
       "    <tr>\n",
       "      <th>3</th>\n",
       "      <td>0</td>\n",
       "      <td>21.0</td>\n",
       "      <td>41700.0</td>\n",
       "      <td>2</td>\n",
       "      <td>0</td>\n",
       "    </tr>\n",
       "    <tr>\n",
       "      <th>4</th>\n",
       "      <td>1</td>\n",
       "      <td>28.0</td>\n",
       "      <td>26100.0</td>\n",
       "      <td>0</td>\n",
       "      <td>0</td>\n",
       "    </tr>\n",
       "  </tbody>\n",
       "</table>\n",
       "</div>"
      ],
      "text/plain": [
       "   Пол  Возраст  Зарплата  Члены семьи  Страховые выплаты\n",
       "0    1     41.0   49600.0            1                  0\n",
       "1    0     46.0   38000.0            1                  1\n",
       "2    0     29.0   21000.0            0                  0\n",
       "3    0     21.0   41700.0            2                  0\n",
       "4    1     28.0   26100.0            0                  0"
      ]
     },
     "metadata": {},
     "output_type": "display_data"
    },
    {
     "name": "stdout",
     "output_type": "stream",
     "text": [
      "<class 'pandas.core.frame.DataFrame'>\n",
      "RangeIndex: 5000 entries, 0 to 4999\n",
      "Data columns (total 5 columns):\n",
      " #   Column             Non-Null Count  Dtype  \n",
      "---  ------             --------------  -----  \n",
      " 0   Пол                5000 non-null   int64  \n",
      " 1   Возраст            5000 non-null   float64\n",
      " 2   Зарплата           5000 non-null   float64\n",
      " 3   Члены семьи        5000 non-null   int64  \n",
      " 4   Страховые выплаты  5000 non-null   int64  \n",
      "dtypes: float64(2), int64(3)\n",
      "memory usage: 195.4 KB\n"
     ]
    },
    {
     "data": {
      "text/plain": [
       "None"
      ]
     },
     "metadata": {},
     "output_type": "display_data"
    },
    {
     "data": {
      "text/html": [
       "<div>\n",
       "<style scoped>\n",
       "    .dataframe tbody tr th:only-of-type {\n",
       "        vertical-align: middle;\n",
       "    }\n",
       "\n",
       "    .dataframe tbody tr th {\n",
       "        vertical-align: top;\n",
       "    }\n",
       "\n",
       "    .dataframe thead th {\n",
       "        text-align: right;\n",
       "    }\n",
       "</style>\n",
       "<table border=\"1\" class=\"dataframe\">\n",
       "  <thead>\n",
       "    <tr style=\"text-align: right;\">\n",
       "      <th></th>\n",
       "      <th>Пол</th>\n",
       "      <th>Возраст</th>\n",
       "      <th>Зарплата</th>\n",
       "      <th>Члены семьи</th>\n",
       "      <th>Страховые выплаты</th>\n",
       "    </tr>\n",
       "  </thead>\n",
       "  <tbody>\n",
       "    <tr>\n",
       "      <th>count</th>\n",
       "      <td>5000.000000</td>\n",
       "      <td>5000.000000</td>\n",
       "      <td>5000.000000</td>\n",
       "      <td>5000.000000</td>\n",
       "      <td>5000.000000</td>\n",
       "    </tr>\n",
       "    <tr>\n",
       "      <th>mean</th>\n",
       "      <td>0.499000</td>\n",
       "      <td>30.952800</td>\n",
       "      <td>39916.360000</td>\n",
       "      <td>1.194200</td>\n",
       "      <td>0.148000</td>\n",
       "    </tr>\n",
       "    <tr>\n",
       "      <th>std</th>\n",
       "      <td>0.500049</td>\n",
       "      <td>8.440807</td>\n",
       "      <td>9900.083569</td>\n",
       "      <td>1.091387</td>\n",
       "      <td>0.463183</td>\n",
       "    </tr>\n",
       "    <tr>\n",
       "      <th>min</th>\n",
       "      <td>0.000000</td>\n",
       "      <td>18.000000</td>\n",
       "      <td>5300.000000</td>\n",
       "      <td>0.000000</td>\n",
       "      <td>0.000000</td>\n",
       "    </tr>\n",
       "    <tr>\n",
       "      <th>25%</th>\n",
       "      <td>0.000000</td>\n",
       "      <td>24.000000</td>\n",
       "      <td>33300.000000</td>\n",
       "      <td>0.000000</td>\n",
       "      <td>0.000000</td>\n",
       "    </tr>\n",
       "    <tr>\n",
       "      <th>50%</th>\n",
       "      <td>0.000000</td>\n",
       "      <td>30.000000</td>\n",
       "      <td>40200.000000</td>\n",
       "      <td>1.000000</td>\n",
       "      <td>0.000000</td>\n",
       "    </tr>\n",
       "    <tr>\n",
       "      <th>75%</th>\n",
       "      <td>1.000000</td>\n",
       "      <td>37.000000</td>\n",
       "      <td>46600.000000</td>\n",
       "      <td>2.000000</td>\n",
       "      <td>0.000000</td>\n",
       "    </tr>\n",
       "    <tr>\n",
       "      <th>max</th>\n",
       "      <td>1.000000</td>\n",
       "      <td>65.000000</td>\n",
       "      <td>79000.000000</td>\n",
       "      <td>6.000000</td>\n",
       "      <td>5.000000</td>\n",
       "    </tr>\n",
       "  </tbody>\n",
       "</table>\n",
       "</div>"
      ],
      "text/plain": [
       "               Пол      Возраст      Зарплата  Члены семьи  Страховые выплаты\n",
       "count  5000.000000  5000.000000   5000.000000  5000.000000        5000.000000\n",
       "mean      0.499000    30.952800  39916.360000     1.194200           0.148000\n",
       "std       0.500049     8.440807   9900.083569     1.091387           0.463183\n",
       "min       0.000000    18.000000   5300.000000     0.000000           0.000000\n",
       "25%       0.000000    24.000000  33300.000000     0.000000           0.000000\n",
       "50%       0.000000    30.000000  40200.000000     1.000000           0.000000\n",
       "75%       1.000000    37.000000  46600.000000     2.000000           0.000000\n",
       "max       1.000000    65.000000  79000.000000     6.000000           5.000000"
      ]
     },
     "metadata": {},
     "output_type": "display_data"
    },
    {
     "data": {
      "text/plain": [
       "Пол                  0\n",
       "Возраст              0\n",
       "Зарплата             0\n",
       "Члены семьи          0\n",
       "Страховые выплаты    0\n",
       "dtype: int64"
      ]
     },
     "metadata": {},
     "output_type": "display_data"
    }
   ],
   "source": [
    "get_info(insurance) "
   ]
  },
  {
   "cell_type": "markdown",
   "metadata": {},
   "source": [
    "**Описание данных:**\n",
    "- *признаки:* пол, возраст и зарплата застрахованного, количество членов его семьи;\n",
    "- *целевой признак:* количество страховых выплат клиенту за последние 5 лет."
   ]
  },
  {
   "cell_type": "markdown",
   "metadata": {},
   "source": [
    "**Вывод:** \n",
    "- датасет с данными клиентов страховой компании содержит 5000 строк и 5 столбцов;\n",
    "- пропущенных значений не обнаружено;\n",
    "- столбцы `Возраст` и `Зарплата` имеют тип данных `float64`, остальные колонки - тип `int`, приведу столбцы с вещественным типом данных к целочисленному;\n",
    "- для числовых столбцов выведена информация о среднем, стандартном отклонении, квартилях и минимальном и максимальном значениях - по данным характеристикам аномальных значений не наблюдается;\n",
    "- целевой признак - `Страховые выплаты` (более 75% клиентов страховая выплата не была выплачена ни разу; при этом есть клиенты с пятиразовой выплатой)."
   ]
  },
  {
   "cell_type": "code",
   "execution_count": 5,
   "metadata": {},
   "outputs": [],
   "source": [
    "# преобразование вещественных столбцов к целочисленным\n",
    "insurance['Возраст'] = insurance['Возраст'].astype('int')\n",
    "insurance['Зарплата'] = insurance['Зарплата'].astype('int')"
   ]
  },
  {
   "cell_type": "markdown",
   "metadata": {},
   "source": [
    "## Умножение матриц"
   ]
  },
  {
   "cell_type": "markdown",
   "metadata": {},
   "source": [
    "В задании необходимо ответить на вопрос и обосновать решение: `признаки умножают на обратимую матрицу. Изменится ли качество линейной регрессии?`"
   ]
  },
  {
   "cell_type": "markdown",
   "metadata": {},
   "source": [
    "Обозначения:\n",
    "\n",
    "- $X$ — матрица признаков (нулевой столбец состоит из единиц)\n",
    "\n",
    "- $y$ — вектор целевого признака\n",
    "\n",
    "- $P$ — матрица, на которую умножаются признаки\n",
    "\n",
    "- $w$ — вектор весов линейной регрессии (нулевой элемент равен сдвигу)"
   ]
  },
  {
   "cell_type": "markdown",
   "metadata": {},
   "source": [
    "Предсказания:\n",
    "\n",
    "$$\n",
    "a = Xw\n",
    "$$\n",
    "\n",
    "Задача обучения:\n",
    "\n",
    "$$\n",
    "w = \\arg\\min_w MSE(Xw, y)\n",
    "$$\n",
    "\n",
    "Формула обучения:\n",
    "\n",
    "$$\n",
    "w = (X^T X)^{-1} X^T y\n",
    "$$"
   ]
  },
  {
   "cell_type": "markdown",
   "metadata": {},
   "source": [
    "**Ответ:** Предсказание линейной регрессии на обучающих данных **не изменится** при умножении матрицы признаков на обратимую матрицу.\n",
    "\n",
    "**Обоснование:**\n",
    "\n",
    "Для проверки гипотезы заменю $Х$ на $ХР$ и подставлю в исходые формулы. Получаем:\n",
    "$$\n",
    "a_1 = XРw_1\n",
    "$$\n",
    "$$\n",
    "w_1 = ((XP)^T XP)^{-1} (XP)^T y\n",
    "$$\n",
    "\n",
    "Нужно доказать, что\n",
    "$$\n",
    "a = a_1\n",
    "$$\n",
    "\n",
    "Подставим $w_1$ в $a_1$:\n",
    "$$\n",
    "a_1 = XР((XP)^T XP)^{-1} (XP)^T y\n",
    "$$\n",
    "\n",
    "Раскроем скобки, используя свойство транспонированной матрицы:\n",
    "$$\n",
    "(AB)^{Т} = B^{Т}A^{Т}\n",
    "$$\n",
    "\n",
    "Получаем:\n",
    "$$\n",
    "a_1 = XР(P^TX^T XP)^{-1} P^TX^T y\n",
    "$$\n",
    "\n",
    "Раскроем скобки, используя свойство обратной матрицы:\n",
    "$$\n",
    "(AB)^{-1} = B^{-1}A^{-1}\n",
    "$$\n",
    "\n",
    "Получаем:\n",
    "$$\n",
    "a_1 = XР(X^T XP)^{-1} (P^T)^{-1} P^TX^T y\n",
    "$$\n",
    "\n",
    "$$\n",
    "a_1 = XР P^{-1}(X^T X)^{-1} (P^T)^{-1} P^TX^T y\n",
    "$$\n",
    "\n",
    "По определению обратной матрицы:\n",
    "$$\n",
    "А А^{-1} = E\n",
    "$$\n",
    "\n",
    "Получаем:\n",
    "$$\n",
    "a_1 = XE (X^T X)^{-1} E X^T y\n",
    "$$\n",
    "\n",
    "Произведение матрицы на единичную матрицу равно исходной. Поэтому, выражение выше можно переписать:\n",
    "$$\n",
    "a_1 = X(X^T X)^{-1} X^T y\n",
    "$$\n",
    "\n",
    "Выражение $(X^T X)^{-1} X^T y$ ничто иное как $w$. Подставим в $a_1$ и получим:\n",
    "$$\n",
    "a_1 = Xw = a\n",
    "$$\n",
    "\n"
   ]
  },
  {
   "cell_type": "markdown",
   "metadata": {},
   "source": [
    "## Алгоритм преобразования"
   ]
  },
  {
   "cell_type": "markdown",
   "metadata": {},
   "source": [
    "**Алгоритм**\n",
    "\n",
    "Для защиты данных клиентов страховой компании в качестве алгоритма преобразования данных буду использовать умножение исходной матрицы признаков на обратимую матрицу."
   ]
  },
  {
   "cell_type": "markdown",
   "metadata": {},
   "source": [
    "**Обоснование**\n",
    "\n",
    "При умножении на обратимую матрицу каждый вектор матричной системы уравнений выступает как коэффициент перед каждым вектором исходной матрицы, увеличивая или уменьшая признаки, но при этом зависимости остаются прежними и оценка предсказания не меняется."
   ]
  },
  {
   "cell_type": "markdown",
   "metadata": {},
   "source": [
    "## Проверка алгоритма"
   ]
  },
  {
   "cell_type": "code",
   "execution_count": 6,
   "metadata": {},
   "outputs": [],
   "source": [
    "features_train = insurance.drop('Страховые выплаты', axis=1)\n",
    "target_train = insurance['Страховые выплаты']"
   ]
  },
  {
   "cell_type": "code",
   "execution_count": 7,
   "metadata": {},
   "outputs": [
    {
     "name": "stdout",
     "output_type": "stream",
     "text": [
      "(5000, 4)\n",
      "(5000,)\n"
     ]
    }
   ],
   "source": [
    "# размеры полученных выборок\n",
    "print(features_train.shape)\n",
    "print(target_train.shape)"
   ]
  },
  {
   "cell_type": "code",
   "execution_count": 8,
   "metadata": {},
   "outputs": [],
   "source": [
    "# алгоритм преобразования\n",
    "class Transformer:\n",
    "    def __init__(self):\n",
    "        self.random_matrix = None\n",
    "        \n",
    "    def fit(self, features):\n",
    "        n = features.shape[1]\n",
    "        while True:\n",
    "            self.random_matrix = np.random.normal(size=(n, n))\n",
    "            try:\n",
    "                np.linalg.inv(self.random_matrix)\n",
    "            except np.linalg.LinAlgError:\n",
    "                continue\n",
    "            break\n",
    "    \n",
    "    def transform(self, features):\n",
    "        return np.dot(features.values, self.random_matrix)"
   ]
  },
  {
   "cell_type": "code",
   "execution_count": 9,
   "metadata": {},
   "outputs": [],
   "source": [
    "transformer = Transformer()\n",
    "transformer.fit(features_train)\n",
    "encoded_features = transformer.transform(features_train)"
   ]
  },
  {
   "cell_type": "code",
   "execution_count": 10,
   "metadata": {},
   "outputs": [
    {
     "name": "stdout",
     "output_type": "stream",
     "text": [
      "[[  7959.86493152 -53657.23177087  23588.61056273 111010.76950075]\n",
      " [  6098.59460922 -41120.97231393  18057.15321381  85058.27988759]\n",
      " [  3370.0583335  -22728.68103916   9975.01592595  47008.52669979]\n",
      " ...\n",
      " [  5441.25325005 -36663.72659356  16130.89739608  75866.54829763]\n",
      " [  5248.27286273 -35367.56732146  15557.73051635  73181.92185144]\n",
      " [  6515.56364054 -43915.84806405  19314.18592473  90863.88260141]]\n"
     ]
    }
   ],
   "source": [
    "# проверка, что признаки закодировались\n",
    "print(encoded_features)"
   ]
  },
  {
   "cell_type": "code",
   "execution_count": 11,
   "metadata": {},
   "outputs": [],
   "source": [
    "class LinearRegression:\n",
    "    def fit(self, train_features, train_target):\n",
    "        X = np.concatenate((np.ones((train_features.shape[0], 1)), train_features), axis=1)\n",
    "        y = train_target\n",
    "        w = np.dot(np.dot(np.linalg.inv(np.dot(X.T, X)), X.T), y)\n",
    "        self.w = w[1:]\n",
    "        self.w0 = w[0]\n",
    "\n",
    "    def predict(self, test_features):\n",
    "        return test_features.dot(self.w) + self.w0"
   ]
  },
  {
   "cell_type": "code",
   "execution_count": 12,
   "metadata": {},
   "outputs": [
    {
     "name": "stdout",
     "output_type": "stream",
     "text": [
      "0.42494550308169177\n"
     ]
    }
   ],
   "source": [
    "# обучение модели линейной регрессии на исходных признаках\n",
    "model = LinearRegression()\n",
    "model.fit(features_train, target_train)\n",
    "predictions = model.predict(features_train)\n",
    "r2 = r2_score(target_train, predictions)\n",
    "print(r2)"
   ]
  },
  {
   "cell_type": "code",
   "execution_count": 13,
   "metadata": {},
   "outputs": [
    {
     "name": "stdout",
     "output_type": "stream",
     "text": [
      "0.4249455030787186\n"
     ]
    }
   ],
   "source": [
    "# обучение модели линейной регрессии на закодированных признаках\n",
    "transform_features_model = LinearRegression()\n",
    "transform_features_model.fit(encoded_features, target_train)\n",
    "transform_features_predictions = transform_features_model.predict(encoded_features)\n",
    "r2 = r2_score(target_train, transform_features_predictions)\n",
    "print(r2)"
   ]
  },
  {
   "cell_type": "markdown",
   "metadata": {},
   "source": [
    "**Вывод:** в результате обучения модели линейной регрессии на исходных и закодированных признаках были получены одинаковые значения коэффициента детерминации R2, что подтверждает теоретический вывод формулы."
   ]
  }
 ],
 "metadata": {
  "ExecuteTimeLog": [
   {
    "duration": 386,
    "start_time": "2022-06-19T15:21:57.158Z"
   },
   {
    "duration": 69,
    "start_time": "2022-06-19T15:21:58.649Z"
   },
   {
    "duration": 18,
    "start_time": "2022-06-19T15:22:47.493Z"
   },
   {
    "duration": 4,
    "start_time": "2022-06-19T15:26:22.255Z"
   },
   {
    "duration": 44,
    "start_time": "2022-06-19T15:26:24.598Z"
   },
   {
    "duration": 375,
    "start_time": "2022-06-20T07:07:18.671Z"
   },
   {
    "duration": 75,
    "start_time": "2022-06-20T07:07:19.948Z"
   },
   {
    "duration": 3,
    "start_time": "2022-06-20T07:07:20.643Z"
   },
   {
    "duration": 46,
    "start_time": "2022-06-20T07:07:22.048Z"
   },
   {
    "duration": 5,
    "start_time": "2022-06-20T07:07:24.185Z"
   },
   {
    "duration": 5,
    "start_time": "2022-06-20T07:10:53.051Z"
   },
   {
    "duration": 7,
    "start_time": "2022-06-20T07:11:10.794Z"
   },
   {
    "duration": 3,
    "start_time": "2022-06-20T08:15:14.504Z"
   },
   {
    "duration": 4,
    "start_time": "2022-06-20T08:27:53.268Z"
   },
   {
    "duration": 3,
    "start_time": "2022-06-20T08:34:59.220Z"
   },
   {
    "duration": 5,
    "start_time": "2022-06-20T08:35:16.842Z"
   },
   {
    "duration": 4,
    "start_time": "2022-06-20T08:36:49.543Z"
   },
   {
    "duration": 8,
    "start_time": "2022-06-20T08:37:03.824Z"
   },
   {
    "duration": 62,
    "start_time": "2022-06-20T08:38:42.096Z"
   },
   {
    "duration": 60,
    "start_time": "2022-06-20T08:39:21.040Z"
   },
   {
    "duration": 9,
    "start_time": "2022-06-20T08:42:01.890Z"
   },
   {
    "duration": 8,
    "start_time": "2022-06-20T08:42:19.467Z"
   },
   {
    "duration": 23,
    "start_time": "2022-06-20T08:56:48.940Z"
   },
   {
    "duration": 9,
    "start_time": "2022-06-20T08:56:57.431Z"
   },
   {
    "duration": 8,
    "start_time": "2022-06-20T08:59:06.634Z"
   },
   {
    "duration": 68,
    "start_time": "2022-06-20T08:59:13.251Z"
   },
   {
    "duration": 474,
    "start_time": "2022-06-20T09:02:06.100Z"
   },
   {
    "duration": 30,
    "start_time": "2022-06-20T09:02:06.576Z"
   },
   {
    "duration": 4,
    "start_time": "2022-06-20T09:02:06.607Z"
   },
   {
    "duration": 48,
    "start_time": "2022-06-20T09:02:06.612Z"
   },
   {
    "duration": 4,
    "start_time": "2022-06-20T09:02:06.662Z"
   },
   {
    "duration": 15,
    "start_time": "2022-06-20T09:02:06.668Z"
   },
   {
    "duration": 120,
    "start_time": "2022-06-20T09:02:06.685Z"
   },
   {
    "duration": 5,
    "start_time": "2022-06-20T10:28:53.235Z"
   },
   {
    "duration": 4,
    "start_time": "2022-06-20T10:49:31.309Z"
   },
   {
    "duration": 3,
    "start_time": "2022-06-20T10:49:32.609Z"
   },
   {
    "duration": 3,
    "start_time": "2022-06-20T10:49:58.066Z"
   },
   {
    "duration": 166,
    "start_time": "2022-06-20T10:57:27.604Z"
   },
   {
    "duration": 69,
    "start_time": "2022-06-20T10:57:32.565Z"
   },
   {
    "duration": 53,
    "start_time": "2022-06-20T10:57:42.382Z"
   },
   {
    "duration": 3,
    "start_time": "2022-06-20T10:58:50.292Z"
   },
   {
    "duration": 8,
    "start_time": "2022-06-20T10:58:57.567Z"
   },
   {
    "duration": 80,
    "start_time": "2022-06-20T10:59:09.821Z"
   },
   {
    "duration": 442,
    "start_time": "2022-06-20T10:59:36.201Z"
   },
   {
    "duration": 29,
    "start_time": "2022-06-20T10:59:36.645Z"
   },
   {
    "duration": 4,
    "start_time": "2022-06-20T10:59:36.676Z"
   },
   {
    "duration": 56,
    "start_time": "2022-06-20T10:59:36.682Z"
   },
   {
    "duration": 4,
    "start_time": "2022-06-20T10:59:36.740Z"
   },
   {
    "duration": 18,
    "start_time": "2022-06-20T10:59:36.745Z"
   },
   {
    "duration": 7,
    "start_time": "2022-06-20T10:59:36.765Z"
   },
   {
    "duration": 77,
    "start_time": "2022-06-20T10:59:36.773Z"
   },
   {
    "duration": 56,
    "start_time": "2022-06-20T10:59:44.558Z"
   },
   {
    "duration": 50,
    "start_time": "2022-06-20T11:01:54.690Z"
   },
   {
    "duration": 103,
    "start_time": "2022-06-20T11:02:20.167Z"
   },
   {
    "duration": 75,
    "start_time": "2022-06-20T11:02:31.055Z"
   },
   {
    "duration": 179,
    "start_time": "2022-06-20T11:02:34.120Z"
   },
   {
    "duration": 2,
    "start_time": "2022-06-20T11:10:58.069Z"
   },
   {
    "duration": 62,
    "start_time": "2022-06-20T11:12:36.989Z"
   },
   {
    "duration": 5,
    "start_time": "2022-06-20T11:15:29.200Z"
   },
   {
    "duration": 1101,
    "start_time": "2022-07-19T09:46:13.698Z"
   },
   {
    "duration": 74,
    "start_time": "2022-07-19T09:46:14.801Z"
   },
   {
    "duration": 3,
    "start_time": "2022-07-19T09:46:14.876Z"
   },
   {
    "duration": 54,
    "start_time": "2022-07-19T09:46:14.882Z"
   },
   {
    "duration": 5,
    "start_time": "2022-07-19T09:46:14.937Z"
   },
   {
    "duration": 8,
    "start_time": "2022-07-19T09:46:14.944Z"
   },
   {
    "duration": 16,
    "start_time": "2022-07-19T09:46:14.953Z"
   },
   {
    "duration": 9,
    "start_time": "2022-07-19T09:46:14.970Z"
   },
   {
    "duration": 7,
    "start_time": "2022-07-19T09:46:14.980Z"
   },
   {
    "duration": 11,
    "start_time": "2022-07-19T09:46:14.989Z"
   },
   {
    "duration": 165,
    "start_time": "2022-07-19T09:46:15.002Z"
   },
   {
    "duration": 112,
    "start_time": "2022-07-19T09:46:15.170Z"
   },
   {
    "duration": 188,
    "start_time": "2022-07-19T09:46:15.284Z"
   },
   {
    "duration": 12,
    "start_time": "2022-07-19T09:46:15.474Z"
   },
   {
    "duration": 439,
    "start_time": "2022-07-19T11:08:29.115Z"
   },
   {
    "duration": 55,
    "start_time": "2022-07-19T11:27:43.732Z"
   },
   {
    "duration": 89,
    "start_time": "2022-07-19T11:28:05.166Z"
   },
   {
    "duration": 97,
    "start_time": "2022-07-19T11:28:44.045Z"
   },
   {
    "duration": 160,
    "start_time": "2022-07-19T11:28:51.421Z"
   },
   {
    "duration": 66,
    "start_time": "2022-07-19T11:29:22.559Z"
   },
   {
    "duration": 63,
    "start_time": "2022-07-19T11:29:47.070Z"
   },
   {
    "duration": 136,
    "start_time": "2022-07-19T11:30:43.975Z"
   },
   {
    "duration": 79,
    "start_time": "2022-07-19T11:31:03.040Z"
   },
   {
    "duration": 54,
    "start_time": "2022-07-19T11:31:07.607Z"
   },
   {
    "duration": 66,
    "start_time": "2022-07-19T11:32:17.039Z"
   },
   {
    "duration": 62,
    "start_time": "2022-07-19T11:35:39.105Z"
   },
   {
    "duration": 5,
    "start_time": "2022-07-19T11:35:49.722Z"
   },
   {
    "duration": 10,
    "start_time": "2022-07-19T11:39:40.252Z"
   },
   {
    "duration": 1376,
    "start_time": "2022-07-19T11:40:34.517Z"
   },
   {
    "duration": 28,
    "start_time": "2022-07-19T11:40:35.895Z"
   },
   {
    "duration": 4,
    "start_time": "2022-07-19T11:40:35.924Z"
   },
   {
    "duration": 56,
    "start_time": "2022-07-19T11:40:35.930Z"
   },
   {
    "duration": 4,
    "start_time": "2022-07-19T11:40:35.988Z"
   },
   {
    "duration": 9,
    "start_time": "2022-07-19T11:40:35.994Z"
   },
   {
    "duration": 17,
    "start_time": "2022-07-19T11:40:36.005Z"
   },
   {
    "duration": 11,
    "start_time": "2022-07-19T11:40:36.024Z"
   },
   {
    "duration": 29,
    "start_time": "2022-07-19T11:40:36.037Z"
   },
   {
    "duration": 95,
    "start_time": "2022-07-19T11:40:36.070Z"
   },
   {
    "duration": 197,
    "start_time": "2022-07-19T11:40:36.167Z"
   },
   {
    "duration": 22,
    "start_time": "2022-07-19T11:40:36.369Z"
   },
   {
    "duration": 190,
    "start_time": "2022-07-19T11:40:36.393Z"
   },
   {
    "duration": 10,
    "start_time": "2022-07-19T11:40:36.584Z"
   },
   {
    "duration": 190,
    "start_time": "2022-07-19T11:40:36.596Z"
   },
   {
    "duration": 116,
    "start_time": "2022-07-19T11:40:36.788Z"
   },
   {
    "duration": 11,
    "start_time": "2022-07-19T11:41:05.552Z"
   },
   {
    "duration": 10,
    "start_time": "2022-07-19T11:41:18.911Z"
   },
   {
    "duration": 6,
    "start_time": "2022-07-19T11:44:40.393Z"
   },
   {
    "duration": 16,
    "start_time": "2022-07-19T11:44:44.506Z"
   },
   {
    "duration": 5,
    "start_time": "2022-07-19T11:51:13.822Z"
   },
   {
    "duration": 117,
    "start_time": "2022-07-19T11:51:16.747Z"
   },
   {
    "duration": 5,
    "start_time": "2022-07-19T11:51:57.181Z"
   },
   {
    "duration": 8447,
    "start_time": "2022-07-19T11:51:59.318Z"
   },
   {
    "duration": 8874,
    "start_time": "2022-07-19T11:55:19.592Z"
   },
   {
    "duration": 38843,
    "start_time": "2022-07-19T11:56:29.921Z"
   },
   {
    "duration": 17,
    "start_time": "2022-07-19T12:08:24.798Z"
   },
   {
    "duration": 758,
    "start_time": "2022-07-19T12:08:44.085Z"
   },
   {
    "duration": 643,
    "start_time": "2022-07-19T12:08:53.766Z"
   },
   {
    "duration": 535,
    "start_time": "2022-07-19T12:10:56.896Z"
   },
   {
    "duration": 585,
    "start_time": "2022-07-19T12:11:24.864Z"
   },
   {
    "duration": 601,
    "start_time": "2022-07-19T12:11:41.905Z"
   },
   {
    "duration": 587,
    "start_time": "2022-07-19T12:11:56.063Z"
   },
   {
    "duration": 532,
    "start_time": "2022-07-19T12:12:23.280Z"
   },
   {
    "duration": 568,
    "start_time": "2022-07-19T12:12:32.736Z"
   },
   {
    "duration": 616,
    "start_time": "2022-07-19T12:13:29.065Z"
   },
   {
    "duration": 6,
    "start_time": "2022-07-19T12:50:12.277Z"
   },
   {
    "duration": 5852,
    "start_time": "2022-07-19T12:50:22.718Z"
   },
   {
    "duration": 1521,
    "start_time": "2022-07-19T12:55:32.145Z"
   },
   {
    "duration": 3,
    "start_time": "2022-07-19T12:55:41.608Z"
   },
   {
    "duration": 2471,
    "start_time": "2022-07-19T12:56:42.194Z"
   },
   {
    "duration": 4,
    "start_time": "2022-07-19T12:56:49.033Z"
   },
   {
    "duration": 1411,
    "start_time": "2022-07-19T12:59:23.762Z"
   },
   {
    "duration": 3,
    "start_time": "2022-07-19T12:59:28.105Z"
   },
   {
    "duration": 5941,
    "start_time": "2022-07-19T13:01:09.630Z"
   },
   {
    "duration": 4,
    "start_time": "2022-07-19T13:01:22.555Z"
   },
   {
    "duration": 2050,
    "start_time": "2022-07-19T13:01:52.724Z"
   },
   {
    "duration": 3,
    "start_time": "2022-07-19T13:02:01.099Z"
   },
   {
    "duration": 4886,
    "start_time": "2022-07-19T13:03:26.883Z"
   },
   {
    "duration": 3,
    "start_time": "2022-07-19T13:03:33.972Z"
   },
   {
    "duration": 1486,
    "start_time": "2022-07-19T18:02:54.836Z"
   },
   {
    "duration": 74,
    "start_time": "2022-07-19T18:02:56.324Z"
   },
   {
    "duration": 3,
    "start_time": "2022-07-19T18:02:56.400Z"
   },
   {
    "duration": 45,
    "start_time": "2022-07-19T18:02:56.405Z"
   },
   {
    "duration": 4,
    "start_time": "2022-07-19T18:02:56.452Z"
   },
   {
    "duration": 11,
    "start_time": "2022-07-19T18:02:56.458Z"
   },
   {
    "duration": 5,
    "start_time": "2022-07-19T18:02:56.471Z"
   },
   {
    "duration": 23,
    "start_time": "2022-07-19T18:02:56.478Z"
   },
   {
    "duration": 4,
    "start_time": "2022-07-19T18:02:56.502Z"
   },
   {
    "duration": 108,
    "start_time": "2022-07-19T18:02:56.507Z"
   },
   {
    "duration": 12,
    "start_time": "2022-07-19T18:02:56.701Z"
   },
   {
    "duration": 184,
    "start_time": "2022-07-19T18:02:56.718Z"
   },
   {
    "duration": 135,
    "start_time": "2022-07-19T18:02:56.907Z"
   },
   {
    "duration": 30,
    "start_time": "2022-07-19T18:02:57.044Z"
   },
   {
    "duration": 33,
    "start_time": "2022-07-19T18:02:57.079Z"
   },
   {
    "duration": 4861,
    "start_time": "2022-07-19T18:03:03.258Z"
   },
   {
    "duration": 5421,
    "start_time": "2022-07-19T18:04:09.985Z"
   },
   {
    "duration": 6,
    "start_time": "2022-07-19T18:04:50.948Z"
   },
   {
    "duration": 5,
    "start_time": "2022-07-19T18:05:00.303Z"
   },
   {
    "duration": 5,
    "start_time": "2022-07-19T18:06:39.125Z"
   },
   {
    "duration": 46,
    "start_time": "2022-07-19T18:06:40.057Z"
   },
   {
    "duration": 6,
    "start_time": "2022-07-19T18:07:12.459Z"
   },
   {
    "duration": 247,
    "start_time": "2022-07-19T18:07:12.957Z"
   },
   {
    "duration": 140,
    "start_time": "2022-07-19T18:08:10.365Z"
   },
   {
    "duration": 272,
    "start_time": "2022-07-19T18:08:19.836Z"
   },
   {
    "duration": 297,
    "start_time": "2022-07-19T18:08:27.409Z"
   },
   {
    "duration": 225,
    "start_time": "2022-07-19T18:08:42.480Z"
   },
   {
    "duration": 276,
    "start_time": "2022-07-19T18:08:48.826Z"
   },
   {
    "duration": 277,
    "start_time": "2022-07-19T18:09:00.629Z"
   },
   {
    "duration": 66,
    "start_time": "2022-07-19T18:11:34.242Z"
   },
   {
    "duration": 7,
    "start_time": "2022-07-19T18:12:03.768Z"
   },
   {
    "duration": 4824,
    "start_time": "2022-07-19T18:12:04.285Z"
   },
   {
    "duration": 5,
    "start_time": "2022-07-19T18:14:17.946Z"
   },
   {
    "duration": 4645,
    "start_time": "2022-07-19T18:14:18.357Z"
   },
   {
    "duration": 203,
    "start_time": "2022-07-19T18:21:04.268Z"
   },
   {
    "duration": 566,
    "start_time": "2022-07-19T18:23:33.873Z"
   },
   {
    "duration": 1645,
    "start_time": "2022-07-21T11:08:05.774Z"
   },
   {
    "duration": 109,
    "start_time": "2022-07-21T11:08:07.421Z"
   },
   {
    "duration": 3,
    "start_time": "2022-07-21T11:08:07.532Z"
   },
   {
    "duration": 84,
    "start_time": "2022-07-21T11:08:07.537Z"
   },
   {
    "duration": 5,
    "start_time": "2022-07-21T11:08:07.623Z"
   },
   {
    "duration": 8,
    "start_time": "2022-07-21T11:08:07.630Z"
   },
   {
    "duration": 6,
    "start_time": "2022-07-21T11:08:07.640Z"
   },
   {
    "duration": 42,
    "start_time": "2022-07-21T11:08:07.647Z"
   },
   {
    "duration": 7,
    "start_time": "2022-07-21T11:08:07.692Z"
   },
   {
    "duration": 56,
    "start_time": "2022-07-21T11:08:07.701Z"
   },
   {
    "duration": 125,
    "start_time": "2022-07-21T11:08:07.758Z"
   },
   {
    "duration": 197,
    "start_time": "2022-07-21T11:08:07.885Z"
   },
   {
    "duration": 197,
    "start_time": "2022-07-21T11:08:08.085Z"
   },
   {
    "duration": 12,
    "start_time": "2022-07-21T11:08:08.285Z"
   },
   {
    "duration": 601,
    "start_time": "2022-07-21T11:08:11.440Z"
   },
   {
    "duration": 686,
    "start_time": "2022-07-21T11:08:28.716Z"
   },
   {
    "duration": 102,
    "start_time": "2022-07-21T11:14:46.195Z"
   },
   {
    "duration": 53,
    "start_time": "2022-07-21T11:15:23.764Z"
   },
   {
    "duration": 296,
    "start_time": "2022-07-21T11:15:29.838Z"
   },
   {
    "duration": 267,
    "start_time": "2022-07-21T11:15:52.430Z"
   },
   {
    "duration": 308,
    "start_time": "2022-07-21T11:16:08.943Z"
   },
   {
    "duration": 243,
    "start_time": "2022-07-21T11:16:16.257Z"
   },
   {
    "duration": 24,
    "start_time": "2022-07-21T11:18:08.457Z"
   },
   {
    "duration": 36163,
    "start_time": "2022-07-21T11:18:20.279Z"
   },
   {
    "duration": 0,
    "start_time": "2022-07-21T11:18:56.445Z"
   },
   {
    "duration": 165,
    "start_time": "2022-07-21T11:52:27.435Z"
   },
   {
    "duration": 28350,
    "start_time": "2022-07-21T11:52:38.305Z"
   },
   {
    "duration": 592,
    "start_time": "2022-07-21T11:53:15.647Z"
   },
   {
    "duration": 19,
    "start_time": "2022-07-21T11:59:59.210Z"
   },
   {
    "duration": 752,
    "start_time": "2022-07-21T12:00:13.355Z"
   },
   {
    "duration": 591,
    "start_time": "2022-07-21T12:00:28.212Z"
   },
   {
    "duration": 575,
    "start_time": "2022-07-21T12:00:37.683Z"
   },
   {
    "duration": 11,
    "start_time": "2022-07-21T12:05:41.228Z"
   },
   {
    "duration": 13,
    "start_time": "2022-07-21T12:05:56.965Z"
   },
   {
    "duration": 10,
    "start_time": "2022-07-21T12:06:01.069Z"
   },
   {
    "duration": 10,
    "start_time": "2022-07-21T12:06:40.059Z"
   },
   {
    "duration": 4,
    "start_time": "2022-07-21T12:06:46.693Z"
   },
   {
    "duration": 12,
    "start_time": "2022-07-21T12:07:08.878Z"
   },
   {
    "duration": 270,
    "start_time": "2022-07-21T12:21:37.209Z"
   },
   {
    "duration": 1307,
    "start_time": "2022-07-21T12:24:34.289Z"
   },
   {
    "duration": 32,
    "start_time": "2022-07-21T12:24:35.598Z"
   },
   {
    "duration": 3,
    "start_time": "2022-07-21T12:24:35.631Z"
   },
   {
    "duration": 63,
    "start_time": "2022-07-21T12:24:35.636Z"
   },
   {
    "duration": 4,
    "start_time": "2022-07-21T12:24:35.701Z"
   },
   {
    "duration": 10,
    "start_time": "2022-07-21T12:24:35.706Z"
   },
   {
    "duration": 7,
    "start_time": "2022-07-21T12:24:35.717Z"
   },
   {
    "duration": 13,
    "start_time": "2022-07-21T12:24:35.725Z"
   },
   {
    "duration": 20,
    "start_time": "2022-07-21T12:24:35.739Z"
   },
   {
    "duration": 15,
    "start_time": "2022-07-21T12:24:35.760Z"
   },
   {
    "duration": 71,
    "start_time": "2022-07-21T12:24:35.776Z"
   },
   {
    "duration": 116,
    "start_time": "2022-07-21T12:24:35.848Z"
   },
   {
    "duration": 100,
    "start_time": "2022-07-21T12:24:35.968Z"
   },
   {
    "duration": 460,
    "start_time": "2022-07-21T12:24:36.071Z"
   },
   {
    "duration": 490,
    "start_time": "2022-07-21T12:24:36.533Z"
   },
   {
    "duration": 1416,
    "start_time": "2022-07-31T07:34:31.617Z"
   },
   {
    "duration": 75,
    "start_time": "2022-07-31T07:34:33.036Z"
   },
   {
    "duration": 4,
    "start_time": "2022-07-31T07:34:33.113Z"
   },
   {
    "duration": 50,
    "start_time": "2022-07-31T07:34:33.118Z"
   },
   {
    "duration": 3,
    "start_time": "2022-07-31T07:34:33.170Z"
   },
   {
    "duration": 11,
    "start_time": "2022-07-31T07:34:33.175Z"
   },
   {
    "duration": 7,
    "start_time": "2022-07-31T07:34:33.187Z"
   },
   {
    "duration": 6,
    "start_time": "2022-07-31T07:34:33.195Z"
   },
   {
    "duration": 8,
    "start_time": "2022-07-31T07:34:33.203Z"
   },
   {
    "duration": 52,
    "start_time": "2022-07-31T07:34:33.212Z"
   },
   {
    "duration": 100,
    "start_time": "2022-07-31T07:34:33.266Z"
   },
   {
    "duration": 15,
    "start_time": "2022-07-31T07:34:33.368Z"
   },
   {
    "duration": 179,
    "start_time": "2022-07-31T07:34:33.385Z"
   },
   {
    "duration": 450,
    "start_time": "2022-07-31T07:34:33.567Z"
   },
   {
    "duration": 482,
    "start_time": "2022-07-31T07:34:34.018Z"
   },
   {
    "duration": 1292,
    "start_time": "2022-07-31T07:49:13.223Z"
   },
   {
    "duration": 29,
    "start_time": "2022-07-31T07:49:14.516Z"
   },
   {
    "duration": 3,
    "start_time": "2022-07-31T07:49:14.547Z"
   },
   {
    "duration": 49,
    "start_time": "2022-07-31T07:49:14.552Z"
   },
   {
    "duration": 4,
    "start_time": "2022-07-31T07:49:14.604Z"
   },
   {
    "duration": 7,
    "start_time": "2022-07-31T07:49:14.610Z"
   },
   {
    "duration": 5,
    "start_time": "2022-07-31T07:49:14.619Z"
   },
   {
    "duration": 5,
    "start_time": "2022-07-31T07:49:14.625Z"
   },
   {
    "duration": 30,
    "start_time": "2022-07-31T07:49:14.632Z"
   },
   {
    "duration": 7,
    "start_time": "2022-07-31T07:49:14.664Z"
   },
   {
    "duration": 88,
    "start_time": "2022-07-31T07:49:14.673Z"
   },
   {
    "duration": 100,
    "start_time": "2022-07-31T07:49:14.764Z"
   },
   {
    "duration": 103,
    "start_time": "2022-07-31T07:49:14.865Z"
   }
  ],
  "kernelspec": {
   "display_name": "Python 3 (ipykernel)",
   "language": "python",
   "name": "python3"
  },
  "language_info": {
   "codemirror_mode": {
    "name": "ipython",
    "version": 3
   },
   "file_extension": ".py",
   "mimetype": "text/x-python",
   "name": "python",
   "nbconvert_exporter": "python",
   "pygments_lexer": "ipython3",
   "version": "3.9.5"
  },
  "toc": {
   "base_numbering": 1,
   "nav_menu": {},
   "number_sections": true,
   "sideBar": true,
   "skip_h1_title": true,
   "title_cell": "Содержание",
   "title_sidebar": "Contents",
   "toc_cell": true,
   "toc_position": {
    "height": "calc(100% - 180px)",
    "left": "10px",
    "top": "150px",
    "width": "165px"
   },
   "toc_section_display": true,
   "toc_window_display": false
  }
 },
 "nbformat": 4,
 "nbformat_minor": 2
}
