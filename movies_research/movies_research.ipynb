{
 "cells": [
  {
   "cell_type": "markdown",
   "metadata": {},
   "source": [
    "# Исследование данных о российском кинопрокате"
   ]
  },
  {
   "cell_type": "markdown",
   "metadata": {},
   "source": [
    "Заказчик данного исследования — Министерство культуры Российской Федерации. Нужно изучить рынок российского кинопроката и выявить текущие тренды. Необходимо уделить внимание фильмам, которые получили государственную поддержку, а так же ответить на вопрос, насколько такие фильмы интересны зрителю."
   ]
  },
  {
   "cell_type": "markdown",
   "metadata": {},
   "source": [
    "Исследование проводится с данными, опубликованными на портале открытых данных Министерства культуры. Набор данных содержит информацию о прокатных удостоверениях, сборах и государственной поддержке фильмов, а также информацию с сайта КиноПоиск.\n",
    "\n",
    "- датасет `mkrf_movies` содержит данные о прокатных удостоверениях;\n",
    "- `mkrf_shows` - данные о прокате в российских кинотеатрах."
   ]
  },
  {
   "cell_type": "markdown",
   "metadata": {
    "id": "sIfNaMOxgFyK"
   },
   "source": [
    "## Объединение датасетов и получение общей информации"
   ]
  },
  {
   "cell_type": "markdown",
   "metadata": {},
   "source": [
    "Объединю таблицы, чтобы все объекты из датасета `mkrf_movies` обязательно вошли в получившийся датафрейм `films`."
   ]
  },
  {
   "cell_type": "markdown",
   "metadata": {},
   "source": [
    "Открою датафреймы `mkrf_movies` и `mkrf_shows` и выведу общую информацию. Буду объединять две таблицы по столбцу `puNumber`, проверю какой тип данных там содержится."
   ]
  },
  {
   "cell_type": "code",
   "execution_count": 1,
   "metadata": {},
   "outputs": [],
   "source": [
    "import matplotlib.pyplot as plt\n",
    "import numpy as np\n",
    "import pandas as pd\n",
    "import seaborn as sns\n",
    "\n",
    "pd.set_option('display.max_rows', None)\n",
    "pd.set_option('display.max_columns', None)"
   ]
  },
  {
   "cell_type": "code",
   "execution_count": 2,
   "metadata": {
    "id": "dw87FlzMgFyM"
   },
   "outputs": [
    {
     "name": "stdout",
     "output_type": "stream",
     "text": [
      "<class 'pandas.core.frame.DataFrame'>\n",
      "RangeIndex: 7486 entries, 0 to 7485\n",
      "Data columns (total 15 columns):\n",
      " #   Column                 Non-Null Count  Dtype  \n",
      "---  ------                 --------------  -----  \n",
      " 0   title                  7486 non-null   object \n",
      " 1   puNumber               7486 non-null   object \n",
      " 2   show_start_date        7486 non-null   object \n",
      " 3   type                   7486 non-null   object \n",
      " 4   film_studio            7468 non-null   object \n",
      " 5   production_country     7484 non-null   object \n",
      " 6   director               7477 non-null   object \n",
      " 7   producer               6918 non-null   object \n",
      " 8   age_restriction        7486 non-null   object \n",
      " 9   refundable_support     332 non-null    float64\n",
      " 10  nonrefundable_support  332 non-null    float64\n",
      " 11  budget                 332 non-null    float64\n",
      " 12  financing_source       332 non-null    object \n",
      " 13  ratings                6519 non-null   object \n",
      " 14  genres                 6510 non-null   object \n",
      "dtypes: float64(3), object(12)\n",
      "memory usage: 877.4+ KB\n"
     ]
    }
   ],
   "source": [
    "mkrf_movies = pd.read_csv('/datasets/mkrf_movies.csv')\n",
    "mkrf_movies.info()"
   ]
  },
  {
   "cell_type": "code",
   "execution_count": 3,
   "metadata": {},
   "outputs": [
    {
     "name": "stdout",
     "output_type": "stream",
     "text": [
      "<class 'pandas.core.frame.DataFrame'>\n",
      "RangeIndex: 3158 entries, 0 to 3157\n",
      "Data columns (total 2 columns):\n",
      " #   Column      Non-Null Count  Dtype  \n",
      "---  ------      --------------  -----  \n",
      " 0   puNumber    3158 non-null   int64  \n",
      " 1   box_office  3158 non-null   float64\n",
      "dtypes: float64(1), int64(1)\n",
      "memory usage: 49.5 KB\n"
     ]
    }
   ],
   "source": [
    "mkrf_shows = pd.read_csv('/datasets/mkrf_shows.csv')\n",
    "mkrf_shows.info()"
   ]
  },
  {
   "cell_type": "markdown",
   "metadata": {},
   "source": [
    "После вывода общей информации о датафрейме `mkrf_shows` я увидела, что тип данных в колонке `puNumber` - object. Это кажется странным, так как данные должны быть числовыми, поэтому проверю все ли значения в колонке `puNumber` являются числами:"
   ]
  },
  {
   "cell_type": "code",
   "execution_count": 4,
   "metadata": {},
   "outputs": [
    {
     "data": {
      "text/html": [
       "<div>\n",
       "<style scoped>\n",
       "    .dataframe tbody tr th:only-of-type {\n",
       "        vertical-align: middle;\n",
       "    }\n",
       "\n",
       "    .dataframe tbody tr th {\n",
       "        vertical-align: top;\n",
       "    }\n",
       "\n",
       "    .dataframe thead th {\n",
       "        text-align: right;\n",
       "    }\n",
       "</style>\n",
       "<table border=\"1\" class=\"dataframe\">\n",
       "  <thead>\n",
       "    <tr style=\"text-align: right;\">\n",
       "      <th></th>\n",
       "      <th>title</th>\n",
       "      <th>puNumber</th>\n",
       "      <th>show_start_date</th>\n",
       "      <th>type</th>\n",
       "      <th>film_studio</th>\n",
       "      <th>production_country</th>\n",
       "      <th>director</th>\n",
       "      <th>producer</th>\n",
       "      <th>age_restriction</th>\n",
       "      <th>refundable_support</th>\n",
       "      <th>nonrefundable_support</th>\n",
       "      <th>budget</th>\n",
       "      <th>financing_source</th>\n",
       "      <th>ratings</th>\n",
       "      <th>genres</th>\n",
       "    </tr>\n",
       "  </thead>\n",
       "  <tbody>\n",
       "    <tr>\n",
       "      <th>804</th>\n",
       "      <td>Паранормальный Якутск</td>\n",
       "      <td>111004112</td>\n",
       "      <td>2012-08-24T12:00:00.000Z</td>\n",
       "      <td>Художественный</td>\n",
       "      <td>ИП Тимофеев К.П.</td>\n",
       "      <td>Россия</td>\n",
       "      <td>К.Тимофеев</td>\n",
       "      <td>NaN</td>\n",
       "      <td>«16+» - для детей старше 16 лет</td>\n",
       "      <td>NaN</td>\n",
       "      <td>NaN</td>\n",
       "      <td>NaN</td>\n",
       "      <td>NaN</td>\n",
       "      <td>NaN</td>\n",
       "      <td>NaN</td>\n",
       "    </tr>\n",
       "    <tr>\n",
       "      <th>1797</th>\n",
       "      <td>Курбан-роман. (История с жертвой)</td>\n",
       "      <td>нет</td>\n",
       "      <td>2014-05-15T12:00:00.000Z</td>\n",
       "      <td>Художественный</td>\n",
       "      <td>ФОНД \"ИННОВАЦИЯ\"</td>\n",
       "      <td>Россия</td>\n",
       "      <td>С.Юзеев</td>\n",
       "      <td>М.Галицкая</td>\n",
       "      <td>«12+» - для детей старше 12 лет</td>\n",
       "      <td>NaN</td>\n",
       "      <td>NaN</td>\n",
       "      <td>NaN</td>\n",
       "      <td>NaN</td>\n",
       "      <td>NaN</td>\n",
       "      <td>NaN</td>\n",
       "    </tr>\n",
       "  </tbody>\n",
       "</table>\n",
       "</div>"
      ],
      "text/plain": [
       "                                  title    puNumber           show_start_date  \\\n",
       "804               Паранормальный Якутск   111004112  2012-08-24T12:00:00.000Z   \n",
       "1797  Курбан-роман. (История с жертвой)         нет  2014-05-15T12:00:00.000Z   \n",
       "\n",
       "                type       film_studio production_country    director  \\\n",
       "804   Художественный  ИП Тимофеев К.П.             Россия  К.Тимофеев   \n",
       "1797  Художественный  ФОНД \"ИННОВАЦИЯ\"             Россия     С.Юзеев   \n",
       "\n",
       "        producer                  age_restriction  refundable_support  \\\n",
       "804          NaN  «16+» - для детей старше 16 лет                 NaN   \n",
       "1797  М.Галицкая  «12+» - для детей старше 12 лет                 NaN   \n",
       "\n",
       "      nonrefundable_support  budget financing_source ratings genres  \n",
       "804                     NaN     NaN              NaN     NaN    NaN  \n",
       "1797                    NaN     NaN              NaN     NaN    NaN  "
      ]
     },
     "execution_count": 4,
     "metadata": {},
     "output_type": "execute_result"
    }
   ],
   "source": [
    "mkrf_movies[~mkrf_movies['puNumber'].str.isnumeric()]"
   ]
  },
  {
   "cell_type": "markdown",
   "metadata": {},
   "source": [
    "В столбце `puNumber` в  таблице `mkrf_movies` есть строка со значением 'нет'. А так же одна строка с символом табуляции в конце номера."
   ]
  },
  {
   "cell_type": "markdown",
   "metadata": {},
   "source": [
    "От строки с 'нет' можно избавиться, на ход исследования это не повлияет. Вторая строка преобразуется в числовой тип несмотря на символ табуляции."
   ]
  },
  {
   "cell_type": "code",
   "execution_count": 5,
   "metadata": {},
   "outputs": [
    {
     "name": "stdout",
     "output_type": "stream",
     "text": [
      "<class 'pandas.core.frame.DataFrame'>\n",
      "Int64Index: 7485 entries, 0 to 7485\n",
      "Data columns (total 15 columns):\n",
      " #   Column                 Non-Null Count  Dtype  \n",
      "---  ------                 --------------  -----  \n",
      " 0   title                  7485 non-null   object \n",
      " 1   puNumber               7485 non-null   object \n",
      " 2   show_start_date        7485 non-null   object \n",
      " 3   type                   7485 non-null   object \n",
      " 4   film_studio            7467 non-null   object \n",
      " 5   production_country     7483 non-null   object \n",
      " 6   director               7476 non-null   object \n",
      " 7   producer               6917 non-null   object \n",
      " 8   age_restriction        7485 non-null   object \n",
      " 9   refundable_support     332 non-null    float64\n",
      " 10  nonrefundable_support  332 non-null    float64\n",
      " 11  budget                 332 non-null    float64\n",
      " 12  financing_source       332 non-null    object \n",
      " 13  ratings                6519 non-null   object \n",
      " 14  genres                 6510 non-null   object \n",
      "dtypes: float64(3), object(12)\n",
      "memory usage: 935.6+ KB\n"
     ]
    }
   ],
   "source": [
    "mkrf_movies = mkrf_movies.query('puNumber != \"нет\"')\n",
    "mkrf_movies.info()"
   ]
  },
  {
   "cell_type": "markdown",
   "metadata": {},
   "source": [
    "После того, как не осталось строковых значений, методом astype() преобразую столбец `puNumber` в датафрейме `mkrf_movies` в тип int."
   ]
  },
  {
   "cell_type": "code",
   "execution_count": 6,
   "metadata": {},
   "outputs": [
    {
     "name": "stdout",
     "output_type": "stream",
     "text": [
      "<class 'pandas.core.frame.DataFrame'>\n",
      "Int64Index: 7485 entries, 0 to 7485\n",
      "Data columns (total 15 columns):\n",
      " #   Column                 Non-Null Count  Dtype  \n",
      "---  ------                 --------------  -----  \n",
      " 0   title                  7485 non-null   object \n",
      " 1   puNumber               7485 non-null   int64  \n",
      " 2   show_start_date        7485 non-null   object \n",
      " 3   type                   7485 non-null   object \n",
      " 4   film_studio            7467 non-null   object \n",
      " 5   production_country     7483 non-null   object \n",
      " 6   director               7476 non-null   object \n",
      " 7   producer               6917 non-null   object \n",
      " 8   age_restriction        7485 non-null   object \n",
      " 9   refundable_support     332 non-null    float64\n",
      " 10  nonrefundable_support  332 non-null    float64\n",
      " 11  budget                 332 non-null    float64\n",
      " 12  financing_source       332 non-null    object \n",
      " 13  ratings                6519 non-null   object \n",
      " 14  genres                 6510 non-null   object \n",
      "dtypes: float64(3), int64(1), object(11)\n",
      "memory usage: 935.6+ KB\n"
     ]
    }
   ],
   "source": [
    "mkrf_movies['puNumber'] = mkrf_movies['puNumber'].astype('int')\n",
    "mkrf_movies.info()"
   ]
  },
  {
   "cell_type": "markdown",
   "metadata": {},
   "source": [
    "Далее объединю обе таблицы в один датафрейм `films` методом merge():"
   ]
  },
  {
   "cell_type": "code",
   "execution_count": 7,
   "metadata": {},
   "outputs": [],
   "source": [
    "films = mkrf_movies.merge(mkrf_shows, on='puNumber', how='left')"
   ]
  },
  {
   "cell_type": "markdown",
   "metadata": {},
   "source": [
    "Выведу общую информацию о датафрейме `films`."
   ]
  },
  {
   "cell_type": "code",
   "execution_count": 8,
   "metadata": {},
   "outputs": [
    {
     "name": "stdout",
     "output_type": "stream",
     "text": [
      "<class 'pandas.core.frame.DataFrame'>\n",
      "Int64Index: 7485 entries, 0 to 7484\n",
      "Data columns (total 16 columns):\n",
      " #   Column                 Non-Null Count  Dtype  \n",
      "---  ------                 --------------  -----  \n",
      " 0   title                  7485 non-null   object \n",
      " 1   puNumber               7485 non-null   int64  \n",
      " 2   show_start_date        7485 non-null   object \n",
      " 3   type                   7485 non-null   object \n",
      " 4   film_studio            7467 non-null   object \n",
      " 5   production_country     7483 non-null   object \n",
      " 6   director               7476 non-null   object \n",
      " 7   producer               6917 non-null   object \n",
      " 8   age_restriction        7485 non-null   object \n",
      " 9   refundable_support     332 non-null    float64\n",
      " 10  nonrefundable_support  332 non-null    float64\n",
      " 11  budget                 332 non-null    float64\n",
      " 12  financing_source       332 non-null    object \n",
      " 13  ratings                6519 non-null   object \n",
      " 14  genres                 6510 non-null   object \n",
      " 15  box_office             3158 non-null   float64\n",
      "dtypes: float64(4), int64(1), object(11)\n",
      "memory usage: 994.1+ KB\n"
     ]
    }
   ],
   "source": [
    "films.info()"
   ]
  },
  {
   "cell_type": "code",
   "execution_count": 9,
   "metadata": {},
   "outputs": [
    {
     "data": {
      "text/html": [
       "<div>\n",
       "<style scoped>\n",
       "    .dataframe tbody tr th:only-of-type {\n",
       "        vertical-align: middle;\n",
       "    }\n",
       "\n",
       "    .dataframe tbody tr th {\n",
       "        vertical-align: top;\n",
       "    }\n",
       "\n",
       "    .dataframe thead th {\n",
       "        text-align: right;\n",
       "    }\n",
       "</style>\n",
       "<table border=\"1\" class=\"dataframe\">\n",
       "  <thead>\n",
       "    <tr style=\"text-align: right;\">\n",
       "      <th></th>\n",
       "      <th>title</th>\n",
       "      <th>puNumber</th>\n",
       "      <th>show_start_date</th>\n",
       "      <th>type</th>\n",
       "      <th>film_studio</th>\n",
       "      <th>production_country</th>\n",
       "      <th>director</th>\n",
       "      <th>producer</th>\n",
       "      <th>age_restriction</th>\n",
       "      <th>refundable_support</th>\n",
       "      <th>nonrefundable_support</th>\n",
       "      <th>budget</th>\n",
       "      <th>financing_source</th>\n",
       "      <th>ratings</th>\n",
       "      <th>genres</th>\n",
       "      <th>box_office</th>\n",
       "    </tr>\n",
       "  </thead>\n",
       "  <tbody>\n",
       "    <tr>\n",
       "      <th>0</th>\n",
       "      <td>Открытый простор</td>\n",
       "      <td>221048915</td>\n",
       "      <td>2015-11-27T12:00:00.000Z</td>\n",
       "      <td>Художественный</td>\n",
       "      <td>Тачстоун Пикчерз, Кобальт Пикчерз, Бикон Пикче...</td>\n",
       "      <td>США</td>\n",
       "      <td>Кевин Костнер</td>\n",
       "      <td>Дэвид Валдес, Кевин Костнер, Джейк Эбертс</td>\n",
       "      <td>«18+» - запрещено для детей</td>\n",
       "      <td>NaN</td>\n",
       "      <td>NaN</td>\n",
       "      <td>NaN</td>\n",
       "      <td>NaN</td>\n",
       "      <td>7.2</td>\n",
       "      <td>боевик,драма,мелодрама</td>\n",
       "      <td>NaN</td>\n",
       "    </tr>\n",
       "    <tr>\n",
       "      <th>1</th>\n",
       "      <td>Особо важное задание</td>\n",
       "      <td>111013716</td>\n",
       "      <td>2016-09-13T12:00:00.000Z</td>\n",
       "      <td>Художественный</td>\n",
       "      <td>Киностудия \"Мосфильм\"</td>\n",
       "      <td>СССР</td>\n",
       "      <td>Е.Матвеев</td>\n",
       "      <td>NaN</td>\n",
       "      <td>«6+» - для детей старше 6 лет</td>\n",
       "      <td>NaN</td>\n",
       "      <td>NaN</td>\n",
       "      <td>NaN</td>\n",
       "      <td>NaN</td>\n",
       "      <td>6.6</td>\n",
       "      <td>драма,военный</td>\n",
       "      <td>NaN</td>\n",
       "    </tr>\n",
       "    <tr>\n",
       "      <th>2</th>\n",
       "      <td>Особо опасен</td>\n",
       "      <td>221038416</td>\n",
       "      <td>2016-10-10T12:00:00.000Z</td>\n",
       "      <td>Художественный</td>\n",
       "      <td>Юниверсал Пикчерз, Кикстарт Продакшнз, Марк Пл...</td>\n",
       "      <td>США</td>\n",
       "      <td>Тимур Бекмамбетов</td>\n",
       "      <td>Джим Лемли, Джейсон Нетер, Марк Е.Платт, Яйн Смит</td>\n",
       "      <td>«18+» - запрещено для детей</td>\n",
       "      <td>NaN</td>\n",
       "      <td>NaN</td>\n",
       "      <td>NaN</td>\n",
       "      <td>NaN</td>\n",
       "      <td>6.8</td>\n",
       "      <td>фантастика,боевик,триллер</td>\n",
       "      <td>NaN</td>\n",
       "    </tr>\n",
       "    <tr>\n",
       "      <th>3</th>\n",
       "      <td>Особо опасен</td>\n",
       "      <td>221026916</td>\n",
       "      <td>2016-06-10T12:00:00.000Z</td>\n",
       "      <td>Художественный</td>\n",
       "      <td>Юниверсал Пикчерз, Кикстарт Продакшнз, Марк Пл...</td>\n",
       "      <td>США</td>\n",
       "      <td>Тимур Бекмамбетов</td>\n",
       "      <td>Джим Лемли, Джейсон Нетер, Марк Е.Платт, Яйн Смит</td>\n",
       "      <td>«18+» - запрещено для детей</td>\n",
       "      <td>NaN</td>\n",
       "      <td>NaN</td>\n",
       "      <td>NaN</td>\n",
       "      <td>NaN</td>\n",
       "      <td>6.8</td>\n",
       "      <td>фантастика,боевик,триллер</td>\n",
       "      <td>NaN</td>\n",
       "    </tr>\n",
       "    <tr>\n",
       "      <th>4</th>\n",
       "      <td>Особо опасен</td>\n",
       "      <td>221030815</td>\n",
       "      <td>2015-07-29T12:00:00.000Z</td>\n",
       "      <td>Художественный</td>\n",
       "      <td>Юниверсал Пикчерз, Кикстарт Продакшнз, Марк Пл...</td>\n",
       "      <td>США</td>\n",
       "      <td>Тимур Бекмамбетов</td>\n",
       "      <td>Джим Лемли, Джейсон Нетер, Марк Е.Платт, Яйн Смит</td>\n",
       "      <td>«18+» - запрещено для детей</td>\n",
       "      <td>NaN</td>\n",
       "      <td>NaN</td>\n",
       "      <td>NaN</td>\n",
       "      <td>NaN</td>\n",
       "      <td>6.8</td>\n",
       "      <td>фантастика,боевик,триллер</td>\n",
       "      <td>NaN</td>\n",
       "    </tr>\n",
       "  </tbody>\n",
       "</table>\n",
       "</div>"
      ],
      "text/plain": [
       "                  title   puNumber           show_start_date            type  \\\n",
       "0      Открытый простор  221048915  2015-11-27T12:00:00.000Z  Художественный   \n",
       "1  Особо важное задание  111013716  2016-09-13T12:00:00.000Z  Художественный   \n",
       "2          Особо опасен  221038416  2016-10-10T12:00:00.000Z  Художественный   \n",
       "3          Особо опасен  221026916  2016-06-10T12:00:00.000Z  Художественный   \n",
       "4          Особо опасен  221030815  2015-07-29T12:00:00.000Z  Художественный   \n",
       "\n",
       "                                         film_studio production_country  \\\n",
       "0  Тачстоун Пикчерз, Кобальт Пикчерз, Бикон Пикче...                США   \n",
       "1                              Киностудия \"Мосфильм\"               СССР   \n",
       "2  Юниверсал Пикчерз, Кикстарт Продакшнз, Марк Пл...                США   \n",
       "3  Юниверсал Пикчерз, Кикстарт Продакшнз, Марк Пл...                США   \n",
       "4  Юниверсал Пикчерз, Кикстарт Продакшнз, Марк Пл...                США   \n",
       "\n",
       "            director                                           producer  \\\n",
       "0      Кевин Костнер          Дэвид Валдес, Кевин Костнер, Джейк Эбертс   \n",
       "1          Е.Матвеев                                                NaN   \n",
       "2  Тимур Бекмамбетов  Джим Лемли, Джейсон Нетер, Марк Е.Платт, Яйн Смит   \n",
       "3  Тимур Бекмамбетов  Джим Лемли, Джейсон Нетер, Марк Е.Платт, Яйн Смит   \n",
       "4  Тимур Бекмамбетов  Джим Лемли, Джейсон Нетер, Марк Е.Платт, Яйн Смит   \n",
       "\n",
       "                 age_restriction  refundable_support  nonrefundable_support  \\\n",
       "0    «18+» - запрещено для детей                 NaN                    NaN   \n",
       "1  «6+» - для детей старше 6 лет                 NaN                    NaN   \n",
       "2    «18+» - запрещено для детей                 NaN                    NaN   \n",
       "3    «18+» - запрещено для детей                 NaN                    NaN   \n",
       "4    «18+» - запрещено для детей                 NaN                    NaN   \n",
       "\n",
       "   budget financing_source ratings                     genres  box_office  \n",
       "0     NaN              NaN     7.2     боевик,драма,мелодрама         NaN  \n",
       "1     NaN              NaN     6.6              драма,военный         NaN  \n",
       "2     NaN              NaN     6.8  фантастика,боевик,триллер         NaN  \n",
       "3     NaN              NaN     6.8  фантастика,боевик,триллер         NaN  \n",
       "4     NaN              NaN     6.8  фантастика,боевик,триллер         NaN  "
      ]
     },
     "execution_count": 9,
     "metadata": {},
     "output_type": "execute_result"
    }
   ],
   "source": [
    "films.head()"
   ]
  },
  {
   "cell_type": "code",
   "execution_count": 10,
   "metadata": {},
   "outputs": [
    {
     "data": {
      "text/html": [
       "<div>\n",
       "<style scoped>\n",
       "    .dataframe tbody tr th:only-of-type {\n",
       "        vertical-align: middle;\n",
       "    }\n",
       "\n",
       "    .dataframe tbody tr th {\n",
       "        vertical-align: top;\n",
       "    }\n",
       "\n",
       "    .dataframe thead th {\n",
       "        text-align: right;\n",
       "    }\n",
       "</style>\n",
       "<table border=\"1\" class=\"dataframe\">\n",
       "  <thead>\n",
       "    <tr style=\"text-align: right;\">\n",
       "      <th></th>\n",
       "      <th>puNumber</th>\n",
       "      <th>refundable_support</th>\n",
       "      <th>nonrefundable_support</th>\n",
       "      <th>budget</th>\n",
       "      <th>box_office</th>\n",
       "    </tr>\n",
       "  </thead>\n",
       "  <tbody>\n",
       "    <tr>\n",
       "      <th>count</th>\n",
       "      <td>7.485000e+03</td>\n",
       "      <td>3.320000e+02</td>\n",
       "      <td>3.320000e+02</td>\n",
       "      <td>3.320000e+02</td>\n",
       "      <td>3.158000e+03</td>\n",
       "    </tr>\n",
       "    <tr>\n",
       "      <th>mean</th>\n",
       "      <td>1.351966e+08</td>\n",
       "      <td>1.186446e+07</td>\n",
       "      <td>4.898099e+07</td>\n",
       "      <td>1.272297e+08</td>\n",
       "      <td>7.647870e+07</td>\n",
       "    </tr>\n",
       "    <tr>\n",
       "      <th>std</th>\n",
       "      <td>3.835292e+07</td>\n",
       "      <td>2.491656e+07</td>\n",
       "      <td>5.998012e+07</td>\n",
       "      <td>1.885883e+08</td>\n",
       "      <td>2.403531e+08</td>\n",
       "    </tr>\n",
       "    <tr>\n",
       "      <th>min</th>\n",
       "      <td>1.811096e+06</td>\n",
       "      <td>0.000000e+00</td>\n",
       "      <td>0.000000e+00</td>\n",
       "      <td>0.000000e+00</td>\n",
       "      <td>0.000000e+00</td>\n",
       "    </tr>\n",
       "    <tr>\n",
       "      <th>25%</th>\n",
       "      <td>1.120251e+08</td>\n",
       "      <td>0.000000e+00</td>\n",
       "      <td>2.500000e+07</td>\n",
       "      <td>4.200000e+07</td>\n",
       "      <td>8.623900e+04</td>\n",
       "    </tr>\n",
       "    <tr>\n",
       "      <th>50%</th>\n",
       "      <td>1.210155e+08</td>\n",
       "      <td>0.000000e+00</td>\n",
       "      <td>3.000000e+07</td>\n",
       "      <td>6.864992e+07</td>\n",
       "      <td>2.327988e+06</td>\n",
       "    </tr>\n",
       "    <tr>\n",
       "      <th>75%</th>\n",
       "      <td>1.240033e+08</td>\n",
       "      <td>1.500000e+07</td>\n",
       "      <td>4.037500e+07</td>\n",
       "      <td>1.419853e+08</td>\n",
       "      <td>2.397967e+07</td>\n",
       "    </tr>\n",
       "    <tr>\n",
       "      <th>max</th>\n",
       "      <td>2.310011e+08</td>\n",
       "      <td>1.800000e+08</td>\n",
       "      <td>4.000000e+08</td>\n",
       "      <td>2.305074e+09</td>\n",
       "      <td>3.073569e+09</td>\n",
       "    </tr>\n",
       "  </tbody>\n",
       "</table>\n",
       "</div>"
      ],
      "text/plain": [
       "           puNumber  refundable_support  nonrefundable_support        budget  \\\n",
       "count  7.485000e+03        3.320000e+02           3.320000e+02  3.320000e+02   \n",
       "mean   1.351966e+08        1.186446e+07           4.898099e+07  1.272297e+08   \n",
       "std    3.835292e+07        2.491656e+07           5.998012e+07  1.885883e+08   \n",
       "min    1.811096e+06        0.000000e+00           0.000000e+00  0.000000e+00   \n",
       "25%    1.120251e+08        0.000000e+00           2.500000e+07  4.200000e+07   \n",
       "50%    1.210155e+08        0.000000e+00           3.000000e+07  6.864992e+07   \n",
       "75%    1.240033e+08        1.500000e+07           4.037500e+07  1.419853e+08   \n",
       "max    2.310011e+08        1.800000e+08           4.000000e+08  2.305074e+09   \n",
       "\n",
       "         box_office  \n",
       "count  3.158000e+03  \n",
       "mean   7.647870e+07  \n",
       "std    2.403531e+08  \n",
       "min    0.000000e+00  \n",
       "25%    8.623900e+04  \n",
       "50%    2.327988e+06  \n",
       "75%    2.397967e+07  \n",
       "max    3.073569e+09  "
      ]
     },
     "execution_count": 10,
     "metadata": {},
     "output_type": "execute_result"
    }
   ],
   "source": [
    "films.describe()"
   ]
  },
  {
   "cell_type": "markdown",
   "metadata": {},
   "source": [
    "**Вывод:** получена общая информация о датафрейме `films`. Таблица содержит 7485 строк и 16 столбцов. Больше половины колонок имеют пропущенные значения. Их необходимо проанализировать и обработать. В датафрейме встречаются три типа данных: int64, float64 и object. Так же столбец `puNumber` содержит в названии и сторочные и прописные буквы - для удобства написания я приведу этот столбец к \"змеиному_регистру\" и к строчным буквам в названии."
   ]
  },
  {
   "cell_type": "markdown",
   "metadata": {
    "id": "KLDGpPG0gFyM"
   },
   "source": [
    "## Предобработка данных"
   ]
  },
  {
   "cell_type": "markdown",
   "metadata": {},
   "source": [
    "Первичная обработка датафрейма начинается с переименования столбцов, изменения типов данных, обработки пропущенных значений, поиска явных и неявных дубликатов."
   ]
  },
  {
   "cell_type": "markdown",
   "metadata": {},
   "source": [
    "### Переименование столбцов"
   ]
  },
  {
   "cell_type": "code",
   "execution_count": 11,
   "metadata": {},
   "outputs": [],
   "source": [
    "films = films.rename(columns={'puNumber': 'pu_number'})"
   ]
  },
  {
   "cell_type": "markdown",
   "metadata": {
    "id": "ssWwKXsxgFyO"
   },
   "source": [
    "### Преобразование типов данных"
   ]
  },
  {
   "cell_type": "markdown",
   "metadata": {},
   "source": [
    "Преобразую тип столбца `show_start_date` к формату datetime:"
   ]
  },
  {
   "cell_type": "code",
   "execution_count": 12,
   "metadata": {},
   "outputs": [],
   "source": [
    "films['show_start_date'] = pd.to_datetime(films['show_start_date'])"
   ]
  },
  {
   "cell_type": "markdown",
   "metadata": {},
   "source": [
    "Данные столбца `ratings` имеют тип данных object. Выведу уникальные названия, чтобы посмотреть, какие там значения:"
   ]
  },
  {
   "cell_type": "code",
   "execution_count": 13,
   "metadata": {},
   "outputs": [
    {
     "data": {
      "text/plain": [
       "array(['7.2', '6.6', '6.8', '7.7', '8.3', '8.0', '7.8', '8.1', '7.1',\n",
       "       '6.0', '7.4', '5.8', '8.7', '6.3', '6.9', '5.0', '4.3', '7.3',\n",
       "       '7.0', '6.4', nan, '8.2', '7.5', '6.7', '7.9', '5.9', '6.2', '5.6',\n",
       "       '6.5', '2.4', '7.6', '6.1', '8.6', '8.5', '8.8', '5.5', '5.1',\n",
       "       '5.7', '5.4', '99%', '4.4', '4.5', '5.3', '4.1', '8.4', '2.6',\n",
       "       '3.8', '4.6', '4.8', '4.0', '3.0', '1.6', '4.2', '5.2', '4.7',\n",
       "       '4.9', '3.9', '2.7', '3.3', '2.9', '28%', '3.7', '1.4', '3.1',\n",
       "       '97%', '3.5', '3.2', '2.8', '1.5', '2.1', '2.5', '9.2', '3.4',\n",
       "       '1.1', '3.6', '83%', '64%', '91%', '94%', '62%', '79%', '90%',\n",
       "       '19%', '88%', '1.0', '89%', '1.3', '1.9', '1.8', '1.2', '1.7',\n",
       "       '9.0', '98%', '8.9', '9.1'], dtype=object)"
      ]
     },
     "execution_count": 13,
     "metadata": {},
     "output_type": "execute_result"
    }
   ],
   "source": [
    "films['ratings'].unique()"
   ]
  },
  {
   "cell_type": "markdown",
   "metadata": {},
   "source": [
    "Есть значения рейтингов, которые указаны в процентах, на КиноПоиске это рейтинг ожидания, а он обычно ниже, чем обычный. Поэтому заменю их на пропуски через coerce."
   ]
  },
  {
   "cell_type": "code",
   "execution_count": 14,
   "metadata": {},
   "outputs": [],
   "source": [
    "films['ratings'] = pd.to_numeric(films['ratings'], errors='coerce')"
   ]
  },
  {
   "cell_type": "code",
   "execution_count": 15,
   "metadata": {},
   "outputs": [
    {
     "data": {
      "text/plain": [
       "array([7.2, 6.6, 6.8, 7.7, 8.3, 8. , 7.8, 8.1, 7.1, 6. , 7.4, 5.8, 8.7,\n",
       "       6.3, 6.9, 5. , 4.3, 7.3, 7. , 6.4, nan, 8.2, 7.5, 6.7, 7.9, 5.9,\n",
       "       6.2, 5.6, 6.5, 2.4, 7.6, 6.1, 8.6, 8.5, 8.8, 5.5, 5.1, 5.7, 5.4,\n",
       "       4.4, 4.5, 5.3, 4.1, 8.4, 2.6, 3.8, 4.6, 4.8, 4. , 3. , 1.6, 4.2,\n",
       "       5.2, 4.7, 4.9, 3.9, 2.7, 3.3, 2.9, 3.7, 1.4, 3.1, 3.5, 3.2, 2.8,\n",
       "       1.5, 2.1, 2.5, 9.2, 3.4, 1.1, 3.6, 1. , 1.3, 1.9, 1.8, 1.2, 1.7,\n",
       "       9. , 8.9, 9.1])"
      ]
     },
     "execution_count": 15,
     "metadata": {},
     "output_type": "execute_result"
    }
   ],
   "source": [
    "films['ratings'].unique()"
   ]
  },
  {
   "cell_type": "markdown",
   "metadata": {},
   "source": [
    "В столбцах `refundable_support`, `nonrefundable_support`, `budget`, `box_office` для удобства восприятия избавлюсь от е-формата и приведу значения к млн.руб."
   ]
  },
  {
   "cell_type": "code",
   "execution_count": 16,
   "metadata": {},
   "outputs": [],
   "source": [
    "films[\n",
    "    ['refundable_support', 'nonrefundable_support', 'budget', 'box_office']\n",
    "] = films[\n",
    "    ['refundable_support', 'nonrefundable_support', 'budget', 'box_office']] / 1000000"
   ]
  },
  {
   "cell_type": "markdown",
   "metadata": {
    "id": "i0MOLbF-gFyP"
   },
   "source": [
    "### Обработка пропущенных значений"
   ]
  },
  {
   "cell_type": "markdown",
   "metadata": {},
   "source": [
    "Чтобы увидеть количество пропущенных значений в каждом столбце применю метод isna() в сочетании с sum()."
   ]
  },
  {
   "cell_type": "code",
   "execution_count": 17,
   "metadata": {
    "id": "8MJD_lkngFyP"
   },
   "outputs": [
    {
     "data": {
      "text/plain": [
       "title                       0\n",
       "pu_number                   0\n",
       "show_start_date             0\n",
       "type                        0\n",
       "film_studio                18\n",
       "production_country          2\n",
       "director                    9\n",
       "producer                  568\n",
       "age_restriction             0\n",
       "refundable_support       7153\n",
       "nonrefundable_support    7153\n",
       "budget                   7153\n",
       "financing_source         7153\n",
       "ratings                   995\n",
       "genres                    975\n",
       "box_office               4327\n",
       "dtype: int64"
      ]
     },
     "execution_count": 17,
     "metadata": {},
     "output_type": "execute_result"
    }
   ],
   "source": [
    "films.isna().sum()"
   ]
  },
  {
   "cell_type": "markdown",
   "metadata": {},
   "source": [
    "Столбцы `film_studio`, `production_country` и `director` имеют небольшое количество пропущенных строк - в сумме 29. Это 0,39% от всех данных. Я принимаю решение удалить пропуски в этих колонках."
   ]
  },
  {
   "cell_type": "code",
   "execution_count": 18,
   "metadata": {
    "id": "aKck8RIdgFyQ"
   },
   "outputs": [],
   "source": [
    "films = films.dropna(subset=['film_studio', 'production_country', 'director'])"
   ]
  },
  {
   "cell_type": "markdown",
   "metadata": {},
   "source": [
    "Данные в колонках `refundable_support`, `nonrefundable_support`, `budget` и `financing_source` заполнены только для тех фильмов, которые получили государственную поддержку, и как видно по сумме пропусков, для большинства фильмов гос.поддержки не было.\n",
    "\n",
    "Фильмы с государственной поддержкой будут исследованы отдельно, поэтому пропущенные значения в этих столбцах удалять нельзя."
   ]
  },
  {
   "cell_type": "markdown",
   "metadata": {},
   "source": [
    "В столбце `producer` содержится 568 пропусков. Из сторонних источников я узнала, что в СССР такой профессии как продюсер не существовало, она называлась иначе - директор фильма. Возможно, отсюда и могли возникнуть пропуски в данном столбце. "
   ]
  },
  {
   "cell_type": "markdown",
   "metadata": {},
   "source": [
    "Столбцы `ratings` и `genres` содержат пропущенные значения, поскольку эти данные важны для исследования, удалять их нецелесообразно."
   ]
  },
  {
   "cell_type": "markdown",
   "metadata": {},
   "source": [
    "Столбец `box_office` отражает информацию о сборах денежных средств в кинотеатрах, пропуски в этом столбце означают, что не для всех фильмов есть информация о прокатных сборах."
   ]
  },
  {
   "cell_type": "markdown",
   "metadata": {
    "id": "4c6k1t9ygFyQ"
   },
   "source": [
    "### Изучение дубликатов"
   ]
  },
  {
   "cell_type": "markdown",
   "metadata": {},
   "source": [
    "На наличие дубликатов буду проверять категориальный столбец `title`, в котором содержатся названия фильмов. При вызове первых пяти строк я заметила, что встречаются три строки с одинаковым названием фильма \"Особо опасен\". Отличие только в номере прокатного удостоверия и дате премьеры. Так как вся информация о фильме (режиссер, продюсер, студия-производитель, страна и тд) одинаковая, я решила изучить вопрос о прокатном удостоверении фильмов: https://ru.wikipedia.org/wiki/Прокатное_удостоверение \n",
    "\n",
    "Прокатное удостоверение выдается на каждую демонстрацию фильма, то есть для показа в кинотеатре и показа на телевидении нужно получать новый прокатный номер - и из-за этого на один и тот же фильм может быть несколько номеров. Отсюда и получаются дублирующиеся названия фильмов.\n",
    "\n",
    "На официальном сайте Министерства культуры можно получить всю информацию о фильме: https://culture.gov.ru/services/reestr-prokatnykh-udostovereniy/435345/"
   ]
  },
  {
   "cell_type": "markdown",
   "metadata": {},
   "source": [
    "Проверю столбец `title` на наличие дубликатов:"
   ]
  },
  {
   "cell_type": "code",
   "execution_count": 19,
   "metadata": {},
   "outputs": [
    {
     "data": {
      "text/plain": [
       "713"
      ]
     },
     "execution_count": 19,
     "metadata": {},
     "output_type": "execute_result"
    }
   ],
   "source": [
    "films['title'].duplicated().sum()"
   ]
  },
  {
   "cell_type": "markdown",
   "metadata": {},
   "source": [
    "Однако, у разных кинофильмов могут совпадать названия, при том, что страна-производитель и режиссер разные. В таком случае, дубликаты нужно устранять с учетом нескольких параметров, в данном случае название фильма, режиссер, бюджет и сборы."
   ]
  },
  {
   "cell_type": "code",
   "execution_count": 20,
   "metadata": {},
   "outputs": [
    {
     "data": {
      "text/html": [
       "<div>\n",
       "<style scoped>\n",
       "    .dataframe tbody tr th:only-of-type {\n",
       "        vertical-align: middle;\n",
       "    }\n",
       "\n",
       "    .dataframe tbody tr th {\n",
       "        vertical-align: top;\n",
       "    }\n",
       "\n",
       "    .dataframe thead th {\n",
       "        text-align: right;\n",
       "    }\n",
       "</style>\n",
       "<table border=\"1\" class=\"dataframe\">\n",
       "  <thead>\n",
       "    <tr style=\"text-align: right;\">\n",
       "      <th></th>\n",
       "      <th>title</th>\n",
       "      <th>director</th>\n",
       "      <th>budget</th>\n",
       "      <th>box_office</th>\n",
       "    </tr>\n",
       "  </thead>\n",
       "  <tbody>\n",
       "    <tr>\n",
       "      <th>0</th>\n",
       "      <td>Открытый простор</td>\n",
       "      <td>Кевин Костнер</td>\n",
       "      <td>NaN</td>\n",
       "      <td>NaN</td>\n",
       "    </tr>\n",
       "    <tr>\n",
       "      <th>1</th>\n",
       "      <td>Особо важное задание</td>\n",
       "      <td>Е.Матвеев</td>\n",
       "      <td>NaN</td>\n",
       "      <td>NaN</td>\n",
       "    </tr>\n",
       "    <tr>\n",
       "      <th>2</th>\n",
       "      <td>Особо опасен</td>\n",
       "      <td>Тимур Бекмамбетов</td>\n",
       "      <td>NaN</td>\n",
       "      <td>NaN</td>\n",
       "    </tr>\n",
       "    <tr>\n",
       "      <th>3</th>\n",
       "      <td>Особо опасен</td>\n",
       "      <td>Тимур Бекмамбетов</td>\n",
       "      <td>NaN</td>\n",
       "      <td>NaN</td>\n",
       "    </tr>\n",
       "    <tr>\n",
       "      <th>4</th>\n",
       "      <td>Особо опасен</td>\n",
       "      <td>Тимур Бекмамбетов</td>\n",
       "      <td>NaN</td>\n",
       "      <td>NaN</td>\n",
       "    </tr>\n",
       "  </tbody>\n",
       "</table>\n",
       "</div>"
      ],
      "text/plain": [
       "                  title           director  budget  box_office\n",
       "0      Открытый простор      Кевин Костнер     NaN         NaN\n",
       "1  Особо важное задание          Е.Матвеев     NaN         NaN\n",
       "2          Особо опасен  Тимур Бекмамбетов     NaN         NaN\n",
       "3          Особо опасен  Тимур Бекмамбетов     NaN         NaN\n",
       "4          Особо опасен  Тимур Бекмамбетов     NaN         NaN"
      ]
     },
     "execution_count": 20,
     "metadata": {},
     "output_type": "execute_result"
    }
   ],
   "source": [
    "films_info = films[['title', 'director', 'budget', 'box_office']]\n",
    "films_info.head()"
   ]
  },
  {
   "cell_type": "markdown",
   "metadata": {},
   "source": [
    "Проверю, сколько реальных дублей фильмов содержатся в исходных данных:"
   ]
  },
  {
   "cell_type": "code",
   "execution_count": 21,
   "metadata": {},
   "outputs": [
    {
     "data": {
      "text/plain": [
       "493"
      ]
     },
     "execution_count": 21,
     "metadata": {},
     "output_type": "execute_result"
    }
   ],
   "source": [
    "films_info.duplicated().sum()"
   ]
  },
  {
   "cell_type": "markdown",
   "metadata": {},
   "source": [
    "Удалю такие дубликаты:"
   ]
  },
  {
   "cell_type": "code",
   "execution_count": 22,
   "metadata": {},
   "outputs": [
    {
     "name": "stdout",
     "output_type": "stream",
     "text": [
      "<class 'pandas.core.frame.DataFrame'>\n",
      "Int64Index: 6965 entries, 0 to 7484\n",
      "Data columns (total 4 columns):\n",
      " #   Column      Non-Null Count  Dtype  \n",
      "---  ------      --------------  -----  \n",
      " 0   title       6965 non-null   object \n",
      " 1   director    6965 non-null   object \n",
      " 2   budget      332 non-null    float64\n",
      " 3   box_office  3155 non-null   float64\n",
      "dtypes: float64(2), object(2)\n",
      "memory usage: 272.1+ KB\n"
     ]
    }
   ],
   "source": [
    "films_info = films_info.drop_duplicates(keep='last')\n",
    "films_info.info()"
   ]
  },
  {
   "cell_type": "markdown",
   "metadata": {},
   "source": [
    "Уберу дубликаты из исходной таблицы:"
   ]
  },
  {
   "cell_type": "code",
   "execution_count": 23,
   "metadata": {},
   "outputs": [],
   "source": [
    "films = films.query('index in @films_info.index').reset_index(drop=True)"
   ]
  },
  {
   "cell_type": "markdown",
   "metadata": {},
   "source": [
    "Проверю, остались ли дубликаты по названию фильма:"
   ]
  },
  {
   "cell_type": "code",
   "execution_count": 24,
   "metadata": {},
   "outputs": [
    {
     "data": {
      "text/plain": [
       "220"
      ]
     },
     "execution_count": 24,
     "metadata": {},
     "output_type": "execute_result"
    }
   ],
   "source": [
    "films['title'].duplicated().sum()"
   ]
  },
  {
   "cell_type": "markdown",
   "metadata": {},
   "source": [
    "Проверю, что оставшиеся дубликаты - это разные фильмы с одинаковыми названиями:"
   ]
  },
  {
   "cell_type": "code",
   "execution_count": 25,
   "metadata": {
    "scrolled": false
   },
   "outputs": [
    {
     "data": {
      "text/html": [
       "<div>\n",
       "<style scoped>\n",
       "    .dataframe tbody tr th:only-of-type {\n",
       "        vertical-align: middle;\n",
       "    }\n",
       "\n",
       "    .dataframe tbody tr th {\n",
       "        vertical-align: top;\n",
       "    }\n",
       "\n",
       "    .dataframe thead th {\n",
       "        text-align: right;\n",
       "    }\n",
       "</style>\n",
       "<table border=\"1\" class=\"dataframe\">\n",
       "  <thead>\n",
       "    <tr style=\"text-align: right;\">\n",
       "      <th></th>\n",
       "      <th>title</th>\n",
       "      <th>pu_number</th>\n",
       "      <th>show_start_date</th>\n",
       "      <th>type</th>\n",
       "      <th>film_studio</th>\n",
       "      <th>production_country</th>\n",
       "      <th>director</th>\n",
       "      <th>producer</th>\n",
       "      <th>age_restriction</th>\n",
       "      <th>refundable_support</th>\n",
       "      <th>nonrefundable_support</th>\n",
       "      <th>budget</th>\n",
       "      <th>financing_source</th>\n",
       "      <th>ratings</th>\n",
       "      <th>genres</th>\n",
       "      <th>box_office</th>\n",
       "    </tr>\n",
       "  </thead>\n",
       "  <tbody>\n",
       "    <tr>\n",
       "      <th>2867</th>\n",
       "      <td>13 часов: Тайные солдаты Бенгази</td>\n",
       "      <td>221019616</td>\n",
       "      <td>2016-04-19 12:00:00+00:00</td>\n",
       "      <td>Художественный</td>\n",
       "      <td>Парамаунт, Дан Филмз, Латина Пикчарз,3 Арт Инт...</td>\n",
       "      <td>США</td>\n",
       "      <td>Майкл Бэй</td>\n",
       "      <td>Майкл Бэй, Эрвин Стофф</td>\n",
       "      <td>«18+» - запрещено для детей</td>\n",
       "      <td>NaN</td>\n",
       "      <td>NaN</td>\n",
       "      <td>NaN</td>\n",
       "      <td>NaN</td>\n",
       "      <td>6.7</td>\n",
       "      <td>боевик,триллер,драма</td>\n",
       "      <td>NaN</td>\n",
       "    </tr>\n",
       "    <tr>\n",
       "      <th>2868</th>\n",
       "      <td>13 часов: Тайные солдаты Бенгази</td>\n",
       "      <td>121001016</td>\n",
       "      <td>2016-01-15 12:00:00+00:00</td>\n",
       "      <td>Художественный</td>\n",
       "      <td>Парамаунт, Дан Филмз, Латина Пикчарз,3 Арт Инт...</td>\n",
       "      <td>США</td>\n",
       "      <td>Майкл Бэй</td>\n",
       "      <td>Майкл Бэй, Эрвин Стофф</td>\n",
       "      <td>«18+» - запрещено для детей</td>\n",
       "      <td>NaN</td>\n",
       "      <td>NaN</td>\n",
       "      <td>NaN</td>\n",
       "      <td>NaN</td>\n",
       "      <td>6.7</td>\n",
       "      <td>боевик,триллер,драма</td>\n",
       "      <td>18.439241</td>\n",
       "    </tr>\n",
       "    <tr>\n",
       "      <th>1296</th>\n",
       "      <td>13-й район: Кирпичные особняки</td>\n",
       "      <td>221033314</td>\n",
       "      <td>2014-08-20 12:00:00+00:00</td>\n",
       "      <td>Художественный</td>\n",
       "      <td>Брик Мэншэнс Продакшнз,Синэ+ Канал+, Д8, Европ...</td>\n",
       "      <td>Франция-Канада</td>\n",
       "      <td>Камиль Деламарр</td>\n",
       "      <td>Люк Бессон, Клод Леже, Джонатан Вэнджер</td>\n",
       "      <td>«16+» - для детей старше 16 лет</td>\n",
       "      <td>NaN</td>\n",
       "      <td>NaN</td>\n",
       "      <td>NaN</td>\n",
       "      <td>NaN</td>\n",
       "      <td>5.5</td>\n",
       "      <td>боевик,криминал</td>\n",
       "      <td>NaN</td>\n",
       "    </tr>\n",
       "    <tr>\n",
       "      <th>1297</th>\n",
       "      <td>13-й район: Кирпичные особняки</td>\n",
       "      <td>121008314</td>\n",
       "      <td>2014-04-25 12:00:00+00:00</td>\n",
       "      <td>Художественный</td>\n",
       "      <td>Брик Мэншэнс Продакшнз,Синэ+ Канал+, Д8, Европ...</td>\n",
       "      <td>Франция-Канада</td>\n",
       "      <td>Камиль Деламарр</td>\n",
       "      <td>Люк Бессон, Клод Леже, Джонатан Вэнджер</td>\n",
       "      <td>«16+» - для детей старше 16 лет</td>\n",
       "      <td>NaN</td>\n",
       "      <td>NaN</td>\n",
       "      <td>NaN</td>\n",
       "      <td>NaN</td>\n",
       "      <td>5.5</td>\n",
       "      <td>боевик,криминал</td>\n",
       "      <td>0.000750</td>\n",
       "    </tr>\n",
       "    <tr>\n",
       "      <th>3618</th>\n",
       "      <td>Аватар_</td>\n",
       "      <td>121008910</td>\n",
       "      <td>2010-05-12 12:00:00+00:00</td>\n",
       "      <td>Художественный</td>\n",
       "      <td>ХХ век Фокс, Дан Интертейнмент, Гиант Студиос,...</td>\n",
       "      <td>США</td>\n",
       "      <td>Джеймс Кэмерон</td>\n",
       "      <td>Брук Бретон, Джеймс Кэмерон, Джон Лондау</td>\n",
       "      <td>«16+» - для детей старше 16 лет</td>\n",
       "      <td>NaN</td>\n",
       "      <td>NaN</td>\n",
       "      <td>NaN</td>\n",
       "      <td>NaN</td>\n",
       "      <td>7.9</td>\n",
       "      <td>фантастика,боевик,драма</td>\n",
       "      <td>0.006950</td>\n",
       "    </tr>\n",
       "  </tbody>\n",
       "</table>\n",
       "</div>"
      ],
      "text/plain": [
       "                                 title  pu_number           show_start_date  \\\n",
       "2867  13 часов: Тайные солдаты Бенгази  221019616 2016-04-19 12:00:00+00:00   \n",
       "2868  13 часов: Тайные солдаты Бенгази  121001016 2016-01-15 12:00:00+00:00   \n",
       "1296    13-й район: Кирпичные особняки  221033314 2014-08-20 12:00:00+00:00   \n",
       "1297    13-й район: Кирпичные особняки  121008314 2014-04-25 12:00:00+00:00   \n",
       "3618                           Аватар_  121008910 2010-05-12 12:00:00+00:00   \n",
       "\n",
       "                type                                        film_studio  \\\n",
       "2867  Художественный  Парамаунт, Дан Филмз, Латина Пикчарз,3 Арт Инт...   \n",
       "2868  Художественный  Парамаунт, Дан Филмз, Латина Пикчарз,3 Арт Инт...   \n",
       "1296  Художественный  Брик Мэншэнс Продакшнз,Синэ+ Канал+, Д8, Европ...   \n",
       "1297  Художественный  Брик Мэншэнс Продакшнз,Синэ+ Канал+, Д8, Европ...   \n",
       "3618  Художественный  ХХ век Фокс, Дан Интертейнмент, Гиант Студиос,...   \n",
       "\n",
       "     production_country         director  \\\n",
       "2867                США        Майкл Бэй   \n",
       "2868                США        Майкл Бэй   \n",
       "1296     Франция-Канада  Камиль Деламарр   \n",
       "1297     Франция-Канада  Камиль Деламарр   \n",
       "3618                США   Джеймс Кэмерон   \n",
       "\n",
       "                                      producer  \\\n",
       "2867                    Майкл Бэй, Эрвин Стофф   \n",
       "2868                    Майкл Бэй, Эрвин Стофф   \n",
       "1296   Люк Бессон, Клод Леже, Джонатан Вэнджер   \n",
       "1297   Люк Бессон, Клод Леже, Джонатан Вэнджер   \n",
       "3618  Брук Бретон, Джеймс Кэмерон, Джон Лондау   \n",
       "\n",
       "                      age_restriction  refundable_support  \\\n",
       "2867      «18+» - запрещено для детей                 NaN   \n",
       "2868      «18+» - запрещено для детей                 NaN   \n",
       "1296  «16+» - для детей старше 16 лет                 NaN   \n",
       "1297  «16+» - для детей старше 16 лет                 NaN   \n",
       "3618  «16+» - для детей старше 16 лет                 NaN   \n",
       "\n",
       "      nonrefundable_support  budget financing_source  ratings  \\\n",
       "2867                    NaN     NaN              NaN      6.7   \n",
       "2868                    NaN     NaN              NaN      6.7   \n",
       "1296                    NaN     NaN              NaN      5.5   \n",
       "1297                    NaN     NaN              NaN      5.5   \n",
       "3618                    NaN     NaN              NaN      7.9   \n",
       "\n",
       "                       genres  box_office  \n",
       "2867     боевик,триллер,драма         NaN  \n",
       "2868     боевик,триллер,драма   18.439241  \n",
       "1296          боевик,криминал         NaN  \n",
       "1297          боевик,криминал    0.000750  \n",
       "3618  фантастика,боевик,драма    0.006950  "
      ]
     },
     "execution_count": 25,
     "metadata": {},
     "output_type": "execute_result"
    }
   ],
   "source": [
    "films[films['title'].duplicated(keep=False)].sort_values(by='title').head()"
   ]
  },
  {
   "cell_type": "markdown",
   "metadata": {
    "id": "52fOPrEBgFyQ"
   },
   "source": [
    "### Обработка категориальных значений"
   ]
  },
  {
   "cell_type": "markdown",
   "metadata": {
    "id": "PnXKIVdFgFyR"
   },
   "source": [
    "Почти во всех категориальных столбцах встречается не единстенное описание информации о фильме, а именно:\n",
    "\n",
    "- в столбце `production_country` в качестве студии-производителя указано несколько названий, что означает, что над фильмом работали несколько студий; \n",
    "- в столбцах `director` и `producer` во многих строках перечислены два и более человека, участвовавших в создании фильма; \n",
    "- в столбце `production_country` встречаются несколько стран, где был снят фильм; \n",
    "- в столбце `genres` указан не только основной жанр фильма, но и так же причастные жанры; \n",
    "- в столбце `financing_source` есть строки с несколькими источниками финансирования."
   ]
  },
  {
   "cell_type": "markdown",
   "metadata": {},
   "source": [
    "Проверю категориальный столбец `type` на наличие уникальных значений:"
   ]
  },
  {
   "cell_type": "code",
   "execution_count": 26,
   "metadata": {},
   "outputs": [
    {
     "data": {
      "text/plain": [
       "array(['Художественный', 'Анимационный', 'Прочие', 'Документальный',\n",
       "       'Научно-популярный', ' Художественный', ' Анимационный',\n",
       "       'Музыкально-развлекательный'], dtype=object)"
      ]
     },
     "execution_count": 26,
     "metadata": {},
     "output_type": "execute_result"
    }
   ],
   "source": [
    "films['type'].unique()"
   ]
  },
  {
   "cell_type": "markdown",
   "metadata": {},
   "source": [
    "Видно, что встречаются названия с лишним пробелом в начале, из-за чего некоторые типы фильмов дублируются. Методом str.strip() избавлюсь от некорректно заполненных значений."
   ]
  },
  {
   "cell_type": "code",
   "execution_count": 27,
   "metadata": {},
   "outputs": [],
   "source": [
    "films['type'] = films['type'].str.strip()"
   ]
  },
  {
   "cell_type": "markdown",
   "metadata": {},
   "source": [
    "Чтобы сократить название возрастного ограничения в колонке `age_restriction`, использую регулярное выражение:"
   ]
  },
  {
   "cell_type": "code",
   "execution_count": 28,
   "metadata": {},
   "outputs": [],
   "source": [
    "films['age_restriction'] = films['age_restriction'].str.extract(r'(\\d+\\+)')"
   ]
  },
  {
   "cell_type": "markdown",
   "metadata": {
    "id": "XFSN5lrEgFyR"
   },
   "source": [
    "### Обработка количественных значений"
   ]
  },
  {
   "cell_type": "markdown",
   "metadata": {},
   "source": [
    "Когда я начала исследовать колонку с бюджетом, то обнаружила следующее: непустые строки с бюджетом встречаются в 332 строках - именно столько фильмов получили государственную поддержку, и ожидалось, что они должны быть заполнены значениями больше нуля. Но при проверке я увидела, что есть строки с нулевым значением. Это странно, поскольку изначальная иформация говорила о том, что данные в этом столбце указаны только для тех фильмов, которые получили государственную поддержку.\n",
    "\n",
    "С помощью среза query() проверю сколько строк содержат нули:"
   ]
  },
  {
   "cell_type": "code",
   "execution_count": 29,
   "metadata": {
    "id": "YbzClBxagFyS"
   },
   "outputs": [
    {
     "data": {
      "text/plain": [
       "17"
      ]
     },
     "execution_count": 29,
     "metadata": {},
     "output_type": "execute_result"
    }
   ],
   "source": [
    "len(films.query('budget == 0'))"
   ]
  },
  {
   "cell_type": "markdown",
   "metadata": {},
   "source": [
    "Заполню нулевые значения, используя коэффициент, который показывает во сколько раз бюджет превышает поддержку, умноженный на сумму поддержек."
   ]
  },
  {
   "cell_type": "code",
   "execution_count": 30,
   "metadata": {},
   "outputs": [],
   "source": [
    "films_budget = films.query('budget != 0')\n",
    "budget_ratio = films_budget['budget'] / (\n",
    "    films_budget['refundable_support'] + films_budget['nonrefundable_support']\n",
    ")"
   ]
  },
  {
   "cell_type": "code",
   "execution_count": 31,
   "metadata": {},
   "outputs": [
    {
     "data": {
      "text/plain": [
       "2.43"
      ]
     },
     "execution_count": 31,
     "metadata": {},
     "output_type": "execute_result"
    }
   ],
   "source": [
    "budget_ratio_mean = budget_ratio[budget_ratio.notna()].mean()\n",
    "round(budget_ratio_mean, 2)"
   ]
  },
  {
   "cell_type": "code",
   "execution_count": 32,
   "metadata": {},
   "outputs": [],
   "source": [
    "films['budget'] = films['budget'].where(\n",
    "    films['budget'] != 0, \n",
    "    (films['refundable_support'] + films['nonrefundable_support']) * budget_ratio_mean\n",
    ")"
   ]
  },
  {
   "cell_type": "code",
   "execution_count": 33,
   "metadata": {},
   "outputs": [
    {
     "data": {
      "text/plain": [
       "0"
      ]
     },
     "execution_count": 33,
     "metadata": {},
     "output_type": "execute_result"
    }
   ],
   "source": [
    "len(films.query('budget == 0'))"
   ]
  },
  {
   "cell_type": "markdown",
   "metadata": {
    "id": "Eu6oWp2CgFyS"
   },
   "source": [
    "### Добавление новых столбцов"
   ]
  },
  {
   "cell_type": "markdown",
   "metadata": {},
   "source": [
    "Создам столбец с информацией о годе проката и выделю год из даты премьеры фильма:"
   ]
  },
  {
   "cell_type": "code",
   "execution_count": 34,
   "metadata": {
    "id": "I-yd1DkWgFyT"
   },
   "outputs": [],
   "source": [
    "films['show_year'] = films['show_start_date'].dt.year"
   ]
  },
  {
   "cell_type": "markdown",
   "metadata": {},
   "source": [
    "Добавлю новые столбцы с именем и фамилией главного режиссёра, основным жанром фильма и главной студией:"
   ]
  },
  {
   "cell_type": "code",
   "execution_count": 35,
   "metadata": {},
   "outputs": [],
   "source": [
    "films['first_director'] = films['director'].str.split(',').str[0]"
   ]
  },
  {
   "cell_type": "code",
   "execution_count": 36,
   "metadata": {},
   "outputs": [],
   "source": [
    "films['first_genre'] = films['genres'].str.split(',').str[0]"
   ]
  },
  {
   "cell_type": "code",
   "execution_count": 37,
   "metadata": {},
   "outputs": [],
   "source": [
    "films['first_studio'] = films['film_studio'].str.split(',').str[0]"
   ]
  },
  {
   "cell_type": "markdown",
   "metadata": {
    "id": "1FsCXHwdgFyU"
   },
   "source": [
    "Посчитаю, какую долю от общего бюджета фильма составляет государственная поддержка:"
   ]
  },
  {
   "cell_type": "code",
   "execution_count": 38,
   "metadata": {
    "id": "LV6qFuZLgFyV"
   },
   "outputs": [],
   "source": [
    "films['budget_ratio'] = round(\n",
    "    (films['refundable_support'] + films['nonrefundable_support']) / films['budget'], 2\n",
    ")"
   ]
  },
  {
   "cell_type": "markdown",
   "metadata": {
    "id": "6t4EukPLgFyV"
   },
   "source": [
    "## Исследовательский анализ данных"
   ]
  },
  {
   "cell_type": "markdown",
   "metadata": {},
   "source": [
    "- чтобы изучить информацию о том, сколько выходило фильмов в прокат каждый год, сгруппирую данные и построю столбчатую диаграмму."
   ]
  },
  {
   "cell_type": "code",
   "execution_count": 39,
   "metadata": {},
   "outputs": [],
   "source": [
    "plt.rcParams['figure.figsize'] = [8, 8]\n",
    "sns.set_theme(style=\"whitegrid\")"
   ]
  },
  {
   "cell_type": "code",
   "execution_count": 40,
   "metadata": {
    "id": "tfEhofYvgFyX"
   },
   "outputs": [
    {
     "data": {
      "text/plain": [
       "Text(0.5, 1.0, 'number of films')"
      ]
     },
     "execution_count": 40,
     "metadata": {},
     "output_type": "execute_result"
    },
    {
     "data": {
      "image/png": "[encoded data removed]",
      "text/plain": [
       "<Figure size 576x576 with 1 Axes>"
      ]
     },
     "metadata": {},
     "output_type": "display_data"
    }
   ],
   "source": [
    "films.pivot_table(\n",
    "    index='show_year', values='title', aggfunc='count'\n",
    ").plot(kind='bar', grid=True, ylim=(0, 1000))\n",
    "plt.ylabel('number of films')\n",
    "plt.title('number of films')"
   ]
  },
  {
   "cell_type": "markdown",
   "metadata": {},
   "source": [
    "***Анализ графика:*** по данным столбчатого графика больше всего фильмов в прокат выходило в 2019-м году (чуть больше 900 фильмов), меньше всего фильмов - в 2017-м году (500 фильмов)."
   ]
  },
  {
   "cell_type": "markdown",
   "metadata": {},
   "source": [
    "- далее посмотрю, сколько фильмов выходило в прокат в кинотеатре (по данным о кассовых сборах)."
   ]
  },
  {
   "cell_type": "code",
   "execution_count": 41,
   "metadata": {},
   "outputs": [
    {
     "data": {
      "text/plain": [
       "Text(0.5, 1.0, 'number of films at the box office')"
      ]
     },
     "execution_count": 41,
     "metadata": {},
     "output_type": "execute_result"
    },
    {
     "data": {
      "image/png": "[encoded data removed]",
      "text/plain": [
       "<Figure size 576x576 with 1 Axes>"
      ]
     },
     "metadata": {},
     "output_type": "display_data"
    }
   ],
   "source": [
    "films.pivot_table(\n",
    "    index='show_year', values='box_office', aggfunc='count'\n",
    ").plot(kind='bar', grid=True, ylim=(0, 650))\n",
    "plt.ylabel('number of films')\n",
    "plt.title('number of films at the box office')"
   ]
  },
  {
   "cell_type": "markdown",
   "metadata": {},
   "source": [
    "***Анализ графика:*** с выходом фильмов в прокат в кинотеатре по годам, можно сказать, что с 2010 по 2016 года количество фильмов увеличивалось из года в год со 100 до 520 фильмов. Далее в 2017 году произошел резкий спад показа фильмов в кинотеатре до 350 фильмов. И к 2019 году количество фильмов возрасло примерно до 530."
   ]
  },
  {
   "cell_type": "markdown",
   "metadata": {},
   "source": [
    "- посчитаю какую долю составляют фильмы с информацией о прокате в кинотеатрах от общего количества фильмов, выходивших в прокат в каждом году."
   ]
  },
  {
   "cell_type": "code",
   "execution_count": 42,
   "metadata": {},
   "outputs": [
    {
     "data": {
      "text/plain": [
       "show_year\n",
       "2010    0.128834\n",
       "2011    0.194643\n",
       "2012    0.235185\n",
       "2013    0.306667\n",
       "2014    0.366142\n",
       "2015    0.696108\n",
       "2016    0.726141\n",
       "2017    0.714000\n",
       "2018    0.542334\n",
       "2019    0.574215\n",
       "dtype: float64"
      ]
     },
     "execution_count": 42,
     "metadata": {},
     "output_type": "execute_result"
    }
   ],
   "source": [
    "films.pivot_table(\n",
    "    index='show_year', values='box_office', aggfunc='count'\n",
    ")['box_office'] / films.pivot_table(\n",
    "    index='show_year', values='title', aggfunc='count'\n",
    ")['title']"
   ]
  },
  {
   "cell_type": "markdown",
   "metadata": {},
   "source": [
    "**Вывод:** с 2010 по 2014 года содержится мало информации о прокатных сборах (меньше 30%), поэтому их нельзя брать для дальнейшей оценки. Рассматривать можно только 2015-2019 года в дальнейшем исследовании сборов."
   ]
  },
  {
   "cell_type": "markdown",
   "metadata": {
    "id": "BEOdcIrIgFyW"
   },
   "source": [
    "- изучу как менялась динамика проката по годам. Построю график и посмотрю, в каком году была максимальная сумма сборов, а в каком минимальная."
   ]
  },
  {
   "cell_type": "code",
   "execution_count": 43,
   "metadata": {},
   "outputs": [],
   "source": [
    "films_after_2014 = films.query('show_year > 2014')"
   ]
  },
  {
   "cell_type": "code",
   "execution_count": 44,
   "metadata": {},
   "outputs": [
    {
     "data": {
      "text/plain": [
       "Text(0.5, 1.0, 'distribution of box office receipts by year')"
      ]
     },
     "execution_count": 44,
     "metadata": {},
     "output_type": "execute_result"
    },
    {
     "data": {
      "image/png": "[encoded data removed]",
      "text/plain": [
       "<Figure size 576x576 with 1 Axes>"
      ]
     },
     "metadata": {},
     "output_type": "display_data"
    }
   ],
   "source": [
    "films_after_2014.pivot_table(\n",
    "    index='show_year', values='box_office', aggfunc='sum'\n",
    ").plot(kind='bar', grid=True)\n",
    "plt.ylabel('box_office, mln rubles')\n",
    "plt.title('distribution of box office receipts by year')"
   ]
  },
  {
   "cell_type": "markdown",
   "metadata": {},
   "source": [
    "***Анализ графика:*** в 2015 году сборы были минимальные - 40 млрд.руб. С 2016 по 2019 года сборы держались в одном диапазоне - 48-49 млрд.руб., но все же максимальные сборы оказались в 2018 году - 50 млрд.руб."
   ]
  },
  {
   "cell_type": "markdown",
   "metadata": {
    "id": "G-7qS-N-gFyY"
   },
   "source": [
    "- с помощью сводной таблицы посчитаю среднюю и медианную сумму сборов для каждого года."
   ]
  },
  {
   "cell_type": "code",
   "execution_count": 45,
   "metadata": {
    "id": "jmp-rgg9gFyY"
   },
   "outputs": [
    {
     "data": {
      "text/html": [
       "<div>\n",
       "<style scoped>\n",
       "    .dataframe tbody tr th:only-of-type {\n",
       "        vertical-align: middle;\n",
       "    }\n",
       "\n",
       "    .dataframe tbody tr th {\n",
       "        vertical-align: top;\n",
       "    }\n",
       "\n",
       "    .dataframe thead tr th {\n",
       "        text-align: left;\n",
       "    }\n",
       "\n",
       "    .dataframe thead tr:last-of-type th {\n",
       "        text-align: right;\n",
       "    }\n",
       "</style>\n",
       "<table border=\"1\" class=\"dataframe\">\n",
       "  <thead>\n",
       "    <tr>\n",
       "      <th></th>\n",
       "      <th>mean</th>\n",
       "      <th>median</th>\n",
       "    </tr>\n",
       "    <tr>\n",
       "      <th></th>\n",
       "      <th>box_office</th>\n",
       "      <th>box_office</th>\n",
       "    </tr>\n",
       "    <tr>\n",
       "      <th>show_year</th>\n",
       "      <th></th>\n",
       "      <th></th>\n",
       "    </tr>\n",
       "  </thead>\n",
       "  <tbody>\n",
       "    <tr>\n",
       "      <th>2015</th>\n",
       "      <td>84.940570</td>\n",
       "      <td>4.920933</td>\n",
       "    </tr>\n",
       "    <tr>\n",
       "      <th>2016</th>\n",
       "      <td>91.173534</td>\n",
       "      <td>3.915041</td>\n",
       "    </tr>\n",
       "    <tr>\n",
       "      <th>2017</th>\n",
       "      <td>136.032793</td>\n",
       "      <td>9.968340</td>\n",
       "    </tr>\n",
       "    <tr>\n",
       "      <th>2018</th>\n",
       "      <td>104.785574</td>\n",
       "      <td>8.911534</td>\n",
       "    </tr>\n",
       "    <tr>\n",
       "      <th>2019</th>\n",
       "      <td>91.369262</td>\n",
       "      <td>4.627798</td>\n",
       "    </tr>\n",
       "  </tbody>\n",
       "</table>\n",
       "</div>"
      ],
      "text/plain": [
       "                 mean     median\n",
       "           box_office box_office\n",
       "show_year                       \n",
       "2015        84.940570   4.920933\n",
       "2016        91.173534   3.915041\n",
       "2017       136.032793   9.968340\n",
       "2018       104.785574   8.911534\n",
       "2019        91.369262   4.627798"
      ]
     },
     "execution_count": 45,
     "metadata": {},
     "output_type": "execute_result"
    }
   ],
   "source": [
    "films_after_2014.query('box_office.notna()').pivot_table(\n",
    "    index='show_year', values='box_office', aggfunc=['mean', 'median']\n",
    ")"
   ]
  },
  {
   "cell_type": "markdown",
   "metadata": {
    "id": "Ok89WFwJgFyZ"
   },
   "source": [
    "- определю, влияет ли возрастное ограничение аудитории на сборы фильма в прокате в период с 2015 по 2019 год."
   ]
  },
  {
   "cell_type": "code",
   "execution_count": 46,
   "metadata": {},
   "outputs": [
    {
     "data": {
      "text/plain": [
       "Text(0, 0.5, 'box_office, mln rubles')"
      ]
     },
     "execution_count": 46,
     "metadata": {},
     "output_type": "execute_result"
    },
    {
     "data": {
      "image/png": "[encoded data removed]",
      "text/plain": [
       "<Figure size 648x504 with 1 Axes>"
      ]
     },
     "metadata": {},
     "output_type": "display_data"
    }
   ],
   "source": [
    "films_after_2014.pivot_table(\n",
    "    index='show_year', columns='age_restriction', values=['box_office'], aggfunc='sum'\n",
    ").plot(kind='bar', grid=True, figsize=(9,7))\n",
    "plt.ylabel('box_office, mln rubles')"
   ]
  },
  {
   "cell_type": "markdown",
   "metadata": {},
   "source": [
    "По данным столбчатой диаграммы можно сделать следующий **вывод:**\n",
    "\n",
    "- в 2015 году больше всего денежных средств в прокате собрали фильмы с возрастным ограничением \"12+\" - почти 14 млрд.рублей;\n",
    "- в 2016 году картина изменилась: на первое место по сборам вышли фильмы с возрастным ограничением \"16+\" - они собрали 16 млрд. рублей:\n",
    "- в 2017 году также по сборам лидируют фильмы с возрастным ограничением \"16+\", только уже с суммой сборов ~ 18,5 млрд.рублей;\n",
    "- в 2018 году ситуация следующая: фильмы с возрастным ограничением \"12+\" и \"16+\" собрали почти одиннаковую сумму сборов, но все же фильмы с ограниченим \"16+\" немного больше - 16 млрд.рублей. В сравнении с прошлым годом наблюдается спад по сборам в этой группе по возрастному ограничению. Тогда как фильмы с \"12+\" принесли в два раза больше сборов по сравению с 2017 годом.\n",
    "- в 2019 году три группы с возрастным ограничением \"6+\", \"12+\", \"16+\" собрали равные денежные средства в прокате - 13 млрд.руб.\n",
    "\n",
    "Группа с ограничем \"0+\" с годами перестала приносить значительные сборы и к 2018 году цифры приблизились к нулю. Категория фильмов \"18+\" включает в себя специфические жанры - ужасы, психологические триллеры, фильмы, содержащие сцены насилия и тд, и поэтому эта категория отсекает большое число зрителей.\n",
    "\n",
    "Таким образом, начиная с 2016 года фильмы с ограничением \"16+\" приносили наибольший доход в сравнении с остальными группами. Можно предположить, что в эту категорию попадают самые распрастраненные жанры фильмов, которые интресны большей части аудитории."
   ]
  },
  {
   "cell_type": "markdown",
   "metadata": {},
   "source": [
    "- посмотрю, какую общую сумму сборов принесли фильмы в прокате в каждом анализируемом году."
   ]
  },
  {
   "cell_type": "code",
   "execution_count": 47,
   "metadata": {},
   "outputs": [
    {
     "data": {
      "text/html": [
       "<div>\n",
       "<style scoped>\n",
       "    .dataframe tbody tr th:only-of-type {\n",
       "        vertical-align: middle;\n",
       "    }\n",
       "\n",
       "    .dataframe tbody tr th {\n",
       "        vertical-align: top;\n",
       "    }\n",
       "\n",
       "    .dataframe thead th {\n",
       "        text-align: right;\n",
       "    }\n",
       "</style>\n",
       "<table border=\"1\" class=\"dataframe\">\n",
       "  <thead>\n",
       "    <tr style=\"text-align: right;\">\n",
       "      <th></th>\n",
       "      <th>box_office</th>\n",
       "    </tr>\n",
       "    <tr>\n",
       "      <th>show_year</th>\n",
       "      <th></th>\n",
       "    </tr>\n",
       "  </thead>\n",
       "  <tbody>\n",
       "    <tr>\n",
       "      <th>2015</th>\n",
       "      <td>39497.365196</td>\n",
       "    </tr>\n",
       "    <tr>\n",
       "      <th>2016</th>\n",
       "      <td>47866.105215</td>\n",
       "    </tr>\n",
       "    <tr>\n",
       "      <th>2017</th>\n",
       "      <td>48563.707218</td>\n",
       "    </tr>\n",
       "    <tr>\n",
       "      <th>2018</th>\n",
       "      <td>49668.361909</td>\n",
       "    </tr>\n",
       "    <tr>\n",
       "      <th>2019</th>\n",
       "      <td>48425.708780</td>\n",
       "    </tr>\n",
       "  </tbody>\n",
       "</table>\n",
       "</div>"
      ],
      "text/plain": [
       "             box_office\n",
       "show_year              \n",
       "2015       39497.365196\n",
       "2016       47866.105215\n",
       "2017       48563.707218\n",
       "2018       49668.361909\n",
       "2019       48425.708780"
      ]
     },
     "execution_count": 47,
     "metadata": {},
     "output_type": "execute_result"
    }
   ],
   "source": [
    "films_after_2014.pivot_table(index='show_year', values='box_office', aggfunc='sum')"
   ]
  },
  {
   "cell_type": "markdown",
   "metadata": {},
   "source": [
    "***Вывод:*** по сгруппированным данным видно, что суммарные сборы от 2015 до 2017 года росли - с 39 млрд.руб. до 48 млрд.руб., потом с 2017 по 2019 года сумма сборов держалась примерно в равных значениях - 48 млрд.руб. Можно предположить, что с 2017 года стали показывать больше фильмов в кинотеатрах, которые стали приносить стабильный доход."
   ]
  },
  {
   "cell_type": "markdown",
   "metadata": {},
   "source": [
    "- исследую рынок российского кинопроката, и посмотрю, какой жанр является наиболее популярным у зрителей:"
   ]
  },
  {
   "cell_type": "code",
   "execution_count": 48,
   "metadata": {},
   "outputs": [
    {
     "data": {
      "text/plain": [
       "Text(0.5, 1.0, 'popular genre')"
      ]
     },
     "execution_count": 48,
     "metadata": {},
     "output_type": "execute_result"
    },
    {
     "data": {
      "image/png": "[encoded data removed]",
      "text/plain": [
       "<Figure size 720x576 with 1 Axes>"
      ]
     },
     "metadata": {},
     "output_type": "display_data"
    }
   ],
   "source": [
    "films.pivot_table(\n",
    "    index='first_genre', values='title', aggfunc='count'\n",
    ").plot(kind='bar', grid=True, figsize=(10,8))\n",
    "plt.ylabel('number of films')\n",
    "plt.title('popular genre')"
   ]
  },
  {
   "cell_type": "markdown",
   "metadata": {},
   "source": [
    "***Анализ графика:*** лидирующую позицию занимает жанр \"драма\" - почти 1600 фильмов, на втором месте - \"комедия\" - чуть более 600 фильмов, примерно одинаково распределены следующие жанры: боевик, мультфильм, триллер и ужасы."
   ]
  },
  {
   "cell_type": "markdown",
   "metadata": {},
   "source": [
    "- посмотрю, какой средний рейтинг у фильмов в зависимости от их жанра:"
   ]
  },
  {
   "cell_type": "code",
   "execution_count": 49,
   "metadata": {},
   "outputs": [
    {
     "data": {
      "text/plain": [
       "Text(0.5, 1.0, 'distribution of rating by genre of the film')"
      ]
     },
     "execution_count": 49,
     "metadata": {},
     "output_type": "execute_result"
    },
    {
     "data": {
      "image/png": "[encoded data removed]",
      "text/plain": [
       "<Figure size 720x576 with 1 Axes>"
      ]
     },
     "metadata": {},
     "output_type": "display_data"
    }
   ],
   "source": [
    "films.pivot_table(\n",
    "    index='first_genre', values='ratings', aggfunc='mean'\n",
    ").plot(kind='bar', grid=True, ylim=(0, 9), figsize=(10,8))\n",
    "plt.ylabel('ratings')\n",
    "plt.title('distribution of rating by genre of the film')"
   ]
  },
  {
   "cell_type": "markdown",
   "metadata": {},
   "source": [
    "***Анализ графика:*** не смотря на то, что популярными являются одни жанры, высокие рейтинги совсем у других жанров фильмов."
   ]
  },
  {
   "cell_type": "markdown",
   "metadata": {
    "id": "l_Kg6Ku4gFya"
   },
   "source": [
    "### Исследование фильмов, которые получили государственную поддержку"
   ]
  },
  {
   "cell_type": "markdown",
   "metadata": {},
   "source": [
    "Создам новый датафрейм `support_films`, в который войдут фильмы с государственной поддержкой:"
   ]
  },
  {
   "cell_type": "code",
   "execution_count": 50,
   "metadata": {
    "id": "W9QKpjUdgFyb"
   },
   "outputs": [],
   "source": [
    "support_films = films.query('budget.notna()').reset_index(drop=True)"
   ]
  },
  {
   "cell_type": "markdown",
   "metadata": {},
   "source": [
    "Добавлю новый столбец с суммарным значением средств с государственной поддержкой:"
   ]
  },
  {
   "cell_type": "code",
   "execution_count": 51,
   "metadata": {},
   "outputs": [],
   "source": [
    "support_films['state_support'] = support_films['refundable_support'] + support_films['nonrefundable_support']"
   ]
  },
  {
   "cell_type": "markdown",
   "metadata": {},
   "source": [
    "Добавлю столбец с информацией о том, во сколько раз окупился фильм:"
   ]
  },
  {
   "cell_type": "code",
   "execution_count": 52,
   "metadata": {},
   "outputs": [],
   "source": [
    "support_films['box_office_ratio'] = support_films['box_office'] / support_films['budget']"
   ]
  },
  {
   "cell_type": "markdown",
   "metadata": {},
   "source": [
    "Создам отдельный датафрейм с информацией об окупившихся фильмах:"
   ]
  },
  {
   "cell_type": "code",
   "execution_count": 53,
   "metadata": {},
   "outputs": [],
   "source": [
    "payback_films = support_films.query('box_office > budget')"
   ]
  },
  {
   "cell_type": "markdown",
   "metadata": {},
   "source": [
    "- *исследование окупаемости фильмов с государственной поддержкой*"
   ]
  },
  {
   "cell_type": "code",
   "execution_count": 54,
   "metadata": {},
   "outputs": [
    {
     "data": {
      "text/plain": [
       "0.217"
      ]
     },
     "execution_count": 54,
     "metadata": {},
     "output_type": "execute_result"
    }
   ],
   "source": [
    "round(len(payback_films) / len(support_films), 3)"
   ]
  },
  {
   "cell_type": "markdown",
   "metadata": {},
   "source": [
    "По полученному значению, можно сделать **вывод**, что только **каждый пятый фильм с государственной поддержкой окупается**."
   ]
  },
  {
   "cell_type": "markdown",
   "metadata": {},
   "source": [
    "Посмотрю какой рейтинг у фильмов с гос.поддержкой, которые окупились:"
   ]
  },
  {
   "cell_type": "code",
   "execution_count": 55,
   "metadata": {
    "scrolled": false
   },
   "outputs": [
    {
     "data": {
      "text/plain": [
       "Text(0.5, 1.0, 'histogram of rating distribution for films with state support')"
      ]
     },
     "execution_count": 55,
     "metadata": {},
     "output_type": "execute_result"
    },
    {
     "data": {
      "image/png": "[encoded data removed]",
      "text/plain": [
       "<Figure size 576x576 with 1 Axes>"
      ]
     },
     "metadata": {},
     "output_type": "display_data"
    }
   ],
   "source": [
    "payback_films['ratings'].hist(grid=True)\n",
    "plt.xlabel('ratings')\n",
    "plt.title('histogram of rating distribution for films with state support')"
   ]
  },
  {
   "cell_type": "markdown",
   "metadata": {},
   "source": [
    "***Анализ графика:*** на гистограмме видно, что **у большей части окупившихся фильмов рейтинг лежит в диапазоне от 4.6 до 7.2.**"
   ]
  },
  {
   "cell_type": "markdown",
   "metadata": {},
   "source": [
    "- *исследование рейтинга от жанра*"
   ]
  },
  {
   "cell_type": "markdown",
   "metadata": {},
   "source": [
    "Посмотрю, какой рейтинг у фильмов с гос.поддержкой с группировкой по жанрам:"
   ]
  },
  {
   "cell_type": "code",
   "execution_count": 56,
   "metadata": {},
   "outputs": [
    {
     "data": {
      "text/plain": [
       "Text(0.5, 1.0, 'rating of films with state support')"
      ]
     },
     "execution_count": 56,
     "metadata": {},
     "output_type": "execute_result"
    },
    {
     "data": {
      "image/png": "[encoded data removed]",
      "text/plain": [
       "<Figure size 720x576 with 1 Axes>"
      ]
     },
     "metadata": {},
     "output_type": "display_data"
    }
   ],
   "source": [
    "support_films.pivot_table(\n",
    "    index='first_genre', values='ratings'\n",
    ").plot(kind='bar', grid=True, ylim=(0,8), figsize=(10,8))\n",
    "plt.ylabel('ratings')\n",
    "plt.title('rating of films with state support')"
   ]
  },
  {
   "cell_type": "markdown",
   "metadata": {},
   "source": [
    "***Анализ графика:*** самый высокий рейтинг - 7.5 - у криминальных картин, около 7 - у трех жанров - биография, детский и спорт."
   ]
  },
  {
   "cell_type": "markdown",
   "metadata": {},
   "source": [
    "А теперь посмотрю, какой рейтинг у окупившихся фильмов с гос.поддержкой с группировкой по жанрам:"
   ]
  },
  {
   "cell_type": "code",
   "execution_count": 57,
   "metadata": {},
   "outputs": [
    {
     "data": {
      "text/plain": [
       "Text(0.5, 1.0, 'rating of films with state support')"
      ]
     },
     "execution_count": 57,
     "metadata": {},
     "output_type": "execute_result"
    },
    {
     "data": {
      "image/png": "[encoded data removed]",
      "text/plain": [
       "<Figure size 504x360 with 1 Axes>"
      ]
     },
     "metadata": {},
     "output_type": "display_data"
    }
   ],
   "source": [
    "payback_films.pivot_table(\n",
    "    index='first_genre', values='ratings'\n",
    ").plot(kind='bar', grid=True, ylim=(0,8), figsize=(7,5))\n",
    "plt.ylabel('ratings')\n",
    "plt.title('rating of films with state support')"
   ]
  },
  {
   "cell_type": "markdown",
   "metadata": {},
   "source": [
    "***Анализ графика:*** картина изменилась, во-первых, среди окупившихся фильмов нет жанра \"криминал\". Во-вторых, лидирующие позиции заняли два жанра - приключенческие фильмы и боевики - 7.5 баллов. Чуть меньше рейтинга набрали фильмы с жанром биография, спорт, драма и триллер."
   ]
  },
  {
   "cell_type": "markdown",
   "metadata": {},
   "source": [
    "- *исследование зависимости государственной поддержки от жанра фильма*"
   ]
  },
  {
   "cell_type": "markdown",
   "metadata": {},
   "source": [
    "Посмотрю, на какие жанры фильмов больше всего выделяется гос.поддержка. Для этого построю столбчатый график по сгруппированным данным:"
   ]
  },
  {
   "cell_type": "code",
   "execution_count": 58,
   "metadata": {},
   "outputs": [
    {
     "data": {
      "text/plain": [
       "Text(0.5, 1.0, 'genres of films with state support')"
      ]
     },
     "execution_count": 58,
     "metadata": {},
     "output_type": "execute_result"
    },
    {
     "data": {
      "image/png": "[encoded data removed]",
      "text/plain": [
       "<Figure size 720x576 with 1 Axes>"
      ]
     },
     "metadata": {},
     "output_type": "display_data"
    }
   ],
   "source": [
    "support_films.pivot_table(\n",
    "    index='first_genre', values='state_support', aggfunc='sum'\n",
    ").plot(kind='bar', grid=True, figsize=(10,8))\n",
    "plt.ylabel('state_support, mln rubles')\n",
    "plt.title('genres of films with state support')"
   ]
  },
  {
   "cell_type": "code",
   "execution_count": 59,
   "metadata": {},
   "outputs": [
    {
     "data": {
      "text/plain": [
       "драма          0.294304\n",
       "комедия        0.234177\n",
       "мультфильм     0.098101\n",
       "триллер        0.047468\n",
       "мелодрама      0.047468\n",
       "фэнтези        0.034810\n",
       "фантастика     0.034810\n",
       "ужасы          0.031646\n",
       "военный        0.028481\n",
       "семейный       0.022152\n",
       "приключения    0.022152\n",
       "боевик         0.018987\n",
       "детектив       0.015823\n",
       "детский        0.012658\n",
       "история        0.012658\n",
       "мюзикл         0.012658\n",
       "биография      0.009494\n",
       "спорт          0.009494\n",
       "криминал       0.009494\n",
       "реальное ТВ    0.003165\n",
       "Name: first_genre, dtype: float64"
      ]
     },
     "execution_count": 59,
     "metadata": {},
     "output_type": "execute_result"
    }
   ],
   "source": [
    "support_films['first_genre'].value_counts(normalize=True)"
   ]
  },
  {
   "cell_type": "markdown",
   "metadata": {},
   "source": [
    "***Вывод:*** больше всего средств гос.поддержки выделяется для жанра \"драма\" - более 5 млрд.руб. На втором месте \"комедия\" - 3 млрд.руб. Для жанра \"мультфильмы\" - почти 2 млрд.руб. Как мне кажется, эти три самых популярных и востребованных жанра охватывают наибольший круг интересов зрителей, включая детей. Остальные жанры, возможно, интресны меньшему числу людей."
   ]
  },
  {
   "cell_type": "code",
   "execution_count": 60,
   "metadata": {},
   "outputs": [
    {
     "data": {
      "text/plain": [
       "0.15514925929843776"
      ]
     },
     "execution_count": 60,
     "metadata": {},
     "output_type": "execute_result"
    }
   ],
   "source": [
    "support_films['box_office'].corr(support_films['ratings'])"
   ]
  },
  {
   "cell_type": "markdown",
   "metadata": {},
   "source": [
    "***Вывод:*** по вычисленному коэффициенту корреляции Пирсона видно, что сборы не всегда коррелируются с рейтингом фильма. Высокий рейтинг не гарантирует хорошие сборы, и наоборот."
   ]
  },
  {
   "cell_type": "markdown",
   "metadata": {},
   "source": [
    "- *окупаемость фильмов у конкретного режиссера*"
   ]
  },
  {
   "cell_type": "markdown",
   "metadata": {},
   "source": [
    "Посмотрю, сколько фильмов, снятых одним режиссером, окупились:"
   ]
  },
  {
   "cell_type": "code",
   "execution_count": 61,
   "metadata": {},
   "outputs": [
    {
     "data": {
      "text/html": [
       "<div>\n",
       "<style scoped>\n",
       "    .dataframe tbody tr th:only-of-type {\n",
       "        vertical-align: middle;\n",
       "    }\n",
       "\n",
       "    .dataframe tbody tr th {\n",
       "        vertical-align: top;\n",
       "    }\n",
       "\n",
       "    .dataframe thead th {\n",
       "        text-align: right;\n",
       "    }\n",
       "</style>\n",
       "<table border=\"1\" class=\"dataframe\">\n",
       "  <thead>\n",
       "    <tr style=\"text-align: right;\">\n",
       "      <th></th>\n",
       "      <th>title</th>\n",
       "    </tr>\n",
       "    <tr>\n",
       "      <th>first_director</th>\n",
       "      <th></th>\n",
       "    </tr>\n",
       "  </thead>\n",
       "  <tbody>\n",
       "    <tr>\n",
       "      <th>Д.Дьяченко</th>\n",
       "      <td>4</td>\n",
       "    </tr>\n",
       "    <tr>\n",
       "      <th>Р.Прыгунов</th>\n",
       "      <td>2</td>\n",
       "    </tr>\n",
       "    <tr>\n",
       "      <th>С.Мокрицкий</th>\n",
       "      <td>2</td>\n",
       "    </tr>\n",
       "    <tr>\n",
       "      <th>Д.Шмидт</th>\n",
       "      <td>2</td>\n",
       "    </tr>\n",
       "    <tr>\n",
       "      <th>Р.Гигинеишвили</th>\n",
       "      <td>2</td>\n",
       "    </tr>\n",
       "    <tr>\n",
       "      <th>Д.Киселев</th>\n",
       "      <td>2</td>\n",
       "    </tr>\n",
       "    <tr>\n",
       "      <th>С.Подгаевский</th>\n",
       "      <td>2</td>\n",
       "    </tr>\n",
       "    <tr>\n",
       "      <th>Т.Бекмамбетов</th>\n",
       "      <td>2</td>\n",
       "    </tr>\n",
       "    <tr>\n",
       "      <th>Л.Марголин</th>\n",
       "      <td>2</td>\n",
       "    </tr>\n",
       "    <tr>\n",
       "      <th>К.Шипенко</th>\n",
       "      <td>2</td>\n",
       "    </tr>\n",
       "  </tbody>\n",
       "</table>\n",
       "</div>"
      ],
      "text/plain": [
       "                title\n",
       "first_director       \n",
       "Д.Дьяченко          4\n",
       "Р.Прыгунов          2\n",
       "С.Мокрицкий         2\n",
       "Д.Шмидт             2\n",
       "Р.Гигинеишвили      2\n",
       "Д.Киселев           2\n",
       "С.Подгаевский       2\n",
       "Т.Бекмамбетов       2\n",
       "Л.Марголин          2\n",
       "К.Шипенко           2"
      ]
     },
     "execution_count": 61,
     "metadata": {},
     "output_type": "execute_result"
    }
   ],
   "source": [
    "payback_films.pivot_table(\n",
    "    index='first_director', values='title', aggfunc='count'\n",
    ").sort_values(by='title', ascending=False).head(10)"
   ]
  },
  {
   "cell_type": "markdown",
   "metadata": {},
   "source": [
    "***Вывод:*** всего у одного режиссера - Д.Дьяченко, окупилось наибольшее количество фильмов."
   ]
  },
  {
   "cell_type": "markdown",
   "metadata": {},
   "source": [
    "- *окупаемость фильма у студии-производителя*"
   ]
  },
  {
   "cell_type": "markdown",
   "metadata": {},
   "source": [
    "Так же посмотрю, есть ли киностудии, чьи фильмы окупились более одного раза и сколько бюджетных средств было потрачено:"
   ]
  },
  {
   "cell_type": "code",
   "execution_count": 62,
   "metadata": {},
   "outputs": [
    {
     "data": {
      "text/html": [
       "<div>\n",
       "<style scoped>\n",
       "    .dataframe tbody tr th:only-of-type {\n",
       "        vertical-align: middle;\n",
       "    }\n",
       "\n",
       "    .dataframe tbody tr th {\n",
       "        vertical-align: top;\n",
       "    }\n",
       "\n",
       "    .dataframe thead tr th {\n",
       "        text-align: left;\n",
       "    }\n",
       "\n",
       "    .dataframe thead tr:last-of-type th {\n",
       "        text-align: right;\n",
       "    }\n",
       "</style>\n",
       "<table border=\"1\" class=\"dataframe\">\n",
       "  <thead>\n",
       "    <tr>\n",
       "      <th></th>\n",
       "      <th>budget</th>\n",
       "      <th colspan=\"2\" halign=\"left\">state_support</th>\n",
       "    </tr>\n",
       "    <tr>\n",
       "      <th></th>\n",
       "      <th>sum</th>\n",
       "      <th>count</th>\n",
       "      <th>sum</th>\n",
       "    </tr>\n",
       "    <tr>\n",
       "      <th>first_studio</th>\n",
       "      <th></th>\n",
       "      <th></th>\n",
       "      <th></th>\n",
       "    </tr>\n",
       "  </thead>\n",
       "  <tbody>\n",
       "    <tr>\n",
       "      <th>ООО \"ТаББаК\"</th>\n",
       "      <td>1228.314292</td>\n",
       "      <td>5</td>\n",
       "      <td>663.000000</td>\n",
       "    </tr>\n",
       "    <tr>\n",
       "      <th>ООО \"Студия анимационного кино \"Мельница\"</th>\n",
       "      <td>729.223087</td>\n",
       "      <td>4</td>\n",
       "      <td>305.000000</td>\n",
       "    </tr>\n",
       "    <tr>\n",
       "      <th>ООО \"Водород 2011\"</th>\n",
       "      <td>895.522344</td>\n",
       "      <td>3</td>\n",
       "      <td>410.000000</td>\n",
       "    </tr>\n",
       "    <tr>\n",
       "      <th>ООО \"Киностудия \"Слово\"</th>\n",
       "      <td>327.988234</td>\n",
       "      <td>2</td>\n",
       "      <td>135.000000</td>\n",
       "    </tr>\n",
       "    <tr>\n",
       "      <th>ООО \"Ол Медиа Компани\"</th>\n",
       "      <td>162.355066</td>\n",
       "      <td>2</td>\n",
       "      <td>96.000000</td>\n",
       "    </tr>\n",
       "    <tr>\n",
       "      <th>ООО \"Пиманов и партнеры\"</th>\n",
       "      <td>372.513841</td>\n",
       "      <td>2</td>\n",
       "      <td>100.123915</td>\n",
       "    </tr>\n",
       "    <tr>\n",
       "      <th>ООО \"Студия \"ТРИТЭ\" Никиты Михалкова\"</th>\n",
       "      <td>1225.476058</td>\n",
       "      <td>2</td>\n",
       "      <td>842.104482</td>\n",
       "    </tr>\n",
       "    <tr>\n",
       "      <th>ООО \"Друг Друга\"</th>\n",
       "      <td>133.949127</td>\n",
       "      <td>2</td>\n",
       "      <td>60.000000</td>\n",
       "    </tr>\n",
       "    <tr>\n",
       "      <th>ООО \"Фреш-Фильм\"</th>\n",
       "      <td>91.305313</td>\n",
       "      <td>2</td>\n",
       "      <td>50.000000</td>\n",
       "    </tr>\n",
       "    <tr>\n",
       "      <th>ООО \"Лемон Филмз Студио\"</th>\n",
       "      <td>493.733957</td>\n",
       "      <td>1</td>\n",
       "      <td>225.000000</td>\n",
       "    </tr>\n",
       "  </tbody>\n",
       "</table>\n",
       "</div>"
      ],
      "text/plain": [
       "                                                budget state_support  \\\n",
       "                                                   sum         count   \n",
       "first_studio                                                           \n",
       "ООО \"ТаББаК\"                               1228.314292             5   \n",
       "ООО \"Студия анимационного кино \"Мельница\"   729.223087             4   \n",
       "ООО \"Водород 2011\"                          895.522344             3   \n",
       "ООО \"Киностудия \"Слово\"                     327.988234             2   \n",
       "ООО \"Ол Медиа Компани\"                      162.355066             2   \n",
       "ООО \"Пиманов и партнеры\"                    372.513841             2   \n",
       "ООО \"Студия \"ТРИТЭ\" Никиты Михалкова\"      1225.476058             2   \n",
       "ООО \"Друг Друга\"                            133.949127             2   \n",
       "ООО \"Фреш-Фильм\"                             91.305313             2   \n",
       "ООО \"Лемон Филмз Студио\"                    493.733957             1   \n",
       "\n",
       "                                                       \n",
       "                                                  sum  \n",
       "first_studio                                           \n",
       "ООО \"ТаББаК\"                               663.000000  \n",
       "ООО \"Студия анимационного кино \"Мельница\"  305.000000  \n",
       "ООО \"Водород 2011\"                         410.000000  \n",
       "ООО \"Киностудия \"Слово\"                    135.000000  \n",
       "ООО \"Ол Медиа Компани\"                      96.000000  \n",
       "ООО \"Пиманов и партнеры\"                   100.123915  \n",
       "ООО \"Студия \"ТРИТЭ\" Никиты Михалкова\"      842.104482  \n",
       "ООО \"Друг Друга\"                            60.000000  \n",
       "ООО \"Фреш-Фильм\"                            50.000000  \n",
       "ООО \"Лемон Филмз Студио\"                   225.000000  "
      ]
     },
     "execution_count": 62,
     "metadata": {},
     "output_type": "execute_result"
    }
   ],
   "source": [
    "payback_films.pivot_table(\n",
    "    index='first_studio', values=['state_support', 'budget'], \n",
    "    aggfunc={'state_support': ['sum','count'], 'budget': 'sum'}\n",
    ").sort_values(by=('state_support', 'count'), ascending=False).head(10)"
   ]
  },
  {
   "cell_type": "markdown",
   "metadata": {},
   "source": [
    "***Вывод:*** студия ООО \"ТаББаК\" и ООО \"Студия анимационного кино \"Мельница\" сняли окупаемые фильмы с единичной разницей, но при этом сумма потраченных бюджетных средств отличается в два раза. При этом выделенные средства составили половину от суммарного бюджета фильмов.\n",
    "\n",
    "Киностудии, которые сняли по 2 окупившихся фильма, имеют разную градацию потраченных денежных средств."
   ]
  },
  {
   "cell_type": "markdown",
   "metadata": {},
   "source": [
    "- *зависимость сборов от доли государственной поддержки в бюджете*"
   ]
  },
  {
   "cell_type": "code",
   "execution_count": 63,
   "metadata": {},
   "outputs": [
    {
     "data": {
      "text/plain": [
       "<AxesSubplot:xlabel='budget_ratio', ylabel='box_office_ratio'>"
      ]
     },
     "execution_count": 63,
     "metadata": {},
     "output_type": "execute_result"
    },
    {
     "data": {
      "image/png": "[encoded data removed]",
      "text/plain": [
       "<Figure size 720x576 with 1 Axes>"
      ]
     },
     "metadata": {},
     "output_type": "display_data"
    }
   ],
   "source": [
    "color = np.array([.5, .6, .9])\n",
    "support_films.plot(\n",
    "    kind='scatter', y='box_office_ratio', x='budget_ratio', \n",
    "    grid=True, ylim=(0,5), alpha=0.8, figsize=(10,8), c=np.atleast_2d(color)\n",
    ")"
   ]
  },
  {
   "cell_type": "markdown",
   "metadata": {},
   "source": [
    "***Анализ графика:*** по диаграмме рассеяния можно увидеть, что с увеличением доли гос.финансирования в бюджете фильма его окупаемость снижается."
   ]
  },
  {
   "cell_type": "markdown",
   "metadata": {},
   "source": [
    "- *исследование распределения фильмов с государственной поддержкой по годам*"
   ]
  },
  {
   "cell_type": "code",
   "execution_count": 64,
   "metadata": {},
   "outputs": [
    {
     "data": {
      "text/plain": [
       "Text(0.5, 1.0, 'distribution of films with state support by year')"
      ]
     },
     "execution_count": 64,
     "metadata": {},
     "output_type": "execute_result"
    },
    {
     "data": {
      "image/png": "[encoded data removed]",
      "text/plain": [
       "<Figure size 576x576 with 1 Axes>"
      ]
     },
     "metadata": {},
     "output_type": "display_data"
    }
   ],
   "source": [
    "support_films.pivot_table(\n",
    "    index='show_year', values='state_support', aggfunc='sum'\n",
    ").plot(kind='bar', grid=True)\n",
    "plt.ylabel('state support, mln rubles')\n",
    "plt.title('distribution of films with state support by year')"
   ]
  },
  {
   "cell_type": "markdown",
   "metadata": {},
   "source": [
    "***Анализ графика:*** 2016 год был объявлен годом Российского кино. Именно этим можно объяснить увеличение финансирования на 1 млрд в сравнении с предыдущим 2015 годом. "
   ]
  },
  {
   "cell_type": "markdown",
   "metadata": {},
   "source": [
    "- *исследование распределения фильмов с государственной поддрежкой по возрастному ограничению*"
   ]
  },
  {
   "cell_type": "code",
   "execution_count": 65,
   "metadata": {},
   "outputs": [
    {
     "data": {
      "text/plain": [
       "Text(0.5, 1.0, 'distribution of films with state support by age restriction')"
      ]
     },
     "execution_count": 65,
     "metadata": {},
     "output_type": "execute_result"
    },
    {
     "data": {
      "image/png": "[encoded data removed]",
      "text/plain": [
       "<Figure size 576x576 with 1 Axes>"
      ]
     },
     "metadata": {},
     "output_type": "display_data"
    }
   ],
   "source": [
    "support_films.pivot_table(\n",
    "    index='age_restriction', values='state_support', aggfunc='sum'\n",
    ").plot(kind='bar', grid=True)\n",
    "plt.ylabel('state support, mln rubles')\n",
    "plt.title('distribution of films with state support by age restriction')"
   ]
  },
  {
   "cell_type": "markdown",
   "metadata": {},
   "source": [
    "***Анализ графика:*** по данным графика видно, что государственные деньги выделяются на фильмы с возрастным ограничением \"12+\", т.е. на большую группу зрителей."
   ]
  },
  {
   "cell_type": "markdown",
   "metadata": {},
   "source": [
    "- *распределение средней окупаемости по годам*"
   ]
  },
  {
   "cell_type": "code",
   "execution_count": 66,
   "metadata": {},
   "outputs": [
    {
     "data": {
      "text/plain": [
       "Text(0, 0.5, 'box_office_ratio')"
      ]
     },
     "execution_count": 66,
     "metadata": {},
     "output_type": "execute_result"
    },
    {
     "data": {
      "image/png": "[encoded data removed]",
      "text/plain": [
       "<Figure size 576x576 with 1 Axes>"
      ]
     },
     "metadata": {},
     "output_type": "display_data"
    }
   ],
   "source": [
    "support_films.pivot_table(\n",
    "    index='show_year', values='box_office_ratio'\n",
    ").plot(kind='bar', grid=True)\n",
    "plt.title('distribution of the average payback of films by year')\n",
    "plt.ylabel('box_office_ratio')"
   ]
  },
  {
   "cell_type": "markdown",
   "metadata": {},
   "source": [
    "***Анализ графика:*** при значении `box_office_ratio` > 1 фильм считается окупившимся. Значит, только в 2017 и 2018 годах фильмы, в среднем, окупались."
   ]
  },
  {
   "cell_type": "markdown",
   "metadata": {},
   "source": [
    "- *исследование самых окупившихся и неокупившихся фильмов*"
   ]
  },
  {
   "cell_type": "markdown",
   "metadata": {},
   "source": [
    "Выведу 10 самых окупившихся фильмов, а так же посмотрю на их рейтинг:"
   ]
  },
  {
   "cell_type": "code",
   "execution_count": 67,
   "metadata": {},
   "outputs": [
    {
     "data": {
      "text/html": [
       "<div>\n",
       "<style scoped>\n",
       "    .dataframe tbody tr th:only-of-type {\n",
       "        vertical-align: middle;\n",
       "    }\n",
       "\n",
       "    .dataframe tbody tr th {\n",
       "        vertical-align: top;\n",
       "    }\n",
       "\n",
       "    .dataframe thead th {\n",
       "        text-align: right;\n",
       "    }\n",
       "</style>\n",
       "<table border=\"1\" class=\"dataframe\">\n",
       "  <thead>\n",
       "    <tr style=\"text-align: right;\">\n",
       "      <th></th>\n",
       "      <th>title</th>\n",
       "      <th>box_office_ratio</th>\n",
       "      <th>ratings</th>\n",
       "    </tr>\n",
       "  </thead>\n",
       "  <tbody>\n",
       "    <tr>\n",
       "      <th>326</th>\n",
       "      <td>Холоп</td>\n",
       "      <td>19.209804</td>\n",
       "      <td>6.8</td>\n",
       "    </tr>\n",
       "    <tr>\n",
       "      <th>213</th>\n",
       "      <td>Лёд</td>\n",
       "      <td>9.729984</td>\n",
       "      <td>NaN</td>\n",
       "    </tr>\n",
       "    <tr>\n",
       "      <th>217</th>\n",
       "      <td>Я худею</td>\n",
       "      <td>7.227251</td>\n",
       "      <td>6.9</td>\n",
       "    </tr>\n",
       "    <tr>\n",
       "      <th>130</th>\n",
       "      <td>Гуляй, Вася !</td>\n",
       "      <td>6.643566</td>\n",
       "      <td>6.5</td>\n",
       "    </tr>\n",
       "    <tr>\n",
       "      <th>73</th>\n",
       "      <td>Самый Лучший День</td>\n",
       "      <td>5.229157</td>\n",
       "      <td>4.7</td>\n",
       "    </tr>\n",
       "    <tr>\n",
       "      <th>29</th>\n",
       "      <td>8 новых свиданий</td>\n",
       "      <td>5.081857</td>\n",
       "      <td>6.0</td>\n",
       "    </tr>\n",
       "    <tr>\n",
       "      <th>204</th>\n",
       "      <td>Ёлки Новые</td>\n",
       "      <td>4.905618</td>\n",
       "      <td>5.8</td>\n",
       "    </tr>\n",
       "    <tr>\n",
       "      <th>248</th>\n",
       "      <td>Непрощенный</td>\n",
       "      <td>4.767206</td>\n",
       "      <td>6.7</td>\n",
       "    </tr>\n",
       "    <tr>\n",
       "      <th>206</th>\n",
       "      <td>Движение вверх</td>\n",
       "      <td>4.709798</td>\n",
       "      <td>7.5</td>\n",
       "    </tr>\n",
       "    <tr>\n",
       "      <th>192</th>\n",
       "      <td>Последний богатырь</td>\n",
       "      <td>4.695441</td>\n",
       "      <td>6.8</td>\n",
       "    </tr>\n",
       "  </tbody>\n",
       "</table>\n",
       "</div>"
      ],
      "text/plain": [
       "                  title  box_office_ratio  ratings\n",
       "326               Холоп         19.209804      6.8\n",
       "213                 Лёд          9.729984      NaN\n",
       "217             Я худею          7.227251      6.9\n",
       "130       Гуляй, Вася !          6.643566      6.5\n",
       "73    Самый Лучший День          5.229157      4.7\n",
       "29     8 новых свиданий          5.081857      6.0\n",
       "204          Ёлки Новые          4.905618      5.8\n",
       "248         Непрощенный          4.767206      6.7\n",
       "206      Движение вверх          4.709798      7.5\n",
       "192  Последний богатырь          4.695441      6.8"
      ]
     },
     "execution_count": 67,
     "metadata": {},
     "output_type": "execute_result"
    }
   ],
   "source": [
    "support_films[['title', 'box_office_ratio', 'ratings']].sort_values(\n",
    "    by='box_office_ratio', ascending=False\n",
    ").head(10)"
   ]
  },
  {
   "cell_type": "markdown",
   "metadata": {},
   "source": [
    "И 10-ка неокупившихся фильмов:"
   ]
  },
  {
   "cell_type": "code",
   "execution_count": 68,
   "metadata": {},
   "outputs": [
    {
     "data": {
      "text/html": [
       "<div>\n",
       "<style scoped>\n",
       "    .dataframe tbody tr th:only-of-type {\n",
       "        vertical-align: middle;\n",
       "    }\n",
       "\n",
       "    .dataframe tbody tr th {\n",
       "        vertical-align: top;\n",
       "    }\n",
       "\n",
       "    .dataframe thead th {\n",
       "        text-align: right;\n",
       "    }\n",
       "</style>\n",
       "<table border=\"1\" class=\"dataframe\">\n",
       "  <thead>\n",
       "    <tr style=\"text-align: right;\">\n",
       "      <th></th>\n",
       "      <th>title</th>\n",
       "      <th>box_office_ratio</th>\n",
       "      <th>ratings</th>\n",
       "    </tr>\n",
       "  </thead>\n",
       "  <tbody>\n",
       "    <tr>\n",
       "      <th>123</th>\n",
       "      <td>Я-Учитель</td>\n",
       "      <td>0.000017</td>\n",
       "      <td>7.4</td>\n",
       "    </tr>\n",
       "    <tr>\n",
       "      <th>156</th>\n",
       "      <td>День До</td>\n",
       "      <td>0.000099</td>\n",
       "      <td>4.8</td>\n",
       "    </tr>\n",
       "    <tr>\n",
       "      <th>86</th>\n",
       "      <td>Битва с экстрасенсами</td>\n",
       "      <td>0.000101</td>\n",
       "      <td>5.4</td>\n",
       "    </tr>\n",
       "    <tr>\n",
       "      <th>45</th>\n",
       "      <td>Вдвоем на льдине.</td>\n",
       "      <td>0.000117</td>\n",
       "      <td>6.6</td>\n",
       "    </tr>\n",
       "    <tr>\n",
       "      <th>169</th>\n",
       "      <td>Простая история .</td>\n",
       "      <td>0.000326</td>\n",
       "      <td>7.8</td>\n",
       "    </tr>\n",
       "    <tr>\n",
       "      <th>26</th>\n",
       "      <td>РЕВЕРБЕРАЦИЯ</td>\n",
       "      <td>0.000530</td>\n",
       "      <td>NaN</td>\n",
       "    </tr>\n",
       "    <tr>\n",
       "      <th>1</th>\n",
       "      <td>Бесславные придурки</td>\n",
       "      <td>0.000758</td>\n",
       "      <td>NaN</td>\n",
       "    </tr>\n",
       "    <tr>\n",
       "      <th>97</th>\n",
       "      <td>ВСЯ НАША НАДЕЖДА...</td>\n",
       "      <td>0.000777</td>\n",
       "      <td>7.2</td>\n",
       "    </tr>\n",
       "    <tr>\n",
       "      <th>101</th>\n",
       "      <td>Сдается дом со всеми неудобствами</td>\n",
       "      <td>0.000804</td>\n",
       "      <td>5.8</td>\n",
       "    </tr>\n",
       "    <tr>\n",
       "      <th>122</th>\n",
       "      <td>Память осени</td>\n",
       "      <td>0.000836</td>\n",
       "      <td>5.7</td>\n",
       "    </tr>\n",
       "  </tbody>\n",
       "</table>\n",
       "</div>"
      ],
      "text/plain": [
       "                                 title  box_office_ratio  ratings\n",
       "123                          Я-Учитель          0.000017      7.4\n",
       "156                            День До          0.000099      4.8\n",
       "86               Битва с экстрасенсами          0.000101      5.4\n",
       "45                   Вдвоем на льдине.          0.000117      6.6\n",
       "169                  Простая история .          0.000326      7.8\n",
       "26                        РЕВЕРБЕРАЦИЯ          0.000530      NaN\n",
       "1                  Бесславные придурки          0.000758      NaN\n",
       "97                 ВСЯ НАША НАДЕЖДА...          0.000777      7.2\n",
       "101  Сдается дом со всеми неудобствами          0.000804      5.8\n",
       "122                       Память осени          0.000836      5.7"
      ]
     },
     "execution_count": 68,
     "metadata": {},
     "output_type": "execute_result"
    }
   ],
   "source": [
    "support_films[['title', 'box_office_ratio', 'ratings']].sort_values(by='box_office_ratio').head(10)"
   ]
  },
  {
   "cell_type": "markdown",
   "metadata": {},
   "source": [
    "***Вывод:*** выведенные рейтинги к самым окупившимся и неокупившимся фильмам еще раз наглядно показывают, что явной корреляции между рейтингом и окупаемостью нет. "
   ]
  },
  {
   "cell_type": "markdown",
   "metadata": {
    "id": "V2gYwMcPgFyd"
   },
   "source": [
    "### Общий вывод"
   ]
  },
  {
   "cell_type": "markdown",
   "metadata": {
    "id": "AYRg3dzXgFye"
   },
   "source": [
    "В проекте я изучила российский кинопрокат и сделала следующие выводы:\n",
    "- у популярных жанров рейтинги меньше, чем у менее популярных;\n",
    "- самые частые жанры, на которые выделялась государственная поддержка, следующие: *драма, комедия, мультфильм*. Но при этом, зависимость окупившихся фильмов от рейтинга не соответсвует популярности фильма по рейтингу. Возможно, стоит обратить внимание на следующие жанры: *приключение, биография, боевик, спорт, триллер* - именно эти жанры фильмов выше всего оценивают зрители;\n",
    "- чаще всего с увеличением государственного финансирования снижается окупаемость фильма;\n",
    "- сборы не всегда коррелируются с рейтингом фильма, высокий рейтинг не гарантирует хорошие сборы, и наоборот;\n",
    "- наиболее прибыльны фильмы с возрастным ограничением \"16+\", а фильмы с гос.поддержкой выпускают для категории \"12+\";\n",
    "- в России в 2017 и 2018 годах фильмы, в среднем, окупались;\n",
    "- самый окупившийся фильм в России за исследуемый период стал фильм \"Холоп\" (2019 года) - его прокатные сборы в 19 раз превзошли бюджет."
   ]
  }
 ],
 "metadata": {
  "ExecuteTimeLog": [
   {
    "duration": 537,
    "start_time": "2021-07-07T10:12:08.634Z"
   },
   {
    "duration": 206,
    "start_time": "2021-07-07T10:12:30.191Z"
   },
   {
    "duration": 227,
    "start_time": "2021-07-07T10:12:33.078Z"
   },
   {
    "duration": 153,
    "start_time": "2021-07-07T10:13:42.146Z"
   },
   {
    "duration": 233,
    "start_time": "2021-07-07T10:30:09.252Z"
   },
   {
    "duration": 19,
    "start_time": "2021-07-07T10:30:15.577Z"
   },
   {
    "duration": 18,
    "start_time": "2021-07-07T10:30:57.348Z"
   },
   {
    "duration": 19,
    "start_time": "2021-07-07T10:31:17.452Z"
   },
   {
    "duration": 21,
    "start_time": "2021-07-07T10:31:32.227Z"
   },
   {
    "duration": 27,
    "start_time": "2021-07-07T10:32:06.588Z"
   },
   {
    "duration": 23,
    "start_time": "2021-07-07T10:32:43.645Z"
   },
   {
    "duration": 24,
    "start_time": "2021-07-07T10:33:06.948Z"
   },
   {
    "duration": 7,
    "start_time": "2021-07-07T10:33:28.558Z"
   },
   {
    "duration": 23,
    "start_time": "2021-07-07T10:33:43.761Z"
   },
   {
    "duration": 28,
    "start_time": "2021-07-07T10:34:13.466Z"
   },
   {
    "duration": 23,
    "start_time": "2021-07-07T10:35:56.187Z"
   },
   {
    "duration": 6,
    "start_time": "2021-07-07T10:36:48.182Z"
   },
   {
    "duration": 14,
    "start_time": "2021-07-07T10:37:49.641Z"
   },
   {
    "duration": 6,
    "start_time": "2021-07-07T10:38:06.694Z"
   },
   {
    "duration": 6,
    "start_time": "2021-07-07T10:38:13.493Z"
   },
   {
    "duration": 19,
    "start_time": "2021-07-07T10:38:44.056Z"
   },
   {
    "duration": 186,
    "start_time": "2021-07-07T10:48:35.618Z"
   },
   {
    "duration": 24,
    "start_time": "2021-07-07T10:48:51.498Z"
   },
   {
    "duration": 20,
    "start_time": "2021-07-07T10:48:59.415Z"
   },
   {
    "duration": 20,
    "start_time": "2021-07-07T10:53:02.195Z"
   },
   {
    "duration": 188,
    "start_time": "2021-07-07T10:54:40.486Z"
   },
   {
    "duration": 115,
    "start_time": "2021-07-07T10:54:52.552Z"
   },
   {
    "duration": 214,
    "start_time": "2021-07-07T10:54:56.354Z"
   },
   {
    "duration": 47,
    "start_time": "2021-07-07T10:54:58.282Z"
   },
   {
    "duration": 217,
    "start_time": "2021-07-07T10:59:16.075Z"
   },
   {
    "duration": 51,
    "start_time": "2021-07-07T10:59:16.243Z"
   },
   {
    "duration": 578,
    "start_time": "2021-07-07T10:59:18.774Z"
   },
   {
    "duration": 161,
    "start_time": "2021-07-07T10:59:21.238Z"
   },
   {
    "duration": 59,
    "start_time": "2021-07-07T10:59:21.453Z"
   },
   {
    "duration": 3,
    "start_time": "2021-07-07T11:02:10.786Z"
   },
   {
    "duration": 13,
    "start_time": "2021-07-07T11:07:07.722Z"
   },
   {
    "duration": 26,
    "start_time": "2021-07-07T11:07:17.958Z"
   },
   {
    "duration": 22,
    "start_time": "2021-07-07T11:08:17.939Z"
   },
   {
    "duration": 212,
    "start_time": "2021-07-07T11:08:19.665Z"
   },
   {
    "duration": 21,
    "start_time": "2021-07-07T11:08:29.945Z"
   },
   {
    "duration": 31,
    "start_time": "2021-07-07T11:08:38.899Z"
   },
   {
    "duration": 23,
    "start_time": "2021-07-07T11:08:54.527Z"
   },
   {
    "duration": 8,
    "start_time": "2021-07-07T11:18:55.974Z"
   },
   {
    "duration": 7,
    "start_time": "2021-07-07T11:19:03.639Z"
   },
   {
    "duration": 7,
    "start_time": "2021-07-07T11:19:06.444Z"
   },
   {
    "duration": 578,
    "start_time": "2021-07-07T12:09:59.576Z"
   },
   {
    "duration": 195,
    "start_time": "2021-07-07T12:10:00.156Z"
   },
   {
    "duration": 115,
    "start_time": "2021-07-07T12:10:00.353Z"
   },
   {
    "duration": 3,
    "start_time": "2021-07-07T12:10:00.470Z"
   },
   {
    "duration": 32,
    "start_time": "2021-07-07T12:10:00.474Z"
   },
   {
    "duration": 23,
    "start_time": "2021-07-07T12:10:00.508Z"
   },
   {
    "duration": 19,
    "start_time": "2021-07-07T12:10:00.533Z"
   },
   {
    "duration": 44,
    "start_time": "2021-07-07T12:10:00.553Z"
   },
   {
    "duration": 7,
    "start_time": "2021-07-07T12:10:00.600Z"
   },
   {
    "duration": 7,
    "start_time": "2021-07-07T12:19:45.761Z"
   },
   {
    "duration": 21,
    "start_time": "2021-07-07T12:21:35.482Z"
   },
   {
    "duration": 21,
    "start_time": "2021-07-07T12:29:23.569Z"
   },
   {
    "duration": 525,
    "start_time": "2021-07-07T12:29:44.542Z"
   },
   {
    "duration": 214,
    "start_time": "2021-07-07T12:29:45.069Z"
   },
   {
    "duration": 92,
    "start_time": "2021-07-07T12:29:45.285Z"
   },
   {
    "duration": 3,
    "start_time": "2021-07-07T12:29:45.379Z"
   },
   {
    "duration": 28,
    "start_time": "2021-07-07T12:29:45.384Z"
   },
   {
    "duration": 23,
    "start_time": "2021-07-07T12:29:45.413Z"
   },
   {
    "duration": 21,
    "start_time": "2021-07-07T12:29:45.437Z"
   },
   {
    "duration": 41,
    "start_time": "2021-07-07T12:29:45.460Z"
   },
   {
    "duration": 7,
    "start_time": "2021-07-07T12:29:45.502Z"
   },
   {
    "duration": 20,
    "start_time": "2021-07-07T12:29:45.511Z"
   },
   {
    "duration": 12,
    "start_time": "2021-07-07T12:34:02.800Z"
   },
   {
    "duration": 7,
    "start_time": "2021-07-07T12:35:10.479Z"
   },
   {
    "duration": 8,
    "start_time": "2021-07-07T12:35:22.440Z"
   },
   {
    "duration": 6,
    "start_time": "2021-07-07T12:35:35.649Z"
   },
   {
    "duration": 6,
    "start_time": "2021-07-07T12:35:43.107Z"
   },
   {
    "duration": 22,
    "start_time": "2021-07-07T12:38:03.029Z"
   },
   {
    "duration": 10,
    "start_time": "2021-07-07T12:38:06.592Z"
   },
   {
    "duration": 563,
    "start_time": "2021-07-07T12:38:46.493Z"
   },
   {
    "duration": 265,
    "start_time": "2021-07-07T12:38:47.058Z"
   },
   {
    "duration": 94,
    "start_time": "2021-07-07T12:38:47.325Z"
   },
   {
    "duration": 3,
    "start_time": "2021-07-07T12:38:47.422Z"
   },
   {
    "duration": 30,
    "start_time": "2021-07-07T12:38:47.427Z"
   },
   {
    "duration": 16,
    "start_time": "2021-07-07T12:38:53.305Z"
   },
   {
    "duration": 10,
    "start_time": "2021-07-07T12:38:53.499Z"
   },
   {
    "duration": 8,
    "start_time": "2021-07-07T12:39:48.161Z"
   },
   {
    "duration": 27,
    "start_time": "2021-07-07T12:41:17.629Z"
   },
   {
    "duration": 17,
    "start_time": "2021-07-07T12:41:17.867Z"
   },
   {
    "duration": 21,
    "start_time": "2021-07-07T12:41:19.310Z"
   },
   {
    "duration": 7,
    "start_time": "2021-07-07T12:41:19.544Z"
   },
   {
    "duration": 20,
    "start_time": "2021-07-07T12:41:20.504Z"
   },
   {
    "duration": 554,
    "start_time": "2021-07-07T12:56:23.696Z"
   },
   {
    "duration": 200,
    "start_time": "2021-07-07T12:56:25.234Z"
   },
   {
    "duration": 119,
    "start_time": "2021-07-07T12:56:25.480Z"
   },
   {
    "duration": 4,
    "start_time": "2021-07-07T12:56:25.762Z"
   },
   {
    "duration": 26,
    "start_time": "2021-07-07T12:56:27.172Z"
   },
   {
    "duration": 12,
    "start_time": "2021-07-07T12:56:29.051Z"
   },
   {
    "duration": 10,
    "start_time": "2021-07-07T12:56:29.291Z"
   },
   {
    "duration": 8,
    "start_time": "2021-07-07T12:56:29.623Z"
   },
   {
    "duration": 28,
    "start_time": "2021-07-07T12:56:32.137Z"
   },
   {
    "duration": 19,
    "start_time": "2021-07-07T12:56:39.785Z"
   },
   {
    "duration": 20,
    "start_time": "2021-07-07T12:56:44.297Z"
   },
   {
    "duration": 7,
    "start_time": "2021-07-07T12:56:45.392Z"
   },
   {
    "duration": 23,
    "start_time": "2021-07-07T12:56:46.615Z"
   },
   {
    "duration": 4,
    "start_time": "2021-07-07T12:57:06.625Z"
   },
   {
    "duration": 32,
    "start_time": "2021-07-07T12:57:36.690Z"
   },
   {
    "duration": 18,
    "start_time": "2021-07-07T12:58:00.149Z"
   },
   {
    "duration": 15,
    "start_time": "2021-07-07T12:59:16.793Z"
   },
   {
    "duration": 7,
    "start_time": "2021-07-07T13:19:22.624Z"
   },
   {
    "duration": 6,
    "start_time": "2021-07-07T14:17:33.527Z"
   },
   {
    "duration": 9,
    "start_time": "2021-07-07T14:17:48.409Z"
   },
   {
    "duration": 8,
    "start_time": "2021-07-07T14:20:13.060Z"
   },
   {
    "duration": 8,
    "start_time": "2021-07-07T14:20:37.957Z"
   },
   {
    "duration": 8,
    "start_time": "2021-07-07T14:20:47.470Z"
   },
   {
    "duration": 9,
    "start_time": "2021-07-07T14:20:54.503Z"
   },
   {
    "duration": 10,
    "start_time": "2021-07-07T14:28:57.763Z"
   },
   {
    "duration": 3,
    "start_time": "2021-07-07T14:30:23.377Z"
   },
   {
    "duration": 3,
    "start_time": "2021-07-07T14:30:36.489Z"
   },
   {
    "duration": 103,
    "start_time": "2021-07-07T14:30:52.351Z"
   },
   {
    "duration": 8,
    "start_time": "2021-07-07T14:30:54.763Z"
   },
   {
    "duration": 8,
    "start_time": "2021-07-07T14:31:29.301Z"
   },
   {
    "duration": 13,
    "start_time": "2021-07-07T14:31:44.516Z"
   },
   {
    "duration": 7,
    "start_time": "2021-07-07T14:33:10.972Z"
   },
   {
    "duration": 11,
    "start_time": "2021-07-07T14:33:27.780Z"
   },
   {
    "duration": 8,
    "start_time": "2021-07-07T14:34:44.588Z"
   },
   {
    "duration": 57,
    "start_time": "2021-07-07T14:35:59.042Z"
   },
   {
    "duration": 3,
    "start_time": "2021-07-07T14:36:28.168Z"
   },
   {
    "duration": 5,
    "start_time": "2021-07-07T14:36:46.254Z"
   },
   {
    "duration": 4,
    "start_time": "2021-07-07T14:36:52.714Z"
   },
   {
    "duration": 3,
    "start_time": "2021-07-07T14:36:56.612Z"
   },
   {
    "duration": 4,
    "start_time": "2021-07-07T14:36:57.049Z"
   },
   {
    "duration": 3,
    "start_time": "2021-07-07T14:39:21.214Z"
   },
   {
    "duration": 7,
    "start_time": "2021-07-07T14:39:52.406Z"
   },
   {
    "duration": 11,
    "start_time": "2021-07-07T14:39:58.576Z"
   },
   {
    "duration": 9,
    "start_time": "2021-07-07T14:40:26.301Z"
   },
   {
    "duration": 10,
    "start_time": "2021-07-07T14:40:31.704Z"
   },
   {
    "duration": 11,
    "start_time": "2021-07-07T14:40:36.249Z"
   },
   {
    "duration": 10,
    "start_time": "2021-07-07T14:40:39.783Z"
   },
   {
    "duration": 9,
    "start_time": "2021-07-07T14:40:48.558Z"
   },
   {
    "duration": 10,
    "start_time": "2021-07-07T14:40:57.143Z"
   },
   {
    "duration": 9,
    "start_time": "2021-07-07T14:41:06.074Z"
   },
   {
    "duration": 4324,
    "start_time": "2021-07-07T14:41:22.004Z"
   },
   {
    "duration": 11,
    "start_time": "2021-07-07T14:41:33.392Z"
   },
   {
    "duration": 9,
    "start_time": "2021-07-07T14:41:39.288Z"
   },
   {
    "duration": 569,
    "start_time": "2021-07-07T14:42:14.387Z"
   },
   {
    "duration": 197,
    "start_time": "2021-07-07T14:42:14.959Z"
   },
   {
    "duration": 84,
    "start_time": "2021-07-07T14:42:16.052Z"
   },
   {
    "duration": 4,
    "start_time": "2021-07-07T14:42:16.900Z"
   },
   {
    "duration": 27,
    "start_time": "2021-07-07T14:42:19.898Z"
   },
   {
    "duration": 12,
    "start_time": "2021-07-07T14:42:21.577Z"
   },
   {
    "duration": 9,
    "start_time": "2021-07-07T14:42:21.813Z"
   },
   {
    "duration": 9,
    "start_time": "2021-07-07T14:42:22.569Z"
   },
   {
    "duration": 29,
    "start_time": "2021-07-07T14:42:25.837Z"
   },
   {
    "duration": 20,
    "start_time": "2021-07-07T14:42:27.003Z"
   },
   {
    "duration": 21,
    "start_time": "2021-07-07T14:42:28.767Z"
   },
   {
    "duration": 7,
    "start_time": "2021-07-07T14:42:29.838Z"
   },
   {
    "duration": 4,
    "start_time": "2021-07-07T14:43:25.493Z"
   },
   {
    "duration": 7,
    "start_time": "2021-07-07T14:43:26.573Z"
   },
   {
    "duration": 10,
    "start_time": "2021-07-07T14:43:31.639Z"
   },
   {
    "duration": 9,
    "start_time": "2021-07-07T14:43:32.046Z"
   },
   {
    "duration": 10,
    "start_time": "2021-07-07T14:43:33.301Z"
   },
   {
    "duration": 12,
    "start_time": "2021-07-07T14:43:33.658Z"
   },
   {
    "duration": 8,
    "start_time": "2021-07-07T14:43:34.552Z"
   },
   {
    "duration": 9,
    "start_time": "2021-07-07T14:43:35.058Z"
   },
   {
    "duration": 12,
    "start_time": "2021-07-07T14:43:35.914Z"
   },
   {
    "duration": 17,
    "start_time": "2021-07-07T14:45:34.368Z"
   },
   {
    "duration": 512,
    "start_time": "2021-07-07T14:51:58.236Z"
   },
   {
    "duration": 223,
    "start_time": "2021-07-07T14:51:58.750Z"
   },
   {
    "duration": 93,
    "start_time": "2021-07-07T14:51:58.977Z"
   },
   {
    "duration": 4,
    "start_time": "2021-07-07T14:51:59.071Z"
   },
   {
    "duration": 37,
    "start_time": "2021-07-07T14:51:59.077Z"
   },
   {
    "duration": 18,
    "start_time": "2021-07-07T14:51:59.116Z"
   },
   {
    "duration": 10,
    "start_time": "2021-07-07T14:51:59.137Z"
   },
   {
    "duration": 8,
    "start_time": "2021-07-07T14:51:59.149Z"
   },
   {
    "duration": 54,
    "start_time": "2021-07-07T14:51:59.158Z"
   },
   {
    "duration": 18,
    "start_time": "2021-07-07T14:51:59.213Z"
   },
   {
    "duration": 22,
    "start_time": "2021-07-07T14:51:59.232Z"
   },
   {
    "duration": 36,
    "start_time": "2021-07-07T14:51:59.255Z"
   },
   {
    "duration": 7,
    "start_time": "2021-07-07T14:51:59.293Z"
   },
   {
    "duration": 10,
    "start_time": "2021-07-07T14:51:59.302Z"
   },
   {
    "duration": 9,
    "start_time": "2021-07-07T14:51:59.313Z"
   },
   {
    "duration": 11,
    "start_time": "2021-07-07T14:51:59.324Z"
   },
   {
    "duration": 8,
    "start_time": "2021-07-07T14:51:59.337Z"
   },
   {
    "duration": 46,
    "start_time": "2021-07-07T14:51:59.347Z"
   },
   {
    "duration": 22,
    "start_time": "2021-07-07T14:51:59.395Z"
   },
   {
    "duration": 24,
    "start_time": "2021-07-07T14:57:32.911Z"
   },
   {
    "duration": 7,
    "start_time": "2021-07-07T14:58:22.070Z"
   },
   {
    "duration": 4,
    "start_time": "2021-07-07T14:59:11.239Z"
   },
   {
    "duration": 25,
    "start_time": "2021-07-07T15:07:22.208Z"
   },
   {
    "duration": 16,
    "start_time": "2021-07-07T15:08:25.560Z"
   },
   {
    "duration": 15,
    "start_time": "2021-07-07T15:08:40.647Z"
   },
   {
    "duration": 14,
    "start_time": "2021-07-07T15:08:46.669Z"
   },
   {
    "duration": 533,
    "start_time": "2021-07-07T15:18:07.440Z"
   },
   {
    "duration": 173,
    "start_time": "2021-07-07T15:18:07.974Z"
   },
   {
    "duration": 84,
    "start_time": "2021-07-07T15:18:08.149Z"
   },
   {
    "duration": 3,
    "start_time": "2021-07-07T15:18:08.235Z"
   },
   {
    "duration": 30,
    "start_time": "2021-07-07T15:18:08.240Z"
   },
   {
    "duration": 22,
    "start_time": "2021-07-07T15:18:08.272Z"
   },
   {
    "duration": 11,
    "start_time": "2021-07-07T15:18:08.295Z"
   },
   {
    "duration": 11,
    "start_time": "2021-07-07T15:18:08.309Z"
   },
   {
    "duration": 40,
    "start_time": "2021-07-07T15:18:08.322Z"
   },
   {
    "duration": 42,
    "start_time": "2021-07-07T15:18:08.364Z"
   },
   {
    "duration": 22,
    "start_time": "2021-07-07T15:18:08.408Z"
   },
   {
    "duration": 5,
    "start_time": "2021-07-07T15:18:08.432Z"
   },
   {
    "duration": 13,
    "start_time": "2021-07-07T15:18:08.439Z"
   },
   {
    "duration": 9,
    "start_time": "2021-07-07T15:18:08.454Z"
   },
   {
    "duration": 32,
    "start_time": "2021-07-07T15:18:08.465Z"
   },
   {
    "duration": 10,
    "start_time": "2021-07-07T15:18:08.501Z"
   },
   {
    "duration": 7,
    "start_time": "2021-07-07T15:18:08.513Z"
   },
   {
    "duration": 11,
    "start_time": "2021-07-07T15:18:08.521Z"
   },
   {
    "duration": 17,
    "start_time": "2021-07-07T15:18:08.534Z"
   },
   {
    "duration": 44,
    "start_time": "2021-07-07T15:18:08.553Z"
   },
   {
    "duration": 22,
    "start_time": "2021-07-07T15:18:08.599Z"
   },
   {
    "duration": 61,
    "start_time": "2021-07-07T15:18:08.622Z"
   },
   {
    "duration": 7,
    "start_time": "2021-07-07T15:18:39.457Z"
   },
   {
    "duration": 5,
    "start_time": "2021-07-07T16:05:17.020Z"
   },
   {
    "duration": 5,
    "start_time": "2021-07-07T16:51:28.794Z"
   },
   {
    "duration": 546,
    "start_time": "2021-07-07T16:52:26.306Z"
   },
   {
    "duration": 203,
    "start_time": "2021-07-07T16:52:27.523Z"
   },
   {
    "duration": 85,
    "start_time": "2021-07-07T16:52:27.736Z"
   },
   {
    "duration": 4,
    "start_time": "2021-07-07T16:52:27.899Z"
   },
   {
    "duration": 25,
    "start_time": "2021-07-07T16:52:28.674Z"
   },
   {
    "duration": 8,
    "start_time": "2021-07-07T16:52:32.956Z"
   },
   {
    "duration": 18,
    "start_time": "2021-07-07T16:52:35.616Z"
   },
   {
    "duration": 6,
    "start_time": "2021-07-07T16:52:36.913Z"
   },
   {
    "duration": 11,
    "start_time": "2021-07-07T16:52:40.258Z"
   },
   {
    "duration": 10,
    "start_time": "2021-07-07T16:52:46.251Z"
   },
   {
    "duration": 8,
    "start_time": "2021-07-07T16:52:47.182Z"
   },
   {
    "duration": 27,
    "start_time": "2021-07-07T16:53:20.391Z"
   },
   {
    "duration": 20,
    "start_time": "2021-07-07T16:53:22.022Z"
   },
   {
    "duration": 23,
    "start_time": "2021-07-07T16:53:23.690Z"
   },
   {
    "duration": 8,
    "start_time": "2021-07-07T16:53:24.261Z"
   },
   {
    "duration": 4,
    "start_time": "2021-07-07T16:53:38.733Z"
   },
   {
    "duration": 7,
    "start_time": "2021-07-07T16:53:40.445Z"
   },
   {
    "duration": 11,
    "start_time": "2021-07-07T16:53:41.348Z"
   },
   {
    "duration": 13,
    "start_time": "2021-07-07T16:53:45.250Z"
   },
   {
    "duration": 12,
    "start_time": "2021-07-07T16:53:45.467Z"
   },
   {
    "duration": 4,
    "start_time": "2021-07-07T16:55:32.704Z"
   },
   {
    "duration": 12,
    "start_time": "2021-07-07T16:55:49.012Z"
   },
   {
    "duration": 18,
    "start_time": "2021-07-07T16:55:49.547Z"
   },
   {
    "duration": 611,
    "start_time": "2021-07-07T16:58:35.156Z"
   },
   {
    "duration": 200,
    "start_time": "2021-07-07T16:58:35.770Z"
   },
   {
    "duration": 86,
    "start_time": "2021-07-07T16:58:35.972Z"
   },
   {
    "duration": 3,
    "start_time": "2021-07-07T16:58:36.060Z"
   },
   {
    "duration": 27,
    "start_time": "2021-07-07T16:58:36.065Z"
   },
   {
    "duration": 8,
    "start_time": "2021-07-07T16:58:36.094Z"
   },
   {
    "duration": 17,
    "start_time": "2021-07-07T16:58:36.103Z"
   },
   {
    "duration": 5,
    "start_time": "2021-07-07T16:58:36.123Z"
   },
   {
    "duration": 11,
    "start_time": "2021-07-07T16:58:36.130Z"
   },
   {
    "duration": 7,
    "start_time": "2021-07-07T16:58:36.143Z"
   },
   {
    "duration": 37,
    "start_time": "2021-07-07T16:58:36.152Z"
   },
   {
    "duration": 27,
    "start_time": "2021-07-07T16:58:36.191Z"
   },
   {
    "duration": 19,
    "start_time": "2021-07-07T16:58:36.219Z"
   },
   {
    "duration": 49,
    "start_time": "2021-07-07T16:58:36.240Z"
   },
   {
    "duration": 6,
    "start_time": "2021-07-07T16:58:36.291Z"
   },
   {
    "duration": 3,
    "start_time": "2021-07-07T16:58:36.299Z"
   },
   {
    "duration": 13,
    "start_time": "2021-07-07T16:58:36.304Z"
   },
   {
    "duration": 10,
    "start_time": "2021-07-07T16:58:36.319Z"
   },
   {
    "duration": 10,
    "start_time": "2021-07-07T16:58:36.331Z"
   },
   {
    "duration": 44,
    "start_time": "2021-07-07T16:58:36.343Z"
   },
   {
    "duration": 4,
    "start_time": "2021-07-07T16:58:36.388Z"
   },
   {
    "duration": 13,
    "start_time": "2021-07-07T16:58:36.394Z"
   },
   {
    "duration": 16,
    "start_time": "2021-07-07T16:58:36.410Z"
   },
   {
    "duration": 8,
    "start_time": "2021-07-07T17:02:31.629Z"
   },
   {
    "duration": 8,
    "start_time": "2021-07-07T17:02:34.308Z"
   },
   {
    "duration": 6,
    "start_time": "2021-07-07T17:05:13.483Z"
   },
   {
    "duration": 17,
    "start_time": "2021-07-07T17:05:20.606Z"
   },
   {
    "duration": 7,
    "start_time": "2021-07-07T17:05:34.638Z"
   },
   {
    "duration": 3,
    "start_time": "2021-07-07T17:06:31.883Z"
   },
   {
    "duration": 570,
    "start_time": "2021-07-07T17:06:37.165Z"
   },
   {
    "duration": 174,
    "start_time": "2021-07-07T17:06:37.737Z"
   },
   {
    "duration": 47,
    "start_time": "2021-07-07T17:06:37.913Z"
   },
   {
    "duration": 3,
    "start_time": "2021-07-07T17:06:37.962Z"
   },
   {
    "duration": 27,
    "start_time": "2021-07-07T17:06:37.967Z"
   },
   {
    "duration": 7,
    "start_time": "2021-07-07T17:06:37.996Z"
   },
   {
    "duration": 16,
    "start_time": "2021-07-07T17:06:38.005Z"
   },
   {
    "duration": 6,
    "start_time": "2021-07-07T17:06:38.024Z"
   },
   {
    "duration": 12,
    "start_time": "2021-07-07T17:06:38.031Z"
   },
   {
    "duration": 41,
    "start_time": "2021-07-07T17:06:38.045Z"
   },
   {
    "duration": 8,
    "start_time": "2021-07-07T17:06:38.088Z"
   },
   {
    "duration": 26,
    "start_time": "2021-07-07T17:06:38.098Z"
   },
   {
    "duration": 17,
    "start_time": "2021-07-07T17:06:38.126Z"
   },
   {
    "duration": 43,
    "start_time": "2021-07-07T17:06:38.144Z"
   },
   {
    "duration": 6,
    "start_time": "2021-07-07T17:06:38.188Z"
   },
   {
    "duration": 5,
    "start_time": "2021-07-07T17:06:38.195Z"
   },
   {
    "duration": 9,
    "start_time": "2021-07-07T17:06:38.201Z"
   },
   {
    "duration": 12,
    "start_time": "2021-07-07T17:06:38.212Z"
   },
   {
    "duration": 11,
    "start_time": "2021-07-07T17:06:38.226Z"
   },
   {
    "duration": 47,
    "start_time": "2021-07-07T17:06:38.239Z"
   },
   {
    "duration": 4,
    "start_time": "2021-07-07T17:06:38.288Z"
   },
   {
    "duration": 13,
    "start_time": "2021-07-07T17:06:38.293Z"
   },
   {
    "duration": 5,
    "start_time": "2021-07-07T17:06:38.309Z"
   },
   {
    "duration": 18,
    "start_time": "2021-07-07T17:06:38.325Z"
   },
   {
    "duration": 20,
    "start_time": "2021-07-07T17:07:02.805Z"
   },
   {
    "duration": 19,
    "start_time": "2021-07-07T17:07:08.527Z"
   },
   {
    "duration": 19,
    "start_time": "2021-07-07T17:07:12.758Z"
   },
   {
    "duration": 22,
    "start_time": "2021-07-07T17:07:17.497Z"
   },
   {
    "duration": 19,
    "start_time": "2021-07-07T17:07:19.645Z"
   },
   {
    "duration": 10,
    "start_time": "2021-07-07T17:07:34.239Z"
   },
   {
    "duration": 17,
    "start_time": "2021-07-07T17:07:54.144Z"
   },
   {
    "duration": 14,
    "start_time": "2021-07-07T17:08:14.357Z"
   },
   {
    "duration": 616,
    "start_time": "2021-07-07T17:08:45.254Z"
   },
   {
    "duration": 178,
    "start_time": "2021-07-07T17:08:45.872Z"
   },
   {
    "duration": 60,
    "start_time": "2021-07-07T17:08:46.054Z"
   },
   {
    "duration": 3,
    "start_time": "2021-07-07T17:08:46.116Z"
   },
   {
    "duration": 26,
    "start_time": "2021-07-07T17:08:46.121Z"
   },
   {
    "duration": 7,
    "start_time": "2021-07-07T17:08:46.149Z"
   },
   {
    "duration": 17,
    "start_time": "2021-07-07T17:08:46.158Z"
   },
   {
    "duration": 14,
    "start_time": "2021-07-07T17:08:46.176Z"
   },
   {
    "duration": 17,
    "start_time": "2021-07-07T17:08:46.193Z"
   },
   {
    "duration": 9,
    "start_time": "2021-07-07T17:08:46.211Z"
   },
   {
    "duration": 21,
    "start_time": "2021-07-07T17:08:46.221Z"
   },
   {
    "duration": 49,
    "start_time": "2021-07-07T17:08:46.244Z"
   },
   {
    "duration": 24,
    "start_time": "2021-07-07T17:08:46.295Z"
   },
   {
    "duration": 22,
    "start_time": "2021-07-07T17:08:46.321Z"
   },
   {
    "duration": 6,
    "start_time": "2021-07-07T17:08:46.345Z"
   },
   {
    "duration": 5,
    "start_time": "2021-07-07T17:08:46.353Z"
   },
   {
    "duration": 13,
    "start_time": "2021-07-07T17:08:46.386Z"
   },
   {
    "duration": 12,
    "start_time": "2021-07-07T17:08:46.402Z"
   },
   {
    "duration": 10,
    "start_time": "2021-07-07T17:08:46.415Z"
   },
   {
    "duration": 7,
    "start_time": "2021-07-07T17:08:46.427Z"
   },
   {
    "duration": 8,
    "start_time": "2021-07-07T17:08:46.435Z"
   },
   {
    "duration": 68,
    "start_time": "2021-07-07T17:08:46.446Z"
   },
   {
    "duration": 13,
    "start_time": "2021-07-07T17:08:46.516Z"
   },
   {
    "duration": 78,
    "start_time": "2021-07-07T17:08:46.530Z"
   },
   {
    "duration": 40,
    "start_time": "2021-07-07T17:09:08.185Z"
   },
   {
    "duration": 16,
    "start_time": "2021-07-07T17:09:19.324Z"
   },
   {
    "duration": 21,
    "start_time": "2021-07-07T17:09:23.290Z"
   },
   {
    "duration": 13,
    "start_time": "2021-07-07T17:09:54.812Z"
   },
   {
    "duration": 13,
    "start_time": "2021-07-07T17:10:02.039Z"
   },
   {
    "duration": 10,
    "start_time": "2021-07-07T17:10:29.632Z"
   },
   {
    "duration": 13,
    "start_time": "2021-07-07T17:10:52.372Z"
   },
   {
    "duration": 13,
    "start_time": "2021-07-07T17:11:17.270Z"
   },
   {
    "duration": 13,
    "start_time": "2021-07-07T17:14:59.284Z"
   },
   {
    "duration": 547,
    "start_time": "2021-07-07T17:18:52.403Z"
   },
   {
    "duration": 163,
    "start_time": "2021-07-07T17:18:52.952Z"
   },
   {
    "duration": 44,
    "start_time": "2021-07-07T17:18:53.117Z"
   },
   {
    "duration": 3,
    "start_time": "2021-07-07T17:18:53.162Z"
   },
   {
    "duration": 26,
    "start_time": "2021-07-07T17:18:53.167Z"
   },
   {
    "duration": 6,
    "start_time": "2021-07-07T17:18:53.195Z"
   },
   {
    "duration": 15,
    "start_time": "2021-07-07T17:18:53.203Z"
   },
   {
    "duration": 5,
    "start_time": "2021-07-07T17:18:53.220Z"
   },
   {
    "duration": 11,
    "start_time": "2021-07-07T17:18:53.228Z"
   },
   {
    "duration": 9,
    "start_time": "2021-07-07T17:18:53.241Z"
   },
   {
    "duration": 41,
    "start_time": "2021-07-07T17:18:53.252Z"
   },
   {
    "duration": 33,
    "start_time": "2021-07-07T17:18:53.295Z"
   },
   {
    "duration": 19,
    "start_time": "2021-07-07T17:18:53.330Z"
   },
   {
    "duration": 49,
    "start_time": "2021-07-07T17:18:53.350Z"
   },
   {
    "duration": 5,
    "start_time": "2021-07-07T17:18:53.401Z"
   },
   {
    "duration": 5,
    "start_time": "2021-07-07T17:18:53.408Z"
   },
   {
    "duration": 11,
    "start_time": "2021-07-07T17:18:53.414Z"
   },
   {
    "duration": 9,
    "start_time": "2021-07-07T17:18:53.427Z"
   },
   {
    "duration": 10,
    "start_time": "2021-07-07T17:18:53.437Z"
   },
   {
    "duration": 39,
    "start_time": "2021-07-07T17:18:53.448Z"
   },
   {
    "duration": 26,
    "start_time": "2021-07-07T17:18:55.799Z"
   },
   {
    "duration": 598,
    "start_time": "2021-07-07T17:20:17.862Z"
   },
   {
    "duration": 161,
    "start_time": "2021-07-07T17:20:18.462Z"
   },
   {
    "duration": 45,
    "start_time": "2021-07-07T17:20:18.626Z"
   },
   {
    "duration": 4,
    "start_time": "2021-07-07T17:20:18.673Z"
   },
   {
    "duration": 38,
    "start_time": "2021-07-07T17:20:26.877Z"
   },
   {
    "duration": 7,
    "start_time": "2021-07-07T17:20:37.405Z"
   },
   {
    "duration": 19,
    "start_time": "2021-07-07T17:20:51.534Z"
   },
   {
    "duration": 5,
    "start_time": "2021-07-07T17:20:57.228Z"
   },
   {
    "duration": 7,
    "start_time": "2021-07-07T17:21:08.235Z"
   },
   {
    "duration": 19,
    "start_time": "2021-07-07T17:21:42.158Z"
   },
   {
    "duration": 14,
    "start_time": "2021-07-07T17:21:50.225Z"
   },
   {
    "duration": 22,
    "start_time": "2021-07-07T17:22:54.104Z"
   },
   {
    "duration": 5,
    "start_time": "2021-07-07T17:22:56.371Z"
   },
   {
    "duration": 14,
    "start_time": "2021-07-07T17:22:58.316Z"
   },
   {
    "duration": 5,
    "start_time": "2021-07-07T17:22:58.493Z"
   },
   {
    "duration": 35,
    "start_time": "2021-07-07T17:22:59.666Z"
   },
   {
    "duration": 6,
    "start_time": "2021-07-07T17:23:02.410Z"
   },
   {
    "duration": 611,
    "start_time": "2021-07-07T17:24:59.664Z"
   },
   {
    "duration": 178,
    "start_time": "2021-07-07T17:25:01.945Z"
   },
   {
    "duration": 47,
    "start_time": "2021-07-07T17:25:02.125Z"
   },
   {
    "duration": 2,
    "start_time": "2021-07-07T17:25:07.903Z"
   },
   {
    "duration": 254,
    "start_time": "2021-07-07T17:25:08.232Z"
   },
   {
    "duration": 182,
    "start_time": "2021-07-07T17:25:08.671Z"
   },
   {
    "duration": 6,
    "start_time": "2021-07-07T17:25:13.104Z"
   },
   {
    "duration": 36,
    "start_time": "2021-07-07T17:25:13.662Z"
   },
   {
    "duration": 7,
    "start_time": "2021-07-07T17:25:14.528Z"
   },
   {
    "duration": 24,
    "start_time": "2021-07-07T17:25:27.982Z"
   },
   {
    "duration": 3,
    "start_time": "2021-07-07T17:25:48.982Z"
   },
   {
    "duration": 165,
    "start_time": "2021-07-07T17:25:48.987Z"
   },
   {
    "duration": 50,
    "start_time": "2021-07-07T17:25:49.154Z"
   },
   {
    "duration": 4,
    "start_time": "2021-07-07T17:25:49.206Z"
   },
   {
    "duration": 26,
    "start_time": "2021-07-07T17:25:49.212Z"
   },
   {
    "duration": 7,
    "start_time": "2021-07-07T17:25:49.240Z"
   },
   {
    "duration": 16,
    "start_time": "2021-07-07T17:25:49.249Z"
   },
   {
    "duration": 22,
    "start_time": "2021-07-07T17:25:49.266Z"
   },
   {
    "duration": 16,
    "start_time": "2021-07-07T17:25:49.291Z"
   },
   {
    "duration": 9,
    "start_time": "2021-07-07T17:25:49.309Z"
   },
   {
    "duration": 7,
    "start_time": "2021-07-07T17:25:49.319Z"
   },
   {
    "duration": 28,
    "start_time": "2021-07-07T17:25:49.328Z"
   },
   {
    "duration": 44,
    "start_time": "2021-07-07T17:25:49.357Z"
   },
   {
    "duration": 22,
    "start_time": "2021-07-07T17:25:49.403Z"
   },
   {
    "duration": 7,
    "start_time": "2021-07-07T17:25:49.427Z"
   },
   {
    "duration": 3,
    "start_time": "2021-07-07T17:25:49.436Z"
   },
   {
    "duration": 44,
    "start_time": "2021-07-07T17:25:49.441Z"
   },
   {
    "duration": 12,
    "start_time": "2021-07-07T17:25:49.488Z"
   },
   {
    "duration": 13,
    "start_time": "2021-07-07T17:25:49.502Z"
   },
   {
    "duration": 10,
    "start_time": "2021-07-07T17:25:49.516Z"
   },
   {
    "duration": 62,
    "start_time": "2021-07-07T17:25:49.527Z"
   },
   {
    "duration": 26,
    "start_time": "2021-07-07T17:26:51.809Z"
   },
   {
    "duration": 26,
    "start_time": "2021-07-07T17:26:55.759Z"
   },
   {
    "duration": 26,
    "start_time": "2021-07-07T17:27:04.501Z"
   },
   {
    "duration": 25,
    "start_time": "2021-07-07T17:28:24.859Z"
   },
   {
    "duration": 21,
    "start_time": "2021-07-07T17:28:55.250Z"
   },
   {
    "duration": 21,
    "start_time": "2021-07-07T17:28:58.885Z"
   },
   {
    "duration": 7,
    "start_time": "2021-07-07T17:45:40.972Z"
   },
   {
    "duration": 13,
    "start_time": "2021-07-07T17:45:42.529Z"
   },
   {
    "duration": 27,
    "start_time": "2021-07-07T17:45:51.026Z"
   },
   {
    "duration": 518,
    "start_time": "2021-07-07T17:46:15.532Z"
   },
   {
    "duration": 235,
    "start_time": "2021-07-07T17:46:16.053Z"
   },
   {
    "duration": 80,
    "start_time": "2021-07-07T17:46:16.292Z"
   },
   {
    "duration": 5,
    "start_time": "2021-07-07T17:46:16.373Z"
   },
   {
    "duration": 26,
    "start_time": "2021-07-07T17:46:16.380Z"
   },
   {
    "duration": 7,
    "start_time": "2021-07-07T17:46:16.408Z"
   },
   {
    "duration": 16,
    "start_time": "2021-07-07T17:46:16.418Z"
   },
   {
    "duration": 5,
    "start_time": "2021-07-07T17:46:16.436Z"
   },
   {
    "duration": 13,
    "start_time": "2021-07-07T17:46:16.442Z"
   },
   {
    "duration": 35,
    "start_time": "2021-07-07T17:46:16.456Z"
   },
   {
    "duration": 8,
    "start_time": "2021-07-07T17:46:16.493Z"
   },
   {
    "duration": 28,
    "start_time": "2021-07-07T17:46:16.502Z"
   },
   {
    "duration": 17,
    "start_time": "2021-07-07T17:46:16.532Z"
   },
   {
    "duration": 44,
    "start_time": "2021-07-07T17:46:16.551Z"
   },
   {
    "duration": 6,
    "start_time": "2021-07-07T17:46:16.597Z"
   },
   {
    "duration": 4,
    "start_time": "2021-07-07T17:46:16.605Z"
   },
   {
    "duration": 9,
    "start_time": "2021-07-07T17:46:16.610Z"
   },
   {
    "duration": 9,
    "start_time": "2021-07-07T17:46:16.621Z"
   },
   {
    "duration": 10,
    "start_time": "2021-07-07T17:46:16.632Z"
   },
   {
    "duration": 43,
    "start_time": "2021-07-07T17:46:16.644Z"
   },
   {
    "duration": 26,
    "start_time": "2021-07-07T17:46:16.689Z"
   },
   {
    "duration": 19,
    "start_time": "2021-07-07T17:46:16.718Z"
   },
   {
    "duration": 8,
    "start_time": "2021-07-07T17:46:16.738Z"
   },
   {
    "duration": 43,
    "start_time": "2021-07-07T17:46:16.747Z"
   },
   {
    "duration": 19,
    "start_time": "2021-07-07T17:46:16.791Z"
   },
   {
    "duration": 9,
    "start_time": "2021-07-07T17:46:16.812Z"
   },
   {
    "duration": 60,
    "start_time": "2021-07-07T17:46:16.822Z"
   },
   {
    "duration": -8,
    "start_time": "2021-07-07T17:46:16.892Z"
   },
   {
    "duration": 12,
    "start_time": "2021-07-07T17:48:47.707Z"
   },
   {
    "duration": 553,
    "start_time": "2021-07-07T18:10:09.350Z"
   },
   {
    "duration": 230,
    "start_time": "2021-07-07T18:10:09.905Z"
   },
   {
    "duration": 97,
    "start_time": "2021-07-07T18:10:10.137Z"
   },
   {
    "duration": 5,
    "start_time": "2021-07-07T18:10:10.236Z"
   },
   {
    "duration": 29,
    "start_time": "2021-07-07T18:10:10.242Z"
   },
   {
    "duration": 7,
    "start_time": "2021-07-07T18:10:10.272Z"
   },
   {
    "duration": 15,
    "start_time": "2021-07-07T18:10:10.281Z"
   },
   {
    "duration": 4,
    "start_time": "2021-07-07T18:10:10.299Z"
   },
   {
    "duration": 14,
    "start_time": "2021-07-07T18:10:10.305Z"
   },
   {
    "duration": 8,
    "start_time": "2021-07-07T18:10:10.321Z"
   },
   {
    "duration": 8,
    "start_time": "2021-07-07T18:10:10.331Z"
   },
   {
    "duration": 56,
    "start_time": "2021-07-07T18:10:10.341Z"
   },
   {
    "duration": 19,
    "start_time": "2021-07-07T18:10:10.399Z"
   },
   {
    "duration": 23,
    "start_time": "2021-07-07T18:10:10.419Z"
   },
   {
    "duration": 6,
    "start_time": "2021-07-07T18:10:10.444Z"
   },
   {
    "duration": 9,
    "start_time": "2021-07-07T18:10:10.451Z"
   },
   {
    "duration": 30,
    "start_time": "2021-07-07T18:10:10.462Z"
   },
   {
    "duration": 9,
    "start_time": "2021-07-07T18:10:10.494Z"
   },
   {
    "duration": 14,
    "start_time": "2021-07-07T18:10:10.505Z"
   },
   {
    "duration": 7,
    "start_time": "2021-07-07T18:10:10.521Z"
   },
   {
    "duration": 26,
    "start_time": "2021-07-07T18:10:10.530Z"
   },
   {
    "duration": 44,
    "start_time": "2021-07-07T18:10:10.558Z"
   },
   {
    "duration": 7,
    "start_time": "2021-07-07T18:10:10.605Z"
   },
   {
    "duration": 11,
    "start_time": "2021-07-07T18:10:10.614Z"
   },
   {
    "duration": 19,
    "start_time": "2021-07-07T18:10:10.626Z"
   },
   {
    "duration": 44,
    "start_time": "2021-07-07T18:10:10.646Z"
   },
   {
    "duration": 516,
    "start_time": "2021-07-07T18:14:00.826Z"
   },
   {
    "duration": 230,
    "start_time": "2021-07-07T18:14:01.344Z"
   },
   {
    "duration": 105,
    "start_time": "2021-07-07T18:14:01.576Z"
   },
   {
    "duration": 5,
    "start_time": "2021-07-07T18:14:01.683Z"
   },
   {
    "duration": 46,
    "start_time": "2021-07-07T18:14:01.690Z"
   },
   {
    "duration": 7,
    "start_time": "2021-07-07T18:14:01.738Z"
   },
   {
    "duration": 20,
    "start_time": "2021-07-07T18:14:01.747Z"
   },
   {
    "duration": 16,
    "start_time": "2021-07-07T18:14:01.769Z"
   },
   {
    "duration": 14,
    "start_time": "2021-07-07T18:14:01.787Z"
   },
   {
    "duration": 15,
    "start_time": "2021-07-07T18:14:01.803Z"
   },
   {
    "duration": 12,
    "start_time": "2021-07-07T18:14:01.820Z"
   },
   {
    "duration": 35,
    "start_time": "2021-07-07T18:14:01.833Z"
   },
   {
    "duration": 31,
    "start_time": "2021-07-07T18:14:01.869Z"
   },
   {
    "duration": 37,
    "start_time": "2021-07-07T18:14:01.902Z"
   },
   {
    "duration": 8,
    "start_time": "2021-07-07T18:14:01.942Z"
   },
   {
    "duration": 16,
    "start_time": "2021-07-07T18:14:01.952Z"
   },
   {
    "duration": 13,
    "start_time": "2021-07-07T18:14:01.970Z"
   },
   {
    "duration": 32,
    "start_time": "2021-07-07T18:14:01.985Z"
   },
   {
    "duration": 11,
    "start_time": "2021-07-07T18:14:02.019Z"
   },
   {
    "duration": 22,
    "start_time": "2021-07-07T18:14:02.031Z"
   },
   {
    "duration": 27,
    "start_time": "2021-07-07T18:14:02.055Z"
   },
   {
    "duration": 18,
    "start_time": "2021-07-07T18:14:02.084Z"
   },
   {
    "duration": 18,
    "start_time": "2021-07-07T18:14:02.106Z"
   },
   {
    "duration": 11,
    "start_time": "2021-07-07T18:14:02.126Z"
   },
   {
    "duration": 21,
    "start_time": "2021-07-07T18:14:02.138Z"
   },
   {
    "duration": 32,
    "start_time": "2021-07-07T18:14:02.161Z"
   },
   {
    "duration": 28,
    "start_time": "2021-07-07T18:14:44.295Z"
   },
   {
    "duration": 6,
    "start_time": "2021-07-07T18:15:05.834Z"
   },
   {
    "duration": 511,
    "start_time": "2021-07-07T18:15:41.541Z"
   },
   {
    "duration": 183,
    "start_time": "2021-07-07T18:15:42.054Z"
   },
   {
    "duration": 50,
    "start_time": "2021-07-07T18:15:42.239Z"
   },
   {
    "duration": 5,
    "start_time": "2021-07-07T18:15:42.291Z"
   },
   {
    "duration": 48,
    "start_time": "2021-07-07T18:15:42.297Z"
   },
   {
    "duration": 8,
    "start_time": "2021-07-07T18:15:42.346Z"
   },
   {
    "duration": 17,
    "start_time": "2021-07-07T18:15:42.356Z"
   },
   {
    "duration": 15,
    "start_time": "2021-07-07T18:15:42.375Z"
   },
   {
    "duration": 12,
    "start_time": "2021-07-07T18:15:42.392Z"
   },
   {
    "duration": 7,
    "start_time": "2021-07-07T18:15:42.406Z"
   },
   {
    "duration": 7,
    "start_time": "2021-07-07T18:15:42.415Z"
   },
   {
    "duration": 29,
    "start_time": "2021-07-07T18:15:42.423Z"
   },
   {
    "duration": 43,
    "start_time": "2021-07-07T18:15:42.453Z"
   },
   {
    "duration": 18,
    "start_time": "2021-07-07T18:15:42.497Z"
   },
   {
    "duration": 6,
    "start_time": "2021-07-07T18:15:42.516Z"
   },
   {
    "duration": 3,
    "start_time": "2021-07-07T18:15:42.523Z"
   },
   {
    "duration": 18,
    "start_time": "2021-07-07T18:15:42.528Z"
   },
   {
    "duration": 10,
    "start_time": "2021-07-07T18:15:42.547Z"
   },
   {
    "duration": 36,
    "start_time": "2021-07-07T18:15:42.559Z"
   },
   {
    "duration": 8,
    "start_time": "2021-07-07T18:15:42.597Z"
   },
   {
    "duration": 28,
    "start_time": "2021-07-07T18:15:42.606Z"
   },
   {
    "duration": 52,
    "start_time": "2021-07-07T18:15:42.635Z"
   },
   {
    "duration": 7,
    "start_time": "2021-07-07T18:15:42.690Z"
   },
   {
    "duration": 10,
    "start_time": "2021-07-07T18:15:42.699Z"
   },
   {
    "duration": 19,
    "start_time": "2021-07-07T18:15:42.711Z"
   },
   {
    "duration": 9,
    "start_time": "2021-07-07T18:15:42.732Z"
   },
   {
    "duration": 5,
    "start_time": "2021-07-07T18:15:42.743Z"
   },
   {
    "duration": 1450,
    "start_time": "2021-07-07T18:15:51.984Z"
   },
   {
    "duration": 161,
    "start_time": "2021-07-07T18:15:53.435Z"
   },
   {
    "duration": 124,
    "start_time": "2021-07-07T18:15:53.598Z"
   },
   {
    "duration": 5,
    "start_time": "2021-07-07T18:15:53.724Z"
   },
   {
    "duration": 34,
    "start_time": "2021-07-07T18:15:53.730Z"
   },
   {
    "duration": 7,
    "start_time": "2021-07-07T18:15:53.765Z"
   },
   {
    "duration": 15,
    "start_time": "2021-07-07T18:15:53.773Z"
   },
   {
    "duration": 5,
    "start_time": "2021-07-07T18:15:53.791Z"
   },
   {
    "duration": 19,
    "start_time": "2021-07-07T18:15:53.798Z"
   },
   {
    "duration": 9,
    "start_time": "2021-07-07T18:15:53.818Z"
   },
   {
    "duration": 19,
    "start_time": "2021-07-07T18:15:53.828Z"
   },
   {
    "duration": 27,
    "start_time": "2021-07-07T18:15:53.848Z"
   },
   {
    "duration": 16,
    "start_time": "2021-07-07T18:15:53.884Z"
   },
   {
    "duration": 29,
    "start_time": "2021-07-07T18:15:53.901Z"
   },
   {
    "duration": 5,
    "start_time": "2021-07-07T18:15:53.932Z"
   },
   {
    "duration": 15,
    "start_time": "2021-07-07T18:15:53.939Z"
   },
   {
    "duration": 13,
    "start_time": "2021-07-07T18:15:53.956Z"
   },
   {
    "duration": 20,
    "start_time": "2021-07-07T18:15:53.971Z"
   },
   {
    "duration": 14,
    "start_time": "2021-07-07T18:15:53.992Z"
   },
   {
    "duration": 9,
    "start_time": "2021-07-07T18:15:54.009Z"
   },
   {
    "duration": 28,
    "start_time": "2021-07-07T18:15:54.020Z"
   },
   {
    "duration": 50,
    "start_time": "2021-07-07T18:15:54.051Z"
   },
   {
    "duration": 8,
    "start_time": "2021-07-07T18:15:54.105Z"
   },
   {
    "duration": 11,
    "start_time": "2021-07-07T18:15:54.115Z"
   },
   {
    "duration": 20,
    "start_time": "2021-07-07T18:15:54.128Z"
   },
   {
    "duration": 13,
    "start_time": "2021-07-07T18:15:54.184Z"
   },
   {
    "duration": 7,
    "start_time": "2021-07-07T18:15:54.199Z"
   },
   {
    "duration": 7,
    "start_time": "2021-07-07T18:17:08.042Z"
   },
   {
    "duration": 8,
    "start_time": "2021-07-07T18:17:21.008Z"
   },
   {
    "duration": 7,
    "start_time": "2021-07-07T18:17:29.003Z"
   },
   {
    "duration": 8,
    "start_time": "2021-07-07T18:17:32.492Z"
   },
   {
    "duration": 9,
    "start_time": "2021-07-07T18:17:41.758Z"
   },
   {
    "duration": 255,
    "start_time": "2021-07-07T18:20:20.897Z"
   },
   {
    "duration": 173,
    "start_time": "2021-07-07T18:20:26.636Z"
   },
   {
    "duration": 7,
    "start_time": "2021-07-07T18:21:47.164Z"
   },
   {
    "duration": 254,
    "start_time": "2021-07-07T18:23:08.703Z"
   },
   {
    "duration": 21,
    "start_time": "2021-07-07T18:23:22.506Z"
   },
   {
    "duration": 315,
    "start_time": "2021-07-07T18:25:54.801Z"
   },
   {
    "duration": 34,
    "start_time": "2021-07-07T18:26:51.817Z"
   },
   {
    "duration": 327,
    "start_time": "2021-07-07T18:26:56.147Z"
   },
   {
    "duration": 342,
    "start_time": "2021-07-07T18:27:15.887Z"
   },
   {
    "duration": 302,
    "start_time": "2021-07-07T18:28:18.569Z"
   },
   {
    "duration": 226,
    "start_time": "2021-07-07T18:29:20.879Z"
   },
   {
    "duration": 207,
    "start_time": "2021-07-07T18:29:58.114Z"
   },
   {
    "duration": 140,
    "start_time": "2021-07-07T18:32:04.372Z"
   },
   {
    "duration": 158,
    "start_time": "2021-07-07T18:32:32.508Z"
   },
   {
    "duration": 145,
    "start_time": "2021-07-07T18:32:41.365Z"
   },
   {
    "duration": 132,
    "start_time": "2021-07-07T18:32:45.199Z"
   },
   {
    "duration": 11,
    "start_time": "2021-07-07T18:35:24.679Z"
   },
   {
    "duration": 268,
    "start_time": "2021-07-07T18:36:16.145Z"
   },
   {
    "duration": 227,
    "start_time": "2021-07-07T18:37:04.918Z"
   },
   {
    "duration": 3,
    "start_time": "2021-07-07T18:37:33.012Z"
   },
   {
    "duration": 671,
    "start_time": "2021-07-07T18:37:38.295Z"
   },
   {
    "duration": 54,
    "start_time": "2021-07-07T18:37:53.406Z"
   },
   {
    "duration": 631,
    "start_time": "2021-07-07T18:37:56.463Z"
   },
   {
    "duration": 19,
    "start_time": "2021-07-07T18:39:40.535Z"
   },
   {
    "duration": 20,
    "start_time": "2021-07-07T18:40:12.236Z"
   },
   {
    "duration": 633,
    "start_time": "2021-07-07T18:42:00.398Z"
   },
   {
    "duration": 218,
    "start_time": "2021-07-07T18:42:01.033Z"
   },
   {
    "duration": 49,
    "start_time": "2021-07-07T18:42:01.253Z"
   },
   {
    "duration": 5,
    "start_time": "2021-07-07T18:42:01.303Z"
   },
   {
    "duration": 27,
    "start_time": "2021-07-07T18:42:01.310Z"
   },
   {
    "duration": 8,
    "start_time": "2021-07-07T18:42:01.339Z"
   },
   {
    "duration": 20,
    "start_time": "2021-07-07T18:42:01.348Z"
   },
   {
    "duration": 6,
    "start_time": "2021-07-07T18:42:01.386Z"
   },
   {
    "duration": 16,
    "start_time": "2021-07-07T18:42:01.394Z"
   },
   {
    "duration": 9,
    "start_time": "2021-07-07T18:42:01.411Z"
   },
   {
    "duration": 11,
    "start_time": "2021-07-07T18:42:01.421Z"
   },
   {
    "duration": 31,
    "start_time": "2021-07-07T18:42:01.434Z"
   },
   {
    "duration": 18,
    "start_time": "2021-07-07T18:42:01.485Z"
   },
   {
    "duration": 23,
    "start_time": "2021-07-07T18:42:01.505Z"
   },
   {
    "duration": 6,
    "start_time": "2021-07-07T18:42:01.530Z"
   },
   {
    "duration": 10,
    "start_time": "2021-07-07T18:42:01.538Z"
   },
   {
    "duration": 13,
    "start_time": "2021-07-07T18:42:01.550Z"
   },
   {
    "duration": 24,
    "start_time": "2021-07-07T18:42:01.564Z"
   },
   {
    "duration": 20,
    "start_time": "2021-07-07T18:42:01.590Z"
   },
   {
    "duration": 8,
    "start_time": "2021-07-07T18:42:01.611Z"
   },
   {
    "duration": 31,
    "start_time": "2021-07-07T18:42:01.620Z"
   },
   {
    "duration": 39,
    "start_time": "2021-07-07T18:42:01.653Z"
   },
   {
    "duration": 8,
    "start_time": "2021-07-07T18:42:01.696Z"
   },
   {
    "duration": 13,
    "start_time": "2021-07-07T18:42:01.705Z"
   },
   {
    "duration": 20,
    "start_time": "2021-07-07T18:42:01.720Z"
   },
   {
    "duration": 12,
    "start_time": "2021-07-07T18:42:01.741Z"
   },
   {
    "duration": 35,
    "start_time": "2021-07-07T18:42:01.755Z"
   },
   {
    "duration": 14,
    "start_time": "2021-07-07T18:42:01.792Z"
   },
   {
    "duration": 188,
    "start_time": "2021-07-07T18:42:01.808Z"
   },
   {
    "duration": 19,
    "start_time": "2021-07-07T18:42:01.998Z"
   },
   {
    "duration": 175,
    "start_time": "2021-07-07T18:42:02.019Z"
   },
   {
    "duration": 134,
    "start_time": "2021-07-07T18:42:02.196Z"
   },
   {
    "duration": 10,
    "start_time": "2021-07-07T18:42:02.331Z"
   },
   {
    "duration": 19,
    "start_time": "2021-07-07T18:42:02.343Z"
   },
   {
    "duration": 628,
    "start_time": "2021-07-07T18:46:30.701Z"
   },
   {
    "duration": 183,
    "start_time": "2021-07-07T18:46:31.331Z"
   },
   {
    "duration": 48,
    "start_time": "2021-07-07T18:46:31.516Z"
   },
   {
    "duration": 5,
    "start_time": "2021-07-07T18:46:31.566Z"
   },
   {
    "duration": 28,
    "start_time": "2021-07-07T18:46:31.572Z"
   },
   {
    "duration": 8,
    "start_time": "2021-07-07T18:46:31.602Z"
   },
   {
    "duration": 19,
    "start_time": "2021-07-07T18:46:31.611Z"
   },
   {
    "duration": 6,
    "start_time": "2021-07-07T18:46:31.633Z"
   },
   {
    "duration": 17,
    "start_time": "2021-07-07T18:46:31.642Z"
   },
   {
    "duration": 10,
    "start_time": "2021-07-07T18:46:31.684Z"
   },
   {
    "duration": 9,
    "start_time": "2021-07-07T18:46:31.695Z"
   },
   {
    "duration": 28,
    "start_time": "2021-07-07T18:46:31.705Z"
   },
   {
    "duration": 18,
    "start_time": "2021-07-07T18:46:31.735Z"
   },
   {
    "duration": 48,
    "start_time": "2021-07-07T18:46:31.755Z"
   },
   {
    "duration": 6,
    "start_time": "2021-07-07T18:46:31.804Z"
   },
   {
    "duration": 4,
    "start_time": "2021-07-07T18:46:31.812Z"
   },
   {
    "duration": 9,
    "start_time": "2021-07-07T18:46:31.817Z"
   },
   {
    "duration": 10,
    "start_time": "2021-07-07T18:46:31.827Z"
   },
   {
    "duration": 12,
    "start_time": "2021-07-07T18:46:31.838Z"
   },
   {
    "duration": 39,
    "start_time": "2021-07-07T18:46:31.851Z"
   },
   {
    "duration": 24,
    "start_time": "2021-07-07T18:46:31.892Z"
   },
   {
    "duration": 15,
    "start_time": "2021-07-07T18:46:31.918Z"
   },
   {
    "duration": 7,
    "start_time": "2021-07-07T18:46:31.936Z"
   },
   {
    "duration": 8,
    "start_time": "2021-07-07T18:46:31.944Z"
   },
   {
    "duration": 19,
    "start_time": "2021-07-07T18:46:31.984Z"
   },
   {
    "duration": 10,
    "start_time": "2021-07-07T18:46:32.004Z"
   },
   {
    "duration": 5,
    "start_time": "2021-07-07T18:46:32.016Z"
   },
   {
    "duration": 9,
    "start_time": "2021-07-07T18:46:32.023Z"
   },
   {
    "duration": 199,
    "start_time": "2021-07-07T18:46:32.033Z"
   },
   {
    "duration": 19,
    "start_time": "2021-07-07T18:46:32.234Z"
   },
   {
    "duration": 159,
    "start_time": "2021-07-07T18:46:32.255Z"
   },
   {
    "duration": 134,
    "start_time": "2021-07-07T18:46:32.416Z"
   },
   {
    "duration": 10,
    "start_time": "2021-07-07T18:46:32.552Z"
   },
   {
    "duration": 34,
    "start_time": "2021-07-07T18:46:32.563Z"
   },
   {
    "duration": 1039,
    "start_time": "2021-07-08T08:41:09.419Z"
   },
   {
    "duration": 333,
    "start_time": "2021-07-08T08:41:10.459Z"
   },
   {
    "duration": 173,
    "start_time": "2021-07-08T08:41:10.794Z"
   },
   {
    "duration": 5,
    "start_time": "2021-07-08T08:41:10.968Z"
   },
   {
    "duration": 25,
    "start_time": "2021-07-08T08:41:10.975Z"
   },
   {
    "duration": 9,
    "start_time": "2021-07-08T08:41:11.002Z"
   },
   {
    "duration": 18,
    "start_time": "2021-07-08T08:41:11.013Z"
   },
   {
    "duration": 6,
    "start_time": "2021-07-08T08:41:11.033Z"
   },
   {
    "duration": 44,
    "start_time": "2021-07-08T08:41:11.042Z"
   },
   {
    "duration": 10,
    "start_time": "2021-07-08T08:41:11.088Z"
   },
   {
    "duration": 9,
    "start_time": "2021-07-08T08:41:11.100Z"
   },
   {
    "duration": 27,
    "start_time": "2021-07-08T08:41:11.111Z"
   },
   {
    "duration": 46,
    "start_time": "2021-07-08T08:41:11.140Z"
   },
   {
    "duration": 17,
    "start_time": "2021-07-08T08:41:11.187Z"
   },
   {
    "duration": 6,
    "start_time": "2021-07-08T08:41:11.206Z"
   },
   {
    "duration": 5,
    "start_time": "2021-07-08T08:41:11.213Z"
   },
   {
    "duration": 10,
    "start_time": "2021-07-08T08:41:11.219Z"
   },
   {
    "duration": 9,
    "start_time": "2021-07-08T08:41:11.230Z"
   },
   {
    "duration": 45,
    "start_time": "2021-07-08T08:41:11.241Z"
   },
   {
    "duration": 7,
    "start_time": "2021-07-08T08:41:11.287Z"
   },
   {
    "duration": 24,
    "start_time": "2021-07-08T08:41:11.296Z"
   },
   {
    "duration": 16,
    "start_time": "2021-07-08T08:41:11.322Z"
   },
   {
    "duration": 7,
    "start_time": "2021-07-08T08:41:11.341Z"
   },
   {
    "duration": 41,
    "start_time": "2021-07-08T08:41:11.349Z"
   },
   {
    "duration": 17,
    "start_time": "2021-07-08T08:41:11.391Z"
   },
   {
    "duration": 9,
    "start_time": "2021-07-08T08:41:11.410Z"
   },
   {
    "duration": 5,
    "start_time": "2021-07-08T08:41:11.421Z"
   },
   {
    "duration": 6,
    "start_time": "2021-07-08T08:41:11.428Z"
   },
   {
    "duration": 198,
    "start_time": "2021-07-08T08:41:11.435Z"
   },
   {
    "duration": 18,
    "start_time": "2021-07-08T08:41:11.635Z"
   },
   {
    "duration": 155,
    "start_time": "2021-07-08T08:41:11.655Z"
   },
   {
    "duration": 138,
    "start_time": "2021-07-08T08:41:11.811Z"
   },
   {
    "duration": 10,
    "start_time": "2021-07-08T08:41:11.950Z"
   },
   {
    "duration": 29,
    "start_time": "2021-07-08T08:41:11.961Z"
   },
   {
    "duration": 171,
    "start_time": "2021-07-08T08:47:44.522Z"
   },
   {
    "duration": 124,
    "start_time": "2021-07-08T08:47:46.872Z"
   },
   {
    "duration": 191,
    "start_time": "2021-07-08T08:47:58.148Z"
   },
   {
    "duration": 191,
    "start_time": "2021-07-08T08:48:07.412Z"
   },
   {
    "duration": 261,
    "start_time": "2021-07-08T08:48:10.385Z"
   },
   {
    "duration": 255,
    "start_time": "2021-07-08T08:48:14.494Z"
   },
   {
    "duration": 219,
    "start_time": "2021-07-08T08:48:22.752Z"
   },
   {
    "duration": 173,
    "start_time": "2021-07-08T08:49:06.395Z"
   },
   {
    "duration": 180,
    "start_time": "2021-07-08T08:49:21.011Z"
   },
   {
    "duration": 6,
    "start_time": "2021-07-08T08:50:31.697Z"
   },
   {
    "duration": 10,
    "start_time": "2021-07-08T08:50:47.394Z"
   },
   {
    "duration": 11,
    "start_time": "2021-07-08T08:53:49.332Z"
   },
   {
    "duration": 171,
    "start_time": "2021-07-08T08:54:28.408Z"
   },
   {
    "duration": 636,
    "start_time": "2021-07-08T09:02:48.385Z"
   },
   {
    "duration": 227,
    "start_time": "2021-07-08T09:02:49.023Z"
   },
   {
    "duration": 104,
    "start_time": "2021-07-08T09:02:49.252Z"
   },
   {
    "duration": 5,
    "start_time": "2021-07-08T09:02:49.358Z"
   },
   {
    "duration": 27,
    "start_time": "2021-07-08T09:02:49.365Z"
   },
   {
    "duration": 8,
    "start_time": "2021-07-08T09:02:49.394Z"
   },
   {
    "duration": 18,
    "start_time": "2021-07-08T09:02:49.404Z"
   },
   {
    "duration": 6,
    "start_time": "2021-07-08T09:02:49.424Z"
   },
   {
    "duration": 11,
    "start_time": "2021-07-08T09:02:49.433Z"
   },
   {
    "duration": 13,
    "start_time": "2021-07-08T09:02:49.485Z"
   },
   {
    "duration": 9,
    "start_time": "2021-07-08T09:02:49.500Z"
   },
   {
    "duration": 38,
    "start_time": "2021-07-08T09:02:49.511Z"
   },
   {
    "duration": 42,
    "start_time": "2021-07-08T09:02:49.551Z"
   },
   {
    "duration": 21,
    "start_time": "2021-07-08T09:02:49.594Z"
   },
   {
    "duration": 6,
    "start_time": "2021-07-08T09:02:49.616Z"
   },
   {
    "duration": 3,
    "start_time": "2021-07-08T09:02:49.623Z"
   },
   {
    "duration": 9,
    "start_time": "2021-07-08T09:02:49.628Z"
   },
   {
    "duration": 52,
    "start_time": "2021-07-08T09:02:49.638Z"
   },
   {
    "duration": 11,
    "start_time": "2021-07-08T09:02:49.692Z"
   },
   {
    "duration": 8,
    "start_time": "2021-07-08T09:02:49.704Z"
   },
   {
    "duration": 27,
    "start_time": "2021-07-08T09:02:49.713Z"
   },
   {
    "duration": 59,
    "start_time": "2021-07-08T09:02:49.741Z"
   },
   {
    "duration": 8,
    "start_time": "2021-07-08T09:02:49.803Z"
   },
   {
    "duration": 14,
    "start_time": "2021-07-08T09:02:49.813Z"
   },
   {
    "duration": 20,
    "start_time": "2021-07-08T09:02:49.829Z"
   },
   {
    "duration": 44,
    "start_time": "2021-07-08T09:02:49.851Z"
   },
   {
    "duration": 14,
    "start_time": "2021-07-08T09:02:49.896Z"
   },
   {
    "duration": 221,
    "start_time": "2021-07-08T09:02:49.912Z"
   },
   {
    "duration": 6,
    "start_time": "2021-07-08T09:02:50.134Z"
   },
   {
    "duration": 206,
    "start_time": "2021-07-08T09:02:50.142Z"
   },
   {
    "duration": 19,
    "start_time": "2021-07-08T09:02:50.350Z"
   },
   {
    "duration": 21,
    "start_time": "2021-07-08T09:02:50.370Z"
   },
   {
    "duration": 20,
    "start_time": "2021-07-08T09:02:50.393Z"
   },
   {
    "duration": 5,
    "start_time": "2021-07-08T09:02:50.414Z"
   },
   {
    "duration": 5,
    "start_time": "2021-07-08T09:03:34.173Z"
   },
   {
    "duration": 6,
    "start_time": "2021-07-08T09:04:49.062Z"
   },
   {
    "duration": 9,
    "start_time": "2021-07-08T09:04:50.118Z"
   },
   {
    "duration": 14,
    "start_time": "2021-07-08T09:04:58.512Z"
   },
   {
    "duration": 9,
    "start_time": "2021-07-08T09:05:10.988Z"
   },
   {
    "duration": 11,
    "start_time": "2021-07-08T09:05:11.743Z"
   },
   {
    "duration": 7,
    "start_time": "2021-07-08T09:05:25.677Z"
   },
   {
    "duration": 13,
    "start_time": "2021-07-08T09:05:47.189Z"
   },
   {
    "duration": 13,
    "start_time": "2021-07-08T09:05:54.755Z"
   },
   {
    "duration": 4,
    "start_time": "2021-07-08T09:06:29.189Z"
   },
   {
    "duration": 244,
    "start_time": "2021-07-08T09:06:29.195Z"
   },
   {
    "duration": 91,
    "start_time": "2021-07-08T09:06:29.441Z"
   },
   {
    "duration": 4,
    "start_time": "2021-07-08T09:06:29.534Z"
   },
   {
    "duration": 28,
    "start_time": "2021-07-08T09:06:29.540Z"
   },
   {
    "duration": 6,
    "start_time": "2021-07-08T09:06:29.570Z"
   },
   {
    "duration": 18,
    "start_time": "2021-07-08T09:06:29.578Z"
   },
   {
    "duration": 5,
    "start_time": "2021-07-08T09:06:29.597Z"
   },
   {
    "duration": 13,
    "start_time": "2021-07-08T09:06:29.605Z"
   },
   {
    "duration": 8,
    "start_time": "2021-07-08T09:06:29.620Z"
   },
   {
    "duration": 7,
    "start_time": "2021-07-08T09:06:29.630Z"
   },
   {
    "duration": 63,
    "start_time": "2021-07-08T09:06:29.639Z"
   },
   {
    "duration": 17,
    "start_time": "2021-07-08T09:06:29.704Z"
   },
   {
    "duration": 20,
    "start_time": "2021-07-08T09:06:29.723Z"
   },
   {
    "duration": 6,
    "start_time": "2021-07-08T09:06:29.745Z"
   },
   {
    "duration": 3,
    "start_time": "2021-07-08T09:06:29.752Z"
   },
   {
    "duration": 7,
    "start_time": "2021-07-08T09:06:29.785Z"
   },
   {
    "duration": 11,
    "start_time": "2021-07-08T09:06:29.794Z"
   },
   {
    "duration": 15,
    "start_time": "2021-07-08T09:06:29.807Z"
   },
   {
    "duration": 8,
    "start_time": "2021-07-08T09:06:29.823Z"
   },
   {
    "duration": 70,
    "start_time": "2021-07-08T09:06:29.832Z"
   },
   {
    "duration": 17,
    "start_time": "2021-07-08T09:06:29.903Z"
   },
   {
    "duration": 9,
    "start_time": "2021-07-08T09:06:29.921Z"
   },
   {
    "duration": 9,
    "start_time": "2021-07-08T09:06:29.932Z"
   },
   {
    "duration": 57,
    "start_time": "2021-07-08T09:06:29.942Z"
   },
   {
    "duration": 11,
    "start_time": "2021-07-08T09:06:30.001Z"
   },
   {
    "duration": 19,
    "start_time": "2021-07-08T09:06:30.016Z"
   },
   {
    "duration": 217,
    "start_time": "2021-07-08T09:06:30.037Z"
   },
   {
    "duration": 6,
    "start_time": "2021-07-08T09:06:30.255Z"
   },
   {
    "duration": 205,
    "start_time": "2021-07-08T09:06:30.263Z"
   },
   {
    "duration": 27,
    "start_time": "2021-07-08T09:06:30.470Z"
   },
   {
    "duration": 11,
    "start_time": "2021-07-08T09:06:30.500Z"
   },
   {
    "duration": 31,
    "start_time": "2021-07-08T09:06:30.513Z"
   },
   {
    "duration": 18,
    "start_time": "2021-07-08T09:06:30.546Z"
   },
   {
    "duration": 11,
    "start_time": "2021-07-08T09:06:30.566Z"
   },
   {
    "duration": 19,
    "start_time": "2021-07-08T09:06:30.579Z"
   },
   {
    "duration": 20,
    "start_time": "2021-07-08T09:06:49.466Z"
   },
   {
    "duration": 9,
    "start_time": "2021-07-08T09:06:51.994Z"
   },
   {
    "duration": 20,
    "start_time": "2021-07-08T09:06:52.273Z"
   },
   {
    "duration": 246,
    "start_time": "2021-07-08T09:10:21.272Z"
   },
   {
    "duration": 84,
    "start_time": "2021-07-08T09:10:21.436Z"
   },
   {
    "duration": 7,
    "start_time": "2021-07-08T09:10:37.608Z"
   },
   {
    "duration": 189,
    "start_time": "2021-07-08T09:10:38.573Z"
   },
   {
    "duration": 185,
    "start_time": "2021-07-08T09:10:53.181Z"
   },
   {
    "duration": 11,
    "start_time": "2021-07-08T09:10:59.549Z"
   },
   {
    "duration": 42,
    "start_time": "2021-07-08T09:10:59.709Z"
   },
   {
    "duration": 12,
    "start_time": "2021-07-08T09:11:02.857Z"
   },
   {
    "duration": 28,
    "start_time": "2021-07-08T09:11:10.062Z"
   },
   {
    "duration": 249,
    "start_time": "2021-07-08T09:11:37.388Z"
   },
   {
    "duration": 232,
    "start_time": "2021-07-08T09:11:49.485Z"
   },
   {
    "duration": 453,
    "start_time": "2021-07-08T09:12:01.546Z"
   },
   {
    "duration": 440,
    "start_time": "2021-07-08T09:12:12.347Z"
   },
   {
    "duration": 213,
    "start_time": "2021-07-08T09:13:32.196Z"
   },
   {
    "duration": 172,
    "start_time": "2021-07-08T09:14:07.400Z"
   },
   {
    "duration": 185,
    "start_time": "2021-07-08T09:14:14.905Z"
   },
   {
    "duration": 209,
    "start_time": "2021-07-08T09:14:40.109Z"
   },
   {
    "duration": 201,
    "start_time": "2021-07-08T09:14:54.506Z"
   },
   {
    "duration": 622,
    "start_time": "2021-07-08T09:18:14.497Z"
   },
   {
    "duration": 220,
    "start_time": "2021-07-08T09:18:15.121Z"
   },
   {
    "duration": 79,
    "start_time": "2021-07-08T09:18:15.343Z"
   },
   {
    "duration": 4,
    "start_time": "2021-07-08T09:18:15.425Z"
   },
   {
    "duration": 24,
    "start_time": "2021-07-08T09:18:15.431Z"
   },
   {
    "duration": 8,
    "start_time": "2021-07-08T09:18:15.457Z"
   },
   {
    "duration": 16,
    "start_time": "2021-07-08T09:18:15.466Z"
   },
   {
    "duration": 5,
    "start_time": "2021-07-08T09:18:15.484Z"
   },
   {
    "duration": 10,
    "start_time": "2021-07-08T09:18:15.493Z"
   },
   {
    "duration": 8,
    "start_time": "2021-07-08T09:18:15.504Z"
   },
   {
    "duration": 7,
    "start_time": "2021-07-08T09:18:15.513Z"
   },
   {
    "duration": 26,
    "start_time": "2021-07-08T09:18:15.522Z"
   },
   {
    "duration": 49,
    "start_time": "2021-07-08T09:18:15.550Z"
   },
   {
    "duration": 21,
    "start_time": "2021-07-08T09:18:15.601Z"
   },
   {
    "duration": 8,
    "start_time": "2021-07-08T09:18:15.624Z"
   },
   {
    "duration": 3,
    "start_time": "2021-07-08T09:18:15.634Z"
   },
   {
    "duration": 8,
    "start_time": "2021-07-08T09:18:15.639Z"
   },
   {
    "duration": 45,
    "start_time": "2021-07-08T09:18:15.649Z"
   },
   {
    "duration": 13,
    "start_time": "2021-07-08T09:18:15.696Z"
   },
   {
    "duration": 10,
    "start_time": "2021-07-08T09:18:15.711Z"
   },
   {
    "duration": 64,
    "start_time": "2021-07-08T09:18:15.722Z"
   },
   {
    "duration": 19,
    "start_time": "2021-07-08T09:18:15.788Z"
   },
   {
    "duration": 9,
    "start_time": "2021-07-08T09:18:15.809Z"
   },
   {
    "duration": 9,
    "start_time": "2021-07-08T09:18:15.820Z"
   },
   {
    "duration": 18,
    "start_time": "2021-07-08T09:18:15.831Z"
   },
   {
    "duration": 43,
    "start_time": "2021-07-08T09:18:15.851Z"
   },
   {
    "duration": 12,
    "start_time": "2021-07-08T09:18:15.897Z"
   },
   {
    "duration": 219,
    "start_time": "2021-07-08T09:18:15.911Z"
   },
   {
    "duration": 8,
    "start_time": "2021-07-08T09:18:16.132Z"
   },
   {
    "duration": 199,
    "start_time": "2021-07-08T09:18:16.141Z"
   },
   {
    "duration": 18,
    "start_time": "2021-07-08T09:18:16.341Z"
   },
   {
    "duration": 24,
    "start_time": "2021-07-08T09:18:16.361Z"
   },
   {
    "duration": 24,
    "start_time": "2021-07-08T09:18:16.387Z"
   },
   {
    "duration": 211,
    "start_time": "2021-07-08T09:18:16.413Z"
   },
   {
    "duration": 18,
    "start_time": "2021-07-08T09:18:16.626Z"
   },
   {
    "duration": 596,
    "start_time": "2021-07-08T10:06:33.623Z"
   },
   {
    "duration": 181,
    "start_time": "2021-07-08T10:06:34.221Z"
   },
   {
    "duration": 176,
    "start_time": "2021-07-08T10:06:34.635Z"
   },
   {
    "duration": 239,
    "start_time": "2021-07-08T10:06:55.572Z"
   },
   {
    "duration": 6,
    "start_time": "2021-07-08T10:06:57.687Z"
   },
   {
    "duration": 4,
    "start_time": "2021-07-08T10:07:03.956Z"
   },
   {
    "duration": 4,
    "start_time": "2021-07-08T10:07:10.376Z"
   },
   {
    "duration": 4,
    "start_time": "2021-07-08T10:17:19.889Z"
   },
   {
    "duration": 3,
    "start_time": "2021-07-08T10:19:19.407Z"
   },
   {
    "duration": 197,
    "start_time": "2021-07-08T10:19:19.412Z"
   },
   {
    "duration": 127,
    "start_time": "2021-07-08T10:19:19.611Z"
   },
   {
    "duration": 4,
    "start_time": "2021-07-08T10:19:19.740Z"
   },
   {
    "duration": 27,
    "start_time": "2021-07-08T10:19:19.746Z"
   },
   {
    "duration": 7,
    "start_time": "2021-07-08T10:19:19.775Z"
   },
   {
    "duration": 30,
    "start_time": "2021-07-08T10:19:19.784Z"
   },
   {
    "duration": 7,
    "start_time": "2021-07-08T10:19:19.817Z"
   },
   {
    "duration": 26,
    "start_time": "2021-07-08T10:19:19.826Z"
   },
   {
    "duration": 18,
    "start_time": "2021-07-08T10:19:19.854Z"
   },
   {
    "duration": 14,
    "start_time": "2021-07-08T10:19:19.874Z"
   },
   {
    "duration": 48,
    "start_time": "2021-07-08T10:19:19.890Z"
   },
   {
    "duration": 17,
    "start_time": "2021-07-08T10:19:19.940Z"
   },
   {
    "duration": 38,
    "start_time": "2021-07-08T10:19:19.959Z"
   },
   {
    "duration": 8,
    "start_time": "2021-07-08T10:19:19.999Z"
   },
   {
    "duration": 15,
    "start_time": "2021-07-08T10:19:20.009Z"
   },
   {
    "duration": 22,
    "start_time": "2021-07-08T10:19:20.026Z"
   },
   {
    "duration": 10,
    "start_time": "2021-07-08T10:19:20.050Z"
   },
   {
    "duration": 10,
    "start_time": "2021-07-08T10:19:20.062Z"
   },
   {
    "duration": 20,
    "start_time": "2021-07-08T10:19:20.073Z"
   },
   {
    "duration": 29,
    "start_time": "2021-07-08T10:19:20.095Z"
   },
   {
    "duration": 17,
    "start_time": "2021-07-08T10:19:20.126Z"
   },
   {
    "duration": 40,
    "start_time": "2021-07-08T10:19:20.146Z"
   },
   {
    "duration": 15,
    "start_time": "2021-07-08T10:19:20.189Z"
   },
   {
    "duration": 19,
    "start_time": "2021-07-08T10:19:20.206Z"
   },
   {
    "duration": 10,
    "start_time": "2021-07-08T10:19:20.226Z"
   },
   {
    "duration": 11,
    "start_time": "2021-07-08T10:19:20.238Z"
   },
   {
    "duration": 297,
    "start_time": "2021-07-08T10:19:20.250Z"
   },
   {
    "duration": 6,
    "start_time": "2021-07-08T10:19:20.549Z"
   },
   {
    "duration": 191,
    "start_time": "2021-07-08T10:19:20.557Z"
   },
   {
    "duration": 19,
    "start_time": "2021-07-08T10:19:20.750Z"
   },
   {
    "duration": 20,
    "start_time": "2021-07-08T10:19:20.771Z"
   },
   {
    "duration": 15,
    "start_time": "2021-07-08T10:19:20.793Z"
   },
   {
    "duration": 222,
    "start_time": "2021-07-08T10:19:20.809Z"
   },
   {
    "duration": 20,
    "start_time": "2021-07-08T10:19:21.033Z"
   },
   {
    "duration": 27,
    "start_time": "2021-07-08T10:45:04.055Z"
   },
   {
    "duration": 8,
    "start_time": "2021-07-08T10:45:08.478Z"
   },
   {
    "duration": 8,
    "start_time": "2021-07-08T10:45:31.982Z"
   },
   {
    "duration": 10,
    "start_time": "2021-07-08T10:46:01.221Z"
   },
   {
    "duration": 17,
    "start_time": "2021-07-08T10:46:40.011Z"
   },
   {
    "duration": 193,
    "start_time": "2021-07-08T10:48:19.471Z"
   },
   {
    "duration": 225,
    "start_time": "2021-07-08T10:49:26.480Z"
   },
   {
    "duration": 204,
    "start_time": "2021-07-08T10:49:59.992Z"
   },
   {
    "duration": 435,
    "start_time": "2021-07-08T10:50:06.779Z"
   },
   {
    "duration": 199,
    "start_time": "2021-07-08T10:50:14.891Z"
   },
   {
    "duration": 204,
    "start_time": "2021-07-08T10:50:18.501Z"
   },
   {
    "duration": 244,
    "start_time": "2021-07-08T10:50:23.359Z"
   },
   {
    "duration": 192,
    "start_time": "2021-07-08T10:50:29.135Z"
   },
   {
    "duration": 218,
    "start_time": "2021-07-08T10:50:33.092Z"
   },
   {
    "duration": 207,
    "start_time": "2021-07-08T10:52:45.381Z"
   },
   {
    "duration": 5,
    "start_time": "2021-07-08T10:53:34.641Z"
   },
   {
    "duration": 196,
    "start_time": "2021-07-08T10:53:41.478Z"
   },
   {
    "duration": 43,
    "start_time": "2021-07-08T10:53:50.335Z"
   },
   {
    "duration": 32,
    "start_time": "2021-07-08T10:53:55.294Z"
   },
   {
    "duration": 55,
    "start_time": "2021-07-08T10:54:09.675Z"
   },
   {
    "duration": 16,
    "start_time": "2021-07-08T10:54:12.260Z"
   },
   {
    "duration": 15,
    "start_time": "2021-07-08T10:54:49.150Z"
   },
   {
    "duration": 20,
    "start_time": "2021-07-08T10:56:07.596Z"
   },
   {
    "duration": 16,
    "start_time": "2021-07-08T10:58:26.276Z"
   },
   {
    "duration": 22,
    "start_time": "2021-07-08T10:59:00.486Z"
   },
   {
    "duration": 18,
    "start_time": "2021-07-08T11:02:09.653Z"
   },
   {
    "duration": 10,
    "start_time": "2021-07-08T11:03:44.331Z"
   },
   {
    "duration": 10,
    "start_time": "2021-07-08T11:03:54.055Z"
   },
   {
    "duration": 12,
    "start_time": "2021-07-08T11:04:41.967Z"
   },
   {
    "duration": 24,
    "start_time": "2021-07-08T11:07:30.732Z"
   },
   {
    "duration": 6,
    "start_time": "2021-07-08T11:07:37.364Z"
   },
   {
    "duration": 16,
    "start_time": "2021-07-08T11:08:01.819Z"
   },
   {
    "duration": 17,
    "start_time": "2021-07-08T11:09:47.488Z"
   },
   {
    "duration": 246,
    "start_time": "2021-07-08T11:10:00.830Z"
   },
   {
    "duration": 18,
    "start_time": "2021-07-08T11:13:55.195Z"
   },
   {
    "duration": 204,
    "start_time": "2021-07-08T11:14:04.951Z"
   },
   {
    "duration": 19,
    "start_time": "2021-07-08T11:15:10.613Z"
   },
   {
    "duration": 680,
    "start_time": "2021-07-08T11:16:25.793Z"
   },
   {
    "duration": 451,
    "start_time": "2021-07-08T11:16:40.313Z"
   },
   {
    "duration": 469,
    "start_time": "2021-07-08T11:17:21.286Z"
   },
   {
    "duration": 20,
    "start_time": "2021-07-08T11:19:12.554Z"
   },
   {
    "duration": 35,
    "start_time": "2021-07-08T11:20:05.484Z"
   },
   {
    "duration": 53,
    "start_time": "2021-07-08T11:21:40.050Z"
   },
   {
    "duration": 13,
    "start_time": "2021-07-08T11:22:26.059Z"
   },
   {
    "duration": 19,
    "start_time": "2021-07-08T11:22:47.419Z"
   },
   {
    "duration": 25,
    "start_time": "2021-07-08T11:23:19.958Z"
   },
   {
    "duration": 29,
    "start_time": "2021-07-08T11:23:25.415Z"
   },
   {
    "duration": 10,
    "start_time": "2021-07-08T11:24:45.138Z"
   },
   {
    "duration": 19,
    "start_time": "2021-07-08T11:24:54.498Z"
   },
   {
    "duration": 12,
    "start_time": "2021-07-08T11:25:32.225Z"
   },
   {
    "duration": 19,
    "start_time": "2021-07-08T11:25:37.092Z"
   },
   {
    "duration": 17,
    "start_time": "2021-07-08T11:25:58.116Z"
   },
   {
    "duration": 15,
    "start_time": "2021-07-08T11:26:02.258Z"
   },
   {
    "duration": 8,
    "start_time": "2021-07-08T11:26:59.682Z"
   },
   {
    "duration": 184,
    "start_time": "2021-07-08T11:27:21.894Z"
   },
   {
    "duration": 8,
    "start_time": "2021-07-08T11:27:23.824Z"
   },
   {
    "duration": 202,
    "start_time": "2021-07-08T11:27:23.962Z"
   },
   {
    "duration": 360,
    "start_time": "2021-07-08T11:28:33.215Z"
   },
   {
    "duration": 231,
    "start_time": "2021-07-08T11:32:05.542Z"
   },
   {
    "duration": 607,
    "start_time": "2021-07-08T11:36:27.854Z"
   },
   {
    "duration": 241,
    "start_time": "2021-07-08T11:36:28.463Z"
   },
   {
    "duration": 67,
    "start_time": "2021-07-08T11:36:28.709Z"
   },
   {
    "duration": 5,
    "start_time": "2021-07-08T11:36:28.778Z"
   },
   {
    "duration": 32,
    "start_time": "2021-07-08T11:36:28.784Z"
   },
   {
    "duration": 11,
    "start_time": "2021-07-08T11:36:28.819Z"
   },
   {
    "duration": 20,
    "start_time": "2021-07-08T11:36:28.834Z"
   },
   {
    "duration": 36,
    "start_time": "2021-07-08T11:36:28.857Z"
   },
   {
    "duration": 16,
    "start_time": "2021-07-08T11:36:28.895Z"
   },
   {
    "duration": 14,
    "start_time": "2021-07-08T11:36:28.913Z"
   },
   {
    "duration": 9,
    "start_time": "2021-07-08T11:36:28.930Z"
   },
   {
    "duration": 55,
    "start_time": "2021-07-08T11:36:28.941Z"
   },
   {
    "duration": 27,
    "start_time": "2021-07-08T11:36:28.999Z"
   },
   {
    "duration": 30,
    "start_time": "2021-07-08T11:36:29.028Z"
   },
   {
    "duration": 31,
    "start_time": "2021-07-08T11:36:29.060Z"
   },
   {
    "duration": 3,
    "start_time": "2021-07-08T11:36:29.093Z"
   },
   {
    "duration": 12,
    "start_time": "2021-07-08T11:36:29.099Z"
   },
   {
    "duration": 11,
    "start_time": "2021-07-08T11:36:29.112Z"
   },
   {
    "duration": 12,
    "start_time": "2021-07-08T11:36:29.125Z"
   },
   {
    "duration": 9,
    "start_time": "2021-07-08T11:36:29.139Z"
   },
   {
    "duration": 31,
    "start_time": "2021-07-08T11:36:29.191Z"
   },
   {
    "duration": 17,
    "start_time": "2021-07-08T11:36:29.226Z"
   },
   {
    "duration": 7,
    "start_time": "2021-07-08T11:36:29.245Z"
   },
   {
    "duration": 10,
    "start_time": "2021-07-08T11:36:29.254Z"
   },
   {
    "duration": 30,
    "start_time": "2021-07-08T11:36:29.292Z"
   },
   {
    "duration": 11,
    "start_time": "2021-07-08T11:36:29.324Z"
   },
   {
    "duration": 11,
    "start_time": "2021-07-08T11:36:29.337Z"
   },
   {
    "duration": 230,
    "start_time": "2021-07-08T11:36:29.349Z"
   },
   {
    "duration": 13,
    "start_time": "2021-07-08T11:36:29.588Z"
   },
   {
    "duration": 205,
    "start_time": "2021-07-08T11:36:29.603Z"
   },
   {
    "duration": 20,
    "start_time": "2021-07-08T11:36:29.810Z"
   },
   {
    "duration": 9,
    "start_time": "2021-07-08T11:36:29.832Z"
   },
   {
    "duration": 16,
    "start_time": "2021-07-08T11:36:29.843Z"
   },
   {
    "duration": 283,
    "start_time": "2021-07-08T11:36:29.861Z"
   },
   {
    "duration": 50,
    "start_time": "2021-07-08T11:36:30.146Z"
   },
   {
    "duration": 14,
    "start_time": "2021-07-08T11:36:30.198Z"
   },
   {
    "duration": 11,
    "start_time": "2021-07-08T11:36:30.214Z"
   },
   {
    "duration": 245,
    "start_time": "2021-07-08T11:36:30.227Z"
   },
   {
    "duration": 439,
    "start_time": "2021-07-08T11:36:30.474Z"
   },
   {
    "duration": 210,
    "start_time": "2021-07-08T11:36:30.915Z"
   },
   {
    "duration": 15,
    "start_time": "2021-07-08T11:36:31.127Z"
   },
   {
    "duration": 17,
    "start_time": "2021-07-08T11:38:20.451Z"
   },
   {
    "duration": 642,
    "start_time": "2021-07-08T11:46:17.881Z"
   },
   {
    "duration": 210,
    "start_time": "2021-07-08T11:46:18.525Z"
   },
   {
    "duration": 104,
    "start_time": "2021-07-08T11:46:18.741Z"
   },
   {
    "duration": 8,
    "start_time": "2021-07-08T11:46:18.847Z"
   },
   {
    "duration": 25,
    "start_time": "2021-07-08T11:46:18.857Z"
   },
   {
    "duration": 14,
    "start_time": "2021-07-08T11:46:18.884Z"
   },
   {
    "duration": 22,
    "start_time": "2021-07-08T11:46:18.900Z"
   },
   {
    "duration": 5,
    "start_time": "2021-07-08T11:46:18.924Z"
   },
   {
    "duration": 13,
    "start_time": "2021-07-08T11:46:18.931Z"
   },
   {
    "duration": 45,
    "start_time": "2021-07-08T11:46:18.946Z"
   },
   {
    "duration": 12,
    "start_time": "2021-07-08T11:46:18.993Z"
   },
   {
    "duration": 38,
    "start_time": "2021-07-08T11:46:19.006Z"
   },
   {
    "duration": 50,
    "start_time": "2021-07-08T11:46:19.046Z"
   },
   {
    "duration": 29,
    "start_time": "2021-07-08T11:46:19.099Z"
   },
   {
    "duration": 7,
    "start_time": "2021-07-08T11:46:19.130Z"
   },
   {
    "duration": 3,
    "start_time": "2021-07-08T11:46:19.139Z"
   },
   {
    "duration": 11,
    "start_time": "2021-07-08T11:46:19.144Z"
   },
   {
    "duration": 40,
    "start_time": "2021-07-08T11:46:19.157Z"
   },
   {
    "duration": 15,
    "start_time": "2021-07-08T11:46:19.199Z"
   },
   {
    "duration": 10,
    "start_time": "2021-07-08T11:46:19.217Z"
   },
   {
    "duration": 68,
    "start_time": "2021-07-08T11:46:19.230Z"
   },
   {
    "duration": 17,
    "start_time": "2021-07-08T11:46:19.301Z"
   },
   {
    "duration": 7,
    "start_time": "2021-07-08T11:46:19.321Z"
   },
   {
    "duration": 11,
    "start_time": "2021-07-08T11:46:19.330Z"
   },
   {
    "duration": 59,
    "start_time": "2021-07-08T11:46:19.343Z"
   },
   {
    "duration": 17,
    "start_time": "2021-07-08T11:46:19.405Z"
   },
   {
    "duration": 16,
    "start_time": "2021-07-08T11:46:19.424Z"
   },
   {
    "duration": 252,
    "start_time": "2021-07-08T11:46:19.443Z"
   },
   {
    "duration": 9,
    "start_time": "2021-07-08T11:46:19.697Z"
   },
   {
    "duration": 224,
    "start_time": "2021-07-08T11:46:19.708Z"
   },
   {
    "duration": 21,
    "start_time": "2021-07-08T11:46:19.934Z"
   },
   {
    "duration": 9,
    "start_time": "2021-07-08T11:46:19.956Z"
   },
   {
    "duration": 32,
    "start_time": "2021-07-08T11:46:19.967Z"
   },
   {
    "duration": 288,
    "start_time": "2021-07-08T11:46:20.004Z"
   },
   {
    "duration": 23,
    "start_time": "2021-07-08T11:46:20.300Z"
   },
   {
    "duration": 11,
    "start_time": "2021-07-08T11:46:20.325Z"
   },
   {
    "duration": 11,
    "start_time": "2021-07-08T11:46:20.339Z"
   },
   {
    "duration": 259,
    "start_time": "2021-07-08T11:46:20.352Z"
   },
   {
    "duration": 438,
    "start_time": "2021-07-08T11:46:20.613Z"
   },
   {
    "duration": 207,
    "start_time": "2021-07-08T11:46:21.054Z"
   },
   {
    "duration": 27,
    "start_time": "2021-07-08T11:46:21.262Z"
   },
   {
    "duration": 19,
    "start_time": "2021-07-08T11:46:21.291Z"
   },
   {
    "duration": 820,
    "start_time": "2021-07-08T11:49:01.655Z"
   },
   {
    "duration": 372,
    "start_time": "2021-07-08T11:49:02.478Z"
   },
   {
    "duration": 98,
    "start_time": "2021-07-08T11:49:02.853Z"
   },
   {
    "duration": 6,
    "start_time": "2021-07-08T11:49:02.953Z"
   },
   {
    "duration": 39,
    "start_time": "2021-07-08T11:49:02.960Z"
   },
   {
    "duration": 9,
    "start_time": "2021-07-08T11:49:03.003Z"
   },
   {
    "duration": 23,
    "start_time": "2021-07-08T11:49:03.014Z"
   },
   {
    "duration": 6,
    "start_time": "2021-07-08T11:49:03.041Z"
   },
   {
    "duration": 20,
    "start_time": "2021-07-08T11:49:03.049Z"
   },
   {
    "duration": 18,
    "start_time": "2021-07-08T11:49:03.084Z"
   },
   {
    "duration": 14,
    "start_time": "2021-07-08T11:49:03.104Z"
   },
   {
    "duration": 39,
    "start_time": "2021-07-08T11:49:03.119Z"
   },
   {
    "duration": 38,
    "start_time": "2021-07-08T11:49:03.160Z"
   },
   {
    "duration": 26,
    "start_time": "2021-07-08T11:49:03.200Z"
   },
   {
    "duration": 7,
    "start_time": "2021-07-08T11:49:03.227Z"
   },
   {
    "duration": 4,
    "start_time": "2021-07-08T11:49:03.236Z"
   },
   {
    "duration": 15,
    "start_time": "2021-07-08T11:49:03.243Z"
   },
   {
    "duration": 21,
    "start_time": "2021-07-08T11:49:03.285Z"
   },
   {
    "duration": 17,
    "start_time": "2021-07-08T11:49:03.309Z"
   },
   {
    "duration": 10,
    "start_time": "2021-07-08T11:49:03.328Z"
   },
   {
    "duration": 65,
    "start_time": "2021-07-08T11:49:03.340Z"
   },
   {
    "duration": 18,
    "start_time": "2021-07-08T11:49:03.407Z"
   },
   {
    "duration": 8,
    "start_time": "2021-07-08T11:49:03.428Z"
   },
   {
    "duration": 15,
    "start_time": "2021-07-08T11:49:03.438Z"
   },
   {
    "duration": 40,
    "start_time": "2021-07-08T11:49:03.455Z"
   },
   {
    "duration": 12,
    "start_time": "2021-07-08T11:49:03.497Z"
   },
   {
    "duration": 29,
    "start_time": "2021-07-08T11:49:03.511Z"
   },
   {
    "duration": 285,
    "start_time": "2021-07-08T11:49:03.542Z"
   },
   {
    "duration": 8,
    "start_time": "2021-07-08T11:49:03.829Z"
   },
   {
    "duration": 227,
    "start_time": "2021-07-08T11:49:03.838Z"
   },
   {
    "duration": 40,
    "start_time": "2021-07-08T11:49:04.066Z"
   },
   {
    "duration": 10,
    "start_time": "2021-07-08T11:49:04.108Z"
   },
   {
    "duration": 26,
    "start_time": "2021-07-08T11:49:04.121Z"
   },
   {
    "duration": 290,
    "start_time": "2021-07-08T11:49:04.149Z"
   },
   {
    "duration": 26,
    "start_time": "2021-07-08T11:49:04.441Z"
   },
   {
    "duration": 31,
    "start_time": "2021-07-08T11:49:04.470Z"
   },
   {
    "duration": 14,
    "start_time": "2021-07-08T11:49:04.503Z"
   },
   {
    "duration": 259,
    "start_time": "2021-07-08T11:49:04.521Z"
   },
   {
    "duration": 480,
    "start_time": "2021-07-08T11:49:04.782Z"
   },
   {
    "duration": 225,
    "start_time": "2021-07-08T11:49:05.264Z"
   },
   {
    "duration": 22,
    "start_time": "2021-07-08T11:49:05.491Z"
   },
   {
    "duration": 24,
    "start_time": "2021-07-08T11:49:05.515Z"
   },
   {
    "duration": 634,
    "start_time": "2021-07-08T11:52:24.960Z"
   },
   {
    "duration": 199,
    "start_time": "2021-07-08T11:52:25.599Z"
   },
   {
    "duration": 106,
    "start_time": "2021-07-08T11:52:25.803Z"
   },
   {
    "duration": 7,
    "start_time": "2021-07-08T11:52:25.911Z"
   },
   {
    "duration": 29,
    "start_time": "2021-07-08T11:52:25.920Z"
   },
   {
    "duration": 7,
    "start_time": "2021-07-08T11:52:25.951Z"
   },
   {
    "duration": 26,
    "start_time": "2021-07-08T11:52:25.961Z"
   },
   {
    "duration": 11,
    "start_time": "2021-07-08T11:52:25.990Z"
   },
   {
    "duration": 29,
    "start_time": "2021-07-08T11:52:26.005Z"
   },
   {
    "duration": 9,
    "start_time": "2021-07-08T11:52:26.036Z"
   },
   {
    "duration": 8,
    "start_time": "2021-07-08T11:52:26.047Z"
   },
   {
    "duration": 63,
    "start_time": "2021-07-08T11:52:26.057Z"
   },
   {
    "duration": 17,
    "start_time": "2021-07-08T11:52:26.122Z"
   },
   {
    "duration": 43,
    "start_time": "2021-07-08T11:52:26.142Z"
   },
   {
    "duration": 17,
    "start_time": "2021-07-08T11:52:26.187Z"
   },
   {
    "duration": 5,
    "start_time": "2021-07-08T11:52:26.206Z"
   },
   {
    "duration": 12,
    "start_time": "2021-07-08T11:52:26.212Z"
   },
   {
    "duration": 11,
    "start_time": "2021-07-08T11:52:26.226Z"
   },
   {
    "duration": 12,
    "start_time": "2021-07-08T11:52:26.238Z"
   },
   {
    "duration": 38,
    "start_time": "2021-07-08T11:52:26.252Z"
   },
   {
    "duration": 40,
    "start_time": "2021-07-08T11:52:26.292Z"
   },
   {
    "duration": 17,
    "start_time": "2021-07-08T11:52:26.336Z"
   },
   {
    "duration": 39,
    "start_time": "2021-07-08T11:52:26.355Z"
   },
   {
    "duration": 11,
    "start_time": "2021-07-08T11:52:26.395Z"
   },
   {
    "duration": 23,
    "start_time": "2021-07-08T11:52:26.408Z"
   },
   {
    "duration": 12,
    "start_time": "2021-07-08T11:52:26.432Z"
   },
   {
    "duration": 41,
    "start_time": "2021-07-08T11:52:26.446Z"
   },
   {
    "duration": 215,
    "start_time": "2021-07-08T11:52:26.493Z"
   },
   {
    "duration": 8,
    "start_time": "2021-07-08T11:52:26.710Z"
   },
   {
    "duration": 228,
    "start_time": "2021-07-08T11:52:26.720Z"
   },
   {
    "duration": 18,
    "start_time": "2021-07-08T11:52:26.950Z"
   },
   {
    "duration": 35,
    "start_time": "2021-07-08T11:52:26.969Z"
   },
   {
    "duration": 23,
    "start_time": "2021-07-08T11:52:27.006Z"
   },
   {
    "duration": 258,
    "start_time": "2021-07-08T11:52:27.030Z"
   },
   {
    "duration": 24,
    "start_time": "2021-07-08T11:52:27.290Z"
   },
   {
    "duration": 12,
    "start_time": "2021-07-08T11:52:27.316Z"
   },
   {
    "duration": 10,
    "start_time": "2021-07-08T11:52:27.329Z"
   },
   {
    "duration": 298,
    "start_time": "2021-07-08T11:52:27.341Z"
   },
   {
    "duration": 436,
    "start_time": "2021-07-08T11:52:27.641Z"
   },
   {
    "duration": 216,
    "start_time": "2021-07-08T11:52:28.079Z"
   },
   {
    "duration": 20,
    "start_time": "2021-07-08T11:52:28.297Z"
   },
   {
    "duration": 17,
    "start_time": "2021-07-08T11:52:28.319Z"
   },
   {
    "duration": 623,
    "start_time": "2021-11-18T08:46:06.181Z"
   },
   {
    "duration": 74,
    "start_time": "2021-11-18T08:48:07.856Z"
   },
   {
    "duration": 65,
    "start_time": "2021-11-18T08:48:50.957Z"
   },
   {
    "duration": 36,
    "start_time": "2021-11-18T08:50:03.904Z"
   },
   {
    "duration": 12,
    "start_time": "2021-11-18T08:52:38.058Z"
   },
   {
    "duration": 11,
    "start_time": "2021-11-18T08:53:06.226Z"
   },
   {
    "duration": 17,
    "start_time": "2021-11-18T08:53:24.363Z"
   },
   {
    "duration": 12,
    "start_time": "2021-11-18T08:54:38.619Z"
   },
   {
    "duration": 11,
    "start_time": "2021-11-18T08:54:50.852Z"
   },
   {
    "duration": 63,
    "start_time": "2021-11-18T08:55:26.491Z"
   },
   {
    "duration": 36,
    "start_time": "2021-11-18T08:55:36.131Z"
   },
   {
    "duration": 616,
    "start_time": "2021-11-18T08:57:06.796Z"
   },
   {
    "duration": 234,
    "start_time": "2021-11-18T08:57:07.413Z"
   },
   {
    "duration": -146619,
    "start_time": "2021-11-18T08:59:34.268Z"
   },
   {
    "duration": 613,
    "start_time": "2021-11-18T08:57:50.379Z"
   },
   {
    "duration": 769,
    "start_time": "2021-11-18T08:57:50.994Z"
   },
   {
    "duration": -146633,
    "start_time": "2021-11-18T09:00:18.397Z"
   },
   {
    "duration": 230,
    "start_time": "2021-11-18T08:58:55.873Z"
   },
   {
    "duration": 63,
    "start_time": "2021-11-18T08:59:58.597Z"
   },
   {
    "duration": 756,
    "start_time": "2021-11-18T09:04:14.104Z"
   },
   {
    "duration": 910,
    "start_time": "2021-11-18T16:57:09.256Z"
   },
   {
    "duration": 1354,
    "start_time": "2021-11-18T16:57:10.169Z"
   },
   {
    "duration": 206,
    "start_time": "2021-11-18T16:57:11.320Z"
   },
   {
    "duration": 39,
    "start_time": "2021-11-18T17:00:16.040Z"
   },
   {
    "duration": 38,
    "start_time": "2021-11-18T17:01:16.557Z"
   },
   {
    "duration": 23,
    "start_time": "2021-11-18T17:01:46.804Z"
   },
   {
    "duration": 19,
    "start_time": "2021-11-18T17:02:26.369Z"
   },
   {
    "duration": 19,
    "start_time": "2021-11-18T17:03:24.754Z"
   },
   {
    "duration": 309,
    "start_time": "2021-11-18T17:06:53.013Z"
   },
   {
    "duration": 45,
    "start_time": "2021-11-18T17:07:02.423Z"
   },
   {
    "duration": 340,
    "start_time": "2021-11-18T17:07:04.929Z"
   },
   {
    "duration": 981,
    "start_time": "2021-11-18T17:08:26.653Z"
   },
   {
    "duration": 64,
    "start_time": "2021-11-18T17:08:27.638Z"
   },
   {
    "duration": 24,
    "start_time": "2021-11-18T17:08:27.707Z"
   },
   {
    "duration": 51,
    "start_time": "2021-11-18T17:08:27.735Z"
   },
   {
    "duration": 43,
    "start_time": "2021-11-18T17:08:27.788Z"
   },
   {
    "duration": 1418,
    "start_time": "2021-11-18T17:08:27.834Z"
   },
   {
    "duration": 30,
    "start_time": "2021-11-18T17:10:08.360Z"
   },
   {
    "duration": 17,
    "start_time": "2021-11-18T17:11:38.474Z"
   },
   {
    "duration": 21,
    "start_time": "2021-11-18T17:13:14.928Z"
   },
   {
    "duration": 9,
    "start_time": "2021-11-18T17:13:32.021Z"
   },
   {
    "duration": 36,
    "start_time": "2021-11-18T17:16:44.880Z"
   },
   {
    "duration": 25,
    "start_time": "2021-11-18T17:16:58.813Z"
   },
   {
    "duration": 60,
    "start_time": "2021-11-18T17:18:22.739Z"
   },
   {
    "duration": 898,
    "start_time": "2021-11-19T06:32:06.379Z"
   },
   {
    "duration": 68,
    "start_time": "2021-11-19T06:32:07.280Z"
   },
   {
    "duration": 46,
    "start_time": "2021-11-19T06:32:07.352Z"
   },
   {
    "duration": 21,
    "start_time": "2021-11-19T06:32:07.401Z"
   },
   {
    "duration": 16,
    "start_time": "2021-11-19T06:32:07.424Z"
   },
   {
    "duration": 48,
    "start_time": "2021-11-19T06:32:07.443Z"
   },
   {
    "duration": 16,
    "start_time": "2021-11-19T06:32:07.493Z"
   },
   {
    "duration": 22,
    "start_time": "2021-11-19T06:32:07.512Z"
   },
   {
    "duration": 68,
    "start_time": "2021-11-19T06:32:07.537Z"
   },
   {
    "duration": 870,
    "start_time": "2021-11-20T09:14:15.949Z"
   },
   {
    "duration": 49,
    "start_time": "2021-11-20T09:14:16.821Z"
   },
   {
    "duration": 39,
    "start_time": "2021-11-20T09:14:16.874Z"
   },
   {
    "duration": 19,
    "start_time": "2021-11-20T09:14:16.918Z"
   },
   {
    "duration": 21,
    "start_time": "2021-11-20T09:14:16.940Z"
   },
   {
    "duration": 53,
    "start_time": "2021-11-20T09:14:16.964Z"
   },
   {
    "duration": 16,
    "start_time": "2021-11-20T09:14:17.020Z"
   },
   {
    "duration": 64,
    "start_time": "2021-11-20T09:14:17.041Z"
   },
   {
    "duration": 48,
    "start_time": "2021-11-20T09:14:17.108Z"
   },
   {
    "duration": 447,
    "start_time": "2021-11-20T09:14:17.158Z"
   },
   {
    "duration": 27,
    "start_time": "2021-11-20T09:15:10.247Z"
   },
   {
    "duration": 8,
    "start_time": "2021-11-20T09:15:44.991Z"
   },
   {
    "duration": 14,
    "start_time": "2021-11-20T09:16:20.282Z"
   },
   {
    "duration": 23,
    "start_time": "2021-11-20T09:17:52.008Z"
   },
   {
    "duration": 2416,
    "start_time": "2021-11-20T09:23:41.704Z"
   },
   {
    "duration": 2306,
    "start_time": "2021-11-20T09:37:12.979Z"
   },
   {
    "duration": 2761,
    "start_time": "2021-11-20T09:40:00.821Z"
   },
   {
    "duration": 2457,
    "start_time": "2021-11-20T09:45:23.179Z"
   },
   {
    "duration": 30,
    "start_time": "2021-11-20T09:46:34.428Z"
   },
   {
    "duration": 18,
    "start_time": "2021-11-20T09:47:05.250Z"
   },
   {
    "duration": 382,
    "start_time": "2021-11-20T09:48:01.702Z"
   },
   {
    "duration": 356,
    "start_time": "2021-11-20T09:48:11.680Z"
   },
   {
    "duration": 18,
    "start_time": "2021-11-20T09:48:24.541Z"
   },
   {
    "duration": 28,
    "start_time": "2021-11-20T09:48:34.620Z"
   },
   {
    "duration": 6,
    "start_time": "2021-11-20T09:51:53.619Z"
   },
   {
    "duration": 345,
    "start_time": "2021-11-20T10:01:04.439Z"
   },
   {
    "duration": 371,
    "start_time": "2021-11-20T10:02:57.594Z"
   },
   {
    "duration": 382,
    "start_time": "2021-11-20T10:03:22.175Z"
   },
   {
    "duration": 344,
    "start_time": "2021-11-20T10:04:23.595Z"
   },
   {
    "duration": 388,
    "start_time": "2021-11-20T10:05:24.959Z"
   },
   {
    "duration": 408,
    "start_time": "2021-11-20T10:12:41.814Z"
   },
   {
    "duration": 365,
    "start_time": "2021-11-20T10:13:11.713Z"
   },
   {
    "duration": 332,
    "start_time": "2021-11-20T10:14:30.420Z"
   },
   {
    "duration": 9,
    "start_time": "2021-11-20T10:15:28.107Z"
   },
   {
    "duration": 11,
    "start_time": "2021-11-20T10:18:33.416Z"
   },
   {
    "duration": 7,
    "start_time": "2021-11-20T10:18:47.163Z"
   },
   {
    "duration": 10,
    "start_time": "2021-11-20T10:19:06.311Z"
   },
   {
    "duration": 10,
    "start_time": "2021-11-20T10:19:14.730Z"
   },
   {
    "duration": 12,
    "start_time": "2021-11-20T10:26:43.263Z"
   },
   {
    "duration": 14,
    "start_time": "2021-11-20T10:27:02.315Z"
   },
   {
    "duration": 7,
    "start_time": "2021-11-20T10:29:01.318Z"
   },
   {
    "duration": 10,
    "start_time": "2021-11-20T10:29:26.950Z"
   },
   {
    "duration": 8,
    "start_time": "2021-11-20T10:31:16.197Z"
   },
   {
    "duration": 8,
    "start_time": "2021-11-20T10:31:18.985Z"
   },
   {
    "duration": 86,
    "start_time": "2021-11-20T10:48:17.010Z"
   },
   {
    "duration": 75,
    "start_time": "2021-11-20T10:48:17.102Z"
   },
   {
    "duration": 22,
    "start_time": "2021-11-20T10:48:17.181Z"
   },
   {
    "duration": 35,
    "start_time": "2021-11-20T10:48:17.206Z"
   },
   {
    "duration": 19,
    "start_time": "2021-11-20T10:48:17.244Z"
   },
   {
    "duration": 44,
    "start_time": "2021-11-20T10:48:17.266Z"
   },
   {
    "duration": 16,
    "start_time": "2021-11-20T10:48:17.312Z"
   },
   {
    "duration": 24,
    "start_time": "2021-11-20T10:48:17.332Z"
   },
   {
    "duration": 97,
    "start_time": "2021-11-20T10:48:17.359Z"
   },
   {
    "duration": 9,
    "start_time": "2021-11-20T10:48:17.459Z"
   },
   {
    "duration": 54,
    "start_time": "2021-11-20T10:48:17.470Z"
   },
   {
    "duration": 16,
    "start_time": "2021-11-20T10:48:17.527Z"
   },
   {
    "duration": 11,
    "start_time": "2021-11-20T10:48:17.545Z"
   },
   {
    "duration": 359,
    "start_time": "2021-11-20T10:48:17.601Z"
   },
   {
    "duration": 10,
    "start_time": "2021-11-20T10:48:27.154Z"
   },
   {
    "duration": 8,
    "start_time": "2021-11-20T10:48:31.729Z"
   },
   {
    "duration": 7,
    "start_time": "2021-11-20T10:49:15.863Z"
   },
   {
    "duration": 8,
    "start_time": "2021-11-20T10:49:17.534Z"
   },
   {
    "duration": 4,
    "start_time": "2021-11-20T10:50:27.121Z"
   },
   {
    "duration": 8,
    "start_time": "2021-11-20T10:50:44.950Z"
   },
   {
    "duration": 88,
    "start_time": "2021-11-20T10:51:27.793Z"
   },
   {
    "duration": 75,
    "start_time": "2021-11-20T10:51:27.885Z"
   },
   {
    "duration": 24,
    "start_time": "2021-11-20T10:51:27.965Z"
   },
   {
    "duration": 22,
    "start_time": "2021-11-20T10:51:27.992Z"
   },
   {
    "duration": 17,
    "start_time": "2021-11-20T10:51:28.016Z"
   },
   {
    "duration": 19,
    "start_time": "2021-11-20T10:51:28.035Z"
   },
   {
    "duration": 53,
    "start_time": "2021-11-20T10:51:28.057Z"
   },
   {
    "duration": 22,
    "start_time": "2021-11-20T10:51:28.114Z"
   },
   {
    "duration": 86,
    "start_time": "2021-11-20T10:51:28.139Z"
   },
   {
    "duration": 9,
    "start_time": "2021-11-20T10:51:28.229Z"
   },
   {
    "duration": 64,
    "start_time": "2021-11-20T10:51:28.241Z"
   },
   {
    "duration": 18,
    "start_time": "2021-11-20T10:51:28.308Z"
   },
   {
    "duration": 14,
    "start_time": "2021-11-20T10:51:28.330Z"
   },
   {
    "duration": 7,
    "start_time": "2021-11-20T10:51:31.140Z"
   },
   {
    "duration": 10,
    "start_time": "2021-11-20T10:51:32.157Z"
   },
   {
    "duration": 8,
    "start_time": "2021-11-20T10:51:32.821Z"
   },
   {
    "duration": 6,
    "start_time": "2021-11-20T10:51:33.542Z"
   },
   {
    "duration": 9,
    "start_time": "2021-11-20T10:51:34.712Z"
   },
   {
    "duration": 16,
    "start_time": "2021-11-20T10:53:43.784Z"
   },
   {
    "duration": 13,
    "start_time": "2021-11-20T10:54:20.114Z"
   },
   {
    "duration": 88,
    "start_time": "2021-11-20T10:56:14.440Z"
   },
   {
    "duration": 52,
    "start_time": "2021-11-20T10:56:14.531Z"
   },
   {
    "duration": 25,
    "start_time": "2021-11-20T10:56:14.586Z"
   },
   {
    "duration": 19,
    "start_time": "2021-11-20T10:56:14.614Z"
   },
   {
    "duration": 17,
    "start_time": "2021-11-20T10:56:14.636Z"
   },
   {
    "duration": 56,
    "start_time": "2021-11-20T10:56:14.656Z"
   },
   {
    "duration": 20,
    "start_time": "2021-11-20T10:56:14.714Z"
   },
   {
    "duration": 62,
    "start_time": "2021-11-20T10:56:14.740Z"
   },
   {
    "duration": 38,
    "start_time": "2021-11-20T10:56:14.804Z"
   },
   {
    "duration": 8,
    "start_time": "2021-11-20T10:56:14.845Z"
   },
   {
    "duration": 52,
    "start_time": "2021-11-20T10:56:14.855Z"
   },
   {
    "duration": 10,
    "start_time": "2021-11-20T10:56:14.909Z"
   },
   {
    "duration": 10,
    "start_time": "2021-11-20T10:56:14.922Z"
   },
   {
    "duration": 6,
    "start_time": "2021-11-20T10:56:14.935Z"
   },
   {
    "duration": 9,
    "start_time": "2021-11-20T10:56:14.943Z"
   },
   {
    "duration": 66,
    "start_time": "2021-11-20T10:56:14.954Z"
   },
   {
    "duration": 15,
    "start_time": "2021-11-20T10:56:17.801Z"
   },
   {
    "duration": 14,
    "start_time": "2021-11-20T11:08:26.095Z"
   },
   {
    "duration": 12,
    "start_time": "2021-11-20T11:09:10.878Z"
   },
   {
    "duration": 42,
    "start_time": "2021-11-20T11:11:55.104Z"
   },
   {
    "duration": 8,
    "start_time": "2021-11-20T11:17:33.669Z"
   },
   {
    "duration": 6,
    "start_time": "2021-11-20T11:19:13.567Z"
   },
   {
    "duration": 40,
    "start_time": "2021-11-20T12:01:02.998Z"
   },
   {
    "duration": 37,
    "start_time": "2021-11-20T12:04:12.376Z"
   },
   {
    "duration": 7,
    "start_time": "2021-11-20T12:06:49.477Z"
   },
   {
    "duration": 54,
    "start_time": "2021-11-20T12:08:43.733Z"
   },
   {
    "duration": 27,
    "start_time": "2021-11-20T12:08:58.600Z"
   },
   {
    "duration": 768,
    "start_time": "2021-11-22T08:46:10.895Z"
   },
   {
    "duration": 42,
    "start_time": "2021-11-22T08:46:11.665Z"
   },
   {
    "duration": 30,
    "start_time": "2021-11-22T08:46:11.709Z"
   },
   {
    "duration": 13,
    "start_time": "2021-11-22T08:46:11.741Z"
   },
   {
    "duration": 13,
    "start_time": "2021-11-22T08:46:11.756Z"
   },
   {
    "duration": 13,
    "start_time": "2021-11-22T08:46:11.771Z"
   },
   {
    "duration": 13,
    "start_time": "2021-11-22T08:46:11.785Z"
   },
   {
    "duration": 14,
    "start_time": "2021-11-22T08:46:11.801Z"
   },
   {
    "duration": 31,
    "start_time": "2021-11-22T08:46:11.817Z"
   },
   {
    "duration": 7,
    "start_time": "2021-11-22T08:46:11.864Z"
   },
   {
    "duration": 25,
    "start_time": "2021-11-22T08:46:11.872Z"
   },
   {
    "duration": 10,
    "start_time": "2021-11-22T08:46:11.899Z"
   },
   {
    "duration": 11,
    "start_time": "2021-11-22T08:46:11.910Z"
   },
   {
    "duration": 10,
    "start_time": "2021-11-22T08:46:11.922Z"
   },
   {
    "duration": 13,
    "start_time": "2021-11-22T08:46:11.934Z"
   },
   {
    "duration": 15,
    "start_time": "2021-11-22T08:46:11.949Z"
   },
   {
    "duration": 8,
    "start_time": "2021-11-22T08:46:11.966Z"
   },
   {
    "duration": 23,
    "start_time": "2021-11-22T08:46:11.976Z"
   },
   {
    "duration": 10,
    "start_time": "2021-11-22T08:46:12.001Z"
   },
   {
    "duration": 10,
    "start_time": "2021-11-22T08:46:12.012Z"
   },
   {
    "duration": 14,
    "start_time": "2021-11-22T08:46:12.023Z"
   },
   {
    "duration": 41,
    "start_time": "2021-11-22T08:46:12.038Z"
   },
   {
    "duration": 291,
    "start_time": "2021-11-22T08:46:12.082Z"
   },
   {
    "duration": 72,
    "start_time": "2021-11-22T09:19:41.267Z"
   },
   {
    "duration": 41,
    "start_time": "2021-11-22T09:19:41.342Z"
   },
   {
    "duration": 18,
    "start_time": "2021-11-22T09:19:41.385Z"
   },
   {
    "duration": 19,
    "start_time": "2021-11-22T09:19:41.405Z"
   },
   {
    "duration": 12,
    "start_time": "2021-11-22T09:19:41.426Z"
   },
   {
    "duration": 24,
    "start_time": "2021-11-22T09:19:41.439Z"
   },
   {
    "duration": 13,
    "start_time": "2021-11-22T09:19:41.465Z"
   },
   {
    "duration": 15,
    "start_time": "2021-11-22T09:19:41.480Z"
   },
   {
    "duration": 26,
    "start_time": "2021-11-22T09:19:41.497Z"
   },
   {
    "duration": 6,
    "start_time": "2021-11-22T09:19:41.524Z"
   },
   {
    "duration": 37,
    "start_time": "2021-11-22T09:19:41.532Z"
   },
   {
    "duration": 4,
    "start_time": "2021-11-22T09:19:41.571Z"
   },
   {
    "duration": 10,
    "start_time": "2021-11-22T09:19:46.515Z"
   },
   {
    "duration": 3,
    "start_time": "2021-11-22T09:19:55.471Z"
   },
   {
    "duration": 10,
    "start_time": "2021-11-22T09:19:57.810Z"
   },
   {
    "duration": 71,
    "start_time": "2021-11-22T09:20:31.385Z"
   },
   {
    "duration": 40,
    "start_time": "2021-11-22T09:20:31.458Z"
   },
   {
    "duration": 50,
    "start_time": "2021-11-22T09:20:31.500Z"
   },
   {
    "duration": 37,
    "start_time": "2021-11-22T09:20:31.552Z"
   },
   {
    "duration": 32,
    "start_time": "2021-11-22T09:20:31.590Z"
   },
   {
    "duration": 34,
    "start_time": "2021-11-22T09:20:31.624Z"
   },
   {
    "duration": 35,
    "start_time": "2021-11-22T09:20:31.660Z"
   },
   {
    "duration": 34,
    "start_time": "2021-11-22T09:20:31.698Z"
   },
   {
    "duration": 34,
    "start_time": "2021-11-22T09:20:31.734Z"
   },
   {
    "duration": 16,
    "start_time": "2021-11-22T09:20:31.770Z"
   },
   {
    "duration": 25,
    "start_time": "2021-11-22T09:20:31.787Z"
   },
   {
    "duration": 31,
    "start_time": "2021-11-22T09:20:31.813Z"
   },
   {
    "duration": 13,
    "start_time": "2021-11-22T09:20:31.846Z"
   },
   {
    "duration": 249,
    "start_time": "2021-11-22T09:20:31.861Z"
   },
   {
    "duration": 905,
    "start_time": "2021-11-22T09:20:31.206Z"
   },
   {
    "duration": 899,
    "start_time": "2021-11-22T09:20:31.213Z"
   },
   {
    "duration": 898,
    "start_time": "2021-11-22T09:20:31.215Z"
   },
   {
    "duration": 896,
    "start_time": "2021-11-22T09:20:31.218Z"
   },
   {
    "duration": 894,
    "start_time": "2021-11-22T09:20:31.221Z"
   },
   {
    "duration": 891,
    "start_time": "2021-11-22T09:20:31.224Z"
   },
   {
    "duration": 890,
    "start_time": "2021-11-22T09:20:31.227Z"
   },
   {
    "duration": 887,
    "start_time": "2021-11-22T09:20:31.231Z"
   },
   {
    "duration": 886,
    "start_time": "2021-11-22T09:20:31.233Z"
   },
   {
    "duration": 885,
    "start_time": "2021-11-22T09:20:31.235Z"
   },
   {
    "duration": 884,
    "start_time": "2021-11-22T09:20:31.237Z"
   },
   {
    "duration": 69,
    "start_time": "2021-11-22T09:21:16.241Z"
   },
   {
    "duration": 39,
    "start_time": "2021-11-22T09:21:16.312Z"
   },
   {
    "duration": 16,
    "start_time": "2021-11-22T09:21:16.353Z"
   },
   {
    "duration": 16,
    "start_time": "2021-11-22T09:21:16.372Z"
   },
   {
    "duration": 12,
    "start_time": "2021-11-22T09:21:16.390Z"
   },
   {
    "duration": 15,
    "start_time": "2021-11-22T09:21:16.404Z"
   },
   {
    "duration": 13,
    "start_time": "2021-11-22T09:21:16.420Z"
   },
   {
    "duration": 41,
    "start_time": "2021-11-22T09:21:16.435Z"
   },
   {
    "duration": 36,
    "start_time": "2021-11-22T09:21:16.477Z"
   },
   {
    "duration": 6,
    "start_time": "2021-11-22T09:21:16.515Z"
   },
   {
    "duration": 12,
    "start_time": "2021-11-22T09:21:16.523Z"
   },
   {
    "duration": 6,
    "start_time": "2021-11-22T09:21:19.487Z"
   },
   {
    "duration": 10,
    "start_time": "2021-11-22T09:21:21.743Z"
   },
   {
    "duration": 67,
    "start_time": "2021-11-22T09:21:50.754Z"
   },
   {
    "duration": 39,
    "start_time": "2021-11-22T09:21:50.823Z"
   },
   {
    "duration": 22,
    "start_time": "2021-11-22T09:21:50.864Z"
   },
   {
    "duration": 16,
    "start_time": "2021-11-22T09:21:50.888Z"
   },
   {
    "duration": 11,
    "start_time": "2021-11-22T09:21:50.906Z"
   },
   {
    "duration": 17,
    "start_time": "2021-11-22T09:21:50.919Z"
   },
   {
    "duration": 37,
    "start_time": "2021-11-22T09:21:50.938Z"
   },
   {
    "duration": 20,
    "start_time": "2021-11-22T09:21:50.977Z"
   },
   {
    "duration": 26,
    "start_time": "2021-11-22T09:21:51.000Z"
   },
   {
    "duration": 35,
    "start_time": "2021-11-22T09:21:51.028Z"
   },
   {
    "duration": 10,
    "start_time": "2021-11-22T09:21:51.065Z"
   },
   {
    "duration": 6,
    "start_time": "2021-11-22T09:21:53.859Z"
   },
   {
    "duration": 11,
    "start_time": "2021-11-22T09:21:55.143Z"
   },
   {
    "duration": 5,
    "start_time": "2021-11-22T09:22:15.954Z"
   },
   {
    "duration": 72,
    "start_time": "2021-11-22T09:24:57.120Z"
   },
   {
    "duration": 40,
    "start_time": "2021-11-22T09:24:57.194Z"
   },
   {
    "duration": 15,
    "start_time": "2021-11-22T09:24:57.237Z"
   },
   {
    "duration": 26,
    "start_time": "2021-11-22T09:24:57.254Z"
   },
   {
    "duration": 14,
    "start_time": "2021-11-22T09:24:57.283Z"
   },
   {
    "duration": 14,
    "start_time": "2021-11-22T09:24:57.300Z"
   },
   {
    "duration": 14,
    "start_time": "2021-11-22T09:24:57.315Z"
   },
   {
    "duration": 35,
    "start_time": "2021-11-22T09:24:57.331Z"
   },
   {
    "duration": 27,
    "start_time": "2021-11-22T09:24:57.369Z"
   },
   {
    "duration": 6,
    "start_time": "2021-11-22T09:24:57.398Z"
   },
   {
    "duration": 12,
    "start_time": "2021-11-22T09:24:57.406Z"
   },
   {
    "duration": 7,
    "start_time": "2021-11-22T09:24:57.420Z"
   },
   {
    "duration": 47,
    "start_time": "2021-11-22T09:24:57.428Z"
   },
   {
    "duration": 6,
    "start_time": "2021-11-22T09:24:57.477Z"
   },
   {
    "duration": 3,
    "start_time": "2021-11-22T09:24:57.487Z"
   },
   {
    "duration": 4,
    "start_time": "2021-11-22T09:24:57.492Z"
   },
   {
    "duration": 8,
    "start_time": "2021-11-22T09:24:57.497Z"
   },
   {
    "duration": 9,
    "start_time": "2021-11-22T09:24:57.507Z"
   },
   {
    "duration": 10,
    "start_time": "2021-11-22T09:25:03.581Z"
   },
   {
    "duration": 9,
    "start_time": "2021-11-22T09:26:24.718Z"
   },
   {
    "duration": 6,
    "start_time": "2021-11-22T09:56:40.219Z"
   },
   {
    "duration": 5,
    "start_time": "2021-11-22T10:32:40.860Z"
   },
   {
    "duration": 6,
    "start_time": "2021-11-22T10:32:42.801Z"
   },
   {
    "duration": 18,
    "start_time": "2021-11-22T10:32:46.651Z"
   },
   {
    "duration": 16,
    "start_time": "2021-11-22T10:35:23.555Z"
   },
   {
    "duration": 16,
    "start_time": "2021-11-22T10:35:46.200Z"
   },
   {
    "duration": 73,
    "start_time": "2021-11-22T10:37:56.820Z"
   },
   {
    "duration": 44,
    "start_time": "2021-11-22T10:37:56.895Z"
   },
   {
    "duration": 15,
    "start_time": "2021-11-22T10:37:56.941Z"
   },
   {
    "duration": 16,
    "start_time": "2021-11-22T10:37:56.958Z"
   },
   {
    "duration": 12,
    "start_time": "2021-11-22T10:37:56.976Z"
   },
   {
    "duration": 17,
    "start_time": "2021-11-22T10:37:56.990Z"
   },
   {
    "duration": 10,
    "start_time": "2021-11-22T10:37:57.009Z"
   },
   {
    "duration": 13,
    "start_time": "2021-11-22T10:37:57.021Z"
   },
   {
    "duration": 23,
    "start_time": "2021-11-22T10:37:57.065Z"
   },
   {
    "duration": 5,
    "start_time": "2021-11-22T10:37:57.090Z"
   },
   {
    "duration": 9,
    "start_time": "2021-11-22T10:37:57.096Z"
   },
   {
    "duration": 5,
    "start_time": "2021-11-22T10:37:57.107Z"
   },
   {
    "duration": 17,
    "start_time": "2021-11-22T10:37:57.113Z"
   },
   {
    "duration": 33,
    "start_time": "2021-11-22T10:37:57.131Z"
   },
   {
    "duration": 5,
    "start_time": "2021-11-22T10:37:57.166Z"
   },
   {
    "duration": 9,
    "start_time": "2021-11-22T10:37:57.173Z"
   },
   {
    "duration": 12,
    "start_time": "2021-11-22T10:37:57.183Z"
   },
   {
    "duration": 11,
    "start_time": "2021-11-22T10:37:57.196Z"
   },
   {
    "duration": 15,
    "start_time": "2021-11-22T10:37:57.209Z"
   },
   {
    "duration": 15,
    "start_time": "2021-11-22T10:37:57.226Z"
   },
   {
    "duration": 14,
    "start_time": "2021-11-22T10:37:57.242Z"
   },
   {
    "duration": 7,
    "start_time": "2021-11-22T10:37:57.258Z"
   },
   {
    "duration": 16,
    "start_time": "2021-11-22T10:37:59.522Z"
   },
   {
    "duration": 33,
    "start_time": "2021-11-22T10:38:40.237Z"
   },
   {
    "duration": 10,
    "start_time": "2021-11-22T10:39:14.923Z"
   },
   {
    "duration": 27,
    "start_time": "2021-11-22T10:41:15.093Z"
   },
   {
    "duration": 20,
    "start_time": "2021-11-22T10:41:59.595Z"
   },
   {
    "duration": 13,
    "start_time": "2021-11-22T10:59:39.899Z"
   },
   {
    "duration": 31,
    "start_time": "2021-11-22T10:59:50.072Z"
   },
   {
    "duration": 601,
    "start_time": "2021-11-22T11:00:25.747Z"
   },
   {
    "duration": 29,
    "start_time": "2021-11-22T11:00:50.474Z"
   },
   {
    "duration": 16,
    "start_time": "2021-11-22T11:01:34.783Z"
   },
   {
    "duration": 74,
    "start_time": "2021-11-22T11:01:48.665Z"
   },
   {
    "duration": 45,
    "start_time": "2021-11-22T11:01:48.741Z"
   },
   {
    "duration": 24,
    "start_time": "2021-11-22T11:01:48.788Z"
   },
   {
    "duration": 18,
    "start_time": "2021-11-22T11:01:48.815Z"
   },
   {
    "duration": 12,
    "start_time": "2021-11-22T11:01:48.835Z"
   },
   {
    "duration": 20,
    "start_time": "2021-11-22T11:01:48.849Z"
   },
   {
    "duration": 14,
    "start_time": "2021-11-22T11:01:48.871Z"
   },
   {
    "duration": 14,
    "start_time": "2021-11-22T11:01:48.888Z"
   },
   {
    "duration": 67,
    "start_time": "2021-11-22T11:01:48.904Z"
   },
   {
    "duration": 5,
    "start_time": "2021-11-22T11:01:48.973Z"
   },
   {
    "duration": 11,
    "start_time": "2021-11-22T11:01:48.980Z"
   },
   {
    "duration": 11,
    "start_time": "2021-11-22T11:01:48.993Z"
   },
   {
    "duration": 26,
    "start_time": "2021-11-22T11:01:49.006Z"
   },
   {
    "duration": 5,
    "start_time": "2021-11-22T11:01:49.034Z"
   },
   {
    "duration": 28,
    "start_time": "2021-11-22T11:01:49.040Z"
   },
   {
    "duration": 40,
    "start_time": "2021-11-22T11:01:49.070Z"
   },
   {
    "duration": 33,
    "start_time": "2021-11-22T11:01:49.112Z"
   },
   {
    "duration": 10,
    "start_time": "2021-11-22T11:01:49.147Z"
   },
   {
    "duration": 16,
    "start_time": "2021-11-22T11:01:49.158Z"
   },
   {
    "duration": 15,
    "start_time": "2021-11-22T11:01:49.175Z"
   },
   {
    "duration": 36,
    "start_time": "2021-11-22T11:01:49.192Z"
   },
   {
    "duration": 14,
    "start_time": "2021-11-22T11:01:49.230Z"
   },
   {
    "duration": 21,
    "start_time": "2021-11-22T11:01:49.247Z"
   },
   {
    "duration": 37,
    "start_time": "2021-11-22T11:01:49.270Z"
   },
   {
    "duration": 10,
    "start_time": "2021-11-22T11:01:49.308Z"
   },
   {
    "duration": 28,
    "start_time": "2021-11-22T11:01:52.383Z"
   },
   {
    "duration": 15,
    "start_time": "2021-11-22T11:02:00.651Z"
   },
   {
    "duration": 8,
    "start_time": "2021-11-22T11:02:31.596Z"
   },
   {
    "duration": 72,
    "start_time": "2021-11-22T11:02:40.698Z"
   },
   {
    "duration": 43,
    "start_time": "2021-11-22T11:02:40.772Z"
   },
   {
    "duration": 16,
    "start_time": "2021-11-22T11:02:40.818Z"
   },
   {
    "duration": 15,
    "start_time": "2021-11-22T11:02:40.836Z"
   },
   {
    "duration": 14,
    "start_time": "2021-11-22T11:02:40.853Z"
   },
   {
    "duration": 13,
    "start_time": "2021-11-22T11:02:40.869Z"
   },
   {
    "duration": 12,
    "start_time": "2021-11-22T11:02:40.884Z"
   },
   {
    "duration": 14,
    "start_time": "2021-11-22T11:02:40.899Z"
   },
   {
    "duration": 64,
    "start_time": "2021-11-22T11:02:40.916Z"
   },
   {
    "duration": 6,
    "start_time": "2021-11-22T11:02:40.982Z"
   },
   {
    "duration": 9,
    "start_time": "2021-11-22T11:02:40.990Z"
   },
   {
    "duration": 13,
    "start_time": "2021-11-22T11:02:41.001Z"
   },
   {
    "duration": 13,
    "start_time": "2021-11-22T11:02:41.016Z"
   },
   {
    "duration": 5,
    "start_time": "2021-11-22T11:02:41.031Z"
   },
   {
    "duration": 30,
    "start_time": "2021-11-22T11:02:41.037Z"
   },
   {
    "duration": 5,
    "start_time": "2021-11-22T11:02:41.069Z"
   },
   {
    "duration": 10,
    "start_time": "2021-11-22T11:02:41.076Z"
   },
   {
    "duration": 7,
    "start_time": "2021-11-22T11:02:41.088Z"
   },
   {
    "duration": 24,
    "start_time": "2021-11-22T11:02:41.096Z"
   },
   {
    "duration": 12,
    "start_time": "2021-11-22T11:02:41.122Z"
   },
   {
    "duration": 29,
    "start_time": "2021-11-22T11:02:41.135Z"
   },
   {
    "duration": 6,
    "start_time": "2021-11-22T11:02:41.166Z"
   },
   {
    "duration": 19,
    "start_time": "2021-11-22T11:02:41.175Z"
   },
   {
    "duration": 41,
    "start_time": "2021-11-22T11:02:41.196Z"
   },
   {
    "duration": 31,
    "start_time": "2021-11-22T11:02:41.238Z"
   },
   {
    "duration": 8,
    "start_time": "2021-11-22T11:02:41.271Z"
   },
   {
    "duration": 15,
    "start_time": "2021-11-22T11:02:44.748Z"
   },
   {
    "duration": 79,
    "start_time": "2021-11-22T11:03:38.208Z"
   },
   {
    "duration": 47,
    "start_time": "2021-11-22T11:03:38.289Z"
   },
   {
    "duration": 16,
    "start_time": "2021-11-22T11:03:38.339Z"
   },
   {
    "duration": 18,
    "start_time": "2021-11-22T11:03:38.357Z"
   },
   {
    "duration": 14,
    "start_time": "2021-11-22T11:03:38.377Z"
   },
   {
    "duration": 13,
    "start_time": "2021-11-22T11:03:38.393Z"
   },
   {
    "duration": 13,
    "start_time": "2021-11-22T11:03:38.408Z"
   },
   {
    "duration": 50,
    "start_time": "2021-11-22T11:03:38.424Z"
   },
   {
    "duration": 30,
    "start_time": "2021-11-22T11:03:38.477Z"
   },
   {
    "duration": 8,
    "start_time": "2021-11-22T11:03:38.509Z"
   },
   {
    "duration": 49,
    "start_time": "2021-11-22T11:03:38.519Z"
   },
   {
    "duration": 13,
    "start_time": "2021-11-22T11:03:38.570Z"
   },
   {
    "duration": 15,
    "start_time": "2021-11-22T11:03:38.585Z"
   },
   {
    "duration": 5,
    "start_time": "2021-11-22T11:03:38.602Z"
   },
   {
    "duration": 9,
    "start_time": "2021-11-22T11:03:38.609Z"
   },
   {
    "duration": 8,
    "start_time": "2021-11-22T11:03:38.620Z"
   },
   {
    "duration": 8,
    "start_time": "2021-11-22T11:03:38.630Z"
   },
   {
    "duration": 9,
    "start_time": "2021-11-22T11:03:38.640Z"
   },
   {
    "duration": 10,
    "start_time": "2021-11-22T11:03:38.664Z"
   },
   {
    "duration": 16,
    "start_time": "2021-11-22T11:03:38.676Z"
   },
   {
    "duration": 12,
    "start_time": "2021-11-22T11:03:38.694Z"
   },
   {
    "duration": 15,
    "start_time": "2021-11-22T11:03:38.708Z"
   },
   {
    "duration": 38,
    "start_time": "2021-11-22T11:03:38.726Z"
   },
   {
    "duration": 52,
    "start_time": "2021-11-22T11:03:38.766Z"
   },
   {
    "duration": 14,
    "start_time": "2021-11-22T11:03:38.820Z"
   },
   {
    "duration": 41,
    "start_time": "2021-11-22T11:03:38.837Z"
   },
   {
    "duration": 17,
    "start_time": "2021-11-22T11:03:41.092Z"
   },
   {
    "duration": 6,
    "start_time": "2021-11-22T11:04:02.642Z"
   },
   {
    "duration": 5,
    "start_time": "2021-11-22T13:56:31.722Z"
   },
   {
    "duration": 8,
    "start_time": "2021-11-22T13:57:31.365Z"
   },
   {
    "duration": 5,
    "start_time": "2021-11-22T13:57:48.485Z"
   },
   {
    "duration": 68,
    "start_time": "2021-11-22T13:58:11.522Z"
   },
   {
    "duration": 42,
    "start_time": "2021-11-22T13:58:11.592Z"
   },
   {
    "duration": 17,
    "start_time": "2021-11-22T13:58:11.636Z"
   },
   {
    "duration": 14,
    "start_time": "2021-11-22T13:58:11.655Z"
   },
   {
    "duration": 11,
    "start_time": "2021-11-22T13:58:11.670Z"
   },
   {
    "duration": 12,
    "start_time": "2021-11-22T13:58:11.683Z"
   },
   {
    "duration": 13,
    "start_time": "2021-11-22T13:58:11.696Z"
   },
   {
    "duration": 14,
    "start_time": "2021-11-22T13:58:11.711Z"
   },
   {
    "duration": 62,
    "start_time": "2021-11-22T13:58:11.727Z"
   },
   {
    "duration": 6,
    "start_time": "2021-11-22T13:58:11.791Z"
   },
   {
    "duration": 9,
    "start_time": "2021-11-22T13:58:11.799Z"
   },
   {
    "duration": 6,
    "start_time": "2021-11-22T13:58:11.809Z"
   },
   {
    "duration": 15,
    "start_time": "2021-11-22T13:58:11.816Z"
   },
   {
    "duration": 33,
    "start_time": "2021-11-22T13:58:11.833Z"
   },
   {
    "duration": 9,
    "start_time": "2021-11-22T13:58:11.868Z"
   },
   {
    "duration": 9,
    "start_time": "2021-11-22T13:58:11.878Z"
   },
   {
    "duration": 8,
    "start_time": "2021-11-22T13:58:11.889Z"
   },
   {
    "duration": 11,
    "start_time": "2021-11-22T13:58:11.899Z"
   },
   {
    "duration": 18,
    "start_time": "2021-11-22T13:58:11.912Z"
   },
   {
    "duration": 12,
    "start_time": "2021-11-22T13:58:11.931Z"
   },
   {
    "duration": 24,
    "start_time": "2021-11-22T13:58:11.945Z"
   },
   {
    "duration": 10,
    "start_time": "2021-11-22T13:58:11.970Z"
   },
   {
    "duration": 28,
    "start_time": "2021-11-22T13:58:11.981Z"
   },
   {
    "duration": 33,
    "start_time": "2021-11-22T13:58:12.011Z"
   },
   {
    "duration": 22,
    "start_time": "2021-11-22T13:58:12.046Z"
   },
   {
    "duration": 11,
    "start_time": "2021-11-22T13:58:12.070Z"
   },
   {
    "duration": 16,
    "start_time": "2021-11-22T13:58:12.084Z"
   },
   {
    "duration": 16,
    "start_time": "2021-11-22T13:58:12.101Z"
   },
   {
    "duration": 22,
    "start_time": "2021-11-22T13:58:12.118Z"
   },
   {
    "duration": 25,
    "start_time": "2021-11-22T13:58:12.142Z"
   },
   {
    "duration": 5,
    "start_time": "2021-11-22T13:58:14.161Z"
   },
   {
    "duration": 6,
    "start_time": "2021-11-22T13:59:08.316Z"
   },
   {
    "duration": 5,
    "start_time": "2021-11-22T13:59:11.588Z"
   },
   {
    "duration": 24,
    "start_time": "2021-11-22T14:02:03.482Z"
   },
   {
    "duration": 12,
    "start_time": "2021-11-22T14:07:42.414Z"
   },
   {
    "duration": 25,
    "start_time": "2021-11-22T14:07:57.444Z"
   },
   {
    "duration": 23,
    "start_time": "2021-11-22T14:13:51.779Z"
   },
   {
    "duration": 9,
    "start_time": "2021-11-22T14:15:51.724Z"
   },
   {
    "duration": 71,
    "start_time": "2021-11-22T14:21:46.810Z"
   },
   {
    "duration": 43,
    "start_time": "2021-11-22T14:21:46.882Z"
   },
   {
    "duration": 37,
    "start_time": "2021-11-22T14:21:46.927Z"
   },
   {
    "duration": 26,
    "start_time": "2021-11-22T14:21:46.966Z"
   },
   {
    "duration": 24,
    "start_time": "2021-11-22T14:21:46.995Z"
   },
   {
    "duration": 20,
    "start_time": "2021-11-22T14:21:47.021Z"
   },
   {
    "duration": 28,
    "start_time": "2021-11-22T14:21:47.043Z"
   },
   {
    "duration": 16,
    "start_time": "2021-11-22T14:21:47.074Z"
   },
   {
    "duration": 40,
    "start_time": "2021-11-22T14:21:47.092Z"
   },
   {
    "duration": 6,
    "start_time": "2021-11-22T14:21:47.134Z"
   },
   {
    "duration": 27,
    "start_time": "2021-11-22T14:21:47.142Z"
   },
   {
    "duration": 23,
    "start_time": "2021-11-22T14:21:47.171Z"
   },
   {
    "duration": 30,
    "start_time": "2021-11-22T14:21:47.196Z"
   },
   {
    "duration": 24,
    "start_time": "2021-11-22T14:21:47.228Z"
   },
   {
    "duration": 87,
    "start_time": "2021-11-22T14:21:47.254Z"
   },
   {
    "duration": 82,
    "start_time": "2021-11-22T14:22:04.348Z"
   },
   {
    "duration": 80,
    "start_time": "2021-11-22T14:22:23.448Z"
   },
   {
    "duration": 7,
    "start_time": "2021-11-22T14:22:37.926Z"
   },
   {
    "duration": 10,
    "start_time": "2021-11-22T14:22:53.424Z"
   },
   {
    "duration": 13,
    "start_time": "2021-11-22T14:22:56.079Z"
   },
   {
    "duration": 11,
    "start_time": "2021-11-22T14:23:20.683Z"
   },
   {
    "duration": 248,
    "start_time": "2021-11-22T14:24:07.942Z"
   },
   {
    "duration": 12,
    "start_time": "2021-11-22T14:24:15.892Z"
   },
   {
    "duration": 71,
    "start_time": "2021-11-22T14:24:25.812Z"
   },
   {
    "duration": 43,
    "start_time": "2021-11-22T14:24:25.885Z"
   },
   {
    "duration": 15,
    "start_time": "2021-11-22T14:24:25.930Z"
   },
   {
    "duration": 15,
    "start_time": "2021-11-22T14:24:25.947Z"
   },
   {
    "duration": 12,
    "start_time": "2021-11-22T14:24:25.964Z"
   },
   {
    "duration": 13,
    "start_time": "2021-11-22T14:24:25.978Z"
   },
   {
    "duration": 12,
    "start_time": "2021-11-22T14:24:25.993Z"
   },
   {
    "duration": 15,
    "start_time": "2021-11-22T14:24:26.008Z"
   },
   {
    "duration": 59,
    "start_time": "2021-11-22T14:24:26.025Z"
   },
   {
    "duration": 6,
    "start_time": "2021-11-22T14:24:26.086Z"
   },
   {
    "duration": 21,
    "start_time": "2021-11-22T14:24:26.094Z"
   },
   {
    "duration": 6,
    "start_time": "2021-11-22T14:24:26.117Z"
   },
   {
    "duration": 38,
    "start_time": "2021-11-22T14:24:26.125Z"
   },
   {
    "duration": 6,
    "start_time": "2021-11-22T14:24:26.165Z"
   },
   {
    "duration": 11,
    "start_time": "2021-11-22T14:24:26.172Z"
   },
   {
    "duration": 28,
    "start_time": "2021-11-22T14:24:28.906Z"
   },
   {
    "duration": 72,
    "start_time": "2021-11-22T14:31:14.731Z"
   },
   {
    "duration": 44,
    "start_time": "2021-11-22T14:31:14.805Z"
   },
   {
    "duration": 16,
    "start_time": "2021-11-22T14:31:14.851Z"
   },
   {
    "duration": 15,
    "start_time": "2021-11-22T14:31:14.869Z"
   },
   {
    "duration": 13,
    "start_time": "2021-11-22T14:31:14.886Z"
   },
   {
    "duration": 13,
    "start_time": "2021-11-22T14:31:14.901Z"
   },
   {
    "duration": 46,
    "start_time": "2021-11-22T14:31:14.917Z"
   },
   {
    "duration": 16,
    "start_time": "2021-11-22T14:31:14.966Z"
   },
   {
    "duration": 27,
    "start_time": "2021-11-22T14:31:14.984Z"
   },
   {
    "duration": 6,
    "start_time": "2021-11-22T14:31:15.013Z"
   },
   {
    "duration": 15,
    "start_time": "2021-11-22T14:31:15.020Z"
   },
   {
    "duration": 32,
    "start_time": "2021-11-22T14:31:15.037Z"
   },
   {
    "duration": 14,
    "start_time": "2021-11-22T14:31:15.070Z"
   },
   {
    "duration": 5,
    "start_time": "2021-11-22T14:31:15.086Z"
   },
   {
    "duration": 11,
    "start_time": "2021-11-22T14:31:15.092Z"
   },
   {
    "duration": 9,
    "start_time": "2021-11-22T14:31:15.105Z"
   },
   {
    "duration": 51,
    "start_time": "2021-11-22T14:31:15.116Z"
   },
   {
    "duration": 9,
    "start_time": "2021-11-22T14:31:15.169Z"
   },
   {
    "duration": 6,
    "start_time": "2021-11-22T14:31:15.179Z"
   },
   {
    "duration": 18,
    "start_time": "2021-11-22T14:31:15.187Z"
   },
   {
    "duration": 65,
    "start_time": "2021-11-22T14:31:15.206Z"
   },
   {
    "duration": 9,
    "start_time": "2021-11-22T14:31:15.273Z"
   },
   {
    "duration": 11,
    "start_time": "2021-11-22T14:31:15.287Z"
   },
   {
    "duration": 17,
    "start_time": "2021-11-22T14:31:15.300Z"
   },
   {
    "duration": 46,
    "start_time": "2021-11-22T14:31:15.319Z"
   },
   {
    "duration": 6,
    "start_time": "2021-11-22T14:31:15.368Z"
   },
   {
    "duration": 8,
    "start_time": "2021-11-22T14:31:15.376Z"
   },
   {
    "duration": 25,
    "start_time": "2021-11-22T14:31:18.399Z"
   },
   {
    "duration": 6,
    "start_time": "2021-11-22T14:31:20.895Z"
   },
   {
    "duration": 24,
    "start_time": "2021-11-22T14:39:38.287Z"
   },
   {
    "duration": 12,
    "start_time": "2021-11-22T14:40:14.672Z"
   },
   {
    "duration": 271,
    "start_time": "2021-11-22T14:40:57.652Z"
   },
   {
    "duration": 27,
    "start_time": "2021-11-22T14:41:20.515Z"
   },
   {
    "duration": 23,
    "start_time": "2021-11-22T14:41:36.583Z"
   },
   {
    "duration": 27,
    "start_time": "2021-11-22T14:45:09.142Z"
   },
   {
    "duration": 74,
    "start_time": "2021-11-22T14:45:33.149Z"
   },
   {
    "duration": 43,
    "start_time": "2021-11-22T14:45:33.226Z"
   },
   {
    "duration": 20,
    "start_time": "2021-11-22T14:45:33.271Z"
   },
   {
    "duration": 16,
    "start_time": "2021-11-22T14:45:33.293Z"
   },
   {
    "duration": 14,
    "start_time": "2021-11-22T14:45:33.311Z"
   },
   {
    "duration": 46,
    "start_time": "2021-11-22T14:45:33.327Z"
   },
   {
    "duration": 14,
    "start_time": "2021-11-22T14:45:33.375Z"
   },
   {
    "duration": 16,
    "start_time": "2021-11-22T14:45:33.391Z"
   },
   {
    "duration": 60,
    "start_time": "2021-11-22T14:45:33.410Z"
   },
   {
    "duration": 7,
    "start_time": "2021-11-22T14:45:33.474Z"
   },
   {
    "duration": 9,
    "start_time": "2021-11-22T14:45:33.483Z"
   },
   {
    "duration": 5,
    "start_time": "2021-11-22T14:45:33.494Z"
   },
   {
    "duration": 15,
    "start_time": "2021-11-22T14:45:33.502Z"
   },
   {
    "duration": 49,
    "start_time": "2021-11-22T14:45:33.518Z"
   },
   {
    "duration": 9,
    "start_time": "2021-11-22T14:45:33.568Z"
   },
   {
    "duration": 9,
    "start_time": "2021-11-22T14:45:33.579Z"
   },
   {
    "duration": 9,
    "start_time": "2021-11-22T14:45:33.590Z"
   },
   {
    "duration": 9,
    "start_time": "2021-11-22T14:45:33.601Z"
   },
   {
    "duration": 6,
    "start_time": "2021-11-22T14:45:33.612Z"
   },
   {
    "duration": 18,
    "start_time": "2021-11-22T14:45:33.663Z"
   },
   {
    "duration": 39,
    "start_time": "2021-11-22T14:45:33.683Z"
   },
   {
    "duration": 42,
    "start_time": "2021-11-22T14:45:33.725Z"
   },
   {
    "duration": 14,
    "start_time": "2021-11-22T14:45:33.769Z"
   },
   {
    "duration": 18,
    "start_time": "2021-11-22T14:45:33.785Z"
   },
   {
    "duration": 7,
    "start_time": "2021-11-22T14:45:33.806Z"
   },
   {
    "duration": 51,
    "start_time": "2021-11-22T14:45:33.816Z"
   },
   {
    "duration": 6,
    "start_time": "2021-11-22T14:45:33.871Z"
   },
   {
    "duration": 14,
    "start_time": "2021-11-22T14:45:33.879Z"
   },
   {
    "duration": 24,
    "start_time": "2021-11-22T14:46:45.335Z"
   },
   {
    "duration": 27,
    "start_time": "2021-11-22T14:50:02.489Z"
   },
   {
    "duration": 22,
    "start_time": "2021-11-22T14:51:10.624Z"
   },
   {
    "duration": 25,
    "start_time": "2021-11-22T14:54:05.327Z"
   },
   {
    "duration": 71,
    "start_time": "2021-11-22T15:22:10.139Z"
   },
   {
    "duration": 43,
    "start_time": "2021-11-22T15:22:10.212Z"
   },
   {
    "duration": 15,
    "start_time": "2021-11-22T15:22:10.258Z"
   },
   {
    "duration": 16,
    "start_time": "2021-11-22T15:22:10.275Z"
   },
   {
    "duration": 13,
    "start_time": "2021-11-22T15:22:10.293Z"
   },
   {
    "duration": 13,
    "start_time": "2021-11-22T15:22:10.308Z"
   },
   {
    "duration": 45,
    "start_time": "2021-11-22T15:22:10.323Z"
   },
   {
    "duration": 14,
    "start_time": "2021-11-22T15:22:10.370Z"
   },
   {
    "duration": 25,
    "start_time": "2021-11-22T15:22:10.387Z"
   },
   {
    "duration": 5,
    "start_time": "2021-11-22T15:22:10.414Z"
   },
   {
    "duration": 42,
    "start_time": "2021-11-22T15:22:10.421Z"
   },
   {
    "duration": 7,
    "start_time": "2021-11-22T15:22:10.465Z"
   },
   {
    "duration": 11,
    "start_time": "2021-11-22T15:22:10.474Z"
   },
   {
    "duration": 4,
    "start_time": "2021-11-22T15:22:10.487Z"
   },
   {
    "duration": 9,
    "start_time": "2021-11-22T15:22:10.493Z"
   },
   {
    "duration": 10,
    "start_time": "2021-11-22T15:22:10.503Z"
   },
   {
    "duration": 49,
    "start_time": "2021-11-22T15:22:10.515Z"
   },
   {
    "duration": 12,
    "start_time": "2021-11-22T15:22:10.566Z"
   },
   {
    "duration": 7,
    "start_time": "2021-11-22T15:22:10.580Z"
   },
   {
    "duration": 20,
    "start_time": "2021-11-22T15:22:10.588Z"
   },
   {
    "duration": 60,
    "start_time": "2021-11-22T15:22:10.610Z"
   },
   {
    "duration": 9,
    "start_time": "2021-11-22T15:22:10.672Z"
   },
   {
    "duration": 10,
    "start_time": "2021-11-22T15:22:10.682Z"
   },
   {
    "duration": 14,
    "start_time": "2021-11-22T15:22:10.694Z"
   },
   {
    "duration": 7,
    "start_time": "2021-11-22T15:22:10.709Z"
   },
   {
    "duration": 9,
    "start_time": "2021-11-22T15:22:10.717Z"
   },
   {
    "duration": 39,
    "start_time": "2021-11-22T15:22:10.729Z"
   },
   {
    "duration": 12,
    "start_time": "2021-11-22T15:22:10.770Z"
   },
   {
    "duration": 36,
    "start_time": "2021-11-22T15:22:10.784Z"
   },
   {
    "duration": 41,
    "start_time": "2021-11-22T15:22:10.822Z"
   },
   {
    "duration": 12,
    "start_time": "2021-11-22T15:22:10.865Z"
   },
   {
    "duration": 10,
    "start_time": "2021-11-22T15:22:14.517Z"
   },
   {
    "duration": 24,
    "start_time": "2021-11-22T15:22:59.992Z"
   },
   {
    "duration": 12,
    "start_time": "2021-11-22T15:23:01.734Z"
   },
   {
    "duration": 67,
    "start_time": "2021-11-22T15:23:07.488Z"
   },
   {
    "duration": 42,
    "start_time": "2021-11-22T15:23:07.557Z"
   },
   {
    "duration": 22,
    "start_time": "2021-11-22T15:23:07.601Z"
   },
   {
    "duration": 27,
    "start_time": "2021-11-22T15:23:07.625Z"
   },
   {
    "duration": 13,
    "start_time": "2021-11-22T15:23:07.654Z"
   },
   {
    "duration": 19,
    "start_time": "2021-11-22T15:23:07.669Z"
   },
   {
    "duration": 14,
    "start_time": "2021-11-22T15:23:07.689Z"
   },
   {
    "duration": 21,
    "start_time": "2021-11-22T15:23:07.706Z"
   },
   {
    "duration": 41,
    "start_time": "2021-11-22T15:23:07.729Z"
   },
   {
    "duration": 5,
    "start_time": "2021-11-22T15:23:07.772Z"
   },
   {
    "duration": 18,
    "start_time": "2021-11-22T15:23:07.779Z"
   },
   {
    "duration": 9,
    "start_time": "2021-11-22T15:23:07.799Z"
   },
   {
    "duration": 33,
    "start_time": "2021-11-22T15:23:07.810Z"
   },
   {
    "duration": 18,
    "start_time": "2021-11-22T15:23:07.844Z"
   },
   {
    "duration": 17,
    "start_time": "2021-11-22T15:23:07.864Z"
   },
   {
    "duration": 22,
    "start_time": "2021-11-22T15:23:07.883Z"
   },
   {
    "duration": 20,
    "start_time": "2021-11-22T15:23:07.906Z"
   },
   {
    "duration": 22,
    "start_time": "2021-11-22T15:23:07.928Z"
   },
   {
    "duration": 18,
    "start_time": "2021-11-22T15:23:07.952Z"
   },
   {
    "duration": 27,
    "start_time": "2021-11-22T15:23:07.971Z"
   },
   {
    "duration": 50,
    "start_time": "2021-11-22T15:23:08.000Z"
   },
   {
    "duration": 9,
    "start_time": "2021-11-22T15:23:08.052Z"
   },
   {
    "duration": 30,
    "start_time": "2021-11-22T15:23:08.064Z"
   },
   {
    "duration": 36,
    "start_time": "2021-11-22T15:23:08.096Z"
   },
   {
    "duration": 19,
    "start_time": "2021-11-22T15:23:08.133Z"
   },
   {
    "duration": 20,
    "start_time": "2021-11-22T15:23:08.154Z"
   },
   {
    "duration": 28,
    "start_time": "2021-11-22T15:23:08.175Z"
   },
   {
    "duration": 19,
    "start_time": "2021-11-22T15:23:08.204Z"
   },
   {
    "duration": 50,
    "start_time": "2021-11-22T15:23:08.225Z"
   },
   {
    "duration": 24,
    "start_time": "2021-11-22T15:23:08.277Z"
   },
   {
    "duration": 14,
    "start_time": "2021-11-22T15:23:10.369Z"
   },
   {
    "duration": 75,
    "start_time": "2021-11-22T15:24:18.879Z"
   },
   {
    "duration": 47,
    "start_time": "2021-11-22T15:24:18.956Z"
   },
   {
    "duration": 14,
    "start_time": "2021-11-22T15:24:19.005Z"
   },
   {
    "duration": 14,
    "start_time": "2021-11-22T15:24:19.020Z"
   },
   {
    "duration": 14,
    "start_time": "2021-11-22T15:24:19.035Z"
   },
   {
    "duration": 17,
    "start_time": "2021-11-22T15:24:19.051Z"
   },
   {
    "duration": 11,
    "start_time": "2021-11-22T15:24:19.069Z"
   },
   {
    "duration": 13,
    "start_time": "2021-11-22T15:24:19.083Z"
   },
   {
    "duration": 24,
    "start_time": "2021-11-22T15:24:19.098Z"
   },
   {
    "duration": 4,
    "start_time": "2021-11-22T15:24:19.124Z"
   },
   {
    "duration": 8,
    "start_time": "2021-11-22T15:24:19.163Z"
   },
   {
    "duration": 6,
    "start_time": "2021-11-22T15:24:19.173Z"
   },
   {
    "duration": 15,
    "start_time": "2021-11-22T15:24:19.181Z"
   },
   {
    "duration": 6,
    "start_time": "2021-11-22T15:24:19.198Z"
   },
   {
    "duration": 10,
    "start_time": "2021-11-22T15:24:19.205Z"
   },
   {
    "duration": 13,
    "start_time": "2021-11-22T15:24:19.217Z"
   },
   {
    "duration": 9,
    "start_time": "2021-11-22T15:24:19.264Z"
   },
   {
    "duration": 9,
    "start_time": "2021-11-22T15:24:19.275Z"
   },
   {
    "duration": 5,
    "start_time": "2021-11-22T15:24:19.286Z"
   },
   {
    "duration": 19,
    "start_time": "2021-11-22T15:24:19.293Z"
   },
   {
    "duration": 65,
    "start_time": "2021-11-22T15:24:19.314Z"
   },
   {
    "duration": 9,
    "start_time": "2021-11-22T15:24:19.381Z"
   },
   {
    "duration": 13,
    "start_time": "2021-11-22T15:24:19.393Z"
   },
   {
    "duration": 17,
    "start_time": "2021-11-22T15:24:19.408Z"
   },
   {
    "duration": 39,
    "start_time": "2021-11-22T15:24:19.427Z"
   },
   {
    "duration": 12,
    "start_time": "2021-11-22T15:24:19.468Z"
   },
   {
    "duration": 7,
    "start_time": "2021-11-22T15:24:19.483Z"
   },
   {
    "duration": 21,
    "start_time": "2021-11-22T15:24:19.492Z"
   },
   {
    "duration": 50,
    "start_time": "2021-11-22T15:24:19.515Z"
   },
   {
    "duration": 30,
    "start_time": "2021-11-22T15:24:19.567Z"
   },
   {
    "duration": 12,
    "start_time": "2021-11-22T15:24:21.539Z"
   },
   {
    "duration": 69,
    "start_time": "2021-11-22T15:24:36.520Z"
   },
   {
    "duration": 43,
    "start_time": "2021-11-22T15:24:36.591Z"
   },
   {
    "duration": 15,
    "start_time": "2021-11-22T15:24:36.636Z"
   },
   {
    "duration": 19,
    "start_time": "2021-11-22T15:24:36.652Z"
   },
   {
    "duration": 13,
    "start_time": "2021-11-22T15:24:36.673Z"
   },
   {
    "duration": 13,
    "start_time": "2021-11-22T15:24:36.687Z"
   },
   {
    "duration": 11,
    "start_time": "2021-11-22T15:24:36.701Z"
   },
   {
    "duration": 13,
    "start_time": "2021-11-22T15:24:36.715Z"
   },
   {
    "duration": 54,
    "start_time": "2021-11-22T15:24:36.730Z"
   },
   {
    "duration": 5,
    "start_time": "2021-11-22T15:24:36.786Z"
   },
   {
    "duration": 10,
    "start_time": "2021-11-22T15:24:36.793Z"
   },
   {
    "duration": 6,
    "start_time": "2021-11-22T15:24:36.804Z"
   },
   {
    "duration": 16,
    "start_time": "2021-11-22T15:24:36.812Z"
   },
   {
    "duration": 37,
    "start_time": "2021-11-22T15:24:36.830Z"
   },
   {
    "duration": 31,
    "start_time": "2021-11-22T15:24:36.868Z"
   },
   {
    "duration": 10,
    "start_time": "2021-11-22T15:24:36.901Z"
   },
   {
    "duration": 8,
    "start_time": "2021-11-22T15:24:36.913Z"
   },
   {
    "duration": 12,
    "start_time": "2021-11-22T15:24:36.923Z"
   },
   {
    "duration": 27,
    "start_time": "2021-11-22T15:24:36.937Z"
   },
   {
    "duration": 17,
    "start_time": "2021-11-22T15:24:36.966Z"
   },
   {
    "duration": 37,
    "start_time": "2021-11-22T15:24:36.984Z"
   },
   {
    "duration": 10,
    "start_time": "2021-11-22T15:24:37.022Z"
   },
   {
    "duration": 37,
    "start_time": "2021-11-22T15:24:37.035Z"
   },
   {
    "duration": 27,
    "start_time": "2021-11-22T15:24:37.074Z"
   },
   {
    "duration": 9,
    "start_time": "2021-11-22T15:24:37.103Z"
   },
   {
    "duration": 7,
    "start_time": "2021-11-22T15:24:37.114Z"
   },
   {
    "duration": 21,
    "start_time": "2021-11-22T15:24:37.123Z"
   },
   {
    "duration": 21,
    "start_time": "2021-11-22T15:24:37.145Z"
   },
   {
    "duration": 27,
    "start_time": "2021-11-22T15:24:37.168Z"
   },
   {
    "duration": 44,
    "start_time": "2021-11-22T15:24:37.197Z"
   },
   {
    "duration": 13,
    "start_time": "2021-11-22T15:24:40.639Z"
   },
   {
    "duration": 73,
    "start_time": "2021-11-22T15:25:31.435Z"
   },
   {
    "duration": 42,
    "start_time": "2021-11-22T15:25:31.577Z"
   },
   {
    "duration": 29,
    "start_time": "2021-11-22T15:25:31.622Z"
   },
   {
    "duration": 27,
    "start_time": "2021-11-22T15:25:31.653Z"
   },
   {
    "duration": 14,
    "start_time": "2021-11-22T15:25:31.682Z"
   },
   {
    "duration": 39,
    "start_time": "2021-11-22T15:25:31.697Z"
   },
   {
    "duration": 14,
    "start_time": "2021-11-22T15:25:31.738Z"
   },
   {
    "duration": 24,
    "start_time": "2021-11-22T15:25:31.754Z"
   },
   {
    "duration": 86,
    "start_time": "2021-11-22T15:25:31.780Z"
   },
   {
    "duration": 37,
    "start_time": "2021-11-22T15:25:31.869Z"
   },
   {
    "duration": 23,
    "start_time": "2021-11-22T15:25:31.908Z"
   },
   {
    "duration": 26,
    "start_time": "2021-11-22T15:25:31.933Z"
   },
   {
    "duration": 51,
    "start_time": "2021-11-22T15:25:31.961Z"
   },
   {
    "duration": 45,
    "start_time": "2021-11-22T15:25:32.014Z"
   },
   {
    "duration": 31,
    "start_time": "2021-11-22T15:25:32.061Z"
   },
   {
    "duration": 52,
    "start_time": "2021-11-22T15:25:32.094Z"
   },
   {
    "duration": 38,
    "start_time": "2021-11-22T15:25:32.148Z"
   },
   {
    "duration": 25,
    "start_time": "2021-11-22T15:25:32.188Z"
   },
   {
    "duration": 54,
    "start_time": "2021-11-22T15:25:32.214Z"
   },
   {
    "duration": 43,
    "start_time": "2021-11-22T15:25:32.270Z"
   },
   {
    "duration": 54,
    "start_time": "2021-11-22T15:25:32.315Z"
   },
   {
    "duration": 18,
    "start_time": "2021-11-22T15:25:32.371Z"
   },
   {
    "duration": 36,
    "start_time": "2021-11-22T15:25:32.391Z"
   },
   {
    "duration": 18,
    "start_time": "2021-11-22T15:25:32.429Z"
   },
   {
    "duration": 7,
    "start_time": "2021-11-22T15:25:32.449Z"
   },
   {
    "duration": 16,
    "start_time": "2021-11-22T15:25:32.457Z"
   },
   {
    "duration": 14,
    "start_time": "2021-11-22T15:25:32.475Z"
   },
   {
    "duration": 15,
    "start_time": "2021-11-22T15:25:32.492Z"
   },
   {
    "duration": 11,
    "start_time": "2021-11-22T15:25:35.927Z"
   },
   {
    "duration": 27,
    "start_time": "2021-11-22T15:25:49.885Z"
   },
   {
    "duration": 25,
    "start_time": "2021-11-22T15:26:05.251Z"
   },
   {
    "duration": 71,
    "start_time": "2021-11-22T15:26:38.433Z"
   },
   {
    "duration": 43,
    "start_time": "2021-11-22T15:26:38.506Z"
   },
   {
    "duration": 16,
    "start_time": "2021-11-22T15:26:38.551Z"
   },
   {
    "duration": 17,
    "start_time": "2021-11-22T15:26:38.569Z"
   },
   {
    "duration": 13,
    "start_time": "2021-11-22T15:26:38.587Z"
   },
   {
    "duration": 15,
    "start_time": "2021-11-22T15:26:38.601Z"
   },
   {
    "duration": 53,
    "start_time": "2021-11-22T15:26:38.618Z"
   },
   {
    "duration": 15,
    "start_time": "2021-11-22T15:26:38.674Z"
   },
   {
    "duration": 36,
    "start_time": "2021-11-22T15:26:38.691Z"
   },
   {
    "duration": 6,
    "start_time": "2021-11-22T15:26:38.728Z"
   },
   {
    "duration": 33,
    "start_time": "2021-11-22T15:26:38.736Z"
   },
   {
    "duration": 6,
    "start_time": "2021-11-22T15:26:38.771Z"
   },
   {
    "duration": 16,
    "start_time": "2021-11-22T15:26:38.778Z"
   },
   {
    "duration": 4,
    "start_time": "2021-11-22T15:26:38.796Z"
   },
   {
    "duration": 10,
    "start_time": "2021-11-22T15:26:38.802Z"
   },
   {
    "duration": 9,
    "start_time": "2021-11-22T15:26:38.814Z"
   },
   {
    "duration": 44,
    "start_time": "2021-11-22T15:26:38.825Z"
   },
   {
    "duration": 9,
    "start_time": "2021-11-22T15:26:38.871Z"
   },
   {
    "duration": 10,
    "start_time": "2021-11-22T15:26:38.881Z"
   },
   {
    "duration": 25,
    "start_time": "2021-11-22T15:26:38.893Z"
   },
   {
    "duration": 55,
    "start_time": "2021-11-22T15:26:38.920Z"
   },
   {
    "duration": 10,
    "start_time": "2021-11-22T15:26:38.976Z"
   },
   {
    "duration": 11,
    "start_time": "2021-11-22T15:26:38.989Z"
   },
   {
    "duration": 15,
    "start_time": "2021-11-22T15:26:39.002Z"
   },
   {
    "duration": 7,
    "start_time": "2021-11-22T15:26:39.019Z"
   },
   {
    "duration": 4,
    "start_time": "2021-11-22T15:26:39.064Z"
   },
   {
    "duration": 7,
    "start_time": "2021-11-22T15:26:39.070Z"
   },
   {
    "duration": 13,
    "start_time": "2021-11-22T15:26:39.079Z"
   },
   {
    "duration": 22,
    "start_time": "2021-11-22T15:26:39.094Z"
   },
   {
    "duration": 5,
    "start_time": "2021-11-22T15:26:39.117Z"
   },
   {
    "duration": 8,
    "start_time": "2021-11-22T15:26:40.915Z"
   },
   {
    "duration": 73,
    "start_time": "2021-11-22T15:27:56.392Z"
   },
   {
    "duration": 43,
    "start_time": "2021-11-22T15:27:56.467Z"
   },
   {
    "duration": 73,
    "start_time": "2021-11-22T15:27:56.512Z"
   },
   {
    "duration": 30,
    "start_time": "2021-11-22T15:27:56.587Z"
   },
   {
    "duration": 26,
    "start_time": "2021-11-22T15:27:56.619Z"
   },
   {
    "duration": 19,
    "start_time": "2021-11-22T15:27:56.647Z"
   },
   {
    "duration": 16,
    "start_time": "2021-11-22T15:27:56.668Z"
   },
   {
    "duration": 17,
    "start_time": "2021-11-22T15:27:56.687Z"
   },
   {
    "duration": 35,
    "start_time": "2021-11-22T15:27:56.706Z"
   },
   {
    "duration": 25,
    "start_time": "2021-11-22T15:27:56.743Z"
   },
   {
    "duration": 21,
    "start_time": "2021-11-22T15:27:56.769Z"
   },
   {
    "duration": 7,
    "start_time": "2021-11-22T15:27:56.792Z"
   },
   {
    "duration": 28,
    "start_time": "2021-11-22T15:27:56.801Z"
   },
   {
    "duration": 11,
    "start_time": "2021-11-22T15:27:56.831Z"
   },
   {
    "duration": 27,
    "start_time": "2021-11-22T15:27:56.843Z"
   },
   {
    "duration": 24,
    "start_time": "2021-11-22T15:27:56.872Z"
   },
   {
    "duration": 41,
    "start_time": "2021-11-22T15:27:56.898Z"
   },
   {
    "duration": 18,
    "start_time": "2021-11-22T15:27:56.941Z"
   },
   {
    "duration": 8,
    "start_time": "2021-11-22T15:27:56.962Z"
   },
   {
    "duration": 33,
    "start_time": "2021-11-22T15:27:56.972Z"
   },
   {
    "duration": 64,
    "start_time": "2021-11-22T15:27:57.007Z"
   },
   {
    "duration": 9,
    "start_time": "2021-11-22T15:27:57.073Z"
   },
   {
    "duration": 11,
    "start_time": "2021-11-22T15:27:57.085Z"
   },
   {
    "duration": 15,
    "start_time": "2021-11-22T15:27:57.098Z"
   },
   {
    "duration": 8,
    "start_time": "2021-11-22T15:27:57.115Z"
   },
   {
    "duration": 40,
    "start_time": "2021-11-22T15:27:57.124Z"
   },
   {
    "duration": 5,
    "start_time": "2021-11-22T15:27:57.167Z"
   },
   {
    "duration": 20,
    "start_time": "2021-11-22T15:27:57.173Z"
   },
   {
    "duration": 22,
    "start_time": "2021-11-22T15:27:57.195Z"
   },
   {
    "duration": 7,
    "start_time": "2021-11-22T15:27:59.068Z"
   },
   {
    "duration": 11,
    "start_time": "2021-11-22T15:28:00.476Z"
   },
   {
    "duration": 12,
    "start_time": "2021-11-22T15:28:26.952Z"
   },
   {
    "duration": 13,
    "start_time": "2021-11-22T15:28:27.955Z"
   },
   {
    "duration": 7,
    "start_time": "2021-11-22T15:28:46.274Z"
   },
   {
    "duration": 624,
    "start_time": "2021-11-22T15:29:06.007Z"
   },
   {
    "duration": 45,
    "start_time": "2021-11-22T15:29:06.633Z"
   },
   {
    "duration": 22,
    "start_time": "2021-11-22T15:29:06.681Z"
   },
   {
    "duration": 15,
    "start_time": "2021-11-22T15:29:06.705Z"
   },
   {
    "duration": 41,
    "start_time": "2021-11-22T15:29:06.722Z"
   },
   {
    "duration": 13,
    "start_time": "2021-11-22T15:29:06.765Z"
   },
   {
    "duration": 14,
    "start_time": "2021-11-22T15:29:06.780Z"
   },
   {
    "duration": 14,
    "start_time": "2021-11-22T15:29:06.797Z"
   },
   {
    "duration": 60,
    "start_time": "2021-11-22T15:29:06.814Z"
   },
   {
    "duration": 5,
    "start_time": "2021-11-22T15:29:06.876Z"
   },
   {
    "duration": 8,
    "start_time": "2021-11-22T15:29:06.883Z"
   },
   {
    "duration": 5,
    "start_time": "2021-11-22T15:29:06.893Z"
   },
   {
    "duration": 13,
    "start_time": "2021-11-22T15:29:06.900Z"
   },
   {
    "duration": 5,
    "start_time": "2021-11-22T15:29:06.914Z"
   },
   {
    "duration": 45,
    "start_time": "2021-11-22T15:29:06.921Z"
   },
   {
    "duration": 8,
    "start_time": "2021-11-22T15:29:06.968Z"
   },
   {
    "duration": 12,
    "start_time": "2021-11-22T15:29:06.978Z"
   },
   {
    "duration": 12,
    "start_time": "2021-11-22T15:29:06.991Z"
   },
   {
    "duration": 6,
    "start_time": "2021-11-22T15:29:07.004Z"
   },
   {
    "duration": 21,
    "start_time": "2021-11-22T15:29:07.011Z"
   },
   {
    "duration": 56,
    "start_time": "2021-11-22T15:29:07.034Z"
   },
   {
    "duration": 9,
    "start_time": "2021-11-22T15:29:07.091Z"
   },
   {
    "duration": 12,
    "start_time": "2021-11-22T15:29:07.103Z"
   },
   {
    "duration": 49,
    "start_time": "2021-11-22T15:29:07.116Z"
   },
   {
    "duration": 6,
    "start_time": "2021-11-22T15:29:07.167Z"
   },
   {
    "duration": 10,
    "start_time": "2021-11-22T15:29:07.175Z"
   },
   {
    "duration": 7,
    "start_time": "2021-11-22T15:29:07.186Z"
   },
   {
    "duration": 15,
    "start_time": "2021-11-22T15:29:07.195Z"
   },
   {
    "duration": 53,
    "start_time": "2021-11-22T15:29:07.212Z"
   },
   {
    "duration": 12,
    "start_time": "2021-11-22T15:29:07.267Z"
   },
   {
    "duration": 11,
    "start_time": "2021-11-22T15:29:07.281Z"
   },
   {
    "duration": 7,
    "start_time": "2021-11-22T15:30:38.320Z"
   },
   {
    "duration": 71,
    "start_time": "2021-11-22T15:30:46.442Z"
   },
   {
    "duration": 44,
    "start_time": "2021-11-22T15:30:46.516Z"
   },
   {
    "duration": 16,
    "start_time": "2021-11-22T15:30:46.563Z"
   },
   {
    "duration": 16,
    "start_time": "2021-11-22T15:30:46.582Z"
   },
   {
    "duration": 16,
    "start_time": "2021-11-22T15:30:46.600Z"
   },
   {
    "duration": 52,
    "start_time": "2021-11-22T15:30:46.618Z"
   },
   {
    "duration": 15,
    "start_time": "2021-11-22T15:30:46.672Z"
   },
   {
    "duration": 16,
    "start_time": "2021-11-22T15:30:46.690Z"
   },
   {
    "duration": 66,
    "start_time": "2021-11-22T15:30:46.708Z"
   },
   {
    "duration": 6,
    "start_time": "2021-11-22T15:30:46.776Z"
   },
   {
    "duration": 9,
    "start_time": "2021-11-22T15:30:46.784Z"
   },
   {
    "duration": 7,
    "start_time": "2021-11-22T15:30:46.795Z"
   },
   {
    "duration": 18,
    "start_time": "2021-11-22T15:30:46.804Z"
   },
   {
    "duration": 39,
    "start_time": "2021-11-22T15:30:46.824Z"
   },
   {
    "duration": 9,
    "start_time": "2021-11-22T15:30:46.866Z"
   },
   {
    "duration": 9,
    "start_time": "2021-11-22T15:30:46.877Z"
   },
   {
    "duration": 14,
    "start_time": "2021-11-22T15:30:46.887Z"
   },
   {
    "duration": 10,
    "start_time": "2021-11-22T15:30:46.903Z"
   },
   {
    "duration": 5,
    "start_time": "2021-11-22T15:30:46.915Z"
   },
   {
    "duration": 52,
    "start_time": "2021-11-22T15:30:46.922Z"
   },
   {
    "duration": 32,
    "start_time": "2021-11-22T15:30:46.976Z"
   },
   {
    "duration": 10,
    "start_time": "2021-11-22T15:30:47.009Z"
   },
   {
    "duration": 41,
    "start_time": "2021-11-22T15:30:47.022Z"
   },
   {
    "duration": 16,
    "start_time": "2021-11-22T15:30:47.066Z"
   },
   {
    "duration": 13,
    "start_time": "2021-11-22T15:30:47.084Z"
   },
   {
    "duration": 9,
    "start_time": "2021-11-22T15:30:47.099Z"
   },
   {
    "duration": 5,
    "start_time": "2021-11-22T15:30:47.110Z"
   },
   {
    "duration": 8,
    "start_time": "2021-11-22T15:30:48.787Z"
   },
   {
    "duration": 16,
    "start_time": "2021-11-22T15:31:42.556Z"
   },
   {
    "duration": 5,
    "start_time": "2021-11-22T15:38:31.287Z"
   },
   {
    "duration": 16,
    "start_time": "2021-11-22T15:38:42.115Z"
   },
   {
    "duration": 4,
    "start_time": "2021-11-22T16:00:16.861Z"
   },
   {
    "duration": 4,
    "start_time": "2021-11-22T16:00:34.382Z"
   },
   {
    "duration": 4,
    "start_time": "2021-11-22T16:00:45.610Z"
   },
   {
    "duration": 3,
    "start_time": "2021-11-22T16:08:41.548Z"
   },
   {
    "duration": 7,
    "start_time": "2021-11-22T16:09:43.050Z"
   },
   {
    "duration": 19,
    "start_time": "2021-11-22T16:09:56.513Z"
   },
   {
    "duration": 308,
    "start_time": "2021-11-22T16:10:31.211Z"
   },
   {
    "duration": 243,
    "start_time": "2021-11-22T16:10:46.479Z"
   },
   {
    "duration": 21,
    "start_time": "2021-11-22T16:12:44.893Z"
   },
   {
    "duration": 1202,
    "start_time": "2021-11-22T16:17:16.827Z"
   },
   {
    "duration": 70,
    "start_time": "2021-11-22T16:17:34.252Z"
   },
   {
    "duration": 43,
    "start_time": "2021-11-22T16:17:34.323Z"
   },
   {
    "duration": 18,
    "start_time": "2021-11-22T16:17:34.368Z"
   },
   {
    "duration": 17,
    "start_time": "2021-11-22T16:17:34.388Z"
   },
   {
    "duration": 12,
    "start_time": "2021-11-22T16:17:34.406Z"
   },
   {
    "duration": 10,
    "start_time": "2021-11-22T16:17:34.420Z"
   },
   {
    "duration": 38,
    "start_time": "2021-11-22T16:17:34.432Z"
   },
   {
    "duration": 15,
    "start_time": "2021-11-22T16:17:34.473Z"
   },
   {
    "duration": 27,
    "start_time": "2021-11-22T16:17:34.490Z"
   },
   {
    "duration": 7,
    "start_time": "2021-11-22T16:17:34.518Z"
   },
   {
    "duration": 42,
    "start_time": "2021-11-22T16:17:34.526Z"
   },
   {
    "duration": 6,
    "start_time": "2021-11-22T16:17:34.570Z"
   },
   {
    "duration": 17,
    "start_time": "2021-11-22T16:17:34.577Z"
   },
   {
    "duration": 7,
    "start_time": "2021-11-22T16:17:34.596Z"
   },
   {
    "duration": 15,
    "start_time": "2021-11-22T16:17:34.604Z"
   },
   {
    "duration": 17,
    "start_time": "2021-11-22T16:17:34.621Z"
   },
   {
    "duration": 27,
    "start_time": "2021-11-22T16:17:34.640Z"
   },
   {
    "duration": 15,
    "start_time": "2021-11-22T16:17:34.669Z"
   },
   {
    "duration": 10,
    "start_time": "2021-11-22T16:17:34.686Z"
   },
   {
    "duration": 27,
    "start_time": "2021-11-22T16:17:34.698Z"
   },
   {
    "duration": 41,
    "start_time": "2021-11-22T16:17:34.727Z"
   },
   {
    "duration": 12,
    "start_time": "2021-11-22T16:17:34.769Z"
   },
   {
    "duration": 11,
    "start_time": "2021-11-22T16:17:34.783Z"
   },
   {
    "duration": 16,
    "start_time": "2021-11-22T16:17:34.796Z"
   },
   {
    "duration": 13,
    "start_time": "2021-11-22T16:17:34.814Z"
   },
   {
    "duration": 35,
    "start_time": "2021-11-22T16:17:34.829Z"
   },
   {
    "duration": 5,
    "start_time": "2021-11-22T16:17:34.866Z"
   },
   {
    "duration": 10,
    "start_time": "2021-11-22T16:17:34.873Z"
   },
   {
    "duration": 25,
    "start_time": "2021-11-22T16:17:34.885Z"
   },
   {
    "duration": 18,
    "start_time": "2021-11-22T16:17:34.911Z"
   },
   {
    "duration": 20,
    "start_time": "2021-11-22T16:17:34.931Z"
   },
   {
    "duration": 22,
    "start_time": "2021-11-22T16:17:34.953Z"
   },
   {
    "duration": 7,
    "start_time": "2021-11-22T16:17:34.977Z"
   },
   {
    "duration": 24,
    "start_time": "2021-11-22T16:17:34.986Z"
   },
   {
    "duration": 1295,
    "start_time": "2021-11-22T16:17:36.704Z"
   },
   {
    "duration": 8,
    "start_time": "2021-11-22T16:18:30.995Z"
   },
   {
    "duration": 32,
    "start_time": "2021-11-22T16:22:18.652Z"
   },
   {
    "duration": 3,
    "start_time": "2021-11-22T16:24:30.869Z"
   },
   {
    "duration": 7,
    "start_time": "2021-11-22T16:24:33.029Z"
   },
   {
    "duration": 1166,
    "start_time": "2021-11-22T16:24:35.275Z"
   },
   {
    "duration": 6,
    "start_time": "2021-11-22T16:26:46.943Z"
   },
   {
    "duration": 1198,
    "start_time": "2021-11-22T16:27:14.020Z"
   },
   {
    "duration": 3,
    "start_time": "2021-11-22T16:47:06.354Z"
   },
   {
    "duration": 7,
    "start_time": "2021-11-22T16:47:07.856Z"
   },
   {
    "duration": 1190,
    "start_time": "2021-11-22T16:47:08.939Z"
   },
   {
    "duration": 659,
    "start_time": "2021-11-22T16:47:24.070Z"
   },
   {
    "duration": 43,
    "start_time": "2021-11-22T16:47:24.731Z"
   },
   {
    "duration": 22,
    "start_time": "2021-11-22T16:47:24.776Z"
   },
   {
    "duration": 14,
    "start_time": "2021-11-22T16:47:24.800Z"
   },
   {
    "duration": 12,
    "start_time": "2021-11-22T16:47:24.816Z"
   },
   {
    "duration": 40,
    "start_time": "2021-11-22T16:47:24.830Z"
   },
   {
    "duration": 12,
    "start_time": "2021-11-22T16:47:24.872Z"
   },
   {
    "duration": 14,
    "start_time": "2021-11-22T16:47:24.886Z"
   },
   {
    "duration": 33,
    "start_time": "2021-11-22T16:47:24.903Z"
   },
   {
    "duration": 29,
    "start_time": "2021-11-22T16:47:24.938Z"
   },
   {
    "duration": 10,
    "start_time": "2021-11-22T16:47:24.969Z"
   },
   {
    "duration": 5,
    "start_time": "2021-11-22T16:47:24.981Z"
   },
   {
    "duration": 11,
    "start_time": "2021-11-22T16:47:24.988Z"
   },
   {
    "duration": 4,
    "start_time": "2021-11-22T16:47:25.001Z"
   },
   {
    "duration": 12,
    "start_time": "2021-11-22T16:47:25.007Z"
   },
   {
    "duration": 47,
    "start_time": "2021-11-22T16:47:25.020Z"
   },
   {
    "duration": 13,
    "start_time": "2021-11-22T16:47:25.069Z"
   },
   {
    "duration": 34,
    "start_time": "2021-11-22T16:47:25.084Z"
   },
   {
    "duration": 7,
    "start_time": "2021-11-22T16:47:25.120Z"
   },
   {
    "duration": 20,
    "start_time": "2021-11-22T16:47:25.129Z"
   },
   {
    "duration": 40,
    "start_time": "2021-11-22T16:47:25.151Z"
   },
   {
    "duration": 10,
    "start_time": "2021-11-22T16:47:25.192Z"
   },
   {
    "duration": 14,
    "start_time": "2021-11-22T16:47:25.203Z"
   },
   {
    "duration": 22,
    "start_time": "2021-11-22T16:47:25.219Z"
   },
   {
    "duration": 25,
    "start_time": "2021-11-22T16:47:25.242Z"
   },
   {
    "duration": 7,
    "start_time": "2021-11-22T16:47:25.269Z"
   },
   {
    "duration": 12,
    "start_time": "2021-11-22T16:47:25.279Z"
   },
   {
    "duration": 15,
    "start_time": "2021-11-22T16:47:25.293Z"
   },
   {
    "duration": 13,
    "start_time": "2021-11-22T16:47:25.310Z"
   },
   {
    "duration": 13,
    "start_time": "2021-11-22T16:47:25.325Z"
   },
   {
    "duration": 33,
    "start_time": "2021-11-22T16:47:25.340Z"
   },
   {
    "duration": 7,
    "start_time": "2021-11-22T16:47:25.374Z"
   },
   {
    "duration": 7,
    "start_time": "2021-11-22T16:47:25.382Z"
   },
   {
    "duration": 12,
    "start_time": "2021-11-22T16:47:25.390Z"
   },
   {
    "duration": 1272,
    "start_time": "2021-11-22T16:47:25.404Z"
   },
   {
    "duration": 4,
    "start_time": "2021-11-22T16:51:10.168Z"
   },
   {
    "duration": 7,
    "start_time": "2021-11-22T16:51:11.913Z"
   },
   {
    "duration": 7,
    "start_time": "2021-11-22T16:51:12.506Z"
   },
   {
    "duration": 20,
    "start_time": "2021-11-22T16:51:18.880Z"
   },
   {
    "duration": 5,
    "start_time": "2021-11-22T16:57:01.782Z"
   },
   {
    "duration": 21,
    "start_time": "2021-11-22T16:57:18.452Z"
   },
   {
    "duration": 4,
    "start_time": "2021-11-22T16:57:38.555Z"
   },
   {
    "duration": 22,
    "start_time": "2021-11-22T16:57:42.040Z"
   },
   {
    "duration": 4,
    "start_time": "2021-11-22T16:58:02.315Z"
   },
   {
    "duration": 31,
    "start_time": "2021-11-22T16:58:03.692Z"
   },
   {
    "duration": 4,
    "start_time": "2021-11-22T16:58:35.551Z"
   },
   {
    "duration": 22,
    "start_time": "2021-11-22T16:58:37.912Z"
   },
   {
    "duration": 74,
    "start_time": "2021-11-22T17:04:46.780Z"
   },
   {
    "duration": 43,
    "start_time": "2021-11-22T17:04:46.856Z"
   },
   {
    "duration": 17,
    "start_time": "2021-11-22T17:04:46.901Z"
   },
   {
    "duration": 17,
    "start_time": "2021-11-22T17:04:46.920Z"
   },
   {
    "duration": 16,
    "start_time": "2021-11-22T17:04:46.939Z"
   },
   {
    "duration": 19,
    "start_time": "2021-11-22T17:04:46.956Z"
   },
   {
    "duration": 33,
    "start_time": "2021-11-22T17:04:46.977Z"
   },
   {
    "duration": 15,
    "start_time": "2021-11-22T17:04:47.013Z"
   },
   {
    "duration": 48,
    "start_time": "2021-11-22T17:04:47.030Z"
   },
   {
    "duration": 26,
    "start_time": "2021-11-22T17:04:47.080Z"
   },
   {
    "duration": 37,
    "start_time": "2021-11-22T17:04:47.108Z"
   },
   {
    "duration": 30,
    "start_time": "2021-11-22T17:04:47.147Z"
   },
   {
    "duration": 31,
    "start_time": "2021-11-22T17:04:47.180Z"
   },
   {
    "duration": 22,
    "start_time": "2021-11-22T17:04:47.214Z"
   },
   {
    "duration": 33,
    "start_time": "2021-11-22T17:04:47.238Z"
   },
   {
    "duration": 29,
    "start_time": "2021-11-22T17:04:47.273Z"
   },
   {
    "duration": 5,
    "start_time": "2021-11-22T17:04:49.760Z"
   },
   {
    "duration": 6,
    "start_time": "2021-11-22T17:05:03.431Z"
   },
   {
    "duration": 653,
    "start_time": "2021-11-22T17:05:20.703Z"
   },
   {
    "duration": 42,
    "start_time": "2021-11-22T17:05:21.358Z"
   },
   {
    "duration": 23,
    "start_time": "2021-11-22T17:05:21.402Z"
   },
   {
    "duration": 15,
    "start_time": "2021-11-22T17:05:21.427Z"
   },
   {
    "duration": 13,
    "start_time": "2021-11-22T17:05:21.444Z"
   },
   {
    "duration": 16,
    "start_time": "2021-11-22T17:05:21.458Z"
   },
   {
    "duration": 12,
    "start_time": "2021-11-22T17:05:21.475Z"
   },
   {
    "duration": 14,
    "start_time": "2021-11-22T17:05:21.489Z"
   },
   {
    "duration": 65,
    "start_time": "2021-11-22T17:05:21.506Z"
   },
   {
    "duration": 6,
    "start_time": "2021-11-22T17:05:21.573Z"
   },
   {
    "duration": 12,
    "start_time": "2021-11-22T17:05:21.581Z"
   },
   {
    "duration": 10,
    "start_time": "2021-11-22T17:05:21.595Z"
   },
   {
    "duration": 17,
    "start_time": "2021-11-22T17:05:21.607Z"
   },
   {
    "duration": 6,
    "start_time": "2021-11-22T17:05:21.626Z"
   },
   {
    "duration": 10,
    "start_time": "2021-11-22T17:05:21.664Z"
   },
   {
    "duration": 5,
    "start_time": "2021-11-22T17:05:21.675Z"
   },
   {
    "duration": 4,
    "start_time": "2021-11-22T17:05:25.996Z"
   },
   {
    "duration": 13,
    "start_time": "2021-11-22T17:05:27.459Z"
   },
   {
    "duration": 655,
    "start_time": "2021-11-22T17:08:25.679Z"
   },
   {
    "duration": 41,
    "start_time": "2021-11-22T17:08:26.336Z"
   },
   {
    "duration": 46,
    "start_time": "2021-11-22T17:08:26.380Z"
   },
   {
    "duration": 19,
    "start_time": "2021-11-22T17:08:26.428Z"
   },
   {
    "duration": 12,
    "start_time": "2021-11-22T17:08:26.449Z"
   },
   {
    "duration": 30,
    "start_time": "2021-11-22T17:08:26.463Z"
   },
   {
    "duration": 19,
    "start_time": "2021-11-22T17:08:26.495Z"
   },
   {
    "duration": 29,
    "start_time": "2021-11-22T17:08:26.516Z"
   },
   {
    "duration": 40,
    "start_time": "2021-11-22T17:08:26.548Z"
   },
   {
    "duration": 6,
    "start_time": "2021-11-22T17:08:26.590Z"
   },
   {
    "duration": 39,
    "start_time": "2021-11-22T17:08:26.597Z"
   },
   {
    "duration": 19,
    "start_time": "2021-11-22T17:08:26.638Z"
   },
   {
    "duration": 35,
    "start_time": "2021-11-22T17:08:26.659Z"
   },
   {
    "duration": 21,
    "start_time": "2021-11-22T17:08:26.696Z"
   },
   {
    "duration": 20,
    "start_time": "2021-11-22T17:08:26.719Z"
   },
   {
    "duration": 35,
    "start_time": "2021-11-22T17:08:26.740Z"
   },
   {
    "duration": 28,
    "start_time": "2021-11-22T17:08:26.777Z"
   },
   {
    "duration": 29,
    "start_time": "2021-11-22T17:08:26.806Z"
   },
   {
    "duration": 38,
    "start_time": "2021-11-22T17:08:26.837Z"
   },
   {
    "duration": 19,
    "start_time": "2021-11-22T17:08:26.876Z"
   },
   {
    "duration": 62,
    "start_time": "2021-11-22T17:08:26.897Z"
   },
   {
    "duration": 8,
    "start_time": "2021-11-22T17:08:26.961Z"
   },
   {
    "duration": 43,
    "start_time": "2021-11-22T17:08:26.971Z"
   },
   {
    "duration": 40,
    "start_time": "2021-11-22T17:08:27.016Z"
   },
   {
    "duration": 33,
    "start_time": "2021-11-22T17:08:27.059Z"
   },
   {
    "duration": 31,
    "start_time": "2021-11-22T17:08:27.094Z"
   },
   {
    "duration": 25,
    "start_time": "2021-11-22T17:08:27.128Z"
   },
   {
    "duration": 26,
    "start_time": "2021-11-22T17:08:27.155Z"
   },
   {
    "duration": 41,
    "start_time": "2021-11-22T17:08:27.183Z"
   },
   {
    "duration": 29,
    "start_time": "2021-11-22T17:08:27.226Z"
   },
   {
    "duration": 24,
    "start_time": "2021-11-22T17:08:27.257Z"
   },
   {
    "duration": 35,
    "start_time": "2021-11-22T17:08:27.283Z"
   },
   {
    "duration": 27,
    "start_time": "2021-11-22T17:08:27.320Z"
   },
   {
    "duration": 32,
    "start_time": "2021-11-22T17:08:27.349Z"
   },
   {
    "duration": 27,
    "start_time": "2021-11-22T17:08:27.383Z"
   },
   {
    "duration": 42,
    "start_time": "2021-11-22T17:08:27.412Z"
   },
   {
    "duration": 35,
    "start_time": "2021-11-22T17:08:27.456Z"
   },
   {
    "duration": 23,
    "start_time": "2021-11-22T17:08:52.517Z"
   },
   {
    "duration": 5,
    "start_time": "2021-11-22T17:12:06.623Z"
   },
   {
    "duration": 36,
    "start_time": "2021-11-22T17:18:18.988Z"
   },
   {
    "duration": 10,
    "start_time": "2021-11-22T17:19:40.720Z"
   },
   {
    "duration": 9,
    "start_time": "2021-11-22T17:20:25.429Z"
   },
   {
    "duration": 13,
    "start_time": "2021-11-22T17:22:47.348Z"
   },
   {
    "duration": 752,
    "start_time": "2021-11-23T10:31:44.318Z"
   },
   {
    "duration": 40,
    "start_time": "2021-11-23T10:31:45.072Z"
   },
   {
    "duration": 22,
    "start_time": "2021-11-23T10:31:45.117Z"
   },
   {
    "duration": 28,
    "start_time": "2021-11-23T10:31:45.141Z"
   },
   {
    "duration": 13,
    "start_time": "2021-11-23T10:31:45.170Z"
   },
   {
    "duration": 11,
    "start_time": "2021-11-23T10:31:45.185Z"
   },
   {
    "duration": 12,
    "start_time": "2021-11-23T10:31:45.199Z"
   },
   {
    "duration": 33,
    "start_time": "2021-11-23T10:31:45.213Z"
   },
   {
    "duration": 26,
    "start_time": "2021-11-23T10:31:45.248Z"
   },
   {
    "duration": 6,
    "start_time": "2021-11-23T10:31:45.276Z"
   },
   {
    "duration": 11,
    "start_time": "2021-11-23T10:31:45.284Z"
   },
   {
    "duration": 5,
    "start_time": "2021-11-23T10:31:45.297Z"
   },
   {
    "duration": 42,
    "start_time": "2021-11-23T10:31:45.304Z"
   },
   {
    "duration": 9,
    "start_time": "2021-11-23T10:31:45.351Z"
   },
   {
    "duration": 8,
    "start_time": "2021-11-23T10:31:45.363Z"
   },
   {
    "duration": 8,
    "start_time": "2021-11-23T10:31:45.373Z"
   },
   {
    "duration": 8,
    "start_time": "2021-11-23T10:31:45.383Z"
   },
   {
    "duration": 8,
    "start_time": "2021-11-23T10:31:45.393Z"
   },
   {
    "duration": 6,
    "start_time": "2021-11-23T10:31:45.403Z"
   },
   {
    "duration": 57,
    "start_time": "2021-11-23T10:31:45.410Z"
   },
   {
    "duration": 49,
    "start_time": "2021-11-23T10:31:45.469Z"
   },
   {
    "duration": 38,
    "start_time": "2021-11-23T10:31:45.520Z"
   },
   {
    "duration": 15,
    "start_time": "2021-11-23T10:31:45.560Z"
   },
   {
    "duration": 27,
    "start_time": "2021-11-23T10:31:45.578Z"
   },
   {
    "duration": 6,
    "start_time": "2021-11-23T10:31:45.609Z"
   },
   {
    "duration": 5,
    "start_time": "2021-11-23T10:31:45.645Z"
   },
   {
    "duration": 11,
    "start_time": "2021-11-23T10:31:45.652Z"
   },
   {
    "duration": 8,
    "start_time": "2021-11-23T10:31:45.665Z"
   },
   {
    "duration": 8,
    "start_time": "2021-11-23T10:31:45.675Z"
   },
   {
    "duration": 9,
    "start_time": "2021-11-23T10:31:45.685Z"
   },
   {
    "duration": 54,
    "start_time": "2021-11-23T10:31:45.695Z"
   },
   {
    "duration": 7,
    "start_time": "2021-11-23T10:31:45.751Z"
   },
   {
    "duration": 4,
    "start_time": "2021-11-23T10:31:45.760Z"
   },
   {
    "duration": 13,
    "start_time": "2021-11-23T10:31:45.766Z"
   },
   {
    "duration": 14,
    "start_time": "2021-11-23T10:31:45.781Z"
   },
   {
    "duration": 54,
    "start_time": "2021-11-23T10:31:45.797Z"
   },
   {
    "duration": 5,
    "start_time": "2021-11-23T10:31:45.854Z"
   },
   {
    "duration": 11,
    "start_time": "2021-11-23T10:31:45.861Z"
   },
   {
    "duration": 15,
    "start_time": "2021-11-23T10:31:45.874Z"
   },
   {
    "duration": 8,
    "start_time": "2021-11-23T10:31:45.891Z"
   },
   {
    "duration": 342,
    "start_time": "2021-11-23T10:35:42.427Z"
   },
   {
    "duration": 3,
    "start_time": "2021-11-23T10:37:53.644Z"
   },
   {
    "duration": 191,
    "start_time": "2021-11-23T12:05:42.577Z"
   },
   {
    "duration": 191,
    "start_time": "2021-11-23T12:10:23.196Z"
   },
   {
    "duration": 220,
    "start_time": "2021-11-23T12:50:20.870Z"
   },
   {
    "duration": 190,
    "start_time": "2021-11-23T13:13:34.232Z"
   },
   {
    "duration": 182,
    "start_time": "2021-11-23T13:18:07.414Z"
   },
   {
    "duration": 293,
    "start_time": "2021-11-23T13:48:24.068Z"
   },
   {
    "duration": 308,
    "start_time": "2021-11-23T13:48:31.769Z"
   },
   {
    "duration": 188,
    "start_time": "2021-11-23T13:48:40.472Z"
   },
   {
    "duration": 21,
    "start_time": "2021-11-23T14:28:29.977Z"
   },
   {
    "duration": 860,
    "start_time": "2021-11-23T18:38:06.633Z"
   },
   {
    "duration": 108,
    "start_time": "2021-11-23T18:38:07.497Z"
   },
   {
    "duration": 36,
    "start_time": "2021-11-23T18:38:07.607Z"
   },
   {
    "duration": 19,
    "start_time": "2021-11-23T18:38:07.646Z"
   },
   {
    "duration": 42,
    "start_time": "2021-11-23T18:38:07.667Z"
   },
   {
    "duration": 18,
    "start_time": "2021-11-23T18:38:07.711Z"
   },
   {
    "duration": 19,
    "start_time": "2021-11-23T18:38:07.732Z"
   },
   {
    "duration": 52,
    "start_time": "2021-11-23T18:38:07.755Z"
   },
   {
    "duration": 37,
    "start_time": "2021-11-23T18:38:07.810Z"
   },
   {
    "duration": 6,
    "start_time": "2021-11-23T18:38:07.850Z"
   },
   {
    "duration": 42,
    "start_time": "2021-11-23T18:38:07.858Z"
   },
   {
    "duration": 8,
    "start_time": "2021-11-23T18:38:07.903Z"
   },
   {
    "duration": 22,
    "start_time": "2021-11-23T18:38:07.913Z"
   },
   {
    "duration": 7,
    "start_time": "2021-11-23T18:38:07.937Z"
   },
   {
    "duration": 12,
    "start_time": "2021-11-23T18:38:07.947Z"
   },
   {
    "duration": 42,
    "start_time": "2021-11-23T18:38:07.961Z"
   },
   {
    "duration": 13,
    "start_time": "2021-11-23T18:38:08.006Z"
   },
   {
    "duration": 11,
    "start_time": "2021-11-23T18:38:08.022Z"
   },
   {
    "duration": 8,
    "start_time": "2021-11-23T18:38:08.036Z"
   },
   {
    "duration": 66,
    "start_time": "2021-11-23T18:38:08.047Z"
   },
   {
    "duration": 49,
    "start_time": "2021-11-23T18:38:08.116Z"
   },
   {
    "duration": 33,
    "start_time": "2021-11-23T18:38:08.167Z"
   },
   {
    "duration": 13,
    "start_time": "2021-11-23T18:38:08.203Z"
   },
   {
    "duration": 28,
    "start_time": "2021-11-23T18:38:08.218Z"
   },
   {
    "duration": 9,
    "start_time": "2021-11-23T18:38:08.248Z"
   },
   {
    "duration": 6,
    "start_time": "2021-11-23T18:38:08.261Z"
   },
   {
    "duration": 7,
    "start_time": "2021-11-23T18:38:08.302Z"
   },
   {
    "duration": 11,
    "start_time": "2021-11-23T18:38:08.311Z"
   },
   {
    "duration": 11,
    "start_time": "2021-11-23T18:38:08.325Z"
   },
   {
    "duration": 16,
    "start_time": "2021-11-23T18:38:08.339Z"
   },
   {
    "duration": 26,
    "start_time": "2021-11-23T18:38:08.401Z"
   },
   {
    "duration": 8,
    "start_time": "2021-11-23T18:38:08.430Z"
   },
   {
    "duration": 7,
    "start_time": "2021-11-23T18:38:08.441Z"
   },
   {
    "duration": 12,
    "start_time": "2021-11-23T18:38:08.451Z"
   },
   {
    "duration": 46,
    "start_time": "2021-11-23T18:38:08.466Z"
   },
   {
    "duration": 32,
    "start_time": "2021-11-23T18:38:08.514Z"
   },
   {
    "duration": 8,
    "start_time": "2021-11-23T18:38:08.549Z"
   },
   {
    "duration": 43,
    "start_time": "2021-11-23T18:38:08.559Z"
   },
   {
    "duration": 432,
    "start_time": "2021-11-23T18:38:08.605Z"
   },
   {
    "duration": 343,
    "start_time": "2021-11-23T18:38:09.040Z"
   },
   {
    "duration": 21,
    "start_time": "2021-11-23T18:38:09.386Z"
   },
   {
    "duration": 339,
    "start_time": "2021-11-23T18:38:09.409Z"
   },
   {
    "duration": 32,
    "start_time": "2021-11-23T18:38:09.750Z"
   },
   {
    "duration": 91,
    "start_time": "2021-11-23T18:43:47.842Z"
   },
   {
    "duration": 93,
    "start_time": "2021-11-23T18:43:47.935Z"
   },
   {
    "duration": 28,
    "start_time": "2021-11-23T18:43:48.031Z"
   },
   {
    "duration": 20,
    "start_time": "2021-11-23T18:43:48.063Z"
   },
   {
    "duration": 28,
    "start_time": "2021-11-23T18:43:48.085Z"
   },
   {
    "duration": 27,
    "start_time": "2021-11-23T18:43:48.115Z"
   },
   {
    "duration": 16,
    "start_time": "2021-11-23T18:43:48.145Z"
   },
   {
    "duration": 46,
    "start_time": "2021-11-23T18:43:48.165Z"
   },
   {
    "duration": 100,
    "start_time": "2021-11-23T18:43:48.215Z"
   },
   {
    "duration": 8,
    "start_time": "2021-11-23T18:43:48.317Z"
   },
   {
    "duration": 12,
    "start_time": "2021-11-23T18:43:48.327Z"
   },
   {
    "duration": 8,
    "start_time": "2021-11-23T18:43:48.342Z"
   },
   {
    "duration": 16,
    "start_time": "2021-11-23T18:43:48.352Z"
   },
   {
    "duration": 8,
    "start_time": "2021-11-23T18:43:48.402Z"
   },
   {
    "duration": 14,
    "start_time": "2021-11-23T18:43:48.412Z"
   },
   {
    "duration": 18,
    "start_time": "2021-11-23T18:43:48.428Z"
   },
   {
    "duration": 15,
    "start_time": "2021-11-23T18:43:48.449Z"
   },
   {
    "duration": 38,
    "start_time": "2021-11-23T18:43:48.468Z"
   },
   {
    "duration": 8,
    "start_time": "2021-11-23T18:43:48.508Z"
   },
   {
    "duration": 25,
    "start_time": "2021-11-23T18:43:53.452Z"
   },
   {
    "duration": 45,
    "start_time": "2021-11-23T18:43:58.697Z"
   },
   {
    "duration": 7,
    "start_time": "2021-11-23T18:44:09.259Z"
   },
   {
    "duration": 9,
    "start_time": "2021-11-23T18:44:28.864Z"
   },
   {
    "duration": 10,
    "start_time": "2021-11-23T18:46:00.921Z"
   },
   {
    "duration": 7,
    "start_time": "2021-11-23T18:49:52.518Z"
   },
   {
    "duration": 17,
    "start_time": "2021-11-23T18:50:53.538Z"
   },
   {
    "duration": 9459,
    "start_time": "2021-11-23T18:51:23.125Z"
   },
   {
    "duration": 35,
    "start_time": "2021-11-23T18:52:28.716Z"
   },
   {
    "duration": 50,
    "start_time": "2021-11-23T18:52:50.944Z"
   },
   {
    "duration": 12,
    "start_time": "2021-11-23T18:54:58.491Z"
   },
   {
    "duration": 92,
    "start_time": "2021-11-23T18:55:06.941Z"
   },
   {
    "duration": 53,
    "start_time": "2021-11-23T18:55:07.035Z"
   },
   {
    "duration": 22,
    "start_time": "2021-11-23T18:55:07.092Z"
   },
   {
    "duration": 21,
    "start_time": "2021-11-23T18:55:07.117Z"
   },
   {
    "duration": 17,
    "start_time": "2021-11-23T18:55:07.141Z"
   },
   {
    "duration": 55,
    "start_time": "2021-11-23T18:55:07.160Z"
   },
   {
    "duration": 25,
    "start_time": "2021-11-23T18:55:07.218Z"
   },
   {
    "duration": 64,
    "start_time": "2021-11-23T18:55:07.249Z"
   },
   {
    "duration": 39,
    "start_time": "2021-11-23T18:55:07.317Z"
   },
   {
    "duration": 41,
    "start_time": "2021-11-23T18:55:07.359Z"
   },
   {
    "duration": 11,
    "start_time": "2021-11-23T18:55:07.403Z"
   },
   {
    "duration": 13,
    "start_time": "2021-11-23T18:55:07.417Z"
   },
   {
    "duration": 24,
    "start_time": "2021-11-23T18:55:07.432Z"
   },
   {
    "duration": 8,
    "start_time": "2021-11-23T18:55:07.459Z"
   },
   {
    "duration": 11,
    "start_time": "2021-11-23T18:55:07.501Z"
   },
   {
    "duration": 13,
    "start_time": "2021-11-23T18:55:07.514Z"
   },
   {
    "duration": 12,
    "start_time": "2021-11-23T18:55:07.530Z"
   },
   {
    "duration": 55,
    "start_time": "2021-11-23T18:55:07.544Z"
   },
   {
    "duration": 8,
    "start_time": "2021-11-23T18:55:07.602Z"
   },
   {
    "duration": 13,
    "start_time": "2021-11-23T18:55:18.143Z"
   },
   {
    "duration": 14,
    "start_time": "2021-11-23T18:55:55.749Z"
   },
   {
    "duration": 13,
    "start_time": "2021-11-23T18:56:42.910Z"
   },
   {
    "duration": 23,
    "start_time": "2021-11-23T18:56:45.130Z"
   },
   {
    "duration": 9,
    "start_time": "2021-11-23T18:56:50.001Z"
   },
   {
    "duration": 13,
    "start_time": "2021-11-23T18:56:56.759Z"
   },
   {
    "duration": 26,
    "start_time": "2021-11-23T18:56:57.567Z"
   },
   {
    "duration": 30,
    "start_time": "2021-11-23T18:58:00.614Z"
   },
   {
    "duration": 8,
    "start_time": "2021-11-23T18:58:09.347Z"
   },
   {
    "duration": 51,
    "start_time": "2021-11-23T19:00:17.775Z"
   },
   {
    "duration": 67,
    "start_time": "2021-11-23T19:01:24.379Z"
   },
   {
    "duration": 65,
    "start_time": "2021-11-23T19:02:20.411Z"
   },
   {
    "duration": 8,
    "start_time": "2021-11-23T19:04:07.751Z"
   },
   {
    "duration": 13,
    "start_time": "2021-11-23T19:08:50.705Z"
   },
   {
    "duration": 89,
    "start_time": "2021-11-23T19:08:58.275Z"
   },
   {
    "duration": 45,
    "start_time": "2021-11-23T19:08:58.367Z"
   },
   {
    "duration": 23,
    "start_time": "2021-11-23T19:08:58.415Z"
   },
   {
    "duration": 19,
    "start_time": "2021-11-23T19:08:58.441Z"
   },
   {
    "duration": 51,
    "start_time": "2021-11-23T19:08:58.462Z"
   },
   {
    "duration": 16,
    "start_time": "2021-11-23T19:08:58.515Z"
   },
   {
    "duration": 16,
    "start_time": "2021-11-23T19:08:58.533Z"
   },
   {
    "duration": 63,
    "start_time": "2021-11-23T19:08:58.551Z"
   },
   {
    "duration": 38,
    "start_time": "2021-11-23T19:08:58.618Z"
   },
   {
    "duration": 41,
    "start_time": "2021-11-23T19:08:58.659Z"
   },
   {
    "duration": 21,
    "start_time": "2021-11-23T19:08:58.703Z"
   },
   {
    "duration": 7,
    "start_time": "2021-11-23T19:08:58.727Z"
   },
   {
    "duration": 23,
    "start_time": "2021-11-23T19:08:58.737Z"
   },
   {
    "duration": 8,
    "start_time": "2021-11-23T19:08:58.764Z"
   },
   {
    "duration": 37,
    "start_time": "2021-11-23T19:08:58.774Z"
   },
   {
    "duration": 13,
    "start_time": "2021-11-23T19:08:58.814Z"
   },
   {
    "duration": 13,
    "start_time": "2021-11-23T19:08:58.830Z"
   },
   {
    "duration": 61,
    "start_time": "2021-11-23T19:08:58.846Z"
   },
   {
    "duration": 9,
    "start_time": "2021-11-23T19:08:58.910Z"
   },
   {
    "duration": 16,
    "start_time": "2021-11-23T19:08:58.922Z"
   },
   {
    "duration": 61,
    "start_time": "2021-11-23T19:08:58.941Z"
   },
   {
    "duration": 15,
    "start_time": "2021-11-23T19:11:38.760Z"
   },
   {
    "duration": 165,
    "start_time": "2021-11-23T19:17:29.312Z"
   },
   {
    "duration": 15,
    "start_time": "2021-11-23T19:19:09.287Z"
   },
   {
    "duration": 899,
    "start_time": "2021-11-23T19:20:07.796Z"
   },
   {
    "duration": 40,
    "start_time": "2021-11-23T19:20:08.698Z"
   },
   {
    "duration": 34,
    "start_time": "2021-11-23T19:20:08.741Z"
   },
   {
    "duration": 23,
    "start_time": "2021-11-23T19:20:08.778Z"
   },
   {
    "duration": 17,
    "start_time": "2021-11-23T19:20:08.804Z"
   },
   {
    "duration": 18,
    "start_time": "2021-11-23T19:20:08.823Z"
   },
   {
    "duration": 56,
    "start_time": "2021-11-23T19:20:08.844Z"
   },
   {
    "duration": 23,
    "start_time": "2021-11-23T19:20:08.904Z"
   },
   {
    "duration": 45,
    "start_time": "2021-11-23T19:20:08.930Z"
   },
   {
    "duration": 9,
    "start_time": "2021-11-23T19:20:09.002Z"
   },
   {
    "duration": 17,
    "start_time": "2021-11-23T19:20:09.014Z"
   },
   {
    "duration": 9,
    "start_time": "2021-11-23T19:20:09.034Z"
   },
   {
    "duration": 59,
    "start_time": "2021-11-23T19:20:09.045Z"
   },
   {
    "duration": 8,
    "start_time": "2021-11-23T19:20:09.106Z"
   },
   {
    "duration": 11,
    "start_time": "2021-11-23T19:20:09.116Z"
   },
   {
    "duration": 13,
    "start_time": "2021-11-23T19:20:09.130Z"
   },
   {
    "duration": 61,
    "start_time": "2021-11-23T19:20:09.147Z"
   },
   {
    "duration": 16,
    "start_time": "2021-11-23T19:20:09.211Z"
   },
   {
    "duration": 9,
    "start_time": "2021-11-23T19:20:09.230Z"
   },
   {
    "duration": 63,
    "start_time": "2021-11-23T19:20:09.243Z"
   },
   {
    "duration": 18,
    "start_time": "2021-11-23T19:20:09.309Z"
   },
   {
    "duration": 19,
    "start_time": "2021-11-23T19:20:09.330Z"
   },
   {
    "duration": 62,
    "start_time": "2021-11-23T19:20:09.354Z"
   },
   {
    "duration": 11,
    "start_time": "2021-11-23T19:20:09.420Z"
   },
   {
    "duration": 114,
    "start_time": "2021-11-23T19:20:09.434Z"
   },
   {
    "duration": 51,
    "start_time": "2021-11-23T19:20:09.551Z"
   },
   {
    "duration": 6,
    "start_time": "2021-11-23T19:20:09.605Z"
   },
   {
    "duration": 27,
    "start_time": "2021-11-23T19:20:09.614Z"
   },
   {
    "duration": 19,
    "start_time": "2021-11-23T19:20:09.643Z"
   },
   {
    "duration": 16,
    "start_time": "2021-11-23T19:20:09.665Z"
   },
   {
    "duration": 14,
    "start_time": "2021-11-23T19:20:09.701Z"
   },
   {
    "duration": 33,
    "start_time": "2021-11-23T19:20:09.718Z"
   },
   {
    "duration": 29,
    "start_time": "2021-11-23T19:20:09.753Z"
   },
   {
    "duration": 19,
    "start_time": "2021-11-23T19:20:09.784Z"
   },
   {
    "duration": 13,
    "start_time": "2021-11-23T19:20:09.805Z"
   },
   {
    "duration": 13,
    "start_time": "2021-11-23T19:20:09.821Z"
   },
   {
    "duration": 65,
    "start_time": "2021-11-23T19:20:09.836Z"
   },
   {
    "duration": 6,
    "start_time": "2021-11-23T19:20:09.903Z"
   },
   {
    "duration": 12,
    "start_time": "2021-11-23T19:20:09.912Z"
   },
   {
    "duration": 458,
    "start_time": "2021-11-23T19:20:09.926Z"
   },
   {
    "duration": 334,
    "start_time": "2021-11-23T19:20:10.386Z"
   },
   {
    "duration": 12,
    "start_time": "2021-11-23T19:20:10.723Z"
   },
   {
    "duration": 357,
    "start_time": "2021-11-23T19:20:10.738Z"
   },
   {
    "duration": 32,
    "start_time": "2021-11-23T19:20:11.098Z"
   },
   {
    "duration": 955,
    "start_time": "2021-11-23T19:23:24.316Z"
   },
   {
    "duration": 57,
    "start_time": "2021-11-23T19:23:25.275Z"
   },
   {
    "duration": 44,
    "start_time": "2021-11-23T19:23:25.335Z"
   },
   {
    "duration": 27,
    "start_time": "2021-11-23T19:23:25.382Z"
   },
   {
    "duration": 17,
    "start_time": "2021-11-23T19:23:25.412Z"
   },
   {
    "duration": 18,
    "start_time": "2021-11-23T19:23:25.432Z"
   },
   {
    "duration": 58,
    "start_time": "2021-11-23T19:23:25.452Z"
   },
   {
    "duration": 24,
    "start_time": "2021-11-23T19:23:25.514Z"
   },
   {
    "duration": 81,
    "start_time": "2021-11-23T19:23:25.542Z"
   },
   {
    "duration": 8,
    "start_time": "2021-11-23T19:23:25.625Z"
   },
   {
    "duration": 12,
    "start_time": "2021-11-23T19:23:25.635Z"
   },
   {
    "duration": 10,
    "start_time": "2021-11-23T19:23:25.650Z"
   },
   {
    "duration": 49,
    "start_time": "2021-11-23T19:23:25.663Z"
   },
   {
    "duration": 7,
    "start_time": "2021-11-23T19:23:25.715Z"
   },
   {
    "duration": 12,
    "start_time": "2021-11-23T19:23:25.724Z"
   },
   {
    "duration": 63,
    "start_time": "2021-11-23T19:23:25.739Z"
   },
   {
    "duration": 14,
    "start_time": "2021-11-23T19:23:25.804Z"
   },
   {
    "duration": 13,
    "start_time": "2021-11-23T19:23:25.820Z"
   },
   {
    "duration": 8,
    "start_time": "2021-11-23T19:23:25.836Z"
   },
   {
    "duration": 67,
    "start_time": "2021-11-23T19:23:25.846Z"
   },
   {
    "duration": 19,
    "start_time": "2021-11-23T19:23:25.915Z"
   },
   {
    "duration": 15,
    "start_time": "2021-11-23T19:23:25.936Z"
   },
   {
    "duration": 54,
    "start_time": "2021-11-23T19:23:25.958Z"
   },
   {
    "duration": 8,
    "start_time": "2021-11-23T19:23:26.015Z"
   },
   {
    "duration": 101,
    "start_time": "2021-11-23T19:23:26.026Z"
   },
   {
    "duration": 13,
    "start_time": "2021-11-23T19:23:26.130Z"
   },
   {
    "duration": 5,
    "start_time": "2021-11-23T19:23:26.146Z"
   },
   {
    "duration": 48,
    "start_time": "2021-11-23T19:23:26.154Z"
   },
   {
    "duration": 19,
    "start_time": "2021-11-23T19:23:26.205Z"
   },
   {
    "duration": 20,
    "start_time": "2021-11-23T19:23:26.227Z"
   },
   {
    "duration": 57,
    "start_time": "2021-11-23T19:23:26.250Z"
   },
   {
    "duration": 34,
    "start_time": "2021-11-23T19:23:26.310Z"
   },
   {
    "duration": 10,
    "start_time": "2021-11-23T19:23:26.348Z"
   },
   {
    "duration": 40,
    "start_time": "2021-11-23T19:23:26.360Z"
   },
   {
    "duration": 8,
    "start_time": "2021-11-23T19:23:26.404Z"
   },
   {
    "duration": 21,
    "start_time": "2021-11-23T19:23:26.416Z"
   },
   {
    "duration": 75,
    "start_time": "2021-11-23T19:23:26.440Z"
   },
   {
    "duration": 8,
    "start_time": "2021-11-23T19:23:26.518Z"
   },
   {
    "duration": 16,
    "start_time": "2021-11-23T19:23:26.529Z"
   },
   {
    "duration": 456,
    "start_time": "2021-11-23T19:23:26.547Z"
   },
   {
    "duration": 327,
    "start_time": "2021-11-23T19:23:27.006Z"
   },
   {
    "duration": 13,
    "start_time": "2021-11-23T19:23:27.335Z"
   },
   {
    "duration": 345,
    "start_time": "2021-11-23T19:23:27.350Z"
   },
   {
    "duration": 30,
    "start_time": "2021-11-23T19:23:27.697Z"
   },
   {
    "duration": 36,
    "start_time": "2021-11-23T19:35:46.154Z"
   },
   {
    "duration": 642,
    "start_time": "2021-11-24T07:56:55.895Z"
   },
   {
    "duration": 38,
    "start_time": "2021-11-24T07:56:56.539Z"
   },
   {
    "duration": 22,
    "start_time": "2021-11-24T07:56:56.579Z"
   },
   {
    "duration": 14,
    "start_time": "2021-11-24T07:56:56.602Z"
   },
   {
    "duration": 12,
    "start_time": "2021-11-24T07:56:56.618Z"
   },
   {
    "duration": 32,
    "start_time": "2021-11-24T07:56:56.631Z"
   },
   {
    "duration": 12,
    "start_time": "2021-11-24T07:56:56.665Z"
   },
   {
    "duration": 14,
    "start_time": "2021-11-24T07:56:56.679Z"
   },
   {
    "duration": 24,
    "start_time": "2021-11-24T07:56:56.696Z"
   },
   {
    "duration": 6,
    "start_time": "2021-11-24T07:56:56.722Z"
   },
   {
    "duration": 39,
    "start_time": "2021-11-24T07:56:56.730Z"
   },
   {
    "duration": 6,
    "start_time": "2021-11-24T07:56:56.770Z"
   },
   {
    "duration": 16,
    "start_time": "2021-11-24T07:56:56.777Z"
   },
   {
    "duration": 6,
    "start_time": "2021-11-24T07:56:56.794Z"
   },
   {
    "duration": 16,
    "start_time": "2021-11-24T07:56:56.801Z"
   },
   {
    "duration": 7,
    "start_time": "2021-11-24T07:56:56.819Z"
   },
   {
    "duration": 9,
    "start_time": "2021-11-24T07:56:56.828Z"
   },
   {
    "duration": 28,
    "start_time": "2021-11-24T07:56:56.839Z"
   },
   {
    "duration": 12,
    "start_time": "2021-11-24T07:56:56.869Z"
   },
   {
    "duration": 11,
    "start_time": "2021-11-24T07:56:56.883Z"
   },
   {
    "duration": 10,
    "start_time": "2021-11-24T07:56:56.897Z"
   },
   {
    "duration": 20,
    "start_time": "2021-11-24T07:56:56.908Z"
   },
   {
    "duration": 35,
    "start_time": "2021-11-24T07:56:56.933Z"
   },
   {
    "duration": 6,
    "start_time": "2021-11-24T07:56:56.971Z"
   },
   {
    "duration": 67,
    "start_time": "2021-11-24T07:56:56.979Z"
   },
   {
    "duration": 14,
    "start_time": "2021-11-24T07:56:57.048Z"
   },
   {
    "duration": 17,
    "start_time": "2021-11-24T07:56:57.064Z"
   },
   {
    "duration": 17,
    "start_time": "2021-11-24T07:56:57.083Z"
   },
   {
    "duration": 40,
    "start_time": "2021-11-24T07:56:57.102Z"
   },
   {
    "duration": 30,
    "start_time": "2021-11-24T07:56:57.144Z"
   },
   {
    "duration": 37,
    "start_time": "2021-11-24T07:56:57.176Z"
   },
   {
    "duration": 17,
    "start_time": "2021-11-24T07:56:57.214Z"
   },
   {
    "duration": 31,
    "start_time": "2021-11-24T07:56:57.233Z"
   },
   {
    "duration": 19,
    "start_time": "2021-11-24T07:56:57.265Z"
   },
   {
    "duration": 30,
    "start_time": "2021-11-24T07:56:57.286Z"
   },
   {
    "duration": 35,
    "start_time": "2021-11-24T07:56:57.318Z"
   },
   {
    "duration": 24,
    "start_time": "2021-11-24T07:56:57.355Z"
   },
   {
    "duration": 34,
    "start_time": "2021-11-24T07:56:57.380Z"
   },
   {
    "duration": 21,
    "start_time": "2021-11-24T07:56:57.415Z"
   },
   {
    "duration": 21,
    "start_time": "2021-11-24T07:56:57.438Z"
   },
   {
    "duration": 280,
    "start_time": "2021-11-24T07:56:57.460Z"
   },
   {
    "duration": 204,
    "start_time": "2021-11-24T07:56:57.742Z"
   },
   {
    "duration": 18,
    "start_time": "2021-11-24T07:56:57.948Z"
   },
   {
    "duration": 210,
    "start_time": "2021-11-24T07:56:57.967Z"
   },
   {
    "duration": 20,
    "start_time": "2021-11-24T07:56:58.178Z"
   },
   {
    "duration": 1010,
    "start_time": "2021-11-24T16:25:51.255Z"
   },
   {
    "duration": 68,
    "start_time": "2021-11-24T16:25:52.268Z"
   },
   {
    "duration": 37,
    "start_time": "2021-11-24T16:25:52.340Z"
   },
   {
    "duration": 19,
    "start_time": "2021-11-24T16:25:52.381Z"
   },
   {
    "duration": 21,
    "start_time": "2021-11-24T16:25:52.403Z"
   },
   {
    "duration": 19,
    "start_time": "2021-11-24T16:25:52.427Z"
   },
   {
    "duration": 46,
    "start_time": "2021-11-24T16:25:52.449Z"
   },
   {
    "duration": 30,
    "start_time": "2021-11-24T16:25:52.499Z"
   },
   {
    "duration": 66,
    "start_time": "2021-11-24T16:25:52.532Z"
   },
   {
    "duration": 7,
    "start_time": "2021-11-24T16:25:52.600Z"
   },
   {
    "duration": 14,
    "start_time": "2021-11-24T16:25:52.610Z"
   },
   {
    "duration": 7,
    "start_time": "2021-11-24T16:25:52.627Z"
   },
   {
    "duration": 61,
    "start_time": "2021-11-24T16:25:52.636Z"
   },
   {
    "duration": 7,
    "start_time": "2021-11-24T16:25:52.699Z"
   },
   {
    "duration": 10,
    "start_time": "2021-11-24T16:25:52.709Z"
   },
   {
    "duration": 11,
    "start_time": "2021-11-24T16:25:52.722Z"
   },
   {
    "duration": 52,
    "start_time": "2021-11-24T16:25:52.735Z"
   },
   {
    "duration": 11,
    "start_time": "2021-11-24T16:25:52.789Z"
   },
   {
    "duration": 8,
    "start_time": "2021-11-24T16:25:52.803Z"
   },
   {
    "duration": 13,
    "start_time": "2021-11-24T16:25:52.813Z"
   },
   {
    "duration": 58,
    "start_time": "2021-11-24T16:25:52.828Z"
   },
   {
    "duration": 19,
    "start_time": "2021-11-24T16:25:52.889Z"
   },
   {
    "duration": 17,
    "start_time": "2021-11-24T16:25:52.915Z"
   },
   {
    "duration": 47,
    "start_time": "2021-11-24T16:25:52.935Z"
   },
   {
    "duration": 108,
    "start_time": "2021-11-24T16:25:52.985Z"
   },
   {
    "duration": 22,
    "start_time": "2021-11-24T16:25:53.096Z"
   },
   {
    "duration": 8,
    "start_time": "2021-11-24T16:25:53.121Z"
   },
   {
    "duration": 8,
    "start_time": "2021-11-24T16:25:53.132Z"
   },
   {
    "duration": 30,
    "start_time": "2021-11-24T16:25:53.182Z"
   },
   {
    "duration": 16,
    "start_time": "2021-11-24T16:25:53.215Z"
   },
   {
    "duration": 9,
    "start_time": "2021-11-24T16:25:53.233Z"
   },
   {
    "duration": 47,
    "start_time": "2021-11-24T16:25:53.245Z"
   },
   {
    "duration": 24,
    "start_time": "2021-11-24T16:25:53.295Z"
   },
   {
    "duration": 10,
    "start_time": "2021-11-24T16:25:53.322Z"
   },
   {
    "duration": 4,
    "start_time": "2021-11-24T16:25:53.335Z"
   },
   {
    "duration": 46,
    "start_time": "2021-11-24T16:25:53.341Z"
   },
   {
    "duration": 9,
    "start_time": "2021-11-24T16:25:53.390Z"
   },
   {
    "duration": 33,
    "start_time": "2021-11-24T16:25:53.402Z"
   },
   {
    "duration": 7,
    "start_time": "2021-11-24T16:25:53.437Z"
   },
   {
    "duration": 520,
    "start_time": "2021-11-24T16:25:53.483Z"
   },
   {
    "duration": 332,
    "start_time": "2021-11-24T16:25:54.006Z"
   },
   {
    "duration": 13,
    "start_time": "2021-11-24T16:25:54.341Z"
   },
   {
    "duration": 324,
    "start_time": "2021-11-24T16:25:54.356Z"
   },
   {
    "duration": 31,
    "start_time": "2021-11-24T16:25:54.682Z"
   },
   {
    "duration": 400,
    "start_time": "2021-11-24T16:25:54.715Z"
   },
   {
    "duration": 47,
    "start_time": "2021-11-24T16:28:52.184Z"
   },
   {
    "duration": 23,
    "start_time": "2021-11-24T16:32:08.598Z"
   },
   {
    "duration": 33,
    "start_time": "2021-11-24T16:32:21.755Z"
   },
   {
    "duration": 323,
    "start_time": "2021-11-24T16:32:58.955Z"
   },
   {
    "duration": 664,
    "start_time": "2021-11-24T16:56:47.203Z"
   },
   {
    "duration": 1334,
    "start_time": "2021-11-24T16:57:50.629Z"
   },
   {
    "duration": 613,
    "start_time": "2021-11-27T09:04:21.820Z"
   },
   {
    "duration": 59,
    "start_time": "2021-11-27T09:04:22.435Z"
   },
   {
    "duration": 21,
    "start_time": "2021-11-27T09:04:22.496Z"
   },
   {
    "duration": 13,
    "start_time": "2021-11-27T09:04:22.519Z"
   },
   {
    "duration": 25,
    "start_time": "2021-11-27T09:04:22.533Z"
   },
   {
    "duration": 21,
    "start_time": "2021-11-27T09:04:22.561Z"
   },
   {
    "duration": 21,
    "start_time": "2021-11-27T09:04:22.584Z"
   },
   {
    "duration": 23,
    "start_time": "2021-11-27T09:04:22.609Z"
   },
   {
    "duration": 37,
    "start_time": "2021-11-27T09:04:22.634Z"
   },
   {
    "duration": 14,
    "start_time": "2021-11-27T09:04:22.673Z"
   },
   {
    "duration": 26,
    "start_time": "2021-11-27T09:04:22.688Z"
   },
   {
    "duration": 30,
    "start_time": "2021-11-27T09:04:22.716Z"
   },
   {
    "duration": 29,
    "start_time": "2021-11-27T09:04:22.748Z"
   },
   {
    "duration": 21,
    "start_time": "2021-11-27T09:04:22.779Z"
   },
   {
    "duration": 19,
    "start_time": "2021-11-27T09:04:22.802Z"
   },
   {
    "duration": 31,
    "start_time": "2021-11-27T09:04:22.823Z"
   },
   {
    "duration": 12,
    "start_time": "2021-11-27T09:04:22.855Z"
   },
   {
    "duration": 19,
    "start_time": "2021-11-27T09:04:22.868Z"
   },
   {
    "duration": 16,
    "start_time": "2021-11-27T09:04:22.889Z"
   },
   {
    "duration": 20,
    "start_time": "2021-11-27T09:04:22.906Z"
   },
   {
    "duration": 32,
    "start_time": "2021-11-27T09:04:22.928Z"
   },
   {
    "duration": 13,
    "start_time": "2021-11-27T09:04:22.962Z"
   },
   {
    "duration": 9,
    "start_time": "2021-11-27T09:04:22.979Z"
   },
   {
    "duration": 5,
    "start_time": "2021-11-27T09:04:22.990Z"
   },
   {
    "duration": 40,
    "start_time": "2021-11-27T09:04:22.996Z"
   },
   {
    "duration": 9,
    "start_time": "2021-11-27T09:04:23.038Z"
   },
   {
    "duration": 5,
    "start_time": "2021-11-27T09:04:23.049Z"
   },
   {
    "duration": 36,
    "start_time": "2021-11-27T09:04:23.055Z"
   },
   {
    "duration": 21,
    "start_time": "2021-11-27T09:04:23.093Z"
   },
   {
    "duration": 9,
    "start_time": "2021-11-27T09:04:23.116Z"
   },
   {
    "duration": 10,
    "start_time": "2021-11-27T09:04:23.126Z"
   },
   {
    "duration": 9,
    "start_time": "2021-11-27T09:04:23.138Z"
   },
   {
    "duration": 42,
    "start_time": "2021-11-27T09:04:23.149Z"
   },
   {
    "duration": 4,
    "start_time": "2021-11-27T09:04:23.193Z"
   },
   {
    "duration": 5,
    "start_time": "2021-11-27T09:04:23.199Z"
   },
   {
    "duration": 9,
    "start_time": "2021-11-27T09:04:23.205Z"
   },
   {
    "duration": 9,
    "start_time": "2021-11-27T09:04:23.216Z"
   },
   {
    "duration": 24,
    "start_time": "2021-11-27T09:04:23.227Z"
   },
   {
    "duration": 5,
    "start_time": "2021-11-27T09:04:23.253Z"
   },
   {
    "duration": 289,
    "start_time": "2021-11-27T09:04:23.260Z"
   },
   {
    "duration": 218,
    "start_time": "2021-11-27T09:04:23.551Z"
   },
   {
    "duration": 9,
    "start_time": "2021-11-27T09:04:23.770Z"
   },
   {
    "duration": 210,
    "start_time": "2021-11-27T09:04:23.781Z"
   },
   {
    "duration": 21,
    "start_time": "2021-11-27T09:04:23.993Z"
   },
   {
    "duration": 15,
    "start_time": "2021-11-27T09:04:24.015Z"
   },
   {
    "duration": 947,
    "start_time": "2021-11-27T09:04:24.032Z"
   },
   {
    "duration": 22,
    "start_time": "2021-11-27T09:05:50.101Z"
   },
   {
    "duration": 15,
    "start_time": "2021-11-27T09:08:10.452Z"
   },
   {
    "duration": 32,
    "start_time": "2021-11-27T09:37:13.025Z"
   },
   {
    "duration": 65,
    "start_time": "2021-11-27T09:41:01.955Z"
   },
   {
    "duration": 50,
    "start_time": "2021-11-27T09:41:02.022Z"
   },
   {
    "duration": 13,
    "start_time": "2021-11-27T09:41:02.074Z"
   },
   {
    "duration": 17,
    "start_time": "2021-11-27T09:41:02.089Z"
   },
   {
    "duration": 11,
    "start_time": "2021-11-27T09:41:02.108Z"
   },
   {
    "duration": 18,
    "start_time": "2021-11-27T09:41:02.120Z"
   },
   {
    "duration": 11,
    "start_time": "2021-11-27T09:41:02.140Z"
   },
   {
    "duration": 38,
    "start_time": "2021-11-27T09:41:02.153Z"
   },
   {
    "duration": 25,
    "start_time": "2021-11-27T09:41:02.194Z"
   },
   {
    "duration": 6,
    "start_time": "2021-11-27T09:41:02.220Z"
   },
   {
    "duration": 13,
    "start_time": "2021-11-27T09:41:02.227Z"
   },
   {
    "duration": 12,
    "start_time": "2021-11-27T09:41:02.241Z"
   },
   {
    "duration": 14,
    "start_time": "2021-11-27T09:41:02.255Z"
   },
   {
    "duration": 24,
    "start_time": "2021-11-27T09:41:02.271Z"
   },
   {
    "duration": 10,
    "start_time": "2021-11-27T09:41:02.297Z"
   },
   {
    "duration": 16,
    "start_time": "2021-11-27T09:41:02.308Z"
   },
   {
    "duration": 15,
    "start_time": "2021-11-27T09:41:02.325Z"
   },
   {
    "duration": 12,
    "start_time": "2021-11-27T09:41:02.342Z"
   },
   {
    "duration": 8,
    "start_time": "2021-11-27T09:41:02.356Z"
   },
   {
    "duration": 6,
    "start_time": "2021-11-27T09:41:02.366Z"
   },
   {
    "duration": 8,
    "start_time": "2021-11-27T09:41:02.392Z"
   },
   {
    "duration": 14,
    "start_time": "2021-11-27T09:41:02.402Z"
   },
   {
    "duration": 10,
    "start_time": "2021-11-27T09:41:02.420Z"
   },
   {
    "duration": 9,
    "start_time": "2021-11-27T09:41:02.432Z"
   },
   {
    "duration": 5,
    "start_time": "2021-11-27T09:41:02.443Z"
   },
   {
    "duration": 68,
    "start_time": "2021-11-27T09:41:02.450Z"
   },
   {
    "duration": 10,
    "start_time": "2021-11-27T09:41:02.520Z"
   },
   {
    "duration": 5,
    "start_time": "2021-11-27T09:41:02.532Z"
   },
   {
    "duration": 17,
    "start_time": "2021-11-27T09:41:02.538Z"
   },
   {
    "duration": 36,
    "start_time": "2021-11-27T09:41:02.557Z"
   },
   {
    "duration": 10,
    "start_time": "2021-11-27T09:41:02.594Z"
   },
   {
    "duration": 9,
    "start_time": "2021-11-27T09:41:02.606Z"
   },
   {
    "duration": 9,
    "start_time": "2021-11-27T09:41:02.616Z"
   },
   {
    "duration": 15,
    "start_time": "2021-11-27T09:41:02.627Z"
   },
   {
    "duration": 8,
    "start_time": "2021-11-27T09:41:02.644Z"
   },
   {
    "duration": 4,
    "start_time": "2021-11-27T09:41:02.654Z"
   },
   {
    "duration": 32,
    "start_time": "2021-11-27T09:41:02.660Z"
   },
   {
    "duration": 11,
    "start_time": "2021-11-27T09:41:02.693Z"
   },
   {
    "duration": 23,
    "start_time": "2021-11-27T09:41:02.705Z"
   },
   {
    "duration": 7,
    "start_time": "2021-11-27T09:41:02.730Z"
   },
   {
    "duration": 208,
    "start_time": "2021-11-27T09:41:02.738Z"
   },
   {
    "duration": 214,
    "start_time": "2021-11-27T09:41:02.947Z"
   },
   {
    "duration": 9,
    "start_time": "2021-11-27T09:41:03.163Z"
   },
   {
    "duration": 205,
    "start_time": "2021-11-27T09:41:03.173Z"
   },
   {
    "duration": 26,
    "start_time": "2021-11-27T09:41:03.380Z"
   },
   {
    "duration": 903,
    "start_time": "2021-11-27T09:41:03.408Z"
   },
   {
    "duration": 16,
    "start_time": "2021-11-27T09:41:04.313Z"
   },
   {
    "duration": 36,
    "start_time": "2021-11-27T09:41:04.331Z"
   },
   {
    "duration": 67,
    "start_time": "2021-11-27T09:41:49.697Z"
   },
   {
    "duration": 49,
    "start_time": "2021-11-27T09:41:49.766Z"
   },
   {
    "duration": 14,
    "start_time": "2021-11-27T09:41:49.816Z"
   },
   {
    "duration": 13,
    "start_time": "2021-11-27T09:41:49.832Z"
   },
   {
    "duration": 11,
    "start_time": "2021-11-27T09:41:49.847Z"
   },
   {
    "duration": 10,
    "start_time": "2021-11-27T09:41:49.859Z"
   },
   {
    "duration": 26,
    "start_time": "2021-11-27T09:41:49.870Z"
   },
   {
    "duration": 13,
    "start_time": "2021-11-27T09:41:49.898Z"
   },
   {
    "duration": 24,
    "start_time": "2021-11-27T09:41:49.913Z"
   },
   {
    "duration": 4,
    "start_time": "2021-11-27T09:41:49.939Z"
   },
   {
    "duration": 10,
    "start_time": "2021-11-27T09:41:49.944Z"
   },
   {
    "duration": 5,
    "start_time": "2021-11-27T09:41:49.955Z"
   },
   {
    "duration": 37,
    "start_time": "2021-11-27T09:41:49.962Z"
   },
   {
    "duration": 5,
    "start_time": "2021-11-27T09:41:50.001Z"
   },
   {
    "duration": 7,
    "start_time": "2021-11-27T09:41:50.007Z"
   },
   {
    "duration": 3,
    "start_time": "2021-11-27T09:41:50.016Z"
   },
   {
    "duration": 11,
    "start_time": "2021-11-27T09:41:50.021Z"
   },
   {
    "duration": 8,
    "start_time": "2021-11-27T09:41:50.034Z"
   },
   {
    "duration": 12,
    "start_time": "2021-11-27T09:41:50.044Z"
   },
   {
    "duration": 6,
    "start_time": "2021-11-27T09:41:50.092Z"
   },
   {
    "duration": 11,
    "start_time": "2021-11-27T09:41:50.100Z"
   },
   {
    "duration": 16,
    "start_time": "2021-11-27T09:41:50.113Z"
   },
   {
    "duration": 11,
    "start_time": "2021-11-27T09:41:50.133Z"
   },
   {
    "duration": 9,
    "start_time": "2021-11-27T09:41:50.146Z"
   },
   {
    "duration": 35,
    "start_time": "2021-11-27T09:41:50.157Z"
   },
   {
    "duration": 36,
    "start_time": "2021-11-27T09:41:50.194Z"
   },
   {
    "duration": 11,
    "start_time": "2021-11-27T09:41:50.232Z"
   },
   {
    "duration": 4,
    "start_time": "2021-11-27T09:41:50.245Z"
   },
   {
    "duration": 5,
    "start_time": "2021-11-27T09:41:50.250Z"
   },
   {
    "duration": 47,
    "start_time": "2021-11-27T09:41:50.257Z"
   },
   {
    "duration": 7,
    "start_time": "2021-11-27T09:41:50.306Z"
   },
   {
    "duration": 11,
    "start_time": "2021-11-27T09:41:50.314Z"
   },
   {
    "duration": 8,
    "start_time": "2021-11-27T09:41:50.327Z"
   },
   {
    "duration": 15,
    "start_time": "2021-11-27T09:41:50.337Z"
   },
   {
    "duration": 5,
    "start_time": "2021-11-27T09:41:50.354Z"
   },
   {
    "duration": 31,
    "start_time": "2021-11-27T09:41:50.360Z"
   },
   {
    "duration": 6,
    "start_time": "2021-11-27T09:41:50.393Z"
   },
   {
    "duration": 9,
    "start_time": "2021-11-27T09:41:50.400Z"
   },
   {
    "duration": 21,
    "start_time": "2021-11-27T09:41:50.410Z"
   },
   {
    "duration": 4,
    "start_time": "2021-11-27T09:41:50.432Z"
   },
   {
    "duration": 212,
    "start_time": "2021-11-27T09:41:50.438Z"
   },
   {
    "duration": 207,
    "start_time": "2021-11-27T09:41:50.652Z"
   },
   {
    "duration": 9,
    "start_time": "2021-11-27T09:41:50.861Z"
   },
   {
    "duration": 200,
    "start_time": "2021-11-27T09:41:50.871Z"
   },
   {
    "duration": 29,
    "start_time": "2021-11-27T09:41:51.073Z"
   },
   {
    "duration": 838,
    "start_time": "2021-11-27T09:41:51.104Z"
   },
   {
    "duration": 15,
    "start_time": "2021-11-27T09:41:51.944Z"
   },
   {
    "duration": 45,
    "start_time": "2021-11-27T09:41:51.960Z"
   },
   {
    "duration": 66,
    "start_time": "2021-11-27T09:47:17.471Z"
   },
   {
    "duration": 50,
    "start_time": "2021-11-27T09:47:17.538Z"
   },
   {
    "duration": 14,
    "start_time": "2021-11-27T09:47:17.590Z"
   },
   {
    "duration": 14,
    "start_time": "2021-11-27T09:47:17.605Z"
   },
   {
    "duration": 11,
    "start_time": "2021-11-27T09:47:17.621Z"
   },
   {
    "duration": 11,
    "start_time": "2021-11-27T09:47:17.634Z"
   },
   {
    "duration": 44,
    "start_time": "2021-11-27T09:47:17.647Z"
   },
   {
    "duration": 14,
    "start_time": "2021-11-27T09:47:17.693Z"
   },
   {
    "duration": 25,
    "start_time": "2021-11-27T09:47:17.709Z"
   },
   {
    "duration": 5,
    "start_time": "2021-11-27T09:47:17.737Z"
   },
   {
    "duration": 8,
    "start_time": "2021-11-27T09:47:17.744Z"
   },
   {
    "duration": 5,
    "start_time": "2021-11-27T09:47:17.753Z"
   },
   {
    "duration": 39,
    "start_time": "2021-11-27T09:47:17.760Z"
   },
   {
    "duration": 4,
    "start_time": "2021-11-27T09:47:17.801Z"
   },
   {
    "duration": 9,
    "start_time": "2021-11-27T09:47:17.807Z"
   },
   {
    "duration": 3,
    "start_time": "2021-11-27T09:47:17.817Z"
   },
   {
    "duration": 12,
    "start_time": "2021-11-27T09:47:17.822Z"
   },
   {
    "duration": 8,
    "start_time": "2021-11-27T09:47:17.835Z"
   },
   {
    "duration": 9,
    "start_time": "2021-11-27T09:47:17.844Z"
   },
   {
    "duration": 38,
    "start_time": "2021-11-27T09:47:17.855Z"
   },
   {
    "duration": 12,
    "start_time": "2021-11-27T09:47:17.895Z"
   },
   {
    "duration": 11,
    "start_time": "2021-11-27T09:47:17.909Z"
   },
   {
    "duration": 10,
    "start_time": "2021-11-27T09:47:17.922Z"
   },
   {
    "duration": 9,
    "start_time": "2021-11-27T09:47:17.934Z"
   },
   {
    "duration": 5,
    "start_time": "2021-11-27T09:47:17.944Z"
   },
   {
    "duration": 70,
    "start_time": "2021-11-27T09:47:17.951Z"
   },
   {
    "duration": 10,
    "start_time": "2021-11-27T09:47:18.025Z"
   },
   {
    "duration": 4,
    "start_time": "2021-11-27T09:47:18.037Z"
   },
   {
    "duration": 5,
    "start_time": "2021-11-27T09:47:18.043Z"
   },
   {
    "duration": 45,
    "start_time": "2021-11-27T09:47:18.049Z"
   },
   {
    "duration": 10,
    "start_time": "2021-11-27T09:47:18.096Z"
   },
   {
    "duration": 8,
    "start_time": "2021-11-27T09:47:18.107Z"
   },
   {
    "duration": 9,
    "start_time": "2021-11-27T09:47:18.117Z"
   },
   {
    "duration": 17,
    "start_time": "2021-11-27T09:47:18.128Z"
   },
   {
    "duration": 6,
    "start_time": "2021-11-27T09:47:18.147Z"
   },
   {
    "duration": 3,
    "start_time": "2021-11-27T09:47:18.154Z"
   },
   {
    "duration": 36,
    "start_time": "2021-11-27T09:47:18.159Z"
   },
   {
    "duration": 7,
    "start_time": "2021-11-27T09:47:18.197Z"
   },
   {
    "duration": 22,
    "start_time": "2021-11-27T09:47:18.205Z"
   },
   {
    "duration": 7,
    "start_time": "2021-11-27T09:47:18.229Z"
   },
   {
    "duration": 224,
    "start_time": "2021-11-27T09:47:18.237Z"
   },
   {
    "duration": 278,
    "start_time": "2021-11-27T09:47:18.463Z"
   },
   {
    "duration": 11,
    "start_time": "2021-11-27T09:47:18.743Z"
   },
   {
    "duration": 202,
    "start_time": "2021-11-27T09:47:18.755Z"
   },
   {
    "duration": 18,
    "start_time": "2021-11-27T09:47:18.959Z"
   },
   {
    "duration": 858,
    "start_time": "2021-11-27T09:47:18.979Z"
   },
   {
    "duration": 14,
    "start_time": "2021-11-27T09:47:19.839Z"
   },
   {
    "duration": 46,
    "start_time": "2021-11-27T09:47:19.855Z"
   },
   {
    "duration": 24,
    "start_time": "2021-11-27T09:51:00.814Z"
   },
   {
    "duration": 68,
    "start_time": "2021-11-27T09:51:10.141Z"
   },
   {
    "duration": 40,
    "start_time": "2021-11-27T09:51:10.210Z"
   },
   {
    "duration": 15,
    "start_time": "2021-11-27T09:51:10.253Z"
   },
   {
    "duration": 21,
    "start_time": "2021-11-27T09:51:10.270Z"
   },
   {
    "duration": 11,
    "start_time": "2021-11-27T09:51:10.293Z"
   },
   {
    "duration": 12,
    "start_time": "2021-11-27T09:51:10.306Z"
   },
   {
    "duration": 16,
    "start_time": "2021-11-27T09:51:10.320Z"
   },
   {
    "duration": 14,
    "start_time": "2021-11-27T09:51:10.338Z"
   },
   {
    "duration": 52,
    "start_time": "2021-11-27T09:51:10.354Z"
   },
   {
    "duration": 6,
    "start_time": "2021-11-27T09:51:10.407Z"
   },
   {
    "duration": 14,
    "start_time": "2021-11-27T09:51:10.414Z"
   },
   {
    "duration": 18,
    "start_time": "2021-11-27T09:51:10.429Z"
   },
   {
    "duration": 20,
    "start_time": "2021-11-27T09:51:10.449Z"
   },
   {
    "duration": 5,
    "start_time": "2021-11-27T09:51:10.471Z"
   },
   {
    "duration": 12,
    "start_time": "2021-11-27T09:51:10.477Z"
   },
   {
    "duration": 3,
    "start_time": "2021-11-27T09:51:10.490Z"
   },
   {
    "duration": 17,
    "start_time": "2021-11-27T09:51:10.495Z"
   },
   {
    "duration": 8,
    "start_time": "2021-11-27T09:51:10.514Z"
   },
   {
    "duration": 14,
    "start_time": "2021-11-27T09:51:10.523Z"
   },
   {
    "duration": 14,
    "start_time": "2021-11-27T09:51:10.538Z"
   },
   {
    "duration": 13,
    "start_time": "2021-11-27T09:51:10.553Z"
   },
   {
    "duration": 18,
    "start_time": "2021-11-27T09:51:10.568Z"
   },
   {
    "duration": 10,
    "start_time": "2021-11-27T09:51:10.589Z"
   },
   {
    "duration": 9,
    "start_time": "2021-11-27T09:51:10.601Z"
   },
   {
    "duration": 4,
    "start_time": "2021-11-27T09:51:10.612Z"
   },
   {
    "duration": 42,
    "start_time": "2021-11-27T09:51:10.617Z"
   },
   {
    "duration": 32,
    "start_time": "2021-11-27T09:51:10.660Z"
   },
   {
    "duration": 4,
    "start_time": "2021-11-27T09:51:10.694Z"
   },
   {
    "duration": 8,
    "start_time": "2021-11-27T09:51:10.700Z"
   },
   {
    "duration": 24,
    "start_time": "2021-11-27T09:51:10.710Z"
   },
   {
    "duration": 7,
    "start_time": "2021-11-27T09:51:10.735Z"
   },
   {
    "duration": 12,
    "start_time": "2021-11-27T09:51:10.743Z"
   },
   {
    "duration": 9,
    "start_time": "2021-11-27T09:51:10.757Z"
   },
   {
    "duration": 15,
    "start_time": "2021-11-27T09:51:10.791Z"
   },
   {
    "duration": 14,
    "start_time": "2021-11-27T09:51:10.808Z"
   },
   {
    "duration": 8,
    "start_time": "2021-11-27T09:51:10.824Z"
   },
   {
    "duration": 20,
    "start_time": "2021-11-27T09:51:10.833Z"
   },
   {
    "duration": 12,
    "start_time": "2021-11-27T09:51:10.855Z"
   },
   {
    "duration": 24,
    "start_time": "2021-11-27T09:51:10.869Z"
   },
   {
    "duration": 4,
    "start_time": "2021-11-27T09:51:10.895Z"
   },
   {
    "duration": 211,
    "start_time": "2021-11-27T09:51:10.900Z"
   },
   {
    "duration": 211,
    "start_time": "2021-11-27T09:51:11.113Z"
   },
   {
    "duration": 9,
    "start_time": "2021-11-27T09:51:11.327Z"
   },
   {
    "duration": 196,
    "start_time": "2021-11-27T09:51:11.337Z"
   },
   {
    "duration": 21,
    "start_time": "2021-11-27T09:51:11.535Z"
   },
   {
    "duration": 908,
    "start_time": "2021-11-27T09:51:11.558Z"
   },
   {
    "duration": 27,
    "start_time": "2021-11-27T09:51:12.468Z"
   },
   {
    "duration": 28,
    "start_time": "2021-11-27T09:51:12.497Z"
   },
   {
    "duration": 66,
    "start_time": "2021-11-27T09:52:25.145Z"
   },
   {
    "duration": 40,
    "start_time": "2021-11-27T09:52:25.212Z"
   },
   {
    "duration": 19,
    "start_time": "2021-11-27T09:52:25.254Z"
   },
   {
    "duration": 13,
    "start_time": "2021-11-27T09:52:25.274Z"
   },
   {
    "duration": 11,
    "start_time": "2021-11-27T09:52:25.289Z"
   },
   {
    "duration": 12,
    "start_time": "2021-11-27T09:52:25.301Z"
   },
   {
    "duration": 11,
    "start_time": "2021-11-27T09:52:25.314Z"
   },
   {
    "duration": 14,
    "start_time": "2021-11-27T09:52:25.327Z"
   },
   {
    "duration": 58,
    "start_time": "2021-11-27T09:52:25.343Z"
   },
   {
    "duration": 5,
    "start_time": "2021-11-27T09:52:25.403Z"
   },
   {
    "duration": 11,
    "start_time": "2021-11-27T09:52:25.410Z"
   },
   {
    "duration": 12,
    "start_time": "2021-11-27T09:52:25.422Z"
   },
   {
    "duration": 15,
    "start_time": "2021-11-27T09:52:25.436Z"
   },
   {
    "duration": 5,
    "start_time": "2021-11-27T09:52:25.453Z"
   },
   {
    "duration": 32,
    "start_time": "2021-11-27T09:52:25.460Z"
   },
   {
    "duration": 2,
    "start_time": "2021-11-27T09:52:25.494Z"
   },
   {
    "duration": 22,
    "start_time": "2021-11-27T09:52:25.497Z"
   },
   {
    "duration": 15,
    "start_time": "2021-11-27T09:52:25.521Z"
   },
   {
    "duration": 23,
    "start_time": "2021-11-27T09:52:25.538Z"
   },
   {
    "duration": 7,
    "start_time": "2021-11-27T09:52:25.562Z"
   },
   {
    "duration": 21,
    "start_time": "2021-11-27T09:52:25.571Z"
   },
   {
    "duration": 8,
    "start_time": "2021-11-27T09:52:25.594Z"
   },
   {
    "duration": 9,
    "start_time": "2021-11-27T09:52:25.606Z"
   },
   {
    "duration": 8,
    "start_time": "2021-11-27T09:52:25.617Z"
   },
   {
    "duration": 4,
    "start_time": "2021-11-27T09:52:25.627Z"
   },
   {
    "duration": 66,
    "start_time": "2021-11-27T09:52:25.633Z"
   },
   {
    "duration": 10,
    "start_time": "2021-11-27T09:52:25.700Z"
   },
   {
    "duration": 4,
    "start_time": "2021-11-27T09:52:25.712Z"
   },
   {
    "duration": 5,
    "start_time": "2021-11-27T09:52:25.718Z"
   },
   {
    "duration": 21,
    "start_time": "2021-11-27T09:52:25.724Z"
   },
   {
    "duration": 6,
    "start_time": "2021-11-27T09:52:25.746Z"
   },
   {
    "duration": 41,
    "start_time": "2021-11-27T09:52:25.753Z"
   },
   {
    "duration": 9,
    "start_time": "2021-11-27T09:52:25.796Z"
   },
   {
    "duration": 26,
    "start_time": "2021-11-27T09:52:25.807Z"
   },
   {
    "duration": 20,
    "start_time": "2021-11-27T09:52:25.835Z"
   },
   {
    "duration": 4,
    "start_time": "2021-11-27T09:52:25.856Z"
   },
   {
    "duration": 8,
    "start_time": "2021-11-27T09:52:25.861Z"
   },
   {
    "duration": 7,
    "start_time": "2021-11-27T09:52:25.871Z"
   },
   {
    "duration": 30,
    "start_time": "2021-11-27T09:52:25.879Z"
   },
   {
    "duration": 4,
    "start_time": "2021-11-27T09:52:25.910Z"
   },
   {
    "duration": 210,
    "start_time": "2021-11-27T09:52:25.916Z"
   },
   {
    "duration": 211,
    "start_time": "2021-11-27T09:52:26.128Z"
   },
   {
    "duration": 9,
    "start_time": "2021-11-27T09:52:26.341Z"
   },
   {
    "duration": 206,
    "start_time": "2021-11-27T09:52:26.352Z"
   },
   {
    "duration": 23,
    "start_time": "2021-11-27T09:52:26.559Z"
   },
   {
    "duration": 871,
    "start_time": "2021-11-27T09:52:26.592Z"
   },
   {
    "duration": 28,
    "start_time": "2021-11-27T09:52:27.465Z"
   },
   {
    "duration": 30,
    "start_time": "2021-11-27T09:52:27.495Z"
   },
   {
    "duration": 66,
    "start_time": "2021-11-27T09:53:36.626Z"
   },
   {
    "duration": 39,
    "start_time": "2021-11-27T09:53:36.694Z"
   },
   {
    "duration": 27,
    "start_time": "2021-11-27T09:53:36.735Z"
   },
   {
    "duration": 13,
    "start_time": "2021-11-27T09:53:36.764Z"
   },
   {
    "duration": 19,
    "start_time": "2021-11-27T09:53:36.779Z"
   },
   {
    "duration": 13,
    "start_time": "2021-11-27T09:53:36.800Z"
   },
   {
    "duration": 10,
    "start_time": "2021-11-27T09:53:36.815Z"
   },
   {
    "duration": 14,
    "start_time": "2021-11-27T09:53:36.828Z"
   },
   {
    "duration": 134,
    "start_time": "2021-11-27T09:53:36.844Z"
   },
   {
    "duration": 13,
    "start_time": "2021-11-27T09:53:36.980Z"
   },
   {
    "duration": 7,
    "start_time": "2021-11-27T09:53:36.994Z"
   },
   {
    "duration": 18,
    "start_time": "2021-11-27T09:53:37.003Z"
   },
   {
    "duration": 18,
    "start_time": "2021-11-27T09:53:37.022Z"
   },
   {
    "duration": 12,
    "start_time": "2021-11-27T09:53:37.042Z"
   },
   {
    "duration": 25,
    "start_time": "2021-11-27T09:53:37.055Z"
   },
   {
    "duration": 17,
    "start_time": "2021-11-27T09:53:37.082Z"
   },
   {
    "duration": 22,
    "start_time": "2021-11-27T09:53:37.100Z"
   },
   {
    "duration": 21,
    "start_time": "2021-11-27T09:53:37.124Z"
   },
   {
    "duration": 15,
    "start_time": "2021-11-27T09:53:37.146Z"
   },
   {
    "duration": 13,
    "start_time": "2021-11-27T09:53:37.163Z"
   },
   {
    "duration": 29,
    "start_time": "2021-11-27T09:53:37.178Z"
   },
   {
    "duration": 20,
    "start_time": "2021-11-27T09:53:37.208Z"
   },
   {
    "duration": 25,
    "start_time": "2021-11-27T09:53:37.231Z"
   },
   {
    "duration": 9,
    "start_time": "2021-11-27T09:53:37.258Z"
   },
   {
    "duration": 16,
    "start_time": "2021-11-27T09:53:37.269Z"
   },
   {
    "duration": 42,
    "start_time": "2021-11-27T09:53:37.287Z"
   },
   {
    "duration": 9,
    "start_time": "2021-11-27T09:53:37.331Z"
   },
   {
    "duration": 9,
    "start_time": "2021-11-27T09:53:37.342Z"
   },
   {
    "duration": 11,
    "start_time": "2021-11-27T09:53:37.352Z"
   },
   {
    "duration": 35,
    "start_time": "2021-11-27T09:53:37.365Z"
   },
   {
    "duration": 22,
    "start_time": "2021-11-27T09:53:37.401Z"
   },
   {
    "duration": 20,
    "start_time": "2021-11-27T09:53:37.424Z"
   },
   {
    "duration": 9,
    "start_time": "2021-11-27T09:53:37.446Z"
   },
   {
    "duration": 18,
    "start_time": "2021-11-27T09:53:37.457Z"
   },
   {
    "duration": 17,
    "start_time": "2021-11-27T09:53:37.477Z"
   },
   {
    "duration": 14,
    "start_time": "2021-11-27T09:53:37.495Z"
   },
   {
    "duration": 19,
    "start_time": "2021-11-27T09:53:37.510Z"
   },
   {
    "duration": 11,
    "start_time": "2021-11-27T09:53:37.531Z"
   },
   {
    "duration": 30,
    "start_time": "2021-11-27T09:53:37.544Z"
   },
   {
    "duration": 4,
    "start_time": "2021-11-27T09:53:37.575Z"
   },
   {
    "duration": 206,
    "start_time": "2021-11-27T09:53:37.581Z"
   },
   {
    "duration": 205,
    "start_time": "2021-11-27T09:53:37.788Z"
   },
   {
    "duration": 11,
    "start_time": "2021-11-27T09:53:37.995Z"
   },
   {
    "duration": 211,
    "start_time": "2021-11-27T09:53:38.007Z"
   },
   {
    "duration": 23,
    "start_time": "2021-11-27T09:53:38.220Z"
   },
   {
    "duration": 838,
    "start_time": "2021-11-27T09:53:38.245Z"
   },
   {
    "duration": 20,
    "start_time": "2021-11-27T09:53:39.084Z"
   },
   {
    "duration": 29,
    "start_time": "2021-11-27T09:53:39.106Z"
   },
   {
    "duration": 65,
    "start_time": "2021-11-27T09:55:12.775Z"
   },
   {
    "duration": 38,
    "start_time": "2021-11-27T09:55:12.842Z"
   },
   {
    "duration": 23,
    "start_time": "2021-11-27T09:55:12.882Z"
   },
   {
    "duration": 14,
    "start_time": "2021-11-27T09:55:12.907Z"
   },
   {
    "duration": 11,
    "start_time": "2021-11-27T09:55:12.923Z"
   },
   {
    "duration": 13,
    "start_time": "2021-11-27T09:55:12.936Z"
   },
   {
    "duration": 10,
    "start_time": "2021-11-27T09:55:12.950Z"
   },
   {
    "duration": 44,
    "start_time": "2021-11-27T09:55:12.962Z"
   },
   {
    "duration": 25,
    "start_time": "2021-11-27T09:55:13.008Z"
   },
   {
    "duration": 6,
    "start_time": "2021-11-27T09:55:13.035Z"
   },
   {
    "duration": 8,
    "start_time": "2021-11-27T09:55:13.042Z"
   },
   {
    "duration": 6,
    "start_time": "2021-11-27T09:55:13.052Z"
   },
   {
    "duration": 38,
    "start_time": "2021-11-27T09:55:13.059Z"
   },
   {
    "duration": 4,
    "start_time": "2021-11-27T09:55:13.099Z"
   },
   {
    "duration": 8,
    "start_time": "2021-11-27T09:55:13.105Z"
   },
   {
    "duration": 3,
    "start_time": "2021-11-27T09:55:13.115Z"
   },
   {
    "duration": 9,
    "start_time": "2021-11-27T09:55:13.120Z"
   },
   {
    "duration": 8,
    "start_time": "2021-11-27T09:55:13.130Z"
   },
   {
    "duration": 7,
    "start_time": "2021-11-27T09:55:13.140Z"
   },
   {
    "duration": 7,
    "start_time": "2021-11-27T09:55:13.192Z"
   },
   {
    "duration": 10,
    "start_time": "2021-11-27T09:55:13.200Z"
   },
   {
    "duration": 10,
    "start_time": "2021-11-27T09:55:13.212Z"
   },
   {
    "duration": 10,
    "start_time": "2021-11-27T09:55:13.227Z"
   },
   {
    "duration": 10,
    "start_time": "2021-11-27T09:55:13.239Z"
   },
   {
    "duration": 43,
    "start_time": "2021-11-27T09:55:13.250Z"
   },
   {
    "duration": 38,
    "start_time": "2021-11-27T09:55:13.295Z"
   },
   {
    "duration": 10,
    "start_time": "2021-11-27T09:55:13.335Z"
   },
   {
    "duration": 5,
    "start_time": "2021-11-27T09:55:13.346Z"
   },
   {
    "duration": 8,
    "start_time": "2021-11-27T09:55:13.353Z"
   },
   {
    "duration": 43,
    "start_time": "2021-11-27T09:55:13.363Z"
   },
   {
    "duration": 7,
    "start_time": "2021-11-27T09:55:13.408Z"
   },
   {
    "duration": 7,
    "start_time": "2021-11-27T09:55:13.416Z"
   },
   {
    "duration": 9,
    "start_time": "2021-11-27T09:55:13.424Z"
   },
   {
    "duration": 13,
    "start_time": "2021-11-27T09:55:13.435Z"
   },
   {
    "duration": 5,
    "start_time": "2021-11-27T09:55:13.450Z"
   },
   {
    "duration": 34,
    "start_time": "2021-11-27T09:55:13.457Z"
   },
   {
    "duration": 7,
    "start_time": "2021-11-27T09:55:13.493Z"
   },
   {
    "duration": 8,
    "start_time": "2021-11-27T09:55:13.501Z"
   },
   {
    "duration": 20,
    "start_time": "2021-11-27T09:55:13.511Z"
   },
   {
    "duration": 4,
    "start_time": "2021-11-27T09:55:13.532Z"
   },
   {
    "duration": 209,
    "start_time": "2021-11-27T09:55:13.537Z"
   },
   {
    "duration": 200,
    "start_time": "2021-11-27T09:55:13.748Z"
   },
   {
    "duration": 9,
    "start_time": "2021-11-27T09:55:13.950Z"
   },
   {
    "duration": 211,
    "start_time": "2021-11-27T09:55:13.961Z"
   },
   {
    "duration": 29,
    "start_time": "2021-11-27T09:55:14.174Z"
   },
   {
    "duration": 948,
    "start_time": "2021-11-27T09:55:14.205Z"
   },
   {
    "duration": 15,
    "start_time": "2021-11-27T09:55:15.154Z"
   },
   {
    "duration": 41,
    "start_time": "2021-11-27T09:55:15.170Z"
   },
   {
    "duration": 7,
    "start_time": "2021-11-27T10:03:57.091Z"
   },
   {
    "duration": 22,
    "start_time": "2021-11-27T10:06:45.712Z"
   },
   {
    "duration": 24,
    "start_time": "2021-11-27T10:17:52.838Z"
   },
   {
    "duration": 22,
    "start_time": "2021-11-27T10:24:17.109Z"
   },
   {
    "duration": 27,
    "start_time": "2021-11-27T10:24:24.435Z"
   },
   {
    "duration": 23,
    "start_time": "2021-11-27T10:24:42.889Z"
   },
   {
    "duration": 35,
    "start_time": "2021-11-27T10:28:25.352Z"
   },
   {
    "duration": 7,
    "start_time": "2021-11-27T10:32:11.399Z"
   },
   {
    "duration": 3326,
    "start_time": "2021-11-27T10:37:32.542Z"
   },
   {
    "duration": 266,
    "start_time": "2021-11-27T10:39:44.436Z"
   },
   {
    "duration": 267,
    "start_time": "2021-11-27T10:40:55.968Z"
   },
   {
    "duration": 319,
    "start_time": "2021-11-27T10:41:03.387Z"
   },
   {
    "duration": 313,
    "start_time": "2021-11-27T10:44:24.857Z"
   },
   {
    "duration": 15,
    "start_time": "2021-11-27T10:56:19.812Z"
   },
   {
    "duration": 13,
    "start_time": "2021-11-27T10:56:46.912Z"
   },
   {
    "duration": 188,
    "start_time": "2021-11-27T10:57:02.080Z"
   },
   {
    "duration": 14,
    "start_time": "2021-11-27T10:57:25.995Z"
   },
   {
    "duration": 14,
    "start_time": "2021-11-27T10:57:47.004Z"
   },
   {
    "duration": 222,
    "start_time": "2021-11-27T10:58:25.026Z"
   },
   {
    "duration": 15,
    "start_time": "2021-11-27T10:58:30.233Z"
   },
   {
    "duration": 15,
    "start_time": "2021-11-27T10:58:44.370Z"
   },
   {
    "duration": 303,
    "start_time": "2021-11-27T11:08:24.779Z"
   },
   {
    "duration": 189,
    "start_time": "2021-11-27T11:21:23.022Z"
   },
   {
    "duration": 190,
    "start_time": "2021-11-27T11:22:07.001Z"
   },
   {
    "duration": 190,
    "start_time": "2021-11-27T11:22:16.430Z"
   },
   {
    "duration": 178,
    "start_time": "2021-11-27T11:38:11.342Z"
   },
   {
    "duration": 5302,
    "start_time": "2021-11-27T11:38:24.516Z"
   },
   {
    "duration": 4099,
    "start_time": "2021-11-27T11:38:50.272Z"
   },
   {
    "duration": 215,
    "start_time": "2021-11-27T11:47:50.683Z"
   },
   {
    "duration": 504,
    "start_time": "2021-11-27T11:48:11.564Z"
   },
   {
    "duration": 488,
    "start_time": "2021-11-27T11:48:20.505Z"
   },
   {
    "duration": 425,
    "start_time": "2021-11-27T11:48:45.627Z"
   },
   {
    "duration": 14,
    "start_time": "2021-11-27T11:53:10.503Z"
   },
   {
    "duration": 687,
    "start_time": "2021-11-27T11:54:22.276Z"
   },
   {
    "duration": 43,
    "start_time": "2021-11-27T11:54:22.966Z"
   },
   {
    "duration": 29,
    "start_time": "2021-11-27T11:54:23.011Z"
   },
   {
    "duration": 15,
    "start_time": "2021-11-27T11:54:23.042Z"
   },
   {
    "duration": 12,
    "start_time": "2021-11-27T11:54:23.059Z"
   },
   {
    "duration": 18,
    "start_time": "2021-11-27T11:54:23.094Z"
   },
   {
    "duration": 15,
    "start_time": "2021-11-27T11:54:23.114Z"
   },
   {
    "duration": 14,
    "start_time": "2021-11-27T11:54:23.131Z"
   },
   {
    "duration": 56,
    "start_time": "2021-11-27T11:54:23.148Z"
   },
   {
    "duration": 6,
    "start_time": "2021-11-27T11:54:23.206Z"
   },
   {
    "duration": 11,
    "start_time": "2021-11-27T11:54:23.213Z"
   },
   {
    "duration": 5,
    "start_time": "2021-11-27T11:54:23.226Z"
   },
   {
    "duration": 12,
    "start_time": "2021-11-27T11:54:23.233Z"
   },
   {
    "duration": 13,
    "start_time": "2021-11-27T11:54:23.246Z"
   },
   {
    "duration": 13,
    "start_time": "2021-11-27T11:54:23.261Z"
   },
   {
    "duration": 24,
    "start_time": "2021-11-27T11:54:23.275Z"
   },
   {
    "duration": 31,
    "start_time": "2021-11-27T11:54:23.300Z"
   },
   {
    "duration": 16,
    "start_time": "2021-11-27T11:54:23.333Z"
   },
   {
    "duration": 22,
    "start_time": "2021-11-27T11:54:23.350Z"
   },
   {
    "duration": 12,
    "start_time": "2021-11-27T11:54:23.374Z"
   },
   {
    "duration": 23,
    "start_time": "2021-11-27T11:54:23.388Z"
   },
   {
    "duration": 12,
    "start_time": "2021-11-27T11:54:23.412Z"
   },
   {
    "duration": 15,
    "start_time": "2021-11-27T11:54:23.426Z"
   },
   {
    "duration": 16,
    "start_time": "2021-11-27T11:54:23.443Z"
   },
   {
    "duration": 41,
    "start_time": "2021-11-27T11:54:23.460Z"
   },
   {
    "duration": 48,
    "start_time": "2021-11-27T11:54:23.503Z"
   },
   {
    "duration": 10,
    "start_time": "2021-11-27T11:54:23.555Z"
   },
   {
    "duration": 12,
    "start_time": "2021-11-27T11:54:23.567Z"
   },
   {
    "duration": 30,
    "start_time": "2021-11-27T11:54:23.580Z"
   },
   {
    "duration": 30,
    "start_time": "2021-11-27T11:54:23.612Z"
   },
   {
    "duration": 7,
    "start_time": "2021-11-27T11:54:23.644Z"
   },
   {
    "duration": 25,
    "start_time": "2021-11-27T11:54:23.653Z"
   },
   {
    "duration": 9,
    "start_time": "2021-11-27T11:54:23.680Z"
   },
   {
    "duration": 23,
    "start_time": "2021-11-27T11:54:23.691Z"
   },
   {
    "duration": 9,
    "start_time": "2021-11-27T11:54:23.716Z"
   },
   {
    "duration": 3,
    "start_time": "2021-11-27T11:54:23.727Z"
   },
   {
    "duration": 8,
    "start_time": "2021-11-27T11:54:23.731Z"
   },
   {
    "duration": 9,
    "start_time": "2021-11-27T11:54:23.741Z"
   },
   {
    "duration": 56,
    "start_time": "2021-11-27T11:54:23.752Z"
   },
   {
    "duration": 4,
    "start_time": "2021-11-27T11:54:23.810Z"
   },
   {
    "duration": 311,
    "start_time": "2021-11-27T11:54:23.816Z"
   },
   {
    "duration": 224,
    "start_time": "2021-11-27T11:54:24.129Z"
   },
   {
    "duration": 10,
    "start_time": "2021-11-27T11:54:24.355Z"
   },
   {
    "duration": 230,
    "start_time": "2021-11-27T11:54:24.366Z"
   },
   {
    "duration": 30,
    "start_time": "2021-11-27T11:54:24.598Z"
   },
   {
    "duration": 1007,
    "start_time": "2021-11-27T11:54:24.630Z"
   },
   {
    "duration": 15,
    "start_time": "2021-11-27T11:54:25.638Z"
   },
   {
    "duration": 38,
    "start_time": "2021-11-27T11:54:25.655Z"
   },
   {
    "duration": 30,
    "start_time": "2021-11-27T11:54:25.698Z"
   },
   {
    "duration": 12,
    "start_time": "2021-11-27T11:54:25.730Z"
   },
   {
    "duration": 8,
    "start_time": "2021-11-27T11:54:25.744Z"
   },
   {
    "duration": 349,
    "start_time": "2021-11-27T11:54:25.754Z"
   },
   {
    "duration": 451,
    "start_time": "2021-11-27T11:54:26.105Z"
   },
   {
    "duration": 360,
    "start_time": "2021-11-27T11:54:26.558Z"
   },
   {
    "duration": 13,
    "start_time": "2021-11-27T11:58:33.977Z"
   },
   {
    "duration": 296,
    "start_time": "2021-11-27T11:59:29.572Z"
   },
   {
    "duration": 287,
    "start_time": "2021-11-27T11:59:53.956Z"
   },
   {
    "duration": 329,
    "start_time": "2021-11-27T12:00:01.713Z"
   },
   {
    "duration": 358,
    "start_time": "2021-11-27T12:00:07.687Z"
   },
   {
    "duration": 238,
    "start_time": "2021-11-27T12:06:43.355Z"
   },
   {
    "duration": 6,
    "start_time": "2021-11-27T12:19:46.365Z"
   },
   {
    "duration": 13,
    "start_time": "2021-11-27T12:21:52.472Z"
   },
   {
    "duration": 961,
    "start_time": "2021-11-27T12:22:44.476Z"
   },
   {
    "duration": 16,
    "start_time": "2021-11-27T12:24:27.618Z"
   },
   {
    "duration": 14,
    "start_time": "2021-11-27T12:24:57.127Z"
   },
   {
    "duration": 25,
    "start_time": "2021-11-27T12:34:18.006Z"
   },
   {
    "duration": 291,
    "start_time": "2021-11-27T13:14:21.319Z"
   },
   {
    "duration": 4,
    "start_time": "2021-11-27T13:20:55.917Z"
   },
   {
    "duration": 313,
    "start_time": "2021-11-27T13:21:22.615Z"
   },
   {
    "duration": 272,
    "start_time": "2021-11-27T13:22:11.045Z"
   },
   {
    "duration": 3455,
    "start_time": "2021-11-27T13:25:01.785Z"
   },
   {
    "duration": 271,
    "start_time": "2021-11-27T13:25:11.933Z"
   },
   {
    "duration": 604,
    "start_time": "2021-11-27T16:00:00.925Z"
   },
   {
    "duration": 43,
    "start_time": "2021-11-27T16:00:01.530Z"
   },
   {
    "duration": 28,
    "start_time": "2021-11-27T16:00:01.575Z"
   },
   {
    "duration": 12,
    "start_time": "2021-11-27T16:00:01.604Z"
   },
   {
    "duration": 29,
    "start_time": "2021-11-27T16:00:01.618Z"
   },
   {
    "duration": 44,
    "start_time": "2021-11-27T16:00:01.648Z"
   },
   {
    "duration": 53,
    "start_time": "2021-11-27T16:00:01.693Z"
   },
   {
    "duration": 47,
    "start_time": "2021-11-27T16:00:01.748Z"
   },
   {
    "duration": 33,
    "start_time": "2021-11-27T16:00:01.797Z"
   },
   {
    "duration": 16,
    "start_time": "2021-11-27T16:00:01.831Z"
   },
   {
    "duration": 11,
    "start_time": "2021-11-27T16:00:01.849Z"
   },
   {
    "duration": 20,
    "start_time": "2021-11-27T16:00:01.861Z"
   },
   {
    "duration": 16,
    "start_time": "2021-11-27T16:00:01.882Z"
   },
   {
    "duration": 8,
    "start_time": "2021-11-27T16:00:01.900Z"
   },
   {
    "duration": 25,
    "start_time": "2021-11-27T16:00:01.910Z"
   },
   {
    "duration": 28,
    "start_time": "2021-11-27T16:00:01.936Z"
   },
   {
    "duration": 11,
    "start_time": "2021-11-27T16:00:01.966Z"
   },
   {
    "duration": 12,
    "start_time": "2021-11-27T16:00:01.979Z"
   },
   {
    "duration": 25,
    "start_time": "2021-11-27T16:00:01.993Z"
   },
   {
    "duration": 27,
    "start_time": "2021-11-27T16:00:02.020Z"
   },
   {
    "duration": 25,
    "start_time": "2021-11-27T16:00:02.048Z"
   },
   {
    "duration": 18,
    "start_time": "2021-11-27T16:00:02.074Z"
   },
   {
    "duration": 12,
    "start_time": "2021-11-27T16:00:02.095Z"
   },
   {
    "duration": 23,
    "start_time": "2021-11-27T16:00:02.109Z"
   },
   {
    "duration": 45,
    "start_time": "2021-11-27T16:00:02.134Z"
   },
   {
    "duration": 41,
    "start_time": "2021-11-27T16:00:02.181Z"
   },
   {
    "duration": 17,
    "start_time": "2021-11-27T16:00:02.224Z"
   },
   {
    "duration": 60,
    "start_time": "2021-11-27T16:00:02.243Z"
   },
   {
    "duration": 43,
    "start_time": "2021-11-27T16:00:02.304Z"
   },
   {
    "duration": 12,
    "start_time": "2021-11-27T16:00:02.349Z"
   },
   {
    "duration": 17,
    "start_time": "2021-11-27T16:00:02.362Z"
   },
   {
    "duration": 23,
    "start_time": "2021-11-27T16:00:02.381Z"
   },
   {
    "duration": 57,
    "start_time": "2021-11-27T16:00:02.406Z"
   },
   {
    "duration": 59,
    "start_time": "2021-11-27T16:00:02.464Z"
   },
   {
    "duration": 323,
    "start_time": "2021-11-27T16:00:02.525Z"
   },
   {
    "duration": 390,
    "start_time": "2021-11-27T16:00:45.477Z"
   },
   {
    "duration": 6382,
    "start_time": "2021-11-27T16:00:53.200Z"
   },
   {
    "duration": 7,
    "start_time": "2021-11-27T16:01:30.542Z"
   },
   {
    "duration": 60,
    "start_time": "2021-11-27T16:01:38.158Z"
   },
   {
    "duration": 40,
    "start_time": "2021-11-27T16:01:38.220Z"
   },
   {
    "duration": 12,
    "start_time": "2021-11-27T16:01:38.262Z"
   },
   {
    "duration": 12,
    "start_time": "2021-11-27T16:01:38.276Z"
   },
   {
    "duration": 10,
    "start_time": "2021-11-27T16:01:38.289Z"
   },
   {
    "duration": 9,
    "start_time": "2021-11-27T16:01:38.300Z"
   },
   {
    "duration": 10,
    "start_time": "2021-11-27T16:01:38.311Z"
   },
   {
    "duration": 12,
    "start_time": "2021-11-27T16:01:38.323Z"
   },
   {
    "duration": 22,
    "start_time": "2021-11-27T16:01:38.337Z"
   },
   {
    "duration": 29,
    "start_time": "2021-11-27T16:01:38.361Z"
   },
   {
    "duration": 14,
    "start_time": "2021-11-27T16:01:38.392Z"
   },
   {
    "duration": 10,
    "start_time": "2021-11-27T16:01:38.408Z"
   },
   {
    "duration": 17,
    "start_time": "2021-11-27T16:01:38.419Z"
   },
   {
    "duration": 4,
    "start_time": "2021-11-27T16:01:38.437Z"
   },
   {
    "duration": 20,
    "start_time": "2021-11-27T16:01:38.442Z"
   },
   {
    "duration": 17,
    "start_time": "2021-11-27T16:01:38.463Z"
   },
   {
    "duration": 11,
    "start_time": "2021-11-27T16:01:38.481Z"
   },
   {
    "duration": 14,
    "start_time": "2021-11-27T16:01:38.493Z"
   },
   {
    "duration": 13,
    "start_time": "2021-11-27T16:01:38.508Z"
   },
   {
    "duration": 24,
    "start_time": "2021-11-27T16:01:38.522Z"
   },
   {
    "duration": 15,
    "start_time": "2021-11-27T16:01:38.547Z"
   },
   {
    "duration": 9,
    "start_time": "2021-11-27T16:01:38.564Z"
   },
   {
    "duration": 12,
    "start_time": "2021-11-27T16:01:38.576Z"
   },
   {
    "duration": 4,
    "start_time": "2021-11-27T16:01:38.590Z"
   },
   {
    "duration": 35,
    "start_time": "2021-11-27T16:01:38.595Z"
   },
   {
    "duration": 12,
    "start_time": "2021-11-27T16:01:38.631Z"
   },
   {
    "duration": 4,
    "start_time": "2021-11-27T16:01:38.644Z"
   },
   {
    "duration": 34,
    "start_time": "2021-11-27T16:01:38.649Z"
   },
   {
    "duration": 27,
    "start_time": "2021-11-27T16:01:38.684Z"
   },
   {
    "duration": 14,
    "start_time": "2021-11-27T16:01:38.712Z"
   },
   {
    "duration": 30,
    "start_time": "2021-11-27T16:01:38.727Z"
   },
   {
    "duration": 24,
    "start_time": "2021-11-27T16:01:38.758Z"
   },
   {
    "duration": 18,
    "start_time": "2021-11-27T16:01:38.784Z"
   },
   {
    "duration": 31,
    "start_time": "2021-11-27T16:01:38.803Z"
   },
   {
    "duration": 15,
    "start_time": "2021-11-27T16:01:38.836Z"
   },
   {
    "duration": 25,
    "start_time": "2021-11-27T16:01:38.852Z"
   },
   {
    "duration": 29,
    "start_time": "2021-11-27T16:01:38.878Z"
   },
   {
    "duration": 12,
    "start_time": "2021-11-27T16:01:38.908Z"
   },
   {
    "duration": 247,
    "start_time": "2021-11-27T16:01:38.921Z"
   },
   {
    "duration": 174,
    "start_time": "2021-11-27T16:01:39.169Z"
   },
   {
    "duration": 8,
    "start_time": "2021-11-27T16:01:39.345Z"
   },
   {
    "duration": 186,
    "start_time": "2021-11-27T16:01:39.355Z"
   },
   {
    "duration": 21,
    "start_time": "2021-11-27T16:01:39.543Z"
   },
   {
    "duration": 792,
    "start_time": "2021-11-27T16:01:39.565Z"
   },
   {
    "duration": 13,
    "start_time": "2021-11-27T16:01:40.359Z"
   },
   {
    "duration": 29,
    "start_time": "2021-11-27T16:01:40.373Z"
   },
   {
    "duration": 22,
    "start_time": "2021-11-27T16:01:40.404Z"
   },
   {
    "duration": 3,
    "start_time": "2021-11-27T16:01:40.428Z"
   },
   {
    "duration": 8,
    "start_time": "2021-11-27T16:01:40.433Z"
   },
   {
    "duration": 11,
    "start_time": "2021-11-27T16:01:40.442Z"
   },
   {
    "duration": 184,
    "start_time": "2021-11-27T16:01:40.460Z"
   },
   {
    "duration": 244,
    "start_time": "2021-11-27T16:01:40.646Z"
   },
   {
    "duration": 217,
    "start_time": "2021-11-27T16:01:40.891Z"
   },
   {
    "duration": 244,
    "start_time": "2021-11-27T16:01:41.109Z"
   },
   {
    "duration": 11,
    "start_time": "2021-11-27T16:01:41.355Z"
   },
   {
    "duration": 322,
    "start_time": "2021-11-27T16:01:41.367Z"
   },
   {
    "duration": 282,
    "start_time": "2021-11-27T16:01:41.691Z"
   },
   {
    "duration": 16,
    "start_time": "2021-11-27T16:02:40.348Z"
   },
   {
    "duration": 12,
    "start_time": "2021-11-27T16:22:30.817Z"
   },
   {
    "duration": 335,
    "start_time": "2021-11-27T16:31:15.734Z"
   },
   {
    "duration": 64,
    "start_time": "2021-11-27T16:35:49.902Z"
   },
   {
    "duration": 42,
    "start_time": "2021-11-27T16:35:49.967Z"
   },
   {
    "duration": 15,
    "start_time": "2021-11-27T16:35:50.011Z"
   },
   {
    "duration": 13,
    "start_time": "2021-11-27T16:35:50.028Z"
   },
   {
    "duration": 11,
    "start_time": "2021-11-27T16:35:50.042Z"
   },
   {
    "duration": 10,
    "start_time": "2021-11-27T16:35:50.054Z"
   },
   {
    "duration": 10,
    "start_time": "2021-11-27T16:35:50.087Z"
   },
   {
    "duration": 14,
    "start_time": "2021-11-27T16:35:50.100Z"
   },
   {
    "duration": 27,
    "start_time": "2021-11-27T16:35:50.116Z"
   },
   {
    "duration": 4,
    "start_time": "2021-11-27T16:35:50.145Z"
   },
   {
    "duration": 6,
    "start_time": "2021-11-27T16:35:50.151Z"
   },
   {
    "duration": 32,
    "start_time": "2021-11-27T16:35:50.159Z"
   },
   {
    "duration": 11,
    "start_time": "2021-11-27T16:35:50.192Z"
   },
   {
    "duration": 4,
    "start_time": "2021-11-27T16:35:50.205Z"
   },
   {
    "duration": 9,
    "start_time": "2021-11-27T16:35:50.210Z"
   },
   {
    "duration": 10,
    "start_time": "2021-11-27T16:35:50.220Z"
   },
   {
    "duration": 7,
    "start_time": "2021-11-27T16:35:50.231Z"
   },
   {
    "duration": 8,
    "start_time": "2021-11-27T16:35:50.239Z"
   },
   {
    "duration": 7,
    "start_time": "2021-11-27T16:35:50.249Z"
   },
   {
    "duration": 31,
    "start_time": "2021-11-27T16:35:50.257Z"
   },
   {
    "duration": 8,
    "start_time": "2021-11-27T16:35:50.290Z"
   },
   {
    "duration": 9,
    "start_time": "2021-11-27T16:35:50.300Z"
   },
   {
    "duration": 7,
    "start_time": "2021-11-27T16:35:50.312Z"
   },
   {
    "duration": 7,
    "start_time": "2021-11-27T16:35:50.321Z"
   },
   {
    "duration": 59,
    "start_time": "2021-11-27T16:35:50.329Z"
   },
   {
    "duration": 9,
    "start_time": "2021-11-27T16:35:50.389Z"
   },
   {
    "duration": 15,
    "start_time": "2021-11-27T16:35:50.399Z"
   },
   {
    "duration": 28,
    "start_time": "2021-11-27T16:35:50.415Z"
   },
   {
    "duration": 30,
    "start_time": "2021-11-27T16:35:50.445Z"
   },
   {
    "duration": 11,
    "start_time": "2021-11-27T16:35:50.477Z"
   },
   {
    "duration": 32,
    "start_time": "2021-11-27T16:35:50.489Z"
   },
   {
    "duration": 22,
    "start_time": "2021-11-27T16:35:50.522Z"
   },
   {
    "duration": 19,
    "start_time": "2021-11-27T16:35:50.546Z"
   },
   {
    "duration": 14,
    "start_time": "2021-11-27T16:35:50.566Z"
   },
   {
    "duration": 18,
    "start_time": "2021-11-27T16:35:50.582Z"
   },
   {
    "duration": 21,
    "start_time": "2021-11-27T16:35:50.601Z"
   },
   {
    "duration": 23,
    "start_time": "2021-11-27T16:35:50.623Z"
   },
   {
    "duration": 23,
    "start_time": "2021-11-27T16:35:50.648Z"
   },
   {
    "duration": 182,
    "start_time": "2021-11-27T16:35:50.672Z"
   },
   {
    "duration": 171,
    "start_time": "2021-11-27T16:35:50.856Z"
   },
   {
    "duration": 9,
    "start_time": "2021-11-27T16:35:51.028Z"
   },
   {
    "duration": 195,
    "start_time": "2021-11-27T16:35:51.039Z"
   },
   {
    "duration": 23,
    "start_time": "2021-11-27T16:35:51.236Z"
   },
   {
    "duration": 765,
    "start_time": "2021-11-27T16:35:51.261Z"
   },
   {
    "duration": 16,
    "start_time": "2021-11-27T16:35:52.028Z"
   },
   {
    "duration": 20,
    "start_time": "2021-11-27T16:35:52.045Z"
   },
   {
    "duration": 27,
    "start_time": "2021-11-27T16:36:00.646Z"
   },
   {
    "duration": 645,
    "start_time": "2021-11-27T16:43:15.985Z"
   },
   {
    "duration": 41,
    "start_time": "2021-11-27T16:43:16.632Z"
   },
   {
    "duration": 20,
    "start_time": "2021-11-27T16:43:16.675Z"
   },
   {
    "duration": 12,
    "start_time": "2021-11-27T16:43:16.697Z"
   },
   {
    "duration": 10,
    "start_time": "2021-11-27T16:43:16.711Z"
   },
   {
    "duration": 10,
    "start_time": "2021-11-27T16:43:16.723Z"
   },
   {
    "duration": 10,
    "start_time": "2021-11-27T16:43:16.734Z"
   },
   {
    "duration": 45,
    "start_time": "2021-11-27T16:43:16.747Z"
   },
   {
    "duration": 22,
    "start_time": "2021-11-27T16:43:16.794Z"
   },
   {
    "duration": 4,
    "start_time": "2021-11-27T16:43:16.818Z"
   },
   {
    "duration": 8,
    "start_time": "2021-11-27T16:43:16.824Z"
   },
   {
    "duration": 6,
    "start_time": "2021-11-27T16:43:16.834Z"
   },
   {
    "duration": 12,
    "start_time": "2021-11-27T16:43:16.842Z"
   },
   {
    "duration": 5,
    "start_time": "2021-11-27T16:43:16.855Z"
   },
   {
    "duration": 10,
    "start_time": "2021-11-27T16:43:16.888Z"
   },
   {
    "duration": 11,
    "start_time": "2021-11-27T16:43:16.900Z"
   },
   {
    "duration": 8,
    "start_time": "2021-11-27T16:43:16.912Z"
   },
   {
    "duration": 7,
    "start_time": "2021-11-27T16:43:16.921Z"
   },
   {
    "duration": 7,
    "start_time": "2021-11-27T16:43:16.929Z"
   },
   {
    "duration": 12,
    "start_time": "2021-11-27T16:43:16.937Z"
   },
   {
    "duration": 11,
    "start_time": "2021-11-27T16:43:16.950Z"
   },
   {
    "duration": 15,
    "start_time": "2021-11-27T16:43:16.987Z"
   },
   {
    "duration": 12,
    "start_time": "2021-11-27T16:43:17.007Z"
   },
   {
    "duration": 5,
    "start_time": "2021-11-27T16:43:17.021Z"
   },
   {
    "duration": 35,
    "start_time": "2021-11-27T16:43:17.028Z"
   },
   {
    "duration": 30,
    "start_time": "2021-11-27T16:43:17.064Z"
   },
   {
    "duration": 4,
    "start_time": "2021-11-27T16:43:17.096Z"
   },
   {
    "duration": 6,
    "start_time": "2021-11-27T16:43:17.102Z"
   },
   {
    "duration": 18,
    "start_time": "2021-11-27T16:43:17.110Z"
   },
   {
    "duration": 7,
    "start_time": "2021-11-27T16:43:17.130Z"
   },
   {
    "duration": 7,
    "start_time": "2021-11-27T16:43:17.139Z"
   },
   {
    "duration": 47,
    "start_time": "2021-11-27T16:43:17.148Z"
   },
   {
    "duration": 4,
    "start_time": "2021-11-27T16:43:17.197Z"
   },
   {
    "duration": 4,
    "start_time": "2021-11-27T16:43:17.202Z"
   },
   {
    "duration": 8,
    "start_time": "2021-11-27T16:43:17.207Z"
   },
   {
    "duration": 7,
    "start_time": "2021-11-27T16:43:17.216Z"
   },
   {
    "duration": 5,
    "start_time": "2021-11-27T16:43:17.225Z"
   },
   {
    "duration": 19,
    "start_time": "2021-11-27T16:43:17.232Z"
   },
   {
    "duration": 256,
    "start_time": "2021-11-27T16:43:17.253Z"
   },
   {
    "duration": 180,
    "start_time": "2021-11-27T16:43:17.511Z"
   },
   {
    "duration": 9,
    "start_time": "2021-11-27T16:43:17.692Z"
   },
   {
    "duration": 208,
    "start_time": "2021-11-27T16:43:17.702Z"
   },
   {
    "duration": 22,
    "start_time": "2021-11-27T16:43:17.912Z"
   },
   {
    "duration": 1099,
    "start_time": "2021-11-27T16:43:17.935Z"
   },
   {
    "duration": 20,
    "start_time": "2021-11-27T16:43:19.036Z"
   },
   {
    "duration": 40,
    "start_time": "2021-11-27T16:43:19.058Z"
   },
   {
    "duration": 23,
    "start_time": "2021-11-27T16:43:19.100Z"
   },
   {
    "duration": 6,
    "start_time": "2021-11-27T16:43:19.124Z"
   },
   {
    "duration": 8,
    "start_time": "2021-11-27T16:43:19.131Z"
   },
   {
    "duration": 5,
    "start_time": "2021-11-27T16:43:19.141Z"
   },
   {
    "duration": 241,
    "start_time": "2021-11-27T16:43:19.147Z"
   },
   {
    "duration": 299,
    "start_time": "2021-11-27T16:43:19.390Z"
   },
   {
    "duration": 207,
    "start_time": "2021-11-27T16:43:19.691Z"
   },
   {
    "duration": 255,
    "start_time": "2021-11-27T16:43:19.899Z"
   },
   {
    "duration": 11,
    "start_time": "2021-11-27T16:43:20.156Z"
   },
   {
    "duration": 29,
    "start_time": "2021-11-27T16:43:20.168Z"
   },
   {
    "duration": 23,
    "start_time": "2021-11-27T16:43:20.198Z"
   },
   {
    "duration": 268,
    "start_time": "2021-11-27T16:43:20.222Z"
   },
   {
    "duration": 8,
    "start_time": "2021-11-27T16:45:44.849Z"
   },
   {
    "duration": 62,
    "start_time": "2021-11-27T16:45:50.542Z"
   },
   {
    "duration": 41,
    "start_time": "2021-11-27T16:45:50.607Z"
   },
   {
    "duration": 13,
    "start_time": "2021-11-27T16:45:50.650Z"
   },
   {
    "duration": 14,
    "start_time": "2021-11-27T16:45:50.664Z"
   },
   {
    "duration": 10,
    "start_time": "2021-11-27T16:45:50.679Z"
   },
   {
    "duration": 14,
    "start_time": "2021-11-27T16:45:50.690Z"
   },
   {
    "duration": 10,
    "start_time": "2021-11-27T16:45:50.706Z"
   },
   {
    "duration": 13,
    "start_time": "2021-11-27T16:45:50.718Z"
   },
   {
    "duration": 26,
    "start_time": "2021-11-27T16:45:50.732Z"
   },
   {
    "duration": 29,
    "start_time": "2021-11-27T16:45:50.759Z"
   },
   {
    "duration": 7,
    "start_time": "2021-11-27T16:45:50.789Z"
   },
   {
    "duration": 5,
    "start_time": "2021-11-27T16:45:50.797Z"
   },
   {
    "duration": 18,
    "start_time": "2021-11-27T16:45:50.803Z"
   },
   {
    "duration": 4,
    "start_time": "2021-11-27T16:45:50.823Z"
   },
   {
    "duration": 8,
    "start_time": "2021-11-27T16:45:50.828Z"
   },
   {
    "duration": 16,
    "start_time": "2021-11-27T16:45:50.837Z"
   },
   {
    "duration": 33,
    "start_time": "2021-11-27T16:45:50.855Z"
   },
   {
    "duration": 16,
    "start_time": "2021-11-27T16:45:50.889Z"
   },
   {
    "duration": 5,
    "start_time": "2021-11-27T16:45:50.907Z"
   },
   {
    "duration": 19,
    "start_time": "2021-11-27T16:45:50.913Z"
   },
   {
    "duration": 13,
    "start_time": "2021-11-27T16:45:50.933Z"
   },
   {
    "duration": 8,
    "start_time": "2021-11-27T16:45:50.947Z"
   },
   {
    "duration": 7,
    "start_time": "2021-11-27T16:45:50.959Z"
   },
   {
    "duration": 6,
    "start_time": "2021-11-27T16:45:50.968Z"
   },
   {
    "duration": 46,
    "start_time": "2021-11-27T16:45:50.976Z"
   },
   {
    "duration": 11,
    "start_time": "2021-11-27T16:45:51.024Z"
   },
   {
    "duration": 4,
    "start_time": "2021-11-27T16:45:51.036Z"
   },
   {
    "duration": 6,
    "start_time": "2021-11-27T16:45:51.042Z"
   },
   {
    "duration": 41,
    "start_time": "2021-11-27T16:45:51.049Z"
   },
   {
    "duration": 9,
    "start_time": "2021-11-27T16:45:51.092Z"
   },
   {
    "duration": 8,
    "start_time": "2021-11-27T16:45:51.102Z"
   },
   {
    "duration": 12,
    "start_time": "2021-11-27T16:45:51.112Z"
   },
   {
    "duration": 6,
    "start_time": "2021-11-27T16:45:51.126Z"
   },
   {
    "duration": 4,
    "start_time": "2021-11-27T16:45:51.133Z"
   },
   {
    "duration": 8,
    "start_time": "2021-11-27T16:45:51.138Z"
   },
   {
    "duration": 16,
    "start_time": "2021-11-27T16:45:51.148Z"
   },
   {
    "duration": 27,
    "start_time": "2021-11-27T16:45:51.165Z"
   },
   {
    "duration": 8,
    "start_time": "2021-11-27T16:45:51.194Z"
   },
   {
    "duration": 26,
    "start_time": "2021-11-27T16:45:51.203Z"
   },
   {
    "duration": 190,
    "start_time": "2021-11-27T16:45:51.230Z"
   },
   {
    "duration": 233,
    "start_time": "2021-11-27T16:45:51.422Z"
   },
   {
    "duration": 9,
    "start_time": "2021-11-27T16:45:51.657Z"
   },
   {
    "duration": 186,
    "start_time": "2021-11-27T16:45:51.668Z"
   },
   {
    "duration": 31,
    "start_time": "2021-11-27T16:45:51.856Z"
   },
   {
    "duration": 756,
    "start_time": "2021-11-27T16:45:51.889Z"
   },
   {
    "duration": 14,
    "start_time": "2021-11-27T16:45:52.647Z"
   },
   {
    "duration": 35,
    "start_time": "2021-11-27T16:45:52.662Z"
   },
   {
    "duration": 21,
    "start_time": "2021-11-27T16:45:52.699Z"
   },
   {
    "duration": 3,
    "start_time": "2021-11-27T16:45:52.721Z"
   },
   {
    "duration": 7,
    "start_time": "2021-11-27T16:45:52.725Z"
   },
   {
    "duration": 6,
    "start_time": "2021-11-27T16:45:52.734Z"
   },
   {
    "duration": 185,
    "start_time": "2021-11-27T16:45:52.742Z"
   },
   {
    "duration": 247,
    "start_time": "2021-11-27T16:45:52.929Z"
   },
   {
    "duration": 321,
    "start_time": "2021-11-27T16:45:53.178Z"
   },
   {
    "duration": 245,
    "start_time": "2021-11-27T16:45:53.501Z"
   },
   {
    "duration": 12,
    "start_time": "2021-11-27T16:45:53.748Z"
   },
   {
    "duration": 13,
    "start_time": "2021-11-27T16:45:53.762Z"
   },
   {
    "duration": 10,
    "start_time": "2021-11-27T16:45:53.788Z"
   },
   {
    "duration": 369,
    "start_time": "2021-11-27T16:45:53.800Z"
   },
   {
    "duration": 12,
    "start_time": "2021-11-27T16:46:32.701Z"
   },
   {
    "duration": 749,
    "start_time": "2021-11-27T16:46:48.848Z"
   },
   {
    "duration": 40,
    "start_time": "2021-11-27T16:46:49.600Z"
   },
   {
    "duration": 22,
    "start_time": "2021-11-27T16:46:49.642Z"
   },
   {
    "duration": 12,
    "start_time": "2021-11-27T16:46:49.666Z"
   },
   {
    "duration": 9,
    "start_time": "2021-11-27T16:46:49.680Z"
   },
   {
    "duration": 12,
    "start_time": "2021-11-27T16:46:49.690Z"
   },
   {
    "duration": 9,
    "start_time": "2021-11-27T16:46:49.703Z"
   },
   {
    "duration": 12,
    "start_time": "2021-11-27T16:46:49.715Z"
   },
   {
    "duration": 25,
    "start_time": "2021-11-27T16:46:49.729Z"
   },
   {
    "duration": 5,
    "start_time": "2021-11-27T16:46:49.756Z"
   },
   {
    "duration": 28,
    "start_time": "2021-11-27T16:46:49.763Z"
   },
   {
    "duration": 6,
    "start_time": "2021-11-27T16:46:49.792Z"
   },
   {
    "duration": 19,
    "start_time": "2021-11-27T16:46:49.800Z"
   },
   {
    "duration": 7,
    "start_time": "2021-11-27T16:46:49.820Z"
   },
   {
    "duration": 5,
    "start_time": "2021-11-27T16:46:49.829Z"
   },
   {
    "duration": 15,
    "start_time": "2021-11-27T16:46:49.836Z"
   },
   {
    "duration": 10,
    "start_time": "2021-11-27T16:46:49.852Z"
   },
   {
    "duration": 12,
    "start_time": "2021-11-27T16:46:49.863Z"
   },
   {
    "duration": 12,
    "start_time": "2021-11-27T16:46:49.877Z"
   },
   {
    "duration": 7,
    "start_time": "2021-11-27T16:46:49.890Z"
   },
   {
    "duration": 11,
    "start_time": "2021-11-27T16:46:49.898Z"
   },
   {
    "duration": 10,
    "start_time": "2021-11-27T16:46:49.910Z"
   },
   {
    "duration": 8,
    "start_time": "2021-11-27T16:46:49.924Z"
   },
   {
    "duration": 5,
    "start_time": "2021-11-27T16:46:49.933Z"
   },
   {
    "duration": 65,
    "start_time": "2021-11-27T16:46:49.939Z"
   },
   {
    "duration": 10,
    "start_time": "2021-11-27T16:46:50.006Z"
   },
   {
    "duration": 6,
    "start_time": "2021-11-27T16:46:50.017Z"
   },
   {
    "duration": 8,
    "start_time": "2021-11-27T16:46:50.025Z"
   },
   {
    "duration": 24,
    "start_time": "2021-11-27T16:46:50.034Z"
   },
   {
    "duration": 33,
    "start_time": "2021-11-27T16:46:50.059Z"
   },
   {
    "duration": 8,
    "start_time": "2021-11-27T16:46:50.093Z"
   },
   {
    "duration": 14,
    "start_time": "2021-11-27T16:46:50.103Z"
   },
   {
    "duration": 4,
    "start_time": "2021-11-27T16:46:50.119Z"
   },
   {
    "duration": 5,
    "start_time": "2021-11-27T16:46:50.125Z"
   },
   {
    "duration": 8,
    "start_time": "2021-11-27T16:46:50.131Z"
   },
   {
    "duration": 9,
    "start_time": "2021-11-27T16:46:50.140Z"
   },
   {
    "duration": 15,
    "start_time": "2021-11-27T16:46:50.150Z"
   },
   {
    "duration": 24,
    "start_time": "2021-11-27T16:46:50.167Z"
   },
   {
    "duration": 21,
    "start_time": "2021-11-27T16:46:50.192Z"
   },
   {
    "duration": 247,
    "start_time": "2021-11-27T16:46:50.215Z"
   },
   {
    "duration": 174,
    "start_time": "2021-11-27T16:46:50.463Z"
   },
   {
    "duration": 8,
    "start_time": "2021-11-27T16:46:50.638Z"
   },
   {
    "duration": 177,
    "start_time": "2021-11-27T16:46:50.647Z"
   },
   {
    "duration": 20,
    "start_time": "2021-11-27T16:46:50.825Z"
   },
   {
    "duration": 811,
    "start_time": "2021-11-27T16:46:50.847Z"
   },
   {
    "duration": 13,
    "start_time": "2021-11-27T16:46:51.660Z"
   },
   {
    "duration": 34,
    "start_time": "2021-11-27T16:46:51.674Z"
   },
   {
    "duration": 20,
    "start_time": "2021-11-27T16:46:51.709Z"
   },
   {
    "duration": 3,
    "start_time": "2021-11-27T16:46:51.730Z"
   },
   {
    "duration": 13,
    "start_time": "2021-11-27T16:46:51.734Z"
   },
   {
    "duration": 10,
    "start_time": "2021-11-27T16:46:51.748Z"
   },
   {
    "duration": 174,
    "start_time": "2021-11-27T16:46:51.760Z"
   },
   {
    "duration": 248,
    "start_time": "2021-11-27T16:46:51.935Z"
   },
   {
    "duration": 206,
    "start_time": "2021-11-27T16:46:52.187Z"
   },
   {
    "duration": 248,
    "start_time": "2021-11-27T16:46:52.395Z"
   },
   {
    "duration": 12,
    "start_time": "2021-11-27T16:46:52.645Z"
   },
   {
    "duration": 14,
    "start_time": "2021-11-27T16:46:52.659Z"
   },
   {
    "duration": 24,
    "start_time": "2021-11-27T16:46:52.674Z"
   },
   {
    "duration": 282,
    "start_time": "2021-11-27T16:46:52.699Z"
   },
   {
    "duration": 319,
    "start_time": "2021-11-27T16:49:54.034Z"
   },
   {
    "duration": 238,
    "start_time": "2021-11-27T16:50:08.516Z"
   },
   {
    "duration": 249,
    "start_time": "2021-11-27T16:50:19.444Z"
   },
   {
    "duration": 20,
    "start_time": "2021-11-27T16:50:34.833Z"
   },
   {
    "duration": 250,
    "start_time": "2021-11-27T16:51:05.381Z"
   },
   {
    "duration": 243,
    "start_time": "2021-11-27T16:51:19.418Z"
   },
   {
    "duration": 19,
    "start_time": "2021-11-27T16:51:44.728Z"
   },
   {
    "duration": 245,
    "start_time": "2021-11-27T16:54:22.408Z"
   },
   {
    "duration": 18,
    "start_time": "2021-11-27T16:54:51.684Z"
   },
   {
    "duration": 502,
    "start_time": "2021-11-27T16:55:10.529Z"
   },
   {
    "duration": 19,
    "start_time": "2021-11-27T16:55:27.805Z"
   },
   {
    "duration": 20,
    "start_time": "2021-11-27T17:01:57.859Z"
   },
   {
    "duration": 240,
    "start_time": "2021-11-27T17:03:14.578Z"
   },
   {
    "duration": 19,
    "start_time": "2021-11-27T17:03:33.474Z"
   },
   {
    "duration": 20,
    "start_time": "2021-11-27T17:03:58.213Z"
   },
   {
    "duration": 629,
    "start_time": "2021-11-27T17:15:34.473Z"
   },
   {
    "duration": 12,
    "start_time": "2021-11-27T17:15:52.829Z"
   },
   {
    "duration": 164,
    "start_time": "2021-11-27T17:16:38.814Z"
   },
   {
    "duration": 72,
    "start_time": "2021-11-27T17:21:26.238Z"
   },
   {
    "duration": 213,
    "start_time": "2021-11-27T17:22:33.081Z"
   },
   {
    "duration": 12582,
    "start_time": "2021-11-27T18:41:40.172Z"
   },
   {
    "duration": 288,
    "start_time": "2021-11-27T18:43:04.102Z"
   },
   {
    "duration": 302,
    "start_time": "2021-11-27T18:52:21.147Z"
   },
   {
    "duration": 290,
    "start_time": "2021-11-27T18:52:48.642Z"
   },
   {
    "duration": 288,
    "start_time": "2021-11-27T18:52:54.253Z"
   },
   {
    "duration": 607,
    "start_time": "2021-11-27T19:03:00.400Z"
   },
   {
    "duration": 41,
    "start_time": "2021-11-27T19:03:01.009Z"
   },
   {
    "duration": 24,
    "start_time": "2021-11-27T19:03:01.052Z"
   },
   {
    "duration": 12,
    "start_time": "2021-11-27T19:03:01.077Z"
   },
   {
    "duration": 13,
    "start_time": "2021-11-27T19:03:01.090Z"
   },
   {
    "duration": 15,
    "start_time": "2021-11-27T19:03:01.104Z"
   },
   {
    "duration": 19,
    "start_time": "2021-11-27T19:03:01.120Z"
   },
   {
    "duration": 14,
    "start_time": "2021-11-27T19:03:01.141Z"
   },
   {
    "duration": 27,
    "start_time": "2021-11-27T19:03:01.157Z"
   },
   {
    "duration": 5,
    "start_time": "2021-11-27T19:03:01.185Z"
   },
   {
    "duration": 14,
    "start_time": "2021-11-27T19:03:01.191Z"
   },
   {
    "duration": 13,
    "start_time": "2021-11-27T19:03:01.206Z"
   },
   {
    "duration": 25,
    "start_time": "2021-11-27T19:03:01.220Z"
   },
   {
    "duration": 8,
    "start_time": "2021-11-27T19:03:01.246Z"
   },
   {
    "duration": 11,
    "start_time": "2021-11-27T19:03:01.256Z"
   },
   {
    "duration": 17,
    "start_time": "2021-11-27T19:03:01.269Z"
   },
   {
    "duration": 8,
    "start_time": "2021-11-27T19:03:01.288Z"
   },
   {
    "duration": 31,
    "start_time": "2021-11-27T19:03:01.298Z"
   },
   {
    "duration": 10,
    "start_time": "2021-11-27T19:03:01.331Z"
   },
   {
    "duration": 18,
    "start_time": "2021-11-27T19:03:01.343Z"
   },
   {
    "duration": 23,
    "start_time": "2021-11-27T19:03:01.363Z"
   },
   {
    "duration": 10,
    "start_time": "2021-11-27T19:03:01.388Z"
   },
   {
    "duration": 9,
    "start_time": "2021-11-27T19:03:01.403Z"
   },
   {
    "duration": 6,
    "start_time": "2021-11-27T19:03:01.414Z"
   },
   {
    "duration": 45,
    "start_time": "2021-11-27T19:03:01.422Z"
   },
   {
    "duration": 25,
    "start_time": "2021-11-27T19:03:01.469Z"
   },
   {
    "duration": 15,
    "start_time": "2021-11-27T19:03:01.495Z"
   },
   {
    "duration": 12,
    "start_time": "2021-11-27T19:03:01.512Z"
   },
   {
    "duration": 33,
    "start_time": "2021-11-27T19:03:01.526Z"
   },
   {
    "duration": 8,
    "start_time": "2021-11-27T19:03:01.561Z"
   },
   {
    "duration": 26,
    "start_time": "2021-11-27T19:03:01.571Z"
   },
   {
    "duration": 20,
    "start_time": "2021-11-27T19:03:01.599Z"
   },
   {
    "duration": 15,
    "start_time": "2021-11-27T19:03:01.621Z"
   },
   {
    "duration": 15,
    "start_time": "2021-11-27T19:03:01.638Z"
   },
   {
    "duration": 9,
    "start_time": "2021-11-27T19:03:01.655Z"
   },
   {
    "duration": 15,
    "start_time": "2021-11-27T19:03:01.665Z"
   },
   {
    "duration": 8,
    "start_time": "2021-11-27T19:03:01.682Z"
   },
   {
    "duration": 4,
    "start_time": "2021-11-27T19:03:01.691Z"
   },
   {
    "duration": 42,
    "start_time": "2021-11-27T19:03:01.697Z"
   },
   {
    "duration": 241,
    "start_time": "2021-11-27T19:03:01.740Z"
   },
   {
    "duration": 177,
    "start_time": "2021-11-27T19:03:01.983Z"
   },
   {
    "duration": 9,
    "start_time": "2021-11-27T19:03:02.162Z"
   },
   {
    "duration": 182,
    "start_time": "2021-11-27T19:03:02.173Z"
   },
   {
    "duration": 31,
    "start_time": "2021-11-27T19:03:02.357Z"
   },
   {
    "duration": 778,
    "start_time": "2021-11-27T19:03:02.390Z"
   },
   {
    "duration": 23,
    "start_time": "2021-11-27T19:03:03.170Z"
   },
   {
    "duration": 293,
    "start_time": "2021-11-27T19:03:03.194Z"
   },
   {
    "duration": 295,
    "start_time": "2021-11-27T19:03:03.489Z"
   },
   {
    "duration": 24,
    "start_time": "2021-11-27T19:03:03.788Z"
   },
   {
    "duration": 23,
    "start_time": "2021-11-27T19:03:03.814Z"
   },
   {
    "duration": 4,
    "start_time": "2021-11-27T19:03:03.838Z"
   },
   {
    "duration": 8,
    "start_time": "2021-11-27T19:03:03.844Z"
   },
   {
    "duration": 5,
    "start_time": "2021-11-27T19:03:03.853Z"
   },
   {
    "duration": 163,
    "start_time": "2021-11-27T19:03:03.888Z"
   },
   {
    "duration": 244,
    "start_time": "2021-11-27T19:03:04.052Z"
   },
   {
    "duration": 255,
    "start_time": "2021-11-27T19:03:04.298Z"
   },
   {
    "duration": 336,
    "start_time": "2021-11-27T19:03:04.555Z"
   },
   {
    "duration": 15,
    "start_time": "2021-11-27T19:03:04.893Z"
   },
   {
    "duration": 25,
    "start_time": "2021-11-27T19:03:04.910Z"
   },
   {
    "duration": 351,
    "start_time": "2021-11-27T19:03:04.937Z"
   },
   {
    "duration": 162,
    "start_time": "2021-11-27T19:03:05.289Z"
   },
   {
    "duration": 161,
    "start_time": "2021-11-27T19:03:05.452Z"
   },
   {
    "duration": 24,
    "start_time": "2021-11-27T19:04:09.171Z"
   },
   {
    "duration": 625,
    "start_time": "2021-11-27T19:09:16.352Z"
   },
   {
    "duration": 40,
    "start_time": "2021-11-27T19:09:16.978Z"
   },
   {
    "duration": 20,
    "start_time": "2021-11-27T19:09:17.020Z"
   },
   {
    "duration": 13,
    "start_time": "2021-11-27T19:09:17.041Z"
   },
   {
    "duration": 24,
    "start_time": "2021-11-27T19:09:17.055Z"
   },
   {
    "duration": 14,
    "start_time": "2021-11-27T19:09:17.081Z"
   },
   {
    "duration": 39,
    "start_time": "2021-11-27T19:09:17.097Z"
   },
   {
    "duration": 23,
    "start_time": "2021-11-27T19:09:17.137Z"
   },
   {
    "duration": 45,
    "start_time": "2021-11-27T19:09:17.162Z"
   },
   {
    "duration": 15,
    "start_time": "2021-11-27T19:09:17.209Z"
   },
   {
    "duration": 34,
    "start_time": "2021-11-27T19:09:17.226Z"
   },
   {
    "duration": 24,
    "start_time": "2021-11-27T19:09:17.262Z"
   },
   {
    "duration": 41,
    "start_time": "2021-11-27T19:09:17.287Z"
   },
   {
    "duration": 20,
    "start_time": "2021-11-27T19:09:17.330Z"
   },
   {
    "duration": 34,
    "start_time": "2021-11-27T19:09:17.351Z"
   },
   {
    "duration": 28,
    "start_time": "2021-11-27T19:09:17.387Z"
   },
   {
    "duration": 18,
    "start_time": "2021-11-27T19:09:17.417Z"
   },
   {
    "duration": 20,
    "start_time": "2021-11-27T19:09:17.436Z"
   },
   {
    "duration": 24,
    "start_time": "2021-11-27T19:09:17.458Z"
   },
   {
    "duration": 23,
    "start_time": "2021-11-27T19:09:17.483Z"
   },
   {
    "duration": 23,
    "start_time": "2021-11-27T19:09:17.508Z"
   },
   {
    "duration": 9,
    "start_time": "2021-11-27T19:09:17.532Z"
   },
   {
    "duration": 19,
    "start_time": "2021-11-27T19:09:17.542Z"
   },
   {
    "duration": 9,
    "start_time": "2021-11-27T19:09:17.562Z"
   },
   {
    "duration": 31,
    "start_time": "2021-11-27T19:09:17.573Z"
   },
   {
    "duration": 12,
    "start_time": "2021-11-27T19:09:17.606Z"
   },
   {
    "duration": 3,
    "start_time": "2021-11-27T19:09:17.621Z"
   },
   {
    "duration": 24,
    "start_time": "2021-11-27T19:09:17.626Z"
   },
   {
    "duration": 27,
    "start_time": "2021-11-27T19:09:17.651Z"
   },
   {
    "duration": 17,
    "start_time": "2021-11-27T19:09:17.679Z"
   },
   {
    "duration": 8,
    "start_time": "2021-11-27T19:09:17.697Z"
   },
   {
    "duration": 11,
    "start_time": "2021-11-27T19:09:17.706Z"
   },
   {
    "duration": 4,
    "start_time": "2021-11-27T19:09:17.719Z"
   },
   {
    "duration": 3,
    "start_time": "2021-11-27T19:09:17.725Z"
   },
   {
    "duration": 7,
    "start_time": "2021-11-27T19:09:17.730Z"
   },
   {
    "duration": 8,
    "start_time": "2021-11-27T19:09:17.738Z"
   },
   {
    "duration": 9,
    "start_time": "2021-11-27T19:09:17.748Z"
   },
   {
    "duration": 6,
    "start_time": "2021-11-27T19:09:17.759Z"
   },
   {
    "duration": 30,
    "start_time": "2021-11-27T19:09:17.766Z"
   },
   {
    "duration": 246,
    "start_time": "2021-11-27T19:09:17.797Z"
   },
   {
    "duration": 176,
    "start_time": "2021-11-27T19:09:18.044Z"
   },
   {
    "duration": 8,
    "start_time": "2021-11-27T19:09:18.222Z"
   },
   {
    "duration": 174,
    "start_time": "2021-11-27T19:09:18.231Z"
   },
   {
    "duration": 21,
    "start_time": "2021-11-27T19:09:18.407Z"
   },
   {
    "duration": 787,
    "start_time": "2021-11-27T19:09:18.429Z"
   },
   {
    "duration": 14,
    "start_time": "2021-11-27T19:09:19.217Z"
   },
   {
    "duration": 298,
    "start_time": "2021-11-27T19:09:19.232Z"
   },
   {
    "duration": 297,
    "start_time": "2021-11-27T19:09:19.531Z"
   },
   {
    "duration": 24,
    "start_time": "2021-11-27T19:09:19.829Z"
   },
   {
    "duration": 63,
    "start_time": "2021-11-27T19:09:19.854Z"
   },
   {
    "duration": 16,
    "start_time": "2021-11-27T19:09:19.919Z"
   },
   {
    "duration": 18,
    "start_time": "2021-11-27T19:09:19.936Z"
   },
   {
    "duration": 46,
    "start_time": "2021-11-27T19:09:19.955Z"
   },
   {
    "duration": 170,
    "start_time": "2021-11-27T19:09:20.002Z"
   },
   {
    "duration": 237,
    "start_time": "2021-11-27T19:09:20.173Z"
   },
   {
    "duration": 221,
    "start_time": "2021-11-27T19:09:20.411Z"
   },
   {
    "duration": 247,
    "start_time": "2021-11-27T19:09:20.633Z"
   },
   {
    "duration": 13,
    "start_time": "2021-11-27T19:09:20.882Z"
   },
   {
    "duration": 53,
    "start_time": "2021-11-27T19:09:20.897Z"
   },
   {
    "duration": 352,
    "start_time": "2021-11-27T19:09:20.951Z"
   },
   {
    "duration": 159,
    "start_time": "2021-11-27T19:09:21.305Z"
   },
   {
    "duration": 163,
    "start_time": "2021-11-27T19:09:21.465Z"
   },
   {
    "duration": 1505,
    "start_time": "2021-11-28T19:24:02.710Z"
   },
   {
    "duration": 67,
    "start_time": "2021-11-28T19:24:04.218Z"
   },
   {
    "duration": 29,
    "start_time": "2021-11-28T19:24:04.288Z"
   },
   {
    "duration": 27,
    "start_time": "2021-11-28T19:24:04.319Z"
   },
   {
    "duration": 22,
    "start_time": "2021-11-28T19:24:04.348Z"
   },
   {
    "duration": 13,
    "start_time": "2021-11-28T19:24:04.373Z"
   },
   {
    "duration": 34,
    "start_time": "2021-11-28T19:24:04.389Z"
   },
   {
    "duration": 25,
    "start_time": "2021-11-28T19:24:04.428Z"
   },
   {
    "duration": 55,
    "start_time": "2021-11-28T19:24:04.456Z"
   },
   {
    "duration": 8,
    "start_time": "2021-11-28T19:24:04.513Z"
   },
   {
    "duration": 27,
    "start_time": "2021-11-28T19:24:04.524Z"
   },
   {
    "duration": 11,
    "start_time": "2021-11-28T19:24:04.554Z"
   },
   {
    "duration": 19,
    "start_time": "2021-11-28T19:24:04.567Z"
   },
   {
    "duration": 24,
    "start_time": "2021-11-28T19:24:04.588Z"
   },
   {
    "duration": 9,
    "start_time": "2021-11-28T19:24:04.615Z"
   },
   {
    "duration": 16,
    "start_time": "2021-11-28T19:24:04.626Z"
   },
   {
    "duration": 13,
    "start_time": "2021-11-28T19:24:04.644Z"
   },
   {
    "duration": 52,
    "start_time": "2021-11-28T19:24:04.660Z"
   },
   {
    "duration": 9,
    "start_time": "2021-11-28T19:24:04.714Z"
   },
   {
    "duration": 19,
    "start_time": "2021-11-28T19:24:04.726Z"
   },
   {
    "duration": 17,
    "start_time": "2021-11-28T19:24:04.748Z"
   },
   {
    "duration": 15,
    "start_time": "2021-11-28T19:24:10.582Z"
   },
   {
    "duration": 9,
    "start_time": "2021-11-28T19:24:24.560Z"
   },
   {
    "duration": 6,
    "start_time": "2021-11-28T19:24:25.317Z"
   },
   {
    "duration": 19,
    "start_time": "2021-11-28T19:24:26.199Z"
   },
   {
    "duration": 11,
    "start_time": "2021-11-28T19:24:28.783Z"
   },
   {
    "duration": 69,
    "start_time": "2021-11-28T19:25:14.304Z"
   },
   {
    "duration": 41,
    "start_time": "2021-11-28T19:25:14.375Z"
   },
   {
    "duration": 16,
    "start_time": "2021-11-28T19:25:14.418Z"
   },
   {
    "duration": 16,
    "start_time": "2021-11-28T19:25:14.436Z"
   },
   {
    "duration": 16,
    "start_time": "2021-11-28T19:25:14.454Z"
   },
   {
    "duration": 35,
    "start_time": "2021-11-28T19:25:14.472Z"
   },
   {
    "duration": 12,
    "start_time": "2021-11-28T19:25:14.508Z"
   },
   {
    "duration": 22,
    "start_time": "2021-11-28T19:25:14.523Z"
   },
   {
    "duration": 24,
    "start_time": "2021-11-28T19:25:14.547Z"
   },
   {
    "duration": 5,
    "start_time": "2021-11-28T19:25:14.573Z"
   },
   {
    "duration": 8,
    "start_time": "2021-11-28T19:25:14.606Z"
   },
   {
    "duration": 5,
    "start_time": "2021-11-28T19:25:14.616Z"
   },
   {
    "duration": 12,
    "start_time": "2021-11-28T19:25:14.623Z"
   },
   {
    "duration": 6,
    "start_time": "2021-11-28T19:25:14.636Z"
   },
   {
    "duration": 6,
    "start_time": "2021-11-28T19:25:14.644Z"
   },
   {
    "duration": 27,
    "start_time": "2021-11-28T19:25:14.652Z"
   },
   {
    "duration": 30,
    "start_time": "2021-11-28T19:25:14.681Z"
   },
   {
    "duration": 12,
    "start_time": "2021-11-28T19:25:14.713Z"
   },
   {
    "duration": 5,
    "start_time": "2021-11-28T19:25:14.726Z"
   },
   {
    "duration": 10,
    "start_time": "2021-11-28T19:25:14.733Z"
   },
   {
    "duration": 14,
    "start_time": "2021-11-28T19:25:14.745Z"
   },
   {
    "duration": 12,
    "start_time": "2021-11-28T19:25:14.761Z"
   },
   {
    "duration": 9,
    "start_time": "2021-11-28T19:25:14.810Z"
   },
   {
    "duration": 6,
    "start_time": "2021-11-28T19:25:14.822Z"
   },
   {
    "duration": 22,
    "start_time": "2021-11-28T19:25:14.830Z"
   },
   {
    "duration": 10,
    "start_time": "2021-11-28T19:25:14.854Z"
   },
   {
    "duration": 17,
    "start_time": "2021-11-28T19:25:14.866Z"
   },
   {
    "duration": 23,
    "start_time": "2021-11-28T19:25:14.885Z"
   },
   {
    "duration": 26,
    "start_time": "2021-11-28T19:25:14.910Z"
   },
   {
    "duration": 11,
    "start_time": "2021-11-28T19:25:14.938Z"
   },
   {
    "duration": 14,
    "start_time": "2021-11-28T19:25:14.951Z"
   },
   {
    "duration": 14,
    "start_time": "2021-11-28T19:25:14.967Z"
   },
   {
    "duration": 6,
    "start_time": "2021-11-28T19:25:14.983Z"
   },
   {
    "duration": 6,
    "start_time": "2021-11-28T19:25:14.991Z"
   },
   {
    "duration": 30,
    "start_time": "2021-11-28T19:25:15.007Z"
   },
   {
    "duration": 15,
    "start_time": "2021-11-28T19:25:15.039Z"
   },
   {
    "duration": 22,
    "start_time": "2021-11-28T19:25:15.056Z"
   },
   {
    "duration": 17,
    "start_time": "2021-11-28T19:25:15.079Z"
   },
   {
    "duration": 44,
    "start_time": "2021-11-28T19:25:15.098Z"
   },
   {
    "duration": 258,
    "start_time": "2021-11-28T19:25:15.144Z"
   },
   {
    "duration": 202,
    "start_time": "2021-11-28T19:25:15.404Z"
   },
   {
    "duration": 9,
    "start_time": "2021-11-28T19:25:15.608Z"
   },
   {
    "duration": 215,
    "start_time": "2021-11-28T19:25:15.619Z"
   },
   {
    "duration": 25,
    "start_time": "2021-11-28T19:25:15.836Z"
   },
   {
    "duration": 927,
    "start_time": "2021-11-28T19:25:15.864Z"
   },
   {
    "duration": 24,
    "start_time": "2021-11-28T19:25:16.792Z"
   },
   {
    "duration": 333,
    "start_time": "2021-11-28T19:25:16.818Z"
   },
   {
    "duration": 335,
    "start_time": "2021-11-28T19:25:17.153Z"
   },
   {
    "duration": 35,
    "start_time": "2021-11-28T19:25:17.489Z"
   },
   {
    "duration": 24,
    "start_time": "2021-11-28T19:25:17.526Z"
   },
   {
    "duration": 3,
    "start_time": "2021-11-28T19:25:17.551Z"
   },
   {
    "duration": 9,
    "start_time": "2021-11-28T19:25:17.556Z"
   },
   {
    "duration": 6,
    "start_time": "2021-11-28T19:25:17.567Z"
   },
   {
    "duration": 200,
    "start_time": "2021-11-28T19:25:17.574Z"
   },
   {
    "duration": 289,
    "start_time": "2021-11-28T19:25:17.775Z"
   },
   {
    "duration": 250,
    "start_time": "2021-11-28T19:25:18.066Z"
   },
   {
    "duration": 282,
    "start_time": "2021-11-28T19:25:18.317Z"
   },
   {
    "duration": 13,
    "start_time": "2021-11-28T19:25:18.601Z"
   },
   {
    "duration": 24,
    "start_time": "2021-11-28T19:25:18.616Z"
   },
   {
    "duration": 377,
    "start_time": "2021-11-28T19:25:18.642Z"
   },
   {
    "duration": 203,
    "start_time": "2021-11-28T19:25:19.021Z"
   },
   {
    "duration": 199,
    "start_time": "2021-11-28T19:25:19.226Z"
   },
   {
    "duration": 69,
    "start_time": "2021-11-28T19:27:24.942Z"
   },
   {
    "duration": 82,
    "start_time": "2021-11-28T19:27:25.014Z"
   },
   {
    "duration": 16,
    "start_time": "2021-11-28T19:27:25.098Z"
   },
   {
    "duration": 15,
    "start_time": "2021-11-28T19:27:25.116Z"
   },
   {
    "duration": 13,
    "start_time": "2021-11-28T19:27:25.133Z"
   },
   {
    "duration": 15,
    "start_time": "2021-11-28T19:27:25.148Z"
   },
   {
    "duration": 45,
    "start_time": "2021-11-28T19:27:25.164Z"
   },
   {
    "duration": 15,
    "start_time": "2021-11-28T19:27:25.212Z"
   },
   {
    "duration": 29,
    "start_time": "2021-11-28T19:27:25.230Z"
   },
   {
    "duration": 6,
    "start_time": "2021-11-28T19:27:25.260Z"
   },
   {
    "duration": 44,
    "start_time": "2021-11-28T19:27:25.268Z"
   },
   {
    "duration": 6,
    "start_time": "2021-11-28T19:27:25.314Z"
   },
   {
    "duration": 14,
    "start_time": "2021-11-28T19:27:25.322Z"
   },
   {
    "duration": 5,
    "start_time": "2021-11-28T19:27:25.338Z"
   },
   {
    "duration": 9,
    "start_time": "2021-11-28T19:27:25.345Z"
   },
   {
    "duration": 11,
    "start_time": "2021-11-28T19:27:25.356Z"
   },
   {
    "duration": 37,
    "start_time": "2021-11-28T19:27:25.369Z"
   },
   {
    "duration": 10,
    "start_time": "2021-11-28T19:27:25.408Z"
   },
   {
    "duration": 7,
    "start_time": "2021-11-28T19:27:25.419Z"
   },
   {
    "duration": 15,
    "start_time": "2021-11-28T19:27:25.428Z"
   },
   {
    "duration": 14,
    "start_time": "2021-11-28T19:27:25.445Z"
   },
   {
    "duration": 12,
    "start_time": "2021-11-28T19:27:25.461Z"
   },
   {
    "duration": 10,
    "start_time": "2021-11-28T19:27:25.506Z"
   },
   {
    "duration": 7,
    "start_time": "2021-11-28T19:27:25.519Z"
   },
   {
    "duration": 22,
    "start_time": "2021-11-28T19:27:25.528Z"
   },
   {
    "duration": 10,
    "start_time": "2021-11-28T19:27:25.552Z"
   },
   {
    "duration": 5,
    "start_time": "2021-11-28T19:27:25.564Z"
   },
   {
    "duration": 38,
    "start_time": "2021-11-28T19:27:25.571Z"
   },
   {
    "duration": 21,
    "start_time": "2021-11-28T19:27:25.611Z"
   },
   {
    "duration": 17,
    "start_time": "2021-11-28T19:27:25.634Z"
   },
   {
    "duration": 9,
    "start_time": "2021-11-28T19:27:25.653Z"
   },
   {
    "duration": 10,
    "start_time": "2021-11-28T19:27:25.664Z"
   },
   {
    "duration": 31,
    "start_time": "2021-11-28T19:27:25.676Z"
   },
   {
    "duration": 2,
    "start_time": "2021-11-28T19:27:25.709Z"
   },
   {
    "duration": 9,
    "start_time": "2021-11-28T19:27:25.713Z"
   },
   {
    "duration": 9,
    "start_time": "2021-11-28T19:27:25.724Z"
   },
   {
    "duration": 10,
    "start_time": "2021-11-28T19:27:25.735Z"
   },
   {
    "duration": 8,
    "start_time": "2021-11-28T19:27:25.747Z"
   },
   {
    "duration": 26,
    "start_time": "2021-11-28T19:27:25.757Z"
   },
   {
    "duration": 224,
    "start_time": "2021-11-28T19:27:25.785Z"
   },
   {
    "duration": 219,
    "start_time": "2021-11-28T19:27:26.010Z"
   },
   {
    "duration": 10,
    "start_time": "2021-11-28T19:27:26.231Z"
   },
   {
    "duration": 219,
    "start_time": "2021-11-28T19:27:26.243Z"
   },
   {
    "duration": 24,
    "start_time": "2021-11-28T19:27:26.464Z"
   },
   {
    "duration": 889,
    "start_time": "2021-11-28T19:27:26.490Z"
   },
   {
    "duration": 16,
    "start_time": "2021-11-28T19:27:27.381Z"
   },
   {
    "duration": 428,
    "start_time": "2021-11-28T19:27:27.399Z"
   },
   {
    "duration": 383,
    "start_time": "2021-11-28T19:27:27.829Z"
   },
   {
    "duration": 25,
    "start_time": "2021-11-28T19:27:28.214Z"
   },
   {
    "duration": 24,
    "start_time": "2021-11-28T19:27:28.241Z"
   },
   {
    "duration": 4,
    "start_time": "2021-11-28T19:27:28.266Z"
   },
   {
    "duration": 38,
    "start_time": "2021-11-28T19:27:28.272Z"
   },
   {
    "duration": 8,
    "start_time": "2021-11-28T19:27:28.312Z"
   },
   {
    "duration": 191,
    "start_time": "2021-11-28T19:27:28.321Z"
   },
   {
    "duration": 284,
    "start_time": "2021-11-28T19:27:28.515Z"
   },
   {
    "duration": 234,
    "start_time": "2021-11-28T19:27:28.800Z"
   },
   {
    "duration": 270,
    "start_time": "2021-11-28T19:27:29.036Z"
   },
   {
    "duration": 13,
    "start_time": "2021-11-28T19:27:29.308Z"
   },
   {
    "duration": 27,
    "start_time": "2021-11-28T19:27:29.323Z"
   },
   {
    "duration": 312,
    "start_time": "2021-11-28T19:27:29.352Z"
   },
   {
    "duration": 174,
    "start_time": "2021-11-28T19:27:29.666Z"
   },
   {
    "duration": 178,
    "start_time": "2021-11-28T19:27:29.842Z"
   },
   {
    "duration": 71,
    "start_time": "2021-11-28T19:35:35.927Z"
   },
   {
    "duration": 61,
    "start_time": "2021-11-28T19:35:36.000Z"
   },
   {
    "duration": 1636,
    "start_time": "2021-11-28T19:35:38.492Z"
   },
   {
    "duration": 24,
    "start_time": "2021-11-28T19:35:54.440Z"
   },
   {
    "duration": 4,
    "start_time": "2021-11-28T19:37:57.790Z"
   },
   {
    "duration": 4,
    "start_time": "2021-11-28T19:38:10.637Z"
   },
   {
    "duration": 3,
    "start_time": "2021-11-28T19:38:41.347Z"
   },
   {
    "duration": 67,
    "start_time": "2021-11-28T20:07:44.635Z"
   },
   {
    "duration": 51,
    "start_time": "2021-11-28T20:07:44.704Z"
   },
   {
    "duration": 16,
    "start_time": "2021-11-28T20:07:44.757Z"
   },
   {
    "duration": 16,
    "start_time": "2021-11-28T20:07:44.775Z"
   },
   {
    "duration": 13,
    "start_time": "2021-11-28T20:07:44.793Z"
   },
   {
    "duration": 14,
    "start_time": "2021-11-28T20:07:44.808Z"
   },
   {
    "duration": 12,
    "start_time": "2021-11-28T20:07:44.823Z"
   },
   {
    "duration": 14,
    "start_time": "2021-11-28T20:07:44.838Z"
   },
   {
    "duration": 27,
    "start_time": "2021-11-28T20:07:44.854Z"
   },
   {
    "duration": 28,
    "start_time": "2021-11-28T20:07:44.882Z"
   },
   {
    "duration": 8,
    "start_time": "2021-11-28T20:07:44.911Z"
   },
   {
    "duration": 5,
    "start_time": "2021-11-28T20:07:44.921Z"
   },
   {
    "duration": 13,
    "start_time": "2021-11-28T20:07:44.928Z"
   },
   {
    "duration": 6,
    "start_time": "2021-11-28T20:07:44.943Z"
   },
   {
    "duration": 8,
    "start_time": "2021-11-28T20:07:44.950Z"
   },
   {
    "duration": 51,
    "start_time": "2021-11-28T20:07:44.960Z"
   },
   {
    "duration": 31,
    "start_time": "2021-11-28T20:07:45.013Z"
   },
   {
    "duration": 14,
    "start_time": "2021-11-28T20:07:45.045Z"
   },
   {
    "duration": 18,
    "start_time": "2021-11-28T20:07:45.061Z"
   },
   {
    "duration": 21,
    "start_time": "2021-11-28T20:07:45.080Z"
   },
   {
    "duration": 12,
    "start_time": "2021-11-28T20:07:45.102Z"
   },
   {
    "duration": 11,
    "start_time": "2021-11-28T20:07:45.115Z"
   },
   {
    "duration": 9,
    "start_time": "2021-11-28T20:07:45.130Z"
   },
   {
    "duration": 10,
    "start_time": "2021-11-28T20:07:45.142Z"
   },
   {
    "duration": 32,
    "start_time": "2021-11-28T20:07:45.154Z"
   },
   {
    "duration": 24,
    "start_time": "2021-11-28T20:07:45.187Z"
   },
   {
    "duration": 10,
    "start_time": "2021-11-28T20:07:45.213Z"
   },
   {
    "duration": 16,
    "start_time": "2021-11-28T20:07:45.225Z"
   },
   {
    "duration": 34,
    "start_time": "2021-11-28T20:07:45.243Z"
   },
   {
    "duration": 33,
    "start_time": "2021-11-28T20:07:45.278Z"
   },
   {
    "duration": 13,
    "start_time": "2021-11-28T20:07:45.313Z"
   },
   {
    "duration": 17,
    "start_time": "2021-11-28T20:07:45.328Z"
   },
   {
    "duration": 16,
    "start_time": "2021-11-28T20:07:45.347Z"
   },
   {
    "duration": 7,
    "start_time": "2021-11-28T20:07:45.365Z"
   },
   {
    "duration": 11,
    "start_time": "2021-11-28T20:07:45.374Z"
   },
   {
    "duration": 12,
    "start_time": "2021-11-28T20:07:45.387Z"
   },
   {
    "duration": 14,
    "start_time": "2021-11-28T20:07:45.400Z"
   },
   {
    "duration": 11,
    "start_time": "2021-11-28T20:07:45.416Z"
   },
   {
    "duration": 15,
    "start_time": "2021-11-28T20:07:45.428Z"
   },
   {
    "duration": 26,
    "start_time": "2021-11-28T20:07:45.445Z"
   },
   {
    "duration": 189,
    "start_time": "2021-11-28T20:07:45.472Z"
   },
   {
    "duration": 268,
    "start_time": "2021-11-28T20:07:45.662Z"
   },
   {
    "duration": 10,
    "start_time": "2021-11-28T20:07:45.932Z"
   },
   {
    "duration": 209,
    "start_time": "2021-11-28T20:07:45.943Z"
   },
   {
    "duration": 23,
    "start_time": "2021-11-28T20:07:46.154Z"
   },
   {
    "duration": 846,
    "start_time": "2021-11-28T20:07:46.179Z"
   },
   {
    "duration": 16,
    "start_time": "2021-11-28T20:07:47.027Z"
   },
   {
    "duration": 338,
    "start_time": "2021-11-28T20:07:47.045Z"
   },
   {
    "duration": 330,
    "start_time": "2021-11-28T20:07:47.385Z"
   },
   {
    "duration": 28,
    "start_time": "2021-11-28T20:07:47.718Z"
   },
   {
    "duration": 26,
    "start_time": "2021-11-28T20:07:47.748Z"
   },
   {
    "duration": 33,
    "start_time": "2021-11-28T20:07:47.776Z"
   },
   {
    "duration": 9,
    "start_time": "2021-11-28T20:07:47.811Z"
   },
   {
    "duration": 5,
    "start_time": "2021-11-28T20:07:47.822Z"
   },
   {
    "duration": 203,
    "start_time": "2021-11-28T20:07:47.828Z"
   },
   {
    "duration": 275,
    "start_time": "2021-11-28T20:07:48.033Z"
   },
   {
    "duration": 334,
    "start_time": "2021-11-28T20:07:48.310Z"
   },
   {
    "duration": 400,
    "start_time": "2021-11-28T20:07:48.646Z"
   },
   {
    "duration": 13,
    "start_time": "2021-11-28T20:07:49.048Z"
   },
   {
    "duration": 24,
    "start_time": "2021-11-28T20:07:49.063Z"
   },
   {
    "duration": 424,
    "start_time": "2021-11-28T20:07:49.088Z"
   },
   {
    "duration": 184,
    "start_time": "2021-11-28T20:07:49.514Z"
   },
   {
    "duration": 182,
    "start_time": "2021-11-28T20:07:49.700Z"
   },
   {
    "duration": 70,
    "start_time": "2021-11-28T20:09:02.688Z"
   },
   {
    "duration": 52,
    "start_time": "2021-11-28T20:09:02.760Z"
   },
   {
    "duration": 17,
    "start_time": "2021-11-28T20:09:02.815Z"
   },
   {
    "duration": 29,
    "start_time": "2021-11-28T20:09:02.834Z"
   },
   {
    "duration": 12,
    "start_time": "2021-11-28T20:09:02.865Z"
   },
   {
    "duration": 12,
    "start_time": "2021-11-28T20:09:02.879Z"
   },
   {
    "duration": 20,
    "start_time": "2021-11-28T20:09:02.892Z"
   },
   {
    "duration": 19,
    "start_time": "2021-11-28T20:09:02.914Z"
   },
   {
    "duration": 28,
    "start_time": "2021-11-28T20:09:02.936Z"
   },
   {
    "duration": 6,
    "start_time": "2021-11-28T20:09:02.965Z"
   },
   {
    "duration": 36,
    "start_time": "2021-11-28T20:09:02.972Z"
   },
   {
    "duration": 6,
    "start_time": "2021-11-28T20:09:03.010Z"
   },
   {
    "duration": 15,
    "start_time": "2021-11-28T20:09:03.018Z"
   },
   {
    "duration": 5,
    "start_time": "2021-11-28T20:09:03.035Z"
   },
   {
    "duration": 11,
    "start_time": "2021-11-28T20:09:03.041Z"
   },
   {
    "duration": 12,
    "start_time": "2021-11-28T20:09:03.053Z"
   },
   {
    "duration": 9,
    "start_time": "2021-11-28T20:09:03.067Z"
   },
   {
    "duration": 34,
    "start_time": "2021-11-28T20:09:03.077Z"
   },
   {
    "duration": 8,
    "start_time": "2021-11-28T20:09:03.113Z"
   },
   {
    "duration": 20,
    "start_time": "2021-11-28T20:09:03.122Z"
   },
   {
    "duration": 19,
    "start_time": "2021-11-28T20:09:03.144Z"
   },
   {
    "duration": 21,
    "start_time": "2021-11-28T20:09:03.165Z"
   },
   {
    "duration": 17,
    "start_time": "2021-11-28T20:09:03.190Z"
   },
   {
    "duration": 17,
    "start_time": "2021-11-28T20:09:03.208Z"
   },
   {
    "duration": 20,
    "start_time": "2021-11-28T20:09:03.226Z"
   },
   {
    "duration": 9,
    "start_time": "2021-11-28T20:09:03.248Z"
   },
   {
    "duration": 4,
    "start_time": "2021-11-28T20:09:03.259Z"
   },
   {
    "duration": 8,
    "start_time": "2021-11-28T20:09:03.264Z"
   },
   {
    "duration": 18,
    "start_time": "2021-11-28T20:09:05.853Z"
   },
   {
    "duration": 71,
    "start_time": "2021-11-28T20:09:41.239Z"
   },
   {
    "duration": 50,
    "start_time": "2021-11-28T20:09:41.312Z"
   },
   {
    "duration": 21,
    "start_time": "2021-11-28T20:09:41.364Z"
   },
   {
    "duration": 16,
    "start_time": "2021-11-28T20:09:41.387Z"
   },
   {
    "duration": 12,
    "start_time": "2021-11-28T20:09:41.405Z"
   },
   {
    "duration": 11,
    "start_time": "2021-11-28T20:09:41.419Z"
   },
   {
    "duration": 11,
    "start_time": "2021-11-28T20:09:41.432Z"
   },
   {
    "duration": 17,
    "start_time": "2021-11-28T20:09:41.447Z"
   },
   {
    "duration": 49,
    "start_time": "2021-11-28T20:09:41.467Z"
   },
   {
    "duration": 6,
    "start_time": "2021-11-28T20:09:41.518Z"
   },
   {
    "duration": 13,
    "start_time": "2021-11-28T20:09:41.526Z"
   },
   {
    "duration": 7,
    "start_time": "2021-11-28T20:09:41.541Z"
   },
   {
    "duration": 19,
    "start_time": "2021-11-28T20:09:41.549Z"
   },
   {
    "duration": 5,
    "start_time": "2021-11-28T20:09:41.569Z"
   },
   {
    "duration": 8,
    "start_time": "2021-11-28T20:09:41.575Z"
   },
   {
    "duration": 26,
    "start_time": "2021-11-28T20:09:41.584Z"
   },
   {
    "duration": 9,
    "start_time": "2021-11-28T20:09:41.612Z"
   },
   {
    "duration": 9,
    "start_time": "2021-11-28T20:09:41.622Z"
   },
   {
    "duration": 11,
    "start_time": "2021-11-28T20:09:41.632Z"
   },
   {
    "duration": 11,
    "start_time": "2021-11-28T20:09:41.644Z"
   },
   {
    "duration": 13,
    "start_time": "2021-11-28T20:09:41.657Z"
   },
   {
    "duration": 44,
    "start_time": "2021-11-28T20:09:41.671Z"
   },
   {
    "duration": 10,
    "start_time": "2021-11-28T20:09:41.718Z"
   },
   {
    "duration": 5,
    "start_time": "2021-11-28T20:09:41.730Z"
   },
   {
    "duration": 18,
    "start_time": "2021-11-28T20:09:41.737Z"
   },
   {
    "duration": 11,
    "start_time": "2021-11-28T20:09:41.757Z"
   },
   {
    "duration": 38,
    "start_time": "2021-11-28T20:09:41.770Z"
   },
   {
    "duration": 7,
    "start_time": "2021-11-28T20:09:41.810Z"
   },
   {
    "duration": 17,
    "start_time": "2021-11-28T20:09:43.854Z"
   },
   {
    "duration": 70,
    "start_time": "2021-11-28T20:10:33.041Z"
   },
   {
    "duration": 51,
    "start_time": "2021-11-28T20:10:33.113Z"
   },
   {
    "duration": 17,
    "start_time": "2021-11-28T20:10:33.166Z"
   },
   {
    "duration": 16,
    "start_time": "2021-11-28T20:10:33.185Z"
   },
   {
    "duration": 14,
    "start_time": "2021-11-28T20:10:33.203Z"
   },
   {
    "duration": 11,
    "start_time": "2021-11-28T20:10:33.219Z"
   },
   {
    "duration": 12,
    "start_time": "2021-11-28T20:10:33.232Z"
   },
   {
    "duration": 16,
    "start_time": "2021-11-28T20:10:33.247Z"
   },
   {
    "duration": 56,
    "start_time": "2021-11-28T20:10:33.265Z"
   },
   {
    "duration": 5,
    "start_time": "2021-11-28T20:10:33.323Z"
   },
   {
    "duration": 13,
    "start_time": "2021-11-28T20:10:33.330Z"
   },
   {
    "duration": 7,
    "start_time": "2021-11-28T20:10:33.345Z"
   },
   {
    "duration": 26,
    "start_time": "2021-11-28T20:10:33.353Z"
   },
   {
    "duration": 9,
    "start_time": "2021-11-28T20:10:33.381Z"
   },
   {
    "duration": 18,
    "start_time": "2021-11-28T20:10:33.391Z"
   },
   {
    "duration": 9,
    "start_time": "2021-11-28T20:10:33.411Z"
   },
   {
    "duration": 13,
    "start_time": "2021-11-28T20:10:33.422Z"
   },
   {
    "duration": 13,
    "start_time": "2021-11-28T20:10:33.437Z"
   },
   {
    "duration": 6,
    "start_time": "2021-11-28T20:10:33.452Z"
   },
   {
    "duration": 10,
    "start_time": "2021-11-28T20:10:33.460Z"
   },
   {
    "duration": 46,
    "start_time": "2021-11-28T20:10:33.472Z"
   },
   {
    "duration": 17,
    "start_time": "2021-11-28T20:10:33.520Z"
   },
   {
    "duration": 11,
    "start_time": "2021-11-28T20:10:33.540Z"
   },
   {
    "duration": 7,
    "start_time": "2021-11-28T20:10:33.552Z"
   },
   {
    "duration": 28,
    "start_time": "2021-11-28T20:10:33.561Z"
   },
   {
    "duration": 11,
    "start_time": "2021-11-28T20:10:33.607Z"
   },
   {
    "duration": 12,
    "start_time": "2021-11-28T20:10:33.620Z"
   },
   {
    "duration": 7,
    "start_time": "2021-11-28T20:10:33.634Z"
   },
   {
    "duration": 18,
    "start_time": "2021-11-28T20:10:36.586Z"
   },
   {
    "duration": 69,
    "start_time": "2021-11-28T20:11:46.098Z"
   },
   {
    "duration": 41,
    "start_time": "2021-11-28T20:11:46.169Z"
   },
   {
    "duration": 19,
    "start_time": "2021-11-28T20:11:46.212Z"
   },
   {
    "duration": 24,
    "start_time": "2021-11-28T20:11:46.233Z"
   },
   {
    "duration": 14,
    "start_time": "2021-11-28T20:11:46.259Z"
   },
   {
    "duration": 32,
    "start_time": "2021-11-28T20:11:46.274Z"
   },
   {
    "duration": 13,
    "start_time": "2021-11-28T20:11:46.308Z"
   },
   {
    "duration": 22,
    "start_time": "2021-11-28T20:11:46.324Z"
   },
   {
    "duration": 26,
    "start_time": "2021-11-28T20:11:46.348Z"
   },
   {
    "duration": 30,
    "start_time": "2021-11-28T20:11:46.376Z"
   },
   {
    "duration": 8,
    "start_time": "2021-11-28T20:11:46.408Z"
   },
   {
    "duration": 11,
    "start_time": "2021-11-28T20:11:46.418Z"
   },
   {
    "duration": 20,
    "start_time": "2021-11-28T20:11:46.430Z"
   },
   {
    "duration": 5,
    "start_time": "2021-11-28T20:11:46.452Z"
   },
   {
    "duration": 10,
    "start_time": "2021-11-28T20:11:46.459Z"
   },
   {
    "duration": 12,
    "start_time": "2021-11-28T20:11:46.470Z"
   },
   {
    "duration": 22,
    "start_time": "2021-11-28T20:11:46.484Z"
   },
   {
    "duration": 11,
    "start_time": "2021-11-28T20:11:46.508Z"
   },
   {
    "duration": 9,
    "start_time": "2021-11-28T20:11:46.521Z"
   },
   {
    "duration": 12,
    "start_time": "2021-11-28T20:11:46.532Z"
   },
   {
    "duration": 12,
    "start_time": "2021-11-28T20:11:46.546Z"
   },
   {
    "duration": 14,
    "start_time": "2021-11-28T20:11:46.560Z"
   },
   {
    "duration": 35,
    "start_time": "2021-11-28T20:11:46.577Z"
   },
   {
    "duration": 5,
    "start_time": "2021-11-28T20:11:46.614Z"
   },
   {
    "duration": 21,
    "start_time": "2021-11-28T20:11:46.620Z"
   },
   {
    "duration": 10,
    "start_time": "2021-11-28T20:11:46.642Z"
   },
   {
    "duration": 4,
    "start_time": "2021-11-28T20:11:46.653Z"
   },
   {
    "duration": 6,
    "start_time": "2021-11-28T20:11:46.659Z"
   },
   {
    "duration": 27,
    "start_time": "2021-11-28T20:11:49.496Z"
   },
   {
    "duration": 5,
    "start_time": "2021-11-28T20:25:05.584Z"
   },
   {
    "duration": 20,
    "start_time": "2021-11-28T20:25:05.593Z"
   },
   {
    "duration": 42,
    "start_time": "2021-11-28T20:25:05.616Z"
   },
   {
    "duration": 12,
    "start_time": "2021-11-28T20:25:05.660Z"
   },
   {
    "duration": 29,
    "start_time": "2021-11-28T20:25:05.675Z"
   },
   {
    "duration": 33,
    "start_time": "2021-11-28T20:25:05.706Z"
   },
   {
    "duration": 31,
    "start_time": "2021-11-28T20:25:05.741Z"
   },
   {
    "duration": 31,
    "start_time": "2021-11-28T20:25:05.774Z"
   },
   {
    "duration": 19,
    "start_time": "2021-11-28T20:25:05.808Z"
   },
   {
    "duration": 30,
    "start_time": "2021-11-28T20:25:05.830Z"
   },
   {
    "duration": 195,
    "start_time": "2021-11-28T20:25:05.862Z"
   },
   {
    "duration": 212,
    "start_time": "2021-11-28T20:25:06.058Z"
   },
   {
    "duration": 11,
    "start_time": "2021-11-28T20:25:06.273Z"
   },
   {
    "duration": 220,
    "start_time": "2021-11-28T20:25:06.286Z"
   },
   {
    "duration": 25,
    "start_time": "2021-11-28T20:25:06.509Z"
   },
   {
    "duration": 894,
    "start_time": "2021-11-28T20:25:06.536Z"
   },
   {
    "duration": 17,
    "start_time": "2021-11-28T20:25:07.433Z"
   },
   {
    "duration": 350,
    "start_time": "2021-11-28T20:25:07.452Z"
   },
   {
    "duration": 339,
    "start_time": "2021-11-28T20:25:07.806Z"
   },
   {
    "duration": 29,
    "start_time": "2021-11-28T20:25:08.146Z"
   },
   {
    "duration": 41,
    "start_time": "2021-11-28T20:25:08.176Z"
   },
   {
    "duration": 3,
    "start_time": "2021-11-28T20:25:08.219Z"
   },
   {
    "duration": 9,
    "start_time": "2021-11-28T20:25:08.224Z"
   },
   {
    "duration": 5,
    "start_time": "2021-11-28T20:25:08.236Z"
   },
   {
    "duration": 213,
    "start_time": "2021-11-28T20:25:08.243Z"
   },
   {
    "duration": 304,
    "start_time": "2021-11-28T20:25:08.458Z"
   },
   {
    "duration": 383,
    "start_time": "2021-11-28T20:25:08.765Z"
   },
   {
    "duration": 282,
    "start_time": "2021-11-28T20:25:09.151Z"
   },
   {
    "duration": 13,
    "start_time": "2021-11-28T20:25:09.435Z"
   },
   {
    "duration": 29,
    "start_time": "2021-11-28T20:25:09.449Z"
   },
   {
    "duration": 336,
    "start_time": "2021-11-28T20:25:09.479Z"
   },
   {
    "duration": 194,
    "start_time": "2021-11-28T20:25:09.818Z"
   },
   {
    "duration": 191,
    "start_time": "2021-11-28T20:25:10.014Z"
   },
   {
    "duration": 67,
    "start_time": "2021-11-28T20:25:16.871Z"
   },
   {
    "duration": 40,
    "start_time": "2021-11-28T20:25:16.940Z"
   },
   {
    "duration": 20,
    "start_time": "2021-11-28T20:25:16.982Z"
   },
   {
    "duration": 20,
    "start_time": "2021-11-28T20:25:17.004Z"
   },
   {
    "duration": 17,
    "start_time": "2021-11-28T20:25:17.026Z"
   },
   {
    "duration": 14,
    "start_time": "2021-11-28T20:25:17.045Z"
   },
   {
    "duration": 11,
    "start_time": "2021-11-28T20:25:17.061Z"
   },
   {
    "duration": 34,
    "start_time": "2021-11-28T20:25:17.075Z"
   },
   {
    "duration": 29,
    "start_time": "2021-11-28T20:25:17.112Z"
   },
   {
    "duration": 5,
    "start_time": "2021-11-28T20:25:17.143Z"
   },
   {
    "duration": 10,
    "start_time": "2021-11-28T20:25:17.150Z"
   },
   {
    "duration": 6,
    "start_time": "2021-11-28T20:25:17.161Z"
   },
   {
    "duration": 46,
    "start_time": "2021-11-28T20:25:17.168Z"
   },
   {
    "duration": 5,
    "start_time": "2021-11-28T20:25:17.216Z"
   },
   {
    "duration": 8,
    "start_time": "2021-11-28T20:25:17.222Z"
   },
   {
    "duration": 12,
    "start_time": "2021-11-28T20:25:17.232Z"
   },
   {
    "duration": 14,
    "start_time": "2021-11-28T20:25:17.246Z"
   },
   {
    "duration": 12,
    "start_time": "2021-11-28T20:25:17.261Z"
   },
   {
    "duration": 6,
    "start_time": "2021-11-28T20:25:17.275Z"
   },
   {
    "duration": 33,
    "start_time": "2021-11-28T20:25:17.283Z"
   },
   {
    "duration": 15,
    "start_time": "2021-11-28T20:25:17.318Z"
   },
   {
    "duration": 14,
    "start_time": "2021-11-28T20:25:17.335Z"
   },
   {
    "duration": 10,
    "start_time": "2021-11-28T20:25:17.354Z"
   },
   {
    "duration": 41,
    "start_time": "2021-11-28T20:25:17.367Z"
   },
   {
    "duration": 21,
    "start_time": "2021-11-28T20:25:17.410Z"
   },
   {
    "duration": 21,
    "start_time": "2021-11-28T20:25:17.433Z"
   },
   {
    "duration": 6,
    "start_time": "2021-11-28T20:25:17.455Z"
   },
   {
    "duration": 7,
    "start_time": "2021-11-28T20:25:17.462Z"
   },
   {
    "duration": 45,
    "start_time": "2021-11-28T20:25:17.470Z"
   },
   {
    "duration": 7,
    "start_time": "2021-11-28T20:25:17.516Z"
   },
   {
    "duration": 4,
    "start_time": "2021-11-28T20:25:17.525Z"
   },
   {
    "duration": 8,
    "start_time": "2021-11-28T20:25:17.531Z"
   },
   {
    "duration": 10,
    "start_time": "2021-11-28T20:25:17.541Z"
   },
   {
    "duration": 4,
    "start_time": "2021-11-28T20:25:17.553Z"
   },
   {
    "duration": 6,
    "start_time": "2021-11-28T20:25:17.558Z"
   },
   {
    "duration": 12,
    "start_time": "2021-11-28T20:25:17.565Z"
   },
   {
    "duration": 32,
    "start_time": "2021-11-28T20:25:17.579Z"
   },
   {
    "duration": 18,
    "start_time": "2021-11-28T20:25:17.613Z"
   },
   {
    "duration": 4,
    "start_time": "2021-11-28T20:25:17.633Z"
   },
   {
    "duration": 41,
    "start_time": "2021-11-28T20:25:17.639Z"
   },
   {
    "duration": 188,
    "start_time": "2021-11-28T20:25:17.682Z"
   },
   {
    "duration": 198,
    "start_time": "2021-11-28T20:25:17.871Z"
   },
   {
    "duration": 10,
    "start_time": "2021-11-28T20:25:18.070Z"
   },
   {
    "duration": 203,
    "start_time": "2021-11-28T20:25:18.082Z"
   },
   {
    "duration": 31,
    "start_time": "2021-11-28T20:25:18.287Z"
   },
   {
    "duration": 854,
    "start_time": "2021-11-28T20:25:18.320Z"
   },
   {
    "duration": 16,
    "start_time": "2021-11-28T20:25:19.176Z"
   },
   {
    "duration": 340,
    "start_time": "2021-11-28T20:25:19.193Z"
   },
   {
    "duration": 337,
    "start_time": "2021-11-28T20:25:19.535Z"
   },
   {
    "duration": 41,
    "start_time": "2021-11-28T20:25:19.873Z"
   },
   {
    "duration": 26,
    "start_time": "2021-11-28T20:25:19.917Z"
   },
   {
    "duration": 4,
    "start_time": "2021-11-28T20:25:19.946Z"
   },
   {
    "duration": 10,
    "start_time": "2021-11-28T20:25:19.952Z"
   },
   {
    "duration": 6,
    "start_time": "2021-11-28T20:25:19.963Z"
   },
   {
    "duration": 366,
    "start_time": "2021-11-28T20:25:19.971Z"
   },
   {
    "duration": 520,
    "start_time": "2021-11-28T20:25:20.339Z"
   },
   {
    "duration": 253,
    "start_time": "2021-11-28T20:25:20.861Z"
   },
   {
    "duration": 292,
    "start_time": "2021-11-28T20:25:21.116Z"
   },
   {
    "duration": 13,
    "start_time": "2021-11-28T20:25:21.410Z"
   },
   {
    "duration": 31,
    "start_time": "2021-11-28T20:25:21.425Z"
   },
   {
    "duration": 329,
    "start_time": "2021-11-28T20:25:21.458Z"
   },
   {
    "duration": 191,
    "start_time": "2021-11-28T20:25:21.788Z"
   },
   {
    "duration": 186,
    "start_time": "2021-11-28T20:25:21.981Z"
   },
   {
    "duration": 5,
    "start_time": "2021-11-28T20:25:39.758Z"
   },
   {
    "duration": 78,
    "start_time": "2021-11-28T20:26:16.148Z"
   },
   {
    "duration": 41,
    "start_time": "2021-11-28T20:26:16.229Z"
   },
   {
    "duration": 17,
    "start_time": "2021-11-28T20:26:16.273Z"
   },
   {
    "duration": 24,
    "start_time": "2021-11-28T20:26:16.293Z"
   },
   {
    "duration": 12,
    "start_time": "2021-11-28T20:26:16.319Z"
   },
   {
    "duration": 12,
    "start_time": "2021-11-28T20:26:16.333Z"
   },
   {
    "duration": 14,
    "start_time": "2021-11-28T20:26:16.347Z"
   },
   {
    "duration": 44,
    "start_time": "2021-11-28T20:26:16.364Z"
   },
   {
    "duration": 25,
    "start_time": "2021-11-28T20:26:16.410Z"
   },
   {
    "duration": 6,
    "start_time": "2021-11-28T20:26:16.437Z"
   },
   {
    "duration": 10,
    "start_time": "2021-11-28T20:26:16.445Z"
   },
   {
    "duration": 9,
    "start_time": "2021-11-28T20:26:16.457Z"
   },
   {
    "duration": 39,
    "start_time": "2021-11-28T20:26:16.468Z"
   },
   {
    "duration": 5,
    "start_time": "2021-11-28T20:26:16.509Z"
   },
   {
    "duration": 10,
    "start_time": "2021-11-28T20:26:16.516Z"
   },
   {
    "duration": 11,
    "start_time": "2021-11-28T20:26:16.528Z"
   },
   {
    "duration": 8,
    "start_time": "2021-11-28T20:26:16.541Z"
   },
   {
    "duration": 9,
    "start_time": "2021-11-28T20:26:16.551Z"
   },
   {
    "duration": 5,
    "start_time": "2021-11-28T20:26:16.562Z"
   },
   {
    "duration": 46,
    "start_time": "2021-11-28T20:26:16.569Z"
   },
   {
    "duration": 13,
    "start_time": "2021-11-28T20:26:16.617Z"
   },
   {
    "duration": 12,
    "start_time": "2021-11-28T20:26:16.632Z"
   },
   {
    "duration": 9,
    "start_time": "2021-11-28T20:26:16.647Z"
   },
   {
    "duration": 6,
    "start_time": "2021-11-28T20:26:16.658Z"
   },
   {
    "duration": 50,
    "start_time": "2021-11-28T20:26:16.665Z"
   },
   {
    "duration": 16,
    "start_time": "2021-11-28T20:26:16.717Z"
   },
   {
    "duration": 5,
    "start_time": "2021-11-28T20:26:16.735Z"
   },
   {
    "duration": 8,
    "start_time": "2021-11-28T20:26:16.742Z"
   },
   {
    "duration": 28,
    "start_time": "2021-11-28T20:26:16.751Z"
   },
   {
    "duration": 27,
    "start_time": "2021-11-28T20:26:16.781Z"
   },
   {
    "duration": 3,
    "start_time": "2021-11-28T20:26:16.810Z"
   },
   {
    "duration": 4,
    "start_time": "2021-11-28T20:26:19.308Z"
   },
   {
    "duration": 5,
    "start_time": "2021-11-28T20:26:20.450Z"
   },
   {
    "duration": 8,
    "start_time": "2021-11-28T20:29:26.972Z"
   },
   {
    "duration": 6,
    "start_time": "2021-11-28T20:29:46.398Z"
   },
   {
    "duration": 6,
    "start_time": "2021-11-28T20:30:04.475Z"
   },
   {
    "duration": 5,
    "start_time": "2021-11-28T20:30:14.503Z"
   },
   {
    "duration": 8,
    "start_time": "2021-11-28T20:31:55.341Z"
   },
   {
    "duration": 5,
    "start_time": "2021-11-28T20:31:56.289Z"
   },
   {
    "duration": 6,
    "start_time": "2021-11-28T20:32:01.206Z"
   },
   {
    "duration": 5,
    "start_time": "2021-11-28T20:32:28.005Z"
   },
   {
    "duration": 8,
    "start_time": "2021-11-28T20:37:01.235Z"
   },
   {
    "duration": 5,
    "start_time": "2021-11-28T20:37:02.178Z"
   },
   {
    "duration": 4,
    "start_time": "2021-11-28T20:37:13.039Z"
   },
   {
    "duration": 361,
    "start_time": "2021-11-28T20:39:45.626Z"
   },
   {
    "duration": 5,
    "start_time": "2021-11-28T20:40:51.113Z"
   },
   {
    "duration": 24,
    "start_time": "2021-11-28T20:40:53.515Z"
   },
   {
    "duration": 8,
    "start_time": "2021-11-28T20:41:26.314Z"
   },
   {
    "duration": 70,
    "start_time": "2021-11-28T20:41:33.872Z"
   },
   {
    "duration": 41,
    "start_time": "2021-11-28T20:41:33.944Z"
   },
   {
    "duration": 16,
    "start_time": "2021-11-28T20:41:33.987Z"
   },
   {
    "duration": 16,
    "start_time": "2021-11-28T20:41:34.006Z"
   },
   {
    "duration": 13,
    "start_time": "2021-11-28T20:41:34.023Z"
   },
   {
    "duration": 11,
    "start_time": "2021-11-28T20:41:34.038Z"
   },
   {
    "duration": 11,
    "start_time": "2021-11-28T20:41:34.051Z"
   },
   {
    "duration": 52,
    "start_time": "2021-11-28T20:41:34.065Z"
   },
   {
    "duration": 38,
    "start_time": "2021-11-28T20:41:34.119Z"
   },
   {
    "duration": 5,
    "start_time": "2021-11-28T20:41:34.159Z"
   },
   {
    "duration": 10,
    "start_time": "2021-11-28T20:41:34.165Z"
   },
   {
    "duration": 5,
    "start_time": "2021-11-28T20:41:34.177Z"
   },
   {
    "duration": 33,
    "start_time": "2021-11-28T20:41:34.184Z"
   },
   {
    "duration": 6,
    "start_time": "2021-11-28T20:41:34.219Z"
   },
   {
    "duration": 7,
    "start_time": "2021-11-28T20:41:34.227Z"
   },
   {
    "duration": 10,
    "start_time": "2021-11-28T20:41:34.236Z"
   },
   {
    "duration": 11,
    "start_time": "2021-11-28T20:41:34.248Z"
   },
   {
    "duration": 10,
    "start_time": "2021-11-28T20:41:34.260Z"
   },
   {
    "duration": 7,
    "start_time": "2021-11-28T20:41:34.306Z"
   },
   {
    "duration": 16,
    "start_time": "2021-11-28T20:41:34.315Z"
   },
   {
    "duration": 12,
    "start_time": "2021-11-28T20:41:34.333Z"
   },
   {
    "duration": 13,
    "start_time": "2021-11-28T20:41:34.347Z"
   },
   {
    "duration": 42,
    "start_time": "2021-11-28T20:41:34.364Z"
   },
   {
    "duration": 9,
    "start_time": "2021-11-28T20:41:34.408Z"
   },
   {
    "duration": 21,
    "start_time": "2021-11-28T20:41:34.418Z"
   },
   {
    "duration": 9,
    "start_time": "2021-11-28T20:41:34.441Z"
   },
   {
    "duration": 6,
    "start_time": "2021-11-28T20:41:34.452Z"
   },
   {
    "duration": 8,
    "start_time": "2021-11-28T20:41:34.459Z"
   },
   {
    "duration": 55,
    "start_time": "2021-11-28T20:41:34.468Z"
   },
   {
    "duration": 6,
    "start_time": "2021-11-28T20:41:34.525Z"
   },
   {
    "duration": 14,
    "start_time": "2021-11-28T20:41:34.533Z"
   },
   {
    "duration": 3,
    "start_time": "2021-11-28T20:41:34.549Z"
   },
   {
    "duration": 8,
    "start_time": "2021-11-28T20:41:34.554Z"
   },
   {
    "duration": 10,
    "start_time": "2021-11-28T20:41:34.564Z"
   },
   {
    "duration": 5,
    "start_time": "2021-11-28T20:41:37.558Z"
   },
   {
    "duration": 8,
    "start_time": "2021-11-28T20:41:38.770Z"
   },
   {
    "duration": 92,
    "start_time": "2021-11-28T20:41:56.048Z"
   },
   {
    "duration": 42,
    "start_time": "2021-11-28T20:41:56.143Z"
   },
   {
    "duration": 20,
    "start_time": "2021-11-28T20:41:56.188Z"
   },
   {
    "duration": 17,
    "start_time": "2021-11-28T20:41:56.210Z"
   },
   {
    "duration": 14,
    "start_time": "2021-11-28T20:41:56.230Z"
   },
   {
    "duration": 13,
    "start_time": "2021-11-28T20:41:56.246Z"
   },
   {
    "duration": 15,
    "start_time": "2021-11-28T20:41:56.261Z"
   },
   {
    "duration": 17,
    "start_time": "2021-11-28T20:41:56.308Z"
   },
   {
    "duration": 31,
    "start_time": "2021-11-28T20:41:56.327Z"
   },
   {
    "duration": 5,
    "start_time": "2021-11-28T20:41:56.360Z"
   },
   {
    "duration": 10,
    "start_time": "2021-11-28T20:41:56.367Z"
   },
   {
    "duration": 6,
    "start_time": "2021-11-28T20:41:56.379Z"
   },
   {
    "duration": 11,
    "start_time": "2021-11-28T20:41:56.407Z"
   },
   {
    "duration": 5,
    "start_time": "2021-11-28T20:41:56.419Z"
   },
   {
    "duration": 14,
    "start_time": "2021-11-28T20:41:56.425Z"
   },
   {
    "duration": 14,
    "start_time": "2021-11-28T20:41:56.441Z"
   },
   {
    "duration": 8,
    "start_time": "2021-11-28T20:41:56.457Z"
   },
   {
    "duration": 10,
    "start_time": "2021-11-28T20:41:56.466Z"
   },
   {
    "duration": 31,
    "start_time": "2021-11-28T20:41:56.478Z"
   },
   {
    "duration": 20,
    "start_time": "2021-11-28T20:41:56.511Z"
   },
   {
    "duration": 19,
    "start_time": "2021-11-28T20:41:56.533Z"
   },
   {
    "duration": 11,
    "start_time": "2021-11-28T20:41:56.554Z"
   },
   {
    "duration": 10,
    "start_time": "2021-11-28T20:41:56.568Z"
   },
   {
    "duration": 57,
    "start_time": "2021-11-28T20:41:56.580Z"
   },
   {
    "duration": 45,
    "start_time": "2021-11-28T20:41:56.639Z"
   },
   {
    "duration": 12,
    "start_time": "2021-11-28T20:41:56.686Z"
   },
   {
    "duration": 17,
    "start_time": "2021-11-28T20:41:56.700Z"
   },
   {
    "duration": 11,
    "start_time": "2021-11-28T20:41:56.719Z"
   },
   {
    "duration": 30,
    "start_time": "2021-11-28T20:41:56.732Z"
   },
   {
    "duration": 7,
    "start_time": "2021-11-28T20:41:56.764Z"
   },
   {
    "duration": 21,
    "start_time": "2021-11-28T20:41:56.772Z"
   },
   {
    "duration": 7,
    "start_time": "2021-11-28T20:41:56.795Z"
   },
   {
    "duration": 7,
    "start_time": "2021-11-28T20:41:56.804Z"
   },
   {
    "duration": 7,
    "start_time": "2021-11-28T20:41:56.812Z"
   },
   {
    "duration": 5,
    "start_time": "2021-11-28T20:41:59.082Z"
   },
   {
    "duration": 7,
    "start_time": "2021-11-28T20:41:59.943Z"
   },
   {
    "duration": 69,
    "start_time": "2021-11-28T20:46:57.921Z"
   },
   {
    "duration": 42,
    "start_time": "2021-11-28T20:46:57.993Z"
   },
   {
    "duration": 17,
    "start_time": "2021-11-28T20:46:58.038Z"
   },
   {
    "duration": 16,
    "start_time": "2021-11-28T20:46:58.057Z"
   },
   {
    "duration": 15,
    "start_time": "2021-11-28T20:46:58.076Z"
   },
   {
    "duration": 13,
    "start_time": "2021-11-28T20:46:58.107Z"
   },
   {
    "duration": 12,
    "start_time": "2021-11-28T20:46:58.122Z"
   },
   {
    "duration": 16,
    "start_time": "2021-11-28T20:46:58.136Z"
   },
   {
    "duration": 52,
    "start_time": "2021-11-28T20:46:58.155Z"
   },
   {
    "duration": 6,
    "start_time": "2021-11-28T20:46:58.209Z"
   },
   {
    "duration": 7,
    "start_time": "2021-11-28T20:46:58.216Z"
   },
   {
    "duration": 5,
    "start_time": "2021-11-28T20:46:58.225Z"
   },
   {
    "duration": 14,
    "start_time": "2021-11-28T20:46:58.232Z"
   },
   {
    "duration": 4,
    "start_time": "2021-11-28T20:46:58.248Z"
   },
   {
    "duration": 9,
    "start_time": "2021-11-28T20:46:58.254Z"
   },
   {
    "duration": 43,
    "start_time": "2021-11-28T20:46:58.264Z"
   },
   {
    "duration": 9,
    "start_time": "2021-11-28T20:46:58.309Z"
   },
   {
    "duration": 9,
    "start_time": "2021-11-28T20:46:58.319Z"
   },
   {
    "duration": 6,
    "start_time": "2021-11-28T20:46:58.329Z"
   },
   {
    "duration": 12,
    "start_time": "2021-11-28T20:46:58.336Z"
   },
   {
    "duration": 14,
    "start_time": "2021-11-28T20:46:58.350Z"
   },
   {
    "duration": 45,
    "start_time": "2021-11-28T20:46:58.366Z"
   },
   {
    "duration": 10,
    "start_time": "2021-11-28T20:46:58.414Z"
   },
   {
    "duration": 16,
    "start_time": "2021-11-28T20:46:58.426Z"
   },
   {
    "duration": 22,
    "start_time": "2021-11-28T20:46:58.444Z"
   },
   {
    "duration": 11,
    "start_time": "2021-11-28T20:46:58.468Z"
   },
   {
    "duration": 4,
    "start_time": "2021-11-28T20:46:58.481Z"
   },
   {
    "duration": 6,
    "start_time": "2021-11-28T20:46:58.506Z"
   },
   {
    "duration": 29,
    "start_time": "2021-11-28T20:46:58.513Z"
   },
   {
    "duration": 7,
    "start_time": "2021-11-28T20:46:58.544Z"
   },
   {
    "duration": 11,
    "start_time": "2021-11-28T20:46:58.553Z"
   },
   {
    "duration": 6,
    "start_time": "2021-11-28T20:46:58.566Z"
   },
   {
    "duration": 25,
    "start_time": "2021-11-28T20:46:58.574Z"
   },
   {
    "duration": 11,
    "start_time": "2021-11-28T20:46:58.601Z"
   },
   {
    "duration": 13,
    "start_time": "2021-11-28T20:46:58.614Z"
   },
   {
    "duration": 112,
    "start_time": "2021-11-28T20:48:10.090Z"
   },
   {
    "duration": 11,
    "start_time": "2021-11-28T20:48:55.634Z"
   },
   {
    "duration": 68,
    "start_time": "2021-11-28T20:50:47.745Z"
   },
   {
    "duration": 41,
    "start_time": "2021-11-28T20:50:47.815Z"
   },
   {
    "duration": 15,
    "start_time": "2021-11-28T20:50:47.858Z"
   },
   {
    "duration": 18,
    "start_time": "2021-11-28T20:50:47.875Z"
   },
   {
    "duration": 12,
    "start_time": "2021-11-28T20:50:47.895Z"
   },
   {
    "duration": 13,
    "start_time": "2021-11-28T20:50:47.908Z"
   },
   {
    "duration": 13,
    "start_time": "2021-11-28T20:50:47.922Z"
   },
   {
    "duration": 16,
    "start_time": "2021-11-28T20:50:47.938Z"
   },
   {
    "duration": 54,
    "start_time": "2021-11-28T20:50:47.956Z"
   },
   {
    "duration": 6,
    "start_time": "2021-11-28T20:50:48.012Z"
   },
   {
    "duration": 13,
    "start_time": "2021-11-28T20:50:48.020Z"
   },
   {
    "duration": 5,
    "start_time": "2021-11-28T20:50:48.035Z"
   },
   {
    "duration": 14,
    "start_time": "2021-11-28T20:50:48.041Z"
   },
   {
    "duration": 4,
    "start_time": "2021-11-28T20:50:48.057Z"
   },
   {
    "duration": 6,
    "start_time": "2021-11-28T20:50:48.063Z"
   },
   {
    "duration": 9,
    "start_time": "2021-11-28T20:50:48.071Z"
   },
   {
    "duration": 9,
    "start_time": "2021-11-28T20:50:48.106Z"
   },
   {
    "duration": 10,
    "start_time": "2021-11-28T20:50:48.117Z"
   },
   {
    "duration": 6,
    "start_time": "2021-11-28T20:50:48.129Z"
   },
   {
    "duration": 14,
    "start_time": "2021-11-28T20:50:48.136Z"
   },
   {
    "duration": 12,
    "start_time": "2021-11-28T20:50:48.152Z"
   },
   {
    "duration": 42,
    "start_time": "2021-11-28T20:50:48.165Z"
   },
   {
    "duration": 11,
    "start_time": "2021-11-28T20:50:48.210Z"
   },
   {
    "duration": 5,
    "start_time": "2021-11-28T20:50:48.223Z"
   },
   {
    "duration": 21,
    "start_time": "2021-11-28T20:50:48.230Z"
   },
   {
    "duration": 9,
    "start_time": "2021-11-28T20:50:48.253Z"
   },
   {
    "duration": 4,
    "start_time": "2021-11-28T20:50:48.264Z"
   },
   {
    "duration": 37,
    "start_time": "2021-11-28T20:50:48.270Z"
   },
   {
    "duration": 25,
    "start_time": "2021-11-28T20:50:48.309Z"
   },
   {
    "duration": 8,
    "start_time": "2021-11-28T20:50:48.336Z"
   },
   {
    "duration": 9,
    "start_time": "2021-11-28T20:50:48.346Z"
   },
   {
    "duration": 4,
    "start_time": "2021-11-28T20:50:48.357Z"
   },
   {
    "duration": 11,
    "start_time": "2021-11-28T20:50:48.362Z"
   },
   {
    "duration": 33,
    "start_time": "2021-11-28T20:50:48.374Z"
   },
   {
    "duration": 7,
    "start_time": "2021-11-28T20:50:48.408Z"
   },
   {
    "duration": 16,
    "start_time": "2021-11-28T20:50:48.417Z"
   },
   {
    "duration": 10,
    "start_time": "2021-11-28T20:50:48.435Z"
   },
   {
    "duration": 335,
    "start_time": "2021-11-28T20:50:51.818Z"
   },
   {
    "duration": 12,
    "start_time": "2021-11-28T20:51:13.523Z"
   },
   {
    "duration": 1326,
    "start_time": "2021-11-29T16:43:44.568Z"
   },
   {
    "duration": 48,
    "start_time": "2021-11-29T16:43:45.897Z"
   },
   {
    "duration": 36,
    "start_time": "2021-11-29T16:43:45.948Z"
   },
   {
    "duration": 20,
    "start_time": "2021-11-29T16:43:45.987Z"
   },
   {
    "duration": 18,
    "start_time": "2021-11-29T16:43:46.010Z"
   },
   {
    "duration": 18,
    "start_time": "2021-11-29T16:43:46.030Z"
   },
   {
    "duration": 49,
    "start_time": "2021-11-29T16:43:46.051Z"
   },
   {
    "duration": 24,
    "start_time": "2021-11-29T16:43:46.104Z"
   },
   {
    "duration": 42,
    "start_time": "2021-11-29T16:43:46.132Z"
   },
   {
    "duration": 30,
    "start_time": "2021-11-29T16:43:46.176Z"
   },
   {
    "duration": 15,
    "start_time": "2021-11-29T16:43:46.209Z"
   },
   {
    "duration": 8,
    "start_time": "2021-11-29T16:43:46.227Z"
   },
   {
    "duration": 19,
    "start_time": "2021-11-29T16:43:46.238Z"
   },
   {
    "duration": 43,
    "start_time": "2021-11-29T16:43:46.260Z"
   },
   {
    "duration": 10,
    "start_time": "2021-11-29T16:43:46.305Z"
   },
   {
    "duration": 14,
    "start_time": "2021-11-29T16:43:46.317Z"
   },
   {
    "duration": 11,
    "start_time": "2021-11-29T16:43:46.333Z"
   },
   {
    "duration": 55,
    "start_time": "2021-11-29T16:43:46.347Z"
   },
   {
    "duration": 9,
    "start_time": "2021-11-29T16:43:46.404Z"
   },
   {
    "duration": 20,
    "start_time": "2021-11-29T16:43:46.416Z"
   },
   {
    "duration": 19,
    "start_time": "2021-11-29T16:43:46.438Z"
   },
   {
    "duration": 46,
    "start_time": "2021-11-29T16:43:46.459Z"
   },
   {
    "duration": 13,
    "start_time": "2021-11-29T16:43:46.511Z"
   },
   {
    "duration": 11,
    "start_time": "2021-11-29T16:43:46.527Z"
   },
   {
    "duration": 62,
    "start_time": "2021-11-29T16:43:46.540Z"
   },
   {
    "duration": 15,
    "start_time": "2021-11-29T16:43:46.605Z"
   },
   {
    "duration": 11,
    "start_time": "2021-11-29T16:43:46.623Z"
   },
   {
    "duration": 10,
    "start_time": "2021-11-29T16:43:46.637Z"
   },
   {
    "duration": 81,
    "start_time": "2021-11-29T16:43:46.650Z"
   },
   {
    "duration": 9,
    "start_time": "2021-11-29T16:43:46.734Z"
   },
   {
    "duration": 24,
    "start_time": "2021-11-29T16:43:46.745Z"
   },
   {
    "duration": 28,
    "start_time": "2021-11-29T16:43:46.772Z"
   },
   {
    "duration": 9,
    "start_time": "2021-11-29T16:43:46.804Z"
   },
   {
    "duration": 12,
    "start_time": "2021-11-29T16:43:46.816Z"
   },
   {
    "duration": 15,
    "start_time": "2021-11-29T16:43:46.830Z"
   },
   {
    "duration": 10,
    "start_time": "2021-11-29T16:43:46.847Z"
   },
   {
    "duration": 53,
    "start_time": "2021-11-29T16:43:46.859Z"
   },
   {
    "duration": 20,
    "start_time": "2021-11-29T16:43:46.915Z"
   },
   {
    "duration": 22,
    "start_time": "2021-11-29T16:43:46.937Z"
   },
   {
    "duration": 6,
    "start_time": "2021-11-29T16:43:46.961Z"
   },
   {
    "duration": 71,
    "start_time": "2021-11-29T16:43:46.970Z"
   },
   {
    "duration": 615,
    "start_time": "2021-11-29T16:43:47.043Z"
   },
   {
    "duration": 346,
    "start_time": "2021-11-29T16:43:47.661Z"
   },
   {
    "duration": 13,
    "start_time": "2021-11-29T16:43:48.010Z"
   },
   {
    "duration": 31,
    "start_time": "2021-11-29T16:43:48.026Z"
   },
   {
    "duration": 19,
    "start_time": "2021-11-29T16:48:11.235Z"
   },
   {
    "duration": 25,
    "start_time": "2021-11-29T16:49:42.810Z"
   },
   {
    "duration": 26,
    "start_time": "2021-11-29T16:50:56.489Z"
   },
   {
    "duration": 170,
    "start_time": "2021-11-29T17:01:26.998Z"
   },
   {
    "duration": 117,
    "start_time": "2021-11-29T17:06:29.187Z"
   },
   {
    "duration": 45,
    "start_time": "2021-11-29T17:06:29.307Z"
   },
   {
    "duration": 25,
    "start_time": "2021-11-29T17:06:29.355Z"
   },
   {
    "duration": 35,
    "start_time": "2021-11-29T17:06:29.383Z"
   },
   {
    "duration": 17,
    "start_time": "2021-11-29T17:06:29.420Z"
   },
   {
    "duration": 30,
    "start_time": "2021-11-29T17:06:29.440Z"
   },
   {
    "duration": 43,
    "start_time": "2021-11-29T17:06:29.472Z"
   },
   {
    "duration": 24,
    "start_time": "2021-11-29T17:06:29.519Z"
   },
   {
    "duration": 68,
    "start_time": "2021-11-29T17:06:29.546Z"
   },
   {
    "duration": 8,
    "start_time": "2021-11-29T17:06:29.617Z"
   },
   {
    "duration": 16,
    "start_time": "2021-11-29T17:06:29.628Z"
   },
   {
    "duration": 11,
    "start_time": "2021-11-29T17:06:29.647Z"
   },
   {
    "duration": 58,
    "start_time": "2021-11-29T17:06:29.662Z"
   },
   {
    "duration": 9,
    "start_time": "2021-11-29T17:06:29.724Z"
   },
   {
    "duration": 13,
    "start_time": "2021-11-29T17:06:29.736Z"
   },
   {
    "duration": 50,
    "start_time": "2021-11-29T17:06:29.752Z"
   },
   {
    "duration": 11,
    "start_time": "2021-11-29T17:06:29.804Z"
   },
   {
    "duration": 20,
    "start_time": "2021-11-29T17:06:29.818Z"
   },
   {
    "duration": 12,
    "start_time": "2021-11-29T17:06:29.840Z"
   },
   {
    "duration": 25,
    "start_time": "2021-11-29T17:06:29.854Z"
   },
   {
    "duration": 33,
    "start_time": "2021-11-29T17:06:29.881Z"
   },
   {
    "duration": 17,
    "start_time": "2021-11-29T17:06:29.917Z"
   },
   {
    "duration": 13,
    "start_time": "2021-11-29T17:06:29.939Z"
   },
   {
    "duration": 48,
    "start_time": "2021-11-29T17:06:29.955Z"
   },
   {
    "duration": 40,
    "start_time": "2021-11-29T17:06:30.006Z"
   },
   {
    "duration": 32,
    "start_time": "2021-11-29T17:06:30.049Z"
   },
   {
    "duration": 34,
    "start_time": "2021-11-29T17:06:30.084Z"
   },
   {
    "duration": 48,
    "start_time": "2021-11-29T17:06:30.120Z"
   },
   {
    "duration": 106,
    "start_time": "2021-11-29T17:06:30.171Z"
   },
   {
    "duration": 28,
    "start_time": "2021-11-29T17:06:30.280Z"
   },
   {
    "duration": 25,
    "start_time": "2021-11-29T17:06:30.311Z"
   },
   {
    "duration": 25,
    "start_time": "2021-11-29T17:06:30.338Z"
   },
   {
    "duration": 28,
    "start_time": "2021-11-29T17:06:30.366Z"
   },
   {
    "duration": 27,
    "start_time": "2021-11-29T17:06:30.397Z"
   },
   {
    "duration": 26,
    "start_time": "2021-11-29T17:06:30.427Z"
   },
   {
    "duration": 19,
    "start_time": "2021-11-29T17:06:30.455Z"
   },
   {
    "duration": 27,
    "start_time": "2021-11-29T17:06:30.476Z"
   },
   {
    "duration": 35,
    "start_time": "2021-11-29T17:06:30.505Z"
   },
   {
    "duration": 37,
    "start_time": "2021-11-29T17:06:30.543Z"
   },
   {
    "duration": 21,
    "start_time": "2021-11-29T17:06:30.583Z"
   },
   {
    "duration": 59,
    "start_time": "2021-11-29T17:06:30.606Z"
   },
   {
    "duration": 355,
    "start_time": "2021-11-29T17:06:30.667Z"
   },
   {
    "duration": 326,
    "start_time": "2021-11-29T17:06:31.024Z"
   },
   {
    "duration": 27,
    "start_time": "2021-11-29T17:06:31.352Z"
   },
   {
    "duration": 10,
    "start_time": "2021-11-29T17:06:32.980Z"
   },
   {
    "duration": 284,
    "start_time": "2021-11-29T17:06:42.936Z"
   },
   {
    "duration": 94,
    "start_time": "2021-11-29T17:18:01.969Z"
   },
   {
    "duration": 40,
    "start_time": "2021-11-29T17:18:02.066Z"
   },
   {
    "duration": 67,
    "start_time": "2021-11-29T17:18:02.109Z"
   },
   {
    "duration": 34,
    "start_time": "2021-11-29T17:18:02.185Z"
   },
   {
    "duration": 38,
    "start_time": "2021-11-29T17:18:02.222Z"
   },
   {
    "duration": 20,
    "start_time": "2021-11-29T17:18:02.263Z"
   },
   {
    "duration": 28,
    "start_time": "2021-11-29T17:18:02.286Z"
   },
   {
    "duration": 23,
    "start_time": "2021-11-29T17:18:02.318Z"
   },
   {
    "duration": 62,
    "start_time": "2021-11-29T17:18:02.344Z"
   },
   {
    "duration": 8,
    "start_time": "2021-11-29T17:18:02.408Z"
   },
   {
    "duration": 27,
    "start_time": "2021-11-29T17:18:02.418Z"
   },
   {
    "duration": 13,
    "start_time": "2021-11-29T17:18:02.447Z"
   },
   {
    "duration": 37,
    "start_time": "2021-11-29T17:18:02.463Z"
   },
   {
    "duration": 23,
    "start_time": "2021-11-29T17:18:02.503Z"
   },
   {
    "duration": 41,
    "start_time": "2021-11-29T17:18:02.529Z"
   },
   {
    "duration": 18,
    "start_time": "2021-11-29T17:18:02.573Z"
   },
   {
    "duration": 13,
    "start_time": "2021-11-29T17:18:02.594Z"
   },
   {
    "duration": 16,
    "start_time": "2021-11-29T17:18:02.610Z"
   },
   {
    "duration": 10,
    "start_time": "2021-11-29T17:18:02.629Z"
   },
   {
    "duration": 32,
    "start_time": "2021-11-29T17:18:02.642Z"
   },
   {
    "duration": 38,
    "start_time": "2021-11-29T17:18:02.677Z"
   },
   {
    "duration": 20,
    "start_time": "2021-11-29T17:18:02.718Z"
   },
   {
    "duration": 14,
    "start_time": "2021-11-29T17:18:02.743Z"
   },
   {
    "duration": 43,
    "start_time": "2021-11-29T17:18:02.760Z"
   },
   {
    "duration": 34,
    "start_time": "2021-11-29T17:18:02.806Z"
   },
   {
    "duration": 21,
    "start_time": "2021-11-29T17:18:02.843Z"
   },
   {
    "duration": 25,
    "start_time": "2021-11-29T17:18:02.866Z"
   },
   {
    "duration": 17,
    "start_time": "2021-11-29T17:18:02.901Z"
   },
   {
    "duration": 52,
    "start_time": "2021-11-29T17:18:02.920Z"
   },
   {
    "duration": 15,
    "start_time": "2021-11-29T17:18:02.975Z"
   },
   {
    "duration": 18,
    "start_time": "2021-11-29T17:18:02.992Z"
   },
   {
    "duration": 6,
    "start_time": "2021-11-29T17:18:03.013Z"
   },
   {
    "duration": 32,
    "start_time": "2021-11-29T17:18:03.021Z"
   },
   {
    "duration": 9,
    "start_time": "2021-11-29T17:18:03.056Z"
   },
   {
    "duration": 18,
    "start_time": "2021-11-29T17:18:03.067Z"
   },
   {
    "duration": 14,
    "start_time": "2021-11-29T17:18:03.087Z"
   },
   {
    "duration": 21,
    "start_time": "2021-11-29T17:18:03.103Z"
   },
   {
    "duration": 27,
    "start_time": "2021-11-29T17:18:03.127Z"
   },
   {
    "duration": 94,
    "start_time": "2021-11-29T17:18:03.156Z"
   },
   {
    "duration": 13,
    "start_time": "2021-11-29T17:18:03.252Z"
   },
   {
    "duration": 46,
    "start_time": "2021-11-29T17:18:03.268Z"
   },
   {
    "duration": 328,
    "start_time": "2021-11-29T17:18:03.316Z"
   },
   {
    "duration": 369,
    "start_time": "2021-11-29T17:18:03.647Z"
   },
   {
    "duration": 26,
    "start_time": "2021-11-29T17:18:04.018Z"
   },
   {
    "duration": 13,
    "start_time": "2021-11-29T17:18:04.046Z"
   },
   {
    "duration": 283,
    "start_time": "2021-11-29T17:18:06.815Z"
   },
   {
    "duration": 291,
    "start_time": "2021-11-29T17:19:35.313Z"
   },
   {
    "duration": 39,
    "start_time": "2021-11-29T17:21:03.389Z"
   },
   {
    "duration": 116,
    "start_time": "2021-11-29T17:21:56.839Z"
   },
   {
    "duration": 772,
    "start_time": "2021-11-29T17:24:21.591Z"
   },
   {
    "duration": 324,
    "start_time": "2021-11-29T17:24:29.363Z"
   },
   {
    "duration": 316,
    "start_time": "2021-11-29T17:25:33.580Z"
   },
   {
    "duration": 411,
    "start_time": "2021-11-29T17:32:03.001Z"
   },
   {
    "duration": 406,
    "start_time": "2021-11-29T17:32:18.591Z"
   },
   {
    "duration": 1377,
    "start_time": "2021-11-29T17:33:36.453Z"
   },
   {
    "duration": 413,
    "start_time": "2021-11-29T17:35:10.499Z"
   },
   {
    "duration": 582,
    "start_time": "2021-11-29T17:37:03.310Z"
   },
   {
    "duration": 494,
    "start_time": "2021-11-29T17:37:15.057Z"
   },
   {
    "duration": 589,
    "start_time": "2021-11-29T17:38:03.274Z"
   },
   {
    "duration": 461,
    "start_time": "2021-11-29T17:38:16.747Z"
   },
   {
    "duration": 468,
    "start_time": "2021-11-29T17:38:23.778Z"
   },
   {
    "duration": 527,
    "start_time": "2021-11-29T17:38:41.485Z"
   },
   {
    "duration": 500,
    "start_time": "2021-11-29T17:38:56.213Z"
   },
   {
    "duration": 902,
    "start_time": "2021-11-29T17:40:34.413Z"
   },
   {
    "duration": 483,
    "start_time": "2021-11-29T17:45:28.369Z"
   },
   {
    "duration": 19,
    "start_time": "2021-11-29T17:53:13.121Z"
   },
   {
    "duration": 648,
    "start_time": "2021-11-29T17:54:09.846Z"
   },
   {
    "duration": 111,
    "start_time": "2021-11-29T17:57:11.966Z"
   },
   {
    "duration": 76,
    "start_time": "2021-11-29T17:57:12.080Z"
   },
   {
    "duration": 29,
    "start_time": "2021-11-29T17:57:12.160Z"
   },
   {
    "duration": 46,
    "start_time": "2021-11-29T17:57:12.192Z"
   },
   {
    "duration": 16,
    "start_time": "2021-11-29T17:57:12.241Z"
   },
   {
    "duration": 40,
    "start_time": "2021-11-29T17:57:12.260Z"
   },
   {
    "duration": 33,
    "start_time": "2021-11-29T17:57:12.303Z"
   },
   {
    "duration": 27,
    "start_time": "2021-11-29T17:57:12.339Z"
   },
   {
    "duration": 80,
    "start_time": "2021-11-29T17:57:12.372Z"
   },
   {
    "duration": 8,
    "start_time": "2021-11-29T17:57:12.456Z"
   },
   {
    "duration": 37,
    "start_time": "2021-11-29T17:57:12.467Z"
   },
   {
    "duration": 15,
    "start_time": "2021-11-29T17:57:12.507Z"
   },
   {
    "duration": 19,
    "start_time": "2021-11-29T17:57:12.526Z"
   },
   {
    "duration": 29,
    "start_time": "2021-11-29T17:57:12.548Z"
   },
   {
    "duration": 28,
    "start_time": "2021-11-29T17:57:12.579Z"
   },
   {
    "duration": 25,
    "start_time": "2021-11-29T17:57:12.611Z"
   },
   {
    "duration": 19,
    "start_time": "2021-11-29T17:57:12.638Z"
   },
   {
    "duration": 18,
    "start_time": "2021-11-29T17:57:12.659Z"
   },
   {
    "duration": 24,
    "start_time": "2021-11-29T17:57:12.679Z"
   },
   {
    "duration": 25,
    "start_time": "2021-11-29T17:57:12.705Z"
   },
   {
    "duration": 20,
    "start_time": "2021-11-29T17:57:12.732Z"
   },
   {
    "duration": 20,
    "start_time": "2021-11-29T17:57:12.754Z"
   },
   {
    "duration": 44,
    "start_time": "2021-11-29T17:57:12.777Z"
   },
   {
    "duration": 13,
    "start_time": "2021-11-29T17:57:12.825Z"
   },
   {
    "duration": 43,
    "start_time": "2021-11-29T17:57:12.841Z"
   },
   {
    "duration": 36,
    "start_time": "2021-11-29T17:57:12.886Z"
   },
   {
    "duration": 9,
    "start_time": "2021-11-29T17:57:12.930Z"
   },
   {
    "duration": 20,
    "start_time": "2021-11-29T17:57:12.943Z"
   },
   {
    "duration": 70,
    "start_time": "2021-11-29T17:57:12.965Z"
   },
   {
    "duration": 10,
    "start_time": "2021-11-29T17:57:13.038Z"
   },
   {
    "duration": 17,
    "start_time": "2021-11-29T17:57:13.050Z"
   },
   {
    "duration": 33,
    "start_time": "2021-11-29T17:57:13.069Z"
   },
   {
    "duration": 7,
    "start_time": "2021-11-29T17:57:13.105Z"
   },
   {
    "duration": 25,
    "start_time": "2021-11-29T17:57:13.114Z"
   },
   {
    "duration": 21,
    "start_time": "2021-11-29T17:57:13.142Z"
   },
   {
    "duration": 29,
    "start_time": "2021-11-29T17:57:13.165Z"
   },
   {
    "duration": 39,
    "start_time": "2021-11-29T17:57:13.196Z"
   },
   {
    "duration": 30,
    "start_time": "2021-11-29T17:57:13.237Z"
   },
   {
    "duration": 163,
    "start_time": "2021-11-29T17:57:13.269Z"
   },
   {
    "duration": 6,
    "start_time": "2021-11-29T17:57:13.434Z"
   },
   {
    "duration": 42,
    "start_time": "2021-11-29T17:57:13.443Z"
   },
   {
    "duration": 380,
    "start_time": "2021-11-29T17:57:13.487Z"
   },
   {
    "duration": 385,
    "start_time": "2021-11-29T17:57:13.869Z"
   },
   {
    "duration": 26,
    "start_time": "2021-11-29T17:57:14.256Z"
   },
   {
    "duration": 13,
    "start_time": "2021-11-29T17:57:14.301Z"
   },
   {
    "duration": 316,
    "start_time": "2021-11-29T17:57:14.317Z"
   },
   {
    "duration": 36,
    "start_time": "2021-11-29T17:57:14.636Z"
   },
   {
    "duration": 563,
    "start_time": "2021-11-29T17:57:14.675Z"
   },
   {
    "duration": 19,
    "start_time": "2021-11-29T17:57:15.241Z"
   },
   {
    "duration": 673,
    "start_time": "2021-11-29T17:57:15.262Z"
   },
   {
    "duration": 637,
    "start_time": "2021-11-29T17:57:15.938Z"
   },
   {
    "duration": 67,
    "start_time": "2021-11-29T17:57:16.578Z"
   },
   {
    "duration": 59,
    "start_time": "2021-11-29T17:57:16.647Z"
   },
   {
    "duration": 12,
    "start_time": "2021-11-29T17:57:16.710Z"
   },
   {
    "duration": 16,
    "start_time": "2021-11-29T17:57:16.725Z"
   },
   {
    "duration": 10,
    "start_time": "2021-11-29T17:57:16.744Z"
   },
   {
    "duration": 349,
    "start_time": "2021-11-29T17:57:16.757Z"
   },
   {
    "duration": 594,
    "start_time": "2021-11-29T17:57:17.108Z"
   },
   {
    "duration": 455,
    "start_time": "2021-11-29T17:57:17.705Z"
   },
   {
    "duration": 15,
    "start_time": "2021-11-29T17:57:18.611Z"
   },
   {
    "duration": 320,
    "start_time": "2021-11-29T18:06:29.399Z"
   },
   {
    "duration": 332,
    "start_time": "2021-11-29T18:06:36.496Z"
   },
   {
    "duration": 475,
    "start_time": "2021-11-29T18:07:14.501Z"
   },
   {
    "duration": 316,
    "start_time": "2021-11-29T18:07:43.281Z"
   },
   {
    "duration": 648,
    "start_time": "2021-11-29T18:09:01.315Z"
   },
   {
    "duration": 634,
    "start_time": "2021-11-29T18:11:57.222Z"
   },
   {
    "duration": 5,
    "start_time": "2021-11-29T18:12:45.556Z"
   },
   {
    "duration": 388,
    "start_time": "2021-11-29T18:15:54.605Z"
   },
   {
    "duration": 585,
    "start_time": "2021-11-29T18:16:50.781Z"
   },
   {
    "duration": 534,
    "start_time": "2021-11-29T18:17:36.918Z"
   },
   {
    "duration": 413,
    "start_time": "2021-11-29T18:18:34.053Z"
   },
   {
    "duration": 577,
    "start_time": "2021-11-29T18:18:52.462Z"
   },
   {
    "duration": 428,
    "start_time": "2021-11-29T18:19:06.317Z"
   },
   {
    "duration": 496,
    "start_time": "2021-11-29T18:19:18.490Z"
   },
   {
    "duration": 666,
    "start_time": "2021-11-29T18:19:35.316Z"
   },
   {
    "duration": 519,
    "start_time": "2021-11-29T18:22:58.563Z"
   },
   {
    "duration": 523,
    "start_time": "2021-11-29T18:24:24.711Z"
   },
   {
    "duration": 122,
    "start_time": "2021-11-29T18:26:35.273Z"
   },
   {
    "duration": 93,
    "start_time": "2021-11-29T18:28:10.902Z"
   },
   {
    "duration": 68,
    "start_time": "2021-11-29T18:28:11.001Z"
   },
   {
    "duration": 26,
    "start_time": "2021-11-29T18:28:11.072Z"
   },
   {
    "duration": 21,
    "start_time": "2021-11-29T18:28:11.101Z"
   },
   {
    "duration": 22,
    "start_time": "2021-11-29T18:28:11.124Z"
   },
   {
    "duration": 55,
    "start_time": "2021-11-29T18:28:11.148Z"
   },
   {
    "duration": 23,
    "start_time": "2021-11-29T18:28:11.206Z"
   },
   {
    "duration": 65,
    "start_time": "2021-11-29T18:28:11.235Z"
   },
   {
    "duration": 52,
    "start_time": "2021-11-29T18:28:11.305Z"
   },
   {
    "duration": 7,
    "start_time": "2021-11-29T18:28:11.360Z"
   },
   {
    "duration": 13,
    "start_time": "2021-11-29T18:28:11.401Z"
   },
   {
    "duration": 8,
    "start_time": "2021-11-29T18:28:11.417Z"
   },
   {
    "duration": 25,
    "start_time": "2021-11-29T18:28:11.427Z"
   },
   {
    "duration": 6,
    "start_time": "2021-11-29T18:28:11.455Z"
   },
   {
    "duration": 41,
    "start_time": "2021-11-29T18:28:11.463Z"
   },
   {
    "duration": 16,
    "start_time": "2021-11-29T18:28:11.506Z"
   },
   {
    "duration": 12,
    "start_time": "2021-11-29T18:28:11.525Z"
   },
   {
    "duration": 16,
    "start_time": "2021-11-29T18:28:11.539Z"
   },
   {
    "duration": 43,
    "start_time": "2021-11-29T18:28:11.557Z"
   },
   {
    "duration": 14,
    "start_time": "2021-11-29T18:28:11.603Z"
   },
   {
    "duration": 24,
    "start_time": "2021-11-29T18:28:11.620Z"
   },
   {
    "duration": 17,
    "start_time": "2021-11-29T18:28:11.647Z"
   },
   {
    "duration": 43,
    "start_time": "2021-11-29T18:28:11.670Z"
   },
   {
    "duration": 18,
    "start_time": "2021-11-29T18:28:11.716Z"
   },
   {
    "duration": 35,
    "start_time": "2021-11-29T18:28:11.736Z"
   },
   {
    "duration": 14,
    "start_time": "2021-11-29T18:28:11.800Z"
   },
   {
    "duration": 7,
    "start_time": "2021-11-29T18:28:11.817Z"
   },
   {
    "duration": 10,
    "start_time": "2021-11-29T18:28:11.826Z"
   },
   {
    "duration": 79,
    "start_time": "2021-11-29T18:28:11.838Z"
   },
   {
    "duration": 9,
    "start_time": "2021-11-29T18:28:11.920Z"
   },
   {
    "duration": 14,
    "start_time": "2021-11-29T18:28:11.931Z"
   },
   {
    "duration": 5,
    "start_time": "2021-11-29T18:28:11.947Z"
   },
   {
    "duration": 7,
    "start_time": "2021-11-29T18:28:11.955Z"
   },
   {
    "duration": 7,
    "start_time": "2021-11-29T18:28:12.001Z"
   },
   {
    "duration": 15,
    "start_time": "2021-11-29T18:28:12.011Z"
   },
   {
    "duration": 10,
    "start_time": "2021-11-29T18:28:12.029Z"
   },
   {
    "duration": 17,
    "start_time": "2021-11-29T18:28:12.042Z"
   },
   {
    "duration": 54,
    "start_time": "2021-11-29T18:28:12.061Z"
   },
   {
    "duration": 21,
    "start_time": "2021-11-29T18:28:12.118Z"
   },
   {
    "duration": 6,
    "start_time": "2021-11-29T18:28:12.142Z"
   },
   {
    "duration": 64,
    "start_time": "2021-11-29T18:28:12.150Z"
   },
   {
    "duration": 336,
    "start_time": "2021-11-29T18:28:12.216Z"
   },
   {
    "duration": 372,
    "start_time": "2021-11-29T18:28:12.555Z"
   },
   {
    "duration": 24,
    "start_time": "2021-11-29T18:28:12.930Z"
   },
   {
    "duration": 10,
    "start_time": "2021-11-29T18:28:12.957Z"
   },
   {
    "duration": 418,
    "start_time": "2021-11-29T18:28:13.000Z"
   },
   {
    "duration": 49,
    "start_time": "2021-11-29T18:28:13.421Z"
   },
   {
    "duration": 673,
    "start_time": "2021-11-29T18:28:13.473Z"
   },
   {
    "duration": 25,
    "start_time": "2021-11-29T18:28:14.149Z"
   },
   {
    "duration": 834,
    "start_time": "2021-11-29T18:28:14.177Z"
   },
   {
    "duration": 663,
    "start_time": "2021-11-29T18:28:15.014Z"
   },
   {
    "duration": 52,
    "start_time": "2021-11-29T18:28:15.679Z"
   },
   {
    "duration": 38,
    "start_time": "2021-11-29T18:28:15.734Z"
   },
   {
    "duration": 28,
    "start_time": "2021-11-29T18:28:15.775Z"
   },
   {
    "duration": 14,
    "start_time": "2021-11-29T18:28:15.806Z"
   },
   {
    "duration": 11,
    "start_time": "2021-11-29T18:28:15.822Z"
   },
   {
    "duration": 423,
    "start_time": "2021-11-29T18:28:15.836Z"
   },
   {
    "duration": 843,
    "start_time": "2021-11-29T18:28:16.262Z"
   },
   {
    "duration": 436,
    "start_time": "2021-11-29T18:28:17.108Z"
   },
   {
    "duration": 520,
    "start_time": "2021-11-29T18:28:17.547Z"
   },
   {
    "duration": 10,
    "start_time": "2021-11-29T18:28:18.070Z"
   },
   {
    "duration": 374,
    "start_time": "2021-11-29T18:28:19.607Z"
   },
   {
    "duration": 381,
    "start_time": "2021-11-29T18:28:35.152Z"
   },
   {
    "duration": 7,
    "start_time": "2021-11-29T18:29:47.018Z"
   },
   {
    "duration": 9247,
    "start_time": "2021-11-29T18:32:48.243Z"
   },
   {
    "duration": 97,
    "start_time": "2021-11-29T18:35:05.773Z"
   },
   {
    "duration": 58,
    "start_time": "2021-11-29T18:35:05.873Z"
   },
   {
    "duration": 28,
    "start_time": "2021-11-29T18:35:05.934Z"
   },
   {
    "duration": 44,
    "start_time": "2021-11-29T18:35:05.965Z"
   },
   {
    "duration": 22,
    "start_time": "2021-11-29T18:35:06.012Z"
   },
   {
    "duration": 23,
    "start_time": "2021-11-29T18:35:06.037Z"
   },
   {
    "duration": 21,
    "start_time": "2021-11-29T18:35:06.102Z"
   },
   {
    "duration": 27,
    "start_time": "2021-11-29T18:35:06.127Z"
   },
   {
    "duration": 76,
    "start_time": "2021-11-29T18:35:06.157Z"
   },
   {
    "duration": 6,
    "start_time": "2021-11-29T18:35:06.236Z"
   },
   {
    "duration": 19,
    "start_time": "2021-11-29T18:35:06.245Z"
   },
   {
    "duration": 10,
    "start_time": "2021-11-29T18:35:06.267Z"
   },
   {
    "duration": 15,
    "start_time": "2021-11-29T18:35:06.301Z"
   },
   {
    "duration": 9,
    "start_time": "2021-11-29T18:35:06.318Z"
   },
   {
    "duration": 16,
    "start_time": "2021-11-29T18:35:06.330Z"
   },
   {
    "duration": 14,
    "start_time": "2021-11-29T18:35:06.349Z"
   },
   {
    "duration": 43,
    "start_time": "2021-11-29T18:35:06.365Z"
   },
   {
    "duration": 12,
    "start_time": "2021-11-29T18:35:06.411Z"
   },
   {
    "duration": 15,
    "start_time": "2021-11-29T18:35:06.426Z"
   },
   {
    "duration": 26,
    "start_time": "2021-11-29T18:35:06.444Z"
   },
   {
    "duration": 39,
    "start_time": "2021-11-29T18:35:06.473Z"
   },
   {
    "duration": 19,
    "start_time": "2021-11-29T18:35:06.515Z"
   },
   {
    "duration": 15,
    "start_time": "2021-11-29T18:35:06.540Z"
   },
   {
    "duration": 44,
    "start_time": "2021-11-29T18:35:06.558Z"
   },
   {
    "duration": 48,
    "start_time": "2021-11-29T18:35:06.605Z"
   },
   {
    "duration": 15,
    "start_time": "2021-11-29T18:35:06.655Z"
   },
   {
    "duration": 8,
    "start_time": "2021-11-29T18:35:06.673Z"
   },
   {
    "duration": 8,
    "start_time": "2021-11-29T18:35:06.701Z"
   },
   {
    "duration": 69,
    "start_time": "2021-11-29T18:35:06.712Z"
   },
   {
    "duration": 25,
    "start_time": "2021-11-29T18:35:06.783Z"
   },
   {
    "duration": 20,
    "start_time": "2021-11-29T18:35:06.810Z"
   },
   {
    "duration": 9,
    "start_time": "2021-11-29T18:35:06.833Z"
   },
   {
    "duration": 10,
    "start_time": "2021-11-29T18:35:06.845Z"
   },
   {
    "duration": 8,
    "start_time": "2021-11-29T18:35:06.858Z"
   },
   {
    "duration": 12,
    "start_time": "2021-11-29T18:35:06.902Z"
   },
   {
    "duration": 14,
    "start_time": "2021-11-29T18:35:06.916Z"
   },
   {
    "duration": 26,
    "start_time": "2021-11-29T18:35:06.933Z"
   },
   {
    "duration": 44,
    "start_time": "2021-11-29T18:35:06.962Z"
   },
   {
    "duration": 30,
    "start_time": "2021-11-29T18:35:07.009Z"
   },
   {
    "duration": 12,
    "start_time": "2021-11-29T18:35:07.042Z"
   },
   {
    "duration": 74,
    "start_time": "2021-11-29T18:35:07.057Z"
   },
   {
    "duration": 346,
    "start_time": "2021-11-29T18:35:07.134Z"
   },
   {
    "duration": 386,
    "start_time": "2021-11-29T18:35:07.483Z"
   },
   {
    "duration": 38,
    "start_time": "2021-11-29T18:35:07.872Z"
   },
   {
    "duration": 11,
    "start_time": "2021-11-29T18:35:07.912Z"
   },
   {
    "duration": 322,
    "start_time": "2021-11-29T18:35:07.926Z"
   },
   {
    "duration": 51,
    "start_time": "2021-11-29T18:35:08.251Z"
   },
   {
    "duration": 499,
    "start_time": "2021-11-29T18:35:08.305Z"
   },
   {
    "duration": 23,
    "start_time": "2021-11-29T18:35:08.806Z"
   },
   {
    "duration": 602,
    "start_time": "2021-11-29T18:35:08.831Z"
   },
   {
    "duration": 622,
    "start_time": "2021-11-29T18:35:09.435Z"
   },
   {
    "duration": 54,
    "start_time": "2021-11-29T18:35:10.060Z"
   },
   {
    "duration": 45,
    "start_time": "2021-11-29T18:35:10.117Z"
   },
   {
    "duration": 5,
    "start_time": "2021-11-29T18:35:10.164Z"
   },
   {
    "duration": 32,
    "start_time": "2021-11-29T18:35:10.172Z"
   },
   {
    "duration": 10,
    "start_time": "2021-11-29T18:35:10.207Z"
   },
   {
    "duration": 306,
    "start_time": "2021-11-29T18:35:10.219Z"
   },
   {
    "duration": 619,
    "start_time": "2021-11-29T18:35:10.528Z"
   },
   {
    "duration": 446,
    "start_time": "2021-11-29T18:35:11.150Z"
   },
   {
    "duration": 915,
    "start_time": "2021-11-29T18:35:11.601Z"
   },
   {
    "duration": 12,
    "start_time": "2021-11-29T18:35:12.519Z"
   },
   {
    "duration": 8,
    "start_time": "2021-11-29T18:35:12.533Z"
   },
   {
    "duration": 20,
    "start_time": "2021-11-29T18:35:12.544Z"
   },
   {
    "duration": 70,
    "start_time": "2021-11-29T18:35:12.567Z"
   },
   {
    "duration": 442,
    "start_time": "2021-11-29T18:35:13.531Z"
   },
   {
    "duration": 442,
    "start_time": "2021-11-29T18:39:26.196Z"
   },
   {
    "duration": 459,
    "start_time": "2021-11-29T18:39:46.286Z"
   },
   {
    "duration": 333,
    "start_time": "2021-11-29T18:41:07.834Z"
   },
   {
    "duration": 98,
    "start_time": "2021-11-29T18:50:03.077Z"
   },
   {
    "duration": 79,
    "start_time": "2021-11-29T18:50:03.178Z"
   },
   {
    "duration": 33,
    "start_time": "2021-11-29T18:50:03.261Z"
   },
   {
    "duration": 42,
    "start_time": "2021-11-29T18:50:03.297Z"
   },
   {
    "duration": 28,
    "start_time": "2021-11-29T18:50:03.342Z"
   },
   {
    "duration": 32,
    "start_time": "2021-11-29T18:50:03.372Z"
   },
   {
    "duration": 21,
    "start_time": "2021-11-29T18:50:03.407Z"
   },
   {
    "duration": 24,
    "start_time": "2021-11-29T18:50:03.434Z"
   },
   {
    "duration": 43,
    "start_time": "2021-11-29T18:50:03.500Z"
   },
   {
    "duration": 8,
    "start_time": "2021-11-29T18:50:03.546Z"
   },
   {
    "duration": 45,
    "start_time": "2021-11-29T18:50:03.556Z"
   },
   {
    "duration": 9,
    "start_time": "2021-11-29T18:50:03.604Z"
   },
   {
    "duration": 23,
    "start_time": "2021-11-29T18:50:03.615Z"
   },
   {
    "duration": 7,
    "start_time": "2021-11-29T18:50:03.641Z"
   },
   {
    "duration": 21,
    "start_time": "2021-11-29T18:50:03.650Z"
   },
   {
    "duration": 33,
    "start_time": "2021-11-29T18:50:03.673Z"
   },
   {
    "duration": 15,
    "start_time": "2021-11-29T18:50:03.709Z"
   },
   {
    "duration": 13,
    "start_time": "2021-11-29T18:50:03.727Z"
   },
   {
    "duration": 8,
    "start_time": "2021-11-29T18:50:03.743Z"
   },
   {
    "duration": 58,
    "start_time": "2021-11-29T18:50:03.753Z"
   },
   {
    "duration": 17,
    "start_time": "2021-11-29T18:50:03.814Z"
   },
   {
    "duration": 17,
    "start_time": "2021-11-29T18:50:03.834Z"
   },
   {
    "duration": 43,
    "start_time": "2021-11-29T18:50:03.857Z"
   },
   {
    "duration": 18,
    "start_time": "2021-11-29T18:50:03.905Z"
   },
   {
    "duration": 40,
    "start_time": "2021-11-29T18:50:03.926Z"
   },
   {
    "duration": 36,
    "start_time": "2021-11-29T18:50:03.969Z"
   },
   {
    "duration": 6,
    "start_time": "2021-11-29T18:50:04.008Z"
   },
   {
    "duration": 12,
    "start_time": "2021-11-29T18:50:04.016Z"
   },
   {
    "duration": 72,
    "start_time": "2021-11-29T18:50:04.030Z"
   },
   {
    "duration": 10,
    "start_time": "2021-11-29T18:50:04.104Z"
   },
   {
    "duration": 23,
    "start_time": "2021-11-29T18:50:04.117Z"
   },
   {
    "duration": 6,
    "start_time": "2021-11-29T18:50:04.144Z"
   },
   {
    "duration": 22,
    "start_time": "2021-11-29T18:50:04.152Z"
   },
   {
    "duration": 26,
    "start_time": "2021-11-29T18:50:04.176Z"
   },
   {
    "duration": 17,
    "start_time": "2021-11-29T18:50:04.205Z"
   },
   {
    "duration": 15,
    "start_time": "2021-11-29T18:50:04.224Z"
   },
   {
    "duration": 21,
    "start_time": "2021-11-29T18:50:04.242Z"
   },
   {
    "duration": 28,
    "start_time": "2021-11-29T18:50:04.265Z"
   },
   {
    "duration": 21,
    "start_time": "2021-11-29T18:50:04.301Z"
   },
   {
    "duration": 6,
    "start_time": "2021-11-29T18:50:04.324Z"
   },
   {
    "duration": 70,
    "start_time": "2021-11-29T18:50:04.332Z"
   },
   {
    "duration": 429,
    "start_time": "2021-11-29T18:50:04.405Z"
   },
   {
    "duration": 385,
    "start_time": "2021-11-29T18:50:04.837Z"
   },
   {
    "duration": 24,
    "start_time": "2021-11-29T18:50:05.224Z"
   },
   {
    "duration": 72,
    "start_time": "2021-11-29T18:50:05.251Z"
   },
   {
    "duration": 328,
    "start_time": "2021-11-29T18:50:05.326Z"
   },
   {
    "duration": 46,
    "start_time": "2021-11-29T18:50:05.656Z"
   },
   {
    "duration": 498,
    "start_time": "2021-11-29T18:50:05.705Z"
   },
   {
    "duration": 19,
    "start_time": "2021-11-29T18:50:06.206Z"
   },
   {
    "duration": 612,
    "start_time": "2021-11-29T18:50:06.228Z"
   },
   {
    "duration": 619,
    "start_time": "2021-11-29T18:50:06.843Z"
   },
   {
    "duration": 68,
    "start_time": "2021-11-29T18:50:07.464Z"
   },
   {
    "duration": 72,
    "start_time": "2021-11-29T18:50:07.535Z"
   },
   {
    "duration": 12,
    "start_time": "2021-11-29T18:50:07.610Z"
   },
   {
    "duration": 13,
    "start_time": "2021-11-29T18:50:07.625Z"
   },
   {
    "duration": 7,
    "start_time": "2021-11-29T18:50:07.641Z"
   },
   {
    "duration": 462,
    "start_time": "2021-11-29T18:50:07.651Z"
   },
   {
    "duration": 735,
    "start_time": "2021-11-29T18:50:08.116Z"
   },
   {
    "duration": 439,
    "start_time": "2021-11-29T18:50:08.854Z"
   },
   {
    "duration": 512,
    "start_time": "2021-11-29T18:50:09.295Z"
   },
   {
    "duration": 9,
    "start_time": "2021-11-29T18:50:09.810Z"
   },
   {
    "duration": 13,
    "start_time": "2021-11-29T18:50:09.822Z"
   },
   {
    "duration": 30,
    "start_time": "2021-11-29T18:50:09.838Z"
   },
   {
    "duration": 60,
    "start_time": "2021-11-29T18:50:09.871Z"
   },
   {
    "duration": 512,
    "start_time": "2021-11-29T18:50:09.933Z"
   },
   {
    "duration": 342,
    "start_time": "2021-11-29T18:50:10.448Z"
   },
   {
    "duration": 554,
    "start_time": "2021-11-29T18:50:10.792Z"
   },
   {
    "duration": 25,
    "start_time": "2021-11-29T18:50:15.033Z"
   },
   {
    "duration": 286,
    "start_time": "2021-11-29T18:51:06.954Z"
   },
   {
    "duration": 331,
    "start_time": "2021-11-29T18:51:37.092Z"
   },
   {
    "duration": 308,
    "start_time": "2021-11-29T18:51:43.809Z"
   },
   {
    "duration": 315,
    "start_time": "2021-11-29T18:54:48.680Z"
   },
   {
    "duration": 354,
    "start_time": "2021-11-29T18:58:24.252Z"
   },
   {
    "duration": 23,
    "start_time": "2021-11-29T19:03:14.270Z"
   },
   {
    "duration": 30,
    "start_time": "2021-11-29T19:03:37.856Z"
   },
   {
    "duration": 30,
    "start_time": "2021-11-29T19:03:54.465Z"
   },
   {
    "duration": 21,
    "start_time": "2021-11-29T19:05:08.062Z"
   },
   {
    "duration": 49,
    "start_time": "2021-11-29T19:06:08.610Z"
   },
   {
    "duration": 15,
    "start_time": "2021-11-29T19:07:15.710Z"
   },
   {
    "duration": 19,
    "start_time": "2021-11-29T19:07:29.524Z"
   },
   {
    "duration": 14,
    "start_time": "2021-11-29T19:08:46.629Z"
   },
   {
    "duration": 30,
    "start_time": "2021-11-29T19:09:09.297Z"
   },
   {
    "duration": 14,
    "start_time": "2021-11-29T19:10:53.517Z"
   },
   {
    "duration": 1092,
    "start_time": "2021-11-29T19:21:23.358Z"
   },
   {
    "duration": 74,
    "start_time": "2021-11-29T19:21:24.453Z"
   },
   {
    "duration": 29,
    "start_time": "2021-11-29T19:21:24.530Z"
   },
   {
    "duration": 24,
    "start_time": "2021-11-29T19:21:24.562Z"
   },
   {
    "duration": 24,
    "start_time": "2021-11-29T19:21:24.588Z"
   },
   {
    "duration": 19,
    "start_time": "2021-11-29T19:21:24.615Z"
   },
   {
    "duration": 18,
    "start_time": "2021-11-29T19:21:24.637Z"
   },
   {
    "duration": 61,
    "start_time": "2021-11-29T19:21:24.661Z"
   },
   {
    "duration": 40,
    "start_time": "2021-11-29T19:21:24.727Z"
   },
   {
    "duration": 38,
    "start_time": "2021-11-29T19:21:24.770Z"
   },
   {
    "duration": 23,
    "start_time": "2021-11-29T19:21:24.811Z"
   },
   {
    "duration": 10,
    "start_time": "2021-11-29T19:21:24.836Z"
   },
   {
    "duration": 18,
    "start_time": "2021-11-29T19:21:24.849Z"
   },
   {
    "duration": 9,
    "start_time": "2021-11-29T19:21:24.900Z"
   },
   {
    "duration": 12,
    "start_time": "2021-11-29T19:21:24.912Z"
   },
   {
    "duration": 14,
    "start_time": "2021-11-29T19:21:24.927Z"
   },
   {
    "duration": 11,
    "start_time": "2021-11-29T19:21:24.943Z"
   },
   {
    "duration": 55,
    "start_time": "2021-11-29T19:21:24.957Z"
   },
   {
    "duration": 11,
    "start_time": "2021-11-29T19:21:25.015Z"
   },
   {
    "duration": 17,
    "start_time": "2021-11-29T19:21:25.029Z"
   },
   {
    "duration": 55,
    "start_time": "2021-11-29T19:21:25.048Z"
   },
   {
    "duration": 16,
    "start_time": "2021-11-29T19:21:25.105Z"
   },
   {
    "duration": 14,
    "start_time": "2021-11-29T19:21:25.127Z"
   },
   {
    "duration": 7,
    "start_time": "2021-11-29T19:21:25.145Z"
   },
   {
    "duration": 65,
    "start_time": "2021-11-29T19:21:25.154Z"
   },
   {
    "duration": 17,
    "start_time": "2021-11-29T19:21:25.222Z"
   },
   {
    "duration": 7,
    "start_time": "2021-11-29T19:21:25.242Z"
   },
   {
    "duration": 8,
    "start_time": "2021-11-29T19:21:25.251Z"
   },
   {
    "duration": 92,
    "start_time": "2021-11-29T19:21:25.261Z"
   },
   {
    "duration": 12,
    "start_time": "2021-11-29T19:21:25.357Z"
   },
   {
    "duration": 34,
    "start_time": "2021-11-29T19:21:25.372Z"
   },
   {
    "duration": 6,
    "start_time": "2021-11-29T19:21:25.409Z"
   },
   {
    "duration": 13,
    "start_time": "2021-11-29T19:21:25.417Z"
   },
   {
    "duration": 10,
    "start_time": "2021-11-29T19:21:25.433Z"
   },
   {
    "duration": 12,
    "start_time": "2021-11-29T19:21:25.446Z"
   },
   {
    "duration": 40,
    "start_time": "2021-11-29T19:21:25.461Z"
   },
   {
    "duration": 26,
    "start_time": "2021-11-29T19:21:25.504Z"
   },
   {
    "duration": 25,
    "start_time": "2021-11-29T19:21:25.533Z"
   },
   {
    "duration": 54,
    "start_time": "2021-11-29T19:21:25.561Z"
   },
   {
    "duration": 10,
    "start_time": "2021-11-29T19:21:25.619Z"
   },
   {
    "duration": 47,
    "start_time": "2021-11-29T19:21:25.632Z"
   },
   {
    "duration": 387,
    "start_time": "2021-11-29T19:21:25.681Z"
   },
   {
    "duration": 488,
    "start_time": "2021-11-29T19:21:26.070Z"
   },
   {
    "duration": 41,
    "start_time": "2021-11-29T19:21:26.561Z"
   },
   {
    "duration": 10,
    "start_time": "2021-11-29T19:21:26.604Z"
   },
   {
    "duration": 403,
    "start_time": "2021-11-29T19:21:26.617Z"
   },
   {
    "duration": 36,
    "start_time": "2021-11-29T19:21:27.023Z"
   },
   {
    "duration": 501,
    "start_time": "2021-11-29T19:21:27.061Z"
   },
   {
    "duration": 19,
    "start_time": "2021-11-29T19:21:27.564Z"
   },
   {
    "duration": 609,
    "start_time": "2021-11-29T19:21:27.600Z"
   },
   {
    "duration": 714,
    "start_time": "2021-11-29T19:21:28.211Z"
   },
   {
    "duration": 47,
    "start_time": "2021-11-29T19:21:28.927Z"
   },
   {
    "duration": 76,
    "start_time": "2021-11-29T19:21:28.977Z"
   },
   {
    "duration": 6,
    "start_time": "2021-11-29T19:21:29.056Z"
   },
   {
    "duration": 41,
    "start_time": "2021-11-29T19:21:29.065Z"
   },
   {
    "duration": 9,
    "start_time": "2021-11-29T19:21:29.109Z"
   },
   {
    "duration": 313,
    "start_time": "2021-11-29T19:21:29.120Z"
   },
   {
    "duration": 527,
    "start_time": "2021-11-29T19:21:29.436Z"
   },
   {
    "duration": 456,
    "start_time": "2021-11-29T19:21:29.966Z"
   },
   {
    "duration": 605,
    "start_time": "2021-11-29T19:21:30.425Z"
   },
   {
    "duration": 10,
    "start_time": "2021-11-29T19:21:31.033Z"
   },
   {
    "duration": 30,
    "start_time": "2021-11-29T19:21:31.045Z"
   },
   {
    "duration": 42,
    "start_time": "2021-11-29T19:21:31.077Z"
   },
   {
    "duration": 151,
    "start_time": "2021-11-29T19:21:31.122Z"
   },
   {
    "duration": 489,
    "start_time": "2021-11-29T19:21:31.275Z"
   },
   {
    "duration": 346,
    "start_time": "2021-11-29T19:21:31.766Z"
   },
   {
    "duration": 439,
    "start_time": "2021-11-29T19:21:32.115Z"
   },
   {
    "duration": 347,
    "start_time": "2021-11-29T19:21:32.563Z"
   },
   {
    "duration": 16,
    "start_time": "2021-11-29T19:21:32.913Z"
   },
   {
    "duration": 34,
    "start_time": "2021-11-29T19:21:32.932Z"
   },
   {
    "duration": 309,
    "start_time": "2021-11-29T19:24:12.145Z"
   },
   {
    "duration": 511,
    "start_time": "2021-11-29T19:25:30.721Z"
   },
   {
    "duration": 432,
    "start_time": "2021-11-29T19:26:24.717Z"
   },
   {
    "duration": 528,
    "start_time": "2021-11-29T19:27:43.232Z"
   },
   {
    "duration": 15,
    "start_time": "2021-11-29T19:29:40.006Z"
   },
   {
    "duration": 16,
    "start_time": "2021-11-29T19:31:04.069Z"
   },
   {
    "duration": 1062,
    "start_time": "2021-11-29T19:36:47.467Z"
   },
   {
    "duration": 57,
    "start_time": "2021-11-29T19:36:48.533Z"
   },
   {
    "duration": 30,
    "start_time": "2021-11-29T19:36:48.594Z"
   },
   {
    "duration": 24,
    "start_time": "2021-11-29T19:36:48.628Z"
   },
   {
    "duration": 17,
    "start_time": "2021-11-29T19:36:48.655Z"
   },
   {
    "duration": 40,
    "start_time": "2021-11-29T19:36:48.675Z"
   },
   {
    "duration": 17,
    "start_time": "2021-11-29T19:36:48.718Z"
   },
   {
    "duration": 24,
    "start_time": "2021-11-29T19:36:48.737Z"
   },
   {
    "duration": 42,
    "start_time": "2021-11-29T19:36:48.801Z"
   },
   {
    "duration": 9,
    "start_time": "2021-11-29T19:36:48.847Z"
   },
   {
    "duration": 46,
    "start_time": "2021-11-29T19:36:48.859Z"
   },
   {
    "duration": 8,
    "start_time": "2021-11-29T19:36:48.908Z"
   },
   {
    "duration": 20,
    "start_time": "2021-11-29T19:36:48.919Z"
   },
   {
    "duration": 7,
    "start_time": "2021-11-29T19:36:48.941Z"
   },
   {
    "duration": 13,
    "start_time": "2021-11-29T19:36:48.951Z"
   },
   {
    "duration": 38,
    "start_time": "2021-11-29T19:36:48.967Z"
   },
   {
    "duration": 11,
    "start_time": "2021-11-29T19:36:49.007Z"
   },
   {
    "duration": 29,
    "start_time": "2021-11-29T19:36:49.021Z"
   },
   {
    "duration": 9,
    "start_time": "2021-11-29T19:36:49.053Z"
   },
   {
    "duration": 39,
    "start_time": "2021-11-29T19:36:49.064Z"
   },
   {
    "duration": 14,
    "start_time": "2021-11-29T19:36:49.106Z"
   },
   {
    "duration": 15,
    "start_time": "2021-11-29T19:36:49.123Z"
   },
   {
    "duration": 14,
    "start_time": "2021-11-29T19:36:49.140Z"
   },
   {
    "duration": 51,
    "start_time": "2021-11-29T19:36:49.157Z"
   },
   {
    "duration": 44,
    "start_time": "2021-11-29T19:36:49.211Z"
   },
   {
    "duration": 18,
    "start_time": "2021-11-29T19:36:49.258Z"
   },
   {
    "duration": 24,
    "start_time": "2021-11-29T19:36:49.283Z"
   },
   {
    "duration": 9,
    "start_time": "2021-11-29T19:36:49.310Z"
   },
   {
    "duration": 47,
    "start_time": "2021-11-29T19:36:49.322Z"
   },
   {
    "duration": 11,
    "start_time": "2021-11-29T19:36:49.400Z"
   },
   {
    "duration": 15,
    "start_time": "2021-11-29T19:36:49.414Z"
   },
   {
    "duration": 5,
    "start_time": "2021-11-29T19:36:49.432Z"
   },
   {
    "duration": 10,
    "start_time": "2021-11-29T19:36:49.440Z"
   },
   {
    "duration": 48,
    "start_time": "2021-11-29T19:36:49.452Z"
   },
   {
    "duration": 12,
    "start_time": "2021-11-29T19:36:49.503Z"
   },
   {
    "duration": 8,
    "start_time": "2021-11-29T19:36:49.517Z"
   },
   {
    "duration": 20,
    "start_time": "2021-11-29T19:36:49.529Z"
   },
   {
    "duration": 19,
    "start_time": "2021-11-29T19:36:49.551Z"
   },
   {
    "duration": 42,
    "start_time": "2021-11-29T19:36:49.572Z"
   },
   {
    "duration": 12,
    "start_time": "2021-11-29T19:36:49.617Z"
   },
   {
    "duration": 45,
    "start_time": "2021-11-29T19:36:49.631Z"
   },
   {
    "duration": 395,
    "start_time": "2021-11-29T19:36:49.679Z"
   },
   {
    "duration": 359,
    "start_time": "2021-11-29T19:36:50.076Z"
   },
   {
    "duration": 25,
    "start_time": "2021-11-29T19:36:50.437Z"
   },
   {
    "duration": 38,
    "start_time": "2021-11-29T19:36:50.464Z"
   },
   {
    "duration": 299,
    "start_time": "2021-11-29T19:36:50.504Z"
   },
   {
    "duration": 38,
    "start_time": "2021-11-29T19:36:50.806Z"
   },
   {
    "duration": 506,
    "start_time": "2021-11-29T19:36:50.847Z"
   },
   {
    "duration": 19,
    "start_time": "2021-11-29T19:36:51.355Z"
   },
   {
    "duration": 802,
    "start_time": "2021-11-29T19:36:51.400Z"
   },
   {
    "duration": 875,
    "start_time": "2021-11-29T19:36:52.205Z"
   },
   {
    "duration": 69,
    "start_time": "2021-11-29T19:36:53.083Z"
   },
   {
    "duration": 59,
    "start_time": "2021-11-29T19:36:53.155Z"
   },
   {
    "duration": 18,
    "start_time": "2021-11-29T19:36:53.216Z"
   },
   {
    "duration": 17,
    "start_time": "2021-11-29T19:36:53.236Z"
   },
   {
    "duration": 9,
    "start_time": "2021-11-29T19:36:53.255Z"
   },
   {
    "duration": 337,
    "start_time": "2021-11-29T19:36:53.266Z"
   },
   {
    "duration": 551,
    "start_time": "2021-11-29T19:36:53.606Z"
   },
   {
    "duration": 467,
    "start_time": "2021-11-29T19:36:54.160Z"
   },
   {
    "duration": 533,
    "start_time": "2021-11-29T19:36:54.629Z"
   },
   {
    "duration": 13,
    "start_time": "2021-11-29T19:36:55.164Z"
   },
   {
    "duration": 22,
    "start_time": "2021-11-29T19:36:55.180Z"
   },
   {
    "duration": 26,
    "start_time": "2021-11-29T19:36:55.205Z"
   },
   {
    "duration": 69,
    "start_time": "2021-11-29T19:36:55.234Z"
   },
   {
    "duration": 576,
    "start_time": "2021-11-29T19:36:55.306Z"
   },
   {
    "duration": 403,
    "start_time": "2021-11-29T19:36:55.884Z"
   },
   {
    "duration": 340,
    "start_time": "2021-11-29T19:36:56.289Z"
   },
   {
    "duration": 352,
    "start_time": "2021-11-29T19:36:56.632Z"
   },
   {
    "duration": 23,
    "start_time": "2021-11-29T19:36:56.986Z"
   },
   {
    "duration": 19,
    "start_time": "2021-11-29T19:36:57.012Z"
   },
   {
    "duration": 961,
    "start_time": "2022-05-05T11:55:19.986Z"
   },
   {
    "duration": 145,
    "start_time": "2022-05-05T11:55:20.950Z"
   },
   {
    "duration": 92,
    "start_time": "2022-05-05T11:55:21.097Z"
   },
   {
    "duration": 32,
    "start_time": "2022-05-05T11:55:21.191Z"
   },
   {
    "duration": 35,
    "start_time": "2022-05-05T11:55:21.226Z"
   },
   {
    "duration": 19,
    "start_time": "2022-05-05T11:55:21.264Z"
   },
   {
    "duration": 16,
    "start_time": "2022-05-05T11:55:21.285Z"
   },
   {
    "duration": 31,
    "start_time": "2022-05-05T11:55:21.304Z"
   },
   {
    "duration": 17,
    "start_time": "2022-05-05T11:55:21.338Z"
   },
   {
    "duration": 41,
    "start_time": "2022-05-05T11:55:21.357Z"
   },
   {
    "duration": 22,
    "start_time": "2022-05-05T11:55:21.400Z"
   },
   {
    "duration": 8,
    "start_time": "2022-05-05T11:55:21.425Z"
   },
   {
    "duration": 25,
    "start_time": "2022-05-05T11:55:21.435Z"
   },
   {
    "duration": 476,
    "start_time": "2022-05-05T13:33:41.654Z"
   },
   {
    "duration": 1318,
    "start_time": "2022-05-05T13:34:48.417Z"
   },
   {
    "duration": 370,
    "start_time": "2022-05-05T13:34:49.736Z"
   },
   {
    "duration": 75,
    "start_time": "2022-05-05T13:34:50.108Z"
   },
   {
    "duration": 22,
    "start_time": "2022-05-05T13:34:50.185Z"
   },
   {
    "duration": 47,
    "start_time": "2022-05-05T13:34:50.210Z"
   },
   {
    "duration": 33,
    "start_time": "2022-05-05T13:34:50.259Z"
   },
   {
    "duration": 38,
    "start_time": "2022-05-05T13:34:50.294Z"
   },
   {
    "duration": 41,
    "start_time": "2022-05-05T13:34:50.334Z"
   },
   {
    "duration": 50,
    "start_time": "2022-05-05T13:34:50.376Z"
   },
   {
    "duration": 52,
    "start_time": "2022-05-05T13:34:50.427Z"
   },
   {
    "duration": 6,
    "start_time": "2022-05-05T13:34:50.481Z"
   },
   {
    "duration": 46,
    "start_time": "2022-05-05T13:34:50.489Z"
   },
   {
    "duration": 26,
    "start_time": "2022-05-05T13:34:50.537Z"
   },
   {
    "duration": 36,
    "start_time": "2022-05-05T13:34:50.567Z"
   },
   {
    "duration": 27,
    "start_time": "2022-05-05T13:34:50.605Z"
   },
   {
    "duration": 27,
    "start_time": "2022-05-05T13:34:50.634Z"
   },
   {
    "duration": 31,
    "start_time": "2022-05-05T13:34:50.663Z"
   },
   {
    "duration": 28,
    "start_time": "2022-05-05T13:34:50.695Z"
   },
   {
    "duration": 30,
    "start_time": "2022-05-05T13:34:50.725Z"
   },
   {
    "duration": 24,
    "start_time": "2022-05-05T13:34:50.756Z"
   },
   {
    "duration": 36,
    "start_time": "2022-05-05T13:34:50.782Z"
   },
   {
    "duration": 28,
    "start_time": "2022-05-05T13:34:50.819Z"
   },
   {
    "duration": 21,
    "start_time": "2022-05-05T13:34:50.848Z"
   },
   {
    "duration": 30,
    "start_time": "2022-05-05T13:34:50.870Z"
   },
   {
    "duration": 42,
    "start_time": "2022-05-05T13:34:50.902Z"
   },
   {
    "duration": 17,
    "start_time": "2022-05-05T13:34:50.946Z"
   },
   {
    "duration": 25,
    "start_time": "2022-05-05T13:34:50.965Z"
   },
   {
    "duration": 38,
    "start_time": "2022-05-05T13:34:50.992Z"
   },
   {
    "duration": 32,
    "start_time": "2022-05-05T13:34:51.032Z"
   },
   {
    "duration": 38,
    "start_time": "2022-05-05T13:34:51.066Z"
   },
   {
    "duration": 37,
    "start_time": "2022-05-05T13:34:51.106Z"
   },
   {
    "duration": 31,
    "start_time": "2022-05-05T13:34:51.145Z"
   },
   {
    "duration": 29,
    "start_time": "2022-05-05T13:34:51.178Z"
   },
   {
    "duration": 42,
    "start_time": "2022-05-05T13:34:51.208Z"
   },
   {
    "duration": 31,
    "start_time": "2022-05-05T13:34:51.252Z"
   },
   {
    "duration": 27,
    "start_time": "2022-05-05T13:34:51.285Z"
   },
   {
    "duration": 44,
    "start_time": "2022-05-05T13:34:51.314Z"
   },
   {
    "duration": 31,
    "start_time": "2022-05-05T13:34:51.359Z"
   },
   {
    "duration": 27,
    "start_time": "2022-05-05T13:34:51.392Z"
   },
   {
    "duration": 229,
    "start_time": "2022-05-05T13:34:51.420Z"
   },
   {
    "duration": 180,
    "start_time": "2022-05-05T13:36:55.106Z"
   },
   {
    "duration": 206,
    "start_time": "2022-05-05T13:37:12.803Z"
   },
   {
    "duration": 98,
    "start_time": "2022-05-05T13:44:45.495Z"
   },
   {
    "duration": 4,
    "start_time": "2022-05-05T13:44:51.087Z"
   },
   {
    "duration": 102,
    "start_time": "2022-05-05T13:44:51.092Z"
   },
   {
    "duration": 43,
    "start_time": "2022-05-05T13:44:51.196Z"
   },
   {
    "duration": 16,
    "start_time": "2022-05-05T13:44:51.241Z"
   },
   {
    "duration": 36,
    "start_time": "2022-05-05T13:44:51.259Z"
   },
   {
    "duration": 23,
    "start_time": "2022-05-05T13:44:51.298Z"
   },
   {
    "duration": 14,
    "start_time": "2022-05-05T13:44:51.323Z"
   },
   {
    "duration": 18,
    "start_time": "2022-05-05T13:44:51.338Z"
   },
   {
    "duration": 18,
    "start_time": "2022-05-05T13:44:51.359Z"
   },
   {
    "duration": 49,
    "start_time": "2022-05-05T13:44:51.378Z"
   },
   {
    "duration": 5,
    "start_time": "2022-05-05T13:44:51.428Z"
   },
   {
    "duration": 11,
    "start_time": "2022-05-05T13:44:51.434Z"
   },
   {
    "duration": 18,
    "start_time": "2022-05-05T13:44:51.447Z"
   },
   {
    "duration": 12,
    "start_time": "2022-05-05T13:44:51.466Z"
   },
   {
    "duration": 22,
    "start_time": "2022-05-05T13:44:51.480Z"
   },
   {
    "duration": 19,
    "start_time": "2022-05-05T13:44:51.504Z"
   },
   {
    "duration": 17,
    "start_time": "2022-05-05T13:44:51.525Z"
   },
   {
    "duration": 24,
    "start_time": "2022-05-05T13:44:51.544Z"
   },
   {
    "duration": 7,
    "start_time": "2022-05-05T13:44:51.570Z"
   },
   {
    "duration": 24,
    "start_time": "2022-05-05T13:44:51.578Z"
   },
   {
    "duration": 19,
    "start_time": "2022-05-05T13:44:51.604Z"
   },
   {
    "duration": 38,
    "start_time": "2022-05-05T13:44:51.624Z"
   },
   {
    "duration": 11,
    "start_time": "2022-05-05T13:44:51.665Z"
   },
   {
    "duration": 9,
    "start_time": "2022-05-05T13:44:51.680Z"
   },
   {
    "duration": 35,
    "start_time": "2022-05-05T13:44:51.690Z"
   },
   {
    "duration": 14,
    "start_time": "2022-05-05T13:44:51.727Z"
   },
   {
    "duration": 13,
    "start_time": "2022-05-05T13:44:51.742Z"
   },
   {
    "duration": 25,
    "start_time": "2022-05-05T13:44:51.756Z"
   },
   {
    "duration": 22,
    "start_time": "2022-05-05T13:44:51.783Z"
   },
   {
    "duration": 26,
    "start_time": "2022-05-05T13:44:51.807Z"
   },
   {
    "duration": 22,
    "start_time": "2022-05-05T13:44:51.835Z"
   },
   {
    "duration": 13,
    "start_time": "2022-05-05T13:44:51.859Z"
   },
   {
    "duration": 29,
    "start_time": "2022-05-05T13:44:51.874Z"
   },
   {
    "duration": 27,
    "start_time": "2022-05-05T13:44:51.905Z"
   },
   {
    "duration": 30,
    "start_time": "2022-05-05T13:44:51.933Z"
   },
   {
    "duration": 89,
    "start_time": "2022-05-05T13:44:51.965Z"
   },
   {
    "duration": 14,
    "start_time": "2022-05-05T13:44:52.056Z"
   },
   {
    "duration": 16,
    "start_time": "2022-05-05T13:44:52.072Z"
   },
   {
    "duration": 10,
    "start_time": "2022-05-05T13:44:52.090Z"
   },
   {
    "duration": 214,
    "start_time": "2022-05-05T13:44:52.102Z"
   },
   {
    "duration": 206,
    "start_time": "2022-05-05T13:44:52.318Z"
   },
   {
    "duration": 18,
    "start_time": "2022-05-05T13:44:52.526Z"
   },
   {
    "duration": 21,
    "start_time": "2022-05-05T13:44:52.545Z"
   },
   {
    "duration": 176,
    "start_time": "2022-05-05T13:44:52.568Z"
   },
   {
    "duration": 50,
    "start_time": "2022-05-05T13:49:28.369Z"
   },
   {
    "duration": 276,
    "start_time": "2022-05-05T13:49:30.185Z"
   },
   {
    "duration": 1194,
    "start_time": "2022-05-05T13:54:06.345Z"
   },
   {
    "duration": 90,
    "start_time": "2022-05-05T13:54:07.541Z"
   },
   {
    "duration": 42,
    "start_time": "2022-05-05T13:54:07.633Z"
   },
   {
    "duration": 21,
    "start_time": "2022-05-05T13:54:07.676Z"
   },
   {
    "duration": 19,
    "start_time": "2022-05-05T13:54:07.699Z"
   },
   {
    "duration": 16,
    "start_time": "2022-05-05T13:54:07.720Z"
   },
   {
    "duration": 11,
    "start_time": "2022-05-05T13:54:07.738Z"
   },
   {
    "duration": 14,
    "start_time": "2022-05-05T13:54:07.751Z"
   },
   {
    "duration": 16,
    "start_time": "2022-05-05T13:54:07.767Z"
   },
   {
    "duration": 55,
    "start_time": "2022-05-05T13:54:07.785Z"
   },
   {
    "duration": 6,
    "start_time": "2022-05-05T13:54:07.842Z"
   },
   {
    "duration": 20,
    "start_time": "2022-05-05T13:54:07.850Z"
   },
   {
    "duration": 18,
    "start_time": "2022-05-05T13:54:07.872Z"
   },
   {
    "duration": 10,
    "start_time": "2022-05-05T13:54:07.894Z"
   },
   {
    "duration": 20,
    "start_time": "2022-05-05T13:54:07.905Z"
   },
   {
    "duration": 9,
    "start_time": "2022-05-05T13:54:07.927Z"
   },
   {
    "duration": 37,
    "start_time": "2022-05-05T13:54:07.938Z"
   },
   {
    "duration": 26,
    "start_time": "2022-05-05T13:54:07.977Z"
   },
   {
    "duration": 11,
    "start_time": "2022-05-05T13:54:08.005Z"
   },
   {
    "duration": 22,
    "start_time": "2022-05-05T13:54:08.018Z"
   },
   {
    "duration": 15,
    "start_time": "2022-05-05T13:54:08.042Z"
   },
   {
    "duration": 40,
    "start_time": "2022-05-05T13:54:08.059Z"
   },
   {
    "duration": 19,
    "start_time": "2022-05-05T13:54:08.101Z"
   },
   {
    "duration": 6,
    "start_time": "2022-05-05T13:54:08.122Z"
   },
   {
    "duration": 21,
    "start_time": "2022-05-05T13:54:08.130Z"
   },
   {
    "duration": 6,
    "start_time": "2022-05-05T13:54:08.153Z"
   },
   {
    "duration": 7,
    "start_time": "2022-05-05T13:54:08.161Z"
   },
   {
    "duration": 20,
    "start_time": "2022-05-05T13:54:08.170Z"
   },
   {
    "duration": 37,
    "start_time": "2022-05-05T13:54:08.192Z"
   },
   {
    "duration": 8,
    "start_time": "2022-05-05T13:54:08.231Z"
   },
   {
    "duration": 7,
    "start_time": "2022-05-05T13:54:08.241Z"
   },
   {
    "duration": 9,
    "start_time": "2022-05-05T13:54:08.250Z"
   },
   {
    "duration": 10,
    "start_time": "2022-05-05T13:54:08.260Z"
   },
   {
    "duration": 12,
    "start_time": "2022-05-05T13:54:08.271Z"
   },
   {
    "duration": 44,
    "start_time": "2022-05-05T13:54:08.284Z"
   },
   {
    "duration": 10,
    "start_time": "2022-05-05T13:54:08.330Z"
   },
   {
    "duration": 28,
    "start_time": "2022-05-05T13:54:08.342Z"
   },
   {
    "duration": 6,
    "start_time": "2022-05-05T13:54:08.372Z"
   },
   {
    "duration": 17,
    "start_time": "2022-05-05T13:54:08.380Z"
   },
   {
    "duration": 244,
    "start_time": "2022-05-05T13:54:08.399Z"
   },
   {
    "duration": 222,
    "start_time": "2022-05-05T13:54:08.647Z"
   },
   {
    "duration": 17,
    "start_time": "2022-05-05T13:54:08.871Z"
   },
   {
    "duration": 7,
    "start_time": "2022-05-05T13:54:08.889Z"
   },
   {
    "duration": 186,
    "start_time": "2022-05-05T13:54:08.898Z"
   },
   {
    "duration": 53,
    "start_time": "2022-05-05T13:54:09.086Z"
   },
   {
    "duration": 267,
    "start_time": "2022-05-05T13:54:09.141Z"
   },
   {
    "duration": 18,
    "start_time": "2022-05-05T13:54:09.409Z"
   },
   {
    "duration": 343,
    "start_time": "2022-05-05T13:56:26.355Z"
   },
   {
    "duration": 446,
    "start_time": "2022-05-05T13:56:33.553Z"
   },
   {
    "duration": 372,
    "start_time": "2022-05-05T13:58:20.010Z"
   },
   {
    "duration": 50,
    "start_time": "2022-05-05T14:01:26.238Z"
   },
   {
    "duration": 4,
    "start_time": "2022-05-05T14:01:30.838Z"
   },
   {
    "duration": 104,
    "start_time": "2022-05-05T14:02:17.470Z"
   },
   {
    "duration": 7,
    "start_time": "2022-05-05T14:02:20.789Z"
   },
   {
    "duration": 4,
    "start_time": "2022-05-05T14:02:22.045Z"
   },
   {
    "duration": 173,
    "start_time": "2022-05-05T14:03:01.887Z"
   },
   {
    "duration": 300,
    "start_time": "2022-05-05T14:07:05.898Z"
   },
   {
    "duration": 307,
    "start_time": "2022-05-05T14:08:17.081Z"
   },
   {
    "duration": 4,
    "start_time": "2022-05-05T14:16:36.674Z"
   },
   {
    "duration": 3788,
    "start_time": "2022-05-05T14:16:48.995Z"
   },
   {
    "duration": 1342,
    "start_time": "2022-05-05T14:17:06.922Z"
   },
   {
    "duration": 98,
    "start_time": "2022-05-05T14:17:08.266Z"
   },
   {
    "duration": 43,
    "start_time": "2022-05-05T14:17:08.366Z"
   },
   {
    "duration": 22,
    "start_time": "2022-05-05T14:17:08.411Z"
   },
   {
    "duration": 24,
    "start_time": "2022-05-05T14:17:08.436Z"
   },
   {
    "duration": 16,
    "start_time": "2022-05-05T14:17:08.462Z"
   },
   {
    "duration": 11,
    "start_time": "2022-05-05T14:17:08.480Z"
   },
   {
    "duration": 37,
    "start_time": "2022-05-05T14:17:08.493Z"
   },
   {
    "duration": 16,
    "start_time": "2022-05-05T14:17:08.532Z"
   },
   {
    "duration": 28,
    "start_time": "2022-05-05T14:17:08.550Z"
   },
   {
    "duration": 5,
    "start_time": "2022-05-05T14:17:08.580Z"
   },
   {
    "duration": 36,
    "start_time": "2022-05-05T14:17:08.587Z"
   },
   {
    "duration": 6,
    "start_time": "2022-05-05T14:17:08.625Z"
   },
   {
    "duration": 6,
    "start_time": "2022-05-05T14:17:08.635Z"
   },
   {
    "duration": 8,
    "start_time": "2022-05-05T14:17:08.643Z"
   },
   {
    "duration": 11,
    "start_time": "2022-05-05T14:17:08.653Z"
   },
   {
    "duration": 12,
    "start_time": "2022-05-05T14:17:08.665Z"
   },
   {
    "duration": 9,
    "start_time": "2022-05-05T14:17:08.679Z"
   },
   {
    "duration": 35,
    "start_time": "2022-05-05T14:17:08.689Z"
   },
   {
    "duration": 16,
    "start_time": "2022-05-05T14:17:08.726Z"
   },
   {
    "duration": 13,
    "start_time": "2022-05-05T14:17:08.744Z"
   },
   {
    "duration": 15,
    "start_time": "2022-05-05T14:17:08.759Z"
   },
   {
    "duration": 9,
    "start_time": "2022-05-05T14:17:08.776Z"
   },
   {
    "duration": 39,
    "start_time": "2022-05-05T14:17:08.787Z"
   },
   {
    "duration": 27,
    "start_time": "2022-05-05T14:17:08.828Z"
   },
   {
    "duration": 5,
    "start_time": "2022-05-05T14:17:08.858Z"
   },
   {
    "duration": 6,
    "start_time": "2022-05-05T14:17:08.864Z"
   },
   {
    "duration": 20,
    "start_time": "2022-05-05T14:17:08.871Z"
   },
   {
    "duration": 11,
    "start_time": "2022-05-05T14:17:08.892Z"
   },
   {
    "duration": 8,
    "start_time": "2022-05-05T14:17:08.923Z"
   },
   {
    "duration": 6,
    "start_time": "2022-05-05T14:17:08.933Z"
   },
   {
    "duration": 14,
    "start_time": "2022-05-05T14:17:08.941Z"
   },
   {
    "duration": 14,
    "start_time": "2022-05-05T14:17:08.956Z"
   },
   {
    "duration": 8,
    "start_time": "2022-05-05T14:17:08.972Z"
   },
   {
    "duration": 16,
    "start_time": "2022-05-05T14:17:08.982Z"
   },
   {
    "duration": 29,
    "start_time": "2022-05-05T14:17:09.000Z"
   },
   {
    "duration": 18,
    "start_time": "2022-05-05T14:17:09.031Z"
   },
   {
    "duration": 14,
    "start_time": "2022-05-05T14:17:09.051Z"
   },
   {
    "duration": 12,
    "start_time": "2022-05-05T14:17:09.067Z"
   },
   {
    "duration": 319,
    "start_time": "2022-05-05T14:17:09.081Z"
   },
   {
    "duration": 211,
    "start_time": "2022-05-05T14:17:09.404Z"
   },
   {
    "duration": 27,
    "start_time": "2022-05-05T14:17:09.617Z"
   },
   {
    "duration": 8,
    "start_time": "2022-05-05T14:17:09.646Z"
   },
   {
    "duration": 214,
    "start_time": "2022-05-05T14:17:09.656Z"
   },
   {
    "duration": 70,
    "start_time": "2022-05-05T14:17:09.872Z"
   },
   {
    "duration": 279,
    "start_time": "2022-05-05T14:17:09.944Z"
   },
   {
    "duration": 16,
    "start_time": "2022-05-05T14:17:10.226Z"
   },
   {
    "duration": 405,
    "start_time": "2022-05-05T14:17:10.244Z"
   },
   {
    "duration": 468,
    "start_time": "2022-05-05T14:17:10.652Z"
   },
   {
    "duration": 54,
    "start_time": "2022-05-05T14:17:11.122Z"
   },
   {
    "duration": 5,
    "start_time": "2022-05-05T14:17:11.178Z"
   },
   {
    "duration": 10,
    "start_time": "2022-05-05T14:17:11.185Z"
   },
   {
    "duration": 28,
    "start_time": "2022-05-05T14:17:11.197Z"
   },
   {
    "duration": 5,
    "start_time": "2022-05-05T14:17:11.227Z"
   },
   {
    "duration": 232,
    "start_time": "2022-05-05T14:17:11.234Z"
   },
   {
    "duration": 359,
    "start_time": "2022-05-05T14:17:11.467Z"
   },
   {
    "duration": 283,
    "start_time": "2022-05-05T14:17:11.828Z"
   },
   {
    "duration": 361,
    "start_time": "2022-05-05T14:17:12.113Z"
   },
   {
    "duration": 7,
    "start_time": "2022-05-05T14:17:12.476Z"
   },
   {
    "duration": 9,
    "start_time": "2022-05-05T14:17:12.484Z"
   },
   {
    "duration": 31,
    "start_time": "2022-05-05T14:17:12.495Z"
   },
   {
    "duration": 27,
    "start_time": "2022-05-05T14:17:12.529Z"
   },
   {
    "duration": 234,
    "start_time": "2022-05-05T14:17:12.558Z"
   },
   {
    "duration": 208,
    "start_time": "2022-05-05T14:17:23.012Z"
   },
   {
    "duration": 214,
    "start_time": "2022-05-05T14:17:31.395Z"
   },
   {
    "duration": 192,
    "start_time": "2022-05-05T14:17:38.451Z"
   },
   {
    "duration": 319,
    "start_time": "2022-05-05T14:17:42.922Z"
   },
   {
    "duration": 178,
    "start_time": "2022-05-05T14:18:33.749Z"
   },
   {
    "duration": 338,
    "start_time": "2022-05-05T14:19:08.306Z"
   },
   {
    "duration": 219,
    "start_time": "2022-05-05T14:19:32.781Z"
   },
   {
    "duration": 11,
    "start_time": "2022-05-05T14:20:34.692Z"
   },
   {
    "duration": 11,
    "start_time": "2022-05-05T14:20:47.692Z"
   },
   {
    "duration": 12,
    "start_time": "2022-05-05T14:21:15.700Z"
   },
   {
    "duration": 1641,
    "start_time": "2022-05-05T14:23:49.543Z"
   },
   {
    "duration": 140,
    "start_time": "2022-05-05T14:23:51.187Z"
   },
   {
    "duration": 47,
    "start_time": "2022-05-05T14:23:51.329Z"
   },
   {
    "duration": 24,
    "start_time": "2022-05-05T14:23:51.379Z"
   },
   {
    "duration": 34,
    "start_time": "2022-05-05T14:23:51.405Z"
   },
   {
    "duration": 42,
    "start_time": "2022-05-05T14:23:51.441Z"
   },
   {
    "duration": 14,
    "start_time": "2022-05-05T14:23:51.485Z"
   },
   {
    "duration": 17,
    "start_time": "2022-05-05T14:23:51.501Z"
   },
   {
    "duration": 28,
    "start_time": "2022-05-05T14:23:51.519Z"
   },
   {
    "duration": 38,
    "start_time": "2022-05-05T14:23:51.551Z"
   },
   {
    "duration": 7,
    "start_time": "2022-05-05T14:23:51.591Z"
   },
   {
    "duration": 25,
    "start_time": "2022-05-05T14:23:51.599Z"
   },
   {
    "duration": 34,
    "start_time": "2022-05-05T14:23:51.626Z"
   },
   {
    "duration": 21,
    "start_time": "2022-05-05T14:23:51.662Z"
   },
   {
    "duration": 10,
    "start_time": "2022-05-05T14:23:51.685Z"
   },
   {
    "duration": 12,
    "start_time": "2022-05-05T14:23:51.697Z"
   },
   {
    "duration": 13,
    "start_time": "2022-05-05T14:23:51.711Z"
   },
   {
    "duration": 12,
    "start_time": "2022-05-05T14:23:51.726Z"
   },
   {
    "duration": 9,
    "start_time": "2022-05-05T14:23:51.739Z"
   },
   {
    "duration": 25,
    "start_time": "2022-05-05T14:23:51.750Z"
   },
   {
    "duration": 18,
    "start_time": "2022-05-05T14:23:51.777Z"
   },
   {
    "duration": 30,
    "start_time": "2022-05-05T14:23:51.797Z"
   },
   {
    "duration": 10,
    "start_time": "2022-05-05T14:23:51.829Z"
   },
   {
    "duration": 38,
    "start_time": "2022-05-05T14:23:51.841Z"
   },
   {
    "duration": 30,
    "start_time": "2022-05-05T14:23:51.880Z"
   },
   {
    "duration": 10,
    "start_time": "2022-05-05T14:23:51.912Z"
   },
   {
    "duration": 10,
    "start_time": "2022-05-05T14:23:51.925Z"
   },
   {
    "duration": 25,
    "start_time": "2022-05-05T14:23:51.942Z"
   },
   {
    "duration": 11,
    "start_time": "2022-05-05T14:23:51.971Z"
   },
   {
    "duration": 10,
    "start_time": "2022-05-05T14:23:51.984Z"
   },
   {
    "duration": 30,
    "start_time": "2022-05-05T14:23:51.996Z"
   },
   {
    "duration": 7,
    "start_time": "2022-05-05T14:23:52.028Z"
   },
   {
    "duration": 12,
    "start_time": "2022-05-05T14:23:52.039Z"
   },
   {
    "duration": 6,
    "start_time": "2022-05-05T14:23:52.053Z"
   },
   {
    "duration": 17,
    "start_time": "2022-05-05T14:23:52.060Z"
   },
   {
    "duration": 44,
    "start_time": "2022-05-05T14:23:52.079Z"
   },
   {
    "duration": 17,
    "start_time": "2022-05-05T14:23:52.124Z"
   },
   {
    "duration": 6,
    "start_time": "2022-05-05T14:23:52.143Z"
   },
   {
    "duration": 9,
    "start_time": "2022-05-05T14:23:52.150Z"
   },
   {
    "duration": 241,
    "start_time": "2022-05-05T14:23:52.161Z"
   },
   {
    "duration": 224,
    "start_time": "2022-05-05T14:23:52.404Z"
   },
   {
    "duration": 19,
    "start_time": "2022-05-05T14:23:52.630Z"
   },
   {
    "duration": 13,
    "start_time": "2022-05-05T14:23:52.651Z"
   },
   {
    "duration": 285,
    "start_time": "2022-05-05T14:23:52.666Z"
   },
   {
    "duration": 53,
    "start_time": "2022-05-05T14:23:52.953Z"
   },
   {
    "duration": 260,
    "start_time": "2022-05-05T14:23:53.008Z"
   },
   {
    "duration": 14,
    "start_time": "2022-05-05T14:23:53.270Z"
   },
   {
    "duration": 402,
    "start_time": "2022-05-05T14:23:53.286Z"
   },
   {
    "duration": 454,
    "start_time": "2022-05-05T14:23:53.690Z"
   },
   {
    "duration": 87,
    "start_time": "2022-05-05T14:23:54.146Z"
   },
   {
    "duration": 5,
    "start_time": "2022-05-05T14:23:54.235Z"
   },
   {
    "duration": 18,
    "start_time": "2022-05-05T14:23:54.242Z"
   },
   {
    "duration": 63,
    "start_time": "2022-05-05T14:23:54.262Z"
   },
   {
    "duration": 40,
    "start_time": "2022-05-05T14:23:54.327Z"
   },
   {
    "duration": 364,
    "start_time": "2022-05-05T14:23:54.369Z"
   },
   {
    "duration": 488,
    "start_time": "2022-05-05T14:23:54.735Z"
   },
   {
    "duration": 380,
    "start_time": "2022-05-05T14:23:55.225Z"
   },
   {
    "duration": 311,
    "start_time": "2022-05-05T14:23:55.607Z"
   },
   {
    "duration": 7,
    "start_time": "2022-05-05T14:23:55.920Z"
   },
   {
    "duration": 7,
    "start_time": "2022-05-05T14:23:55.929Z"
   },
   {
    "duration": 17,
    "start_time": "2022-05-05T14:23:55.938Z"
   },
   {
    "duration": 27,
    "start_time": "2022-05-05T14:23:55.956Z"
   },
   {
    "duration": 240,
    "start_time": "2022-05-05T14:23:55.985Z"
   },
   {
    "duration": 302,
    "start_time": "2022-05-05T14:23:56.227Z"
   },
   {
    "duration": 291,
    "start_time": "2022-05-05T14:23:56.531Z"
   },
   {
    "duration": 235,
    "start_time": "2022-05-05T14:23:56.824Z"
   },
   {
    "duration": 12,
    "start_time": "2022-05-05T14:23:57.061Z"
   },
   {
    "duration": 23,
    "start_time": "2022-05-05T14:23:57.075Z"
   }
  ],
  "colab": {
   "name": "DA+. Сборный проект 1. Шаблон (1).ipynb",
   "provenance": []
  },
  "kernelspec": {
   "display_name": "Python 3 (ipykernel)",
   "language": "python",
   "name": "python3"
  },
  "language_info": {
   "codemirror_mode": {
    "name": "ipython",
    "version": 3
   },
   "file_extension": ".py",
   "mimetype": "text/x-python",
   "name": "python",
   "nbconvert_exporter": "python",
   "pygments_lexer": "ipython3",
   "version": "3.9.5"
  },
  "toc": {
   "base_numbering": 1,
   "nav_menu": {},
   "number_sections": true,
   "sideBar": true,
   "skip_h1_title": true,
   "title_cell": "Table of Contents",
   "title_sidebar": "Contents",
   "toc_cell": false,
   "toc_position": {
    "height": "calc(100% - 180px)",
    "left": "10px",
    "top": "150px",
    "width": "187px"
   },
   "toc_section_display": true,
   "toc_window_display": false
  }
 },
 "nbformat": 4,
 "nbformat_minor": 1
}
