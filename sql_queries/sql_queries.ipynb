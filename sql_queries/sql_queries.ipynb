{
 "cells": [
  {
   "cell_type": "markdown",
   "metadata": {},
   "source": [
    "# SQL-запросы"
   ]
  },
  {
   "cell_type": "code",
   "execution_count": 1,
   "metadata": {
    "id": "nlZBlglMDWKe"
   },
   "outputs": [],
   "source": [
    "# импорт библиотек\n",
    "import matplotlib.pyplot as plt\n",
    "import pandas as pd\n",
    "import seaborn as sns\n",
    "from sqlalchemy import create_engine "
   ]
  },
  {
   "cell_type": "markdown",
   "metadata": {
    "id": "XnOE3n28DWKg"
   },
   "source": [
    "## Конфигурация для подключения к базе данных "
   ]
  },
  {
   "cell_type": "code",
   "execution_count": 2,
   "metadata": {
    "id": "6p-yGp7qDWKg"
   },
   "outputs": [],
   "source": [
    "# подключение к базе данных\n",
    "# параметры для подключения к БД скрыты в соответствии с офертой Яндекс.Практикума\n",
    "db_config = {\n",
    "    'user': '', # имя пользователя\n",
    "    'pwd': '', # пароль\n",
    "    'host': '',\n",
    "    'port':  # порт подключения\n",
    "    'db': '' # название базы данных\n",
    "}  \n",
    "\n",
    "connection_string = 'postgresql://{}:{}@{}:{}/{}'.format(\n",
    "    db_config['user'],\n",
    "    db_config['pwd'],\n",
    "    db_config['host'],\n",
    "    db_config['port'],\n",
    "    db_config['db'],\n",
    ")"
   ]
  },
  {
   "cell_type": "code",
   "execution_count": 3,
   "metadata": {
    "id": "DamCUTR6DWKi"
   },
   "outputs": [],
   "source": [
    "# создание подключения\n",
    "engine = create_engine(connection_string) "
   ]
  },
  {
   "cell_type": "markdown",
   "metadata": {
    "id": "gnBMXkDBDWKm"
   },
   "source": [
    "## Задание 1"
   ]
  },
  {
   "cell_type": "markdown",
   "metadata": {
    "id": "vHsfOrrNDWKn"
   },
   "source": [
    "Вывести общую сумму просмотров постов за каждый месяц 2008 года. Если данных за какой-либо месяц в базе нет, такой месяц можно пропустить. Результат отсортировать по убыванию общего количества просмотров."
   ]
  },
  {
   "cell_type": "code",
   "execution_count": 4,
   "metadata": {
    "id": "eWvykcXTDWKo"
   },
   "outputs": [],
   "source": [
    "query = '''\n",
    "SELECT \n",
    "    DATE_TRUNC('MONTH', creation_date) AS month_date,\n",
    "    SUM(views_count) AS total_views\n",
    "FROM stackoverflow.posts\n",
    "WHERE DATE_TRUNC('MONTH', creation_date) BETWEEN '2008-01-01' AND '2008-12-01'\n",
    "GROUP BY DATE_TRUNC('MONTH', creation_date)\n",
    "ORDER BY SUM(views_count) DESC\n",
    "'''\n",
    "sample_df = pd.read_sql_query(query, con=engine)"
   ]
  },
  {
   "cell_type": "code",
   "execution_count": 5,
   "metadata": {},
   "outputs": [
    {
     "data": {
      "text/html": [
       "<div>\n",
       "<style scoped>\n",
       "    .dataframe tbody tr th:only-of-type {\n",
       "        vertical-align: middle;\n",
       "    }\n",
       "\n",
       "    .dataframe tbody tr th {\n",
       "        vertical-align: top;\n",
       "    }\n",
       "\n",
       "    .dataframe thead th {\n",
       "        text-align: right;\n",
       "    }\n",
       "</style>\n",
       "<table border=\"1\" class=\"dataframe\">\n",
       "  <thead>\n",
       "    <tr style=\"text-align: right;\">\n",
       "      <th></th>\n",
       "      <th>month_date</th>\n",
       "      <th>total_views</th>\n",
       "    </tr>\n",
       "  </thead>\n",
       "  <tbody>\n",
       "    <tr>\n",
       "      <th>0</th>\n",
       "      <td>2008-09-01</td>\n",
       "      <td>452928568</td>\n",
       "    </tr>\n",
       "    <tr>\n",
       "      <th>1</th>\n",
       "      <td>2008-10-01</td>\n",
       "      <td>365400138</td>\n",
       "    </tr>\n",
       "    <tr>\n",
       "      <th>2</th>\n",
       "      <td>2008-11-01</td>\n",
       "      <td>221759651</td>\n",
       "    </tr>\n",
       "    <tr>\n",
       "      <th>3</th>\n",
       "      <td>2008-12-01</td>\n",
       "      <td>197792841</td>\n",
       "    </tr>\n",
       "    <tr>\n",
       "      <th>4</th>\n",
       "      <td>2008-08-01</td>\n",
       "      <td>131367083</td>\n",
       "    </tr>\n",
       "    <tr>\n",
       "      <th>5</th>\n",
       "      <td>2008-07-01</td>\n",
       "      <td>669895</td>\n",
       "    </tr>\n",
       "  </tbody>\n",
       "</table>\n",
       "</div>"
      ],
      "text/plain": [
       "  month_date  total_views\n",
       "0 2008-09-01    452928568\n",
       "1 2008-10-01    365400138\n",
       "2 2008-11-01    221759651\n",
       "3 2008-12-01    197792841\n",
       "4 2008-08-01    131367083\n",
       "5 2008-07-01       669895"
      ]
     },
     "execution_count": 5,
     "metadata": {},
     "output_type": "execute_result"
    }
   ],
   "source": [
    "sample_df"
   ]
  },
  {
   "cell_type": "markdown",
   "metadata": {
    "id": "I_ZvhOxkDWKp"
   },
   "source": [
    "**Вопрос: Отличаются ли данные за разные месяцы? С чем могут быть связаны отличия?**"
   ]
  },
  {
   "cell_type": "markdown",
   "metadata": {},
   "source": [
    "**Анализ таблицы:** в июле-августе 2008 года была запущена самая первая версия проекта StackOverflow, именно поэтому число просмотров постов наименьшее, в сравнении с остальными месяцами года.\n",
    "Сентябрь 2008 года считается официальной датой запуска StackOverflow. Одной из главных особенностей проекта считается то, что разработчики не должны платить за доступ к информации, оставленной другими разработчиками. Именно в первый месяц официального запуска и предоставления публичного доступа самое большое число просмотров постов. "
   ]
  },
  {
   "cell_type": "markdown",
   "metadata": {
    "id": "FziIXkn5DWKr"
   },
   "source": [
    "# Задание 2"
   ]
  },
  {
   "cell_type": "markdown",
   "metadata": {
    "id": "fTGESZvYDWKr"
   },
   "source": [
    "Вывести имена самых активных пользователей, которые в первый месяц после регистрации (включая день регистрации) дали больше 100 ответов. Вопросы, которые задавали пользователи, не учитывать. Для каждого имени пользователя вывести количество уникальных значений `user_id`. Отсортировать результат по полю с именами в лексикографическом порядке."
   ]
  },
  {
   "cell_type": "code",
   "execution_count": 6,
   "metadata": {
    "id": "fIO-y-YjDWKt"
   },
   "outputs": [],
   "source": [
    "query = '''\n",
    "SELECT\n",
    "    u.display_name, \n",
    "    COUNT(DISTINCT p.user_id)\n",
    "FROM stackoverflow.users AS u\n",
    "JOIN stackoverflow.posts AS p ON p.user_id = u.id\n",
    "JOIN stackoverflow.post_types AS pt ON pt.id = p.post_type_id\n",
    "WHERE pt.type = 'Answer' \n",
    "      AND u.creation_date <= p.creation_date AND p.creation_date <= u.creation_date + INTERVAL '1 months'\n",
    "GROUP BY u.display_name\n",
    "HAVING COUNT(p.user_id) > 100\n",
    "ORDER BY u.display_name\n",
    "'''\n",
    "sample_df = pd.read_sql_query(query, con=engine)"
   ]
  },
  {
   "cell_type": "code",
   "execution_count": 7,
   "metadata": {},
   "outputs": [
    {
     "data": {
      "text/html": [
       "<div>\n",
       "<style scoped>\n",
       "    .dataframe tbody tr th:only-of-type {\n",
       "        vertical-align: middle;\n",
       "    }\n",
       "\n",
       "    .dataframe tbody tr th {\n",
       "        vertical-align: top;\n",
       "    }\n",
       "\n",
       "    .dataframe thead th {\n",
       "        text-align: right;\n",
       "    }\n",
       "</style>\n",
       "<table border=\"1\" class=\"dataframe\">\n",
       "  <thead>\n",
       "    <tr style=\"text-align: right;\">\n",
       "      <th></th>\n",
       "      <th>display_name</th>\n",
       "      <th>count</th>\n",
       "    </tr>\n",
       "  </thead>\n",
       "  <tbody>\n",
       "    <tr>\n",
       "      <th>0</th>\n",
       "      <td>1800 INFORMATION</td>\n",
       "      <td>1</td>\n",
       "    </tr>\n",
       "    <tr>\n",
       "      <th>1</th>\n",
       "      <td>Adam Bellaire</td>\n",
       "      <td>1</td>\n",
       "    </tr>\n",
       "    <tr>\n",
       "      <th>2</th>\n",
       "      <td>Adam Davis</td>\n",
       "      <td>1</td>\n",
       "    </tr>\n",
       "    <tr>\n",
       "      <th>3</th>\n",
       "      <td>Adam Liss</td>\n",
       "      <td>1</td>\n",
       "    </tr>\n",
       "    <tr>\n",
       "      <th>4</th>\n",
       "      <td>Alan</td>\n",
       "      <td>8</td>\n",
       "    </tr>\n",
       "    <tr>\n",
       "      <th>...</th>\n",
       "      <td>...</td>\n",
       "      <td>...</td>\n",
       "    </tr>\n",
       "    <tr>\n",
       "      <th>71</th>\n",
       "      <td>leppie</td>\n",
       "      <td>1</td>\n",
       "    </tr>\n",
       "    <tr>\n",
       "      <th>72</th>\n",
       "      <td>lomaxx</td>\n",
       "      <td>1</td>\n",
       "    </tr>\n",
       "    <tr>\n",
       "      <th>73</th>\n",
       "      <td>mattlant</td>\n",
       "      <td>1</td>\n",
       "    </tr>\n",
       "    <tr>\n",
       "      <th>74</th>\n",
       "      <td>paxdiablo</td>\n",
       "      <td>1</td>\n",
       "    </tr>\n",
       "    <tr>\n",
       "      <th>75</th>\n",
       "      <td>tzot</td>\n",
       "      <td>1</td>\n",
       "    </tr>\n",
       "  </tbody>\n",
       "</table>\n",
       "<p>76 rows × 2 columns</p>\n",
       "</div>"
      ],
      "text/plain": [
       "        display_name  count\n",
       "0   1800 INFORMATION      1\n",
       "1      Adam Bellaire      1\n",
       "2         Adam Davis      1\n",
       "3          Adam Liss      1\n",
       "4               Alan      8\n",
       "..               ...    ...\n",
       "71            leppie      1\n",
       "72            lomaxx      1\n",
       "73          mattlant      1\n",
       "74         paxdiablo      1\n",
       "75              tzot      1\n",
       "\n",
       "[76 rows x 2 columns]"
      ]
     },
     "execution_count": 7,
     "metadata": {},
     "output_type": "execute_result"
    }
   ],
   "source": [
    "sample_df"
   ]
  },
  {
   "cell_type": "markdown",
   "metadata": {
    "id": "I3Wr82TplKpI"
   },
   "source": [
    "**Вопрос: Какие аномалии наблюдаются в данных? О чём они говорят?**"
   ]
  },
  {
   "cell_type": "code",
   "execution_count": 8,
   "metadata": {
    "id": "CEIGGQ6ODWKy"
   },
   "outputs": [
    {
     "data": {
      "text/html": [
       "<div>\n",
       "<style scoped>\n",
       "    .dataframe tbody tr th:only-of-type {\n",
       "        vertical-align: middle;\n",
       "    }\n",
       "\n",
       "    .dataframe tbody tr th {\n",
       "        vertical-align: top;\n",
       "    }\n",
       "\n",
       "    .dataframe thead th {\n",
       "        text-align: right;\n",
       "    }\n",
       "</style>\n",
       "<table border=\"1\" class=\"dataframe\">\n",
       "  <thead>\n",
       "    <tr style=\"text-align: right;\">\n",
       "      <th></th>\n",
       "      <th>display_name</th>\n",
       "      <th>count</th>\n",
       "    </tr>\n",
       "  </thead>\n",
       "  <tbody>\n",
       "    <tr>\n",
       "      <th>4</th>\n",
       "      <td>Alan</td>\n",
       "      <td>8</td>\n",
       "    </tr>\n",
       "    <tr>\n",
       "      <th>7</th>\n",
       "      <td>Brian</td>\n",
       "      <td>15</td>\n",
       "    </tr>\n",
       "    <tr>\n",
       "      <th>10</th>\n",
       "      <td>Chris</td>\n",
       "      <td>29</td>\n",
       "    </tr>\n",
       "    <tr>\n",
       "      <th>12</th>\n",
       "      <td>Craig</td>\n",
       "      <td>10</td>\n",
       "    </tr>\n",
       "    <tr>\n",
       "      <th>14</th>\n",
       "      <td>Dan</td>\n",
       "      <td>21</td>\n",
       "    </tr>\n",
       "    <tr>\n",
       "      <th>21</th>\n",
       "      <td>Greg</td>\n",
       "      <td>12</td>\n",
       "    </tr>\n",
       "    <tr>\n",
       "      <th>25</th>\n",
       "      <td>Jim</td>\n",
       "      <td>7</td>\n",
       "    </tr>\n",
       "    <tr>\n",
       "      <th>26</th>\n",
       "      <td>Joe</td>\n",
       "      <td>9</td>\n",
       "    </tr>\n",
       "    <tr>\n",
       "      <th>33</th>\n",
       "      <td>Josh</td>\n",
       "      <td>16</td>\n",
       "    </tr>\n",
       "    <tr>\n",
       "      <th>34</th>\n",
       "      <td>Keith</td>\n",
       "      <td>5</td>\n",
       "    </tr>\n",
       "    <tr>\n",
       "      <th>35</th>\n",
       "      <td>Kevin</td>\n",
       "      <td>11</td>\n",
       "    </tr>\n",
       "    <tr>\n",
       "      <th>40</th>\n",
       "      <td>Mark</td>\n",
       "      <td>16</td>\n",
       "    </tr>\n",
       "    <tr>\n",
       "      <th>43</th>\n",
       "      <td>Matt</td>\n",
       "      <td>29</td>\n",
       "    </tr>\n",
       "    <tr>\n",
       "      <th>48</th>\n",
       "      <td>Nick</td>\n",
       "      <td>16</td>\n",
       "    </tr>\n",
       "    <tr>\n",
       "      <th>50</th>\n",
       "      <td>Oli</td>\n",
       "      <td>3</td>\n",
       "    </tr>\n",
       "    <tr>\n",
       "      <th>54</th>\n",
       "      <td>Rob</td>\n",
       "      <td>15</td>\n",
       "    </tr>\n",
       "    <tr>\n",
       "      <th>57</th>\n",
       "      <td>Ryan</td>\n",
       "      <td>10</td>\n",
       "    </tr>\n",
       "    <tr>\n",
       "      <th>62</th>\n",
       "      <td>Tom</td>\n",
       "      <td>19</td>\n",
       "    </tr>\n",
       "    <tr>\n",
       "      <th>70</th>\n",
       "      <td>jfs</td>\n",
       "      <td>3</td>\n",
       "    </tr>\n",
       "  </tbody>\n",
       "</table>\n",
       "</div>"
      ],
      "text/plain": [
       "   display_name  count\n",
       "4          Alan      8\n",
       "7         Brian     15\n",
       "10        Chris     29\n",
       "12        Craig     10\n",
       "14          Dan     21\n",
       "21         Greg     12\n",
       "25          Jim      7\n",
       "26          Joe      9\n",
       "33         Josh     16\n",
       "34        Keith      5\n",
       "35        Kevin     11\n",
       "40         Mark     16\n",
       "43         Matt     29\n",
       "48         Nick     16\n",
       "50          Oli      3\n",
       "54          Rob     15\n",
       "57         Ryan     10\n",
       "62          Tom     19\n",
       "70          jfs      3"
      ]
     },
     "execution_count": 8,
     "metadata": {},
     "output_type": "execute_result"
    }
   ],
   "source": [
    "# выведу строки, где количество уникального id пользователя встречается больше одного раза\n",
    "sample_df.query('count > 1')"
   ]
  },
  {
   "cell_type": "markdown",
   "metadata": {},
   "source": [
    "**Анализ таблицы:** аномалия в данных заключается в том, что есть 19 никнеймов, которые не идентифицируют конкретного пользователя. Например, имя Chris имеют 29 уникальных пользователей, имя Dan - 21 пользователь и тд."
   ]
  },
  {
   "cell_type": "markdown",
   "metadata": {
    "id": "JhM2xXj5DWKu"
   },
   "source": [
    "# Задание 3"
   ]
  },
  {
   "cell_type": "markdown",
   "metadata": {
    "id": "IS6xPqyyDWKu"
   },
   "source": [
    "Вывести количество постов за 2008 год по месяцам. Отобрать посты от пользователей, которые зарегистрировались в сентябре 2008 года и сделали хотя бы один пост в декабре того же года. Отсортировать таблицу по значению месяца по убыванию."
   ]
  },
  {
   "cell_type": "code",
   "execution_count": 9,
   "metadata": {
    "id": "kVu0FB8WDWKv"
   },
   "outputs": [],
   "source": [
    "query = '''\n",
    "SELECT \n",
    "    DATE_TRUNC('MONTH', p.creation_date) AS month,\n",
    "    COUNT(p.id)\n",
    "FROM stackoverflow.posts as p\n",
    "WHERE p.user_id IN (SELECT DISTINCT u.id\n",
    "                    FROM stackoverflow.posts AS p\n",
    "                    JOIN stackoverflow.users AS u ON u.id = p.user_id\n",
    "                    WHERE DATE(DATE_TRUNC('MONTH', u.creation_date)) = '2008-09-01' AND\n",
    "                    DATE(DATE_TRUNC('MONTH', p.creation_date)) = '2008-12-01')\n",
    "GROUP BY month\n",
    "ORDER BY month DESC\n",
    "'''\n",
    "sample_df = pd.read_sql_query(query, con=engine)"
   ]
  },
  {
   "cell_type": "code",
   "execution_count": 10,
   "metadata": {},
   "outputs": [
    {
     "data": {
      "text/html": [
       "<div>\n",
       "<style scoped>\n",
       "    .dataframe tbody tr th:only-of-type {\n",
       "        vertical-align: middle;\n",
       "    }\n",
       "\n",
       "    .dataframe tbody tr th {\n",
       "        vertical-align: top;\n",
       "    }\n",
       "\n",
       "    .dataframe thead th {\n",
       "        text-align: right;\n",
       "    }\n",
       "</style>\n",
       "<table border=\"1\" class=\"dataframe\">\n",
       "  <thead>\n",
       "    <tr style=\"text-align: right;\">\n",
       "      <th></th>\n",
       "      <th>month</th>\n",
       "      <th>count</th>\n",
       "    </tr>\n",
       "  </thead>\n",
       "  <tbody>\n",
       "    <tr>\n",
       "      <th>0</th>\n",
       "      <td>2008-12-01</td>\n",
       "      <td>17641</td>\n",
       "    </tr>\n",
       "    <tr>\n",
       "      <th>1</th>\n",
       "      <td>2008-11-01</td>\n",
       "      <td>18294</td>\n",
       "    </tr>\n",
       "    <tr>\n",
       "      <th>2</th>\n",
       "      <td>2008-10-01</td>\n",
       "      <td>27171</td>\n",
       "    </tr>\n",
       "    <tr>\n",
       "      <th>3</th>\n",
       "      <td>2008-09-01</td>\n",
       "      <td>24870</td>\n",
       "    </tr>\n",
       "    <tr>\n",
       "      <th>4</th>\n",
       "      <td>2008-08-01</td>\n",
       "      <td>32</td>\n",
       "    </tr>\n",
       "  </tbody>\n",
       "</table>\n",
       "</div>"
      ],
      "text/plain": [
       "       month  count\n",
       "0 2008-12-01  17641\n",
       "1 2008-11-01  18294\n",
       "2 2008-10-01  27171\n",
       "3 2008-09-01  24870\n",
       "4 2008-08-01     32"
      ]
     },
     "execution_count": 10,
     "metadata": {},
     "output_type": "execute_result"
    }
   ],
   "source": [
    "sample_df"
   ]
  },
  {
   "cell_type": "markdown",
   "metadata": {
    "id": "Vnxn9DVHDWKx"
   },
   "source": [
    "**Вопрос: есть ли аномалии в данных?**"
   ]
  },
  {
   "cell_type": "markdown",
   "metadata": {},
   "source": [
    "**Анализ таблицы:** да, есть аномалии: в запросе присутствуют 32 поста, оставленные пользователями в августе 2008, при том, что дата регистрации пользователя на сайте - сентябрь 2008 года. Это могут быть ошибки в базе данных, или влияет смещение часовых поясов, либо можно было оставлять сообщения до регистрации."
   ]
  },
  {
   "cell_type": "markdown",
   "metadata": {
    "id": "5Pcizm0DDWKz"
   },
   "source": [
    "# Задание 4"
   ]
  },
  {
   "cell_type": "markdown",
   "metadata": {
    "id": "KUZPF6vHDWKz"
   },
   "source": [
    "Используя данные о постах, вывести несколько полей:\n",
    "\n",
    "- идентификатор пользователя, который написал пост;\n",
    "- дата создания поста;\n",
    "- количество просмотров у текущего поста;\n",
    "- сумму просмотров постов автора с накоплением.\n",
    "\n",
    "Данные в таблице должны быть отсортированы по возрастанию идентификаторов пользователей, а данные об одном и том же пользователе — по возрастанию даты создания поста."
   ]
  },
  {
   "cell_type": "code",
   "execution_count": 11,
   "metadata": {
    "id": "hDoJhMzfDWK0"
   },
   "outputs": [],
   "source": [
    "query = '''\n",
    "SELECT \n",
    "    user_id, \n",
    "    creation_date, views_count, \n",
    "    SUM(views_count) OVER(PARTITION BY user_id ORDER BY creation_date) AS cumulative_count\n",
    "FROM stackoverflow.posts\n",
    "ORDER BY user_id, creation_date\n",
    "'''\n",
    "sample_df = pd.read_sql_query(query, con=engine)"
   ]
  },
  {
   "cell_type": "code",
   "execution_count": 12,
   "metadata": {},
   "outputs": [
    {
     "data": {
      "text/html": [
       "<div>\n",
       "<style scoped>\n",
       "    .dataframe tbody tr th:only-of-type {\n",
       "        vertical-align: middle;\n",
       "    }\n",
       "\n",
       "    .dataframe tbody tr th {\n",
       "        vertical-align: top;\n",
       "    }\n",
       "\n",
       "    .dataframe thead th {\n",
       "        text-align: right;\n",
       "    }\n",
       "</style>\n",
       "<table border=\"1\" class=\"dataframe\">\n",
       "  <thead>\n",
       "    <tr style=\"text-align: right;\">\n",
       "      <th></th>\n",
       "      <th>user_id</th>\n",
       "      <th>creation_date</th>\n",
       "      <th>views_count</th>\n",
       "      <th>cumulative_count</th>\n",
       "    </tr>\n",
       "  </thead>\n",
       "  <tbody>\n",
       "    <tr>\n",
       "      <th>0</th>\n",
       "      <td>1</td>\n",
       "      <td>2008-07-31 23:41:00</td>\n",
       "      <td>480476</td>\n",
       "      <td>480476</td>\n",
       "    </tr>\n",
       "    <tr>\n",
       "      <th>1</th>\n",
       "      <td>1</td>\n",
       "      <td>2008-07-31 23:55:38</td>\n",
       "      <td>136033</td>\n",
       "      <td>616509</td>\n",
       "    </tr>\n",
       "    <tr>\n",
       "      <th>2</th>\n",
       "      <td>1</td>\n",
       "      <td>2008-07-31 23:56:41</td>\n",
       "      <td>0</td>\n",
       "      <td>616509</td>\n",
       "    </tr>\n",
       "    <tr>\n",
       "      <th>3</th>\n",
       "      <td>1</td>\n",
       "      <td>2008-08-04 02:45:08</td>\n",
       "      <td>0</td>\n",
       "      <td>616509</td>\n",
       "    </tr>\n",
       "    <tr>\n",
       "      <th>4</th>\n",
       "      <td>1</td>\n",
       "      <td>2008-08-04 04:31:03</td>\n",
       "      <td>0</td>\n",
       "      <td>616509</td>\n",
       "    </tr>\n",
       "    <tr>\n",
       "      <th>...</th>\n",
       "      <td>...</td>\n",
       "      <td>...</td>\n",
       "      <td>...</td>\n",
       "      <td>...</td>\n",
       "    </tr>\n",
       "    <tr>\n",
       "      <th>243791</th>\n",
       "      <td>5696608</td>\n",
       "      <td>2008-12-23 16:00:37</td>\n",
       "      <td>0</td>\n",
       "      <td>2804</td>\n",
       "    </tr>\n",
       "    <tr>\n",
       "      <th>243792</th>\n",
       "      <td>5696608</td>\n",
       "      <td>2008-12-23 17:35:09</td>\n",
       "      <td>0</td>\n",
       "      <td>2804</td>\n",
       "    </tr>\n",
       "    <tr>\n",
       "      <th>243793</th>\n",
       "      <td>5696608</td>\n",
       "      <td>2008-12-24 01:02:48</td>\n",
       "      <td>0</td>\n",
       "      <td>2804</td>\n",
       "    </tr>\n",
       "    <tr>\n",
       "      <th>243794</th>\n",
       "      <td>5696608</td>\n",
       "      <td>2008-12-30 14:34:45</td>\n",
       "      <td>0</td>\n",
       "      <td>2804</td>\n",
       "    </tr>\n",
       "    <tr>\n",
       "      <th>243795</th>\n",
       "      <td>5696608</td>\n",
       "      <td>2008-12-30 16:32:12</td>\n",
       "      <td>0</td>\n",
       "      <td>2804</td>\n",
       "    </tr>\n",
       "  </tbody>\n",
       "</table>\n",
       "<p>243796 rows × 4 columns</p>\n",
       "</div>"
      ],
      "text/plain": [
       "        user_id       creation_date  views_count  cumulative_count\n",
       "0             1 2008-07-31 23:41:00       480476            480476\n",
       "1             1 2008-07-31 23:55:38       136033            616509\n",
       "2             1 2008-07-31 23:56:41            0            616509\n",
       "3             1 2008-08-04 02:45:08            0            616509\n",
       "4             1 2008-08-04 04:31:03            0            616509\n",
       "...         ...                 ...          ...               ...\n",
       "243791  5696608 2008-12-23 16:00:37            0              2804\n",
       "243792  5696608 2008-12-23 17:35:09            0              2804\n",
       "243793  5696608 2008-12-24 01:02:48            0              2804\n",
       "243794  5696608 2008-12-30 14:34:45            0              2804\n",
       "243795  5696608 2008-12-30 16:32:12            0              2804\n",
       "\n",
       "[243796 rows x 4 columns]"
      ]
     },
     "execution_count": 12,
     "metadata": {},
     "output_type": "execute_result"
    }
   ],
   "source": [
    "sample_df"
   ]
  },
  {
   "cell_type": "markdown",
   "metadata": {
    "id": "N0kHRHvIDWK2"
   },
   "source": [
    "# Задание 5"
   ]
  },
  {
   "cell_type": "markdown",
   "metadata": {
    "id": "gBgvmPtODWK2"
   },
   "source": [
    "Найти среднее количество постов пользователей в день за август 2008 года. Отобрать данные о пользователях, которые опубликовали больше 120 постов за август. Дни без публикаций не учитывать. \n",
    "\n",
    "Отсортировать результат по возрастанию среднего количества постов. Значения можно не округлять."
   ]
  },
  {
   "cell_type": "code",
   "execution_count": 13,
   "metadata": {
    "id": "YFyPNz5GDWK3"
   },
   "outputs": [],
   "source": [
    "query = '''\n",
    "WITH count_posts AS\n",
    "    (SELECT user_id, COUNT(id) AS count_id, DATE(creation_date)\n",
    "    FROM stackoverflow.posts\n",
    "    WHERE DATE(creation_date) BETWEEN '2008-08-01' AND '2008-08-31'\n",
    "    AND user_id IN (SELECT user_id\n",
    "                    FROM stackoverflow.posts\n",
    "                    WHERE DATE(creation_date) BETWEEN '2008-08-01' AND '2008-08-31' \n",
    "                    GROUP BY user_id\n",
    "                    HAVING COUNT(id) > 120)\n",
    "    GROUP BY DATE(creation_date), user_id)\n",
    "SELECT user_id, AVG(count_id)\n",
    "FROM count_posts\n",
    "WHERE count_id > 0\n",
    "GROUP BY user_id\n",
    "ORDER BY AVG(count_id)\n",
    "'''\n",
    "sample_df = pd.read_sql_query(query, con=engine)"
   ]
  },
  {
   "cell_type": "code",
   "execution_count": 14,
   "metadata": {},
   "outputs": [
    {
     "data": {
      "text/html": [
       "<div>\n",
       "<style scoped>\n",
       "    .dataframe tbody tr th:only-of-type {\n",
       "        vertical-align: middle;\n",
       "    }\n",
       "\n",
       "    .dataframe tbody tr th {\n",
       "        vertical-align: top;\n",
       "    }\n",
       "\n",
       "    .dataframe thead th {\n",
       "        text-align: right;\n",
       "    }\n",
       "</style>\n",
       "<table border=\"1\" class=\"dataframe\">\n",
       "  <thead>\n",
       "    <tr style=\"text-align: right;\">\n",
       "      <th></th>\n",
       "      <th>user_id</th>\n",
       "      <th>avg</th>\n",
       "    </tr>\n",
       "  </thead>\n",
       "  <tbody>\n",
       "    <tr>\n",
       "      <th>0</th>\n",
       "      <td>116</td>\n",
       "      <td>4.777778</td>\n",
       "    </tr>\n",
       "    <tr>\n",
       "      <th>1</th>\n",
       "      <td>234</td>\n",
       "      <td>5.208333</td>\n",
       "    </tr>\n",
       "    <tr>\n",
       "      <th>2</th>\n",
       "      <td>91</td>\n",
       "      <td>5.681818</td>\n",
       "    </tr>\n",
       "    <tr>\n",
       "      <th>3</th>\n",
       "      <td>905</td>\n",
       "      <td>7.000000</td>\n",
       "    </tr>\n",
       "    <tr>\n",
       "      <th>4</th>\n",
       "      <td>383</td>\n",
       "      <td>7.277778</td>\n",
       "    </tr>\n",
       "  </tbody>\n",
       "</table>\n",
       "</div>"
      ],
      "text/plain": [
       "   user_id       avg\n",
       "0      116  4.777778\n",
       "1      234  5.208333\n",
       "2       91  5.681818\n",
       "3      905  7.000000\n",
       "4      383  7.277778"
      ]
     },
     "execution_count": 14,
     "metadata": {},
     "output_type": "execute_result"
    }
   ],
   "source": [
    "sample_df.head(10)"
   ]
  },
  {
   "cell_type": "markdown",
   "metadata": {
    "id": "EQ0dcFH4DWK5"
   },
   "source": [
    "# Задание 6"
   ]
  },
  {
   "cell_type": "markdown",
   "metadata": {
    "id": "c7flfg_hDWK5"
   },
   "source": [
    "Сколько в среднем дней в период с 1 по 7 декабря 2008 года пользователи взаимодействовали с платформой? Для каждого пользователя отобрать дни, в которые он или она опубликовали хотя бы один пост."
   ]
  },
  {
   "cell_type": "code",
   "execution_count": 15,
   "metadata": {
    "id": "kZ7LXTr6DWK6"
   },
   "outputs": [],
   "source": [
    "query = '''\n",
    "WITH count_days AS\n",
    "    (SELECT COUNT(DISTINCT DATE(creation_date)) AS days, user_id\n",
    "    FROM stackoverflow.posts\n",
    "    WHERE DATE(creation_date) BETWEEN '2008-12-01' AND '2008-12-07'\n",
    "    GROUP BY user_id)\n",
    "SELECT ROUND(AVG(days))\n",
    "FROM count_days\n",
    "'''\n",
    "sample_df = pd.read_sql_query(query, con=engine)"
   ]
  },
  {
   "cell_type": "code",
   "execution_count": 16,
   "metadata": {},
   "outputs": [
    {
     "data": {
      "text/html": [
       "<div>\n",
       "<style scoped>\n",
       "    .dataframe tbody tr th:only-of-type {\n",
       "        vertical-align: middle;\n",
       "    }\n",
       "\n",
       "    .dataframe tbody tr th {\n",
       "        vertical-align: top;\n",
       "    }\n",
       "\n",
       "    .dataframe thead th {\n",
       "        text-align: right;\n",
       "    }\n",
       "</style>\n",
       "<table border=\"1\" class=\"dataframe\">\n",
       "  <thead>\n",
       "    <tr style=\"text-align: right;\">\n",
       "      <th></th>\n",
       "      <th>round</th>\n",
       "    </tr>\n",
       "  </thead>\n",
       "  <tbody>\n",
       "    <tr>\n",
       "      <th>0</th>\n",
       "      <td>2.0</td>\n",
       "    </tr>\n",
       "  </tbody>\n",
       "</table>\n",
       "</div>"
      ],
      "text/plain": [
       "   round\n",
       "0    2.0"
      ]
     },
     "execution_count": 16,
     "metadata": {},
     "output_type": "execute_result"
    }
   ],
   "source": [
    "sample_df"
   ]
  },
  {
   "cell_type": "markdown",
   "metadata": {},
   "source": [
    "**Вывод:** в среднем, два раза за неделю пользователи публиковали посты в период с 1 по 7 декабря 2008 года."
   ]
  },
  {
   "cell_type": "markdown",
   "metadata": {
    "id": "wfOmqmfLDWK8"
   },
   "source": [
    "# Задание 7"
   ]
  },
  {
   "cell_type": "markdown",
   "metadata": {
    "id": "X4ARQimADWK9"
   },
   "source": [
    "Вывести историю активности каждого пользователя в таком виде: идентификатор пользователя, дата публикации поста. Отсортировать вывод по возрастанию идентификаторов пользователей, а для каждого пользователя — по возрастанию даты публикации.\n",
    "\n",
    "Добавить в таблицу новое поле: для каждого поста в нём будет указано название месяца предпоследней публикации пользователя относительно текущей. Если такой публикации нет, указать `NULL`."
   ]
  },
  {
   "cell_type": "code",
   "execution_count": 17,
   "metadata": {
    "id": "HzI1vhaMDWK-"
   },
   "outputs": [],
   "source": [
    "query = '''\n",
    "SELECT user_id, creation_date,\n",
    "to_char(LAG(creation_date, 2) OVER(PARTITION BY user_id ORDER BY creation_date), 'Month')\n",
    "FROM stackoverflow.posts\n",
    "'''\n",
    "sample_df = pd.read_sql_query(query, con=engine)"
   ]
  },
  {
   "cell_type": "code",
   "execution_count": 18,
   "metadata": {},
   "outputs": [
    {
     "data": {
      "text/html": [
       "<div>\n",
       "<style scoped>\n",
       "    .dataframe tbody tr th:only-of-type {\n",
       "        vertical-align: middle;\n",
       "    }\n",
       "\n",
       "    .dataframe tbody tr th {\n",
       "        vertical-align: top;\n",
       "    }\n",
       "\n",
       "    .dataframe thead th {\n",
       "        text-align: right;\n",
       "    }\n",
       "</style>\n",
       "<table border=\"1\" class=\"dataframe\">\n",
       "  <thead>\n",
       "    <tr style=\"text-align: right;\">\n",
       "      <th></th>\n",
       "      <th>user_id</th>\n",
       "      <th>creation_date</th>\n",
       "      <th>to_char</th>\n",
       "    </tr>\n",
       "  </thead>\n",
       "  <tbody>\n",
       "    <tr>\n",
       "      <th>0</th>\n",
       "      <td>1</td>\n",
       "      <td>2008-07-31 23:41:00</td>\n",
       "      <td>None</td>\n",
       "    </tr>\n",
       "    <tr>\n",
       "      <th>1</th>\n",
       "      <td>1</td>\n",
       "      <td>2008-07-31 23:55:38</td>\n",
       "      <td>None</td>\n",
       "    </tr>\n",
       "    <tr>\n",
       "      <th>2</th>\n",
       "      <td>1</td>\n",
       "      <td>2008-07-31 23:56:41</td>\n",
       "      <td>July</td>\n",
       "    </tr>\n",
       "    <tr>\n",
       "      <th>3</th>\n",
       "      <td>1</td>\n",
       "      <td>2008-08-04 02:45:08</td>\n",
       "      <td>July</td>\n",
       "    </tr>\n",
       "    <tr>\n",
       "      <th>4</th>\n",
       "      <td>1</td>\n",
       "      <td>2008-08-04 04:31:03</td>\n",
       "      <td>July</td>\n",
       "    </tr>\n",
       "    <tr>\n",
       "      <th>...</th>\n",
       "      <td>...</td>\n",
       "      <td>...</td>\n",
       "      <td>...</td>\n",
       "    </tr>\n",
       "    <tr>\n",
       "      <th>243791</th>\n",
       "      <td>5696608</td>\n",
       "      <td>2008-12-23 16:00:37</td>\n",
       "      <td>December</td>\n",
       "    </tr>\n",
       "    <tr>\n",
       "      <th>243792</th>\n",
       "      <td>5696608</td>\n",
       "      <td>2008-12-23 17:35:09</td>\n",
       "      <td>December</td>\n",
       "    </tr>\n",
       "    <tr>\n",
       "      <th>243793</th>\n",
       "      <td>5696608</td>\n",
       "      <td>2008-12-24 01:02:48</td>\n",
       "      <td>December</td>\n",
       "    </tr>\n",
       "    <tr>\n",
       "      <th>243794</th>\n",
       "      <td>5696608</td>\n",
       "      <td>2008-12-30 14:34:45</td>\n",
       "      <td>December</td>\n",
       "    </tr>\n",
       "    <tr>\n",
       "      <th>243795</th>\n",
       "      <td>5696608</td>\n",
       "      <td>2008-12-30 16:32:12</td>\n",
       "      <td>December</td>\n",
       "    </tr>\n",
       "  </tbody>\n",
       "</table>\n",
       "<p>243796 rows × 3 columns</p>\n",
       "</div>"
      ],
      "text/plain": [
       "        user_id       creation_date    to_char\n",
       "0             1 2008-07-31 23:41:00       None\n",
       "1             1 2008-07-31 23:55:38       None\n",
       "2             1 2008-07-31 23:56:41  July     \n",
       "3             1 2008-08-04 02:45:08  July     \n",
       "4             1 2008-08-04 04:31:03  July     \n",
       "...         ...                 ...        ...\n",
       "243791  5696608 2008-12-23 16:00:37  December \n",
       "243792  5696608 2008-12-23 17:35:09  December \n",
       "243793  5696608 2008-12-24 01:02:48  December \n",
       "243794  5696608 2008-12-30 14:34:45  December \n",
       "243795  5696608 2008-12-30 16:32:12  December \n",
       "\n",
       "[243796 rows x 3 columns]"
      ]
     },
     "execution_count": 18,
     "metadata": {},
     "output_type": "execute_result"
    }
   ],
   "source": [
    "sample_df"
   ]
  },
  {
   "cell_type": "markdown",
   "metadata": {
    "id": "tf9qq2yzDWK_"
   },
   "source": [
    "# Задание 8"
   ]
  },
  {
   "cell_type": "markdown",
   "metadata": {
    "id": "gfwLVXBYDWLA"
   },
   "source": [
    "Рассчитать аналог Retention Rate по месяцам для пользователей StackOverflow. Объединить пользователей в когорты по месяцу их первого поста. Возвращение определить по наличию поста в текущем месяце. "
   ]
  },
  {
   "cell_type": "code",
   "execution_count": 19,
   "metadata": {
    "id": "LUgFmwmTDWLB"
   },
   "outputs": [],
   "source": [
    "query = '''\n",
    "WITH profile AS\n",
    "(SELECT DISTINCT user_id, \n",
    "                 DATE_TRUNC('MONTH', creation_date) AS cohort_dt,\n",
    "                 ROW_NUMBER(*) OVER (PARTITION BY user_id ORDER BY creation_date) AS rn\n",
    " FROM stackoverflow.posts),\n",
    "session AS\n",
    "(SELECT DISTINCT user_id, \n",
    "        DATE_TRUNC('MONTH', creation_date) AS session_date\n",
    " FROM stackoverflow.posts\n",
    " ORDER BY session_date\n",
    ")\n",
    "SELECT *,\n",
    "ROUND(users_cnt::numeric * 100.0 / cohort_users_cnt::numeric, 2) AS retention_rate\n",
    "FROM\n",
    "(SELECT p.cohort_dt,\n",
    "        s.session_date,\n",
    "        COUNT(s.user_id) AS users_cnt,\n",
    "        FIRST_VALUE(COUNT(p.user_id)) OVER (PARTITION BY p.cohort_dt ORDER BY s.session_date) AS cohort_users_cnt\n",
    " FROM profile AS p\n",
    " JOIN session AS s ON p.user_id = s.user_id\n",
    " WHERE p.rn = 1\n",
    " GROUP BY p.cohort_dt,\n",
    "          s.session_date\n",
    " ORDER BY p.cohort_dt,\n",
    "          s.session_date) AS preprocessed\n",
    "'''\n",
    "\n",
    "sample_df = pd.read_sql_query(query, con=engine)"
   ]
  },
  {
   "cell_type": "code",
   "execution_count": 20,
   "metadata": {},
   "outputs": [
    {
     "data": {
      "text/html": [
       "<div>\n",
       "<style scoped>\n",
       "    .dataframe tbody tr th:only-of-type {\n",
       "        vertical-align: middle;\n",
       "    }\n",
       "\n",
       "    .dataframe tbody tr th {\n",
       "        vertical-align: top;\n",
       "    }\n",
       "\n",
       "    .dataframe thead th {\n",
       "        text-align: right;\n",
       "    }\n",
       "</style>\n",
       "<table border=\"1\" class=\"dataframe\">\n",
       "  <thead>\n",
       "    <tr style=\"text-align: right;\">\n",
       "      <th></th>\n",
       "      <th>cohort_dt</th>\n",
       "      <th>session_date</th>\n",
       "      <th>users_cnt</th>\n",
       "      <th>cohort_users_cnt</th>\n",
       "      <th>retention_rate</th>\n",
       "    </tr>\n",
       "  </thead>\n",
       "  <tbody>\n",
       "    <tr>\n",
       "      <th>0</th>\n",
       "      <td>2008-07-01</td>\n",
       "      <td>2008-07-01</td>\n",
       "      <td>3</td>\n",
       "      <td>3</td>\n",
       "      <td>100.00</td>\n",
       "    </tr>\n",
       "    <tr>\n",
       "      <th>1</th>\n",
       "      <td>2008-07-01</td>\n",
       "      <td>2008-08-01</td>\n",
       "      <td>2</td>\n",
       "      <td>3</td>\n",
       "      <td>66.67</td>\n",
       "    </tr>\n",
       "    <tr>\n",
       "      <th>2</th>\n",
       "      <td>2008-07-01</td>\n",
       "      <td>2008-09-01</td>\n",
       "      <td>1</td>\n",
       "      <td>3</td>\n",
       "      <td>33.33</td>\n",
       "    </tr>\n",
       "    <tr>\n",
       "      <th>3</th>\n",
       "      <td>2008-07-01</td>\n",
       "      <td>2008-10-01</td>\n",
       "      <td>2</td>\n",
       "      <td>3</td>\n",
       "      <td>66.67</td>\n",
       "    </tr>\n",
       "    <tr>\n",
       "      <th>4</th>\n",
       "      <td>2008-07-01</td>\n",
       "      <td>2008-11-01</td>\n",
       "      <td>1</td>\n",
       "      <td>3</td>\n",
       "      <td>33.33</td>\n",
       "    </tr>\n",
       "    <tr>\n",
       "      <th>5</th>\n",
       "      <td>2008-07-01</td>\n",
       "      <td>2008-12-01</td>\n",
       "      <td>2</td>\n",
       "      <td>3</td>\n",
       "      <td>66.67</td>\n",
       "    </tr>\n",
       "    <tr>\n",
       "      <th>6</th>\n",
       "      <td>2008-08-01</td>\n",
       "      <td>2008-08-01</td>\n",
       "      <td>2151</td>\n",
       "      <td>2151</td>\n",
       "      <td>100.00</td>\n",
       "    </tr>\n",
       "    <tr>\n",
       "      <th>7</th>\n",
       "      <td>2008-08-01</td>\n",
       "      <td>2008-09-01</td>\n",
       "      <td>1571</td>\n",
       "      <td>2151</td>\n",
       "      <td>73.04</td>\n",
       "    </tr>\n",
       "    <tr>\n",
       "      <th>8</th>\n",
       "      <td>2008-08-01</td>\n",
       "      <td>2008-10-01</td>\n",
       "      <td>1275</td>\n",
       "      <td>2151</td>\n",
       "      <td>59.27</td>\n",
       "    </tr>\n",
       "    <tr>\n",
       "      <th>9</th>\n",
       "      <td>2008-08-01</td>\n",
       "      <td>2008-11-01</td>\n",
       "      <td>1050</td>\n",
       "      <td>2151</td>\n",
       "      <td>48.81</td>\n",
       "    </tr>\n",
       "  </tbody>\n",
       "</table>\n",
       "</div>"
      ],
      "text/plain": [
       "   cohort_dt session_date  users_cnt  cohort_users_cnt  retention_rate\n",
       "0 2008-07-01   2008-07-01          3                 3          100.00\n",
       "1 2008-07-01   2008-08-01          2                 3           66.67\n",
       "2 2008-07-01   2008-09-01          1                 3           33.33\n",
       "3 2008-07-01   2008-10-01          2                 3           66.67\n",
       "4 2008-07-01   2008-11-01          1                 3           33.33\n",
       "5 2008-07-01   2008-12-01          2                 3           66.67\n",
       "6 2008-08-01   2008-08-01       2151              2151          100.00\n",
       "7 2008-08-01   2008-09-01       1571              2151           73.04\n",
       "8 2008-08-01   2008-10-01       1275              2151           59.27\n",
       "9 2008-08-01   2008-11-01       1050              2151           48.81"
      ]
     },
     "execution_count": 20,
     "metadata": {},
     "output_type": "execute_result"
    }
   ],
   "source": [
    "sample_df.head(10)"
   ]
  },
  {
   "cell_type": "markdown",
   "metadata": {
    "id": "_msBtnb2DWLC"
   },
   "source": [
    "**Построить тепловую карту Retention Rate. Какие аномалии или другие необычные явления удалось выявить? Сформулировать гипотезы о возможных причинах.**"
   ]
  },
  {
   "cell_type": "code",
   "execution_count": 21,
   "metadata": {
    "id": "qAEJc8H1DWLC"
   },
   "outputs": [
    {
     "data": {
      "image/png": "[encoded data removed]",
      "text/plain": [
       "<Figure size 576x576 with 2 Axes>"
      ]
     },
     "metadata": {
      "needs_background": "light"
     },
     "output_type": "display_data"
    }
   ],
   "source": [
    "# тепловая карта Retention Rate\n",
    "retention = sample_df.pivot('cohort_dt', 'session_date', 'retention_rate')\n",
    "retention.index = [str(x)[0:10] for x in retention.index]\n",
    "retention.columns = [str(x)[0:10] for x in retention.columns]\n",
    "\n",
    "plt.figure(figsize=(8, 8))\n",
    "sns.heatmap(retention,\n",
    "            annot=True,\n",
    "            fmt='')\n",
    "plt.title('Тепловая карта')\n",
    "plt.show() "
   ]
  },
  {
   "cell_type": "markdown",
   "metadata": {},
   "source": [
    "**Анализ графика:**\n",
    "- для когорт, зарегистрированных с августа по сентябрь, Retention Rate с каждым месяцем уменьшается, а для когорты пользователей с датой регистрации июль 2008 года Retention Rate чередуется как пик/спад: 2/3 пользователей публиковали посты в августе; 1/3 - в сентябре; 2/3 - в октябре и тд.;\n",
    "- самая активная когорта по числу публикаций постов - от августа 2008 года."
   ]
  },
  {
   "cell_type": "markdown",
   "metadata": {
    "id": "1k7oPWt5DWLK"
   },
   "source": [
    "# Задание 9\n"
   ]
  },
  {
   "cell_type": "markdown",
   "metadata": {
    "id": "ALsYVSyRDWLM"
   },
   "source": [
    "На сколько процентов менялось количество постов ежемесячно с 1 сентября по 31 декабря 2008 года? Отобразить таблицу со следующими полями:\n",
    "\n",
    "- номер месяца;\n",
    "- количество постов за месяц;\n",
    "- процент, который показывает, насколько изменилось количество постов в текущем месяце по сравнению с предыдущим.\n",
    "\n",
    "Если постов стало меньше, значение процента должно быть отрицательным, если больше — положительным. Округлить значение процента до двух знаков после запятой."
   ]
  },
  {
   "cell_type": "code",
   "execution_count": 22,
   "metadata": {
    "id": "Mb5pShStDWLN"
   },
   "outputs": [],
   "source": [
    "query = '''\n",
    "WITH total_posts_month AS\n",
    "    (SELECT CAST(EXTRACT(MONTH FROM CAST(creation_date AS TIMESTAMP)) AS integer),\n",
    "            COUNT(id) AS posts_count\n",
    "     FROM stackoverflow.posts\n",
    "     WHERE EXTRACT(MONTH FROM CAST (creation_date AS TIMESTAMP)) BETWEEN 9 AND 12\n",
    "     GROUP BY EXTRACT(MONTH FROM CAST(creation_date AS TIMESTAMP)))\n",
    "SELECT *,\n",
    "        ROUND((CAST(posts_count AS numeric) / LAG(posts_count) OVER (ORDER BY date_part) -1) * 100, 2) AS percentage\n",
    "FROM total_posts_month\n",
    "'''\n",
    "sample_df = pd.read_sql_query(query, con=engine)"
   ]
  },
  {
   "cell_type": "code",
   "execution_count": 23,
   "metadata": {},
   "outputs": [
    {
     "data": {
      "text/html": [
       "<div>\n",
       "<style scoped>\n",
       "    .dataframe tbody tr th:only-of-type {\n",
       "        vertical-align: middle;\n",
       "    }\n",
       "\n",
       "    .dataframe tbody tr th {\n",
       "        vertical-align: top;\n",
       "    }\n",
       "\n",
       "    .dataframe thead th {\n",
       "        text-align: right;\n",
       "    }\n",
       "</style>\n",
       "<table border=\"1\" class=\"dataframe\">\n",
       "  <thead>\n",
       "    <tr style=\"text-align: right;\">\n",
       "      <th></th>\n",
       "      <th>date_part</th>\n",
       "      <th>posts_count</th>\n",
       "      <th>percentage</th>\n",
       "    </tr>\n",
       "  </thead>\n",
       "  <tbody>\n",
       "    <tr>\n",
       "      <th>0</th>\n",
       "      <td>9</td>\n",
       "      <td>70371</td>\n",
       "      <td>NaN</td>\n",
       "    </tr>\n",
       "    <tr>\n",
       "      <th>1</th>\n",
       "      <td>10</td>\n",
       "      <td>63102</td>\n",
       "      <td>-10.33</td>\n",
       "    </tr>\n",
       "    <tr>\n",
       "      <th>2</th>\n",
       "      <td>11</td>\n",
       "      <td>46975</td>\n",
       "      <td>-25.56</td>\n",
       "    </tr>\n",
       "    <tr>\n",
       "      <th>3</th>\n",
       "      <td>12</td>\n",
       "      <td>44592</td>\n",
       "      <td>-5.07</td>\n",
       "    </tr>\n",
       "  </tbody>\n",
       "</table>\n",
       "</div>"
      ],
      "text/plain": [
       "   date_part  posts_count  percentage\n",
       "0          9        70371         NaN\n",
       "1         10        63102      -10.33\n",
       "2         11        46975      -25.56\n",
       "3         12        44592       -5.07"
      ]
     },
     "execution_count": 23,
     "metadata": {},
     "output_type": "execute_result"
    }
   ],
   "source": [
    "sample_df"
   ]
  },
  {
   "cell_type": "markdown",
   "metadata": {
    "id": "9NQE2y_MDWLP"
   },
   "source": [
    "**Построить круговую диаграмму с количеством постов по месяцам.**"
   ]
  },
  {
   "cell_type": "code",
   "execution_count": 24,
   "metadata": {
    "id": "377ABjiVDWLP"
   },
   "outputs": [
    {
     "data": {
      "image/png": "[encoded data removed]",
      "text/plain": [
       "<Figure size 432x288 with 1 Axes>"
      ]
     },
     "metadata": {},
     "output_type": "display_data"
    }
   ],
   "source": [
    "# круговая диаграмма с количеством постов по месяцам\n",
    "colors = sns.color_palette('Blues')[0:4]\n",
    "plt.pie(sample_df['posts_count'], labels = sample_df['date_part'], colors=colors, autopct='%.0f%%')\n",
    "plt.show()"
   ]
  },
  {
   "cell_type": "markdown",
   "metadata": {
    "id": "uw7qMtafDWLP"
   },
   "source": [
    "# Задание 10"
   ]
  },
  {
   "cell_type": "markdown",
   "metadata": {
    "id": "oRBpWKx3DWLQ"
   },
   "source": [
    "Выгрузить данные активности пользователя, который опубликовал больше всего постов за всё время. Вывести данные за октябрь 2008 года в таком виде:\n",
    "\n",
    "- номер недели;\n",
    "- дата и время последнего поста, опубликованного на этой неделе."
   ]
  },
  {
   "cell_type": "code",
   "execution_count": 25,
   "metadata": {
    "id": "r5F5fSkwDWLQ"
   },
   "outputs": [],
   "source": [
    "query = '''\n",
    "SELECT DISTINCT CAST(EXTRACT(WEEK FROM CAST(creation_date AS TIMESTAMP)) AS integer) AS week_creation, \n",
    "       MAX(creation_date) OVER(PARTITION BY EXTRACT(WEEK FROM CAST(creation_date AS TIMESTAMP))) AS creation_date\n",
    "FROM stackoverflow.posts\n",
    "WHERE user_id IN (SELECT user_id\n",
    "                  FROM stackoverflow.posts\n",
    "                  GROUP BY user_id\n",
    "                  ORDER BY COUNT(id) DESC\n",
    "                  LIMIT 1) AND DATE(creation_date) BETWEEN '2008-10-01' AND '2008-10-31'                  \n",
    "'''\n",
    "sample_df = pd.read_sql_query(query, con=engine)"
   ]
  },
  {
   "cell_type": "code",
   "execution_count": 26,
   "metadata": {},
   "outputs": [
    {
     "data": {
      "text/html": [
       "<div>\n",
       "<style scoped>\n",
       "    .dataframe tbody tr th:only-of-type {\n",
       "        vertical-align: middle;\n",
       "    }\n",
       "\n",
       "    .dataframe tbody tr th {\n",
       "        vertical-align: top;\n",
       "    }\n",
       "\n",
       "    .dataframe thead th {\n",
       "        text-align: right;\n",
       "    }\n",
       "</style>\n",
       "<table border=\"1\" class=\"dataframe\">\n",
       "  <thead>\n",
       "    <tr style=\"text-align: right;\">\n",
       "      <th></th>\n",
       "      <th>week_creation</th>\n",
       "      <th>creation_date</th>\n",
       "    </tr>\n",
       "  </thead>\n",
       "  <tbody>\n",
       "    <tr>\n",
       "      <th>0</th>\n",
       "      <td>40</td>\n",
       "      <td>2008-10-05 09:00:58</td>\n",
       "    </tr>\n",
       "    <tr>\n",
       "      <th>1</th>\n",
       "      <td>41</td>\n",
       "      <td>2008-10-12 21:22:23</td>\n",
       "    </tr>\n",
       "    <tr>\n",
       "      <th>2</th>\n",
       "      <td>42</td>\n",
       "      <td>2008-10-19 06:49:30</td>\n",
       "    </tr>\n",
       "    <tr>\n",
       "      <th>3</th>\n",
       "      <td>43</td>\n",
       "      <td>2008-10-26 21:44:36</td>\n",
       "    </tr>\n",
       "    <tr>\n",
       "      <th>4</th>\n",
       "      <td>44</td>\n",
       "      <td>2008-10-31 22:16:01</td>\n",
       "    </tr>\n",
       "  </tbody>\n",
       "</table>\n",
       "</div>"
      ],
      "text/plain": [
       "   week_creation       creation_date\n",
       "0             40 2008-10-05 09:00:58\n",
       "1             41 2008-10-12 21:22:23\n",
       "2             42 2008-10-19 06:49:30\n",
       "3             43 2008-10-26 21:44:36\n",
       "4             44 2008-10-31 22:16:01"
      ]
     },
     "execution_count": 26,
     "metadata": {},
     "output_type": "execute_result"
    }
   ],
   "source": [
    "sample_df"
   ]
  }
 ],
 "metadata": {
  "ExecuteTimeLog": [
   {
    "duration": 980,
    "start_time": "2022-08-20T14:12:32.867Z"
   },
   {
    "duration": 4,
    "start_time": "2022-08-20T14:12:34.532Z"
   },
   {
    "duration": 9259,
    "start_time": "2022-08-20T14:12:35.564Z"
   },
   {
    "duration": 58,
    "start_time": "2022-08-20T14:12:44.825Z"
   },
   {
    "duration": 24,
    "start_time": "2022-08-20T14:12:44.885Z"
   },
   {
    "duration": 868,
    "start_time": "2022-08-21T17:46:27.147Z"
   },
   {
    "duration": 4,
    "start_time": "2022-08-21T17:46:30.770Z"
   },
   {
    "duration": 5693,
    "start_time": "2022-08-21T17:46:34.604Z"
   },
   {
    "duration": 220,
    "start_time": "2022-08-21T17:46:41.924Z"
   },
   {
    "duration": 20,
    "start_time": "2022-08-21T17:46:43.425Z"
   },
   {
    "duration": 3,
    "start_time": "2022-08-21T17:51:06.825Z"
   },
   {
    "duration": 175,
    "start_time": "2022-08-21T17:51:40.861Z"
   },
   {
    "duration": 1003,
    "start_time": "2022-08-21T17:52:14.536Z"
   },
   {
    "duration": 10,
    "start_time": "2022-08-21T17:52:26.993Z"
   },
   {
    "duration": 962,
    "start_time": "2022-08-21T17:55:10.555Z"
   },
   {
    "duration": 10,
    "start_time": "2022-08-21T17:55:13.261Z"
   },
   {
    "duration": 974,
    "start_time": "2022-08-21T17:55:29.434Z"
   },
   {
    "duration": 14,
    "start_time": "2022-08-21T17:55:31.165Z"
   },
   {
    "duration": 142,
    "start_time": "2022-08-21T17:58:20.059Z"
   },
   {
    "duration": 7,
    "start_time": "2022-08-21T17:58:22.690Z"
   },
   {
    "duration": 135,
    "start_time": "2022-08-21T18:00:50.321Z"
   },
   {
    "duration": 7,
    "start_time": "2022-08-21T18:00:51.129Z"
   },
   {
    "duration": 3,
    "start_time": "2022-08-21T18:45:34.986Z"
   },
   {
    "duration": 100,
    "start_time": "2022-08-21T18:45:58.298Z"
   },
   {
    "duration": 132,
    "start_time": "2022-08-21T18:46:38.321Z"
   },
   {
    "duration": 129,
    "start_time": "2022-08-21T18:48:02.028Z"
   },
   {
    "duration": 39,
    "start_time": "2022-08-21T18:48:16.277Z"
   },
   {
    "duration": 6,
    "start_time": "2022-08-21T18:48:17.679Z"
   },
   {
    "duration": 679,
    "start_time": "2022-08-21T18:50:35.521Z"
   },
   {
    "duration": 5,
    "start_time": "2022-08-21T18:50:36.203Z"
   },
   {
    "duration": 5611,
    "start_time": "2022-08-21T18:50:36.210Z"
   },
   {
    "duration": 203,
    "start_time": "2022-08-21T18:50:41.822Z"
   },
   {
    "duration": 12,
    "start_time": "2022-08-21T18:50:42.028Z"
   },
   {
    "duration": 152,
    "start_time": "2022-08-21T18:50:42.042Z"
   },
   {
    "duration": 7,
    "start_time": "2022-08-21T18:50:42.195Z"
   },
   {
    "duration": 5,
    "start_time": "2022-08-21T18:50:42.203Z"
   },
   {
    "duration": 39,
    "start_time": "2022-08-21T18:50:42.209Z"
   },
   {
    "duration": 6,
    "start_time": "2022-08-21T18:50:42.250Z"
   },
   {
    "duration": 496955,
    "start_time": "2022-08-21T18:50:42.257Z"
   },
   {
    "duration": 0,
    "start_time": "2022-08-21T18:58:59.214Z"
   },
   {
    "duration": 176,
    "start_time": "2022-08-21T18:59:15.302Z"
   },
   {
    "duration": 9,
    "start_time": "2022-08-21T18:59:17.656Z"
   },
   {
    "duration": 120,
    "start_time": "2022-08-21T18:59:45.024Z"
   },
   {
    "duration": 10,
    "start_time": "2022-08-21T18:59:45.972Z"
   },
   {
    "duration": 131,
    "start_time": "2022-08-21T19:01:17.582Z"
   },
   {
    "duration": 8,
    "start_time": "2022-08-21T19:01:18.522Z"
   },
   {
    "duration": 10,
    "start_time": "2022-08-21T19:01:42.949Z"
   },
   {
    "duration": 69,
    "start_time": "2022-08-21T19:18:40.426Z"
   },
   {
    "duration": 7,
    "start_time": "2022-08-21T19:18:41.859Z"
   },
   {
    "duration": 117,
    "start_time": "2022-08-21T19:25:36.834Z"
   },
   {
    "duration": 7,
    "start_time": "2022-08-21T19:25:36.971Z"
   },
   {
    "duration": 140,
    "start_time": "2022-08-21T19:26:10.746Z"
   },
   {
    "duration": 7,
    "start_time": "2022-08-21T19:26:11.114Z"
   },
   {
    "duration": 8,
    "start_time": "2022-08-21T19:26:29.443Z"
   },
   {
    "duration": 9,
    "start_time": "2022-08-21T19:26:35.954Z"
   },
   {
    "duration": 928,
    "start_time": "2022-08-22T09:53:57.026Z"
   },
   {
    "duration": 4,
    "start_time": "2022-08-22T09:54:00.611Z"
   },
   {
    "duration": 10088,
    "start_time": "2022-08-22T09:54:02.077Z"
   },
   {
    "duration": 78,
    "start_time": "2022-08-22T09:54:12.167Z"
   },
   {
    "duration": 21,
    "start_time": "2022-08-22T09:54:12.247Z"
   },
   {
    "duration": 1368,
    "start_time": "2022-08-22T10:00:21.396Z"
   },
   {
    "duration": 12,
    "start_time": "2022-08-22T10:00:24.137Z"
   },
   {
    "duration": 1218,
    "start_time": "2022-08-22T10:03:44.144Z"
   },
   {
    "duration": 13,
    "start_time": "2022-08-22T10:03:45.364Z"
   },
   {
    "duration": 1250,
    "start_time": "2022-08-22T10:04:59.148Z"
   },
   {
    "duration": 13,
    "start_time": "2022-08-22T10:05:00.400Z"
   },
   {
    "duration": 1062,
    "start_time": "2022-08-22T10:05:53.612Z"
   },
   {
    "duration": 18,
    "start_time": "2022-08-22T10:05:54.676Z"
   },
   {
    "duration": 370,
    "start_time": "2022-08-22T14:20:06.140Z"
   },
   {
    "duration": 151,
    "start_time": "2022-08-22T14:20:44.132Z"
   },
   {
    "duration": 101,
    "start_time": "2022-08-22T14:21:12.457Z"
   },
   {
    "duration": 101,
    "start_time": "2022-08-22T14:21:18.135Z"
   },
   {
    "duration": 35,
    "start_time": "2022-08-22T14:22:19.512Z"
   },
   {
    "duration": 6,
    "start_time": "2022-08-22T14:22:20.679Z"
   },
   {
    "duration": 923,
    "start_time": "2022-08-22T18:43:23.076Z"
   },
   {
    "duration": 5,
    "start_time": "2022-08-22T18:43:26.232Z"
   },
   {
    "duration": 7749,
    "start_time": "2022-08-22T18:43:27.578Z"
   },
   {
    "duration": 328,
    "start_time": "2022-08-22T18:43:35.328Z"
   },
   {
    "duration": 14,
    "start_time": "2022-08-22T18:43:35.658Z"
   },
   {
    "duration": 93,
    "start_time": "2022-08-22T18:49:02.174Z"
   },
   {
    "duration": 9,
    "start_time": "2022-08-22T18:49:02.911Z"
   },
   {
    "duration": 105,
    "start_time": "2022-08-22T18:54:38.506Z"
   },
   {
    "duration": 8,
    "start_time": "2022-08-22T18:54:39.172Z"
   },
   {
    "duration": 113,
    "start_time": "2022-08-22T18:57:04.202Z"
   },
   {
    "duration": 8,
    "start_time": "2022-08-22T18:57:05.208Z"
   },
   {
    "duration": 104,
    "start_time": "2022-08-22T18:57:40.907Z"
   },
   {
    "duration": 7,
    "start_time": "2022-08-22T18:57:41.721Z"
   },
   {
    "duration": 93,
    "start_time": "2022-08-22T18:59:14.636Z"
   },
   {
    "duration": 7,
    "start_time": "2022-08-22T18:59:15.210Z"
   },
   {
    "duration": 120,
    "start_time": "2022-08-22T19:03:07.507Z"
   },
   {
    "duration": 7,
    "start_time": "2022-08-22T19:03:07.911Z"
   },
   {
    "duration": 183,
    "start_time": "2022-08-22T19:08:30.521Z"
   },
   {
    "duration": 8,
    "start_time": "2022-08-22T19:08:31.960Z"
   },
   {
    "duration": 115,
    "start_time": "2022-08-22T19:08:43.931Z"
   },
   {
    "duration": 11,
    "start_time": "2022-08-22T19:08:44.562Z"
   },
   {
    "duration": 107,
    "start_time": "2022-08-22T19:09:21.761Z"
   },
   {
    "duration": 8,
    "start_time": "2022-08-22T19:09:22.451Z"
   },
   {
    "duration": 107,
    "start_time": "2022-08-22T19:10:04.832Z"
   },
   {
    "duration": 7,
    "start_time": "2022-08-22T19:10:05.621Z"
   },
   {
    "duration": 87,
    "start_time": "2022-08-22T19:11:00.876Z"
   },
   {
    "duration": 8,
    "start_time": "2022-08-22T19:11:01.014Z"
   },
   {
    "duration": 63,
    "start_time": "2022-08-22T19:13:33.306Z"
   },
   {
    "duration": 5,
    "start_time": "2022-08-22T19:13:34.333Z"
   },
   {
    "duration": 59,
    "start_time": "2022-08-22T19:13:47.213Z"
   },
   {
    "duration": 7,
    "start_time": "2022-08-22T19:13:47.837Z"
   },
   {
    "duration": 77,
    "start_time": "2022-08-22T19:14:34.312Z"
   },
   {
    "duration": 881,
    "start_time": "2022-08-23T05:52:02.484Z"
   },
   {
    "duration": 5,
    "start_time": "2022-08-23T05:52:04.519Z"
   },
   {
    "duration": 5211,
    "start_time": "2022-08-23T05:52:06.584Z"
   },
   {
    "duration": 1041,
    "start_time": "2022-08-23T06:22:23.180Z"
   },
   {
    "duration": 14,
    "start_time": "2022-08-23T06:22:24.965Z"
   },
   {
    "duration": 124,
    "start_time": "2022-08-23T07:58:20.054Z"
   },
   {
    "duration": 8,
    "start_time": "2022-08-23T07:58:22.024Z"
   },
   {
    "duration": 6,
    "start_time": "2022-08-23T07:58:34.095Z"
   },
   {
    "duration": 9,
    "start_time": "2022-08-23T07:59:13.386Z"
   },
   {
    "duration": 11,
    "start_time": "2022-08-23T08:09:54.585Z"
   },
   {
    "duration": 175,
    "start_time": "2022-08-23T12:19:26.801Z"
   },
   {
    "duration": 109,
    "start_time": "2022-08-23T12:23:31.018Z"
   },
   {
    "duration": 113,
    "start_time": "2022-08-23T12:23:37.850Z"
   },
   {
    "duration": 121,
    "start_time": "2022-08-23T12:23:58.425Z"
   },
   {
    "duration": 109,
    "start_time": "2022-08-23T12:24:16.330Z"
   },
   {
    "duration": 84,
    "start_time": "2022-08-23T12:24:27.290Z"
   },
   {
    "duration": 7,
    "start_time": "2022-08-23T12:24:29.095Z"
   },
   {
    "duration": 89,
    "start_time": "2022-08-23T12:26:23.593Z"
   },
   {
    "duration": 6,
    "start_time": "2022-08-23T12:26:24.870Z"
   },
   {
    "duration": 137,
    "start_time": "2022-08-23T12:42:42.447Z"
   },
   {
    "duration": 185,
    "start_time": "2022-08-23T12:43:15.690Z"
   },
   {
    "duration": 90,
    "start_time": "2022-08-23T12:48:18.156Z"
   },
   {
    "duration": 6,
    "start_time": "2022-08-23T12:48:20.467Z"
   },
   {
    "duration": 100,
    "start_time": "2022-08-23T12:49:43.517Z"
   },
   {
    "duration": 102,
    "start_time": "2022-08-23T12:49:54.502Z"
   },
   {
    "duration": 91,
    "start_time": "2022-08-23T12:50:07.573Z"
   },
   {
    "duration": 6,
    "start_time": "2022-08-23T12:50:08.757Z"
   },
   {
    "duration": 173,
    "start_time": "2022-08-23T12:52:15.087Z"
   },
   {
    "duration": 89,
    "start_time": "2022-08-23T12:52:51.584Z"
   },
   {
    "duration": 6,
    "start_time": "2022-08-23T12:52:52.699Z"
   },
   {
    "duration": 88,
    "start_time": "2022-08-23T12:53:31.440Z"
   },
   {
    "duration": 6,
    "start_time": "2022-08-23T12:53:32.399Z"
   },
   {
    "duration": 87,
    "start_time": "2022-08-23T12:53:48.568Z"
   },
   {
    "duration": 6,
    "start_time": "2022-08-23T12:53:49.190Z"
   },
   {
    "duration": 90,
    "start_time": "2022-08-23T12:54:55.241Z"
   },
   {
    "duration": 6,
    "start_time": "2022-08-23T12:54:56.209Z"
   },
   {
    "duration": 88,
    "start_time": "2022-08-23T13:00:13.691Z"
   },
   {
    "duration": 6,
    "start_time": "2022-08-23T13:00:14.778Z"
   },
   {
    "duration": 87,
    "start_time": "2022-08-23T13:01:16.131Z"
   },
   {
    "duration": 6,
    "start_time": "2022-08-23T13:01:16.762Z"
   },
   {
    "duration": 92,
    "start_time": "2022-08-23T13:01:35.762Z"
   },
   {
    "duration": 9,
    "start_time": "2022-08-23T13:01:36.219Z"
   },
   {
    "duration": 88,
    "start_time": "2022-08-23T13:02:32.571Z"
   },
   {
    "duration": 7,
    "start_time": "2022-08-23T13:02:33.538Z"
   },
   {
    "duration": 87,
    "start_time": "2022-08-23T13:03:23.595Z"
   },
   {
    "duration": 6,
    "start_time": "2022-08-23T13:03:24.171Z"
   },
   {
    "duration": 92,
    "start_time": "2022-08-23T13:03:30.996Z"
   },
   {
    "duration": 6,
    "start_time": "2022-08-23T13:03:31.723Z"
   },
   {
    "duration": 88,
    "start_time": "2022-08-23T13:03:50.203Z"
   },
   {
    "duration": 6,
    "start_time": "2022-08-23T13:03:50.739Z"
   },
   {
    "duration": 90,
    "start_time": "2022-08-23T13:10:26.543Z"
   },
   {
    "duration": 5,
    "start_time": "2022-08-23T13:10:28.048Z"
   },
   {
    "duration": 90,
    "start_time": "2022-08-23T13:12:00.785Z"
   },
   {
    "duration": 6,
    "start_time": "2022-08-23T13:12:01.761Z"
   },
   {
    "duration": 86,
    "start_time": "2022-08-23T13:14:48.577Z"
   },
   {
    "duration": 6,
    "start_time": "2022-08-23T13:14:49.168Z"
   },
   {
    "duration": 89,
    "start_time": "2022-08-23T13:15:53.506Z"
   },
   {
    "duration": 6,
    "start_time": "2022-08-23T13:15:54.041Z"
   },
   {
    "duration": 90,
    "start_time": "2022-08-23T13:16:41.059Z"
   },
   {
    "duration": 6,
    "start_time": "2022-08-23T13:16:41.634Z"
   },
   {
    "duration": 87,
    "start_time": "2022-08-23T13:16:47.810Z"
   },
   {
    "duration": 6,
    "start_time": "2022-08-23T13:16:49.331Z"
   },
   {
    "duration": 116,
    "start_time": "2022-08-23T13:18:15.843Z"
   },
   {
    "duration": 88,
    "start_time": "2022-08-23T13:18:35.315Z"
   },
   {
    "duration": 7,
    "start_time": "2022-08-23T13:18:36.131Z"
   },
   {
    "duration": 93,
    "start_time": "2022-08-23T13:19:09.651Z"
   },
   {
    "duration": 7,
    "start_time": "2022-08-23T13:19:10.244Z"
   },
   {
    "duration": 151,
    "start_time": "2022-08-23T13:46:41.067Z"
   },
   {
    "duration": 7,
    "start_time": "2022-08-23T13:46:42.411Z"
   },
   {
    "duration": 90,
    "start_time": "2022-08-23T13:47:38.240Z"
   },
   {
    "duration": 6,
    "start_time": "2022-08-23T13:47:39.124Z"
   },
   {
    "duration": 705,
    "start_time": "2022-08-23T13:51:28.853Z"
   },
   {
    "duration": 118,
    "start_time": "2022-08-23T13:52:33.760Z"
   },
   {
    "duration": 8,
    "start_time": "2022-08-23T13:52:34.829Z"
   },
   {
    "duration": 841,
    "start_time": "2022-08-23T16:17:53.003Z"
   },
   {
    "duration": 5,
    "start_time": "2022-08-23T16:17:56.241Z"
   },
   {
    "duration": 5837,
    "start_time": "2022-08-23T16:18:00.132Z"
   },
   {
    "duration": 1346,
    "start_time": "2022-08-23T16:21:40.197Z"
   },
   {
    "duration": 18,
    "start_time": "2022-08-23T16:21:41.545Z"
   },
   {
    "duration": 1037,
    "start_time": "2022-08-23T16:23:54.104Z"
   },
   {
    "duration": 10,
    "start_time": "2022-08-23T16:23:55.143Z"
   },
   {
    "duration": 185,
    "start_time": "2022-08-23T16:26:15.072Z"
   },
   {
    "duration": 0,
    "start_time": "2022-08-23T16:26:15.258Z"
   },
   {
    "duration": 119,
    "start_time": "2022-08-23T16:27:32.356Z"
   },
   {
    "duration": 0,
    "start_time": "2022-08-23T16:27:32.477Z"
   },
   {
    "duration": 100,
    "start_time": "2022-08-23T16:28:25.098Z"
   },
   {
    "duration": 0,
    "start_time": "2022-08-23T16:28:25.199Z"
   },
   {
    "duration": 106,
    "start_time": "2022-08-23T16:29:00.358Z"
   },
   {
    "duration": 10,
    "start_time": "2022-08-23T16:29:00.762Z"
   },
   {
    "duration": 105,
    "start_time": "2022-08-23T16:30:21.942Z"
   },
   {
    "duration": 12,
    "start_time": "2022-08-23T16:30:22.163Z"
   },
   {
    "duration": 104,
    "start_time": "2022-08-23T16:30:33.696Z"
   },
   {
    "duration": 11,
    "start_time": "2022-08-23T16:30:34.162Z"
   },
   {
    "duration": 123,
    "start_time": "2022-08-23T16:31:34.520Z"
   },
   {
    "duration": 9,
    "start_time": "2022-08-23T16:31:34.647Z"
   },
   {
    "duration": 1046,
    "start_time": "2022-08-23T16:32:39.311Z"
   },
   {
    "duration": 12,
    "start_time": "2022-08-23T16:32:40.359Z"
   },
   {
    "duration": 1109,
    "start_time": "2022-08-23T16:33:01.385Z"
   },
   {
    "duration": 10,
    "start_time": "2022-08-23T16:33:02.496Z"
   },
   {
    "duration": 107,
    "start_time": "2022-08-23T16:42:35.956Z"
   },
   {
    "duration": 10,
    "start_time": "2022-08-23T16:42:36.148Z"
   },
   {
    "duration": 360,
    "start_time": "2022-08-23T16:43:14.654Z"
   },
   {
    "duration": 11,
    "start_time": "2022-08-23T16:43:15.239Z"
   },
   {
    "duration": 3,
    "start_time": "2022-08-23T16:46:38.913Z"
   },
   {
    "duration": 10,
    "start_time": "2022-08-23T16:46:39.349Z"
   },
   {
    "duration": 2,
    "start_time": "2022-08-23T16:47:59.598Z"
   },
   {
    "duration": 10,
    "start_time": "2022-08-23T16:47:59.819Z"
   },
   {
    "duration": 2,
    "start_time": "2022-08-23T16:48:30.943Z"
   },
   {
    "duration": 12,
    "start_time": "2022-08-23T16:48:31.220Z"
   },
   {
    "duration": 3,
    "start_time": "2022-08-23T16:49:32.047Z"
   },
   {
    "duration": 21,
    "start_time": "2022-08-23T16:49:32.052Z"
   },
   {
    "duration": 2,
    "start_time": "2022-08-23T16:49:57.867Z"
   },
   {
    "duration": 9,
    "start_time": "2022-08-23T16:49:58.459Z"
   },
   {
    "duration": 2,
    "start_time": "2022-08-23T16:56:56.473Z"
   },
   {
    "duration": 10,
    "start_time": "2022-08-23T16:56:56.891Z"
   },
   {
    "duration": 2,
    "start_time": "2022-08-23T16:58:23.397Z"
   },
   {
    "duration": 11,
    "start_time": "2022-08-23T16:58:23.743Z"
   },
   {
    "duration": 2,
    "start_time": "2022-08-23T16:58:33.497Z"
   },
   {
    "duration": 10,
    "start_time": "2022-08-23T16:58:33.905Z"
   },
   {
    "duration": 3,
    "start_time": "2022-08-23T17:00:12.233Z"
   },
   {
    "duration": 11,
    "start_time": "2022-08-23T17:00:12.499Z"
   },
   {
    "duration": 3,
    "start_time": "2022-08-23T17:00:22.140Z"
   },
   {
    "duration": 10,
    "start_time": "2022-08-23T17:00:22.405Z"
   },
   {
    "duration": 3,
    "start_time": "2022-08-23T17:01:35.649Z"
   },
   {
    "duration": 10,
    "start_time": "2022-08-23T17:01:35.814Z"
   },
   {
    "duration": 3,
    "start_time": "2022-08-23T17:06:24.953Z"
   },
   {
    "duration": 10,
    "start_time": "2022-08-23T17:06:25.394Z"
   },
   {
    "duration": 3,
    "start_time": "2022-08-23T17:10:19.725Z"
   },
   {
    "duration": 16,
    "start_time": "2022-08-23T17:10:19.732Z"
   },
   {
    "duration": 167,
    "start_time": "2022-08-23T17:10:43.074Z"
   },
   {
    "duration": 105,
    "start_time": "2022-08-23T17:10:57.814Z"
   },
   {
    "duration": 10,
    "start_time": "2022-08-23T17:10:58.230Z"
   },
   {
    "duration": 1484,
    "start_time": "2022-08-23T17:11:30.744Z"
   },
   {
    "duration": 13,
    "start_time": "2022-08-23T17:11:35.339Z"
   },
   {
    "duration": 1212,
    "start_time": "2022-08-23T17:12:37.031Z"
   },
   {
    "duration": 11,
    "start_time": "2022-08-23T17:12:38.246Z"
   },
   {
    "duration": 5669,
    "start_time": "2022-08-23T17:14:06.332Z"
   },
   {
    "duration": 12,
    "start_time": "2022-08-23T17:14:12.002Z"
   },
   {
    "duration": 774,
    "start_time": "2022-08-23T17:17:30.428Z"
   },
   {
    "duration": 10,
    "start_time": "2022-08-23T17:17:31.204Z"
   },
   {
    "duration": 749,
    "start_time": "2022-08-23T17:19:31.648Z"
   },
   {
    "duration": 11,
    "start_time": "2022-08-23T17:19:32.399Z"
   },
   {
    "duration": 107,
    "start_time": "2022-08-23T17:21:45.268Z"
   },
   {
    "duration": 99,
    "start_time": "2022-08-23T17:21:58.397Z"
   },
   {
    "duration": 10,
    "start_time": "2022-08-23T17:21:58.760Z"
   },
   {
    "duration": 97,
    "start_time": "2022-08-23T17:22:39.055Z"
   },
   {
    "duration": 4165,
    "start_time": "2022-08-23T17:23:45.008Z"
   },
   {
    "duration": 12,
    "start_time": "2022-08-23T17:23:49.175Z"
   },
   {
    "duration": 602,
    "start_time": "2022-08-23T17:29:32.169Z"
   },
   {
    "duration": 11,
    "start_time": "2022-08-23T17:29:32.772Z"
   },
   {
    "duration": 4228,
    "start_time": "2022-08-23T17:29:59.300Z"
   },
   {
    "duration": 14,
    "start_time": "2022-08-23T17:30:03.530Z"
   },
   {
    "duration": 9,
    "start_time": "2022-08-23T17:30:55.558Z"
   },
   {
    "duration": 107,
    "start_time": "2022-08-23T17:31:52.228Z"
   },
   {
    "duration": 144,
    "start_time": "2022-08-23T17:33:05.033Z"
   },
   {
    "duration": 108,
    "start_time": "2022-08-23T17:34:39.919Z"
   },
   {
    "duration": 1033,
    "start_time": "2022-08-23T17:35:03.731Z"
   },
   {
    "duration": 11,
    "start_time": "2022-08-23T17:35:04.766Z"
   },
   {
    "duration": 953,
    "start_time": "2022-08-23T17:35:40.984Z"
   },
   {
    "duration": 8,
    "start_time": "2022-08-23T17:35:41.939Z"
   },
   {
    "duration": 1067,
    "start_time": "2022-08-23T18:00:14.535Z"
   },
   {
    "duration": 93,
    "start_time": "2022-08-23T18:00:21.748Z"
   },
   {
    "duration": 7,
    "start_time": "2022-08-23T18:00:21.932Z"
   },
   {
    "duration": 81,
    "start_time": "2022-08-23T18:00:27.137Z"
   },
   {
    "duration": 531,
    "start_time": "2022-08-23T18:00:54.136Z"
   },
   {
    "duration": 69,
    "start_time": "2022-08-23T18:01:22.601Z"
   },
   {
    "duration": 40,
    "start_time": "2022-08-23T18:01:38.829Z"
   },
   {
    "duration": 68,
    "start_time": "2022-08-23T18:01:58.615Z"
   },
   {
    "duration": 108,
    "start_time": "2022-08-23T18:06:04.454Z"
   },
   {
    "duration": 95,
    "start_time": "2022-08-23T18:06:28.387Z"
   },
   {
    "duration": 90,
    "start_time": "2022-08-23T18:07:28.467Z"
   },
   {
    "duration": 121,
    "start_time": "2022-08-23T18:07:49.134Z"
   },
   {
    "duration": 8,
    "start_time": "2022-08-23T18:07:52.862Z"
   },
   {
    "duration": 119,
    "start_time": "2022-08-23T18:09:55.417Z"
   },
   {
    "duration": 7,
    "start_time": "2022-08-23T18:09:57.322Z"
   },
   {
    "duration": 112,
    "start_time": "2022-08-23T18:21:13.065Z"
   },
   {
    "duration": 7,
    "start_time": "2022-08-23T18:21:13.343Z"
   },
   {
    "duration": 485,
    "start_time": "2022-08-23T18:21:32.556Z"
   },
   {
    "duration": 9,
    "start_time": "2022-08-23T18:21:33.042Z"
   },
   {
    "duration": 182,
    "start_time": "2022-08-23T18:26:32.240Z"
   },
   {
    "duration": 1148,
    "start_time": "2022-08-23T18:26:41.452Z"
   },
   {
    "duration": 9,
    "start_time": "2022-08-23T18:26:42.602Z"
   },
   {
    "duration": 106,
    "start_time": "2022-08-23T18:32:48.068Z"
   },
   {
    "duration": 132,
    "start_time": "2022-08-23T18:32:55.667Z"
   },
   {
    "duration": 125,
    "start_time": "2022-08-23T18:34:00.317Z"
   },
   {
    "duration": 111,
    "start_time": "2022-08-23T18:34:08.682Z"
   },
   {
    "duration": 10,
    "start_time": "2022-08-23T18:34:09.379Z"
   },
   {
    "duration": 112,
    "start_time": "2022-08-23T18:35:27.063Z"
   },
   {
    "duration": 9,
    "start_time": "2022-08-23T18:35:27.476Z"
   },
   {
    "duration": 99,
    "start_time": "2022-08-23T18:36:33.190Z"
   },
   {
    "duration": 128,
    "start_time": "2022-08-23T18:37:01.795Z"
   },
   {
    "duration": 524,
    "start_time": "2022-08-23T18:37:20.932Z"
   },
   {
    "duration": 8,
    "start_time": "2022-08-23T18:37:21.570Z"
   },
   {
    "duration": 104,
    "start_time": "2022-08-23T18:38:09.949Z"
   },
   {
    "duration": 9,
    "start_time": "2022-08-23T18:38:10.330Z"
   },
   {
    "duration": 510,
    "start_time": "2022-08-23T18:38:48.661Z"
   },
   {
    "duration": 9,
    "start_time": "2022-08-23T18:38:49.172Z"
   },
   {
    "duration": 521,
    "start_time": "2022-08-23T18:40:59.739Z"
   },
   {
    "duration": 9,
    "start_time": "2022-08-23T18:41:00.262Z"
   },
   {
    "duration": 1201,
    "start_time": "2022-08-23T18:41:09.697Z"
   },
   {
    "duration": 3,
    "start_time": "2022-08-23T18:41:10.900Z"
   },
   {
    "duration": 5331,
    "start_time": "2022-08-23T18:41:10.905Z"
   },
   {
    "duration": 203,
    "start_time": "2022-08-23T18:41:16.240Z"
   },
   {
    "duration": 13,
    "start_time": "2022-08-23T18:41:16.445Z"
   },
   {
    "duration": 140,
    "start_time": "2022-08-23T18:41:16.459Z"
   },
   {
    "duration": 6,
    "start_time": "2022-08-23T18:41:16.600Z"
   },
   {
    "duration": 5,
    "start_time": "2022-08-23T18:41:16.608Z"
   },
   {
    "duration": 120,
    "start_time": "2022-08-23T18:41:16.615Z"
   },
   {
    "duration": 10,
    "start_time": "2022-08-23T18:41:16.736Z"
   },
   {
    "duration": 12,
    "start_time": "2022-08-23T18:41:16.747Z"
   },
   {
    "duration": 134,
    "start_time": "2022-08-23T18:41:16.760Z"
   },
   {
    "duration": 7,
    "start_time": "2022-08-23T18:41:16.895Z"
   },
   {
    "duration": 8,
    "start_time": "2022-08-23T18:41:16.905Z"
   },
   {
    "duration": 1312,
    "start_time": "2022-08-23T18:41:16.915Z"
   },
   {
    "duration": 10,
    "start_time": "2022-08-23T18:41:18.229Z"
   },
   {
    "duration": 79,
    "start_time": "2022-08-23T18:41:18.240Z"
   },
   {
    "duration": 6,
    "start_time": "2022-08-23T18:41:18.321Z"
   },
   {
    "duration": 58,
    "start_time": "2022-08-23T18:41:18.328Z"
   },
   {
    "duration": 5,
    "start_time": "2022-08-23T18:41:18.387Z"
   },
   {
    "duration": 10,
    "start_time": "2022-08-23T18:41:18.394Z"
   },
   {
    "duration": 1130,
    "start_time": "2022-08-23T18:41:18.405Z"
   },
   {
    "duration": 10,
    "start_time": "2022-08-23T18:41:19.536Z"
   },
   {
    "duration": 518,
    "start_time": "2022-08-23T18:41:19.548Z"
   },
   {
    "duration": 9,
    "start_time": "2022-08-23T18:41:20.068Z"
   },
   {
    "duration": 10,
    "start_time": "2022-08-23T18:41:20.078Z"
   },
   {
    "duration": 10,
    "start_time": "2022-08-23T18:41:20.089Z"
   },
   {
    "duration": 96,
    "start_time": "2022-08-23T18:41:20.100Z"
   },
   {
    "duration": 6,
    "start_time": "2022-08-23T18:41:20.197Z"
   },
   {
    "duration": 79,
    "start_time": "2022-08-23T18:41:20.205Z"
   },
   {
    "duration": 116,
    "start_time": "2022-08-23T18:41:20.286Z"
   },
   {
    "duration": 6,
    "start_time": "2022-08-23T18:41:20.403Z"
   },
   {
    "duration": 102,
    "start_time": "2022-08-23T18:42:12.810Z"
   },
   {
    "duration": 718,
    "start_time": "2022-08-23T18:42:23.192Z"
   },
   {
    "duration": 511,
    "start_time": "2022-08-23T18:42:37.948Z"
   },
   {
    "duration": 9,
    "start_time": "2022-08-23T18:42:38.461Z"
   },
   {
    "duration": 415,
    "start_time": "2022-08-23T18:42:42.160Z"
   },
   {
    "duration": 324,
    "start_time": "2022-08-23T18:42:54.006Z"
   },
   {
    "duration": 428,
    "start_time": "2022-08-23T18:43:42.245Z"
   },
   {
    "duration": 357,
    "start_time": "2022-08-23T18:43:54.178Z"
   },
   {
    "duration": 1135,
    "start_time": "2022-08-23T19:05:46.230Z"
   },
   {
    "duration": 4,
    "start_time": "2022-08-23T19:05:49.786Z"
   },
   {
    "duration": 6398,
    "start_time": "2022-08-23T19:05:52.858Z"
   },
   {
    "duration": 36,
    "start_time": "2022-08-23T19:05:59.459Z"
   },
   {
    "duration": 1130,
    "start_time": "2022-08-23T19:06:34.632Z"
   },
   {
    "duration": 3,
    "start_time": "2022-08-23T19:06:35.764Z"
   },
   {
    "duration": 6175,
    "start_time": "2022-08-23T19:06:35.768Z"
   },
   {
    "duration": 223,
    "start_time": "2022-08-23T19:06:41.945Z"
   },
   {
    "duration": 14,
    "start_time": "2022-08-23T19:06:42.169Z"
   },
   {
    "duration": 138,
    "start_time": "2022-08-23T19:06:42.185Z"
   },
   {
    "duration": 6,
    "start_time": "2022-08-23T19:06:42.325Z"
   },
   {
    "duration": 7,
    "start_time": "2022-08-23T19:06:42.333Z"
   },
   {
    "duration": 125,
    "start_time": "2022-08-23T19:06:42.341Z"
   },
   {
    "duration": 9,
    "start_time": "2022-08-23T19:06:42.469Z"
   },
   {
    "duration": 16,
    "start_time": "2022-08-23T19:06:42.480Z"
   },
   {
    "duration": 138,
    "start_time": "2022-08-23T19:06:42.498Z"
   },
   {
    "duration": 6,
    "start_time": "2022-08-23T19:06:42.638Z"
   },
   {
    "duration": 5,
    "start_time": "2022-08-23T19:06:42.645Z"
   },
   {
    "duration": 1360,
    "start_time": "2022-08-23T19:06:42.652Z"
   },
   {
    "duration": 12,
    "start_time": "2022-08-23T19:06:44.014Z"
   },
   {
    "duration": 85,
    "start_time": "2022-08-23T19:06:44.028Z"
   },
   {
    "duration": 7,
    "start_time": "2022-08-23T19:06:44.114Z"
   },
   {
    "duration": 67,
    "start_time": "2022-08-23T19:06:44.122Z"
   },
   {
    "duration": 8,
    "start_time": "2022-08-23T19:06:44.191Z"
   },
   {
    "duration": 7,
    "start_time": "2022-08-23T19:06:44.201Z"
   },
   {
    "duration": 1051,
    "start_time": "2022-08-23T19:06:44.209Z"
   },
   {
    "duration": 11,
    "start_time": "2022-08-23T19:06:45.261Z"
   },
   {
    "duration": 535,
    "start_time": "2022-08-23T19:06:45.274Z"
   },
   {
    "duration": 10,
    "start_time": "2022-08-23T19:06:45.811Z"
   },
   {
    "duration": 341,
    "start_time": "2022-08-23T19:06:45.823Z"
   },
   {
    "duration": 3,
    "start_time": "2022-08-23T19:06:46.166Z"
   },
   {
    "duration": 96,
    "start_time": "2022-08-23T19:06:46.172Z"
   },
   {
    "duration": 8,
    "start_time": "2022-08-23T19:06:46.271Z"
   },
   {
    "duration": 107,
    "start_time": "2022-08-23T19:06:46.281Z"
   },
   {
    "duration": 129,
    "start_time": "2022-08-23T19:06:46.390Z"
   },
   {
    "duration": 7,
    "start_time": "2022-08-23T19:06:46.521Z"
   },
   {
    "duration": 1131,
    "start_time": "2022-08-24T08:17:38.039Z"
   },
   {
    "duration": 3,
    "start_time": "2022-08-24T08:17:39.172Z"
   },
   {
    "duration": 8798,
    "start_time": "2022-08-24T08:17:39.176Z"
   },
   {
    "duration": 262,
    "start_time": "2022-08-24T08:17:47.976Z"
   },
   {
    "duration": 15,
    "start_time": "2022-08-24T08:17:48.239Z"
   },
   {
    "duration": 140,
    "start_time": "2022-08-24T08:17:48.255Z"
   },
   {
    "duration": 7,
    "start_time": "2022-08-24T08:17:48.396Z"
   },
   {
    "duration": 7,
    "start_time": "2022-08-24T08:17:48.405Z"
   },
   {
    "duration": 141,
    "start_time": "2022-08-24T08:17:48.414Z"
   },
   {
    "duration": 8,
    "start_time": "2022-08-24T08:17:48.558Z"
   },
   {
    "duration": 14,
    "start_time": "2022-08-24T08:17:48.568Z"
   },
   {
    "duration": 155,
    "start_time": "2022-08-24T08:17:48.583Z"
   },
   {
    "duration": 7,
    "start_time": "2022-08-24T08:17:48.739Z"
   },
   {
    "duration": 7,
    "start_time": "2022-08-24T08:17:48.748Z"
   },
   {
    "duration": 1067,
    "start_time": "2022-08-24T08:17:48.757Z"
   },
   {
    "duration": 10,
    "start_time": "2022-08-24T08:17:49.826Z"
   },
   {
    "duration": 99,
    "start_time": "2022-08-24T08:17:49.837Z"
   },
   {
    "duration": 7,
    "start_time": "2022-08-24T08:17:49.937Z"
   },
   {
    "duration": 63,
    "start_time": "2022-08-24T08:17:49.946Z"
   },
   {
    "duration": 7,
    "start_time": "2022-08-24T08:17:50.010Z"
   },
   {
    "duration": 16,
    "start_time": "2022-08-24T08:17:50.018Z"
   },
   {
    "duration": 1017,
    "start_time": "2022-08-24T08:17:50.036Z"
   },
   {
    "duration": 9,
    "start_time": "2022-08-24T08:17:51.054Z"
   },
   {
    "duration": 573,
    "start_time": "2022-08-24T08:17:51.065Z"
   },
   {
    "duration": 9,
    "start_time": "2022-08-24T08:17:51.640Z"
   },
   {
    "duration": 336,
    "start_time": "2022-08-24T08:17:51.650Z"
   },
   {
    "duration": 3,
    "start_time": "2022-08-24T08:17:51.987Z"
   },
   {
    "duration": 94,
    "start_time": "2022-08-24T08:17:51.992Z"
   },
   {
    "duration": 6,
    "start_time": "2022-08-24T08:17:52.087Z"
   },
   {
    "duration": 83,
    "start_time": "2022-08-24T08:17:52.095Z"
   },
   {
    "duration": 123,
    "start_time": "2022-08-24T08:17:52.179Z"
   },
   {
    "duration": 6,
    "start_time": "2022-08-24T08:17:52.304Z"
   },
   {
    "duration": 131,
    "start_time": "2022-08-24T08:19:40.907Z"
   },
   {
    "duration": 6,
    "start_time": "2022-08-24T08:19:41.899Z"
   },
   {
    "duration": 152,
    "start_time": "2022-08-24T08:20:01.903Z"
   },
   {
    "duration": 7,
    "start_time": "2022-08-24T08:20:03.238Z"
   },
   {
    "duration": 141,
    "start_time": "2022-08-24T08:20:10.150Z"
   },
   {
    "duration": 6,
    "start_time": "2022-08-24T08:20:10.885Z"
   },
   {
    "duration": 121,
    "start_time": "2022-08-24T08:20:13.702Z"
   },
   {
    "duration": 6,
    "start_time": "2022-08-24T08:20:14.557Z"
   },
   {
    "duration": 142,
    "start_time": "2022-08-24T08:20:18.644Z"
   },
   {
    "duration": 6,
    "start_time": "2022-08-24T08:20:19.750Z"
   },
   {
    "duration": 176,
    "start_time": "2022-08-24T08:21:46.398Z"
   },
   {
    "duration": 8,
    "start_time": "2022-08-24T08:21:47.327Z"
   },
   {
    "duration": 119,
    "start_time": "2022-08-24T08:21:54.125Z"
   },
   {
    "duration": 8,
    "start_time": "2022-08-24T08:21:54.801Z"
   },
   {
    "duration": 9,
    "start_time": "2022-08-24T08:22:55.690Z"
   },
   {
    "duration": 530,
    "start_time": "2022-08-24T08:22:58.144Z"
   },
   {
    "duration": 11,
    "start_time": "2022-08-24T08:22:59.413Z"
   },
   {
    "duration": 9,
    "start_time": "2022-08-24T08:23:03.582Z"
   },
   {
    "duration": 1330,
    "start_time": "2022-08-24T08:41:10.246Z"
   },
   {
    "duration": 3,
    "start_time": "2022-08-24T08:41:13.869Z"
   },
   {
    "duration": 7735,
    "start_time": "2022-08-24T08:41:16.829Z"
   },
   {
    "duration": 285,
    "start_time": "2022-08-24T08:41:47.727Z"
   },
   {
    "duration": 10,
    "start_time": "2022-08-24T08:41:49.159Z"
   },
   {
    "duration": 117,
    "start_time": "2022-08-24T08:41:55.121Z"
   },
   {
    "duration": 6,
    "start_time": "2022-08-24T08:41:55.981Z"
   },
   {
    "duration": 115,
    "start_time": "2022-08-24T08:41:58.943Z"
   },
   {
    "duration": 6,
    "start_time": "2022-08-24T08:41:59.981Z"
   },
   {
    "duration": 199,
    "start_time": "2022-08-24T08:53:44.591Z"
   },
   {
    "duration": 120,
    "start_time": "2022-08-24T08:54:12.938Z"
   },
   {
    "duration": 137,
    "start_time": "2022-08-24T08:55:02.215Z"
   },
   {
    "duration": 9,
    "start_time": "2022-08-24T08:55:10.570Z"
   },
   {
    "duration": 12,
    "start_time": "2022-08-24T08:55:54.093Z"
   },
   {
    "duration": 92,
    "start_time": "2022-08-24T08:59:14.728Z"
   },
   {
    "duration": 6,
    "start_time": "2022-08-24T08:59:16.239Z"
   },
   {
    "duration": 117,
    "start_time": "2022-08-24T09:04:51.022Z"
   },
   {
    "duration": 6,
    "start_time": "2022-08-24T09:04:52.329Z"
   },
   {
    "duration": 1172,
    "start_time": "2022-08-24T11:16:40.094Z"
   },
   {
    "duration": 4,
    "start_time": "2022-08-24T11:16:41.268Z"
   },
   {
    "duration": 7722,
    "start_time": "2022-08-24T11:16:41.273Z"
   },
   {
    "duration": 211,
    "start_time": "2022-08-24T11:16:48.997Z"
   },
   {
    "duration": 13,
    "start_time": "2022-08-24T11:16:49.210Z"
   },
   {
    "duration": 97,
    "start_time": "2022-08-24T11:16:49.225Z"
   },
   {
    "duration": 6,
    "start_time": "2022-08-24T11:16:49.323Z"
   },
   {
    "duration": 5,
    "start_time": "2022-08-24T11:16:49.331Z"
   },
   {
    "duration": 151,
    "start_time": "2022-08-24T11:16:49.337Z"
   },
   {
    "duration": 15,
    "start_time": "2022-08-24T11:16:49.490Z"
   },
   {
    "duration": 16,
    "start_time": "2022-08-24T11:16:49.507Z"
   },
   {
    "duration": 139,
    "start_time": "2022-08-24T11:16:49.525Z"
   },
   {
    "duration": 9,
    "start_time": "2022-08-24T11:16:49.666Z"
   },
   {
    "duration": 6,
    "start_time": "2022-08-24T11:16:49.679Z"
   },
   {
    "duration": 1051,
    "start_time": "2022-08-24T11:16:49.686Z"
   },
   {
    "duration": 12,
    "start_time": "2022-08-24T11:16:50.739Z"
   },
   {
    "duration": 89,
    "start_time": "2022-08-24T11:16:50.752Z"
   },
   {
    "duration": 7,
    "start_time": "2022-08-24T11:16:50.843Z"
   },
   {
    "duration": 62,
    "start_time": "2022-08-24T11:16:50.851Z"
   },
   {
    "duration": 5,
    "start_time": "2022-08-24T11:16:50.915Z"
   },
   {
    "duration": 5,
    "start_time": "2022-08-24T11:16:50.922Z"
   },
   {
    "duration": 1019,
    "start_time": "2022-08-24T11:16:50.928Z"
   },
   {
    "duration": 11,
    "start_time": "2022-08-24T11:16:51.949Z"
   },
   {
    "duration": 524,
    "start_time": "2022-08-24T11:16:51.962Z"
   },
   {
    "duration": 8,
    "start_time": "2022-08-24T11:16:52.488Z"
   },
   {
    "duration": 362,
    "start_time": "2022-08-24T11:16:52.497Z"
   },
   {
    "duration": 3,
    "start_time": "2022-08-24T11:16:52.860Z"
   },
   {
    "duration": 104,
    "start_time": "2022-08-24T11:16:52.864Z"
   },
   {
    "duration": 6,
    "start_time": "2022-08-24T11:16:52.969Z"
   },
   {
    "duration": 74,
    "start_time": "2022-08-24T11:16:52.977Z"
   },
   {
    "duration": 120,
    "start_time": "2022-08-24T11:16:53.052Z"
   },
   {
    "duration": 6,
    "start_time": "2022-08-24T11:16:53.174Z"
   },
   {
    "duration": 1669,
    "start_time": "2022-08-25T07:53:00.953Z"
   },
   {
    "duration": 5,
    "start_time": "2022-08-25T07:53:02.624Z"
   },
   {
    "duration": 15758,
    "start_time": "2022-08-25T07:53:02.631Z"
   },
   {
    "duration": 83,
    "start_time": "2022-08-25T07:53:18.395Z"
   },
   {
    "duration": 23,
    "start_time": "2022-08-25T07:53:18.480Z"
   },
   {
    "duration": 110,
    "start_time": "2022-08-25T07:53:18.505Z"
   },
   {
    "duration": 7,
    "start_time": "2022-08-25T07:53:18.618Z"
   },
   {
    "duration": 8,
    "start_time": "2022-08-25T07:53:18.626Z"
   },
   {
    "duration": 117,
    "start_time": "2022-08-25T07:53:18.636Z"
   },
   {
    "duration": 17,
    "start_time": "2022-08-25T07:53:18.758Z"
   },
   {
    "duration": 14,
    "start_time": "2022-08-25T07:53:18.777Z"
   },
   {
    "duration": 126,
    "start_time": "2022-08-25T07:53:18.796Z"
   },
   {
    "duration": 8,
    "start_time": "2022-08-25T07:53:18.923Z"
   },
   {
    "duration": 13,
    "start_time": "2022-08-25T07:53:18.932Z"
   },
   {
    "duration": 1335,
    "start_time": "2022-08-25T07:53:18.948Z"
   },
   {
    "duration": 16,
    "start_time": "2022-08-25T07:53:20.285Z"
   },
   {
    "duration": 70,
    "start_time": "2022-08-25T07:53:20.309Z"
   },
   {
    "duration": 10,
    "start_time": "2022-08-25T07:53:20.381Z"
   },
   {
    "duration": 51,
    "start_time": "2022-08-25T07:53:20.399Z"
   },
   {
    "duration": 6,
    "start_time": "2022-08-25T07:53:20.452Z"
   },
   {
    "duration": 6,
    "start_time": "2022-08-25T07:53:20.460Z"
   },
   {
    "duration": 1175,
    "start_time": "2022-08-25T07:53:20.468Z"
   },
   {
    "duration": 12,
    "start_time": "2022-08-25T07:53:21.645Z"
   },
   {
    "duration": 510,
    "start_time": "2022-08-25T07:53:21.660Z"
   },
   {
    "duration": 15,
    "start_time": "2022-08-25T07:53:22.172Z"
   },
   {
    "duration": 556,
    "start_time": "2022-08-25T07:53:22.189Z"
   },
   {
    "duration": 3,
    "start_time": "2022-08-25T07:53:22.747Z"
   },
   {
    "duration": 65,
    "start_time": "2022-08-25T07:53:22.753Z"
   },
   {
    "duration": 7,
    "start_time": "2022-08-25T07:53:22.820Z"
   },
   {
    "duration": 126,
    "start_time": "2022-08-25T07:53:22.829Z"
   },
   {
    "duration": 89,
    "start_time": "2022-08-25T07:53:22.957Z"
   },
   {
    "duration": 7,
    "start_time": "2022-08-25T07:53:23.048Z"
   },
   {
    "duration": 1485,
    "start_time": "2022-10-26T12:10:17.014Z"
   },
   {
    "duration": 4,
    "start_time": "2022-10-26T12:10:18.502Z"
   },
   {
    "duration": 6926,
    "start_time": "2022-10-26T12:10:18.509Z"
   },
   {
    "duration": 304,
    "start_time": "2022-10-26T12:10:25.436Z"
   },
   {
    "duration": 9,
    "start_time": "2022-10-26T12:10:25.742Z"
   },
   {
    "duration": 173,
    "start_time": "2022-10-26T12:10:25.753Z"
   },
   {
    "duration": 10,
    "start_time": "2022-10-26T12:10:25.927Z"
   },
   {
    "duration": 12,
    "start_time": "2022-10-26T12:10:25.938Z"
   },
   {
    "duration": 171,
    "start_time": "2022-10-26T12:10:25.952Z"
   },
   {
    "duration": 6,
    "start_time": "2022-10-26T12:10:26.125Z"
   },
   {
    "duration": 1321,
    "start_time": "2022-10-26T12:10:26.132Z"
   },
   {
    "duration": 12,
    "start_time": "2022-10-26T12:10:27.454Z"
   },
   {
    "duration": 124,
    "start_time": "2022-10-26T12:10:27.468Z"
   },
   {
    "duration": 8,
    "start_time": "2022-10-26T12:10:27.594Z"
   },
   {
    "duration": 91,
    "start_time": "2022-10-26T12:10:27.603Z"
   },
   {
    "duration": 6,
    "start_time": "2022-10-26T12:10:27.696Z"
   },
   {
    "duration": 1226,
    "start_time": "2022-10-26T12:10:27.703Z"
   },
   {
    "duration": 14,
    "start_time": "2022-10-26T12:10:28.931Z"
   },
   {
    "duration": 728,
    "start_time": "2022-10-26T12:10:28.947Z"
   },
   {
    "duration": 11,
    "start_time": "2022-10-26T12:10:29.677Z"
   },
   {
    "duration": 451,
    "start_time": "2022-10-26T12:10:29.690Z"
   },
   {
    "duration": 115,
    "start_time": "2022-10-26T12:10:30.144Z"
   },
   {
    "duration": 7,
    "start_time": "2022-10-26T12:10:30.261Z"
   },
   {
    "duration": 102,
    "start_time": "2022-10-26T12:10:30.270Z"
   },
   {
    "duration": 157,
    "start_time": "2022-10-26T12:10:30.373Z"
   },
   {
    "duration": 9,
    "start_time": "2022-10-26T12:10:30.533Z"
   }
  ],
  "colab": {
   "name": "AdvansedSQLProjectTemplate.ipynb",
   "provenance": []
  },
  "kernelspec": {
   "display_name": "Python 3 (ipykernel)",
   "language": "python",
   "name": "python3"
  },
  "language_info": {
   "codemirror_mode": {
    "name": "ipython",
    "version": 3
   },
   "file_extension": ".py",
   "mimetype": "text/x-python",
   "name": "python",
   "nbconvert_exporter": "python",
   "pygments_lexer": "ipython3",
   "version": "3.9.5"
  },
  "toc": {
   "base_numbering": 1,
   "nav_menu": {},
   "number_sections": false,
   "sideBar": true,
   "skip_h1_title": false,
   "title_cell": "Table of Contents",
   "title_sidebar": "Contents",
   "toc_cell": false,
   "toc_position": {},
   "toc_section_display": true,
   "toc_window_display": false
  }
 },
 "nbformat": 4,
 "nbformat_minor": 1
}
