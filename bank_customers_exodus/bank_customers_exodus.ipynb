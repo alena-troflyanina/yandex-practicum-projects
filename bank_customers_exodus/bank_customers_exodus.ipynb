{
 "cells": [
  {
   "cell_type": "markdown",
   "metadata": {
    "toc": true
   },
   "source": [
    "<h1>Содержание<span class=\"tocSkip\"></span></h1>\n",
    "<div class=\"toc\"><ul class=\"toc-item\"><li><span><a href=\"#Подготовка-данных\" data-toc-modified-id=\"Подготовка-данных-1\"><span class=\"toc-item-num\">1&nbsp;&nbsp;</span>Подготовка данных</a></span></li><li><span><a href=\"#Предобработка-данных\" data-toc-modified-id=\"Предобработка-данных-2\"><span class=\"toc-item-num\">2&nbsp;&nbsp;</span>Предобработка данных</a></span></li><li><span><a href=\"#Исследование-задачи\" data-toc-modified-id=\"Исследование-задачи-3\"><span class=\"toc-item-num\">3&nbsp;&nbsp;</span>Исследование задачи</a></span><ul class=\"toc-item\"><li><span><a href=\"#Техника-прямого-кодирования\" data-toc-modified-id=\"Техника-прямого-кодирования-3.1\"><span class=\"toc-item-num\">3.1&nbsp;&nbsp;</span>Техника прямого кодирования</a></span></li><li><span><a href=\"#Разделение-данных-на-выборки\" data-toc-modified-id=\"Разделение-данных-на-выборки-3.2\"><span class=\"toc-item-num\">3.2&nbsp;&nbsp;</span>Разделение данных на выборки</a></span></li><li><span><a href=\"#Масштабирование-признаков\" data-toc-modified-id=\"Масштабирование-признаков-3.3\"><span class=\"toc-item-num\">3.3&nbsp;&nbsp;</span>Масштабирование признаков</a></span></li><li><span><a href=\"#Изучение-моделей-без-учёта-дисбаланса\" data-toc-modified-id=\"Изучение-моделей-без-учёта-дисбаланса-3.4\"><span class=\"toc-item-num\">3.4&nbsp;&nbsp;</span>Изучение моделей без учёта дисбаланса</a></span></li></ul></li><li><span><a href=\"#Борьба-с-дисбалансом\" data-toc-modified-id=\"Борьба-с-дисбалансом-4\"><span class=\"toc-item-num\">4&nbsp;&nbsp;</span>Борьба с дисбалансом</a></span><ul class=\"toc-item\"><li><span><a href=\"#Взвешивание-классов\" data-toc-modified-id=\"Взвешивание-классов-4.1\"><span class=\"toc-item-num\">4.1&nbsp;&nbsp;</span>Взвешивание классов</a></span></li><li><span><a href=\"#Увеличение-выборки\" data-toc-modified-id=\"Увеличение-выборки-4.2\"><span class=\"toc-item-num\">4.2&nbsp;&nbsp;</span>Увеличение выборки</a></span></li><li><span><a href=\"#Уменьшение-выборки\" data-toc-modified-id=\"Уменьшение-выборки-4.3\"><span class=\"toc-item-num\">4.3&nbsp;&nbsp;</span>Уменьшение выборки</a></span></li></ul></li><li><span><a href=\"#Тестирование-модели\" data-toc-modified-id=\"Тестирование-модели-5\"><span class=\"toc-item-num\">5&nbsp;&nbsp;</span>Тестирование модели</a></span><ul class=\"toc-item\"><li><span><a href=\"#ROC-кривая-и-исследование-метрики-AUC-ROC\" data-toc-modified-id=\"ROC-кривая-и-исследование-метрики-AUC-ROC-5.1\"><span class=\"toc-item-num\">5.1&nbsp;&nbsp;</span>ROC-кривая и исследование метрики AUC-ROC</a></span></li></ul></li><li><span><a href=\"#Общий-вывод\" data-toc-modified-id=\"Общий-вывод-6\"><span class=\"toc-item-num\">6&nbsp;&nbsp;</span>Общий вывод</a></span></li></ul></div>"
   ]
  },
  {
   "cell_type": "markdown",
   "metadata": {},
   "source": [
    "# Отток клиентов"
   ]
  },
  {
   "cell_type": "markdown",
   "metadata": {},
   "source": [
    "Нужно спрогнозировать отток клиентов банка. Для решения задачи предоставлены исторические данные о поведении клиентов и расторжении договоров с банком. Построить модель ML с предельно большим значением F1-меры (не менее 0.59).\n",
    "\n",
    "Источник данных: https://www.kaggle.com/barelydedicated/bank-customer-churn-modeling"
   ]
  },
  {
   "cell_type": "markdown",
   "metadata": {},
   "source": [
    "## Подготовка данных"
   ]
  },
  {
   "cell_type": "code",
   "execution_count": 1,
   "metadata": {},
   "outputs": [],
   "source": [
    "import pandas as pd\n",
    "import matplotlib.pyplot as plt\n",
    "from sklearn.model_selection import train_test_split\n",
    "from sklearn.preprocessing import StandardScaler\n",
    "from sklearn.tree import DecisionTreeClassifier\n",
    "from sklearn.ensemble import RandomForestClassifier\n",
    "from sklearn.linear_model import LogisticRegression\n",
    "from sklearn.metrics import f1_score, roc_curve, roc_auc_score\n",
    "from sklearn.utils import shuffle\n",
    "\n",
    "import warnings\n",
    "warnings.filterwarnings('ignore')"
   ]
  },
  {
   "cell_type": "code",
   "execution_count": 2,
   "metadata": {},
   "outputs": [
    {
     "data": {
      "text/html": [
       "<div>\n",
       "<style scoped>\n",
       "    .dataframe tbody tr th:only-of-type {\n",
       "        vertical-align: middle;\n",
       "    }\n",
       "\n",
       "    .dataframe tbody tr th {\n",
       "        vertical-align: top;\n",
       "    }\n",
       "\n",
       "    .dataframe thead th {\n",
       "        text-align: right;\n",
       "    }\n",
       "</style>\n",
       "<table border=\"1\" class=\"dataframe\">\n",
       "  <thead>\n",
       "    <tr style=\"text-align: right;\">\n",
       "      <th></th>\n",
       "      <th>RowNumber</th>\n",
       "      <th>CustomerId</th>\n",
       "      <th>Surname</th>\n",
       "      <th>CreditScore</th>\n",
       "      <th>Geography</th>\n",
       "      <th>Gender</th>\n",
       "      <th>Age</th>\n",
       "      <th>Tenure</th>\n",
       "      <th>Balance</th>\n",
       "      <th>NumOfProducts</th>\n",
       "      <th>HasCrCard</th>\n",
       "      <th>IsActiveMember</th>\n",
       "      <th>EstimatedSalary</th>\n",
       "      <th>Exited</th>\n",
       "    </tr>\n",
       "  </thead>\n",
       "  <tbody>\n",
       "    <tr>\n",
       "      <th>0</th>\n",
       "      <td>1</td>\n",
       "      <td>15634602</td>\n",
       "      <td>Hargrave</td>\n",
       "      <td>619</td>\n",
       "      <td>France</td>\n",
       "      <td>Female</td>\n",
       "      <td>42</td>\n",
       "      <td>2.0</td>\n",
       "      <td>0.00</td>\n",
       "      <td>1</td>\n",
       "      <td>1</td>\n",
       "      <td>1</td>\n",
       "      <td>101348.88</td>\n",
       "      <td>1</td>\n",
       "    </tr>\n",
       "    <tr>\n",
       "      <th>1</th>\n",
       "      <td>2</td>\n",
       "      <td>15647311</td>\n",
       "      <td>Hill</td>\n",
       "      <td>608</td>\n",
       "      <td>Spain</td>\n",
       "      <td>Female</td>\n",
       "      <td>41</td>\n",
       "      <td>1.0</td>\n",
       "      <td>83807.86</td>\n",
       "      <td>1</td>\n",
       "      <td>0</td>\n",
       "      <td>1</td>\n",
       "      <td>112542.58</td>\n",
       "      <td>0</td>\n",
       "    </tr>\n",
       "    <tr>\n",
       "      <th>2</th>\n",
       "      <td>3</td>\n",
       "      <td>15619304</td>\n",
       "      <td>Onio</td>\n",
       "      <td>502</td>\n",
       "      <td>France</td>\n",
       "      <td>Female</td>\n",
       "      <td>42</td>\n",
       "      <td>8.0</td>\n",
       "      <td>159660.80</td>\n",
       "      <td>3</td>\n",
       "      <td>1</td>\n",
       "      <td>0</td>\n",
       "      <td>113931.57</td>\n",
       "      <td>1</td>\n",
       "    </tr>\n",
       "    <tr>\n",
       "      <th>3</th>\n",
       "      <td>4</td>\n",
       "      <td>15701354</td>\n",
       "      <td>Boni</td>\n",
       "      <td>699</td>\n",
       "      <td>France</td>\n",
       "      <td>Female</td>\n",
       "      <td>39</td>\n",
       "      <td>1.0</td>\n",
       "      <td>0.00</td>\n",
       "      <td>2</td>\n",
       "      <td>0</td>\n",
       "      <td>0</td>\n",
       "      <td>93826.63</td>\n",
       "      <td>0</td>\n",
       "    </tr>\n",
       "    <tr>\n",
       "      <th>4</th>\n",
       "      <td>5</td>\n",
       "      <td>15737888</td>\n",
       "      <td>Mitchell</td>\n",
       "      <td>850</td>\n",
       "      <td>Spain</td>\n",
       "      <td>Female</td>\n",
       "      <td>43</td>\n",
       "      <td>2.0</td>\n",
       "      <td>125510.82</td>\n",
       "      <td>1</td>\n",
       "      <td>1</td>\n",
       "      <td>1</td>\n",
       "      <td>79084.10</td>\n",
       "      <td>0</td>\n",
       "    </tr>\n",
       "    <tr>\n",
       "      <th>5</th>\n",
       "      <td>6</td>\n",
       "      <td>15574012</td>\n",
       "      <td>Chu</td>\n",
       "      <td>645</td>\n",
       "      <td>Spain</td>\n",
       "      <td>Male</td>\n",
       "      <td>44</td>\n",
       "      <td>8.0</td>\n",
       "      <td>113755.78</td>\n",
       "      <td>2</td>\n",
       "      <td>1</td>\n",
       "      <td>0</td>\n",
       "      <td>149756.71</td>\n",
       "      <td>1</td>\n",
       "    </tr>\n",
       "    <tr>\n",
       "      <th>6</th>\n",
       "      <td>7</td>\n",
       "      <td>15592531</td>\n",
       "      <td>Bartlett</td>\n",
       "      <td>822</td>\n",
       "      <td>France</td>\n",
       "      <td>Male</td>\n",
       "      <td>50</td>\n",
       "      <td>7.0</td>\n",
       "      <td>0.00</td>\n",
       "      <td>2</td>\n",
       "      <td>1</td>\n",
       "      <td>1</td>\n",
       "      <td>10062.80</td>\n",
       "      <td>0</td>\n",
       "    </tr>\n",
       "    <tr>\n",
       "      <th>7</th>\n",
       "      <td>8</td>\n",
       "      <td>15656148</td>\n",
       "      <td>Obinna</td>\n",
       "      <td>376</td>\n",
       "      <td>Germany</td>\n",
       "      <td>Female</td>\n",
       "      <td>29</td>\n",
       "      <td>4.0</td>\n",
       "      <td>115046.74</td>\n",
       "      <td>4</td>\n",
       "      <td>1</td>\n",
       "      <td>0</td>\n",
       "      <td>119346.88</td>\n",
       "      <td>1</td>\n",
       "    </tr>\n",
       "    <tr>\n",
       "      <th>8</th>\n",
       "      <td>9</td>\n",
       "      <td>15792365</td>\n",
       "      <td>He</td>\n",
       "      <td>501</td>\n",
       "      <td>France</td>\n",
       "      <td>Male</td>\n",
       "      <td>44</td>\n",
       "      <td>4.0</td>\n",
       "      <td>142051.07</td>\n",
       "      <td>2</td>\n",
       "      <td>0</td>\n",
       "      <td>1</td>\n",
       "      <td>74940.50</td>\n",
       "      <td>0</td>\n",
       "    </tr>\n",
       "    <tr>\n",
       "      <th>9</th>\n",
       "      <td>10</td>\n",
       "      <td>15592389</td>\n",
       "      <td>H?</td>\n",
       "      <td>684</td>\n",
       "      <td>France</td>\n",
       "      <td>Male</td>\n",
       "      <td>27</td>\n",
       "      <td>2.0</td>\n",
       "      <td>134603.88</td>\n",
       "      <td>1</td>\n",
       "      <td>1</td>\n",
       "      <td>1</td>\n",
       "      <td>71725.73</td>\n",
       "      <td>0</td>\n",
       "    </tr>\n",
       "  </tbody>\n",
       "</table>\n",
       "</div>"
      ],
      "text/plain": [
       "   RowNumber  CustomerId   Surname  CreditScore Geography  Gender  Age  \\\n",
       "0          1    15634602  Hargrave          619    France  Female   42   \n",
       "1          2    15647311      Hill          608     Spain  Female   41   \n",
       "2          3    15619304      Onio          502    France  Female   42   \n",
       "3          4    15701354      Boni          699    France  Female   39   \n",
       "4          5    15737888  Mitchell          850     Spain  Female   43   \n",
       "5          6    15574012       Chu          645     Spain    Male   44   \n",
       "6          7    15592531  Bartlett          822    France    Male   50   \n",
       "7          8    15656148    Obinna          376   Germany  Female   29   \n",
       "8          9    15792365        He          501    France    Male   44   \n",
       "9         10    15592389        H?          684    France    Male   27   \n",
       "\n",
       "   Tenure    Balance  NumOfProducts  HasCrCard  IsActiveMember  \\\n",
       "0     2.0       0.00              1          1               1   \n",
       "1     1.0   83807.86              1          0               1   \n",
       "2     8.0  159660.80              3          1               0   \n",
       "3     1.0       0.00              2          0               0   \n",
       "4     2.0  125510.82              1          1               1   \n",
       "5     8.0  113755.78              2          1               0   \n",
       "6     7.0       0.00              2          1               1   \n",
       "7     4.0  115046.74              4          1               0   \n",
       "8     4.0  142051.07              2          0               1   \n",
       "9     2.0  134603.88              1          1               1   \n",
       "\n",
       "   EstimatedSalary  Exited  \n",
       "0        101348.88       1  \n",
       "1        112542.58       0  \n",
       "2        113931.57       1  \n",
       "3         93826.63       0  \n",
       "4         79084.10       0  \n",
       "5        149756.71       1  \n",
       "6         10062.80       0  \n",
       "7        119346.88       1  \n",
       "8         74940.50       0  \n",
       "9         71725.73       0  "
      ]
     },
     "execution_count": 2,
     "metadata": {},
     "output_type": "execute_result"
    }
   ],
   "source": [
    "churn = pd.read_csv('/datasets/Churn.csv')\n",
    "churn.head(10)"
   ]
  },
  {
   "cell_type": "code",
   "execution_count": 3,
   "metadata": {},
   "outputs": [
    {
     "name": "stdout",
     "output_type": "stream",
     "text": [
      "<class 'pandas.core.frame.DataFrame'>\n",
      "RangeIndex: 10000 entries, 0 to 9999\n",
      "Data columns (total 14 columns):\n",
      " #   Column           Non-Null Count  Dtype  \n",
      "---  ------           --------------  -----  \n",
      " 0   RowNumber        10000 non-null  int64  \n",
      " 1   CustomerId       10000 non-null  int64  \n",
      " 2   Surname          10000 non-null  object \n",
      " 3   CreditScore      10000 non-null  int64  \n",
      " 4   Geography        10000 non-null  object \n",
      " 5   Gender           10000 non-null  object \n",
      " 6   Age              10000 non-null  int64  \n",
      " 7   Tenure           9091 non-null   float64\n",
      " 8   Balance          10000 non-null  float64\n",
      " 9   NumOfProducts    10000 non-null  int64  \n",
      " 10  HasCrCard        10000 non-null  int64  \n",
      " 11  IsActiveMember   10000 non-null  int64  \n",
      " 12  EstimatedSalary  10000 non-null  float64\n",
      " 13  Exited           10000 non-null  int64  \n",
      "dtypes: float64(3), int64(8), object(3)\n",
      "memory usage: 1.1+ MB\n"
     ]
    }
   ],
   "source": [
    "churn.info()"
   ]
  },
  {
   "cell_type": "code",
   "execution_count": 4,
   "metadata": {},
   "outputs": [
    {
     "data": {
      "text/html": [
       "<div>\n",
       "<style scoped>\n",
       "    .dataframe tbody tr th:only-of-type {\n",
       "        vertical-align: middle;\n",
       "    }\n",
       "\n",
       "    .dataframe tbody tr th {\n",
       "        vertical-align: top;\n",
       "    }\n",
       "\n",
       "    .dataframe thead th {\n",
       "        text-align: right;\n",
       "    }\n",
       "</style>\n",
       "<table border=\"1\" class=\"dataframe\">\n",
       "  <thead>\n",
       "    <tr style=\"text-align: right;\">\n",
       "      <th></th>\n",
       "      <th>RowNumber</th>\n",
       "      <th>CustomerId</th>\n",
       "      <th>CreditScore</th>\n",
       "      <th>Age</th>\n",
       "      <th>Tenure</th>\n",
       "      <th>Balance</th>\n",
       "      <th>NumOfProducts</th>\n",
       "      <th>HasCrCard</th>\n",
       "      <th>IsActiveMember</th>\n",
       "      <th>EstimatedSalary</th>\n",
       "      <th>Exited</th>\n",
       "    </tr>\n",
       "  </thead>\n",
       "  <tbody>\n",
       "    <tr>\n",
       "      <th>count</th>\n",
       "      <td>10000.00000</td>\n",
       "      <td>1.000000e+04</td>\n",
       "      <td>10000.000000</td>\n",
       "      <td>10000.000000</td>\n",
       "      <td>9091.000000</td>\n",
       "      <td>10000.000000</td>\n",
       "      <td>10000.000000</td>\n",
       "      <td>10000.00000</td>\n",
       "      <td>10000.000000</td>\n",
       "      <td>10000.000000</td>\n",
       "      <td>10000.000000</td>\n",
       "    </tr>\n",
       "    <tr>\n",
       "      <th>mean</th>\n",
       "      <td>5000.50000</td>\n",
       "      <td>1.569094e+07</td>\n",
       "      <td>650.528800</td>\n",
       "      <td>38.921800</td>\n",
       "      <td>4.997690</td>\n",
       "      <td>76485.889288</td>\n",
       "      <td>1.530200</td>\n",
       "      <td>0.70550</td>\n",
       "      <td>0.515100</td>\n",
       "      <td>100090.239881</td>\n",
       "      <td>0.203700</td>\n",
       "    </tr>\n",
       "    <tr>\n",
       "      <th>std</th>\n",
       "      <td>2886.89568</td>\n",
       "      <td>7.193619e+04</td>\n",
       "      <td>96.653299</td>\n",
       "      <td>10.487806</td>\n",
       "      <td>2.894723</td>\n",
       "      <td>62397.405202</td>\n",
       "      <td>0.581654</td>\n",
       "      <td>0.45584</td>\n",
       "      <td>0.499797</td>\n",
       "      <td>57510.492818</td>\n",
       "      <td>0.402769</td>\n",
       "    </tr>\n",
       "    <tr>\n",
       "      <th>min</th>\n",
       "      <td>1.00000</td>\n",
       "      <td>1.556570e+07</td>\n",
       "      <td>350.000000</td>\n",
       "      <td>18.000000</td>\n",
       "      <td>0.000000</td>\n",
       "      <td>0.000000</td>\n",
       "      <td>1.000000</td>\n",
       "      <td>0.00000</td>\n",
       "      <td>0.000000</td>\n",
       "      <td>11.580000</td>\n",
       "      <td>0.000000</td>\n",
       "    </tr>\n",
       "    <tr>\n",
       "      <th>25%</th>\n",
       "      <td>2500.75000</td>\n",
       "      <td>1.562853e+07</td>\n",
       "      <td>584.000000</td>\n",
       "      <td>32.000000</td>\n",
       "      <td>2.000000</td>\n",
       "      <td>0.000000</td>\n",
       "      <td>1.000000</td>\n",
       "      <td>0.00000</td>\n",
       "      <td>0.000000</td>\n",
       "      <td>51002.110000</td>\n",
       "      <td>0.000000</td>\n",
       "    </tr>\n",
       "    <tr>\n",
       "      <th>50%</th>\n",
       "      <td>5000.50000</td>\n",
       "      <td>1.569074e+07</td>\n",
       "      <td>652.000000</td>\n",
       "      <td>37.000000</td>\n",
       "      <td>5.000000</td>\n",
       "      <td>97198.540000</td>\n",
       "      <td>1.000000</td>\n",
       "      <td>1.00000</td>\n",
       "      <td>1.000000</td>\n",
       "      <td>100193.915000</td>\n",
       "      <td>0.000000</td>\n",
       "    </tr>\n",
       "    <tr>\n",
       "      <th>75%</th>\n",
       "      <td>7500.25000</td>\n",
       "      <td>1.575323e+07</td>\n",
       "      <td>718.000000</td>\n",
       "      <td>44.000000</td>\n",
       "      <td>7.000000</td>\n",
       "      <td>127644.240000</td>\n",
       "      <td>2.000000</td>\n",
       "      <td>1.00000</td>\n",
       "      <td>1.000000</td>\n",
       "      <td>149388.247500</td>\n",
       "      <td>0.000000</td>\n",
       "    </tr>\n",
       "    <tr>\n",
       "      <th>max</th>\n",
       "      <td>10000.00000</td>\n",
       "      <td>1.581569e+07</td>\n",
       "      <td>850.000000</td>\n",
       "      <td>92.000000</td>\n",
       "      <td>10.000000</td>\n",
       "      <td>250898.090000</td>\n",
       "      <td>4.000000</td>\n",
       "      <td>1.00000</td>\n",
       "      <td>1.000000</td>\n",
       "      <td>199992.480000</td>\n",
       "      <td>1.000000</td>\n",
       "    </tr>\n",
       "  </tbody>\n",
       "</table>\n",
       "</div>"
      ],
      "text/plain": [
       "         RowNumber    CustomerId   CreditScore           Age       Tenure  \\\n",
       "count  10000.00000  1.000000e+04  10000.000000  10000.000000  9091.000000   \n",
       "mean    5000.50000  1.569094e+07    650.528800     38.921800     4.997690   \n",
       "std     2886.89568  7.193619e+04     96.653299     10.487806     2.894723   \n",
       "min        1.00000  1.556570e+07    350.000000     18.000000     0.000000   \n",
       "25%     2500.75000  1.562853e+07    584.000000     32.000000     2.000000   \n",
       "50%     5000.50000  1.569074e+07    652.000000     37.000000     5.000000   \n",
       "75%     7500.25000  1.575323e+07    718.000000     44.000000     7.000000   \n",
       "max    10000.00000  1.581569e+07    850.000000     92.000000    10.000000   \n",
       "\n",
       "             Balance  NumOfProducts    HasCrCard  IsActiveMember  \\\n",
       "count   10000.000000   10000.000000  10000.00000    10000.000000   \n",
       "mean    76485.889288       1.530200      0.70550        0.515100   \n",
       "std     62397.405202       0.581654      0.45584        0.499797   \n",
       "min         0.000000       1.000000      0.00000        0.000000   \n",
       "25%         0.000000       1.000000      0.00000        0.000000   \n",
       "50%     97198.540000       1.000000      1.00000        1.000000   \n",
       "75%    127644.240000       2.000000      1.00000        1.000000   \n",
       "max    250898.090000       4.000000      1.00000        1.000000   \n",
       "\n",
       "       EstimatedSalary        Exited  \n",
       "count     10000.000000  10000.000000  \n",
       "mean     100090.239881      0.203700  \n",
       "std       57510.492818      0.402769  \n",
       "min          11.580000      0.000000  \n",
       "25%       51002.110000      0.000000  \n",
       "50%      100193.915000      0.000000  \n",
       "75%      149388.247500      0.000000  \n",
       "max      199992.480000      1.000000  "
      ]
     },
     "execution_count": 4,
     "metadata": {},
     "output_type": "execute_result"
    }
   ],
   "source": [
    "churn.describe()"
   ]
  },
  {
   "cell_type": "markdown",
   "metadata": {},
   "source": [
    "**Описание данных:**\n",
    "- RowNumber — индекс строки в данных\n",
    "- CustomerId — уникальный идентификатор клиента\n",
    "- Surname — фамилия\n",
    "- CreditScore — кредитный рейтинг\n",
    "- Geography — страна проживания\n",
    "- Gender — пол\n",
    "- Age — возраст\n",
    "- Tenure — сколько лет человек является клиентом банка\n",
    "- Balance — баланс на счёте\n",
    "- NumOfProducts — количество продуктов банка, используемых клиентом\n",
    "- HasCrCard — наличие кредитной карты\n",
    "- IsActiveMember — активность клиента\n",
    "- EstimatedSalary — предполагаемая зарплата\n",
    "- Exited — факт ухода клиента"
   ]
  },
  {
   "cell_type": "markdown",
   "metadata": {},
   "source": [
    "**Вывод:** получена общая информация о датафрейме `churn`. Таблица содержит 14 столбцов и 10000 строк. В столбце `Tenure` наблюдаются 9 пропущенных значений. Также названия колонок необходимо привести к \"змеиному_регистру\". Датасет содержит три типа данных: `object`, `int64`, `float64`. Столбец `Exited` содержит категориальный целевой признак."
   ]
  },
  {
   "cell_type": "markdown",
   "metadata": {},
   "source": [
    "## Предобработка данных"
   ]
  },
  {
   "cell_type": "markdown",
   "metadata": {},
   "source": [
    "Для обучения моделей на исходных данных датасета мне необходимо сделать следующую предобработку данных:\n",
    "- удалить столбцы `RowNumber`, `CustomerId`, `Surname` так как эти данные не помогут при обучении модели;\n",
    "- привести названия столбцов к нижнему регистру;\n",
    "- привести названия столбцов к \"змеиному_регистру\";\n",
    "- пропуски в столбце `Tenure` заменить медианным значением, поскольку там содержатся количественные переменные;\n",
    "- преобразовать типы данных."
   ]
  },
  {
   "cell_type": "code",
   "execution_count": 5,
   "metadata": {},
   "outputs": [],
   "source": [
    "churn = churn.drop(\n",
    "    ['RowNumber', 'Surname', 'CustomerId'], axis=1\n",
    ") # удаление столбцов, непригодных для обучения модели"
   ]
  },
  {
   "cell_type": "code",
   "execution_count": 6,
   "metadata": {},
   "outputs": [],
   "source": [
    "churn.columns = churn.columns.str.lower() # преобразвание названий столбцов к нижнему регистру"
   ]
  },
  {
   "cell_type": "code",
   "execution_count": 7,
   "metadata": {},
   "outputs": [],
   "source": [
    "churn = churn.rename(columns={\n",
    "    'creditscore': 'credit_score', \n",
    "    'numofproducts': 'num_of_products',\n",
    "    'hascrcard': 'has_cr_card', \n",
    "    'isactivemember': 'is_active_member', \n",
    "    'estimatedsalary': 'estimated_salary'\n",
    "}) # переименование столбцов в соответствии со \"змеиным регистром\""
   ]
  },
  {
   "cell_type": "code",
   "execution_count": 8,
   "metadata": {},
   "outputs": [],
   "source": [
    "churn['tenure'] = churn['tenure'].fillna(churn['tenure'].median()) # замена пропусков медианой"
   ]
  },
  {
   "cell_type": "code",
   "execution_count": 9,
   "metadata": {},
   "outputs": [],
   "source": [
    "churn[['balance', 'estimated_salary', 'tenure']] = churn[\n",
    "    ['balance', 'estimated_salary', 'tenure']\n",
    "].astype('int') # преобразование типов данных"
   ]
  },
  {
   "cell_type": "code",
   "execution_count": 10,
   "metadata": {},
   "outputs": [
    {
     "name": "stdout",
     "output_type": "stream",
     "text": [
      "<class 'pandas.core.frame.DataFrame'>\n",
      "RangeIndex: 10000 entries, 0 to 9999\n",
      "Data columns (total 11 columns):\n",
      " #   Column            Non-Null Count  Dtype \n",
      "---  ------            --------------  ----- \n",
      " 0   credit_score      10000 non-null  int64 \n",
      " 1   geography         10000 non-null  object\n",
      " 2   gender            10000 non-null  object\n",
      " 3   age               10000 non-null  int64 \n",
      " 4   tenure            10000 non-null  int64 \n",
      " 5   balance           10000 non-null  int64 \n",
      " 6   num_of_products   10000 non-null  int64 \n",
      " 7   has_cr_card       10000 non-null  int64 \n",
      " 8   is_active_member  10000 non-null  int64 \n",
      " 9   estimated_salary  10000 non-null  int64 \n",
      " 10  exited            10000 non-null  int64 \n",
      "dtypes: int64(9), object(2)\n",
      "memory usage: 859.5+ KB\n"
     ]
    }
   ],
   "source": [
    "churn.info()"
   ]
  },
  {
   "cell_type": "markdown",
   "metadata": {},
   "source": [
    "**Вывод:** все необходимые преобразования сделаны для дальнейшего обучения моделей."
   ]
  },
  {
   "cell_type": "markdown",
   "metadata": {},
   "source": [
    "## Исследование задачи"
   ]
  },
  {
   "cell_type": "markdown",
   "metadata": {},
   "source": [
    "### Техника прямого кодирования"
   ]
  },
  {
   "cell_type": "markdown",
   "metadata": {},
   "source": [
    "В датасете содержатся столбцы с количественными и категориальными признаками. Преобразую категориальные признаки `gender`и `geography` в количественные с помощью техники прямого кодирования One-Hot-Encoding"
   ]
  },
  {
   "cell_type": "code",
   "execution_count": 11,
   "metadata": {},
   "outputs": [
    {
     "data": {
      "text/html": [
       "<div>\n",
       "<style scoped>\n",
       "    .dataframe tbody tr th:only-of-type {\n",
       "        vertical-align: middle;\n",
       "    }\n",
       "\n",
       "    .dataframe tbody tr th {\n",
       "        vertical-align: top;\n",
       "    }\n",
       "\n",
       "    .dataframe thead th {\n",
       "        text-align: right;\n",
       "    }\n",
       "</style>\n",
       "<table border=\"1\" class=\"dataframe\">\n",
       "  <thead>\n",
       "    <tr style=\"text-align: right;\">\n",
       "      <th></th>\n",
       "      <th>credit_score</th>\n",
       "      <th>age</th>\n",
       "      <th>tenure</th>\n",
       "      <th>balance</th>\n",
       "      <th>num_of_products</th>\n",
       "      <th>has_cr_card</th>\n",
       "      <th>is_active_member</th>\n",
       "      <th>estimated_salary</th>\n",
       "      <th>exited</th>\n",
       "      <th>geography_Germany</th>\n",
       "      <th>geography_Spain</th>\n",
       "      <th>gender_Male</th>\n",
       "    </tr>\n",
       "  </thead>\n",
       "  <tbody>\n",
       "    <tr>\n",
       "      <th>0</th>\n",
       "      <td>619</td>\n",
       "      <td>42</td>\n",
       "      <td>2</td>\n",
       "      <td>0</td>\n",
       "      <td>1</td>\n",
       "      <td>1</td>\n",
       "      <td>1</td>\n",
       "      <td>101348</td>\n",
       "      <td>1</td>\n",
       "      <td>0</td>\n",
       "      <td>0</td>\n",
       "      <td>0</td>\n",
       "    </tr>\n",
       "    <tr>\n",
       "      <th>1</th>\n",
       "      <td>608</td>\n",
       "      <td>41</td>\n",
       "      <td>1</td>\n",
       "      <td>83807</td>\n",
       "      <td>1</td>\n",
       "      <td>0</td>\n",
       "      <td>1</td>\n",
       "      <td>112542</td>\n",
       "      <td>0</td>\n",
       "      <td>0</td>\n",
       "      <td>1</td>\n",
       "      <td>0</td>\n",
       "    </tr>\n",
       "    <tr>\n",
       "      <th>2</th>\n",
       "      <td>502</td>\n",
       "      <td>42</td>\n",
       "      <td>8</td>\n",
       "      <td>159660</td>\n",
       "      <td>3</td>\n",
       "      <td>1</td>\n",
       "      <td>0</td>\n",
       "      <td>113931</td>\n",
       "      <td>1</td>\n",
       "      <td>0</td>\n",
       "      <td>0</td>\n",
       "      <td>0</td>\n",
       "    </tr>\n",
       "    <tr>\n",
       "      <th>3</th>\n",
       "      <td>699</td>\n",
       "      <td>39</td>\n",
       "      <td>1</td>\n",
       "      <td>0</td>\n",
       "      <td>2</td>\n",
       "      <td>0</td>\n",
       "      <td>0</td>\n",
       "      <td>93826</td>\n",
       "      <td>0</td>\n",
       "      <td>0</td>\n",
       "      <td>0</td>\n",
       "      <td>0</td>\n",
       "    </tr>\n",
       "    <tr>\n",
       "      <th>4</th>\n",
       "      <td>850</td>\n",
       "      <td>43</td>\n",
       "      <td>2</td>\n",
       "      <td>125510</td>\n",
       "      <td>1</td>\n",
       "      <td>1</td>\n",
       "      <td>1</td>\n",
       "      <td>79084</td>\n",
       "      <td>0</td>\n",
       "      <td>0</td>\n",
       "      <td>1</td>\n",
       "      <td>0</td>\n",
       "    </tr>\n",
       "  </tbody>\n",
       "</table>\n",
       "</div>"
      ],
      "text/plain": [
       "   credit_score  age  tenure  balance  num_of_products  has_cr_card  \\\n",
       "0           619   42       2        0                1            1   \n",
       "1           608   41       1    83807                1            0   \n",
       "2           502   42       8   159660                3            1   \n",
       "3           699   39       1        0                2            0   \n",
       "4           850   43       2   125510                1            1   \n",
       "\n",
       "   is_active_member  estimated_salary  exited  geography_Germany  \\\n",
       "0                 1            101348       1                  0   \n",
       "1                 1            112542       0                  0   \n",
       "2                 0            113931       1                  0   \n",
       "3                 0             93826       0                  0   \n",
       "4                 1             79084       0                  0   \n",
       "\n",
       "   geography_Spain  gender_Male  \n",
       "0                0            0  \n",
       "1                1            0  \n",
       "2                0            0  \n",
       "3                0            0  \n",
       "4                1            0  "
      ]
     },
     "execution_count": 11,
     "metadata": {},
     "output_type": "execute_result"
    }
   ],
   "source": [
    "churn_ohe = pd.get_dummies(churn, drop_first = True)\n",
    "churn_ohe.head()"
   ]
  },
  {
   "cell_type": "markdown",
   "metadata": {},
   "source": [
    "### Разделение данных на выборки"
   ]
  },
  {
   "cell_type": "markdown",
   "metadata": {},
   "source": [
    "Передо мной стоит задача определения оттока клиентов банка: уйдет ли клиент в ближайшее время или нет. В исходном датасете в столбце `exited` находится целевой признак, в котором \"0\" - отрицательный класс (клиент не ушел), \"1\" - положительный (клиент ушел). Решется задача бинарной классификации."
   ]
  },
  {
   "cell_type": "markdown",
   "metadata": {},
   "source": [
    "Категориальный целевой признак определю в переменную `target`, остальные признаки - в переменную `features`."
   ]
  },
  {
   "cell_type": "code",
   "execution_count": 12,
   "metadata": {},
   "outputs": [],
   "source": [
    "features = churn_ohe.drop(['exited'], axis=1)\n",
    "target = churn_ohe['exited']"
   ]
  },
  {
   "cell_type": "markdown",
   "metadata": {},
   "source": [
    "Разделю датасет `churn_ohe` на три выборки:\n",
    "- обучающую, на которой соответственно будут обучаться модели. Целевой признак положу в переменную `target_train`. Остальные признаки запишу в переменную `features_train`;\n",
    "- валидационную, для оценки качества модели (признаки - `features_valid`, целевой признак - `target_valid`);\n",
    "- тестовую, для проверки модели (признаки - `features_test`, целевой признак - `target_test`).\n",
    "\n",
    "Обучающая, валидационная и тестовая выборки делятся в соотношении 3:1:1 с помощью функции библиотеки sklearn `train_test_split`."
   ]
  },
  {
   "cell_type": "code",
   "execution_count": 13,
   "metadata": {},
   "outputs": [],
   "source": [
    "features_train, features_valid, target_train, target_valid = train_test_split(\n",
    "    features, target, test_size=0.4, random_state=123\n",
    ")"
   ]
  },
  {
   "cell_type": "code",
   "execution_count": 14,
   "metadata": {},
   "outputs": [],
   "source": [
    "features_valid, features_test, target_valid, target_test = train_test_split(\n",
    "    features_valid, target_valid, test_size=0.5, random_state=123\n",
    ")"
   ]
  },
  {
   "cell_type": "markdown",
   "metadata": {},
   "source": [
    "Для проверки выведу размеры полученных наборов:"
   ]
  },
  {
   "cell_type": "code",
   "execution_count": 15,
   "metadata": {},
   "outputs": [
    {
     "data": {
      "text/plain": [
       "(6000, 11)"
      ]
     },
     "execution_count": 15,
     "metadata": {},
     "output_type": "execute_result"
    }
   ],
   "source": [
    "features_train.shape"
   ]
  },
  {
   "cell_type": "code",
   "execution_count": 16,
   "metadata": {},
   "outputs": [
    {
     "data": {
      "text/plain": [
       "(6000,)"
      ]
     },
     "execution_count": 16,
     "metadata": {},
     "output_type": "execute_result"
    }
   ],
   "source": [
    "target_train.shape"
   ]
  },
  {
   "cell_type": "code",
   "execution_count": 17,
   "metadata": {},
   "outputs": [
    {
     "data": {
      "text/plain": [
       "(2000, 11)"
      ]
     },
     "execution_count": 17,
     "metadata": {},
     "output_type": "execute_result"
    }
   ],
   "source": [
    "features_valid.shape"
   ]
  },
  {
   "cell_type": "code",
   "execution_count": 18,
   "metadata": {},
   "outputs": [
    {
     "data": {
      "text/plain": [
       "(2000,)"
      ]
     },
     "execution_count": 18,
     "metadata": {},
     "output_type": "execute_result"
    }
   ],
   "source": [
    "target_valid.shape"
   ]
  },
  {
   "cell_type": "code",
   "execution_count": 19,
   "metadata": {},
   "outputs": [
    {
     "data": {
      "text/plain": [
       "(2000, 11)"
      ]
     },
     "execution_count": 19,
     "metadata": {},
     "output_type": "execute_result"
    }
   ],
   "source": [
    "features_test.shape"
   ]
  },
  {
   "cell_type": "code",
   "execution_count": 20,
   "metadata": {},
   "outputs": [
    {
     "data": {
      "text/plain": [
       "(2000,)"
      ]
     },
     "execution_count": 20,
     "metadata": {},
     "output_type": "execute_result"
    }
   ],
   "source": [
    "target_test.shape"
   ]
  },
  {
   "cell_type": "markdown",
   "metadata": {},
   "source": [
    "### Масштабирование признаков"
   ]
  },
  {
   "cell_type": "markdown",
   "metadata": {},
   "source": [
    "Так как у всех количественных признаков разный масштаб, то воспользуюсь методом масштабирования таким как стандартизация признаков. Для этого в отдельную переменную положу список столбцов с количественными переменными."
   ]
  },
  {
   "cell_type": "code",
   "execution_count": 21,
   "metadata": {},
   "outputs": [],
   "source": [
    "numeric = ['credit_score', 'age', 'tenure', 'balance', 'num_of_products', 'estimated_salary']"
   ]
  },
  {
   "cell_type": "code",
   "execution_count": 22,
   "metadata": {},
   "outputs": [],
   "source": [
    "scaler = StandardScaler()\n",
    "scaler.fit(features_train[numeric])\n",
    "features_train[numeric] = scaler.transform(features_train[numeric])\n",
    "features_valid[numeric] = scaler.transform(features_valid[numeric])\n",
    "features_test[numeric] = scaler.transform(features_test[numeric])\n",
    "pd.options.mode.chained_assignment = None"
   ]
  },
  {
   "cell_type": "code",
   "execution_count": 23,
   "metadata": {},
   "outputs": [
    {
     "data": {
      "text/html": [
       "<div>\n",
       "<style scoped>\n",
       "    .dataframe tbody tr th:only-of-type {\n",
       "        vertical-align: middle;\n",
       "    }\n",
       "\n",
       "    .dataframe tbody tr th {\n",
       "        vertical-align: top;\n",
       "    }\n",
       "\n",
       "    .dataframe thead th {\n",
       "        text-align: right;\n",
       "    }\n",
       "</style>\n",
       "<table border=\"1\" class=\"dataframe\">\n",
       "  <thead>\n",
       "    <tr style=\"text-align: right;\">\n",
       "      <th></th>\n",
       "      <th>credit_score</th>\n",
       "      <th>age</th>\n",
       "      <th>tenure</th>\n",
       "      <th>balance</th>\n",
       "      <th>num_of_products</th>\n",
       "      <th>has_cr_card</th>\n",
       "      <th>is_active_member</th>\n",
       "      <th>estimated_salary</th>\n",
       "      <th>geography_Germany</th>\n",
       "      <th>geography_Spain</th>\n",
       "      <th>gender_Male</th>\n",
       "    </tr>\n",
       "  </thead>\n",
       "  <tbody>\n",
       "    <tr>\n",
       "      <th>9696</th>\n",
       "      <td>-1.036502</td>\n",
       "      <td>-0.653217</td>\n",
       "      <td>1.091918</td>\n",
       "      <td>0.329388</td>\n",
       "      <td>-0.911674</td>\n",
       "      <td>1</td>\n",
       "      <td>1</td>\n",
       "      <td>1.717582</td>\n",
       "      <td>0</td>\n",
       "      <td>0</td>\n",
       "      <td>1</td>\n",
       "    </tr>\n",
       "    <tr>\n",
       "      <th>509</th>\n",
       "      <td>-0.529560</td>\n",
       "      <td>-0.185576</td>\n",
       "      <td>-1.085144</td>\n",
       "      <td>-1.222775</td>\n",
       "      <td>0.799319</td>\n",
       "      <td>1</td>\n",
       "      <td>1</td>\n",
       "      <td>0.758926</td>\n",
       "      <td>0</td>\n",
       "      <td>1</td>\n",
       "      <td>0</td>\n",
       "    </tr>\n",
       "    <tr>\n",
       "      <th>621</th>\n",
       "      <td>0.060149</td>\n",
       "      <td>0.095009</td>\n",
       "      <td>1.817605</td>\n",
       "      <td>1.449395</td>\n",
       "      <td>-0.911674</td>\n",
       "      <td>0</td>\n",
       "      <td>1</td>\n",
       "      <td>0.899923</td>\n",
       "      <td>0</td>\n",
       "      <td>1</td>\n",
       "      <td>0</td>\n",
       "    </tr>\n",
       "    <tr>\n",
       "      <th>7681</th>\n",
       "      <td>-0.095038</td>\n",
       "      <td>-0.559689</td>\n",
       "      <td>-1.085144</td>\n",
       "      <td>1.104228</td>\n",
       "      <td>0.799319</td>\n",
       "      <td>1</td>\n",
       "      <td>1</td>\n",
       "      <td>-0.762892</td>\n",
       "      <td>0</td>\n",
       "      <td>0</td>\n",
       "      <td>1</td>\n",
       "    </tr>\n",
       "    <tr>\n",
       "      <th>4265</th>\n",
       "      <td>0.608474</td>\n",
       "      <td>-0.653217</td>\n",
       "      <td>-0.359457</td>\n",
       "      <td>1.121959</td>\n",
       "      <td>-0.911674</td>\n",
       "      <td>0</td>\n",
       "      <td>1</td>\n",
       "      <td>-1.021336</td>\n",
       "      <td>0</td>\n",
       "      <td>0</td>\n",
       "      <td>1</td>\n",
       "    </tr>\n",
       "  </tbody>\n",
       "</table>\n",
       "</div>"
      ],
      "text/plain": [
       "      credit_score       age    tenure   balance  num_of_products  \\\n",
       "9696     -1.036502 -0.653217  1.091918  0.329388        -0.911674   \n",
       "509      -0.529560 -0.185576 -1.085144 -1.222775         0.799319   \n",
       "621       0.060149  0.095009  1.817605  1.449395        -0.911674   \n",
       "7681     -0.095038 -0.559689 -1.085144  1.104228         0.799319   \n",
       "4265      0.608474 -0.653217 -0.359457  1.121959        -0.911674   \n",
       "\n",
       "      has_cr_card  is_active_member  estimated_salary  geography_Germany  \\\n",
       "9696            1                 1          1.717582                  0   \n",
       "509             1                 1          0.758926                  0   \n",
       "621             0                 1          0.899923                  0   \n",
       "7681            1                 1         -0.762892                  0   \n",
       "4265            0                 1         -1.021336                  0   \n",
       "\n",
       "      geography_Spain  gender_Male  \n",
       "9696                0            1  \n",
       "509                 1            0  \n",
       "621                 1            0  \n",
       "7681                0            1  \n",
       "4265                0            1  "
      ]
     },
     "execution_count": 23,
     "metadata": {},
     "output_type": "execute_result"
    }
   ],
   "source": [
    "features_train.head()"
   ]
  },
  {
   "cell_type": "markdown",
   "metadata": {},
   "source": [
    "### Изучение моделей без учёта дисбаланса"
   ]
  },
  {
   "cell_type": "markdown",
   "metadata": {},
   "source": [
    "Исследую модели без учета дисбаланса классов и посмотрю на значение метрики F1-меры, которая является средним гармоническим метрик полноты (recall) и точности (precision).\n",
    "Вычисления для каждой модели оформлю в виде функций."
   ]
  },
  {
   "cell_type": "code",
   "execution_count": 24,
   "metadata": {},
   "outputs": [],
   "source": [
    "\"\"\"Модель решающего дерева\"\"\"\n",
    "\n",
    "def calc_decision_tree_model(\n",
    "    features_train, \n",
    "    target_train, \n",
    "    features_valid, \n",
    "    target_valid, \n",
    "    class_weight=None,\n",
    "):\n",
    "    best_result = 0\n",
    "    best_leaf = 0\n",
    "    best_depth = 0\n",
    "    best_split = 0\n",
    "\n",
    "    for split in range(2, 6):\n",
    "        for leaf in range(1, 6):\n",
    "            for depth in range(1, 6):\n",
    "                model_decision_tree = DecisionTreeClassifier(\n",
    "                    min_samples_split=split, min_samples_leaf=leaf,\n",
    "                    max_depth=depth, class_weight=class_weight, random_state=123\n",
    "                )\n",
    "                model_decision_tree.fit(features_train, target_train)\n",
    "                predicted_valid = model_decision_tree.predict(features_valid)\n",
    "                f1_score_dt = f1_score(target_valid, predicted_valid)\n",
    "                if f1_score_dt > best_result:\n",
    "                    best_result = f1_score_dt\n",
    "                    best_leaf = leaf\n",
    "                    best_depth = depth\n",
    "                    best_split = split\n",
    "\n",
    "    print(\n",
    "        f\"F1-мера модели решающего дерева на валидационной выборке: {best_result}\",\n",
    "        f\"Минимальное количество примеров для разделения: {split}\",\n",
    "        f\"Минимальное количество объектов в листе: {leaf}\",\n",
    "        f\"Максимальная глубина: {depth}\",\n",
    "        sep=\"\\n\"\n",
    "    )"
   ]
  },
  {
   "cell_type": "code",
   "execution_count": 25,
   "metadata": {},
   "outputs": [
    {
     "name": "stdout",
     "output_type": "stream",
     "text": [
      "F1-мера модели решающего дерева на валидационной выборке: 0.5469255663430421\n",
      "Минимальное количество примеров для разделения: 5\n",
      "Минимальное количество объектов в листе: 5\n",
      "Максимальная глубина: 5\n"
     ]
    }
   ],
   "source": [
    "calc_decision_tree_model(\n",
    "    features_train, \n",
    "    target_train, \n",
    "    features_valid, \n",
    "    target_valid,\n",
    ")"
   ]
  },
  {
   "cell_type": "code",
   "execution_count": 26,
   "metadata": {},
   "outputs": [],
   "source": [
    "\"\"\"Модель случайного леса с подбором гиперпараметров\"\"\"\n",
    "\n",
    "def calc_random_forest_model(\n",
    "    features_train, \n",
    "    target_train, \n",
    "    features_valid, \n",
    "    target_valid, \n",
    "    class_weight=None,\n",
    "):\n",
    "\n",
    "    best_result = 0\n",
    "    best_est = 0\n",
    "    best_depth = 0\n",
    "\n",
    "    for est in range(10, 61, 10):\n",
    "        for depth in range(1, 11):\n",
    "            model_random_forest = RandomForestClassifier(\n",
    "                n_estimators=est, max_depth=depth, class_weight=class_weight, random_state=123\n",
    "            )\n",
    "            model_random_forest.fit(features_train, target_train)\n",
    "            predictions_valid = model_random_forest.predict(features_valid)\n",
    "            f1_score_rf = f1_score(target_valid, predictions_valid)\n",
    "            if f1_score_rf > best_result:\n",
    "                best_result = f1_score_rf\n",
    "                best_est = est\n",
    "                best_depth = depth\n",
    "\n",
    "    print(\n",
    "        f\"F1-мера для модели случайного леса на валидационной выборке: {best_result}\",\n",
    "        f\"Количество деревьев: {best_est}\",\n",
    "        f\"Максимальная глубина: {depth}\",\n",
    "        sep=\"\\n\"\n",
    "    )"
   ]
  },
  {
   "cell_type": "code",
   "execution_count": 27,
   "metadata": {},
   "outputs": [
    {
     "name": "stdout",
     "output_type": "stream",
     "text": [
      "F1-мера для модели случайного леса на валидационной выборке: 0.5588235294117647\n",
      "Количество деревьев: 60\n",
      "Максимальная глубина: 10\n"
     ]
    }
   ],
   "source": [
    "calc_random_forest_model(\n",
    "    features_train, \n",
    "    target_train, \n",
    "    features_valid, \n",
    "    target_valid, \n",
    ")"
   ]
  },
  {
   "cell_type": "code",
   "execution_count": 28,
   "metadata": {},
   "outputs": [],
   "source": [
    "\"\"\"Логистическая регрессия\"\"\"\n",
    "\n",
    "def calc_logistic_regression_model(\n",
    "    features_train, \n",
    "    target_train, \n",
    "    features_valid, \n",
    "    target_valid, \n",
    "    class_weight=None,\n",
    "):\n",
    "    model_logistic_regression = LogisticRegression(\n",
    "        solver='liblinear', \n",
    "        class_weight=class_weight, \n",
    "        random_state=123\n",
    "    )\n",
    "    model_logistic_regression.fit(features_train, target_train)\n",
    "    predictions_valid = model_logistic_regression.predict(features_valid)\n",
    "    f1_score_lr = f1_score(target_valid, predictions_valid)\n",
    "    print('F1-мера для модели логистической регрессии на валидационной выборке:', f1_score_lr)"
   ]
  },
  {
   "cell_type": "code",
   "execution_count": 29,
   "metadata": {},
   "outputs": [
    {
     "name": "stdout",
     "output_type": "stream",
     "text": [
      "F1-мера для модели логистической регрессии на валидационной выборке: 0.28190476190476194\n"
     ]
    }
   ],
   "source": [
    "calc_logistic_regression_model(\n",
    "    features_train, \n",
    "    target_train, \n",
    "    features_valid, \n",
    "    target_valid, \n",
    ")"
   ]
  },
  {
   "cell_type": "markdown",
   "metadata": {},
   "source": [
    "**Вывод:** без учета дисбаланса классов не удалось достигнуть необходимого значения F1-меры. Модели недостаточно хорошо предсказывают целевой признак, поэтому буду увеличивать качество моделей с помощью различных методов."
   ]
  },
  {
   "cell_type": "markdown",
   "metadata": {},
   "source": [
    "## Борьба с дисбалансом"
   ]
  },
  {
   "cell_type": "markdown",
   "metadata": {},
   "source": [
    "Классы считаются несбалансированными, когда их соотношение не равно 1:1. Посчитаю, как соотносятся классы в исходном датасете."
   ]
  },
  {
   "cell_type": "code",
   "execution_count": 30,
   "metadata": {},
   "outputs": [
    {
     "data": {
      "text/plain": [
       "(2037, 11)"
      ]
     },
     "execution_count": 30,
     "metadata": {},
     "output_type": "execute_result"
    }
   ],
   "source": [
    "churn.query('exited == 1').shape # положительный класс \"1\""
   ]
  },
  {
   "cell_type": "code",
   "execution_count": 31,
   "metadata": {},
   "outputs": [
    {
     "data": {
      "text/plain": [
       "(7963, 11)"
      ]
     },
     "execution_count": 31,
     "metadata": {},
     "output_type": "execute_result"
    }
   ],
   "source": [
    "churn.query('exited == 0').shape # отрицательный класс \"0\""
   ]
  },
  {
   "cell_type": "markdown",
   "metadata": {},
   "source": [
    "Наблюдается **дисбаланс классов**: соотношение положительного класса \"1\" к отрицательному \"0\" ~ 1:4."
   ]
  },
  {
   "cell_type": "markdown",
   "metadata": {},
   "source": [
    "Чтобы учесть дисбаланс классов и повысить качество моделей воспользуюсь следующими способами:\n",
    "- взвешивание классов;\n",
    "- увеличение выборки (техника `upsampling`);\n",
    "- уменьшение выборки (техника `downsampling`).\n",
    "\n",
    "С учетом данных техник обучу модели для выявления наилучшего качества среди рассматриваемых моделей."
   ]
  },
  {
   "cell_type": "markdown",
   "metadata": {},
   "source": [
    "### Взвешивание классов"
   ]
  },
  {
   "cell_type": "markdown",
   "metadata": {},
   "source": [
    "Чтобы придать редкому классу (в данном случае, положительному) больший вес, задам алгоритму гиперпараметр `class_weight = 'balanced'`."
   ]
  },
  {
   "cell_type": "code",
   "execution_count": 32,
   "metadata": {},
   "outputs": [
    {
     "name": "stdout",
     "output_type": "stream",
     "text": [
      "F1-мера модели решающего дерева на валидационной выборке: 0.5630026809651474\n",
      "Минимальное количество примеров для разделения: 5\n",
      "Минимальное количество объектов в листе: 5\n",
      "Максимальная глубина: 5\n"
     ]
    }
   ],
   "source": [
    "\"\"\"Модель решающего дерева\"\"\"\n",
    "\n",
    "calc_decision_tree_model(\n",
    "    features_train, \n",
    "    target_train, \n",
    "    features_valid, \n",
    "    target_valid, \n",
    "    class_weight='balanced'\n",
    ")"
   ]
  },
  {
   "cell_type": "code",
   "execution_count": 33,
   "metadata": {},
   "outputs": [
    {
     "name": "stdout",
     "output_type": "stream",
     "text": [
      "F1-мера для модели случайного леса на валидационной выборке: 0.6197183098591549\n",
      "Количество деревьев: 50\n",
      "Максимальная глубина: 10\n"
     ]
    }
   ],
   "source": [
    "\"\"\"Модель случайного леса\"\"\"\n",
    "\n",
    "calc_random_forest_model(\n",
    "    features_train, \n",
    "    target_train, \n",
    "    features_valid, \n",
    "    target_valid, \n",
    "    class_weight='balanced'\n",
    ")"
   ]
  },
  {
   "cell_type": "code",
   "execution_count": 34,
   "metadata": {},
   "outputs": [
    {
     "name": "stdout",
     "output_type": "stream",
     "text": [
      "F1-мера для модели логистической регрессии на валидационной выборке: 0.4553415061295972\n"
     ]
    }
   ],
   "source": [
    "\"\"\"Логистическая регрессия\"\"\"\n",
    "\n",
    "calc_logistic_regression_model(\n",
    "    features_train,\n",
    "    target_train, \n",
    "    features_valid, \n",
    "    target_valid, \n",
    "    class_weight='balanced',\n",
    ")"
   ]
  },
  {
   "cell_type": "markdown",
   "metadata": {},
   "source": [
    "**Вывод:** у моделей решающего дерева и логистической регрессии с заданным гиперпараметром веса класса качество моделей не дотягивает до заданного в задании. А вот у **модели случайного леса** метрика качества лучше: **F1-мера равняется ~ 0,628**. Проверю, получится ли повысить качество при использовании других техник с учетом дисбаланса классов."
   ]
  },
  {
   "cell_type": "markdown",
   "metadata": {},
   "source": [
    "### Увеличение выборки"
   ]
  },
  {
   "cell_type": "markdown",
   "metadata": {},
   "source": [
    "Техника `upsampling` используется для увеличения количества объектов редкого класса."
   ]
  },
  {
   "cell_type": "code",
   "execution_count": 35,
   "metadata": {},
   "outputs": [],
   "source": [
    "\"\"\"Функция с реализацией техники upsampling\"\"\"\n",
    "\n",
    "def upsample(features, target, repeat):\n",
    "    features_zeros = features[target == 0]\n",
    "    features_ones = features[target == 1]\n",
    "    target_zeros = target[target == 0]\n",
    "    target_ones = target[target == 1]\n",
    "\n",
    "    features_upsampled = pd.concat([features_zeros] + [features_ones] * repeat)\n",
    "    target_upsampled = pd.concat([target_zeros] + [target_ones] * repeat)\n",
    "    \n",
    "    features_upsampled, target_upsampled = shuffle(\n",
    "        features_upsampled, target_upsampled, random_state=123)\n",
    "    \n",
    "    return features_upsampled, target_upsampled\n",
    "\n",
    "features_upsampled, target_upsampled = upsample(features_train, target_train, 3)"
   ]
  },
  {
   "cell_type": "code",
   "execution_count": 36,
   "metadata": {},
   "outputs": [
    {
     "name": "stdout",
     "output_type": "stream",
     "text": [
      "F1-мера модели решающего дерева на валидационной выборке: 0.5846867749419953\n",
      "Минимальное количество примеров для разделения: 5\n",
      "Минимальное количество объектов в листе: 5\n",
      "Максимальная глубина: 5\n"
     ]
    }
   ],
   "source": [
    "\"\"\"Модель решающего дерева\"\"\"\n",
    "\n",
    "calc_decision_tree_model(\n",
    "    features_upsampled, \n",
    "    target_upsampled, \n",
    "    features_valid, \n",
    "    target_valid\n",
    ")"
   ]
  },
  {
   "cell_type": "code",
   "execution_count": 37,
   "metadata": {},
   "outputs": [
    {
     "name": "stdout",
     "output_type": "stream",
     "text": [
      "F1-мера для модели случайного леса на валидационной выборке: 0.633906633906634\n",
      "Количество деревьев: 40\n",
      "Максимальная глубина: 10\n"
     ]
    }
   ],
   "source": [
    "\"\"\"Модель случайного леса\"\"\"\n",
    "\n",
    "calc_random_forest_model(\n",
    "    features_upsampled, \n",
    "    target_upsampled,\n",
    "    features_valid, \n",
    "    target_valid\n",
    ")"
   ]
  },
  {
   "cell_type": "code",
   "execution_count": 38,
   "metadata": {},
   "outputs": [
    {
     "name": "stdout",
     "output_type": "stream",
     "text": [
      "F1-мера для модели логистической регрессии на валидационной выборке: 0.4753086419753087\n"
     ]
    }
   ],
   "source": [
    "\"\"\"Логистическая регрессия\"\"\"\n",
    "\n",
    "calc_logistic_regression_model(\n",
    "    features_upsampled, \n",
    "    target_upsampled, \n",
    "    features_valid, \n",
    "    target_valid\n",
    ")"
   ]
  },
  {
   "cell_type": "markdown",
   "metadata": {},
   "source": [
    "**Вывод:** техника `upsampling` позволила добиться повышения качества моделей. **Модель случайного леса** показывает наилучшую метрику качества **F1-меры: 0,6339**."
   ]
  },
  {
   "cell_type": "markdown",
   "metadata": {},
   "source": [
    "### Уменьшение выборки"
   ]
  },
  {
   "cell_type": "markdown",
   "metadata": {},
   "source": [
    "Техника `downsampling` используется, чтобы уменьшить количество объектов частого класса, т.е. убрать часть неважных вопросов."
   ]
  },
  {
   "cell_type": "code",
   "execution_count": 39,
   "metadata": {},
   "outputs": [],
   "source": [
    "\"\"\"Функция с реализацией техники downsampling\"\"\"\n",
    "\n",
    "def downsample(features, target, fraction):\n",
    "    features_zeros = features[target == 0]\n",
    "    features_ones = features[target == 1]\n",
    "    target_zeros = target[target == 0]\n",
    "    target_ones = target[target == 1]\n",
    "\n",
    "    features_downsampled = pd.concat(\n",
    "        [features_zeros.sample(frac=fraction, random_state=123)] + [features_ones])\n",
    "    target_downsampled = pd.concat(\n",
    "        [target_zeros.sample(frac=fraction, random_state=123)] + [target_ones])\n",
    "    \n",
    "    features_downsampled, target_downsampled = shuffle(\n",
    "        features_downsampled, target_downsampled, random_state=123)\n",
    "    \n",
    "    return features_downsampled, target_downsampled\n",
    "\n",
    "features_downsampled, target_downsampled = downsample(features_train, target_train, 0.26)"
   ]
  },
  {
   "cell_type": "code",
   "execution_count": 40,
   "metadata": {},
   "outputs": [
    {
     "name": "stdout",
     "output_type": "stream",
     "text": [
      "F1-мера модели решающего дерева на валидационной выборке: 0.5642407906558851\n",
      "Минимальное количество примеров для разделения: 5\n",
      "Минимальное количество объектов в листе: 5\n",
      "Максимальная глубина: 5\n"
     ]
    }
   ],
   "source": [
    "\"\"\"Модель решающего дерева\"\"\"\n",
    "\n",
    "calc_decision_tree_model(\n",
    "    features_downsampled,\n",
    "    target_downsampled, \n",
    "    features_valid, \n",
    "    target_valid\n",
    ")"
   ]
  },
  {
   "cell_type": "code",
   "execution_count": 41,
   "metadata": {},
   "outputs": [
    {
     "name": "stdout",
     "output_type": "stream",
     "text": [
      "F1-мера для модели случайного леса на валидационной выборке: 0.6017357762777242\n",
      "Количество деревьев: 60\n",
      "Максимальная глубина: 10\n"
     ]
    }
   ],
   "source": [
    "\"\"\"Случайный лес\"\"\"\n",
    "\n",
    "calc_random_forest_model(\n",
    "    features_downsampled,\n",
    "    target_downsampled,\n",
    "    features_valid, \n",
    "    target_valid\n",
    ")"
   ]
  },
  {
   "cell_type": "code",
   "execution_count": 42,
   "metadata": {},
   "outputs": [
    {
     "name": "stdout",
     "output_type": "stream",
     "text": [
      "F1-мера для модели логистической регрессии на валидационной выборке: 0.4597902097902098\n"
     ]
    }
   ],
   "source": [
    "\"\"\"Логистическая регрессия\"\"\"\n",
    "\n",
    "calc_logistic_regression_model(\n",
    "    features_downsampled,\n",
    "    target_downsampled,\n",
    "    features_valid, \n",
    "    target_valid\n",
    ")"
   ]
  },
  {
   "cell_type": "markdown",
   "metadata": {},
   "source": [
    "**Вывод:** техника `downsampling` не позволила добиться повышения качества моделей в сравнении с upsampling. **Модель случайного леса** показала метрику качества **F1-меры: 0,6017**."
   ]
  },
  {
   "cell_type": "markdown",
   "metadata": {},
   "source": [
    "## Тестирование модели"
   ]
  },
  {
   "cell_type": "markdown",
   "metadata": {},
   "source": [
    "Протестирую наилучшую модель с применением техники `upsampling` на тестовой выборке:"
   ]
  },
  {
   "cell_type": "code",
   "execution_count": 43,
   "metadata": {},
   "outputs": [
    {
     "name": "stdout",
     "output_type": "stream",
     "text": [
      "F1-мера для модели случайного леса на тестовой выборке: 0.6243902439024389\n"
     ]
    }
   ],
   "source": [
    "\"\"\"Модель случайного леса\"\"\"\n",
    "\n",
    "model_random_forest = RandomForestClassifier(n_estimators = 40, max_depth = 10, random_state=123)\n",
    "model_random_forest.fit(features_upsampled, target_upsampled)\n",
    "predictions_test_rf = model_random_forest.predict(features_test)\n",
    "f1_score_rf = f1_score(target_test, predictions_test_rf)\n",
    "           \n",
    "print(\"F1-мера для модели случайного леса на тестовой выборке:\", f1_score_rf)"
   ]
  },
  {
   "cell_type": "markdown",
   "metadata": {},
   "source": [
    "**Вывод:** модель случайного леса показала себя хорошо на валидационной и тестовой выборках."
   ]
  },
  {
   "cell_type": "markdown",
   "metadata": {},
   "source": [
    "### ROC-кривая и исследование метрики AUC-ROC"
   ]
  },
  {
   "cell_type": "markdown",
   "metadata": {},
   "source": [
    "ROC-кривой называется взаимосвязь между долей истинно положительных ответов (True Positive Rate) и и долей ложноположительных ответов (False Positive Rate). Перебираются значения порога классификации и строится график ROC-кривой."
   ]
  },
  {
   "cell_type": "markdown",
   "metadata": {},
   "source": [
    "Построю ROC-кривую для своей модели и для случайной:"
   ]
  },
  {
   "cell_type": "code",
   "execution_count": 44,
   "metadata": {},
   "outputs": [
    {
     "data": {
      "image/png": "[encoded data removed]",
      "text/plain": [
       "<Figure size 432x288 with 1 Axes>"
      ]
     },
     "metadata": {
      "needs_background": "light"
     },
     "output_type": "display_data"
    }
   ],
   "source": [
    "probabilities_test = model_random_forest.predict_proba(features_test)\n",
    "probabilities_one_test = probabilities_test[:, 1]\n",
    "\n",
    "fpr, tpr, thresholds = roc_curve(target_test, probabilities_one_test)\n",
    "\n",
    "plt.figure()\n",
    "plt.plot(fpr, tpr)\n",
    "plt.plot([0, 1], [0, 1], linestyle='--')\n",
    "plt.xlim([0.0, 1.0])\n",
    "plt.ylim([0.0, 1.0])\n",
    "plt.xlabel('False Positive Rate')\n",
    "plt.ylabel('True Positive Rate')\n",
    "plt.title('ROC-кривая')\n",
    "plt.show()"
   ]
  },
  {
   "cell_type": "markdown",
   "metadata": {},
   "source": [
    "Чтобы оценить, насколько модель отличается от случайной, вычислю площадь под кривой - AUC-ROC - метрика качества, которая может находиться в диапазоне от 0 до 1, а для случайной модели AUC-ROC равняется 0.5."
   ]
  },
  {
   "cell_type": "code",
   "execution_count": 45,
   "metadata": {},
   "outputs": [
    {
     "data": {
      "text/plain": [
       "0.8636566664185215"
      ]
     },
     "execution_count": 45,
     "metadata": {},
     "output_type": "execute_result"
    }
   ],
   "source": [
    "auc_roc_random_forest = roc_auc_score(target_test, probabilities_one_test)\n",
    "auc_roc_random_forest"
   ]
  },
  {
   "cell_type": "markdown",
   "metadata": {},
   "source": [
    "**Вывод:** таким образом, метрика качества AUC-ROC достаточно выше 0.5, что позволяет сделать вывод, что обученная модель случайного леса предсказывает лучше случайной."
   ]
  },
  {
   "cell_type": "markdown",
   "metadata": {},
   "source": [
    "## Общий вывод"
   ]
  },
  {
   "cell_type": "markdown",
   "metadata": {},
   "source": [
    "Выполнена задача разработки системы прогнозирования оттока клиентов банка с помощью модели машинного обучения - **случайного леса**. Удалось достичь заданного значения F1-меры, которое **на валидационной выборке равняется 0,6339, на тестовой - 0,6244**. При несбалансированной классификации увеличить значение метрики позволила техника `upsampling` (увеличение выборки)."
   ]
  }
 ],
 "metadata": {
  "ExecuteTimeLog": [
   {
    "duration": 1332,
    "start_time": "2022-02-03T11:16:57.265Z"
   },
   {
    "duration": 59,
    "start_time": "2022-02-03T11:17:13.812Z"
   },
   {
    "duration": 13,
    "start_time": "2022-02-03T11:17:34.705Z"
   },
   {
    "duration": 61,
    "start_time": "2022-02-03T11:21:38.971Z"
   },
   {
    "duration": 7,
    "start_time": "2022-02-03T13:41:28.184Z"
   },
   {
    "duration": 6,
    "start_time": "2022-02-03T13:41:51.086Z"
   },
   {
    "duration": 7,
    "start_time": "2022-02-03T13:41:58.590Z"
   },
   {
    "duration": 416,
    "start_time": "2022-02-03T13:43:18.742Z"
   },
   {
    "duration": 4,
    "start_time": "2022-02-03T13:45:26.985Z"
   },
   {
    "duration": 19,
    "start_time": "2022-02-03T13:45:45.177Z"
   },
   {
    "duration": 323,
    "start_time": "2022-02-03T13:50:41.371Z"
   },
   {
    "duration": 21,
    "start_time": "2022-02-03T13:50:53.443Z"
   },
   {
    "duration": 1362,
    "start_time": "2022-02-03T13:51:19.457Z"
   },
   {
    "duration": 60,
    "start_time": "2022-02-03T13:51:20.822Z"
   },
   {
    "duration": 11,
    "start_time": "2022-02-03T13:51:20.885Z"
   },
   {
    "duration": 92,
    "start_time": "2022-02-03T13:51:20.899Z"
   },
   {
    "duration": 22,
    "start_time": "2022-02-03T13:51:26.774Z"
   },
   {
    "duration": 4,
    "start_time": "2022-02-03T13:51:57.454Z"
   },
   {
    "duration": 17,
    "start_time": "2022-02-03T13:51:58.773Z"
   },
   {
    "duration": 8,
    "start_time": "2022-02-03T13:57:03.678Z"
   },
   {
    "duration": 20,
    "start_time": "2022-02-03T13:57:13.200Z"
   },
   {
    "duration": 4,
    "start_time": "2022-02-03T14:01:24.317Z"
   },
   {
    "duration": 52,
    "start_time": "2022-02-03T14:01:24.324Z"
   },
   {
    "duration": 11,
    "start_time": "2022-02-03T14:01:24.379Z"
   },
   {
    "duration": 91,
    "start_time": "2022-02-03T14:01:24.392Z"
   },
   {
    "duration": 5,
    "start_time": "2022-02-03T14:01:24.485Z"
   },
   {
    "duration": 10,
    "start_time": "2022-02-03T14:01:24.492Z"
   },
   {
    "duration": 10,
    "start_time": "2022-02-03T14:01:24.505Z"
   },
   {
    "duration": 6,
    "start_time": "2022-02-03T14:01:28.096Z"
   },
   {
    "duration": 12,
    "start_time": "2022-02-03T14:01:40.274Z"
   },
   {
    "duration": 1267,
    "start_time": "2022-02-03T14:02:40.995Z"
   },
   {
    "duration": 6,
    "start_time": "2022-02-03T14:02:56.298Z"
   },
   {
    "duration": 17,
    "start_time": "2022-02-03T14:03:09.739Z"
   },
   {
    "duration": 5,
    "start_time": "2022-02-03T14:06:16.037Z"
   },
   {
    "duration": 8,
    "start_time": "2022-02-03T14:06:18.260Z"
   },
   {
    "duration": 11,
    "start_time": "2022-02-03T14:06:33.541Z"
   },
   {
    "duration": 6,
    "start_time": "2022-02-03T14:12:45.680Z"
   },
   {
    "duration": 9,
    "start_time": "2022-02-03T14:16:57.705Z"
   },
   {
    "duration": 9,
    "start_time": "2022-02-03T14:16:59.536Z"
   },
   {
    "duration": 4,
    "start_time": "2022-02-03T14:18:12.463Z"
   },
   {
    "duration": 5,
    "start_time": "2022-02-03T14:18:49.657Z"
   },
   {
    "duration": 5,
    "start_time": "2022-02-03T14:19:06.346Z"
   },
   {
    "duration": 5,
    "start_time": "2022-02-03T14:19:22.490Z"
   },
   {
    "duration": 6,
    "start_time": "2022-02-03T14:19:38.098Z"
   },
   {
    "duration": 6,
    "start_time": "2022-02-03T14:19:46.667Z"
   },
   {
    "duration": 1396,
    "start_time": "2022-02-04T07:37:29.897Z"
   },
   {
    "duration": 122,
    "start_time": "2022-02-04T07:37:31.296Z"
   },
   {
    "duration": 13,
    "start_time": "2022-02-04T07:37:31.421Z"
   },
   {
    "duration": 63,
    "start_time": "2022-02-04T07:37:31.438Z"
   },
   {
    "duration": 6,
    "start_time": "2022-02-04T07:37:31.503Z"
   },
   {
    "duration": 25,
    "start_time": "2022-02-04T07:37:31.511Z"
   },
   {
    "duration": 13,
    "start_time": "2022-02-04T07:37:31.539Z"
   },
   {
    "duration": 10,
    "start_time": "2022-02-04T07:37:31.557Z"
   },
   {
    "duration": 9,
    "start_time": "2022-02-04T07:37:31.571Z"
   },
   {
    "duration": 12,
    "start_time": "2022-02-04T07:37:31.582Z"
   },
   {
    "duration": 35,
    "start_time": "2022-02-04T07:37:31.597Z"
   },
   {
    "duration": 9,
    "start_time": "2022-02-04T07:37:31.634Z"
   },
   {
    "duration": 7,
    "start_time": "2022-02-04T07:37:31.645Z"
   },
   {
    "duration": 7,
    "start_time": "2022-02-04T07:37:31.654Z"
   },
   {
    "duration": 6,
    "start_time": "2022-02-04T07:37:31.663Z"
   },
   {
    "duration": 8,
    "start_time": "2022-02-04T07:37:31.672Z"
   },
   {
    "duration": 51,
    "start_time": "2022-02-04T07:37:31.683Z"
   },
   {
    "duration": 13,
    "start_time": "2022-02-04T07:37:31.736Z"
   },
   {
    "duration": 11,
    "start_time": "2022-02-04T07:37:31.751Z"
   },
   {
    "duration": 440,
    "start_time": "2022-02-04T07:49:11.689Z"
   },
   {
    "duration": 12,
    "start_time": "2022-02-04T07:49:31.151Z"
   },
   {
    "duration": 14,
    "start_time": "2022-02-04T07:52:35.064Z"
   },
   {
    "duration": 1406,
    "start_time": "2022-02-04T07:52:45.097Z"
   },
   {
    "duration": 60,
    "start_time": "2022-02-04T07:52:46.505Z"
   },
   {
    "duration": 11,
    "start_time": "2022-02-04T07:52:46.568Z"
   },
   {
    "duration": 81,
    "start_time": "2022-02-04T07:52:46.582Z"
   },
   {
    "duration": 6,
    "start_time": "2022-02-04T07:52:46.665Z"
   },
   {
    "duration": 9,
    "start_time": "2022-02-04T07:52:46.674Z"
   },
   {
    "duration": 16,
    "start_time": "2022-02-04T07:52:46.686Z"
   },
   {
    "duration": 29,
    "start_time": "2022-02-04T07:52:46.705Z"
   },
   {
    "duration": 9,
    "start_time": "2022-02-04T07:52:46.739Z"
   },
   {
    "duration": 14,
    "start_time": "2022-02-04T07:52:46.751Z"
   },
   {
    "duration": 6,
    "start_time": "2022-02-04T07:52:46.768Z"
   },
   {
    "duration": 16,
    "start_time": "2022-02-04T07:52:46.777Z"
   },
   {
    "duration": 41,
    "start_time": "2022-02-04T07:52:46.796Z"
   },
   {
    "duration": 9,
    "start_time": "2022-02-04T07:52:46.839Z"
   },
   {
    "duration": 12,
    "start_time": "2022-02-04T07:52:46.850Z"
   },
   {
    "duration": 15,
    "start_time": "2022-02-04T07:52:46.864Z"
   },
   {
    "duration": 8,
    "start_time": "2022-02-04T07:52:46.882Z"
   },
   {
    "duration": 8,
    "start_time": "2022-02-04T07:52:46.893Z"
   },
   {
    "duration": 42,
    "start_time": "2022-02-04T07:52:46.904Z"
   },
   {
    "duration": 334,
    "start_time": "2022-02-04T07:52:46.949Z"
   },
   {
    "duration": 322,
    "start_time": "2022-02-04T07:53:08.016Z"
   },
   {
    "duration": 1286,
    "start_time": "2022-02-04T07:54:37.671Z"
   },
   {
    "duration": 60,
    "start_time": "2022-02-04T07:54:38.959Z"
   },
   {
    "duration": 16,
    "start_time": "2022-02-04T07:54:39.022Z"
   },
   {
    "duration": 61,
    "start_time": "2022-02-04T07:54:39.041Z"
   },
   {
    "duration": 28,
    "start_time": "2022-02-04T07:54:39.104Z"
   },
   {
    "duration": 4,
    "start_time": "2022-02-04T07:54:39.135Z"
   },
   {
    "duration": 9,
    "start_time": "2022-02-04T07:54:39.141Z"
   },
   {
    "duration": 6,
    "start_time": "2022-02-04T07:54:39.154Z"
   },
   {
    "duration": 8,
    "start_time": "2022-02-04T07:54:39.163Z"
   },
   {
    "duration": 65,
    "start_time": "2022-02-04T07:54:39.174Z"
   },
   {
    "duration": 6,
    "start_time": "2022-02-04T07:54:39.242Z"
   },
   {
    "duration": 13,
    "start_time": "2022-02-04T07:54:39.250Z"
   },
   {
    "duration": 7,
    "start_time": "2022-02-04T07:54:39.265Z"
   },
   {
    "duration": 6,
    "start_time": "2022-02-04T07:54:39.275Z"
   },
   {
    "duration": 48,
    "start_time": "2022-02-04T07:54:39.284Z"
   },
   {
    "duration": 5,
    "start_time": "2022-02-04T07:54:39.335Z"
   },
   {
    "duration": 7,
    "start_time": "2022-02-04T07:54:39.343Z"
   },
   {
    "duration": 7,
    "start_time": "2022-02-04T07:54:39.352Z"
   },
   {
    "duration": 7,
    "start_time": "2022-02-04T07:54:39.362Z"
   },
   {
    "duration": 83,
    "start_time": "2022-02-04T07:54:39.372Z"
   },
   {
    "duration": 29,
    "start_time": "2022-02-04T07:58:56.640Z"
   },
   {
    "duration": 1366,
    "start_time": "2022-02-04T08:08:08.697Z"
   },
   {
    "duration": 61,
    "start_time": "2022-02-04T08:08:10.066Z"
   },
   {
    "duration": 13,
    "start_time": "2022-02-04T08:08:10.132Z"
   },
   {
    "duration": 60,
    "start_time": "2022-02-04T08:08:10.148Z"
   },
   {
    "duration": 5,
    "start_time": "2022-02-04T08:08:10.232Z"
   },
   {
    "duration": 8,
    "start_time": "2022-02-04T08:08:10.240Z"
   },
   {
    "duration": 8,
    "start_time": "2022-02-04T08:08:10.251Z"
   },
   {
    "duration": 6,
    "start_time": "2022-02-04T08:08:10.261Z"
   },
   {
    "duration": 8,
    "start_time": "2022-02-04T08:08:10.271Z"
   },
   {
    "duration": 51,
    "start_time": "2022-02-04T08:08:10.281Z"
   },
   {
    "duration": 27,
    "start_time": "2022-02-04T08:08:10.335Z"
   },
   {
    "duration": 5,
    "start_time": "2022-02-04T08:08:10.364Z"
   },
   {
    "duration": 9,
    "start_time": "2022-02-04T08:08:10.372Z"
   },
   {
    "duration": 8,
    "start_time": "2022-02-04T08:08:10.383Z"
   },
   {
    "duration": 40,
    "start_time": "2022-02-04T08:08:10.394Z"
   },
   {
    "duration": 6,
    "start_time": "2022-02-04T08:08:10.437Z"
   },
   {
    "duration": 10,
    "start_time": "2022-02-04T08:08:10.445Z"
   },
   {
    "duration": 15,
    "start_time": "2022-02-04T08:08:10.457Z"
   },
   {
    "duration": 5,
    "start_time": "2022-02-04T08:08:10.475Z"
   },
   {
    "duration": 6,
    "start_time": "2022-02-04T08:08:10.483Z"
   },
   {
    "duration": 4,
    "start_time": "2022-02-04T08:11:50.642Z"
   },
   {
    "duration": 6,
    "start_time": "2022-02-04T08:35:15.917Z"
   },
   {
    "duration": 387,
    "start_time": "2022-02-04T08:35:24.558Z"
   },
   {
    "duration": 246,
    "start_time": "2022-02-04T08:35:37.215Z"
   },
   {
    "duration": 7,
    "start_time": "2022-02-04T08:35:53.398Z"
   },
   {
    "duration": 3,
    "start_time": "2022-02-04T08:53:09.139Z"
   },
   {
    "duration": 42,
    "start_time": "2022-02-04T08:55:51.983Z"
   },
   {
    "duration": 40,
    "start_time": "2022-02-04T08:56:03.162Z"
   },
   {
    "duration": 1317,
    "start_time": "2022-02-04T08:56:17.252Z"
   },
   {
    "duration": 66,
    "start_time": "2022-02-04T08:56:18.572Z"
   },
   {
    "duration": 12,
    "start_time": "2022-02-04T08:56:18.641Z"
   },
   {
    "duration": 85,
    "start_time": "2022-02-04T08:56:18.656Z"
   },
   {
    "duration": 7,
    "start_time": "2022-02-04T08:56:18.743Z"
   },
   {
    "duration": 7,
    "start_time": "2022-02-04T08:56:18.752Z"
   },
   {
    "duration": 10,
    "start_time": "2022-02-04T08:56:18.762Z"
   },
   {
    "duration": 7,
    "start_time": "2022-02-04T08:56:18.776Z"
   },
   {
    "duration": 7,
    "start_time": "2022-02-04T08:56:18.786Z"
   },
   {
    "duration": 41,
    "start_time": "2022-02-04T08:56:18.796Z"
   },
   {
    "duration": 25,
    "start_time": "2022-02-04T08:56:18.839Z"
   },
   {
    "duration": 5,
    "start_time": "2022-02-04T08:56:18.866Z"
   },
   {
    "duration": 11,
    "start_time": "2022-02-04T08:56:18.874Z"
   },
   {
    "duration": 7,
    "start_time": "2022-02-04T08:56:18.887Z"
   },
   {
    "duration": 5,
    "start_time": "2022-02-04T08:56:18.932Z"
   },
   {
    "duration": 10,
    "start_time": "2022-02-04T08:56:18.939Z"
   },
   {
    "duration": 8,
    "start_time": "2022-02-04T08:56:18.952Z"
   },
   {
    "duration": 14,
    "start_time": "2022-02-04T08:56:18.962Z"
   },
   {
    "duration": 17,
    "start_time": "2022-02-04T08:56:18.978Z"
   },
   {
    "duration": 20,
    "start_time": "2022-02-04T08:56:18.998Z"
   },
   {
    "duration": 13,
    "start_time": "2022-02-04T08:56:19.021Z"
   },
   {
    "duration": 49,
    "start_time": "2022-02-04T08:56:19.037Z"
   },
   {
    "duration": 27,
    "start_time": "2022-02-04T08:56:25.116Z"
   },
   {
    "duration": 27,
    "start_time": "2022-02-04T08:56:57.606Z"
   },
   {
    "duration": 387,
    "start_time": "2022-02-04T10:30:24.484Z"
   },
   {
    "duration": 260,
    "start_time": "2022-02-04T10:30:30.844Z"
   },
   {
    "duration": 293,
    "start_time": "2022-02-04T10:30:39.307Z"
   },
   {
    "duration": 279,
    "start_time": "2022-02-04T10:30:58.149Z"
   },
   {
    "duration": 7,
    "start_time": "2022-02-04T10:33:49.351Z"
   },
   {
    "duration": 7383,
    "start_time": "2022-02-04T10:34:05.533Z"
   },
   {
    "duration": 6294,
    "start_time": "2022-02-04T10:34:24.493Z"
   },
   {
    "duration": 81,
    "start_time": "2022-02-04T10:34:39.749Z"
   },
   {
    "duration": 23,
    "start_time": "2022-02-04T10:35:52.559Z"
   },
   {
    "duration": 12,
    "start_time": "2022-02-04T10:36:04.004Z"
   },
   {
    "duration": 9,
    "start_time": "2022-02-04T10:36:16.495Z"
   },
   {
    "duration": 1306,
    "start_time": "2022-02-05T08:06:13.948Z"
   },
   {
    "duration": 58,
    "start_time": "2022-02-05T08:06:15.257Z"
   },
   {
    "duration": 21,
    "start_time": "2022-02-05T08:06:15.319Z"
   },
   {
    "duration": 58,
    "start_time": "2022-02-05T08:06:15.342Z"
   },
   {
    "duration": 5,
    "start_time": "2022-02-05T08:06:15.403Z"
   },
   {
    "duration": 3,
    "start_time": "2022-02-05T08:06:15.433Z"
   },
   {
    "duration": 9,
    "start_time": "2022-02-05T08:06:15.438Z"
   },
   {
    "duration": 5,
    "start_time": "2022-02-05T08:06:15.451Z"
   },
   {
    "duration": 7,
    "start_time": "2022-02-05T08:06:15.459Z"
   },
   {
    "duration": 12,
    "start_time": "2022-02-05T08:06:15.468Z"
   },
   {
    "duration": 66,
    "start_time": "2022-02-05T08:06:15.482Z"
   },
   {
    "duration": 4,
    "start_time": "2022-02-05T08:06:15.550Z"
   },
   {
    "duration": 9,
    "start_time": "2022-02-05T08:06:15.557Z"
   },
   {
    "duration": 7,
    "start_time": "2022-02-05T08:06:15.568Z"
   },
   {
    "duration": 5,
    "start_time": "2022-02-05T08:06:15.577Z"
   },
   {
    "duration": 11,
    "start_time": "2022-02-05T08:06:15.584Z"
   },
   {
    "duration": 38,
    "start_time": "2022-02-05T08:06:15.597Z"
   },
   {
    "duration": 8,
    "start_time": "2022-02-05T08:06:15.637Z"
   },
   {
    "duration": 11,
    "start_time": "2022-02-05T08:06:15.647Z"
   },
   {
    "duration": 9,
    "start_time": "2022-02-05T08:06:15.660Z"
   },
   {
    "duration": 5,
    "start_time": "2022-02-05T08:06:15.671Z"
   },
   {
    "duration": 78,
    "start_time": "2022-02-05T08:06:15.678Z"
   },
   {
    "duration": 8,
    "start_time": "2022-02-05T08:06:15.760Z"
   },
   {
    "duration": 360,
    "start_time": "2022-02-05T08:06:15.770Z"
   },
   {
    "duration": 247,
    "start_time": "2022-02-05T08:06:29.606Z"
   },
   {
    "duration": 288,
    "start_time": "2022-02-05T08:06:38.313Z"
   },
   {
    "duration": 311,
    "start_time": "2022-02-05T08:07:11.485Z"
   },
   {
    "duration": 4,
    "start_time": "2022-02-05T08:08:13.944Z"
   },
   {
    "duration": 79,
    "start_time": "2022-02-05T08:08:32.155Z"
   },
   {
    "duration": 5,
    "start_time": "2022-02-05T08:09:17.309Z"
   },
   {
    "duration": 52,
    "start_time": "2022-02-05T08:09:17.316Z"
   },
   {
    "duration": 10,
    "start_time": "2022-02-05T08:09:17.371Z"
   },
   {
    "duration": 74,
    "start_time": "2022-02-05T08:09:17.384Z"
   },
   {
    "duration": 5,
    "start_time": "2022-02-05T08:09:17.460Z"
   },
   {
    "duration": 6,
    "start_time": "2022-02-05T08:09:17.468Z"
   },
   {
    "duration": 6,
    "start_time": "2022-02-05T08:09:17.477Z"
   },
   {
    "duration": 5,
    "start_time": "2022-02-05T08:09:17.486Z"
   },
   {
    "duration": 40,
    "start_time": "2022-02-05T08:09:17.495Z"
   },
   {
    "duration": 15,
    "start_time": "2022-02-05T08:09:17.538Z"
   },
   {
    "duration": 25,
    "start_time": "2022-02-05T08:09:17.555Z"
   },
   {
    "duration": 5,
    "start_time": "2022-02-05T08:09:17.582Z"
   },
   {
    "duration": 10,
    "start_time": "2022-02-05T08:09:17.589Z"
   },
   {
    "duration": 41,
    "start_time": "2022-02-05T08:09:17.601Z"
   },
   {
    "duration": 6,
    "start_time": "2022-02-05T08:09:17.645Z"
   },
   {
    "duration": 6,
    "start_time": "2022-02-05T08:09:17.653Z"
   },
   {
    "duration": 13,
    "start_time": "2022-02-05T08:09:17.662Z"
   },
   {
    "duration": 5,
    "start_time": "2022-02-05T08:09:17.677Z"
   },
   {
    "duration": 6,
    "start_time": "2022-02-05T08:09:17.685Z"
   },
   {
    "duration": 39,
    "start_time": "2022-02-05T08:09:17.694Z"
   },
   {
    "duration": 4,
    "start_time": "2022-02-05T08:09:17.735Z"
   },
   {
    "duration": 38,
    "start_time": "2022-02-05T08:09:17.741Z"
   },
   {
    "duration": 34,
    "start_time": "2022-02-05T08:09:29.193Z"
   },
   {
    "duration": 244,
    "start_time": "2022-02-05T08:09:31.912Z"
   },
   {
    "duration": 25,
    "start_time": "2022-02-05T08:09:47.409Z"
   },
   {
    "duration": 4,
    "start_time": "2022-02-05T08:33:08.706Z"
   },
   {
    "duration": 445,
    "start_time": "2022-02-05T08:33:16.303Z"
   },
   {
    "duration": 41,
    "start_time": "2022-02-05T08:33:33.161Z"
   },
   {
    "duration": 309,
    "start_time": "2022-02-05T08:38:17.370Z"
   },
   {
    "duration": 1409,
    "start_time": "2022-02-05T08:38:58.123Z"
   },
   {
    "duration": 63,
    "start_time": "2022-02-05T08:38:59.535Z"
   },
   {
    "duration": 32,
    "start_time": "2022-02-05T08:38:59.602Z"
   },
   {
    "duration": 112,
    "start_time": "2022-02-05T08:38:59.638Z"
   },
   {
    "duration": 9,
    "start_time": "2022-02-05T08:38:59.753Z"
   },
   {
    "duration": 7,
    "start_time": "2022-02-05T08:38:59.765Z"
   },
   {
    "duration": 10,
    "start_time": "2022-02-05T08:38:59.775Z"
   },
   {
    "duration": 44,
    "start_time": "2022-02-05T08:38:59.788Z"
   },
   {
    "duration": 8,
    "start_time": "2022-02-05T08:38:59.837Z"
   },
   {
    "duration": 25,
    "start_time": "2022-02-05T08:38:59.848Z"
   },
   {
    "duration": 57,
    "start_time": "2022-02-05T08:38:59.877Z"
   },
   {
    "duration": 5,
    "start_time": "2022-02-05T08:38:59.937Z"
   },
   {
    "duration": 11,
    "start_time": "2022-02-05T08:38:59.945Z"
   },
   {
    "duration": 9,
    "start_time": "2022-02-05T08:38:59.959Z"
   },
   {
    "duration": 6,
    "start_time": "2022-02-05T08:38:59.971Z"
   },
   {
    "duration": 5,
    "start_time": "2022-02-05T08:38:59.980Z"
   },
   {
    "duration": 6,
    "start_time": "2022-02-05T08:39:00.033Z"
   },
   {
    "duration": 11,
    "start_time": "2022-02-05T08:39:00.042Z"
   },
   {
    "duration": 12,
    "start_time": "2022-02-05T08:39:00.056Z"
   },
   {
    "duration": 14,
    "start_time": "2022-02-05T08:39:00.070Z"
   },
   {
    "duration": 45,
    "start_time": "2022-02-05T08:39:00.087Z"
   },
   {
    "duration": 46,
    "start_time": "2022-02-05T08:39:00.135Z"
   },
   {
    "duration": 13,
    "start_time": "2022-02-05T08:39:00.184Z"
   },
   {
    "duration": 145,
    "start_time": "2022-02-05T08:39:00.200Z"
   },
   {
    "duration": 433,
    "start_time": "2022-02-05T08:39:00.434Z"
   },
   {
    "duration": 155,
    "start_time": "2022-02-05T08:40:16.377Z"
   },
   {
    "duration": 172,
    "start_time": "2022-02-05T08:40:52.868Z"
   },
   {
    "duration": 58,
    "start_time": "2022-02-05T08:41:05.888Z"
   },
   {
    "duration": 61,
    "start_time": "2022-02-05T09:51:33.272Z"
   },
   {
    "duration": 41,
    "start_time": "2022-02-05T09:51:39.902Z"
   },
   {
    "duration": 1340,
    "start_time": "2022-02-05T09:51:56.219Z"
   },
   {
    "duration": 59,
    "start_time": "2022-02-05T09:51:57.562Z"
   },
   {
    "duration": 19,
    "start_time": "2022-02-05T09:51:57.625Z"
   },
   {
    "duration": 61,
    "start_time": "2022-02-05T09:51:57.647Z"
   },
   {
    "duration": 27,
    "start_time": "2022-02-05T09:51:57.710Z"
   },
   {
    "duration": 7,
    "start_time": "2022-02-05T09:51:57.741Z"
   },
   {
    "duration": 13,
    "start_time": "2022-02-05T09:51:57.751Z"
   },
   {
    "duration": 7,
    "start_time": "2022-02-05T09:51:57.766Z"
   },
   {
    "duration": 11,
    "start_time": "2022-02-05T09:51:57.778Z"
   },
   {
    "duration": 44,
    "start_time": "2022-02-05T09:51:57.792Z"
   },
   {
    "duration": 26,
    "start_time": "2022-02-05T09:51:57.839Z"
   },
   {
    "duration": 7,
    "start_time": "2022-02-05T09:51:57.868Z"
   },
   {
    "duration": 13,
    "start_time": "2022-02-05T09:51:57.878Z"
   },
   {
    "duration": 47,
    "start_time": "2022-02-05T09:51:57.894Z"
   },
   {
    "duration": 6,
    "start_time": "2022-02-05T09:51:57.944Z"
   },
   {
    "duration": 6,
    "start_time": "2022-02-05T09:51:57.953Z"
   },
   {
    "duration": 6,
    "start_time": "2022-02-05T09:51:57.962Z"
   },
   {
    "duration": 8,
    "start_time": "2022-02-05T09:51:57.971Z"
   },
   {
    "duration": 6,
    "start_time": "2022-02-05T09:51:58.034Z"
   },
   {
    "duration": 9,
    "start_time": "2022-02-05T09:51:58.043Z"
   },
   {
    "duration": 10,
    "start_time": "2022-02-05T09:51:58.054Z"
   },
   {
    "duration": 73,
    "start_time": "2022-02-05T09:51:58.067Z"
   },
   {
    "duration": 8,
    "start_time": "2022-02-05T09:51:58.143Z"
   },
   {
    "duration": 86,
    "start_time": "2022-02-05T09:51:58.154Z"
   },
   {
    "duration": 100,
    "start_time": "2022-02-05T09:51:58.333Z"
   },
   {
    "duration": 67,
    "start_time": "2022-02-05T09:52:09.070Z"
   },
   {
    "duration": 1277,
    "start_time": "2022-02-05T09:59:26.282Z"
   },
   {
    "duration": 62,
    "start_time": "2022-02-05T09:59:27.562Z"
   },
   {
    "duration": 12,
    "start_time": "2022-02-05T09:59:27.632Z"
   },
   {
    "duration": 60,
    "start_time": "2022-02-05T09:59:27.647Z"
   },
   {
    "duration": 25,
    "start_time": "2022-02-05T09:59:27.710Z"
   },
   {
    "duration": 7,
    "start_time": "2022-02-05T09:59:27.737Z"
   },
   {
    "duration": 9,
    "start_time": "2022-02-05T09:59:27.746Z"
   },
   {
    "duration": 5,
    "start_time": "2022-02-05T09:59:27.759Z"
   },
   {
    "duration": 11,
    "start_time": "2022-02-05T09:59:27.767Z"
   },
   {
    "duration": 12,
    "start_time": "2022-02-05T09:59:27.780Z"
   },
   {
    "duration": 58,
    "start_time": "2022-02-05T09:59:27.795Z"
   },
   {
    "duration": 5,
    "start_time": "2022-02-05T09:59:27.856Z"
   },
   {
    "duration": 12,
    "start_time": "2022-02-05T09:59:27.863Z"
   },
   {
    "duration": 8,
    "start_time": "2022-02-05T09:59:27.877Z"
   },
   {
    "duration": 6,
    "start_time": "2022-02-05T09:59:27.887Z"
   },
   {
    "duration": 5,
    "start_time": "2022-02-05T09:59:27.933Z"
   },
   {
    "duration": 6,
    "start_time": "2022-02-05T09:59:27.941Z"
   },
   {
    "duration": 10,
    "start_time": "2022-02-05T09:59:27.949Z"
   },
   {
    "duration": 19,
    "start_time": "2022-02-05T09:59:27.961Z"
   },
   {
    "duration": 12,
    "start_time": "2022-02-05T09:59:27.983Z"
   },
   {
    "duration": 38,
    "start_time": "2022-02-05T09:59:27.998Z"
   },
   {
    "duration": 40,
    "start_time": "2022-02-05T09:59:28.038Z"
   },
   {
    "duration": 10,
    "start_time": "2022-02-05T09:59:28.084Z"
   },
   {
    "duration": 140,
    "start_time": "2022-02-05T09:59:28.097Z"
   },
   {
    "duration": 194,
    "start_time": "2022-02-05T09:59:28.240Z"
   },
   {
    "duration": 9,
    "start_time": "2022-02-05T10:01:01.862Z"
   },
   {
    "duration": 8,
    "start_time": "2022-02-05T10:01:05.568Z"
   },
   {
    "duration": 102,
    "start_time": "2022-02-05T10:02:28.931Z"
   },
   {
    "duration": 37,
    "start_time": "2022-02-05T10:04:05.784Z"
   },
   {
    "duration": 145,
    "start_time": "2022-02-05T10:08:10.416Z"
   },
   {
    "duration": 5,
    "start_time": "2022-02-05T10:20:01.895Z"
   },
   {
    "duration": 57,
    "start_time": "2022-02-05T10:20:01.904Z"
   },
   {
    "duration": 13,
    "start_time": "2022-02-05T10:20:01.965Z"
   },
   {
    "duration": 77,
    "start_time": "2022-02-05T10:20:01.981Z"
   },
   {
    "duration": 5,
    "start_time": "2022-02-05T10:20:02.061Z"
   },
   {
    "duration": 19,
    "start_time": "2022-02-05T10:20:02.069Z"
   },
   {
    "duration": 20,
    "start_time": "2022-02-05T10:20:02.091Z"
   },
   {
    "duration": 7,
    "start_time": "2022-02-05T10:20:02.115Z"
   },
   {
    "duration": 15,
    "start_time": "2022-02-05T10:20:02.125Z"
   },
   {
    "duration": 22,
    "start_time": "2022-02-05T10:20:02.142Z"
   },
   {
    "duration": 28,
    "start_time": "2022-02-05T10:20:05.173Z"
   },
   {
    "duration": 371,
    "start_time": "2022-02-05T10:20:35.835Z"
   },
   {
    "duration": 5,
    "start_time": "2022-02-05T10:20:47.708Z"
   },
   {
    "duration": 7,
    "start_time": "2022-02-05T10:22:39.316Z"
   },
   {
    "duration": 5,
    "start_time": "2022-02-05T10:25:34.757Z"
   },
   {
    "duration": 54,
    "start_time": "2022-02-05T10:25:34.765Z"
   },
   {
    "duration": 13,
    "start_time": "2022-02-05T10:25:34.822Z"
   },
   {
    "duration": 65,
    "start_time": "2022-02-05T10:25:34.839Z"
   },
   {
    "duration": 6,
    "start_time": "2022-02-05T10:25:34.906Z"
   },
   {
    "duration": 20,
    "start_time": "2022-02-05T10:25:34.914Z"
   },
   {
    "duration": 8,
    "start_time": "2022-02-05T10:25:34.936Z"
   },
   {
    "duration": 5,
    "start_time": "2022-02-05T10:25:34.948Z"
   },
   {
    "duration": 7,
    "start_time": "2022-02-05T10:25:34.955Z"
   },
   {
    "duration": 13,
    "start_time": "2022-02-05T10:25:34.964Z"
   },
   {
    "duration": 65,
    "start_time": "2022-02-05T10:25:34.980Z"
   },
   {
    "duration": 29,
    "start_time": "2022-02-05T10:25:37.132Z"
   },
   {
    "duration": 6,
    "start_time": "2022-02-05T10:26:00.904Z"
   },
   {
    "duration": 9,
    "start_time": "2022-02-05T10:26:07.895Z"
   },
   {
    "duration": 10,
    "start_time": "2022-02-05T10:26:08.410Z"
   },
   {
    "duration": 5,
    "start_time": "2022-02-05T10:26:08.848Z"
   },
   {
    "duration": 7,
    "start_time": "2022-02-05T10:26:09.359Z"
   },
   {
    "duration": 6,
    "start_time": "2022-02-05T10:26:10.002Z"
   },
   {
    "duration": 5,
    "start_time": "2022-02-05T10:26:10.501Z"
   },
   {
    "duration": 6,
    "start_time": "2022-02-05T10:26:11.276Z"
   },
   {
    "duration": 5,
    "start_time": "2022-02-05T10:26:12.274Z"
   },
   {
    "duration": 3,
    "start_time": "2022-02-05T10:27:07.771Z"
   },
   {
    "duration": 49,
    "start_time": "2022-02-05T10:28:27.030Z"
   },
   {
    "duration": 12,
    "start_time": "2022-02-05T10:28:29.538Z"
   },
   {
    "duration": 216,
    "start_time": "2022-02-05T10:28:38.219Z"
   },
   {
    "duration": 409,
    "start_time": "2022-02-05T10:28:46.124Z"
   },
   {
    "duration": 102,
    "start_time": "2022-02-05T10:28:52.132Z"
   },
   {
    "duration": 95,
    "start_time": "2022-02-05T10:29:42.055Z"
   },
   {
    "duration": 7,
    "start_time": "2022-02-05T10:30:24.955Z"
   },
   {
    "duration": 7,
    "start_time": "2022-02-05T10:31:13.774Z"
   },
   {
    "duration": 134,
    "start_time": "2022-02-05T10:31:44.512Z"
   },
   {
    "duration": 54,
    "start_time": "2022-02-05T10:37:12.925Z"
   },
   {
    "duration": 39,
    "start_time": "2022-02-05T10:37:36.972Z"
   },
   {
    "duration": 62,
    "start_time": "2022-02-05T10:54:02.221Z"
   },
   {
    "duration": 53,
    "start_time": "2022-02-05T10:54:10.629Z"
   },
   {
    "duration": 134,
    "start_time": "2022-02-05T10:54:24.202Z"
   },
   {
    "duration": 259,
    "start_time": "2022-02-05T10:58:05.241Z"
   },
   {
    "duration": 63,
    "start_time": "2022-02-05T10:59:03.938Z"
   },
   {
    "duration": 458,
    "start_time": "2022-02-05T11:40:00.452Z"
   },
   {
    "duration": 29168,
    "start_time": "2022-02-05T11:40:18.416Z"
   },
   {
    "duration": 5869,
    "start_time": "2022-02-05T11:41:51.331Z"
   },
   {
    "duration": 12726,
    "start_time": "2022-02-05T11:45:57.859Z"
   },
   {
    "duration": 5,
    "start_time": "2022-02-05T11:51:38.038Z"
   },
   {
    "duration": 310,
    "start_time": "2022-02-05T11:53:57.161Z"
   },
   {
    "duration": 30,
    "start_time": "2022-02-05T11:54:21.221Z"
   },
   {
    "duration": 30,
    "start_time": "2022-02-05T11:56:13.538Z"
   },
   {
    "duration": 5,
    "start_time": "2022-02-05T11:56:22.631Z"
   },
   {
    "duration": 52,
    "start_time": "2022-02-05T11:56:22.638Z"
   },
   {
    "duration": 10,
    "start_time": "2022-02-05T11:56:22.693Z"
   },
   {
    "duration": 60,
    "start_time": "2022-02-05T11:56:22.732Z"
   },
   {
    "duration": 7,
    "start_time": "2022-02-05T11:56:22.795Z"
   },
   {
    "duration": 30,
    "start_time": "2022-02-05T11:56:22.805Z"
   },
   {
    "duration": 7,
    "start_time": "2022-02-05T11:56:22.838Z"
   },
   {
    "duration": 6,
    "start_time": "2022-02-05T11:56:22.851Z"
   },
   {
    "duration": 7,
    "start_time": "2022-02-05T11:56:22.860Z"
   },
   {
    "duration": 11,
    "start_time": "2022-02-05T11:56:22.870Z"
   },
   {
    "duration": 73,
    "start_time": "2022-02-05T11:56:22.883Z"
   },
   {
    "duration": 6,
    "start_time": "2022-02-05T11:56:22.958Z"
   },
   {
    "duration": 9,
    "start_time": "2022-02-05T11:56:22.966Z"
   },
   {
    "duration": 6,
    "start_time": "2022-02-05T11:56:22.977Z"
   },
   {
    "duration": 48,
    "start_time": "2022-02-05T11:56:22.985Z"
   },
   {
    "duration": 5,
    "start_time": "2022-02-05T11:56:23.035Z"
   },
   {
    "duration": 7,
    "start_time": "2022-02-05T11:56:23.042Z"
   },
   {
    "duration": 6,
    "start_time": "2022-02-05T11:56:23.052Z"
   },
   {
    "duration": 10,
    "start_time": "2022-02-05T11:56:23.061Z"
   },
   {
    "duration": 8,
    "start_time": "2022-02-05T11:56:23.073Z"
   },
   {
    "duration": 48,
    "start_time": "2022-02-05T11:56:23.084Z"
   },
   {
    "duration": 38,
    "start_time": "2022-02-05T11:56:23.135Z"
   },
   {
    "duration": 8,
    "start_time": "2022-02-05T11:56:23.178Z"
   },
   {
    "duration": 68,
    "start_time": "2022-02-05T11:56:23.189Z"
   },
   {
    "duration": 199,
    "start_time": "2022-02-05T11:56:23.334Z"
   },
   {
    "duration": 12447,
    "start_time": "2022-02-05T11:56:23.537Z"
   },
   {
    "duration": 45,
    "start_time": "2022-02-05T11:56:35.987Z"
   },
   {
    "duration": 99,
    "start_time": "2022-02-05T11:56:36.034Z"
   },
   {
    "duration": 5696,
    "start_time": "2022-02-05T11:56:36.138Z"
   },
   {
    "duration": 29,
    "start_time": "2022-02-05T11:56:41.837Z"
   },
   {
    "duration": 12281,
    "start_time": "2022-02-05T11:59:37.253Z"
   },
   {
    "duration": 32,
    "start_time": "2022-02-05T12:01:33.575Z"
   },
   {
    "duration": 356,
    "start_time": "2022-02-05T16:09:23.557Z"
   },
   {
    "duration": 1329,
    "start_time": "2022-02-05T16:09:39.017Z"
   },
   {
    "duration": 59,
    "start_time": "2022-02-05T16:09:40.349Z"
   },
   {
    "duration": 22,
    "start_time": "2022-02-05T16:09:40.411Z"
   },
   {
    "duration": 63,
    "start_time": "2022-02-05T16:09:40.436Z"
   },
   {
    "duration": 24,
    "start_time": "2022-02-05T16:09:40.501Z"
   },
   {
    "duration": 5,
    "start_time": "2022-02-05T16:09:40.528Z"
   },
   {
    "duration": 10,
    "start_time": "2022-02-05T16:09:40.536Z"
   },
   {
    "duration": 8,
    "start_time": "2022-02-05T16:09:40.553Z"
   },
   {
    "duration": 10,
    "start_time": "2022-02-05T16:09:40.565Z"
   },
   {
    "duration": 56,
    "start_time": "2022-02-05T16:09:40.578Z"
   },
   {
    "duration": 44,
    "start_time": "2022-02-05T16:09:40.637Z"
   },
   {
    "duration": 8,
    "start_time": "2022-02-05T16:09:40.685Z"
   },
   {
    "duration": 8,
    "start_time": "2022-02-05T16:09:40.725Z"
   },
   {
    "duration": 7,
    "start_time": "2022-02-05T16:09:40.735Z"
   },
   {
    "duration": 5,
    "start_time": "2022-02-05T16:09:40.744Z"
   },
   {
    "duration": 4,
    "start_time": "2022-02-05T16:09:40.752Z"
   },
   {
    "duration": 5,
    "start_time": "2022-02-05T16:09:40.759Z"
   },
   {
    "duration": 57,
    "start_time": "2022-02-05T16:09:40.766Z"
   },
   {
    "duration": 6,
    "start_time": "2022-02-05T16:09:40.826Z"
   },
   {
    "duration": 6,
    "start_time": "2022-02-05T16:09:40.834Z"
   },
   {
    "duration": 4,
    "start_time": "2022-02-05T16:09:40.842Z"
   },
   {
    "duration": 99,
    "start_time": "2022-02-05T16:09:40.848Z"
   },
   {
    "duration": 488,
    "start_time": "2022-02-05T16:09:40.951Z"
   },
   {
    "duration": -760,
    "start_time": "2022-02-05T16:09:42.201Z"
   },
   {
    "duration": -770,
    "start_time": "2022-02-05T16:09:42.213Z"
   },
   {
    "duration": -780,
    "start_time": "2022-02-05T16:09:42.224Z"
   },
   {
    "duration": -780,
    "start_time": "2022-02-05T16:09:42.226Z"
   },
   {
    "duration": -782,
    "start_time": "2022-02-05T16:09:42.229Z"
   },
   {
    "duration": -791,
    "start_time": "2022-02-05T16:09:42.240Z"
   },
   {
    "duration": -793,
    "start_time": "2022-02-05T16:09:42.243Z"
   },
   {
    "duration": -795,
    "start_time": "2022-02-05T16:09:42.247Z"
   },
   {
    "duration": -803,
    "start_time": "2022-02-05T16:09:42.256Z"
   },
   {
    "duration": -805,
    "start_time": "2022-02-05T16:09:42.260Z"
   },
   {
    "duration": 307,
    "start_time": "2022-02-05T16:11:01.285Z"
   },
   {
    "duration": 316,
    "start_time": "2022-02-05T16:11:08.921Z"
   },
   {
    "duration": 313,
    "start_time": "2022-02-05T16:12:50.109Z"
   },
   {
    "duration": 306,
    "start_time": "2022-02-05T16:14:38.695Z"
   },
   {
    "duration": 1332,
    "start_time": "2022-02-05T16:15:28.522Z"
   },
   {
    "duration": 59,
    "start_time": "2022-02-05T16:15:29.857Z"
   },
   {
    "duration": 13,
    "start_time": "2022-02-05T16:15:29.919Z"
   },
   {
    "duration": 73,
    "start_time": "2022-02-05T16:15:29.935Z"
   },
   {
    "duration": 15,
    "start_time": "2022-02-05T16:15:30.010Z"
   },
   {
    "duration": 9,
    "start_time": "2022-02-05T16:15:30.028Z"
   },
   {
    "duration": 11,
    "start_time": "2022-02-05T16:15:30.040Z"
   },
   {
    "duration": 16,
    "start_time": "2022-02-05T16:15:30.056Z"
   },
   {
    "duration": 10,
    "start_time": "2022-02-05T16:15:30.075Z"
   },
   {
    "duration": 40,
    "start_time": "2022-02-05T16:15:30.088Z"
   },
   {
    "duration": 29,
    "start_time": "2022-02-05T16:15:30.131Z"
   },
   {
    "duration": 6,
    "start_time": "2022-02-05T16:15:30.162Z"
   },
   {
    "duration": 11,
    "start_time": "2022-02-05T16:15:30.170Z"
   },
   {
    "duration": 39,
    "start_time": "2022-02-05T16:15:30.184Z"
   },
   {
    "duration": 5,
    "start_time": "2022-02-05T16:15:30.226Z"
   },
   {
    "duration": 12,
    "start_time": "2022-02-05T16:15:30.234Z"
   },
   {
    "duration": 11,
    "start_time": "2022-02-05T16:15:30.249Z"
   },
   {
    "duration": 9,
    "start_time": "2022-02-05T16:15:30.263Z"
   },
   {
    "duration": 13,
    "start_time": "2022-02-05T16:15:30.275Z"
   },
   {
    "duration": 36,
    "start_time": "2022-02-05T16:15:30.291Z"
   },
   {
    "duration": 18,
    "start_time": "2022-02-05T16:15:30.331Z"
   },
   {
    "duration": 43,
    "start_time": "2022-02-05T16:15:30.351Z"
   },
   {
    "duration": 1499,
    "start_time": "2022-02-05T16:15:30.399Z"
   },
   {
    "duration": 24,
    "start_time": "2022-02-05T16:15:31.901Z"
   },
   {
    "duration": 103,
    "start_time": "2022-02-05T16:15:31.927Z"
   },
   {
    "duration": 192,
    "start_time": "2022-02-05T16:15:32.032Z"
   },
   {
    "duration": 12982,
    "start_time": "2022-02-05T16:15:32.228Z"
   },
   {
    "duration": 39,
    "start_time": "2022-02-05T16:15:45.213Z"
   },
   {
    "duration": 76,
    "start_time": "2022-02-05T16:15:45.254Z"
   },
   {
    "duration": 6191,
    "start_time": "2022-02-05T16:15:45.333Z"
   },
   {
    "duration": 33,
    "start_time": "2022-02-05T16:15:51.526Z"
   },
   {
    "duration": 12539,
    "start_time": "2022-02-05T16:15:51.562Z"
   },
   {
    "duration": 44,
    "start_time": "2022-02-05T16:16:04.103Z"
   },
   {
    "duration": 541,
    "start_time": "2022-02-05T16:24:24.700Z"
   },
   {
    "duration": 1488,
    "start_time": "2022-02-05T16:26:08.152Z"
   },
   {
    "duration": 61,
    "start_time": "2022-02-05T16:26:09.643Z"
   },
   {
    "duration": 23,
    "start_time": "2022-02-05T16:26:09.707Z"
   },
   {
    "duration": 62,
    "start_time": "2022-02-05T16:26:09.733Z"
   },
   {
    "duration": 26,
    "start_time": "2022-02-05T16:26:09.798Z"
   },
   {
    "duration": 7,
    "start_time": "2022-02-05T16:26:09.827Z"
   },
   {
    "duration": 12,
    "start_time": "2022-02-05T16:26:09.836Z"
   },
   {
    "duration": 5,
    "start_time": "2022-02-05T16:26:09.856Z"
   },
   {
    "duration": 11,
    "start_time": "2022-02-05T16:26:09.864Z"
   },
   {
    "duration": 45,
    "start_time": "2022-02-05T16:26:09.878Z"
   },
   {
    "duration": 31,
    "start_time": "2022-02-05T16:26:09.926Z"
   },
   {
    "duration": 8,
    "start_time": "2022-02-05T16:26:09.961Z"
   },
   {
    "duration": 10,
    "start_time": "2022-02-05T16:26:09.972Z"
   },
   {
    "duration": 10,
    "start_time": "2022-02-05T16:26:10.023Z"
   },
   {
    "duration": 6,
    "start_time": "2022-02-05T16:26:10.036Z"
   },
   {
    "duration": 10,
    "start_time": "2022-02-05T16:26:10.045Z"
   },
   {
    "duration": 6,
    "start_time": "2022-02-05T16:26:10.058Z"
   },
   {
    "duration": 7,
    "start_time": "2022-02-05T16:26:10.067Z"
   },
   {
    "duration": 6,
    "start_time": "2022-02-05T16:26:10.123Z"
   },
   {
    "duration": 6,
    "start_time": "2022-02-05T16:26:10.132Z"
   },
   {
    "duration": 4,
    "start_time": "2022-02-05T16:26:10.141Z"
   },
   {
    "duration": 81,
    "start_time": "2022-02-05T16:26:10.148Z"
   },
   {
    "duration": 514,
    "start_time": "2022-02-05T16:26:10.234Z"
   },
   {
    "duration": -696,
    "start_time": "2022-02-05T16:26:11.447Z"
   },
   {
    "duration": -713,
    "start_time": "2022-02-05T16:26:11.466Z"
   },
   {
    "duration": -715,
    "start_time": "2022-02-05T16:26:11.469Z"
   },
   {
    "duration": -725,
    "start_time": "2022-02-05T16:26:11.480Z"
   },
   {
    "duration": -726,
    "start_time": "2022-02-05T16:26:11.483Z"
   },
   {
    "duration": -728,
    "start_time": "2022-02-05T16:26:11.487Z"
   },
   {
    "duration": -735,
    "start_time": "2022-02-05T16:26:11.496Z"
   },
   {
    "duration": -737,
    "start_time": "2022-02-05T16:26:11.499Z"
   },
   {
    "duration": -737,
    "start_time": "2022-02-05T16:26:11.501Z"
   },
   {
    "duration": -746,
    "start_time": "2022-02-05T16:26:11.511Z"
   },
   {
    "duration": 5,
    "start_time": "2022-02-05T16:28:54.065Z"
   },
   {
    "duration": 5,
    "start_time": "2022-02-05T16:30:36.914Z"
   },
   {
    "duration": 1430,
    "start_time": "2022-02-05T16:30:51.368Z"
   },
   {
    "duration": 67,
    "start_time": "2022-02-05T16:30:52.800Z"
   },
   {
    "duration": 13,
    "start_time": "2022-02-05T16:30:52.870Z"
   },
   {
    "duration": 86,
    "start_time": "2022-02-05T16:30:52.886Z"
   },
   {
    "duration": 6,
    "start_time": "2022-02-05T16:30:52.975Z"
   },
   {
    "duration": 5,
    "start_time": "2022-02-05T16:30:52.984Z"
   },
   {
    "duration": 36,
    "start_time": "2022-02-05T16:30:52.992Z"
   },
   {
    "duration": 7,
    "start_time": "2022-02-05T16:30:53.032Z"
   },
   {
    "duration": 11,
    "start_time": "2022-02-05T16:30:53.042Z"
   },
   {
    "duration": 11,
    "start_time": "2022-02-05T16:30:53.056Z"
   },
   {
    "duration": 82,
    "start_time": "2022-02-05T16:30:53.070Z"
   },
   {
    "duration": 9,
    "start_time": "2022-02-05T16:30:53.155Z"
   },
   {
    "duration": 12,
    "start_time": "2022-02-05T16:30:53.167Z"
   },
   {
    "duration": 46,
    "start_time": "2022-02-05T16:30:53.182Z"
   },
   {
    "duration": 6,
    "start_time": "2022-02-05T16:30:53.231Z"
   },
   {
    "duration": 7,
    "start_time": "2022-02-05T16:30:53.240Z"
   },
   {
    "duration": 8,
    "start_time": "2022-02-05T16:30:53.249Z"
   },
   {
    "duration": 7,
    "start_time": "2022-02-05T16:30:53.260Z"
   },
   {
    "duration": 59,
    "start_time": "2022-02-05T16:30:53.269Z"
   },
   {
    "duration": 8,
    "start_time": "2022-02-05T16:30:53.330Z"
   },
   {
    "duration": 4,
    "start_time": "2022-02-05T16:30:53.341Z"
   },
   {
    "duration": 95,
    "start_time": "2022-02-05T16:30:53.348Z"
   },
   {
    "duration": 432,
    "start_time": "2022-02-05T16:30:53.447Z"
   },
   {
    "duration": -674,
    "start_time": "2022-02-05T16:30:54.557Z"
   },
   {
    "duration": -676,
    "start_time": "2022-02-05T16:30:54.562Z"
   },
   {
    "duration": -678,
    "start_time": "2022-02-05T16:30:54.566Z"
   },
   {
    "duration": -679,
    "start_time": "2022-02-05T16:30:54.569Z"
   },
   {
    "duration": -680,
    "start_time": "2022-02-05T16:30:54.572Z"
   },
   {
    "duration": -681,
    "start_time": "2022-02-05T16:30:54.575Z"
   },
   {
    "duration": -681,
    "start_time": "2022-02-05T16:30:54.577Z"
   },
   {
    "duration": -683,
    "start_time": "2022-02-05T16:30:54.580Z"
   },
   {
    "duration": -682,
    "start_time": "2022-02-05T16:30:54.582Z"
   },
   {
    "duration": -683,
    "start_time": "2022-02-05T16:30:54.585Z"
   },
   {
    "duration": 1903,
    "start_time": "2022-02-05T16:31:08.986Z"
   },
   {
    "duration": 1674,
    "start_time": "2022-02-05T16:31:26.603Z"
   },
   {
    "duration": 82,
    "start_time": "2022-02-05T16:31:28.280Z"
   },
   {
    "duration": 14,
    "start_time": "2022-02-05T16:31:28.366Z"
   },
   {
    "duration": 112,
    "start_time": "2022-02-05T16:31:28.384Z"
   },
   {
    "duration": 8,
    "start_time": "2022-02-05T16:31:28.499Z"
   },
   {
    "duration": 20,
    "start_time": "2022-02-05T16:31:28.511Z"
   },
   {
    "duration": 19,
    "start_time": "2022-02-05T16:31:28.534Z"
   },
   {
    "duration": 21,
    "start_time": "2022-02-05T16:31:28.556Z"
   },
   {
    "duration": 16,
    "start_time": "2022-02-05T16:31:28.583Z"
   },
   {
    "duration": 15,
    "start_time": "2022-02-05T16:31:28.623Z"
   },
   {
    "duration": 33,
    "start_time": "2022-02-05T16:31:28.641Z"
   },
   {
    "duration": 6,
    "start_time": "2022-02-05T16:31:28.677Z"
   },
   {
    "duration": 43,
    "start_time": "2022-02-05T16:31:28.685Z"
   },
   {
    "duration": 8,
    "start_time": "2022-02-05T16:31:28.731Z"
   },
   {
    "duration": 18,
    "start_time": "2022-02-05T16:31:28.742Z"
   },
   {
    "duration": 10,
    "start_time": "2022-02-05T16:31:28.763Z"
   },
   {
    "duration": 51,
    "start_time": "2022-02-05T16:31:28.776Z"
   },
   {
    "duration": 8,
    "start_time": "2022-02-05T16:31:28.829Z"
   },
   {
    "duration": 7,
    "start_time": "2022-02-05T16:31:28.839Z"
   },
   {
    "duration": 8,
    "start_time": "2022-02-05T16:31:28.848Z"
   },
   {
    "duration": 5,
    "start_time": "2022-02-05T16:31:28.859Z"
   },
   {
    "duration": 98,
    "start_time": "2022-02-05T16:31:28.866Z"
   },
   {
    "duration": 1974,
    "start_time": "2022-02-05T16:31:28.967Z"
   },
   {
    "duration": 16,
    "start_time": "2022-02-05T16:31:30.944Z"
   },
   {
    "duration": 159,
    "start_time": "2022-02-05T16:31:30.963Z"
   },
   {
    "duration": 99,
    "start_time": "2022-02-05T16:31:31.126Z"
   },
   {
    "duration": 12523,
    "start_time": "2022-02-05T16:31:31.322Z"
   },
   {
    "duration": 33,
    "start_time": "2022-02-05T16:31:43.848Z"
   },
   {
    "duration": 68,
    "start_time": "2022-02-05T16:31:43.884Z"
   },
   {
    "duration": 5905,
    "start_time": "2022-02-05T16:31:43.955Z"
   },
   {
    "duration": 33,
    "start_time": "2022-02-05T16:31:49.862Z"
   },
   {
    "duration": 12757,
    "start_time": "2022-02-05T16:31:49.898Z"
   },
   {
    "duration": 32,
    "start_time": "2022-02-05T16:32:02.658Z"
   },
   {
    "duration": 1496,
    "start_time": "2022-02-05T16:32:14.636Z"
   },
   {
    "duration": 65,
    "start_time": "2022-02-05T16:32:16.135Z"
   },
   {
    "duration": 24,
    "start_time": "2022-02-05T16:32:16.204Z"
   },
   {
    "duration": 61,
    "start_time": "2022-02-05T16:32:16.231Z"
   },
   {
    "duration": 31,
    "start_time": "2022-02-05T16:32:16.294Z"
   },
   {
    "duration": 5,
    "start_time": "2022-02-05T16:32:16.328Z"
   },
   {
    "duration": 8,
    "start_time": "2022-02-05T16:32:16.336Z"
   },
   {
    "duration": 6,
    "start_time": "2022-02-05T16:32:16.348Z"
   },
   {
    "duration": 12,
    "start_time": "2022-02-05T16:32:16.357Z"
   },
   {
    "duration": 60,
    "start_time": "2022-02-05T16:32:16.371Z"
   },
   {
    "duration": 32,
    "start_time": "2022-02-05T16:32:16.434Z"
   },
   {
    "duration": 8,
    "start_time": "2022-02-05T16:32:16.469Z"
   },
   {
    "duration": 44,
    "start_time": "2022-02-05T16:32:16.480Z"
   },
   {
    "duration": 8,
    "start_time": "2022-02-05T16:32:16.527Z"
   },
   {
    "duration": 5,
    "start_time": "2022-02-05T16:32:16.538Z"
   },
   {
    "duration": 13,
    "start_time": "2022-02-05T16:32:16.546Z"
   },
   {
    "duration": 5,
    "start_time": "2022-02-05T16:32:16.561Z"
   },
   {
    "duration": 9,
    "start_time": "2022-02-05T16:32:16.568Z"
   },
   {
    "duration": 46,
    "start_time": "2022-02-05T16:32:16.579Z"
   },
   {
    "duration": 6,
    "start_time": "2022-02-05T16:32:16.628Z"
   },
   {
    "duration": 6,
    "start_time": "2022-02-05T16:32:16.636Z"
   },
   {
    "duration": 36,
    "start_time": "2022-02-05T16:32:16.644Z"
   },
   {
    "duration": 1660,
    "start_time": "2022-02-05T16:32:16.687Z"
   },
   {
    "duration": 18,
    "start_time": "2022-02-05T16:32:18.350Z"
   },
   {
    "duration": 168,
    "start_time": "2022-02-05T16:32:18.371Z"
   },
   {
    "duration": 195,
    "start_time": "2022-02-05T16:32:18.541Z"
   },
   {
    "duration": 14263,
    "start_time": "2022-02-05T16:32:18.740Z"
   },
   {
    "duration": 50,
    "start_time": "2022-02-05T16:32:33.006Z"
   },
   {
    "duration": 171,
    "start_time": "2022-02-05T16:32:33.059Z"
   },
   {
    "duration": 8502,
    "start_time": "2022-02-05T16:32:33.233Z"
   },
   {
    "duration": 40,
    "start_time": "2022-02-05T16:32:41.738Z"
   },
   {
    "duration": 18226,
    "start_time": "2022-02-05T16:32:41.782Z"
   },
   {
    "duration": 40,
    "start_time": "2022-02-05T16:33:00.012Z"
   },
   {
    "duration": 9717,
    "start_time": "2022-02-05T16:36:22.787Z"
   },
   {
    "duration": 12193,
    "start_time": "2022-02-05T16:37:06.160Z"
   },
   {
    "duration": 503,
    "start_time": "2022-02-05T16:42:34.707Z"
   },
   {
    "duration": 1413,
    "start_time": "2022-02-05T16:43:06.317Z"
   },
   {
    "duration": 437,
    "start_time": "2022-02-05T16:44:27.090Z"
   },
   {
    "duration": 116,
    "start_time": "2022-02-05T16:44:40.710Z"
   },
   {
    "duration": 36,
    "start_time": "2022-02-05T16:50:49.515Z"
   },
   {
    "duration": 10,
    "start_time": "2022-02-05T17:07:11.509Z"
   },
   {
    "duration": 1631,
    "start_time": "2022-02-05T17:35:25.463Z"
   },
   {
    "duration": 13720,
    "start_time": "2022-02-05T17:39:32.106Z"
   },
   {
    "duration": 1086,
    "start_time": "2022-02-06T08:39:35.674Z"
   },
   {
    "duration": 46,
    "start_time": "2022-02-06T08:39:36.762Z"
   },
   {
    "duration": 13,
    "start_time": "2022-02-06T08:39:36.811Z"
   },
   {
    "duration": 37,
    "start_time": "2022-02-06T08:39:36.826Z"
   },
   {
    "duration": 5,
    "start_time": "2022-02-06T08:39:36.866Z"
   },
   {
    "duration": 7,
    "start_time": "2022-02-06T08:39:36.873Z"
   },
   {
    "duration": 38,
    "start_time": "2022-02-06T08:39:36.881Z"
   },
   {
    "duration": 6,
    "start_time": "2022-02-06T08:39:36.922Z"
   },
   {
    "duration": 7,
    "start_time": "2022-02-06T08:39:36.931Z"
   },
   {
    "duration": 10,
    "start_time": "2022-02-06T08:39:36.940Z"
   },
   {
    "duration": 20,
    "start_time": "2022-02-06T08:39:36.952Z"
   },
   {
    "duration": 5,
    "start_time": "2022-02-06T08:39:36.974Z"
   },
   {
    "duration": 7,
    "start_time": "2022-02-06T08:39:37.019Z"
   },
   {
    "duration": 6,
    "start_time": "2022-02-06T08:39:37.028Z"
   },
   {
    "duration": 7,
    "start_time": "2022-02-06T08:39:37.035Z"
   },
   {
    "duration": 5,
    "start_time": "2022-02-06T08:39:37.044Z"
   },
   {
    "duration": 4,
    "start_time": "2022-02-06T08:39:37.051Z"
   },
   {
    "duration": 5,
    "start_time": "2022-02-06T08:39:37.058Z"
   },
   {
    "duration": 53,
    "start_time": "2022-02-06T08:39:37.065Z"
   },
   {
    "duration": 5,
    "start_time": "2022-02-06T08:39:37.120Z"
   },
   {
    "duration": 4,
    "start_time": "2022-02-06T08:39:37.127Z"
   },
   {
    "duration": 29,
    "start_time": "2022-02-06T08:39:37.133Z"
   },
   {
    "duration": 1003,
    "start_time": "2022-02-06T08:39:37.166Z"
   },
   {
    "duration": 8041,
    "start_time": "2022-02-06T08:39:38.171Z"
   },
   {
    "duration": 28,
    "start_time": "2022-02-06T08:39:46.214Z"
   },
   {
    "duration": 103,
    "start_time": "2022-02-06T08:39:46.320Z"
   },
   {
    "duration": 6,
    "start_time": "2022-02-06T08:39:46.425Z"
   },
   {
    "duration": 1158,
    "start_time": "2022-02-06T08:39:46.433Z"
   },
   {
    "duration": 8126,
    "start_time": "2022-02-06T08:39:47.593Z"
   },
   {
    "duration": 96,
    "start_time": "2022-02-06T08:39:55.721Z"
   },
   {
    "duration": 109,
    "start_time": "2022-02-06T08:39:55.820Z"
   },
   {
    "duration": 84,
    "start_time": "2022-02-06T08:39:55.934Z"
   },
   {
    "duration": 99,
    "start_time": "2022-02-06T08:39:56.021Z"
   },
   {
    "duration": -17789,
    "start_time": "2022-02-06T08:40:13.910Z"
   },
   {
    "duration": -17794,
    "start_time": "2022-02-06T08:40:13.916Z"
   },
   {
    "duration": -17798,
    "start_time": "2022-02-06T08:40:13.921Z"
   },
   {
    "duration": -17800,
    "start_time": "2022-02-06T08:40:13.924Z"
   },
   {
    "duration": -17802,
    "start_time": "2022-02-06T08:40:13.927Z"
   },
   {
    "duration": -17804,
    "start_time": "2022-02-06T08:40:13.930Z"
   },
   {
    "duration": -17806,
    "start_time": "2022-02-06T08:40:13.933Z"
   },
   {
    "duration": -17807,
    "start_time": "2022-02-06T08:40:13.935Z"
   },
   {
    "duration": -17810,
    "start_time": "2022-02-06T08:40:13.939Z"
   },
   {
    "duration": 4,
    "start_time": "2022-02-06T08:41:35.905Z"
   },
   {
    "duration": 42,
    "start_time": "2022-02-06T08:41:35.911Z"
   },
   {
    "duration": 9,
    "start_time": "2022-02-06T08:41:35.955Z"
   },
   {
    "duration": 63,
    "start_time": "2022-02-06T08:41:35.966Z"
   },
   {
    "duration": 4,
    "start_time": "2022-02-06T08:41:36.031Z"
   },
   {
    "duration": 10,
    "start_time": "2022-02-06T08:41:36.037Z"
   },
   {
    "duration": 19,
    "start_time": "2022-02-06T08:41:36.049Z"
   },
   {
    "duration": 5,
    "start_time": "2022-02-06T08:41:36.070Z"
   },
   {
    "duration": 8,
    "start_time": "2022-02-06T08:41:36.077Z"
   },
   {
    "duration": 10,
    "start_time": "2022-02-06T08:41:36.086Z"
   },
   {
    "duration": 18,
    "start_time": "2022-02-06T08:41:36.119Z"
   },
   {
    "duration": 5,
    "start_time": "2022-02-06T08:41:36.139Z"
   },
   {
    "duration": 10,
    "start_time": "2022-02-06T08:41:36.145Z"
   },
   {
    "duration": 13,
    "start_time": "2022-02-06T08:41:36.157Z"
   },
   {
    "duration": 15,
    "start_time": "2022-02-06T08:41:36.172Z"
   },
   {
    "duration": 14,
    "start_time": "2022-02-06T08:41:36.188Z"
   },
   {
    "duration": 18,
    "start_time": "2022-02-06T08:41:36.203Z"
   },
   {
    "duration": 8,
    "start_time": "2022-02-06T08:41:36.222Z"
   },
   {
    "duration": 8,
    "start_time": "2022-02-06T08:41:36.232Z"
   },
   {
    "duration": 8,
    "start_time": "2022-02-06T08:41:36.242Z"
   },
   {
    "duration": 4,
    "start_time": "2022-02-06T08:41:36.251Z"
   },
   {
    "duration": 26,
    "start_time": "2022-02-06T08:41:36.257Z"
   },
   {
    "duration": 1061,
    "start_time": "2022-02-06T08:41:36.286Z"
   },
   {
    "duration": 8402,
    "start_time": "2022-02-06T08:41:37.349Z"
   },
   {
    "duration": 68,
    "start_time": "2022-02-06T08:41:45.753Z"
   },
   {
    "duration": 97,
    "start_time": "2022-02-06T08:41:45.824Z"
   },
   {
    "duration": 6,
    "start_time": "2022-02-06T08:41:45.923Z"
   },
   {
    "duration": 1343,
    "start_time": "2022-02-06T08:41:45.931Z"
   },
   {
    "duration": 1007,
    "start_time": "2022-02-06T08:42:36.454Z"
   },
   {
    "duration": 44,
    "start_time": "2022-02-06T08:42:37.463Z"
   },
   {
    "duration": 10,
    "start_time": "2022-02-06T08:42:37.509Z"
   },
   {
    "duration": 40,
    "start_time": "2022-02-06T08:42:37.521Z"
   },
   {
    "duration": 5,
    "start_time": "2022-02-06T08:42:37.564Z"
   },
   {
    "duration": 12,
    "start_time": "2022-02-06T08:42:37.571Z"
   },
   {
    "duration": 34,
    "start_time": "2022-02-06T08:42:37.584Z"
   },
   {
    "duration": 6,
    "start_time": "2022-02-06T08:42:37.620Z"
   },
   {
    "duration": 7,
    "start_time": "2022-02-06T08:42:37.629Z"
   },
   {
    "duration": 9,
    "start_time": "2022-02-06T08:42:37.638Z"
   },
   {
    "duration": 18,
    "start_time": "2022-02-06T08:42:37.649Z"
   },
   {
    "duration": 4,
    "start_time": "2022-02-06T08:42:37.669Z"
   },
   {
    "duration": 48,
    "start_time": "2022-02-06T08:42:37.674Z"
   },
   {
    "duration": 5,
    "start_time": "2022-02-06T08:42:37.724Z"
   },
   {
    "duration": 7,
    "start_time": "2022-02-06T08:42:37.731Z"
   },
   {
    "duration": 8,
    "start_time": "2022-02-06T08:42:37.739Z"
   },
   {
    "duration": 9,
    "start_time": "2022-02-06T08:42:37.748Z"
   },
   {
    "duration": 8,
    "start_time": "2022-02-06T08:42:37.758Z"
   },
   {
    "duration": 10,
    "start_time": "2022-02-06T08:42:37.768Z"
   },
   {
    "duration": 7,
    "start_time": "2022-02-06T08:42:37.779Z"
   },
   {
    "duration": 31,
    "start_time": "2022-02-06T08:42:37.787Z"
   },
   {
    "duration": 24,
    "start_time": "2022-02-06T08:42:37.820Z"
   },
   {
    "duration": 1009,
    "start_time": "2022-02-06T08:42:37.846Z"
   },
   {
    "duration": 8191,
    "start_time": "2022-02-06T08:42:38.856Z"
   },
   {
    "duration": 75,
    "start_time": "2022-02-06T08:42:47.048Z"
   },
   {
    "duration": 102,
    "start_time": "2022-02-06T08:42:47.125Z"
   },
   {
    "duration": 7,
    "start_time": "2022-02-06T08:42:47.230Z"
   },
   {
    "duration": 1237,
    "start_time": "2022-02-06T08:42:47.239Z"
   },
   {
    "duration": 8092,
    "start_time": "2022-02-06T08:42:48.477Z"
   },
   {
    "duration": 48,
    "start_time": "2022-02-06T08:42:56.571Z"
   },
   {
    "duration": 105,
    "start_time": "2022-02-06T08:42:56.625Z"
   },
   {
    "duration": 88,
    "start_time": "2022-02-06T08:42:56.732Z"
   },
   {
    "duration": 8803,
    "start_time": "2022-02-06T08:42:56.822Z"
   },
   {
    "duration": 22,
    "start_time": "2022-02-06T08:43:05.627Z"
   },
   {
    "duration": 1495,
    "start_time": "2022-02-06T08:43:05.650Z"
   },
   {
    "duration": 13,
    "start_time": "2022-02-06T08:43:07.146Z"
   },
   {
    "duration": 58,
    "start_time": "2022-02-06T08:43:07.161Z"
   },
   {
    "duration": 102,
    "start_time": "2022-02-06T08:43:07.222Z"
   },
   {
    "duration": -4598,
    "start_time": "2022-02-06T08:43:11.924Z"
   },
   {
    "duration": -4600,
    "start_time": "2022-02-06T08:43:11.928Z"
   },
   {
    "duration": -4607,
    "start_time": "2022-02-06T08:43:11.936Z"
   },
   {
    "duration": -4608,
    "start_time": "2022-02-06T08:43:11.939Z"
   },
   {
    "duration": 3653,
    "start_time": "2022-02-06T08:43:40.770Z"
   },
   {
    "duration": 23,
    "start_time": "2022-02-06T08:43:48.526Z"
   },
   {
    "duration": 589,
    "start_time": "2022-02-06T08:43:51.897Z"
   },
   {
    "duration": 8821,
    "start_time": "2022-02-06T08:44:05.692Z"
   },
   {
    "duration": 22,
    "start_time": "2022-02-06T08:44:18.030Z"
   },
   {
    "duration": 13,
    "start_time": "2022-02-06T08:52:03.247Z"
   },
   {
    "duration": 1346,
    "start_time": "2022-02-06T08:52:07.759Z"
   },
   {
    "duration": 8293,
    "start_time": "2022-02-06T08:52:14.936Z"
   },
   {
    "duration": 12,
    "start_time": "2022-02-06T08:53:09.859Z"
   },
   {
    "duration": 7563,
    "start_time": "2022-02-06T08:53:14.118Z"
   },
   {
    "duration": 1349,
    "start_time": "2022-02-06T08:53:53.409Z"
   },
   {
    "duration": 24,
    "start_time": "2022-02-06T08:54:14.967Z"
   },
   {
    "duration": 33,
    "start_time": "2022-02-06T08:54:21.114Z"
   },
   {
    "duration": 14,
    "start_time": "2022-02-06T08:55:32.900Z"
   },
   {
    "duration": 6797,
    "start_time": "2022-02-06T08:55:37.337Z"
   },
   {
    "duration": 15,
    "start_time": "2022-02-06T08:55:51.994Z"
   },
   {
    "duration": 7784,
    "start_time": "2022-02-06T08:55:55.850Z"
   },
   {
    "duration": 13,
    "start_time": "2022-02-06T08:56:43.395Z"
   },
   {
    "duration": 1508,
    "start_time": "2022-02-06T08:56:47.788Z"
   },
   {
    "duration": 12,
    "start_time": "2022-02-06T09:10:31.169Z"
   },
   {
    "duration": 7974,
    "start_time": "2022-02-06T09:40:47.598Z"
   },
   {
    "duration": 22,
    "start_time": "2022-02-06T09:44:45.446Z"
   },
   {
    "duration": 354,
    "start_time": "2022-02-06T09:46:10.820Z"
   },
   {
    "duration": 222,
    "start_time": "2022-02-06T09:46:33.661Z"
   },
   {
    "duration": 342,
    "start_time": "2022-02-06T09:47:09.476Z"
   },
   {
    "duration": 1093,
    "start_time": "2022-02-06T09:47:59.967Z"
   },
   {
    "duration": 49,
    "start_time": "2022-02-06T09:48:01.062Z"
   },
   {
    "duration": 9,
    "start_time": "2022-02-06T09:48:01.113Z"
   },
   {
    "duration": 58,
    "start_time": "2022-02-06T09:48:01.124Z"
   },
   {
    "duration": 4,
    "start_time": "2022-02-06T09:48:01.184Z"
   },
   {
    "duration": 14,
    "start_time": "2022-02-06T09:48:01.190Z"
   },
   {
    "duration": 20,
    "start_time": "2022-02-06T09:48:01.206Z"
   },
   {
    "duration": 27,
    "start_time": "2022-02-06T09:48:01.228Z"
   },
   {
    "duration": 29,
    "start_time": "2022-02-06T09:48:01.258Z"
   },
   {
    "duration": 35,
    "start_time": "2022-02-06T09:48:01.289Z"
   },
   {
    "duration": 41,
    "start_time": "2022-02-06T09:48:01.326Z"
   },
   {
    "duration": 5,
    "start_time": "2022-02-06T09:48:01.369Z"
   },
   {
    "duration": 18,
    "start_time": "2022-02-06T09:48:01.375Z"
   },
   {
    "duration": 13,
    "start_time": "2022-02-06T09:48:01.395Z"
   },
   {
    "duration": 7,
    "start_time": "2022-02-06T09:48:01.410Z"
   },
   {
    "duration": 7,
    "start_time": "2022-02-06T09:48:01.419Z"
   },
   {
    "duration": 11,
    "start_time": "2022-02-06T09:48:01.428Z"
   },
   {
    "duration": 13,
    "start_time": "2022-02-06T09:48:01.440Z"
   },
   {
    "duration": 11,
    "start_time": "2022-02-06T09:48:01.454Z"
   },
   {
    "duration": 8,
    "start_time": "2022-02-06T09:48:01.467Z"
   },
   {
    "duration": 7,
    "start_time": "2022-02-06T09:48:01.477Z"
   },
   {
    "duration": 38,
    "start_time": "2022-02-06T09:48:01.485Z"
   },
   {
    "duration": 1021,
    "start_time": "2022-02-06T09:48:01.524Z"
   },
   {
    "duration": 8294,
    "start_time": "2022-02-06T09:48:02.547Z"
   },
   {
    "duration": 175,
    "start_time": "2022-02-06T09:48:10.843Z"
   },
   {
    "duration": 11,
    "start_time": "2022-02-06T09:48:11.021Z"
   },
   {
    "duration": 7,
    "start_time": "2022-02-06T09:48:11.035Z"
   },
   {
    "duration": 28,
    "start_time": "2022-02-06T09:48:11.044Z"
   },
   {
    "duration": 367,
    "start_time": "2022-02-06T09:48:11.074Z"
   },
   {
    "duration": 349,
    "start_time": "2022-02-06T09:50:26.014Z"
   },
   {
    "duration": 17,
    "start_time": "2022-02-06T09:50:37.292Z"
   },
   {
    "duration": 27,
    "start_time": "2022-02-06T09:50:40.677Z"
   },
   {
    "duration": 456,
    "start_time": "2022-02-06T09:51:51.877Z"
   },
   {
    "duration": 1082,
    "start_time": "2022-02-06T09:53:13.692Z"
   },
   {
    "duration": 45,
    "start_time": "2022-02-06T09:53:14.776Z"
   },
   {
    "duration": 8,
    "start_time": "2022-02-06T09:53:14.823Z"
   },
   {
    "duration": 39,
    "start_time": "2022-02-06T09:53:14.833Z"
   },
   {
    "duration": 4,
    "start_time": "2022-02-06T09:53:14.874Z"
   },
   {
    "duration": 6,
    "start_time": "2022-02-06T09:53:14.880Z"
   },
   {
    "duration": 33,
    "start_time": "2022-02-06T09:53:14.888Z"
   },
   {
    "duration": 5,
    "start_time": "2022-02-06T09:53:14.923Z"
   },
   {
    "duration": 8,
    "start_time": "2022-02-06T09:53:14.930Z"
   },
   {
    "duration": 9,
    "start_time": "2022-02-06T09:53:14.939Z"
   },
   {
    "duration": 18,
    "start_time": "2022-02-06T09:53:14.950Z"
   },
   {
    "duration": 4,
    "start_time": "2022-02-06T09:53:14.969Z"
   },
   {
    "duration": 7,
    "start_time": "2022-02-06T09:53:14.975Z"
   },
   {
    "duration": 39,
    "start_time": "2022-02-06T09:53:14.984Z"
   },
   {
    "duration": 7,
    "start_time": "2022-02-06T09:53:15.025Z"
   },
   {
    "duration": 9,
    "start_time": "2022-02-06T09:53:15.034Z"
   },
   {
    "duration": 8,
    "start_time": "2022-02-06T09:53:15.044Z"
   },
   {
    "duration": 7,
    "start_time": "2022-02-06T09:53:15.053Z"
   },
   {
    "duration": 8,
    "start_time": "2022-02-06T09:53:15.062Z"
   },
   {
    "duration": 7,
    "start_time": "2022-02-06T09:53:15.071Z"
   },
   {
    "duration": 39,
    "start_time": "2022-02-06T09:53:15.080Z"
   },
   {
    "duration": 40,
    "start_time": "2022-02-06T09:53:15.122Z"
   },
   {
    "duration": 1032,
    "start_time": "2022-02-06T09:53:15.166Z"
   },
   {
    "duration": 8480,
    "start_time": "2022-02-06T09:53:16.200Z"
   },
   {
    "duration": 47,
    "start_time": "2022-02-06T09:53:24.682Z"
   },
   {
    "duration": 191,
    "start_time": "2022-02-06T09:53:24.732Z"
   },
   {
    "duration": 7,
    "start_time": "2022-02-06T09:53:24.924Z"
   },
   {
    "duration": 23,
    "start_time": "2022-02-06T09:53:24.933Z"
   },
   {
    "duration": 370,
    "start_time": "2022-02-06T09:53:24.957Z"
   },
   {
    "duration": 23,
    "start_time": "2022-02-06T09:53:25.329Z"
   },
   {
    "duration": 102,
    "start_time": "2022-02-06T09:53:25.419Z"
   },
   {
    "duration": 24,
    "start_time": "2022-02-06T09:53:25.523Z"
   },
   {
    "duration": 443,
    "start_time": "2022-02-06T09:53:25.548Z"
   },
   {
    "duration": 34,
    "start_time": "2022-02-06T09:53:25.993Z"
   },
   {
    "duration": 27,
    "start_time": "2022-02-06T09:53:26.029Z"
   },
   {
    "duration": 104,
    "start_time": "2022-02-06T09:53:26.120Z"
   },
   {
    "duration": 605,
    "start_time": "2022-02-06T09:53:26.226Z"
   },
   {
    "duration": 3613,
    "start_time": "2022-02-06T09:53:26.832Z"
   },
   {
    "duration": 22,
    "start_time": "2022-02-06T09:53:30.447Z"
   },
   {
    "duration": 47,
    "start_time": "2022-02-06T09:53:30.471Z"
   },
   {
    "duration": 7665,
    "start_time": "2022-02-06T09:53:30.521Z"
   },
   {
    "duration": 35,
    "start_time": "2022-02-06T09:53:38.187Z"
   },
   {
    "duration": 14,
    "start_time": "2022-02-06T09:54:43.579Z"
   },
   {
    "duration": 200,
    "start_time": "2022-02-06T09:55:21.473Z"
   },
   {
    "duration": 433,
    "start_time": "2022-02-06T10:04:52.686Z"
   },
   {
    "duration": 483,
    "start_time": "2022-02-06T10:20:45.898Z"
   },
   {
    "duration": 4,
    "start_time": "2022-02-06T10:21:15.782Z"
   },
   {
    "duration": 268,
    "start_time": "2022-02-06T10:21:24.158Z"
   },
   {
    "duration": 78,
    "start_time": "2022-02-06T10:21:47.591Z"
   },
   {
    "duration": 179,
    "start_time": "2022-02-06T10:21:54.791Z"
   },
   {
    "duration": 440,
    "start_time": "2022-02-06T10:22:35.136Z"
   },
   {
    "duration": 172,
    "start_time": "2022-02-06T10:22:42.737Z"
   },
   {
    "duration": 6,
    "start_time": "2022-02-06T10:37:10.817Z"
   },
   {
    "duration": 1500,
    "start_time": "2022-02-06T11:00:56.755Z"
   },
   {
    "duration": 48,
    "start_time": "2022-02-06T11:00:58.257Z"
   },
   {
    "duration": 15,
    "start_time": "2022-02-06T11:00:58.308Z"
   },
   {
    "duration": 42,
    "start_time": "2022-02-06T11:00:58.325Z"
   },
   {
    "duration": 4,
    "start_time": "2022-02-06T11:00:58.369Z"
   },
   {
    "duration": 10,
    "start_time": "2022-02-06T11:00:58.375Z"
   },
   {
    "duration": 36,
    "start_time": "2022-02-06T11:00:58.386Z"
   },
   {
    "duration": 6,
    "start_time": "2022-02-06T11:00:58.425Z"
   },
   {
    "duration": 9,
    "start_time": "2022-02-06T11:00:58.434Z"
   },
   {
    "duration": 13,
    "start_time": "2022-02-06T11:00:58.445Z"
   },
   {
    "duration": 60,
    "start_time": "2022-02-06T11:00:58.460Z"
   },
   {
    "duration": 6,
    "start_time": "2022-02-06T11:00:58.522Z"
   },
   {
    "duration": 11,
    "start_time": "2022-02-06T11:00:58.530Z"
   },
   {
    "duration": 6,
    "start_time": "2022-02-06T11:00:58.544Z"
   },
   {
    "duration": 4,
    "start_time": "2022-02-06T11:00:58.552Z"
   },
   {
    "duration": 8,
    "start_time": "2022-02-06T11:00:58.558Z"
   },
   {
    "duration": 6,
    "start_time": "2022-02-06T11:00:58.568Z"
   },
   {
    "duration": 46,
    "start_time": "2022-02-06T11:00:58.575Z"
   },
   {
    "duration": 18,
    "start_time": "2022-02-06T11:00:58.623Z"
   },
   {
    "duration": 5,
    "start_time": "2022-02-06T11:00:58.644Z"
   },
   {
    "duration": 4,
    "start_time": "2022-02-06T11:00:58.652Z"
   },
   {
    "duration": 34,
    "start_time": "2022-02-06T11:00:58.658Z"
   },
   {
    "duration": 1352,
    "start_time": "2022-02-06T11:00:58.696Z"
   },
   {
    "duration": 8791,
    "start_time": "2022-02-06T11:01:00.050Z"
   },
   {
    "duration": 80,
    "start_time": "2022-02-06T11:01:08.843Z"
   },
   {
    "duration": 102,
    "start_time": "2022-02-06T11:01:08.926Z"
   },
   {
    "duration": 6,
    "start_time": "2022-02-06T11:01:09.030Z"
   },
   {
    "duration": 25,
    "start_time": "2022-02-06T11:01:09.038Z"
   },
   {
    "duration": 369,
    "start_time": "2022-02-06T11:01:09.064Z"
   },
   {
    "duration": 88,
    "start_time": "2022-02-06T11:01:09.434Z"
   },
   {
    "duration": 105,
    "start_time": "2022-02-06T11:01:09.525Z"
   },
   {
    "duration": 25,
    "start_time": "2022-02-06T11:01:09.632Z"
   },
   {
    "duration": 496,
    "start_time": "2022-02-06T11:01:09.659Z"
   },
   {
    "duration": 62,
    "start_time": "2022-02-06T11:01:10.158Z"
   },
   {
    "duration": 104,
    "start_time": "2022-02-06T11:01:10.223Z"
   },
   {
    "duration": 14,
    "start_time": "2022-02-06T11:01:10.329Z"
   },
   {
    "duration": 236,
    "start_time": "2022-02-06T11:01:10.345Z"
   },
   {
    "duration": 38,
    "start_time": "2022-02-06T11:01:10.583Z"
   },
   {
    "duration": 611,
    "start_time": "2022-02-06T11:01:10.623Z"
   },
   {
    "duration": 361,
    "start_time": "2022-02-06T11:01:11.236Z"
   },
   {
    "duration": -50,
    "start_time": "2022-02-06T11:01:11.649Z"
   },
   {
    "duration": 5,
    "start_time": "2022-02-06T11:12:32.615Z"
   },
   {
    "duration": 54,
    "start_time": "2022-02-06T11:12:32.623Z"
   },
   {
    "duration": 11,
    "start_time": "2022-02-06T11:12:32.680Z"
   },
   {
    "duration": 43,
    "start_time": "2022-02-06T11:12:32.718Z"
   },
   {
    "duration": 6,
    "start_time": "2022-02-06T11:12:32.763Z"
   },
   {
    "duration": 7,
    "start_time": "2022-02-06T11:12:32.771Z"
   },
   {
    "duration": 38,
    "start_time": "2022-02-06T11:12:32.781Z"
   },
   {
    "duration": 5,
    "start_time": "2022-02-06T11:12:32.822Z"
   },
   {
    "duration": 11,
    "start_time": "2022-02-06T11:12:32.829Z"
   },
   {
    "duration": 10,
    "start_time": "2022-02-06T11:12:32.841Z"
   },
   {
    "duration": 20,
    "start_time": "2022-02-06T11:12:32.853Z"
   },
   {
    "duration": 5,
    "start_time": "2022-02-06T11:12:32.875Z"
   },
   {
    "duration": 41,
    "start_time": "2022-02-06T11:12:32.882Z"
   },
   {
    "duration": 7,
    "start_time": "2022-02-06T11:12:32.925Z"
   },
   {
    "duration": 11,
    "start_time": "2022-02-06T11:12:32.934Z"
   },
   {
    "duration": 6,
    "start_time": "2022-02-06T11:12:32.946Z"
   },
   {
    "duration": 6,
    "start_time": "2022-02-06T11:12:32.954Z"
   },
   {
    "duration": 7,
    "start_time": "2022-02-06T11:12:32.962Z"
   },
   {
    "duration": 5,
    "start_time": "2022-02-06T11:12:32.972Z"
   },
   {
    "duration": 9,
    "start_time": "2022-02-06T11:12:33.020Z"
   },
   {
    "duration": 6,
    "start_time": "2022-02-06T11:12:33.031Z"
   },
   {
    "duration": 45,
    "start_time": "2022-02-06T11:12:33.039Z"
   },
   {
    "duration": 1103,
    "start_time": "2022-02-06T11:12:33.087Z"
   },
   {
    "duration": 8768,
    "start_time": "2022-02-06T11:12:34.192Z"
   },
   {
    "duration": 66,
    "start_time": "2022-02-06T11:12:42.962Z"
   },
   {
    "duration": 96,
    "start_time": "2022-02-06T11:12:43.030Z"
   },
   {
    "duration": 9,
    "start_time": "2022-02-06T11:12:43.128Z"
   },
   {
    "duration": 24,
    "start_time": "2022-02-06T11:12:43.139Z"
   },
   {
    "duration": 363,
    "start_time": "2022-02-06T11:12:43.217Z"
   },
   {
    "duration": 44,
    "start_time": "2022-02-06T11:12:43.583Z"
   },
   {
    "duration": 105,
    "start_time": "2022-02-06T11:12:43.718Z"
   },
   {
    "duration": 26,
    "start_time": "2022-02-06T11:12:43.825Z"
   },
   {
    "duration": 492,
    "start_time": "2022-02-06T11:12:43.853Z"
   },
   {
    "duration": 28,
    "start_time": "2022-02-06T11:12:44.347Z"
   },
   {
    "duration": 103,
    "start_time": "2022-02-06T11:12:44.420Z"
   },
   {
    "duration": 14,
    "start_time": "2022-02-06T11:12:44.525Z"
   },
   {
    "duration": 232,
    "start_time": "2022-02-06T11:12:44.541Z"
   },
   {
    "duration": 146,
    "start_time": "2022-02-06T11:12:44.774Z"
   },
   {
    "duration": 539,
    "start_time": "2022-02-06T11:12:44.922Z"
   },
   {
    "duration": 202,
    "start_time": "2022-02-06T11:12:52.452Z"
   },
   {
    "duration": 281,
    "start_time": "2022-02-06T11:13:43.216Z"
   },
   {
    "duration": 8,
    "start_time": "2022-02-06T11:13:53.552Z"
   },
   {
    "duration": 12,
    "start_time": "2022-02-06T11:50:48.684Z"
   },
   {
    "duration": 1197,
    "start_time": "2022-02-06T11:53:11.866Z"
   },
   {
    "duration": 44,
    "start_time": "2022-02-06T11:53:13.066Z"
   },
   {
    "duration": 8,
    "start_time": "2022-02-06T11:53:13.112Z"
   },
   {
    "duration": 44,
    "start_time": "2022-02-06T11:53:13.122Z"
   },
   {
    "duration": 4,
    "start_time": "2022-02-06T11:53:13.168Z"
   },
   {
    "duration": 6,
    "start_time": "2022-02-06T11:53:13.173Z"
   },
   {
    "duration": 8,
    "start_time": "2022-02-06T11:53:13.181Z"
   },
   {
    "duration": 5,
    "start_time": "2022-02-06T11:53:13.219Z"
   },
   {
    "duration": 8,
    "start_time": "2022-02-06T11:53:13.227Z"
   },
   {
    "duration": 17,
    "start_time": "2022-02-06T11:53:13.237Z"
   },
   {
    "duration": 18,
    "start_time": "2022-02-06T11:53:13.256Z"
   },
   {
    "duration": 5,
    "start_time": "2022-02-06T11:53:13.276Z"
   },
   {
    "duration": 37,
    "start_time": "2022-02-06T11:53:13.282Z"
   },
   {
    "duration": 16,
    "start_time": "2022-02-06T11:53:13.321Z"
   },
   {
    "duration": 7,
    "start_time": "2022-02-06T11:53:13.339Z"
   },
   {
    "duration": 6,
    "start_time": "2022-02-06T11:53:13.347Z"
   },
   {
    "duration": 6,
    "start_time": "2022-02-06T11:53:13.355Z"
   },
   {
    "duration": 6,
    "start_time": "2022-02-06T11:53:13.363Z"
   },
   {
    "duration": 4,
    "start_time": "2022-02-06T11:53:13.371Z"
   },
   {
    "duration": 5,
    "start_time": "2022-02-06T11:53:13.377Z"
   },
   {
    "duration": 36,
    "start_time": "2022-02-06T11:53:13.383Z"
   },
   {
    "duration": 24,
    "start_time": "2022-02-06T11:53:13.421Z"
   },
   {
    "duration": 11,
    "start_time": "2022-02-06T11:53:13.448Z"
   },
   {
    "duration": 1368,
    "start_time": "2022-02-06T11:53:13.461Z"
   },
   {
    "duration": 8394,
    "start_time": "2022-02-06T11:53:14.831Z"
   },
   {
    "duration": 93,
    "start_time": "2022-02-06T11:53:23.227Z"
   },
   {
    "duration": 102,
    "start_time": "2022-02-06T11:53:23.322Z"
   },
   {
    "duration": 8,
    "start_time": "2022-02-06T11:53:23.426Z"
   },
   {
    "duration": 26,
    "start_time": "2022-02-06T11:53:23.435Z"
   },
   {
    "duration": 376,
    "start_time": "2022-02-06T11:53:23.462Z"
   },
   {
    "duration": 81,
    "start_time": "2022-02-06T11:53:23.840Z"
   },
   {
    "duration": 104,
    "start_time": "2022-02-06T11:53:23.924Z"
   },
   {
    "duration": 24,
    "start_time": "2022-02-06T11:53:24.030Z"
   },
   {
    "duration": 479,
    "start_time": "2022-02-06T11:53:24.055Z"
   },
   {
    "duration": 87,
    "start_time": "2022-02-06T11:53:24.535Z"
   },
   {
    "duration": 104,
    "start_time": "2022-02-06T11:53:24.625Z"
   },
   {
    "duration": 13,
    "start_time": "2022-02-06T11:53:24.731Z"
   },
   {
    "duration": 219,
    "start_time": "2022-02-06T11:53:24.746Z"
   },
   {
    "duration": 57,
    "start_time": "2022-02-06T11:53:24.967Z"
   },
   {
    "duration": 560,
    "start_time": "2022-02-06T11:53:25.027Z"
   },
   {
    "duration": 193,
    "start_time": "2022-02-06T11:53:25.589Z"
   },
   {
    "duration": 6,
    "start_time": "2022-02-06T11:53:25.783Z"
   },
   {
    "duration": 182,
    "start_time": "2022-02-06T11:56:48.546Z"
   },
   {
    "duration": 392,
    "start_time": "2022-02-06T11:57:12.785Z"
   },
   {
    "duration": 198,
    "start_time": "2022-02-06T11:57:25.232Z"
   },
   {
    "duration": 7,
    "start_time": "2022-02-06T11:58:10.333Z"
   },
   {
    "duration": 184,
    "start_time": "2022-02-06T12:00:23.354Z"
   },
   {
    "duration": 428,
    "start_time": "2022-02-06T12:00:39.740Z"
   },
   {
    "duration": 275,
    "start_time": "2022-02-06T12:04:06.309Z"
   },
   {
    "duration": 247,
    "start_time": "2022-02-06T12:04:40.355Z"
   },
   {
    "duration": 1173,
    "start_time": "2022-02-06T12:06:05.691Z"
   },
   {
    "duration": 44,
    "start_time": "2022-02-06T12:06:06.866Z"
   },
   {
    "duration": 9,
    "start_time": "2022-02-06T12:06:06.913Z"
   },
   {
    "duration": 40,
    "start_time": "2022-02-06T12:06:06.924Z"
   },
   {
    "duration": 5,
    "start_time": "2022-02-06T12:06:06.966Z"
   },
   {
    "duration": 11,
    "start_time": "2022-02-06T12:06:06.973Z"
   },
   {
    "duration": 11,
    "start_time": "2022-02-06T12:06:06.985Z"
   },
   {
    "duration": 5,
    "start_time": "2022-02-06T12:06:07.018Z"
   },
   {
    "duration": 6,
    "start_time": "2022-02-06T12:06:07.026Z"
   },
   {
    "duration": 11,
    "start_time": "2022-02-06T12:06:07.034Z"
   },
   {
    "duration": 18,
    "start_time": "2022-02-06T12:06:07.047Z"
   },
   {
    "duration": 5,
    "start_time": "2022-02-06T12:06:07.067Z"
   },
   {
    "duration": 45,
    "start_time": "2022-02-06T12:06:07.073Z"
   },
   {
    "duration": 7,
    "start_time": "2022-02-06T12:06:07.120Z"
   },
   {
    "duration": 7,
    "start_time": "2022-02-06T12:06:07.128Z"
   },
   {
    "duration": 7,
    "start_time": "2022-02-06T12:06:07.137Z"
   },
   {
    "duration": 11,
    "start_time": "2022-02-06T12:06:07.146Z"
   },
   {
    "duration": 8,
    "start_time": "2022-02-06T12:06:07.159Z"
   },
   {
    "duration": 8,
    "start_time": "2022-02-06T12:06:07.169Z"
   },
   {
    "duration": 8,
    "start_time": "2022-02-06T12:06:07.179Z"
   },
   {
    "duration": 31,
    "start_time": "2022-02-06T12:06:07.189Z"
   },
   {
    "duration": 30,
    "start_time": "2022-02-06T12:06:07.222Z"
   },
   {
    "duration": 10,
    "start_time": "2022-02-06T12:06:07.255Z"
   },
   {
    "duration": 1048,
    "start_time": "2022-02-06T12:06:07.267Z"
   },
   {
    "duration": 8615,
    "start_time": "2022-02-06T12:06:08.319Z"
   },
   {
    "duration": 86,
    "start_time": "2022-02-06T12:06:16.936Z"
   },
   {
    "duration": 99,
    "start_time": "2022-02-06T12:06:17.024Z"
   },
   {
    "duration": 8,
    "start_time": "2022-02-06T12:06:17.125Z"
   },
   {
    "duration": 24,
    "start_time": "2022-02-06T12:06:17.134Z"
   },
   {
    "duration": 376,
    "start_time": "2022-02-06T12:06:17.159Z"
   },
   {
    "duration": 23,
    "start_time": "2022-02-06T12:06:17.537Z"
   },
   {
    "duration": 107,
    "start_time": "2022-02-06T12:06:17.620Z"
   },
   {
    "duration": 26,
    "start_time": "2022-02-06T12:06:17.729Z"
   },
   {
    "duration": 461,
    "start_time": "2022-02-06T12:06:17.757Z"
   },
   {
    "duration": 99,
    "start_time": "2022-02-06T12:06:18.220Z"
   },
   {
    "duration": 105,
    "start_time": "2022-02-06T12:06:18.321Z"
   },
   {
    "duration": 15,
    "start_time": "2022-02-06T12:06:18.428Z"
   },
   {
    "duration": 216,
    "start_time": "2022-02-06T12:06:18.445Z"
   },
   {
    "duration": 59,
    "start_time": "2022-02-06T12:06:18.663Z"
   },
   {
    "duration": 547,
    "start_time": "2022-02-06T12:06:18.725Z"
   },
   {
    "duration": 244,
    "start_time": "2022-02-06T12:06:19.274Z"
   },
   {
    "duration": 7,
    "start_time": "2022-02-06T12:06:19.520Z"
   },
   {
    "duration": 1233,
    "start_time": "2022-02-07T06:06:19.881Z"
   },
   {
    "duration": 1151,
    "start_time": "2022-02-07T06:06:35.077Z"
   },
   {
    "duration": 649,
    "start_time": "2022-02-07T06:06:58.252Z"
   },
   {
    "duration": 4,
    "start_time": "2022-02-07T06:07:07.463Z"
   },
   {
    "duration": 56,
    "start_time": "2022-02-07T06:07:07.469Z"
   },
   {
    "duration": 10,
    "start_time": "2022-02-07T06:07:07.528Z"
   },
   {
    "duration": 54,
    "start_time": "2022-02-07T06:07:07.540Z"
   },
   {
    "duration": 5,
    "start_time": "2022-02-07T06:07:07.607Z"
   },
   {
    "duration": 10,
    "start_time": "2022-02-07T06:07:07.614Z"
   },
   {
    "duration": 14,
    "start_time": "2022-02-07T06:07:07.626Z"
   },
   {
    "duration": 7,
    "start_time": "2022-02-07T06:07:07.644Z"
   },
   {
    "duration": 11,
    "start_time": "2022-02-07T06:07:07.654Z"
   },
   {
    "duration": 17,
    "start_time": "2022-02-07T06:07:07.667Z"
   },
   {
    "duration": 37,
    "start_time": "2022-02-07T06:07:07.686Z"
   },
   {
    "duration": 5,
    "start_time": "2022-02-07T06:07:07.724Z"
   },
   {
    "duration": 9,
    "start_time": "2022-02-07T06:07:07.731Z"
   },
   {
    "duration": 10,
    "start_time": "2022-02-07T06:07:07.742Z"
   },
   {
    "duration": 12,
    "start_time": "2022-02-07T06:07:07.753Z"
   },
   {
    "duration": 10,
    "start_time": "2022-02-07T06:07:07.767Z"
   },
   {
    "duration": 29,
    "start_time": "2022-02-07T06:07:07.779Z"
   },
   {
    "duration": 5,
    "start_time": "2022-02-07T06:07:07.810Z"
   },
   {
    "duration": 15,
    "start_time": "2022-02-07T06:07:07.816Z"
   },
   {
    "duration": 9,
    "start_time": "2022-02-07T06:07:07.834Z"
   },
   {
    "duration": 12,
    "start_time": "2022-02-07T06:07:07.845Z"
   },
   {
    "duration": 39,
    "start_time": "2022-02-07T06:07:07.859Z"
   },
   {
    "duration": 13,
    "start_time": "2022-02-07T06:07:07.901Z"
   },
   {
    "duration": 1336,
    "start_time": "2022-02-07T06:07:07.916Z"
   },
   {
    "duration": 8664,
    "start_time": "2022-02-07T06:07:09.254Z"
   },
   {
    "duration": 88,
    "start_time": "2022-02-07T06:07:17.920Z"
   },
   {
    "duration": 168,
    "start_time": "2022-02-07T06:07:18.108Z"
   },
   {
    "duration": 6,
    "start_time": "2022-02-07T06:07:18.278Z"
   },
   {
    "duration": 1217,
    "start_time": "2022-02-07T06:07:21.621Z"
   },
   {
    "duration": 8899,
    "start_time": "2022-02-07T06:11:34.245Z"
   },
   {
    "duration": 14,
    "start_time": "2022-02-07T06:13:30.767Z"
   },
   {
    "duration": 1532,
    "start_time": "2022-02-07T06:14:53.841Z"
   },
   {
    "duration": 1406,
    "start_time": "2022-02-07T06:15:21.704Z"
   },
   {
    "duration": 12970,
    "start_time": "2022-02-07T06:16:02.970Z"
   },
   {
    "duration": 14,
    "start_time": "2022-02-07T06:17:09.824Z"
   },
   {
    "duration": 759,
    "start_time": "2022-02-07T06:18:08.907Z"
   },
   {
    "duration": 5489,
    "start_time": "2022-02-07T06:19:09.099Z"
   },
   {
    "duration": 334,
    "start_time": "2022-02-07T06:20:18.553Z"
   },
   {
    "duration": 1380,
    "start_time": "2022-02-07T08:40:18.787Z"
   },
   {
    "duration": 45,
    "start_time": "2022-02-07T08:40:20.170Z"
   },
   {
    "duration": 10,
    "start_time": "2022-02-07T08:40:20.218Z"
   },
   {
    "duration": 75,
    "start_time": "2022-02-07T08:40:20.230Z"
   },
   {
    "duration": 5,
    "start_time": "2022-02-07T08:40:20.306Z"
   },
   {
    "duration": 14,
    "start_time": "2022-02-07T08:40:20.313Z"
   },
   {
    "duration": 16,
    "start_time": "2022-02-07T08:40:20.329Z"
   },
   {
    "duration": 10,
    "start_time": "2022-02-07T08:40:20.347Z"
   },
   {
    "duration": 8,
    "start_time": "2022-02-07T08:40:20.360Z"
   },
   {
    "duration": 16,
    "start_time": "2022-02-07T08:40:20.370Z"
   },
   {
    "duration": 37,
    "start_time": "2022-02-07T08:40:20.388Z"
   },
   {
    "duration": 6,
    "start_time": "2022-02-07T08:40:20.426Z"
   },
   {
    "duration": 19,
    "start_time": "2022-02-07T08:40:20.434Z"
   },
   {
    "duration": 11,
    "start_time": "2022-02-07T08:40:20.455Z"
   },
   {
    "duration": 14,
    "start_time": "2022-02-07T08:40:20.468Z"
   },
   {
    "duration": 8,
    "start_time": "2022-02-07T08:40:20.484Z"
   },
   {
    "duration": 5,
    "start_time": "2022-02-07T08:40:20.508Z"
   },
   {
    "duration": 22,
    "start_time": "2022-02-07T08:40:20.514Z"
   },
   {
    "duration": 9,
    "start_time": "2022-02-07T08:40:20.538Z"
   },
   {
    "duration": 12,
    "start_time": "2022-02-07T08:40:20.548Z"
   },
   {
    "duration": 15,
    "start_time": "2022-02-07T08:40:20.562Z"
   },
   {
    "duration": 37,
    "start_time": "2022-02-07T08:40:20.579Z"
   },
   {
    "duration": 13,
    "start_time": "2022-02-07T08:40:20.617Z"
   },
   {
    "duration": 1150,
    "start_time": "2022-02-07T08:40:20.632Z"
   },
   {
    "duration": 9363,
    "start_time": "2022-02-07T08:40:21.784Z"
   },
   {
    "duration": 61,
    "start_time": "2022-02-07T08:40:31.149Z"
   },
   {
    "duration": 119,
    "start_time": "2022-02-07T08:40:31.217Z"
   },
   {
    "duration": 19,
    "start_time": "2022-02-07T08:40:31.339Z"
   },
   {
    "duration": 1495,
    "start_time": "2022-02-07T08:40:31.360Z"
   },
   {
    "duration": 10115,
    "start_time": "2022-02-07T08:40:32.857Z"
   },
   {
    "duration": 47,
    "start_time": "2022-02-07T08:40:42.975Z"
   },
   {
    "duration": 96,
    "start_time": "2022-02-07T08:40:43.024Z"
   },
   {
    "duration": 1504,
    "start_time": "2022-02-07T08:40:43.209Z"
   },
   {
    "duration": 12177,
    "start_time": "2022-02-07T08:40:44.715Z"
   },
   {
    "duration": 36,
    "start_time": "2022-02-07T08:40:56.894Z"
   },
   {
    "duration": 182,
    "start_time": "2022-02-07T08:40:56.933Z"
   },
   {
    "duration": 717,
    "start_time": "2022-02-07T08:40:57.117Z"
   },
   {
    "duration": 5722,
    "start_time": "2022-02-07T08:40:57.836Z"
   },
   {
    "duration": 51,
    "start_time": "2022-02-07T08:41:03.560Z"
   },
   {
    "duration": 431,
    "start_time": "2022-02-07T08:41:03.618Z"
   },
   {
    "duration": 206,
    "start_time": "2022-02-07T08:41:04.052Z"
   },
   {
    "duration": 9,
    "start_time": "2022-02-07T08:41:04.260Z"
   },
   {
    "duration": 355,
    "start_time": "2022-03-14T08:45:12.690Z"
   },
   {
    "duration": 2375,
    "start_time": "2022-03-31T12:21:07.815Z"
   },
   {
    "duration": 59,
    "start_time": "2022-03-31T12:21:10.193Z"
   },
   {
    "duration": 17,
    "start_time": "2022-03-31T12:21:10.254Z"
   },
   {
    "duration": 57,
    "start_time": "2022-03-31T12:21:10.273Z"
   },
   {
    "duration": 5,
    "start_time": "2022-03-31T12:21:10.332Z"
   },
   {
    "duration": 12,
    "start_time": "2022-03-31T12:21:10.338Z"
   },
   {
    "duration": 17,
    "start_time": "2022-03-31T12:21:10.351Z"
   },
   {
    "duration": 11,
    "start_time": "2022-03-31T12:21:10.370Z"
   },
   {
    "duration": 15,
    "start_time": "2022-03-31T12:21:10.383Z"
   },
   {
    "duration": 16,
    "start_time": "2022-03-31T12:21:10.400Z"
   },
   {
    "duration": 23,
    "start_time": "2022-03-31T12:21:10.417Z"
   },
   {
    "duration": 4,
    "start_time": "2022-03-31T12:21:10.442Z"
   },
   {
    "duration": 23,
    "start_time": "2022-03-31T12:21:10.447Z"
   },
   {
    "duration": 15,
    "start_time": "2022-03-31T12:21:10.473Z"
   },
   {
    "duration": 13,
    "start_time": "2022-03-31T12:21:10.489Z"
   },
   {
    "duration": 22,
    "start_time": "2022-03-31T12:21:10.503Z"
   },
   {
    "duration": 17,
    "start_time": "2022-03-31T12:21:10.527Z"
   },
   {
    "duration": 29,
    "start_time": "2022-03-31T12:21:10.545Z"
   },
   {
    "duration": 16,
    "start_time": "2022-03-31T12:21:10.576Z"
   },
   {
    "duration": 10,
    "start_time": "2022-03-31T12:21:10.594Z"
   },
   {
    "duration": 6,
    "start_time": "2022-03-31T12:21:10.605Z"
   },
   {
    "duration": 32,
    "start_time": "2022-03-31T12:21:10.612Z"
   },
   {
    "duration": 12,
    "start_time": "2022-03-31T12:21:10.646Z"
   },
   {
    "duration": 1142,
    "start_time": "2022-03-31T12:21:10.660Z"
   },
   {
    "duration": 8687,
    "start_time": "2022-03-31T12:21:11.804Z"
   },
   {
    "duration": 25,
    "start_time": "2022-03-31T12:21:20.492Z"
   },
   {
    "duration": 92,
    "start_time": "2022-03-31T12:21:20.520Z"
   },
   {
    "duration": 6,
    "start_time": "2022-03-31T12:21:20.701Z"
   },
   {
    "duration": 1204,
    "start_time": "2022-03-31T12:21:20.709Z"
   },
   {
    "duration": 8633,
    "start_time": "2022-03-31T12:21:21.915Z"
   },
   {
    "duration": 52,
    "start_time": "2022-03-31T12:21:30.550Z"
   },
   {
    "duration": 11,
    "start_time": "2022-03-31T12:21:30.700Z"
   },
   {
    "duration": 1871,
    "start_time": "2022-03-31T12:21:30.712Z"
   },
   {
    "duration": 10613,
    "start_time": "2022-03-31T12:21:32.585Z"
   },
   {
    "duration": 23,
    "start_time": "2022-03-31T12:21:43.201Z"
   },
   {
    "duration": 76,
    "start_time": "2022-03-31T12:21:43.227Z"
   },
   {
    "duration": 775,
    "start_time": "2022-03-31T12:21:43.305Z"
   },
   {
    "duration": 5289,
    "start_time": "2022-03-31T12:21:44.082Z"
   },
   {
    "duration": 133,
    "start_time": "2022-03-31T12:21:49.373Z"
   },
   {
    "duration": 419,
    "start_time": "2022-03-31T12:21:49.508Z"
   },
   {
    "duration": 140,
    "start_time": "2022-03-31T12:21:49.930Z"
   },
   {
    "duration": 6,
    "start_time": "2022-03-31T12:21:50.072Z"
   },
   {
    "duration": 1529,
    "start_time": "2022-03-31T12:22:53.576Z"
   },
   {
    "duration": 11610,
    "start_time": "2022-03-31T12:23:51.391Z"
   },
   {
    "duration": 1578,
    "start_time": "2022-03-31T12:29:12.652Z"
   },
   {
    "duration": 84,
    "start_time": "2022-03-31T12:29:14.232Z"
   },
   {
    "duration": 13,
    "start_time": "2022-03-31T12:29:14.317Z"
   },
   {
    "duration": 90,
    "start_time": "2022-03-31T12:29:14.332Z"
   },
   {
    "duration": 4,
    "start_time": "2022-03-31T12:29:14.424Z"
   },
   {
    "duration": 5,
    "start_time": "2022-03-31T12:29:14.430Z"
   },
   {
    "duration": 5,
    "start_time": "2022-03-31T12:29:14.437Z"
   },
   {
    "duration": 61,
    "start_time": "2022-03-31T12:29:14.444Z"
   },
   {
    "duration": 7,
    "start_time": "2022-03-31T12:29:14.507Z"
   },
   {
    "duration": 18,
    "start_time": "2022-03-31T12:29:14.516Z"
   },
   {
    "duration": 67,
    "start_time": "2022-03-31T12:29:14.536Z"
   },
   {
    "duration": 6,
    "start_time": "2022-03-31T12:29:14.605Z"
   },
   {
    "duration": 9,
    "start_time": "2022-03-31T12:29:14.613Z"
   },
   {
    "duration": 7,
    "start_time": "2022-03-31T12:29:14.627Z"
   },
   {
    "duration": 6,
    "start_time": "2022-03-31T12:29:14.636Z"
   },
   {
    "duration": 58,
    "start_time": "2022-03-31T12:29:14.644Z"
   },
   {
    "duration": 4,
    "start_time": "2022-03-31T12:29:14.705Z"
   },
   {
    "duration": 7,
    "start_time": "2022-03-31T12:29:14.711Z"
   },
   {
    "duration": 6,
    "start_time": "2022-03-31T12:29:14.721Z"
   },
   {
    "duration": 6,
    "start_time": "2022-03-31T12:29:14.729Z"
   },
   {
    "duration": 7,
    "start_time": "2022-03-31T12:29:14.737Z"
   },
   {
    "duration": 90,
    "start_time": "2022-03-31T12:29:14.746Z"
   },
   {
    "duration": 65,
    "start_time": "2022-03-31T12:29:14.838Z"
   },
   {
    "duration": 1862,
    "start_time": "2022-03-31T12:29:14.905Z"
   },
   {
    "duration": 11848,
    "start_time": "2022-03-31T12:29:16.768Z"
   },
   {
    "duration": 87,
    "start_time": "2022-03-31T12:29:28.618Z"
   },
   {
    "duration": 98,
    "start_time": "2022-03-31T12:29:28.708Z"
   },
   {
    "duration": 9,
    "start_time": "2022-03-31T12:29:28.808Z"
   },
   {
    "duration": 1196,
    "start_time": "2022-03-31T12:29:28.819Z"
   },
   {
    "duration": 8136,
    "start_time": "2022-03-31T12:29:30.017Z"
   },
   {
    "duration": 146,
    "start_time": "2022-03-31T12:29:38.155Z"
   },
   {
    "duration": 12,
    "start_time": "2022-03-31T12:29:38.306Z"
   },
   {
    "duration": 1434,
    "start_time": "2022-03-31T12:29:38.320Z"
   },
   {
    "duration": 10179,
    "start_time": "2022-03-31T12:29:39.755Z"
   },
   {
    "duration": 67,
    "start_time": "2022-03-31T12:29:49.935Z"
   },
   {
    "duration": 97,
    "start_time": "2022-03-31T12:29:50.004Z"
   },
   {
    "duration": 1003,
    "start_time": "2022-03-31T12:29:50.103Z"
   },
   {
    "duration": 7466,
    "start_time": "2022-03-31T12:29:51.108Z"
   },
   {
    "duration": 26,
    "start_time": "2022-03-31T12:29:58.576Z"
   },
   {
    "duration": 597,
    "start_time": "2022-03-31T12:29:58.604Z"
   },
   {
    "duration": 195,
    "start_time": "2022-03-31T12:29:59.206Z"
   },
   {
    "duration": 7,
    "start_time": "2022-03-31T12:29:59.403Z"
   },
   {
    "duration": 1541,
    "start_time": "2022-04-17T18:57:38.435Z"
   },
   {
    "duration": 37,
    "start_time": "2022-04-17T18:57:39.978Z"
   },
   {
    "duration": 24,
    "start_time": "2022-04-17T18:57:40.017Z"
   },
   {
    "duration": 34,
    "start_time": "2022-04-17T18:57:40.043Z"
   },
   {
    "duration": 4,
    "start_time": "2022-04-17T18:57:40.078Z"
   },
   {
    "duration": 6,
    "start_time": "2022-04-17T18:57:40.083Z"
   },
   {
    "duration": 6,
    "start_time": "2022-04-17T18:57:40.090Z"
   },
   {
    "duration": 29,
    "start_time": "2022-04-17T18:57:40.098Z"
   },
   {
    "duration": 5,
    "start_time": "2022-04-17T18:57:40.129Z"
   },
   {
    "duration": 17,
    "start_time": "2022-04-17T18:57:40.139Z"
   },
   {
    "duration": 20,
    "start_time": "2022-04-17T18:57:40.158Z"
   },
   {
    "duration": 4,
    "start_time": "2022-04-17T18:57:40.180Z"
   },
   {
    "duration": 8,
    "start_time": "2022-04-17T18:57:40.186Z"
   },
   {
    "duration": 5,
    "start_time": "2022-04-17T18:57:40.196Z"
   },
   {
    "duration": 24,
    "start_time": "2022-04-17T18:57:40.203Z"
   },
   {
    "duration": 11,
    "start_time": "2022-04-17T18:57:40.229Z"
   },
   {
    "duration": 9,
    "start_time": "2022-04-17T18:57:40.242Z"
   },
   {
    "duration": 7,
    "start_time": "2022-04-17T18:57:40.253Z"
   },
   {
    "duration": 6,
    "start_time": "2022-04-17T18:57:40.261Z"
   },
   {
    "duration": 5,
    "start_time": "2022-04-17T18:57:40.269Z"
   },
   {
    "duration": 3,
    "start_time": "2022-04-17T18:57:40.276Z"
   },
   {
    "duration": 44,
    "start_time": "2022-04-17T18:57:40.281Z"
   },
   {
    "duration": 18,
    "start_time": "2022-04-17T18:57:40.330Z"
   },
   {
    "duration": 1429,
    "start_time": "2022-04-17T18:57:40.350Z"
   },
   {
    "duration": 9160,
    "start_time": "2022-04-17T18:57:41.781Z"
   },
   {
    "duration": 19,
    "start_time": "2022-04-17T18:57:50.943Z"
   },
   {
    "duration": 81,
    "start_time": "2022-04-17T18:57:50.964Z"
   },
   {
    "duration": 84,
    "start_time": "2022-04-17T18:57:51.049Z"
   },
   {
    "duration": 5,
    "start_time": "2022-04-17T18:58:20.456Z"
   },
   {
    "duration": 1252,
    "start_time": "2022-04-17T18:58:29.366Z"
   },
   {
    "duration": 4,
    "start_time": "2022-04-17T19:19:57.933Z"
   },
   {
    "duration": 1036,
    "start_time": "2022-04-17T19:20:01.635Z"
   },
   {
    "duration": 934,
    "start_time": "2022-04-17T19:21:12.941Z"
   },
   {
    "duration": 4,
    "start_time": "2022-04-17T19:25:43.934Z"
   },
   {
    "duration": 7211,
    "start_time": "2022-04-17T19:26:10.580Z"
   },
   {
    "duration": 3,
    "start_time": "2022-04-17T19:27:29.648Z"
   },
   {
    "duration": 17,
    "start_time": "2022-04-17T19:27:42.353Z"
   },
   {
    "duration": 16,
    "start_time": "2022-04-17T19:28:29.459Z"
   },
   {
    "duration": 3,
    "start_time": "2022-04-17T19:29:31.279Z"
   },
   {
    "duration": 18,
    "start_time": "2022-04-17T19:29:32.847Z"
   },
   {
    "duration": 17,
    "start_time": "2022-04-17T19:29:40.051Z"
   },
   {
    "duration": 17,
    "start_time": "2022-04-17T19:31:18.511Z"
   },
   {
    "duration": 7759,
    "start_time": "2022-04-17T19:32:18.593Z"
   },
   {
    "duration": 18,
    "start_time": "2022-04-17T19:32:38.978Z"
   },
   {
    "duration": 4,
    "start_time": "2022-04-17T19:33:09.492Z"
   },
   {
    "duration": 15,
    "start_time": "2022-04-17T19:33:10.167Z"
   },
   {
    "duration": 1425,
    "start_time": "2022-04-17T19:33:34.178Z"
   },
   {
    "duration": 50,
    "start_time": "2022-04-17T19:33:35.606Z"
   },
   {
    "duration": 15,
    "start_time": "2022-04-17T19:33:35.658Z"
   },
   {
    "duration": 50,
    "start_time": "2022-04-17T19:33:35.675Z"
   },
   {
    "duration": 4,
    "start_time": "2022-04-17T19:33:35.727Z"
   },
   {
    "duration": 7,
    "start_time": "2022-04-17T19:33:35.732Z"
   },
   {
    "duration": 10,
    "start_time": "2022-04-17T19:33:35.740Z"
   },
   {
    "duration": 9,
    "start_time": "2022-04-17T19:33:35.752Z"
   },
   {
    "duration": 6,
    "start_time": "2022-04-17T19:33:35.763Z"
   },
   {
    "duration": 13,
    "start_time": "2022-04-17T19:33:35.772Z"
   },
   {
    "duration": 40,
    "start_time": "2022-04-17T19:33:35.786Z"
   },
   {
    "duration": 5,
    "start_time": "2022-04-17T19:33:35.827Z"
   },
   {
    "duration": 10,
    "start_time": "2022-04-17T19:33:35.833Z"
   },
   {
    "duration": 8,
    "start_time": "2022-04-17T19:33:35.845Z"
   },
   {
    "duration": 4,
    "start_time": "2022-04-17T19:33:35.855Z"
   },
   {
    "duration": 5,
    "start_time": "2022-04-17T19:33:35.861Z"
   },
   {
    "duration": 5,
    "start_time": "2022-04-17T19:33:35.867Z"
   },
   {
    "duration": 5,
    "start_time": "2022-04-17T19:33:35.874Z"
   },
   {
    "duration": 6,
    "start_time": "2022-04-17T19:33:35.880Z"
   },
   {
    "duration": 13,
    "start_time": "2022-04-17T19:33:35.887Z"
   },
   {
    "duration": 23,
    "start_time": "2022-04-17T19:33:35.901Z"
   },
   {
    "duration": 29,
    "start_time": "2022-04-17T19:33:35.926Z"
   },
   {
    "duration": 10,
    "start_time": "2022-04-17T19:33:35.956Z"
   },
   {
    "duration": 7,
    "start_time": "2022-04-17T19:33:35.968Z"
   },
   {
    "duration": 1026,
    "start_time": "2022-04-17T19:33:35.976Z"
   },
   {
    "duration": 5,
    "start_time": "2022-04-17T19:33:37.004Z"
   },
   {
    "duration": 7371,
    "start_time": "2022-04-17T19:33:37.010Z"
   },
   {
    "duration": 4,
    "start_time": "2022-04-17T19:33:44.386Z"
   },
   {
    "duration": 3,
    "start_time": "2022-04-17T19:33:53.282Z"
   },
   {
    "duration": 282,
    "start_time": "2022-04-17T19:33:54.317Z"
   },
   {
    "duration": 4,
    "start_time": "2022-04-17T19:36:09.802Z"
   },
   {
    "duration": 20,
    "start_time": "2022-04-17T19:36:10.678Z"
   },
   {
    "duration": 1068,
    "start_time": "2022-04-17T19:36:27.404Z"
   },
   {
    "duration": 7400,
    "start_time": "2022-04-17T19:36:32.647Z"
   },
   {
    "duration": 73,
    "start_time": "2022-04-17T19:37:20.151Z"
   },
   {
    "duration": 13,
    "start_time": "2022-04-17T19:38:20.117Z"
   },
   {
    "duration": 1191,
    "start_time": "2022-04-17T19:39:07.254Z"
   },
   {
    "duration": 9789,
    "start_time": "2022-04-17T19:39:50.168Z"
   },
   {
    "duration": 21,
    "start_time": "2022-04-17T19:40:36.436Z"
   },
   {
    "duration": 10,
    "start_time": "2022-04-17T19:40:44.653Z"
   },
   {
    "duration": 596,
    "start_time": "2022-04-17T19:41:21.783Z"
   },
   {
    "duration": 4600,
    "start_time": "2022-04-17T19:41:49.815Z"
   },
   {
    "duration": 64,
    "start_time": "2022-04-17T19:42:14.564Z"
   },
   {
    "duration": 247,
    "start_time": "2022-04-17T19:42:56.173Z"
   },
   {
    "duration": 1351,
    "start_time": "2022-04-17T19:43:10.698Z"
   },
   {
    "duration": 34,
    "start_time": "2022-04-17T19:43:12.051Z"
   },
   {
    "duration": 10,
    "start_time": "2022-04-17T19:43:12.087Z"
   },
   {
    "duration": 42,
    "start_time": "2022-04-17T19:43:12.100Z"
   },
   {
    "duration": 4,
    "start_time": "2022-04-17T19:43:12.144Z"
   },
   {
    "duration": 5,
    "start_time": "2022-04-17T19:43:12.150Z"
   },
   {
    "duration": 6,
    "start_time": "2022-04-17T19:43:12.156Z"
   },
   {
    "duration": 5,
    "start_time": "2022-04-17T19:43:12.164Z"
   },
   {
    "duration": 6,
    "start_time": "2022-04-17T19:43:12.170Z"
   },
   {
    "duration": 11,
    "start_time": "2022-04-17T19:43:12.179Z"
   },
   {
    "duration": 46,
    "start_time": "2022-04-17T19:43:12.192Z"
   },
   {
    "duration": 4,
    "start_time": "2022-04-17T19:43:12.240Z"
   },
   {
    "duration": 6,
    "start_time": "2022-04-17T19:43:12.246Z"
   },
   {
    "duration": 6,
    "start_time": "2022-04-17T19:43:12.254Z"
   },
   {
    "duration": 5,
    "start_time": "2022-04-17T19:43:12.261Z"
   },
   {
    "duration": 8,
    "start_time": "2022-04-17T19:43:12.267Z"
   },
   {
    "duration": 7,
    "start_time": "2022-04-17T19:43:12.276Z"
   },
   {
    "duration": 4,
    "start_time": "2022-04-17T19:43:12.285Z"
   },
   {
    "duration": 34,
    "start_time": "2022-04-17T19:43:12.290Z"
   },
   {
    "duration": 3,
    "start_time": "2022-04-17T19:43:12.326Z"
   },
   {
    "duration": 3,
    "start_time": "2022-04-17T19:43:12.331Z"
   },
   {
    "duration": 26,
    "start_time": "2022-04-17T19:43:12.336Z"
   },
   {
    "duration": 9,
    "start_time": "2022-04-17T19:43:12.363Z"
   },
   {
    "duration": 5,
    "start_time": "2022-04-17T19:43:12.374Z"
   },
   {
    "duration": 972,
    "start_time": "2022-04-17T19:43:12.380Z"
   },
   {
    "duration": 5,
    "start_time": "2022-04-17T19:43:13.354Z"
   },
   {
    "duration": 7201,
    "start_time": "2022-04-17T19:43:13.361Z"
   },
   {
    "duration": 4,
    "start_time": "2022-04-17T19:43:20.565Z"
   },
   {
    "duration": 56,
    "start_time": "2022-04-17T19:43:20.570Z"
   },
   {
    "duration": 99,
    "start_time": "2022-04-17T19:43:20.628Z"
   },
   {
    "duration": 7,
    "start_time": "2022-04-17T19:43:20.729Z"
   },
   {
    "duration": 1037,
    "start_time": "2022-04-17T19:43:20.737Z"
   },
   {
    "duration": 7551,
    "start_time": "2022-04-17T19:43:21.776Z"
   },
   {
    "duration": 21,
    "start_time": "2022-04-17T19:43:29.328Z"
   },
   {
    "duration": 173,
    "start_time": "2022-04-17T19:43:29.351Z"
   },
   {
    "duration": 1181,
    "start_time": "2022-04-17T19:43:29.526Z"
   },
   {
    "duration": 9290,
    "start_time": "2022-04-17T19:43:30.709Z"
   },
   {
    "duration": 35,
    "start_time": "2022-04-17T19:43:40.001Z"
   },
   {
    "duration": 94,
    "start_time": "2022-04-17T19:43:40.037Z"
   },
   {
    "duration": 691,
    "start_time": "2022-04-17T19:43:40.133Z"
   },
   {
    "duration": 4619,
    "start_time": "2022-04-17T19:43:40.826Z"
   },
   {
    "duration": 11,
    "start_time": "2022-04-17T19:43:45.446Z"
   },
   {
    "duration": 413,
    "start_time": "2022-04-17T19:43:45.458Z"
   },
   {
    "duration": 132,
    "start_time": "2022-04-17T19:43:45.873Z"
   },
   {
    "duration": 6,
    "start_time": "2022-04-17T19:43:46.007Z"
   }
  ],
  "kernelspec": {
   "display_name": "Python 3 (ipykernel)",
   "language": "python",
   "name": "python3"
  },
  "language_info": {
   "codemirror_mode": {
    "name": "ipython",
    "version": 3
   },
   "file_extension": ".py",
   "mimetype": "text/x-python",
   "name": "python",
   "nbconvert_exporter": "python",
   "pygments_lexer": "ipython3",
   "version": "3.9.5"
  },
  "toc": {
   "base_numbering": 1,
   "nav_menu": {},
   "number_sections": true,
   "sideBar": true,
   "skip_h1_title": true,
   "title_cell": "Содержание",
   "title_sidebar": "Contents",
   "toc_cell": true,
   "toc_position": {
    "height": "calc(100% - 180px)",
    "left": "10px",
    "top": "150px",
    "width": "165px"
   },
   "toc_section_display": true,
   "toc_window_display": true
  }
 },
 "nbformat": 4,
 "nbformat_minor": 2
}
