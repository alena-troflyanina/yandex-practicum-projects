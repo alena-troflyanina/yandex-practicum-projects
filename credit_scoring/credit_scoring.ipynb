{
 "cells": [
  {
   "cell_type": "markdown",
   "metadata": {},
   "source": [
    "# Исследование надёжности заёмщиков\n",
    "\n",
    "Заказчик — кредитный отдел банка. Нужно разобраться, влияет ли семейное положение и количество детей клиента на факт погашения кредита в срок. Входные данные от банка — статистика о платёжеспособности клиентов.\n",
    "\n",
    "Результаты исследования будут учтены при построении модели **кредитного скоринга** — специальной системы, которая оценивает способность потенциального заёмщика вернуть кредит банку."
   ]
  },
  {
   "cell_type": "markdown",
   "metadata": {},
   "source": [
    "## Получение общей информации"
   ]
  },
  {
   "cell_type": "code",
   "execution_count": 1,
   "metadata": {},
   "outputs": [],
   "source": [
    "from collections import Counter\n",
    "\n",
    "import pandas as pd\n",
    "from pymystem3 import Mystem"
   ]
  },
  {
   "cell_type": "code",
   "execution_count": 2,
   "metadata": {},
   "outputs": [],
   "source": [
    "customer_solvency = pd.read_csv('/datasets/data.csv')"
   ]
  },
  {
   "cell_type": "code",
   "execution_count": 3,
   "metadata": {},
   "outputs": [
    {
     "data": {
      "text/html": [
       "<div>\n",
       "<style scoped>\n",
       "    .dataframe tbody tr th:only-of-type {\n",
       "        vertical-align: middle;\n",
       "    }\n",
       "\n",
       "    .dataframe tbody tr th {\n",
       "        vertical-align: top;\n",
       "    }\n",
       "\n",
       "    .dataframe thead th {\n",
       "        text-align: right;\n",
       "    }\n",
       "</style>\n",
       "<table border=\"1\" class=\"dataframe\">\n",
       "  <thead>\n",
       "    <tr style=\"text-align: right;\">\n",
       "      <th></th>\n",
       "      <th>children</th>\n",
       "      <th>days_employed</th>\n",
       "      <th>dob_years</th>\n",
       "      <th>education</th>\n",
       "      <th>education_id</th>\n",
       "      <th>family_status</th>\n",
       "      <th>family_status_id</th>\n",
       "      <th>gender</th>\n",
       "      <th>income_type</th>\n",
       "      <th>debt</th>\n",
       "      <th>total_income</th>\n",
       "      <th>purpose</th>\n",
       "    </tr>\n",
       "  </thead>\n",
       "  <tbody>\n",
       "    <tr>\n",
       "      <th>0</th>\n",
       "      <td>1</td>\n",
       "      <td>-8437.673028</td>\n",
       "      <td>42</td>\n",
       "      <td>высшее</td>\n",
       "      <td>0</td>\n",
       "      <td>женат / замужем</td>\n",
       "      <td>0</td>\n",
       "      <td>F</td>\n",
       "      <td>сотрудник</td>\n",
       "      <td>0</td>\n",
       "      <td>253875.639453</td>\n",
       "      <td>покупка жилья</td>\n",
       "    </tr>\n",
       "    <tr>\n",
       "      <th>1</th>\n",
       "      <td>1</td>\n",
       "      <td>-4024.803754</td>\n",
       "      <td>36</td>\n",
       "      <td>среднее</td>\n",
       "      <td>1</td>\n",
       "      <td>женат / замужем</td>\n",
       "      <td>0</td>\n",
       "      <td>F</td>\n",
       "      <td>сотрудник</td>\n",
       "      <td>0</td>\n",
       "      <td>112080.014102</td>\n",
       "      <td>приобретение автомобиля</td>\n",
       "    </tr>\n",
       "    <tr>\n",
       "      <th>2</th>\n",
       "      <td>0</td>\n",
       "      <td>-5623.422610</td>\n",
       "      <td>33</td>\n",
       "      <td>Среднее</td>\n",
       "      <td>1</td>\n",
       "      <td>женат / замужем</td>\n",
       "      <td>0</td>\n",
       "      <td>M</td>\n",
       "      <td>сотрудник</td>\n",
       "      <td>0</td>\n",
       "      <td>145885.952297</td>\n",
       "      <td>покупка жилья</td>\n",
       "    </tr>\n",
       "    <tr>\n",
       "      <th>3</th>\n",
       "      <td>3</td>\n",
       "      <td>-4124.747207</td>\n",
       "      <td>32</td>\n",
       "      <td>среднее</td>\n",
       "      <td>1</td>\n",
       "      <td>женат / замужем</td>\n",
       "      <td>0</td>\n",
       "      <td>M</td>\n",
       "      <td>сотрудник</td>\n",
       "      <td>0</td>\n",
       "      <td>267628.550329</td>\n",
       "      <td>дополнительное образование</td>\n",
       "    </tr>\n",
       "    <tr>\n",
       "      <th>4</th>\n",
       "      <td>0</td>\n",
       "      <td>340266.072047</td>\n",
       "      <td>53</td>\n",
       "      <td>среднее</td>\n",
       "      <td>1</td>\n",
       "      <td>гражданский брак</td>\n",
       "      <td>1</td>\n",
       "      <td>F</td>\n",
       "      <td>пенсионер</td>\n",
       "      <td>0</td>\n",
       "      <td>158616.077870</td>\n",
       "      <td>сыграть свадьбу</td>\n",
       "    </tr>\n",
       "  </tbody>\n",
       "</table>\n",
       "</div>"
      ],
      "text/plain": [
       "   children  days_employed  dob_years education  education_id  \\\n",
       "0         1   -8437.673028         42    высшее             0   \n",
       "1         1   -4024.803754         36   среднее             1   \n",
       "2         0   -5623.422610         33   Среднее             1   \n",
       "3         3   -4124.747207         32   среднее             1   \n",
       "4         0  340266.072047         53   среднее             1   \n",
       "\n",
       "      family_status  family_status_id gender income_type  debt   total_income  \\\n",
       "0   женат / замужем                 0      F   сотрудник     0  253875.639453   \n",
       "1   женат / замужем                 0      F   сотрудник     0  112080.014102   \n",
       "2   женат / замужем                 0      M   сотрудник     0  145885.952297   \n",
       "3   женат / замужем                 0      M   сотрудник     0  267628.550329   \n",
       "4  гражданский брак                 1      F   пенсионер     0  158616.077870   \n",
       "\n",
       "                      purpose  \n",
       "0               покупка жилья  \n",
       "1     приобретение автомобиля  \n",
       "2               покупка жилья  \n",
       "3  дополнительное образование  \n",
       "4             сыграть свадьбу  "
      ]
     },
     "execution_count": 3,
     "metadata": {},
     "output_type": "execute_result"
    }
   ],
   "source": [
    "customer_solvency.head()"
   ]
  },
  {
   "cell_type": "code",
   "execution_count": 4,
   "metadata": {},
   "outputs": [
    {
     "name": "stdout",
     "output_type": "stream",
     "text": [
      "<class 'pandas.core.frame.DataFrame'>\n",
      "RangeIndex: 21525 entries, 0 to 21524\n",
      "Data columns (total 12 columns):\n",
      " #   Column            Non-Null Count  Dtype  \n",
      "---  ------            --------------  -----  \n",
      " 0   children          21525 non-null  int64  \n",
      " 1   days_employed     19351 non-null  float64\n",
      " 2   dob_years         21525 non-null  int64  \n",
      " 3   education         21525 non-null  object \n",
      " 4   education_id      21525 non-null  int64  \n",
      " 5   family_status     21525 non-null  object \n",
      " 6   family_status_id  21525 non-null  int64  \n",
      " 7   gender            21525 non-null  object \n",
      " 8   income_type       21525 non-null  object \n",
      " 9   debt              21525 non-null  int64  \n",
      " 10  total_income      19351 non-null  float64\n",
      " 11  purpose           21525 non-null  object \n",
      "dtypes: float64(2), int64(5), object(5)\n",
      "memory usage: 2.0+ MB\n"
     ]
    }
   ],
   "source": [
    "customer_solvency.info()"
   ]
  },
  {
   "cell_type": "code",
   "execution_count": 5,
   "metadata": {},
   "outputs": [
    {
     "data": {
      "text/html": [
       "<div>\n",
       "<style scoped>\n",
       "    .dataframe tbody tr th:only-of-type {\n",
       "        vertical-align: middle;\n",
       "    }\n",
       "\n",
       "    .dataframe tbody tr th {\n",
       "        vertical-align: top;\n",
       "    }\n",
       "\n",
       "    .dataframe thead th {\n",
       "        text-align: right;\n",
       "    }\n",
       "</style>\n",
       "<table border=\"1\" class=\"dataframe\">\n",
       "  <thead>\n",
       "    <tr style=\"text-align: right;\">\n",
       "      <th></th>\n",
       "      <th>children</th>\n",
       "      <th>days_employed</th>\n",
       "      <th>dob_years</th>\n",
       "      <th>education_id</th>\n",
       "      <th>family_status_id</th>\n",
       "      <th>debt</th>\n",
       "      <th>total_income</th>\n",
       "    </tr>\n",
       "  </thead>\n",
       "  <tbody>\n",
       "    <tr>\n",
       "      <th>count</th>\n",
       "      <td>21525.000000</td>\n",
       "      <td>19351.000000</td>\n",
       "      <td>21525.000000</td>\n",
       "      <td>21525.000000</td>\n",
       "      <td>21525.000000</td>\n",
       "      <td>21525.000000</td>\n",
       "      <td>1.935100e+04</td>\n",
       "    </tr>\n",
       "    <tr>\n",
       "      <th>mean</th>\n",
       "      <td>0.538908</td>\n",
       "      <td>63046.497661</td>\n",
       "      <td>43.293380</td>\n",
       "      <td>0.817236</td>\n",
       "      <td>0.972544</td>\n",
       "      <td>0.080883</td>\n",
       "      <td>1.674223e+05</td>\n",
       "    </tr>\n",
       "    <tr>\n",
       "      <th>std</th>\n",
       "      <td>1.381587</td>\n",
       "      <td>140827.311974</td>\n",
       "      <td>12.574584</td>\n",
       "      <td>0.548138</td>\n",
       "      <td>1.420324</td>\n",
       "      <td>0.272661</td>\n",
       "      <td>1.029716e+05</td>\n",
       "    </tr>\n",
       "    <tr>\n",
       "      <th>min</th>\n",
       "      <td>-1.000000</td>\n",
       "      <td>-18388.949901</td>\n",
       "      <td>0.000000</td>\n",
       "      <td>0.000000</td>\n",
       "      <td>0.000000</td>\n",
       "      <td>0.000000</td>\n",
       "      <td>2.066726e+04</td>\n",
       "    </tr>\n",
       "    <tr>\n",
       "      <th>25%</th>\n",
       "      <td>0.000000</td>\n",
       "      <td>-2747.423625</td>\n",
       "      <td>33.000000</td>\n",
       "      <td>1.000000</td>\n",
       "      <td>0.000000</td>\n",
       "      <td>0.000000</td>\n",
       "      <td>1.030532e+05</td>\n",
       "    </tr>\n",
       "    <tr>\n",
       "      <th>50%</th>\n",
       "      <td>0.000000</td>\n",
       "      <td>-1203.369529</td>\n",
       "      <td>42.000000</td>\n",
       "      <td>1.000000</td>\n",
       "      <td>0.000000</td>\n",
       "      <td>0.000000</td>\n",
       "      <td>1.450179e+05</td>\n",
       "    </tr>\n",
       "    <tr>\n",
       "      <th>75%</th>\n",
       "      <td>1.000000</td>\n",
       "      <td>-291.095954</td>\n",
       "      <td>53.000000</td>\n",
       "      <td>1.000000</td>\n",
       "      <td>1.000000</td>\n",
       "      <td>0.000000</td>\n",
       "      <td>2.034351e+05</td>\n",
       "    </tr>\n",
       "    <tr>\n",
       "      <th>max</th>\n",
       "      <td>20.000000</td>\n",
       "      <td>401755.400475</td>\n",
       "      <td>75.000000</td>\n",
       "      <td>4.000000</td>\n",
       "      <td>4.000000</td>\n",
       "      <td>1.000000</td>\n",
       "      <td>2.265604e+06</td>\n",
       "    </tr>\n",
       "  </tbody>\n",
       "</table>\n",
       "</div>"
      ],
      "text/plain": [
       "           children  days_employed     dob_years  education_id  \\\n",
       "count  21525.000000   19351.000000  21525.000000  21525.000000   \n",
       "mean       0.538908   63046.497661     43.293380      0.817236   \n",
       "std        1.381587  140827.311974     12.574584      0.548138   \n",
       "min       -1.000000  -18388.949901      0.000000      0.000000   \n",
       "25%        0.000000   -2747.423625     33.000000      1.000000   \n",
       "50%        0.000000   -1203.369529     42.000000      1.000000   \n",
       "75%        1.000000    -291.095954     53.000000      1.000000   \n",
       "max       20.000000  401755.400475     75.000000      4.000000   \n",
       "\n",
       "       family_status_id          debt  total_income  \n",
       "count      21525.000000  21525.000000  1.935100e+04  \n",
       "mean           0.972544      0.080883  1.674223e+05  \n",
       "std            1.420324      0.272661  1.029716e+05  \n",
       "min            0.000000      0.000000  2.066726e+04  \n",
       "25%            0.000000      0.000000  1.030532e+05  \n",
       "50%            0.000000      0.000000  1.450179e+05  \n",
       "75%            1.000000      0.000000  2.034351e+05  \n",
       "max            4.000000      1.000000  2.265604e+06  "
      ]
     },
     "execution_count": 5,
     "metadata": {},
     "output_type": "execute_result"
    }
   ],
   "source": [
    "customer_solvency.describe()"
   ]
  },
  {
   "cell_type": "markdown",
   "metadata": {},
   "source": [
    "**Описание данных:**\n",
    "\n",
    "- children — количество детей в семье;\n",
    "- days_employed — общий трудовой стаж в днях;\n",
    "- dob_years — возраст клиента в годах;\n",
    "- education — уровень образования клиента;\n",
    "- education_id — идентификатор уровня образования;\n",
    "- family_status — семейное положение;\n",
    "- family_status_id — идентификатор семейного положения;\n",
    "- gender — пол клиента;\n",
    "- income_type — тип занятости;\n",
    "- debt — имел ли задолженность по возврату кредитов;\n",
    "- total_income — ежемесячный доход;\n",
    "- purpose — цель получения кредита."
   ]
  },
  {
   "cell_type": "markdown",
   "metadata": {},
   "source": [
    "**Вывод:** таблица со статистикой платежеспособности клиентов содержит 21525 строк и 12 столбцов. Колонки `days_employed` и `total_income` содержат строки с пропущенными значениями, которые необходимо обработать. Таблица содержит 3 типа данных: float64, int64, object, для удобства анализа нужно изменить тип данных с вещественного на целочисленный. Названия столбцов понятны и читаемы, написаны в \"змеином_регистре\" и на одном языке."
   ]
  },
  {
   "cell_type": "markdown",
   "metadata": {},
   "source": [
    "## Предобработка данных"
   ]
  },
  {
   "cell_type": "markdown",
   "metadata": {},
   "source": [
    "### Обработка пропусков"
   ]
  },
  {
   "cell_type": "markdown",
   "metadata": {},
   "source": [
    "С помощью метода isna() посчитаю количество пропущенных значений в каждой колонке:"
   ]
  },
  {
   "cell_type": "code",
   "execution_count": 6,
   "metadata": {
    "scrolled": true
   },
   "outputs": [
    {
     "data": {
      "text/plain": [
       "children               0\n",
       "days_employed       2174\n",
       "dob_years              0\n",
       "education              0\n",
       "education_id           0\n",
       "family_status          0\n",
       "family_status_id       0\n",
       "gender                 0\n",
       "income_type            0\n",
       "debt                   0\n",
       "total_income        2174\n",
       "purpose                0\n",
       "dtype: int64"
      ]
     },
     "execution_count": 6,
     "metadata": {},
     "output_type": "execute_result"
    }
   ],
   "source": [
    "customer_solvency.isna().sum()"
   ]
  },
  {
   "cell_type": "markdown",
   "metadata": {},
   "source": [
    "**Вывод:** из 12 столбцов пропуски присутствуют в двух: `days_employed` и `total_income`. \n",
    "Важно отметить, что данные в этих столбцах - количественные, а значит пропуски можно заполнить характерными значениями выборки.\n",
    "\n",
    "Я думаю, что одинаковое количество пропусков в этих столбцах могло появиться из-за того, что 2174 человека не \"устроены официально\" и не могут предоставить данные об трудовом стаже в днях, поскольку нет записи в трудовой книжке, отсюда и отсутствие данных в колонке с ежемесячным доходом, так как эти параметры напрямую взаимосвязаны."
   ]
  },
  {
   "cell_type": "markdown",
   "metadata": {},
   "source": [
    "Я заметила, что в столбце `days_employed` некоторые значения сильно отличаются, а именно, имеют шестизначный порядок значений (например, значение 340266 в строке с 4 индексом соответствует стажу в 932 года (340266/365), что говорит о некорректно заполненных данных."
   ]
  },
  {
   "cell_type": "markdown",
   "metadata": {},
   "source": [
    "Некорректно введенные значениями могут повлиять на вычисление среднего выборки для заполнения пропущенных значений.\n",
    "Поскольку я не могу получить информацию от того, кто заполнял эти данные, буду придерживаться следующего: приму, что максимальный трудовой стаж в днях может быть 55 лет, а именно 365*55 = 20075 дней и определю с помощью логической индексации, много ли строк встречается с некорректно заполненным стажем."
   ]
  },
  {
   "cell_type": "code",
   "execution_count": 7,
   "metadata": {},
   "outputs": [
    {
     "data": {
      "text/plain": [
       "3445"
      ]
     },
     "execution_count": 7,
     "metadata": {},
     "output_type": "execute_result"
    }
   ],
   "source": [
    "customer_solvency[customer_solvency['days_employed'] >= 20075]['days_employed'].count()"
   ]
  },
  {
   "cell_type": "markdown",
   "metadata": {},
   "source": [
    "Поскольку таких строк достаточно много, проверю как изменяется медиана для каждой категории заемщиков. Так же столбец `days_employed` имеет отрицательные значения, которые необходимо привести к абсолютным."
   ]
  },
  {
   "cell_type": "code",
   "execution_count": 8,
   "metadata": {},
   "outputs": [
    {
     "data": {
      "text/plain": [
       "income_type\n",
       "безработный        366413\n",
       "в декрете            3296\n",
       "госслужащий          2689\n",
       "компаньон            1547\n",
       "пенсионер          365213\n",
       "предприниматель       520\n",
       "сотрудник            1574\n",
       "студент               578\n",
       "Name: days_employed, dtype: int64"
      ]
     },
     "execution_count": 8,
     "metadata": {},
     "output_type": "execute_result"
    }
   ],
   "source": [
    "customer_solvency['days_employed'] = customer_solvency['days_employed'].abs()\n",
    "days_employed_median = (\n",
    "    customer_solvency.groupby('income_type')['days_employed'].median().astype('int')\n",
    ")\n",
    "days_employed_median"
   ]
  },
  {
   "cell_type": "markdown",
   "metadata": {},
   "source": [
    "Медиана сильно различается для каждой категории, поэтому для заполнения пропусков я буду использовать медиану, вычисленную отдельно для каждой группы."
   ]
  },
  {
   "cell_type": "code",
   "execution_count": 9,
   "metadata": {},
   "outputs": [
    {
     "data": {
      "text/html": [
       "<div>\n",
       "<style scoped>\n",
       "    .dataframe tbody tr th:only-of-type {\n",
       "        vertical-align: middle;\n",
       "    }\n",
       "\n",
       "    .dataframe tbody tr th {\n",
       "        vertical-align: top;\n",
       "    }\n",
       "\n",
       "    .dataframe thead th {\n",
       "        text-align: right;\n",
       "    }\n",
       "</style>\n",
       "<table border=\"1\" class=\"dataframe\">\n",
       "  <thead>\n",
       "    <tr style=\"text-align: right;\">\n",
       "      <th></th>\n",
       "      <th>children</th>\n",
       "      <th>days_employed</th>\n",
       "      <th>dob_years</th>\n",
       "      <th>education</th>\n",
       "      <th>education_id</th>\n",
       "      <th>family_status</th>\n",
       "      <th>family_status_id</th>\n",
       "      <th>gender</th>\n",
       "      <th>income_type</th>\n",
       "      <th>debt</th>\n",
       "      <th>total_income</th>\n",
       "      <th>purpose</th>\n",
       "    </tr>\n",
       "  </thead>\n",
       "  <tbody>\n",
       "    <tr>\n",
       "      <th>0</th>\n",
       "      <td>1</td>\n",
       "      <td>8437.673028</td>\n",
       "      <td>42</td>\n",
       "      <td>высшее</td>\n",
       "      <td>0</td>\n",
       "      <td>женат / замужем</td>\n",
       "      <td>0</td>\n",
       "      <td>F</td>\n",
       "      <td>сотрудник</td>\n",
       "      <td>0</td>\n",
       "      <td>253875.639453</td>\n",
       "      <td>покупка жилья</td>\n",
       "    </tr>\n",
       "    <tr>\n",
       "      <th>1</th>\n",
       "      <td>1</td>\n",
       "      <td>4024.803754</td>\n",
       "      <td>36</td>\n",
       "      <td>среднее</td>\n",
       "      <td>1</td>\n",
       "      <td>женат / замужем</td>\n",
       "      <td>0</td>\n",
       "      <td>F</td>\n",
       "      <td>сотрудник</td>\n",
       "      <td>0</td>\n",
       "      <td>112080.014102</td>\n",
       "      <td>приобретение автомобиля</td>\n",
       "    </tr>\n",
       "    <tr>\n",
       "      <th>2</th>\n",
       "      <td>0</td>\n",
       "      <td>5623.422610</td>\n",
       "      <td>33</td>\n",
       "      <td>Среднее</td>\n",
       "      <td>1</td>\n",
       "      <td>женат / замужем</td>\n",
       "      <td>0</td>\n",
       "      <td>M</td>\n",
       "      <td>сотрудник</td>\n",
       "      <td>0</td>\n",
       "      <td>145885.952297</td>\n",
       "      <td>покупка жилья</td>\n",
       "    </tr>\n",
       "    <tr>\n",
       "      <th>3</th>\n",
       "      <td>3</td>\n",
       "      <td>4124.747207</td>\n",
       "      <td>32</td>\n",
       "      <td>среднее</td>\n",
       "      <td>1</td>\n",
       "      <td>женат / замужем</td>\n",
       "      <td>0</td>\n",
       "      <td>M</td>\n",
       "      <td>сотрудник</td>\n",
       "      <td>0</td>\n",
       "      <td>267628.550329</td>\n",
       "      <td>дополнительное образование</td>\n",
       "    </tr>\n",
       "    <tr>\n",
       "      <th>4</th>\n",
       "      <td>0</td>\n",
       "      <td>340266.072047</td>\n",
       "      <td>53</td>\n",
       "      <td>среднее</td>\n",
       "      <td>1</td>\n",
       "      <td>гражданский брак</td>\n",
       "      <td>1</td>\n",
       "      <td>F</td>\n",
       "      <td>пенсионер</td>\n",
       "      <td>0</td>\n",
       "      <td>158616.077870</td>\n",
       "      <td>сыграть свадьбу</td>\n",
       "    </tr>\n",
       "    <tr>\n",
       "      <th>5</th>\n",
       "      <td>0</td>\n",
       "      <td>926.185831</td>\n",
       "      <td>27</td>\n",
       "      <td>высшее</td>\n",
       "      <td>0</td>\n",
       "      <td>гражданский брак</td>\n",
       "      <td>1</td>\n",
       "      <td>M</td>\n",
       "      <td>компаньон</td>\n",
       "      <td>0</td>\n",
       "      <td>255763.565419</td>\n",
       "      <td>покупка жилья</td>\n",
       "    </tr>\n",
       "    <tr>\n",
       "      <th>6</th>\n",
       "      <td>0</td>\n",
       "      <td>2879.202052</td>\n",
       "      <td>43</td>\n",
       "      <td>высшее</td>\n",
       "      <td>0</td>\n",
       "      <td>женат / замужем</td>\n",
       "      <td>0</td>\n",
       "      <td>F</td>\n",
       "      <td>компаньон</td>\n",
       "      <td>0</td>\n",
       "      <td>240525.971920</td>\n",
       "      <td>операции с жильем</td>\n",
       "    </tr>\n",
       "    <tr>\n",
       "      <th>7</th>\n",
       "      <td>0</td>\n",
       "      <td>152.779569</td>\n",
       "      <td>50</td>\n",
       "      <td>СРЕДНЕЕ</td>\n",
       "      <td>1</td>\n",
       "      <td>женат / замужем</td>\n",
       "      <td>0</td>\n",
       "      <td>M</td>\n",
       "      <td>сотрудник</td>\n",
       "      <td>0</td>\n",
       "      <td>135823.934197</td>\n",
       "      <td>образование</td>\n",
       "    </tr>\n",
       "    <tr>\n",
       "      <th>8</th>\n",
       "      <td>2</td>\n",
       "      <td>6929.865299</td>\n",
       "      <td>35</td>\n",
       "      <td>ВЫСШЕЕ</td>\n",
       "      <td>0</td>\n",
       "      <td>гражданский брак</td>\n",
       "      <td>1</td>\n",
       "      <td>F</td>\n",
       "      <td>сотрудник</td>\n",
       "      <td>0</td>\n",
       "      <td>95856.832424</td>\n",
       "      <td>на проведение свадьбы</td>\n",
       "    </tr>\n",
       "    <tr>\n",
       "      <th>9</th>\n",
       "      <td>0</td>\n",
       "      <td>2188.756445</td>\n",
       "      <td>41</td>\n",
       "      <td>среднее</td>\n",
       "      <td>1</td>\n",
       "      <td>женат / замужем</td>\n",
       "      <td>0</td>\n",
       "      <td>M</td>\n",
       "      <td>сотрудник</td>\n",
       "      <td>0</td>\n",
       "      <td>144425.938277</td>\n",
       "      <td>покупка жилья для семьи</td>\n",
       "    </tr>\n",
       "  </tbody>\n",
       "</table>\n",
       "</div>"
      ],
      "text/plain": [
       "   children  days_employed  dob_years education  education_id  \\\n",
       "0         1    8437.673028         42    высшее             0   \n",
       "1         1    4024.803754         36   среднее             1   \n",
       "2         0    5623.422610         33   Среднее             1   \n",
       "3         3    4124.747207         32   среднее             1   \n",
       "4         0  340266.072047         53   среднее             1   \n",
       "5         0     926.185831         27    высшее             0   \n",
       "6         0    2879.202052         43    высшее             0   \n",
       "7         0     152.779569         50   СРЕДНЕЕ             1   \n",
       "8         2    6929.865299         35    ВЫСШЕЕ             0   \n",
       "9         0    2188.756445         41   среднее             1   \n",
       "\n",
       "      family_status  family_status_id gender income_type  debt   total_income  \\\n",
       "0   женат / замужем                 0      F   сотрудник     0  253875.639453   \n",
       "1   женат / замужем                 0      F   сотрудник     0  112080.014102   \n",
       "2   женат / замужем                 0      M   сотрудник     0  145885.952297   \n",
       "3   женат / замужем                 0      M   сотрудник     0  267628.550329   \n",
       "4  гражданский брак                 1      F   пенсионер     0  158616.077870   \n",
       "5  гражданский брак                 1      M   компаньон     0  255763.565419   \n",
       "6   женат / замужем                 0      F   компаньон     0  240525.971920   \n",
       "7   женат / замужем                 0      M   сотрудник     0  135823.934197   \n",
       "8  гражданский брак                 1      F   сотрудник     0   95856.832424   \n",
       "9   женат / замужем                 0      M   сотрудник     0  144425.938277   \n",
       "\n",
       "                      purpose  \n",
       "0               покупка жилья  \n",
       "1     приобретение автомобиля  \n",
       "2               покупка жилья  \n",
       "3  дополнительное образование  \n",
       "4             сыграть свадьбу  \n",
       "5               покупка жилья  \n",
       "6           операции с жильем  \n",
       "7                 образование  \n",
       "8       на проведение свадьбы  \n",
       "9     покупка жилья для семьи  "
      ]
     },
     "execution_count": 9,
     "metadata": {},
     "output_type": "execute_result"
    }
   ],
   "source": [
    "customer_solvency['days_employed'] = (\n",
    "    customer_solvency['days_employed']\n",
    "    .fillna(customer_solvency.groupby('income_type')['days_employed'].transform('median'))\n",
    ")\n",
    "customer_solvency.head(10)"
   ]
  },
  {
   "cell_type": "markdown",
   "metadata": {},
   "source": [
    "Пропуски в столбце `total_income` заменю более детально, а именно медианным значением для каждой группы."
   ]
  },
  {
   "cell_type": "code",
   "execution_count": 10,
   "metadata": {
    "scrolled": true
   },
   "outputs": [
    {
     "data": {
      "text/plain": [
       "income_type\n",
       "безработный        131339\n",
       "в декрете           53829\n",
       "госслужащий        150447\n",
       "компаньон          172357\n",
       "пенсионер          118514\n",
       "предприниматель    499163\n",
       "сотрудник          142594\n",
       "студент             98201\n",
       "Name: total_income, dtype: int64"
      ]
     },
     "execution_count": 10,
     "metadata": {},
     "output_type": "execute_result"
    }
   ],
   "source": [
    "total_income_median = (\n",
    "    customer_solvency.groupby('income_type')['total_income'].median().astype('int')\n",
    ")\n",
    "total_income_median"
   ]
  },
  {
   "cell_type": "code",
   "execution_count": 11,
   "metadata": {
    "scrolled": false
   },
   "outputs": [
    {
     "data": {
      "text/html": [
       "<div>\n",
       "<style scoped>\n",
       "    .dataframe tbody tr th:only-of-type {\n",
       "        vertical-align: middle;\n",
       "    }\n",
       "\n",
       "    .dataframe tbody tr th {\n",
       "        vertical-align: top;\n",
       "    }\n",
       "\n",
       "    .dataframe thead th {\n",
       "        text-align: right;\n",
       "    }\n",
       "</style>\n",
       "<table border=\"1\" class=\"dataframe\">\n",
       "  <thead>\n",
       "    <tr style=\"text-align: right;\">\n",
       "      <th></th>\n",
       "      <th>children</th>\n",
       "      <th>days_employed</th>\n",
       "      <th>dob_years</th>\n",
       "      <th>education</th>\n",
       "      <th>education_id</th>\n",
       "      <th>family_status</th>\n",
       "      <th>family_status_id</th>\n",
       "      <th>gender</th>\n",
       "      <th>income_type</th>\n",
       "      <th>debt</th>\n",
       "      <th>total_income</th>\n",
       "      <th>purpose</th>\n",
       "    </tr>\n",
       "  </thead>\n",
       "  <tbody>\n",
       "    <tr>\n",
       "      <th>0</th>\n",
       "      <td>1</td>\n",
       "      <td>8437.673028</td>\n",
       "      <td>42</td>\n",
       "      <td>высшее</td>\n",
       "      <td>0</td>\n",
       "      <td>женат / замужем</td>\n",
       "      <td>0</td>\n",
       "      <td>F</td>\n",
       "      <td>сотрудник</td>\n",
       "      <td>0</td>\n",
       "      <td>253875.639453</td>\n",
       "      <td>покупка жилья</td>\n",
       "    </tr>\n",
       "    <tr>\n",
       "      <th>1</th>\n",
       "      <td>1</td>\n",
       "      <td>4024.803754</td>\n",
       "      <td>36</td>\n",
       "      <td>среднее</td>\n",
       "      <td>1</td>\n",
       "      <td>женат / замужем</td>\n",
       "      <td>0</td>\n",
       "      <td>F</td>\n",
       "      <td>сотрудник</td>\n",
       "      <td>0</td>\n",
       "      <td>112080.014102</td>\n",
       "      <td>приобретение автомобиля</td>\n",
       "    </tr>\n",
       "    <tr>\n",
       "      <th>2</th>\n",
       "      <td>0</td>\n",
       "      <td>5623.422610</td>\n",
       "      <td>33</td>\n",
       "      <td>Среднее</td>\n",
       "      <td>1</td>\n",
       "      <td>женат / замужем</td>\n",
       "      <td>0</td>\n",
       "      <td>M</td>\n",
       "      <td>сотрудник</td>\n",
       "      <td>0</td>\n",
       "      <td>145885.952297</td>\n",
       "      <td>покупка жилья</td>\n",
       "    </tr>\n",
       "    <tr>\n",
       "      <th>3</th>\n",
       "      <td>3</td>\n",
       "      <td>4124.747207</td>\n",
       "      <td>32</td>\n",
       "      <td>среднее</td>\n",
       "      <td>1</td>\n",
       "      <td>женат / замужем</td>\n",
       "      <td>0</td>\n",
       "      <td>M</td>\n",
       "      <td>сотрудник</td>\n",
       "      <td>0</td>\n",
       "      <td>267628.550329</td>\n",
       "      <td>дополнительное образование</td>\n",
       "    </tr>\n",
       "    <tr>\n",
       "      <th>4</th>\n",
       "      <td>0</td>\n",
       "      <td>340266.072047</td>\n",
       "      <td>53</td>\n",
       "      <td>среднее</td>\n",
       "      <td>1</td>\n",
       "      <td>гражданский брак</td>\n",
       "      <td>1</td>\n",
       "      <td>F</td>\n",
       "      <td>пенсионер</td>\n",
       "      <td>0</td>\n",
       "      <td>158616.077870</td>\n",
       "      <td>сыграть свадьбу</td>\n",
       "    </tr>\n",
       "    <tr>\n",
       "      <th>5</th>\n",
       "      <td>0</td>\n",
       "      <td>926.185831</td>\n",
       "      <td>27</td>\n",
       "      <td>высшее</td>\n",
       "      <td>0</td>\n",
       "      <td>гражданский брак</td>\n",
       "      <td>1</td>\n",
       "      <td>M</td>\n",
       "      <td>компаньон</td>\n",
       "      <td>0</td>\n",
       "      <td>255763.565419</td>\n",
       "      <td>покупка жилья</td>\n",
       "    </tr>\n",
       "    <tr>\n",
       "      <th>6</th>\n",
       "      <td>0</td>\n",
       "      <td>2879.202052</td>\n",
       "      <td>43</td>\n",
       "      <td>высшее</td>\n",
       "      <td>0</td>\n",
       "      <td>женат / замужем</td>\n",
       "      <td>0</td>\n",
       "      <td>F</td>\n",
       "      <td>компаньон</td>\n",
       "      <td>0</td>\n",
       "      <td>240525.971920</td>\n",
       "      <td>операции с жильем</td>\n",
       "    </tr>\n",
       "    <tr>\n",
       "      <th>7</th>\n",
       "      <td>0</td>\n",
       "      <td>152.779569</td>\n",
       "      <td>50</td>\n",
       "      <td>СРЕДНЕЕ</td>\n",
       "      <td>1</td>\n",
       "      <td>женат / замужем</td>\n",
       "      <td>0</td>\n",
       "      <td>M</td>\n",
       "      <td>сотрудник</td>\n",
       "      <td>0</td>\n",
       "      <td>135823.934197</td>\n",
       "      <td>образование</td>\n",
       "    </tr>\n",
       "    <tr>\n",
       "      <th>8</th>\n",
       "      <td>2</td>\n",
       "      <td>6929.865299</td>\n",
       "      <td>35</td>\n",
       "      <td>ВЫСШЕЕ</td>\n",
       "      <td>0</td>\n",
       "      <td>гражданский брак</td>\n",
       "      <td>1</td>\n",
       "      <td>F</td>\n",
       "      <td>сотрудник</td>\n",
       "      <td>0</td>\n",
       "      <td>95856.832424</td>\n",
       "      <td>на проведение свадьбы</td>\n",
       "    </tr>\n",
       "    <tr>\n",
       "      <th>9</th>\n",
       "      <td>0</td>\n",
       "      <td>2188.756445</td>\n",
       "      <td>41</td>\n",
       "      <td>среднее</td>\n",
       "      <td>1</td>\n",
       "      <td>женат / замужем</td>\n",
       "      <td>0</td>\n",
       "      <td>M</td>\n",
       "      <td>сотрудник</td>\n",
       "      <td>0</td>\n",
       "      <td>144425.938277</td>\n",
       "      <td>покупка жилья для семьи</td>\n",
       "    </tr>\n",
       "  </tbody>\n",
       "</table>\n",
       "</div>"
      ],
      "text/plain": [
       "   children  days_employed  dob_years education  education_id  \\\n",
       "0         1    8437.673028         42    высшее             0   \n",
       "1         1    4024.803754         36   среднее             1   \n",
       "2         0    5623.422610         33   Среднее             1   \n",
       "3         3    4124.747207         32   среднее             1   \n",
       "4         0  340266.072047         53   среднее             1   \n",
       "5         0     926.185831         27    высшее             0   \n",
       "6         0    2879.202052         43    высшее             0   \n",
       "7         0     152.779569         50   СРЕДНЕЕ             1   \n",
       "8         2    6929.865299         35    ВЫСШЕЕ             0   \n",
       "9         0    2188.756445         41   среднее             1   \n",
       "\n",
       "      family_status  family_status_id gender income_type  debt   total_income  \\\n",
       "0   женат / замужем                 0      F   сотрудник     0  253875.639453   \n",
       "1   женат / замужем                 0      F   сотрудник     0  112080.014102   \n",
       "2   женат / замужем                 0      M   сотрудник     0  145885.952297   \n",
       "3   женат / замужем                 0      M   сотрудник     0  267628.550329   \n",
       "4  гражданский брак                 1      F   пенсионер     0  158616.077870   \n",
       "5  гражданский брак                 1      M   компаньон     0  255763.565419   \n",
       "6   женат / замужем                 0      F   компаньон     0  240525.971920   \n",
       "7   женат / замужем                 0      M   сотрудник     0  135823.934197   \n",
       "8  гражданский брак                 1      F   сотрудник     0   95856.832424   \n",
       "9   женат / замужем                 0      M   сотрудник     0  144425.938277   \n",
       "\n",
       "                      purpose  \n",
       "0               покупка жилья  \n",
       "1     приобретение автомобиля  \n",
       "2               покупка жилья  \n",
       "3  дополнительное образование  \n",
       "4             сыграть свадьбу  \n",
       "5               покупка жилья  \n",
       "6           операции с жильем  \n",
       "7                 образование  \n",
       "8       на проведение свадьбы  \n",
       "9     покупка жилья для семьи  "
      ]
     },
     "execution_count": 11,
     "metadata": {},
     "output_type": "execute_result"
    }
   ],
   "source": [
    "customer_solvency['total_income'] = (\n",
    "    customer_solvency['total_income']\n",
    "    .fillna(customer_solvency.groupby('income_type')['total_income'].transform('median'))\n",
    ")\n",
    "customer_solvency.head(10)"
   ]
  },
  {
   "cell_type": "markdown",
   "metadata": {},
   "source": [
    "Так же в данных я заметила, что в колонке `dob_years` некоторые значения принимают ноль. Я решила проверить, сколько таких нулей присутствуют в колонке с возрастом. Так как возраст таковым быть не может, буду считать это за пропущенные данные, которые можно восстановить. \n",
    "\n",
    "Данные в этой колонке количественные, поэтому пропущенные значения заполню средним арифметическим выборки."
   ]
  },
  {
   "cell_type": "code",
   "execution_count": 12,
   "metadata": {},
   "outputs": [
    {
     "data": {
      "text/plain": [
       "101"
      ]
     },
     "execution_count": 12,
     "metadata": {},
     "output_type": "execute_result"
    }
   ],
   "source": [
    "customer_solvency[customer_solvency['dob_years'] == 0]['dob_years'].count()"
   ]
  },
  {
   "cell_type": "code",
   "execution_count": 13,
   "metadata": {},
   "outputs": [
    {
     "data": {
      "text/plain": [
       "43"
      ]
     },
     "execution_count": 13,
     "metadata": {},
     "output_type": "execute_result"
    }
   ],
   "source": [
    "# среднее арифметическое выборки для столбца dob_years\n",
    "dob_years_mean = int(customer_solvency['dob_years'].mean())\n",
    "dob_years_mean"
   ]
  },
  {
   "cell_type": "code",
   "execution_count": 14,
   "metadata": {},
   "outputs": [],
   "source": [
    "# замена нулевых значений на среднее арифметическое\n",
    "customer_solvency['dob_years'] = customer_solvency['dob_years'].replace(0, dob_years_mean)"
   ]
  },
  {
   "cell_type": "markdown",
   "metadata": {},
   "source": [
    "Осуществлю проверку с помощью логической индексации:"
   ]
  },
  {
   "cell_type": "code",
   "execution_count": 15,
   "metadata": {},
   "outputs": [
    {
     "data": {
      "text/plain": [
       "0"
      ]
     },
     "execution_count": 15,
     "metadata": {},
     "output_type": "execute_result"
    }
   ],
   "source": [
    "customer_solvency[customer_solvency['dob_years'] == 0]['dob_years'].count()"
   ]
  },
  {
   "cell_type": "markdown",
   "metadata": {},
   "source": [
    "После обработки пропусков проверяю, все ли пропущенные значения удалось удалить:"
   ]
  },
  {
   "cell_type": "code",
   "execution_count": 16,
   "metadata": {},
   "outputs": [
    {
     "data": {
      "text/plain": [
       "children            0\n",
       "days_employed       0\n",
       "dob_years           0\n",
       "education           0\n",
       "education_id        0\n",
       "family_status       0\n",
       "family_status_id    0\n",
       "gender              0\n",
       "income_type         0\n",
       "debt                0\n",
       "total_income        0\n",
       "purpose             0\n",
       "dtype: int64"
      ]
     },
     "execution_count": 16,
     "metadata": {},
     "output_type": "execute_result"
    }
   ],
   "source": [
    "customer_solvency.isna().sum()"
   ]
  },
  {
   "cell_type": "markdown",
   "metadata": {},
   "source": [
    "**Вывод:** пропущенные значения в данных - частая практика в работе аналитика. Пропуски могут возникать по некоторым причинам: механический фактор - некорректная работа при выгрузке данных; человеческий фактор - ошибки в наборе данных. Поскольку в исходном датафрейме пропущенные значения неважны для целей исследования, но в тех же строках присутствуют ценные данные, то можно заменить пропущенные значения другими. \n",
    "\n",
    "Для двух типов значений - категориальные и количественные существуют свои методики работы с пропусками. В датафрейме данные в колонках `days_employed`, `dob_years` и `total_income` - количественные, поэтому пропуски в таких значениях можно заменять характерными значениями выборки - средним арифметическим или медианой.\n",
    "\n",
    "Таким образом, на этапе обработки пропущенных значений мне удалось заменить пропущенные данные в трех столбцах: `days_employed`, `dob_years`, `total_income` для дальнейшего анализа датафрейма `customer_solvency`. "
   ]
  },
  {
   "cell_type": "markdown",
   "metadata": {},
   "source": [
    "### Замена типов данных"
   ]
  },
  {
   "cell_type": "markdown",
   "metadata": {},
   "source": [
    "Чтобы изменить тип данных в столбцах `days_employed` и `total_income` с вещественного на целочисленный воспользуюсь методом astype(). "
   ]
  },
  {
   "cell_type": "code",
   "execution_count": 17,
   "metadata": {},
   "outputs": [
    {
     "name": "stdout",
     "output_type": "stream",
     "text": [
      "<class 'pandas.core.frame.DataFrame'>\n",
      "RangeIndex: 21525 entries, 0 to 21524\n",
      "Data columns (total 12 columns):\n",
      " #   Column            Non-Null Count  Dtype \n",
      "---  ------            --------------  ----- \n",
      " 0   children          21525 non-null  int64 \n",
      " 1   days_employed     21525 non-null  int64 \n",
      " 2   dob_years         21525 non-null  int64 \n",
      " 3   education         21525 non-null  object\n",
      " 4   education_id      21525 non-null  int64 \n",
      " 5   family_status     21525 non-null  object\n",
      " 6   family_status_id  21525 non-null  int64 \n",
      " 7   gender            21525 non-null  object\n",
      " 8   income_type       21525 non-null  object\n",
      " 9   debt              21525 non-null  int64 \n",
      " 10  total_income      21525 non-null  int64 \n",
      " 11  purpose           21525 non-null  object\n",
      "dtypes: int64(7), object(5)\n",
      "memory usage: 2.0+ MB\n"
     ]
    }
   ],
   "source": [
    "customer_solvency[['days_employed', 'total_income']] = (\n",
    "    customer_solvency[['days_employed', 'total_income']].astype('int')\n",
    ")\n",
    "customer_solvency.info()"
   ]
  },
  {
   "cell_type": "markdown",
   "metadata": {},
   "source": [
    "**Вывод:** с точки зрения анализа данных, достаточно целочисленных значений, которые выглядят более читаемо и их проще анализировать."
   ]
  },
  {
   "cell_type": "markdown",
   "metadata": {},
   "source": [
    "### Обработка дубликатов"
   ]
  },
  {
   "cell_type": "markdown",
   "metadata": {},
   "source": [
    "Проверю датафрейм на наличие явных дубликатов с помощью метода duplicated():"
   ]
  },
  {
   "cell_type": "code",
   "execution_count": 18,
   "metadata": {},
   "outputs": [
    {
     "data": {
      "text/plain": [
       "54"
      ]
     },
     "execution_count": 18,
     "metadata": {},
     "output_type": "execute_result"
    }
   ],
   "source": [
    "customer_solvency.duplicated().sum()"
   ]
  },
  {
   "cell_type": "markdown",
   "metadata": {},
   "source": [
    "От явных дубликатов избавляюсь методом drop_duplicates():"
   ]
  },
  {
   "cell_type": "code",
   "execution_count": 19,
   "metadata": {},
   "outputs": [],
   "source": [
    "customer_solvency = customer_solvency.drop_duplicates().reset_index(drop=True)"
   ]
  },
  {
   "cell_type": "markdown",
   "metadata": {},
   "source": [
    "Осуществляю проверку:"
   ]
  },
  {
   "cell_type": "code",
   "execution_count": 20,
   "metadata": {},
   "outputs": [
    {
     "data": {
      "text/plain": [
       "0"
      ]
     },
     "execution_count": 20,
     "metadata": {},
     "output_type": "execute_result"
    }
   ],
   "source": [
    "customer_solvency.duplicated().sum()"
   ]
  },
  {
   "cell_type": "markdown",
   "metadata": {},
   "source": [
    "От явных дубликатов избавилась. Теперь перехожу к неявным."
   ]
  },
  {
   "cell_type": "markdown",
   "metadata": {},
   "source": [
    "На наличие неявных дубликатов проверяю категориальные столбцы с помощью метода unique():"
   ]
  },
  {
   "cell_type": "code",
   "execution_count": 21,
   "metadata": {},
   "outputs": [
    {
     "name": "stdout",
     "output_type": "stream",
     "text": [
      "education: ['высшее' 'среднее' 'Среднее' 'СРЕДНЕЕ' 'ВЫСШЕЕ' 'неоконченное высшее'\n",
      " 'начальное' 'Высшее' 'НЕОКОНЧЕННОЕ ВЫСШЕЕ' 'Неоконченное высшее'\n",
      " 'НАЧАЛЬНОЕ' 'Начальное' 'Ученая степень' 'УЧЕНАЯ СТЕПЕНЬ'\n",
      " 'ученая степень']\n",
      "\n",
      "family_status: ['женат / замужем' 'гражданский брак' 'вдовец / вдова' 'в разводе'\n",
      " 'Не женат / не замужем']\n",
      "\n",
      "income_type: ['сотрудник' 'пенсионер' 'компаньон' 'госслужащий' 'безработный'\n",
      " 'предприниматель' 'студент' 'в декрете']\n",
      "\n",
      "purpose: ['покупка жилья' 'приобретение автомобиля' 'дополнительное образование'\n",
      " 'сыграть свадьбу' 'операции с жильем' 'образование'\n",
      " 'на проведение свадьбы' 'покупка жилья для семьи' 'покупка недвижимости'\n",
      " 'покупка коммерческой недвижимости' 'покупка жилой недвижимости'\n",
      " 'строительство собственной недвижимости' 'недвижимость'\n",
      " 'строительство недвижимости' 'на покупку подержанного автомобиля'\n",
      " 'на покупку своего автомобиля' 'операции с коммерческой недвижимостью'\n",
      " 'строительство жилой недвижимости' 'жилье'\n",
      " 'операции со своей недвижимостью' 'автомобили' 'заняться образованием'\n",
      " 'сделка с подержанным автомобилем' 'получение образования' 'автомобиль'\n",
      " 'свадьба' 'получение дополнительного образования' 'покупка своего жилья'\n",
      " 'операции с недвижимостью' 'получение высшего образования'\n",
      " 'свой автомобиль' 'сделка с автомобилем' 'профильное образование'\n",
      " 'высшее образование' 'покупка жилья для сдачи' 'на покупку автомобиля'\n",
      " 'ремонт жилью' 'заняться высшим образованием']\n",
      "\n"
     ]
    }
   ],
   "source": [
    "for column in ['education', 'family_status', 'income_type', 'purpose']:\n",
    "    print(column, customer_solvency[column].unique(), sep=': ', end='\\n\\n')"
   ]
  },
  {
   "cell_type": "markdown",
   "metadata": {},
   "source": [
    "В столбце `education` символы имеют разный регистр, из-за чего значения дублируются. В столбце `family_status` дублирующихся значений нет, но не все значения приведены к нижнему регистру, это нужно исправить, иначе в дальнейшем можно допустить ошибку при наборе данных.\n",
    "\n",
    "Все значения в данных столбцах приведу к нижнему регистру методом str.lower():"
   ]
  },
  {
   "cell_type": "code",
   "execution_count": 22,
   "metadata": {},
   "outputs": [],
   "source": [
    "customer_solvency['family_status'] = customer_solvency['family_status'].str.lower()"
   ]
  },
  {
   "cell_type": "code",
   "execution_count": 23,
   "metadata": {},
   "outputs": [],
   "source": [
    "customer_solvency['education'] = customer_solvency['education'].str.lower()"
   ]
  },
  {
   "cell_type": "markdown",
   "metadata": {},
   "source": [
    "Проверю, какие уникальные значения остались в столбцах `education` и `family_status`:"
   ]
  },
  {
   "cell_type": "code",
   "execution_count": 24,
   "metadata": {},
   "outputs": [
    {
     "name": "stdout",
     "output_type": "stream",
     "text": [
      "education: ['высшее' 'среднее' 'неоконченное высшее' 'начальное' 'ученая степень']\n",
      "\n",
      "family_status: ['женат / замужем' 'гражданский брак' 'вдовец / вдова' 'в разводе'\n",
      " 'не женат / не замужем']\n",
      "\n"
     ]
    }
   ],
   "source": [
    "for column in ['education', 'family_status']:\n",
    "    print(column, customer_solvency[column].unique(), sep=': ', end='\\n\\n')"
   ]
  },
  {
   "cell_type": "markdown",
   "metadata": {},
   "source": [
    "Посмотрю какие значения присутствуют в столбце `children`:"
   ]
  },
  {
   "cell_type": "code",
   "execution_count": 25,
   "metadata": {},
   "outputs": [
    {
     "data": {
      "text/plain": [
       "array([ 1,  0,  3,  2, -1,  4, 20,  5])"
      ]
     },
     "execution_count": 25,
     "metadata": {},
     "output_type": "execute_result"
    }
   ],
   "source": [
    "customer_solvency['children'].unique()"
   ]
  },
  {
   "cell_type": "markdown",
   "metadata": {},
   "source": [
    "В данном столбце встречаются аномальные значения, \"-1\" и \"20\". Сначала приведу все значения к абсолютным:"
   ]
  },
  {
   "cell_type": "code",
   "execution_count": 26,
   "metadata": {},
   "outputs": [],
   "source": [
    "customer_solvency['children'] = customer_solvency['children'].abs()"
   ]
  },
  {
   "cell_type": "code",
   "execution_count": 27,
   "metadata": {},
   "outputs": [
    {
     "data": {
      "text/plain": [
       "76"
      ]
     },
     "execution_count": 27,
     "metadata": {},
     "output_type": "execute_result"
    }
   ],
   "source": [
    "# проверка столбца 'children' на количество аномальных значений\n",
    "customer_solvency[customer_solvency['children'] == 20]['children'].count()"
   ]
  },
  {
   "cell_type": "markdown",
   "metadata": {},
   "source": [
    "Встречающееся число \"20\" в данных о количестве детей - аномальное значение, ошибка человека, который заполнял эти данные. Так как в условии задачи стоит вопрос \"зависит ли количество детей на факт погашения кредита в срок\", то данные в столбце 'children' важны и влияют на выводы исследования. Так как аномальные значения встречаются в 76 строках - это 0,35% ото всех данных датафрейма, я принимаю решение удалить строки с искаженными данными."
   ]
  },
  {
   "cell_type": "code",
   "execution_count": 28,
   "metadata": {},
   "outputs": [],
   "source": [
    "customer_solvency = (\n",
    "    customer_solvency.drop(customer_solvency[customer_solvency['children'] == 20].index)\n",
    "    .reset_index(drop=True)\n",
    ")"
   ]
  },
  {
   "cell_type": "markdown",
   "metadata": {},
   "source": [
    "Выведу общую информацию о датафрейме после обработки дубликатов."
   ]
  },
  {
   "cell_type": "code",
   "execution_count": 29,
   "metadata": {
    "scrolled": true
   },
   "outputs": [
    {
     "name": "stdout",
     "output_type": "stream",
     "text": [
      "<class 'pandas.core.frame.DataFrame'>\n",
      "RangeIndex: 21395 entries, 0 to 21394\n",
      "Data columns (total 12 columns):\n",
      " #   Column            Non-Null Count  Dtype \n",
      "---  ------            --------------  ----- \n",
      " 0   children          21395 non-null  int64 \n",
      " 1   days_employed     21395 non-null  int64 \n",
      " 2   dob_years         21395 non-null  int64 \n",
      " 3   education         21395 non-null  object\n",
      " 4   education_id      21395 non-null  int64 \n",
      " 5   family_status     21395 non-null  object\n",
      " 6   family_status_id  21395 non-null  int64 \n",
      " 7   gender            21395 non-null  object\n",
      " 8   income_type       21395 non-null  object\n",
      " 9   debt              21395 non-null  int64 \n",
      " 10  total_income      21395 non-null  int64 \n",
      " 11  purpose           21395 non-null  object\n",
      "dtypes: int64(7), object(5)\n",
      "memory usage: 2.0+ MB\n"
     ]
    }
   ],
   "source": [
    "customer_solvency.info()"
   ]
  },
  {
   "cell_type": "markdown",
   "metadata": {},
   "source": [
    "**Вывод:** так же как и пропуски, наличие дубликатов - часто встречаемое явление при работе с данными. Дублирующиеся значения могут появляться по вине человека, который заполнил данные (случайно включенный capslock, редактирование строк с помощью копирования). Анализ данных при большом количестве дублирующихся значений недостоверен. Уметь находить дубликаты и избавляться от них - важный навык аналитика. \n",
    "\n",
    "Дубликаты подразделяются на явные - полностью повторяющиеся строки в датафрейме, и неявные - те, где значения в строках могут иметь одинаковых смысл, но отличаться регистром или быть написаны на разных языках. Обнаружить явные дубликаты помогает метод duplicated(), а избавиться от них можно с помощью метода drop_duplicates(), от неявных - методом replace(), а с помощью ручного поиска приводить символы в названиях к нижнему регистру методом str.lower(). \n",
    "\n",
    "Таким образом, мне удалось избавиться от дубликатов с помощью вышеописанных методов."
   ]
  },
  {
   "cell_type": "markdown",
   "metadata": {},
   "source": [
    "### Лемматизация"
   ]
  },
  {
   "cell_type": "markdown",
   "metadata": {},
   "source": [
    "В датафрейме нужно провести лемматизацию столбца `purpose`. Для этого импортирую библиотеку с функцией лемматизации на русском языке - pymystem3. Напишу функцию lemmatize(), которая для переданного текста будет возвращать список лемм."
   ]
  },
  {
   "cell_type": "code",
   "execution_count": 30,
   "metadata": {},
   "outputs": [],
   "source": [
    "stem = Mystem()\n",
    "\n",
    "def lemmatize(text):\n",
    "    lemmas = stem.lemmatize(text)\n",
    "    return lemmas"
   ]
  },
  {
   "cell_type": "markdown",
   "metadata": {},
   "source": [
    "Чтобы выделить категории, необходимо найти наиболее встречающиеся леммы, для этого использую контейнер Counter из модуля collections. Так как нужно лемматизировать значения столбца `purpose`, то предварительно необходимо этот столбец склеить в одну строку. "
   ]
  },
  {
   "cell_type": "code",
   "execution_count": 31,
   "metadata": {},
   "outputs": [
    {
     "data": {
      "text/plain": [
       "Counter({'покупка': 5881,\n",
       "         ' ': 54866,\n",
       "         'жилье': 4446,\n",
       "         'приобретение': 461,\n",
       "         'автомобиль': 4292,\n",
       "         'дополнительный': 903,\n",
       "         'образование': 3999,\n",
       "         'сыграть': 765,\n",
       "         'свадьба': 2326,\n",
       "         'операция': 2594,\n",
       "         'с': 2905,\n",
       "         'на': 2217,\n",
       "         'проведение': 769,\n",
       "         'для': 1288,\n",
       "         'семья': 637,\n",
       "         'недвижимость': 6332,\n",
       "         'коммерческий': 1305,\n",
       "         'жилой': 1228,\n",
       "         'строительство': 1872,\n",
       "         'собственный': 629,\n",
       "         'подержать': 844,\n",
       "         'свой': 2227,\n",
       "         'со': 626,\n",
       "         'заниматься': 904,\n",
       "         'сделка': 937,\n",
       "         'получение': 1312,\n",
       "         'высокий': 1368,\n",
       "         'подержанный': 110,\n",
       "         'профильный': 434,\n",
       "         'сдача': 651,\n",
       "         'ремонт': 605,\n",
       "         '\\n': 1})"
      ]
     },
     "execution_count": 31,
     "metadata": {},
     "output_type": "execute_result"
    }
   ],
   "source": [
    "lemmas = lemmatize(' '.join(customer_solvency['purpose']))\n",
    "Counter(lemmas)"
   ]
  },
  {
   "cell_type": "markdown",
   "metadata": {},
   "source": [
    "**Вывод:** лемматизация позволила мне выделить конкретные категории цели получения кредита у заемщиков: *автомобиль, образование, свадьба, недвижимость.*"
   ]
  },
  {
   "cell_type": "markdown",
   "metadata": {},
   "source": [
    "### Категоризация данных"
   ]
  },
  {
   "cell_type": "markdown",
   "metadata": {},
   "source": [
    "Проведу категоризацию - объединю данные в категории. Для этого применю метод qcut() к столбцу `total_income` для определения границ ежемесячного дохода."
   ]
  },
  {
   "cell_type": "code",
   "execution_count": 32,
   "metadata": {
    "scrolled": false
   },
   "outputs": [
    {
     "data": {
      "text/plain": [
       "0        (195750.0, 2265604.0]\n",
       "1         (107626.0, 142594.0]\n",
       "2         (142594.0, 195750.0]\n",
       "3        (195750.0, 2265604.0]\n",
       "4         (142594.0, 195750.0]\n",
       "                 ...          \n",
       "21390    (195750.0, 2265604.0]\n",
       "21391     (142594.0, 195750.0]\n",
       "21392      (20666.0, 107626.0]\n",
       "21393    (195750.0, 2265604.0]\n",
       "21394      (20666.0, 107626.0]\n",
       "Name: total_income, Length: 21395, dtype: category\n",
       "Categories (4, interval[float64]): [(20666.0, 107626.0] < (107626.0, 142594.0] < (142594.0, 195750.0] < (195750.0, 2265604.0]]"
      ]
     },
     "execution_count": 32,
     "metadata": {},
     "output_type": "execute_result"
    }
   ],
   "source": [
    "pd.qcut(customer_solvency['total_income'], q=4, precision=0)"
   ]
  },
  {
   "cell_type": "markdown",
   "metadata": {},
   "source": [
    "**1 категория - \"по уровню дохода\"**\n",
    "\n",
    "Распределю клиентов по четырем категориям: \n",
    "- клиенты с ежемесячным доходом `менее 107626` попадают в категорию `низкий`; \n",
    "- клиенты с доходом `107626 - 142594` - категория `средний`;\n",
    "- клиенты с доходом `142594 - 195750` - категория `выше среднего`;\n",
    "- клиенты с доходом `больше 195750` - категория `высокий`."
   ]
  },
  {
   "cell_type": "code",
   "execution_count": 33,
   "metadata": {
    "scrolled": false
   },
   "outputs": [
    {
     "data": {
      "text/html": [
       "<div>\n",
       "<style scoped>\n",
       "    .dataframe tbody tr th:only-of-type {\n",
       "        vertical-align: middle;\n",
       "    }\n",
       "\n",
       "    .dataframe tbody tr th {\n",
       "        vertical-align: top;\n",
       "    }\n",
       "\n",
       "    .dataframe thead th {\n",
       "        text-align: right;\n",
       "    }\n",
       "</style>\n",
       "<table border=\"1\" class=\"dataframe\">\n",
       "  <thead>\n",
       "    <tr style=\"text-align: right;\">\n",
       "      <th></th>\n",
       "      <th>children</th>\n",
       "      <th>days_employed</th>\n",
       "      <th>dob_years</th>\n",
       "      <th>education</th>\n",
       "      <th>education_id</th>\n",
       "      <th>family_status</th>\n",
       "      <th>family_status_id</th>\n",
       "      <th>gender</th>\n",
       "      <th>income_type</th>\n",
       "      <th>debt</th>\n",
       "      <th>total_income</th>\n",
       "      <th>purpose</th>\n",
       "      <th>income_category</th>\n",
       "    </tr>\n",
       "  </thead>\n",
       "  <tbody>\n",
       "    <tr>\n",
       "      <th>0</th>\n",
       "      <td>1</td>\n",
       "      <td>8437</td>\n",
       "      <td>42</td>\n",
       "      <td>высшее</td>\n",
       "      <td>0</td>\n",
       "      <td>женат / замужем</td>\n",
       "      <td>0</td>\n",
       "      <td>F</td>\n",
       "      <td>сотрудник</td>\n",
       "      <td>0</td>\n",
       "      <td>253875</td>\n",
       "      <td>покупка жилья</td>\n",
       "      <td>высокий</td>\n",
       "    </tr>\n",
       "    <tr>\n",
       "      <th>1</th>\n",
       "      <td>1</td>\n",
       "      <td>4024</td>\n",
       "      <td>36</td>\n",
       "      <td>среднее</td>\n",
       "      <td>1</td>\n",
       "      <td>женат / замужем</td>\n",
       "      <td>0</td>\n",
       "      <td>F</td>\n",
       "      <td>сотрудник</td>\n",
       "      <td>0</td>\n",
       "      <td>112080</td>\n",
       "      <td>приобретение автомобиля</td>\n",
       "      <td>средний</td>\n",
       "    </tr>\n",
       "    <tr>\n",
       "      <th>2</th>\n",
       "      <td>0</td>\n",
       "      <td>5623</td>\n",
       "      <td>33</td>\n",
       "      <td>среднее</td>\n",
       "      <td>1</td>\n",
       "      <td>женат / замужем</td>\n",
       "      <td>0</td>\n",
       "      <td>M</td>\n",
       "      <td>сотрудник</td>\n",
       "      <td>0</td>\n",
       "      <td>145885</td>\n",
       "      <td>покупка жилья</td>\n",
       "      <td>выше среднего</td>\n",
       "    </tr>\n",
       "    <tr>\n",
       "      <th>3</th>\n",
       "      <td>3</td>\n",
       "      <td>4124</td>\n",
       "      <td>32</td>\n",
       "      <td>среднее</td>\n",
       "      <td>1</td>\n",
       "      <td>женат / замужем</td>\n",
       "      <td>0</td>\n",
       "      <td>M</td>\n",
       "      <td>сотрудник</td>\n",
       "      <td>0</td>\n",
       "      <td>267628</td>\n",
       "      <td>дополнительное образование</td>\n",
       "      <td>высокий</td>\n",
       "    </tr>\n",
       "    <tr>\n",
       "      <th>4</th>\n",
       "      <td>0</td>\n",
       "      <td>340266</td>\n",
       "      <td>53</td>\n",
       "      <td>среднее</td>\n",
       "      <td>1</td>\n",
       "      <td>гражданский брак</td>\n",
       "      <td>1</td>\n",
       "      <td>F</td>\n",
       "      <td>пенсионер</td>\n",
       "      <td>0</td>\n",
       "      <td>158616</td>\n",
       "      <td>сыграть свадьбу</td>\n",
       "      <td>выше среднего</td>\n",
       "    </tr>\n",
       "  </tbody>\n",
       "</table>\n",
       "</div>"
      ],
      "text/plain": [
       "   children  days_employed  dob_years education  education_id  \\\n",
       "0         1           8437         42    высшее             0   \n",
       "1         1           4024         36   среднее             1   \n",
       "2         0           5623         33   среднее             1   \n",
       "3         3           4124         32   среднее             1   \n",
       "4         0         340266         53   среднее             1   \n",
       "\n",
       "      family_status  family_status_id gender income_type  debt  total_income  \\\n",
       "0   женат / замужем                 0      F   сотрудник     0        253875   \n",
       "1   женат / замужем                 0      F   сотрудник     0        112080   \n",
       "2   женат / замужем                 0      M   сотрудник     0        145885   \n",
       "3   женат / замужем                 0      M   сотрудник     0        267628   \n",
       "4  гражданский брак                 1      F   пенсионер     0        158616   \n",
       "\n",
       "                      purpose income_category  \n",
       "0               покупка жилья         высокий  \n",
       "1     приобретение автомобиля         средний  \n",
       "2               покупка жилья   выше среднего  \n",
       "3  дополнительное образование         высокий  \n",
       "4             сыграть свадьбу   выше среднего  "
      ]
     },
     "execution_count": 33,
     "metadata": {},
     "output_type": "execute_result"
    }
   ],
   "source": [
    "income_labels = ['низкий', 'средний', 'выше среднего', 'высокий']\n",
    "customer_solvency['income_category'] = (\n",
    "    pd.qcut(customer_solvency['total_income'], q=4, labels=income_labels, precision=0)\n",
    ")\n",
    "customer_solvency.head()"
   ]
  },
  {
   "cell_type": "markdown",
   "metadata": {},
   "source": [
    "**2 категория - \"по целям кредита\"**\n",
    "\n",
    "Распределю клиентов по четырем категориям: \n",
    "- клиенты с целью взять кредит на `автомобиль`; \n",
    "- клиенты с целью взять кредит на `образование`;\n",
    "- клиенты с целью взять кредит на `свадьбу`;\n",
    "- клиенты с целью взять кредит для операций с `недвижимостью`."
   ]
  },
  {
   "cell_type": "markdown",
   "metadata": {},
   "source": [
    "Функция calculate_purpose_category() принимает данные с описанием цели кредита, проводит их лемматизацию, на выходе определяет категорию по наличию ключевого слова в леммах."
   ]
  },
  {
   "cell_type": "code",
   "execution_count": 34,
   "metadata": {
    "scrolled": true
   },
   "outputs": [
    {
     "data": {
      "text/html": [
       "<div>\n",
       "<style scoped>\n",
       "    .dataframe tbody tr th:only-of-type {\n",
       "        vertical-align: middle;\n",
       "    }\n",
       "\n",
       "    .dataframe tbody tr th {\n",
       "        vertical-align: top;\n",
       "    }\n",
       "\n",
       "    .dataframe thead th {\n",
       "        text-align: right;\n",
       "    }\n",
       "</style>\n",
       "<table border=\"1\" class=\"dataframe\">\n",
       "  <thead>\n",
       "    <tr style=\"text-align: right;\">\n",
       "      <th></th>\n",
       "      <th>children</th>\n",
       "      <th>days_employed</th>\n",
       "      <th>dob_years</th>\n",
       "      <th>education</th>\n",
       "      <th>education_id</th>\n",
       "      <th>family_status</th>\n",
       "      <th>family_status_id</th>\n",
       "      <th>gender</th>\n",
       "      <th>income_type</th>\n",
       "      <th>debt</th>\n",
       "      <th>total_income</th>\n",
       "      <th>purpose</th>\n",
       "      <th>income_category</th>\n",
       "      <th>purpose_category</th>\n",
       "    </tr>\n",
       "  </thead>\n",
       "  <tbody>\n",
       "    <tr>\n",
       "      <th>0</th>\n",
       "      <td>1</td>\n",
       "      <td>8437</td>\n",
       "      <td>42</td>\n",
       "      <td>высшее</td>\n",
       "      <td>0</td>\n",
       "      <td>женат / замужем</td>\n",
       "      <td>0</td>\n",
       "      <td>F</td>\n",
       "      <td>сотрудник</td>\n",
       "      <td>0</td>\n",
       "      <td>253875</td>\n",
       "      <td>покупка жилья</td>\n",
       "      <td>высокий</td>\n",
       "      <td>недвижимость</td>\n",
       "    </tr>\n",
       "    <tr>\n",
       "      <th>1</th>\n",
       "      <td>1</td>\n",
       "      <td>4024</td>\n",
       "      <td>36</td>\n",
       "      <td>среднее</td>\n",
       "      <td>1</td>\n",
       "      <td>женат / замужем</td>\n",
       "      <td>0</td>\n",
       "      <td>F</td>\n",
       "      <td>сотрудник</td>\n",
       "      <td>0</td>\n",
       "      <td>112080</td>\n",
       "      <td>приобретение автомобиля</td>\n",
       "      <td>средний</td>\n",
       "      <td>автомобиль</td>\n",
       "    </tr>\n",
       "    <tr>\n",
       "      <th>2</th>\n",
       "      <td>0</td>\n",
       "      <td>5623</td>\n",
       "      <td>33</td>\n",
       "      <td>среднее</td>\n",
       "      <td>1</td>\n",
       "      <td>женат / замужем</td>\n",
       "      <td>0</td>\n",
       "      <td>M</td>\n",
       "      <td>сотрудник</td>\n",
       "      <td>0</td>\n",
       "      <td>145885</td>\n",
       "      <td>покупка жилья</td>\n",
       "      <td>выше среднего</td>\n",
       "      <td>недвижимость</td>\n",
       "    </tr>\n",
       "    <tr>\n",
       "      <th>3</th>\n",
       "      <td>3</td>\n",
       "      <td>4124</td>\n",
       "      <td>32</td>\n",
       "      <td>среднее</td>\n",
       "      <td>1</td>\n",
       "      <td>женат / замужем</td>\n",
       "      <td>0</td>\n",
       "      <td>M</td>\n",
       "      <td>сотрудник</td>\n",
       "      <td>0</td>\n",
       "      <td>267628</td>\n",
       "      <td>дополнительное образование</td>\n",
       "      <td>высокий</td>\n",
       "      <td>образование</td>\n",
       "    </tr>\n",
       "    <tr>\n",
       "      <th>4</th>\n",
       "      <td>0</td>\n",
       "      <td>340266</td>\n",
       "      <td>53</td>\n",
       "      <td>среднее</td>\n",
       "      <td>1</td>\n",
       "      <td>гражданский брак</td>\n",
       "      <td>1</td>\n",
       "      <td>F</td>\n",
       "      <td>пенсионер</td>\n",
       "      <td>0</td>\n",
       "      <td>158616</td>\n",
       "      <td>сыграть свадьбу</td>\n",
       "      <td>выше среднего</td>\n",
       "      <td>свадьба</td>\n",
       "    </tr>\n",
       "  </tbody>\n",
       "</table>\n",
       "</div>"
      ],
      "text/plain": [
       "   children  days_employed  dob_years education  education_id  \\\n",
       "0         1           8437         42    высшее             0   \n",
       "1         1           4024         36   среднее             1   \n",
       "2         0           5623         33   среднее             1   \n",
       "3         3           4124         32   среднее             1   \n",
       "4         0         340266         53   среднее             1   \n",
       "\n",
       "      family_status  family_status_id gender income_type  debt  total_income  \\\n",
       "0   женат / замужем                 0      F   сотрудник     0        253875   \n",
       "1   женат / замужем                 0      F   сотрудник     0        112080   \n",
       "2   женат / замужем                 0      M   сотрудник     0        145885   \n",
       "3   женат / замужем                 0      M   сотрудник     0        267628   \n",
       "4  гражданский брак                 1      F   пенсионер     0        158616   \n",
       "\n",
       "                      purpose income_category purpose_category  \n",
       "0               покупка жилья         высокий     недвижимость  \n",
       "1     приобретение автомобиля         средний       автомобиль  \n",
       "2               покупка жилья   выше среднего     недвижимость  \n",
       "3  дополнительное образование         высокий      образование  \n",
       "4             сыграть свадьбу   выше среднего          свадьба  "
      ]
     },
     "execution_count": 34,
     "metadata": {},
     "output_type": "execute_result"
    }
   ],
   "source": [
    "def calculate_purpose_category(purpose):\n",
    "    lemmas = set(lemmatize(purpose))\n",
    "    \n",
    "    if 'автомобиль' in lemmas:\n",
    "        return 'автомобиль'\n",
    "    elif 'образование' in lemmas:\n",
    "        return 'образование'\n",
    "    elif 'свадьба' in lemmas:\n",
    "        return 'свадьба'\n",
    "    elif {'недвижимость', 'жилье'} & lemmas:\n",
    "        return 'недвижимость'\n",
    "    \n",
    "    return 'не определено'\n",
    "\n",
    "customer_solvency['purpose_category'] = customer_solvency['purpose'].apply(calculate_purpose_category)\n",
    "customer_solvency.head()"
   ]
  },
  {
   "cell_type": "markdown",
   "metadata": {},
   "source": [
    "Осуществляю проверку, чтобы убедиться, что все категории по целям кредита определены:"
   ]
  },
  {
   "cell_type": "code",
   "execution_count": 35,
   "metadata": {},
   "outputs": [
    {
     "data": {
      "text/plain": [
       "0"
      ]
     },
     "execution_count": 35,
     "metadata": {},
     "output_type": "execute_result"
    }
   ],
   "source": [
    "customer_solvency[customer_solvency['purpose_category'] == 'не определено']['purpose_category'].count() "
   ]
  },
  {
   "cell_type": "markdown",
   "metadata": {},
   "source": [
    "**3 категория - \"по количеству детей\"**\n",
    "\n",
    "Распределю клиентов по шести категориям: \n",
    "- клиенты, у которых нет детей, попадают в категорию 0; \n",
    "- клиенты, у которых есть один ребенок, попадают в категорию 1;\n",
    "- клиенты, у которых два ребенка, - категория 2;\n",
    "- клиенты, у которых три ребенка, - категория 3;\n",
    "- клиенты, у которых четыре ребенка, - категория 4;\n",
    "- клиенты, у которых пять детей, - категория 5."
   ]
  },
  {
   "cell_type": "markdown",
   "metadata": {},
   "source": [
    "В исходном датафрейме есть столбец `children`, по которому можно проводить категоризацию, поэтому новый столбец добавлять не нужно."
   ]
  },
  {
   "cell_type": "markdown",
   "metadata": {},
   "source": [
    "**4 категория - \"по уровню образования\"**\n",
    "\n",
    "- высшее - категория 0;\n",
    "- среднее - категория 1;\n",
    "- неоконченное высшее - категория 2;\n",
    "- начальное - категория 3;\n",
    "- ученая степень - категория 4.\n",
    "\n",
    "В исходном датафрейме существует столбец с категориями клиентов по уровню образования, поэтому новую колонку добавлять не нужно."
   ]
  },
  {
   "cell_type": "markdown",
   "metadata": {},
   "source": [
    "**5 категория - \"по семейному положению\"**\n",
    "\n",
    "- женат / замужем - категория 0;\n",
    "- гражданский брак - категория 1;\n",
    "- вдовец / вдова - категория 2;\n",
    "- в разводе - категория 3;\n",
    "- не женат / не замужем - категория 4.\n",
    "\n",
    "В исходном датафрейме существует столбец с категориями клиентов по семейному положению, поэтому новую колонку добавлять не нужно."
   ]
  },
  {
   "cell_type": "markdown",
   "metadata": {},
   "source": [
    "Для оптимального хранения информации о 4 и 5 категориях вынесу их в отдельные таблицы `education_categories` и `family_status_categories`:"
   ]
  },
  {
   "cell_type": "code",
   "execution_count": 36,
   "metadata": {},
   "outputs": [
    {
     "data": {
      "text/html": [
       "<div>\n",
       "<style scoped>\n",
       "    .dataframe tbody tr th:only-of-type {\n",
       "        vertical-align: middle;\n",
       "    }\n",
       "\n",
       "    .dataframe tbody tr th {\n",
       "        vertical-align: top;\n",
       "    }\n",
       "\n",
       "    .dataframe thead th {\n",
       "        text-align: right;\n",
       "    }\n",
       "</style>\n",
       "<table border=\"1\" class=\"dataframe\">\n",
       "  <thead>\n",
       "    <tr style=\"text-align: right;\">\n",
       "      <th></th>\n",
       "      <th>education</th>\n",
       "      <th>education_id</th>\n",
       "    </tr>\n",
       "  </thead>\n",
       "  <tbody>\n",
       "    <tr>\n",
       "      <th>0</th>\n",
       "      <td>высшее</td>\n",
       "      <td>0</td>\n",
       "    </tr>\n",
       "    <tr>\n",
       "      <th>1</th>\n",
       "      <td>среднее</td>\n",
       "      <td>1</td>\n",
       "    </tr>\n",
       "    <tr>\n",
       "      <th>2</th>\n",
       "      <td>неоконченное высшее</td>\n",
       "      <td>2</td>\n",
       "    </tr>\n",
       "    <tr>\n",
       "      <th>3</th>\n",
       "      <td>начальное</td>\n",
       "      <td>3</td>\n",
       "    </tr>\n",
       "    <tr>\n",
       "      <th>4</th>\n",
       "      <td>ученая степень</td>\n",
       "      <td>4</td>\n",
       "    </tr>\n",
       "  </tbody>\n",
       "</table>\n",
       "</div>"
      ],
      "text/plain": [
       "             education  education_id\n",
       "0               высшее             0\n",
       "1              среднее             1\n",
       "2  неоконченное высшее             2\n",
       "3            начальное             3\n",
       "4       ученая степень             4"
      ]
     },
     "execution_count": 36,
     "metadata": {},
     "output_type": "execute_result"
    }
   ],
   "source": [
    "education_categories = customer_solvency[['education', 'education_id']]\n",
    "education_categories = education_categories.drop_duplicates().reset_index(drop=True)\n",
    "education_categories"
   ]
  },
  {
   "cell_type": "code",
   "execution_count": 37,
   "metadata": {},
   "outputs": [
    {
     "data": {
      "text/html": [
       "<div>\n",
       "<style scoped>\n",
       "    .dataframe tbody tr th:only-of-type {\n",
       "        vertical-align: middle;\n",
       "    }\n",
       "\n",
       "    .dataframe tbody tr th {\n",
       "        vertical-align: top;\n",
       "    }\n",
       "\n",
       "    .dataframe thead th {\n",
       "        text-align: right;\n",
       "    }\n",
       "</style>\n",
       "<table border=\"1\" class=\"dataframe\">\n",
       "  <thead>\n",
       "    <tr style=\"text-align: right;\">\n",
       "      <th></th>\n",
       "      <th>family_status</th>\n",
       "      <th>family_status_id</th>\n",
       "    </tr>\n",
       "  </thead>\n",
       "  <tbody>\n",
       "    <tr>\n",
       "      <th>0</th>\n",
       "      <td>женат / замужем</td>\n",
       "      <td>0</td>\n",
       "    </tr>\n",
       "    <tr>\n",
       "      <th>1</th>\n",
       "      <td>гражданский брак</td>\n",
       "      <td>1</td>\n",
       "    </tr>\n",
       "    <tr>\n",
       "      <th>2</th>\n",
       "      <td>вдовец / вдова</td>\n",
       "      <td>2</td>\n",
       "    </tr>\n",
       "    <tr>\n",
       "      <th>3</th>\n",
       "      <td>в разводе</td>\n",
       "      <td>3</td>\n",
       "    </tr>\n",
       "    <tr>\n",
       "      <th>4</th>\n",
       "      <td>не женат / не замужем</td>\n",
       "      <td>4</td>\n",
       "    </tr>\n",
       "  </tbody>\n",
       "</table>\n",
       "</div>"
      ],
      "text/plain": [
       "           family_status  family_status_id\n",
       "0        женат / замужем                 0\n",
       "1       гражданский брак                 1\n",
       "2         вдовец / вдова                 2\n",
       "3              в разводе                 3\n",
       "4  не женат / не замужем                 4"
      ]
     },
     "execution_count": 37,
     "metadata": {},
     "output_type": "execute_result"
    }
   ],
   "source": [
    "family_status_categories = customer_solvency[['family_status', 'family_status_id']]\n",
    "family_status_categories = (\n",
    "    family_status_categories.drop_duplicates().reset_index(drop=True)\n",
    ")\n",
    "family_status_categories"
   ]
  },
  {
   "cell_type": "markdown",
   "metadata": {},
   "source": [
    "Из датафрейма `customer_solvency` удалю колонки с именами категорий:"
   ]
  },
  {
   "cell_type": "code",
   "execution_count": 38,
   "metadata": {},
   "outputs": [
    {
     "data": {
      "text/html": [
       "<div>\n",
       "<style scoped>\n",
       "    .dataframe tbody tr th:only-of-type {\n",
       "        vertical-align: middle;\n",
       "    }\n",
       "\n",
       "    .dataframe tbody tr th {\n",
       "        vertical-align: top;\n",
       "    }\n",
       "\n",
       "    .dataframe thead th {\n",
       "        text-align: right;\n",
       "    }\n",
       "</style>\n",
       "<table border=\"1\" class=\"dataframe\">\n",
       "  <thead>\n",
       "    <tr style=\"text-align: right;\">\n",
       "      <th></th>\n",
       "      <th>children</th>\n",
       "      <th>days_employed</th>\n",
       "      <th>dob_years</th>\n",
       "      <th>education_id</th>\n",
       "      <th>family_status_id</th>\n",
       "      <th>gender</th>\n",
       "      <th>income_type</th>\n",
       "      <th>debt</th>\n",
       "      <th>total_income</th>\n",
       "      <th>purpose</th>\n",
       "      <th>income_category</th>\n",
       "      <th>purpose_category</th>\n",
       "    </tr>\n",
       "  </thead>\n",
       "  <tbody>\n",
       "    <tr>\n",
       "      <th>0</th>\n",
       "      <td>1</td>\n",
       "      <td>8437</td>\n",
       "      <td>42</td>\n",
       "      <td>0</td>\n",
       "      <td>0</td>\n",
       "      <td>F</td>\n",
       "      <td>сотрудник</td>\n",
       "      <td>0</td>\n",
       "      <td>253875</td>\n",
       "      <td>покупка жилья</td>\n",
       "      <td>высокий</td>\n",
       "      <td>недвижимость</td>\n",
       "    </tr>\n",
       "    <tr>\n",
       "      <th>1</th>\n",
       "      <td>1</td>\n",
       "      <td>4024</td>\n",
       "      <td>36</td>\n",
       "      <td>1</td>\n",
       "      <td>0</td>\n",
       "      <td>F</td>\n",
       "      <td>сотрудник</td>\n",
       "      <td>0</td>\n",
       "      <td>112080</td>\n",
       "      <td>приобретение автомобиля</td>\n",
       "      <td>средний</td>\n",
       "      <td>автомобиль</td>\n",
       "    </tr>\n",
       "    <tr>\n",
       "      <th>2</th>\n",
       "      <td>0</td>\n",
       "      <td>5623</td>\n",
       "      <td>33</td>\n",
       "      <td>1</td>\n",
       "      <td>0</td>\n",
       "      <td>M</td>\n",
       "      <td>сотрудник</td>\n",
       "      <td>0</td>\n",
       "      <td>145885</td>\n",
       "      <td>покупка жилья</td>\n",
       "      <td>выше среднего</td>\n",
       "      <td>недвижимость</td>\n",
       "    </tr>\n",
       "    <tr>\n",
       "      <th>3</th>\n",
       "      <td>3</td>\n",
       "      <td>4124</td>\n",
       "      <td>32</td>\n",
       "      <td>1</td>\n",
       "      <td>0</td>\n",
       "      <td>M</td>\n",
       "      <td>сотрудник</td>\n",
       "      <td>0</td>\n",
       "      <td>267628</td>\n",
       "      <td>дополнительное образование</td>\n",
       "      <td>высокий</td>\n",
       "      <td>образование</td>\n",
       "    </tr>\n",
       "    <tr>\n",
       "      <th>4</th>\n",
       "      <td>0</td>\n",
       "      <td>340266</td>\n",
       "      <td>53</td>\n",
       "      <td>1</td>\n",
       "      <td>1</td>\n",
       "      <td>F</td>\n",
       "      <td>пенсионер</td>\n",
       "      <td>0</td>\n",
       "      <td>158616</td>\n",
       "      <td>сыграть свадьбу</td>\n",
       "      <td>выше среднего</td>\n",
       "      <td>свадьба</td>\n",
       "    </tr>\n",
       "  </tbody>\n",
       "</table>\n",
       "</div>"
      ],
      "text/plain": [
       "   children  days_employed  dob_years  education_id  family_status_id gender  \\\n",
       "0         1           8437         42             0                 0      F   \n",
       "1         1           4024         36             1                 0      F   \n",
       "2         0           5623         33             1                 0      M   \n",
       "3         3           4124         32             1                 0      M   \n",
       "4         0         340266         53             1                 1      F   \n",
       "\n",
       "  income_type  debt  total_income                     purpose income_category  \\\n",
       "0   сотрудник     0        253875               покупка жилья         высокий   \n",
       "1   сотрудник     0        112080     приобретение автомобиля         средний   \n",
       "2   сотрудник     0        145885               покупка жилья   выше среднего   \n",
       "3   сотрудник     0        267628  дополнительное образование         высокий   \n",
       "4   пенсионер     0        158616             сыграть свадьбу   выше среднего   \n",
       "\n",
       "  purpose_category  \n",
       "0     недвижимость  \n",
       "1       автомобиль  \n",
       "2     недвижимость  \n",
       "3      образование  \n",
       "4          свадьба  "
      ]
     },
     "execution_count": 38,
     "metadata": {},
     "output_type": "execute_result"
    }
   ],
   "source": [
    "customer_solvency = customer_solvency.drop(['education', 'family_status'], axis=1)\n",
    "customer_solvency.head()"
   ]
  },
  {
   "cell_type": "markdown",
   "metadata": {},
   "source": [
    "**Вывод:** категоризация позволяет сгруппировать данные для их последующего анализа. \n",
    "\n",
    "Я разделила данные по пяти категориям:\n",
    "\n",
    "- *по уровню дохода*;\n",
    "- *по целям кредита*;\n",
    "- *по количеству детей*;\n",
    "- *по уровню образования*;\n",
    "- *по семейному положению*.\n",
    "\n",
    "Сгруппированные данные позволяют находить зависимости между категориями и возвратом кредита в срок."
   ]
  },
  {
   "cell_type": "markdown",
   "metadata": {},
   "source": [
    "## Интерпретация полученных результатов"
   ]
  },
  {
   "cell_type": "markdown",
   "metadata": {},
   "source": [
    "- Есть ли зависимость между наличием детей и возвратом кредита в срок?"
   ]
  },
  {
   "cell_type": "code",
   "execution_count": 39,
   "metadata": {},
   "outputs": [
    {
     "data": {
      "text/html": [
       "<style  type=\"text/css\" >\n",
       "</style><table id=\"T_1cba5_\" ><thead>    <tr>        <th class=\"blank level0\" ></th>        <th class=\"col_heading level0 col0\" >Кол-во клиентов</th>        <th class=\"col_heading level0 col1\" >Кол-во должников</th>        <th class=\"col_heading level0 col2\" >% должников</th>        <th class=\"col_heading level0 col3\" >% НЕдолжников</th>    </tr>    <tr>        <th class=\"index_name level0\" >children</th>        <th class=\"blank\" ></th>        <th class=\"blank\" ></th>        <th class=\"blank\" ></th>        <th class=\"blank\" ></th>    </tr></thead><tbody>\n",
       "                <tr>\n",
       "                        <th id=\"T_1cba5_level0_row0\" class=\"row_heading level0 row0\" >0</th>\n",
       "                        <td id=\"T_1cba5_row0_col0\" class=\"data row0 col0\" >14107</td>\n",
       "                        <td id=\"T_1cba5_row0_col1\" class=\"data row0 col1\" >1063</td>\n",
       "                        <td id=\"T_1cba5_row0_col2\" class=\"data row0 col2\" >7.54%</td>\n",
       "                        <td id=\"T_1cba5_row0_col3\" class=\"data row0 col3\" >92.46%</td>\n",
       "            </tr>\n",
       "            <tr>\n",
       "                        <th id=\"T_1cba5_level0_row1\" class=\"row_heading level0 row1\" >1</th>\n",
       "                        <td id=\"T_1cba5_row1_col0\" class=\"data row1 col0\" >4856</td>\n",
       "                        <td id=\"T_1cba5_row1_col1\" class=\"data row1 col1\" >445</td>\n",
       "                        <td id=\"T_1cba5_row1_col2\" class=\"data row1 col2\" >9.16%</td>\n",
       "                        <td id=\"T_1cba5_row1_col3\" class=\"data row1 col3\" >90.84%</td>\n",
       "            </tr>\n",
       "            <tr>\n",
       "                        <th id=\"T_1cba5_level0_row2\" class=\"row_heading level0 row2\" >2</th>\n",
       "                        <td id=\"T_1cba5_row2_col0\" class=\"data row2 col0\" >2052</td>\n",
       "                        <td id=\"T_1cba5_row2_col1\" class=\"data row2 col1\" >194</td>\n",
       "                        <td id=\"T_1cba5_row2_col2\" class=\"data row2 col2\" >9.45%</td>\n",
       "                        <td id=\"T_1cba5_row2_col3\" class=\"data row2 col3\" >90.55%</td>\n",
       "            </tr>\n",
       "            <tr>\n",
       "                        <th id=\"T_1cba5_level0_row3\" class=\"row_heading level0 row3\" >3</th>\n",
       "                        <td id=\"T_1cba5_row3_col0\" class=\"data row3 col0\" >330</td>\n",
       "                        <td id=\"T_1cba5_row3_col1\" class=\"data row3 col1\" >27</td>\n",
       "                        <td id=\"T_1cba5_row3_col2\" class=\"data row3 col2\" >8.18%</td>\n",
       "                        <td id=\"T_1cba5_row3_col3\" class=\"data row3 col3\" >91.82%</td>\n",
       "            </tr>\n",
       "            <tr>\n",
       "                        <th id=\"T_1cba5_level0_row4\" class=\"row_heading level0 row4\" >4</th>\n",
       "                        <td id=\"T_1cba5_row4_col0\" class=\"data row4 col0\" >41</td>\n",
       "                        <td id=\"T_1cba5_row4_col1\" class=\"data row4 col1\" >4</td>\n",
       "                        <td id=\"T_1cba5_row4_col2\" class=\"data row4 col2\" >9.76%</td>\n",
       "                        <td id=\"T_1cba5_row4_col3\" class=\"data row4 col3\" >90.24%</td>\n",
       "            </tr>\n",
       "            <tr>\n",
       "                        <th id=\"T_1cba5_level0_row5\" class=\"row_heading level0 row5\" >5</th>\n",
       "                        <td id=\"T_1cba5_row5_col0\" class=\"data row5 col0\" >9</td>\n",
       "                        <td id=\"T_1cba5_row5_col1\" class=\"data row5 col1\" >0</td>\n",
       "                        <td id=\"T_1cba5_row5_col2\" class=\"data row5 col2\" >0.00%</td>\n",
       "                        <td id=\"T_1cba5_row5_col3\" class=\"data row5 col3\" >100.00%</td>\n",
       "            </tr>\n",
       "    </tbody></table>"
      ],
      "text/plain": [
       "<pandas.io.formats.style.Styler at 0x7f3e71a5a400>"
      ]
     },
     "execution_count": 39,
     "metadata": {},
     "output_type": "execute_result"
    }
   ],
   "source": [
    "df_example = customer_solvency.pivot_table(index = 'children', values = 'debt', \n",
    "                            aggfunc = ['count', 'sum', 'mean', lambda x: 1 - x.mean()])\n",
    "df_example.columns = ['Кол-во клиентов', 'Кол-во должников', '% должников', '% НЕдолжников']\n",
    "df_example.style.format({'% должников': '{:.2%}', '% НЕдолжников': '{:.2%}'})"
   ]
  },
  {
   "cell_type": "markdown",
   "metadata": {},
   "source": [
    "Можно сделать два **вывода:**\n",
    "- клиенты без детей реже допускают задолжность по кредиту (примерно на 10% в сравнении с заемщиками с детьми);\n",
    "- процент должников среди людей с детьми не зависит от их количества."
   ]
  },
  {
   "cell_type": "markdown",
   "metadata": {},
   "source": [
    "- Есть ли зависимость между семейным положением и возвратом кредита в срок?"
   ]
  },
  {
   "cell_type": "code",
   "execution_count": 40,
   "metadata": {},
   "outputs": [
    {
     "data": {
      "text/html": [
       "<div>\n",
       "<style scoped>\n",
       "    .dataframe tbody tr th:only-of-type {\n",
       "        vertical-align: middle;\n",
       "    }\n",
       "\n",
       "    .dataframe tbody tr th {\n",
       "        vertical-align: top;\n",
       "    }\n",
       "\n",
       "    .dataframe thead th {\n",
       "        text-align: right;\n",
       "    }\n",
       "</style>\n",
       "<table border=\"1\" class=\"dataframe\">\n",
       "  <thead>\n",
       "    <tr style=\"text-align: right;\">\n",
       "      <th></th>\n",
       "      <th>family_status</th>\n",
       "      <th>family_status_id</th>\n",
       "      <th>debt</th>\n",
       "    </tr>\n",
       "  </thead>\n",
       "  <tbody>\n",
       "    <tr>\n",
       "      <th>0</th>\n",
       "      <td>женат / замужем</td>\n",
       "      <td>0</td>\n",
       "      <td>7.55</td>\n",
       "    </tr>\n",
       "    <tr>\n",
       "      <th>1</th>\n",
       "      <td>гражданский брак</td>\n",
       "      <td>1</td>\n",
       "      <td>9.27</td>\n",
       "    </tr>\n",
       "    <tr>\n",
       "      <th>2</th>\n",
       "      <td>вдовец / вдова</td>\n",
       "      <td>2</td>\n",
       "      <td>6.60</td>\n",
       "    </tr>\n",
       "    <tr>\n",
       "      <th>3</th>\n",
       "      <td>в разводе</td>\n",
       "      <td>3</td>\n",
       "      <td>7.04</td>\n",
       "    </tr>\n",
       "    <tr>\n",
       "      <th>4</th>\n",
       "      <td>не женат / не замужем</td>\n",
       "      <td>4</td>\n",
       "      <td>9.75</td>\n",
       "    </tr>\n",
       "  </tbody>\n",
       "</table>\n",
       "</div>"
      ],
      "text/plain": [
       "           family_status  family_status_id  debt\n",
       "0        женат / замужем                 0  7.55\n",
       "1       гражданский брак                 1  9.27\n",
       "2         вдовец / вдова                 2  6.60\n",
       "3              в разводе                 3  7.04\n",
       "4  не женат / не замужем                 4  9.75"
      ]
     },
     "execution_count": 40,
     "metadata": {},
     "output_type": "execute_result"
    }
   ],
   "source": [
    "debt_by_family_status = (\n",
    "    customer_solvency.pivot_table(index='family_status_id', values='debt', aggfunc='mean')\n",
    ")\n",
    "debt_by_family_status['debt'] = round(debt_by_family_status['debt'] * 100, 2)\n",
    "debt_by_family_status = (\n",
    "    family_status_categories.merge(debt_by_family_status, on='family_status_id', how='left')\n",
    ")\n",
    "debt_by_family_status"
   ]
  },
  {
   "cell_type": "markdown",
   "metadata": {},
   "source": [
    "**Вывод:** семейное положение влияет на факт погашения кредита в срок. Заемщики с семейным положением `не женат / не замужем`, `гражданский брак` чаще других категорий допускают задолжность по кредиту. Возможно, это связано с их меньшей социальной ответственностью."
   ]
  },
  {
   "cell_type": "markdown",
   "metadata": {},
   "source": [
    "- Есть ли зависимость между уровнем дохода и возвратом кредита в срок?"
   ]
  },
  {
   "cell_type": "code",
   "execution_count": 41,
   "metadata": {},
   "outputs": [
    {
     "data": {
      "text/html": [
       "<div>\n",
       "<style scoped>\n",
       "    .dataframe tbody tr th:only-of-type {\n",
       "        vertical-align: middle;\n",
       "    }\n",
       "\n",
       "    .dataframe tbody tr th {\n",
       "        vertical-align: top;\n",
       "    }\n",
       "\n",
       "    .dataframe thead th {\n",
       "        text-align: right;\n",
       "    }\n",
       "</style>\n",
       "<table border=\"1\" class=\"dataframe\">\n",
       "  <thead>\n",
       "    <tr style=\"text-align: right;\">\n",
       "      <th></th>\n",
       "      <th>debt</th>\n",
       "    </tr>\n",
       "    <tr>\n",
       "      <th>income_category</th>\n",
       "      <th></th>\n",
       "    </tr>\n",
       "  </thead>\n",
       "  <tbody>\n",
       "    <tr>\n",
       "      <th>низкий</th>\n",
       "      <td>7.98</td>\n",
       "    </tr>\n",
       "    <tr>\n",
       "      <th>средний</th>\n",
       "      <td>8.77</td>\n",
       "    </tr>\n",
       "    <tr>\n",
       "      <th>выше среднего</th>\n",
       "      <td>8.52</td>\n",
       "    </tr>\n",
       "    <tr>\n",
       "      <th>высокий</th>\n",
       "      <td>7.12</td>\n",
       "    </tr>\n",
       "  </tbody>\n",
       "</table>\n",
       "</div>"
      ],
      "text/plain": [
       "                 debt\n",
       "income_category      \n",
       "низкий           7.98\n",
       "средний          8.77\n",
       "выше среднего    8.52\n",
       "высокий          7.12"
      ]
     },
     "execution_count": 41,
     "metadata": {},
     "output_type": "execute_result"
    }
   ],
   "source": [
    "debt_by_income_category = (\n",
    "    customer_solvency.pivot_table(index='income_category', values='debt', aggfunc='mean')\n",
    ")\n",
    "debt_by_income_category['debt'] = round(debt_by_income_category['debt'] * 100, 2)\n",
    "debt_by_income_category"
   ]
  },
  {
   "cell_type": "markdown",
   "metadata": {},
   "source": [
    "**Вывод:** категория клиентов по ежемесячному доходу уровня `средний` и `выше среднего` чаще не возвращают кредит в срок. Интересный вывод, что категории по уровню дохода `низкий` и `высокий` реже допускают задолжности по кредиту в сравнении с категорией `средний`. Могу предположить, что людям со `средним` доходом и доходом `выше среднего` сложнее планировать свой бюждет."
   ]
  },
  {
   "cell_type": "markdown",
   "metadata": {},
   "source": [
    "- Как разные цели кредита влияют на его возврат в срок?"
   ]
  },
  {
   "cell_type": "code",
   "execution_count": 42,
   "metadata": {},
   "outputs": [
    {
     "data": {
      "text/html": [
       "<div>\n",
       "<style scoped>\n",
       "    .dataframe tbody tr th:only-of-type {\n",
       "        vertical-align: middle;\n",
       "    }\n",
       "\n",
       "    .dataframe tbody tr th {\n",
       "        vertical-align: top;\n",
       "    }\n",
       "\n",
       "    .dataframe thead th {\n",
       "        text-align: right;\n",
       "    }\n",
       "</style>\n",
       "<table border=\"1\" class=\"dataframe\">\n",
       "  <thead>\n",
       "    <tr style=\"text-align: right;\">\n",
       "      <th></th>\n",
       "      <th>debt</th>\n",
       "    </tr>\n",
       "    <tr>\n",
       "      <th>purpose_category</th>\n",
       "      <th></th>\n",
       "    </tr>\n",
       "  </thead>\n",
       "  <tbody>\n",
       "    <tr>\n",
       "      <th>автомобиль</th>\n",
       "      <td>9.34</td>\n",
       "    </tr>\n",
       "    <tr>\n",
       "      <th>недвижимость</th>\n",
       "      <td>7.24</td>\n",
       "    </tr>\n",
       "    <tr>\n",
       "      <th>образование</th>\n",
       "      <td>9.23</td>\n",
       "    </tr>\n",
       "    <tr>\n",
       "      <th>свадьба</th>\n",
       "      <td>7.87</td>\n",
       "    </tr>\n",
       "  </tbody>\n",
       "</table>\n",
       "</div>"
      ],
      "text/plain": [
       "                  debt\n",
       "purpose_category      \n",
       "автомобиль        9.34\n",
       "недвижимость      7.24\n",
       "образование       9.23\n",
       "свадьба           7.87"
      ]
     },
     "execution_count": 42,
     "metadata": {},
     "output_type": "execute_result"
    }
   ],
   "source": [
    "debt_by_purpose_category = (\n",
    "    customer_solvency.pivot_table(index='purpose_category', values='debt', aggfunc='mean')\n",
    ")\n",
    "debt_by_purpose_category['debt'] = round(debt_by_purpose_category['debt'] * 100, 2)\n",
    "debt_by_purpose_category"
   ]
  },
  {
   "cell_type": "markdown",
   "metadata": {},
   "source": [
    "\n",
    "По полученным значениям можно сделать **вывод**, что цель взятия кредита по операциям с недвижимостью является наименее рисковой для банка, так как заемщики с данной целью реже всего допускают просрочки по кредиту.\n",
    "\n",
    "Категория клиентов по целям кредита `автомобиль` и `образование` в равной степени чаще допускают задолжности."
   ]
  },
  {
   "cell_type": "markdown",
   "metadata": {},
   "source": [
    "## Общий вывод"
   ]
  },
  {
   "cell_type": "markdown",
   "metadata": {},
   "source": [
    "Проделана большая работа по анализу данных со статистикой о платежеспособности клиентов. Передо мной стоял вопрос: влияет ли семейное положение и количество детей клиента на факт погашения кредита в срок?\n",
    "\n",
    "Для того, чтобы ответить на поставленный вопрос я проделала несколько этапов по работе с данными, а именно:\n",
    "- обработала пропущенные значения;\n",
    "- заменила типы данных;\n",
    "- обработала дубликаты;\n",
    "- провела лемматизацию;\n",
    "- категоризовала данные.\n",
    "\n",
    "На основании проведенного анализа данных банку можно дать следующие рекомендации:\n",
    "\n",
    "- поскольку клиенты без детей реже допускают просрочку по кредиту, то стоит тщательнее проверять семьи с детьми;\n",
    "\n",
    "- клиенты с семейным положением `не женат / не замужем` так же требуют более внимательной проверки;\n",
    "\n",
    "- при принятии решении об одобрении кредита банком размер ежемесячного дохода клиента не должен быть решающим фактором;\n",
    "\n",
    "- кредит на недвижимость является более безопасной сделкой для банка в сравнении с остальными категориями."
   ]
  }
 ],
 "metadata": {
  "ExecuteTimeLog": [
   {
    "duration": 895,
    "start_time": "2021-10-14T07:16:01.290Z"
   },
   {
    "duration": 23,
    "start_time": "2021-10-14T07:25:46.833Z"
   },
   {
    "duration": 7,
    "start_time": "2021-10-14T09:10:08.964Z"
   },
   {
    "duration": 8,
    "start_time": "2021-10-14T09:22:51.295Z"
   },
   {
    "duration": 5,
    "start_time": "2021-10-14T09:24:05.840Z"
   },
   {
    "duration": 4320,
    "start_time": "2021-10-14T09:25:50.328Z"
   },
   {
    "duration": 4515,
    "start_time": "2021-10-14T09:26:27.450Z"
   },
   {
    "duration": 4057,
    "start_time": "2021-10-14T09:26:54.465Z"
   },
   {
    "duration": 4267,
    "start_time": "2021-10-14T09:27:03.009Z"
   },
   {
    "duration": 4065,
    "start_time": "2021-10-14T09:28:14.809Z"
   },
   {
    "duration": 4136,
    "start_time": "2021-10-14T09:29:03.242Z"
   },
   {
    "duration": 7,
    "start_time": "2021-10-14T09:33:38.157Z"
   },
   {
    "duration": 4741,
    "start_time": "2021-10-14T09:35:20.301Z"
   },
   {
    "duration": 4195,
    "start_time": "2021-10-14T09:36:17.660Z"
   },
   {
    "duration": 7647,
    "start_time": "2021-10-14T09:38:01.247Z"
   },
   {
    "duration": 1228,
    "start_time": "2021-10-14T09:41:06.135Z"
   },
   {
    "duration": 7,
    "start_time": "2021-10-14T09:41:51.119Z"
   },
   {
    "duration": 73,
    "start_time": "2021-10-14T09:41:58.568Z"
   },
   {
    "duration": 15,
    "start_time": "2021-10-14T09:42:11.803Z"
   },
   {
    "duration": 80,
    "start_time": "2021-10-14T09:42:23.819Z"
   },
   {
    "duration": 13,
    "start_time": "2021-10-14T09:42:23.902Z"
   },
   {
    "duration": 14,
    "start_time": "2021-10-14T09:42:23.919Z"
   },
   {
    "duration": 416,
    "start_time": "2021-10-14T09:44:18.348Z"
   },
   {
    "duration": 290,
    "start_time": "2021-10-14T09:44:39.601Z"
   },
   {
    "duration": 847,
    "start_time": "2021-10-14T09:45:04.097Z"
   },
   {
    "duration": 21,
    "start_time": "2021-10-14T09:45:14.080Z"
   },
   {
    "duration": 5,
    "start_time": "2021-10-14T09:45:19.321Z"
   },
   {
    "duration": 20,
    "start_time": "2021-10-14T09:45:55.729Z"
   },
   {
    "duration": 8,
    "start_time": "2021-10-14T09:49:29.673Z"
   },
   {
    "duration": 21,
    "start_time": "2021-10-14T09:52:57.758Z"
   },
   {
    "duration": 24,
    "start_time": "2021-10-14T09:53:14.358Z"
   },
   {
    "duration": 4,
    "start_time": "2021-10-14T09:56:05.855Z"
   },
   {
    "duration": 5,
    "start_time": "2021-10-14T09:56:17.399Z"
   },
   {
    "duration": 6,
    "start_time": "2021-10-14T09:56:25.103Z"
   },
   {
    "duration": 21,
    "start_time": "2021-10-14T09:56:57.808Z"
   },
   {
    "duration": 7,
    "start_time": "2021-10-14T09:59:33.216Z"
   },
   {
    "duration": 25,
    "start_time": "2021-10-14T10:00:10.129Z"
   },
   {
    "duration": 21,
    "start_time": "2021-10-14T10:00:48.874Z"
   },
   {
    "duration": 5,
    "start_time": "2021-10-14T10:01:28.514Z"
   },
   {
    "duration": 5,
    "start_time": "2021-10-14T10:01:38.595Z"
   },
   {
    "duration": 23,
    "start_time": "2021-10-14T10:41:28.043Z"
   },
   {
    "duration": 16,
    "start_time": "2021-10-14T11:10:11.577Z"
   },
   {
    "duration": 118,
    "start_time": "2021-10-14T16:47:01.025Z"
   },
   {
    "duration": 100,
    "start_time": "2021-10-14T16:47:09.319Z"
   },
   {
    "duration": 616,
    "start_time": "2021-10-14T16:47:18.716Z"
   },
   {
    "duration": 14,
    "start_time": "2021-10-14T16:47:24.118Z"
   },
   {
    "duration": 23,
    "start_time": "2021-10-14T16:47:35.085Z"
   },
   {
    "duration": 424,
    "start_time": "2021-10-14T16:47:53.113Z"
   },
   {
    "duration": 477,
    "start_time": "2021-10-14T16:48:45.341Z"
   },
   {
    "duration": 351,
    "start_time": "2021-10-14T16:49:19.776Z"
   },
   {
    "duration": 7,
    "start_time": "2021-10-14T16:49:28.619Z"
   },
   {
    "duration": 6,
    "start_time": "2021-10-14T16:49:56.933Z"
   },
   {
    "duration": 7,
    "start_time": "2021-10-14T16:50:11.895Z"
   },
   {
    "duration": 5,
    "start_time": "2021-10-14T16:50:21.233Z"
   },
   {
    "duration": 3,
    "start_time": "2021-10-14T17:03:25.629Z"
   },
   {
    "duration": 5,
    "start_time": "2021-10-14T17:03:36.638Z"
   },
   {
    "duration": 4,
    "start_time": "2021-10-14T17:04:36.240Z"
   },
   {
    "duration": 5,
    "start_time": "2021-10-14T17:05:48.171Z"
   },
   {
    "duration": 6,
    "start_time": "2021-10-14T17:07:49.302Z"
   },
   {
    "duration": 5,
    "start_time": "2021-10-14T17:07:51.798Z"
   },
   {
    "duration": 4,
    "start_time": "2021-10-14T17:07:55.047Z"
   },
   {
    "duration": 5,
    "start_time": "2021-10-14T17:07:57.706Z"
   },
   {
    "duration": 4,
    "start_time": "2021-10-14T17:09:35.454Z"
   },
   {
    "duration": 4,
    "start_time": "2021-10-14T17:09:45.403Z"
   },
   {
    "duration": 6,
    "start_time": "2021-10-14T17:09:56.360Z"
   },
   {
    "duration": 417,
    "start_time": "2021-10-14T17:13:11.136Z"
   },
   {
    "duration": 3,
    "start_time": "2021-10-14T17:16:05.575Z"
   },
   {
    "duration": 6,
    "start_time": "2021-10-14T17:16:13.298Z"
   },
   {
    "duration": 6,
    "start_time": "2021-10-14T17:16:22.029Z"
   },
   {
    "duration": 5,
    "start_time": "2021-10-14T17:16:31.676Z"
   },
   {
    "duration": 10,
    "start_time": "2021-10-14T17:17:30.720Z"
   },
   {
    "duration": 61,
    "start_time": "2021-10-14T17:17:43.926Z"
   },
   {
    "duration": 10,
    "start_time": "2021-10-14T17:17:46.454Z"
   },
   {
    "duration": 6,
    "start_time": "2021-10-14T17:17:50.341Z"
   },
   {
    "duration": 327,
    "start_time": "2021-10-14T17:18:12.144Z"
   },
   {
    "duration": 5,
    "start_time": "2021-10-14T17:18:29.410Z"
   },
   {
    "duration": 4,
    "start_time": "2021-10-14T17:18:37.210Z"
   },
   {
    "duration": 4,
    "start_time": "2021-10-14T17:18:46.684Z"
   },
   {
    "duration": 4,
    "start_time": "2021-10-14T17:18:54.286Z"
   },
   {
    "duration": 5,
    "start_time": "2021-10-14T17:18:56.868Z"
   },
   {
    "duration": 4,
    "start_time": "2021-10-14T17:18:59.214Z"
   },
   {
    "duration": 3,
    "start_time": "2021-10-14T17:19:02.765Z"
   },
   {
    "duration": 6,
    "start_time": "2021-10-14T17:19:04.941Z"
   },
   {
    "duration": 8,
    "start_time": "2021-10-14T17:19:07.645Z"
   },
   {
    "duration": 10,
    "start_time": "2021-10-14T17:22:17.292Z"
   },
   {
    "duration": 13,
    "start_time": "2021-10-14T17:31:12.130Z"
   },
   {
    "duration": 15,
    "start_time": "2021-10-14T17:33:05.588Z"
   },
   {
    "duration": 16,
    "start_time": "2021-10-14T17:34:27.084Z"
   },
   {
    "duration": 15,
    "start_time": "2021-10-14T17:34:41.120Z"
   },
   {
    "duration": 17,
    "start_time": "2021-10-14T17:43:09.641Z"
   },
   {
    "duration": 11,
    "start_time": "2021-10-14T17:43:44.195Z"
   },
   {
    "duration": 5,
    "start_time": "2021-10-14T17:51:42.380Z"
   },
   {
    "duration": 333,
    "start_time": "2021-10-14T17:52:34.502Z"
   },
   {
    "duration": 5,
    "start_time": "2021-10-14T17:52:57.838Z"
   },
   {
    "duration": 434,
    "start_time": "2021-10-14T17:53:50.790Z"
   },
   {
    "duration": 371,
    "start_time": "2021-10-14T17:57:29.839Z"
   },
   {
    "duration": 11,
    "start_time": "2021-10-14T17:58:52.696Z"
   },
   {
    "duration": 348,
    "start_time": "2021-10-14T18:00:12.018Z"
   },
   {
    "duration": 6,
    "start_time": "2021-10-14T18:01:21.392Z"
   },
   {
    "duration": 54,
    "start_time": "2021-10-14T18:01:47.476Z"
   },
   {
    "duration": 8,
    "start_time": "2021-10-14T18:01:47.532Z"
   },
   {
    "duration": 11,
    "start_time": "2021-10-14T18:01:47.542Z"
   },
   {
    "duration": 6,
    "start_time": "2021-10-14T18:01:47.554Z"
   },
   {
    "duration": 15,
    "start_time": "2021-10-14T18:01:47.562Z"
   },
   {
    "duration": 3,
    "start_time": "2021-10-14T18:01:47.578Z"
   },
   {
    "duration": 6,
    "start_time": "2021-10-14T18:01:47.583Z"
   },
   {
    "duration": 4,
    "start_time": "2021-10-14T18:01:47.591Z"
   },
   {
    "duration": 7,
    "start_time": "2021-10-14T18:01:47.597Z"
   },
   {
    "duration": 10,
    "start_time": "2021-10-14T18:01:47.606Z"
   },
   {
    "duration": 13,
    "start_time": "2021-10-14T18:01:47.617Z"
   },
   {
    "duration": 14,
    "start_time": "2021-10-14T18:01:47.632Z"
   },
   {
    "duration": 16,
    "start_time": "2021-10-14T18:01:47.676Z"
   },
   {
    "duration": 18,
    "start_time": "2021-10-14T18:01:47.694Z"
   },
   {
    "duration": 12,
    "start_time": "2021-10-14T18:01:47.713Z"
   },
   {
    "duration": 5,
    "start_time": "2021-10-14T18:02:04.522Z"
   },
   {
    "duration": 10,
    "start_time": "2021-10-14T18:02:16.918Z"
   },
   {
    "duration": 430,
    "start_time": "2021-10-14T18:02:41.644Z"
   },
   {
    "duration": 6,
    "start_time": "2021-10-14T18:02:51.997Z"
   },
   {
    "duration": 5,
    "start_time": "2021-10-14T18:05:13.400Z"
   },
   {
    "duration": 8,
    "start_time": "2021-10-14T18:21:10.458Z"
   },
   {
    "duration": 9,
    "start_time": "2021-10-14T18:21:39.593Z"
   },
   {
    "duration": 9,
    "start_time": "2021-10-14T18:24:24.306Z"
   },
   {
    "duration": 9,
    "start_time": "2021-10-14T18:25:35.860Z"
   },
   {
    "duration": 10,
    "start_time": "2021-10-14T18:25:47.186Z"
   },
   {
    "duration": 56,
    "start_time": "2021-10-14T18:26:51.381Z"
   },
   {
    "duration": 8,
    "start_time": "2021-10-14T18:26:51.439Z"
   },
   {
    "duration": 8,
    "start_time": "2021-10-14T18:26:51.449Z"
   },
   {
    "duration": 4,
    "start_time": "2021-10-14T18:26:51.459Z"
   },
   {
    "duration": 13,
    "start_time": "2021-10-14T18:26:51.465Z"
   },
   {
    "duration": 6,
    "start_time": "2021-10-14T18:26:51.480Z"
   },
   {
    "duration": 7,
    "start_time": "2021-10-14T18:26:51.487Z"
   },
   {
    "duration": 10,
    "start_time": "2021-10-14T18:26:51.496Z"
   },
   {
    "duration": 6,
    "start_time": "2021-10-14T18:26:51.507Z"
   },
   {
    "duration": 6,
    "start_time": "2021-10-14T18:26:51.514Z"
   },
   {
    "duration": 15,
    "start_time": "2021-10-14T18:26:51.522Z"
   },
   {
    "duration": 11,
    "start_time": "2021-10-14T18:26:51.539Z"
   },
   {
    "duration": 36,
    "start_time": "2021-10-14T18:26:51.552Z"
   },
   {
    "duration": 14,
    "start_time": "2021-10-14T18:26:51.589Z"
   },
   {
    "duration": 9,
    "start_time": "2021-10-14T18:26:51.605Z"
   },
   {
    "duration": 9,
    "start_time": "2021-10-14T18:26:56.348Z"
   },
   {
    "duration": 491,
    "start_time": "2021-10-15T12:34:28.337Z"
   },
   {
    "duration": 1044,
    "start_time": "2021-10-15T12:34:41.837Z"
   },
   {
    "duration": 20,
    "start_time": "2021-10-15T12:34:42.884Z"
   },
   {
    "duration": 7,
    "start_time": "2021-10-15T12:34:42.909Z"
   },
   {
    "duration": 16,
    "start_time": "2021-10-15T12:34:42.920Z"
   },
   {
    "duration": 24,
    "start_time": "2021-10-15T12:34:42.938Z"
   },
   {
    "duration": 12,
    "start_time": "2021-10-15T12:34:42.965Z"
   },
   {
    "duration": 27,
    "start_time": "2021-10-15T12:34:42.979Z"
   },
   {
    "duration": 13,
    "start_time": "2021-10-15T12:34:43.009Z"
   },
   {
    "duration": 14,
    "start_time": "2021-10-15T12:34:43.027Z"
   },
   {
    "duration": 17,
    "start_time": "2021-10-15T12:34:43.045Z"
   },
   {
    "duration": 34,
    "start_time": "2021-10-15T12:34:43.065Z"
   },
   {
    "duration": 23,
    "start_time": "2021-10-15T12:34:43.102Z"
   },
   {
    "duration": 22,
    "start_time": "2021-10-15T12:34:43.127Z"
   },
   {
    "duration": 24,
    "start_time": "2021-10-15T12:34:43.158Z"
   },
   {
    "duration": 14,
    "start_time": "2021-10-15T12:34:43.184Z"
   },
   {
    "duration": 16,
    "start_time": "2021-10-15T12:34:43.200Z"
   },
   {
    "duration": 52,
    "start_time": "2021-10-15T12:34:43.219Z"
   },
   {
    "duration": 16,
    "start_time": "2021-10-15T12:34:43.273Z"
   },
   {
    "duration": 16,
    "start_time": "2021-10-15T12:34:43.292Z"
   },
   {
    "duration": 11,
    "start_time": "2021-10-15T12:36:43.686Z"
   },
   {
    "duration": 195,
    "start_time": "2021-10-17T07:04:09.187Z"
   },
   {
    "duration": 636,
    "start_time": "2021-10-17T07:04:17.749Z"
   },
   {
    "duration": 13,
    "start_time": "2021-10-17T07:04:18.387Z"
   },
   {
    "duration": 5,
    "start_time": "2021-10-17T07:04:18.401Z"
   },
   {
    "duration": 4,
    "start_time": "2021-10-17T07:04:18.407Z"
   },
   {
    "duration": 5,
    "start_time": "2021-10-17T07:04:18.412Z"
   },
   {
    "duration": 3,
    "start_time": "2021-10-17T07:04:18.419Z"
   },
   {
    "duration": 8,
    "start_time": "2021-10-17T07:04:18.424Z"
   },
   {
    "duration": 4,
    "start_time": "2021-10-17T07:04:18.434Z"
   },
   {
    "duration": 6,
    "start_time": "2021-10-17T07:04:18.439Z"
   },
   {
    "duration": 6,
    "start_time": "2021-10-17T07:04:18.447Z"
   },
   {
    "duration": 42,
    "start_time": "2021-10-17T07:04:18.454Z"
   },
   {
    "duration": 11,
    "start_time": "2021-10-17T07:04:18.497Z"
   },
   {
    "duration": 12,
    "start_time": "2021-10-17T07:04:18.510Z"
   },
   {
    "duration": 14,
    "start_time": "2021-10-17T07:04:18.524Z"
   },
   {
    "duration": 9,
    "start_time": "2021-10-17T07:04:18.540Z"
   },
   {
    "duration": 8,
    "start_time": "2021-10-17T07:04:18.550Z"
   },
   {
    "duration": 11,
    "start_time": "2021-10-17T07:04:18.592Z"
   },
   {
    "duration": 17,
    "start_time": "2021-10-17T07:04:18.605Z"
   },
   {
    "duration": 10,
    "start_time": "2021-10-17T07:04:18.624Z"
   },
   {
    "duration": 7,
    "start_time": "2021-10-17T07:04:18.635Z"
   },
   {
    "duration": 231,
    "start_time": "2021-10-17T07:04:18.644Z"
   },
   {
    "duration": 176,
    "start_time": "2021-10-17T07:04:26.635Z"
   },
   {
    "duration": 3,
    "start_time": "2021-10-17T07:17:33.005Z"
   },
   {
    "duration": 3430,
    "start_time": "2021-10-17T07:25:31.988Z"
   },
   {
    "duration": 4831,
    "start_time": "2021-10-17T07:39:30.892Z"
   },
   {
    "duration": 5,
    "start_time": "2021-10-17T07:40:27.858Z"
   },
   {
    "duration": 4,
    "start_time": "2021-10-17T07:40:38.746Z"
   },
   {
    "duration": 2,
    "start_time": "2021-10-17T07:51:58.551Z"
   },
   {
    "duration": 2776,
    "start_time": "2021-10-17T07:57:28.026Z"
   },
   {
    "duration": 2541,
    "start_time": "2021-10-17T07:58:03.056Z"
   },
   {
    "duration": 4,
    "start_time": "2021-10-17T08:25:14.111Z"
   },
   {
    "duration": 2,
    "start_time": "2021-10-17T08:25:54.945Z"
   },
   {
    "duration": 174,
    "start_time": "2021-10-17T08:55:43.770Z"
   },
   {
    "duration": 14,
    "start_time": "2021-10-17T08:55:55.870Z"
   },
   {
    "duration": 8,
    "start_time": "2021-10-17T08:56:17.245Z"
   },
   {
    "duration": 7,
    "start_time": "2021-10-17T08:56:34.967Z"
   },
   {
    "duration": 6,
    "start_time": "2021-10-17T09:01:31.713Z"
   },
   {
    "duration": 6,
    "start_time": "2021-10-17T09:26:40.442Z"
   },
   {
    "duration": 57,
    "start_time": "2021-10-17T09:35:09.244Z"
   },
   {
    "duration": 8,
    "start_time": "2021-10-17T09:35:09.303Z"
   },
   {
    "duration": 5,
    "start_time": "2021-10-17T09:35:09.313Z"
   },
   {
    "duration": 9,
    "start_time": "2021-10-17T09:35:09.319Z"
   },
   {
    "duration": 4,
    "start_time": "2021-10-17T09:35:09.329Z"
   },
   {
    "duration": 6,
    "start_time": "2021-10-17T09:35:09.334Z"
   },
   {
    "duration": 3,
    "start_time": "2021-10-17T09:35:09.342Z"
   },
   {
    "duration": 45,
    "start_time": "2021-10-17T09:35:09.347Z"
   },
   {
    "duration": 4,
    "start_time": "2021-10-17T09:35:09.394Z"
   },
   {
    "duration": 5,
    "start_time": "2021-10-17T09:35:09.400Z"
   },
   {
    "duration": 12,
    "start_time": "2021-10-17T09:35:09.406Z"
   },
   {
    "duration": 16,
    "start_time": "2021-10-17T09:35:09.419Z"
   },
   {
    "duration": 13,
    "start_time": "2021-10-17T09:35:09.436Z"
   },
   {
    "duration": 14,
    "start_time": "2021-10-17T09:35:09.450Z"
   },
   {
    "duration": 16,
    "start_time": "2021-10-17T09:35:09.492Z"
   },
   {
    "duration": 10,
    "start_time": "2021-10-17T09:35:09.509Z"
   },
   {
    "duration": 9,
    "start_time": "2021-10-17T09:35:09.521Z"
   },
   {
    "duration": 13,
    "start_time": "2021-10-17T09:35:09.531Z"
   },
   {
    "duration": 12,
    "start_time": "2021-10-17T09:35:09.546Z"
   },
   {
    "duration": 38,
    "start_time": "2021-10-17T09:35:09.560Z"
   },
   {
    "duration": 9,
    "start_time": "2021-10-17T09:35:09.599Z"
   },
   {
    "duration": 23,
    "start_time": "2021-10-17T09:35:09.609Z"
   },
   {
    "duration": 3291,
    "start_time": "2021-10-17T09:35:09.634Z"
   },
   {
    "duration": 618,
    "start_time": "2021-10-17T09:35:33.967Z"
   },
   {
    "duration": 14,
    "start_time": "2021-10-17T09:35:34.586Z"
   },
   {
    "duration": 5,
    "start_time": "2021-10-17T09:35:34.602Z"
   },
   {
    "duration": 5,
    "start_time": "2021-10-17T09:35:34.609Z"
   },
   {
    "duration": 4,
    "start_time": "2021-10-17T09:35:34.615Z"
   },
   {
    "duration": 7,
    "start_time": "2021-10-17T09:35:34.621Z"
   },
   {
    "duration": 4,
    "start_time": "2021-10-17T09:35:34.629Z"
   },
   {
    "duration": 6,
    "start_time": "2021-10-17T09:35:34.635Z"
   },
   {
    "duration": 5,
    "start_time": "2021-10-17T09:35:34.643Z"
   },
   {
    "duration": 5,
    "start_time": "2021-10-17T09:35:34.649Z"
   },
   {
    "duration": 36,
    "start_time": "2021-10-17T09:35:34.656Z"
   },
   {
    "duration": 10,
    "start_time": "2021-10-17T09:35:34.694Z"
   },
   {
    "duration": 12,
    "start_time": "2021-10-17T09:35:34.705Z"
   },
   {
    "duration": 13,
    "start_time": "2021-10-17T09:35:34.718Z"
   },
   {
    "duration": 15,
    "start_time": "2021-10-17T09:35:34.732Z"
   },
   {
    "duration": 43,
    "start_time": "2021-10-17T09:35:34.748Z"
   },
   {
    "duration": 9,
    "start_time": "2021-10-17T09:35:34.792Z"
   },
   {
    "duration": 11,
    "start_time": "2021-10-17T09:35:34.802Z"
   },
   {
    "duration": 12,
    "start_time": "2021-10-17T09:35:34.815Z"
   },
   {
    "duration": 8,
    "start_time": "2021-10-17T09:35:34.828Z"
   },
   {
    "duration": 11,
    "start_time": "2021-10-17T09:35:34.837Z"
   },
   {
    "duration": 4,
    "start_time": "2021-10-17T09:35:34.850Z"
   },
   {
    "duration": 3285,
    "start_time": "2021-10-17T09:35:34.857Z"
   },
   {
    "duration": 6,
    "start_time": "2021-10-17T11:50:37.493Z"
   },
   {
    "duration": 21,
    "start_time": "2021-10-17T12:06:53.357Z"
   },
   {
    "duration": 21,
    "start_time": "2021-10-17T12:13:25.333Z"
   },
   {
    "duration": 2560,
    "start_time": "2021-10-17T12:41:30.444Z"
   },
   {
    "duration": 2758,
    "start_time": "2021-10-17T12:41:42.357Z"
   },
   {
    "duration": 2589,
    "start_time": "2021-10-17T12:42:33.461Z"
   },
   {
    "duration": 13,
    "start_time": "2021-10-17T12:43:30.185Z"
   },
   {
    "duration": 15,
    "start_time": "2021-10-17T12:51:39.121Z"
   },
   {
    "duration": 6,
    "start_time": "2021-10-17T12:52:16.995Z"
   },
   {
    "duration": 6,
    "start_time": "2021-10-17T12:54:28.009Z"
   },
   {
    "duration": 9,
    "start_time": "2021-10-17T13:01:14.076Z"
   },
   {
    "duration": 13,
    "start_time": "2021-10-17T13:02:42.022Z"
   },
   {
    "duration": 11,
    "start_time": "2021-10-17T13:03:03.568Z"
   },
   {
    "duration": 14,
    "start_time": "2021-10-17T13:10:38.585Z"
   },
   {
    "duration": 12,
    "start_time": "2021-10-17T13:12:18.199Z"
   },
   {
    "duration": 12,
    "start_time": "2021-10-17T13:13:21.191Z"
   },
   {
    "duration": 12,
    "start_time": "2021-10-17T13:13:37.323Z"
   },
   {
    "duration": 12,
    "start_time": "2021-10-17T13:13:50.420Z"
   },
   {
    "duration": 11,
    "start_time": "2021-10-17T13:13:58.571Z"
   },
   {
    "duration": 12,
    "start_time": "2021-10-17T13:15:31.571Z"
   },
   {
    "duration": 18,
    "start_time": "2021-10-17T13:16:34.271Z"
   },
   {
    "duration": 11,
    "start_time": "2021-10-17T13:16:42.663Z"
   },
   {
    "duration": 13,
    "start_time": "2021-10-17T13:18:07.764Z"
   },
   {
    "duration": 13,
    "start_time": "2021-10-17T13:42:33.589Z"
   },
   {
    "duration": 11,
    "start_time": "2021-10-17T13:43:53.632Z"
   },
   {
    "duration": 13,
    "start_time": "2021-10-17T13:44:31.192Z"
   },
   {
    "duration": 8,
    "start_time": "2021-10-17T13:44:52.981Z"
   },
   {
    "duration": 12,
    "start_time": "2021-10-17T13:45:01.612Z"
   },
   {
    "duration": 12,
    "start_time": "2021-10-17T13:47:17.348Z"
   },
   {
    "duration": 18,
    "start_time": "2021-10-17T13:52:55.457Z"
   },
   {
    "duration": 227,
    "start_time": "2021-10-17T13:53:09.591Z"
   },
   {
    "duration": 645,
    "start_time": "2021-10-17T13:54:01.386Z"
   },
   {
    "duration": 13,
    "start_time": "2021-10-17T13:54:02.033Z"
   },
   {
    "duration": 5,
    "start_time": "2021-10-17T13:54:02.049Z"
   },
   {
    "duration": 16,
    "start_time": "2021-10-17T13:54:02.056Z"
   },
   {
    "duration": 15,
    "start_time": "2021-10-17T13:54:02.073Z"
   },
   {
    "duration": 9,
    "start_time": "2021-10-17T13:54:02.092Z"
   },
   {
    "duration": 8,
    "start_time": "2021-10-17T13:54:02.103Z"
   },
   {
    "duration": 7,
    "start_time": "2021-10-17T13:54:02.113Z"
   },
   {
    "duration": 6,
    "start_time": "2021-10-17T13:54:02.122Z"
   },
   {
    "duration": 8,
    "start_time": "2021-10-17T13:54:02.130Z"
   },
   {
    "duration": 8,
    "start_time": "2021-10-17T13:54:02.139Z"
   },
   {
    "duration": 13,
    "start_time": "2021-10-17T13:54:02.149Z"
   },
   {
    "duration": 13,
    "start_time": "2021-10-17T13:54:02.163Z"
   },
   {
    "duration": 20,
    "start_time": "2021-10-17T13:54:02.178Z"
   },
   {
    "duration": 16,
    "start_time": "2021-10-17T13:54:02.199Z"
   },
   {
    "duration": 10,
    "start_time": "2021-10-17T13:54:02.216Z"
   },
   {
    "duration": 586,
    "start_time": "2021-10-17T13:54:02.228Z"
   },
   {
    "duration": 13,
    "start_time": "2021-10-17T13:54:02.815Z"
   },
   {
    "duration": 16,
    "start_time": "2021-10-17T13:54:02.829Z"
   },
   {
    "duration": 9,
    "start_time": "2021-10-17T13:54:02.846Z"
   },
   {
    "duration": 16,
    "start_time": "2021-10-17T13:54:02.857Z"
   },
   {
    "duration": 5,
    "start_time": "2021-10-17T13:54:02.875Z"
   },
   {
    "duration": 3366,
    "start_time": "2021-10-17T13:54:02.882Z"
   },
   {
    "duration": 21,
    "start_time": "2021-10-17T13:54:06.255Z"
   },
   {
    "duration": 27,
    "start_time": "2021-10-17T13:54:06.280Z"
   },
   {
    "duration": 15,
    "start_time": "2021-10-17T13:54:06.309Z"
   },
   {
    "duration": 25,
    "start_time": "2021-10-17T13:54:06.326Z"
   },
   {
    "duration": 24,
    "start_time": "2021-10-17T13:54:06.353Z"
   },
   {
    "duration": 2842,
    "start_time": "2021-10-17T13:54:06.378Z"
   },
   {
    "duration": 8,
    "start_time": "2021-10-17T13:54:09.222Z"
   },
   {
    "duration": 12,
    "start_time": "2021-10-17T13:54:09.232Z"
   },
   {
    "duration": 233,
    "start_time": "2021-10-17T13:54:09.246Z"
   },
   {
    "duration": 55,
    "start_time": "2021-10-17T13:54:09.426Z"
   },
   {
    "duration": 48,
    "start_time": "2021-10-17T13:54:09.433Z"
   },
   {
    "duration": 12,
    "start_time": "2021-10-17T13:56:32.031Z"
   },
   {
    "duration": 16,
    "start_time": "2021-10-17T13:59:33.601Z"
   },
   {
    "duration": 378,
    "start_time": "2021-10-18T07:19:46.499Z"
   },
   {
    "duration": 622,
    "start_time": "2021-10-18T07:20:10.626Z"
   },
   {
    "duration": 13,
    "start_time": "2021-10-18T07:20:11.250Z"
   },
   {
    "duration": 5,
    "start_time": "2021-10-18T07:20:11.266Z"
   },
   {
    "duration": 7,
    "start_time": "2021-10-18T07:20:11.273Z"
   },
   {
    "duration": 15,
    "start_time": "2021-10-18T07:20:11.282Z"
   },
   {
    "duration": 4,
    "start_time": "2021-10-18T07:20:11.299Z"
   },
   {
    "duration": 13,
    "start_time": "2021-10-18T07:20:11.305Z"
   },
   {
    "duration": 5,
    "start_time": "2021-10-18T07:20:11.320Z"
   },
   {
    "duration": 4,
    "start_time": "2021-10-18T07:20:11.327Z"
   },
   {
    "duration": 4,
    "start_time": "2021-10-18T07:20:11.333Z"
   },
   {
    "duration": 43,
    "start_time": "2021-10-18T07:20:11.339Z"
   },
   {
    "duration": 17,
    "start_time": "2021-10-18T07:20:11.383Z"
   },
   {
    "duration": 13,
    "start_time": "2021-10-18T07:20:11.402Z"
   },
   {
    "duration": 14,
    "start_time": "2021-10-18T07:20:11.417Z"
   },
   {
    "duration": 16,
    "start_time": "2021-10-18T07:20:11.433Z"
   },
   {
    "duration": 10,
    "start_time": "2021-10-18T07:20:11.476Z"
   },
   {
    "duration": 8,
    "start_time": "2021-10-18T07:20:11.488Z"
   },
   {
    "duration": 11,
    "start_time": "2021-10-18T07:20:11.498Z"
   },
   {
    "duration": 12,
    "start_time": "2021-10-18T07:20:11.510Z"
   },
   {
    "duration": 8,
    "start_time": "2021-10-18T07:20:11.523Z"
   },
   {
    "duration": 7,
    "start_time": "2021-10-18T07:20:11.532Z"
   },
   {
    "duration": 35,
    "start_time": "2021-10-18T07:20:11.541Z"
   },
   {
    "duration": 3349,
    "start_time": "2021-10-18T07:20:11.578Z"
   },
   {
    "duration": 14,
    "start_time": "2021-10-18T07:20:14.929Z"
   },
   {
    "duration": 34,
    "start_time": "2021-10-18T07:20:14.945Z"
   },
   {
    "duration": 13,
    "start_time": "2021-10-18T07:20:14.981Z"
   },
   {
    "duration": 25,
    "start_time": "2021-10-18T07:20:14.997Z"
   },
   {
    "duration": 15,
    "start_time": "2021-10-18T07:20:15.024Z"
   },
   {
    "duration": 35,
    "start_time": "2021-10-18T07:20:15.041Z"
   },
   {
    "duration": 2667,
    "start_time": "2021-10-18T07:20:15.078Z"
   },
   {
    "duration": 7,
    "start_time": "2021-10-18T07:20:17.748Z"
   },
   {
    "duration": 35,
    "start_time": "2021-10-18T07:20:17.757Z"
   },
   {
    "duration": 14,
    "start_time": "2021-10-18T07:20:17.794Z"
   },
   {
    "duration": 11,
    "start_time": "2021-10-18T07:20:17.810Z"
   },
   {
    "duration": 12,
    "start_time": "2021-10-18T07:20:17.823Z"
   },
   {
    "duration": 56,
    "start_time": "2021-10-18T07:20:21.759Z"
   },
   {
    "duration": 8,
    "start_time": "2021-10-18T07:20:21.817Z"
   },
   {
    "duration": 6,
    "start_time": "2021-10-18T07:20:21.827Z"
   },
   {
    "duration": 6,
    "start_time": "2021-10-18T07:20:21.835Z"
   },
   {
    "duration": 36,
    "start_time": "2021-10-18T07:20:21.843Z"
   },
   {
    "duration": 5,
    "start_time": "2021-10-18T07:20:21.880Z"
   },
   {
    "duration": 21,
    "start_time": "2021-10-18T07:20:21.886Z"
   },
   {
    "duration": 6,
    "start_time": "2021-10-18T07:20:21.910Z"
   },
   {
    "duration": 8,
    "start_time": "2021-10-18T07:20:21.918Z"
   },
   {
    "duration": 18,
    "start_time": "2021-10-18T07:20:21.928Z"
   },
   {
    "duration": 60,
    "start_time": "2021-10-18T07:20:21.948Z"
   },
   {
    "duration": 41,
    "start_time": "2021-10-18T07:20:22.010Z"
   },
   {
    "duration": 14,
    "start_time": "2021-10-18T07:20:22.053Z"
   },
   {
    "duration": 13,
    "start_time": "2021-10-18T07:20:22.069Z"
   },
   {
    "duration": 16,
    "start_time": "2021-10-18T07:20:22.084Z"
   },
   {
    "duration": 9,
    "start_time": "2021-10-18T07:20:22.102Z"
   },
   {
    "duration": 30,
    "start_time": "2021-10-18T07:20:22.113Z"
   },
   {
    "duration": 11,
    "start_time": "2021-10-18T07:20:22.145Z"
   },
   {
    "duration": 21,
    "start_time": "2021-10-18T07:20:22.158Z"
   },
   {
    "duration": 60,
    "start_time": "2021-10-18T07:20:22.181Z"
   },
   {
    "duration": 9,
    "start_time": "2021-10-18T07:20:22.243Z"
   },
   {
    "duration": 29,
    "start_time": "2021-10-18T07:20:22.253Z"
   },
   {
    "duration": 3326,
    "start_time": "2021-10-18T07:20:22.285Z"
   },
   {
    "duration": 13,
    "start_time": "2021-10-18T07:20:25.613Z"
   },
   {
    "duration": 11,
    "start_time": "2021-10-18T07:20:25.628Z"
   },
   {
    "duration": 10,
    "start_time": "2021-10-18T07:20:25.640Z"
   },
   {
    "duration": 40,
    "start_time": "2021-10-18T07:20:25.651Z"
   },
   {
    "duration": 14,
    "start_time": "2021-10-18T07:20:25.692Z"
   },
   {
    "duration": 15,
    "start_time": "2021-10-18T07:20:25.707Z"
   },
   {
    "duration": 2864,
    "start_time": "2021-10-18T07:20:25.723Z"
   },
   {
    "duration": 7,
    "start_time": "2021-10-18T07:20:28.588Z"
   },
   {
    "duration": 12,
    "start_time": "2021-10-18T07:20:28.596Z"
   },
   {
    "duration": 12,
    "start_time": "2021-10-18T07:20:28.610Z"
   },
   {
    "duration": 10,
    "start_time": "2021-10-18T07:20:28.623Z"
   },
   {
    "duration": 9,
    "start_time": "2021-10-18T07:20:28.635Z"
   },
   {
    "duration": 10184,
    "start_time": "2021-10-18T07:30:17.010Z"
   },
   {
    "duration": 657,
    "start_time": "2021-10-18T07:30:46.264Z"
   },
   {
    "duration": 12,
    "start_time": "2021-10-18T07:30:46.923Z"
   },
   {
    "duration": 6,
    "start_time": "2021-10-18T07:30:46.937Z"
   },
   {
    "duration": 5,
    "start_time": "2021-10-18T07:30:46.945Z"
   },
   {
    "duration": 32,
    "start_time": "2021-10-18T07:30:46.952Z"
   },
   {
    "duration": 4,
    "start_time": "2021-10-18T07:30:46.986Z"
   },
   {
    "duration": 17,
    "start_time": "2021-10-18T07:30:46.991Z"
   },
   {
    "duration": 5,
    "start_time": "2021-10-18T07:30:47.010Z"
   },
   {
    "duration": 5,
    "start_time": "2021-10-18T07:30:47.017Z"
   },
   {
    "duration": 6,
    "start_time": "2021-10-18T07:30:47.023Z"
   },
   {
    "duration": 10,
    "start_time": "2021-10-18T07:30:47.031Z"
   },
   {
    "duration": 42,
    "start_time": "2021-10-18T07:30:47.042Z"
   },
   {
    "duration": 13,
    "start_time": "2021-10-18T07:30:47.085Z"
   },
   {
    "duration": 15,
    "start_time": "2021-10-18T07:30:47.100Z"
   },
   {
    "duration": 17,
    "start_time": "2021-10-18T07:30:47.117Z"
   },
   {
    "duration": 11,
    "start_time": "2021-10-18T07:30:47.135Z"
   },
   {
    "duration": 11,
    "start_time": "2021-10-18T07:30:47.176Z"
   },
   {
    "duration": 13,
    "start_time": "2021-10-18T07:30:47.189Z"
   },
   {
    "duration": 12,
    "start_time": "2021-10-18T07:30:47.204Z"
   },
   {
    "duration": 10,
    "start_time": "2021-10-18T07:30:47.218Z"
   },
   {
    "duration": 8,
    "start_time": "2021-10-18T07:30:47.230Z"
   },
   {
    "duration": 11,
    "start_time": "2021-10-18T07:30:47.240Z"
   },
   {
    "duration": 3340,
    "start_time": "2021-10-18T07:30:47.277Z"
   },
   {
    "duration": 12,
    "start_time": "2021-10-18T07:30:50.619Z"
   },
   {
    "duration": 10,
    "start_time": "2021-10-18T07:30:50.633Z"
   },
   {
    "duration": 32,
    "start_time": "2021-10-18T07:30:50.645Z"
   },
   {
    "duration": 17,
    "start_time": "2021-10-18T07:30:50.679Z"
   },
   {
    "duration": 10,
    "start_time": "2021-10-18T07:30:50.698Z"
   },
   {
    "duration": 15,
    "start_time": "2021-10-18T07:30:50.709Z"
   },
   {
    "duration": 2912,
    "start_time": "2021-10-18T07:30:50.726Z"
   },
   {
    "duration": 7,
    "start_time": "2021-10-18T07:30:53.640Z"
   },
   {
    "duration": 31,
    "start_time": "2021-10-18T07:30:53.648Z"
   },
   {
    "duration": 13,
    "start_time": "2021-10-18T07:30:53.681Z"
   },
   {
    "duration": 10,
    "start_time": "2021-10-18T07:30:53.695Z"
   },
   {
    "duration": 10,
    "start_time": "2021-10-18T07:30:53.706Z"
   },
   {
    "duration": 4,
    "start_time": "2021-10-18T07:33:15.196Z"
   },
   {
    "duration": 9659,
    "start_time": "2021-10-18T07:33:41.492Z"
   },
   {
    "duration": 646,
    "start_time": "2021-10-18T07:34:01.197Z"
   },
   {
    "duration": 14,
    "start_time": "2021-10-18T07:34:01.845Z"
   },
   {
    "duration": 12,
    "start_time": "2021-10-18T07:34:01.861Z"
   },
   {
    "duration": 16,
    "start_time": "2021-10-18T07:34:01.874Z"
   },
   {
    "duration": 27,
    "start_time": "2021-10-18T07:34:01.892Z"
   },
   {
    "duration": 7,
    "start_time": "2021-10-18T07:34:01.921Z"
   },
   {
    "duration": 32,
    "start_time": "2021-10-18T07:34:01.929Z"
   },
   {
    "duration": 12,
    "start_time": "2021-10-18T07:34:01.963Z"
   },
   {
    "duration": 29,
    "start_time": "2021-10-18T07:34:01.977Z"
   },
   {
    "duration": 8,
    "start_time": "2021-10-18T07:34:02.008Z"
   },
   {
    "duration": 31,
    "start_time": "2021-10-18T07:34:02.018Z"
   },
   {
    "duration": 17,
    "start_time": "2021-10-18T07:34:02.050Z"
   },
   {
    "duration": 12,
    "start_time": "2021-10-18T07:34:02.069Z"
   },
   {
    "duration": 30,
    "start_time": "2021-10-18T07:34:02.082Z"
   },
   {
    "duration": 22,
    "start_time": "2021-10-18T07:34:02.113Z"
   },
   {
    "duration": 10,
    "start_time": "2021-10-18T07:34:02.137Z"
   },
   {
    "duration": 15,
    "start_time": "2021-10-18T07:34:02.148Z"
   },
   {
    "duration": 41,
    "start_time": "2021-10-18T07:34:02.165Z"
   },
   {
    "duration": 16,
    "start_time": "2021-10-18T07:34:02.207Z"
   },
   {
    "duration": 14,
    "start_time": "2021-10-18T07:34:02.225Z"
   },
   {
    "duration": 21,
    "start_time": "2021-10-18T07:34:02.240Z"
   },
   {
    "duration": 7,
    "start_time": "2021-10-18T07:34:02.263Z"
   },
   {
    "duration": 16,
    "start_time": "2021-10-18T07:34:02.272Z"
   },
   {
    "duration": 3449,
    "start_time": "2021-10-18T07:34:02.289Z"
   },
   {
    "duration": 12,
    "start_time": "2021-10-18T07:34:05.740Z"
   },
   {
    "duration": 26,
    "start_time": "2021-10-18T07:34:05.754Z"
   },
   {
    "duration": 12,
    "start_time": "2021-10-18T07:34:05.783Z"
   },
   {
    "duration": 23,
    "start_time": "2021-10-18T07:34:05.797Z"
   },
   {
    "duration": 10,
    "start_time": "2021-10-18T07:34:05.821Z"
   },
   {
    "duration": 32,
    "start_time": "2021-10-18T07:34:05.833Z"
   },
   {
    "duration": 2645,
    "start_time": "2021-10-18T07:34:05.867Z"
   },
   {
    "duration": 6,
    "start_time": "2021-10-18T07:34:08.514Z"
   },
   {
    "duration": 26,
    "start_time": "2021-10-18T07:34:08.522Z"
   },
   {
    "duration": 12,
    "start_time": "2021-10-18T07:34:08.549Z"
   },
   {
    "duration": 18,
    "start_time": "2021-10-18T07:34:08.563Z"
   },
   {
    "duration": 10,
    "start_time": "2021-10-18T07:34:08.582Z"
   },
   {
    "duration": 10079,
    "start_time": "2021-10-18T07:36:50.631Z"
   },
   {
    "duration": 647,
    "start_time": "2021-10-18T07:37:05.738Z"
   },
   {
    "duration": 13,
    "start_time": "2021-10-18T07:37:06.387Z"
   },
   {
    "duration": 6,
    "start_time": "2021-10-18T07:37:06.403Z"
   },
   {
    "duration": 9,
    "start_time": "2021-10-18T07:37:06.410Z"
   },
   {
    "duration": 17,
    "start_time": "2021-10-18T07:37:06.421Z"
   },
   {
    "duration": 4,
    "start_time": "2021-10-18T07:37:06.440Z"
   },
   {
    "duration": 41,
    "start_time": "2021-10-18T07:37:06.445Z"
   },
   {
    "duration": 6,
    "start_time": "2021-10-18T07:37:06.487Z"
   },
   {
    "duration": 5,
    "start_time": "2021-10-18T07:37:06.495Z"
   },
   {
    "duration": 4,
    "start_time": "2021-10-18T07:37:06.502Z"
   },
   {
    "duration": 6,
    "start_time": "2021-10-18T07:37:06.508Z"
   },
   {
    "duration": 11,
    "start_time": "2021-10-18T07:37:06.515Z"
   },
   {
    "duration": 12,
    "start_time": "2021-10-18T07:37:06.528Z"
   },
   {
    "duration": 48,
    "start_time": "2021-10-18T07:37:06.541Z"
   },
   {
    "duration": 16,
    "start_time": "2021-10-18T07:37:06.591Z"
   },
   {
    "duration": 9,
    "start_time": "2021-10-18T07:37:06.609Z"
   },
   {
    "duration": 9,
    "start_time": "2021-10-18T07:37:06.620Z"
   },
   {
    "duration": 11,
    "start_time": "2021-10-18T07:37:06.631Z"
   },
   {
    "duration": 11,
    "start_time": "2021-10-18T07:37:06.676Z"
   },
   {
    "duration": 6,
    "start_time": "2021-10-18T07:37:06.689Z"
   },
   {
    "duration": 10,
    "start_time": "2021-10-18T07:37:06.697Z"
   },
   {
    "duration": 6,
    "start_time": "2021-10-18T07:37:06.708Z"
   },
   {
    "duration": 18,
    "start_time": "2021-10-18T07:37:06.716Z"
   },
   {
    "duration": 3317,
    "start_time": "2021-10-18T07:37:06.736Z"
   },
   {
    "duration": 26,
    "start_time": "2021-10-18T07:37:10.055Z"
   },
   {
    "duration": 12,
    "start_time": "2021-10-18T07:37:10.082Z"
   },
   {
    "duration": 13,
    "start_time": "2021-10-18T07:37:10.097Z"
   },
   {
    "duration": 18,
    "start_time": "2021-10-18T07:37:10.112Z"
   },
   {
    "duration": 10,
    "start_time": "2021-10-18T07:37:10.132Z"
   },
   {
    "duration": 47,
    "start_time": "2021-10-18T07:37:10.144Z"
   },
   {
    "duration": 2840,
    "start_time": "2021-10-18T07:37:10.193Z"
   },
   {
    "duration": 7,
    "start_time": "2021-10-18T07:37:13.034Z"
   },
   {
    "duration": 14,
    "start_time": "2021-10-18T07:37:13.043Z"
   },
   {
    "duration": 29,
    "start_time": "2021-10-18T07:37:13.059Z"
   },
   {
    "duration": 10,
    "start_time": "2021-10-18T07:37:13.089Z"
   },
   {
    "duration": 10,
    "start_time": "2021-10-18T07:37:13.100Z"
   },
   {
    "duration": 630,
    "start_time": "2021-10-18T07:46:34.521Z"
   },
   {
    "duration": 15,
    "start_time": "2021-10-18T07:46:35.153Z"
   },
   {
    "duration": 6,
    "start_time": "2021-10-18T07:46:35.173Z"
   },
   {
    "duration": 9,
    "start_time": "2021-10-18T07:46:35.181Z"
   },
   {
    "duration": 17,
    "start_time": "2021-10-18T07:46:35.191Z"
   },
   {
    "duration": 5,
    "start_time": "2021-10-18T07:46:35.210Z"
   },
   {
    "duration": 16,
    "start_time": "2021-10-18T07:46:35.217Z"
   },
   {
    "duration": 5,
    "start_time": "2021-10-18T07:46:35.236Z"
   },
   {
    "duration": 4,
    "start_time": "2021-10-18T07:46:35.278Z"
   },
   {
    "duration": 4,
    "start_time": "2021-10-18T07:46:35.284Z"
   },
   {
    "duration": 6,
    "start_time": "2021-10-18T07:46:35.290Z"
   },
   {
    "duration": 10,
    "start_time": "2021-10-18T07:46:35.297Z"
   },
   {
    "duration": 12,
    "start_time": "2021-10-18T07:46:35.308Z"
   },
   {
    "duration": 13,
    "start_time": "2021-10-18T07:46:35.322Z"
   },
   {
    "duration": 16,
    "start_time": "2021-10-18T07:46:35.376Z"
   },
   {
    "duration": 9,
    "start_time": "2021-10-18T07:46:35.394Z"
   },
   {
    "duration": 9,
    "start_time": "2021-10-18T07:46:35.405Z"
   },
   {
    "duration": 14,
    "start_time": "2021-10-18T07:46:35.415Z"
   },
   {
    "duration": 13,
    "start_time": "2021-10-18T07:46:35.431Z"
   },
   {
    "duration": 33,
    "start_time": "2021-10-18T07:46:35.445Z"
   },
   {
    "duration": 7,
    "start_time": "2021-10-18T07:46:35.480Z"
   },
   {
    "duration": 7,
    "start_time": "2021-10-18T07:46:35.488Z"
   },
   {
    "duration": 6,
    "start_time": "2021-10-18T07:46:35.496Z"
   },
   {
    "duration": 4,
    "start_time": "2021-10-18T07:46:35.504Z"
   },
   {
    "duration": 3435,
    "start_time": "2021-10-18T07:46:35.509Z"
   },
   {
    "duration": 13,
    "start_time": "2021-10-18T07:46:38.948Z"
   },
   {
    "duration": 25,
    "start_time": "2021-10-18T07:46:38.962Z"
   },
   {
    "duration": 10,
    "start_time": "2021-10-18T07:46:38.988Z"
   },
   {
    "duration": 18,
    "start_time": "2021-10-18T07:46:39.000Z"
   },
   {
    "duration": 9,
    "start_time": "2021-10-18T07:46:39.020Z"
   },
   {
    "duration": 16,
    "start_time": "2021-10-18T07:46:39.030Z"
   },
   {
    "duration": 2707,
    "start_time": "2021-10-18T07:46:39.076Z"
   },
   {
    "duration": 7,
    "start_time": "2021-10-18T07:46:41.785Z"
   },
   {
    "duration": 24,
    "start_time": "2021-10-18T07:46:41.794Z"
   },
   {
    "duration": 13,
    "start_time": "2021-10-18T07:46:41.819Z"
   },
   {
    "duration": 10,
    "start_time": "2021-10-18T07:46:41.833Z"
   },
   {
    "duration": 33,
    "start_time": "2021-10-18T07:46:41.844Z"
   },
   {
    "duration": 735,
    "start_time": "2021-10-18T08:01:26.605Z"
   },
   {
    "duration": 13,
    "start_time": "2021-10-18T08:01:27.342Z"
   },
   {
    "duration": 8,
    "start_time": "2021-10-18T08:01:27.357Z"
   },
   {
    "duration": 17,
    "start_time": "2021-10-18T08:01:27.367Z"
   },
   {
    "duration": 23,
    "start_time": "2021-10-18T08:01:27.386Z"
   },
   {
    "duration": 4,
    "start_time": "2021-10-18T08:01:27.411Z"
   },
   {
    "duration": 25,
    "start_time": "2021-10-18T08:01:27.417Z"
   },
   {
    "duration": 5,
    "start_time": "2021-10-18T08:01:27.444Z"
   },
   {
    "duration": 9,
    "start_time": "2021-10-18T08:01:27.451Z"
   },
   {
    "duration": 15,
    "start_time": "2021-10-18T08:01:27.462Z"
   },
   {
    "duration": 12,
    "start_time": "2021-10-18T08:01:27.479Z"
   },
   {
    "duration": 15,
    "start_time": "2021-10-18T08:01:27.492Z"
   },
   {
    "duration": 15,
    "start_time": "2021-10-18T08:01:27.509Z"
   },
   {
    "duration": 14,
    "start_time": "2021-10-18T08:01:27.525Z"
   },
   {
    "duration": 17,
    "start_time": "2021-10-18T08:01:27.540Z"
   },
   {
    "duration": 9,
    "start_time": "2021-10-18T08:01:27.577Z"
   },
   {
    "duration": 14,
    "start_time": "2021-10-18T08:01:27.588Z"
   },
   {
    "duration": 16,
    "start_time": "2021-10-18T08:01:27.603Z"
   },
   {
    "duration": 22,
    "start_time": "2021-10-18T08:01:27.620Z"
   },
   {
    "duration": 12,
    "start_time": "2021-10-18T08:01:27.643Z"
   },
   {
    "duration": 10,
    "start_time": "2021-10-18T08:01:27.656Z"
   },
   {
    "duration": 11,
    "start_time": "2021-10-18T08:01:27.668Z"
   },
   {
    "duration": 9,
    "start_time": "2021-10-18T08:01:27.680Z"
   },
   {
    "duration": 13,
    "start_time": "2021-10-18T08:01:27.691Z"
   },
   {
    "duration": 5,
    "start_time": "2021-10-18T08:01:27.706Z"
   },
   {
    "duration": 3367,
    "start_time": "2021-10-18T08:01:27.712Z"
   },
   {
    "duration": 14,
    "start_time": "2021-10-18T08:01:31.082Z"
   },
   {
    "duration": 13,
    "start_time": "2021-10-18T08:01:31.097Z"
   },
   {
    "duration": 14,
    "start_time": "2021-10-18T08:01:31.112Z"
   },
   {
    "duration": 26,
    "start_time": "2021-10-18T08:01:31.128Z"
   },
   {
    "duration": 31,
    "start_time": "2021-10-18T08:01:31.155Z"
   },
   {
    "duration": 16,
    "start_time": "2021-10-18T08:01:31.187Z"
   },
   {
    "duration": 2860,
    "start_time": "2021-10-18T08:01:31.205Z"
   },
   {
    "duration": 17,
    "start_time": "2021-10-18T08:01:34.067Z"
   },
   {
    "duration": 26,
    "start_time": "2021-10-18T08:01:34.085Z"
   },
   {
    "duration": 13,
    "start_time": "2021-10-18T08:01:34.112Z"
   },
   {
    "duration": 11,
    "start_time": "2021-10-18T08:01:34.127Z"
   },
   {
    "duration": 15,
    "start_time": "2021-10-18T08:01:34.140Z"
   },
   {
    "duration": 794,
    "start_time": "2021-10-18T08:02:28.059Z"
   },
   {
    "duration": 14,
    "start_time": "2021-10-18T08:02:28.855Z"
   },
   {
    "duration": 6,
    "start_time": "2021-10-18T08:02:28.871Z"
   },
   {
    "duration": 5,
    "start_time": "2021-10-18T08:02:28.878Z"
   },
   {
    "duration": 16,
    "start_time": "2021-10-18T08:02:28.885Z"
   },
   {
    "duration": 23,
    "start_time": "2021-10-18T08:02:28.903Z"
   },
   {
    "duration": 20,
    "start_time": "2021-10-18T08:02:28.928Z"
   },
   {
    "duration": 6,
    "start_time": "2021-10-18T08:02:28.949Z"
   },
   {
    "duration": 20,
    "start_time": "2021-10-18T08:02:28.958Z"
   },
   {
    "duration": 16,
    "start_time": "2021-10-18T08:02:28.981Z"
   },
   {
    "duration": 14,
    "start_time": "2021-10-18T08:02:28.999Z"
   },
   {
    "duration": 11,
    "start_time": "2021-10-18T08:02:29.015Z"
   },
   {
    "duration": 21,
    "start_time": "2021-10-18T08:02:29.027Z"
   },
   {
    "duration": 19,
    "start_time": "2021-10-18T08:02:29.049Z"
   },
   {
    "duration": 16,
    "start_time": "2021-10-18T08:02:29.069Z"
   },
   {
    "duration": 9,
    "start_time": "2021-10-18T08:02:29.087Z"
   },
   {
    "duration": 12,
    "start_time": "2021-10-18T08:02:29.098Z"
   },
   {
    "duration": 17,
    "start_time": "2021-10-18T08:02:29.112Z"
   },
   {
    "duration": 19,
    "start_time": "2021-10-18T08:02:29.131Z"
   },
   {
    "duration": 12,
    "start_time": "2021-10-18T08:02:29.152Z"
   },
   {
    "duration": 14,
    "start_time": "2021-10-18T08:02:29.166Z"
   },
   {
    "duration": 9,
    "start_time": "2021-10-18T08:02:29.181Z"
   },
   {
    "duration": 17,
    "start_time": "2021-10-18T08:02:29.192Z"
   },
   {
    "duration": 5,
    "start_time": "2021-10-18T08:02:29.211Z"
   },
   {
    "duration": 7,
    "start_time": "2021-10-18T08:02:29.218Z"
   },
   {
    "duration": 3239,
    "start_time": "2021-10-18T08:02:29.227Z"
   },
   {
    "duration": 14,
    "start_time": "2021-10-18T08:02:32.477Z"
   },
   {
    "duration": 12,
    "start_time": "2021-10-18T08:02:32.492Z"
   },
   {
    "duration": 11,
    "start_time": "2021-10-18T08:02:32.506Z"
   },
   {
    "duration": 19,
    "start_time": "2021-10-18T08:02:32.519Z"
   },
   {
    "duration": 43,
    "start_time": "2021-10-18T08:02:32.540Z"
   },
   {
    "duration": 15,
    "start_time": "2021-10-18T08:02:32.584Z"
   },
   {
    "duration": 2912,
    "start_time": "2021-10-18T08:02:32.601Z"
   },
   {
    "duration": 8,
    "start_time": "2021-10-18T08:02:35.514Z"
   },
   {
    "duration": 16,
    "start_time": "2021-10-18T08:02:35.523Z"
   },
   {
    "duration": 13,
    "start_time": "2021-10-18T08:02:35.540Z"
   },
   {
    "duration": 31,
    "start_time": "2021-10-18T08:02:35.555Z"
   },
   {
    "duration": 10,
    "start_time": "2021-10-18T08:02:35.588Z"
   },
   {
    "duration": 653,
    "start_time": "2021-10-18T08:45:05.692Z"
   },
   {
    "duration": 14,
    "start_time": "2021-10-18T08:45:06.347Z"
   },
   {
    "duration": 6,
    "start_time": "2021-10-18T08:45:06.363Z"
   },
   {
    "duration": 9,
    "start_time": "2021-10-18T08:45:06.371Z"
   },
   {
    "duration": 17,
    "start_time": "2021-10-18T08:45:06.381Z"
   },
   {
    "duration": 4,
    "start_time": "2021-10-18T08:45:06.399Z"
   },
   {
    "duration": 18,
    "start_time": "2021-10-18T08:45:06.404Z"
   },
   {
    "duration": 5,
    "start_time": "2021-10-18T08:45:06.423Z"
   },
   {
    "duration": 4,
    "start_time": "2021-10-18T08:45:06.430Z"
   },
   {
    "duration": 4,
    "start_time": "2021-10-18T08:45:06.436Z"
   },
   {
    "duration": 36,
    "start_time": "2021-10-18T08:45:06.442Z"
   },
   {
    "duration": 10,
    "start_time": "2021-10-18T08:45:06.479Z"
   },
   {
    "duration": 12,
    "start_time": "2021-10-18T08:45:06.490Z"
   },
   {
    "duration": 14,
    "start_time": "2021-10-18T08:45:06.504Z"
   },
   {
    "duration": 16,
    "start_time": "2021-10-18T08:45:06.519Z"
   },
   {
    "duration": 10,
    "start_time": "2021-10-18T08:45:06.536Z"
   },
   {
    "duration": 9,
    "start_time": "2021-10-18T08:45:06.576Z"
   },
   {
    "duration": 11,
    "start_time": "2021-10-18T08:45:06.587Z"
   },
   {
    "duration": 12,
    "start_time": "2021-10-18T08:45:06.599Z"
   },
   {
    "duration": 8,
    "start_time": "2021-10-18T08:45:06.612Z"
   },
   {
    "duration": 7,
    "start_time": "2021-10-18T08:45:06.622Z"
   },
   {
    "duration": 5,
    "start_time": "2021-10-18T08:45:06.631Z"
   },
   {
    "duration": 4,
    "start_time": "2021-10-18T08:45:06.637Z"
   },
   {
    "duration": 38,
    "start_time": "2021-10-18T08:45:06.643Z"
   },
   {
    "duration": 125,
    "start_time": "2021-10-18T08:45:06.682Z"
   },
   {
    "duration": -141786,
    "start_time": "2021-10-18T08:47:28.595Z"
   },
   {
    "duration": -141787,
    "start_time": "2021-10-18T08:47:28.597Z"
   },
   {
    "duration": -141790,
    "start_time": "2021-10-18T08:47:28.601Z"
   },
   {
    "duration": -141791,
    "start_time": "2021-10-18T08:47:28.602Z"
   },
   {
    "duration": -141793,
    "start_time": "2021-10-18T08:47:28.605Z"
   },
   {
    "duration": -141794,
    "start_time": "2021-10-18T08:47:28.607Z"
   },
   {
    "duration": -141798,
    "start_time": "2021-10-18T08:47:28.612Z"
   },
   {
    "duration": -141798,
    "start_time": "2021-10-18T08:47:28.613Z"
   },
   {
    "duration": -141799,
    "start_time": "2021-10-18T08:47:28.615Z"
   },
   {
    "duration": -141799,
    "start_time": "2021-10-18T08:47:28.616Z"
   },
   {
    "duration": -141800,
    "start_time": "2021-10-18T08:47:28.618Z"
   },
   {
    "duration": -141800,
    "start_time": "2021-10-18T08:47:28.619Z"
   },
   {
    "duration": -141801,
    "start_time": "2021-10-18T08:47:28.621Z"
   },
   {
    "duration": -141801,
    "start_time": "2021-10-18T08:47:28.622Z"
   },
   {
    "duration": 603,
    "start_time": "2021-10-18T08:45:48.030Z"
   },
   {
    "duration": 14,
    "start_time": "2021-10-18T08:45:48.635Z"
   },
   {
    "duration": 6,
    "start_time": "2021-10-18T08:45:48.651Z"
   },
   {
    "duration": 6,
    "start_time": "2021-10-18T08:45:48.659Z"
   },
   {
    "duration": 23,
    "start_time": "2021-10-18T08:45:48.666Z"
   },
   {
    "duration": 4,
    "start_time": "2021-10-18T08:45:48.690Z"
   },
   {
    "duration": 16,
    "start_time": "2021-10-18T08:45:48.696Z"
   },
   {
    "duration": 5,
    "start_time": "2021-10-18T08:45:48.715Z"
   },
   {
    "duration": 14,
    "start_time": "2021-10-18T08:45:48.721Z"
   },
   {
    "duration": 6,
    "start_time": "2021-10-18T08:45:48.737Z"
   },
   {
    "duration": 6,
    "start_time": "2021-10-18T08:45:48.745Z"
   },
   {
    "duration": 32,
    "start_time": "2021-10-18T08:45:48.753Z"
   },
   {
    "duration": 13,
    "start_time": "2021-10-18T08:45:48.787Z"
   },
   {
    "duration": 14,
    "start_time": "2021-10-18T08:45:48.802Z"
   },
   {
    "duration": 16,
    "start_time": "2021-10-18T08:45:48.818Z"
   },
   {
    "duration": 40,
    "start_time": "2021-10-18T08:45:48.836Z"
   },
   {
    "duration": 9,
    "start_time": "2021-10-18T08:45:48.878Z"
   },
   {
    "duration": 12,
    "start_time": "2021-10-18T08:45:48.889Z"
   },
   {
    "duration": 11,
    "start_time": "2021-10-18T08:45:48.903Z"
   },
   {
    "duration": 8,
    "start_time": "2021-10-18T08:45:48.916Z"
   },
   {
    "duration": 8,
    "start_time": "2021-10-18T08:45:48.925Z"
   },
   {
    "duration": 4,
    "start_time": "2021-10-18T08:45:48.934Z"
   },
   {
    "duration": 37,
    "start_time": "2021-10-18T08:45:48.941Z"
   },
   {
    "duration": 8,
    "start_time": "2021-10-18T08:45:48.980Z"
   },
   {
    "duration": 119,
    "start_time": "2021-10-18T08:45:48.989Z"
   },
   {
    "duration": -141785,
    "start_time": "2021-10-18T08:48:10.895Z"
   },
   {
    "duration": -141789,
    "start_time": "2021-10-18T08:48:10.899Z"
   },
   {
    "duration": -141790,
    "start_time": "2021-10-18T08:48:10.901Z"
   },
   {
    "duration": -141792,
    "start_time": "2021-10-18T08:48:10.904Z"
   },
   {
    "duration": -141796,
    "start_time": "2021-10-18T08:48:10.909Z"
   },
   {
    "duration": -141798,
    "start_time": "2021-10-18T08:48:10.912Z"
   },
   {
    "duration": -141799,
    "start_time": "2021-10-18T08:48:10.914Z"
   },
   {
    "duration": -141800,
    "start_time": "2021-10-18T08:48:10.916Z"
   },
   {
    "duration": -141801,
    "start_time": "2021-10-18T08:48:10.918Z"
   },
   {
    "duration": -141801,
    "start_time": "2021-10-18T08:48:10.919Z"
   },
   {
    "duration": -141801,
    "start_time": "2021-10-18T08:48:10.921Z"
   },
   {
    "duration": -141803,
    "start_time": "2021-10-18T08:48:10.924Z"
   },
   {
    "duration": -141806,
    "start_time": "2021-10-18T08:48:10.928Z"
   },
   {
    "duration": -141806,
    "start_time": "2021-10-18T08:48:10.930Z"
   },
   {
    "duration": -141815,
    "start_time": "2021-10-18T08:48:10.940Z"
   },
   {
    "duration": 698,
    "start_time": "2021-10-18T08:46:45.460Z"
   },
   {
    "duration": 13,
    "start_time": "2021-10-18T08:46:46.160Z"
   },
   {
    "duration": 6,
    "start_time": "2021-10-18T08:46:46.175Z"
   },
   {
    "duration": 17,
    "start_time": "2021-10-18T08:46:46.182Z"
   },
   {
    "duration": 24,
    "start_time": "2021-10-18T08:46:46.201Z"
   },
   {
    "duration": 4,
    "start_time": "2021-10-18T08:46:46.227Z"
   },
   {
    "duration": 17,
    "start_time": "2021-10-18T08:46:46.233Z"
   },
   {
    "duration": 6,
    "start_time": "2021-10-18T08:46:46.252Z"
   },
   {
    "duration": 17,
    "start_time": "2021-10-18T08:46:46.260Z"
   },
   {
    "duration": 4,
    "start_time": "2021-10-18T08:46:46.279Z"
   },
   {
    "duration": 9,
    "start_time": "2021-10-18T08:46:46.284Z"
   },
   {
    "duration": 11,
    "start_time": "2021-10-18T08:46:46.295Z"
   },
   {
    "duration": 13,
    "start_time": "2021-10-18T08:46:46.308Z"
   },
   {
    "duration": 14,
    "start_time": "2021-10-18T08:46:46.323Z"
   },
   {
    "duration": 49,
    "start_time": "2021-10-18T08:46:46.339Z"
   },
   {
    "duration": 10,
    "start_time": "2021-10-18T08:46:46.389Z"
   },
   {
    "duration": 8,
    "start_time": "2021-10-18T08:46:46.401Z"
   },
   {
    "duration": 12,
    "start_time": "2021-10-18T08:46:46.410Z"
   },
   {
    "duration": 13,
    "start_time": "2021-10-18T08:46:46.423Z"
   },
   {
    "duration": 13,
    "start_time": "2021-10-18T08:46:46.438Z"
   },
   {
    "duration": 29,
    "start_time": "2021-10-18T08:46:46.453Z"
   },
   {
    "duration": 5,
    "start_time": "2021-10-18T08:46:46.484Z"
   },
   {
    "duration": 6,
    "start_time": "2021-10-18T08:46:46.493Z"
   },
   {
    "duration": 6,
    "start_time": "2021-10-18T08:46:46.501Z"
   },
   {
    "duration": 8,
    "start_time": "2021-10-18T08:46:46.509Z"
   },
   {
    "duration": 11,
    "start_time": "2021-10-18T08:46:46.519Z"
   },
   {
    "duration": 45,
    "start_time": "2021-10-18T08:46:46.532Z"
   },
   {
    "duration": 3186,
    "start_time": "2021-10-18T08:46:46.578Z"
   },
   {
    "duration": 22,
    "start_time": "2021-10-18T08:46:49.765Z"
   },
   {
    "duration": 16,
    "start_time": "2021-10-18T08:46:49.789Z"
   },
   {
    "duration": 14,
    "start_time": "2021-10-18T08:46:49.807Z"
   },
   {
    "duration": 31,
    "start_time": "2021-10-18T08:46:49.823Z"
   },
   {
    "duration": 21,
    "start_time": "2021-10-18T08:46:49.856Z"
   },
   {
    "duration": 16,
    "start_time": "2021-10-18T08:46:49.879Z"
   },
   {
    "duration": 2709,
    "start_time": "2021-10-18T08:46:49.896Z"
   },
   {
    "duration": 8,
    "start_time": "2021-10-18T08:46:52.607Z"
   },
   {
    "duration": 15,
    "start_time": "2021-10-18T08:46:52.616Z"
   },
   {
    "duration": 14,
    "start_time": "2021-10-18T08:46:52.633Z"
   },
   {
    "duration": 36,
    "start_time": "2021-10-18T08:46:52.649Z"
   },
   {
    "duration": 11,
    "start_time": "2021-10-18T08:46:52.687Z"
   },
   {
    "duration": 632,
    "start_time": "2021-10-18T09:02:21.624Z"
   },
   {
    "duration": 14,
    "start_time": "2021-10-18T09:02:22.258Z"
   },
   {
    "duration": 6,
    "start_time": "2021-10-18T09:02:22.274Z"
   },
   {
    "duration": 5,
    "start_time": "2021-10-18T09:02:22.282Z"
   },
   {
    "duration": 20,
    "start_time": "2021-10-18T09:02:22.289Z"
   },
   {
    "duration": 5,
    "start_time": "2021-10-18T09:02:22.312Z"
   },
   {
    "duration": 19,
    "start_time": "2021-10-18T09:02:22.319Z"
   },
   {
    "duration": 38,
    "start_time": "2021-10-18T09:02:22.342Z"
   },
   {
    "duration": 6,
    "start_time": "2021-10-18T09:02:22.383Z"
   },
   {
    "duration": 8,
    "start_time": "2021-10-18T09:02:22.391Z"
   },
   {
    "duration": 8,
    "start_time": "2021-10-18T09:02:22.400Z"
   },
   {
    "duration": 12,
    "start_time": "2021-10-18T09:02:22.412Z"
   },
   {
    "duration": 13,
    "start_time": "2021-10-18T09:02:22.426Z"
   },
   {
    "duration": 49,
    "start_time": "2021-10-18T09:02:22.441Z"
   },
   {
    "duration": 17,
    "start_time": "2021-10-18T09:02:22.492Z"
   },
   {
    "duration": 11,
    "start_time": "2021-10-18T09:02:22.511Z"
   },
   {
    "duration": 9,
    "start_time": "2021-10-18T09:02:22.524Z"
   },
   {
    "duration": 45,
    "start_time": "2021-10-18T09:02:22.535Z"
   },
   {
    "duration": 11,
    "start_time": "2021-10-18T09:02:22.582Z"
   },
   {
    "duration": 9,
    "start_time": "2021-10-18T09:02:22.595Z"
   },
   {
    "duration": 9,
    "start_time": "2021-10-18T09:02:22.605Z"
   },
   {
    "duration": 6,
    "start_time": "2021-10-18T09:02:22.616Z"
   },
   {
    "duration": 5,
    "start_time": "2021-10-18T09:02:22.625Z"
   },
   {
    "duration": 13,
    "start_time": "2021-10-18T09:02:22.632Z"
   },
   {
    "duration": 33,
    "start_time": "2021-10-18T09:02:22.646Z"
   },
   {
    "duration": 10,
    "start_time": "2021-10-18T09:02:22.680Z"
   },
   {
    "duration": 4,
    "start_time": "2021-10-18T09:02:22.692Z"
   },
   {
    "duration": 3518,
    "start_time": "2021-10-18T09:02:22.698Z"
   },
   {
    "duration": 14,
    "start_time": "2021-10-18T09:02:26.218Z"
   },
   {
    "duration": 13,
    "start_time": "2021-10-18T09:02:26.234Z"
   },
   {
    "duration": 32,
    "start_time": "2021-10-18T09:02:26.248Z"
   },
   {
    "duration": 23,
    "start_time": "2021-10-18T09:02:26.282Z"
   },
   {
    "duration": 13,
    "start_time": "2021-10-18T09:02:26.307Z"
   },
   {
    "duration": 15,
    "start_time": "2021-10-18T09:02:26.322Z"
   },
   {
    "duration": 15,
    "start_time": "2021-10-18T09:02:26.338Z"
   },
   {
    "duration": 2933,
    "start_time": "2021-10-18T09:02:26.354Z"
   },
   {
    "duration": 8,
    "start_time": "2021-10-18T09:02:29.289Z"
   },
   {
    "duration": 20,
    "start_time": "2021-10-18T09:02:29.298Z"
   },
   {
    "duration": 12,
    "start_time": "2021-10-18T09:02:29.320Z"
   },
   {
    "duration": 10,
    "start_time": "2021-10-18T09:02:29.333Z"
   },
   {
    "duration": 33,
    "start_time": "2021-10-18T09:02:29.344Z"
   },
   {
    "duration": 13,
    "start_time": "2021-10-18T09:04:04.846Z"
   },
   {
    "duration": 392,
    "start_time": "2021-10-18T09:08:29.687Z"
   },
   {
    "duration": 14,
    "start_time": "2021-10-18T09:09:20.076Z"
   },
   {
    "duration": 629,
    "start_time": "2021-10-18T09:29:58.521Z"
   },
   {
    "duration": 13,
    "start_time": "2021-10-18T09:29:59.152Z"
   },
   {
    "duration": 9,
    "start_time": "2021-10-18T09:29:59.169Z"
   },
   {
    "duration": 16,
    "start_time": "2021-10-18T09:29:59.180Z"
   },
   {
    "duration": 29,
    "start_time": "2021-10-18T09:29:59.198Z"
   },
   {
    "duration": 3,
    "start_time": "2021-10-18T09:29:59.229Z"
   },
   {
    "duration": 14,
    "start_time": "2021-10-18T09:29:59.235Z"
   },
   {
    "duration": 5,
    "start_time": "2021-10-18T09:29:59.250Z"
   },
   {
    "duration": 6,
    "start_time": "2021-10-18T09:29:59.256Z"
   },
   {
    "duration": 13,
    "start_time": "2021-10-18T09:29:59.263Z"
   },
   {
    "duration": 5,
    "start_time": "2021-10-18T09:29:59.278Z"
   },
   {
    "duration": 13,
    "start_time": "2021-10-18T09:29:59.284Z"
   },
   {
    "duration": 12,
    "start_time": "2021-10-18T09:29:59.298Z"
   },
   {
    "duration": 13,
    "start_time": "2021-10-18T09:29:59.312Z"
   },
   {
    "duration": 15,
    "start_time": "2021-10-18T09:29:59.327Z"
   },
   {
    "duration": 38,
    "start_time": "2021-10-18T09:29:59.343Z"
   },
   {
    "duration": 12,
    "start_time": "2021-10-18T09:29:59.382Z"
   },
   {
    "duration": 12,
    "start_time": "2021-10-18T09:29:59.395Z"
   },
   {
    "duration": 12,
    "start_time": "2021-10-18T09:29:59.408Z"
   },
   {
    "duration": 8,
    "start_time": "2021-10-18T09:29:59.422Z"
   },
   {
    "duration": 8,
    "start_time": "2021-10-18T09:29:59.431Z"
   },
   {
    "duration": 6,
    "start_time": "2021-10-18T09:29:59.442Z"
   },
   {
    "duration": 4,
    "start_time": "2021-10-18T09:29:59.477Z"
   },
   {
    "duration": 7,
    "start_time": "2021-10-18T09:29:59.482Z"
   },
   {
    "duration": 12,
    "start_time": "2021-10-18T09:29:59.490Z"
   },
   {
    "duration": 12,
    "start_time": "2021-10-18T09:29:59.503Z"
   },
   {
    "duration": 5,
    "start_time": "2021-10-18T09:29:59.516Z"
   },
   {
    "duration": 3293,
    "start_time": "2021-10-18T09:29:59.522Z"
   },
   {
    "duration": 13,
    "start_time": "2021-10-18T09:30:02.817Z"
   },
   {
    "duration": 14,
    "start_time": "2021-10-18T09:30:02.832Z"
   },
   {
    "duration": 37,
    "start_time": "2021-10-18T09:30:02.848Z"
   },
   {
    "duration": 16,
    "start_time": "2021-10-18T09:30:02.887Z"
   },
   {
    "duration": 16,
    "start_time": "2021-10-18T09:30:02.905Z"
   },
   {
    "duration": 22,
    "start_time": "2021-10-18T09:30:02.923Z"
   },
   {
    "duration": 2785,
    "start_time": "2021-10-18T09:30:02.947Z"
   },
   {
    "duration": 10,
    "start_time": "2021-10-18T09:30:05.733Z"
   },
   {
    "duration": 32,
    "start_time": "2021-10-18T09:30:05.745Z"
   },
   {
    "duration": 12,
    "start_time": "2021-10-18T09:30:05.779Z"
   },
   {
    "duration": 20,
    "start_time": "2021-10-18T09:30:05.792Z"
   },
   {
    "duration": 13,
    "start_time": "2021-10-18T09:30:05.814Z"
   },
   {
    "duration": 10,
    "start_time": "2021-10-18T09:30:05.829Z"
   },
   {
    "duration": 37,
    "start_time": "2021-10-18T09:30:05.841Z"
   },
   {
    "duration": 649,
    "start_time": "2021-10-18T09:37:34.192Z"
   },
   {
    "duration": 16,
    "start_time": "2021-10-18T09:37:34.843Z"
   },
   {
    "duration": 6,
    "start_time": "2021-10-18T09:37:34.861Z"
   },
   {
    "duration": 8,
    "start_time": "2021-10-18T09:37:34.869Z"
   },
   {
    "duration": 15,
    "start_time": "2021-10-18T09:37:34.878Z"
   },
   {
    "duration": 4,
    "start_time": "2021-10-18T09:37:34.894Z"
   },
   {
    "duration": 15,
    "start_time": "2021-10-18T09:37:34.899Z"
   },
   {
    "duration": 4,
    "start_time": "2021-10-18T09:37:34.916Z"
   },
   {
    "duration": 6,
    "start_time": "2021-10-18T09:37:34.922Z"
   },
   {
    "duration": 7,
    "start_time": "2021-10-18T09:37:34.929Z"
   },
   {
    "duration": 40,
    "start_time": "2021-10-18T09:37:34.937Z"
   },
   {
    "duration": 11,
    "start_time": "2021-10-18T09:37:34.979Z"
   },
   {
    "duration": 14,
    "start_time": "2021-10-18T09:37:34.992Z"
   },
   {
    "duration": 15,
    "start_time": "2021-10-18T09:37:35.008Z"
   },
   {
    "duration": 18,
    "start_time": "2021-10-18T09:37:35.025Z"
   },
   {
    "duration": 40,
    "start_time": "2021-10-18T09:37:35.044Z"
   },
   {
    "duration": 9,
    "start_time": "2021-10-18T09:37:35.086Z"
   },
   {
    "duration": 12,
    "start_time": "2021-10-18T09:37:35.096Z"
   },
   {
    "duration": 13,
    "start_time": "2021-10-18T09:37:35.110Z"
   },
   {
    "duration": 6,
    "start_time": "2021-10-18T09:37:35.125Z"
   },
   {
    "duration": 8,
    "start_time": "2021-10-18T09:37:35.133Z"
   },
   {
    "duration": 34,
    "start_time": "2021-10-18T09:37:35.143Z"
   },
   {
    "duration": 3,
    "start_time": "2021-10-18T09:37:35.180Z"
   },
   {
    "duration": 9,
    "start_time": "2021-10-18T09:37:35.184Z"
   },
   {
    "duration": 10,
    "start_time": "2021-10-18T09:37:35.194Z"
   },
   {
    "duration": 9,
    "start_time": "2021-10-18T09:37:35.206Z"
   },
   {
    "duration": 7,
    "start_time": "2021-10-18T09:37:35.216Z"
   },
   {
    "duration": 3308,
    "start_time": "2021-10-18T09:37:35.225Z"
   },
   {
    "duration": 14,
    "start_time": "2021-10-18T09:37:38.535Z"
   },
   {
    "duration": 28,
    "start_time": "2021-10-18T09:37:38.551Z"
   },
   {
    "duration": 14,
    "start_time": "2021-10-18T09:37:38.580Z"
   },
   {
    "duration": 18,
    "start_time": "2021-10-18T09:37:38.596Z"
   },
   {
    "duration": 10063,
    "start_time": "2021-10-18T09:37:38.616Z"
   },
   {
    "duration": -141828,
    "start_time": "2021-10-18T09:40:10.509Z"
   },
   {
    "duration": -141829,
    "start_time": "2021-10-18T09:40:10.511Z"
   },
   {
    "duration": -141831,
    "start_time": "2021-10-18T09:40:10.514Z"
   },
   {
    "duration": -141833,
    "start_time": "2021-10-18T09:40:10.517Z"
   },
   {
    "duration": -141834,
    "start_time": "2021-10-18T09:40:10.519Z"
   },
   {
    "duration": -141835,
    "start_time": "2021-10-18T09:40:10.521Z"
   },
   {
    "duration": 732,
    "start_time": "2021-10-18T09:38:19.035Z"
   },
   {
    "duration": 13,
    "start_time": "2021-10-18T09:38:19.768Z"
   },
   {
    "duration": 6,
    "start_time": "2021-10-18T09:38:19.783Z"
   },
   {
    "duration": 5,
    "start_time": "2021-10-18T09:38:19.791Z"
   },
   {
    "duration": 18,
    "start_time": "2021-10-18T09:38:19.798Z"
   },
   {
    "duration": 4,
    "start_time": "2021-10-18T09:38:19.818Z"
   },
   {
    "duration": 52,
    "start_time": "2021-10-18T09:38:19.825Z"
   },
   {
    "duration": 6,
    "start_time": "2021-10-18T09:38:19.879Z"
   },
   {
    "duration": 5,
    "start_time": "2021-10-18T09:38:19.888Z"
   },
   {
    "duration": 7,
    "start_time": "2021-10-18T09:38:19.895Z"
   },
   {
    "duration": 11,
    "start_time": "2021-10-18T09:38:19.903Z"
   },
   {
    "duration": 20,
    "start_time": "2021-10-18T09:38:19.916Z"
   },
   {
    "duration": 14,
    "start_time": "2021-10-18T09:38:19.938Z"
   },
   {
    "duration": 16,
    "start_time": "2021-10-18T09:38:19.977Z"
   },
   {
    "duration": 17,
    "start_time": "2021-10-18T09:38:19.995Z"
   },
   {
    "duration": 11,
    "start_time": "2021-10-18T09:38:20.014Z"
   },
   {
    "duration": 8,
    "start_time": "2021-10-18T09:38:20.027Z"
   },
   {
    "duration": 45,
    "start_time": "2021-10-18T09:38:20.037Z"
   },
   {
    "duration": 14,
    "start_time": "2021-10-18T09:38:20.084Z"
   },
   {
    "duration": 8,
    "start_time": "2021-10-18T09:38:20.100Z"
   },
   {
    "duration": 7,
    "start_time": "2021-10-18T09:38:20.110Z"
   },
   {
    "duration": 4,
    "start_time": "2021-10-18T09:38:20.118Z"
   },
   {
    "duration": 5,
    "start_time": "2021-10-18T09:38:20.124Z"
   },
   {
    "duration": 8,
    "start_time": "2021-10-18T09:38:20.131Z"
   },
   {
    "duration": 36,
    "start_time": "2021-10-18T09:38:20.141Z"
   },
   {
    "duration": 10,
    "start_time": "2021-10-18T09:38:20.179Z"
   },
   {
    "duration": 8,
    "start_time": "2021-10-18T09:38:20.192Z"
   },
   {
    "duration": 63,
    "start_time": "2021-10-18T09:38:26.523Z"
   },
   {
    "duration": 8,
    "start_time": "2021-10-18T09:38:26.588Z"
   },
   {
    "duration": 9,
    "start_time": "2021-10-18T09:38:26.598Z"
   },
   {
    "duration": 12,
    "start_time": "2021-10-18T09:38:26.609Z"
   },
   {
    "duration": 14,
    "start_time": "2021-10-18T09:38:26.622Z"
   },
   {
    "duration": 5,
    "start_time": "2021-10-18T09:38:26.638Z"
   },
   {
    "duration": 40,
    "start_time": "2021-10-18T09:38:26.645Z"
   },
   {
    "duration": 5,
    "start_time": "2021-10-18T09:38:26.686Z"
   },
   {
    "duration": 8,
    "start_time": "2021-10-18T09:38:26.693Z"
   },
   {
    "duration": 8,
    "start_time": "2021-10-18T09:38:26.702Z"
   },
   {
    "duration": 8,
    "start_time": "2021-10-18T09:38:26.712Z"
   },
   {
    "duration": 11,
    "start_time": "2021-10-18T09:38:26.722Z"
   },
   {
    "duration": 12,
    "start_time": "2021-10-18T09:38:26.735Z"
   },
   {
    "duration": 15,
    "start_time": "2021-10-18T09:38:26.777Z"
   },
   {
    "duration": 19,
    "start_time": "2021-10-18T09:38:26.793Z"
   },
   {
    "duration": 9,
    "start_time": "2021-10-18T09:38:26.814Z"
   },
   {
    "duration": 20,
    "start_time": "2021-10-18T09:38:26.825Z"
   },
   {
    "duration": 14,
    "start_time": "2021-10-18T09:38:26.847Z"
   },
   {
    "duration": 23,
    "start_time": "2021-10-18T09:38:26.863Z"
   },
   {
    "duration": 7,
    "start_time": "2021-10-18T09:38:26.888Z"
   },
   {
    "duration": 6,
    "start_time": "2021-10-18T09:38:26.897Z"
   },
   {
    "duration": 9,
    "start_time": "2021-10-18T09:38:26.905Z"
   },
   {
    "duration": 7,
    "start_time": "2021-10-18T09:38:26.915Z"
   },
   {
    "duration": 7,
    "start_time": "2021-10-18T09:38:26.923Z"
   },
   {
    "duration": 9,
    "start_time": "2021-10-18T09:38:26.932Z"
   },
   {
    "duration": 36,
    "start_time": "2021-10-18T09:38:26.944Z"
   },
   {
    "duration": 25,
    "start_time": "2021-10-18T09:38:26.981Z"
   },
   {
    "duration": 3246,
    "start_time": "2021-10-18T09:38:27.008Z"
   },
   {
    "duration": 26,
    "start_time": "2021-10-18T09:38:30.256Z"
   },
   {
    "duration": 13,
    "start_time": "2021-10-18T09:38:30.283Z"
   },
   {
    "duration": 16,
    "start_time": "2021-10-18T09:38:30.297Z"
   },
   {
    "duration": 21,
    "start_time": "2021-10-18T09:38:30.315Z"
   },
   {
    "duration": 39,
    "start_time": "2021-10-18T09:38:30.338Z"
   },
   {
    "duration": 2675,
    "start_time": "2021-10-18T09:38:30.379Z"
   },
   {
    "duration": 21,
    "start_time": "2021-10-18T09:38:33.056Z"
   },
   {
    "duration": 13,
    "start_time": "2021-10-18T09:38:33.078Z"
   },
   {
    "duration": 13,
    "start_time": "2021-10-18T09:38:33.092Z"
   },
   {
    "duration": 10,
    "start_time": "2021-10-18T09:38:33.107Z"
   },
   {
    "duration": 10,
    "start_time": "2021-10-18T09:38:33.118Z"
   },
   {
    "duration": 677,
    "start_time": "2021-10-18T09:38:45.402Z"
   },
   {
    "duration": 14,
    "start_time": "2021-10-18T09:38:46.081Z"
   },
   {
    "duration": 11,
    "start_time": "2021-10-18T09:38:46.097Z"
   },
   {
    "duration": 6,
    "start_time": "2021-10-18T09:38:46.110Z"
   },
   {
    "duration": 19,
    "start_time": "2021-10-18T09:38:46.118Z"
   },
   {
    "duration": 4,
    "start_time": "2021-10-18T09:38:46.139Z"
   },
   {
    "duration": 38,
    "start_time": "2021-10-18T09:38:46.144Z"
   },
   {
    "duration": 5,
    "start_time": "2021-10-18T09:38:46.185Z"
   },
   {
    "duration": 5,
    "start_time": "2021-10-18T09:38:46.192Z"
   },
   {
    "duration": 14,
    "start_time": "2021-10-18T09:38:46.199Z"
   },
   {
    "duration": 10,
    "start_time": "2021-10-18T09:38:46.215Z"
   },
   {
    "duration": 17,
    "start_time": "2021-10-18T09:38:46.227Z"
   },
   {
    "duration": 34,
    "start_time": "2021-10-18T09:38:46.245Z"
   },
   {
    "duration": 14,
    "start_time": "2021-10-18T09:38:46.281Z"
   },
   {
    "duration": 16,
    "start_time": "2021-10-18T09:38:46.297Z"
   },
   {
    "duration": 10,
    "start_time": "2021-10-18T09:38:46.314Z"
   },
   {
    "duration": 11,
    "start_time": "2021-10-18T09:38:46.326Z"
   },
   {
    "duration": 40,
    "start_time": "2021-10-18T09:38:46.339Z"
   },
   {
    "duration": 13,
    "start_time": "2021-10-18T09:38:46.381Z"
   },
   {
    "duration": 7,
    "start_time": "2021-10-18T09:38:46.396Z"
   },
   {
    "duration": 10,
    "start_time": "2021-10-18T09:38:46.404Z"
   },
   {
    "duration": 4,
    "start_time": "2021-10-18T09:38:46.415Z"
   },
   {
    "duration": 4,
    "start_time": "2021-10-18T09:38:46.422Z"
   },
   {
    "duration": 5,
    "start_time": "2021-10-18T09:38:46.428Z"
   },
   {
    "duration": 10,
    "start_time": "2021-10-18T09:38:46.435Z"
   },
   {
    "duration": 39,
    "start_time": "2021-10-18T09:38:46.447Z"
   },
   {
    "duration": 8,
    "start_time": "2021-10-18T09:38:46.488Z"
   },
   {
    "duration": 3387,
    "start_time": "2021-10-18T09:38:46.497Z"
   },
   {
    "duration": 13,
    "start_time": "2021-10-18T09:38:49.886Z"
   },
   {
    "duration": 15,
    "start_time": "2021-10-18T09:38:49.901Z"
   },
   {
    "duration": 15,
    "start_time": "2021-10-18T09:38:49.917Z"
   },
   {
    "duration": 17,
    "start_time": "2021-10-18T09:38:49.934Z"
   },
   {
    "duration": 37,
    "start_time": "2021-10-18T09:38:49.952Z"
   },
   {
    "duration": 2726,
    "start_time": "2021-10-18T09:38:49.991Z"
   },
   {
    "duration": 10,
    "start_time": "2021-10-18T09:38:52.718Z"
   },
   {
    "duration": 26,
    "start_time": "2021-10-18T09:38:52.729Z"
   },
   {
    "duration": 21,
    "start_time": "2021-10-18T09:38:52.757Z"
   },
   {
    "duration": 19,
    "start_time": "2021-10-18T09:38:52.779Z"
   },
   {
    "duration": 21,
    "start_time": "2021-10-18T09:38:52.800Z"
   },
   {
    "duration": 109,
    "start_time": "2021-10-18T10:58:35.498Z"
   },
   {
    "duration": 715,
    "start_time": "2021-10-18T13:55:29.813Z"
   },
   {
    "duration": 14,
    "start_time": "2021-10-18T13:55:30.530Z"
   },
   {
    "duration": 12,
    "start_time": "2021-10-18T13:55:30.546Z"
   },
   {
    "duration": 30,
    "start_time": "2021-10-18T13:55:30.560Z"
   },
   {
    "duration": 46,
    "start_time": "2021-10-18T13:55:30.592Z"
   },
   {
    "duration": 8,
    "start_time": "2021-10-18T13:55:30.641Z"
   },
   {
    "duration": 43,
    "start_time": "2021-10-18T13:55:30.650Z"
   },
   {
    "duration": 7,
    "start_time": "2021-10-18T13:55:30.694Z"
   },
   {
    "duration": 33,
    "start_time": "2021-10-18T13:55:30.703Z"
   },
   {
    "duration": 27,
    "start_time": "2021-10-18T13:55:30.738Z"
   },
   {
    "duration": 24,
    "start_time": "2021-10-18T13:55:30.767Z"
   },
   {
    "duration": 34,
    "start_time": "2021-10-18T13:55:30.793Z"
   },
   {
    "duration": 34,
    "start_time": "2021-10-18T13:55:30.829Z"
   },
   {
    "duration": 26,
    "start_time": "2021-10-18T13:55:30.865Z"
   },
   {
    "duration": 43,
    "start_time": "2021-10-18T13:55:30.893Z"
   },
   {
    "duration": 9,
    "start_time": "2021-10-18T13:55:30.938Z"
   },
   {
    "duration": 24,
    "start_time": "2021-10-18T13:55:30.949Z"
   },
   {
    "duration": 35,
    "start_time": "2021-10-18T13:55:30.974Z"
   },
   {
    "duration": 38,
    "start_time": "2021-10-18T13:55:31.011Z"
   },
   {
    "duration": 22,
    "start_time": "2021-10-18T13:55:31.051Z"
   },
   {
    "duration": 50,
    "start_time": "2021-10-18T13:55:31.074Z"
   },
   {
    "duration": 23,
    "start_time": "2021-10-18T13:55:31.125Z"
   },
   {
    "duration": 21,
    "start_time": "2021-10-18T13:55:31.150Z"
   },
   {
    "duration": 32,
    "start_time": "2021-10-18T13:55:31.172Z"
   },
   {
    "duration": 25,
    "start_time": "2021-10-18T13:55:31.205Z"
   },
   {
    "duration": 30,
    "start_time": "2021-10-18T13:55:31.231Z"
   },
   {
    "duration": 31,
    "start_time": "2021-10-18T13:55:31.263Z"
   },
   {
    "duration": 3466,
    "start_time": "2021-10-18T13:55:31.296Z"
   },
   {
    "duration": 38,
    "start_time": "2021-10-18T13:55:34.764Z"
   },
   {
    "duration": 17,
    "start_time": "2021-10-18T13:55:34.803Z"
   },
   {
    "duration": 2878,
    "start_time": "2021-10-18T13:55:34.821Z"
   },
   {
    "duration": 12,
    "start_time": "2021-10-18T13:55:37.701Z"
   },
   {
    "duration": 18,
    "start_time": "2021-10-18T13:55:37.715Z"
   },
   {
    "duration": 13,
    "start_time": "2021-10-18T13:55:37.735Z"
   },
   {
    "duration": 29,
    "start_time": "2021-10-18T13:55:37.750Z"
   },
   {
    "duration": 19,
    "start_time": "2021-10-18T13:55:37.781Z"
   },
   {
    "duration": 20,
    "start_time": "2021-10-18T13:55:37.802Z"
   },
   {
    "duration": 16,
    "start_time": "2021-10-18T13:55:37.824Z"
   },
   {
    "duration": 18,
    "start_time": "2021-10-18T13:55:37.842Z"
   },
   {
    "duration": 1108,
    "start_time": "2021-10-18T16:48:06.662Z"
   },
   {
    "duration": 972,
    "start_time": "2021-10-18T16:48:17.633Z"
   },
   {
    "duration": 19,
    "start_time": "2021-10-18T16:48:18.608Z"
   },
   {
    "duration": 8,
    "start_time": "2021-10-18T16:48:18.630Z"
   },
   {
    "duration": 16,
    "start_time": "2021-10-18T16:48:18.642Z"
   },
   {
    "duration": 28,
    "start_time": "2021-10-18T16:48:18.660Z"
   },
   {
    "duration": 5,
    "start_time": "2021-10-18T16:48:18.691Z"
   },
   {
    "duration": 25,
    "start_time": "2021-10-18T16:48:18.699Z"
   },
   {
    "duration": 6,
    "start_time": "2021-10-18T16:48:18.728Z"
   },
   {
    "duration": 5,
    "start_time": "2021-10-18T16:48:18.738Z"
   },
   {
    "duration": 4,
    "start_time": "2021-10-18T16:48:18.758Z"
   },
   {
    "duration": 14,
    "start_time": "2021-10-18T16:48:18.764Z"
   },
   {
    "duration": 14,
    "start_time": "2021-10-18T16:48:18.781Z"
   },
   {
    "duration": 20,
    "start_time": "2021-10-18T16:48:18.798Z"
   },
   {
    "duration": 23,
    "start_time": "2021-10-18T16:48:18.820Z"
   },
   {
    "duration": 29,
    "start_time": "2021-10-18T16:48:18.845Z"
   },
   {
    "duration": 18,
    "start_time": "2021-10-18T16:48:18.877Z"
   },
   {
    "duration": 15,
    "start_time": "2021-10-18T16:48:18.897Z"
   },
   {
    "duration": 18,
    "start_time": "2021-10-18T16:48:18.915Z"
   },
   {
    "duration": 34,
    "start_time": "2021-10-18T16:48:18.935Z"
   },
   {
    "duration": 9,
    "start_time": "2021-10-18T16:48:18.971Z"
   },
   {
    "duration": 13,
    "start_time": "2021-10-18T16:48:18.982Z"
   },
   {
    "duration": 7,
    "start_time": "2021-10-18T16:48:18.997Z"
   },
   {
    "duration": 5,
    "start_time": "2021-10-18T16:48:19.009Z"
   },
   {
    "duration": 8,
    "start_time": "2021-10-18T16:48:19.017Z"
   },
   {
    "duration": 20,
    "start_time": "2021-10-18T16:48:19.028Z"
   },
   {
    "duration": 20,
    "start_time": "2021-10-18T16:48:19.051Z"
   },
   {
    "duration": 38,
    "start_time": "2021-10-18T16:48:19.073Z"
   },
   {
    "duration": 5086,
    "start_time": "2021-10-18T16:48:19.114Z"
   },
   {
    "duration": 31,
    "start_time": "2021-10-18T16:48:24.202Z"
   },
   {
    "duration": 100,
    "start_time": "2021-10-18T16:48:24.236Z"
   },
   {
    "duration": 3765,
    "start_time": "2021-10-18T16:48:24.339Z"
   },
   {
    "duration": 17,
    "start_time": "2021-10-18T16:48:28.106Z"
   },
   {
    "duration": 37,
    "start_time": "2021-10-18T16:48:28.125Z"
   },
   {
    "duration": 16,
    "start_time": "2021-10-18T16:48:28.166Z"
   },
   {
    "duration": 21,
    "start_time": "2021-10-18T16:48:28.185Z"
   },
   {
    "duration": 56,
    "start_time": "2021-10-18T16:48:28.209Z"
   },
   {
    "duration": 19,
    "start_time": "2021-10-18T16:48:28.268Z"
   },
   {
    "duration": 16,
    "start_time": "2021-10-18T16:48:28.289Z"
   },
   {
    "duration": 50,
    "start_time": "2021-10-18T16:48:28.307Z"
   },
   {
    "duration": 873,
    "start_time": "2021-10-18T17:03:38.332Z"
   },
   {
    "duration": 20,
    "start_time": "2021-10-18T17:03:39.208Z"
   },
   {
    "duration": 9,
    "start_time": "2021-10-18T17:03:39.231Z"
   },
   {
    "duration": 30,
    "start_time": "2021-10-18T17:03:39.242Z"
   },
   {
    "duration": 25,
    "start_time": "2021-10-18T17:03:39.275Z"
   },
   {
    "duration": 5,
    "start_time": "2021-10-18T17:03:39.303Z"
   },
   {
    "duration": 57,
    "start_time": "2021-10-18T17:03:39.311Z"
   },
   {
    "duration": 7,
    "start_time": "2021-10-18T17:03:39.372Z"
   },
   {
    "duration": 16,
    "start_time": "2021-10-18T17:03:39.381Z"
   },
   {
    "duration": 10,
    "start_time": "2021-10-18T17:03:39.399Z"
   },
   {
    "duration": 10,
    "start_time": "2021-10-18T17:03:39.412Z"
   },
   {
    "duration": 40,
    "start_time": "2021-10-18T17:03:39.425Z"
   },
   {
    "duration": 19,
    "start_time": "2021-10-18T17:03:39.468Z"
   },
   {
    "duration": 26,
    "start_time": "2021-10-18T17:03:39.489Z"
   },
   {
    "duration": 57,
    "start_time": "2021-10-18T17:03:39.517Z"
   },
   {
    "duration": 14,
    "start_time": "2021-10-18T17:03:39.576Z"
   },
   {
    "duration": 13,
    "start_time": "2021-10-18T17:03:39.592Z"
   },
   {
    "duration": 18,
    "start_time": "2021-10-18T17:03:39.607Z"
   },
   {
    "duration": 44,
    "start_time": "2021-10-18T17:03:39.627Z"
   },
   {
    "duration": 13,
    "start_time": "2021-10-18T17:03:39.673Z"
   },
   {
    "duration": 20,
    "start_time": "2021-10-18T17:03:39.689Z"
   },
   {
    "duration": 7,
    "start_time": "2021-10-18T17:03:39.711Z"
   },
   {
    "duration": 9,
    "start_time": "2021-10-18T17:03:39.722Z"
   },
   {
    "duration": 30,
    "start_time": "2021-10-18T17:03:39.733Z"
   },
   {
    "duration": 18,
    "start_time": "2021-10-18T17:03:39.765Z"
   },
   {
    "duration": 14,
    "start_time": "2021-10-18T17:03:39.785Z"
   },
   {
    "duration": 13,
    "start_time": "2021-10-18T17:03:39.801Z"
   },
   {
    "duration": 4471,
    "start_time": "2021-10-18T17:03:39.815Z"
   },
   {
    "duration": 31,
    "start_time": "2021-10-18T17:03:44.289Z"
   },
   {
    "duration": 3624,
    "start_time": "2021-10-18T17:03:44.322Z"
   },
   {
    "duration": 24,
    "start_time": "2021-10-18T17:03:47.948Z"
   },
   {
    "duration": 16,
    "start_time": "2021-10-18T17:03:47.975Z"
   },
   {
    "duration": 16,
    "start_time": "2021-10-18T17:03:47.993Z"
   },
   {
    "duration": 59,
    "start_time": "2021-10-18T17:03:48.011Z"
   },
   {
    "duration": 442,
    "start_time": "2021-10-18T17:03:48.073Z"
   },
   {
    "duration": 645,
    "start_time": "2021-10-18T17:03:47.873Z"
   },
   {
    "duration": 640,
    "start_time": "2021-10-18T17:03:47.879Z"
   },
   {
    "duration": 633,
    "start_time": "2021-10-18T17:03:47.887Z"
   },
   {
    "duration": 21,
    "start_time": "2021-10-18T17:05:20.073Z"
   },
   {
    "duration": 23,
    "start_time": "2021-10-18T17:06:35.608Z"
   },
   {
    "duration": 16,
    "start_time": "2021-10-18T17:06:40.892Z"
   },
   {
    "duration": 18,
    "start_time": "2021-10-18T17:06:44.702Z"
   },
   {
    "duration": 407,
    "start_time": "2021-10-18T19:50:24.840Z"
   },
   {
    "duration": 806,
    "start_time": "2021-10-18T19:50:50.885Z"
   },
   {
    "duration": 20,
    "start_time": "2021-10-18T19:50:51.694Z"
   },
   {
    "duration": 8,
    "start_time": "2021-10-18T19:50:51.717Z"
   },
   {
    "duration": 31,
    "start_time": "2021-10-18T19:50:51.728Z"
   },
   {
    "duration": 25,
    "start_time": "2021-10-18T19:50:51.762Z"
   },
   {
    "duration": 5,
    "start_time": "2021-10-18T19:50:51.789Z"
   },
   {
    "duration": 60,
    "start_time": "2021-10-18T19:50:51.797Z"
   },
   {
    "duration": 8,
    "start_time": "2021-10-18T19:50:51.861Z"
   },
   {
    "duration": 8,
    "start_time": "2021-10-18T19:50:51.872Z"
   },
   {
    "duration": 7,
    "start_time": "2021-10-18T19:50:51.883Z"
   },
   {
    "duration": 8,
    "start_time": "2021-10-18T19:50:51.892Z"
   },
   {
    "duration": 56,
    "start_time": "2021-10-18T19:50:51.902Z"
   },
   {
    "duration": 19,
    "start_time": "2021-10-18T19:50:51.961Z"
   },
   {
    "duration": 20,
    "start_time": "2021-10-18T19:50:51.983Z"
   },
   {
    "duration": 55,
    "start_time": "2021-10-18T19:50:52.006Z"
   },
   {
    "duration": 14,
    "start_time": "2021-10-18T19:50:52.063Z"
   },
   {
    "duration": 14,
    "start_time": "2021-10-18T19:50:52.079Z"
   },
   {
    "duration": 16,
    "start_time": "2021-10-18T19:50:52.096Z"
   },
   {
    "duration": 49,
    "start_time": "2021-10-18T19:50:52.115Z"
   },
   {
    "duration": 11,
    "start_time": "2021-10-18T19:50:52.167Z"
   },
   {
    "duration": 10,
    "start_time": "2021-10-18T19:50:52.181Z"
   },
   {
    "duration": 6,
    "start_time": "2021-10-18T19:50:52.194Z"
   },
   {
    "duration": 6,
    "start_time": "2021-10-18T19:50:52.205Z"
   },
   {
    "duration": 47,
    "start_time": "2021-10-18T19:50:52.213Z"
   },
   {
    "duration": 14,
    "start_time": "2021-10-18T19:50:52.262Z"
   },
   {
    "duration": 13,
    "start_time": "2021-10-18T19:50:52.278Z"
   },
   {
    "duration": 11,
    "start_time": "2021-10-18T19:50:52.293Z"
   },
   {
    "duration": 4397,
    "start_time": "2021-10-18T19:50:52.306Z"
   },
   {
    "duration": 29,
    "start_time": "2021-10-18T19:50:56.706Z"
   },
   {
    "duration": 3595,
    "start_time": "2021-10-18T19:50:56.737Z"
   },
   {
    "duration": 28,
    "start_time": "2021-10-18T19:51:00.334Z"
   },
   {
    "duration": 16,
    "start_time": "2021-10-18T19:51:00.364Z"
   },
   {
    "duration": 28,
    "start_time": "2021-10-18T19:51:00.382Z"
   },
   {
    "duration": 82,
    "start_time": "2021-10-18T19:51:00.413Z"
   },
   {
    "duration": 23,
    "start_time": "2021-10-18T19:51:00.497Z"
   },
   {
    "duration": 27,
    "start_time": "2021-10-18T19:51:00.522Z"
   },
   {
    "duration": 16,
    "start_time": "2021-10-18T19:51:00.551Z"
   },
   {
    "duration": 16,
    "start_time": "2021-10-18T19:51:00.569Z"
   },
   {
    "duration": 20,
    "start_time": "2021-10-18T19:59:40.595Z"
   },
   {
    "duration": 818,
    "start_time": "2021-10-19T09:33:29.193Z"
   },
   {
    "duration": 21,
    "start_time": "2021-10-19T09:33:30.014Z"
   },
   {
    "duration": 26,
    "start_time": "2021-10-19T09:33:30.039Z"
   },
   {
    "duration": 8,
    "start_time": "2021-10-19T09:33:30.067Z"
   },
   {
    "duration": 36,
    "start_time": "2021-10-19T09:33:30.077Z"
   },
   {
    "duration": 6,
    "start_time": "2021-10-19T09:33:30.115Z"
   },
   {
    "duration": 53,
    "start_time": "2021-10-19T09:33:30.123Z"
   },
   {
    "duration": 9,
    "start_time": "2021-10-19T09:33:30.180Z"
   },
   {
    "duration": 15,
    "start_time": "2021-10-19T09:33:30.192Z"
   },
   {
    "duration": 14,
    "start_time": "2021-10-19T09:33:30.210Z"
   },
   {
    "duration": 37,
    "start_time": "2021-10-19T09:33:30.227Z"
   },
   {
    "duration": 30,
    "start_time": "2021-10-19T09:33:30.267Z"
   },
   {
    "duration": 18,
    "start_time": "2021-10-19T09:33:30.299Z"
   },
   {
    "duration": 22,
    "start_time": "2021-10-19T09:33:30.319Z"
   },
   {
    "duration": 26,
    "start_time": "2021-10-19T09:33:30.361Z"
   },
   {
    "duration": 14,
    "start_time": "2021-10-19T09:33:30.390Z"
   },
   {
    "duration": 40,
    "start_time": "2021-10-19T09:33:30.406Z"
   },
   {
    "duration": 24,
    "start_time": "2021-10-19T09:33:30.449Z"
   },
   {
    "duration": 36,
    "start_time": "2021-10-19T09:33:30.475Z"
   },
   {
    "duration": 19,
    "start_time": "2021-10-19T09:33:30.513Z"
   },
   {
    "duration": 22,
    "start_time": "2021-10-19T09:33:30.535Z"
   },
   {
    "duration": 22,
    "start_time": "2021-10-19T09:33:30.559Z"
   },
   {
    "duration": 4,
    "start_time": "2021-10-19T09:33:30.586Z"
   },
   {
    "duration": 36,
    "start_time": "2021-10-19T09:33:30.593Z"
   },
   {
    "duration": 18,
    "start_time": "2021-10-19T09:33:30.631Z"
   },
   {
    "duration": 21,
    "start_time": "2021-10-19T09:33:30.651Z"
   },
   {
    "duration": 16,
    "start_time": "2021-10-19T09:33:30.674Z"
   },
   {
    "duration": 4623,
    "start_time": "2021-10-19T09:33:30.693Z"
   },
   {
    "duration": 44,
    "start_time": "2021-10-19T09:33:35.318Z"
   },
   {
    "duration": 3737,
    "start_time": "2021-10-19T09:33:35.365Z"
   },
   {
    "duration": 16,
    "start_time": "2021-10-19T09:33:39.106Z"
   },
   {
    "duration": 44,
    "start_time": "2021-10-19T09:33:39.124Z"
   },
   {
    "duration": 15,
    "start_time": "2021-10-19T09:33:39.170Z"
   },
   {
    "duration": 19,
    "start_time": "2021-10-19T09:33:39.188Z"
   },
   {
    "duration": 53,
    "start_time": "2021-10-19T09:33:39.210Z"
   },
   {
    "duration": 20,
    "start_time": "2021-10-19T09:33:39.266Z"
   },
   {
    "duration": 24,
    "start_time": "2021-10-19T09:33:39.289Z"
   },
   {
    "duration": 16,
    "start_time": "2021-10-19T09:33:39.316Z"
   },
   {
    "duration": 873,
    "start_time": "2021-10-19T15:36:16.884Z"
   },
   {
    "duration": 22,
    "start_time": "2021-10-19T15:36:17.761Z"
   },
   {
    "duration": 8,
    "start_time": "2021-10-19T15:36:17.786Z"
   },
   {
    "duration": 13,
    "start_time": "2021-10-19T15:36:17.797Z"
   },
   {
    "duration": 57,
    "start_time": "2021-10-19T15:36:17.813Z"
   },
   {
    "duration": 6,
    "start_time": "2021-10-19T15:36:17.873Z"
   },
   {
    "duration": 28,
    "start_time": "2021-10-19T15:36:17.882Z"
   },
   {
    "duration": 10,
    "start_time": "2021-10-19T15:36:17.915Z"
   },
   {
    "duration": 46,
    "start_time": "2021-10-19T15:36:17.929Z"
   },
   {
    "duration": 6,
    "start_time": "2021-10-19T15:36:17.977Z"
   },
   {
    "duration": 22,
    "start_time": "2021-10-19T15:36:17.985Z"
   },
   {
    "duration": 19,
    "start_time": "2021-10-19T15:36:18.009Z"
   },
   {
    "duration": 46,
    "start_time": "2021-10-19T15:36:18.031Z"
   },
   {
    "duration": 31,
    "start_time": "2021-10-19T15:36:18.081Z"
   },
   {
    "duration": 59,
    "start_time": "2021-10-19T15:36:18.115Z"
   },
   {
    "duration": 21,
    "start_time": "2021-10-19T15:36:18.177Z"
   },
   {
    "duration": 18,
    "start_time": "2021-10-19T15:36:18.202Z"
   },
   {
    "duration": 53,
    "start_time": "2021-10-19T15:36:18.223Z"
   },
   {
    "duration": 24,
    "start_time": "2021-10-19T15:36:18.279Z"
   },
   {
    "duration": 15,
    "start_time": "2021-10-19T15:36:18.306Z"
   },
   {
    "duration": 43,
    "start_time": "2021-10-19T15:36:18.324Z"
   },
   {
    "duration": 8,
    "start_time": "2021-10-19T15:36:18.370Z"
   },
   {
    "duration": 5,
    "start_time": "2021-10-19T15:36:18.383Z"
   },
   {
    "duration": 11,
    "start_time": "2021-10-19T15:36:18.392Z"
   },
   {
    "duration": 14,
    "start_time": "2021-10-19T15:36:18.406Z"
   },
   {
    "duration": 54,
    "start_time": "2021-10-19T15:36:18.423Z"
   },
   {
    "duration": 11,
    "start_time": "2021-10-19T15:36:18.480Z"
   },
   {
    "duration": 4791,
    "start_time": "2021-10-19T15:36:18.494Z"
   },
   {
    "duration": 45,
    "start_time": "2021-10-19T15:36:23.288Z"
   },
   {
    "duration": 3901,
    "start_time": "2021-10-19T15:36:23.336Z"
   },
   {
    "duration": 32,
    "start_time": "2021-10-19T15:36:27.240Z"
   },
   {
    "duration": 17,
    "start_time": "2021-10-19T15:36:27.275Z"
   },
   {
    "duration": 17,
    "start_time": "2021-10-19T15:36:27.294Z"
   },
   {
    "duration": 59,
    "start_time": "2021-10-19T15:36:27.314Z"
   },
   {
    "duration": 21,
    "start_time": "2021-10-19T15:36:27.375Z"
   },
   {
    "duration": 21,
    "start_time": "2021-10-19T15:36:27.398Z"
   },
   {
    "duration": 46,
    "start_time": "2021-10-19T15:36:27.421Z"
   },
   {
    "duration": 17,
    "start_time": "2021-10-19T15:36:27.470Z"
   },
   {
    "duration": 640,
    "start_time": "2021-10-19T15:42:43.372Z"
   },
   {
    "duration": 1127,
    "start_time": "2021-10-19T15:43:16.782Z"
   },
   {
    "duration": 7064,
    "start_time": "2021-10-19T15:44:45.925Z"
   },
   {
    "duration": 7,
    "start_time": "2021-10-19T15:45:08.595Z"
   },
   {
    "duration": 750,
    "start_time": "2021-10-19T18:57:16.704Z"
   },
   {
    "duration": 54,
    "start_time": "2021-10-19T18:57:54.119Z"
   },
   {
    "duration": 30,
    "start_time": "2021-10-19T18:58:06.153Z"
   },
   {
    "duration": 7,
    "start_time": "2021-10-19T19:11:09.451Z"
   },
   {
    "duration": 6,
    "start_time": "2021-10-19T19:12:35.864Z"
   },
   {
    "duration": 7,
    "start_time": "2021-10-19T19:14:06.971Z"
   },
   {
    "duration": 7,
    "start_time": "2021-10-19T19:16:03.171Z"
   },
   {
    "duration": 6,
    "start_time": "2021-10-19T19:20:26.964Z"
   },
   {
    "duration": 4,
    "start_time": "2021-10-19T19:21:09.867Z"
   },
   {
    "duration": 4,
    "start_time": "2021-10-19T19:21:13.694Z"
   },
   {
    "duration": 5,
    "start_time": "2021-10-19T19:21:19.051Z"
   },
   {
    "duration": 8,
    "start_time": "2021-10-19T19:21:48.205Z"
   },
   {
    "duration": 6,
    "start_time": "2021-10-19T19:22:08.193Z"
   },
   {
    "duration": 8,
    "start_time": "2021-10-19T19:22:19.448Z"
   },
   {
    "duration": 22,
    "start_time": "2021-10-19T19:22:31.385Z"
   },
   {
    "duration": 24,
    "start_time": "2021-10-19T19:24:18.027Z"
   },
   {
    "duration": 97,
    "start_time": "2021-10-19T19:30:19.111Z"
   },
   {
    "duration": 39,
    "start_time": "2021-10-19T19:31:50.371Z"
   },
   {
    "duration": 41,
    "start_time": "2021-10-19T19:32:07.133Z"
   },
   {
    "duration": 5,
    "start_time": "2021-10-19T19:32:07.176Z"
   },
   {
    "duration": 18,
    "start_time": "2021-10-19T19:32:07.183Z"
   },
   {
    "duration": 5,
    "start_time": "2021-10-19T19:32:07.203Z"
   },
   {
    "duration": 36,
    "start_time": "2021-10-19T19:32:07.209Z"
   },
   {
    "duration": 3,
    "start_time": "2021-10-19T19:32:07.247Z"
   },
   {
    "duration": 14,
    "start_time": "2021-10-19T19:32:07.252Z"
   },
   {
    "duration": 14,
    "start_time": "2021-10-19T19:32:07.268Z"
   },
   {
    "duration": 20,
    "start_time": "2021-10-19T19:32:07.284Z"
   },
   {
    "duration": 12,
    "start_time": "2021-10-19T19:32:07.307Z"
   },
   {
    "duration": 31,
    "start_time": "2021-10-19T19:32:07.321Z"
   },
   {
    "duration": 9,
    "start_time": "2021-10-19T19:32:07.353Z"
   },
   {
    "duration": 11,
    "start_time": "2021-10-19T19:32:07.364Z"
   },
   {
    "duration": 14,
    "start_time": "2021-10-19T19:32:07.377Z"
   },
   {
    "duration": 20,
    "start_time": "2021-10-19T19:32:07.392Z"
   },
   {
    "duration": 21,
    "start_time": "2021-10-19T19:32:07.414Z"
   },
   {
    "duration": 28,
    "start_time": "2021-10-19T19:32:07.436Z"
   },
   {
    "duration": 13,
    "start_time": "2021-10-19T19:32:07.466Z"
   },
   {
    "duration": 18,
    "start_time": "2021-10-19T19:32:07.480Z"
   },
   {
    "duration": 17,
    "start_time": "2021-10-19T19:32:07.500Z"
   },
   {
    "duration": 13,
    "start_time": "2021-10-19T19:32:07.519Z"
   },
   {
    "duration": 9,
    "start_time": "2021-10-19T19:32:07.534Z"
   },
   {
    "duration": 11,
    "start_time": "2021-10-19T19:32:07.544Z"
   },
   {
    "duration": 3235,
    "start_time": "2021-10-19T19:32:07.556Z"
   },
   {
    "duration": 19,
    "start_time": "2021-10-19T19:32:10.793Z"
   },
   {
    "duration": 2872,
    "start_time": "2021-10-19T19:32:10.813Z"
   },
   {
    "duration": 652,
    "start_time": "2021-10-19T19:32:13.688Z"
   },
   {
    "duration": 11,
    "start_time": "2021-10-19T19:32:14.345Z"
   },
   {
    "duration": 11,
    "start_time": "2021-10-19T19:32:14.357Z"
   },
   {
    "duration": 10,
    "start_time": "2021-10-19T19:32:14.370Z"
   },
   {
    "duration": 12,
    "start_time": "2021-10-19T19:32:14.382Z"
   },
   {
    "duration": 12,
    "start_time": "2021-10-19T19:32:14.396Z"
   },
   {
    "duration": 46,
    "start_time": "2021-10-19T19:32:14.410Z"
   },
   {
    "duration": 9,
    "start_time": "2021-10-19T19:32:14.458Z"
   },
   {
    "duration": 10,
    "start_time": "2021-10-19T19:32:14.469Z"
   },
   {
    "duration": 921,
    "start_time": "2021-10-19T19:32:33.276Z"
   },
   {
    "duration": 34,
    "start_time": "2021-10-19T19:32:34.199Z"
   },
   {
    "duration": 10,
    "start_time": "2021-10-19T19:32:34.236Z"
   },
   {
    "duration": 6,
    "start_time": "2021-10-19T19:32:34.248Z"
   },
   {
    "duration": 17,
    "start_time": "2021-10-19T19:32:34.256Z"
   },
   {
    "duration": 19,
    "start_time": "2021-10-19T19:32:34.275Z"
   },
   {
    "duration": 6,
    "start_time": "2021-10-19T19:32:34.296Z"
   },
   {
    "duration": 60,
    "start_time": "2021-10-19T19:32:34.304Z"
   },
   {
    "duration": 5,
    "start_time": "2021-10-19T19:32:34.366Z"
   },
   {
    "duration": 16,
    "start_time": "2021-10-19T19:32:34.373Z"
   },
   {
    "duration": 6,
    "start_time": "2021-10-19T19:32:34.391Z"
   },
   {
    "duration": 7,
    "start_time": "2021-10-19T19:32:34.399Z"
   },
   {
    "duration": 36,
    "start_time": "2021-10-19T19:32:34.408Z"
   },
   {
    "duration": 6,
    "start_time": "2021-10-19T19:32:34.446Z"
   },
   {
    "duration": 15,
    "start_time": "2021-10-19T19:32:34.454Z"
   },
   {
    "duration": 13,
    "start_time": "2021-10-19T19:32:34.471Z"
   },
   {
    "duration": 15,
    "start_time": "2021-10-19T19:32:34.486Z"
   },
   {
    "duration": 46,
    "start_time": "2021-10-19T19:32:34.502Z"
   },
   {
    "duration": 9,
    "start_time": "2021-10-19T19:32:34.550Z"
   },
   {
    "duration": 17,
    "start_time": "2021-10-19T19:32:34.560Z"
   },
   {
    "duration": 11,
    "start_time": "2021-10-19T19:32:34.579Z"
   },
   {
    "duration": 21,
    "start_time": "2021-10-19T19:32:34.591Z"
   },
   {
    "duration": 8,
    "start_time": "2021-10-19T19:32:34.615Z"
   },
   {
    "duration": 19,
    "start_time": "2021-10-19T19:32:34.626Z"
   },
   {
    "duration": 5,
    "start_time": "2021-10-19T19:32:34.647Z"
   },
   {
    "duration": 10,
    "start_time": "2021-10-19T19:32:34.653Z"
   },
   {
    "duration": 7,
    "start_time": "2021-10-19T19:32:34.665Z"
   },
   {
    "duration": 10,
    "start_time": "2021-10-19T19:32:34.674Z"
   },
   {
    "duration": 10,
    "start_time": "2021-10-19T19:32:34.685Z"
   },
   {
    "duration": 13,
    "start_time": "2021-10-19T19:32:34.696Z"
   },
   {
    "duration": 3508,
    "start_time": "2021-10-19T19:32:34.711Z"
   },
   {
    "duration": 30,
    "start_time": "2021-10-19T19:32:38.221Z"
   },
   {
    "duration": 2744,
    "start_time": "2021-10-19T19:32:38.252Z"
   },
   {
    "duration": 654,
    "start_time": "2021-10-19T19:32:40.998Z"
   },
   {
    "duration": 12,
    "start_time": "2021-10-19T19:32:41.655Z"
   },
   {
    "duration": 16,
    "start_time": "2021-10-19T19:32:41.669Z"
   },
   {
    "duration": 20,
    "start_time": "2021-10-19T19:32:41.687Z"
   },
   {
    "duration": 16,
    "start_time": "2021-10-19T19:32:41.709Z"
   },
   {
    "duration": 30,
    "start_time": "2021-10-19T19:32:41.727Z"
   },
   {
    "duration": 13,
    "start_time": "2021-10-19T19:32:41.759Z"
   },
   {
    "duration": 11,
    "start_time": "2021-10-19T19:32:41.774Z"
   },
   {
    "duration": 10,
    "start_time": "2021-10-19T19:32:41.787Z"
   },
   {
    "duration": 34,
    "start_time": "2021-10-19T19:33:36.239Z"
   },
   {
    "duration": 17,
    "start_time": "2021-10-19T19:35:31.703Z"
   },
   {
    "duration": 607,
    "start_time": "2021-10-19T19:36:32.302Z"
   },
   {
    "duration": 33,
    "start_time": "2021-10-19T19:36:32.911Z"
   },
   {
    "duration": 8,
    "start_time": "2021-10-19T19:36:32.946Z"
   },
   {
    "duration": 7,
    "start_time": "2021-10-19T19:36:32.956Z"
   },
   {
    "duration": 12,
    "start_time": "2021-10-19T19:36:32.964Z"
   },
   {
    "duration": 16,
    "start_time": "2021-10-19T19:36:32.977Z"
   },
   {
    "duration": 6,
    "start_time": "2021-10-19T19:36:32.994Z"
   },
   {
    "duration": 26,
    "start_time": "2021-10-19T19:36:39.375Z"
   },
   {
    "duration": 8,
    "start_time": "2021-10-19T19:37:47.410Z"
   },
   {
    "duration": 18,
    "start_time": "2021-10-19T19:39:07.527Z"
   },
   {
    "duration": 8,
    "start_time": "2021-10-19T19:43:02.979Z"
   },
   {
    "duration": 18,
    "start_time": "2021-10-19T19:45:56.493Z"
   },
   {
    "duration": 7,
    "start_time": "2021-10-19T19:52:08.070Z"
   },
   {
    "duration": 8,
    "start_time": "2021-10-19T19:53:36.566Z"
   },
   {
    "duration": 10,
    "start_time": "2021-10-19T19:53:45.705Z"
   },
   {
    "duration": 8,
    "start_time": "2021-10-19T19:54:48.751Z"
   },
   {
    "duration": 53,
    "start_time": "2021-10-19T19:58:04.842Z"
   },
   {
    "duration": 28,
    "start_time": "2021-10-19T19:58:04.897Z"
   },
   {
    "duration": 8,
    "start_time": "2021-10-19T19:58:04.926Z"
   },
   {
    "duration": 13,
    "start_time": "2021-10-19T19:58:04.936Z"
   },
   {
    "duration": 761,
    "start_time": "2021-10-19T19:58:12.063Z"
   },
   {
    "duration": 8,
    "start_time": "2021-10-19T19:59:14.594Z"
   },
   {
    "duration": 54,
    "start_time": "2021-10-19T19:59:21.581Z"
   },
   {
    "duration": 29,
    "start_time": "2021-10-19T19:59:21.637Z"
   },
   {
    "duration": 10,
    "start_time": "2021-10-19T19:59:21.668Z"
   },
   {
    "duration": 6,
    "start_time": "2021-10-19T19:59:21.680Z"
   },
   {
    "duration": 9,
    "start_time": "2021-10-19T19:59:25.277Z"
   },
   {
    "duration": 17,
    "start_time": "2021-10-19T19:59:33.240Z"
   },
   {
    "duration": 8,
    "start_time": "2021-10-19T20:09:09.249Z"
   },
   {
    "duration": 19,
    "start_time": "2021-10-19T20:09:11.081Z"
   },
   {
    "duration": 275,
    "start_time": "2021-10-19T20:10:20.569Z"
   },
   {
    "duration": 14,
    "start_time": "2021-10-19T20:11:02.036Z"
   },
   {
    "duration": 258,
    "start_time": "2021-10-19T20:18:26.901Z"
   },
   {
    "duration": 3,
    "start_time": "2021-10-19T20:18:46.341Z"
   },
   {
    "duration": 259,
    "start_time": "2021-10-19T20:19:40.049Z"
   },
   {
    "duration": 326,
    "start_time": "2021-10-19T20:20:22.964Z"
   },
   {
    "duration": 8,
    "start_time": "2021-10-19T20:20:32.218Z"
   },
   {
    "duration": 2638,
    "start_time": "2021-10-19T20:20:35.233Z"
   },
   {
    "duration": 19,
    "start_time": "2021-10-19T20:34:27.457Z"
   },
   {
    "duration": 57,
    "start_time": "2021-10-19T20:34:42.302Z"
   },
   {
    "duration": 27,
    "start_time": "2021-10-19T20:34:42.360Z"
   },
   {
    "duration": 8,
    "start_time": "2021-10-19T20:34:42.389Z"
   },
   {
    "duration": 12,
    "start_time": "2021-10-19T20:34:42.399Z"
   },
   {
    "duration": 6,
    "start_time": "2021-10-19T20:34:42.413Z"
   },
   {
    "duration": 22,
    "start_time": "2021-10-19T20:34:42.444Z"
   },
   {
    "duration": 7,
    "start_time": "2021-10-19T20:34:42.468Z"
   },
   {
    "duration": 17,
    "start_time": "2021-10-19T20:34:42.478Z"
   },
   {
    "duration": 5,
    "start_time": "2021-10-19T20:34:42.497Z"
   },
   {
    "duration": 7,
    "start_time": "2021-10-19T20:34:42.504Z"
   },
   {
    "duration": 4,
    "start_time": "2021-10-19T20:34:42.544Z"
   },
   {
    "duration": 5,
    "start_time": "2021-10-19T20:34:42.550Z"
   },
   {
    "duration": 10,
    "start_time": "2021-10-19T20:34:42.557Z"
   },
   {
    "duration": 13,
    "start_time": "2021-10-19T20:34:42.569Z"
   },
   {
    "duration": 14,
    "start_time": "2021-10-19T20:34:42.583Z"
   },
   {
    "duration": 47,
    "start_time": "2021-10-19T20:34:42.598Z"
   },
   {
    "duration": 10,
    "start_time": "2021-10-19T20:34:42.646Z"
   },
   {
    "duration": 13,
    "start_time": "2021-10-19T20:34:42.658Z"
   },
   {
    "duration": 10,
    "start_time": "2021-10-19T20:34:42.673Z"
   },
   {
    "duration": 10,
    "start_time": "2021-10-19T20:34:42.685Z"
   },
   {
    "duration": 10,
    "start_time": "2021-10-19T20:34:42.697Z"
   },
   {
    "duration": 9,
    "start_time": "2021-10-19T20:34:42.709Z"
   },
   {
    "duration": 27,
    "start_time": "2021-10-19T20:34:42.721Z"
   },
   {
    "duration": 4,
    "start_time": "2021-10-19T20:34:42.750Z"
   },
   {
    "duration": 6,
    "start_time": "2021-10-19T20:34:42.756Z"
   },
   {
    "duration": 13,
    "start_time": "2021-10-19T20:34:42.764Z"
   },
   {
    "duration": 9,
    "start_time": "2021-10-19T20:34:42.779Z"
   },
   {
    "duration": 59,
    "start_time": "2021-10-19T20:34:42.790Z"
   },
   {
    "duration": 2278,
    "start_time": "2021-10-19T20:34:42.850Z"
   },
   {
    "duration": 26,
    "start_time": "2021-10-19T20:34:45.130Z"
   },
   {
    "duration": 2779,
    "start_time": "2021-10-19T20:34:45.157Z"
   },
   {
    "duration": 668,
    "start_time": "2021-10-19T20:34:47.944Z"
   },
   {
    "duration": 13,
    "start_time": "2021-10-19T20:34:48.613Z"
   },
   {
    "duration": 24,
    "start_time": "2021-10-19T20:34:48.628Z"
   },
   {
    "duration": 10,
    "start_time": "2021-10-19T20:34:48.654Z"
   },
   {
    "duration": 12,
    "start_time": "2021-10-19T20:34:48.666Z"
   },
   {
    "duration": 16,
    "start_time": "2021-10-19T20:34:48.680Z"
   },
   {
    "duration": 19,
    "start_time": "2021-10-19T20:34:54.580Z"
   },
   {
    "duration": 26,
    "start_time": "2021-10-19T20:35:29.083Z"
   },
   {
    "duration": 13,
    "start_time": "2021-10-19T20:36:00.358Z"
   },
   {
    "duration": 11,
    "start_time": "2021-10-19T20:40:48.067Z"
   },
   {
    "duration": 12,
    "start_time": "2021-10-19T20:43:58.958Z"
   },
   {
    "duration": 285,
    "start_time": "2021-10-19T20:47:12.105Z"
   },
   {
    "duration": 12,
    "start_time": "2021-10-19T20:47:18.862Z"
   },
   {
    "duration": 13,
    "start_time": "2021-10-19T20:48:04.060Z"
   },
   {
    "duration": 13,
    "start_time": "2021-10-19T20:48:13.010Z"
   },
   {
    "duration": 263,
    "start_time": "2021-10-19T20:52:48.143Z"
   },
   {
    "duration": 13,
    "start_time": "2021-10-19T20:53:06.125Z"
   },
   {
    "duration": 303,
    "start_time": "2021-10-20T14:11:32.546Z"
   },
   {
    "duration": 758,
    "start_time": "2021-10-20T14:19:12.029Z"
   },
   {
    "duration": 37,
    "start_time": "2021-10-20T14:19:12.789Z"
   },
   {
    "duration": 18,
    "start_time": "2021-10-20T14:19:12.827Z"
   },
   {
    "duration": 9,
    "start_time": "2021-10-20T14:19:12.847Z"
   },
   {
    "duration": 17,
    "start_time": "2021-10-20T14:19:12.857Z"
   },
   {
    "duration": 22,
    "start_time": "2021-10-20T14:19:12.876Z"
   },
   {
    "duration": 8,
    "start_time": "2021-10-20T14:19:12.900Z"
   },
   {
    "duration": 39,
    "start_time": "2021-10-20T14:19:12.911Z"
   },
   {
    "duration": 5,
    "start_time": "2021-10-20T14:19:12.952Z"
   },
   {
    "duration": 19,
    "start_time": "2021-10-20T14:19:12.958Z"
   },
   {
    "duration": 10,
    "start_time": "2021-10-20T14:19:12.979Z"
   },
   {
    "duration": 31,
    "start_time": "2021-10-20T14:19:12.990Z"
   },
   {
    "duration": 20,
    "start_time": "2021-10-20T14:19:13.023Z"
   },
   {
    "duration": 15,
    "start_time": "2021-10-20T14:19:13.044Z"
   },
   {
    "duration": 13,
    "start_time": "2021-10-20T14:19:13.061Z"
   },
   {
    "duration": 16,
    "start_time": "2021-10-20T14:19:13.075Z"
   },
   {
    "duration": 9,
    "start_time": "2021-10-20T14:19:13.093Z"
   },
   {
    "duration": 11,
    "start_time": "2021-10-20T14:19:13.104Z"
   },
   {
    "duration": 39,
    "start_time": "2021-10-20T14:19:13.117Z"
   },
   {
    "duration": 21,
    "start_time": "2021-10-20T14:19:13.158Z"
   },
   {
    "duration": 16,
    "start_time": "2021-10-20T14:19:13.181Z"
   },
   {
    "duration": 14,
    "start_time": "2021-10-20T14:19:13.199Z"
   },
   {
    "duration": 10,
    "start_time": "2021-10-20T14:19:13.218Z"
   },
   {
    "duration": 5,
    "start_time": "2021-10-20T14:19:13.230Z"
   },
   {
    "duration": 11,
    "start_time": "2021-10-20T14:19:13.236Z"
   },
   {
    "duration": 13,
    "start_time": "2021-10-20T14:19:13.249Z"
   },
   {
    "duration": 10,
    "start_time": "2021-10-20T14:19:13.263Z"
   },
   {
    "duration": 12,
    "start_time": "2021-10-20T14:19:13.275Z"
   },
   {
    "duration": 2433,
    "start_time": "2021-10-20T14:19:13.289Z"
   },
   {
    "duration": 26,
    "start_time": "2021-10-20T14:19:15.724Z"
   },
   {
    "duration": 2893,
    "start_time": "2021-10-20T14:19:15.752Z"
   },
   {
    "duration": 680,
    "start_time": "2021-10-20T14:19:18.647Z"
   },
   {
    "duration": 19,
    "start_time": "2021-10-20T14:19:19.329Z"
   },
   {
    "duration": 14,
    "start_time": "2021-10-20T14:19:19.350Z"
   },
   {
    "duration": 21,
    "start_time": "2021-10-20T14:19:19.366Z"
   },
   {
    "duration": 21,
    "start_time": "2021-10-20T14:19:19.389Z"
   },
   {
    "duration": 39,
    "start_time": "2021-10-20T14:19:19.412Z"
   },
   {
    "duration": 14,
    "start_time": "2021-10-20T14:19:19.452Z"
   },
   {
    "duration": 16,
    "start_time": "2021-10-20T14:19:19.468Z"
   },
   {
    "duration": 318,
    "start_time": "2021-10-20T14:19:19.486Z"
   },
   {
    "duration": -146057,
    "start_time": "2021-10-20T14:21:45.862Z"
   },
   {
    "duration": -146058,
    "start_time": "2021-10-20T14:21:45.864Z"
   },
   {
    "duration": 19,
    "start_time": "2021-10-20T14:20:44.750Z"
   },
   {
    "duration": 23,
    "start_time": "2021-10-20T14:21:30.827Z"
   },
   {
    "duration": 12,
    "start_time": "2021-10-20T14:22:45.398Z"
   },
   {
    "duration": 13,
    "start_time": "2021-10-20T14:23:52.902Z"
   },
   {
    "duration": 12,
    "start_time": "2021-10-20T14:24:51.918Z"
   },
   {
    "duration": 16,
    "start_time": "2021-10-20T14:25:23.461Z"
   },
   {
    "duration": 693,
    "start_time": "2021-10-21T08:02:15.140Z"
   },
   {
    "duration": 36,
    "start_time": "2021-10-21T08:02:15.835Z"
   },
   {
    "duration": 9,
    "start_time": "2021-10-21T08:02:15.873Z"
   },
   {
    "duration": 8,
    "start_time": "2021-10-21T08:02:15.884Z"
   },
   {
    "duration": 10,
    "start_time": "2021-10-21T08:02:15.893Z"
   },
   {
    "duration": 19,
    "start_time": "2021-10-21T08:02:15.905Z"
   },
   {
    "duration": 38,
    "start_time": "2021-10-21T08:02:15.926Z"
   },
   {
    "duration": 20,
    "start_time": "2021-10-21T08:02:15.968Z"
   },
   {
    "duration": 7,
    "start_time": "2021-10-21T08:02:15.991Z"
   },
   {
    "duration": 7,
    "start_time": "2021-10-21T08:02:16.000Z"
   },
   {
    "duration": 7,
    "start_time": "2021-10-21T08:02:16.009Z"
   },
   {
    "duration": 7,
    "start_time": "2021-10-21T08:02:16.018Z"
   },
   {
    "duration": 13,
    "start_time": "2021-10-21T08:02:16.064Z"
   },
   {
    "duration": 14,
    "start_time": "2021-10-21T08:02:16.079Z"
   },
   {
    "duration": 17,
    "start_time": "2021-10-21T08:02:16.095Z"
   },
   {
    "duration": 56,
    "start_time": "2021-10-21T08:02:16.114Z"
   },
   {
    "duration": 13,
    "start_time": "2021-10-21T08:02:16.171Z"
   },
   {
    "duration": 11,
    "start_time": "2021-10-21T08:02:16.185Z"
   },
   {
    "duration": 15,
    "start_time": "2021-10-21T08:02:16.197Z"
   },
   {
    "duration": 14,
    "start_time": "2021-10-21T08:02:16.213Z"
   },
   {
    "duration": 15,
    "start_time": "2021-10-21T08:02:16.228Z"
   },
   {
    "duration": 8,
    "start_time": "2021-10-21T08:02:16.264Z"
   },
   {
    "duration": 6,
    "start_time": "2021-10-21T08:02:16.275Z"
   },
   {
    "duration": 6,
    "start_time": "2021-10-21T08:02:16.283Z"
   },
   {
    "duration": 11,
    "start_time": "2021-10-21T08:02:16.291Z"
   },
   {
    "duration": 16,
    "start_time": "2021-10-21T08:02:16.304Z"
   },
   {
    "duration": 12,
    "start_time": "2021-10-21T08:02:16.322Z"
   },
   {
    "duration": 6,
    "start_time": "2021-10-21T08:02:16.364Z"
   },
   {
    "duration": 2433,
    "start_time": "2021-10-21T08:02:16.372Z"
   },
   {
    "duration": 292,
    "start_time": "2021-10-21T08:02:18.808Z"
   },
   {
    "duration": -147602,
    "start_time": "2021-10-21T08:04:46.704Z"
   },
   {
    "duration": -147602,
    "start_time": "2021-10-21T08:04:46.706Z"
   },
   {
    "duration": -147602,
    "start_time": "2021-10-21T08:04:46.708Z"
   },
   {
    "duration": -147604,
    "start_time": "2021-10-21T08:04:46.711Z"
   },
   {
    "duration": -147605,
    "start_time": "2021-10-21T08:04:46.714Z"
   },
   {
    "duration": -147607,
    "start_time": "2021-10-21T08:04:46.717Z"
   },
   {
    "duration": -147610,
    "start_time": "2021-10-21T08:04:46.722Z"
   },
   {
    "duration": -147612,
    "start_time": "2021-10-21T08:04:46.725Z"
   },
   {
    "duration": -147613,
    "start_time": "2021-10-21T08:04:46.727Z"
   },
   {
    "duration": -147612,
    "start_time": "2021-10-21T08:04:46.728Z"
   },
   {
    "duration": -147613,
    "start_time": "2021-10-21T08:04:46.730Z"
   },
   {
    "duration": -147613,
    "start_time": "2021-10-21T08:04:46.732Z"
   },
   {
    "duration": -147613,
    "start_time": "2021-10-21T08:04:46.733Z"
   },
   {
    "duration": -147614,
    "start_time": "2021-10-21T08:04:46.736Z"
   },
   {
    "duration": -147617,
    "start_time": "2021-10-21T08:04:46.741Z"
   },
   {
    "duration": 14,
    "start_time": "2021-10-21T08:08:13.498Z"
   },
   {
    "duration": 15,
    "start_time": "2021-10-21T08:09:05.246Z"
   },
   {
    "duration": 14,
    "start_time": "2021-10-21T08:09:32.846Z"
   },
   {
    "duration": 9,
    "start_time": "2021-10-21T09:33:08.060Z"
   },
   {
    "duration": 19,
    "start_time": "2021-10-21T09:33:28.051Z"
   },
   {
    "duration": 10,
    "start_time": "2021-10-21T10:10:52.429Z"
   },
   {
    "duration": 19,
    "start_time": "2021-10-21T10:11:01.357Z"
   },
   {
    "duration": 14,
    "start_time": "2021-10-21T10:11:20.589Z"
   },
   {
    "duration": 18,
    "start_time": "2021-10-21T10:19:20.688Z"
   },
   {
    "duration": 18,
    "start_time": "2021-10-21T10:23:54.972Z"
   },
   {
    "duration": 15,
    "start_time": "2021-10-21T10:24:10.001Z"
   },
   {
    "duration": 270,
    "start_time": "2021-10-21T10:25:25.051Z"
   },
   {
    "duration": 15,
    "start_time": "2021-10-21T10:25:31.963Z"
   },
   {
    "duration": 322,
    "start_time": "2021-10-21T10:35:35.224Z"
   },
   {
    "duration": 14,
    "start_time": "2021-10-21T10:36:24.232Z"
   },
   {
    "duration": 14,
    "start_time": "2021-10-21T10:43:34.884Z"
   },
   {
    "duration": 18,
    "start_time": "2021-10-21T10:43:53.036Z"
   },
   {
    "duration": 15,
    "start_time": "2021-10-21T10:55:51.635Z"
   },
   {
    "duration": 14,
    "start_time": "2021-10-21T10:59:08.220Z"
   },
   {
    "duration": 17,
    "start_time": "2021-10-21T10:59:14.626Z"
   },
   {
    "duration": 20,
    "start_time": "2021-10-21T10:59:20.875Z"
   },
   {
    "duration": 275,
    "start_time": "2021-10-21T11:01:31.493Z"
   },
   {
    "duration": 19,
    "start_time": "2021-10-21T11:02:11.697Z"
   },
   {
    "duration": 20,
    "start_time": "2021-10-21T11:02:32.742Z"
   },
   {
    "duration": 790,
    "start_time": "2021-10-21T15:57:01.679Z"
   },
   {
    "duration": 69,
    "start_time": "2021-10-21T15:57:02.471Z"
   },
   {
    "duration": 12,
    "start_time": "2021-10-21T15:57:02.544Z"
   },
   {
    "duration": 13,
    "start_time": "2021-10-21T15:57:02.559Z"
   },
   {
    "duration": 16,
    "start_time": "2021-10-21T15:57:02.575Z"
   },
   {
    "duration": 58,
    "start_time": "2021-10-21T15:57:02.593Z"
   },
   {
    "duration": 10,
    "start_time": "2021-10-21T15:57:02.653Z"
   },
   {
    "duration": 62,
    "start_time": "2021-10-21T15:57:02.665Z"
   },
   {
    "duration": 9,
    "start_time": "2021-10-21T15:57:02.731Z"
   },
   {
    "duration": 7,
    "start_time": "2021-10-21T15:57:02.749Z"
   },
   {
    "duration": 9,
    "start_time": "2021-10-21T15:57:02.759Z"
   },
   {
    "duration": 10,
    "start_time": "2021-10-21T15:57:02.771Z"
   },
   {
    "duration": 57,
    "start_time": "2021-10-21T15:57:02.784Z"
   },
   {
    "duration": 25,
    "start_time": "2021-10-21T15:57:02.844Z"
   },
   {
    "duration": 63,
    "start_time": "2021-10-21T15:57:02.872Z"
   },
   {
    "duration": 28,
    "start_time": "2021-10-21T15:57:02.938Z"
   },
   {
    "duration": 17,
    "start_time": "2021-10-21T15:57:02.969Z"
   },
   {
    "duration": 49,
    "start_time": "2021-10-21T15:57:02.990Z"
   },
   {
    "duration": 19,
    "start_time": "2021-10-21T15:57:03.042Z"
   },
   {
    "duration": 18,
    "start_time": "2021-10-21T15:57:03.064Z"
   },
   {
    "duration": 45,
    "start_time": "2021-10-21T15:57:03.085Z"
   },
   {
    "duration": 11,
    "start_time": "2021-10-21T15:57:03.132Z"
   },
   {
    "duration": 6,
    "start_time": "2021-10-21T15:57:03.146Z"
   },
   {
    "duration": 5,
    "start_time": "2021-10-21T15:57:03.155Z"
   },
   {
    "duration": 17,
    "start_time": "2021-10-21T15:57:03.162Z"
   },
   {
    "duration": 48,
    "start_time": "2021-10-21T15:57:03.182Z"
   },
   {
    "duration": 17,
    "start_time": "2021-10-21T15:57:03.237Z"
   },
   {
    "duration": 13,
    "start_time": "2021-10-21T15:57:03.257Z"
   },
   {
    "duration": 3354,
    "start_time": "2021-10-21T15:57:03.273Z"
   },
   {
    "duration": 21,
    "start_time": "2021-10-21T15:57:06.632Z"
   },
   {
    "duration": 25,
    "start_time": "2021-10-21T15:57:06.656Z"
   },
   {
    "duration": 3995,
    "start_time": "2021-10-21T15:57:06.684Z"
   },
   {
    "duration": 1035,
    "start_time": "2021-10-21T15:57:10.681Z"
   },
   {
    "duration": 21,
    "start_time": "2021-10-21T15:57:11.718Z"
   },
   {
    "duration": 17,
    "start_time": "2021-10-21T15:57:11.741Z"
   },
   {
    "duration": 16,
    "start_time": "2021-10-21T15:57:11.761Z"
   },
   {
    "duration": 62,
    "start_time": "2021-10-21T15:57:11.780Z"
   },
   {
    "duration": 22,
    "start_time": "2021-10-21T15:57:11.845Z"
   },
   {
    "duration": 19,
    "start_time": "2021-10-21T15:57:11.870Z"
   },
   {
    "duration": 54,
    "start_time": "2021-10-21T15:57:11.892Z"
   },
   {
    "duration": 28,
    "start_time": "2021-10-21T15:57:11.948Z"
   },
   {
    "duration": 28,
    "start_time": "2021-10-21T15:57:11.979Z"
   },
   {
    "duration": 33,
    "start_time": "2021-10-21T15:57:12.027Z"
   },
   {
    "duration": 16,
    "start_time": "2021-10-21T15:57:12.062Z"
   },
   {
    "duration": 37,
    "start_time": "2021-10-21T15:57:12.080Z"
   },
   {
    "duration": 825,
    "start_time": "2021-10-21T15:57:40.947Z"
   },
   {
    "duration": 65,
    "start_time": "2021-10-21T15:57:41.775Z"
   },
   {
    "duration": 12,
    "start_time": "2021-10-21T15:57:41.845Z"
   },
   {
    "duration": 11,
    "start_time": "2021-10-21T15:57:41.860Z"
   },
   {
    "duration": 30,
    "start_time": "2021-10-21T15:57:41.874Z"
   },
   {
    "duration": 45,
    "start_time": "2021-10-21T15:57:41.906Z"
   },
   {
    "duration": 10,
    "start_time": "2021-10-21T15:57:41.954Z"
   },
   {
    "duration": 44,
    "start_time": "2021-10-21T15:57:41.966Z"
   },
   {
    "duration": 9,
    "start_time": "2021-10-21T15:57:42.025Z"
   },
   {
    "duration": 12,
    "start_time": "2021-10-21T15:57:42.038Z"
   },
   {
    "duration": 18,
    "start_time": "2021-10-21T15:57:42.053Z"
   },
   {
    "duration": 24,
    "start_time": "2021-10-21T15:57:42.074Z"
   },
   {
    "duration": 41,
    "start_time": "2021-10-21T15:57:42.100Z"
   },
   {
    "duration": 21,
    "start_time": "2021-10-21T15:57:42.144Z"
   },
   {
    "duration": 23,
    "start_time": "2021-10-21T15:57:42.168Z"
   },
   {
    "duration": 55,
    "start_time": "2021-10-21T15:57:42.194Z"
   },
   {
    "duration": 13,
    "start_time": "2021-10-21T15:57:42.251Z"
   },
   {
    "duration": 26,
    "start_time": "2021-10-21T15:57:42.267Z"
   },
   {
    "duration": 33,
    "start_time": "2021-10-21T15:57:42.296Z"
   },
   {
    "duration": 18,
    "start_time": "2021-10-21T15:57:42.331Z"
   },
   {
    "duration": 12,
    "start_time": "2021-10-21T15:57:42.351Z"
   },
   {
    "duration": 10,
    "start_time": "2021-10-21T15:57:42.365Z"
   },
   {
    "duration": 7,
    "start_time": "2021-10-21T15:57:42.378Z"
   },
   {
    "duration": 6,
    "start_time": "2021-10-21T15:57:42.425Z"
   },
   {
    "duration": 8,
    "start_time": "2021-10-21T15:57:42.435Z"
   },
   {
    "duration": 13,
    "start_time": "2021-10-21T15:57:42.445Z"
   },
   {
    "duration": 13,
    "start_time": "2021-10-21T15:57:42.464Z"
   },
   {
    "duration": 53,
    "start_time": "2021-10-21T15:57:42.480Z"
   },
   {
    "duration": 3218,
    "start_time": "2021-10-21T15:57:42.536Z"
   },
   {
    "duration": 19,
    "start_time": "2021-10-21T15:57:45.757Z"
   },
   {
    "duration": 50,
    "start_time": "2021-10-21T15:57:45.778Z"
   },
   {
    "duration": 3852,
    "start_time": "2021-10-21T15:57:45.831Z"
   },
   {
    "duration": 1008,
    "start_time": "2021-10-21T15:57:49.686Z"
   },
   {
    "duration": 26,
    "start_time": "2021-10-21T15:57:50.696Z"
   },
   {
    "duration": 19,
    "start_time": "2021-10-21T15:57:50.726Z"
   },
   {
    "duration": 15,
    "start_time": "2021-10-21T15:57:50.747Z"
   },
   {
    "duration": 20,
    "start_time": "2021-10-21T15:57:50.764Z"
   },
   {
    "duration": 23,
    "start_time": "2021-10-21T15:57:50.822Z"
   },
   {
    "duration": 23,
    "start_time": "2021-10-21T15:57:50.848Z"
   },
   {
    "duration": 52,
    "start_time": "2021-10-21T15:57:50.873Z"
   },
   {
    "duration": 30,
    "start_time": "2021-10-21T15:57:50.927Z"
   },
   {
    "duration": 16,
    "start_time": "2021-10-21T15:57:50.960Z"
   },
   {
    "duration": 54,
    "start_time": "2021-10-21T15:57:50.978Z"
   },
   {
    "duration": 18,
    "start_time": "2021-10-21T15:57:51.035Z"
   },
   {
    "duration": 21,
    "start_time": "2021-10-21T15:57:51.055Z"
   },
   {
    "duration": 6862,
    "start_time": "2021-10-21T16:00:17.908Z"
   },
   {
    "duration": 87,
    "start_time": "2021-10-21T16:00:55.220Z"
   },
   {
    "duration": 63,
    "start_time": "2021-10-21T16:00:55.310Z"
   },
   {
    "duration": 14,
    "start_time": "2021-10-21T16:00:55.377Z"
   },
   {
    "duration": 37,
    "start_time": "2021-10-21T16:00:55.394Z"
   },
   {
    "duration": 14,
    "start_time": "2021-10-21T16:00:55.434Z"
   },
   {
    "duration": 29,
    "start_time": "2021-10-21T16:00:55.451Z"
   },
   {
    "duration": 14,
    "start_time": "2021-10-21T16:00:55.522Z"
   },
   {
    "duration": 29,
    "start_time": "2021-10-21T16:00:55.538Z"
   },
   {
    "duration": 8,
    "start_time": "2021-10-21T16:00:55.571Z"
   },
   {
    "duration": 45,
    "start_time": "2021-10-21T16:00:55.582Z"
   },
   {
    "duration": 5,
    "start_time": "2021-10-21T16:00:55.630Z"
   },
   {
    "duration": 11,
    "start_time": "2021-10-21T16:00:55.638Z"
   },
   {
    "duration": 18,
    "start_time": "2021-10-21T16:00:55.651Z"
   },
   {
    "duration": 18,
    "start_time": "2021-10-21T16:00:55.671Z"
   },
   {
    "duration": 56,
    "start_time": "2021-10-21T16:00:55.691Z"
   },
   {
    "duration": 25,
    "start_time": "2021-10-21T16:00:55.750Z"
   },
   {
    "duration": 13,
    "start_time": "2021-10-21T16:00:55.777Z"
   },
   {
    "duration": 45,
    "start_time": "2021-10-21T16:00:55.793Z"
   },
   {
    "duration": 19,
    "start_time": "2021-10-21T16:00:55.841Z"
   },
   {
    "duration": 37,
    "start_time": "2021-10-21T16:00:55.863Z"
   },
   {
    "duration": 27,
    "start_time": "2021-10-21T16:00:55.903Z"
   },
   {
    "duration": 11,
    "start_time": "2021-10-21T16:00:55.932Z"
   },
   {
    "duration": 8,
    "start_time": "2021-10-21T16:00:55.946Z"
   },
   {
    "duration": 5,
    "start_time": "2021-10-21T16:00:55.957Z"
   },
   {
    "duration": 14,
    "start_time": "2021-10-21T16:00:55.964Z"
   },
   {
    "duration": 54,
    "start_time": "2021-10-21T16:00:55.981Z"
   },
   {
    "duration": 16,
    "start_time": "2021-10-21T16:00:56.046Z"
   },
   {
    "duration": 89,
    "start_time": "2021-10-21T16:00:56.065Z"
   },
   {
    "duration": 3341,
    "start_time": "2021-10-21T16:00:56.156Z"
   },
   {
    "duration": 36,
    "start_time": "2021-10-21T16:00:59.499Z"
   },
   {
    "duration": 25,
    "start_time": "2021-10-21T16:00:59.538Z"
   },
   {
    "duration": 3880,
    "start_time": "2021-10-21T16:00:59.566Z"
   },
   {
    "duration": 1110,
    "start_time": "2021-10-21T16:01:03.448Z"
   },
   {
    "duration": 18,
    "start_time": "2021-10-21T16:01:04.562Z"
   },
   {
    "duration": 61,
    "start_time": "2021-10-21T16:01:04.583Z"
   },
   {
    "duration": 18,
    "start_time": "2021-10-21T16:01:04.647Z"
   },
   {
    "duration": 23,
    "start_time": "2021-10-21T16:01:04.668Z"
   },
   {
    "duration": 25,
    "start_time": "2021-10-21T16:01:43.117Z"
   },
   {
    "duration": 33,
    "start_time": "2021-10-21T16:03:58.027Z"
   },
   {
    "duration": 6596,
    "start_time": "2021-10-21T16:04:21.459Z"
   },
   {
    "duration": 6960,
    "start_time": "2021-10-21T16:04:40.795Z"
   },
   {
    "duration": 7544,
    "start_time": "2021-10-21T16:04:58.436Z"
   },
   {
    "duration": 30,
    "start_time": "2021-10-21T16:05:11.505Z"
   },
   {
    "duration": 39,
    "start_time": "2021-10-21T16:05:32.908Z"
   },
   {
    "duration": 22,
    "start_time": "2021-10-21T16:07:48.419Z"
   },
   {
    "duration": 39,
    "start_time": "2021-10-21T16:12:26.965Z"
   },
   {
    "duration": 19,
    "start_time": "2021-10-21T16:18:17.546Z"
   },
   {
    "duration": 20,
    "start_time": "2021-10-21T16:18:35.996Z"
   },
   {
    "duration": 688,
    "start_time": "2021-10-21T20:11:10.325Z"
   },
   {
    "duration": 36,
    "start_time": "2021-10-21T20:11:11.016Z"
   },
   {
    "duration": 10,
    "start_time": "2021-10-21T20:11:11.055Z"
   },
   {
    "duration": 6,
    "start_time": "2021-10-21T20:11:11.067Z"
   },
   {
    "duration": 9,
    "start_time": "2021-10-21T20:11:11.075Z"
   },
   {
    "duration": 19,
    "start_time": "2021-10-21T20:11:11.086Z"
   },
   {
    "duration": 42,
    "start_time": "2021-10-21T20:11:11.107Z"
   },
   {
    "duration": 18,
    "start_time": "2021-10-21T20:11:11.152Z"
   },
   {
    "duration": 6,
    "start_time": "2021-10-21T20:11:11.172Z"
   },
   {
    "duration": 7,
    "start_time": "2021-10-21T20:11:11.180Z"
   },
   {
    "duration": 4,
    "start_time": "2021-10-21T20:11:11.189Z"
   },
   {
    "duration": 6,
    "start_time": "2021-10-21T20:11:11.195Z"
   },
   {
    "duration": 43,
    "start_time": "2021-10-21T20:11:11.202Z"
   },
   {
    "duration": 14,
    "start_time": "2021-10-21T20:11:11.247Z"
   },
   {
    "duration": 14,
    "start_time": "2021-10-21T20:11:11.262Z"
   },
   {
    "duration": 16,
    "start_time": "2021-10-21T20:11:11.278Z"
   },
   {
    "duration": 11,
    "start_time": "2021-10-21T20:11:11.296Z"
   },
   {
    "duration": 40,
    "start_time": "2021-10-21T20:11:11.308Z"
   },
   {
    "duration": 12,
    "start_time": "2021-10-21T20:11:11.349Z"
   },
   {
    "duration": 12,
    "start_time": "2021-10-21T20:11:11.363Z"
   },
   {
    "duration": 8,
    "start_time": "2021-10-21T20:11:11.377Z"
   },
   {
    "duration": 8,
    "start_time": "2021-10-21T20:11:11.386Z"
   },
   {
    "duration": 3,
    "start_time": "2021-10-21T20:11:11.397Z"
   },
   {
    "duration": 4,
    "start_time": "2021-10-21T20:11:11.402Z"
   },
   {
    "duration": 39,
    "start_time": "2021-10-21T20:11:11.407Z"
   },
   {
    "duration": 10,
    "start_time": "2021-10-21T20:11:11.448Z"
   },
   {
    "duration": 10,
    "start_time": "2021-10-21T20:11:11.460Z"
   },
   {
    "duration": 8,
    "start_time": "2021-10-21T20:11:11.472Z"
   },
   {
    "duration": 2444,
    "start_time": "2021-10-21T20:11:11.481Z"
   },
   {
    "duration": 21,
    "start_time": "2021-10-21T20:11:13.927Z"
   },
   {
    "duration": 15,
    "start_time": "2021-10-21T20:11:13.949Z"
   },
   {
    "duration": 2865,
    "start_time": "2021-10-21T20:11:13.966Z"
   },
   {
    "duration": 720,
    "start_time": "2021-10-21T20:11:16.845Z"
   },
   {
    "duration": 11,
    "start_time": "2021-10-21T20:11:17.568Z"
   },
   {
    "duration": 17,
    "start_time": "2021-10-21T20:11:17.580Z"
   },
   {
    "duration": 17,
    "start_time": "2021-10-21T20:11:17.599Z"
   },
   {
    "duration": 33,
    "start_time": "2021-10-21T20:11:17.617Z"
   },
   {
    "duration": 20,
    "start_time": "2021-10-21T20:11:17.651Z"
   },
   {
    "duration": 16,
    "start_time": "2021-10-21T20:11:17.673Z"
   },
   {
    "duration": 13,
    "start_time": "2021-10-21T20:11:17.691Z"
   },
   {
    "duration": 13,
    "start_time": "2021-10-21T20:11:17.706Z"
   },
   {
    "duration": 644,
    "start_time": "2021-10-21T20:22:43.535Z"
   },
   {
    "duration": 33,
    "start_time": "2021-10-21T20:22:44.181Z"
   },
   {
    "duration": 8,
    "start_time": "2021-10-21T20:22:44.216Z"
   },
   {
    "duration": 20,
    "start_time": "2021-10-21T20:22:44.225Z"
   },
   {
    "duration": 10,
    "start_time": "2021-10-21T20:22:44.246Z"
   },
   {
    "duration": 18,
    "start_time": "2021-10-21T20:22:44.257Z"
   },
   {
    "duration": 7,
    "start_time": "2021-10-21T20:22:44.276Z"
   },
   {
    "duration": 17,
    "start_time": "2021-10-21T20:22:44.284Z"
   },
   {
    "duration": 5,
    "start_time": "2021-10-21T20:22:44.303Z"
   },
   {
    "duration": 4,
    "start_time": "2021-10-21T20:22:44.345Z"
   },
   {
    "duration": 5,
    "start_time": "2021-10-21T20:22:44.351Z"
   },
   {
    "duration": 7,
    "start_time": "2021-10-21T20:22:44.358Z"
   },
   {
    "duration": 11,
    "start_time": "2021-10-21T20:22:44.367Z"
   },
   {
    "duration": 17,
    "start_time": "2021-10-21T20:22:44.380Z"
   },
   {
    "duration": 19,
    "start_time": "2021-10-21T20:22:44.399Z"
   },
   {
    "duration": 22,
    "start_time": "2021-10-21T20:22:44.445Z"
   },
   {
    "duration": 12,
    "start_time": "2021-10-21T20:22:44.469Z"
   },
   {
    "duration": 11,
    "start_time": "2021-10-21T20:22:44.483Z"
   },
   {
    "duration": 16,
    "start_time": "2021-10-21T20:22:44.496Z"
   },
   {
    "duration": 40,
    "start_time": "2021-10-21T20:22:44.514Z"
   },
   {
    "duration": 6,
    "start_time": "2021-10-21T20:22:44.555Z"
   },
   {
    "duration": 7,
    "start_time": "2021-10-21T20:22:44.563Z"
   },
   {
    "duration": 4,
    "start_time": "2021-10-21T20:22:44.572Z"
   },
   {
    "duration": 3,
    "start_time": "2021-10-21T20:22:44.578Z"
   },
   {
    "duration": 5,
    "start_time": "2021-10-21T20:22:44.583Z"
   },
   {
    "duration": 9,
    "start_time": "2021-10-21T20:22:44.590Z"
   },
   {
    "duration": 42,
    "start_time": "2021-10-21T20:22:44.602Z"
   },
   {
    "duration": 8,
    "start_time": "2021-10-21T20:22:44.646Z"
   },
   {
    "duration": 2563,
    "start_time": "2021-10-21T20:22:44.656Z"
   },
   {
    "duration": 27,
    "start_time": "2021-10-21T20:22:47.225Z"
   },
   {
    "duration": 23,
    "start_time": "2021-10-21T20:22:47.254Z"
   },
   {
    "duration": 2739,
    "start_time": "2021-10-21T20:22:47.279Z"
   },
   {
    "duration": 704,
    "start_time": "2021-10-21T20:22:50.020Z"
   },
   {
    "duration": 11,
    "start_time": "2021-10-21T20:22:50.725Z"
   },
   {
    "duration": 12,
    "start_time": "2021-10-21T20:22:50.744Z"
   },
   {
    "duration": 12,
    "start_time": "2021-10-21T20:22:50.757Z"
   },
   {
    "duration": 17,
    "start_time": "2021-10-21T20:22:50.770Z"
   },
   {
    "duration": 19,
    "start_time": "2021-10-21T20:22:50.789Z"
   },
   {
    "duration": 44,
    "start_time": "2021-10-21T20:22:50.810Z"
   },
   {
    "duration": 14,
    "start_time": "2021-10-21T20:22:50.855Z"
   },
   {
    "duration": 13,
    "start_time": "2021-10-21T20:22:50.870Z"
   },
   {
    "duration": 862,
    "start_time": "2021-10-22T13:43:58.754Z"
   },
   {
    "duration": 61,
    "start_time": "2021-10-22T13:43:59.619Z"
   },
   {
    "duration": 13,
    "start_time": "2021-10-22T13:43:59.683Z"
   },
   {
    "duration": 10,
    "start_time": "2021-10-22T13:43:59.698Z"
   },
   {
    "duration": 11,
    "start_time": "2021-10-22T13:43:59.711Z"
   },
   {
    "duration": 57,
    "start_time": "2021-10-22T13:43:59.725Z"
   },
   {
    "duration": 13,
    "start_time": "2021-10-22T13:43:59.785Z"
   },
   {
    "duration": 65,
    "start_time": "2021-10-22T13:43:59.803Z"
   },
   {
    "duration": 9,
    "start_time": "2021-10-22T13:43:59.872Z"
   },
   {
    "duration": 7,
    "start_time": "2021-10-22T13:43:59.884Z"
   },
   {
    "duration": 6,
    "start_time": "2021-10-22T13:43:59.894Z"
   },
   {
    "duration": 56,
    "start_time": "2021-10-22T13:43:59.903Z"
   },
   {
    "duration": 17,
    "start_time": "2021-10-22T13:43:59.962Z"
   },
   {
    "duration": 20,
    "start_time": "2021-10-22T13:43:59.982Z"
   },
   {
    "duration": 64,
    "start_time": "2021-10-22T13:44:00.004Z"
   },
   {
    "duration": 25,
    "start_time": "2021-10-22T13:44:00.070Z"
   },
   {
    "duration": 14,
    "start_time": "2021-10-22T13:44:00.097Z"
   },
   {
    "duration": 45,
    "start_time": "2021-10-22T13:44:00.114Z"
   },
   {
    "duration": 18,
    "start_time": "2021-10-22T13:44:00.161Z"
   },
   {
    "duration": 32,
    "start_time": "2021-10-22T13:44:00.181Z"
   },
   {
    "duration": 21,
    "start_time": "2021-10-22T13:44:00.216Z"
   },
   {
    "duration": 20,
    "start_time": "2021-10-22T13:44:00.239Z"
   },
   {
    "duration": 18,
    "start_time": "2021-10-22T13:44:00.264Z"
   },
   {
    "duration": 33,
    "start_time": "2021-10-22T13:44:00.285Z"
   },
   {
    "duration": 21,
    "start_time": "2021-10-22T13:44:00.321Z"
   },
   {
    "duration": 22,
    "start_time": "2021-10-22T13:44:00.345Z"
   },
   {
    "duration": 30,
    "start_time": "2021-10-22T13:44:00.370Z"
   },
   {
    "duration": 18,
    "start_time": "2021-10-22T13:44:00.402Z"
   },
   {
    "duration": 3207,
    "start_time": "2021-10-22T13:44:00.423Z"
   },
   {
    "duration": 32,
    "start_time": "2021-10-22T13:44:03.632Z"
   },
   {
    "duration": 28,
    "start_time": "2021-10-22T13:44:03.667Z"
   },
   {
    "duration": 3893,
    "start_time": "2021-10-22T13:44:03.699Z"
   },
   {
    "duration": 974,
    "start_time": "2021-10-22T13:44:07.594Z"
   },
   {
    "duration": 15,
    "start_time": "2021-10-22T13:44:08.570Z"
   },
   {
    "duration": 16,
    "start_time": "2021-10-22T13:44:08.587Z"
   },
   {
    "duration": 63,
    "start_time": "2021-10-22T13:44:08.606Z"
   },
   {
    "duration": 22,
    "start_time": "2021-10-22T13:44:08.671Z"
   },
   {
    "duration": 64,
    "start_time": "2021-10-22T13:44:08.695Z"
   },
   {
    "duration": 25,
    "start_time": "2021-10-22T13:44:08.762Z"
   },
   {
    "duration": 2276,
    "start_time": "2021-10-22T13:44:08.789Z"
   },
   {
    "duration": 30,
    "start_time": "2021-10-22T13:44:11.069Z"
   },
   {
    "duration": 23,
    "start_time": "2021-10-22T13:44:11.101Z"
   },
   {
    "duration": 493,
    "start_time": "2022-05-03T11:50:58.401Z"
   },
   {
    "duration": 73,
    "start_time": "2022-05-03T11:50:59.769Z"
   },
   {
    "duration": 27,
    "start_time": "2022-05-03T11:51:02.317Z"
   },
   {
    "duration": 21,
    "start_time": "2022-05-03T11:51:07.266Z"
   },
   {
    "duration": 20,
    "start_time": "2022-05-03T11:53:37.800Z"
   },
   {
    "duration": 44,
    "start_time": "2022-05-03T11:53:39.583Z"
   },
   {
    "duration": 4,
    "start_time": "2022-05-03T12:24:30.964Z"
   },
   {
    "duration": 86,
    "start_time": "2022-05-03T12:24:30.971Z"
   },
   {
    "duration": 17,
    "start_time": "2022-05-03T12:24:31.060Z"
   },
   {
    "duration": 28,
    "start_time": "2022-05-03T12:24:31.081Z"
   },
   {
    "duration": 46,
    "start_time": "2022-05-03T12:24:31.112Z"
   },
   {
    "duration": 29,
    "start_time": "2022-05-03T12:24:31.161Z"
   },
   {
    "duration": 16,
    "start_time": "2022-05-03T12:24:31.192Z"
   },
   {
    "duration": 13,
    "start_time": "2022-05-03T12:24:31.210Z"
   },
   {
    "duration": 23,
    "start_time": "2022-05-03T12:24:31.226Z"
   },
   {
    "duration": 12,
    "start_time": "2022-05-03T12:24:31.281Z"
   },
   {
    "duration": 30,
    "start_time": "2022-05-03T12:24:31.297Z"
   },
   {
    "duration": 7,
    "start_time": "2022-05-03T12:24:31.330Z"
   },
   {
    "duration": 10,
    "start_time": "2022-05-03T12:24:31.340Z"
   },
   {
    "duration": 6,
    "start_time": "2022-05-03T12:24:31.382Z"
   },
   {
    "duration": 10,
    "start_time": "2022-05-03T12:24:31.391Z"
   },
   {
    "duration": 19,
    "start_time": "2022-05-03T12:24:31.403Z"
   },
   {
    "duration": 106,
    "start_time": "2022-05-03T12:32:32.081Z"
   },
   {
    "duration": 10,
    "start_time": "2022-05-03T12:33:54.493Z"
   },
   {
    "duration": 4,
    "start_time": "2022-05-03T12:34:14.971Z"
   },
   {
    "duration": 80,
    "start_time": "2022-05-03T12:34:14.977Z"
   },
   {
    "duration": 21,
    "start_time": "2022-05-03T12:34:15.059Z"
   },
   {
    "duration": 21,
    "start_time": "2022-05-03T12:34:15.083Z"
   },
   {
    "duration": 44,
    "start_time": "2022-05-03T12:34:15.106Z"
   },
   {
    "duration": 41,
    "start_time": "2022-05-03T12:34:15.152Z"
   },
   {
    "duration": 10,
    "start_time": "2022-05-03T12:34:15.195Z"
   },
   {
    "duration": 15,
    "start_time": "2022-05-03T12:34:15.208Z"
   },
   {
    "duration": 70,
    "start_time": "2022-05-03T12:34:15.226Z"
   },
   {
    "duration": 15,
    "start_time": "2022-05-03T12:34:15.301Z"
   },
   {
    "duration": 34,
    "start_time": "2022-05-03T12:34:15.319Z"
   },
   {
    "duration": 35,
    "start_time": "2022-05-03T12:34:15.355Z"
   },
   {
    "duration": 7,
    "start_time": "2022-05-03T12:34:15.393Z"
   },
   {
    "duration": 6,
    "start_time": "2022-05-03T12:34:15.403Z"
   },
   {
    "duration": 10,
    "start_time": "2022-05-03T12:34:15.411Z"
   },
   {
    "duration": 60,
    "start_time": "2022-05-03T12:34:15.423Z"
   },
   {
    "duration": 23,
    "start_time": "2022-05-03T12:34:15.485Z"
   },
   {
    "duration": 24,
    "start_time": "2022-05-03T12:34:15.510Z"
   },
   {
    "duration": 55,
    "start_time": "2022-05-03T12:34:15.536Z"
   },
   {
    "duration": 20,
    "start_time": "2022-05-03T12:34:15.594Z"
   },
   {
    "duration": 32,
    "start_time": "2022-05-03T12:34:15.616Z"
   },
   {
    "duration": 41,
    "start_time": "2022-05-03T12:34:15.651Z"
   },
   {
    "duration": 26,
    "start_time": "2022-05-03T12:34:15.694Z"
   },
   {
    "duration": 17,
    "start_time": "2022-05-03T12:34:15.723Z"
   },
   {
    "duration": 7,
    "start_time": "2022-05-03T12:34:15.742Z"
   },
   {
    "duration": 37,
    "start_time": "2022-05-03T12:34:15.751Z"
   },
   {
    "duration": 536,
    "start_time": "2022-05-03T13:24:26.176Z"
   },
   {
    "duration": 81,
    "start_time": "2022-05-03T13:24:26.715Z"
   },
   {
    "duration": 28,
    "start_time": "2022-05-03T13:24:26.798Z"
   },
   {
    "duration": 24,
    "start_time": "2022-05-03T13:24:26.828Z"
   },
   {
    "duration": 72,
    "start_time": "2022-05-03T13:24:26.856Z"
   },
   {
    "duration": 13,
    "start_time": "2022-05-03T13:24:26.930Z"
   },
   {
    "duration": 9,
    "start_time": "2022-05-03T13:24:26.946Z"
   },
   {
    "duration": 16,
    "start_time": "2022-05-03T13:24:26.983Z"
   },
   {
    "duration": 25,
    "start_time": "2022-05-03T13:24:27.001Z"
   },
   {
    "duration": 10,
    "start_time": "2022-05-03T13:24:27.029Z"
   },
   {
    "duration": 67,
    "start_time": "2022-05-03T13:24:27.042Z"
   },
   {
    "duration": 7,
    "start_time": "2022-05-03T13:24:27.111Z"
   },
   {
    "duration": 8,
    "start_time": "2022-05-03T13:24:27.120Z"
   },
   {
    "duration": 6,
    "start_time": "2022-05-03T13:24:27.133Z"
   },
   {
    "duration": 49,
    "start_time": "2022-05-03T13:24:27.141Z"
   },
   {
    "duration": 19,
    "start_time": "2022-05-03T13:24:27.193Z"
   },
   {
    "duration": 23,
    "start_time": "2022-05-03T13:24:27.214Z"
   },
   {
    "duration": 52,
    "start_time": "2022-05-03T13:24:27.239Z"
   },
   {
    "duration": 27,
    "start_time": "2022-05-03T13:24:27.298Z"
   },
   {
    "duration": 18,
    "start_time": "2022-05-03T13:24:27.328Z"
   },
   {
    "duration": 41,
    "start_time": "2022-05-03T13:24:27.348Z"
   },
   {
    "duration": 20,
    "start_time": "2022-05-03T13:24:27.391Z"
   },
   {
    "duration": 18,
    "start_time": "2022-05-03T13:24:27.413Z"
   },
   {
    "duration": 19,
    "start_time": "2022-05-03T13:24:27.433Z"
   },
   {
    "duration": 6,
    "start_time": "2022-05-03T13:24:27.454Z"
   },
   {
    "duration": 24,
    "start_time": "2022-05-03T13:24:27.462Z"
   },
   {
    "duration": 21,
    "start_time": "2022-05-03T13:24:27.490Z"
   },
   {
    "duration": 17,
    "start_time": "2022-05-03T13:24:27.513Z"
   },
   {
    "duration": 21,
    "start_time": "2022-05-03T13:24:27.532Z"
   },
   {
    "duration": 4,
    "start_time": "2022-05-03T13:24:27.555Z"
   },
   {
    "duration": 5433,
    "start_time": "2022-05-03T13:24:27.560Z"
   },
   {
    "duration": 20,
    "start_time": "2022-05-03T13:24:32.995Z"
   },
   {
    "duration": 27,
    "start_time": "2022-05-03T13:24:33.017Z"
   },
   {
    "duration": 4527,
    "start_time": "2022-05-03T13:24:33.047Z"
   },
   {
    "duration": 15,
    "start_time": "2022-05-03T13:24:37.590Z"
   },
   {
    "duration": 18,
    "start_time": "2022-05-03T13:24:37.607Z"
   },
   {
    "duration": 18,
    "start_time": "2022-05-03T13:24:37.627Z"
   },
   {
    "duration": 51,
    "start_time": "2022-05-03T13:24:37.648Z"
   },
   {
    "duration": 23,
    "start_time": "2022-05-03T13:24:37.702Z"
   },
   {
    "duration": 55,
    "start_time": "2022-05-03T13:24:37.727Z"
   },
   {
    "duration": 712,
    "start_time": "2022-05-03T13:24:37.787Z"
   },
   {
    "duration": 33,
    "start_time": "2022-05-03T13:24:38.502Z"
   },
   {
    "duration": 55,
    "start_time": "2022-05-03T13:24:38.537Z"
   },
   {
    "duration": 29,
    "start_time": "2022-05-03T13:29:12.159Z"
   },
   {
    "duration": 3,
    "start_time": "2022-05-03T13:29:23.037Z"
   },
   {
    "duration": 84,
    "start_time": "2022-05-03T13:29:23.043Z"
   },
   {
    "duration": 18,
    "start_time": "2022-05-03T13:29:23.130Z"
   },
   {
    "duration": 45,
    "start_time": "2022-05-03T13:29:23.150Z"
   },
   {
    "duration": 44,
    "start_time": "2022-05-03T13:29:23.198Z"
   },
   {
    "duration": 41,
    "start_time": "2022-05-03T13:29:23.245Z"
   },
   {
    "duration": 10,
    "start_time": "2022-05-03T13:29:23.289Z"
   },
   {
    "duration": 12,
    "start_time": "2022-05-03T13:29:23.302Z"
   },
   {
    "duration": 25,
    "start_time": "2022-05-03T13:29:23.317Z"
   },
   {
    "duration": 46,
    "start_time": "2022-05-03T13:29:23.344Z"
   },
   {
    "duration": 25,
    "start_time": "2022-05-03T13:29:23.393Z"
   },
   {
    "duration": 7,
    "start_time": "2022-05-03T13:29:23.420Z"
   },
   {
    "duration": 12,
    "start_time": "2022-05-03T13:29:23.429Z"
   },
   {
    "duration": 39,
    "start_time": "2022-05-03T13:29:23.443Z"
   },
   {
    "duration": 9,
    "start_time": "2022-05-03T13:29:23.484Z"
   },
   {
    "duration": 16,
    "start_time": "2022-05-03T13:29:23.495Z"
   },
   {
    "duration": 22,
    "start_time": "2022-05-03T13:29:23.513Z"
   },
   {
    "duration": 56,
    "start_time": "2022-05-03T13:29:23.537Z"
   },
   {
    "duration": 28,
    "start_time": "2022-05-03T13:29:23.595Z"
   },
   {
    "duration": 26,
    "start_time": "2022-05-03T13:29:23.625Z"
   },
   {
    "duration": 673,
    "start_time": "2022-05-03T13:42:04.570Z"
   },
   {
    "duration": 80,
    "start_time": "2022-05-03T13:42:05.246Z"
   },
   {
    "duration": 30,
    "start_time": "2022-05-03T13:42:05.328Z"
   },
   {
    "duration": 39,
    "start_time": "2022-05-03T13:42:05.361Z"
   },
   {
    "duration": 45,
    "start_time": "2022-05-03T13:42:05.403Z"
   },
   {
    "duration": 37,
    "start_time": "2022-05-03T13:42:05.451Z"
   },
   {
    "duration": 9,
    "start_time": "2022-05-03T13:42:05.491Z"
   },
   {
    "duration": 13,
    "start_time": "2022-05-03T13:42:05.502Z"
   },
   {
    "duration": 65,
    "start_time": "2022-05-03T13:42:05.517Z"
   },
   {
    "duration": 11,
    "start_time": "2022-05-03T13:42:05.586Z"
   },
   {
    "duration": 53,
    "start_time": "2022-05-03T13:42:05.599Z"
   },
   {
    "duration": 9,
    "start_time": "2022-05-03T13:42:05.654Z"
   },
   {
    "duration": 18,
    "start_time": "2022-05-03T13:42:05.669Z"
   },
   {
    "duration": 19,
    "start_time": "2022-05-03T13:42:05.689Z"
   },
   {
    "duration": 10,
    "start_time": "2022-05-03T13:42:05.710Z"
   },
   {
    "duration": 16,
    "start_time": "2022-05-03T13:42:05.722Z"
   },
   {
    "duration": 26,
    "start_time": "2022-05-03T13:42:05.741Z"
   },
   {
    "duration": 29,
    "start_time": "2022-05-03T13:42:05.782Z"
   },
   {
    "duration": 31,
    "start_time": "2022-05-03T13:42:05.813Z"
   },
   {
    "duration": 55,
    "start_time": "2022-05-03T13:42:05.847Z"
   },
   {
    "duration": 16,
    "start_time": "2022-05-03T13:42:05.905Z"
   },
   {
    "duration": 19,
    "start_time": "2022-05-03T13:42:05.924Z"
   },
   {
    "duration": 48,
    "start_time": "2022-05-03T13:42:05.945Z"
   },
   {
    "duration": 13,
    "start_time": "2022-05-03T13:42:05.995Z"
   },
   {
    "duration": 6,
    "start_time": "2022-05-03T13:42:06.010Z"
   },
   {
    "duration": 7,
    "start_time": "2022-05-03T13:42:06.018Z"
   },
   {
    "duration": 10,
    "start_time": "2022-05-03T13:42:06.027Z"
   },
   {
    "duration": 11,
    "start_time": "2022-05-03T13:42:06.083Z"
   },
   {
    "duration": 23,
    "start_time": "2022-05-03T13:42:06.096Z"
   },
   {
    "duration": 4,
    "start_time": "2022-05-03T13:42:06.121Z"
   },
   {
    "duration": 3305,
    "start_time": "2022-05-03T13:42:06.127Z"
   },
   {
    "duration": 20,
    "start_time": "2022-05-03T13:42:09.434Z"
   },
   {
    "duration": 44,
    "start_time": "2022-05-03T13:42:09.456Z"
   },
   {
    "duration": 4550,
    "start_time": "2022-05-03T13:42:09.502Z"
   },
   {
    "duration": 30,
    "start_time": "2022-05-03T13:42:14.054Z"
   },
   {
    "duration": 18,
    "start_time": "2022-05-03T13:42:14.087Z"
   },
   {
    "duration": 19,
    "start_time": "2022-05-03T13:42:14.108Z"
   },
   {
    "duration": 61,
    "start_time": "2022-05-03T13:42:14.129Z"
   },
   {
    "duration": 403,
    "start_time": "2022-05-03T13:42:14.192Z"
   },
   {
    "duration": 25,
    "start_time": "2022-05-03T13:42:14.597Z"
   },
   {
    "duration": 21,
    "start_time": "2022-05-03T13:42:14.624Z"
   },
   {
    "duration": 53,
    "start_time": "2022-05-03T13:42:14.648Z"
   }
  ],
  "kernelspec": {
   "display_name": "Python 3 (ipykernel)",
   "language": "python",
   "name": "python3"
  },
  "language_info": {
   "codemirror_mode": {
    "name": "ipython",
    "version": 3
   },
   "file_extension": ".py",
   "mimetype": "text/x-python",
   "name": "python",
   "nbconvert_exporter": "python",
   "pygments_lexer": "ipython3",
   "version": "3.9.5"
  },
  "toc": {
   "base_numbering": 1,
   "nav_menu": {},
   "number_sections": false,
   "sideBar": true,
   "skip_h1_title": true,
   "title_cell": "Table of Contents",
   "title_sidebar": "Contents",
   "toc_cell": false,
   "toc_position": {
    "height": "calc(100% - 180px)",
    "left": "10px",
    "top": "150px",
    "width": "165px"
   },
   "toc_section_display": true,
   "toc_window_display": true
  }
 },
 "nbformat": 4,
 "nbformat_minor": 2
}
