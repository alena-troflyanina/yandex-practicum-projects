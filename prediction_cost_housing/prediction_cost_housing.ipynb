{
 "cells": [
  {
   "cell_type": "markdown",
   "id": "GEqQaHzsZ_bA",
   "metadata": {
    "id": "GEqQaHzsZ_bA"
   },
   "source": [
    "# Предсказание стоимости жилья\n",
    "\n",
    "В проекте нужно обучить модель линейной регрессии на данных о жилье в Калифорнии в 1990 году. На основе данных необходимо предсказать медианную стоимость дома в жилом массиве, обучить модель и сделать предсказания на тестовой выборке. Для оценки качества модели использовать метрики RMSE, MAE и R2."
   ]
  },
  {
   "cell_type": "markdown",
   "id": "b706c4ae",
   "metadata": {},
   "source": [
    "*Примечание к выполнению задания:* \n",
    "- для чтения и манипуляциями с данными использовать методы pySpark;\n",
    "- построить две модели линейной регрессии на разных наборах данных:\n",
    "    - используя все данные из файла;\n",
    "    - используя только числовые переменные, исключив категориальные\n",
    "- для построения модели использовать оценщик LinearRegression из библиотеки MLlib."
   ]
  },
  {
   "cell_type": "markdown",
   "id": "53871372",
   "metadata": {
    "id": "53871372"
   },
   "source": [
    "## Подготовка данных"
   ]
  },
  {
   "cell_type": "code",
   "execution_count": 1,
   "id": "df92e3ec",
   "metadata": {
    "id": "df92e3ec",
    "scrolled": true
   },
   "outputs": [],
   "source": [
    "import matplotlib.pyplot as plt\n",
    "import numpy as np\n",
    "import pyspark\n",
    "import pandas as pd\n",
    "import seaborn as sns\n",
    "\n",
    "from pyspark.sql import SparkSession, DataFrame\n",
    "from pyspark.sql.types import *\n",
    "import pyspark.sql.functions as F\n",
    "\n",
    "import pyspark.mllib as ml\n",
    "from pyspark.ml.stat import Correlation\n",
    "from pyspark.ml.feature import StringIndexer, VectorAssembler, StandardScaler, OneHotEncoder\n",
    "from pyspark.ml.regression import LinearRegression\n",
    "from pyspark.ml.evaluation import RegressionEvaluator\n",
    "from pyspark.ml.tuning import ParamGridBuilder, CrossValidator\n",
    "\n",
    "# инициализация локальной Spark-сессии\n",
    "spark = SparkSession.builder \\\n",
    "                    .master('local') \\\n",
    "                    .appName('Housing in California DataFrames') \\\n",
    "                    .getOrCreate()"
   ]
  },
  {
   "cell_type": "code",
   "execution_count": 2,
   "id": "68e17999",
   "metadata": {},
   "outputs": [
    {
     "name": "stderr",
     "output_type": "stream",
     "text": [
      "[Stage 1:>                                                          (0 + 1) / 1]\r"
     ]
    },
    {
     "name": "stdout",
     "output_type": "stream",
     "text": [
      "root\n",
      " |-- longitude: double (nullable = true)\n",
      " |-- latitude: double (nullable = true)\n",
      " |-- housing_median_age: double (nullable = true)\n",
      " |-- total_rooms: double (nullable = true)\n",
      " |-- total_bedrooms: double (nullable = true)\n",
      " |-- population: double (nullable = true)\n",
      " |-- households: double (nullable = true)\n",
      " |-- median_income: double (nullable = true)\n",
      " |-- median_house_value: double (nullable = true)\n",
      " |-- ocean_proximity: string (nullable = true)\n",
      "\n"
     ]
    },
    {
     "name": "stderr",
     "output_type": "stream",
     "text": [
      "                                                                                \r"
     ]
    }
   ],
   "source": [
    "# чтение файла\n",
    "housing_california = spark.read.load('/datasets/housing.csv', format='csv', inferSchema=True, header=True)\n",
    "housing_california.printSchema()"
   ]
  },
  {
   "cell_type": "code",
   "execution_count": 3,
   "id": "e4c03e10",
   "metadata": {},
   "outputs": [
    {
     "name": "stdout",
     "output_type": "stream",
     "text": [
      "longitude 0\n",
      "latitude 0\n",
      "housing_median_age 0\n",
      "total_rooms 0\n",
      "total_bedrooms 207\n",
      "population 0\n",
      "households 0\n",
      "median_income 0\n",
      "median_house_value 0\n",
      "ocean_proximity 0\n"
     ]
    }
   ],
   "source": [
    "# проверка на пропущенные значения\n",
    "columns = housing_california.columns\n",
    "\n",
    "for column in columns:\n",
    "    check_columns = F.col(column).isNull()\n",
    "    print(column, housing_california.filter(check_columns).count())"
   ]
  },
  {
   "cell_type": "code",
   "execution_count": 4,
   "id": "8a647bf8",
   "metadata": {},
   "outputs": [
    {
     "name": "stdout",
     "output_type": "stream",
     "text": [
      "+---------+--------+------------------+-----------+--------------+----------+----------+-------------+------------------+---------------+\n",
      "|longitude|latitude|housing_median_age|total_rooms|total_bedrooms|population|households|median_income|median_house_value|ocean_proximity|\n",
      "+---------+--------+------------------+-----------+--------------+----------+----------+-------------+------------------+---------------+\n",
      "|  -122.23|   37.88|              41.0|      880.0|         129.0|     322.0|     126.0|       8.3252|          452600.0|       NEAR BAY|\n",
      "|  -122.22|   37.86|              21.0|     7099.0|        1106.0|    2401.0|    1138.0|       8.3014|          358500.0|       NEAR BAY|\n",
      "|  -122.24|   37.85|              52.0|     1467.0|         190.0|     496.0|     177.0|       7.2574|          352100.0|       NEAR BAY|\n",
      "|  -122.25|   37.85|              52.0|     1274.0|         235.0|     558.0|     219.0|       5.6431|          341300.0|       NEAR BAY|\n",
      "|  -122.25|   37.85|              52.0|     1627.0|         280.0|     565.0|     259.0|       3.8462|          342200.0|       NEAR BAY|\n",
      "|  -122.25|   37.85|              52.0|      919.0|         213.0|     413.0|     193.0|       4.0368|          269700.0|       NEAR BAY|\n",
      "|  -122.25|   37.84|              52.0|     2535.0|         489.0|    1094.0|     514.0|       3.6591|          299200.0|       NEAR BAY|\n",
      "|  -122.25|   37.84|              52.0|     3104.0|         687.0|    1157.0|     647.0|         3.12|          241400.0|       NEAR BAY|\n",
      "|  -122.26|   37.84|              42.0|     2555.0|         665.0|    1206.0|     595.0|       2.0804|          226700.0|       NEAR BAY|\n",
      "|  -122.25|   37.84|              52.0|     3549.0|         707.0|    1551.0|     714.0|       3.6912|          261100.0|       NEAR BAY|\n",
      "+---------+--------+------------------+-----------+--------------+----------+----------+-------------+------------------+---------------+\n",
      "only showing top 10 rows\n",
      "\n"
     ]
    }
   ],
   "source": [
    "# первые 10 строк\n",
    "housing_california.show(10)"
   ]
  },
  {
   "cell_type": "code",
   "execution_count": 5,
   "id": "ae3bb7e1",
   "metadata": {},
   "outputs": [
    {
     "name": "stdout",
     "output_type": "stream",
     "text": [
      "+-------+------------------+------------+--------------+------------+------------+-------------+------------------+\n",
      "|summary|housing_median_age| total_rooms|total_bedrooms|  population|  households|median_income|median_house_value|\n",
      "+-------+------------------+------------+--------------+------------+------------+-------------+------------------+\n",
      "|  count|             20640|       20640|         20433|       20640|       20640|        20640|             20640|\n",
      "|   mean|      28.639486...|2635.7630...|  537.87055...|1425.4767...|499.53968...| 3.8706710...|      206855.81...|\n",
      "| stddev|      12.585557...|2181.6152...|  421.38507...|1132.4621...|382.32975...| 1.8998217...|      115395.61...|\n",
      "|    min|               1.0|         2.0|           1.0|         3.0|         1.0|       0.4999|           14999.0|\n",
      "|    max|              52.0|     39320.0|        6445.0|     35682.0|      6082.0|      15.0001|          500001.0|\n",
      "+-------+------------------+------------+--------------+------------+------------+-------------+------------------+\n",
      "\n",
      "housing_median_age [8.0, 52.0]\n",
      "total_rooms [620.0, 6213.0]\n",
      "total_bedrooms [137.0, 1276.0]\n",
      "population [348.0, 3288.0]\n",
      "households [125.0, 1162.0]\n",
      "median_income [1.6, 7.3003]\n",
      "median_house_value [66200.0, 489800.0]\n"
     ]
    }
   ],
   "source": [
    "# описательные статистики\n",
    "columns = [\n",
    "    'housing_median_age', 'total_rooms', 'total_bedrooms',\n",
    "     'population', 'households', 'median_income', 'median_house_value'\n",
    "]\n",
    "\n",
    "housing_california.describe(columns).show(truncate=12)\n",
    "\n",
    "for col in columns:\n",
    "    print(col, housing_california.approxQuantile(col, [0.05, 0.95], 0))"
   ]
  },
  {
   "cell_type": "markdown",
   "id": "f3e1e3c9",
   "metadata": {},
   "source": [
    "**Описание данных:**\n",
    "- `longitude` — широта;\n",
    "- `latitude` — долгота;\n",
    "- `housing_median_age` — медианный возраст жителей жилого массива;\n",
    "- `total_rooms` — общее количество комнат в домах жилого массива;\n",
    "- `total_bedrooms` — общее количество спален в домах жилого массива;\n",
    "- `population` — количество человек, которые проживают в жилом массиве;\n",
    "- `households` — количество домовладений в жилом массиве;\n",
    "- `median_income` — медианный доход жителей жилого массива;\n",
    "- `median_house_value` — медианная стоимость дома в жилом массиве;\n",
    "- `ocean_proximity` — близость к океану."
   ]
  },
  {
   "cell_type": "markdown",
   "id": "7b80ff10",
   "metadata": {},
   "source": [
    "- набор данных состоит из 10 столбцов и 20 640 строк;\n",
    "- в столбце `total_bedrooms` обнаружено 207 пропущенных значений, которые необходимо обработать;\n",
    "- столбец `ocean_proximity` имеет тип данных `string`, остальные - тип `double`;\n",
    "- столбцы `housing_median_age`, `total_rooms`, `total_bedrooms`, `population`, `households`, `median_income` содержат аномальные значения, которые необходимо обработать;\n",
    "- целевой признак - `median_house_value`."
   ]
  },
  {
   "cell_type": "markdown",
   "id": "9e1596fb",
   "metadata": {},
   "source": [
    "## Предобработка и исследовательский анализ данных"
   ]
  },
  {
   "cell_type": "markdown",
   "id": "0cb92fa7",
   "metadata": {},
   "source": [
    "- *линейная корреляция признаков:*"
   ]
  },
  {
   "cell_type": "code",
   "execution_count": 6,
   "id": "73cf5152",
   "metadata": {},
   "outputs": [],
   "source": [
    "housing_california_df = housing_california.toPandas()"
   ]
  },
  {
   "cell_type": "code",
   "execution_count": 7,
   "id": "12944f87",
   "metadata": {},
   "outputs": [
    {
     "name": "stderr",
     "output_type": "stream",
     "text": [
      "22/08/01 07:39:35 WARN BLAS: Failed to load implementation from: com.github.fommil.netlib.NativeSystemBLAS\n",
      "22/08/01 07:39:35 WARN BLAS: Failed to load implementation from: com.github.fommil.netlib.NativeRefBLAS\n",
      "                                                                                \r"
     ]
    }
   ],
   "source": [
    "assembler = VectorAssembler(inputCols=columns, outputCol='features', handleInvalid='skip')\n",
    "vectorized_features = assembler.transform(housing_california).select('features')\n",
    "\n",
    "correlation = Correlation.corr(vectorized_features, 'features', 'pearson').collect()[0][0]"
   ]
  },
  {
   "cell_type": "code",
   "execution_count": 8,
   "id": "171e5b31",
   "metadata": {},
   "outputs": [
    {
     "name": "stderr",
     "output_type": "stream",
     "text": [
      "[Stage 37:>                                                         (0 + 1) / 1]\r"
     ]
    },
    {
     "name": "stdout",
     "output_type": "stream",
     "text": [
      "+------------------+-----------+--------------+----------+----------+-------------+------------------+\n",
      "|housing_median_age|total_rooms|total_bedrooms|population|households|median_income|median_house_value|\n",
      "+------------------+-----------+--------------+----------+----------+-------------+------------------+\n",
      "|               1.0| -0.3606...|    -0.3204...|-0.2957...|-0.3027...|   -0.1182...|        0.10643...|\n",
      "|        -0.3606...|        1.0|    0.93037...|0.85728...|0.91899...|   0.19788...|        0.13329...|\n",
      "|        -0.3204...| 0.93037...|           1.0|0.87774...|0.97972...|   -0.0077...|        0.04968...|\n",
      "|        -0.2957...| 0.85728...|    0.87774...|       1.0|0.90718...|   0.00508...|        -0.0252...|\n",
      "|        -0.3027...| 0.91899...|    0.97972...|0.90718...|       1.0|   0.01343...|        0.06489...|\n",
      "|        -0.1182...| 0.19788...|    -0.0077...|0.00508...|0.01343...|          1.0|        0.68835...|\n",
      "|        0.10643...| 0.13329...|    0.04968...|-0.0252...|0.06489...|   0.68835...|               1.0|\n",
      "+------------------+-----------+--------------+----------+----------+-------------+------------------+\n",
      "\n"
     ]
    },
    {
     "name": "stderr",
     "output_type": "stream",
     "text": [
      "                                                                                \r"
     ]
    }
   ],
   "source": [
    "rows = correlation.toArray().tolist()\n",
    "spark.createDataFrame(rows, columns).show(truncate=10)"
   ]
  },
  {
   "cell_type": "markdown",
   "id": "578bc923",
   "metadata": {},
   "source": [
    "***Вывод:*** между целевым признаком медианной стоимости дома в жилом массиве и медианным доходом жителей жилого массива наблюдается достаточно сильная линейная зависимость; между остальными признаками и целевым признаком линейных зависимостей не обнаружено. При этом есть сильно выраженная линейная зависимость между признаками."
   ]
  },
  {
   "cell_type": "markdown",
   "id": "fac9240a",
   "metadata": {},
   "source": [
    "- *построение гистограмм и замена аномальных значений:*"
   ]
  },
  {
   "cell_type": "code",
   "execution_count": 9,
   "id": "d0fd848f",
   "metadata": {},
   "outputs": [],
   "source": [
    "plt.rcParams['figure.figsize'] = [8, 8]\n",
    "sns.set_theme(style=\"whitegrid\")"
   ]
  },
  {
   "cell_type": "code",
   "execution_count": 10,
   "id": "be6b820e",
   "metadata": {},
   "outputs": [
    {
     "data": {
      "text/plain": [
       "Text(0.5, 1.0, 'Histogram of housing median age')"
      ]
     },
     "execution_count": 10,
     "metadata": {},
     "output_type": "execute_result"
    },
    {
     "data": {
      "image/png": "[encoded data removed]",
      "text/plain": [
       "<Figure size 576x576 with 1 Axes>"
      ]
     },
     "metadata": {},
     "output_type": "display_data"
    }
   ],
   "source": [
    "housing_california_df['housing_median_age'].hist(bins=20, range=(0, 55))\n",
    "plt.xlabel('housing median age')\n",
    "plt.ylabel('frequency')\n",
    "plt.title('Histogram of housing median age')"
   ]
  },
  {
   "cell_type": "code",
   "execution_count": 11,
   "id": "1fb4ad7f",
   "metadata": {},
   "outputs": [
    {
     "data": {
      "text/plain": [
       "Text(0.5, 1.0, 'Histogram of total rooms')"
      ]
     },
     "execution_count": 11,
     "metadata": {},
     "output_type": "execute_result"
    },
    {
     "data": {
      "image/png": "[encoded data removed]",
      "text/plain": [
       "<Figure size 576x576 with 1 Axes>"
      ]
     },
     "metadata": {},
     "output_type": "display_data"
    }
   ],
   "source": [
    "housing_california_df['total_rooms'].hist(bins=20, range=(0, 10000))\n",
    "plt.xlabel('total rooms')\n",
    "plt.ylabel('frequency')\n",
    "plt.title('Histogram of total rooms')"
   ]
  },
  {
   "cell_type": "code",
   "execution_count": 12,
   "id": "762fbfe4",
   "metadata": {},
   "outputs": [
    {
     "data": {
      "text/plain": [
       "Text(0.5, 1.0, 'Histogram of total bedrooms')"
      ]
     },
     "execution_count": 12,
     "metadata": {},
     "output_type": "execute_result"
    },
    {
     "data": {
      "image/png": "[encoded data removed]",
      "text/plain": [
       "<Figure size 576x576 with 1 Axes>"
      ]
     },
     "metadata": {},
     "output_type": "display_data"
    }
   ],
   "source": [
    "housing_california_df['total_bedrooms'].hist(bins=20, range=(0, 2500))\n",
    "plt.xlabel('total bedrooms')\n",
    "plt.ylabel('frequency')\n",
    "plt.title('Histogram of total bedrooms')"
   ]
  },
  {
   "cell_type": "code",
   "execution_count": 13,
   "id": "027ab39c",
   "metadata": {},
   "outputs": [
    {
     "data": {
      "text/plain": [
       "Text(0.5, 1.0, 'Histogram of population')"
      ]
     },
     "execution_count": 13,
     "metadata": {},
     "output_type": "execute_result"
    },
    {
     "data": {
      "image/png": "[encoded data removed]",
      "text/plain": [
       "<Figure size 576x576 with 1 Axes>"
      ]
     },
     "metadata": {},
     "output_type": "display_data"
    }
   ],
   "source": [
    "housing_california_df['population'].hist(bins=20, range=(0, 7000))\n",
    "plt.xlabel('population')\n",
    "plt.ylabel('frequency')\n",
    "plt.title('Histogram of population')"
   ]
  },
  {
   "cell_type": "code",
   "execution_count": 14,
   "id": "fe20e40c",
   "metadata": {},
   "outputs": [
    {
     "data": {
      "text/plain": [
       "Text(0.5, 1.0, 'Histogram of households')"
      ]
     },
     "execution_count": 14,
     "metadata": {},
     "output_type": "execute_result"
    },
    {
     "data": {
      "image/png": "[encoded data removed]",
      "text/plain": [
       "<Figure size 576x576 with 1 Axes>"
      ]
     },
     "metadata": {},
     "output_type": "display_data"
    }
   ],
   "source": [
    "housing_california_df['households'].hist(bins=20, range=(0, 2500))\n",
    "plt.xlabel('households')\n",
    "plt.ylabel('frequency')\n",
    "plt.title('Histogram of households')"
   ]
  },
  {
   "cell_type": "code",
   "execution_count": 15,
   "id": "206fa3da",
   "metadata": {},
   "outputs": [
    {
     "data": {
      "text/plain": [
       "Text(0.5, 1.0, 'Histogram of median income')"
      ]
     },
     "execution_count": 15,
     "metadata": {},
     "output_type": "execute_result"
    },
    {
     "data": {
      "image/png": "[encoded data removed]",
      "text/plain": [
       "<Figure size 576x576 with 1 Axes>"
      ]
     },
     "metadata": {},
     "output_type": "display_data"
    }
   ],
   "source": [
    "housing_california_df['median_income'].hist(bins=20, range=(0, 20))\n",
    "plt.xlabel('median income')\n",
    "plt.ylabel('frequency')\n",
    "plt.title('Histogram of median income')"
   ]
  },
  {
   "cell_type": "markdown",
   "id": "6f324d7e",
   "metadata": {},
   "source": [
    "***Вывод:***\n",
    "- значения в столбце `housing_median_age` не имеют нормального распределения, присутствует множество пиковых значений, 32 года - самый часто встречаемый медианный возраст в жилых массивах;\n",
    "- в колонках `total_rooms`, `total_bedrooms`, `population`,`households`, `median_income` данные распределены нормально, скошены вправо и имеют аномальные значения. "
   ]
  },
  {
   "cell_type": "code",
   "execution_count": 16,
   "id": "8fe3b82d",
   "metadata": {},
   "outputs": [],
   "source": [
    "numeric_columns = [\n",
    "    'housing_median_age', 'total_rooms', \n",
    "    'total_bedrooms', 'population',\n",
    "    'households', 'median_income'\n",
    "]"
   ]
  },
  {
   "cell_type": "code",
   "execution_count": 17,
   "id": "3e01728a",
   "metadata": {},
   "outputs": [
    {
     "name": "stdout",
     "output_type": "stream",
     "text": [
      "housing_median_age 8.0 52.0\n",
      "total_rooms 620.0 6213.0\n",
      "total_bedrooms 137.0 1276.0\n",
      "population 348.0 3288.0\n",
      "households 125.0 1162.0\n",
      "median_income 1.6 7.3003\n"
     ]
    }
   ],
   "source": [
    "# замена аномальных значений 5-м и 95-м процентилями\n",
    "for column in numeric_columns:\n",
    "    q_5, q_95 = housing_california.approxQuantile(column, [0.05, 0.95], 0)\n",
    "    print(column, q_5, q_95)\n",
    "    filter_func = F.when(\n",
    "        housing_california[column] < q_5, q_5\n",
    "    ).when(\n",
    "        housing_california[column] > q_95, q_95\n",
    "    ).otherwise(\n",
    "        housing_california[column]\n",
    "    )\n",
    "    housing_california = housing_california.withColumn(column, filter_func)"
   ]
  },
  {
   "cell_type": "code",
   "execution_count": 18,
   "id": "f4d0f1e9",
   "metadata": {},
   "outputs": [
    {
     "name": "stdout",
     "output_type": "stream",
     "text": [
      "+-------+------------------+------------+--------------+------------+------------+-------------+------------------+\n",
      "|summary|housing_median_age| total_rooms|total_bedrooms|  population|  households|median_income|median_house_value|\n",
      "+-------+------------------+------------+--------------+------------+------------+-------------+------------------+\n",
      "|  count|             20640|       20640|         20433|       20640|       20640|        20640|             20640|\n",
      "|   mean|      28.769186...|2484.1645...|  511.19243...|1352.9354...|475.59118...| 3.7873885...|      206855.81...|\n",
      "| stddev|      12.350934...|1449.0360...|  296.97352...|775.08586...|270.67742...| 1.5627794...|      115395.61...|\n",
      "|    min|               8.0|       620.0|         137.0|       348.0|       125.0|          1.6|           14999.0|\n",
      "|    max|              52.0|      6213.0|        1276.0|      3288.0|      1162.0|       7.3003|          500001.0|\n",
      "+-------+------------------+------------+--------------+------------+------------+-------------+------------------+\n",
      "\n"
     ]
    }
   ],
   "source": [
    "# поверка, что аномальные значения заменились на нужные процентили\n",
    "housing_california.describe(columns).show(truncate=12)"
   ]
  },
  {
   "cell_type": "markdown",
   "id": "615b91ea",
   "metadata": {},
   "source": [
    "- *замена пропущенных значений в колонке `total_bedrooms` на медиану:*"
   ]
  },
  {
   "cell_type": "code",
   "execution_count": 19,
   "id": "a697a8eb",
   "metadata": {
    "scrolled": true
   },
   "outputs": [
    {
     "data": {
      "text/plain": [
       "435.0"
      ]
     },
     "execution_count": 19,
     "metadata": {},
     "output_type": "execute_result"
    }
   ],
   "source": [
    "total_bedrooms_median = housing_california_df['total_bedrooms'].median()\n",
    "total_bedrooms_median"
   ]
  },
  {
   "cell_type": "code",
   "execution_count": 20,
   "id": "989ede1e",
   "metadata": {},
   "outputs": [],
   "source": [
    "housing_california = housing_california.fillna({'total_bedrooms': total_bedrooms_median})"
   ]
  },
  {
   "cell_type": "markdown",
   "id": "b74fbb9a",
   "metadata": {},
   "source": [
    "- *удаление столбцов с широтой и долготой:*"
   ]
  },
  {
   "cell_type": "code",
   "execution_count": 21,
   "id": "dea03a33",
   "metadata": {},
   "outputs": [
    {
     "name": "stdout",
     "output_type": "stream",
     "text": [
      "+------------------+-----------+--------------+----------+----------+-------------+------------------+---------------+\n",
      "|housing_median_age|total_rooms|total_bedrooms|population|households|median_income|median_house_value|ocean_proximity|\n",
      "+------------------+-----------+--------------+----------+----------+-------------+------------------+---------------+\n",
      "|              41.0|      880.0|         137.0|     348.0|     126.0|       7.3003|          452600.0|       NEAR BAY|\n",
      "|              21.0|     6213.0|        1106.0|    2401.0|    1138.0|       7.3003|          358500.0|       NEAR BAY|\n",
      "|              52.0|     1467.0|         190.0|     496.0|     177.0|       7.2574|          352100.0|       NEAR BAY|\n",
      "|              52.0|     1274.0|         235.0|     558.0|     219.0|       5.6431|          341300.0|       NEAR BAY|\n",
      "|              52.0|     1627.0|         280.0|     565.0|     259.0|       3.8462|          342200.0|       NEAR BAY|\n",
      "+------------------+-----------+--------------+----------+----------+-------------+------------------+---------------+\n",
      "only showing top 5 rows\n",
      "\n"
     ]
    }
   ],
   "source": [
    "exclude = ['longitude', 'latitude']\n",
    "selected_columns = [col for col in housing_california.columns if col not in exclude]\n",
    "\n",
    "housing_california = housing_california.select(selected_columns)\n",
    "housing_california.show(5)"
   ]
  },
  {
   "cell_type": "markdown",
   "id": "023de51b",
   "metadata": {},
   "source": [
    "- *добавление новых признаков для обучения модели:*"
   ]
  },
  {
   "cell_type": "code",
   "execution_count": 22,
   "id": "b1fe0bcc",
   "metadata": {},
   "outputs": [
    {
     "name": "stdout",
     "output_type": "stream",
     "text": [
      "root\n",
      " |-- housing_median_age: double (nullable = true)\n",
      " |-- total_rooms: double (nullable = true)\n",
      " |-- total_bedrooms: double (nullable = false)\n",
      " |-- population: double (nullable = true)\n",
      " |-- households: double (nullable = true)\n",
      " |-- median_income: double (nullable = true)\n",
      " |-- median_house_value: double (nullable = true)\n",
      " |-- ocean_proximity: string (nullable = true)\n",
      " |-- rooms_per_household: double (nullable = true)\n",
      " |-- population_in_household: double (nullable = true)\n",
      " |-- bedroom_index: double (nullable = true)\n",
      "\n",
      "+------------------+-----------+--------------+----------+----------+-------------+------------------+---------------+-------------------+-----------------------+-------------+\n",
      "|housing_median_age|total_rooms|total_bedrooms|population|households|median_income|median_house_value|ocean_proximity|rooms_per_household|population_in_household|bedroom_index|\n",
      "+------------------+-----------+--------------+----------+----------+-------------+------------------+---------------+-------------------+-----------------------+-------------+\n",
      "|              41.0|      880.0|         137.0|     348.0|     126.0|       7.3003|          452600.0|       NEAR BAY|               6.98|                   2.76|         0.16|\n",
      "|              21.0|     6213.0|        1106.0|    2401.0|    1138.0|       7.3003|          358500.0|       NEAR BAY|               5.46|                   2.11|         0.18|\n",
      "|              52.0|     1467.0|         190.0|     496.0|     177.0|       7.2574|          352100.0|       NEAR BAY|               8.29|                    2.8|         0.13|\n",
      "|              52.0|     1274.0|         235.0|     558.0|     219.0|       5.6431|          341300.0|       NEAR BAY|               5.82|                   2.55|         0.18|\n",
      "|              52.0|     1627.0|         280.0|     565.0|     259.0|       3.8462|          342200.0|       NEAR BAY|               6.28|                   2.18|         0.17|\n",
      "+------------------+-----------+--------------+----------+----------+-------------+------------------+---------------+-------------------+-----------------------+-------------+\n",
      "only showing top 5 rows\n",
      "\n"
     ]
    }
   ],
   "source": [
    "# отношение количества комнат к количеству домовладений\n",
    "housing_california = housing_california.withColumn(\n",
    "    'rooms_per_household', \n",
    "    F.round(F.col('total_rooms') / F.col('households'), 2)\n",
    ")\n",
    "\n",
    "# отношение количества жителей к количеству домовладений\n",
    "housing_california = housing_california.withColumn(\n",
    "    'population_in_household',\n",
    "    F.round(F.col('population') / F.col('households'), 2)\n",
    ")\n",
    "\n",
    "# отношение количества спален к общему количеству комнат\n",
    "housing_california = housing_california.withColumn(\n",
    "    'bedroom_index',\n",
    "    F.round(F.col('total_bedrooms') / F.col('total_rooms'), 2)\n",
    ")\n",
    "\n",
    "housing_california.printSchema()\n",
    "housing_california.show(5)"
   ]
  },
  {
   "cell_type": "markdown",
   "id": "9f0a82f3",
   "metadata": {
    "id": "9f0a82f3"
   },
   "source": [
    "## Обучение моделей с помощью MLlib"
   ]
  },
  {
   "cell_type": "code",
   "execution_count": 23,
   "id": "bddb08c4",
   "metadata": {
    "id": "bddb08c4"
   },
   "outputs": [],
   "source": [
    "# числовые признаки\n",
    "numeric_columns = ['housing_median_age', 'total_rooms', 'total_bedrooms', 'population',\n",
    "                   'households', 'median_income', 'rooms_per_household',\n",
    "                   'population_in_household', 'bedroom_index'\n",
    "                  ]"
   ]
  },
  {
   "cell_type": "code",
   "execution_count": 24,
   "id": "2f6d41e7",
   "metadata": {},
   "outputs": [],
   "source": [
    "# категориальные признаки\n",
    "categorial_columns = ['ocean_proximity']"
   ]
  },
  {
   "cell_type": "code",
   "execution_count": 25,
   "id": "1d9392f6",
   "metadata": {},
   "outputs": [],
   "source": [
    "# целевой признак\n",
    "target = 'median_house_value'"
   ]
  },
  {
   "cell_type": "code",
   "execution_count": 26,
   "id": "e89a3efe",
   "metadata": {},
   "outputs": [],
   "source": [
    "RANDOM_STATE=123"
   ]
  },
  {
   "cell_type": "markdown",
   "id": "d82dcf5a",
   "metadata": {},
   "source": [
    "### Преобразование категориальных признаков"
   ]
  },
  {
   "cell_type": "code",
   "execution_count": 27,
   "id": "13a6622a",
   "metadata": {},
   "outputs": [
    {
     "name": "stderr",
     "output_type": "stream",
     "text": [
      "                                                                                \r"
     ]
    },
    {
     "name": "stdout",
     "output_type": "stream",
     "text": [
      "+---------------+-------------------+\n",
      "|ocean_proximity|ocean_proximity_idx|\n",
      "+---------------+-------------------+\n",
      "|       NEAR BAY|                3.0|\n",
      "|       NEAR BAY|                3.0|\n",
      "|       NEAR BAY|                3.0|\n",
      "+---------------+-------------------+\n",
      "only showing top 3 rows\n",
      "\n"
     ]
    }
   ],
   "source": [
    "indexer = StringIndexer(inputCol='ocean_proximity', outputCol='ocean_proximity_idx')\n",
    "\n",
    "housing_california = indexer.fit(housing_california).transform(housing_california)\n",
    "\n",
    "\n",
    "cols = [c for c in housing_california.columns for i in categorial_columns if (c.startswith(i))]\n",
    "housing_california.select(cols).show(3)"
   ]
  },
  {
   "cell_type": "code",
   "execution_count": 28,
   "id": "7ba649d5",
   "metadata": {},
   "outputs": [
    {
     "name": "stdout",
     "output_type": "stream",
     "text": [
      "+---------------+-------------------+-------------------+\n",
      "|ocean_proximity|ocean_proximity_idx|ocean_proximity_ohe|\n",
      "+---------------+-------------------+-------------------+\n",
      "|       NEAR BAY|                3.0|      (4,[3],[1.0])|\n",
      "|       NEAR BAY|                3.0|      (4,[3],[1.0])|\n",
      "|       NEAR BAY|                3.0|      (4,[3],[1.0])|\n",
      "+---------------+-------------------+-------------------+\n",
      "only showing top 3 rows\n",
      "\n"
     ]
    }
   ],
   "source": [
    "encoder = OneHotEncoder(inputCol='ocean_proximity_idx',\n",
    "                       outputCol='ocean_proximity_ohe'\n",
    "                       )\n",
    "housing_california = encoder.fit(housing_california).transform(housing_california)\n",
    "\n",
    "cols = [c for c in housing_california.columns for i in categorial_columns if (c.startswith(i))]\n",
    "housing_california.select(cols).show(3)"
   ]
  },
  {
   "cell_type": "code",
   "execution_count": 29,
   "id": "651852f4",
   "metadata": {},
   "outputs": [
    {
     "name": "stdout",
     "output_type": "stream",
     "text": [
      "+---------------+-------------------+-------------------+-------------------+\n",
      "|ocean_proximity|ocean_proximity_idx|ocean_proximity_ohe|categorial_features|\n",
      "+---------------+-------------------+-------------------+-------------------+\n",
      "|       NEAR BAY|                3.0|      (4,[3],[1.0])|      (4,[3],[1.0])|\n",
      "|       NEAR BAY|                3.0|      (4,[3],[1.0])|      (4,[3],[1.0])|\n",
      "|       NEAR BAY|                3.0|      (4,[3],[1.0])|      (4,[3],[1.0])|\n",
      "+---------------+-------------------+-------------------+-------------------+\n",
      "only showing top 3 rows\n",
      "\n"
     ]
    }
   ],
   "source": [
    "categorial_assembler = VectorAssembler(\n",
    "    inputCols=[c+'_ohe' for c in categorial_columns],\n",
    "    outputCol='categorial_features'\n",
    ")\n",
    "housing_california = categorial_assembler.transform(housing_california)\n",
    "\n",
    "cols = [c for c in housing_california.columns for i in categorial_columns if (c.startswith(i))]\n",
    "housing_california.select(cols + ['categorial_features']).show(3)"
   ]
  },
  {
   "cell_type": "markdown",
   "id": "2b740095",
   "metadata": {},
   "source": [
    "### Преобразование числовых признаков"
   ]
  },
  {
   "cell_type": "code",
   "execution_count": 30,
   "id": "f26c4534",
   "metadata": {},
   "outputs": [],
   "source": [
    "numeric_assembler = VectorAssembler(inputCols=numeric_columns, outputCol='numeric_features')\n",
    "housing_california = numeric_assembler.transform(housing_california)"
   ]
  },
  {
   "cell_type": "code",
   "execution_count": 31,
   "id": "4062f43a",
   "metadata": {},
   "outputs": [
    {
     "name": "stdout",
     "output_type": "stream",
     "text": [
      "+--------------------+\n",
      "|    numeric_features|\n",
      "+--------------------+\n",
      "|[41.0,880.0,137.0...|\n",
      "|[21.0,6213.0,1106...|\n",
      "+--------------------+\n",
      "only showing top 2 rows\n",
      "\n"
     ]
    }
   ],
   "source": [
    "housing_california.select(['numeric_features']).show(2)"
   ]
  },
  {
   "cell_type": "code",
   "execution_count": 32,
   "id": "fbe1dd0c",
   "metadata": {},
   "outputs": [
    {
     "name": "stderr",
     "output_type": "stream",
     "text": [
      "                                                                                \r"
     ]
    }
   ],
   "source": [
    "standardScaler = StandardScaler(inputCol='numeric_features', outputCol='numeric_features_scaler')\n",
    "housing_california = standardScaler.fit(housing_california).transform(housing_california)"
   ]
  },
  {
   "cell_type": "code",
   "execution_count": 33,
   "id": "982c9bee",
   "metadata": {},
   "outputs": [
    {
     "name": "stdout",
     "output_type": "stream",
     "text": [
      "+-----------------------+\n",
      "|numeric_features_scaler|\n",
      "+-----------------------+\n",
      "|   [3.31958680986533...|\n",
      "|   [1.70027617090663...|\n",
      "+-----------------------+\n",
      "only showing top 2 rows\n",
      "\n"
     ]
    }
   ],
   "source": [
    "housing_california.select(['numeric_features_scaler']).show(2)"
   ]
  },
  {
   "cell_type": "code",
   "execution_count": 34,
   "id": "8a240ef7",
   "metadata": {},
   "outputs": [
    {
     "name": "stdout",
     "output_type": "stream",
     "text": [
      "['housing_median_age', 'total_rooms', 'total_bedrooms', 'population', 'households', 'median_income', 'median_house_value', 'ocean_proximity', 'rooms_per_household', 'population_in_household', 'bedroom_index', 'ocean_proximity_idx', 'ocean_proximity_ohe', 'categorial_features', 'numeric_features', 'numeric_features_scaler']\n"
     ]
    }
   ],
   "source": [
    "print(housing_california.columns)"
   ]
  },
  {
   "cell_type": "code",
   "execution_count": 35,
   "id": "7d0e42ca",
   "metadata": {},
   "outputs": [
    {
     "name": "stdout",
     "output_type": "stream",
     "text": [
      "+--------------------+\n",
      "|            features|\n",
      "+--------------------+\n",
      "|[0.0,0.0,0.0,1.0,...|\n",
      "|[0.0,0.0,0.0,1.0,...|\n",
      "|[0.0,0.0,0.0,1.0,...|\n",
      "|[0.0,0.0,0.0,1.0,...|\n",
      "|[0.0,0.0,0.0,1.0,...|\n",
      "+--------------------+\n",
      "only showing top 5 rows\n",
      "\n"
     ]
    }
   ],
   "source": [
    "all_features = ['categorial_features', 'numeric_features_scaler']\n",
    "\n",
    "final_assembler = VectorAssembler(inputCols = all_features, outputCol='features') \n",
    "housing_california = final_assembler.transform(housing_california)\n",
    "\n",
    "housing_california.select('features').show(5) "
   ]
  },
  {
   "cell_type": "code",
   "execution_count": 36,
   "id": "838806a4",
   "metadata": {},
   "outputs": [
    {
     "name": "stdout",
     "output_type": "stream",
     "text": [
      "+-----------------------+\n",
      "|numeric_features_scaler|\n",
      "+-----------------------+\n",
      "|   [3.31958680986533...|\n",
      "|   [1.70027617090663...|\n",
      "|   [4.21020766129261...|\n",
      "|   [4.21020766129261...|\n",
      "|   [4.21020766129261...|\n",
      "+-----------------------+\n",
      "only showing top 5 rows\n",
      "\n"
     ]
    }
   ],
   "source": [
    "housing_california.select('numeric_features_scaler').show(5)"
   ]
  },
  {
   "cell_type": "markdown",
   "id": "b1d58916",
   "metadata": {},
   "source": [
    "### Разделение на выборки"
   ]
  },
  {
   "cell_type": "code",
   "execution_count": 37,
   "id": "5a8472b9",
   "metadata": {},
   "outputs": [
    {
     "name": "stderr",
     "output_type": "stream",
     "text": [
      "[Stage 61:>                                                         (0 + 1) / 1]\r"
     ]
    },
    {
     "name": "stdout",
     "output_type": "stream",
     "text": [
      "16442 4198\n"
     ]
    },
    {
     "name": "stderr",
     "output_type": "stream",
     "text": [
      "                                                                                \r"
     ]
    }
   ],
   "source": [
    "features_train, features_test = housing_california.randomSplit([.8,.2], seed=RANDOM_STATE)\n",
    "print(features_train.count(), features_test.count()) "
   ]
  },
  {
   "cell_type": "markdown",
   "id": "41f03597",
   "metadata": {},
   "source": [
    "### GridSearch и кросс-валидация"
   ]
  },
  {
   "cell_type": "markdown",
   "id": "6e677c7c",
   "metadata": {},
   "source": [
    "- *обучение модели на всем наборе данных:*"
   ]
  },
  {
   "cell_type": "code",
   "execution_count": 40,
   "id": "71c5a38a",
   "metadata": {},
   "outputs": [],
   "source": [
    "model_lr = LinearRegression(\n",
    "    labelCol=target,\n",
    "    featuresCol='features'\n",
    ")"
   ]
  },
  {
   "cell_type": "code",
   "execution_count": 41,
   "id": "c3abf62a",
   "metadata": {},
   "outputs": [],
   "source": [
    "grid_search = ParamGridBuilder().addGrid(\n",
    "    model_lr.regParam, [0.0, 0.05, 0.2, 1.0]\n",
    ").addGrid(\n",
    "    model_lr.elasticNetParam, [0.5, 1.0]\n",
    ").build()"
   ]
  },
  {
   "cell_type": "code",
   "execution_count": 42,
   "id": "d0fcd61c",
   "metadata": {},
   "outputs": [],
   "source": [
    "evaluator = RegressionEvaluator(predictionCol='prediction',\n",
    "                                labelCol=target)"
   ]
  },
  {
   "cell_type": "code",
   "execution_count": 43,
   "id": "5a847839",
   "metadata": {
    "scrolled": true
   },
   "outputs": [
    {
     "name": "stderr",
     "output_type": "stream",
     "text": [
      "22/06/02 19:03:19 WARN Instrumentation: [aa88175d] regParam is zero, which might cause numerical instability and overfitting.\n",
      "22/06/02 19:03:21 WARN LAPACK: Failed to load implementation from: com.github.fommil.netlib.NativeSystemLAPACK\n",
      "22/06/02 19:03:21 WARN LAPACK: Failed to load implementation from: com.github.fommil.netlib.NativeRefLAPACK\n",
      "22/06/02 19:03:24 WARN Instrumentation: [cebcc776] regParam is zero, which might cause numerical instability and overfitting.\n",
      "22/06/02 19:03:33 WARN Instrumentation: [c59a2a9b] regParam is zero, which might cause numerical instability and overfitting.\n",
      "22/06/02 19:03:36 WARN Instrumentation: [16bd8c99] regParam is zero, which might cause numerical instability and overfitting.\n",
      "22/06/02 19:03:43 WARN Instrumentation: [a2656178] regParam is zero, which might cause numerical instability and overfitting.\n",
      "22/06/02 19:03:46 WARN Instrumentation: [4fc14797] regParam is zero, which might cause numerical instability and overfitting.\n",
      "22/06/02 19:03:52 WARN Instrumentation: [7ad02fb2] regParam is zero, which might cause numerical instability and overfitting.\n",
      "22/06/02 19:03:55 WARN Instrumentation: [2703390f] regParam is zero, which might cause numerical instability and overfitting.\n",
      "22/06/02 19:04:01 WARN Instrumentation: [c04352f7] regParam is zero, which might cause numerical instability and overfitting.\n",
      "22/06/02 19:04:03 WARN Instrumentation: [810eba9a] regParam is zero, which might cause numerical instability and overfitting.\n",
      "22/06/02 19:04:08 WARN Instrumentation: [fda19a36] regParam is zero, which might cause numerical instability and overfitting.\n",
      "                                                                                \r"
     ]
    }
   ],
   "source": [
    "cv = CrossValidator(estimator=model_lr,\n",
    "                    estimatorParamMaps=grid_search,\n",
    "                    evaluator=evaluator,\n",
    "                    numFolds=5,\n",
    "                    seed=RANDOM_STATE\n",
    "                   )\n",
    "cv_model = cv.fit(features_train)"
   ]
  },
  {
   "cell_type": "code",
   "execution_count": 44,
   "id": "89943335",
   "metadata": {},
   "outputs": [
    {
     "data": {
      "text/plain": [
       "50595.97818525096"
      ]
     },
     "execution_count": 44,
     "metadata": {},
     "output_type": "execute_result"
    }
   ],
   "source": [
    "cv_model.bestModel.summary.meanAbsoluteError"
   ]
  },
  {
   "cell_type": "code",
   "execution_count": 45,
   "id": "f6264b79",
   "metadata": {},
   "outputs": [
    {
     "data": {
      "text/plain": [
       "{Param(parent='LinearRegression_ca37117fbde7', name='aggregationDepth', doc='suggested depth for treeAggregate (>= 2).'): 2,\n",
       " Param(parent='LinearRegression_ca37117fbde7', name='elasticNetParam', doc='the ElasticNet mixing parameter, in range [0, 1]. For alpha = 0, the penalty is an L2 penalty. For alpha = 1, it is an L1 penalty.'): 0.5,\n",
       " Param(parent='LinearRegression_ca37117fbde7', name='epsilon', doc='The shape parameter to control the amount of robustness. Must be > 1.0. Only valid when loss is huber'): 1.35,\n",
       " Param(parent='LinearRegression_ca37117fbde7', name='featuresCol', doc='features column name.'): 'features',\n",
       " Param(parent='LinearRegression_ca37117fbde7', name='fitIntercept', doc='whether to fit an intercept term.'): True,\n",
       " Param(parent='LinearRegression_ca37117fbde7', name='labelCol', doc='label column name.'): 'median_house_value',\n",
       " Param(parent='LinearRegression_ca37117fbde7', name='loss', doc='The loss function to be optimized. Supported options: squaredError, huber.'): 'squaredError',\n",
       " Param(parent='LinearRegression_ca37117fbde7', name='maxIter', doc='max number of iterations (>= 0).'): 100,\n",
       " Param(parent='LinearRegression_ca37117fbde7', name='predictionCol', doc='prediction column name.'): 'prediction',\n",
       " Param(parent='LinearRegression_ca37117fbde7', name='regParam', doc='regularization parameter (>= 0).'): 0.0,\n",
       " Param(parent='LinearRegression_ca37117fbde7', name='solver', doc='The solver algorithm for optimization. Supported options: auto, normal, l-bfgs.'): 'auto',\n",
       " Param(parent='LinearRegression_ca37117fbde7', name='standardization', doc='whether to standardize the training features before fitting the model.'): True,\n",
       " Param(parent='LinearRegression_ca37117fbde7', name='tol', doc='the convergence tolerance for iterative algorithms (>= 0).'): 1e-06}"
      ]
     },
     "execution_count": 45,
     "metadata": {},
     "output_type": "execute_result"
    }
   ],
   "source": [
    "cv_model.bestModel.extractParamMap()"
   ]
  },
  {
   "cell_type": "markdown",
   "id": "d2352f66",
   "metadata": {},
   "source": [
    "- *обучение модели только на числовых признаках:*"
   ]
  },
  {
   "cell_type": "code",
   "execution_count": 46,
   "id": "9b27736c",
   "metadata": {},
   "outputs": [],
   "source": [
    "model_lr_num = LinearRegression(\n",
    "    labelCol=target,\n",
    "    featuresCol='numeric_features_scaler'\n",
    ")"
   ]
  },
  {
   "cell_type": "code",
   "execution_count": 47,
   "id": "a318b702",
   "metadata": {},
   "outputs": [],
   "source": [
    "grid_search = ParamGridBuilder().addGrid(\n",
    "    model_lr_num.regParam, [0.0, 0.05, 0.2, 1.0]\n",
    ").addGrid(\n",
    "    model_lr_num.elasticNetParam, [0.5, 1.0]\n",
    ").build()"
   ]
  },
  {
   "cell_type": "code",
   "execution_count": 48,
   "id": "84584f5b",
   "metadata": {},
   "outputs": [],
   "source": [
    "evaluator = RegressionEvaluator(predictionCol='prediction',\n",
    "                                labelCol=target)"
   ]
  },
  {
   "cell_type": "code",
   "execution_count": 49,
   "id": "adae7737",
   "metadata": {},
   "outputs": [
    {
     "name": "stderr",
     "output_type": "stream",
     "text": [
      "22/06/02 19:04:11 WARN Instrumentation: [c2d41977] regParam is zero, which might cause numerical instability and overfitting.\n",
      "22/06/02 19:04:13 WARN Instrumentation: [f67118ed] regParam is zero, which might cause numerical instability and overfitting.\n",
      "22/06/02 19:04:18 WARN Instrumentation: [750242b8] regParam is zero, which might cause numerical instability and overfitting.\n",
      "22/06/02 19:04:20 WARN Instrumentation: [30c35149] regParam is zero, which might cause numerical instability and overfitting.\n",
      "22/06/02 19:04:25 WARN Instrumentation: [beabd1c4] regParam is zero, which might cause numerical instability and overfitting.\n",
      "22/06/02 19:04:26 WARN Instrumentation: [f5243c5f] regParam is zero, which might cause numerical instability and overfitting.\n",
      "22/06/02 19:04:30 WARN Instrumentation: [0f29f678] regParam is zero, which might cause numerical instability and overfitting.\n",
      "22/06/02 19:04:32 WARN Instrumentation: [3995f32c] regParam is zero, which might cause numerical instability and overfitting.\n",
      "22/06/02 19:04:35 WARN Instrumentation: [c1e6e2a3] regParam is zero, which might cause numerical instability and overfitting.\n",
      "22/06/02 19:04:37 WARN Instrumentation: [c9e785b5] regParam is zero, which might cause numerical instability and overfitting.\n",
      "22/06/02 19:04:40 WARN Instrumentation: [20e237d0] regParam is zero, which might cause numerical instability and overfitting.\n",
      "                                                                                \r"
     ]
    }
   ],
   "source": [
    "cv = CrossValidator(estimator=model_lr_num,\n",
    "                    estimatorParamMaps=grid_search,\n",
    "                    evaluator=evaluator,\n",
    "                    numFolds=5,\n",
    "                    seed=RANDOM_STATE\n",
    "                   )\n",
    "cv_model = cv.fit(features_train)"
   ]
  },
  {
   "cell_type": "code",
   "execution_count": 50,
   "id": "02a2cfb3",
   "metadata": {},
   "outputs": [
    {
     "data": {
      "text/plain": [
       "54306.721868414264"
      ]
     },
     "execution_count": 50,
     "metadata": {},
     "output_type": "execute_result"
    }
   ],
   "source": [
    "cv_model.bestModel.summary.meanAbsoluteError"
   ]
  },
  {
   "cell_type": "code",
   "execution_count": 51,
   "id": "96b7fac0",
   "metadata": {},
   "outputs": [
    {
     "data": {
      "text/plain": [
       "{Param(parent='LinearRegression_090aea45c74e', name='aggregationDepth', doc='suggested depth for treeAggregate (>= 2).'): 2,\n",
       " Param(parent='LinearRegression_090aea45c74e', name='elasticNetParam', doc='the ElasticNet mixing parameter, in range [0, 1]. For alpha = 0, the penalty is an L2 penalty. For alpha = 1, it is an L1 penalty.'): 0.5,\n",
       " Param(parent='LinearRegression_090aea45c74e', name='epsilon', doc='The shape parameter to control the amount of robustness. Must be > 1.0. Only valid when loss is huber'): 1.35,\n",
       " Param(parent='LinearRegression_090aea45c74e', name='featuresCol', doc='features column name.'): 'numeric_features_scaler',\n",
       " Param(parent='LinearRegression_090aea45c74e', name='fitIntercept', doc='whether to fit an intercept term.'): True,\n",
       " Param(parent='LinearRegression_090aea45c74e', name='labelCol', doc='label column name.'): 'median_house_value',\n",
       " Param(parent='LinearRegression_090aea45c74e', name='loss', doc='The loss function to be optimized. Supported options: squaredError, huber.'): 'squaredError',\n",
       " Param(parent='LinearRegression_090aea45c74e', name='maxIter', doc='max number of iterations (>= 0).'): 100,\n",
       " Param(parent='LinearRegression_090aea45c74e', name='predictionCol', doc='prediction column name.'): 'prediction',\n",
       " Param(parent='LinearRegression_090aea45c74e', name='regParam', doc='regularization parameter (>= 0).'): 0.0,\n",
       " Param(parent='LinearRegression_090aea45c74e', name='solver', doc='The solver algorithm for optimization. Supported options: auto, normal, l-bfgs.'): 'auto',\n",
       " Param(parent='LinearRegression_090aea45c74e', name='standardization', doc='whether to standardize the training features before fitting the model.'): True,\n",
       " Param(parent='LinearRegression_090aea45c74e', name='tol', doc='the convergence tolerance for iterative algorithms (>= 0).'): 1e-06}"
      ]
     },
     "execution_count": 51,
     "metadata": {},
     "output_type": "execute_result"
    }
   ],
   "source": [
    "cv_model.bestModel.extractParamMap()"
   ]
  },
  {
   "cell_type": "markdown",
   "id": "45e23b07",
   "metadata": {},
   "source": [
    "### Обучение модели линейной регрессии "
   ]
  },
  {
   "cell_type": "markdown",
   "id": "9f59a100",
   "metadata": {},
   "source": [
    "- *обучение модели на всем наборе данных:*"
   ]
  },
  {
   "cell_type": "code",
   "execution_count": 52,
   "id": "7564db74",
   "metadata": {},
   "outputs": [
    {
     "name": "stderr",
     "output_type": "stream",
     "text": [
      "22/06/02 19:04:43 WARN Instrumentation: [ce62e11f] regParam is zero, which might cause numerical instability and overfitting.\n"
     ]
    }
   ],
   "source": [
    "model_lr = LinearRegression(\n",
    "    elasticNetParam=0.5,\n",
    "    regParam=0.0,\n",
    "    labelCol=target,\n",
    "    featuresCol='features'\n",
    ")\n",
    "\n",
    "model = model_lr.fit(features_train) "
   ]
  },
  {
   "cell_type": "markdown",
   "id": "38afe478",
   "metadata": {},
   "source": [
    "- *обучение модели только на числовых признаках:*"
   ]
  },
  {
   "cell_type": "code",
   "execution_count": 53,
   "id": "35f44be6",
   "metadata": {},
   "outputs": [
    {
     "name": "stderr",
     "output_type": "stream",
     "text": [
      "22/06/02 19:04:44 WARN Instrumentation: [36818366] regParam is zero, which might cause numerical instability and overfitting.\n"
     ]
    }
   ],
   "source": [
    "model_lr_num = LinearRegression(\n",
    "    elasticNetParam=0.5,\n",
    "    regParam=0.0,\n",
    "    labelCol=target,\n",
    "    featuresCol='numeric_features_scaler'\n",
    ")\n",
    "\n",
    "model_num = model_lr_num.fit(features_train)"
   ]
  },
  {
   "cell_type": "markdown",
   "id": "20d0cc3e",
   "metadata": {},
   "source": [
    "### Предсказание модели на тестовой выборке"
   ]
  },
  {
   "cell_type": "code",
   "execution_count": 54,
   "id": "54b2de55",
   "metadata": {
    "scrolled": true
   },
   "outputs": [
    {
     "name": "stdout",
     "output_type": "stream",
     "text": [
      "+------------------+------------------+\n",
      "|median_house_value|        prediction|\n",
      "+------------------+------------------+\n",
      "|           55000.0|15524.619210379688|\n",
      "|          500001.0|  93027.1558361482|\n",
      "|          500001.0|136549.13347842632|\n",
      "|          187500.0|  67253.8408388214|\n",
      "|          164800.0| 92042.48384317069|\n",
      "|          187500.0|171091.72419562956|\n",
      "|          270800.0|208305.72623513054|\n",
      "|          500001.0|150724.11285847498|\n",
      "|          141700.0|183644.58950281524|\n",
      "|          107500.0|199049.55170376514|\n",
      "|          181300.0|260722.94651123052|\n",
      "|          281700.0| 340553.6648145119|\n",
      "|          500001.0| 359608.5265761597|\n",
      "|          432400.0|368971.51569090766|\n",
      "|           87500.0|  83040.1149928836|\n",
      "|          225000.0|179576.14009337092|\n",
      "|           96300.0|150391.65828084075|\n",
      "|          165500.0|  256465.636974822|\n",
      "|          151500.0|236307.69480824386|\n",
      "|          220700.0| 246252.8179551602|\n",
      "+------------------+------------------+\n",
      "only showing top 20 rows\n",
      "\n"
     ]
    },
    {
     "name": "stderr",
     "output_type": "stream",
     "text": [
      "                                                                                \r"
     ]
    }
   ],
   "source": [
    "# модель обучена на всех признаках\n",
    "predictions = model.transform(features_test)\n",
    "\n",
    "predictedLabes = predictions.select(target, 'prediction')\n",
    "predictedLabes.show() "
   ]
  },
  {
   "cell_type": "code",
   "execution_count": 55,
   "id": "072dd3b7",
   "metadata": {},
   "outputs": [
    {
     "name": "stdout",
     "output_type": "stream",
     "text": [
      "+------------------+------------------+\n",
      "|median_house_value|        prediction|\n",
      "+------------------+------------------+\n",
      "|           55000.0|22968.279675240425|\n",
      "|          500001.0|44113.676822595444|\n",
      "|          500001.0| 81671.72309048471|\n",
      "|          187500.0| 84996.43205821197|\n",
      "|          164800.0|114720.32268013191|\n",
      "|          187500.0|137720.36158373774|\n",
      "|          270800.0|182343.41440804742|\n",
      "|          500001.0| 185085.0587433748|\n",
      "|          141700.0|224559.77491989787|\n",
      "|          107500.0|243031.75869954677|\n",
      "|          181300.0|245196.54121771254|\n",
      "|          281700.0|326292.14764320955|\n",
      "|          500001.0| 363769.5573130009|\n",
      "|          432400.0| 374996.6528943187|\n",
      "|           87500.0|20802.325111655315|\n",
      "|          225000.0|150245.39891374813|\n",
      "|           96300.0| 180381.6031308614|\n",
      "|          165500.0|225702.80536743035|\n",
      "|          151500.0| 200638.8317749564|\n",
      "|          220700.0|209896.40698936002|\n",
      "+------------------+------------------+\n",
      "only showing top 20 rows\n",
      "\n"
     ]
    }
   ],
   "source": [
    "# модель обучена только на числовых признаках\n",
    "predictions_num = model_num.transform(features_test)\n",
    "\n",
    "predictedLabes = predictions_num.select(target, 'prediction')\n",
    "predictedLabes.show()"
   ]
  },
  {
   "cell_type": "markdown",
   "id": "2f7e25ec",
   "metadata": {},
   "source": [
    "### Оценка качества"
   ]
  },
  {
   "cell_type": "markdown",
   "id": "edcaed93",
   "metadata": {},
   "source": [
    "- значения метрик `R2`, `MAE`, `RMSE` модели, обученной на всех признаках:"
   ]
  },
  {
   "cell_type": "code",
   "execution_count": 56,
   "id": "f15fa295",
   "metadata": {},
   "outputs": [
    {
     "name": "stdout",
     "output_type": "stream",
     "text": [
      "R2 модели, обученной на всех признаках:  0.6457462576443941\n",
      "MAE модели, обученной на всех признаках:  50728.648107214\n",
      "RMSE модели, обученной на всех признаках:  68374.88669373763\n"
     ]
    }
   ],
   "source": [
    "r2 = RegressionEvaluator(labelCol=target, metricName='r2').evaluate(predictions)\n",
    "\n",
    "mae = RegressionEvaluator(labelCol=target, metricName='mae').evaluate(predictions)\n",
    "\n",
    "rmse = RegressionEvaluator(labelCol=target, metricName='rmse').evaluate(predictions)\n",
    "\n",
    "print('R2 модели, обученной на всех признаках: ', r2)\n",
    "print('MAE модели, обученной на всех признаках: ', mae)\n",
    "print('RMSE модели, обученной на всех признаках: ', rmse)"
   ]
  },
  {
   "cell_type": "markdown",
   "id": "37a2ce78",
   "metadata": {},
   "source": [
    "- значения метрик `R2`, `MAE`, `RMSE` модели, обученной только на числовых признаках:"
   ]
  },
  {
   "cell_type": "code",
   "execution_count": 57,
   "id": "cf5ff699",
   "metadata": {},
   "outputs": [
    {
     "name": "stderr",
     "output_type": "stream",
     "text": [
      "                                                                                \r"
     ]
    },
    {
     "name": "stdout",
     "output_type": "stream",
     "text": [
      "R2 модели, обученной только на числовых признаках:  0.5934526018980995\n",
      "MAE модели, обученной только на числовых признаках:  54522.893527295695\n",
      "RMSE модели, обученной только на числовых признаках:  73247.868142295\n"
     ]
    }
   ],
   "source": [
    "r2 = RegressionEvaluator(labelCol=target, metricName='r2').evaluate(predictions_num)\n",
    "\n",
    "mae = RegressionEvaluator(labelCol=target, metricName='mae').evaluate(predictions_num)\n",
    "\n",
    "rmse = RegressionEvaluator(labelCol=target, metricName='rmse').evaluate(predictions_num)\n",
    "\n",
    "print('R2 модели, обученной только на числовых признаках: ', r2)\n",
    "print('MAE модели, обученной только на числовых признаках: ', mae)\n",
    "print('RMSE модели, обученной только на числовых признаках: ', rmse)"
   ]
  },
  {
   "cell_type": "code",
   "execution_count": 58,
   "id": "d949b01f",
   "metadata": {},
   "outputs": [],
   "source": [
    "# закрытие spark-сессии\n",
    "spark.stop()"
   ]
  },
  {
   "cell_type": "markdown",
   "id": "757fd103",
   "metadata": {
    "id": "757fd103"
   },
   "source": [
    "# Анализ результатов"
   ]
  },
  {
   "cell_type": "markdown",
   "id": "1c65975e",
   "metadata": {},
   "source": [
    "Обучение модели линейной регрессии на различных наборах данных показало следующие результаты:\n",
    "- *значения метрик (коэффициент детерминации R2, средняя абсолютная ошибка MAE и корень среднего квадрата ошибок RMSE) получились лучше у модели, обученной на всех признаках - категориальных и числовых.*\n",
    "\n",
    "Но при этом, значение метрики R2 равное 0.6457 далеко от единицы, что делает обученную модель не сильно лучше случайной. Метрика MAE показывает, что модель, в среднем, ошибается на 50 тыс. в расчете прогноза стоимости жилья.\n",
    "\n",
    "Возможно, данные для обучения \"сырые\" и требуют тщательной обработки. В процессе подготовки данных мне удалось обнаружить выбросы, которые я заменила 5-м и 95-м процентилями, а так же нулевые значения в столбце, которые заменила медианой. Эти действия позволили поднять метрику R2 на 5%.\n",
    "\n",
    "Для улучшения предсказательной способности модели необходим подбор гиперпараметров, добавление новых признаков для обучения."
   ]
  }
 ],
 "metadata": {
  "ExecuteTimeLog": [
   {
    "duration": 283,
    "start_time": "2022-05-27T08:01:35.737Z"
   },
   {
    "duration": 59,
    "start_time": "2022-05-27T08:01:58.937Z"
   },
   {
    "duration": 28089,
    "start_time": "2022-05-27T08:03:06.416Z"
   },
   {
    "duration": 5,
    "start_time": "2022-05-27T08:16:59.949Z"
   },
   {
    "duration": 1182,
    "start_time": "2022-05-27T08:17:42.540Z"
   },
   {
    "duration": 2227,
    "start_time": "2022-05-27T08:21:02.911Z"
   },
   {
    "duration": 111,
    "start_time": "2022-05-27T08:27:46.936Z"
   },
   {
    "duration": 9,
    "start_time": "2022-05-27T08:28:17.613Z"
   },
   {
    "duration": 14,
    "start_time": "2022-05-27T08:28:21.702Z"
   },
   {
    "duration": 715,
    "start_time": "2022-05-27T08:29:31.811Z"
   },
   {
    "duration": 5,
    "start_time": "2022-05-27T09:01:21.317Z"
   },
   {
    "duration": 5445,
    "start_time": "2022-05-27T09:01:31.156Z"
   },
   {
    "duration": 529,
    "start_time": "2022-05-27T09:14:58.590Z"
   },
   {
    "duration": 6,
    "start_time": "2022-05-27T09:15:11.745Z"
   },
   {
    "duration": 5,
    "start_time": "2022-05-27T09:16:32.219Z"
   },
   {
    "duration": 45,
    "start_time": "2022-05-27T11:14:26.871Z"
   },
   {
    "duration": 387,
    "start_time": "2022-05-27T11:17:04.398Z"
   },
   {
    "duration": 551,
    "start_time": "2022-05-27T11:23:25.951Z"
   },
   {
    "duration": 16,
    "start_time": "2022-05-27T12:03:37.340Z"
   },
   {
    "duration": 4,
    "start_time": "2022-05-27T12:03:41.085Z"
   },
   {
    "duration": 3,
    "start_time": "2022-05-27T12:03:41.779Z"
   },
   {
    "duration": 5,
    "start_time": "2022-05-27T12:03:42.331Z"
   },
   {
    "duration": 50,
    "start_time": "2022-05-27T12:03:43.994Z"
   },
   {
    "duration": 2,
    "start_time": "2022-05-27T12:04:23.175Z"
   },
   {
    "duration": 88,
    "start_time": "2022-05-27T12:04:24.381Z"
   },
   {
    "duration": 69,
    "start_time": "2022-05-27T12:04:28.885Z"
   },
   {
    "duration": 81,
    "start_time": "2022-05-27T12:06:34.854Z"
   },
   {
    "duration": 79,
    "start_time": "2022-05-27T12:07:36.992Z"
   },
   {
    "duration": 76,
    "start_time": "2022-05-27T12:08:38.847Z"
   },
   {
    "duration": 1644,
    "start_time": "2022-05-27T12:08:50.358Z"
   },
   {
    "duration": 948,
    "start_time": "2022-05-27T12:09:02.558Z"
   },
   {
    "duration": 20,
    "start_time": "2022-05-27T12:10:00.727Z"
   },
   {
    "duration": 73,
    "start_time": "2022-05-27T12:10:27.774Z"
   },
   {
    "duration": 8,
    "start_time": "2022-05-27T12:11:01.706Z"
   },
   {
    "duration": 65,
    "start_time": "2022-05-27T12:11:18.928Z"
   },
   {
    "duration": 20,
    "start_time": "2022-05-27T12:12:21.248Z"
   },
   {
    "duration": 22,
    "start_time": "2022-05-27T12:12:41.713Z"
   },
   {
    "duration": 17,
    "start_time": "2022-05-27T12:14:31.322Z"
   },
   {
    "duration": 488,
    "start_time": "2022-05-27T12:15:39.001Z"
   },
   {
    "duration": 70,
    "start_time": "2022-05-27T12:15:55.361Z"
   },
   {
    "duration": 84,
    "start_time": "2022-05-27T12:23:22.743Z"
   },
   {
    "duration": 16464,
    "start_time": "2022-05-27T12:23:44.344Z"
   },
   {
    "duration": 9375,
    "start_time": "2022-05-27T12:24:00.811Z"
   },
   {
    "duration": 33,
    "start_time": "2022-05-27T12:24:10.187Z"
   },
   {
    "duration": 781,
    "start_time": "2022-05-27T12:24:10.222Z"
   },
   {
    "duration": 1193,
    "start_time": "2022-05-27T12:24:11.006Z"
   },
   {
    "duration": 6030,
    "start_time": "2022-05-27T12:24:12.200Z"
   },
   {
    "duration": 560,
    "start_time": "2022-05-27T12:24:18.232Z"
   },
   {
    "duration": 9,
    "start_time": "2022-05-27T12:24:18.793Z"
   },
   {
    "duration": 7,
    "start_time": "2022-05-27T12:24:18.805Z"
   },
   {
    "duration": 5,
    "start_time": "2022-05-27T12:24:18.814Z"
   },
   {
    "duration": 210,
    "start_time": "2022-05-27T12:24:18.821Z"
   },
   {
    "duration": 1472,
    "start_time": "2022-05-27T12:25:01.542Z"
   },
   {
    "duration": 70,
    "start_time": "2022-05-27T12:26:09.611Z"
   },
   {
    "duration": 15179,
    "start_time": "2022-05-27T12:26:25.228Z"
   },
   {
    "duration": 8516,
    "start_time": "2022-05-27T12:26:40.409Z"
   },
   {
    "duration": 32,
    "start_time": "2022-05-27T12:26:48.984Z"
   },
   {
    "duration": 774,
    "start_time": "2022-05-27T12:26:49.018Z"
   },
   {
    "duration": 1154,
    "start_time": "2022-05-27T12:26:49.794Z"
   },
   {
    "duration": 5653,
    "start_time": "2022-05-27T12:26:50.949Z"
   },
   {
    "duration": 595,
    "start_time": "2022-05-27T12:26:56.604Z"
   },
   {
    "duration": 4,
    "start_time": "2022-05-27T12:26:57.201Z"
   },
   {
    "duration": 77,
    "start_time": "2022-05-27T12:26:57.207Z"
   },
   {
    "duration": 7,
    "start_time": "2022-05-27T12:26:57.286Z"
   },
   {
    "duration": 1996,
    "start_time": "2022-05-27T12:27:04.207Z"
   },
   {
    "duration": 1062,
    "start_time": "2022-05-27T12:28:05.472Z"
   },
   {
    "duration": 173,
    "start_time": "2022-05-27T12:33:08.745Z"
   },
   {
    "duration": 21,
    "start_time": "2022-05-27T12:35:03.724Z"
   },
   {
    "duration": 16630,
    "start_time": "2022-05-27T12:35:25.156Z"
   },
   {
    "duration": 10000,
    "start_time": "2022-05-27T12:35:41.790Z"
   },
   {
    "duration": 101,
    "start_time": "2022-05-27T12:35:51.792Z"
   },
   {
    "duration": 810,
    "start_time": "2022-05-27T12:35:51.895Z"
   },
   {
    "duration": 1313,
    "start_time": "2022-05-27T12:35:52.708Z"
   },
   {
    "duration": 6594,
    "start_time": "2022-05-27T12:35:54.023Z"
   },
   {
    "duration": 683,
    "start_time": "2022-05-27T12:36:00.619Z"
   },
   {
    "duration": 4,
    "start_time": "2022-05-27T12:36:01.305Z"
   },
   {
    "duration": 72,
    "start_time": "2022-05-27T12:36:01.311Z"
   },
   {
    "duration": 12,
    "start_time": "2022-05-27T12:36:01.386Z"
   },
   {
    "duration": 167,
    "start_time": "2022-05-27T12:36:17.880Z"
   },
   {
    "duration": 1691,
    "start_time": "2022-05-27T12:36:29.133Z"
   },
   {
    "duration": 21,
    "start_time": "2022-05-27T12:36:56.270Z"
   },
   {
    "duration": 16101,
    "start_time": "2022-05-27T12:37:25.423Z"
   },
   {
    "duration": 9884,
    "start_time": "2022-05-27T12:37:41.527Z"
   },
   {
    "duration": 95,
    "start_time": "2022-05-27T12:37:51.413Z"
   },
   {
    "duration": 873,
    "start_time": "2022-05-27T12:37:51.510Z"
   },
   {
    "duration": 1326,
    "start_time": "2022-05-27T12:37:52.387Z"
   },
   {
    "duration": 6787,
    "start_time": "2022-05-27T12:37:53.716Z"
   },
   {
    "duration": 599,
    "start_time": "2022-05-27T12:38:00.507Z"
   },
   {
    "duration": 4,
    "start_time": "2022-05-27T12:38:01.108Z"
   },
   {
    "duration": 91,
    "start_time": "2022-05-27T12:38:01.114Z"
   },
   {
    "duration": 6,
    "start_time": "2022-05-27T12:38:01.207Z"
   },
   {
    "duration": 2259,
    "start_time": "2022-05-27T12:38:05.938Z"
   },
   {
    "duration": 171,
    "start_time": "2022-05-27T13:00:44.559Z"
   },
   {
    "duration": 18330,
    "start_time": "2022-05-27T13:01:01.654Z"
   },
   {
    "duration": 11502,
    "start_time": "2022-05-27T13:01:19.988Z"
   },
   {
    "duration": 98,
    "start_time": "2022-05-27T13:01:31.493Z"
   },
   {
    "duration": 915,
    "start_time": "2022-05-27T13:01:31.594Z"
   },
   {
    "duration": 1579,
    "start_time": "2022-05-27T13:01:32.511Z"
   },
   {
    "duration": 7496,
    "start_time": "2022-05-27T13:01:34.092Z"
   },
   {
    "duration": 694,
    "start_time": "2022-05-27T13:01:41.590Z"
   },
   {
    "duration": 6,
    "start_time": "2022-05-27T13:01:42.290Z"
   },
   {
    "duration": 14,
    "start_time": "2022-05-27T13:01:42.300Z"
   },
   {
    "duration": 16,
    "start_time": "2022-05-27T13:01:42.317Z"
   },
   {
    "duration": 2473,
    "start_time": "2022-05-27T13:01:56.811Z"
   },
   {
    "duration": 913,
    "start_time": "2022-05-27T13:03:35.395Z"
   },
   {
    "duration": 208,
    "start_time": "2022-05-27T13:04:03.027Z"
   },
   {
    "duration": 15962,
    "start_time": "2022-05-27T13:04:11.049Z"
   },
   {
    "duration": 10510,
    "start_time": "2022-05-27T13:04:27.014Z"
   },
   {
    "duration": 40,
    "start_time": "2022-05-27T13:04:37.584Z"
   },
   {
    "duration": 879,
    "start_time": "2022-05-27T13:04:37.626Z"
   },
   {
    "duration": 1390,
    "start_time": "2022-05-27T13:04:38.508Z"
   },
   {
    "duration": 6694,
    "start_time": "2022-05-27T13:04:39.900Z"
   },
   {
    "duration": 710,
    "start_time": "2022-05-27T13:04:46.596Z"
   },
   {
    "duration": 4,
    "start_time": "2022-05-27T13:04:47.308Z"
   },
   {
    "duration": 71,
    "start_time": "2022-05-27T13:04:47.314Z"
   },
   {
    "duration": 6,
    "start_time": "2022-05-27T13:04:47.387Z"
   },
   {
    "duration": 2230,
    "start_time": "2022-05-27T13:04:49.780Z"
   },
   {
    "duration": 122,
    "start_time": "2022-05-27T13:05:02.901Z"
   },
   {
    "duration": 16796,
    "start_time": "2022-05-27T13:05:22.391Z"
   },
   {
    "duration": 10197,
    "start_time": "2022-05-27T13:05:39.189Z"
   },
   {
    "duration": 33,
    "start_time": "2022-05-27T13:05:49.388Z"
   },
   {
    "duration": 889,
    "start_time": "2022-05-27T13:05:49.422Z"
   },
   {
    "duration": 1310,
    "start_time": "2022-05-27T13:05:50.314Z"
   },
   {
    "duration": 6060,
    "start_time": "2022-05-27T13:05:51.626Z"
   },
   {
    "duration": 598,
    "start_time": "2022-05-27T13:05:57.687Z"
   },
   {
    "duration": 4,
    "start_time": "2022-05-27T13:05:58.287Z"
   },
   {
    "duration": 46,
    "start_time": "2022-05-27T13:05:58.296Z"
   },
   {
    "duration": 43,
    "start_time": "2022-05-27T13:05:58.344Z"
   },
   {
    "duration": 2222,
    "start_time": "2022-05-27T13:05:58.389Z"
   },
   {
    "duration": 16432,
    "start_time": "2022-05-27T13:06:42.468Z"
   },
   {
    "duration": 9581,
    "start_time": "2022-05-27T13:06:58.903Z"
   },
   {
    "duration": 39,
    "start_time": "2022-05-27T13:07:08.486Z"
   },
   {
    "duration": 719,
    "start_time": "2022-05-27T13:07:08.584Z"
   },
   {
    "duration": 1485,
    "start_time": "2022-05-27T13:07:09.305Z"
   },
   {
    "duration": 6104,
    "start_time": "2022-05-27T13:07:10.792Z"
   },
   {
    "duration": 690,
    "start_time": "2022-05-27T13:07:16.898Z"
   },
   {
    "duration": 5,
    "start_time": "2022-05-27T13:07:17.590Z"
   },
   {
    "duration": 18,
    "start_time": "2022-05-27T13:07:17.597Z"
   },
   {
    "duration": 4,
    "start_time": "2022-05-27T13:07:17.618Z"
   },
   {
    "duration": 2863,
    "start_time": "2022-05-27T13:07:17.624Z"
   },
   {
    "duration": 1804,
    "start_time": "2022-05-27T13:15:43.622Z"
   },
   {
    "duration": 92,
    "start_time": "2022-05-27T13:29:34.830Z"
   },
   {
    "duration": 57,
    "start_time": "2022-05-27T13:30:38.947Z"
   },
   {
    "duration": 95,
    "start_time": "2022-05-27T13:31:05.707Z"
   },
   {
    "duration": 19168,
    "start_time": "2022-05-27T13:31:16.928Z"
   },
   {
    "duration": 12522,
    "start_time": "2022-05-27T13:31:36.102Z"
   },
   {
    "duration": 107,
    "start_time": "2022-05-27T13:31:48.627Z"
   },
   {
    "duration": 890,
    "start_time": "2022-05-27T13:31:48.737Z"
   },
   {
    "duration": 1689,
    "start_time": "2022-05-27T13:31:49.631Z"
   },
   {
    "duration": 8176,
    "start_time": "2022-05-27T13:31:51.326Z"
   },
   {
    "duration": 696,
    "start_time": "2022-05-27T13:31:59.504Z"
   },
   {
    "duration": 8,
    "start_time": "2022-05-27T13:32:00.202Z"
   },
   {
    "duration": 73,
    "start_time": "2022-05-27T13:32:00.219Z"
   },
   {
    "duration": 54,
    "start_time": "2022-05-27T13:32:00.295Z"
   },
   {
    "duration": 3890,
    "start_time": "2022-05-27T13:32:00.352Z"
   },
   {
    "duration": 2051,
    "start_time": "2022-05-27T13:32:04.244Z"
   },
   {
    "duration": 746,
    "start_time": "2022-05-27T13:32:06.297Z"
   },
   {
    "duration": 17459,
    "start_time": "2022-05-27T13:35:29.529Z"
   },
   {
    "duration": 10660,
    "start_time": "2022-05-27T13:35:46.991Z"
   },
   {
    "duration": 103,
    "start_time": "2022-05-27T13:35:57.684Z"
   },
   {
    "duration": 1021,
    "start_time": "2022-05-27T13:35:57.790Z"
   },
   {
    "duration": 1805,
    "start_time": "2022-05-27T13:35:58.814Z"
   },
   {
    "duration": 6831,
    "start_time": "2022-05-27T13:36:00.621Z"
   },
   {
    "duration": 666,
    "start_time": "2022-05-27T13:36:07.453Z"
   },
   {
    "duration": 4,
    "start_time": "2022-05-27T13:36:08.121Z"
   },
   {
    "duration": 59,
    "start_time": "2022-05-27T13:36:08.127Z"
   },
   {
    "duration": 33,
    "start_time": "2022-05-27T13:36:08.188Z"
   },
   {
    "duration": 3368,
    "start_time": "2022-05-27T13:36:08.224Z"
   },
   {
    "duration": 1806,
    "start_time": "2022-05-27T13:36:11.598Z"
   },
   {
    "duration": 618,
    "start_time": "2022-05-27T13:36:13.407Z"
   },
   {
    "duration": 17123,
    "start_time": "2022-05-28T07:42:17.042Z"
   },
   {
    "duration": 10491,
    "start_time": "2022-05-28T07:42:34.167Z"
   },
   {
    "duration": 96,
    "start_time": "2022-05-28T07:42:44.668Z"
   },
   {
    "duration": 891,
    "start_time": "2022-05-28T07:42:44.766Z"
   },
   {
    "duration": 1642,
    "start_time": "2022-05-28T07:42:45.726Z"
   },
   {
    "duration": 6761,
    "start_time": "2022-05-28T07:42:47.369Z"
   },
   {
    "duration": 565,
    "start_time": "2022-05-28T07:42:58.063Z"
   },
   {
    "duration": 661,
    "start_time": "2022-05-28T07:44:35.319Z"
   },
   {
    "duration": 478,
    "start_time": "2022-05-28T07:50:38.772Z"
   },
   {
    "duration": 1529,
    "start_time": "2022-05-28T07:55:23.664Z"
   },
   {
    "duration": 4,
    "start_time": "2022-05-28T07:55:31.874Z"
   },
   {
    "duration": 3,
    "start_time": "2022-05-28T07:55:32.286Z"
   },
   {
    "duration": 17724,
    "start_time": "2022-05-28T07:58:07.817Z"
   },
   {
    "duration": 11591,
    "start_time": "2022-05-28T07:58:25.544Z"
   },
   {
    "duration": 94,
    "start_time": "2022-05-28T07:58:37.139Z"
   },
   {
    "duration": 1021,
    "start_time": "2022-05-28T07:58:37.235Z"
   },
   {
    "duration": 1786,
    "start_time": "2022-05-28T07:58:38.260Z"
   },
   {
    "duration": 7315,
    "start_time": "2022-05-28T07:58:40.056Z"
   },
   {
    "duration": 720,
    "start_time": "2022-05-28T07:58:47.427Z"
   },
   {
    "duration": 692,
    "start_time": "2022-05-28T07:58:48.150Z"
   },
   {
    "duration": 6,
    "start_time": "2022-05-28T07:58:48.845Z"
   },
   {
    "duration": 72,
    "start_time": "2022-05-28T07:58:48.855Z"
   },
   {
    "duration": 15,
    "start_time": "2022-05-28T07:58:48.930Z"
   },
   {
    "duration": 3194,
    "start_time": "2022-05-28T07:59:11.457Z"
   },
   {
    "duration": 42,
    "start_time": "2022-05-28T08:02:15.860Z"
   },
   {
    "duration": 9,
    "start_time": "2022-05-28T08:02:19.945Z"
   },
   {
    "duration": 6,
    "start_time": "2022-05-28T08:02:34.773Z"
   },
   {
    "duration": 6,
    "start_time": "2022-05-28T08:06:03.522Z"
   },
   {
    "duration": 5,
    "start_time": "2022-05-28T08:06:16.781Z"
   },
   {
    "duration": 5,
    "start_time": "2022-05-28T08:06:21.597Z"
   },
   {
    "duration": 5,
    "start_time": "2022-05-28T08:06:25.146Z"
   },
   {
    "duration": 176,
    "start_time": "2022-05-28T08:08:29.987Z"
   },
   {
    "duration": 17217,
    "start_time": "2022-05-28T08:15:09.239Z"
   },
   {
    "duration": 11074,
    "start_time": "2022-05-28T08:15:26.459Z"
   },
   {
    "duration": 134,
    "start_time": "2022-05-28T08:15:37.537Z"
   },
   {
    "duration": 884,
    "start_time": "2022-05-28T08:15:37.674Z"
   },
   {
    "duration": 1714,
    "start_time": "2022-05-28T08:15:38.560Z"
   },
   {
    "duration": 6915,
    "start_time": "2022-05-28T08:15:40.276Z"
   },
   {
    "duration": 672,
    "start_time": "2022-05-28T08:15:47.193Z"
   },
   {
    "duration": 534,
    "start_time": "2022-05-28T08:15:47.927Z"
   },
   {
    "duration": 73,
    "start_time": "2022-05-28T08:15:48.463Z"
   },
   {
    "duration": 18,
    "start_time": "2022-05-28T08:15:48.538Z"
   },
   {
    "duration": 5,
    "start_time": "2022-05-28T08:15:48.558Z"
   },
   {
    "duration": 6,
    "start_time": "2022-05-28T08:15:48.565Z"
   },
   {
    "duration": 72,
    "start_time": "2022-05-28T08:15:48.573Z"
   },
   {
    "duration": 2387,
    "start_time": "2022-05-28T08:15:48.648Z"
   },
   {
    "duration": 756,
    "start_time": "2022-05-28T08:15:51.038Z"
   },
   {
    "duration": 346,
    "start_time": "2022-05-28T08:16:31.945Z"
   },
   {
    "duration": 343,
    "start_time": "2022-05-28T08:16:53.492Z"
   },
   {
    "duration": 491,
    "start_time": "2022-05-28T08:20:29.076Z"
   },
   {
    "duration": 18170,
    "start_time": "2022-05-28T08:32:52.205Z"
   },
   {
    "duration": 10775,
    "start_time": "2022-05-28T08:33:10.380Z"
   },
   {
    "duration": 88,
    "start_time": "2022-05-28T08:33:21.157Z"
   },
   {
    "duration": 813,
    "start_time": "2022-05-28T08:33:21.251Z"
   },
   {
    "duration": 1594,
    "start_time": "2022-05-28T08:33:22.066Z"
   },
   {
    "duration": 7371,
    "start_time": "2022-05-28T08:33:23.662Z"
   },
   {
    "duration": 755,
    "start_time": "2022-05-28T08:33:31.034Z"
   },
   {
    "duration": 834,
    "start_time": "2022-05-28T08:33:31.829Z"
   },
   {
    "duration": 4,
    "start_time": "2022-05-28T08:33:32.664Z"
   },
   {
    "duration": 60,
    "start_time": "2022-05-28T08:33:32.676Z"
   },
   {
    "duration": 31,
    "start_time": "2022-05-28T08:33:32.741Z"
   },
   {
    "duration": 2345,
    "start_time": "2022-05-28T08:33:32.774Z"
   },
   {
    "duration": 831,
    "start_time": "2022-05-28T08:33:35.120Z"
   },
   {
    "duration": 604,
    "start_time": "2022-05-28T08:33:35.952Z"
   },
   {
    "duration": 131,
    "start_time": "2022-05-28T08:33:36.558Z"
   },
   {
    "duration": 47,
    "start_time": "2022-05-28T08:34:01.949Z"
   },
   {
    "duration": 1060,
    "start_time": "2022-05-28T08:54:52.287Z"
   },
   {
    "duration": 12,
    "start_time": "2022-05-28T08:58:35.672Z"
   },
   {
    "duration": 9,
    "start_time": "2022-05-28T08:59:03.800Z"
   },
   {
    "duration": 19,
    "start_time": "2022-05-28T09:00:26.537Z"
   },
   {
    "duration": 652,
    "start_time": "2022-05-28T09:00:32.057Z"
   },
   {
    "duration": 337,
    "start_time": "2022-05-28T09:00:59.870Z"
   },
   {
    "duration": 24,
    "start_time": "2022-05-28T09:04:09.587Z"
   },
   {
    "duration": 35,
    "start_time": "2022-05-28T09:05:55.807Z"
   },
   {
    "duration": 23,
    "start_time": "2022-05-28T09:06:35.882Z"
   },
   {
    "duration": 8,
    "start_time": "2022-05-28T09:06:54.160Z"
   },
   {
    "duration": 20,
    "start_time": "2022-05-28T09:07:52.091Z"
   },
   {
    "duration": 9,
    "start_time": "2022-05-28T09:07:59.880Z"
   },
   {
    "duration": 6,
    "start_time": "2022-05-28T09:12:49.536Z"
   },
   {
    "duration": 6,
    "start_time": "2022-05-28T09:15:11.962Z"
   },
   {
    "duration": 601,
    "start_time": "2022-05-28T09:15:11.969Z"
   },
   {
    "duration": 83,
    "start_time": "2022-05-28T09:15:12.571Z"
   },
   {
    "duration": 231,
    "start_time": "2022-05-28T09:15:12.658Z"
   },
   {
    "duration": 882,
    "start_time": "2022-05-28T09:15:12.893Z"
   },
   {
    "duration": 58,
    "start_time": "2022-05-28T09:15:13.778Z"
   },
   {
    "duration": 5,
    "start_time": "2022-05-28T09:15:13.841Z"
   },
   {
    "duration": 3096,
    "start_time": "2022-05-28T09:15:13.848Z"
   },
   {
    "duration": 17,
    "start_time": "2022-05-28T09:15:42.769Z"
   },
   {
    "duration": 15,
    "start_time": "2022-05-28T09:15:47.734Z"
   },
   {
    "duration": 86,
    "start_time": "2022-05-28T09:16:13.543Z"
   },
   {
    "duration": 17,
    "start_time": "2022-05-28T09:16:26.201Z"
   },
   {
    "duration": 462,
    "start_time": "2022-05-28T09:16:27.311Z"
   },
   {
    "duration": 333,
    "start_time": "2022-05-28T09:16:31.129Z"
   },
   {
    "duration": 4,
    "start_time": "2022-05-28T09:16:32.193Z"
   },
   {
    "duration": 2,
    "start_time": "2022-05-28T09:16:32.402Z"
   },
   {
    "duration": 4,
    "start_time": "2022-05-28T09:16:32.597Z"
   },
   {
    "duration": 900,
    "start_time": "2022-05-28T09:16:32.890Z"
   },
   {
    "duration": 315,
    "start_time": "2022-05-28T09:16:33.826Z"
   },
   {
    "duration": 229,
    "start_time": "2022-05-28T09:16:36.778Z"
   },
   {
    "duration": 28,
    "start_time": "2022-05-28T09:16:39.313Z"
   },
   {
    "duration": 234,
    "start_time": "2022-05-28T09:16:39.683Z"
   },
   {
    "duration": 1474,
    "start_time": "2022-05-28T09:16:40.888Z"
   },
   {
    "duration": 7,
    "start_time": "2022-05-28T09:17:08.915Z"
   },
   {
    "duration": 60,
    "start_time": "2022-05-28T09:18:21.092Z"
   },
   {
    "duration": 6616,
    "start_time": "2022-05-28T09:21:07.129Z"
   },
   {
    "duration": 4272,
    "start_time": "2022-05-28T09:21:27.974Z"
   },
   {
    "duration": 5914,
    "start_time": "2022-05-28T09:22:58.252Z"
   },
   {
    "duration": 13,
    "start_time": "2022-05-28T09:24:48.083Z"
   },
   {
    "duration": 4315,
    "start_time": "2022-05-28T09:25:37.215Z"
   },
   {
    "duration": 0,
    "start_time": "2022-05-28T09:27:27.258Z"
   },
   {
    "duration": 0,
    "start_time": "2022-05-28T09:27:27.262Z"
   },
   {
    "duration": 0,
    "start_time": "2022-05-28T09:27:27.270Z"
   },
   {
    "duration": 0,
    "start_time": "2022-05-28T09:27:27.273Z"
   },
   {
    "duration": 0,
    "start_time": "2022-05-28T09:27:27.274Z"
   },
   {
    "duration": 0,
    "start_time": "2022-05-28T09:27:27.275Z"
   },
   {
    "duration": 0,
    "start_time": "2022-05-28T09:27:27.278Z"
   },
   {
    "duration": 18134,
    "start_time": "2022-05-28T09:27:34.508Z"
   },
   {
    "duration": 11014,
    "start_time": "2022-05-28T09:27:52.645Z"
   },
   {
    "duration": 92,
    "start_time": "2022-05-28T09:28:03.663Z"
   },
   {
    "duration": 921,
    "start_time": "2022-05-28T09:28:03.761Z"
   },
   {
    "duration": 1829,
    "start_time": "2022-05-28T09:28:04.684Z"
   },
   {
    "duration": 8,
    "start_time": "2022-05-28T09:28:06.516Z"
   },
   {
    "duration": 7,
    "start_time": "2022-05-28T09:28:13.083Z"
   },
   {
    "duration": 64,
    "start_time": "2022-05-28T09:28:21.259Z"
   },
   {
    "duration": 6108,
    "start_time": "2022-05-28T09:28:30.068Z"
   },
   {
    "duration": 3858,
    "start_time": "2022-05-28T09:28:51.577Z"
   },
   {
    "duration": 18141,
    "start_time": "2022-05-28T09:30:12.153Z"
   },
   {
    "duration": 12487,
    "start_time": "2022-05-28T09:30:30.297Z"
   },
   {
    "duration": 97,
    "start_time": "2022-05-28T09:30:42.786Z"
   },
   {
    "duration": 973,
    "start_time": "2022-05-28T09:30:42.884Z"
   },
   {
    "duration": 1827,
    "start_time": "2022-05-28T09:30:43.860Z"
   },
   {
    "duration": 18,
    "start_time": "2022-05-28T09:30:45.730Z"
   },
   {
    "duration": 6809,
    "start_time": "2022-05-28T09:30:45.755Z"
   },
   {
    "duration": 24,
    "start_time": "2022-05-28T09:30:52.566Z"
   },
   {
    "duration": 169,
    "start_time": "2022-05-28T09:30:52.591Z"
   },
   {
    "duration": 813,
    "start_time": "2022-05-28T09:30:52.769Z"
   },
   {
    "duration": 658,
    "start_time": "2022-05-28T09:30:53.584Z"
   },
   {
    "duration": 9,
    "start_time": "2022-05-28T09:30:54.244Z"
   },
   {
    "duration": 134,
    "start_time": "2022-05-28T09:30:54.255Z"
   },
   {
    "duration": 33,
    "start_time": "2022-05-28T09:30:54.394Z"
   },
   {
    "duration": 2783,
    "start_time": "2022-05-28T09:30:54.429Z"
   },
   {
    "duration": 758,
    "start_time": "2022-05-28T09:30:57.214Z"
   },
   {
    "duration": 699,
    "start_time": "2022-05-28T09:30:57.974Z"
   },
   {
    "duration": 101,
    "start_time": "2022-05-28T09:30:58.675Z"
   },
   {
    "duration": 425,
    "start_time": "2022-05-28T09:30:58.778Z"
   },
   {
    "duration": 1963,
    "start_time": "2022-05-28T09:30:59.205Z"
   },
   {
    "duration": 18911,
    "start_time": "2022-05-29T16:49:51.295Z"
   },
   {
    "duration": 9047,
    "start_time": "2022-05-29T16:50:10.209Z"
   },
   {
    "duration": 108,
    "start_time": "2022-05-29T16:50:19.258Z"
   },
   {
    "duration": 793,
    "start_time": "2022-05-29T16:50:19.368Z"
   },
   {
    "duration": 1281,
    "start_time": "2022-05-29T16:50:20.165Z"
   },
   {
    "duration": 7,
    "start_time": "2022-05-29T16:50:21.448Z"
   },
   {
    "duration": 4985,
    "start_time": "2022-05-29T16:50:21.456Z"
   },
   {
    "duration": 6,
    "start_time": "2022-05-29T16:50:26.444Z"
   },
   {
    "duration": 113,
    "start_time": "2022-05-29T16:50:26.451Z"
   },
   {
    "duration": 804,
    "start_time": "2022-05-29T16:50:26.566Z"
   },
   {
    "duration": 569,
    "start_time": "2022-05-29T16:50:27.372Z"
   },
   {
    "duration": 3,
    "start_time": "2022-05-29T16:50:27.943Z"
   },
   {
    "duration": 7,
    "start_time": "2022-05-29T16:50:27.949Z"
   },
   {
    "duration": 6,
    "start_time": "2022-05-29T16:50:27.959Z"
   },
   {
    "duration": 2185,
    "start_time": "2022-05-29T16:50:27.967Z"
   },
   {
    "duration": 609,
    "start_time": "2022-05-29T16:50:30.154Z"
   },
   {
    "duration": 498,
    "start_time": "2022-05-29T16:50:30.765Z"
   },
   {
    "duration": 93,
    "start_time": "2022-05-29T16:50:31.265Z"
   },
   {
    "duration": 320,
    "start_time": "2022-05-29T16:50:31.359Z"
   },
   {
    "duration": 1563,
    "start_time": "2022-05-29T16:50:31.681Z"
   },
   {
    "duration": 356,
    "start_time": "2022-05-29T16:50:33.247Z"
   },
   {
    "duration": 6,
    "start_time": "2022-05-29T16:51:57.529Z"
   },
   {
    "duration": 372,
    "start_time": "2022-05-29T17:05:41.981Z"
   },
   {
    "duration": 142,
    "start_time": "2022-05-29T17:05:47.814Z"
   },
   {
    "duration": 15629,
    "start_time": "2022-05-29T17:06:06.236Z"
   },
   {
    "duration": 9097,
    "start_time": "2022-05-29T17:06:21.869Z"
   },
   {
    "duration": 89,
    "start_time": "2022-05-29T17:06:30.968Z"
   },
   {
    "duration": 704,
    "start_time": "2022-05-29T17:06:31.058Z"
   },
   {
    "duration": 1229,
    "start_time": "2022-05-29T17:06:31.765Z"
   },
   {
    "duration": 7,
    "start_time": "2022-05-29T17:06:33.040Z"
   },
   {
    "duration": 5028,
    "start_time": "2022-05-29T17:06:33.049Z"
   },
   {
    "duration": 6,
    "start_time": "2022-05-29T17:06:38.141Z"
   },
   {
    "duration": 117,
    "start_time": "2022-05-29T17:06:38.148Z"
   },
   {
    "duration": 584,
    "start_time": "2022-05-29T17:06:38.267Z"
   },
   {
    "duration": 493,
    "start_time": "2022-05-29T17:06:38.852Z"
   },
   {
    "duration": 3,
    "start_time": "2022-05-29T17:06:39.347Z"
   },
   {
    "duration": 4,
    "start_time": "2022-05-29T17:06:39.353Z"
   },
   {
    "duration": 3,
    "start_time": "2022-05-29T17:06:39.360Z"
   },
   {
    "duration": 2050,
    "start_time": "2022-05-29T17:06:39.365Z"
   },
   {
    "duration": 619,
    "start_time": "2022-05-29T17:06:41.442Z"
   },
   {
    "duration": 494,
    "start_time": "2022-05-29T17:06:42.063Z"
   },
   {
    "duration": 28,
    "start_time": "2022-05-29T17:06:42.558Z"
   },
   {
    "duration": 331,
    "start_time": "2022-05-29T17:06:42.643Z"
   },
   {
    "duration": 1494,
    "start_time": "2022-05-29T17:06:42.976Z"
   },
   {
    "duration": 336,
    "start_time": "2022-05-29T17:06:44.472Z"
   },
   {
    "duration": 5,
    "start_time": "2022-05-29T17:06:44.810Z"
   },
   {
    "duration": 413,
    "start_time": "2022-05-29T17:06:44.842Z"
   },
   {
    "duration": 3262,
    "start_time": "2022-05-29T17:26:13.487Z"
   },
   {
    "duration": 79,
    "start_time": "2022-05-29T17:30:13.824Z"
   },
   {
    "duration": 152,
    "start_time": "2022-05-29T17:30:43.029Z"
   },
   {
    "duration": 9,
    "start_time": "2022-05-29T17:31:13.957Z"
   },
   {
    "duration": 4195,
    "start_time": "2022-05-29T17:32:50.963Z"
   },
   {
    "duration": 1074,
    "start_time": "2022-05-29T18:01:21.008Z"
   },
   {
    "duration": 6,
    "start_time": "2022-05-29T18:13:51.410Z"
   },
   {
    "duration": 2462,
    "start_time": "2022-05-29T18:30:33.084Z"
   },
   {
    "duration": 18512,
    "start_time": "2022-05-30T07:31:08.736Z"
   },
   {
    "duration": 8654,
    "start_time": "2022-05-30T07:31:27.251Z"
   },
   {
    "duration": 96,
    "start_time": "2022-05-30T07:31:35.907Z"
   },
   {
    "duration": 576,
    "start_time": "2022-05-30T07:31:36.004Z"
   },
   {
    "duration": 1111,
    "start_time": "2022-05-30T07:31:36.582Z"
   },
   {
    "duration": 6,
    "start_time": "2022-05-30T07:31:37.695Z"
   },
   {
    "duration": 4998,
    "start_time": "2022-05-30T07:31:37.703Z"
   },
   {
    "duration": 6,
    "start_time": "2022-05-30T07:31:42.703Z"
   },
   {
    "duration": 107,
    "start_time": "2022-05-30T07:31:42.775Z"
   },
   {
    "duration": 520,
    "start_time": "2022-05-30T07:31:42.884Z"
   },
   {
    "duration": 487,
    "start_time": "2022-05-30T07:31:43.406Z"
   },
   {
    "duration": 3,
    "start_time": "2022-05-30T07:31:43.910Z"
   },
   {
    "duration": 7,
    "start_time": "2022-05-30T07:31:43.915Z"
   },
   {
    "duration": 3,
    "start_time": "2022-05-30T07:31:43.976Z"
   },
   {
    "duration": 1806,
    "start_time": "2022-05-30T07:31:43.980Z"
   },
   {
    "duration": 605,
    "start_time": "2022-05-30T07:31:45.788Z"
   },
   {
    "duration": 500,
    "start_time": "2022-05-30T07:31:46.395Z"
   },
   {
    "duration": 28,
    "start_time": "2022-05-30T07:31:46.897Z"
   },
   {
    "duration": 305,
    "start_time": "2022-05-30T07:31:46.976Z"
   },
   {
    "duration": 1397,
    "start_time": "2022-05-30T07:31:47.283Z"
   },
   {
    "duration": 299,
    "start_time": "2022-05-30T07:31:48.682Z"
   },
   {
    "duration": 6,
    "start_time": "2022-05-30T07:31:48.983Z"
   },
   {
    "duration": 491,
    "start_time": "2022-05-30T07:31:48.991Z"
   },
   {
    "duration": 233,
    "start_time": "2022-05-30T07:31:49.484Z"
   },
   {
    "duration": 3160,
    "start_time": "2022-05-30T07:31:49.718Z"
   },
   {
    "duration": 4214,
    "start_time": "2022-05-30T07:31:52.879Z"
   },
   {
    "duration": 2987,
    "start_time": "2022-05-30T07:31:57.095Z"
   },
   {
    "duration": 1107,
    "start_time": "2022-05-30T07:32:00.084Z"
   },
   {
    "duration": 1092,
    "start_time": "2022-05-30T07:32:01.193Z"
   },
   {
    "duration": 2245,
    "start_time": "2022-05-30T07:32:02.287Z"
   },
   {
    "duration": 2747,
    "start_time": "2022-05-30T07:32:04.534Z"
   },
   {
    "duration": 15774,
    "start_time": "2022-05-30T08:06:19.132Z"
   },
   {
    "duration": 8292,
    "start_time": "2022-05-30T08:06:34.910Z"
   },
   {
    "duration": 87,
    "start_time": "2022-05-30T08:06:43.203Z"
   },
   {
    "duration": 700,
    "start_time": "2022-05-30T08:06:43.291Z"
   },
   {
    "duration": 1196,
    "start_time": "2022-05-30T08:06:43.993Z"
   },
   {
    "duration": 6,
    "start_time": "2022-05-30T08:06:45.191Z"
   },
   {
    "duration": 4413,
    "start_time": "2022-05-30T08:06:45.198Z"
   },
   {
    "duration": 5,
    "start_time": "2022-05-30T08:06:49.676Z"
   },
   {
    "duration": 102,
    "start_time": "2022-05-30T08:06:49.683Z"
   },
   {
    "duration": 5,
    "start_time": "2022-05-30T08:06:49.787Z"
   },
   {
    "duration": 283,
    "start_time": "2022-05-30T08:06:49.793Z"
   },
   {
    "duration": 184,
    "start_time": "2022-05-30T08:07:29.369Z"
   },
   {
    "duration": 177,
    "start_time": "2022-05-30T08:08:56.079Z"
   },
   {
    "duration": 168,
    "start_time": "2022-05-30T08:09:09.065Z"
   },
   {
    "duration": 198,
    "start_time": "2022-05-30T08:09:22.814Z"
   },
   {
    "duration": 246,
    "start_time": "2022-05-30T08:09:28.983Z"
   },
   {
    "duration": 159,
    "start_time": "2022-05-30T08:09:34.639Z"
   },
   {
    "duration": 180,
    "start_time": "2022-05-30T08:09:50.942Z"
   },
   {
    "duration": 201,
    "start_time": "2022-05-30T08:10:44.791Z"
   },
   {
    "duration": 204,
    "start_time": "2022-05-30T08:10:52.078Z"
   },
   {
    "duration": 185,
    "start_time": "2022-05-30T08:11:00.966Z"
   },
   {
    "duration": 182,
    "start_time": "2022-05-30T08:11:10.246Z"
   },
   {
    "duration": 211,
    "start_time": "2022-05-30T08:12:11.294Z"
   },
   {
    "duration": 190,
    "start_time": "2022-05-30T08:12:16.727Z"
   },
   {
    "duration": 191,
    "start_time": "2022-05-30T08:12:20.262Z"
   },
   {
    "duration": 220,
    "start_time": "2022-05-30T08:12:25.776Z"
   },
   {
    "duration": 262,
    "start_time": "2022-05-30T08:13:25.904Z"
   },
   {
    "duration": 209,
    "start_time": "2022-05-30T08:13:30.942Z"
   },
   {
    "duration": 181,
    "start_time": "2022-05-30T08:13:36.222Z"
   },
   {
    "duration": 191,
    "start_time": "2022-05-30T08:13:45.983Z"
   },
   {
    "duration": 189,
    "start_time": "2022-05-30T08:15:27.463Z"
   },
   {
    "duration": 1033,
    "start_time": "2022-05-30T08:17:12.590Z"
   },
   {
    "duration": 2,
    "start_time": "2022-05-30T08:49:20.458Z"
   },
   {
    "duration": 2268,
    "start_time": "2022-05-30T08:49:22.749Z"
   },
   {
    "duration": 15470,
    "start_time": "2022-05-30T08:50:16.229Z"
   },
   {
    "duration": 8407,
    "start_time": "2022-05-30T08:50:31.701Z"
   },
   {
    "duration": 27,
    "start_time": "2022-05-30T08:50:40.176Z"
   },
   {
    "duration": 676,
    "start_time": "2022-05-30T08:50:40.205Z"
   },
   {
    "duration": 1132,
    "start_time": "2022-05-30T08:50:40.883Z"
   },
   {
    "duration": 62,
    "start_time": "2022-05-30T08:50:42.017Z"
   },
   {
    "duration": 5611,
    "start_time": "2022-05-30T08:50:42.080Z"
   },
   {
    "duration": 5,
    "start_time": "2022-05-30T08:50:47.693Z"
   },
   {
    "duration": 176,
    "start_time": "2022-05-30T08:50:47.699Z"
   },
   {
    "duration": 4,
    "start_time": "2022-05-30T08:50:47.877Z"
   },
   {
    "duration": 294,
    "start_time": "2022-05-30T08:50:47.883Z"
   },
   {
    "duration": 226,
    "start_time": "2022-05-30T08:50:48.179Z"
   },
   {
    "duration": 236,
    "start_time": "2022-05-30T08:50:48.406Z"
   },
   {
    "duration": 238,
    "start_time": "2022-05-30T08:50:48.645Z"
   },
   {
    "duration": 194,
    "start_time": "2022-05-30T08:50:48.885Z"
   },
   {
    "duration": 295,
    "start_time": "2022-05-30T08:50:49.081Z"
   },
   {
    "duration": 2,
    "start_time": "2022-05-30T08:50:49.378Z"
   },
   {
    "duration": 2318,
    "start_time": "2022-05-30T08:50:49.382Z"
   },
   {
    "duration": 786,
    "start_time": "2022-05-30T08:50:51.702Z"
   },
   {
    "duration": 744,
    "start_time": "2022-05-30T08:50:52.490Z"
   },
   {
    "duration": 40,
    "start_time": "2022-05-30T08:50:53.236Z"
   },
   {
    "duration": 6,
    "start_time": "2022-05-30T08:50:53.279Z"
   },
   {
    "duration": 6,
    "start_time": "2022-05-30T08:50:53.287Z"
   },
   {
    "duration": 1654,
    "start_time": "2022-05-30T08:50:53.295Z"
   },
   {
    "duration": 531,
    "start_time": "2022-05-30T08:50:54.952Z"
   },
   {
    "duration": 496,
    "start_time": "2022-05-30T08:50:55.484Z"
   },
   {
    "duration": 25,
    "start_time": "2022-05-30T08:50:55.981Z"
   },
   {
    "duration": 405,
    "start_time": "2022-05-30T08:50:56.007Z"
   },
   {
    "duration": 1881,
    "start_time": "2022-05-30T08:50:56.414Z"
   },
   {
    "duration": 408,
    "start_time": "2022-05-30T08:50:58.297Z"
   },
   {
    "duration": 8,
    "start_time": "2022-05-30T08:50:58.707Z"
   },
   {
    "duration": 658,
    "start_time": "2022-05-30T08:50:58.717Z"
   },
   {
    "duration": 299,
    "start_time": "2022-05-30T08:50:59.377Z"
   },
   {
    "duration": 3805,
    "start_time": "2022-05-30T08:50:59.678Z"
   },
   {
    "duration": 4701,
    "start_time": "2022-05-30T08:51:03.486Z"
   },
   {
    "duration": 2911,
    "start_time": "2022-05-30T08:51:08.189Z"
   },
   {
    "duration": 1276,
    "start_time": "2022-05-30T08:51:11.102Z"
   },
   {
    "duration": 1430,
    "start_time": "2022-05-30T08:51:12.379Z"
   },
   {
    "duration": 2307,
    "start_time": "2022-05-30T08:51:13.811Z"
   },
   {
    "duration": 2416,
    "start_time": "2022-05-30T08:51:16.174Z"
   },
   {
    "duration": 15686,
    "start_time": "2022-05-30T08:52:31.418Z"
   },
   {
    "duration": 8006,
    "start_time": "2022-05-30T08:52:47.106Z"
   },
   {
    "duration": 88,
    "start_time": "2022-05-30T08:52:55.113Z"
   },
   {
    "duration": 672,
    "start_time": "2022-05-30T08:52:55.203Z"
   },
   {
    "duration": 1231,
    "start_time": "2022-05-30T08:52:55.878Z"
   },
   {
    "duration": 66,
    "start_time": "2022-05-30T08:52:57.111Z"
   },
   {
    "duration": 4129,
    "start_time": "2022-05-30T08:52:57.178Z"
   },
   {
    "duration": 68,
    "start_time": "2022-05-30T08:53:01.309Z"
   },
   {
    "duration": 86,
    "start_time": "2022-05-30T08:53:01.379Z"
   },
   {
    "duration": 7,
    "start_time": "2022-05-30T08:53:01.467Z"
   },
   {
    "duration": 227,
    "start_time": "2022-05-30T08:53:01.476Z"
   },
   {
    "duration": 212,
    "start_time": "2022-05-30T08:53:01.705Z"
   },
   {
    "duration": 197,
    "start_time": "2022-05-30T08:53:01.919Z"
   },
   {
    "duration": 195,
    "start_time": "2022-05-30T08:53:02.118Z"
   },
   {
    "duration": 180,
    "start_time": "2022-05-30T08:53:02.314Z"
   },
   {
    "duration": 295,
    "start_time": "2022-05-30T08:53:02.495Z"
   },
   {
    "duration": 3,
    "start_time": "2022-05-30T08:53:02.792Z"
   },
   {
    "duration": 3306,
    "start_time": "2022-05-30T08:53:02.797Z"
   },
   {
    "duration": 1018,
    "start_time": "2022-05-30T08:53:06.105Z"
   },
   {
    "duration": 15493,
    "start_time": "2022-05-30T08:55:12.928Z"
   },
   {
    "duration": 8128,
    "start_time": "2022-05-30T08:55:28.474Z"
   },
   {
    "duration": 89,
    "start_time": "2022-05-30T08:55:36.604Z"
   },
   {
    "duration": 605,
    "start_time": "2022-05-30T08:55:36.695Z"
   },
   {
    "duration": 1175,
    "start_time": "2022-05-30T08:55:37.302Z"
   },
   {
    "duration": 7,
    "start_time": "2022-05-30T08:55:38.479Z"
   },
   {
    "duration": 4695,
    "start_time": "2022-05-30T08:55:38.487Z"
   },
   {
    "duration": 5,
    "start_time": "2022-05-30T08:55:43.184Z"
   },
   {
    "duration": 110,
    "start_time": "2022-05-30T08:55:43.191Z"
   },
   {
    "duration": 4,
    "start_time": "2022-05-30T08:55:43.302Z"
   },
   {
    "duration": 321,
    "start_time": "2022-05-30T08:55:43.308Z"
   },
   {
    "duration": 201,
    "start_time": "2022-05-30T08:55:43.631Z"
   },
   {
    "duration": 193,
    "start_time": "2022-05-30T08:55:43.834Z"
   },
   {
    "duration": 190,
    "start_time": "2022-05-30T08:55:44.029Z"
   },
   {
    "duration": 207,
    "start_time": "2022-05-30T08:55:44.220Z"
   },
   {
    "duration": 329,
    "start_time": "2022-05-30T08:55:44.429Z"
   },
   {
    "duration": 4,
    "start_time": "2022-05-30T08:55:44.760Z"
   },
   {
    "duration": 1412,
    "start_time": "2022-05-30T08:55:44.765Z"
   },
   {
    "duration": 0,
    "start_time": "2022-05-30T08:55:46.179Z"
   },
   {
    "duration": 10,
    "start_time": "2022-05-30T09:00:06.941Z"
   },
   {
    "duration": 15405,
    "start_time": "2022-05-30T09:00:16.472Z"
   },
   {
    "duration": 8313,
    "start_time": "2022-05-30T09:00:31.879Z"
   },
   {
    "duration": 85,
    "start_time": "2022-05-30T09:00:40.193Z"
   },
   {
    "duration": 607,
    "start_time": "2022-05-30T09:00:40.280Z"
   },
   {
    "duration": 1309,
    "start_time": "2022-05-30T09:00:40.890Z"
   },
   {
    "duration": 7,
    "start_time": "2022-05-30T09:00:42.200Z"
   },
   {
    "duration": 4382,
    "start_time": "2022-05-30T09:00:42.208Z"
   },
   {
    "duration": 8,
    "start_time": "2022-05-30T09:00:46.592Z"
   },
   {
    "duration": 180,
    "start_time": "2022-05-30T09:00:46.601Z"
   },
   {
    "duration": 4,
    "start_time": "2022-05-30T09:00:46.782Z"
   },
   {
    "duration": 256,
    "start_time": "2022-05-30T09:00:46.788Z"
   },
   {
    "duration": 202,
    "start_time": "2022-05-30T09:00:47.045Z"
   },
   {
    "duration": 179,
    "start_time": "2022-05-30T09:00:47.248Z"
   },
   {
    "duration": 193,
    "start_time": "2022-05-30T09:00:47.429Z"
   },
   {
    "duration": 186,
    "start_time": "2022-05-30T09:00:47.623Z"
   },
   {
    "duration": 378,
    "start_time": "2022-05-30T09:00:47.810Z"
   },
   {
    "duration": 4,
    "start_time": "2022-05-30T09:00:48.190Z"
   },
   {
    "duration": 2306,
    "start_time": "2022-05-30T09:00:48.195Z"
   },
   {
    "duration": 1191,
    "start_time": "2022-05-30T09:00:50.503Z"
   },
   {
    "duration": 15756,
    "start_time": "2022-05-30T09:03:48.842Z"
   },
   {
    "duration": 7600,
    "start_time": "2022-05-30T09:04:04.601Z"
   },
   {
    "duration": 101,
    "start_time": "2022-05-30T09:04:12.203Z"
   },
   {
    "duration": 781,
    "start_time": "2022-05-30T09:04:12.305Z"
   },
   {
    "duration": 1229,
    "start_time": "2022-05-30T09:04:13.088Z"
   },
   {
    "duration": 62,
    "start_time": "2022-05-30T09:04:14.319Z"
   },
   {
    "duration": 4220,
    "start_time": "2022-05-30T09:04:14.383Z"
   },
   {
    "duration": 71,
    "start_time": "2022-05-30T09:04:18.605Z"
   },
   {
    "duration": 99,
    "start_time": "2022-05-30T09:04:18.677Z"
   },
   {
    "duration": 4,
    "start_time": "2022-05-30T09:04:18.777Z"
   },
   {
    "duration": 238,
    "start_time": "2022-05-30T09:04:18.782Z"
   },
   {
    "duration": 190,
    "start_time": "2022-05-30T09:04:19.021Z"
   },
   {
    "duration": 181,
    "start_time": "2022-05-30T09:04:19.212Z"
   },
   {
    "duration": 202,
    "start_time": "2022-05-30T09:04:19.396Z"
   },
   {
    "duration": 183,
    "start_time": "2022-05-30T09:04:19.599Z"
   },
   {
    "duration": 302,
    "start_time": "2022-05-30T09:04:19.784Z"
   },
   {
    "duration": 2,
    "start_time": "2022-05-30T09:04:20.088Z"
   },
   {
    "duration": 2295,
    "start_time": "2022-05-30T09:04:20.092Z"
   },
   {
    "duration": 501,
    "start_time": "2022-05-30T09:04:22.388Z"
   },
   {
    "duration": 1260,
    "start_time": "2022-05-30T09:04:22.891Z"
   },
   {
    "duration": 1781,
    "start_time": "2022-05-30T11:08:19.247Z"
   },
   {
    "duration": 2277,
    "start_time": "2022-05-30T11:19:45.335Z"
   },
   {
    "duration": 523,
    "start_time": "2022-05-30T11:20:12.660Z"
   },
   {
    "duration": 15279,
    "start_time": "2022-05-30T11:20:28.411Z"
   },
   {
    "duration": 7525,
    "start_time": "2022-05-30T11:20:43.692Z"
   },
   {
    "duration": 28,
    "start_time": "2022-05-30T11:20:51.275Z"
   },
   {
    "duration": 672,
    "start_time": "2022-05-30T11:20:51.305Z"
   },
   {
    "duration": 1149,
    "start_time": "2022-05-30T11:20:51.978Z"
   },
   {
    "duration": 46,
    "start_time": "2022-05-30T11:20:53.129Z"
   },
   {
    "duration": 4401,
    "start_time": "2022-05-30T11:20:53.177Z"
   },
   {
    "duration": 5,
    "start_time": "2022-05-30T11:20:57.580Z"
   },
   {
    "duration": 123,
    "start_time": "2022-05-30T11:20:57.587Z"
   },
   {
    "duration": 4,
    "start_time": "2022-05-30T11:20:57.713Z"
   },
   {
    "duration": 211,
    "start_time": "2022-05-30T11:20:57.775Z"
   },
   {
    "duration": 182,
    "start_time": "2022-05-30T11:20:57.987Z"
   },
   {
    "duration": 172,
    "start_time": "2022-05-30T11:20:58.170Z"
   },
   {
    "duration": 192,
    "start_time": "2022-05-30T11:20:58.344Z"
   },
   {
    "duration": 180,
    "start_time": "2022-05-30T11:20:58.537Z"
   },
   {
    "duration": 291,
    "start_time": "2022-05-30T11:20:58.719Z"
   },
   {
    "duration": 4,
    "start_time": "2022-05-30T11:20:59.012Z"
   },
   {
    "duration": 2900,
    "start_time": "2022-05-30T11:20:59.076Z"
   },
   {
    "duration": 405,
    "start_time": "2022-05-30T11:21:01.978Z"
   },
   {
    "duration": 927,
    "start_time": "2022-05-30T11:21:02.385Z"
   },
   {
    "duration": 15608,
    "start_time": "2022-05-30T11:22:30.294Z"
   },
   {
    "duration": 7497,
    "start_time": "2022-05-30T11:22:45.905Z"
   },
   {
    "duration": 94,
    "start_time": "2022-05-30T11:22:53.404Z"
   },
   {
    "duration": 604,
    "start_time": "2022-05-30T11:22:53.499Z"
   },
   {
    "duration": 1101,
    "start_time": "2022-05-30T11:22:54.106Z"
   },
   {
    "duration": 6,
    "start_time": "2022-05-30T11:22:55.208Z"
   },
   {
    "duration": 4260,
    "start_time": "2022-05-30T11:22:55.216Z"
   },
   {
    "duration": 5,
    "start_time": "2022-05-30T11:22:59.477Z"
   },
   {
    "duration": 111,
    "start_time": "2022-05-30T11:22:59.483Z"
   },
   {
    "duration": 4,
    "start_time": "2022-05-30T11:22:59.595Z"
   },
   {
    "duration": 229,
    "start_time": "2022-05-30T11:22:59.600Z"
   },
   {
    "duration": 182,
    "start_time": "2022-05-30T11:22:59.831Z"
   },
   {
    "duration": 173,
    "start_time": "2022-05-30T11:23:00.014Z"
   },
   {
    "duration": 214,
    "start_time": "2022-05-30T11:23:00.189Z"
   },
   {
    "duration": 174,
    "start_time": "2022-05-30T11:23:00.405Z"
   },
   {
    "duration": 275,
    "start_time": "2022-05-30T11:23:00.581Z"
   },
   {
    "duration": 3,
    "start_time": "2022-05-30T11:23:00.858Z"
   },
   {
    "duration": 2826,
    "start_time": "2022-05-30T11:23:00.862Z"
   },
   {
    "duration": 399,
    "start_time": "2022-05-30T11:23:03.690Z"
   },
   {
    "duration": 821,
    "start_time": "2022-05-30T11:23:04.091Z"
   },
   {
    "duration": 490,
    "start_time": "2022-05-30T11:23:04.913Z"
   },
   {
    "duration": 480,
    "start_time": "2022-05-30T11:23:05.404Z"
   },
   {
    "duration": 2,
    "start_time": "2022-05-30T11:23:05.885Z"
   },
   {
    "duration": 7,
    "start_time": "2022-05-30T11:23:05.889Z"
   },
   {
    "duration": 7,
    "start_time": "2022-05-30T11:23:05.897Z"
   },
   {
    "duration": 1543,
    "start_time": "2022-05-30T11:23:05.906Z"
   },
   {
    "duration": 524,
    "start_time": "2022-05-30T11:23:07.451Z"
   },
   {
    "duration": 525,
    "start_time": "2022-05-30T11:23:07.976Z"
   },
   {
    "duration": 98,
    "start_time": "2022-05-30T11:23:08.503Z"
   },
   {
    "duration": 508,
    "start_time": "2022-05-30T11:23:08.674Z"
   },
   {
    "duration": 2117,
    "start_time": "2022-05-30T11:23:09.184Z"
   },
   {
    "duration": 435,
    "start_time": "2022-05-30T11:23:11.303Z"
   },
   {
    "duration": 8,
    "start_time": "2022-05-30T11:23:11.775Z"
   },
   {
    "duration": 493,
    "start_time": "2022-05-30T11:23:11.785Z"
   },
   {
    "duration": 232,
    "start_time": "2022-05-30T11:23:12.279Z"
   },
   {
    "duration": 3400,
    "start_time": "2022-05-30T11:23:12.513Z"
   },
   {
    "duration": 3796,
    "start_time": "2022-05-30T11:23:15.915Z"
   },
   {
    "duration": 3123,
    "start_time": "2022-05-30T11:23:19.712Z"
   },
   {
    "duration": 871,
    "start_time": "2022-05-30T11:23:22.837Z"
   },
   {
    "duration": 898,
    "start_time": "2022-05-30T11:23:23.709Z"
   },
   {
    "duration": 2069,
    "start_time": "2022-05-30T11:23:24.610Z"
   },
   {
    "duration": 2253,
    "start_time": "2022-05-30T11:23:26.681Z"
   },
   {
    "duration": 4430,
    "start_time": "2022-05-30T11:40:45.004Z"
   },
   {
    "duration": 15070,
    "start_time": "2022-05-30T11:41:28.005Z"
   },
   {
    "duration": 7840,
    "start_time": "2022-05-30T11:41:43.077Z"
   },
   {
    "duration": 82,
    "start_time": "2022-05-30T11:41:50.918Z"
   },
   {
    "duration": 602,
    "start_time": "2022-05-30T11:41:51.002Z"
   },
   {
    "duration": 1193,
    "start_time": "2022-05-30T11:41:51.606Z"
   },
   {
    "duration": 4583,
    "start_time": "2022-05-30T11:45:16.130Z"
   },
   {
    "duration": 343,
    "start_time": "2022-05-30T11:50:18.421Z"
   },
   {
    "duration": 3,
    "start_time": "2022-05-30T11:50:24.796Z"
   },
   {
    "duration": 195,
    "start_time": "2022-05-30T11:50:25.621Z"
   },
   {
    "duration": 191,
    "start_time": "2022-05-30T11:50:43.501Z"
   },
   {
    "duration": 20280,
    "start_time": "2022-05-31T05:51:22.130Z"
   },
   {
    "duration": 10647,
    "start_time": "2022-05-31T05:51:42.413Z"
   },
   {
    "duration": 103,
    "start_time": "2022-05-31T05:51:53.062Z"
   },
   {
    "duration": 7820,
    "start_time": "2022-05-31T05:51:53.174Z"
   },
   {
    "duration": 712,
    "start_time": "2022-05-31T05:52:00.996Z"
   },
   {
    "duration": 1460,
    "start_time": "2022-05-31T05:52:01.710Z"
   },
   {
    "duration": 5,
    "start_time": "2022-05-31T05:52:03.171Z"
   },
   {
    "duration": 333,
    "start_time": "2022-05-31T05:52:03.178Z"
   },
   {
    "duration": 281,
    "start_time": "2022-05-31T05:52:03.512Z"
   },
   {
    "duration": 252,
    "start_time": "2022-05-31T05:52:03.796Z"
   },
   {
    "duration": 256,
    "start_time": "2022-05-31T05:52:04.050Z"
   },
   {
    "duration": 247,
    "start_time": "2022-05-31T05:52:04.308Z"
   },
   {
    "duration": 362,
    "start_time": "2022-05-31T05:52:04.558Z"
   },
   {
    "duration": 6,
    "start_time": "2022-05-31T05:52:04.922Z"
   },
   {
    "duration": 3865,
    "start_time": "2022-05-31T05:52:04.930Z"
   },
   {
    "duration": 956,
    "start_time": "2022-05-31T05:52:08.859Z"
   },
   {
    "duration": 4272,
    "start_time": "2022-05-31T05:52:09.816Z"
   },
   {
    "duration": 16,
    "start_time": "2022-05-31T05:52:14.089Z"
   },
   {
    "duration": 115,
    "start_time": "2022-05-31T05:52:14.106Z"
   },
   {
    "duration": 655,
    "start_time": "2022-05-31T05:52:14.223Z"
   },
   {
    "duration": 651,
    "start_time": "2022-05-31T05:52:14.879Z"
   },
   {
    "duration": 42,
    "start_time": "2022-05-31T05:52:15.532Z"
   },
   {
    "duration": 46,
    "start_time": "2022-05-31T05:52:15.575Z"
   },
   {
    "duration": 41,
    "start_time": "2022-05-31T05:52:15.624Z"
   },
   {
    "duration": 2211,
    "start_time": "2022-05-31T05:52:15.668Z"
   },
   {
    "duration": 694,
    "start_time": "2022-05-31T05:52:17.880Z"
   },
   {
    "duration": 648,
    "start_time": "2022-05-31T05:52:18.575Z"
   },
   {
    "duration": 80,
    "start_time": "2022-05-31T05:52:19.227Z"
   },
   {
    "duration": 582,
    "start_time": "2022-05-31T05:52:19.309Z"
   },
   {
    "duration": 1976,
    "start_time": "2022-05-31T05:52:19.893Z"
   },
   {
    "duration": 499,
    "start_time": "2022-05-31T05:52:21.871Z"
   },
   {
    "duration": 13,
    "start_time": "2022-05-31T05:52:22.372Z"
   },
   {
    "duration": 620,
    "start_time": "2022-05-31T05:52:22.387Z"
   },
   {
    "duration": 360,
    "start_time": "2022-05-31T05:52:23.009Z"
   },
   {
    "duration": 5411,
    "start_time": "2022-05-31T05:52:23.371Z"
   },
   {
    "duration": 6425,
    "start_time": "2022-05-31T05:52:28.783Z"
   },
   {
    "duration": 3886,
    "start_time": "2022-05-31T05:52:35.210Z"
   },
   {
    "duration": 1579,
    "start_time": "2022-05-31T05:52:39.099Z"
   },
   {
    "duration": 1319,
    "start_time": "2022-05-31T05:52:40.680Z"
   },
   {
    "duration": 3214,
    "start_time": "2022-05-31T05:52:42.002Z"
   },
   {
    "duration": 3572,
    "start_time": "2022-05-31T05:52:45.219Z"
   },
   {
    "duration": 17332,
    "start_time": "2022-05-31T19:31:50.894Z"
   },
   {
    "duration": 8995,
    "start_time": "2022-05-31T19:32:08.228Z"
   },
   {
    "duration": 69,
    "start_time": "2022-05-31T19:32:17.225Z"
   },
   {
    "duration": 6314,
    "start_time": "2022-05-31T19:32:17.297Z"
   },
   {
    "duration": 561,
    "start_time": "2022-05-31T19:32:23.615Z"
   },
   {
    "duration": 1125,
    "start_time": "2022-05-31T19:32:24.177Z"
   },
   {
    "duration": 5,
    "start_time": "2022-05-31T19:32:25.304Z"
   },
   {
    "duration": 669,
    "start_time": "2022-05-31T19:32:25.310Z"
   },
   {
    "duration": 326,
    "start_time": "2022-05-31T19:32:25.982Z"
   },
   {
    "duration": 183,
    "start_time": "2022-05-31T19:32:26.311Z"
   },
   {
    "duration": 197,
    "start_time": "2022-05-31T19:32:26.495Z"
   },
   {
    "duration": 171,
    "start_time": "2022-05-31T19:32:26.693Z"
   },
   {
    "duration": 278,
    "start_time": "2022-05-31T19:32:26.865Z"
   },
   {
    "duration": 2,
    "start_time": "2022-05-31T19:32:27.145Z"
   },
   {
    "duration": 3034,
    "start_time": "2022-05-31T19:32:27.149Z"
   },
   {
    "duration": 909,
    "start_time": "2022-05-31T19:32:30.187Z"
   },
   {
    "duration": 3504,
    "start_time": "2022-05-31T19:32:31.098Z"
   },
   {
    "duration": 6,
    "start_time": "2022-05-31T19:32:34.604Z"
   },
   {
    "duration": 95,
    "start_time": "2022-05-31T19:32:34.612Z"
   },
   {
    "duration": 445,
    "start_time": "2022-05-31T19:32:34.709Z"
   },
   {
    "duration": 465,
    "start_time": "2022-05-31T19:32:35.156Z"
   },
   {
    "duration": 3,
    "start_time": "2022-05-31T19:32:35.622Z"
   },
   {
    "duration": 4,
    "start_time": "2022-05-31T19:32:35.679Z"
   },
   {
    "duration": 15,
    "start_time": "2022-05-31T19:32:35.685Z"
   },
   {
    "duration": 1658,
    "start_time": "2022-05-31T19:32:35.701Z"
   },
   {
    "duration": 539,
    "start_time": "2022-05-31T19:32:37.361Z"
   },
   {
    "duration": 497,
    "start_time": "2022-05-31T19:32:37.904Z"
   },
   {
    "duration": 94,
    "start_time": "2022-05-31T19:32:38.404Z"
   },
   {
    "duration": 446,
    "start_time": "2022-05-31T19:32:38.500Z"
   },
   {
    "duration": 1628,
    "start_time": "2022-05-31T19:32:38.949Z"
   },
   {
    "duration": 351,
    "start_time": "2022-05-31T19:32:40.585Z"
   },
   {
    "duration": 7,
    "start_time": "2022-05-31T19:32:40.937Z"
   },
   {
    "duration": 447,
    "start_time": "2022-05-31T19:32:40.945Z"
   },
   {
    "duration": 238,
    "start_time": "2022-05-31T19:32:41.393Z"
   },
   {
    "duration": 3985,
    "start_time": "2022-05-31T19:32:41.633Z"
   },
   {
    "duration": 5820,
    "start_time": "2022-05-31T19:32:45.675Z"
   },
   {
    "duration": 3801,
    "start_time": "2022-05-31T19:32:51.497Z"
   },
   {
    "duration": 1142,
    "start_time": "2022-05-31T19:32:55.300Z"
   },
   {
    "duration": 1019,
    "start_time": "2022-05-31T19:32:56.475Z"
   },
   {
    "duration": 2934,
    "start_time": "2022-05-31T19:32:57.495Z"
   },
   {
    "duration": 3590,
    "start_time": "2022-05-31T19:33:00.431Z"
   },
   {
    "duration": 16533,
    "start_time": "2022-05-31T19:33:50.289Z"
   },
   {
    "duration": 10490,
    "start_time": "2022-05-31T19:34:06.826Z"
   },
   {
    "duration": 92,
    "start_time": "2022-05-31T19:34:17.318Z"
   },
   {
    "duration": 6891,
    "start_time": "2022-05-31T19:34:17.413Z"
   },
   {
    "duration": 583,
    "start_time": "2022-05-31T19:34:24.307Z"
   },
   {
    "duration": 1399,
    "start_time": "2022-05-31T19:34:24.895Z"
   },
   {
    "duration": 7,
    "start_time": "2022-05-31T19:34:26.299Z"
   },
   {
    "duration": 300,
    "start_time": "2022-05-31T19:34:26.310Z"
   },
   {
    "duration": 216,
    "start_time": "2022-05-31T19:34:26.612Z"
   },
   {
    "duration": 214,
    "start_time": "2022-05-31T19:34:26.830Z"
   },
   {
    "duration": 200,
    "start_time": "2022-05-31T19:34:27.045Z"
   },
   {
    "duration": 211,
    "start_time": "2022-05-31T19:34:27.247Z"
   },
   {
    "duration": 310,
    "start_time": "2022-05-31T19:34:27.460Z"
   },
   {
    "duration": 5,
    "start_time": "2022-05-31T19:34:27.776Z"
   },
   {
    "duration": 3601,
    "start_time": "2022-05-31T19:34:27.783Z"
   },
   {
    "duration": 1122,
    "start_time": "2022-05-31T19:34:31.386Z"
   },
   {
    "duration": 3977,
    "start_time": "2022-05-31T19:34:32.512Z"
   },
   {
    "duration": 11,
    "start_time": "2022-05-31T19:34:36.490Z"
   },
   {
    "duration": 93,
    "start_time": "2022-05-31T19:34:36.503Z"
   },
   {
    "duration": 504,
    "start_time": "2022-05-31T19:34:36.605Z"
   },
   {
    "duration": 650,
    "start_time": "2022-05-31T19:34:37.111Z"
   },
   {
    "duration": 3,
    "start_time": "2022-05-31T19:34:37.763Z"
   },
   {
    "duration": 23,
    "start_time": "2022-05-31T19:34:37.775Z"
   },
   {
    "duration": 7,
    "start_time": "2022-05-31T19:34:37.800Z"
   },
   {
    "duration": 1793,
    "start_time": "2022-05-31T19:34:37.809Z"
   },
   {
    "duration": 677,
    "start_time": "2022-05-31T19:34:39.604Z"
   },
   {
    "duration": 598,
    "start_time": "2022-05-31T19:34:40.283Z"
   },
   {
    "duration": 94,
    "start_time": "2022-05-31T19:34:40.884Z"
   },
   {
    "duration": 449,
    "start_time": "2022-05-31T19:34:40.979Z"
   },
   {
    "duration": 1633,
    "start_time": "2022-05-31T19:34:41.475Z"
   },
   {
    "duration": 376,
    "start_time": "2022-05-31T19:34:43.110Z"
   },
   {
    "duration": 11,
    "start_time": "2022-05-31T19:34:43.487Z"
   },
   {
    "duration": 525,
    "start_time": "2022-05-31T19:34:43.499Z"
   },
   {
    "duration": 301,
    "start_time": "2022-05-31T19:34:44.026Z"
   },
   {
    "duration": 4417,
    "start_time": "2022-05-31T19:34:44.376Z"
   },
   {
    "duration": 6792,
    "start_time": "2022-05-31T19:34:48.795Z"
   },
   {
    "duration": 4189,
    "start_time": "2022-05-31T19:34:55.592Z"
   },
   {
    "duration": 1015,
    "start_time": "2022-05-31T19:34:59.786Z"
   },
   {
    "duration": 981,
    "start_time": "2022-05-31T19:35:00.803Z"
   },
   {
    "duration": 3292,
    "start_time": "2022-05-31T19:35:01.785Z"
   },
   {
    "duration": 3342,
    "start_time": "2022-05-31T19:35:05.080Z"
   },
   {
    "duration": 16471,
    "start_time": "2022-05-31T19:37:25.027Z"
   },
   {
    "duration": 8699,
    "start_time": "2022-05-31T19:37:41.501Z"
   },
   {
    "duration": 85,
    "start_time": "2022-05-31T19:37:50.201Z"
   },
   {
    "duration": 6399,
    "start_time": "2022-05-31T19:37:50.290Z"
   },
   {
    "duration": 533,
    "start_time": "2022-05-31T19:37:56.693Z"
   },
   {
    "duration": 1419,
    "start_time": "2022-05-31T19:37:57.274Z"
   },
   {
    "duration": 5,
    "start_time": "2022-05-31T19:37:58.697Z"
   },
   {
    "duration": 416,
    "start_time": "2022-05-31T19:37:58.704Z"
   },
   {
    "duration": 392,
    "start_time": "2022-05-31T19:37:59.122Z"
   },
   {
    "duration": 180,
    "start_time": "2022-05-31T19:37:59.516Z"
   },
   {
    "duration": 209,
    "start_time": "2022-05-31T19:37:59.698Z"
   },
   {
    "duration": 187,
    "start_time": "2022-05-31T19:37:59.908Z"
   },
   {
    "duration": 320,
    "start_time": "2022-05-31T19:38:00.097Z"
   },
   {
    "duration": 2,
    "start_time": "2022-05-31T19:38:00.420Z"
   },
   {
    "duration": 3275,
    "start_time": "2022-05-31T19:38:00.424Z"
   },
   {
    "duration": 767,
    "start_time": "2022-05-31T19:38:03.701Z"
   },
   {
    "duration": 3823,
    "start_time": "2022-05-31T19:38:04.478Z"
   },
   {
    "duration": 6,
    "start_time": "2022-05-31T19:38:08.303Z"
   },
   {
    "duration": 95,
    "start_time": "2022-05-31T19:38:08.311Z"
   },
   {
    "duration": 487,
    "start_time": "2022-05-31T19:38:08.408Z"
   },
   {
    "duration": 508,
    "start_time": "2022-05-31T19:38:08.896Z"
   },
   {
    "duration": 4,
    "start_time": "2022-05-31T19:38:09.406Z"
   },
   {
    "duration": 10,
    "start_time": "2022-05-31T19:38:09.411Z"
   },
   {
    "duration": 9,
    "start_time": "2022-05-31T19:38:09.478Z"
   },
   {
    "duration": 1905,
    "start_time": "2022-05-31T19:38:09.489Z"
   },
   {
    "duration": 782,
    "start_time": "2022-05-31T19:38:11.400Z"
   },
   {
    "duration": 517,
    "start_time": "2022-05-31T19:38:12.183Z"
   },
   {
    "duration": 83,
    "start_time": "2022-05-31T19:38:12.703Z"
   },
   {
    "duration": 433,
    "start_time": "2022-05-31T19:38:12.788Z"
   },
   {
    "duration": 1976,
    "start_time": "2022-05-31T19:38:13.223Z"
   },
   {
    "duration": 382,
    "start_time": "2022-05-31T19:38:15.201Z"
   },
   {
    "duration": 13,
    "start_time": "2022-05-31T19:38:15.585Z"
   },
   {
    "duration": 520,
    "start_time": "2022-05-31T19:38:15.600Z"
   },
   {
    "duration": 308,
    "start_time": "2022-05-31T19:38:16.122Z"
   },
   {
    "duration": 4606,
    "start_time": "2022-05-31T19:38:16.480Z"
   },
   {
    "duration": 5812,
    "start_time": "2022-05-31T19:38:21.087Z"
   },
   {
    "duration": 3393,
    "start_time": "2022-05-31T19:38:26.901Z"
   },
   {
    "duration": 1092,
    "start_time": "2022-05-31T19:38:30.296Z"
   },
   {
    "duration": 1201,
    "start_time": "2022-05-31T19:38:31.390Z"
   },
   {
    "duration": 3012,
    "start_time": "2022-05-31T19:38:32.593Z"
   },
   {
    "duration": 3112,
    "start_time": "2022-05-31T19:38:35.608Z"
   },
   {
    "duration": 17405,
    "start_time": "2022-05-31T19:39:57.292Z"
   },
   {
    "duration": 10378,
    "start_time": "2022-05-31T19:40:14.700Z"
   },
   {
    "duration": 50,
    "start_time": "2022-05-31T19:40:25.080Z"
   },
   {
    "duration": 7012,
    "start_time": "2022-05-31T19:40:25.131Z"
   },
   {
    "duration": 651,
    "start_time": "2022-05-31T19:40:32.146Z"
   },
   {
    "duration": 1414,
    "start_time": "2022-05-31T19:40:32.798Z"
   },
   {
    "duration": 7,
    "start_time": "2022-05-31T19:40:34.220Z"
   },
   {
    "duration": 581,
    "start_time": "2022-05-31T19:40:34.230Z"
   },
   {
    "duration": 590,
    "start_time": "2022-05-31T19:40:34.820Z"
   },
   {
    "duration": 240,
    "start_time": "2022-05-31T19:40:35.415Z"
   },
   {
    "duration": 287,
    "start_time": "2022-05-31T19:40:35.657Z"
   },
   {
    "duration": 301,
    "start_time": "2022-05-31T19:40:35.945Z"
   },
   {
    "duration": 461,
    "start_time": "2022-05-31T19:40:36.249Z"
   },
   {
    "duration": 9,
    "start_time": "2022-05-31T19:40:36.720Z"
   },
   {
    "duration": 3695,
    "start_time": "2022-05-31T19:40:36.731Z"
   },
   {
    "duration": 1136,
    "start_time": "2022-05-31T19:40:40.477Z"
   },
   {
    "duration": 3592,
    "start_time": "2022-05-31T19:40:41.615Z"
   },
   {
    "duration": 10,
    "start_time": "2022-05-31T19:40:45.208Z"
   },
   {
    "duration": 83,
    "start_time": "2022-05-31T19:40:45.220Z"
   },
   {
    "duration": 581,
    "start_time": "2022-05-31T19:40:45.304Z"
   },
   {
    "duration": 536,
    "start_time": "2022-05-31T19:40:45.887Z"
   },
   {
    "duration": 6,
    "start_time": "2022-05-31T19:40:46.425Z"
   },
   {
    "duration": 47,
    "start_time": "2022-05-31T19:40:46.433Z"
   },
   {
    "duration": 7,
    "start_time": "2022-05-31T19:40:46.483Z"
   },
   {
    "duration": 1802,
    "start_time": "2022-05-31T19:40:46.491Z"
   },
   {
    "duration": 904,
    "start_time": "2022-05-31T19:40:48.294Z"
   },
   {
    "duration": 566,
    "start_time": "2022-05-31T19:40:49.200Z"
   },
   {
    "duration": 54,
    "start_time": "2022-05-31T19:40:49.768Z"
   },
   {
    "duration": 416,
    "start_time": "2022-05-31T19:40:49.825Z"
   },
   {
    "duration": 1585,
    "start_time": "2022-05-31T19:40:50.242Z"
   },
   {
    "duration": 479,
    "start_time": "2022-05-31T19:40:51.829Z"
   },
   {
    "duration": 16,
    "start_time": "2022-05-31T19:40:52.309Z"
   },
   {
    "duration": 763,
    "start_time": "2022-05-31T19:40:52.327Z"
   },
   {
    "duration": 406,
    "start_time": "2022-05-31T19:40:53.095Z"
   },
   {
    "duration": 4895,
    "start_time": "2022-05-31T19:40:53.503Z"
   },
   {
    "duration": 6213,
    "start_time": "2022-05-31T19:40:58.399Z"
   },
   {
    "duration": 5184,
    "start_time": "2022-05-31T19:41:04.623Z"
   },
   {
    "duration": 1285,
    "start_time": "2022-05-31T19:41:09.809Z"
   },
   {
    "duration": 1233,
    "start_time": "2022-05-31T19:41:11.096Z"
   },
   {
    "duration": 2561,
    "start_time": "2022-05-31T19:41:12.331Z"
   },
   {
    "duration": 3401,
    "start_time": "2022-05-31T19:41:14.896Z"
   },
   {
    "duration": 17307,
    "start_time": "2022-05-31T19:43:09.991Z"
   },
   {
    "duration": 9926,
    "start_time": "2022-05-31T19:43:27.301Z"
   },
   {
    "duration": 98,
    "start_time": "2022-05-31T19:43:37.229Z"
   },
   {
    "duration": 6770,
    "start_time": "2022-05-31T19:43:37.330Z"
   },
   {
    "duration": 621,
    "start_time": "2022-05-31T19:43:44.109Z"
   },
   {
    "duration": 1197,
    "start_time": "2022-05-31T19:43:44.732Z"
   },
   {
    "duration": 10,
    "start_time": "2022-05-31T19:43:45.930Z"
   },
   {
    "duration": 688,
    "start_time": "2022-05-31T19:43:45.942Z"
   },
   {
    "duration": 505,
    "start_time": "2022-05-31T19:43:46.632Z"
   },
   {
    "duration": 204,
    "start_time": "2022-05-31T19:43:47.139Z"
   },
   {
    "duration": 205,
    "start_time": "2022-05-31T19:43:47.345Z"
   },
   {
    "duration": 210,
    "start_time": "2022-05-31T19:43:47.552Z"
   },
   {
    "duration": 340,
    "start_time": "2022-05-31T19:43:47.763Z"
   },
   {
    "duration": 3,
    "start_time": "2022-05-31T19:43:48.106Z"
   },
   {
    "duration": 3770,
    "start_time": "2022-05-31T19:43:48.110Z"
   },
   {
    "duration": 1257,
    "start_time": "2022-05-31T19:43:51.882Z"
   },
   {
    "duration": 3441,
    "start_time": "2022-05-31T19:43:53.141Z"
   },
   {
    "duration": 7,
    "start_time": "2022-05-31T19:43:56.583Z"
   },
   {
    "duration": 52,
    "start_time": "2022-05-31T19:43:56.607Z"
   },
   {
    "duration": 555,
    "start_time": "2022-05-31T19:43:56.661Z"
   },
   {
    "duration": 614,
    "start_time": "2022-05-31T19:43:57.217Z"
   },
   {
    "duration": 4,
    "start_time": "2022-05-31T19:43:57.833Z"
   },
   {
    "duration": 3,
    "start_time": "2022-05-31T19:43:57.876Z"
   },
   {
    "duration": 57,
    "start_time": "2022-05-31T19:43:57.881Z"
   },
   {
    "duration": 1925,
    "start_time": "2022-05-31T19:43:57.940Z"
   },
   {
    "duration": 813,
    "start_time": "2022-05-31T19:43:59.867Z"
   },
   {
    "duration": 650,
    "start_time": "2022-05-31T19:44:00.682Z"
   },
   {
    "duration": 97,
    "start_time": "2022-05-31T19:44:01.381Z"
   },
   {
    "duration": 449,
    "start_time": "2022-05-31T19:44:01.480Z"
   },
   {
    "duration": 1782,
    "start_time": "2022-05-31T19:44:01.931Z"
   },
   {
    "duration": 383,
    "start_time": "2022-05-31T19:44:03.716Z"
   },
   {
    "duration": 12,
    "start_time": "2022-05-31T19:44:04.101Z"
   },
   {
    "duration": 664,
    "start_time": "2022-05-31T19:44:04.115Z"
   },
   {
    "duration": 255,
    "start_time": "2022-05-31T19:44:04.781Z"
   },
   {
    "duration": 4464,
    "start_time": "2022-05-31T19:44:05.038Z"
   },
   {
    "duration": 5502,
    "start_time": "2022-05-31T19:44:09.504Z"
   },
   {
    "duration": 4306,
    "start_time": "2022-05-31T19:44:15.008Z"
   },
   {
    "duration": 1097,
    "start_time": "2022-05-31T19:44:19.315Z"
   },
   {
    "duration": 1397,
    "start_time": "2022-05-31T19:44:20.414Z"
   },
   {
    "duration": 3094,
    "start_time": "2022-05-31T19:44:21.813Z"
   },
   {
    "duration": 2586,
    "start_time": "2022-05-31T19:44:24.911Z"
   },
   {
    "duration": 16103,
    "start_time": "2022-05-31T20:17:48.074Z"
   },
   {
    "duration": 8604,
    "start_time": "2022-05-31T20:18:04.180Z"
   },
   {
    "duration": 26,
    "start_time": "2022-05-31T20:18:12.786Z"
   },
   {
    "duration": 5781,
    "start_time": "2022-05-31T20:18:12.814Z"
   },
   {
    "duration": 513,
    "start_time": "2022-05-31T20:18:18.597Z"
   },
   {
    "duration": 994,
    "start_time": "2022-05-31T20:18:19.112Z"
   },
   {
    "duration": 5,
    "start_time": "2022-05-31T20:18:20.108Z"
   },
   {
    "duration": 468,
    "start_time": "2022-05-31T20:18:20.116Z"
   },
   {
    "duration": 207,
    "start_time": "2022-05-31T20:18:20.586Z"
   },
   {
    "duration": 188,
    "start_time": "2022-05-31T20:18:20.794Z"
   },
   {
    "duration": 199,
    "start_time": "2022-05-31T20:18:20.984Z"
   },
   {
    "duration": 169,
    "start_time": "2022-05-31T20:18:21.185Z"
   },
   {
    "duration": 271,
    "start_time": "2022-05-31T20:18:21.356Z"
   },
   {
    "duration": 2,
    "start_time": "2022-05-31T20:18:21.631Z"
   },
   {
    "duration": 3240,
    "start_time": "2022-05-31T20:18:21.635Z"
   },
   {
    "duration": 734,
    "start_time": "2022-05-31T20:18:24.877Z"
   },
   {
    "duration": 3184,
    "start_time": "2022-05-31T20:18:25.613Z"
   },
   {
    "duration": 6,
    "start_time": "2022-05-31T20:18:28.799Z"
   },
   {
    "duration": 85,
    "start_time": "2022-05-31T20:18:28.807Z"
   },
   {
    "duration": 397,
    "start_time": "2022-05-31T20:18:28.894Z"
   },
   {
    "duration": 483,
    "start_time": "2022-05-31T20:18:29.293Z"
   },
   {
    "duration": 2,
    "start_time": "2022-05-31T20:18:29.778Z"
   },
   {
    "duration": 5,
    "start_time": "2022-05-31T20:18:29.782Z"
   },
   {
    "duration": 7,
    "start_time": "2022-05-31T20:18:29.789Z"
   },
   {
    "duration": 1837,
    "start_time": "2022-05-31T20:18:29.797Z"
   },
   {
    "duration": 497,
    "start_time": "2022-05-31T20:18:31.636Z"
   },
   {
    "duration": 470,
    "start_time": "2022-05-31T20:18:32.135Z"
   },
   {
    "duration": 86,
    "start_time": "2022-05-31T20:18:32.608Z"
   },
   {
    "duration": 379,
    "start_time": "2022-05-31T20:18:32.696Z"
   },
   {
    "duration": 1329,
    "start_time": "2022-05-31T20:18:33.077Z"
   },
   {
    "duration": 367,
    "start_time": "2022-05-31T20:18:34.408Z"
   },
   {
    "duration": 8,
    "start_time": "2022-05-31T20:18:34.777Z"
   },
   {
    "duration": 418,
    "start_time": "2022-05-31T20:18:34.786Z"
   },
   {
    "duration": 213,
    "start_time": "2022-05-31T20:18:35.205Z"
   },
   {
    "duration": 3362,
    "start_time": "2022-05-31T20:18:35.420Z"
   },
   {
    "duration": 4214,
    "start_time": "2022-05-31T20:18:38.784Z"
   },
   {
    "duration": 3504,
    "start_time": "2022-05-31T20:18:43.000Z"
   },
   {
    "duration": 1113,
    "start_time": "2022-05-31T20:18:46.506Z"
   },
   {
    "duration": 1074,
    "start_time": "2022-05-31T20:18:47.620Z"
   },
   {
    "duration": 3310,
    "start_time": "2022-05-31T20:18:48.695Z"
   },
   {
    "duration": 2506,
    "start_time": "2022-05-31T20:18:52.074Z"
   },
   {
    "duration": 15279,
    "start_time": "2022-05-31T20:27:21.725Z"
   },
   {
    "duration": 7179,
    "start_time": "2022-05-31T20:27:37.007Z"
   },
   {
    "duration": 88,
    "start_time": "2022-05-31T20:27:44.187Z"
   },
   {
    "duration": 4614,
    "start_time": "2022-05-31T20:27:44.278Z"
   },
   {
    "duration": 433,
    "start_time": "2022-05-31T20:27:48.894Z"
   },
   {
    "duration": 841,
    "start_time": "2022-05-31T20:27:49.375Z"
   },
   {
    "duration": 58,
    "start_time": "2022-05-31T20:27:50.218Z"
   },
   {
    "duration": 187,
    "start_time": "2022-05-31T20:27:50.277Z"
   },
   {
    "duration": 176,
    "start_time": "2022-05-31T20:27:50.465Z"
   },
   {
    "duration": 161,
    "start_time": "2022-05-31T20:27:50.644Z"
   },
   {
    "duration": 177,
    "start_time": "2022-05-31T20:27:50.806Z"
   },
   {
    "duration": 171,
    "start_time": "2022-05-31T20:27:50.985Z"
   },
   {
    "duration": 262,
    "start_time": "2022-05-31T20:27:51.158Z"
   },
   {
    "duration": 3,
    "start_time": "2022-05-31T20:27:51.422Z"
   },
   {
    "duration": 2672,
    "start_time": "2022-05-31T20:27:51.427Z"
   },
   {
    "duration": 875,
    "start_time": "2022-05-31T20:27:54.101Z"
   },
   {
    "duration": 5,
    "start_time": "2022-05-31T20:27:54.977Z"
   },
   {
    "duration": 36,
    "start_time": "2022-05-31T20:27:54.983Z"
   },
   {
    "duration": 566,
    "start_time": "2022-05-31T20:27:55.020Z"
   },
   {
    "duration": 510,
    "start_time": "2022-05-31T20:27:55.587Z"
   },
   {
    "duration": 3,
    "start_time": "2022-05-31T20:27:56.098Z"
   },
   {
    "duration": 11,
    "start_time": "2022-05-31T20:27:56.102Z"
   },
   {
    "duration": 8,
    "start_time": "2022-05-31T20:27:56.175Z"
   },
   {
    "duration": 1503,
    "start_time": "2022-05-31T20:27:56.184Z"
   },
   {
    "duration": 503,
    "start_time": "2022-05-31T20:27:57.688Z"
   },
   {
    "duration": 422,
    "start_time": "2022-05-31T20:27:58.192Z"
   },
   {
    "duration": 72,
    "start_time": "2022-05-31T20:27:58.615Z"
   },
   {
    "duration": 391,
    "start_time": "2022-05-31T20:27:58.689Z"
   },
   {
    "duration": 1326,
    "start_time": "2022-05-31T20:27:59.082Z"
   },
   {
    "duration": 306,
    "start_time": "2022-05-31T20:28:00.474Z"
   },
   {
    "duration": 4,
    "start_time": "2022-05-31T20:28:00.782Z"
   },
   {
    "duration": 488,
    "start_time": "2022-05-31T20:28:00.788Z"
   },
   {
    "duration": 228,
    "start_time": "2022-05-31T20:28:01.278Z"
   },
   {
    "duration": 3669,
    "start_time": "2022-05-31T20:28:01.508Z"
   },
   {
    "duration": 4415,
    "start_time": "2022-05-31T20:28:05.179Z"
   },
   {
    "duration": 3784,
    "start_time": "2022-05-31T20:28:09.595Z"
   },
   {
    "duration": 1114,
    "start_time": "2022-05-31T20:28:13.380Z"
   },
   {
    "duration": 1183,
    "start_time": "2022-05-31T20:28:14.496Z"
   },
   {
    "duration": 2632,
    "start_time": "2022-05-31T20:28:15.681Z"
   },
   {
    "duration": 2177,
    "start_time": "2022-05-31T20:28:18.314Z"
   },
   {
    "duration": 43,
    "start_time": "2022-06-01T21:17:38.729Z"
   },
   {
    "duration": 20930,
    "start_time": "2022-06-01T21:23:19.718Z"
   },
   {
    "duration": 9224,
    "start_time": "2022-06-01T21:23:40.651Z"
   },
   {
    "duration": 109,
    "start_time": "2022-06-01T21:23:49.877Z"
   },
   {
    "duration": 5883,
    "start_time": "2022-06-01T21:23:49.988Z"
   },
   {
    "duration": 503,
    "start_time": "2022-06-01T21:23:55.874Z"
   },
   {
    "duration": 1091,
    "start_time": "2022-06-01T21:23:56.379Z"
   },
   {
    "duration": 5,
    "start_time": "2022-06-01T21:23:57.471Z"
   },
   {
    "duration": 417,
    "start_time": "2022-06-01T21:23:57.477Z"
   },
   {
    "duration": 201,
    "start_time": "2022-06-01T21:23:57.896Z"
   },
   {
    "duration": 197,
    "start_time": "2022-06-01T21:23:58.098Z"
   },
   {
    "duration": 204,
    "start_time": "2022-06-01T21:23:58.297Z"
   },
   {
    "duration": 287,
    "start_time": "2022-06-01T21:23:58.503Z"
   },
   {
    "duration": 213,
    "start_time": "2022-06-01T21:23:58.792Z"
   },
   {
    "duration": 3,
    "start_time": "2022-06-01T21:23:59.008Z"
   },
   {
    "duration": 3381,
    "start_time": "2022-06-01T21:23:59.012Z"
   },
   {
    "duration": 904,
    "start_time": "2022-06-01T21:24:02.395Z"
   },
   {
    "duration": 5,
    "start_time": "2022-06-01T21:24:03.301Z"
   },
   {
    "duration": 78,
    "start_time": "2022-06-01T21:24:03.307Z"
   },
   {
    "duration": 573,
    "start_time": "2022-06-01T21:24:03.387Z"
   },
   {
    "duration": 600,
    "start_time": "2022-06-01T21:24:03.961Z"
   },
   {
    "duration": 1306,
    "start_time": "2022-06-01T21:24:23.861Z"
   },
   {
    "duration": 1341,
    "start_time": "2022-06-01T21:24:34.479Z"
   },
   {
    "duration": 1655,
    "start_time": "2022-06-01T21:24:42.050Z"
   },
   {
    "duration": 47,
    "start_time": "2022-06-01T21:34:30.041Z"
   },
   {
    "duration": 16909,
    "start_time": "2022-06-02T13:56:50.422Z"
   },
   {
    "duration": 8394,
    "start_time": "2022-06-02T13:57:10.955Z"
   },
   {
    "duration": 28,
    "start_time": "2022-06-02T13:57:21.982Z"
   },
   {
    "duration": 5054,
    "start_time": "2022-06-02T13:57:25.197Z"
   },
   {
    "duration": 463,
    "start_time": "2022-06-02T13:57:32.466Z"
   },
   {
    "duration": 2924,
    "start_time": "2022-06-02T13:57:40.204Z"
   },
   {
    "duration": 1670,
    "start_time": "2022-06-02T13:58:14.059Z"
   },
   {
    "duration": 851,
    "start_time": "2022-06-02T13:59:13.980Z"
   },
   {
    "duration": 900,
    "start_time": "2022-06-02T14:00:13.352Z"
   },
   {
    "duration": 3697,
    "start_time": "2022-06-02T14:01:24.572Z"
   },
   {
    "duration": 171,
    "start_time": "2022-06-02T14:01:50.966Z"
   },
   {
    "duration": 938,
    "start_time": "2022-06-02T14:02:18.814Z"
   },
   {
    "duration": 63,
    "start_time": "2022-06-02T14:02:29.362Z"
   },
   {
    "duration": 50,
    "start_time": "2022-06-02T14:06:58.191Z"
   },
   {
    "duration": 1585,
    "start_time": "2022-06-02T14:07:10.652Z"
   },
   {
    "duration": 11,
    "start_time": "2022-06-02T14:09:24.513Z"
   },
   {
    "duration": 21048,
    "start_time": "2022-06-02T16:48:24.932Z"
   },
   {
    "duration": 8764,
    "start_time": "2022-06-02T16:48:50.012Z"
   },
   {
    "duration": 42,
    "start_time": "2022-06-02T16:49:01.746Z"
   },
   {
    "duration": 4904,
    "start_time": "2022-06-02T16:49:04.565Z"
   },
   {
    "duration": 367,
    "start_time": "2022-06-02T16:49:11.490Z"
   },
   {
    "duration": 1548,
    "start_time": "2022-06-02T16:49:16.320Z"
   },
   {
    "duration": 106,
    "start_time": "2022-06-02T16:49:21.932Z"
   },
   {
    "duration": 2299,
    "start_time": "2022-06-02T16:49:55.256Z"
   },
   {
    "duration": 27,
    "start_time": "2022-06-02T16:51:29.018Z"
   },
   {
    "duration": 2269,
    "start_time": "2022-06-02T16:51:39.708Z"
   },
   {
    "duration": 1665,
    "start_time": "2022-06-02T16:53:06.644Z"
   },
   {
    "duration": 1925,
    "start_time": "2022-06-02T16:56:40.291Z"
   },
   {
    "duration": 2038,
    "start_time": "2022-06-02T17:08:00.249Z"
   },
   {
    "duration": 506,
    "start_time": "2022-06-02T17:08:35.046Z"
   },
   {
    "duration": 2109,
    "start_time": "2022-06-02T17:09:33.181Z"
   },
   {
    "duration": 1744,
    "start_time": "2022-06-02T17:09:56.666Z"
   },
   {
    "duration": 1901,
    "start_time": "2022-06-02T17:10:18.088Z"
   },
   {
    "duration": 13,
    "start_time": "2022-06-02T17:26:42.489Z"
   },
   {
    "duration": 21776,
    "start_time": "2022-06-02T17:33:40.481Z"
   },
   {
    "duration": 9322,
    "start_time": "2022-06-02T17:34:02.260Z"
   },
   {
    "duration": 114,
    "start_time": "2022-06-02T17:34:11.584Z"
   },
   {
    "duration": 5722,
    "start_time": "2022-06-02T17:34:11.754Z"
   },
   {
    "duration": 484,
    "start_time": "2022-06-02T17:34:17.479Z"
   },
   {
    "duration": 4906,
    "start_time": "2022-06-02T17:34:17.965Z"
   },
   {
    "duration": 8,
    "start_time": "2022-06-02T17:34:22.873Z"
   },
   {
    "duration": 166,
    "start_time": "2022-06-02T17:34:22.883Z"
   },
   {
    "duration": 0,
    "start_time": "2022-06-02T17:34:23.051Z"
   },
   {
    "duration": 0,
    "start_time": "2022-06-02T17:34:23.052Z"
   },
   {
    "duration": 0,
    "start_time": "2022-06-02T17:34:23.053Z"
   },
   {
    "duration": 0,
    "start_time": "2022-06-02T17:34:23.054Z"
   },
   {
    "duration": 0,
    "start_time": "2022-06-02T17:34:23.055Z"
   },
   {
    "duration": 0,
    "start_time": "2022-06-02T17:34:23.057Z"
   },
   {
    "duration": 0,
    "start_time": "2022-06-02T17:34:23.058Z"
   },
   {
    "duration": 0,
    "start_time": "2022-06-02T17:34:23.059Z"
   },
   {
    "duration": 0,
    "start_time": "2022-06-02T17:34:23.060Z"
   },
   {
    "duration": 0,
    "start_time": "2022-06-02T17:34:23.062Z"
   },
   {
    "duration": 0,
    "start_time": "2022-06-02T17:34:23.062Z"
   },
   {
    "duration": 0,
    "start_time": "2022-06-02T17:34:23.063Z"
   },
   {
    "duration": 0,
    "start_time": "2022-06-02T17:34:23.065Z"
   },
   {
    "duration": 0,
    "start_time": "2022-06-02T17:34:23.066Z"
   },
   {
    "duration": 0,
    "start_time": "2022-06-02T17:34:23.067Z"
   },
   {
    "duration": 0,
    "start_time": "2022-06-02T17:34:23.068Z"
   },
   {
    "duration": 0,
    "start_time": "2022-06-02T17:34:23.069Z"
   },
   {
    "duration": 0,
    "start_time": "2022-06-02T17:34:23.070Z"
   },
   {
    "duration": 1,
    "start_time": "2022-06-02T17:34:23.071Z"
   },
   {
    "duration": 0,
    "start_time": "2022-06-02T17:34:23.073Z"
   },
   {
    "duration": 0,
    "start_time": "2022-06-02T17:34:23.074Z"
   },
   {
    "duration": 0,
    "start_time": "2022-06-02T17:34:23.075Z"
   },
   {
    "duration": 0,
    "start_time": "2022-06-02T17:34:23.076Z"
   },
   {
    "duration": 0,
    "start_time": "2022-06-02T17:34:23.077Z"
   },
   {
    "duration": 0,
    "start_time": "2022-06-02T17:34:23.078Z"
   },
   {
    "duration": 0,
    "start_time": "2022-06-02T17:34:23.079Z"
   },
   {
    "duration": 1,
    "start_time": "2022-06-02T17:34:23.080Z"
   },
   {
    "duration": 1141,
    "start_time": "2022-06-02T17:35:49.912Z"
   },
   {
    "duration": 335,
    "start_time": "2022-06-02T17:35:52.635Z"
   },
   {
    "duration": 222,
    "start_time": "2022-06-02T17:35:55.804Z"
   },
   {
    "duration": 187,
    "start_time": "2022-06-02T17:35:57.140Z"
   },
   {
    "duration": 201,
    "start_time": "2022-06-02T17:35:57.916Z"
   },
   {
    "duration": 197,
    "start_time": "2022-06-02T17:35:58.721Z"
   },
   {
    "duration": 281,
    "start_time": "2022-06-02T17:35:59.494Z"
   },
   {
    "duration": 3,
    "start_time": "2022-06-02T17:36:01.758Z"
   },
   {
    "duration": 2095,
    "start_time": "2022-06-02T17:36:02.880Z"
   },
   {
    "duration": 727,
    "start_time": "2022-06-02T17:36:07.590Z"
   },
   {
    "duration": 6,
    "start_time": "2022-06-02T17:36:14.664Z"
   },
   {
    "duration": 42,
    "start_time": "2022-06-02T17:36:15.276Z"
   },
   {
    "duration": 418,
    "start_time": "2022-06-02T17:36:16.749Z"
   },
   {
    "duration": 348,
    "start_time": "2022-06-02T17:36:21.008Z"
   },
   {
    "duration": 3,
    "start_time": "2022-06-02T17:36:25.011Z"
   },
   {
    "duration": 2,
    "start_time": "2022-06-02T17:36:25.624Z"
   },
   {
    "duration": 2,
    "start_time": "2022-06-02T17:36:27.090Z"
   },
   {
    "duration": 2,
    "start_time": "2022-06-02T17:36:27.939Z"
   },
   {
    "duration": 1887,
    "start_time": "2022-06-02T17:36:31.179Z"
   },
   {
    "duration": 628,
    "start_time": "2022-06-02T17:36:33.068Z"
   },
   {
    "duration": 411,
    "start_time": "2022-06-02T17:36:34.250Z"
   },
   {
    "duration": 26,
    "start_time": "2022-06-02T17:36:37.994Z"
   },
   {
    "duration": 452,
    "start_time": "2022-06-02T17:36:40.255Z"
   },
   {
    "duration": 1571,
    "start_time": "2022-06-02T17:36:40.888Z"
   },
   {
    "duration": 309,
    "start_time": "2022-06-02T17:36:45.501Z"
   },
   {
    "duration": 6,
    "start_time": "2022-06-02T17:36:47.621Z"
   },
   {
    "duration": 392,
    "start_time": "2022-06-02T17:36:48.493Z"
   },
   {
    "duration": 226,
    "start_time": "2022-06-02T17:36:49.784Z"
   },
   {
    "duration": 3905,
    "start_time": "2022-06-02T17:36:53.162Z"
   },
   {
    "duration": 232,
    "start_time": "2022-06-02T17:37:00.197Z"
   },
   {
    "duration": 3,
    "start_time": "2022-06-02T17:37:01.603Z"
   },
   {
    "duration": 9,
    "start_time": "2022-06-02T17:37:06.612Z"
   },
   {
    "duration": 41208,
    "start_time": "2022-06-02T17:37:08.277Z"
   },
   {
    "duration": 8,
    "start_time": "2022-06-02T17:38:37.482Z"
   },
   {
    "duration": 6,
    "start_time": "2022-06-02T17:39:54.717Z"
   },
   {
    "duration": 16454,
    "start_time": "2022-06-02T17:49:59.731Z"
   },
   {
    "duration": 9191,
    "start_time": "2022-06-02T17:50:16.188Z"
   },
   {
    "duration": 183,
    "start_time": "2022-06-02T17:50:25.381Z"
   },
   {
    "duration": 5299,
    "start_time": "2022-06-02T17:50:25.569Z"
   },
   {
    "duration": 487,
    "start_time": "2022-06-02T17:50:30.870Z"
   },
   {
    "duration": 4827,
    "start_time": "2022-06-02T17:50:31.362Z"
   },
   {
    "duration": 71,
    "start_time": "2022-06-02T17:50:36.191Z"
   },
   {
    "duration": 793,
    "start_time": "2022-06-02T17:50:36.268Z"
   },
   {
    "duration": 379,
    "start_time": "2022-06-02T17:50:37.063Z"
   },
   {
    "duration": 210,
    "start_time": "2022-06-02T17:50:37.452Z"
   },
   {
    "duration": 176,
    "start_time": "2022-06-02T17:50:37.666Z"
   },
   {
    "duration": 219,
    "start_time": "2022-06-02T17:50:37.844Z"
   },
   {
    "duration": 202,
    "start_time": "2022-06-02T17:50:38.065Z"
   },
   {
    "duration": 274,
    "start_time": "2022-06-02T17:50:38.268Z"
   },
   {
    "duration": 8,
    "start_time": "2022-06-02T17:50:38.544Z"
   },
   {
    "duration": 2423,
    "start_time": "2022-06-02T17:50:38.556Z"
   },
   {
    "duration": 791,
    "start_time": "2022-06-02T17:50:40.981Z"
   },
   {
    "duration": 5,
    "start_time": "2022-06-02T17:50:41.774Z"
   },
   {
    "duration": 79,
    "start_time": "2022-06-02T17:50:41.780Z"
   },
   {
    "duration": 400,
    "start_time": "2022-06-02T17:50:41.861Z"
   },
   {
    "duration": 503,
    "start_time": "2022-06-02T17:50:42.269Z"
   },
   {
    "duration": 3,
    "start_time": "2022-06-02T17:50:42.774Z"
   },
   {
    "duration": 17,
    "start_time": "2022-06-02T17:50:42.778Z"
   },
   {
    "duration": 62,
    "start_time": "2022-06-02T17:50:42.796Z"
   },
   {
    "duration": 31,
    "start_time": "2022-06-02T17:50:42.859Z"
   },
   {
    "duration": 1635,
    "start_time": "2022-06-02T17:50:42.892Z"
   },
   {
    "duration": 635,
    "start_time": "2022-06-02T17:50:44.529Z"
   },
   {
    "duration": 461,
    "start_time": "2022-06-02T17:50:45.169Z"
   },
   {
    "duration": 54,
    "start_time": "2022-06-02T17:50:45.632Z"
   },
   {
    "duration": 512,
    "start_time": "2022-06-02T17:50:45.689Z"
   },
   {
    "duration": 1856,
    "start_time": "2022-06-02T17:50:46.202Z"
   },
   {
    "duration": 402,
    "start_time": "2022-06-02T17:50:48.062Z"
   },
   {
    "duration": 8,
    "start_time": "2022-06-02T17:50:48.468Z"
   },
   {
    "duration": 575,
    "start_time": "2022-06-02T17:50:48.479Z"
   },
   {
    "duration": 235,
    "start_time": "2022-06-02T17:50:49.055Z"
   },
   {
    "duration": 3995,
    "start_time": "2022-06-02T17:50:49.292Z"
   },
   {
    "duration": 96,
    "start_time": "2022-06-02T17:50:53.289Z"
   },
   {
    "duration": 3,
    "start_time": "2022-06-02T17:50:53.387Z"
   },
   {
    "duration": 83,
    "start_time": "2022-06-02T17:50:53.391Z"
   },
   {
    "duration": 50089,
    "start_time": "2022-06-02T17:50:53.476Z"
   },
   {
    "duration": 7,
    "start_time": "2022-06-02T17:51:43.568Z"
   },
   {
    "duration": 18,
    "start_time": "2022-06-02T17:51:43.577Z"
   },
   {
    "duration": 16,
    "start_time": "2022-06-02T17:51:43.597Z"
   },
   {
    "duration": 38,
    "start_time": "2022-06-02T17:51:43.615Z"
   },
   {
    "duration": 22,
    "start_time": "2022-06-02T17:51:43.655Z"
   },
   {
    "duration": 32577,
    "start_time": "2022-06-02T17:51:43.678Z"
   },
   {
    "duration": 5,
    "start_time": "2022-06-02T17:52:16.257Z"
   },
   {
    "duration": 27,
    "start_time": "2022-06-02T17:52:16.264Z"
   },
   {
    "duration": 1569,
    "start_time": "2022-06-02T17:55:09.684Z"
   },
   {
    "duration": 1577,
    "start_time": "2022-06-02T17:55:26.013Z"
   },
   {
    "duration": 675,
    "start_time": "2022-06-02T17:55:32.910Z"
   },
   {
    "duration": 659,
    "start_time": "2022-06-02T17:55:41.625Z"
   },
   {
    "duration": 1862,
    "start_time": "2022-06-02T17:55:52.210Z"
   },
   {
    "duration": 1665,
    "start_time": "2022-06-02T17:55:57.321Z"
   },
   {
    "duration": 5,
    "start_time": "2022-06-02T18:01:03.175Z"
   },
   {
    "duration": 78,
    "start_time": "2022-06-02T18:05:46.126Z"
   },
   {
    "duration": 109,
    "start_time": "2022-06-02T18:08:13.833Z"
   },
   {
    "duration": 8,
    "start_time": "2022-06-02T18:08:42.931Z"
   },
   {
    "duration": 5,
    "start_time": "2022-06-02T18:08:51.312Z"
   },
   {
    "duration": 9,
    "start_time": "2022-06-02T18:09:00.862Z"
   },
   {
    "duration": 20,
    "start_time": "2022-06-02T18:09:52.858Z"
   },
   {
    "duration": 9,
    "start_time": "2022-06-02T18:11:19.996Z"
   },
   {
    "duration": 11,
    "start_time": "2022-06-02T18:11:26.006Z"
   },
   {
    "duration": 11,
    "start_time": "2022-06-02T18:11:51.576Z"
   },
   {
    "duration": 31,
    "start_time": "2022-06-02T18:17:52.906Z"
   },
   {
    "duration": 16702,
    "start_time": "2022-06-02T18:19:24.495Z"
   },
   {
    "duration": 9325,
    "start_time": "2022-06-02T18:19:41.252Z"
   },
   {
    "duration": 76,
    "start_time": "2022-06-02T18:19:50.579Z"
   },
   {
    "duration": 5497,
    "start_time": "2022-06-02T18:19:50.657Z"
   },
   {
    "duration": 603,
    "start_time": "2022-06-02T18:19:56.158Z"
   },
   {
    "duration": 4839,
    "start_time": "2022-06-02T18:19:56.763Z"
   },
   {
    "duration": 910,
    "start_time": "2022-06-02T18:20:01.652Z"
   },
   {
    "duration": 109,
    "start_time": "2022-06-02T18:20:02.565Z"
   },
   {
    "duration": 102,
    "start_time": "2022-06-02T18:32:42.023Z"
   },
   {
    "duration": 9,
    "start_time": "2022-06-02T18:33:17.737Z"
   },
   {
    "duration": 16898,
    "start_time": "2022-06-02T18:39:42.478Z"
   },
   {
    "duration": 8708,
    "start_time": "2022-06-02T18:39:59.379Z"
   },
   {
    "duration": 164,
    "start_time": "2022-06-02T18:40:08.089Z"
   },
   {
    "duration": 6113,
    "start_time": "2022-06-02T18:40:08.256Z"
   },
   {
    "duration": 605,
    "start_time": "2022-06-02T18:40:14.371Z"
   },
   {
    "duration": 5013,
    "start_time": "2022-06-02T18:40:14.978Z"
   },
   {
    "duration": 988,
    "start_time": "2022-06-02T18:40:19.994Z"
   },
   {
    "duration": 520,
    "start_time": "2022-06-02T18:40:40.872Z"
   },
   {
    "duration": 276,
    "start_time": "2022-06-02T18:40:41.394Z"
   },
   {
    "duration": 88,
    "start_time": "2022-06-02T18:42:39.314Z"
   },
   {
    "duration": 74,
    "start_time": "2022-06-02T18:43:49.153Z"
   },
   {
    "duration": 1869,
    "start_time": "2022-06-02T18:45:00.912Z"
   },
   {
    "duration": 2741,
    "start_time": "2022-06-02T18:45:29.185Z"
   },
   {
    "duration": 1282,
    "start_time": "2022-06-02T18:46:24.509Z"
   },
   {
    "duration": 4,
    "start_time": "2022-06-02T18:46:33.071Z"
   },
   {
    "duration": 4,
    "start_time": "2022-06-02T18:47:31.976Z"
   },
   {
    "duration": 1491,
    "start_time": "2022-06-02T18:48:53.899Z"
   },
   {
    "duration": 110,
    "start_time": "2022-06-02T18:49:13.569Z"
   },
   {
    "duration": 215,
    "start_time": "2022-06-02T18:49:33.446Z"
   },
   {
    "duration": 16531,
    "start_time": "2022-06-02T19:02:20.436Z"
   },
   {
    "duration": 8516,
    "start_time": "2022-06-02T19:02:36.969Z"
   },
   {
    "duration": 92,
    "start_time": "2022-06-02T19:02:45.486Z"
   },
   {
    "duration": 5598,
    "start_time": "2022-06-02T19:02:45.580Z"
   },
   {
    "duration": 484,
    "start_time": "2022-06-02T19:02:51.181Z"
   },
   {
    "duration": 5194,
    "start_time": "2022-06-02T19:02:51.667Z"
   },
   {
    "duration": 823,
    "start_time": "2022-06-02T19:02:56.863Z"
   },
   {
    "duration": 3566,
    "start_time": "2022-06-02T19:02:57.688Z"
   },
   {
    "duration": 1097,
    "start_time": "2022-06-02T19:03:01.255Z"
   },
   {
    "duration": 125,
    "start_time": "2022-06-02T19:03:02.355Z"
   },
   {
    "duration": 3,
    "start_time": "2022-06-02T19:03:02.482Z"
   },
   {
    "duration": 250,
    "start_time": "2022-06-02T19:03:02.488Z"
   },
   {
    "duration": 220,
    "start_time": "2022-06-02T19:03:02.739Z"
   },
   {
    "duration": 198,
    "start_time": "2022-06-02T19:03:02.962Z"
   },
   {
    "duration": 213,
    "start_time": "2022-06-02T19:03:03.162Z"
   },
   {
    "duration": 287,
    "start_time": "2022-06-02T19:03:03.377Z"
   },
   {
    "duration": 223,
    "start_time": "2022-06-02T19:03:03.666Z"
   },
   {
    "duration": 2,
    "start_time": "2022-06-02T19:03:03.891Z"
   },
   {
    "duration": 2265,
    "start_time": "2022-06-02T19:03:03.895Z"
   },
   {
    "duration": 930,
    "start_time": "2022-06-02T19:03:06.162Z"
   },
   {
    "duration": 67,
    "start_time": "2022-06-02T19:03:07.093Z"
   },
   {
    "duration": 43,
    "start_time": "2022-06-02T19:03:07.162Z"
   },
   {
    "duration": 417,
    "start_time": "2022-06-02T19:03:07.251Z"
   },
   {
    "duration": 589,
    "start_time": "2022-06-02T19:03:07.671Z"
   },
   {
    "duration": 4,
    "start_time": "2022-06-02T19:03:08.261Z"
   },
   {
    "duration": 26,
    "start_time": "2022-06-02T19:03:08.267Z"
   },
   {
    "duration": 15,
    "start_time": "2022-06-02T19:03:08.295Z"
   },
   {
    "duration": 25,
    "start_time": "2022-06-02T19:03:08.312Z"
   },
   {
    "duration": 1526,
    "start_time": "2022-06-02T19:03:08.338Z"
   },
   {
    "duration": 493,
    "start_time": "2022-06-02T19:03:09.866Z"
   },
   {
    "duration": 438,
    "start_time": "2022-06-02T19:03:10.361Z"
   },
   {
    "duration": 81,
    "start_time": "2022-06-02T19:03:10.802Z"
   },
   {
    "duration": 470,
    "start_time": "2022-06-02T19:03:10.884Z"
   },
   {
    "duration": 1518,
    "start_time": "2022-06-02T19:03:11.356Z"
   },
   {
    "duration": 382,
    "start_time": "2022-06-02T19:03:12.876Z"
   },
   {
    "duration": 7,
    "start_time": "2022-06-02T19:03:13.261Z"
   },
   {
    "duration": 525,
    "start_time": "2022-06-02T19:03:13.270Z"
   },
   {
    "duration": 356,
    "start_time": "2022-06-02T19:03:13.797Z"
   },
   {
    "duration": 4423,
    "start_time": "2022-06-02T19:03:14.156Z"
   },
   {
    "duration": 97,
    "start_time": "2022-06-02T19:03:18.580Z"
   },
   {
    "duration": 4,
    "start_time": "2022-06-02T19:03:18.681Z"
   },
   {
    "duration": 76,
    "start_time": "2022-06-02T19:03:18.686Z"
   },
   {
    "duration": 52297,
    "start_time": "2022-06-02T19:03:18.764Z"
   },
   {
    "duration": 8,
    "start_time": "2022-06-02T19:04:11.063Z"
   },
   {
    "duration": 9,
    "start_time": "2022-06-02T19:04:11.073Z"
   },
   {
    "duration": 20,
    "start_time": "2022-06-02T19:04:11.085Z"
   },
   {
    "duration": 3,
    "start_time": "2022-06-02T19:04:11.107Z"
   },
   {
    "duration": 53,
    "start_time": "2022-06-02T19:04:11.111Z"
   },
   {
    "duration": 31795,
    "start_time": "2022-06-02T19:04:11.166Z"
   },
   {
    "duration": 4,
    "start_time": "2022-06-02T19:04:42.963Z"
   },
   {
    "duration": 16,
    "start_time": "2022-06-02T19:04:42.968Z"
   },
   {
    "duration": 1602,
    "start_time": "2022-06-02T19:04:42.986Z"
   },
   {
    "duration": 1585,
    "start_time": "2022-06-02T19:04:44.590Z"
   },
   {
    "duration": 892,
    "start_time": "2022-06-02T19:04:46.176Z"
   },
   {
    "duration": 733,
    "start_time": "2022-06-02T19:04:47.069Z"
   },
   {
    "duration": 1678,
    "start_time": "2022-06-02T19:04:47.803Z"
   },
   {
    "duration": 1982,
    "start_time": "2022-06-02T19:04:49.483Z"
   },
   {
    "duration": 1029,
    "start_time": "2022-06-02T19:04:51.467Z"
   },
   {
    "duration": 21497,
    "start_time": "2022-08-01T05:56:29.341Z"
   },
   {
    "duration": 9889,
    "start_time": "2022-08-01T05:56:50.842Z"
   },
   {
    "duration": 6096,
    "start_time": "2022-08-01T05:57:00.732Z"
   },
   {
    "duration": 524,
    "start_time": "2022-08-01T05:57:06.831Z"
   },
   {
    "duration": 5386,
    "start_time": "2022-08-01T05:57:07.358Z"
   },
   {
    "duration": 985,
    "start_time": "2022-08-01T05:57:12.746Z"
   },
   {
    "duration": 4994,
    "start_time": "2022-08-01T05:57:13.733Z"
   },
   {
    "duration": 1296,
    "start_time": "2022-08-01T05:57:18.729Z"
   },
   {
    "duration": 4,
    "start_time": "2022-08-01T05:57:20.027Z"
   },
   {
    "duration": 274,
    "start_time": "2022-08-01T05:57:20.033Z"
   },
   {
    "duration": 297,
    "start_time": "2022-08-01T05:57:20.309Z"
   },
   {
    "duration": 186,
    "start_time": "2022-08-01T05:57:20.607Z"
   },
   {
    "duration": 208,
    "start_time": "2022-08-01T05:57:20.794Z"
   },
   {
    "duration": 191,
    "start_time": "2022-08-01T05:57:21.005Z"
   },
   {
    "duration": 210,
    "start_time": "2022-08-01T05:57:21.197Z"
   },
   {
    "duration": 3,
    "start_time": "2022-08-01T05:57:21.408Z"
   },
   {
    "duration": 2246,
    "start_time": "2022-08-01T05:57:21.423Z"
   },
   {
    "duration": 1081,
    "start_time": "2022-08-01T05:57:23.671Z"
   },
   {
    "duration": 17312,
    "start_time": "2022-08-01T05:57:43.431Z"
   },
   {
    "duration": 9690,
    "start_time": "2022-08-01T05:58:00.749Z"
   },
   {
    "duration": 6007,
    "start_time": "2022-08-01T05:58:10.441Z"
   },
   {
    "duration": 580,
    "start_time": "2022-08-01T05:58:16.450Z"
   },
   {
    "duration": 5190,
    "start_time": "2022-08-01T05:58:17.034Z"
   },
   {
    "duration": 939,
    "start_time": "2022-08-01T05:58:22.226Z"
   },
   {
    "duration": 3756,
    "start_time": "2022-08-01T05:58:23.167Z"
   },
   {
    "duration": 1218,
    "start_time": "2022-08-01T05:58:26.926Z"
   },
   {
    "duration": 5,
    "start_time": "2022-08-01T05:58:28.146Z"
   },
   {
    "duration": 296,
    "start_time": "2022-08-01T05:58:28.225Z"
   },
   {
    "duration": 288,
    "start_time": "2022-08-01T05:58:28.523Z"
   },
   {
    "duration": 200,
    "start_time": "2022-08-01T05:58:28.813Z"
   },
   {
    "duration": 211,
    "start_time": "2022-08-01T05:58:29.015Z"
   },
   {
    "duration": 206,
    "start_time": "2022-08-01T05:58:29.229Z"
   },
   {
    "duration": 209,
    "start_time": "2022-08-01T05:58:29.437Z"
   },
   {
    "duration": 4,
    "start_time": "2022-08-01T05:58:29.648Z"
   },
   {
    "duration": 2373,
    "start_time": "2022-08-01T05:58:29.654Z"
   },
   {
    "duration": 932,
    "start_time": "2022-08-01T05:58:32.030Z"
   },
   {
    "duration": 16301,
    "start_time": "2022-08-01T07:32:17.580Z"
   },
   {
    "duration": 9641,
    "start_time": "2022-08-01T07:32:33.884Z"
   },
   {
    "duration": 5800,
    "start_time": "2022-08-01T07:32:43.527Z"
   },
   {
    "duration": 602,
    "start_time": "2022-08-01T07:32:49.330Z"
   },
   {
    "duration": 5716,
    "start_time": "2022-08-01T07:32:49.935Z"
   },
   {
    "duration": 1177,
    "start_time": "2022-08-01T07:32:55.656Z"
   },
   {
    "duration": 3509,
    "start_time": "2022-08-01T07:32:56.835Z"
   },
   {
    "duration": 1175,
    "start_time": "2022-08-01T07:33:00.352Z"
   },
   {
    "duration": 4,
    "start_time": "2022-08-01T07:33:01.529Z"
   },
   {
    "duration": 357,
    "start_time": "2022-08-01T07:33:01.535Z"
   },
   {
    "duration": 321,
    "start_time": "2022-08-01T07:33:01.894Z"
   },
   {
    "duration": 190,
    "start_time": "2022-08-01T07:33:02.224Z"
   },
   {
    "duration": 210,
    "start_time": "2022-08-01T07:33:02.416Z"
   },
   {
    "duration": 228,
    "start_time": "2022-08-01T07:33:02.630Z"
   },
   {
    "duration": 232,
    "start_time": "2022-08-01T07:33:02.861Z"
   },
   {
    "duration": 3,
    "start_time": "2022-08-01T07:33:03.094Z"
   },
   {
    "duration": 2564,
    "start_time": "2022-08-01T07:33:03.099Z"
   },
   {
    "duration": 1020,
    "start_time": "2022-08-01T07:33:05.725Z"
   },
   {
    "duration": 2,
    "start_time": "2022-08-01T07:33:06.747Z"
   },
   {
    "duration": 76,
    "start_time": "2022-08-01T07:33:06.751Z"
   },
   {
    "duration": 96,
    "start_time": "2022-08-01T07:33:06.829Z"
   },
   {
    "duration": 416,
    "start_time": "2022-08-01T07:33:06.927Z"
   },
   {
    "duration": 499,
    "start_time": "2022-08-01T07:33:07.345Z"
   },
   {
    "duration": 18232,
    "start_time": "2022-08-01T07:38:49.595Z"
   },
   {
    "duration": 10531,
    "start_time": "2022-08-01T07:39:07.831Z"
   },
   {
    "duration": 6901,
    "start_time": "2022-08-01T07:39:18.423Z"
   },
   {
    "duration": 615,
    "start_time": "2022-08-01T07:39:25.326Z"
   },
   {
    "duration": 5411,
    "start_time": "2022-08-01T07:39:25.944Z"
   },
   {
    "duration": 1106,
    "start_time": "2022-08-01T07:39:31.357Z"
   },
   {
    "duration": 3392,
    "start_time": "2022-08-01T07:39:32.465Z"
   },
   {
    "duration": 1182,
    "start_time": "2022-08-01T07:39:35.859Z"
   },
   {
    "duration": 4,
    "start_time": "2022-08-01T07:39:37.043Z"
   },
   {
    "duration": 341,
    "start_time": "2022-08-01T07:39:37.049Z"
   },
   {
    "duration": 290,
    "start_time": "2022-08-01T07:39:37.392Z"
   },
   {
    "duration": 195,
    "start_time": "2022-08-01T07:39:37.684Z"
   },
   {
    "duration": 208,
    "start_time": "2022-08-01T07:39:37.881Z"
   },
   {
    "duration": 197,
    "start_time": "2022-08-01T07:39:38.092Z"
   },
   {
    "duration": 226,
    "start_time": "2022-08-01T07:39:38.290Z"
   },
   {
    "duration": 3,
    "start_time": "2022-08-01T07:39:38.523Z"
   },
   {
    "duration": 2329,
    "start_time": "2022-08-01T07:39:38.528Z"
   },
   {
    "duration": 1004,
    "start_time": "2022-08-01T07:39:40.924Z"
   },
   {
    "duration": 6,
    "start_time": "2022-08-01T07:39:41.931Z"
   },
   {
    "duration": 100,
    "start_time": "2022-08-01T07:39:41.939Z"
   },
   {
    "duration": 499,
    "start_time": "2022-08-01T07:39:42.041Z"
   },
   {
    "duration": 458,
    "start_time": "2022-08-01T07:39:42.541Z"
   },
   {
    "duration": 2,
    "start_time": "2022-08-01T07:39:43.001Z"
   },
   {
    "duration": 2,
    "start_time": "2022-08-01T07:39:43.024Z"
   },
   {
    "duration": 7,
    "start_time": "2022-08-01T07:39:43.028Z"
   },
   {
    "duration": 8,
    "start_time": "2022-08-01T07:39:43.036Z"
   },
   {
    "duration": 1528,
    "start_time": "2022-08-01T07:39:43.046Z"
   },
   {
    "duration": 576,
    "start_time": "2022-08-01T07:39:44.576Z"
   },
   {
    "duration": 480,
    "start_time": "2022-08-01T07:39:45.155Z"
   },
   {
    "duration": 86,
    "start_time": "2022-08-01T07:39:45.637Z"
   },
   {
    "duration": 406,
    "start_time": "2022-08-01T07:39:45.725Z"
   },
   {
    "duration": 1705,
    "start_time": "2022-08-01T07:39:46.133Z"
   },
   {
    "duration": 434,
    "start_time": "2022-08-01T07:39:47.840Z"
   },
   {
    "duration": 54,
    "start_time": "2022-08-01T07:39:48.276Z"
   },
   {
    "duration": 592,
    "start_time": "2022-08-01T07:39:48.332Z"
   },
   {
    "duration": 299,
    "start_time": "2022-08-01T07:39:48.927Z"
   },
   {
    "duration": 4299,
    "start_time": "2022-08-01T07:39:49.228Z"
   }
  ],
  "colab": {
   "name": "PySparkSprint.ipynb",
   "provenance": []
  },
  "kernelspec": {
   "display_name": "Python 3 (ipykernel)",
   "language": "python",
   "name": "python3"
  },
  "language_info": {
   "codemirror_mode": {
    "name": "ipython",
    "version": 3
   },
   "file_extension": ".py",
   "mimetype": "text/x-python",
   "name": "python",
   "nbconvert_exporter": "python",
   "pygments_lexer": "ipython3",
   "version": "3.9.5"
  },
  "toc": {
   "base_numbering": 1,
   "nav_menu": {},
   "number_sections": true,
   "sideBar": true,
   "skip_h1_title": true,
   "title_cell": "Table of Contents",
   "title_sidebar": "Contents",
   "toc_cell": false,
   "toc_position": {
    "height": "calc(100% - 180px)",
    "left": "10px",
    "top": "150px",
    "width": "165px"
   },
   "toc_section_display": true,
   "toc_window_display": false
  }
 },
 "nbformat": 4,
 "nbformat_minor": 5
}
